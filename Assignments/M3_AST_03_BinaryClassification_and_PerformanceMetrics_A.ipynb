{
  "nbformat": 4,
  "nbformat_minor": 0,
  "metadata": {
    "colab": {
      "provenance": [],
      "include_colab_link": true
    },
    "kernelspec": {
      "name": "python3",
      "display_name": "Python 3"
    },
    "language_info": {
      "name": "python"
    }
  },
  "cells": [
    {
      "cell_type": "markdown",
      "metadata": {
        "id": "view-in-github",
        "colab_type": "text"
      },
      "source": [
        "<a href=\"https://colab.research.google.com/github/madhavamk/computational-data-science/blob/master/Assignments/M3_AST_03_BinaryClassification_and_PerformanceMetrics_A.ipynb\" target=\"_parent\"><img src=\"https://colab.research.google.com/assets/colab-badge.svg\" alt=\"Open In Colab\"/></a>"
      ]
    },
    {
      "cell_type": "markdown",
      "metadata": {
        "id": "Ps9llghv8jX1"
      },
      "source": [
        "# Advanced Certification Program in Computational Data Science\n",
        "## A program by IISc and TalentSprint\n",
        "### Assignment 3: Binary Classification and Performance Metrics"
      ]
    },
    {
      "cell_type": "markdown",
      "metadata": {
        "id": "QeP1PAXf8jYD"
      },
      "source": [
        "## Learning Objectives"
      ]
    },
    {
      "cell_type": "markdown",
      "metadata": {
        "id": "AkwaW3k58jYG"
      },
      "source": [
        "At the end of the experiment, you will be able to:\n",
        "\n",
        "* learn about Classification tasks in Machine learning\n",
        "\n",
        "* perform Logistic Regression, Softmax Regression\n",
        "\n",
        "* learn the appropriate performance metrics according to use case\n",
        "\n",
        "* have an understanding of Decision Boundaries"
      ]
    },
    {
      "cell_type": "code",
      "source": [
        "#@title Walkthrough Video\n",
        "from IPython.display import HTML\n",
        "HTML(\"\"\"<video width=\"420\" height=\"240\" controls>\n",
        "<source src=\"https://cdn.chn.talentsprint.com/content/Binary_Classification_And_Performance_Metrics.mp4\">\n",
        "</video>\"\"\")"
      ],
      "metadata": {
        "cellView": "form",
        "id": "KEAfyazUHe6X"
      },
      "execution_count": null,
      "outputs": []
    },
    {
      "cell_type": "markdown",
      "metadata": {
        "id": "VMdBTNnq_Ng0"
      },
      "source": [
        "## Information"
      ]
    },
    {
      "cell_type": "markdown",
      "metadata": {
        "id": "1KfDhYd1yUIx"
      },
      "source": [
        "### Classification"
      ]
    },
    {
      "cell_type": "markdown",
      "metadata": {
        "id": "q-QzRVapVOow"
      },
      "source": [
        "**Classification** refers to a predictive modeling problem where a class label is predicted for a given example of input data.\n",
        "\n",
        "**Examples include:**\n",
        "\n",
        "* Email spam detection (spam or not).\n",
        "* Churn prediction (churn or not).\n",
        "* Conversion prediction (buy or not).\n",
        "\n",
        "**Binary classification** refers to those classification tasks that have two class labels.\n",
        "\n",
        "**Logistic Regression** is a Machine Learning classification algorithm that is used to predict the probability of a categorical dependent variable. In logistic regression, the dependent variable is a binary variable that contains data coded as 1 (yes, success, etc.) or 0 (no, failure, etc.)."
      ]
    },
    {
      "cell_type": "markdown",
      "metadata": {
        "id": "4zU4iSDHpQMB"
      },
      "source": [
        "### Implementing Binary Classification with Logistic Regression"
      ]
    },
    {
      "cell_type": "markdown",
      "metadata": {
        "id": "mg_NkkELpZKB"
      },
      "source": [
        "## Dataset"
      ]
    },
    {
      "cell_type": "markdown",
      "metadata": {
        "id": "ScK34HRop_Uf"
      },
      "source": [
        "In this example, we will be using \"Social_Network_Ads\" dataset.\n",
        "\n",
        "The variable descriptions are as follows:\n",
        "\n",
        "* Age\n",
        "* EstimatedSalary\n",
        "\n",
        "The target feature is:\n",
        "* Purchased\n",
        "\n",
        "Problem Statement: To predict if a person will purchase an item based on age and estimated salary."
      ]
    },
    {
      "cell_type": "markdown",
      "metadata": {
        "id": "BNLA8HiKxQhc"
      },
      "source": [
        "### Setup Steps:"
      ]
    },
    {
      "cell_type": "code",
      "metadata": {
        "id": "2YzfoPvJDiTX"
      },
      "source": [
        "#@title Please enter your registration id to start: { run: \"auto\", display-mode: \"form\" }\n",
        "Id = \"\" #@param {type:\"string\"}"
      ],
      "execution_count": 61,
      "outputs": []
    },
    {
      "cell_type": "code",
      "metadata": {
        "id": "AjoZJWGErxGf"
      },
      "source": [
        "#@title Please enter your password (your registered phone number) to continue: { run: \"auto\", display-mode: \"form\" }\n",
        "password = \"\" #@param {type:\"string\"}"
      ],
      "execution_count": 62,
      "outputs": []
    },
    {
      "cell_type": "code",
      "metadata": {
        "id": "WBPPuGmBlDIN",
        "cellView": "form",
        "colab": {
          "base_uri": "https://localhost:8080/",
          "height": 34
        },
        "outputId": "43b2b23f-84ac-4bd0-aa81-69865bafced1"
      },
      "source": [
        "#@title Run this cell to complete the setup for this Notebook\n",
        "from IPython import get_ipython\n",
        "\n",
        "ipython = get_ipython()\n",
        "\n",
        "notebook= \"M3_AST_03_BinaryClassification_and_PerformanceMetrics_A\" #name of the notebook\n",
        "\n",
        "def setup():\n",
        "#  ipython.magic(\"sx pip3 install torch\")\n",
        "    ipython.magic(\"sx wget https://cdn.iisc.talentsprint.com/CDS/Datasets/Social_Network_Ads.csv\")\n",
        "    ipython.magic(\"sx wget https://cdn.iisc.talentsprint.com/aiml/Experiment_related_data/diabetes.csv\")\n",
        "    from IPython.display import HTML, display\n",
        "    display(HTML('<script src=\"https://dashboard.talentsprint.com/aiml/record_ip.html?traineeId={0}&recordId={1}\"></script>'.format(getId(),submission_id)))\n",
        "    print(\"Setup completed successfully\")\n",
        "    return\n",
        "\n",
        "def submit_notebook():\n",
        "    ipython.magic(\"notebook -e \"+ notebook + \".ipynb\")\n",
        "\n",
        "    import requests, json, base64, datetime\n",
        "\n",
        "    url = \"https://dashboard.talentsprint.com/xp/app/save_notebook_attempts\"\n",
        "    if not submission_id:\n",
        "      data = {\"id\" : getId(), \"notebook\" : notebook, \"mobile\" : getPassword()}\n",
        "      r = requests.post(url, data = data)\n",
        "      r = json.loads(r.text)\n",
        "\n",
        "      if r[\"status\"] == \"Success\":\n",
        "          return r[\"record_id\"]\n",
        "      elif \"err\" in r:\n",
        "        print(r[\"err\"])\n",
        "        return None\n",
        "      else:\n",
        "        print (\"Something is wrong, the notebook will not be submitted for grading\")\n",
        "        return None\n",
        "\n",
        "    elif getAnswer() and getComplexity() and getAdditional() and getConcepts() and getComments() and getMentorSupport():\n",
        "      f = open(notebook + \".ipynb\", \"rb\")\n",
        "      file_hash = base64.b64encode(f.read())\n",
        "\n",
        "      data = {\"complexity\" : Complexity, \"additional\" :Additional,\n",
        "              \"concepts\" : Concepts, \"record_id\" : submission_id,\n",
        "              \"answer\" : Answer, \"id\" : Id, \"file_hash\" : file_hash,\n",
        "              \"notebook\" : notebook,\n",
        "              \"feedback_experiments_input\" : Comments,\n",
        "              \"feedback_mentor_support\": Mentor_support}\n",
        "      r = requests.post(url, data = data)\n",
        "      r = json.loads(r.text)\n",
        "      if \"err\" in r:\n",
        "        print(r[\"err\"])\n",
        "        return None\n",
        "      else:\n",
        "        print(\"Your submission is successful.\")\n",
        "        print(\"Ref Id:\", submission_id)\n",
        "        print(\"Date of submission: \", r[\"date\"])\n",
        "        print(\"Time of submission: \", r[\"time\"])\n",
        "        print(\"View your submissions: https://cds-iisc.talentsprint.com/notebook_submissions\")\n",
        "        #print(\"For any queries/discrepancies, please connect with mentors through the chat icon in LMS dashboard.\")\n",
        "        return submission_id\n",
        "    else: submission_id\n",
        "\n",
        "\n",
        "def getAdditional():\n",
        "  try:\n",
        "    if not Additional:\n",
        "      raise NameError\n",
        "    else:\n",
        "      return Additional\n",
        "  except NameError:\n",
        "    print (\"Please answer Additional Question\")\n",
        "    return None\n",
        "\n",
        "def getComplexity():\n",
        "  try:\n",
        "    if not Complexity:\n",
        "      raise NameError\n",
        "    else:\n",
        "      return Complexity\n",
        "  except NameError:\n",
        "    print (\"Please answer Complexity Question\")\n",
        "    return None\n",
        "\n",
        "def getConcepts():\n",
        "  try:\n",
        "    if not Concepts:\n",
        "      raise NameError\n",
        "    else:\n",
        "      return Concepts\n",
        "  except NameError:\n",
        "    print (\"Please answer Concepts Question\")\n",
        "    return None\n",
        "\n",
        "\n",
        "# def getWalkthrough():\n",
        "#   try:\n",
        "#     if not Walkthrough:\n",
        "#       raise NameError\n",
        "#     else:\n",
        "#       return Walkthrough\n",
        "#   except NameError:\n",
        "#     print (\"Please answer Walkthrough Question\")\n",
        "#     return None\n",
        "\n",
        "def getComments():\n",
        "  try:\n",
        "    if not Comments:\n",
        "      raise NameError\n",
        "    else:\n",
        "      return Comments\n",
        "  except NameError:\n",
        "    print (\"Please answer Comments Question\")\n",
        "    return None\n",
        "\n",
        "\n",
        "def getMentorSupport():\n",
        "  try:\n",
        "    if not Mentor_support:\n",
        "      raise NameError\n",
        "    else:\n",
        "      return Mentor_support\n",
        "  except NameError:\n",
        "    print (\"Please answer Mentor support Question\")\n",
        "    return None\n",
        "\n",
        "def getAnswer():\n",
        "  try:\n",
        "    if not Answer:\n",
        "      raise NameError\n",
        "    else:\n",
        "      return Answer\n",
        "  except NameError:\n",
        "    print (\"Please answer Question\")\n",
        "    return None\n",
        "\n",
        "\n",
        "def getId():\n",
        "  try:\n",
        "    return Id if Id else None\n",
        "  except NameError:\n",
        "    return None\n",
        "\n",
        "def getPassword():\n",
        "  try:\n",
        "    return password if password else None\n",
        "  except NameError:\n",
        "    return None\n",
        "\n",
        "submission_id = None\n",
        "### Setup\n",
        "if getPassword() and getId():\n",
        "  submission_id = submit_notebook()\n",
        "  if submission_id:\n",
        "    setup()\n",
        "else:\n",
        "  print (\"Please complete Id and Password cells before running setup\")\n",
        "\n"
      ],
      "execution_count": 3,
      "outputs": [
        {
          "output_type": "display_data",
          "data": {
            "text/plain": [
              "<IPython.core.display.HTML object>"
            ],
            "text/html": [
              "<script src=\"https://dashboard.talentsprint.com/aiml/record_ip.html?traineeId=2305750&recordId=2812\"></script>"
            ]
          },
          "metadata": {}
        },
        {
          "output_type": "stream",
          "name": "stdout",
          "text": [
            "Setup completed successfully\n"
          ]
        }
      ]
    },
    {
      "cell_type": "markdown",
      "metadata": {
        "id": "ZWv5Dh4iO3Pj"
      },
      "source": [
        "### Importing required packages\n"
      ]
    },
    {
      "cell_type": "code",
      "metadata": {
        "id": "3ljIHCqCO3mk"
      },
      "source": [
        "import numpy as np\n",
        "import pandas as pd\n",
        "import seaborn as sns\n",
        "import matplotlib.pyplot as plt\n",
        "from sklearn.model_selection import train_test_split\n",
        "from sklearn.linear_model import LogisticRegression\n",
        "from sklearn.metrics import classification_report, confusion_matrix"
      ],
      "execution_count": 5,
      "outputs": []
    },
    {
      "cell_type": "markdown",
      "metadata": {
        "id": "6x4tygU7rw0u"
      },
      "source": [
        "#### Importing the Dataset"
      ]
    },
    {
      "cell_type": "code",
      "metadata": {
        "id": "a_14Ruksx4zx",
        "colab": {
          "base_uri": "https://localhost:8080/",
          "height": 206
        },
        "outputId": "4c2237f1-e4c4-430e-8c4c-e0961a457a8d"
      },
      "source": [
        "df = pd.read_csv('Social_Network_Ads.csv')\n",
        "X = df.iloc[:, 1].values # estimated salary\n",
        "# YOUR CODE HERE to create 'y' by selecting last column values of 'df'\n",
        "y = df.iloc[:, -1].values\n",
        "X = X.reshape(-1, 1)\n",
        "# YOUR CODE HERE to display first five rows of 'df'\n",
        "df.head()"
      ],
      "execution_count": 6,
      "outputs": [
        {
          "output_type": "execute_result",
          "data": {
            "text/plain": [
              "   Age  EstimatedSalary  Purchased\n",
              "0   19            19000          0\n",
              "1   35            20000          0\n",
              "2   26            43000          0\n",
              "3   27            57000          0\n",
              "4   19            76000          0"
            ],
            "text/html": [
              "\n",
              "  <div id=\"df-e7553b19-3550-4ef8-88c6-5b5d900722aa\" class=\"colab-df-container\">\n",
              "    <div>\n",
              "<style scoped>\n",
              "    .dataframe tbody tr th:only-of-type {\n",
              "        vertical-align: middle;\n",
              "    }\n",
              "\n",
              "    .dataframe tbody tr th {\n",
              "        vertical-align: top;\n",
              "    }\n",
              "\n",
              "    .dataframe thead th {\n",
              "        text-align: right;\n",
              "    }\n",
              "</style>\n",
              "<table border=\"1\" class=\"dataframe\">\n",
              "  <thead>\n",
              "    <tr style=\"text-align: right;\">\n",
              "      <th></th>\n",
              "      <th>Age</th>\n",
              "      <th>EstimatedSalary</th>\n",
              "      <th>Purchased</th>\n",
              "    </tr>\n",
              "  </thead>\n",
              "  <tbody>\n",
              "    <tr>\n",
              "      <th>0</th>\n",
              "      <td>19</td>\n",
              "      <td>19000</td>\n",
              "      <td>0</td>\n",
              "    </tr>\n",
              "    <tr>\n",
              "      <th>1</th>\n",
              "      <td>35</td>\n",
              "      <td>20000</td>\n",
              "      <td>0</td>\n",
              "    </tr>\n",
              "    <tr>\n",
              "      <th>2</th>\n",
              "      <td>26</td>\n",
              "      <td>43000</td>\n",
              "      <td>0</td>\n",
              "    </tr>\n",
              "    <tr>\n",
              "      <th>3</th>\n",
              "      <td>27</td>\n",
              "      <td>57000</td>\n",
              "      <td>0</td>\n",
              "    </tr>\n",
              "    <tr>\n",
              "      <th>4</th>\n",
              "      <td>19</td>\n",
              "      <td>76000</td>\n",
              "      <td>0</td>\n",
              "    </tr>\n",
              "  </tbody>\n",
              "</table>\n",
              "</div>\n",
              "    <div class=\"colab-df-buttons\">\n",
              "\n",
              "  <div class=\"colab-df-container\">\n",
              "    <button class=\"colab-df-convert\" onclick=\"convertToInteractive('df-e7553b19-3550-4ef8-88c6-5b5d900722aa')\"\n",
              "            title=\"Convert this dataframe to an interactive table.\"\n",
              "            style=\"display:none;\">\n",
              "\n",
              "  <svg xmlns=\"http://www.w3.org/2000/svg\" height=\"24px\" viewBox=\"0 -960 960 960\">\n",
              "    <path d=\"M120-120v-720h720v720H120Zm60-500h600v-160H180v160Zm220 220h160v-160H400v160Zm0 220h160v-160H400v160ZM180-400h160v-160H180v160Zm440 0h160v-160H620v160ZM180-180h160v-160H180v160Zm440 0h160v-160H620v160Z\"/>\n",
              "  </svg>\n",
              "    </button>\n",
              "\n",
              "  <style>\n",
              "    .colab-df-container {\n",
              "      display:flex;\n",
              "      gap: 12px;\n",
              "    }\n",
              "\n",
              "    .colab-df-convert {\n",
              "      background-color: #E8F0FE;\n",
              "      border: none;\n",
              "      border-radius: 50%;\n",
              "      cursor: pointer;\n",
              "      display: none;\n",
              "      fill: #1967D2;\n",
              "      height: 32px;\n",
              "      padding: 0 0 0 0;\n",
              "      width: 32px;\n",
              "    }\n",
              "\n",
              "    .colab-df-convert:hover {\n",
              "      background-color: #E2EBFA;\n",
              "      box-shadow: 0px 1px 2px rgba(60, 64, 67, 0.3), 0px 1px 3px 1px rgba(60, 64, 67, 0.15);\n",
              "      fill: #174EA6;\n",
              "    }\n",
              "\n",
              "    .colab-df-buttons div {\n",
              "      margin-bottom: 4px;\n",
              "    }\n",
              "\n",
              "    [theme=dark] .colab-df-convert {\n",
              "      background-color: #3B4455;\n",
              "      fill: #D2E3FC;\n",
              "    }\n",
              "\n",
              "    [theme=dark] .colab-df-convert:hover {\n",
              "      background-color: #434B5C;\n",
              "      box-shadow: 0px 1px 3px 1px rgba(0, 0, 0, 0.15);\n",
              "      filter: drop-shadow(0px 1px 2px rgba(0, 0, 0, 0.3));\n",
              "      fill: #FFFFFF;\n",
              "    }\n",
              "  </style>\n",
              "\n",
              "    <script>\n",
              "      const buttonEl =\n",
              "        document.querySelector('#df-e7553b19-3550-4ef8-88c6-5b5d900722aa button.colab-df-convert');\n",
              "      buttonEl.style.display =\n",
              "        google.colab.kernel.accessAllowed ? 'block' : 'none';\n",
              "\n",
              "      async function convertToInteractive(key) {\n",
              "        const element = document.querySelector('#df-e7553b19-3550-4ef8-88c6-5b5d900722aa');\n",
              "        const dataTable =\n",
              "          await google.colab.kernel.invokeFunction('convertToInteractive',\n",
              "                                                    [key], {});\n",
              "        if (!dataTable) return;\n",
              "\n",
              "        const docLinkHtml = 'Like what you see? Visit the ' +\n",
              "          '<a target=\"_blank\" href=https://colab.research.google.com/notebooks/data_table.ipynb>data table notebook</a>'\n",
              "          + ' to learn more about interactive tables.';\n",
              "        element.innerHTML = '';\n",
              "        dataTable['output_type'] = 'display_data';\n",
              "        await google.colab.output.renderOutput(dataTable, element);\n",
              "        const docLink = document.createElement('div');\n",
              "        docLink.innerHTML = docLinkHtml;\n",
              "        element.appendChild(docLink);\n",
              "      }\n",
              "    </script>\n",
              "  </div>\n",
              "\n",
              "\n",
              "<div id=\"df-dc385390-531a-4aac-a034-b6cc47b927c1\">\n",
              "  <button class=\"colab-df-quickchart\" onclick=\"quickchart('df-dc385390-531a-4aac-a034-b6cc47b927c1')\"\n",
              "            title=\"Suggest charts\"\n",
              "            style=\"display:none;\">\n",
              "\n",
              "<svg xmlns=\"http://www.w3.org/2000/svg\" height=\"24px\"viewBox=\"0 0 24 24\"\n",
              "     width=\"24px\">\n",
              "    <g>\n",
              "        <path d=\"M19 3H5c-1.1 0-2 .9-2 2v14c0 1.1.9 2 2 2h14c1.1 0 2-.9 2-2V5c0-1.1-.9-2-2-2zM9 17H7v-7h2v7zm4 0h-2V7h2v10zm4 0h-2v-4h2v4z\"/>\n",
              "    </g>\n",
              "</svg>\n",
              "  </button>\n",
              "\n",
              "<style>\n",
              "  .colab-df-quickchart {\n",
              "      --bg-color: #E8F0FE;\n",
              "      --fill-color: #1967D2;\n",
              "      --hover-bg-color: #E2EBFA;\n",
              "      --hover-fill-color: #174EA6;\n",
              "      --disabled-fill-color: #AAA;\n",
              "      --disabled-bg-color: #DDD;\n",
              "  }\n",
              "\n",
              "  [theme=dark] .colab-df-quickchart {\n",
              "      --bg-color: #3B4455;\n",
              "      --fill-color: #D2E3FC;\n",
              "      --hover-bg-color: #434B5C;\n",
              "      --hover-fill-color: #FFFFFF;\n",
              "      --disabled-bg-color: #3B4455;\n",
              "      --disabled-fill-color: #666;\n",
              "  }\n",
              "\n",
              "  .colab-df-quickchart {\n",
              "    background-color: var(--bg-color);\n",
              "    border: none;\n",
              "    border-radius: 50%;\n",
              "    cursor: pointer;\n",
              "    display: none;\n",
              "    fill: var(--fill-color);\n",
              "    height: 32px;\n",
              "    padding: 0;\n",
              "    width: 32px;\n",
              "  }\n",
              "\n",
              "  .colab-df-quickchart:hover {\n",
              "    background-color: var(--hover-bg-color);\n",
              "    box-shadow: 0 1px 2px rgba(60, 64, 67, 0.3), 0 1px 3px 1px rgba(60, 64, 67, 0.15);\n",
              "    fill: var(--button-hover-fill-color);\n",
              "  }\n",
              "\n",
              "  .colab-df-quickchart-complete:disabled,\n",
              "  .colab-df-quickchart-complete:disabled:hover {\n",
              "    background-color: var(--disabled-bg-color);\n",
              "    fill: var(--disabled-fill-color);\n",
              "    box-shadow: none;\n",
              "  }\n",
              "\n",
              "  .colab-df-spinner {\n",
              "    border: 2px solid var(--fill-color);\n",
              "    border-color: transparent;\n",
              "    border-bottom-color: var(--fill-color);\n",
              "    animation:\n",
              "      spin 1s steps(1) infinite;\n",
              "  }\n",
              "\n",
              "  @keyframes spin {\n",
              "    0% {\n",
              "      border-color: transparent;\n",
              "      border-bottom-color: var(--fill-color);\n",
              "      border-left-color: var(--fill-color);\n",
              "    }\n",
              "    20% {\n",
              "      border-color: transparent;\n",
              "      border-left-color: var(--fill-color);\n",
              "      border-top-color: var(--fill-color);\n",
              "    }\n",
              "    30% {\n",
              "      border-color: transparent;\n",
              "      border-left-color: var(--fill-color);\n",
              "      border-top-color: var(--fill-color);\n",
              "      border-right-color: var(--fill-color);\n",
              "    }\n",
              "    40% {\n",
              "      border-color: transparent;\n",
              "      border-right-color: var(--fill-color);\n",
              "      border-top-color: var(--fill-color);\n",
              "    }\n",
              "    60% {\n",
              "      border-color: transparent;\n",
              "      border-right-color: var(--fill-color);\n",
              "    }\n",
              "    80% {\n",
              "      border-color: transparent;\n",
              "      border-right-color: var(--fill-color);\n",
              "      border-bottom-color: var(--fill-color);\n",
              "    }\n",
              "    90% {\n",
              "      border-color: transparent;\n",
              "      border-bottom-color: var(--fill-color);\n",
              "    }\n",
              "  }\n",
              "</style>\n",
              "\n",
              "  <script>\n",
              "    async function quickchart(key) {\n",
              "      const quickchartButtonEl =\n",
              "        document.querySelector('#' + key + ' button');\n",
              "      quickchartButtonEl.disabled = true;  // To prevent multiple clicks.\n",
              "      quickchartButtonEl.classList.add('colab-df-spinner');\n",
              "      try {\n",
              "        const charts = await google.colab.kernel.invokeFunction(\n",
              "            'suggestCharts', [key], {});\n",
              "      } catch (error) {\n",
              "        console.error('Error during call to suggestCharts:', error);\n",
              "      }\n",
              "      quickchartButtonEl.classList.remove('colab-df-spinner');\n",
              "      quickchartButtonEl.classList.add('colab-df-quickchart-complete');\n",
              "    }\n",
              "    (() => {\n",
              "      let quickchartButtonEl =\n",
              "        document.querySelector('#df-dc385390-531a-4aac-a034-b6cc47b927c1 button');\n",
              "      quickchartButtonEl.style.display =\n",
              "        google.colab.kernel.accessAllowed ? 'block' : 'none';\n",
              "    })();\n",
              "  </script>\n",
              "</div>\n",
              "\n",
              "    </div>\n",
              "  </div>\n"
            ],
            "application/vnd.google.colaboratory.intrinsic+json": {
              "type": "dataframe",
              "variable_name": "df",
              "summary": "{\n  \"name\": \"df\",\n  \"rows\": 400,\n  \"fields\": [\n    {\n      \"column\": \"Age\",\n      \"properties\": {\n        \"dtype\": \"number\",\n        \"std\": 10,\n        \"min\": 18,\n        \"max\": 60,\n        \"num_unique_values\": 43,\n        \"samples\": [\n          50,\n          39,\n          38\n        ],\n        \"semantic_type\": \"\",\n        \"description\": \"\"\n      }\n    },\n    {\n      \"column\": \"EstimatedSalary\",\n      \"properties\": {\n        \"dtype\": \"number\",\n        \"std\": 34096,\n        \"min\": 15000,\n        \"max\": 150000,\n        \"num_unique_values\": 117,\n        \"samples\": [\n          117000,\n          76000,\n          88000\n        ],\n        \"semantic_type\": \"\",\n        \"description\": \"\"\n      }\n    },\n    {\n      \"column\": \"Purchased\",\n      \"properties\": {\n        \"dtype\": \"number\",\n        \"std\": 0,\n        \"min\": 0,\n        \"max\": 1,\n        \"num_unique_values\": 2,\n        \"samples\": [\n          1,\n          0\n        ],\n        \"semantic_type\": \"\",\n        \"description\": \"\"\n      }\n    }\n  ]\n}"
            }
          },
          "metadata": {},
          "execution_count": 6
        }
      ]
    },
    {
      "cell_type": "markdown",
      "metadata": {
        "id": "nz_y_tzzrxAZ"
      },
      "source": [
        "#### Splitting the dataset into the Training set and Test set"
      ]
    },
    {
      "cell_type": "code",
      "metadata": {
        "id": "cwmIhomc-igk"
      },
      "source": [
        "X_train, X_test, y_train, y_test = train_test_split(X, y, test_size = 0.25, random_state = 0)\n"
      ],
      "execution_count": 7,
      "outputs": []
    },
    {
      "cell_type": "code",
      "metadata": {
        "id": "8j-ECM1T-i2p",
        "colab": {
          "base_uri": "https://localhost:8080/"
        },
        "outputId": "292f22a7-4db3-43cc-b5d2-fec42d3b1652"
      },
      "source": [
        "print(X_train)"
      ],
      "execution_count": 8,
      "outputs": [
        {
          "output_type": "stream",
          "name": "stdout",
          "text": [
            "[[ 39000]\n",
            " [120000]\n",
            " [ 50000]\n",
            " [135000]\n",
            " [ 21000]\n",
            " [104000]\n",
            " [ 42000]\n",
            " [ 61000]\n",
            " [ 50000]\n",
            " [ 63000]\n",
            " [ 25000]\n",
            " [ 50000]\n",
            " [ 73000]\n",
            " [ 49000]\n",
            " [ 29000]\n",
            " [ 65000]\n",
            " [131000]\n",
            " [ 89000]\n",
            " [ 82000]\n",
            " [ 51000]\n",
            " [ 15000]\n",
            " [102000]\n",
            " [112000]\n",
            " [107000]\n",
            " [ 53000]\n",
            " [ 59000]\n",
            " [ 41000]\n",
            " [134000]\n",
            " [113000]\n",
            " [148000]\n",
            " [ 15000]\n",
            " [ 42000]\n",
            " [ 19000]\n",
            " [149000]\n",
            " [ 96000]\n",
            " [ 59000]\n",
            " [ 96000]\n",
            " [ 89000]\n",
            " [ 72000]\n",
            " [ 26000]\n",
            " [ 69000]\n",
            " [ 82000]\n",
            " [ 74000]\n",
            " [ 80000]\n",
            " [ 72000]\n",
            " [149000]\n",
            " [ 71000]\n",
            " [146000]\n",
            " [ 79000]\n",
            " [ 75000]\n",
            " [ 51000]\n",
            " [ 75000]\n",
            " [ 78000]\n",
            " [ 61000]\n",
            " [108000]\n",
            " [ 82000]\n",
            " [ 74000]\n",
            " [ 65000]\n",
            " [ 80000]\n",
            " [117000]\n",
            " [ 61000]\n",
            " [ 68000]\n",
            " [ 44000]\n",
            " [ 87000]\n",
            " [ 33000]\n",
            " [ 90000]\n",
            " [ 42000]\n",
            " [123000]\n",
            " [118000]\n",
            " [ 87000]\n",
            " [ 71000]\n",
            " [ 70000]\n",
            " [ 39000]\n",
            " [ 23000]\n",
            " [147000]\n",
            " [138000]\n",
            " [ 86000]\n",
            " [ 79000]\n",
            " [138000]\n",
            " [ 23000]\n",
            " [ 60000]\n",
            " [113000]\n",
            " [107000]\n",
            " [ 33000]\n",
            " [ 80000]\n",
            " [ 96000]\n",
            " [ 18000]\n",
            " [ 71000]\n",
            " [129000]\n",
            " [ 76000]\n",
            " [ 44000]\n",
            " [118000]\n",
            " [ 90000]\n",
            " [ 30000]\n",
            " [ 43000]\n",
            " [ 78000]\n",
            " [ 59000]\n",
            " [ 42000]\n",
            " [ 74000]\n",
            " [ 91000]\n",
            " [ 59000]\n",
            " [ 57000]\n",
            " [143000]\n",
            " [ 26000]\n",
            " [ 38000]\n",
            " [113000]\n",
            " [143000]\n",
            " [ 27000]\n",
            " [101000]\n",
            " [ 45000]\n",
            " [ 82000]\n",
            " [ 23000]\n",
            " [ 65000]\n",
            " [ 84000]\n",
            " [ 59000]\n",
            " [ 84000]\n",
            " [ 28000]\n",
            " [ 71000]\n",
            " [ 55000]\n",
            " [ 35000]\n",
            " [ 28000]\n",
            " [ 65000]\n",
            " [ 17000]\n",
            " [ 28000]\n",
            " [141000]\n",
            " [ 17000]\n",
            " [ 97000]\n",
            " [ 59000]\n",
            " [ 27000]\n",
            " [ 18000]\n",
            " [ 88000]\n",
            " [ 58000]\n",
            " [ 60000]\n",
            " [ 34000]\n",
            " [ 72000]\n",
            " [100000]\n",
            " [ 21000]\n",
            " [ 90000]\n",
            " [ 88000]\n",
            " [ 32000]\n",
            " [ 20000]\n",
            " [ 59000]\n",
            " [ 44000]\n",
            " [ 72000]\n",
            " [142000]\n",
            " [ 32000]\n",
            " [ 71000]\n",
            " [ 74000]\n",
            " [ 75000]\n",
            " [ 76000]\n",
            " [ 25000]\n",
            " [ 61000]\n",
            " [112000]\n",
            " [ 80000]\n",
            " [ 75000]\n",
            " [ 47000]\n",
            " [ 75000]\n",
            " [ 25000]\n",
            " [ 80000]\n",
            " [ 60000]\n",
            " [ 52000]\n",
            " [125000]\n",
            " [ 29000]\n",
            " [126000]\n",
            " [134000]\n",
            " [ 57000]\n",
            " [ 71000]\n",
            " [ 61000]\n",
            " [ 27000]\n",
            " [ 60000]\n",
            " [ 74000]\n",
            " [ 23000]\n",
            " [ 72000]\n",
            " [117000]\n",
            " [ 70000]\n",
            " [ 80000]\n",
            " [ 95000]\n",
            " [ 52000]\n",
            " [ 79000]\n",
            " [ 55000]\n",
            " [ 75000]\n",
            " [ 28000]\n",
            " [139000]\n",
            " [ 18000]\n",
            " [ 51000]\n",
            " [133000]\n",
            " [ 32000]\n",
            " [ 22000]\n",
            " [ 55000]\n",
            " [104000]\n",
            " [119000]\n",
            " [ 53000]\n",
            " [144000]\n",
            " [ 66000]\n",
            " [137000]\n",
            " [ 58000]\n",
            " [ 41000]\n",
            " [ 22000]\n",
            " [ 15000]\n",
            " [ 19000]\n",
            " [ 74000]\n",
            " [122000]\n",
            " [ 73000]\n",
            " [ 71000]\n",
            " [ 23000]\n",
            " [ 72000]\n",
            " [ 83000]\n",
            " [ 26000]\n",
            " [ 44000]\n",
            " [ 75000]\n",
            " [ 47000]\n",
            " [ 68000]\n",
            " [ 54000]\n",
            " [135000]\n",
            " [114000]\n",
            " [ 36000]\n",
            " [133000]\n",
            " [ 61000]\n",
            " [ 89000]\n",
            " [ 16000]\n",
            " [ 31000]\n",
            " [ 72000]\n",
            " [ 33000]\n",
            " [125000]\n",
            " [131000]\n",
            " [ 71000]\n",
            " [ 62000]\n",
            " [ 72000]\n",
            " [ 63000]\n",
            " [ 47000]\n",
            " [116000]\n",
            " [ 49000]\n",
            " [ 74000]\n",
            " [ 59000]\n",
            " [ 89000]\n",
            " [ 79000]\n",
            " [ 82000]\n",
            " [ 57000]\n",
            " [ 34000]\n",
            " [108000]\n",
            " [ 72000]\n",
            " [ 71000]\n",
            " [106000]\n",
            " [ 57000]\n",
            " [ 72000]\n",
            " [ 23000]\n",
            " [108000]\n",
            " [ 17000]\n",
            " [134000]\n",
            " [ 43000]\n",
            " [ 43000]\n",
            " [ 38000]\n",
            " [ 45000]\n",
            " [ 72000]\n",
            " [134000]\n",
            " [137000]\n",
            " [ 16000]\n",
            " [ 32000]\n",
            " [ 66000]\n",
            " [ 73000]\n",
            " [ 79000]\n",
            " [ 50000]\n",
            " [ 30000]\n",
            " [ 93000]\n",
            " [ 46000]\n",
            " [ 22000]\n",
            " [ 37000]\n",
            " [ 55000]\n",
            " [ 54000]\n",
            " [ 36000]\n",
            " [104000]\n",
            " [ 57000]\n",
            " [108000]\n",
            " [ 23000]\n",
            " [ 65000]\n",
            " [ 20000]\n",
            " [ 86000]\n",
            " [ 79000]\n",
            " [ 33000]\n",
            " [ 72000]\n",
            " [ 39000]\n",
            " [ 31000]\n",
            " [ 70000]\n",
            " [ 79000]\n",
            " [ 81000]\n",
            " [ 80000]\n",
            " [ 85000]\n",
            " [ 39000]\n",
            " [ 88000]\n",
            " [ 88000]\n",
            " [150000]\n",
            " [ 65000]\n",
            " [ 54000]\n",
            " [ 43000]\n",
            " [ 52000]\n",
            " [ 30000]\n",
            " [ 43000]\n",
            " [ 52000]\n",
            " [ 54000]\n",
            " [118000]]\n"
          ]
        }
      ]
    },
    {
      "cell_type": "code",
      "metadata": {
        "id": "EyuA7_JzSN5-",
        "colab": {
          "base_uri": "https://localhost:8080/"
        },
        "outputId": "ff23a38c-05f0-4d7b-9a09-17f4cfb16c99"
      },
      "source": [
        "# YOUR CODE HERE to display y_train\n",
        "print(y_train)"
      ],
      "execution_count": 9,
      "outputs": [
        {
          "output_type": "stream",
          "name": "stdout",
          "text": [
            "[0 1 0 1 1 1 0 0 0 0 0 0 1 1 1 0 1 0 0 1 0 1 0 1 0 0 1 1 1 1 0 1 0 1 0 0 1\n",
            " 0 0 1 0 0 0 0 0 1 1 1 1 0 0 0 1 0 1 0 1 0 0 1 0 0 0 1 0 0 0 1 1 0 0 1 0 1\n",
            " 1 1 0 0 1 1 0 0 1 1 0 1 0 0 1 1 0 1 1 1 0 0 0 0 0 1 0 0 1 1 1 1 1 0 1 1 0\n",
            " 1 0 0 0 0 0 0 0 1 1 0 0 1 0 0 1 0 0 0 1 0 1 1 0 1 0 0 0 0 1 0 0 0 1 1 0 0\n",
            " 0 0 1 0 1 0 0 0 1 0 0 0 0 1 1 1 0 0 0 0 0 0 1 1 1 1 1 0 1 0 0 0 0 0 1 0 0\n",
            " 0 0 0 0 1 1 0 1 0 1 0 0 1 0 0 0 1 0 0 0 0 0 1 0 0 0 0 0 1 0 1 1 0 0 0 0 0\n",
            " 0 1 1 0 0 0 0 1 0 0 0 0 1 0 1 0 1 0 0 0 1 0 0 0 1 0 1 0 0 0 0 0 1 1 0 0 0\n",
            " 0 0 1 0 1 1 0 0 0 0 0 1 0 1 0 0 1 0 0 1 0 1 0 0 0 0 0 0 1 1 1 1 0 0 0 0 1\n",
            " 0 0 0 0]\n"
          ]
        }
      ]
    },
    {
      "cell_type": "code",
      "metadata": {
        "id": "Lcizce69SRPe",
        "colab": {
          "base_uri": "https://localhost:8080/"
        },
        "outputId": "5d8c2887-a237-468d-bd07-c6633f5b6602"
      },
      "source": [
        "# YOUR CODE HERE to display X_test\n",
        "print(X_test)"
      ],
      "execution_count": 10,
      "outputs": [
        {
          "output_type": "stream",
          "name": "stdout",
          "text": [
            "[[ 87000]\n",
            " [ 50000]\n",
            " [ 75000]\n",
            " [ 79000]\n",
            " [ 50000]\n",
            " [ 20000]\n",
            " [ 15000]\n",
            " [144000]\n",
            " [ 68000]\n",
            " [ 43000]\n",
            " [ 49000]\n",
            " [ 55000]\n",
            " [ 55000]\n",
            " [ 77000]\n",
            " [ 86000]\n",
            " [117000]\n",
            " [ 77000]\n",
            " [ 85000]\n",
            " [130000]\n",
            " [ 22000]\n",
            " [ 47000]\n",
            " [144000]\n",
            " [ 51000]\n",
            " [105000]\n",
            " [ 28000]\n",
            " [141000]\n",
            " [ 87000]\n",
            " [ 80000]\n",
            " [ 62000]\n",
            " [ 86000]\n",
            " [ 88000]\n",
            " [ 79000]\n",
            " [ 60000]\n",
            " [ 53000]\n",
            " [ 58000]\n",
            " [ 52000]\n",
            " [ 81000]\n",
            " [ 43000]\n",
            " [ 34000]\n",
            " [ 36000]\n",
            " [ 88000]\n",
            " [ 52000]\n",
            " [ 84000]\n",
            " [ 20000]\n",
            " [112000]\n",
            " [ 58000]\n",
            " [ 80000]\n",
            " [ 90000]\n",
            " [ 30000]\n",
            " [ 86000]\n",
            " [122000]\n",
            " [ 25000]\n",
            " [ 57000]\n",
            " [115000]\n",
            " [ 88000]\n",
            " [ 32000]\n",
            " [ 83000]\n",
            " [ 80000]\n",
            " [ 28000]\n",
            " [ 20000]\n",
            " [ 18000]\n",
            " [ 42000]\n",
            " [ 76000]\n",
            " [ 99000]\n",
            " [ 26000]\n",
            " [ 83000]\n",
            " [ 89000]\n",
            " [ 58000]\n",
            " [ 47000]\n",
            " [ 70000]\n",
            " [150000]\n",
            " [ 77000]\n",
            " [ 63000]\n",
            " [ 22000]\n",
            " [ 89000]\n",
            " [ 82000]\n",
            " [ 79000]\n",
            " [ 60000]\n",
            " [ 34000]\n",
            " [107000]\n",
            " [144000]\n",
            " [ 83000]\n",
            " [ 55000]\n",
            " [ 35000]\n",
            " [ 38000]\n",
            " [ 80000]\n",
            " [ 75000]\n",
            " [130000]\n",
            " [ 41000]\n",
            " [ 60000]\n",
            " [ 64000]\n",
            " [146000]\n",
            " [ 48000]\n",
            " [ 33000]\n",
            " [ 84000]\n",
            " [ 96000]\n",
            " [ 63000]\n",
            " [ 33000]\n",
            " [ 90000]\n",
            " [104000]]\n"
          ]
        }
      ]
    },
    {
      "cell_type": "code",
      "metadata": {
        "id": "00b_DUmXSRYl",
        "colab": {
          "base_uri": "https://localhost:8080/"
        },
        "outputId": "ce8b1fbf-b41a-4b47-dc8f-436a86b74068"
      },
      "source": [
        "# YOUR CODE HERE to display y_test\n",
        "print(y_test)"
      ],
      "execution_count": 11,
      "outputs": [
        {
          "output_type": "stream",
          "name": "stdout",
          "text": [
            "[0 0 0 0 0 0 0 1 0 0 0 0 0 0 0 0 0 0 1 0 0 1 0 1 0 1 0 0 0 0 0 1 1 0 0 0 0\n",
            " 0 0 1 0 0 0 0 1 0 0 1 0 1 1 0 0 0 1 1 0 0 1 0 0 1 0 1 0 1 0 0 0 0 1 0 0 1\n",
            " 0 0 0 0 1 1 1 0 0 0 1 1 0 1 1 0 0 1 0 0 0 1 0 1 1 1]\n"
          ]
        }
      ]
    },
    {
      "cell_type": "markdown",
      "metadata": {
        "id": "ppSxsQ6pQbjO"
      },
      "source": [
        "#### Feature Scaling"
      ]
    },
    {
      "cell_type": "code",
      "metadata": {
        "id": "sCFtgPISPYbU"
      },
      "source": [
        "from sklearn.preprocessing import StandardScaler\n",
        "sc = StandardScaler()\n",
        "X_train = sc.fit_transform(X_train)\n",
        "X_test = sc.transform(X_test)"
      ],
      "execution_count": 12,
      "outputs": []
    },
    {
      "cell_type": "code",
      "metadata": {
        "id": "A7Qf5eY1SfVn",
        "colab": {
          "base_uri": "https://localhost:8080/"
        },
        "outputId": "93af70c4-9b82-4804-ac26-2cea41e45266"
      },
      "source": [
        "print(X_train)"
      ],
      "execution_count": 13,
      "outputs": [
        {
          "output_type": "stream",
          "name": "stdout",
          "text": [
            "[[-0.88670699]\n",
            " [ 1.46173768]\n",
            " [-0.5677824 ]\n",
            " [ 1.89663484]\n",
            " [-1.40858358]\n",
            " [ 0.99784738]\n",
            " [-0.79972756]\n",
            " [-0.24885782]\n",
            " [-0.5677824 ]\n",
            " [-0.19087153]\n",
            " [-1.29261101]\n",
            " [-0.5677824 ]\n",
            " [ 0.09905991]\n",
            " [-0.59677555]\n",
            " [-1.17663843]\n",
            " [-0.13288524]\n",
            " [ 1.78066227]\n",
            " [ 0.56295021]\n",
            " [ 0.35999821]\n",
            " [-0.53878926]\n",
            " [-1.58254245]\n",
            " [ 0.93986109]\n",
            " [ 1.22979253]\n",
            " [ 1.08482681]\n",
            " [-0.48080297]\n",
            " [-0.30684411]\n",
            " [-0.8287207 ]\n",
            " [ 1.8676417 ]\n",
            " [ 1.25878567]\n",
            " [ 2.27354572]\n",
            " [-1.58254245]\n",
            " [-0.79972756]\n",
            " [-1.46656987]\n",
            " [ 2.30253886]\n",
            " [ 0.76590222]\n",
            " [-0.30684411]\n",
            " [ 0.76590222]\n",
            " [ 0.56295021]\n",
            " [ 0.07006676]\n",
            " [-1.26361786]\n",
            " [-0.01691267]\n",
            " [ 0.35999821]\n",
            " [ 0.12805305]\n",
            " [ 0.30201192]\n",
            " [ 0.07006676]\n",
            " [ 2.30253886]\n",
            " [ 0.04107362]\n",
            " [ 2.21555943]\n",
            " [ 0.27301877]\n",
            " [ 0.1570462 ]\n",
            " [-0.53878926]\n",
            " [ 0.1570462 ]\n",
            " [ 0.24402563]\n",
            " [-0.24885782]\n",
            " [ 1.11381995]\n",
            " [ 0.35999821]\n",
            " [ 0.12805305]\n",
            " [-0.13288524]\n",
            " [ 0.30201192]\n",
            " [ 1.37475825]\n",
            " [-0.24885782]\n",
            " [-0.04590581]\n",
            " [-0.74174127]\n",
            " [ 0.50496393]\n",
            " [-1.06066585]\n",
            " [ 0.59194336]\n",
            " [-0.79972756]\n",
            " [ 1.54871711]\n",
            " [ 1.40375139]\n",
            " [ 0.50496393]\n",
            " [ 0.04107362]\n",
            " [ 0.01208048]\n",
            " [-0.88670699]\n",
            " [-1.3505973 ]\n",
            " [ 2.24455257]\n",
            " [ 1.98361427]\n",
            " [ 0.47597078]\n",
            " [ 0.27301877]\n",
            " [ 1.98361427]\n",
            " [-1.3505973 ]\n",
            " [-0.27785096]\n",
            " [ 1.25878567]\n",
            " [ 1.08482681]\n",
            " [-1.06066585]\n",
            " [ 0.30201192]\n",
            " [ 0.76590222]\n",
            " [-1.49556302]\n",
            " [ 0.04107362]\n",
            " [ 1.72267598]\n",
            " [ 0.18603934]\n",
            " [-0.74174127]\n",
            " [ 1.40375139]\n",
            " [ 0.59194336]\n",
            " [-1.14764529]\n",
            " [-0.77073441]\n",
            " [ 0.24402563]\n",
            " [-0.30684411]\n",
            " [-0.79972756]\n",
            " [ 0.12805305]\n",
            " [ 0.6209365 ]\n",
            " [-0.30684411]\n",
            " [-0.3648304 ]\n",
            " [ 2.12857999]\n",
            " [-1.26361786]\n",
            " [-0.91570013]\n",
            " [ 1.25878567]\n",
            " [ 2.12857999]\n",
            " [-1.23462472]\n",
            " [ 0.91086794]\n",
            " [-0.71274813]\n",
            " [ 0.35999821]\n",
            " [-1.3505973 ]\n",
            " [-0.13288524]\n",
            " [ 0.41798449]\n",
            " [-0.30684411]\n",
            " [ 0.41798449]\n",
            " [-1.20563157]\n",
            " [ 0.04107362]\n",
            " [-0.42281668]\n",
            " [-1.00267957]\n",
            " [-1.20563157]\n",
            " [-0.13288524]\n",
            " [-1.52455616]\n",
            " [-1.20563157]\n",
            " [ 2.07059371]\n",
            " [-1.52455616]\n",
            " [ 0.79489537]\n",
            " [-0.30684411]\n",
            " [-1.23462472]\n",
            " [-1.49556302]\n",
            " [ 0.53395707]\n",
            " [-0.33583725]\n",
            " [-0.27785096]\n",
            " [-1.03167271]\n",
            " [ 0.07006676]\n",
            " [ 0.8818748 ]\n",
            " [-1.40858358]\n",
            " [ 0.59194336]\n",
            " [ 0.53395707]\n",
            " [-1.089659  ]\n",
            " [-1.43757673]\n",
            " [-0.30684411]\n",
            " [-0.74174127]\n",
            " [ 0.07006676]\n",
            " [ 2.09958685]\n",
            " [-1.089659  ]\n",
            " [ 0.04107362]\n",
            " [ 0.12805305]\n",
            " [ 0.1570462 ]\n",
            " [ 0.18603934]\n",
            " [-1.29261101]\n",
            " [-0.24885782]\n",
            " [ 1.22979253]\n",
            " [ 0.30201192]\n",
            " [ 0.1570462 ]\n",
            " [-0.65476184]\n",
            " [ 0.1570462 ]\n",
            " [-1.29261101]\n",
            " [ 0.30201192]\n",
            " [-0.27785096]\n",
            " [-0.50979612]\n",
            " [ 1.6067034 ]\n",
            " [-1.17663843]\n",
            " [ 1.63569655]\n",
            " [ 1.8676417 ]\n",
            " [-0.3648304 ]\n",
            " [ 0.04107362]\n",
            " [-0.24885782]\n",
            " [-1.23462472]\n",
            " [-0.27785096]\n",
            " [ 0.12805305]\n",
            " [-1.3505973 ]\n",
            " [ 0.07006676]\n",
            " [ 1.37475825]\n",
            " [ 0.01208048]\n",
            " [ 0.30201192]\n",
            " [ 0.73690908]\n",
            " [-0.50979612]\n",
            " [ 0.27301877]\n",
            " [-0.42281668]\n",
            " [ 0.1570462 ]\n",
            " [-1.20563157]\n",
            " [ 2.01260742]\n",
            " [-1.49556302]\n",
            " [-0.53878926]\n",
            " [ 1.83864855]\n",
            " [-1.089659  ]\n",
            " [-1.37959044]\n",
            " [-0.42281668]\n",
            " [ 0.99784738]\n",
            " [ 1.43274454]\n",
            " [-0.48080297]\n",
            " [ 2.15757314]\n",
            " [-0.1038921 ]\n",
            " [ 1.95462113]\n",
            " [-0.33583725]\n",
            " [-0.8287207 ]\n",
            " [-1.37959044]\n",
            " [-1.58254245]\n",
            " [-1.46656987]\n",
            " [ 0.12805305]\n",
            " [ 1.51972397]\n",
            " [ 0.09905991]\n",
            " [ 0.04107362]\n",
            " [-1.3505973 ]\n",
            " [ 0.07006676]\n",
            " [ 0.38899135]\n",
            " [-1.26361786]\n",
            " [-0.74174127]\n",
            " [ 0.1570462 ]\n",
            " [-0.65476184]\n",
            " [-0.04590581]\n",
            " [-0.45180983]\n",
            " [ 1.89663484]\n",
            " [ 1.28777882]\n",
            " [-0.97368642]\n",
            " [ 1.83864855]\n",
            " [-0.24885782]\n",
            " [ 0.56295021]\n",
            " [-1.5535493 ]\n",
            " [-1.11865214]\n",
            " [ 0.07006676]\n",
            " [-1.06066585]\n",
            " [ 1.6067034 ]\n",
            " [ 1.78066227]\n",
            " [ 0.04107362]\n",
            " [-0.21986468]\n",
            " [ 0.07006676]\n",
            " [-0.19087153]\n",
            " [-0.65476184]\n",
            " [ 1.3457651 ]\n",
            " [-0.59677555]\n",
            " [ 0.12805305]\n",
            " [-0.30684411]\n",
            " [ 0.56295021]\n",
            " [ 0.27301877]\n",
            " [ 0.35999821]\n",
            " [-0.3648304 ]\n",
            " [-1.03167271]\n",
            " [ 1.11381995]\n",
            " [ 0.07006676]\n",
            " [ 0.04107362]\n",
            " [ 1.05583366]\n",
            " [-0.3648304 ]\n",
            " [ 0.07006676]\n",
            " [-1.3505973 ]\n",
            " [ 1.11381995]\n",
            " [-1.52455616]\n",
            " [ 1.8676417 ]\n",
            " [-0.77073441]\n",
            " [-0.77073441]\n",
            " [-0.91570013]\n",
            " [-0.71274813]\n",
            " [ 0.07006676]\n",
            " [ 1.8676417 ]\n",
            " [ 1.95462113]\n",
            " [-1.5535493 ]\n",
            " [-1.089659  ]\n",
            " [-0.1038921 ]\n",
            " [ 0.09905991]\n",
            " [ 0.27301877]\n",
            " [-0.5677824 ]\n",
            " [-1.14764529]\n",
            " [ 0.67892279]\n",
            " [-0.68375498]\n",
            " [-1.37959044]\n",
            " [-0.94469328]\n",
            " [-0.42281668]\n",
            " [-0.45180983]\n",
            " [-0.97368642]\n",
            " [ 0.99784738]\n",
            " [-0.3648304 ]\n",
            " [ 1.11381995]\n",
            " [-1.3505973 ]\n",
            " [-0.13288524]\n",
            " [-1.43757673]\n",
            " [ 0.47597078]\n",
            " [ 0.27301877]\n",
            " [-1.06066585]\n",
            " [ 0.07006676]\n",
            " [-0.88670699]\n",
            " [-1.11865214]\n",
            " [ 0.01208048]\n",
            " [ 0.27301877]\n",
            " [ 0.33100506]\n",
            " [ 0.30201192]\n",
            " [ 0.44697764]\n",
            " [-0.88670699]\n",
            " [ 0.53395707]\n",
            " [ 0.53395707]\n",
            " [ 2.331532  ]\n",
            " [-0.13288524]\n",
            " [-0.45180983]\n",
            " [-0.77073441]\n",
            " [-0.50979612]\n",
            " [-1.14764529]\n",
            " [-0.77073441]\n",
            " [-0.50979612]\n",
            " [-0.45180983]\n",
            " [ 1.40375139]]\n"
          ]
        }
      ]
    },
    {
      "cell_type": "code",
      "metadata": {
        "id": "tUrZNVyGSffd",
        "colab": {
          "base_uri": "https://localhost:8080/"
        },
        "outputId": "947b89d4-b164-4380-cc65-15631630bab0"
      },
      "source": [
        "# YOUR CODE HERE to display X_test\n",
        "print(X_test)"
      ],
      "execution_count": 14,
      "outputs": [
        {
          "output_type": "stream",
          "name": "stdout",
          "text": [
            "[[ 0.50496393]\n",
            " [-0.5677824 ]\n",
            " [ 0.1570462 ]\n",
            " [ 0.27301877]\n",
            " [-0.5677824 ]\n",
            " [-1.43757673]\n",
            " [-1.58254245]\n",
            " [ 2.15757314]\n",
            " [-0.04590581]\n",
            " [-0.77073441]\n",
            " [-0.59677555]\n",
            " [-0.42281668]\n",
            " [-0.42281668]\n",
            " [ 0.21503249]\n",
            " [ 0.47597078]\n",
            " [ 1.37475825]\n",
            " [ 0.21503249]\n",
            " [ 0.44697764]\n",
            " [ 1.75166912]\n",
            " [-1.37959044]\n",
            " [-0.65476184]\n",
            " [ 2.15757314]\n",
            " [-0.53878926]\n",
            " [ 1.02684052]\n",
            " [-1.20563157]\n",
            " [ 2.07059371]\n",
            " [ 0.50496393]\n",
            " [ 0.30201192]\n",
            " [-0.21986468]\n",
            " [ 0.47597078]\n",
            " [ 0.53395707]\n",
            " [ 0.27301877]\n",
            " [-0.27785096]\n",
            " [-0.48080297]\n",
            " [-0.33583725]\n",
            " [-0.50979612]\n",
            " [ 0.33100506]\n",
            " [-0.77073441]\n",
            " [-1.03167271]\n",
            " [-0.97368642]\n",
            " [ 0.53395707]\n",
            " [-0.50979612]\n",
            " [ 0.41798449]\n",
            " [-1.43757673]\n",
            " [ 1.22979253]\n",
            " [-0.33583725]\n",
            " [ 0.30201192]\n",
            " [ 0.59194336]\n",
            " [-1.14764529]\n",
            " [ 0.47597078]\n",
            " [ 1.51972397]\n",
            " [-1.29261101]\n",
            " [-0.3648304 ]\n",
            " [ 1.31677196]\n",
            " [ 0.53395707]\n",
            " [-1.089659  ]\n",
            " [ 0.38899135]\n",
            " [ 0.30201192]\n",
            " [-1.20563157]\n",
            " [-1.43757673]\n",
            " [-1.49556302]\n",
            " [-0.79972756]\n",
            " [ 0.18603934]\n",
            " [ 0.85288166]\n",
            " [-1.26361786]\n",
            " [ 0.38899135]\n",
            " [ 0.56295021]\n",
            " [-0.33583725]\n",
            " [-0.65476184]\n",
            " [ 0.01208048]\n",
            " [ 2.331532  ]\n",
            " [ 0.21503249]\n",
            " [-0.19087153]\n",
            " [-1.37959044]\n",
            " [ 0.56295021]\n",
            " [ 0.35999821]\n",
            " [ 0.27301877]\n",
            " [-0.27785096]\n",
            " [-1.03167271]\n",
            " [ 1.08482681]\n",
            " [ 2.15757314]\n",
            " [ 0.38899135]\n",
            " [-0.42281668]\n",
            " [-1.00267957]\n",
            " [-0.91570013]\n",
            " [ 0.30201192]\n",
            " [ 0.1570462 ]\n",
            " [ 1.75166912]\n",
            " [-0.8287207 ]\n",
            " [-0.27785096]\n",
            " [-0.16187839]\n",
            " [ 2.21555943]\n",
            " [-0.62576869]\n",
            " [-1.06066585]\n",
            " [ 0.41798449]\n",
            " [ 0.76590222]\n",
            " [-0.19087153]\n",
            " [-1.06066585]\n",
            " [ 0.59194336]\n",
            " [ 0.99784738]]\n"
          ]
        }
      ]
    },
    {
      "cell_type": "markdown",
      "metadata": {
        "id": "CZqNg1ErQpt_"
      },
      "source": [
        "#### Training the Logistic Regression model on the Training set\n",
        "\n",
        "\n"
      ]
    },
    {
      "cell_type": "code",
      "metadata": {
        "id": "TmowAS_ePasE",
        "colab": {
          "base_uri": "https://localhost:8080/",
          "height": 75
        },
        "outputId": "d1be9d79-7006-4f73-96ae-97a68b0124ef"
      },
      "source": [
        "classifier = LogisticRegression(random_state = 0)\n",
        "classifier.fit(X_train, y_train)"
      ],
      "execution_count": 15,
      "outputs": [
        {
          "output_type": "execute_result",
          "data": {
            "text/plain": [
              "LogisticRegression(random_state=0)"
            ],
            "text/html": [
              "<style>#sk-container-id-1 {color: black;background-color: white;}#sk-container-id-1 pre{padding: 0;}#sk-container-id-1 div.sk-toggleable {background-color: white;}#sk-container-id-1 label.sk-toggleable__label {cursor: pointer;display: block;width: 100%;margin-bottom: 0;padding: 0.3em;box-sizing: border-box;text-align: center;}#sk-container-id-1 label.sk-toggleable__label-arrow:before {content: \"▸\";float: left;margin-right: 0.25em;color: #696969;}#sk-container-id-1 label.sk-toggleable__label-arrow:hover:before {color: black;}#sk-container-id-1 div.sk-estimator:hover label.sk-toggleable__label-arrow:before {color: black;}#sk-container-id-1 div.sk-toggleable__content {max-height: 0;max-width: 0;overflow: hidden;text-align: left;background-color: #f0f8ff;}#sk-container-id-1 div.sk-toggleable__content pre {margin: 0.2em;color: black;border-radius: 0.25em;background-color: #f0f8ff;}#sk-container-id-1 input.sk-toggleable__control:checked~div.sk-toggleable__content {max-height: 200px;max-width: 100%;overflow: auto;}#sk-container-id-1 input.sk-toggleable__control:checked~label.sk-toggleable__label-arrow:before {content: \"▾\";}#sk-container-id-1 div.sk-estimator input.sk-toggleable__control:checked~label.sk-toggleable__label {background-color: #d4ebff;}#sk-container-id-1 div.sk-label input.sk-toggleable__control:checked~label.sk-toggleable__label {background-color: #d4ebff;}#sk-container-id-1 input.sk-hidden--visually {border: 0;clip: rect(1px 1px 1px 1px);clip: rect(1px, 1px, 1px, 1px);height: 1px;margin: -1px;overflow: hidden;padding: 0;position: absolute;width: 1px;}#sk-container-id-1 div.sk-estimator {font-family: monospace;background-color: #f0f8ff;border: 1px dotted black;border-radius: 0.25em;box-sizing: border-box;margin-bottom: 0.5em;}#sk-container-id-1 div.sk-estimator:hover {background-color: #d4ebff;}#sk-container-id-1 div.sk-parallel-item::after {content: \"\";width: 100%;border-bottom: 1px solid gray;flex-grow: 1;}#sk-container-id-1 div.sk-label:hover label.sk-toggleable__label {background-color: #d4ebff;}#sk-container-id-1 div.sk-serial::before {content: \"\";position: absolute;border-left: 1px solid gray;box-sizing: border-box;top: 0;bottom: 0;left: 50%;z-index: 0;}#sk-container-id-1 div.sk-serial {display: flex;flex-direction: column;align-items: center;background-color: white;padding-right: 0.2em;padding-left: 0.2em;position: relative;}#sk-container-id-1 div.sk-item {position: relative;z-index: 1;}#sk-container-id-1 div.sk-parallel {display: flex;align-items: stretch;justify-content: center;background-color: white;position: relative;}#sk-container-id-1 div.sk-item::before, #sk-container-id-1 div.sk-parallel-item::before {content: \"\";position: absolute;border-left: 1px solid gray;box-sizing: border-box;top: 0;bottom: 0;left: 50%;z-index: -1;}#sk-container-id-1 div.sk-parallel-item {display: flex;flex-direction: column;z-index: 1;position: relative;background-color: white;}#sk-container-id-1 div.sk-parallel-item:first-child::after {align-self: flex-end;width: 50%;}#sk-container-id-1 div.sk-parallel-item:last-child::after {align-self: flex-start;width: 50%;}#sk-container-id-1 div.sk-parallel-item:only-child::after {width: 0;}#sk-container-id-1 div.sk-dashed-wrapped {border: 1px dashed gray;margin: 0 0.4em 0.5em 0.4em;box-sizing: border-box;padding-bottom: 0.4em;background-color: white;}#sk-container-id-1 div.sk-label label {font-family: monospace;font-weight: bold;display: inline-block;line-height: 1.2em;}#sk-container-id-1 div.sk-label-container {text-align: center;}#sk-container-id-1 div.sk-container {/* jupyter's `normalize.less` sets `[hidden] { display: none; }` but bootstrap.min.css set `[hidden] { display: none !important; }` so we also need the `!important` here to be able to override the default hidden behavior on the sphinx rendered scikit-learn.org. See: https://github.com/scikit-learn/scikit-learn/issues/21755 */display: inline-block !important;position: relative;}#sk-container-id-1 div.sk-text-repr-fallback {display: none;}</style><div id=\"sk-container-id-1\" class=\"sk-top-container\"><div class=\"sk-text-repr-fallback\"><pre>LogisticRegression(random_state=0)</pre><b>In a Jupyter environment, please rerun this cell to show the HTML representation or trust the notebook. <br />On GitHub, the HTML representation is unable to render, please try loading this page with nbviewer.org.</b></div><div class=\"sk-container\" hidden><div class=\"sk-item\"><div class=\"sk-estimator sk-toggleable\"><input class=\"sk-toggleable__control sk-hidden--visually\" id=\"sk-estimator-id-1\" type=\"checkbox\" checked><label for=\"sk-estimator-id-1\" class=\"sk-toggleable__label sk-toggleable__label-arrow\">LogisticRegression</label><div class=\"sk-toggleable__content\"><pre>LogisticRegression(random_state=0)</pre></div></div></div></div></div>"
            ]
          },
          "metadata": {},
          "execution_count": 15
        }
      ]
    },
    {
      "cell_type": "markdown",
      "metadata": {
        "id": "75AUfSTKSvFe"
      },
      "source": [
        "#### Predicting a new test instance"
      ]
    },
    {
      "cell_type": "code",
      "metadata": {
        "id": "NJQOOQpXQ2-m",
        "colab": {
          "base_uri": "https://localhost:8080/"
        },
        "outputId": "47f307c3-213b-4f3a-b875-fff297823b62"
      },
      "source": [
        "print(classifier.predict(sc.transform([[87000]])))"
      ],
      "execution_count": 16,
      "outputs": [
        {
          "output_type": "stream",
          "name": "stdout",
          "text": [
            "[0]\n"
          ]
        }
      ]
    },
    {
      "cell_type": "markdown",
      "metadata": {
        "id": "6dLORN2ZSytH"
      },
      "source": [
        "#### Predicting the Test set results"
      ]
    },
    {
      "cell_type": "code",
      "metadata": {
        "id": "rvKLpe0oSy4b",
        "colab": {
          "base_uri": "https://localhost:8080/"
        },
        "outputId": "4bb5c628-630d-4dac-b038-7cdb46262766"
      },
      "source": [
        "y_pred = classifier.predict(X_test)\n",
        "print(np.concatenate((y_pred.reshape(len(y_pred),1), y_test.reshape(len(y_test),1)),1))"
      ],
      "execution_count": 17,
      "outputs": [
        {
          "output_type": "stream",
          "name": "stdout",
          "text": [
            "[[0 0]\n",
            " [0 0]\n",
            " [0 0]\n",
            " [0 0]\n",
            " [0 0]\n",
            " [0 0]\n",
            " [0 0]\n",
            " [1 1]\n",
            " [0 0]\n",
            " [0 0]\n",
            " [0 0]\n",
            " [0 0]\n",
            " [0 0]\n",
            " [0 0]\n",
            " [0 0]\n",
            " [1 0]\n",
            " [0 0]\n",
            " [0 0]\n",
            " [1 1]\n",
            " [0 0]\n",
            " [0 0]\n",
            " [1 1]\n",
            " [0 0]\n",
            " [1 1]\n",
            " [0 0]\n",
            " [1 1]\n",
            " [0 0]\n",
            " [0 0]\n",
            " [0 0]\n",
            " [0 0]\n",
            " [0 0]\n",
            " [0 1]\n",
            " [0 1]\n",
            " [0 0]\n",
            " [0 0]\n",
            " [0 0]\n",
            " [0 0]\n",
            " [0 0]\n",
            " [0 0]\n",
            " [0 1]\n",
            " [0 0]\n",
            " [0 0]\n",
            " [0 0]\n",
            " [0 0]\n",
            " [1 1]\n",
            " [0 0]\n",
            " [0 0]\n",
            " [0 1]\n",
            " [0 0]\n",
            " [0 1]\n",
            " [1 1]\n",
            " [0 0]\n",
            " [0 0]\n",
            " [1 0]\n",
            " [0 1]\n",
            " [0 1]\n",
            " [0 0]\n",
            " [0 0]\n",
            " [0 1]\n",
            " [0 0]\n",
            " [0 0]\n",
            " [0 1]\n",
            " [0 0]\n",
            " [1 1]\n",
            " [0 0]\n",
            " [0 1]\n",
            " [0 0]\n",
            " [0 0]\n",
            " [0 0]\n",
            " [0 0]\n",
            " [1 1]\n",
            " [0 0]\n",
            " [0 0]\n",
            " [0 1]\n",
            " [0 0]\n",
            " [0 0]\n",
            " [0 0]\n",
            " [0 0]\n",
            " [0 1]\n",
            " [1 1]\n",
            " [1 1]\n",
            " [0 0]\n",
            " [0 0]\n",
            " [0 0]\n",
            " [0 1]\n",
            " [0 1]\n",
            " [0 0]\n",
            " [1 1]\n",
            " [0 1]\n",
            " [0 0]\n",
            " [0 0]\n",
            " [1 1]\n",
            " [0 0]\n",
            " [0 0]\n",
            " [0 0]\n",
            " [1 1]\n",
            " [0 0]\n",
            " [0 1]\n",
            " [0 1]\n",
            " [1 1]]\n"
          ]
        }
      ]
    },
    {
      "cell_type": "markdown",
      "metadata": {
        "id": "xRZhKV_8hosC"
      },
      "source": [
        "### Model Evaluation"
      ]
    },
    {
      "cell_type": "markdown",
      "metadata": {
        "id": "7gq0o0s1hrEr"
      },
      "source": [
        "To evaluate the performance of a classification model, the following metrics are used:\n",
        "\n",
        "* Confusion matrix\n",
        "  * Accuracy\n",
        "  * Precision\n",
        "  * Recall\n",
        "  * F1-Score\n",
        "* ROC curve\n",
        "* AUROC"
      ]
    },
    {
      "cell_type": "markdown",
      "metadata": {
        "id": "erCaVXheUca3"
      },
      "source": [
        "#### Confusion Matrix"
      ]
    },
    {
      "cell_type": "markdown",
      "metadata": {
        "id": "d0spQOwVdl6r"
      },
      "source": [
        "* **Confusion matrix:**  is a table that is used to describe the performance of a classification model on a set of test data for which the true values are known.\n",
        "\n",
        "  * **true positive** for correctly predicted event values.\n",
        "  * **false positive** for incorrectly predicted event values.\n",
        "  * **true negative** for correctly predicted no-event values.\n",
        "  * **false negative** for incorrectly predicted no-event values.\n",
        "* **Accuracy:** it is the ratio of the number of correct predictions to the total number of input samples.\n"
      ]
    },
    {
      "cell_type": "code",
      "metadata": {
        "id": "I4J9t7uyUbmX",
        "colab": {
          "base_uri": "https://localhost:8080/"
        },
        "outputId": "6aba3a81-0bac-44a9-b250-56808475b5d5"
      },
      "source": [
        "# Creating a confusion matrix\n",
        "from sklearn.metrics import confusion_matrix, accuracy_score\n",
        "cm = confusion_matrix(y_test, y_pred)\n",
        "# YOUR CODE HERE to display 'cm'\n",
        "print(cm)\n",
        "accuracy_score(y_test, y_pred)\n",
        "print(classification_report(y_test, y_pred))"
      ],
      "execution_count": 19,
      "outputs": [
        {
          "output_type": "stream",
          "name": "stdout",
          "text": [
            "[[66  2]\n",
            " [17 15]]\n",
            "              precision    recall  f1-score   support\n",
            "\n",
            "           0       0.80      0.97      0.87        68\n",
            "           1       0.88      0.47      0.61        32\n",
            "\n",
            "    accuracy                           0.81       100\n",
            "   macro avg       0.84      0.72      0.74       100\n",
            "weighted avg       0.82      0.81      0.79       100\n",
            "\n"
          ]
        }
      ]
    },
    {
      "cell_type": "markdown",
      "metadata": {
        "id": "ghMYzkSFtbix"
      },
      "source": [
        "This Confusion Matrix tells us that there were 81 correct predictions and 19 incorrect ones.\n",
        "\n",
        "* True Positive: 15\n",
        "* True Negative: 66\n",
        "* False Positive: 2\n",
        "* False Negative: 17"
      ]
    },
    {
      "cell_type": "markdown",
      "metadata": {
        "id": "JnKMEUwPiER0"
      },
      "source": [
        "#### Precision-Recall Metrics"
      ]
    },
    {
      "cell_type": "markdown",
      "metadata": {
        "id": "AZ_xgAFUiEeq"
      },
      "source": [
        "* **Precision:** summarizes the fraction of examples assigned the positive class that belongs to the positive class.\n",
        "\n",
        "    Precision = $\\mathbf{\\frac{TruePositive}{TruePositive + FalsePositive}}$\n",
        "\n",
        "* **Recall:** summarizes how well the positive class was predicted and is the same calculation as sensitivity.\n",
        "\n",
        "   Recall = $\\mathbf{\\frac{TruePositive}{TruePositive + FalseNegative}}$\n",
        "\n",
        "* **F1-score:** precision and recall can be combined into a single score that seeks to balance both concerns, called the F-score or the F-measure.\n",
        "  \n",
        "   F1-score = $\\mathbf{\\frac{2*Precision*Recall}{Precision+Recall}}$"
      ]
    },
    {
      "cell_type": "markdown",
      "metadata": {
        "id": "fV0iHWlKbU5l"
      },
      "source": [
        "##### Plotting precision-recall curve using sklearn"
      ]
    },
    {
      "cell_type": "code",
      "metadata": {
        "id": "btDWhBYCDsf2",
        "colab": {
          "base_uri": "https://localhost:8080/",
          "height": 489
        },
        "outputId": "23268096-a16a-436a-a9c5-7664ae53daf5"
      },
      "source": [
        "# Use sklearn to plot precision-recall curves\n",
        "\n",
        "from sklearn.metrics import PrecisionRecallDisplay\n",
        "\n",
        "display = PrecisionRecallDisplay.from_estimator(\n",
        "    classifier, X_test, y_test, name=\"LogisticRegresion\"\n",
        "    )\n",
        "display.ax_.set_title(\"2-class Precision-Recall curve\")"
      ],
      "execution_count": 20,
      "outputs": [
        {
          "output_type": "execute_result",
          "data": {
            "text/plain": [
              "Text(0.5, 1.0, '2-class Precision-Recall curve')"
            ]
          },
          "metadata": {},
          "execution_count": 20
        },
        {
          "output_type": "display_data",
          "data": {
            "text/plain": [
              "<Figure size 640x480 with 1 Axes>"
            ],
            "image/png": "[encoded data removed]"
          },
          "metadata": {}
        }
      ]
    },
    {
      "cell_type": "markdown",
      "metadata": {
        "id": "4qE9UERaaM8W"
      },
      "source": [
        "The above diagram shows the blue line as precision-recall curve."
      ]
    },
    {
      "cell_type": "markdown",
      "metadata": {
        "id": "Oi0Hm4JGiYPk"
      },
      "source": [
        "### ROC-AUC curve"
      ]
    },
    {
      "cell_type": "markdown",
      "metadata": {
        "id": "nyOwoo7snM4u"
      },
      "source": [
        "A ROC curve is a diagnostic plot for summarizing the behavior of a model by calculating the false positive rate and true positive rate for a set of predictions by the model under different thresholds.\n",
        "\n",
        "Area Under Curve (AUC) is one of the most widely used metrics for evaluation. It is used for binary classification problems.\n",
        "\n",
        "AUC has a range of [0, 1]. The greater the value, the better is the performance of our model."
      ]
    },
    {
      "cell_type": "markdown",
      "metadata": {
        "id": "RmcWOD9UbCFP"
      },
      "source": [
        "#### Plotting the ROC-AUC curve for Logistic Regression algorithm using matplotlib"
      ]
    },
    {
      "cell_type": "code",
      "metadata": {
        "id": "7N2-3HhtFQVm"
      },
      "source": [
        "# roc_curve() computes the ROC for the classifier and returns the FPR, TPR, and threshold values\n",
        "from sklearn.metrics import roc_curve\n",
        "\n",
        "# YOUR CODE HERE to fit(X_train, y_train) on 'classifier'\n",
        "classifier.fit(X_train, y_train)\n",
        "pred_prob1 = classifier.predict_proba(X_test)\n",
        "\n",
        "# roc curve for models\n",
        "fpr1, tpr1, thresh1 = roc_curve(y_test, pred_prob1[:,1], pos_label=1)\n",
        "\n",
        "\n",
        "# roc curve for tpr = fpr\n",
        "random_probs = [0 for i in range(len(y_test))]\n",
        "p_fpr, p_tpr, _ = roc_curve(y_test, random_probs, pos_label=1)"
      ],
      "execution_count": 21,
      "outputs": []
    },
    {
      "cell_type": "code",
      "metadata": {
        "id": "hGwFRT2bE5kq",
        "colab": {
          "base_uri": "https://localhost:8080/",
          "height": 579
        },
        "outputId": "a144f4ab-5018-4401-d9c5-6a9da5f78cbe"
      },
      "source": [
        "plt.style.use('seaborn')\n",
        "\n",
        "# plot roc curves\n",
        "plt.plot(fpr1, tpr1, linestyle='--',color='orange', label='Logistic Regression')\n",
        "\n",
        "plt.plot(p_fpr, p_tpr, linestyle='--', color='blue')\n",
        "# title\n",
        "# YOUR CODE HERE to set title to 'ROC curve'\n",
        "plt.title('ROC Curve')\n",
        "# x label\n",
        "plt.xlabel('False Positive Rate')\n",
        "# y label\n",
        "# YOUR CODE HERE to set ylabel to 'True Positive rate'\n",
        "plt.ylabel('True Positive Rate')\n",
        "\n",
        "plt.legend(loc='best')\n",
        "plt.savefig('ROC',dpi=300)\n",
        "plt.show();"
      ],
      "execution_count": 23,
      "outputs": [
        {
          "output_type": "stream",
          "name": "stderr",
          "text": [
            "<ipython-input-23-53ff19d3a343>:1: MatplotlibDeprecationWarning: The seaborn styles shipped by Matplotlib are deprecated since 3.6, as they no longer correspond to the styles shipped by seaborn. However, they will remain available as 'seaborn-v0_8-<style>'. Alternatively, directly use the seaborn API instead.\n",
            "  plt.style.use('seaborn')\n"
          ]
        },
        {
          "output_type": "display_data",
          "data": {
            "text/plain": [
              "<Figure size 800x550 with 1 Axes>"
            ],
            "image/png": "[encoded data removed]"
          },
          "metadata": {}
        }
      ]
    },
    {
      "cell_type": "markdown",
      "metadata": {
        "id": "vYmER6qRtzz1"
      },
      "source": [
        "The above diagram shows:\n",
        "\n",
        "ROC curve: is the orange dotted line\n",
        "\n",
        "AUROC: is the area under the orange dotted line\n",
        "\n",
        "The blue dotted line is the reference line."
      ]
    },
    {
      "cell_type": "markdown",
      "metadata": {
        "id": "p0biP4B7XfVi"
      },
      "source": [
        "Please refer to the given [link](https://cdn.iisc.talentsprint.com/CDS/Assignments/Module2/M2_AST3_Performance_Metrics.pdf) for further information on Performance metrics and [ROC-AUC curve](https://cdn.iisc.talentsprint.com/CDS/Assignments/Module2/M2_AST3_AUC_ROC.pdf)"
      ]
    },
    {
      "cell_type": "markdown",
      "metadata": {
        "id": "ZV4AqMlfy_az"
      },
      "source": [
        "### Example: Predicting Diabetes with Logistic Regression"
      ]
    },
    {
      "cell_type": "markdown",
      "metadata": {
        "id": "GLcNsXLtIFQe"
      },
      "source": [
        "Let us now apply the above learnings to perform a logistic regression using a 'UCI PIMA Indian Diabetes' dataset.\n",
        "\n",
        " * Fit the model\n",
        " * Do the prediction\n",
        " * Plot the ROC-AUC curve for the Logistic Regression algorithm\n",
        "\n"
      ]
    },
    {
      "cell_type": "markdown",
      "metadata": {
        "id": "RLe2mZvl9gm8"
      },
      "source": [
        "#### Dataset"
      ]
    },
    {
      "cell_type": "markdown",
      "metadata": {
        "id": "88C2CvR63Luc"
      },
      "source": [
        "In this example, we will be using the \"UCI PIMA Indian Diabetes\" dataset.\n",
        "\n",
        "The datasets consist of several medical predictor variables and one target variable, Outcome. Predictor variables include the number of pregnancies the patient has had, their BMI, insulin level, age, and so on.\n",
        "\n",
        "The variable descriptions are as follows:\n",
        "\n",
        "* Pregnancies: Number of Pregnancies\n",
        "* Glucose: Plasma glucose concentration over 2 hours in an oral glucose tolerance test\n",
        "* Blood pressure: Diastolic blood pressure (mm Hg)\n",
        "* SkinThickness: Triceps skinfold thickness (mm)\n",
        "* Insulin: 2-Hour serum insulin (mu U/ml)\n",
        "* BMI: Body mass index (weight in kg/(height in m)2)\n",
        "* DiabetesPedigreeFunction: Diabetes pedigree function (a function which scores likelihood of diabetes based on family history)\n",
        "* Age: Age (years)\n",
        "* Outcome: Class variable (0 if non-diabetic, 1 if diabetic)\n",
        "\n",
        "Problem statement:\n",
        "\n",
        "We will be using this dataset to predict if a person has diabetes or not using the medical attributes provided."
      ]
    },
    {
      "cell_type": "markdown",
      "metadata": {
        "id": "bragT22u9dFV"
      },
      "source": [
        "#### Importing the dataset"
      ]
    },
    {
      "cell_type": "code",
      "metadata": {
        "id": "ygezgrUE3L9I",
        "colab": {
          "base_uri": "https://localhost:8080/"
        },
        "outputId": "27b7aca0-ffa0-4f22-a50d-799c387192f4"
      },
      "source": [
        "DF = pd.read_csv('diabetes.csv')\n",
        "print(DF.head())"
      ],
      "execution_count": 24,
      "outputs": [
        {
          "output_type": "stream",
          "name": "stdout",
          "text": [
            "   Pregnancies  Glucose  BloodPressure  SkinThickness  Insulin   BMI  \\\n",
            "0            6      148             72             35        0  33.6   \n",
            "1            1       85             66             29        0  26.6   \n",
            "2            8      183             64              0        0  23.3   \n",
            "3            1       89             66             23       94  28.1   \n",
            "4            0      137             40             35      168  43.1   \n",
            "\n",
            "   DiabetesPedigreeFunction  Age  Outcome  \n",
            "0                     0.627   50        1  \n",
            "1                     0.351   31        0  \n",
            "2                     0.672   32        1  \n",
            "3                     0.167   21        0  \n",
            "4                     2.288   33        1  \n"
          ]
        }
      ]
    },
    {
      "cell_type": "markdown",
      "metadata": {
        "id": "qrnSNpIK9nMs"
      },
      "source": [
        "#### Finding if there are any null values"
      ]
    },
    {
      "cell_type": "code",
      "metadata": {
        "id": "o_Xk1F_O8JZD",
        "colab": {
          "base_uri": "https://localhost:8080/"
        },
        "outputId": "4c8811a3-61a5-49a0-8a4f-c80b9fca5f06"
      },
      "source": [
        "# YOUR CODE HERE\n",
        "DF.isnull().sum()"
      ],
      "execution_count": 27,
      "outputs": [
        {
          "output_type": "execute_result",
          "data": {
            "text/plain": [
              "Pregnancies                 0\n",
              "Glucose                     0\n",
              "BloodPressure               0\n",
              "SkinThickness               0\n",
              "Insulin                     0\n",
              "BMI                         0\n",
              "DiabetesPedigreeFunction    0\n",
              "Age                         0\n",
              "Outcome                     0\n",
              "dtype: int64"
            ]
          },
          "metadata": {},
          "execution_count": 27
        }
      ]
    },
    {
      "cell_type": "markdown",
      "metadata": {
        "id": "EAHBKXc63MGH"
      },
      "source": [
        "#### Training our model"
      ]
    },
    {
      "cell_type": "code",
      "metadata": {
        "id": "nONFn5s7BSZo"
      },
      "source": [
        "# Separating the data into independent and dependent variables\n",
        "\n",
        "# YOUR CODE HERE\n",
        "X = DF.drop('Outcome', axis=1)\n",
        "y = DF['Outcome']"
      ],
      "execution_count": 28,
      "outputs": []
    },
    {
      "cell_type": "markdown",
      "metadata": {
        "id": "ohpa54Ey3MV0"
      },
      "source": [
        "#### Splitting the data into training and testing data"
      ]
    },
    {
      "cell_type": "code",
      "source": [
        "# YOUR CODE HERE\n",
        "X_train, X_test, y_train, y_test = train_test_split(X, y, test_size=0.25, random_state=10)"
      ],
      "metadata": {
        "id": "Wc3ZKAAfhDZU"
      },
      "execution_count": 30,
      "outputs": []
    },
    {
      "cell_type": "markdown",
      "metadata": {
        "id": "_RQF--gm3MmN"
      },
      "source": [
        "#### Training the Logistic Regression model on the Training set"
      ]
    },
    {
      "cell_type": "code",
      "metadata": {
        "id": "RhK7n28I3My_",
        "colab": {
          "base_uri": "https://localhost:8080/",
          "height": 214
        },
        "outputId": "8c55fca0-f608-4bcc-9a49-5d8662d0760b"
      },
      "source": [
        "# YOUR CODE HERE'\n",
        "logreg = LogisticRegression()\n",
        "logreg.fit(X_train, y_train)"
      ],
      "execution_count": 31,
      "outputs": [
        {
          "output_type": "stream",
          "name": "stderr",
          "text": [
            "/usr/local/lib/python3.10/dist-packages/sklearn/linear_model/_logistic.py:458: ConvergenceWarning: lbfgs failed to converge (status=1):\n",
            "STOP: TOTAL NO. of ITERATIONS REACHED LIMIT.\n",
            "\n",
            "Increase the number of iterations (max_iter) or scale the data as shown in:\n",
            "    https://scikit-learn.org/stable/modules/preprocessing.html\n",
            "Please also refer to the documentation for alternative solver options:\n",
            "    https://scikit-learn.org/stable/modules/linear_model.html#logistic-regression\n",
            "  n_iter_i = _check_optimize_result(\n"
          ]
        },
        {
          "output_type": "execute_result",
          "data": {
            "text/plain": [
              "LogisticRegression()"
            ],
            "text/html": [
              "<style>#sk-container-id-2 {color: black;background-color: white;}#sk-container-id-2 pre{padding: 0;}#sk-container-id-2 div.sk-toggleable {background-color: white;}#sk-container-id-2 label.sk-toggleable__label {cursor: pointer;display: block;width: 100%;margin-bottom: 0;padding: 0.3em;box-sizing: border-box;text-align: center;}#sk-container-id-2 label.sk-toggleable__label-arrow:before {content: \"▸\";float: left;margin-right: 0.25em;color: #696969;}#sk-container-id-2 label.sk-toggleable__label-arrow:hover:before {color: black;}#sk-container-id-2 div.sk-estimator:hover label.sk-toggleable__label-arrow:before {color: black;}#sk-container-id-2 div.sk-toggleable__content {max-height: 0;max-width: 0;overflow: hidden;text-align: left;background-color: #f0f8ff;}#sk-container-id-2 div.sk-toggleable__content pre {margin: 0.2em;color: black;border-radius: 0.25em;background-color: #f0f8ff;}#sk-container-id-2 input.sk-toggleable__control:checked~div.sk-toggleable__content {max-height: 200px;max-width: 100%;overflow: auto;}#sk-container-id-2 input.sk-toggleable__control:checked~label.sk-toggleable__label-arrow:before {content: \"▾\";}#sk-container-id-2 div.sk-estimator input.sk-toggleable__control:checked~label.sk-toggleable__label {background-color: #d4ebff;}#sk-container-id-2 div.sk-label input.sk-toggleable__control:checked~label.sk-toggleable__label {background-color: #d4ebff;}#sk-container-id-2 input.sk-hidden--visually {border: 0;clip: rect(1px 1px 1px 1px);clip: rect(1px, 1px, 1px, 1px);height: 1px;margin: -1px;overflow: hidden;padding: 0;position: absolute;width: 1px;}#sk-container-id-2 div.sk-estimator {font-family: monospace;background-color: #f0f8ff;border: 1px dotted black;border-radius: 0.25em;box-sizing: border-box;margin-bottom: 0.5em;}#sk-container-id-2 div.sk-estimator:hover {background-color: #d4ebff;}#sk-container-id-2 div.sk-parallel-item::after {content: \"\";width: 100%;border-bottom: 1px solid gray;flex-grow: 1;}#sk-container-id-2 div.sk-label:hover label.sk-toggleable__label {background-color: #d4ebff;}#sk-container-id-2 div.sk-serial::before {content: \"\";position: absolute;border-left: 1px solid gray;box-sizing: border-box;top: 0;bottom: 0;left: 50%;z-index: 0;}#sk-container-id-2 div.sk-serial {display: flex;flex-direction: column;align-items: center;background-color: white;padding-right: 0.2em;padding-left: 0.2em;position: relative;}#sk-container-id-2 div.sk-item {position: relative;z-index: 1;}#sk-container-id-2 div.sk-parallel {display: flex;align-items: stretch;justify-content: center;background-color: white;position: relative;}#sk-container-id-2 div.sk-item::before, #sk-container-id-2 div.sk-parallel-item::before {content: \"\";position: absolute;border-left: 1px solid gray;box-sizing: border-box;top: 0;bottom: 0;left: 50%;z-index: -1;}#sk-container-id-2 div.sk-parallel-item {display: flex;flex-direction: column;z-index: 1;position: relative;background-color: white;}#sk-container-id-2 div.sk-parallel-item:first-child::after {align-self: flex-end;width: 50%;}#sk-container-id-2 div.sk-parallel-item:last-child::after {align-self: flex-start;width: 50%;}#sk-container-id-2 div.sk-parallel-item:only-child::after {width: 0;}#sk-container-id-2 div.sk-dashed-wrapped {border: 1px dashed gray;margin: 0 0.4em 0.5em 0.4em;box-sizing: border-box;padding-bottom: 0.4em;background-color: white;}#sk-container-id-2 div.sk-label label {font-family: monospace;font-weight: bold;display: inline-block;line-height: 1.2em;}#sk-container-id-2 div.sk-label-container {text-align: center;}#sk-container-id-2 div.sk-container {/* jupyter's `normalize.less` sets `[hidden] { display: none; }` but bootstrap.min.css set `[hidden] { display: none !important; }` so we also need the `!important` here to be able to override the default hidden behavior on the sphinx rendered scikit-learn.org. See: https://github.com/scikit-learn/scikit-learn/issues/21755 */display: inline-block !important;position: relative;}#sk-container-id-2 div.sk-text-repr-fallback {display: none;}</style><div id=\"sk-container-id-2\" class=\"sk-top-container\"><div class=\"sk-text-repr-fallback\"><pre>LogisticRegression()</pre><b>In a Jupyter environment, please rerun this cell to show the HTML representation or trust the notebook. <br />On GitHub, the HTML representation is unable to render, please try loading this page with nbviewer.org.</b></div><div class=\"sk-container\" hidden><div class=\"sk-item\"><div class=\"sk-estimator sk-toggleable\"><input class=\"sk-toggleable__control sk-hidden--visually\" id=\"sk-estimator-id-2\" type=\"checkbox\" checked><label for=\"sk-estimator-id-2\" class=\"sk-toggleable__label sk-toggleable__label-arrow\">LogisticRegression</label><div class=\"sk-toggleable__content\"><pre>LogisticRegression()</pre></div></div></div></div></div>"
            ]
          },
          "metadata": {},
          "execution_count": 31
        }
      ]
    },
    {
      "cell_type": "markdown",
      "metadata": {
        "id": "9_WlbEhI3M8A"
      },
      "source": [
        "#### Training/Fitting the Model"
      ]
    },
    {
      "cell_type": "code",
      "metadata": {
        "id": "vhjpnE2a3NES",
        "colab": {
          "base_uri": "https://localhost:8080/",
          "height": 214
        },
        "outputId": "6d769cb9-867a-48a1-e654-2b83c2811c07"
      },
      "source": [
        "# YOUR CODE HERE\n",
        "logreg.fit(X_train, y_train)"
      ],
      "execution_count": 32,
      "outputs": [
        {
          "output_type": "stream",
          "name": "stderr",
          "text": [
            "/usr/local/lib/python3.10/dist-packages/sklearn/linear_model/_logistic.py:458: ConvergenceWarning: lbfgs failed to converge (status=1):\n",
            "STOP: TOTAL NO. of ITERATIONS REACHED LIMIT.\n",
            "\n",
            "Increase the number of iterations (max_iter) or scale the data as shown in:\n",
            "    https://scikit-learn.org/stable/modules/preprocessing.html\n",
            "Please also refer to the documentation for alternative solver options:\n",
            "    https://scikit-learn.org/stable/modules/linear_model.html#logistic-regression\n",
            "  n_iter_i = _check_optimize_result(\n"
          ]
        },
        {
          "output_type": "execute_result",
          "data": {
            "text/plain": [
              "LogisticRegression()"
            ],
            "text/html": [
              "<style>#sk-container-id-3 {color: black;background-color: white;}#sk-container-id-3 pre{padding: 0;}#sk-container-id-3 div.sk-toggleable {background-color: white;}#sk-container-id-3 label.sk-toggleable__label {cursor: pointer;display: block;width: 100%;margin-bottom: 0;padding: 0.3em;box-sizing: border-box;text-align: center;}#sk-container-id-3 label.sk-toggleable__label-arrow:before {content: \"▸\";float: left;margin-right: 0.25em;color: #696969;}#sk-container-id-3 label.sk-toggleable__label-arrow:hover:before {color: black;}#sk-container-id-3 div.sk-estimator:hover label.sk-toggleable__label-arrow:before {color: black;}#sk-container-id-3 div.sk-toggleable__content {max-height: 0;max-width: 0;overflow: hidden;text-align: left;background-color: #f0f8ff;}#sk-container-id-3 div.sk-toggleable__content pre {margin: 0.2em;color: black;border-radius: 0.25em;background-color: #f0f8ff;}#sk-container-id-3 input.sk-toggleable__control:checked~div.sk-toggleable__content {max-height: 200px;max-width: 100%;overflow: auto;}#sk-container-id-3 input.sk-toggleable__control:checked~label.sk-toggleable__label-arrow:before {content: \"▾\";}#sk-container-id-3 div.sk-estimator input.sk-toggleable__control:checked~label.sk-toggleable__label {background-color: #d4ebff;}#sk-container-id-3 div.sk-label input.sk-toggleable__control:checked~label.sk-toggleable__label {background-color: #d4ebff;}#sk-container-id-3 input.sk-hidden--visually {border: 0;clip: rect(1px 1px 1px 1px);clip: rect(1px, 1px, 1px, 1px);height: 1px;margin: -1px;overflow: hidden;padding: 0;position: absolute;width: 1px;}#sk-container-id-3 div.sk-estimator {font-family: monospace;background-color: #f0f8ff;border: 1px dotted black;border-radius: 0.25em;box-sizing: border-box;margin-bottom: 0.5em;}#sk-container-id-3 div.sk-estimator:hover {background-color: #d4ebff;}#sk-container-id-3 div.sk-parallel-item::after {content: \"\";width: 100%;border-bottom: 1px solid gray;flex-grow: 1;}#sk-container-id-3 div.sk-label:hover label.sk-toggleable__label {background-color: #d4ebff;}#sk-container-id-3 div.sk-serial::before {content: \"\";position: absolute;border-left: 1px solid gray;box-sizing: border-box;top: 0;bottom: 0;left: 50%;z-index: 0;}#sk-container-id-3 div.sk-serial {display: flex;flex-direction: column;align-items: center;background-color: white;padding-right: 0.2em;padding-left: 0.2em;position: relative;}#sk-container-id-3 div.sk-item {position: relative;z-index: 1;}#sk-container-id-3 div.sk-parallel {display: flex;align-items: stretch;justify-content: center;background-color: white;position: relative;}#sk-container-id-3 div.sk-item::before, #sk-container-id-3 div.sk-parallel-item::before {content: \"\";position: absolute;border-left: 1px solid gray;box-sizing: border-box;top: 0;bottom: 0;left: 50%;z-index: -1;}#sk-container-id-3 div.sk-parallel-item {display: flex;flex-direction: column;z-index: 1;position: relative;background-color: white;}#sk-container-id-3 div.sk-parallel-item:first-child::after {align-self: flex-end;width: 50%;}#sk-container-id-3 div.sk-parallel-item:last-child::after {align-self: flex-start;width: 50%;}#sk-container-id-3 div.sk-parallel-item:only-child::after {width: 0;}#sk-container-id-3 div.sk-dashed-wrapped {border: 1px dashed gray;margin: 0 0.4em 0.5em 0.4em;box-sizing: border-box;padding-bottom: 0.4em;background-color: white;}#sk-container-id-3 div.sk-label label {font-family: monospace;font-weight: bold;display: inline-block;line-height: 1.2em;}#sk-container-id-3 div.sk-label-container {text-align: center;}#sk-container-id-3 div.sk-container {/* jupyter's `normalize.less` sets `[hidden] { display: none; }` but bootstrap.min.css set `[hidden] { display: none !important; }` so we also need the `!important` here to be able to override the default hidden behavior on the sphinx rendered scikit-learn.org. See: https://github.com/scikit-learn/scikit-learn/issues/21755 */display: inline-block !important;position: relative;}#sk-container-id-3 div.sk-text-repr-fallback {display: none;}</style><div id=\"sk-container-id-3\" class=\"sk-top-container\"><div class=\"sk-text-repr-fallback\"><pre>LogisticRegression()</pre><b>In a Jupyter environment, please rerun this cell to show the HTML representation or trust the notebook. <br />On GitHub, the HTML representation is unable to render, please try loading this page with nbviewer.org.</b></div><div class=\"sk-container\" hidden><div class=\"sk-item\"><div class=\"sk-estimator sk-toggleable\"><input class=\"sk-toggleable__control sk-hidden--visually\" id=\"sk-estimator-id-3\" type=\"checkbox\" checked><label for=\"sk-estimator-id-3\" class=\"sk-toggleable__label sk-toggleable__label-arrow\">LogisticRegression</label><div class=\"sk-toggleable__content\"><pre>LogisticRegression()</pre></div></div></div></div></div>"
            ]
          },
          "metadata": {},
          "execution_count": 32
        }
      ]
    },
    {
      "cell_type": "markdown",
      "metadata": {
        "id": "b_nOuS5w3NL5"
      },
      "source": [
        "#### Making Predictions"
      ]
    },
    {
      "cell_type": "code",
      "metadata": {
        "id": "FSJrzGgn3NT2"
      },
      "source": [
        "# YOUR CODE HERE\n",
        "y_pred = logreg.predict(X_test)"
      ],
      "execution_count": 33,
      "outputs": []
    },
    {
      "cell_type": "markdown",
      "metadata": {
        "id": "iC26I6QlCV2X"
      },
      "source": [
        "#### Confusion Matrix"
      ]
    },
    {
      "cell_type": "code",
      "metadata": {
        "id": "--ycunMgCWCr",
        "colab": {
          "base_uri": "https://localhost:8080/"
        },
        "outputId": "af5a07b4-5882-4a4d-a6d4-85c0bec7bd3f"
      },
      "source": [
        "# YOUR CODE HERE\n",
        "confusion_matrix(y_test, y_pred)"
      ],
      "execution_count": 34,
      "outputs": [
        {
          "output_type": "execute_result",
          "data": {
            "text/plain": [
              "array([[108,  13],\n",
              "       [ 37,  34]])"
            ]
          },
          "metadata": {},
          "execution_count": 34
        }
      ]
    },
    {
      "cell_type": "markdown",
      "metadata": {
        "id": "Yhq0Qh13zAob"
      },
      "source": [
        "#### Plotting the ROC curve for Logistic Regression algorithm using matplotlib"
      ]
    },
    {
      "cell_type": "code",
      "source": [
        "# YOUR CODE HERE\n",
        "pred_prob = logreg.predict_proba(X_test)\n",
        "\n",
        "# roc curve for models\n",
        "fpr, tpr, thresh = roc_curve(y_test, pred_prob[:,1], pos_label=1)\n",
        "\n",
        "\n",
        "# roc curve for tpr = fpr\n",
        "random_probs = [0 for i in range(len(y_test))]\n",
        "p_fpr, p_tpr, _ = roc_curve(y_test, random_probs, pos_label=1)\n",
        "\n",
        "plt.style.use('seaborn')\n",
        "\n",
        "# plot roc curves\n",
        "plt.plot(fpr, tpr, linestyle='--',color='orange', label='Logistic Regression')\n",
        "\n",
        "plt.plot(p_fpr, p_tpr, linestyle='--', color='blue')\n",
        "plt.title('ROC Curve')\n",
        "plt.xlabel('False Positive Rate')\n",
        "plt.ylabel('True Positive Rate')\n",
        "\n",
        "plt.savefig('ROC',dpi=300)\n",
        "plt.show();"
      ],
      "metadata": {
        "colab": {
          "base_uri": "https://localhost:8080/",
          "height": 579
        },
        "id": "h8MHpPDDhzOU",
        "outputId": "6d705aaf-5c29-428d-92e8-b35534e7a758"
      },
      "execution_count": 39,
      "outputs": [
        {
          "output_type": "stream",
          "name": "stderr",
          "text": [
            "<ipython-input-39-120b34830e7f>:12: MatplotlibDeprecationWarning: The seaborn styles shipped by Matplotlib are deprecated since 3.6, as they no longer correspond to the styles shipped by seaborn. However, they will remain available as 'seaborn-v0_8-<style>'. Alternatively, directly use the seaborn API instead.\n",
            "  plt.style.use('seaborn')\n"
          ]
        },
        {
          "output_type": "display_data",
          "data": {
            "text/plain": [
              "<Figure size 800x550 with 1 Axes>"
            ],
            "image/png": "[encoded data removed]"
          },
          "metadata": {}
        }
      ]
    },
    {
      "cell_type": "markdown",
      "metadata": {
        "id": "s0zX9rflZ95t"
      },
      "source": [
        "###  Softmax Regression"
      ]
    },
    {
      "cell_type": "markdown",
      "metadata": {
        "id": "Vd4f0fdcrwQt"
      },
      "source": [
        "The **Softmax regression** is a form of logistic regression that normalizes an input value into a vector of values that follows a probability distribution whose total sums up to 1.\n",
        "\n",
        "It is also called **multinomial logistic regression.**"
      ]
    },
    {
      "cell_type": "markdown",
      "metadata": {
        "id": "8pzGTIwxfs1T"
      },
      "source": [
        "Performing Softmax Regression on the above dataset \"Social_Network_Ads\""
      ]
    },
    {
      "cell_type": "code",
      "metadata": {
        "id": "g6sz_oUvO_ni",
        "colab": {
          "base_uri": "https://localhost:8080/",
          "height": 206
        },
        "outputId": "a1b6f4c0-ab1d-48a1-99d1-4417f224eda9"
      },
      "source": [
        "X = df.iloc[:, :-1].values # considering age,estimated salary\n",
        "# YOUR CODE HERE to create 'y' by selecting last column values of 'df'\n",
        "y = df.iloc[:, -1].values\n",
        "# YOUR CODE HERE to display first five rows of 'df'\n",
        "df.head()"
      ],
      "execution_count": 44,
      "outputs": [
        {
          "output_type": "execute_result",
          "data": {
            "text/plain": [
              "   Age  EstimatedSalary  Purchased\n",
              "0   19            19000          0\n",
              "1   35            20000          0\n",
              "2   26            43000          0\n",
              "3   27            57000          0\n",
              "4   19            76000          0"
            ],
            "text/html": [
              "\n",
              "  <div id=\"df-aa0512f7-0b80-48e6-b71a-3f97179a7f4b\" class=\"colab-df-container\">\n",
              "    <div>\n",
              "<style scoped>\n",
              "    .dataframe tbody tr th:only-of-type {\n",
              "        vertical-align: middle;\n",
              "    }\n",
              "\n",
              "    .dataframe tbody tr th {\n",
              "        vertical-align: top;\n",
              "    }\n",
              "\n",
              "    .dataframe thead th {\n",
              "        text-align: right;\n",
              "    }\n",
              "</style>\n",
              "<table border=\"1\" class=\"dataframe\">\n",
              "  <thead>\n",
              "    <tr style=\"text-align: right;\">\n",
              "      <th></th>\n",
              "      <th>Age</th>\n",
              "      <th>EstimatedSalary</th>\n",
              "      <th>Purchased</th>\n",
              "    </tr>\n",
              "  </thead>\n",
              "  <tbody>\n",
              "    <tr>\n",
              "      <th>0</th>\n",
              "      <td>19</td>\n",
              "      <td>19000</td>\n",
              "      <td>0</td>\n",
              "    </tr>\n",
              "    <tr>\n",
              "      <th>1</th>\n",
              "      <td>35</td>\n",
              "      <td>20000</td>\n",
              "      <td>0</td>\n",
              "    </tr>\n",
              "    <tr>\n",
              "      <th>2</th>\n",
              "      <td>26</td>\n",
              "      <td>43000</td>\n",
              "      <td>0</td>\n",
              "    </tr>\n",
              "    <tr>\n",
              "      <th>3</th>\n",
              "      <td>27</td>\n",
              "      <td>57000</td>\n",
              "      <td>0</td>\n",
              "    </tr>\n",
              "    <tr>\n",
              "      <th>4</th>\n",
              "      <td>19</td>\n",
              "      <td>76000</td>\n",
              "      <td>0</td>\n",
              "    </tr>\n",
              "  </tbody>\n",
              "</table>\n",
              "</div>\n",
              "    <div class=\"colab-df-buttons\">\n",
              "\n",
              "  <div class=\"colab-df-container\">\n",
              "    <button class=\"colab-df-convert\" onclick=\"convertToInteractive('df-aa0512f7-0b80-48e6-b71a-3f97179a7f4b')\"\n",
              "            title=\"Convert this dataframe to an interactive table.\"\n",
              "            style=\"display:none;\">\n",
              "\n",
              "  <svg xmlns=\"http://www.w3.org/2000/svg\" height=\"24px\" viewBox=\"0 -960 960 960\">\n",
              "    <path d=\"M120-120v-720h720v720H120Zm60-500h600v-160H180v160Zm220 220h160v-160H400v160Zm0 220h160v-160H400v160ZM180-400h160v-160H180v160Zm440 0h160v-160H620v160ZM180-180h160v-160H180v160Zm440 0h160v-160H620v160Z\"/>\n",
              "  </svg>\n",
              "    </button>\n",
              "\n",
              "  <style>\n",
              "    .colab-df-container {\n",
              "      display:flex;\n",
              "      gap: 12px;\n",
              "    }\n",
              "\n",
              "    .colab-df-convert {\n",
              "      background-color: #E8F0FE;\n",
              "      border: none;\n",
              "      border-radius: 50%;\n",
              "      cursor: pointer;\n",
              "      display: none;\n",
              "      fill: #1967D2;\n",
              "      height: 32px;\n",
              "      padding: 0 0 0 0;\n",
              "      width: 32px;\n",
              "    }\n",
              "\n",
              "    .colab-df-convert:hover {\n",
              "      background-color: #E2EBFA;\n",
              "      box-shadow: 0px 1px 2px rgba(60, 64, 67, 0.3), 0px 1px 3px 1px rgba(60, 64, 67, 0.15);\n",
              "      fill: #174EA6;\n",
              "    }\n",
              "\n",
              "    .colab-df-buttons div {\n",
              "      margin-bottom: 4px;\n",
              "    }\n",
              "\n",
              "    [theme=dark] .colab-df-convert {\n",
              "      background-color: #3B4455;\n",
              "      fill: #D2E3FC;\n",
              "    }\n",
              "\n",
              "    [theme=dark] .colab-df-convert:hover {\n",
              "      background-color: #434B5C;\n",
              "      box-shadow: 0px 1px 3px 1px rgba(0, 0, 0, 0.15);\n",
              "      filter: drop-shadow(0px 1px 2px rgba(0, 0, 0, 0.3));\n",
              "      fill: #FFFFFF;\n",
              "    }\n",
              "  </style>\n",
              "\n",
              "    <script>\n",
              "      const buttonEl =\n",
              "        document.querySelector('#df-aa0512f7-0b80-48e6-b71a-3f97179a7f4b button.colab-df-convert');\n",
              "      buttonEl.style.display =\n",
              "        google.colab.kernel.accessAllowed ? 'block' : 'none';\n",
              "\n",
              "      async function convertToInteractive(key) {\n",
              "        const element = document.querySelector('#df-aa0512f7-0b80-48e6-b71a-3f97179a7f4b');\n",
              "        const dataTable =\n",
              "          await google.colab.kernel.invokeFunction('convertToInteractive',\n",
              "                                                    [key], {});\n",
              "        if (!dataTable) return;\n",
              "\n",
              "        const docLinkHtml = 'Like what you see? Visit the ' +\n",
              "          '<a target=\"_blank\" href=https://colab.research.google.com/notebooks/data_table.ipynb>data table notebook</a>'\n",
              "          + ' to learn more about interactive tables.';\n",
              "        element.innerHTML = '';\n",
              "        dataTable['output_type'] = 'display_data';\n",
              "        await google.colab.output.renderOutput(dataTable, element);\n",
              "        const docLink = document.createElement('div');\n",
              "        docLink.innerHTML = docLinkHtml;\n",
              "        element.appendChild(docLink);\n",
              "      }\n",
              "    </script>\n",
              "  </div>\n",
              "\n",
              "\n",
              "<div id=\"df-5d5dcf82-5bcc-4a40-a0d0-03130d1ec13f\">\n",
              "  <button class=\"colab-df-quickchart\" onclick=\"quickchart('df-5d5dcf82-5bcc-4a40-a0d0-03130d1ec13f')\"\n",
              "            title=\"Suggest charts\"\n",
              "            style=\"display:none;\">\n",
              "\n",
              "<svg xmlns=\"http://www.w3.org/2000/svg\" height=\"24px\"viewBox=\"0 0 24 24\"\n",
              "     width=\"24px\">\n",
              "    <g>\n",
              "        <path d=\"M19 3H5c-1.1 0-2 .9-2 2v14c0 1.1.9 2 2 2h14c1.1 0 2-.9 2-2V5c0-1.1-.9-2-2-2zM9 17H7v-7h2v7zm4 0h-2V7h2v10zm4 0h-2v-4h2v4z\"/>\n",
              "    </g>\n",
              "</svg>\n",
              "  </button>\n",
              "\n",
              "<style>\n",
              "  .colab-df-quickchart {\n",
              "      --bg-color: #E8F0FE;\n",
              "      --fill-color: #1967D2;\n",
              "      --hover-bg-color: #E2EBFA;\n",
              "      --hover-fill-color: #174EA6;\n",
              "      --disabled-fill-color: #AAA;\n",
              "      --disabled-bg-color: #DDD;\n",
              "  }\n",
              "\n",
              "  [theme=dark] .colab-df-quickchart {\n",
              "      --bg-color: #3B4455;\n",
              "      --fill-color: #D2E3FC;\n",
              "      --hover-bg-color: #434B5C;\n",
              "      --hover-fill-color: #FFFFFF;\n",
              "      --disabled-bg-color: #3B4455;\n",
              "      --disabled-fill-color: #666;\n",
              "  }\n",
              "\n",
              "  .colab-df-quickchart {\n",
              "    background-color: var(--bg-color);\n",
              "    border: none;\n",
              "    border-radius: 50%;\n",
              "    cursor: pointer;\n",
              "    display: none;\n",
              "    fill: var(--fill-color);\n",
              "    height: 32px;\n",
              "    padding: 0;\n",
              "    width: 32px;\n",
              "  }\n",
              "\n",
              "  .colab-df-quickchart:hover {\n",
              "    background-color: var(--hover-bg-color);\n",
              "    box-shadow: 0 1px 2px rgba(60, 64, 67, 0.3), 0 1px 3px 1px rgba(60, 64, 67, 0.15);\n",
              "    fill: var(--button-hover-fill-color);\n",
              "  }\n",
              "\n",
              "  .colab-df-quickchart-complete:disabled,\n",
              "  .colab-df-quickchart-complete:disabled:hover {\n",
              "    background-color: var(--disabled-bg-color);\n",
              "    fill: var(--disabled-fill-color);\n",
              "    box-shadow: none;\n",
              "  }\n",
              "\n",
              "  .colab-df-spinner {\n",
              "    border: 2px solid var(--fill-color);\n",
              "    border-color: transparent;\n",
              "    border-bottom-color: var(--fill-color);\n",
              "    animation:\n",
              "      spin 1s steps(1) infinite;\n",
              "  }\n",
              "\n",
              "  @keyframes spin {\n",
              "    0% {\n",
              "      border-color: transparent;\n",
              "      border-bottom-color: var(--fill-color);\n",
              "      border-left-color: var(--fill-color);\n",
              "    }\n",
              "    20% {\n",
              "      border-color: transparent;\n",
              "      border-left-color: var(--fill-color);\n",
              "      border-top-color: var(--fill-color);\n",
              "    }\n",
              "    30% {\n",
              "      border-color: transparent;\n",
              "      border-left-color: var(--fill-color);\n",
              "      border-top-color: var(--fill-color);\n",
              "      border-right-color: var(--fill-color);\n",
              "    }\n",
              "    40% {\n",
              "      border-color: transparent;\n",
              "      border-right-color: var(--fill-color);\n",
              "      border-top-color: var(--fill-color);\n",
              "    }\n",
              "    60% {\n",
              "      border-color: transparent;\n",
              "      border-right-color: var(--fill-color);\n",
              "    }\n",
              "    80% {\n",
              "      border-color: transparent;\n",
              "      border-right-color: var(--fill-color);\n",
              "      border-bottom-color: var(--fill-color);\n",
              "    }\n",
              "    90% {\n",
              "      border-color: transparent;\n",
              "      border-bottom-color: var(--fill-color);\n",
              "    }\n",
              "  }\n",
              "</style>\n",
              "\n",
              "  <script>\n",
              "    async function quickchart(key) {\n",
              "      const quickchartButtonEl =\n",
              "        document.querySelector('#' + key + ' button');\n",
              "      quickchartButtonEl.disabled = true;  // To prevent multiple clicks.\n",
              "      quickchartButtonEl.classList.add('colab-df-spinner');\n",
              "      try {\n",
              "        const charts = await google.colab.kernel.invokeFunction(\n",
              "            'suggestCharts', [key], {});\n",
              "      } catch (error) {\n",
              "        console.error('Error during call to suggestCharts:', error);\n",
              "      }\n",
              "      quickchartButtonEl.classList.remove('colab-df-spinner');\n",
              "      quickchartButtonEl.classList.add('colab-df-quickchart-complete');\n",
              "    }\n",
              "    (() => {\n",
              "      let quickchartButtonEl =\n",
              "        document.querySelector('#df-5d5dcf82-5bcc-4a40-a0d0-03130d1ec13f button');\n",
              "      quickchartButtonEl.style.display =\n",
              "        google.colab.kernel.accessAllowed ? 'block' : 'none';\n",
              "    })();\n",
              "  </script>\n",
              "</div>\n",
              "\n",
              "    </div>\n",
              "  </div>\n"
            ],
            "application/vnd.google.colaboratory.intrinsic+json": {
              "type": "dataframe",
              "variable_name": "df",
              "summary": "{\n  \"name\": \"df\",\n  \"rows\": 400,\n  \"fields\": [\n    {\n      \"column\": \"Age\",\n      \"properties\": {\n        \"dtype\": \"number\",\n        \"std\": 10,\n        \"min\": 18,\n        \"max\": 60,\n        \"num_unique_values\": 43,\n        \"samples\": [\n          50,\n          39,\n          38\n        ],\n        \"semantic_type\": \"\",\n        \"description\": \"\"\n      }\n    },\n    {\n      \"column\": \"EstimatedSalary\",\n      \"properties\": {\n        \"dtype\": \"number\",\n        \"std\": 34096,\n        \"min\": 15000,\n        \"max\": 150000,\n        \"num_unique_values\": 117,\n        \"samples\": [\n          117000,\n          76000,\n          88000\n        ],\n        \"semantic_type\": \"\",\n        \"description\": \"\"\n      }\n    },\n    {\n      \"column\": \"Purchased\",\n      \"properties\": {\n        \"dtype\": \"number\",\n        \"std\": 0,\n        \"min\": 0,\n        \"max\": 1,\n        \"num_unique_values\": 2,\n        \"samples\": [\n          1,\n          0\n        ],\n        \"semantic_type\": \"\",\n        \"description\": \"\"\n      }\n    }\n  ]\n}"
            }
          },
          "metadata": {},
          "execution_count": 44
        }
      ]
    },
    {
      "cell_type": "markdown",
      "metadata": {
        "id": "fcojjpjNaHt0"
      },
      "source": [
        "#### Splitting the dataset into the Training set and Test set"
      ]
    },
    {
      "cell_type": "code",
      "metadata": {
        "id": "KlbU7oisaHt1"
      },
      "source": [
        "X_train, X_test, y_train, y_test = train_test_split(X, y, test_size = 0.25, random_state = 0)"
      ],
      "execution_count": 45,
      "outputs": []
    },
    {
      "cell_type": "markdown",
      "metadata": {
        "id": "ktJUEhjQaaZM"
      },
      "source": [
        "#### Feature Scaling"
      ]
    },
    {
      "cell_type": "code",
      "metadata": {
        "id": "BKpju6jeWWps"
      },
      "source": [
        "sc = StandardScaler()\n",
        "X_train = sc.fit_transform(X_train)\n",
        "# YOUR CODE HERE for 'X_test' using transform()\n",
        "X_test = sc.transform(X_test)"
      ],
      "execution_count": 46,
      "outputs": []
    },
    {
      "cell_type": "markdown",
      "metadata": {
        "id": "EW3_xn-zWWpu"
      },
      "source": [
        "#### Training the Softmax Regression model on the Training set"
      ]
    },
    {
      "cell_type": "code",
      "metadata": {
        "id": "F_FJ6vU1WWpv",
        "colab": {
          "base_uri": "https://localhost:8080/",
          "height": 75
        },
        "outputId": "da5e6fa5-25e5-4c3f-8d42-1e5b0e3ed66f"
      },
      "source": [
        "softmax_reg = LogisticRegression(multi_class='multinomial', # switch to Softmax Regression\n",
        "                                     solver='lbfgs', # handle multinomial loss, L2 penalty\n",
        "                                     C=10)\n",
        "# YOUR CODE HERE to fit(X, y) on 'softmax_reg'\n",
        "softmax_reg.fit(X_train,y_train)"
      ],
      "execution_count": 47,
      "outputs": [
        {
          "output_type": "execute_result",
          "data": {
            "text/plain": [
              "LogisticRegression(C=10, multi_class='multinomial')"
            ],
            "text/html": [
              "<style>#sk-container-id-4 {color: black;background-color: white;}#sk-container-id-4 pre{padding: 0;}#sk-container-id-4 div.sk-toggleable {background-color: white;}#sk-container-id-4 label.sk-toggleable__label {cursor: pointer;display: block;width: 100%;margin-bottom: 0;padding: 0.3em;box-sizing: border-box;text-align: center;}#sk-container-id-4 label.sk-toggleable__label-arrow:before {content: \"▸\";float: left;margin-right: 0.25em;color: #696969;}#sk-container-id-4 label.sk-toggleable__label-arrow:hover:before {color: black;}#sk-container-id-4 div.sk-estimator:hover label.sk-toggleable__label-arrow:before {color: black;}#sk-container-id-4 div.sk-toggleable__content {max-height: 0;max-width: 0;overflow: hidden;text-align: left;background-color: #f0f8ff;}#sk-container-id-4 div.sk-toggleable__content pre {margin: 0.2em;color: black;border-radius: 0.25em;background-color: #f0f8ff;}#sk-container-id-4 input.sk-toggleable__control:checked~div.sk-toggleable__content {max-height: 200px;max-width: 100%;overflow: auto;}#sk-container-id-4 input.sk-toggleable__control:checked~label.sk-toggleable__label-arrow:before {content: \"▾\";}#sk-container-id-4 div.sk-estimator input.sk-toggleable__control:checked~label.sk-toggleable__label {background-color: #d4ebff;}#sk-container-id-4 div.sk-label input.sk-toggleable__control:checked~label.sk-toggleable__label {background-color: #d4ebff;}#sk-container-id-4 input.sk-hidden--visually {border: 0;clip: rect(1px 1px 1px 1px);clip: rect(1px, 1px, 1px, 1px);height: 1px;margin: -1px;overflow: hidden;padding: 0;position: absolute;width: 1px;}#sk-container-id-4 div.sk-estimator {font-family: monospace;background-color: #f0f8ff;border: 1px dotted black;border-radius: 0.25em;box-sizing: border-box;margin-bottom: 0.5em;}#sk-container-id-4 div.sk-estimator:hover {background-color: #d4ebff;}#sk-container-id-4 div.sk-parallel-item::after {content: \"\";width: 100%;border-bottom: 1px solid gray;flex-grow: 1;}#sk-container-id-4 div.sk-label:hover label.sk-toggleable__label {background-color: #d4ebff;}#sk-container-id-4 div.sk-serial::before {content: \"\";position: absolute;border-left: 1px solid gray;box-sizing: border-box;top: 0;bottom: 0;left: 50%;z-index: 0;}#sk-container-id-4 div.sk-serial {display: flex;flex-direction: column;align-items: center;background-color: white;padding-right: 0.2em;padding-left: 0.2em;position: relative;}#sk-container-id-4 div.sk-item {position: relative;z-index: 1;}#sk-container-id-4 div.sk-parallel {display: flex;align-items: stretch;justify-content: center;background-color: white;position: relative;}#sk-container-id-4 div.sk-item::before, #sk-container-id-4 div.sk-parallel-item::before {content: \"\";position: absolute;border-left: 1px solid gray;box-sizing: border-box;top: 0;bottom: 0;left: 50%;z-index: -1;}#sk-container-id-4 div.sk-parallel-item {display: flex;flex-direction: column;z-index: 1;position: relative;background-color: white;}#sk-container-id-4 div.sk-parallel-item:first-child::after {align-self: flex-end;width: 50%;}#sk-container-id-4 div.sk-parallel-item:last-child::after {align-self: flex-start;width: 50%;}#sk-container-id-4 div.sk-parallel-item:only-child::after {width: 0;}#sk-container-id-4 div.sk-dashed-wrapped {border: 1px dashed gray;margin: 0 0.4em 0.5em 0.4em;box-sizing: border-box;padding-bottom: 0.4em;background-color: white;}#sk-container-id-4 div.sk-label label {font-family: monospace;font-weight: bold;display: inline-block;line-height: 1.2em;}#sk-container-id-4 div.sk-label-container {text-align: center;}#sk-container-id-4 div.sk-container {/* jupyter's `normalize.less` sets `[hidden] { display: none; }` but bootstrap.min.css set `[hidden] { display: none !important; }` so we also need the `!important` here to be able to override the default hidden behavior on the sphinx rendered scikit-learn.org. See: https://github.com/scikit-learn/scikit-learn/issues/21755 */display: inline-block !important;position: relative;}#sk-container-id-4 div.sk-text-repr-fallback {display: none;}</style><div id=\"sk-container-id-4\" class=\"sk-top-container\"><div class=\"sk-text-repr-fallback\"><pre>LogisticRegression(C=10, multi_class=&#x27;multinomial&#x27;)</pre><b>In a Jupyter environment, please rerun this cell to show the HTML representation or trust the notebook. <br />On GitHub, the HTML representation is unable to render, please try loading this page with nbviewer.org.</b></div><div class=\"sk-container\" hidden><div class=\"sk-item\"><div class=\"sk-estimator sk-toggleable\"><input class=\"sk-toggleable__control sk-hidden--visually\" id=\"sk-estimator-id-4\" type=\"checkbox\" checked><label for=\"sk-estimator-id-4\" class=\"sk-toggleable__label sk-toggleable__label-arrow\">LogisticRegression</label><div class=\"sk-toggleable__content\"><pre>LogisticRegression(C=10, multi_class=&#x27;multinomial&#x27;)</pre></div></div></div></div></div>"
            ]
          },
          "metadata": {},
          "execution_count": 47
        }
      ]
    },
    {
      "cell_type": "markdown",
      "metadata": {
        "id": "_DLVGNOHWWpv"
      },
      "source": [
        "#### Predicting a new result"
      ]
    },
    {
      "cell_type": "code",
      "metadata": {
        "id": "5_gz1YF1fbY9",
        "colab": {
          "base_uri": "https://localhost:8080/"
        },
        "outputId": "ee7d42e6-df94-472b-f933-cdef071c17a3"
      },
      "source": [
        "softmax_reg.predict(sc.transform([[30,87000]]))"
      ],
      "execution_count": 48,
      "outputs": [
        {
          "output_type": "execute_result",
          "data": {
            "text/plain": [
              "array([0])"
            ]
          },
          "metadata": {},
          "execution_count": 48
        }
      ]
    },
    {
      "cell_type": "code",
      "metadata": {
        "id": "V4Gajh2DXNj2",
        "colab": {
          "base_uri": "https://localhost:8080/"
        },
        "outputId": "84ae4fd3-8493-4afc-e3a9-ef67d83e7063"
      },
      "source": [
        "softmax_reg.predict_proba(sc.transform([[30,87000]]))"
      ],
      "execution_count": 49,
      "outputs": [
        {
          "output_type": "execute_result",
          "data": {
            "text/plain": [
              "array([[0.90077235, 0.09922765]])"
            ]
          },
          "metadata": {},
          "execution_count": 49
        }
      ]
    },
    {
      "cell_type": "markdown",
      "metadata": {
        "id": "2AS_oGgsTWg8"
      },
      "source": [
        "### Decision Boundary"
      ]
    },
    {
      "cell_type": "markdown",
      "metadata": {
        "id": "Mi44DjJUTgvl"
      },
      "source": [
        "In classification problems with two or more classes, a decision boundary is a hypersurface that separates the underlying vector space into sets, one for each class."
      ]
    },
    {
      "cell_type": "markdown",
      "metadata": {
        "id": "NTfA1CGIT3Av"
      },
      "source": [
        "#### Creating Dummy Dataset"
      ]
    },
    {
      "cell_type": "code",
      "metadata": {
        "id": "x6Ncu968Evs0"
      },
      "source": [
        "from sklearn.datasets import make_classification\n",
        "X, y = make_classification(n_samples=200, n_features=2, n_informative=2, n_redundant=0, n_classes=2, random_state=1)"
      ],
      "execution_count": 50,
      "outputs": []
    },
    {
      "cell_type": "markdown",
      "metadata": {
        "id": "Pb4YBLrgVYh-"
      },
      "source": [
        "#### Creating Decision Boundary"
      ]
    },
    {
      "cell_type": "code",
      "metadata": {
        "id": "I7ToIkZ-Svu-",
        "colab": {
          "base_uri": "https://localhost:8080/",
          "height": 851
        },
        "outputId": "0ccb6e3e-7e1b-46eb-abd6-bb725b462e92"
      },
      "source": [
        "import matplotlib.gridspec as gridspec\n",
        "from mlxtend.plotting import plot_decision_regions\n",
        "gs = gridspec.GridSpec(3, 2)\n",
        "\n",
        "fig = plt.figure(figsize=(14,10))\n",
        "\n",
        "label = 'Logistic Regression'\n",
        "# YOUR CODE HERE to create 'clf' by instantiating LogisticRegression\n",
        "clf = LogisticRegression()\n",
        "# YOUR CODE HERE to  fit(X, y) on 'clf'\n",
        "clf.fit(X, y)\n",
        "\n",
        "fig = plot_decision_regions(X=X, y=y, clf=clf, legend=2)\n",
        "plt.title(label)\n",
        "plt.show()"
      ],
      "execution_count": 53,
      "outputs": [
        {
          "output_type": "display_data",
          "data": {
            "text/plain": [
              "<Figure size 1400x1000 with 1 Axes>"
            ],
            "image/png": "[encoded data removed]"
          },
          "metadata": {}
        }
      ]
    },
    {
      "cell_type": "markdown",
      "source": [
        "### Reference"
      ],
      "metadata": {
        "id": "9IfphunagdHW"
      }
    },
    {
      "cell_type": "markdown",
      "source": [
        "https://cdn.iisc.talentsprint.com/CDS/Assignments/Module2/micro%20macro%20weighted%20avgs.pdf"
      ],
      "metadata": {
        "id": "ulhvJXXmgiLN"
      }
    },
    {
      "cell_type": "markdown",
      "metadata": {
        "id": "q4b7UWS0P9LA"
      },
      "source": [
        "### Theory Questions"
      ]
    },
    {
      "cell_type": "markdown",
      "metadata": {
        "id": "sYwRq36rHEbv"
      },
      "source": [
        "1. Is it a good idea to stop Mini-batch Gradient Descent immediately when the validation error goes up?\n",
        "\n",
        "  Both Mini-batch and Stochastic gradient descent are not guaranteed to minimize the cost function after each step because they both have a degree of randomness built into them. Mini-bath randomly chooses which training examples to perform gradient descent on while Stochastic randomly chooses a single example. A better option is to save the model at regular intervals. When the model has not improved for a long time you can revert to the saved models."
      ]
    },
    {
      "cell_type": "markdown",
      "metadata": {
        "id": "W8MHbXoHHEbx"
      },
      "source": [
        "2. Can Gradient Descent get stuck in a local minimum when training a Logistic Regression model?\n",
        "\n",
        "  Gradient descent produces a convex-shaped graph that only has one global optimum. Therefore, it cannot get stuck in a local minimum."
      ]
    },
    {
      "cell_type": "markdown",
      "metadata": {
        "id": "FII3aLO3HEby"
      },
      "source": [
        "3. Do all Gradient Descent algorithms lead to the same model provided you let them run long enough?\n",
        "\n",
        "  No. The issue is that stochastic gradient descent and mini-batch gradient descent have randomness built into them. This means that they can find their way to nearby the global optimum, but they generally don't converge. One way to help them converge is to gradually reduce the learning rate hyperparameter."
      ]
    },
    {
      "cell_type": "markdown",
      "metadata": {
        "id": "KOKGqe0HHEbz"
      },
      "source": [
        "4. Suppose you want to classify pictures as outdoor/indoor and daytime/nighttime, should you implement two Logistic Regression classifiers or one Softmax Regression classifier?\n",
        "\n",
        "  Softmax regression can handle multiple output classes. In this scenario, we would have four output classes: Class-A (outdoor daytime), Class-B (outdoor nighttime), Class-C: (indoor daytime), and Class-D: (indoor nighttime). So, here we can implement one Softmax Regression classifier with four output nodes, and each node will be representing one of the classes.\n"
      ]
    },
    {
      "cell_type": "markdown",
      "metadata": {
        "id": "VHfHdGCP_n6Y"
      },
      "source": [
        "### Please answer the questions below to complete the experiment:\n",
        "\n",
        "\n"
      ]
    },
    {
      "cell_type": "code",
      "metadata": {
        "id": "VgSwVENIPcM6"
      },
      "source": [
        "#@title We are interested in reducing the number of false negatives. Which of the following metrics should we primarily look for? { run: \"auto\", form-width: \"500px\", display-mode: \"form\" }\n",
        "Answer = \"High Recall\" #@param [\"\", \"High Accuracy\", \"High Precision\", \"High Recall\"]"
      ],
      "execution_count": 54,
      "outputs": []
    },
    {
      "cell_type": "code",
      "metadata": {
        "id": "NMzKSbLIgFzQ"
      },
      "source": [
        "#@title How was the experiment? { run: \"auto\", form-width: \"500px\", display-mode: \"form\" }\n",
        "Complexity = \"Good and Challenging for me\" #@param [\"\",\"Too Simple, I am wasting time\", \"Good, But Not Challenging for me\", \"Good and Challenging for me\", \"Was Tough, but I did it\", \"Too Difficult for me\"]\n"
      ],
      "execution_count": 55,
      "outputs": []
    },
    {
      "cell_type": "code",
      "metadata": {
        "id": "DjcH1VWSFI2l"
      },
      "source": [
        "#@title If it was too easy, what more would you have liked to be added? If it was very difficult, what would you have liked to have been removed? { run: \"auto\", display-mode: \"form\" }\n",
        "Additional = \"It is good, but lack of time to go through all exercises\" #@param {type:\"string\"}\n"
      ],
      "execution_count": 56,
      "outputs": []
    },
    {
      "cell_type": "code",
      "metadata": {
        "id": "4VBk_4VTAxCM"
      },
      "source": [
        "#@title Can you identify the concepts from the lecture which this experiment covered? { run: \"auto\", vertical-output: true, display-mode: \"form\" }\n",
        "Concepts = \"Yes\" #@param [\"\",\"Yes\", \"No\"]\n"
      ],
      "execution_count": 57,
      "outputs": []
    },
    {
      "cell_type": "code",
      "metadata": {
        "id": "XH91cL1JWH7m"
      },
      "source": [
        "#@title  Text and image description/explanation and code comments within the experiment: { run: \"auto\", vertical-output: true, display-mode: \"form\" }\n",
        "Comments = \"Very Useful\" #@param [\"\",\"Very Useful\", \"Somewhat Useful\", \"Not Useful\", \"Didn't use\"]\n"
      ],
      "execution_count": 58,
      "outputs": []
    },
    {
      "cell_type": "code",
      "metadata": {
        "id": "z8xLqj7VWIKW"
      },
      "source": [
        "#@title Mentor Support: { run: \"auto\", vertical-output: true, display-mode: \"form\" }\n",
        "Mentor_support = \"Somewhat Useful\" #@param [\"\",\"Very Useful\", \"Somewhat Useful\", \"Not Useful\", \"Didn't use\"]\n"
      ],
      "execution_count": 59,
      "outputs": []
    },
    {
      "cell_type": "code",
      "metadata": {
        "id": "FzAZHt1zw-Y-",
        "cellView": "form",
        "colab": {
          "base_uri": "https://localhost:8080/"
        },
        "outputId": "f2cd2eda-be09-4c00-d67a-c1c4681c1cd1"
      },
      "source": [
        "#@title Run this cell to submit your notebook for grading { vertical-output: true }\n",
        "try:\n",
        "  if submission_id:\n",
        "      return_id = submit_notebook()\n",
        "      if return_id : submission_id = return_id\n",
        "  else:\n",
        "      print(\"Please complete the setup first.\")\n",
        "except NameError:\n",
        "  print (\"Please complete the setup first.\")"
      ],
      "execution_count": 60,
      "outputs": [
        {
          "output_type": "stream",
          "name": "stdout",
          "text": [
            "Your submission is successful.\n",
            "Ref Id: 2812\n",
            "Date of submission:  21 Jul 2024\n",
            "Time of submission:  14:52:50\n",
            "View your submissions: https://cds-iisc.talentsprint.com/notebook_submissions\n"
          ]
        }
      ]
    }
  ]
}