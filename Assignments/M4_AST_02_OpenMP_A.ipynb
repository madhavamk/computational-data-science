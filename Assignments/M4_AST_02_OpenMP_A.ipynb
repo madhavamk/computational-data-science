{
  "nbformat": 4,
  "nbformat_minor": 5,
  "metadata": {
    "kernelspec": {
      "display_name": "Python 3",
      "language": "python",
      "name": "python3"
    },
    "language_info": {
      "codemirror_mode": {
        "name": "ipython",
        "version": 3
      },
      "file_extension": ".py",
      "mimetype": "text/x-python",
      "name": "python",
      "nbconvert_exporter": "python",
      "pygments_lexer": "ipython3",
      "version": "3.6.7rc1"
    },
    "colab": {
      "provenance": [],
      "include_colab_link": true
    }
  },
  "cells": [
    {
      "cell_type": "markdown",
      "metadata": {
        "id": "view-in-github",
        "colab_type": "text"
      },
      "source": [
        "<a href=\"https://colab.research.google.com/github/madhavamk/computational-data-science/blob/master/Assignments/M4_AST_02_OpenMP_A.ipynb\" target=\"_parent\"><img src=\"https://colab.research.google.com/assets/colab-badge.svg\" alt=\"Open In Colab\"/></a>"
      ]
    },
    {
      "cell_type": "markdown",
      "metadata": {
        "id": "global-serum"
      },
      "source": [
        "# Advanced Certification Program in Computational Data Science\n",
        "## A program by IISc and TalentSprint\n",
        "### Assignment 2: OpenMP"
      ],
      "id": "global-serum"
    },
    {
      "cell_type": "markdown",
      "metadata": {
        "id": "lesbian-plaza"
      },
      "source": [
        "## Learning Objectives"
      ],
      "id": "lesbian-plaza"
    },
    {
      "cell_type": "markdown",
      "metadata": {
        "id": "identical-object"
      },
      "source": [
        "At the end of the experiment, you will be able to:\n",
        "\n",
        "* understand the parallelization in python\n",
        "* implement multiprocessing using OpenMP"
      ],
      "id": "identical-object"
    },
    {
      "cell_type": "code",
      "source": [
        "#@title Walkthrough Video\n",
        "from IPython.display import HTML\n",
        "HTML(\"\"\"<video width=\"420\" height=\"240\" controls>\n",
        "<source src=\"https://cdn.chn.talentsprint.com/content/OpenMP.mp4\">\n",
        "</video>\"\"\")"
      ],
      "metadata": {
        "cellView": "form",
        "id": "kMJXdCI8hLjL"
      },
      "id": "kMJXdCI8hLjL",
      "execution_count": null,
      "outputs": []
    },
    {
      "cell_type": "markdown",
      "metadata": {
        "id": "communist-baghdad"
      },
      "source": [
        "## Information"
      ],
      "id": "communist-baghdad"
    },
    {
      "cell_type": "markdown",
      "metadata": {
        "id": "large-terrorist"
      },
      "source": [
        "OpenMP is an Application Program Interface (API), jointly defined by a group of major computer hardware and software vendors. It provides a portable, scalable model for developers of shared memory parallel applications\n",
        "\n",
        "OpenMP is the easiest to use and requires the minimum learning overhead and  most key parallel design patterns can be learned with OpenMP.\n",
        "\n",
        "**Concurrency:** A condition of a system in which multiple\n",
        "tasks are logically active at one time.\n",
        "\n",
        "**Parallelism:** A condition of a system in which multiple\n",
        "tasks are actually active at one time.\n",
        "\n",
        "![link text](https://cdn.iisc.talentsprint.com/CDS/Images/OpenMP_Concurrent_Parallel.JPG)"
      ],
      "id": "large-terrorist"
    },
    {
      "cell_type": "markdown",
      "metadata": {
        "id": "BNLA8HiKxQhc"
      },
      "source": [
        "### Setup Steps:"
      ],
      "id": "BNLA8HiKxQhc"
    },
    {
      "cell_type": "code",
      "metadata": {
        "id": "2YzfoPvJDiTX"
      },
      "source": [
        "#@title Please enter your registration id to start: { run: \"auto\", display-mode: \"form\" }\n",
        "Id = \"\" #@param {type:\"string\"}"
      ],
      "id": "2YzfoPvJDiTX",
      "execution_count": 46,
      "outputs": []
    },
    {
      "cell_type": "code",
      "metadata": {
        "id": "AjoZJWGErxGf"
      },
      "source": [
        "#@title Please enter your password (your registered phone number) to continue: { run: \"auto\", display-mode: \"form\" }\n",
        "password = \"\" #@param {type:\"string\"}"
      ],
      "id": "AjoZJWGErxGf",
      "execution_count": 47,
      "outputs": []
    },
    {
      "cell_type": "code",
      "metadata": {
        "id": "WBPPuGmBlDIN",
        "cellView": "form",
        "outputId": "19376d43-a5b8-4653-85c6-245919783b85",
        "colab": {
          "base_uri": "https://localhost:8080/",
          "height": 34
        }
      },
      "source": [
        "#@title Run this cell to complete the setup for this Notebook\n",
        "from IPython import get_ipython\n",
        "\n",
        "ipython = get_ipython()\n",
        "\n",
        "notebook= \"M4_AST_02_OpenMP_A\" #name of the notebook\n",
        "\n",
        "def setup():\n",
        "#  ipython.magic(\"sx pip3 install torch\")\n",
        "    from IPython.display import HTML, display\n",
        "    display(HTML('<script src=\"https://dashboard.talentsprint.com/aiml/record_ip.html?traineeId={0}&recordId={1}\"></script>'.format(getId(),submission_id)))\n",
        "    print(\"Setup completed successfully\")\n",
        "    return\n",
        "\n",
        "def submit_notebook():\n",
        "    ipython.magic(\"notebook -e \"+ notebook + \".ipynb\")\n",
        "\n",
        "    import requests, json, base64, datetime\n",
        "\n",
        "    url = \"https://dashboard.talentsprint.com/xp/app/save_notebook_attempts\"\n",
        "    if not submission_id:\n",
        "      data = {\"id\" : getId(), \"notebook\" : notebook, \"mobile\" : getPassword()}\n",
        "      r = requests.post(url, data = data)\n",
        "      r = json.loads(r.text)\n",
        "\n",
        "      if r[\"status\"] == \"Success\":\n",
        "          return r[\"record_id\"]\n",
        "      elif \"err\" in r:\n",
        "        print(r[\"err\"])\n",
        "        return None\n",
        "      else:\n",
        "        print (\"Something is wrong, the notebook will not be submitted for grading\")\n",
        "        return None\n",
        "\n",
        "    elif getAnswer() and getComplexity() and getAdditional() and getConcepts() and getComments() and getMentorSupport():\n",
        "      f = open(notebook + \".ipynb\", \"rb\")\n",
        "      file_hash = base64.b64encode(f.read())\n",
        "\n",
        "      data = {\"complexity\" : Complexity, \"additional\" :Additional,\n",
        "              \"concepts\" : Concepts, \"record_id\" : submission_id,\n",
        "              \"answer\" : Answer, \"id\" : Id, \"file_hash\" : file_hash,\n",
        "              \"notebook\" : notebook,\n",
        "              \"feedback_experiments_input\" : Comments,\n",
        "              \"feedback_mentor_support\": Mentor_support}\n",
        "      r = requests.post(url, data = data)\n",
        "      r = json.loads(r.text)\n",
        "      if \"err\" in r:\n",
        "        print(r[\"err\"])\n",
        "        return None\n",
        "      else:\n",
        "        print(\"Your submission is successful.\")\n",
        "        print(\"Ref Id:\", submission_id)\n",
        "        print(\"Date of submission: \", r[\"date\"])\n",
        "        print(\"Time of submission: \", r[\"time\"])\n",
        "        print(\"View your submissions: https://cds-iisc.talentsprint.com/notebook_submissions\")\n",
        "        #print(\"For any queries/discrepancies, please connect with mentors through the chat icon in LMS dashboard.\")\n",
        "        return submission_id\n",
        "    else: submission_id\n",
        "\n",
        "\n",
        "def getAdditional():\n",
        "  try:\n",
        "    if not Additional:\n",
        "      raise NameError\n",
        "    else:\n",
        "      return Additional\n",
        "  except NameError:\n",
        "    print (\"Please answer Additional Question\")\n",
        "    return None\n",
        "\n",
        "def getComplexity():\n",
        "  try:\n",
        "    if not Complexity:\n",
        "      raise NameError\n",
        "    else:\n",
        "      return Complexity\n",
        "  except NameError:\n",
        "    print (\"Please answer Complexity Question\")\n",
        "    return None\n",
        "\n",
        "def getConcepts():\n",
        "  try:\n",
        "    if not Concepts:\n",
        "      raise NameError\n",
        "    else:\n",
        "      return Concepts\n",
        "  except NameError:\n",
        "    print (\"Please answer Concepts Question\")\n",
        "    return None\n",
        "\n",
        "\n",
        "# def getWalkthrough():\n",
        "#   try:\n",
        "#     if not Walkthrough:\n",
        "#       raise NameError\n",
        "#     else:\n",
        "#       return Walkthrough\n",
        "#   except NameError:\n",
        "#     print (\"Please answer Walkthrough Question\")\n",
        "#     return None\n",
        "\n",
        "def getComments():\n",
        "  try:\n",
        "    if not Comments:\n",
        "      raise NameError\n",
        "    else:\n",
        "      return Comments\n",
        "  except NameError:\n",
        "    print (\"Please answer Comments Question\")\n",
        "    return None\n",
        "\n",
        "\n",
        "def getMentorSupport():\n",
        "  try:\n",
        "    if not Mentor_support:\n",
        "      raise NameError\n",
        "    else:\n",
        "      return Mentor_support\n",
        "  except NameError:\n",
        "    print (\"Please answer Mentor support Question\")\n",
        "    return None\n",
        "\n",
        "def getAnswer():\n",
        "  try:\n",
        "    if not Answer:\n",
        "      raise NameError\n",
        "    else:\n",
        "      return Answer\n",
        "  except NameError:\n",
        "    print (\"Please answer Question\")\n",
        "    return None\n",
        "\n",
        "\n",
        "def getId():\n",
        "  try:\n",
        "    return Id if Id else None\n",
        "  except NameError:\n",
        "    return None\n",
        "\n",
        "def getPassword():\n",
        "  try:\n",
        "    return password if password else None\n",
        "  except NameError:\n",
        "    return None\n",
        "\n",
        "submission_id = None\n",
        "### Setup\n",
        "if getPassword() and getId():\n",
        "  submission_id = submit_notebook()\n",
        "  if submission_id:\n",
        "    setup()\n",
        "else:\n",
        "  print (\"Please complete Id and Password cells before running setup\")\n",
        "\n"
      ],
      "id": "WBPPuGmBlDIN",
      "execution_count": 44,
      "outputs": [
        {
          "output_type": "display_data",
          "data": {
            "text/plain": [
              "<IPython.core.display.HTML object>"
            ],
            "text/html": [
              "<script src=\"https://dashboard.talentsprint.com/aiml/record_ip.html?traineeId=2305750&recordId=4445\"></script>"
            ]
          },
          "metadata": {}
        },
        {
          "output_type": "stream",
          "name": "stdout",
          "text": [
            "Setup completed successfully\n"
          ]
        }
      ]
    },
    {
      "cell_type": "markdown",
      "metadata": {
        "id": "beneficial-alexander"
      },
      "source": [
        "#### Importing required packages"
      ],
      "id": "beneficial-alexander"
    },
    {
      "cell_type": "code",
      "metadata": {
        "id": "critical-telephone"
      },
      "source": [
        "import concurrent.futures\n",
        "# The concurrent.futures module provides a high-level interface for asynchronously executing callables.\n",
        "import time\n",
        "from multiprocessing import Pool\n",
        "# Pool is for parallelizing the execution of a function across multiple input values\n",
        "import numpy as np"
      ],
      "id": "critical-telephone",
      "execution_count": 3,
      "outputs": []
    },
    {
      "cell_type": "markdown",
      "metadata": {
        "id": "metropolitan-villa"
      },
      "source": [
        "Let us derive a function that performs an action with sleep time and execute it with concurrent pool executors"
      ],
      "id": "metropolitan-villa"
    },
    {
      "cell_type": "code",
      "metadata": {
        "id": "approved-retrieval",
        "outputId": "a017a8f3-70bf-45e6-ba49-e3a08b08513c",
        "colab": {
          "base_uri": "https://localhost:8080/"
        }
      },
      "source": [
        "start = time.perf_counter() # return time as nanoseconds\n",
        "\n",
        "# function to delay the execution of a program\n",
        "def do_something(seconds):\n",
        "    # YOUR CODE HERE\n",
        "    print(f'Sleeping {seconds} second(s)...')\n",
        "    time.sleep(seconds)\n",
        "    return f'Done Sleeping...{seconds}'\n",
        "\n",
        "# YOUR CODE HERE to calculate the time\n",
        "end = time.perf_counter()\n",
        "\n",
        "# chops iterables into a number of chunks which it submits to the pool as separate tasks.\n",
        "with concurrent.futures.ProcessPoolExecutor() as executor:\n",
        "    secs = [5, 4, 3, 2, 1]\n",
        "    # YOUR CODE HERE to call the do_something()\n",
        "    results = executor.map(do_something,secs)\n",
        "\n",
        "# YOUR CODE HERE to calculate the time\n",
        "print(end-start)"
      ],
      "id": "approved-retrieval",
      "execution_count": 5,
      "outputs": [
        {
          "output_type": "stream",
          "name": "stdout",
          "text": [
            "Sleeping 4 second(s)...Sleeping 5 second(s)...\n",
            "\n",
            "Sleeping 3 second(s)...\n",
            "Sleeping 2 second(s)...\n",
            "Sleeping 1 second(s)...\n",
            "0.00018611500001952663\n"
          ]
        }
      ]
    },
    {
      "cell_type": "markdown",
      "metadata": {
        "id": "turkish-christopher"
      },
      "source": [
        "### Parallelization in Python"
      ],
      "id": "turkish-christopher"
    },
    {
      "cell_type": "markdown",
      "metadata": {
        "id": "collected-point"
      },
      "source": [
        "Python does not thread very well. Specifically, Python has a very nasty drawback known as a Global Interpreter Lock (GIL). The GIL ensures that only one compute thread can run at a time. This makes multithreaded processing very difficult. Instead, the best way to go about doing things is to use multiple independent processes to perform the computations. This method skips the GIL, as each individual process has it’s own GIL that does not block the others. This is typically done using the multiprocessing module."
      ],
      "id": "collected-point"
    },
    {
      "cell_type": "markdown",
      "metadata": {
        "id": "missing-tribune"
      },
      "source": [
        "The pool object gives us a set of parallel workers we can use to parallelize our calculations. In particular, there is a map function (with identical syntax to the map() function used earlier), that runs a workflow in parallel.\n",
        "\n",
        "Let’s try map() out with a test function that just runs sleep."
      ],
      "id": "missing-tribune"
    },
    {
      "cell_type": "code",
      "metadata": {
        "id": "familiar-occasion",
        "outputId": "cb230dbe-97dd-4ac3-96d1-f6e407ffc565",
        "colab": {
          "base_uri": "https://localhost:8080/"
        }
      },
      "source": [
        "# function for time sleep with 0.1 sec\n",
        "def sleeping(arg):\n",
        "    # YOUR CODE HERE\n",
        "    time.sleep(0.1)\n",
        "    return arg\n",
        "\n",
        "# YOUR CODE HERE\n",
        "%timeit list(map(sleeping, range(24)))"
      ],
      "id": "familiar-occasion",
      "execution_count": 9,
      "outputs": [
        {
          "output_type": "stream",
          "name": "stdout",
          "text": [
            "2.4 s ± 258 µs per loop (mean ± std. dev. of 7 runs, 1 loop each)\n"
          ]
        }
      ]
    },
    {
      "cell_type": "markdown",
      "metadata": {
        "id": "visible-campus"
      },
      "source": [
        "%timeit is an ipython magic function, which can be used to time a particular piece of code (A single execution statement, or a single method).\n",
        "\n",
        "To know more about `%timeit` click [here](https://ipython.org/ipython-doc/dev/interactive/magics.html#magic-timeit)"
      ],
      "id": "visible-campus"
    },
    {
      "cell_type": "markdown",
      "metadata": {
        "id": "consecutive-competition"
      },
      "source": [
        "Now let’s try it in parallel:"
      ],
      "id": "consecutive-competition"
    },
    {
      "cell_type": "code",
      "metadata": {
        "id": "Ynqc2e_dGZMU"
      },
      "source": [
        "pool = Pool(4)"
      ],
      "id": "Ynqc2e_dGZMU",
      "execution_count": 10,
      "outputs": []
    },
    {
      "cell_type": "code",
      "metadata": {
        "id": "processed-delicious",
        "outputId": "ea428804-320f-4f40-8a25-e0c6a054dc20",
        "colab": {
          "base_uri": "https://localhost:8080/"
        }
      },
      "source": [
        "%timeit pool.map(sleeping, range(24))"
      ],
      "id": "processed-delicious",
      "execution_count": 11,
      "outputs": [
        {
          "output_type": "stream",
          "name": "stdout",
          "text": [
            "603 ms ± 946 µs per loop (mean ± std. dev. of 7 runs, 1 loop each)\n"
          ]
        }
      ]
    },
    {
      "cell_type": "markdown",
      "metadata": {
        "id": "edcp2JMPFUqB"
      },
      "source": [
        "The multiprocessing module has a major limitation: it only accepts certain functions, and in certain situations. For instance any class methods, lambdas, or functions defined in __main__ won'twork. This is due to the way Python “pickles” (read: serializes) data and sends it to the worker processes. “Pickling” simply can’t handle a lot of different types of Python objects.\n",
        "\n",
        "Fortunately, there is a fork of the multiprocessing module called *multiprocess* that works just fine. *multiprocess* uses dill instead of pickle to serialize Python objects (read: send your data and functions to the Python workers), and does not suffer the same issues. Usage is identical:"
      ],
      "id": "edcp2JMPFUqB"
    },
    {
      "cell_type": "code",
      "source": [
        "!pip install multiprocess\n",
        "from multiprocess import Pool"
      ],
      "metadata": {
        "id": "gNGLLH5Fbd_I",
        "outputId": "fd555c36-6637-45ea-9be4-5a2f159f9c7c",
        "colab": {
          "base_uri": "https://localhost:8080/"
        }
      },
      "id": "gNGLLH5Fbd_I",
      "execution_count": 12,
      "outputs": [
        {
          "output_type": "stream",
          "name": "stdout",
          "text": [
            "Collecting multiprocess\n",
            "  Downloading multiprocess-0.70.16-py310-none-any.whl.metadata (7.2 kB)\n",
            "Collecting dill>=0.3.8 (from multiprocess)\n",
            "  Downloading dill-0.3.8-py3-none-any.whl.metadata (10 kB)\n",
            "Downloading multiprocess-0.70.16-py310-none-any.whl (134 kB)\n",
            "\u001b[2K   \u001b[90m━━━━━━━━━━━━━━━━━━━━━━━━━━━━━━━━━━━━━━━━\u001b[0m \u001b[32m134.8/134.8 kB\u001b[0m \u001b[31m6.1 MB/s\u001b[0m eta \u001b[36m0:00:00\u001b[0m\n",
            "\u001b[?25hDownloading dill-0.3.8-py3-none-any.whl (116 kB)\n",
            "\u001b[2K   \u001b[90m━━━━━━━━━━━━━━━━━━━━━━━━━━━━━━━━━━━━━━━━\u001b[0m \u001b[32m116.3/116.3 kB\u001b[0m \u001b[31m9.8 MB/s\u001b[0m eta \u001b[36m0:00:00\u001b[0m\n",
            "\u001b[?25hInstalling collected packages: dill, multiprocess\n",
            "Successfully installed dill-0.3.8 multiprocess-0.70.16\n"
          ]
        }
      ]
    },
    {
      "cell_type": "code",
      "metadata": {
        "id": "capable-grade",
        "outputId": "4f7b1e78-2c8e-4640-b28d-b9075e68fd47",
        "colab": {
          "base_uri": "https://localhost:8080/"
        }
      },
      "source": [
        "# shut down the old workers\n",
        "pool.close()\n",
        "\n",
        "# YOUR CODE HERE\n",
        "pool = Pool(4)\n",
        "%timeit pool.map(lambda x:time.sleep(0.1), range(24))\n",
        "\n",
        "pool.close()"
      ],
      "id": "capable-grade",
      "execution_count": 15,
      "outputs": [
        {
          "output_type": "stream",
          "name": "stdout",
          "text": [
            "605 ms ± 567 µs per loop (mean ± std. dev. of 7 runs, 1 loop each)\n"
          ]
        }
      ]
    },
    {
      "cell_type": "markdown",
      "metadata": {
        "id": "running-regression"
      },
      "source": [
        "This is a general purpose parallelization recipe that we can use for your Python projects."
      ],
      "id": "running-regression"
    },
    {
      "cell_type": "code",
      "metadata": {
        "id": "lightweight-representative"
      },
      "source": [
        "# function to square the number\n",
        "def square(x):\n",
        "    # YOUR CODE HERE\n",
        "    return x*x"
      ],
      "id": "lightweight-representative",
      "execution_count": 16,
      "outputs": []
    },
    {
      "cell_type": "code",
      "metadata": {
        "id": "amber-commodity",
        "outputId": "c6ca630b-a430-44ad-9619-4c9a986d50be",
        "colab": {
          "base_uri": "https://localhost:8080/"
        }
      },
      "source": [
        "# make sure to always use multiprocess\n",
        "from multiprocess import Pool\n",
        "\n",
        "number_of_cores = 8\n",
        "# start your parallel workers at the beginning of your script\n",
        "pool = Pool(number_of_cores)\n",
        "\n",
        "start = time.perf_counter()\n",
        "\n",
        "# execute a computation(s) in parallel\n",
        "# YOUR CODE HERE\n",
        "pool.map(square,range(100))\n",
        "\n",
        "# shut down the old workers\n",
        "pool.close()\n",
        "\n",
        "end = time.perf_counter()\n",
        "\n",
        "# YOUR CODE HERE to calculate the time\n",
        "print(end-start)\n",
        "\n",
        "# turn off your parallel workers at the end of your script\n",
        "# YOUR CODE HERE\n",
        "pool.terminate()"
      ],
      "id": "amber-commodity",
      "execution_count": 17,
      "outputs": [
        {
          "output_type": "stream",
          "name": "stdout",
          "text": [
            "0.03124112700004389\n"
          ]
        }
      ]
    },
    {
      "cell_type": "markdown",
      "metadata": {
        "id": "stunning-fighter"
      },
      "source": [
        "### MultiProcessing in Python using openMP"
      ],
      "id": "stunning-fighter"
    },
    {
      "cell_type": "markdown",
      "metadata": {
        "id": "advisory-patent"
      },
      "source": [
        "#### OpenMP\n",
        "OpenMP employs a few principles in its programming model. The first is that everything takes place in threads. The second is the fork-join model, which comprises parallel regions in which one or more threads can be used\n",
        "\n",
        "![link text](https://cdn.iisc.talentsprint.com/CDS/Images/Fork_join.png)\n",
        "\n",
        "Above figure depicts the illustration of the fork–join paradigm, in which three regions of the program permit parallel execution of the variously colored blocks. Sequential execution is displayed on the top, while its equivalent fork–join execution is on the bottom."
      ],
      "id": "advisory-patent"
    },
    {
      "cell_type": "markdown",
      "metadata": {
        "id": "increased-fundamental"
      },
      "source": [
        "#### Pymp\n",
        "Because the goal of Pymp is to bring OpenMP-like functionality to Python, Pymp and Python should naturally share some concepts. A single master thread forks into multiple threads, sharing data and then synchronizing (joining) and destroying the threads.\n",
        "\n",
        "As with OpenMP applications, when Pymp Python code hits a parallel region, processes – termed child processes – are forked and are in a state that is nearly the same as the “master process.” Note that these are forked processes and not threads, as is typical with OpenMP applications. As for the shared memory, according to the Pymp website, “… the memory is not copied, but referenced. Only when a process writes into a part of the memory [does] it gets its own copy of the corresponding memory region. This keeps the processing overhead low (but of course not as low as for OpenMP threads).”"
      ],
      "id": "increased-fundamental"
    },
    {
      "cell_type": "code",
      "metadata": {
        "id": "educational-interim",
        "outputId": "f24ad09b-e4bf-4489-9d71-ce75ce1fefa9",
        "colab": {
          "base_uri": "https://localhost:8080/"
        }
      },
      "source": [
        "# install the pymp\n",
        "!pip -qq install pymp-pypi"
      ],
      "id": "educational-interim",
      "execution_count": 18,
      "outputs": [
        {
          "output_type": "stream",
          "name": "stdout",
          "text": [
            "  Preparing metadata (setup.py) ... \u001b[?25l\u001b[?25hdone\n",
            "  Building wheel for pymp-pypi (setup.py) ... \u001b[?25l\u001b[?25hdone\n"
          ]
        }
      ]
    },
    {
      "cell_type": "markdown",
      "metadata": {
        "id": "demonstrated-chicken"
      },
      "source": [
        "To keep things simple, this is a serial code with a single array."
      ],
      "id": "demonstrated-chicken"
    },
    {
      "cell_type": "code",
      "metadata": {
        "id": "listed-basement"
      },
      "source": [
        "# creating an array of zeros\n",
        "ex_array = np.zeros((100,), dtype='uint8')\n",
        "for index in range(0, 100):\n",
        "    # assigning 1\n",
        "    # YOUR CODE HERE\n",
        "    ex_array[index] = 1"
      ],
      "id": "listed-basement",
      "execution_count": 19,
      "outputs": []
    },
    {
      "cell_type": "markdown",
      "metadata": {
        "id": "universal-royalty"
      },
      "source": [
        "Let's start with Pymp version of the same code by importing the pymp"
      ],
      "id": "universal-royalty"
    },
    {
      "cell_type": "code",
      "metadata": {
        "id": "professional-liquid"
      },
      "source": [
        "import pymp"
      ],
      "id": "professional-liquid",
      "execution_count": 20,
      "outputs": []
    },
    {
      "cell_type": "code",
      "metadata": {
        "id": "contemporary-quarter"
      },
      "source": [
        "ex_array = pymp.shared.array((100,), dtype='uint8')\n",
        "with pymp.Parallel(4) as p:\n",
        "    for index in p.range(0, 100):\n",
        "        # YOUR CODE HERE\n",
        "        ex_array[index] = 1"
      ],
      "id": "contemporary-quarter",
      "execution_count": 22,
      "outputs": []
    },
    {
      "cell_type": "markdown",
      "metadata": {
        "id": "tamil-charter"
      },
      "source": [
        "#### OpenMP variables\n",
        "\n",
        "Every parallel context provides its number of threads and the current thread's thread_num in the same way OpenMP does:"
      ],
      "id": "tamil-charter"
    },
    {
      "cell_type": "code",
      "metadata": {
        "id": "double-hypothesis",
        "outputId": "c047b1fc-635b-48fb-9781-270946d8a51c",
        "colab": {
          "base_uri": "https://localhost:8080/"
        }
      },
      "source": [
        "with pymp.Parallel(4) as p:\n",
        "    # YOUR CODE HERE for printing the threads\n",
        "    print(p.num_threads,p.thread_num)"
      ],
      "id": "double-hypothesis",
      "execution_count": 23,
      "outputs": [
        {
          "output_type": "stream",
          "name": "stdout",
          "text": [
            "4 441  \n",
            "2\n",
            "3\n",
            "4 0\n"
          ]
        }
      ]
    },
    {
      "cell_type": "markdown",
      "metadata": {
        "id": "lined-indonesia"
      },
      "source": [
        "The original thread entering the parallel context always has `thread_num` 0"
      ],
      "id": "lined-indonesia"
    },
    {
      "cell_type": "markdown",
      "metadata": {
        "id": "sapphire-metadata"
      },
      "source": [
        "#### Variable scopes\n",
        "\n",
        "The only implemented variable scopes are first private, shared and private.\n",
        "\n",
        "- All variables that are declared before the `pymp.Parallel` call are implicitly first private\n",
        "- All variables from the `pymp.shared` module are shared\n",
        "- All variables created within a `pymp.Parallel` context are private.\n",
        "\n",
        "The package `pymp.shared` provides a numpy array wrapper accepting the standard datatype strings, as well as shared list, dict, queue, lock and rlock objects wrapped from multiprocessing. High performance shared memory (ctypes) data structues are array, lock and rlock, the other data structures are synchronized via a *multiprocessing.Manager* and hence a little slower.\n",
        "\n",
        "All data structures must be synchronized manually, if required, by using a lock. The parallel context offers one for your convenience:"
      ],
      "id": "sapphire-metadata"
    },
    {
      "cell_type": "code",
      "metadata": {
        "id": "refined-villa",
        "outputId": "b53a9087-9952-4b65-ac59-53c6f4b679c0",
        "colab": {
          "base_uri": "https://localhost:8080/"
        }
      },
      "source": [
        "# int array\n",
        "incremental_array = pymp.shared.array((1,), dtype='uint8')\n",
        "# list\n",
        "no_of_threads = pymp.shared.list()\n",
        "print(\"no_of_threads: \",no_of_threads)\n",
        "with pymp.Parallel(4) as p:\n",
        "    # YOUR CODE HERE\n",
        "    for index in p.range(0, 100):\n",
        "        with p.lock:\n",
        "            no_of_threads.append(p.thread_num)\n",
        "            incremental_array[0] += 1\n",
        "print(incremental_array)\n",
        "print(no_of_threads)\n",
        "\n",
        "# check the no.of threads\n",
        "set([i for i in no_of_threads])"
      ],
      "id": "refined-villa",
      "execution_count": 26,
      "outputs": [
        {
          "output_type": "stream",
          "name": "stdout",
          "text": [
            "no_of_threads:  []\n",
            "[100]\n",
            "[1, 1, 1, 1, 1, 1, 1, 1, 1, 1, 1, 1, 1, 1, 1, 1, 1, 1, 1, 1, 1, 1, 1, 1, 1, 0, 0, 0, 0, 0, 0, 0, 0, 0, 0, 0, 0, 0, 0, 0, 0, 0, 0, 3, 3, 3, 3, 3, 3, 3, 3, 3, 3, 3, 3, 3, 3, 3, 3, 3, 3, 3, 3, 3, 3, 3, 3, 3, 2, 2, 2, 2, 2, 2, 2, 2, 2, 2, 2, 2, 2, 2, 2, 2, 2, 2, 2, 2, 2, 2, 2, 2, 2, 0, 0, 0, 0, 0, 0, 0]\n"
          ]
        },
        {
          "output_type": "execute_result",
          "data": {
            "text/plain": [
              "{0, 1, 2, 3}"
            ]
          },
          "metadata": {},
          "execution_count": 26
        }
      ]
    },
    {
      "cell_type": "markdown",
      "metadata": {
        "id": "existing-imaging"
      },
      "source": [
        "#### Nested loops\n",
        "\n",
        "When `pymp.config.nested is True`, it is possible to nest parallel contexts with the expected semantics:\n",
        "\n",
        "**Uncomment the code below and execute the try except block again**"
      ],
      "id": "existing-imaging"
    },
    {
      "cell_type": "code",
      "metadata": {
        "id": "comfortable-bunny"
      },
      "source": [
        "pymp.config.nested = True"
      ],
      "id": "comfortable-bunny",
      "execution_count": 29,
      "outputs": []
    },
    {
      "cell_type": "code",
      "metadata": {
        "id": "indonesian-practitioner",
        "outputId": "575b3d92-5d49-485e-a6a9-d1aa5316b895",
        "colab": {
          "base_uri": "https://localhost:8080/"
        }
      },
      "source": [
        "try:\n",
        "    with pymp.Parallel(2) as p1:\n",
        "        with pymp.Parallel(2) as p2:\n",
        "            p.print(p1.thread_num, p2.thread_num)\n",
        "except:\n",
        "    print(\"Its an Error!\")"
      ],
      "id": "indonesian-practitioner",
      "execution_count": 30,
      "outputs": [
        {
          "output_type": "stream",
          "name": "stdout",
          "text": [
            "0 0\n",
            "0 1\n",
            "1 0\n",
            "1 1\n"
          ]
        }
      ]
    },
    {
      "cell_type": "markdown",
      "metadata": {
        "id": "e6nP61C1FkKJ"
      },
      "source": [
        "#### Laplace Solver Example\n",
        "\n",
        "The common [Laplace solver](https://www.codeproject.com/Articles/1087025/Using-Python-to-Solve-Computational-Physics-Proble), is a little more detailed. The code is definitely not the most efficient, it uses loops\n",
        "\n",
        "**Note:** Laplace solver is used as an example to calculate the computation time"
      ],
      "id": "e6nP61C1FkKJ"
    },
    {
      "cell_type": "code",
      "metadata": {
        "id": "heated-blake"
      },
      "source": [
        "nx = 1201\n",
        "ny = 1201\n",
        "\n",
        "# Solution and previous solution arrays\n",
        "sol = np.zeros((nx,ny))\n",
        "\n",
        "# make a copy of an array\n",
        "soln = sol.copy()\n",
        "\n",
        "for j in range(0,ny-1):\n",
        "    sol[0,j] = 10.0\n",
        "    sol[nx-1,j] = 1.0\n",
        "\n",
        "for i in range(0,nx-1):\n",
        "    sol[i,0] = 0.0\n",
        "    sol[i,ny-1] = 0.0"
      ],
      "id": "heated-blake",
      "execution_count": 32,
      "outputs": []
    },
    {
      "cell_type": "code",
      "metadata": {
        "id": "z7rznH9EHL1O",
        "outputId": "8873cde0-3161-43f4-e946-5f9929af0aa1",
        "colab": {
          "base_uri": "https://localhost:8080/"
        }
      },
      "source": [
        "# Iterate\n",
        "start_time = time.perf_counter()\n",
        "for kloop in range(1,10):\n",
        "    soln = sol.copy()\n",
        "    for i in range(1,nx-1):\n",
        "        for j in range (1,ny-1):\n",
        "            sol[i,j] = 0.25 * (soln[i,j-1] + soln[i,j+1] + soln[i-1,j] + soln[i+1,j])\n",
        "\n",
        "# YOUR CODE HERE to calculate the time\n",
        "print(time.perf_counter()-start_time)"
      ],
      "id": "z7rznH9EHL1O",
      "execution_count": 33,
      "outputs": [
        {
          "output_type": "stream",
          "name": "stdout",
          "text": [
            "22.744525215000067\n"
          ]
        }
      ]
    },
    {
      "cell_type": "markdown",
      "metadata": {
        "id": "zua-67tCGQ-E"
      },
      "source": [
        "Same Implementation of laplace solver using Pymp"
      ],
      "id": "zua-67tCGQ-E"
    },
    {
      "cell_type": "code",
      "metadata": {
        "id": "rural-protocol",
        "outputId": "2871eb2d-7989-4665-a29e-1734a7830bfe",
        "colab": {
          "base_uri": "https://localhost:8080/"
        }
      },
      "source": [
        "# Solution and previous solution arrays\n",
        "sol = pymp.shared.array((nx,ny))\n",
        "soln = pymp.shared.array((nx,ny))\n",
        "\n",
        "for j in range(0,ny-1):\n",
        "    sol[0,j] = 10.0\n",
        "    sol[nx-1,j] = 1.0\n",
        "\n",
        "for i in range(0,nx-1):\n",
        "    sol[i,0] = 0.0\n",
        "    sol[i,ny-1] = 0.0\n",
        "\n",
        "# Iterate\n",
        "start_time = time.perf_counter()\n",
        "with pymp.Parallel(6) as p:\n",
        "    # YOUR CODE HERE to implement the same code as above\n",
        "    for kloop in range(1,10):\n",
        "        soln = sol.copy()\n",
        "        for i in p.range(1,nx-1):\n",
        "            for j in p.range (1,ny-1):\n",
        "                sol[i,j] = 0.25 * (soln[i,j-1] + soln[i,j+1] + soln[i-1,j] + soln[i+1,j])\n",
        "\n",
        "end_time = time.perf_counter()\n",
        "print('Elapsed wall clock time = %g seconds.' % (end_time-start_time) )\n",
        "\n",
        "# YOUR CODE HERE to calculate the time"
      ],
      "id": "rural-protocol",
      "execution_count": 34,
      "outputs": [
        {
          "output_type": "stream",
          "name": "stdout",
          "text": [
            "Elapsed wall clock time = 4.80002 seconds.\n"
          ]
        }
      ]
    },
    {
      "cell_type": "markdown",
      "metadata": {
        "id": "VHfHdGCP_n6Y"
      },
      "source": [
        "### Please answer the questions below to complete the experiment:\n",
        "\n",
        "\n"
      ],
      "id": "VHfHdGCP_n6Y"
    },
    {
      "cell_type": "code",
      "metadata": {
        "id": "pu8tMGLVG6XR"
      },
      "source": [
        "# @title Complete the following statement by selecting the most appropriate option: Fork-join model is a parallel design pattern in which { run: \"auto\", form-width: \"500px\", display-mode: \"form\" }\n",
        "Answer = \"the execution branches off in parallel at designated points in the program and merges at a subsequent point to resume sequential execution\" #@param [\"\",\"all the parallel processes stack one over the other and sequentially merge at the centre of the long stack\",\"the parallel executions run in series as separate non sequential processes and merge at the end\",\"the execution branches off in parallel at designated points in the program and merges at a subsequent point to resume sequential execution\"]"
      ],
      "id": "pu8tMGLVG6XR",
      "execution_count": 36,
      "outputs": []
    },
    {
      "cell_type": "code",
      "metadata": {
        "id": "NMzKSbLIgFzQ"
      },
      "source": [
        "#@title How was the experiment? { run: \"auto\", form-width: \"500px\", display-mode: \"form\" }\n",
        "Complexity = \"Good and Challenging for me\" #@param [\"\",\"Too Simple, I am wasting time\", \"Good, But Not Challenging for me\", \"Good and Challenging for me\", \"Was Tough, but I did it\", \"Too Difficult for me\"]\n"
      ],
      "id": "NMzKSbLIgFzQ",
      "execution_count": 37,
      "outputs": []
    },
    {
      "cell_type": "code",
      "metadata": {
        "id": "DjcH1VWSFI2l"
      },
      "source": [
        "#@title If it was too easy, what more would you have liked to be added? If it was very difficult, what would you have liked to have been removed? { run: \"auto\", display-mode: \"form\" }\n",
        "Additional = \"NA\" #@param {type:\"string\"}\n"
      ],
      "id": "DjcH1VWSFI2l",
      "execution_count": 38,
      "outputs": []
    },
    {
      "cell_type": "code",
      "metadata": {
        "id": "4VBk_4VTAxCM"
      },
      "source": [
        "#@title Can you identify the concepts from the lecture which this experiment covered? { run: \"auto\", vertical-output: true, display-mode: \"form\" }\n",
        "Concepts = \"Yes\" #@param [\"\",\"Yes\", \"No\"]\n"
      ],
      "id": "4VBk_4VTAxCM",
      "execution_count": 39,
      "outputs": []
    },
    {
      "cell_type": "code",
      "metadata": {
        "id": "XH91cL1JWH7m"
      },
      "source": [
        "#@title  Text and image description/explanation and code comments within the experiment: { run: \"auto\", vertical-output: true, display-mode: \"form\" }\n",
        "Comments = \"Very Useful\" #@param [\"\",\"Very Useful\", \"Somewhat Useful\", \"Not Useful\", \"Didn't use\"]\n"
      ],
      "id": "XH91cL1JWH7m",
      "execution_count": 40,
      "outputs": []
    },
    {
      "cell_type": "code",
      "metadata": {
        "id": "z8xLqj7VWIKW"
      },
      "source": [
        "#@title Mentor Support: { run: \"auto\", vertical-output: true, display-mode: \"form\" }\n",
        "Mentor_support = \"Very Useful\" #@param [\"\",\"Very Useful\", \"Somewhat Useful\", \"Not Useful\", \"Didn't use\"]\n"
      ],
      "id": "z8xLqj7VWIKW",
      "execution_count": 41,
      "outputs": []
    },
    {
      "cell_type": "code",
      "metadata": {
        "id": "FzAZHt1zw-Y-",
        "cellView": "form",
        "outputId": "4614c1c4-475e-45a3-c0a1-8ce2c587a689",
        "colab": {
          "base_uri": "https://localhost:8080/"
        }
      },
      "source": [
        "#@title Run this cell to submit your notebook for grading { vertical-output: true }\n",
        "try:\n",
        "  if submission_id:\n",
        "      return_id = submit_notebook()\n",
        "      if return_id : submission_id = return_id\n",
        "  else:\n",
        "      print(\"Please complete the setup first.\")\n",
        "except NameError:\n",
        "  print (\"Please complete the setup first.\")"
      ],
      "id": "FzAZHt1zw-Y-",
      "execution_count": 45,
      "outputs": [
        {
          "output_type": "stream",
          "name": "stdout",
          "text": [
            "Your submission is successful.\n",
            "Ref Id: 4445\n",
            "Date of submission:  15 Sep 2024\n",
            "Time of submission:  12:02:36\n",
            "View your submissions: https://cds-iisc.talentsprint.com/notebook_submissions\n"
          ]
        }
      ]
    }
  ]
}