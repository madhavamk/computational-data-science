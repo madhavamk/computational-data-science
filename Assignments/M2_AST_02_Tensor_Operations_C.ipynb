{
  "nbformat": 4,
  "nbformat_minor": 0,
  "metadata": {
    "colab": {
      "provenance": [],
      "include_colab_link": true
    },
    "kernelspec": {
      "display_name": "Python 3",
      "language": "python",
      "name": "python3"
    },
    "language_info": {
      "codemirror_mode": {
        "name": "ipython",
        "version": 3
      },
      "file_extension": ".py",
      "mimetype": "text/x-python",
      "name": "python",
      "nbconvert_exporter": "python",
      "pygments_lexer": "ipython3",
      "version": "3.7.1"
    }
  },
  "cells": [
    {
      "cell_type": "markdown",
      "metadata": {
        "id": "view-in-github",
        "colab_type": "text"
      },
      "source": [
        "<a href=\"https://colab.research.google.com/github/madhavamk/computational-data-science/blob/master/Assignments/M2_AST_02_Tensor_Operations_C.ipynb\" target=\"_parent\"><img src=\"https://colab.research.google.com/assets/colab-badge.svg\" alt=\"Open In Colab\"/></a>"
      ]
    },
    {
      "cell_type": "markdown",
      "metadata": {
        "id": "xNe7dVP19Pb8"
      },
      "source": [
        "# Advanced Certification Program in Computational Data Science\n",
        "## A program by IISc and TalentSprint\n",
        "### Assignment 2: Tensor Operations"
      ]
    },
    {
      "cell_type": "markdown",
      "metadata": {
        "id": "jDWUyCYxQRAK"
      },
      "source": [
        "## Learning Objectives"
      ]
    },
    {
      "cell_type": "markdown",
      "metadata": {
        "id": "-vPeurvKNAEz"
      },
      "source": [
        "At the end of the experiment, you will be able to\n",
        "* understand Tensors and their application\n",
        "* define/form Tensors\n",
        "* perform different operations of Tensor using NumPy and Tensorflow library"
      ]
    },
    {
      "cell_type": "code",
      "source": [
        "#@title Walkthrough Video\n",
        "from IPython.display import HTML\n",
        "HTML(\"\"\"<video width=\"420\" height=\"240\" controls>\n",
        "<source src=\"https://cdn.chn.talentsprint.com/content/Tensor_Operations.mp4\">\n",
        "</video>\"\"\")"
      ],
      "metadata": {
        "id": "Fh-moZwTDkDN",
        "cellView": "form",
        "outputId": "c1a0cfa0-a206-4565-8a40-1862194fbc60",
        "colab": {
          "base_uri": "https://localhost:8080/",
          "height": 261
        }
      },
      "execution_count": 3,
      "outputs": [
        {
          "output_type": "execute_result",
          "data": {
            "text/plain": [
              "<IPython.core.display.HTML object>"
            ],
            "text/html": [
              "<video width=\"420\" height=\"240\" controls>\n",
              "<source src=\"https://cdn.chn.talentsprint.com/content/Tensor_Operations.mp4\">\n",
              "</video>"
            ]
          },
          "metadata": {},
          "execution_count": 3
        }
      ]
    },
    {
      "cell_type": "markdown",
      "metadata": {
        "id": "nr4zv0uVTA9j"
      },
      "source": [
        "## Information"
      ]
    },
    {
      "cell_type": "markdown",
      "metadata": {
        "id": "fhjkrEeSUIgu"
      },
      "source": [
        "**Tensors**: Tensor, in relation to machine learning, is a generalization of scalars, vectors, and matrices as seen in the table below.\n",
        "\n",
        "![img](https://cdn.iisc.talentsprint.com/CDS/Images/tensors.JPG)"
      ]
    },
    {
      "cell_type": "markdown",
      "metadata": {
        "id": "qQUX9GMPFl2U"
      },
      "source": [
        "* From the above explanation, you might have understood that Tensor operations are nothing but matrix operations.\n",
        "\n",
        "**Tensorflow**:\n",
        "We are introducing Tensorflow here, a widely used library for Machine Learning, specifically deep learning. Tensorflow's name is directly derived from its core framework: Tensor and all the computations carried out involve Tensor and its operations.TensorFlow was developed by the Google Brain team and first released under the Apache License 2.0 in 2015.\n",
        "* In the following sections, we will see few commonly used operations of Tensor using both NumPy and TensorFlow Library."
      ]
    },
    {
      "cell_type": "markdown",
      "metadata": {
        "id": "BNLA8HiKxQhc"
      },
      "source": [
        "### Setup Steps:"
      ]
    },
    {
      "cell_type": "code",
      "metadata": {
        "id": "2YzfoPvJDiTX"
      },
      "source": [
        "#@title Please enter your registration id to start: { run: \"auto\", display-mode: \"form\" }\n",
        "Id = \"2305750\" #@param {type:\"string\"}"
      ],
      "execution_count": 4,
      "outputs": []
    },
    {
      "cell_type": "code",
      "metadata": {
        "id": "AjoZJWGErxGf"
      },
      "source": [
        "#@title Please enter your password (your registered phone number) to continue: { run: \"auto\", display-mode: \"form\" }\n",
        "password = \"9164584233\" #@param {type:\"string\"}"
      ],
      "execution_count": 5,
      "outputs": []
    },
    {
      "cell_type": "code",
      "metadata": {
        "id": "WBPPuGmBlDIN",
        "cellView": "form",
        "outputId": "90713d75-6649-490e-ff14-b5d61486b277",
        "colab": {
          "base_uri": "https://localhost:8080/",
          "height": 34
        }
      },
      "source": [
        "#@title Run this cell to complete the setup for this Notebook\n",
        "from IPython import get_ipython\n",
        "\n",
        "ipython = get_ipython()\n",
        "\n",
        "notebook= \"M2_AST_02_Tensor_Operations_C\" #name of the notebook\n",
        "\n",
        "def setup():\n",
        "#  ipython.magic(\"sx pip3 install torch\")\n",
        "    from IPython.display import HTML, display\n",
        "    display(HTML('<script src=\"https://dashboard.talentsprint.com/aiml/record_ip.html?traineeId={0}&recordId={1}\"></script>'.format(getId(),submission_id)))\n",
        "    print(\"Setup completed successfully\")\n",
        "    return\n",
        "\n",
        "def submit_notebook():\n",
        "    ipython.magic(\"notebook -e \"+ notebook + \".ipynb\")\n",
        "\n",
        "    import requests, json, base64, datetime\n",
        "\n",
        "    url = \"https://dashboard.talentsprint.com/xp/app/save_notebook_attempts\"\n",
        "    if not submission_id:\n",
        "      data = {\"id\" : getId(), \"notebook\" : notebook, \"mobile\" : getPassword()}\n",
        "      r = requests.post(url, data = data)\n",
        "      r = json.loads(r.text)\n",
        "\n",
        "      if r[\"status\"] == \"Success\":\n",
        "          return r[\"record_id\"]\n",
        "      elif \"err\" in r:\n",
        "        print(r[\"err\"])\n",
        "        return None\n",
        "      else:\n",
        "        print (\"Something is wrong, the notebook will not be submitted for grading\")\n",
        "        return None\n",
        "\n",
        "    elif getAnswer() and getComplexity() and getAdditional() and getConcepts() and getComments() and getMentorSupport():\n",
        "      f = open(notebook + \".ipynb\", \"rb\")\n",
        "      file_hash = base64.b64encode(f.read())\n",
        "\n",
        "      data = {\"complexity\" : Complexity, \"additional\" :Additional,\n",
        "              \"concepts\" : Concepts, \"record_id\" : submission_id,\n",
        "              \"answer\" : Answer, \"id\" : Id, \"file_hash\" : file_hash,\n",
        "              \"notebook\" : notebook,\n",
        "              \"feedback_experiments_input\" : Comments,\n",
        "              \"feedback_mentor_support\": Mentor_support}\n",
        "      r = requests.post(url, data = data)\n",
        "      r = json.loads(r.text)\n",
        "      if \"err\" in r:\n",
        "        print(r[\"err\"])\n",
        "        return None\n",
        "      else:\n",
        "        print(\"Your submission is successful.\")\n",
        "        print(\"Ref Id:\", submission_id)\n",
        "        print(\"Date of submission: \", r[\"date\"])\n",
        "        print(\"Time of submission: \", r[\"time\"])\n",
        "        print(\"View your submissions: https://cds-iisc.talentsprint.com/notebook_submissions\")\n",
        "        #print(\"For any queries/discrepancies, please connect with mentors through the chat icon in LMS dashboard.\")\n",
        "        return submission_id\n",
        "    else: submission_id\n",
        "\n",
        "\n",
        "def getAdditional():\n",
        "  try:\n",
        "    if not Additional:\n",
        "      raise NameError\n",
        "    else:\n",
        "      return Additional\n",
        "  except NameError:\n",
        "    print (\"Please answer Additional Question\")\n",
        "    return None\n",
        "\n",
        "def getComplexity():\n",
        "  try:\n",
        "    if not Complexity:\n",
        "      raise NameError\n",
        "    else:\n",
        "      return Complexity\n",
        "  except NameError:\n",
        "    print (\"Please answer Complexity Question\")\n",
        "    return None\n",
        "\n",
        "def getConcepts():\n",
        "  try:\n",
        "    if not Concepts:\n",
        "      raise NameError\n",
        "    else:\n",
        "      return Concepts\n",
        "  except NameError:\n",
        "    print (\"Please answer Concepts Question\")\n",
        "    return None\n",
        "\n",
        "\n",
        "# def getWalkthrough():\n",
        "#   try:\n",
        "#     if not Walkthrough:\n",
        "#       raise NameError\n",
        "#     else:\n",
        "#       return Walkthrough\n",
        "#   except NameError:\n",
        "#     print (\"Please answer Walkthrough Question\")\n",
        "#     return None\n",
        "\n",
        "def getComments():\n",
        "  try:\n",
        "    if not Comments:\n",
        "      raise NameError\n",
        "    else:\n",
        "      return Comments\n",
        "  except NameError:\n",
        "    print (\"Please answer Comments Question\")\n",
        "    return None\n",
        "\n",
        "\n",
        "def getMentorSupport():\n",
        "  try:\n",
        "    if not Mentor_support:\n",
        "      raise NameError\n",
        "    else:\n",
        "      return Mentor_support\n",
        "  except NameError:\n",
        "    print (\"Please answer Mentor support Question\")\n",
        "    return None\n",
        "\n",
        "def getAnswer():\n",
        "  try:\n",
        "    if not Answer:\n",
        "      raise NameError\n",
        "    else:\n",
        "      return Answer\n",
        "  except NameError:\n",
        "    print (\"Please answer Question\")\n",
        "    return None\n",
        "\n",
        "\n",
        "def getId():\n",
        "  try:\n",
        "    return Id if Id else None\n",
        "  except NameError:\n",
        "    return None\n",
        "\n",
        "def getPassword():\n",
        "  try:\n",
        "    return password if password else None\n",
        "  except NameError:\n",
        "    return None\n",
        "\n",
        "submission_id = None\n",
        "### Setup\n",
        "if getPassword() and getId():\n",
        "  submission_id = submit_notebook()\n",
        "  if submission_id:\n",
        "    setup()\n",
        "else:\n",
        "  print (\"Please complete Id and Password cells before running setup\")\n",
        "\n"
      ],
      "execution_count": 6,
      "outputs": [
        {
          "output_type": "display_data",
          "data": {
            "text/plain": [
              "<IPython.core.display.HTML object>"
            ],
            "text/html": [
              "<script src=\"https://dashboard.talentsprint.com/aiml/record_ip.html?traineeId=2305750&recordId=1621\"></script>"
            ]
          },
          "metadata": {}
        },
        {
          "output_type": "stream",
          "name": "stdout",
          "text": [
            "Setup completed successfully\n"
          ]
        }
      ]
    },
    {
      "cell_type": "markdown",
      "metadata": {
        "id": "ynL2MOaMNDrg"
      },
      "source": [
        "#### Importing Required Packages"
      ]
    },
    {
      "cell_type": "code",
      "metadata": {
        "id": "7-9RvK3wugWC"
      },
      "source": [
        "import numpy as np\n",
        "import tensorflow as tf"
      ],
      "execution_count": 7,
      "outputs": []
    },
    {
      "cell_type": "markdown",
      "metadata": {
        "id": "YGkLfp--LidI"
      },
      "source": [
        "### Defining and slicing a 2D/1D-Tensor"
      ]
    },
    {
      "cell_type": "markdown",
      "metadata": {
        "id": "1HrS-aWEhrZV"
      },
      "source": [
        "#### NumPy"
      ]
    },
    {
      "cell_type": "code",
      "metadata": {
        "id": "u9ar1fwPwmf1",
        "outputId": "9bfbfcde-8a6a-404a-b49c-07a272937ca9",
        "colab": {
          "base_uri": "https://localhost:8080/"
        }
      },
      "source": [
        "a=np.array([[1,2],[2,3],[6,7]])             # Defining a 2D array in Numpy\n",
        "print(a)                                    # printing the array\n",
        "print('shape = ',a.shape)                   # '.shape' method gives the number of rows and columns in the form of a tuple\n",
        "print('dimension = ',a.ndim)                # It gives dimension of the array\n",
        "print('size =',np.size(a))                  # size always gives total number of elements in any array\n",
        "print('lengths = ',len(a))                  # In 2D it gives the number of rows in an array\n",
        "print('data structure type : ',type(a))     # It gives the type of data structure\n",
        "a.dtype                                     # it gives type of data stored in array"
      ],
      "execution_count": 8,
      "outputs": [
        {
          "output_type": "stream",
          "name": "stdout",
          "text": [
            "[[1 2]\n",
            " [2 3]\n",
            " [6 7]]\n",
            "shape =  (3, 2)\n",
            "dimension =  2\n",
            "size = 6\n",
            "lengths =  3\n",
            "data structure type :  <class 'numpy.ndarray'>\n"
          ]
        },
        {
          "output_type": "execute_result",
          "data": {
            "text/plain": [
              "dtype('int64')"
            ]
          },
          "metadata": {},
          "execution_count": 8
        }
      ]
    },
    {
      "cell_type": "markdown",
      "metadata": {
        "id": "NWwnaFk7YA9H"
      },
      "source": [
        "##### Slicing: We are going to define a 2D Matrix as given in the image below and apply the slicing operations.\n",
        "\n",
        "![2Dimg](https://cdn.iisc.talentsprint.com/CDS/Images/2D_array_slicing.JPG)"
      ]
    },
    {
      "cell_type": "code",
      "metadata": {
        "id": "PNFzlFt2QfoI",
        "outputId": "a05e66b1-99c0-4de8-b7aa-eeef1efa0a34",
        "colab": {
          "base_uri": "https://localhost:8080/"
        }
      },
      "source": [
        "## Creating a 2D array\n",
        "a2d = np.array([[1, 2, 3, 4], [4, 5, 6, 7], [7, 8, 9, 10]])\n",
        "a2d"
      ],
      "execution_count": 9,
      "outputs": [
        {
          "output_type": "execute_result",
          "data": {
            "text/plain": [
              "array([[ 1,  2,  3,  4],\n",
              "       [ 4,  5,  6,  7],\n",
              "       [ 7,  8,  9, 10]])"
            ]
          },
          "metadata": {},
          "execution_count": 9
        }
      ]
    },
    {
      "cell_type": "code",
      "metadata": {
        "id": "8hiI6vCpQryb",
        "outputId": "35c31bb9-289f-4724-9728-8a79539000fc",
        "colab": {
          "base_uri": "https://localhost:8080/"
        }
      },
      "source": [
        "# slicing the 2nd index row\n",
        "a2d[2]"
      ],
      "execution_count": 10,
      "outputs": [
        {
          "output_type": "execute_result",
          "data": {
            "text/plain": [
              "array([ 7,  8,  9, 10])"
            ]
          },
          "metadata": {},
          "execution_count": 10
        }
      ]
    },
    {
      "cell_type": "code",
      "metadata": {
        "id": "2tGDuWBbQvBn",
        "outputId": "a869dcb7-2589-4468-bc5b-98f27d3d027d",
        "colab": {
          "base_uri": "https://localhost:8080/"
        }
      },
      "source": [
        "# zeroth row\n",
        "a2d[0]"
      ],
      "execution_count": 11,
      "outputs": [
        {
          "output_type": "execute_result",
          "data": {
            "text/plain": [
              "array([1, 2, 3, 4])"
            ]
          },
          "metadata": {},
          "execution_count": 11
        }
      ]
    },
    {
      "cell_type": "code",
      "metadata": {
        "id": "rKtiyYnBQzbH",
        "outputId": "541fd4d0-3fcc-4cec-8e90-c3a704c2dd04",
        "colab": {
          "base_uri": "https://localhost:8080/"
        }
      },
      "source": [
        "# The first value before coma is for row index and the second value after coma is for column index.\n",
        "a2d[1,3]"
      ],
      "execution_count": 12,
      "outputs": [
        {
          "output_type": "execute_result",
          "data": {
            "text/plain": [
              "7"
            ]
          },
          "metadata": {},
          "execution_count": 12
        }
      ]
    },
    {
      "cell_type": "code",
      "metadata": {
        "id": "Db2mLx6mQ354",
        "outputId": "e045f56a-2749-4b08-dba8-739868f77600",
        "colab": {
          "base_uri": "https://localhost:8080/"
        }
      },
      "source": [
        "# This can also used.\n",
        "a2d[1][3]"
      ],
      "execution_count": 13,
      "outputs": [
        {
          "output_type": "execute_result",
          "data": {
            "text/plain": [
              "7"
            ]
          },
          "metadata": {},
          "execution_count": 13
        }
      ]
    },
    {
      "cell_type": "code",
      "metadata": {
        "id": "rNWmrrTGQ9Gx",
        "outputId": "081e364e-4c0f-459b-9fae-39ffbfaa4243",
        "colab": {
          "base_uri": "https://localhost:8080/"
        }
      },
      "source": [
        "# Using negative index\n",
        "a2d[-2,-3]"
      ],
      "execution_count": 14,
      "outputs": [
        {
          "output_type": "execute_result",
          "data": {
            "text/plain": [
              "5"
            ]
          },
          "metadata": {},
          "execution_count": 14
        }
      ]
    },
    {
      "cell_type": "code",
      "metadata": {
        "id": "L3ZmrbauRETu",
        "outputId": "abab3059-2e14-49a0-920b-615f13f1cb4d",
        "colab": {
          "base_uri": "https://localhost:8080/"
        }
      },
      "source": [
        "# from the very beginning to -2 indexed row (i.e -3 and -2 indexed row) and -3,-4 indexed columns are sliced\n",
        "a2d[:-1,:-2]"
      ],
      "execution_count": 15,
      "outputs": [
        {
          "output_type": "execute_result",
          "data": {
            "text/plain": [
              "array([[1, 2],\n",
              "       [4, 5]])"
            ]
          },
          "metadata": {},
          "execution_count": 15
        }
      ]
    },
    {
      "cell_type": "code",
      "metadata": {
        "id": "WL3-HuniRJWl",
        "outputId": "7ca5d626-7240-4289-a891-c56d74648ed3",
        "colab": {
          "base_uri": "https://localhost:8080/"
        }
      },
      "source": [
        "# from the very beginning to 1 indexed row, i.e 0 and 1 index row sliced. 2 is not included.\n",
        "a2d[:2]"
      ],
      "execution_count": 16,
      "outputs": [
        {
          "output_type": "execute_result",
          "data": {
            "text/plain": [
              "array([[1, 2, 3, 4],\n",
              "       [4, 5, 6, 7]])"
            ]
          },
          "metadata": {},
          "execution_count": 16
        }
      ]
    },
    {
      "cell_type": "code",
      "metadata": {
        "id": "IuirfsDkRRXB",
        "outputId": "1e9640f5-b0c8-43be-e3e1-710569c14fd5",
        "colab": {
          "base_uri": "https://localhost:8080/"
        }
      },
      "source": [
        "# ( 0 ,1 ) indexed rows and 2 to last indexed columns are sliced.\n",
        "a2d[:2, 2:]"
      ],
      "execution_count": 17,
      "outputs": [
        {
          "output_type": "execute_result",
          "data": {
            "text/plain": [
              "array([[3, 4],\n",
              "       [6, 7]])"
            ]
          },
          "metadata": {},
          "execution_count": 17
        }
      ]
    },
    {
      "cell_type": "code",
      "metadata": {
        "id": "OAaf6o7VRbFq",
        "outputId": "9faf6db9-1571-4d6c-f98b-eb2d7dda0903",
        "colab": {
          "base_uri": "https://localhost:8080/"
        }
      },
      "source": [
        "# 1 indexed row and (0,1) indexed columns are sliced .\n",
        "a2d[1, :2]"
      ],
      "execution_count": 18,
      "outputs": [
        {
          "output_type": "execute_result",
          "data": {
            "text/plain": [
              "array([4, 5])"
            ]
          },
          "metadata": {},
          "execution_count": 18
        }
      ]
    },
    {
      "cell_type": "code",
      "metadata": {
        "id": "P9toXdxKRYG-",
        "outputId": "5e972020-47ab-4c7b-c36a-bd71675c15a6",
        "colab": {
          "base_uri": "https://localhost:8080/"
        }
      },
      "source": [
        "# Explain yourself?\n",
        "a2d[:2, 2]"
      ],
      "execution_count": 19,
      "outputs": [
        {
          "output_type": "execute_result",
          "data": {
            "text/plain": [
              "array([3, 6])"
            ]
          },
          "metadata": {},
          "execution_count": 19
        }
      ]
    },
    {
      "cell_type": "code",
      "metadata": {
        "id": "WGBZjVkSRfe1",
        "outputId": "2ce0c747-9c8a-4ecf-e228-ac5161cb6d44",
        "colab": {
          "base_uri": "https://localhost:8080/"
        }
      },
      "source": [
        "# All rows and 0 column ( from the very beginning, but 1 not included i.e. zeroth column ) sliced.\n",
        "a2d[:, :1]"
      ],
      "execution_count": 20,
      "outputs": [
        {
          "output_type": "execute_result",
          "data": {
            "text/plain": [
              "array([[1],\n",
              "       [4],\n",
              "       [7]])"
            ]
          },
          "metadata": {},
          "execution_count": 20
        }
      ]
    },
    {
      "cell_type": "code",
      "metadata": {
        "id": "tMemWat8Rklm",
        "outputId": "a012a400-66c8-4f42-9b99-d5664e377db7",
        "colab": {
          "base_uri": "https://localhost:8080/"
        }
      },
      "source": [
        "print('Initial Matrix = ',a2d)\n",
        "# This is an assignment operation, a2d  itself gets changed.\n",
        "a2d[:2, 1:] = 0\n",
        "print('Matrix after above assigned operations = ',a2d)"
      ],
      "execution_count": 21,
      "outputs": [
        {
          "output_type": "stream",
          "name": "stdout",
          "text": [
            "Initial Matrix =  [[ 1  2  3  4]\n",
            " [ 4  5  6  7]\n",
            " [ 7  8  9 10]]\n",
            "Matrix after above assigned operations =  [[ 1  0  0  0]\n",
            " [ 4  0  0  0]\n",
            " [ 7  8  9 10]]\n"
          ]
        }
      ]
    },
    {
      "cell_type": "markdown",
      "metadata": {
        "id": "ftyZwvizMjaP"
      },
      "source": [
        "#### TensorFlow\n",
        "**tf.Variable**: There are multiple ways of defining/forming a Tensor in Tensorflow, tf.Variable is one of those. A tf.Variable represents a tensor whose value can be changed by running operations on it. Specific operations allow you to read and modify the values of this tensor. Higher-level libraries like tf.keras use tf.Variable to store model parameters that keep changing/updating with subsequent learning steps.\n",
        "\n",
        "**tf.Constant**: This is another way of creating a Tensor but the tensor made through this cannot be updated but can be called multiple times with only 1 copy in the memory."
      ]
    },
    {
      "cell_type": "code",
      "metadata": {
        "id": "G_pY-WC8J5rH",
        "outputId": "31b9606f-767b-404d-bc13-5b1308e70638",
        "colab": {
          "base_uri": "https://localhost:8080/"
        }
      },
      "source": [
        "a_tf = tf.Variable([[1,2],[2,3],[6,7]])\n",
        "print(a_tf)\n",
        "print(\"Shape of the input tensor is\", tf.shape(a_tf)) # Returns a tensor containing the shape of the input tensor\n",
        "print(\"Rank of the input tensor is\", tf.rank(a_tf)) # Returns the rank of a tensor\n",
        "# print(a_tf.ndim) -->  This operation is not valid for tf.variable object.\n",
        "print(\"Size of the input tensor is\", tf.size(a_tf)) # Returns the size of a tensor"
      ],
      "execution_count": 22,
      "outputs": [
        {
          "output_type": "stream",
          "name": "stdout",
          "text": [
            "<tf.Variable 'Variable:0' shape=(3, 2) dtype=int32, numpy=\n",
            "array([[1, 2],\n",
            "       [2, 3],\n",
            "       [6, 7]], dtype=int32)>\n",
            "Shape of the input tensor is tf.Tensor([3 2], shape=(2,), dtype=int32)\n",
            "Rank of the input tensor is tf.Tensor(2, shape=(), dtype=int32)\n",
            "Size of the input tensor is tf.Tensor(6, shape=(), dtype=int32)\n"
          ]
        }
      ]
    },
    {
      "cell_type": "markdown",
      "metadata": {
        "id": "FQMtT9VYOdI-"
      },
      "source": [
        "##### Slicing: Similar to Numpy array slicing."
      ]
    },
    {
      "cell_type": "code",
      "metadata": {
        "id": "QSJ1nBOQ9Z1s",
        "outputId": "f872a7e5-4037-48fc-8a34-7388432cdd0a",
        "colab": {
          "base_uri": "https://localhost:8080/"
        }
      },
      "source": [
        "a_tf[:,1]"
      ],
      "execution_count": 23,
      "outputs": [
        {
          "output_type": "execute_result",
          "data": {
            "text/plain": [
              "<tf.Tensor: shape=(3,), dtype=int32, numpy=array([2, 3, 7], dtype=int32)>"
            ]
          },
          "metadata": {},
          "execution_count": 23
        }
      ]
    },
    {
      "cell_type": "markdown",
      "metadata": {
        "id": "r-kOKgPcgK6V"
      },
      "source": [
        "#### Note the difference between 1D tensor, 2D row tensor, and 2D column tensor, explained with an example below."
      ]
    },
    {
      "cell_type": "markdown",
      "metadata": {
        "id": "Rh-ROINnhl5A"
      },
      "source": [
        "##### NumPy"
      ]
    },
    {
      "cell_type": "code",
      "metadata": {
        "id": "eCmq5aI0gm_6",
        "outputId": "c69786c7-04e4-450d-8e17-930030d615f1",
        "colab": {
          "base_uri": "https://localhost:8080/"
        }
      },
      "source": [
        "# This is a 1D tensor\n",
        "V1 = np.array([1,2,3])\n",
        "print(V1,'\\n')\n",
        "print(V1.shape)"
      ],
      "execution_count": 24,
      "outputs": [
        {
          "output_type": "stream",
          "name": "stdout",
          "text": [
            "[1 2 3] \n",
            "\n",
            "(3,)\n"
          ]
        }
      ]
    },
    {
      "cell_type": "code",
      "metadata": {
        "id": "p06yVFCShM50",
        "outputId": "33518eaa-1f46-4eaf-8623-cae5b3f88cbd",
        "colab": {
          "base_uri": "https://localhost:8080/"
        }
      },
      "source": [
        "# This is a 2D tensor having 1 row and 3 columns, i.e. 2D row tensor as it contains only one row.\n",
        "V2 = np.array([[1,2,3]])\n",
        "print(V2,'\\n')\n",
        "print(V2.shape)"
      ],
      "execution_count": 25,
      "outputs": [
        {
          "output_type": "stream",
          "name": "stdout",
          "text": [
            "[[1 2 3]] \n",
            "\n",
            "(1, 3)\n"
          ]
        }
      ]
    },
    {
      "cell_type": "code",
      "metadata": {
        "id": "U19HA23rgnPN",
        "outputId": "fba528ea-fe2b-42e8-a974-a1bab4130bab",
        "colab": {
          "base_uri": "https://localhost:8080/"
        }
      },
      "source": [
        "# This is a 2D tensor having 3 rows and 1 column, ie. a 2D column tensor as it contains only one column.\n",
        "V3 = np.array([[1],[2],[3]])\n",
        "print(V3,'\\n')\n",
        "print(V3.shape)"
      ],
      "execution_count": 26,
      "outputs": [
        {
          "output_type": "stream",
          "name": "stdout",
          "text": [
            "[[1]\n",
            " [2]\n",
            " [3]] \n",
            "\n",
            "(3, 1)\n"
          ]
        }
      ]
    },
    {
      "cell_type": "markdown",
      "metadata": {
        "id": "c24mn429h452"
      },
      "source": [
        "##### TensorFlow"
      ]
    },
    {
      "cell_type": "code",
      "metadata": {
        "id": "Fgpl2e6Nh_Hy",
        "outputId": "8c6f19ff-dc0a-421d-e266-afa381bec273",
        "colab": {
          "base_uri": "https://localhost:8080/"
        }
      },
      "source": [
        "V1_tf = tf.Variable([1,2,3])\n",
        "print(V1_tf)"
      ],
      "execution_count": 27,
      "outputs": [
        {
          "output_type": "stream",
          "name": "stdout",
          "text": [
            "<tf.Variable 'Variable:0' shape=(3,) dtype=int32, numpy=array([1, 2, 3], dtype=int32)>\n"
          ]
        }
      ]
    },
    {
      "cell_type": "code",
      "metadata": {
        "id": "2eMy_zz-iL2J",
        "outputId": "82454172-5b34-412e-e039-95476baa51d6",
        "colab": {
          "base_uri": "https://localhost:8080/"
        }
      },
      "source": [
        "V2_tf = tf.Variable([[1,2,3]])\n",
        "print(V2_tf)"
      ],
      "execution_count": 28,
      "outputs": [
        {
          "output_type": "stream",
          "name": "stdout",
          "text": [
            "<tf.Variable 'Variable:0' shape=(1, 3) dtype=int32, numpy=array([[1, 2, 3]], dtype=int32)>\n"
          ]
        }
      ]
    },
    {
      "cell_type": "code",
      "metadata": {
        "id": "G8a5oDGuiaLG",
        "outputId": "fa9172d3-40c7-4217-eb63-e150be353d90",
        "colab": {
          "base_uri": "https://localhost:8080/"
        }
      },
      "source": [
        "V3_tf = tf.Variable([[1],[2],[3]])\n",
        "print(V3_tf)"
      ],
      "execution_count": 29,
      "outputs": [
        {
          "output_type": "stream",
          "name": "stdout",
          "text": [
            "<tf.Variable 'Variable:0' shape=(3, 1) dtype=int32, numpy=\n",
            "array([[1],\n",
            "       [2],\n",
            "       [3]], dtype=int32)>\n"
          ]
        }
      ]
    },
    {
      "cell_type": "markdown",
      "metadata": {
        "id": "qrF7byEzdr4p"
      },
      "source": [
        "### Transpose\n",
        "The new matrix obtained by interchanging the rows and columns of the original matrix is referred to as the transpose of the matrix."
      ]
    },
    {
      "cell_type": "markdown",
      "metadata": {
        "id": "xCrBefyBivx1"
      },
      "source": [
        "#### NumPy"
      ]
    },
    {
      "cell_type": "code",
      "metadata": {
        "id": "a9wOlq2nduLQ",
        "outputId": "d25f9e7d-0d26-42f4-efaa-9a5acb33cc02",
        "colab": {
          "base_uri": "https://localhost:8080/"
        }
      },
      "source": [
        "print(a2d,'\\n')\n",
        "print(a2d.T)"
      ],
      "execution_count": 30,
      "outputs": [
        {
          "output_type": "stream",
          "name": "stdout",
          "text": [
            "[[ 1  0  0  0]\n",
            " [ 4  0  0  0]\n",
            " [ 7  8  9 10]] \n",
            "\n",
            "[[ 1  4  7]\n",
            " [ 0  0  8]\n",
            " [ 0  0  9]\n",
            " [ 0  0 10]]\n"
          ]
        }
      ]
    },
    {
      "cell_type": "markdown",
      "metadata": {
        "id": "k_rdmqffeeJQ"
      },
      "source": [
        "#### TensorFlow"
      ]
    },
    {
      "cell_type": "code",
      "metadata": {
        "id": "8HXArIhveA7e",
        "outputId": "a34ae600-7a50-40f5-b6bd-447f752aa9d3",
        "colab": {
          "base_uri": "https://localhost:8080/"
        }
      },
      "source": [
        "# Creating a 2D tensor\n",
        "a2d_tf = tf.Variable([[1, 2, 3, 4], [4, 5, 6, 7], [7, 8, 9, 10]])\n",
        "print(a2d_tf)\n",
        "tf.transpose(a2d_tf)"
      ],
      "execution_count": 31,
      "outputs": [
        {
          "output_type": "stream",
          "name": "stdout",
          "text": [
            "<tf.Variable 'Variable:0' shape=(3, 4) dtype=int32, numpy=\n",
            "array([[ 1,  2,  3,  4],\n",
            "       [ 4,  5,  6,  7],\n",
            "       [ 7,  8,  9, 10]], dtype=int32)>\n"
          ]
        },
        {
          "output_type": "execute_result",
          "data": {
            "text/plain": [
              "<tf.Tensor: shape=(4, 3), dtype=int32, numpy=\n",
              "array([[ 1,  4,  7],\n",
              "       [ 2,  5,  8],\n",
              "       [ 3,  6,  9],\n",
              "       [ 4,  7, 10]], dtype=int32)>"
            ]
          },
          "metadata": {},
          "execution_count": 31
        }
      ]
    },
    {
      "cell_type": "markdown",
      "metadata": {
        "id": "ivm4y0dGpgei"
      },
      "source": [
        "### Scalar Addition and Multiplication\n",
        "Addition or Multiplication of any higher-order tensor with a scalar quantity(zero-order tensor)."
      ]
    },
    {
      "cell_type": "markdown",
      "metadata": {
        "id": "I8j5Izfyh9AI"
      },
      "source": [
        "#### NumPy"
      ]
    },
    {
      "cell_type": "code",
      "metadata": {
        "id": "rLPFRvaf4Xu8",
        "outputId": "c956c977-d103-4145-8939-79caf13f864e",
        "colab": {
          "base_uri": "https://localhost:8080/"
        }
      },
      "source": [
        "print(a)\n",
        "a+2 # 2 is added to each element of the initial matrix a."
      ],
      "execution_count": 32,
      "outputs": [
        {
          "output_type": "stream",
          "name": "stdout",
          "text": [
            "[[1 2]\n",
            " [2 3]\n",
            " [6 7]]\n"
          ]
        },
        {
          "output_type": "execute_result",
          "data": {
            "text/plain": [
              "array([[3, 4],\n",
              "       [4, 5],\n",
              "       [8, 9]])"
            ]
          },
          "metadata": {},
          "execution_count": 32
        }
      ]
    },
    {
      "cell_type": "code",
      "metadata": {
        "id": "JY1H890u4jqH",
        "outputId": "67193a42-0e62-44d0-b47d-cbb676a338a7",
        "colab": {
          "base_uri": "https://localhost:8080/"
        }
      },
      "source": [
        "a*2 # Each element of the initial matrix is multiplied by 2."
      ],
      "execution_count": 33,
      "outputs": [
        {
          "output_type": "execute_result",
          "data": {
            "text/plain": [
              "array([[ 2,  4],\n",
              "       [ 4,  6],\n",
              "       [12, 14]])"
            ]
          },
          "metadata": {},
          "execution_count": 33
        }
      ]
    },
    {
      "cell_type": "markdown",
      "metadata": {
        "id": "kIRD0ZLF5PNI"
      },
      "source": [
        "#### TensorFlow"
      ]
    },
    {
      "cell_type": "code",
      "metadata": {
        "id": "zRqRXSLl4YH7",
        "outputId": "35f6a279-0270-4ce8-9aa3-beca67ef6164",
        "colab": {
          "base_uri": "https://localhost:8080/"
        }
      },
      "source": [
        "print(a_tf)\n",
        "tf.add(a_tf,2)"
      ],
      "execution_count": 34,
      "outputs": [
        {
          "output_type": "stream",
          "name": "stdout",
          "text": [
            "<tf.Variable 'Variable:0' shape=(3, 2) dtype=int32, numpy=\n",
            "array([[1, 2],\n",
            "       [2, 3],\n",
            "       [6, 7]], dtype=int32)>\n"
          ]
        },
        {
          "output_type": "execute_result",
          "data": {
            "text/plain": [
              "<tf.Tensor: shape=(3, 2), dtype=int32, numpy=\n",
              "array([[3, 4],\n",
              "       [4, 5],\n",
              "       [8, 9]], dtype=int32)>"
            ]
          },
          "metadata": {},
          "execution_count": 34
        }
      ]
    },
    {
      "cell_type": "code",
      "metadata": {
        "id": "4dPKvGka4YTg",
        "outputId": "bc5d0548-216f-4ec8-dbdc-2751d0afc96e",
        "colab": {
          "base_uri": "https://localhost:8080/"
        }
      },
      "source": [
        "tf.multiply(a_tf,2)"
      ],
      "execution_count": 35,
      "outputs": [
        {
          "output_type": "execute_result",
          "data": {
            "text/plain": [
              "<tf.Tensor: shape=(3, 2), dtype=int32, numpy=\n",
              "array([[ 2,  4],\n",
              "       [ 4,  6],\n",
              "       [12, 14]], dtype=int32)>"
            ]
          },
          "metadata": {},
          "execution_count": 35
        }
      ]
    },
    {
      "cell_type": "markdown",
      "metadata": {
        "id": "AP_xsfdfiy3a"
      },
      "source": [
        "### Addition and Subtraction between tensors\n",
        "When the shape of the tensors is same, element-wise addition and subtraction can be carried out"
      ]
    },
    {
      "cell_type": "markdown",
      "metadata": {
        "id": "oPhAW5R6iBfi"
      },
      "source": [
        "#### NumPy"
      ]
    },
    {
      "cell_type": "code",
      "metadata": {
        "id": "g3eOutTlbSJr",
        "outputId": "3ec2e79e-4bd9-4f3d-8b07-8782128d6a49",
        "colab": {
          "base_uri": "https://localhost:8080/"
        }
      },
      "source": [
        "b = np.array([[1,2],[2,3]])\n",
        "c = np.array([[3,4],[5,6]])\n",
        "print('b = ','\\n',b,'\\n','c = ','\\n',c)"
      ],
      "execution_count": 36,
      "outputs": [
        {
          "output_type": "stream",
          "name": "stdout",
          "text": [
            "b =  \n",
            " [[1 2]\n",
            " [2 3]] \n",
            " c =  \n",
            " [[3 4]\n",
            " [5 6]]\n"
          ]
        }
      ]
    },
    {
      "cell_type": "code",
      "metadata": {
        "id": "JHePyXEFbSX-",
        "outputId": "38e0f25b-b7f5-436c-cc41-c2e8c34f2229",
        "colab": {
          "base_uri": "https://localhost:8080/"
        }
      },
      "source": [
        "print(b+c,'\\n')\n",
        "print(b-c)"
      ],
      "execution_count": 37,
      "outputs": [
        {
          "output_type": "stream",
          "name": "stdout",
          "text": [
            "[[4 6]\n",
            " [7 9]] \n",
            "\n",
            "[[-2 -2]\n",
            " [-3 -3]]\n"
          ]
        }
      ]
    },
    {
      "cell_type": "markdown",
      "metadata": {
        "id": "jDej96KvbRRb"
      },
      "source": [
        "#### TensorFlow"
      ]
    },
    {
      "cell_type": "code",
      "metadata": {
        "id": "kpNgf3rvZa2Z",
        "outputId": "c84b8e2e-f7f1-40f3-a59a-8da34d7d24a7",
        "colab": {
          "base_uri": "https://localhost:8080/"
        }
      },
      "source": [
        "b_tf = tf.Variable([[1,2],[2,3]])\n",
        "c_tf = tf.Variable([[3,4],[5,6]])\n",
        "print(b_tf,'\\n',c_tf)\n"
      ],
      "execution_count": 38,
      "outputs": [
        {
          "output_type": "stream",
          "name": "stdout",
          "text": [
            "<tf.Variable 'Variable:0' shape=(2, 2) dtype=int32, numpy=\n",
            "array([[1, 2],\n",
            "       [2, 3]], dtype=int32)> \n",
            " <tf.Variable 'Variable:0' shape=(2, 2) dtype=int32, numpy=\n",
            "array([[3, 4],\n",
            "       [5, 6]], dtype=int32)>\n"
          ]
        }
      ]
    },
    {
      "cell_type": "code",
      "metadata": {
        "id": "tywFTUvUZbME",
        "outputId": "69555337-25e4-4579-89c3-9285c34139b4",
        "colab": {
          "base_uri": "https://localhost:8080/"
        }
      },
      "source": [
        "tf.add(b_tf,c_tf) # Addition"
      ],
      "execution_count": 39,
      "outputs": [
        {
          "output_type": "execute_result",
          "data": {
            "text/plain": [
              "<tf.Tensor: shape=(2, 2), dtype=int32, numpy=\n",
              "array([[4, 6],\n",
              "       [7, 9]], dtype=int32)>"
            ]
          },
          "metadata": {},
          "execution_count": 39
        }
      ]
    },
    {
      "cell_type": "code",
      "metadata": {
        "id": "Z-qhr0OPabAS",
        "outputId": "cf173318-22cd-431b-b1ca-9fb87eb22224",
        "colab": {
          "base_uri": "https://localhost:8080/"
        }
      },
      "source": [
        "tf.subtract(b_tf,c_tf) # subtraction"
      ],
      "execution_count": 40,
      "outputs": [
        {
          "output_type": "execute_result",
          "data": {
            "text/plain": [
              "<tf.Tensor: shape=(2, 2), dtype=int32, numpy=\n",
              "array([[-2, -2],\n",
              "       [-3, -3]], dtype=int32)>"
            ]
          },
          "metadata": {},
          "execution_count": 40
        }
      ]
    },
    {
      "cell_type": "markdown",
      "metadata": {
        "id": "GQ3iD_93hBgB"
      },
      "source": [
        "### Concept of Broadcasting\n",
        "\n",
        "Understand by going through the examples given below."
      ]
    },
    {
      "cell_type": "markdown",
      "metadata": {
        "id": "91xEYRpZnWtB"
      },
      "source": [
        "#### NumPy\n",
        "\n",
        "To know more about broadcasting click [here](https://numpy.org/devdocs/user/theory.broadcasting.html)."
      ]
    },
    {
      "cell_type": "code",
      "metadata": {
        "id": "ttoVSau6kQUg",
        "outputId": "d857e914-835a-4fef-d95d-491109f09310",
        "colab": {
          "base_uri": "https://localhost:8080/"
        }
      },
      "source": [
        "M1 = np.array([[1,2,3],[4,5,6]])\n",
        "print(M1)\n",
        "M1.shape"
      ],
      "execution_count": 41,
      "outputs": [
        {
          "output_type": "stream",
          "name": "stdout",
          "text": [
            "[[1 2 3]\n",
            " [4 5 6]]\n"
          ]
        },
        {
          "output_type": "execute_result",
          "data": {
            "text/plain": [
              "(2, 3)"
            ]
          },
          "metadata": {},
          "execution_count": 41
        }
      ]
    },
    {
      "cell_type": "code",
      "metadata": {
        "id": "J7FGP8DxkQj4",
        "outputId": "62898cc7-b99c-491f-a298-adb36e0b931f",
        "colab": {
          "base_uri": "https://localhost:8080/"
        }
      },
      "source": [
        "M2 = np.array([[8],[9]])\n",
        "print(M2)\n",
        "M2.shape"
      ],
      "execution_count": 42,
      "outputs": [
        {
          "output_type": "stream",
          "name": "stdout",
          "text": [
            "[[8]\n",
            " [9]]\n"
          ]
        },
        {
          "output_type": "execute_result",
          "data": {
            "text/plain": [
              "(2, 1)"
            ]
          },
          "metadata": {},
          "execution_count": 42
        }
      ]
    },
    {
      "cell_type": "markdown",
      "metadata": {
        "id": "xDi6j-RhniBt"
      },
      "source": [
        "Mathematically M1 and M2 cannot be added as the shape doesn't match, but in NumPy, they can be added. M2 has the same number of rows as that of M1. Its column gets replicated so that its shape becomes equal to M1, and then, both are added. This process of replication is broadcasting. M2 gets broadcasted in the direction of the column of M1. We will see the result after replication and sum operation. Broadcasted M2 is not visible, it is a hidden step. See the result below:"
      ]
    },
    {
      "cell_type": "code",
      "metadata": {
        "id": "1XflAQ3qkQwx",
        "outputId": "72dcfb4e-f5d5-4d30-821a-1d7bd0004ead",
        "colab": {
          "base_uri": "https://localhost:8080/"
        }
      },
      "source": [
        "M1+M2"
      ],
      "execution_count": 43,
      "outputs": [
        {
          "output_type": "execute_result",
          "data": {
            "text/plain": [
              "array([[ 9, 10, 11],\n",
              "       [13, 14, 15]])"
            ]
          },
          "metadata": {},
          "execution_count": 43
        }
      ]
    },
    {
      "cell_type": "code",
      "metadata": {
        "id": "ubKLjJ09oMGI",
        "outputId": "92d54f60-f4b1-4b34-d6e8-3b7ccc499075",
        "colab": {
          "base_uri": "https://localhost:8080/"
        }
      },
      "source": [
        "# Making another array M3\n",
        "M3 = np.array([[10,20,30]])\n",
        "print(M3)\n",
        "M3.shape"
      ],
      "execution_count": 44,
      "outputs": [
        {
          "output_type": "stream",
          "name": "stdout",
          "text": [
            "[[10 20 30]]\n"
          ]
        },
        {
          "output_type": "execute_result",
          "data": {
            "text/plain": [
              "(1, 3)"
            ]
          },
          "metadata": {},
          "execution_count": 44
        }
      ]
    },
    {
      "cell_type": "markdown",
      "metadata": {
        "id": "anTMwjQQoNa1"
      },
      "source": [
        "Mathematically M1 and M3 can not be added as the shape doesn't match, but in NumPy, they can be added. M3 has the same number of columns as that of M1. Its rows get replicated so that its shape becomes equal to M1, and then, both are added. This process of replication is broadcasting. M3 gets broadcasted in the direction of the rows of M1. We will see the result after replication and sum operation. Broadcasted M3 is not visible, it is a hidden step. See the result below:"
      ]
    },
    {
      "cell_type": "code",
      "metadata": {
        "id": "4pQOgvvxoglK",
        "outputId": "f1517c98-9807-4c4b-e633-1a4d88371664",
        "colab": {
          "base_uri": "https://localhost:8080/"
        }
      },
      "source": [
        "M1+M3"
      ],
      "execution_count": 45,
      "outputs": [
        {
          "output_type": "execute_result",
          "data": {
            "text/plain": [
              "array([[11, 22, 33],\n",
              "       [14, 25, 36]])"
            ]
          },
          "metadata": {},
          "execution_count": 45
        }
      ]
    },
    {
      "cell_type": "markdown",
      "metadata": {
        "id": "L-wXIU9zcdxr"
      },
      "source": [
        "#### TensorFlow\n",
        " Similar to NumPy."
      ]
    },
    {
      "cell_type": "code",
      "metadata": {
        "id": "n19AdpclcnFg",
        "outputId": "2feeec16-5717-4636-c4e2-29adc50a4dc3",
        "colab": {
          "base_uri": "https://localhost:8080/"
        }
      },
      "source": [
        "M1_tf = tf.Variable([[1,2,3],[4,5,6]])\n",
        "print(M1_tf,'\\n')\n",
        "M2_tf = tf.Variable([[8],[9]])\n",
        "print(M2_tf)"
      ],
      "execution_count": 46,
      "outputs": [
        {
          "output_type": "stream",
          "name": "stdout",
          "text": [
            "<tf.Variable 'Variable:0' shape=(2, 3) dtype=int32, numpy=\n",
            "array([[1, 2, 3],\n",
            "       [4, 5, 6]], dtype=int32)> \n",
            "\n",
            "<tf.Variable 'Variable:0' shape=(2, 1) dtype=int32, numpy=\n",
            "array([[8],\n",
            "       [9]], dtype=int32)>\n"
          ]
        }
      ]
    },
    {
      "cell_type": "code",
      "metadata": {
        "id": "HOUYvim9dFnO",
        "outputId": "83b5e371-0e44-4731-c916-acc6ba87cbf9",
        "colab": {
          "base_uri": "https://localhost:8080/"
        }
      },
      "source": [
        "tf.add(M1_tf,M2_tf)"
      ],
      "execution_count": 47,
      "outputs": [
        {
          "output_type": "execute_result",
          "data": {
            "text/plain": [
              "<tf.Tensor: shape=(2, 3), dtype=int32, numpy=\n",
              "array([[ 9, 10, 11],\n",
              "       [13, 14, 15]], dtype=int32)>"
            ]
          },
          "metadata": {},
          "execution_count": 47
        }
      ]
    },
    {
      "cell_type": "markdown",
      "metadata": {
        "id": "RreRdEds5oJ_"
      },
      "source": [
        "### Hadamard Product or Element-wise Multiplication\n",
        "If the two Tensors have the same size, operations are carried out elementwise by default."
      ]
    },
    {
      "cell_type": "markdown",
      "metadata": {
        "id": "aNq-VJpqhF4V"
      },
      "source": [
        "#### NumPy"
      ]
    },
    {
      "cell_type": "code",
      "metadata": {
        "id": "5hhcBj8x6Kfv",
        "outputId": "a9ee65ed-e2cb-42ac-9efe-234cca02d8cf",
        "colab": {
          "base_uri": "https://localhost:8080/"
        }
      },
      "source": [
        "# Using previously defined matrix a by using  Numpy\n",
        "a"
      ],
      "execution_count": 48,
      "outputs": [
        {
          "output_type": "execute_result",
          "data": {
            "text/plain": [
              "array([[1, 2],\n",
              "       [2, 3],\n",
              "       [6, 7]])"
            ]
          },
          "metadata": {},
          "execution_count": 48
        }
      ]
    },
    {
      "cell_type": "code",
      "metadata": {
        "id": "lUO_-LgF7r7u",
        "outputId": "d309a0cd-3ff2-480e-e499-43daa4281b36",
        "colab": {
          "base_uri": "https://localhost:8080/"
        }
      },
      "source": [
        "# Defining another matrix b\n",
        "b = np.array([[2,3],[1,2],[4,5]])\n",
        "b"
      ],
      "execution_count": 49,
      "outputs": [
        {
          "output_type": "execute_result",
          "data": {
            "text/plain": [
              "array([[2, 3],\n",
              "       [1, 2],\n",
              "       [4, 5]])"
            ]
          },
          "metadata": {},
          "execution_count": 49
        }
      ]
    },
    {
      "cell_type": "code",
      "metadata": {
        "id": "aiwerU6u7_uJ",
        "outputId": "f65a07b8-7044-4dbb-9027-78d3c08dbf69",
        "colab": {
          "base_uri": "https://localhost:8080/"
        }
      },
      "source": [
        "# Here the shape of a  and b matches thus default product is Hadamard multiplication. Note: This is not matrix multiplication.\n",
        "a*b"
      ],
      "execution_count": 50,
      "outputs": [
        {
          "output_type": "execute_result",
          "data": {
            "text/plain": [
              "array([[ 2,  6],\n",
              "       [ 2,  6],\n",
              "       [24, 35]])"
            ]
          },
          "metadata": {},
          "execution_count": 50
        }
      ]
    },
    {
      "cell_type": "markdown",
      "metadata": {
        "id": "GfEjgkI68RKU"
      },
      "source": [
        "#### TensorFlow"
      ]
    },
    {
      "cell_type": "code",
      "metadata": {
        "id": "jZJenXZc8XHU",
        "outputId": "e68d9f2a-fff3-4936-b2f9-e59aad7c8aa1",
        "colab": {
          "base_uri": "https://localhost:8080/"
        }
      },
      "source": [
        "a_tf"
      ],
      "execution_count": 51,
      "outputs": [
        {
          "output_type": "execute_result",
          "data": {
            "text/plain": [
              "<tf.Variable 'Variable:0' shape=(3, 2) dtype=int32, numpy=\n",
              "array([[1, 2],\n",
              "       [2, 3],\n",
              "       [6, 7]], dtype=int32)>"
            ]
          },
          "metadata": {},
          "execution_count": 51
        }
      ]
    },
    {
      "cell_type": "code",
      "metadata": {
        "id": "SWu0-Wzm8XyA",
        "outputId": "02b1c3c5-a6bb-4252-803c-de1c2fbc2951",
        "colab": {
          "base_uri": "https://localhost:8080/"
        }
      },
      "source": [
        "b_tf = tf.Variable([[2,3],[1,2],[4,5]])\n",
        "b_tf"
      ],
      "execution_count": 52,
      "outputs": [
        {
          "output_type": "execute_result",
          "data": {
            "text/plain": [
              "<tf.Variable 'Variable:0' shape=(3, 2) dtype=int32, numpy=\n",
              "array([[2, 3],\n",
              "       [1, 2],\n",
              "       [4, 5]], dtype=int32)>"
            ]
          },
          "metadata": {},
          "execution_count": 52
        }
      ]
    },
    {
      "cell_type": "code",
      "metadata": {
        "id": "TwYRQO2I8nQM",
        "outputId": "07617748-3eb8-4e10-ded6-5c21f2d15d9a",
        "colab": {
          "base_uri": "https://localhost:8080/"
        }
      },
      "source": [
        "a_tf * b_tf # Hadamard Multiplication\n",
        "# OR tf.multiply(a_tf,b_tf)"
      ],
      "execution_count": 53,
      "outputs": [
        {
          "output_type": "execute_result",
          "data": {
            "text/plain": [
              "<tf.Tensor: shape=(3, 2), dtype=int32, numpy=\n",
              "array([[ 2,  6],\n",
              "       [ 2,  6],\n",
              "       [24, 35]], dtype=int32)>"
            ]
          },
          "metadata": {},
          "execution_count": 53
        }
      ]
    },
    {
      "cell_type": "markdown",
      "metadata": {
        "id": "TVpqaHzr5jtl"
      },
      "source": [
        "### Matrix Multiplication\n",
        "* For multiplying matrix a and matrix b, the number of columns of matrix a and the number of rows of matrix b must match.\n",
        "* Note: Matrix Multiplication is not commutative (i.e.AB != BA)"
      ]
    },
    {
      "cell_type": "markdown",
      "metadata": {
        "id": "94hv851SXRR5"
      },
      "source": [
        "Matrix multiplication process\n",
        "![img](https://cdn.iisc.talentsprint.com/CDS/Images/Tensor_matmul.JPG)"
      ]
    },
    {
      "cell_type": "markdown",
      "metadata": {
        "id": "5rKaS_tBZ8b5"
      },
      "source": [
        "#### NumPy"
      ]
    },
    {
      "cell_type": "code",
      "metadata": {
        "id": "srzIkcio_dIg",
        "outputId": "b1f714e7-daa7-474f-f981-df5fef691563",
        "colab": {
          "base_uri": "https://localhost:8080/"
        }
      },
      "source": [
        "a1 = np.array([[1,2,3],[4,5,6]])\n",
        "print(a1,'\\n','Shape = ',a1.shape)\n",
        "b1 = np.array([[2,1],[3,2],[4,3]])\n",
        "print(b1,'\\n','Shape = ',b1.shape)"
      ],
      "execution_count": 54,
      "outputs": [
        {
          "output_type": "stream",
          "name": "stdout",
          "text": [
            "[[1 2 3]\n",
            " [4 5 6]] \n",
            " Shape =  (2, 3)\n",
            "[[2 1]\n",
            " [3 2]\n",
            " [4 3]] \n",
            " Shape =  (3, 2)\n"
          ]
        }
      ]
    },
    {
      "cell_type": "code",
      "metadata": {
        "id": "8reX_9Xr_dZK",
        "outputId": "41d1b369-157e-4be8-94d8-1afc114d6bff",
        "colab": {
          "base_uri": "https://localhost:8080/"
        }
      },
      "source": [
        "# Matrix multiplication between a1 and b1 is possible as\n",
        "# the number of columns of matrix a and the number of rows of matrix b are equal.\n",
        "np.dot(a1,b1) # OR\n",
        "a1.dot(b1)"
      ],
      "execution_count": 55,
      "outputs": [
        {
          "output_type": "execute_result",
          "data": {
            "text/plain": [
              "array([[20, 14],\n",
              "       [47, 32]])"
            ]
          },
          "metadata": {},
          "execution_count": 55
        }
      ]
    },
    {
      "cell_type": "markdown",
      "metadata": {
        "id": "kJO9YLfsaAMW"
      },
      "source": [
        "#### TensorFlow"
      ]
    },
    {
      "cell_type": "code",
      "metadata": {
        "id": "GW14bfECaFHp",
        "outputId": "802c6866-296e-43a6-8023-e2df9994f19e",
        "colab": {
          "base_uri": "https://localhost:8080/"
        }
      },
      "source": [
        "a1_tf = tf.Variable([[1,2,3],[4,5,6]])\n",
        "print(a1_tf,'\\n')\n",
        "b1_tf = tf.Variable([[2,1],[3,2],[4,3]])\n",
        "print(b1_tf)"
      ],
      "execution_count": 56,
      "outputs": [
        {
          "output_type": "stream",
          "name": "stdout",
          "text": [
            "<tf.Variable 'Variable:0' shape=(2, 3) dtype=int32, numpy=\n",
            "array([[1, 2, 3],\n",
            "       [4, 5, 6]], dtype=int32)> \n",
            "\n",
            "<tf.Variable 'Variable:0' shape=(3, 2) dtype=int32, numpy=\n",
            "array([[2, 1],\n",
            "       [3, 2],\n",
            "       [4, 3]], dtype=int32)>\n"
          ]
        }
      ]
    },
    {
      "cell_type": "code",
      "metadata": {
        "id": "MDHyEVavbGWJ",
        "outputId": "5f9b66f3-c42c-4610-9398-3eb98311da00",
        "colab": {
          "base_uri": "https://localhost:8080/"
        }
      },
      "source": [
        "tf.linalg.matmul(a1_tf,b1_tf)"
      ],
      "execution_count": 57,
      "outputs": [
        {
          "output_type": "execute_result",
          "data": {
            "text/plain": [
              "<tf.Tensor: shape=(2, 2), dtype=int32, numpy=\n",
              "array([[20, 14],\n",
              "       [47, 32]], dtype=int32)>"
            ]
          },
          "metadata": {},
          "execution_count": 57
        }
      ]
    },
    {
      "cell_type": "markdown",
      "metadata": {
        "id": "XGOqVzIUthCA"
      },
      "source": [
        "### Tensordot or Tensor Contraction\n",
        "Tensordot operation is carried out between input arrays based on the respective axes ( passed as an arg.) along which the sum-reductions are intended.\n",
        "The axes that take part in sum-reduction are removed in the output, and all of the remaining axes from the input arrays are spread out as different axes in the output, keeping the order in which the input arrays are fed.\n",
        "\n",
        "#### NumPy\n",
        "\n",
        "Go through the examples given below and visit the reference to comprehend it properly.\n",
        "\n",
        "To know more tensordot in numpy, refer the [link](https://numpy.org/doc/stable/reference/generated/numpy.tensordot.html)"
      ]
    },
    {
      "cell_type": "code",
      "metadata": {
        "id": "e3GpfJ0FtmSC",
        "outputId": "2f7fc167-0511-478a-aca8-ff9cac4d9a6b",
        "colab": {
          "base_uri": "https://localhost:8080/"
        }
      },
      "source": [
        "# Defining tensors\n",
        "a1 = np.array([[1,2,3],[2,3,1]])\n",
        "a2 = np.array([[1,2],[3,4],[2,3]])\n",
        "print(\"Tensor1 is: \\n \", a1)\n",
        "print(\"Tensor2 is: \\n\", a2)\n",
        "\n",
        "# Calculating tensordot\n",
        "r1 = np.tensordot(a1, a2, axes=([0,1])) # Same when axes are passed as -->  axes=([0],[1])  OR   axes=([[0],[1]])\n",
        "print(\"Tensordot of these tensors is:\\n\", r1)\n",
        "print(\"Shape : \", r1.shape)"
      ],
      "execution_count": 58,
      "outputs": [
        {
          "output_type": "stream",
          "name": "stdout",
          "text": [
            "Tensor1 is: \n",
            "  [[1 2 3]\n",
            " [2 3 1]]\n",
            "Tensor2 is: \n",
            " [[1 2]\n",
            " [3 4]\n",
            " [2 3]]\n",
            "Tensordot of these tensors is:\n",
            " [[ 5 11  8]\n",
            " [ 8 18 13]\n",
            " [ 5 13  9]]\n",
            "Shape :  (3, 3)\n"
          ]
        }
      ]
    },
    {
      "cell_type": "markdown",
      "metadata": {
        "id": "58g7_DCqtrLm"
      },
      "source": [
        "* When a and b are matrices (order 2), the case axes = 1 is equivalent to matrix multiplication.\n",
        "* When a and b are matrices (order 2), the case axes = [[1], [0]] is equivalent to matrix multiplication."
      ]
    },
    {
      "cell_type": "code",
      "metadata": {
        "id": "Nmi1DVR4ttgu",
        "outputId": "fbd9f738-286d-4b8e-c7c2-923325deb181",
        "colab": {
          "base_uri": "https://localhost:8080/"
        }
      },
      "source": [
        "r1 = np.tensordot(a1, a2,axes=1)\n",
        "r1"
      ],
      "execution_count": 59,
      "outputs": [
        {
          "output_type": "execute_result",
          "data": {
            "text/plain": [
              "array([[13, 19],\n",
              "       [13, 19]])"
            ]
          },
          "metadata": {},
          "execution_count": 59
        }
      ]
    },
    {
      "cell_type": "code",
      "metadata": {
        "id": "7XH6udkVtvrC",
        "outputId": "2da577fd-7a61-4a02-cb78-34204033634c",
        "colab": {
          "base_uri": "https://localhost:8080/"
        }
      },
      "source": [
        "r1 = np.tensordot(a1, a2,axes=([1,0]))  # Same when axes are passed as -->  axes=([1],[0])  OR   axes=([[1],[0]])\n",
        "r1"
      ],
      "execution_count": 60,
      "outputs": [
        {
          "output_type": "execute_result",
          "data": {
            "text/plain": [
              "array([[13, 19],\n",
              "       [13, 19]])"
            ]
          },
          "metadata": {},
          "execution_count": 60
        }
      ]
    },
    {
      "cell_type": "markdown",
      "metadata": {
        "id": "4OQ84P9UtylH"
      },
      "source": [
        "* When a and b are matrices (order 2), the case axes=0 gives the outer product, a tensor of order 4."
      ]
    },
    {
      "cell_type": "code",
      "metadata": {
        "id": "owAqXOjDt1kT",
        "outputId": "decfecf0-2c82-407c-8f09-6ef128ccaba6",
        "colab": {
          "base_uri": "https://localhost:8080/"
        }
      },
      "source": [
        "r1 = np.tensordot(a1, a2,axes=0)       # Outer Product\n",
        "print(\"Resulting Tensor : \\n\", r1)\n",
        "r1.shape"
      ],
      "execution_count": 61,
      "outputs": [
        {
          "output_type": "stream",
          "name": "stdout",
          "text": [
            "Resulting Tensor : \n",
            " [[[[ 1  2]\n",
            "   [ 3  4]\n",
            "   [ 2  3]]\n",
            "\n",
            "  [[ 2  4]\n",
            "   [ 6  8]\n",
            "   [ 4  6]]\n",
            "\n",
            "  [[ 3  6]\n",
            "   [ 9 12]\n",
            "   [ 6  9]]]\n",
            "\n",
            "\n",
            " [[[ 2  4]\n",
            "   [ 6  8]\n",
            "   [ 4  6]]\n",
            "\n",
            "  [[ 3  6]\n",
            "   [ 9 12]\n",
            "   [ 6  9]]\n",
            "\n",
            "  [[ 1  2]\n",
            "   [ 3  4]\n",
            "   [ 2  3]]]]\n"
          ]
        },
        {
          "output_type": "execute_result",
          "data": {
            "text/plain": [
              "(2, 3, 3, 2)"
            ]
          },
          "metadata": {},
          "execution_count": 61
        }
      ]
    },
    {
      "cell_type": "markdown",
      "metadata": {
        "id": "w_H9RBJ_t7QT"
      },
      "source": [
        "#### TensorFlow\n",
        "\n",
        "Similar as NumPy.\n",
        "\n",
        "To know more about tensordot, refer the [link](https://www.tensorflow.org/api_docs/python/tf/tensordot)"
      ]
    },
    {
      "cell_type": "code",
      "metadata": {
        "id": "jhV65XRTt-HJ",
        "outputId": "373a7f33-3fc8-4465-ff0f-bf2a174324d3",
        "colab": {
          "base_uri": "https://localhost:8080/"
        }
      },
      "source": [
        "# Defining tensors\n",
        "a1_tf = tf.Variable([[1,2,3],[2,3,1]])\n",
        "a2_tf = tf.Variable([[1,2],[3,4],[2,3]])\n",
        "print(\"Tensor1 is: \\n \", a1_tf)\n",
        "print(\"Tensor2 is: \\n\", a2_tf)\n",
        "\n",
        "# Calculating tensordot\n",
        "r1_tf = tf.tensordot(a1_tf, a2_tf, axes=([0,1]))  # Same when axes are passed as -->  axes=([0],[1])  OR   axes=([[0],[1]])\n",
        "print(\"Tensordot of these tensors is:\\n\", r1_tf)\n",
        "print(\"Shape : \", tf.shape(r1_tf))"
      ],
      "execution_count": 62,
      "outputs": [
        {
          "output_type": "stream",
          "name": "stdout",
          "text": [
            "Tensor1 is: \n",
            "  <tf.Variable 'Variable:0' shape=(2, 3) dtype=int32, numpy=\n",
            "array([[1, 2, 3],\n",
            "       [2, 3, 1]], dtype=int32)>\n",
            "Tensor2 is: \n",
            " <tf.Variable 'Variable:0' shape=(3, 2) dtype=int32, numpy=\n",
            "array([[1, 2],\n",
            "       [3, 4],\n",
            "       [2, 3]], dtype=int32)>\n",
            "Tensordot of these tensors is:\n",
            " tf.Tensor(\n",
            "[[ 5 11  8]\n",
            " [ 8 18 13]\n",
            " [ 5 13  9]], shape=(3, 3), dtype=int32)\n",
            "Shape :  tf.Tensor([3 3], shape=(2,), dtype=int32)\n"
          ]
        }
      ]
    },
    {
      "cell_type": "code",
      "metadata": {
        "id": "v07hqXWIuBlQ",
        "outputId": "7af2e910-732d-49f7-d4f7-d759537261e4",
        "colab": {
          "base_uri": "https://localhost:8080/"
        }
      },
      "source": [
        "r1_tf = tf.tensordot(a1_tf, a2_tf,axes=0)  # Outer Product\n",
        "print(\"Resulting Tensor : \\n\", r1_tf)\n",
        "tf.shape(r1_tf)"
      ],
      "execution_count": 63,
      "outputs": [
        {
          "output_type": "stream",
          "name": "stdout",
          "text": [
            "Resulting Tensor : \n",
            " tf.Tensor(\n",
            "[[[[ 1  2]\n",
            "   [ 3  4]\n",
            "   [ 2  3]]\n",
            "\n",
            "  [[ 2  4]\n",
            "   [ 6  8]\n",
            "   [ 4  6]]\n",
            "\n",
            "  [[ 3  6]\n",
            "   [ 9 12]\n",
            "   [ 6  9]]]\n",
            "\n",
            "\n",
            " [[[ 2  4]\n",
            "   [ 6  8]\n",
            "   [ 4  6]]\n",
            "\n",
            "  [[ 3  6]\n",
            "   [ 9 12]\n",
            "   [ 6  9]]\n",
            "\n",
            "  [[ 1  2]\n",
            "   [ 3  4]\n",
            "   [ 2  3]]]], shape=(2, 3, 3, 2), dtype=int32)\n"
          ]
        },
        {
          "output_type": "execute_result",
          "data": {
            "text/plain": [
              "<tf.Tensor: shape=(4,), dtype=int32, numpy=array([2, 3, 3, 2], dtype=int32)>"
            ]
          },
          "metadata": {},
          "execution_count": 63
        }
      ]
    },
    {
      "cell_type": "markdown",
      "metadata": {
        "id": "7wDe_I_4uFY9"
      },
      "source": [
        "**Note:** we have illustrated only 2nd order Tensordot operation. For operations on higher-order Tensors visit the reference mentioned above."
      ]
    },
    {
      "cell_type": "markdown",
      "metadata": {
        "id": "FCc93fa64WSA"
      },
      "source": [
        "### Reduction:\n",
        "Calculating the sum across all elements of a tensor along with any one or multiple dimensions."
      ]
    },
    {
      "cell_type": "markdown",
      "metadata": {
        "id": "Kwo8ZhF6hPRa"
      },
      "source": [
        "#### NumPy"
      ]
    },
    {
      "cell_type": "code",
      "metadata": {
        "id": "GfcsaOqtmyT4",
        "outputId": "ba7d44d8-26d1-4b10-c626-5533ba6db8ae",
        "colab": {
          "base_uri": "https://localhost:8080/"
        }
      },
      "source": [
        "a   # Using the matrix/tensor defined above using Numpy"
      ],
      "execution_count": 64,
      "outputs": [
        {
          "output_type": "execute_result",
          "data": {
            "text/plain": [
              "array([[1, 2],\n",
              "       [2, 3],\n",
              "       [6, 7]])"
            ]
          },
          "metadata": {},
          "execution_count": 64
        }
      ]
    },
    {
      "cell_type": "code",
      "metadata": {
        "id": "uu7riudtmybD",
        "outputId": "424472c8-7c5b-40a8-a860-85a3dd4a9180",
        "colab": {
          "base_uri": "https://localhost:8080/"
        }
      },
      "source": [
        "print(a.sum())  # OR\n",
        "print(np.sum(a))"
      ],
      "execution_count": 65,
      "outputs": [
        {
          "output_type": "stream",
          "name": "stdout",
          "text": [
            "21\n",
            "21\n"
          ]
        }
      ]
    },
    {
      "cell_type": "markdown",
      "metadata": {
        "id": "rfeANjHNraXN"
      },
      "source": [
        "* Summation along any one dimension: Here axis=0 means down the rows and axis=1 means along the columns."
      ]
    },
    {
      "cell_type": "code",
      "metadata": {
        "id": "hSnGy0-MrRNg",
        "outputId": "484e6b4b-6e22-420d-e423-9038a59ffdb8",
        "colab": {
          "base_uri": "https://localhost:8080/"
        }
      },
      "source": [
        "print(a.sum(axis=0))  # OR\n",
        "print(np.sum(a,axis=0))"
      ],
      "execution_count": 66,
      "outputs": [
        {
          "output_type": "stream",
          "name": "stdout",
          "text": [
            "[ 9 12]\n",
            "[ 9 12]\n"
          ]
        }
      ]
    },
    {
      "cell_type": "code",
      "metadata": {
        "id": "_NSRx4JtrVIr",
        "outputId": "6f296da1-f812-40bb-8385-3ee8095cdf86",
        "colab": {
          "base_uri": "https://localhost:8080/"
        }
      },
      "source": [
        "print(a.sum(axis=1))  # OR\n",
        "print(np.sum(a,axis=1))"
      ],
      "execution_count": 67,
      "outputs": [
        {
          "output_type": "stream",
          "name": "stdout",
          "text": [
            "[ 3  5 13]\n",
            "[ 3  5 13]\n"
          ]
        }
      ]
    },
    {
      "cell_type": "markdown",
      "metadata": {
        "id": "kj2qsYVdsGjg"
      },
      "source": [
        "**Notice the code below and find the difference between the above and below operations.**"
      ]
    },
    {
      "cell_type": "code",
      "metadata": {
        "id": "s4RSKkf2r9kO",
        "outputId": "f495978b-5776-4cef-e8dd-ad4ee68965f4",
        "colab": {
          "base_uri": "https://localhost:8080/"
        }
      },
      "source": [
        "print(a.sum(axis=1,keepdims=True))  # OR\n",
        "print(np.sum(a,axis=1,keepdims=True))"
      ],
      "execution_count": 68,
      "outputs": [
        {
          "output_type": "stream",
          "name": "stdout",
          "text": [
            "[[ 3]\n",
            " [ 5]\n",
            " [13]]\n",
            "[[ 3]\n",
            " [ 5]\n",
            " [13]]\n"
          ]
        }
      ]
    },
    {
      "cell_type": "markdown",
      "metadata": {
        "id": "jacCEzGirHNQ"
      },
      "source": [
        "#### TensorFlow"
      ]
    },
    {
      "cell_type": "code",
      "metadata": {
        "id": "Qmd9pOnjmyjT",
        "outputId": "00b08fce-b87d-4998-ea0c-03867feb236f",
        "colab": {
          "base_uri": "https://localhost:8080/"
        }
      },
      "source": [
        "a_tf    # Using the tensor a_tf defined using Tensorflow"
      ],
      "execution_count": 69,
      "outputs": [
        {
          "output_type": "execute_result",
          "data": {
            "text/plain": [
              "<tf.Variable 'Variable:0' shape=(3, 2) dtype=int32, numpy=\n",
              "array([[1, 2],\n",
              "       [2, 3],\n",
              "       [6, 7]], dtype=int32)>"
            ]
          },
          "metadata": {},
          "execution_count": 69
        }
      ]
    },
    {
      "cell_type": "code",
      "metadata": {
        "id": "U7RBXWZ_s1-S",
        "outputId": "eeebbe18-46e7-4758-f5ff-3df311c237b5",
        "colab": {
          "base_uri": "https://localhost:8080/"
        }
      },
      "source": [
        "tf.reduce_sum(a_tf)"
      ],
      "execution_count": 70,
      "outputs": [
        {
          "output_type": "execute_result",
          "data": {
            "text/plain": [
              "<tf.Tensor: shape=(), dtype=int32, numpy=21>"
            ]
          },
          "metadata": {},
          "execution_count": 70
        }
      ]
    },
    {
      "cell_type": "code",
      "metadata": {
        "id": "g0cnA5fus2MC",
        "outputId": "516141e7-5404-4dc6-cbe6-b388ad89ef4c",
        "colab": {
          "base_uri": "https://localhost:8080/"
        }
      },
      "source": [
        "tf.reduce_sum(a_tf,0)  # down the rows"
      ],
      "execution_count": 71,
      "outputs": [
        {
          "output_type": "execute_result",
          "data": {
            "text/plain": [
              "<tf.Tensor: shape=(2,), dtype=int32, numpy=array([ 9, 12], dtype=int32)>"
            ]
          },
          "metadata": {},
          "execution_count": 71
        }
      ]
    },
    {
      "cell_type": "code",
      "metadata": {
        "id": "G420vLmzs2XK",
        "outputId": "ee61ceb0-eff8-4983-e861-3d2b24cbd4dd",
        "colab": {
          "base_uri": "https://localhost:8080/"
        }
      },
      "source": [
        "tf.reduce_sum(a_tf,1) # along the columns"
      ],
      "execution_count": 72,
      "outputs": [
        {
          "output_type": "execute_result",
          "data": {
            "text/plain": [
              "<tf.Tensor: shape=(3,), dtype=int32, numpy=array([ 3,  5, 13], dtype=int32)>"
            ]
          },
          "metadata": {},
          "execution_count": 72
        }
      ]
    },
    {
      "cell_type": "markdown",
      "metadata": {
        "id": "mrNWUO_HveDC"
      },
      "source": [
        "### Tensor/Matrix Determinant & Inversion\n",
        "* The matrix inversion is only valid for non-singular matrix i.e. matrix with non zero determinants. All columns of the matrix must be linearly independent.\n",
        "* Inversion is only calculated for the square matrix."
      ]
    },
    {
      "cell_type": "markdown",
      "metadata": {
        "id": "XVgSUCPAg5N0"
      },
      "source": [
        "#### NumPy"
      ]
    },
    {
      "cell_type": "code",
      "metadata": {
        "id": "0_vBuCpBtZf5",
        "outputId": "fa934825-30c1-45e9-951c-25474fa0c13e",
        "colab": {
          "base_uri": "https://localhost:8080/"
        }
      },
      "source": [
        "X = np.array([[2,3],[5,9]])\n",
        "X"
      ],
      "execution_count": 73,
      "outputs": [
        {
          "output_type": "execute_result",
          "data": {
            "text/plain": [
              "array([[2, 3],\n",
              "       [5, 9]])"
            ]
          },
          "metadata": {},
          "execution_count": 73
        }
      ]
    },
    {
      "cell_type": "code",
      "metadata": {
        "id": "0IM4Kf6QtZyI",
        "outputId": "75ee8f95-eaf3-4480-f33f-5f08f01610fb",
        "colab": {
          "base_uri": "https://localhost:8080/"
        }
      },
      "source": [
        "np.linalg.det(X) # Determinant calculation"
      ],
      "execution_count": 74,
      "outputs": [
        {
          "output_type": "execute_result",
          "data": {
            "text/plain": [
              "3.0000000000000004"
            ]
          },
          "metadata": {},
          "execution_count": 74
        }
      ]
    },
    {
      "cell_type": "code",
      "metadata": {
        "id": "ffr898zyxdd3",
        "outputId": "75c9e7c0-415a-4d6a-e1e1-a187b26935e1",
        "colab": {
          "base_uri": "https://localhost:8080/"
        }
      },
      "source": [
        "X_inv = np.linalg.inv(X)\n",
        "X_inv"
      ],
      "execution_count": 75,
      "outputs": [
        {
          "output_type": "execute_result",
          "data": {
            "text/plain": [
              "array([[ 3.        , -1.        ],\n",
              "       [-1.66666667,  0.66666667]])"
            ]
          },
          "metadata": {},
          "execution_count": 75
        }
      ]
    },
    {
      "cell_type": "code",
      "metadata": {
        "id": "7DryrhzGxlC_",
        "outputId": "5e6793a9-88f3-48ab-e474-ec4825b954d5",
        "colab": {
          "base_uri": "https://localhost:8080/"
        }
      },
      "source": [
        "np.dot(X,X_inv)"
      ],
      "execution_count": 76,
      "outputs": [
        {
          "output_type": "execute_result",
          "data": {
            "text/plain": [
              "array([[ 1.00000000e+00, -1.11022302e-16],\n",
              "       [ 1.33226763e-15,  1.00000000e+00]])"
            ]
          },
          "metadata": {},
          "execution_count": 76
        }
      ]
    },
    {
      "cell_type": "markdown",
      "metadata": {
        "id": "CYQy5bDgxyRK"
      },
      "source": [
        "#### TensorFlow"
      ]
    },
    {
      "cell_type": "code",
      "metadata": {
        "id": "W0Cjj6Aax0lC",
        "outputId": "67c7487b-3b57-47fb-aa29-94486aa78a08",
        "colab": {
          "base_uri": "https://localhost:8080/"
        }
      },
      "source": [
        "# To get inverse, make sure that  tensor has entries as float\n",
        "X_tf = tf.Variable([[2.,3.],[5.,9.]])\n",
        "X_tf"
      ],
      "execution_count": 77,
      "outputs": [
        {
          "output_type": "execute_result",
          "data": {
            "text/plain": [
              "<tf.Variable 'Variable:0' shape=(2, 2) dtype=float32, numpy=\n",
              "array([[2., 3.],\n",
              "       [5., 9.]], dtype=float32)>"
            ]
          },
          "metadata": {},
          "execution_count": 77
        }
      ]
    },
    {
      "cell_type": "code",
      "metadata": {
        "id": "6k5tmZEUyqx9",
        "outputId": "85048bf8-9625-4905-cd32-4c729d228cc6",
        "colab": {
          "base_uri": "https://localhost:8080/"
        }
      },
      "source": [
        "# Determinant Calculation\n",
        "tf.linalg.det(X_tf)"
      ],
      "execution_count": 78,
      "outputs": [
        {
          "output_type": "execute_result",
          "data": {
            "text/plain": [
              "<tf.Tensor: shape=(), dtype=float32, numpy=3.0000007>"
            ]
          },
          "metadata": {},
          "execution_count": 78
        }
      ]
    },
    {
      "cell_type": "code",
      "metadata": {
        "id": "kzmfqXYN0WXN",
        "outputId": "e8114287-d284-416a-cea9-1a0ca7086621",
        "colab": {
          "base_uri": "https://localhost:8080/"
        }
      },
      "source": [
        "## To get only the final result, add --> .numpy() at the end as given below. Valid everywhere.\n",
        "tf.linalg.det(X_tf).numpy()"
      ],
      "execution_count": 79,
      "outputs": [
        {
          "output_type": "execute_result",
          "data": {
            "text/plain": [
              "3.0000007"
            ]
          },
          "metadata": {},
          "execution_count": 79
        }
      ]
    },
    {
      "cell_type": "code",
      "metadata": {
        "id": "zPnSRvrbx03Q",
        "outputId": "7330441d-751a-4878-f268-f35216792574",
        "colab": {
          "base_uri": "https://localhost:8080/"
        }
      },
      "source": [
        "X_tf_inv = tf.linalg.inv(X_tf)\n",
        "X_tf_inv"
      ],
      "execution_count": 80,
      "outputs": [
        {
          "output_type": "execute_result",
          "data": {
            "text/plain": [
              "<tf.Tensor: shape=(2, 2), dtype=float32, numpy=\n",
              "array([[ 2.9999993, -0.9999997],\n",
              "       [-1.6666663,  0.6666665]], dtype=float32)>"
            ]
          },
          "metadata": {},
          "execution_count": 80
        }
      ]
    },
    {
      "cell_type": "code",
      "metadata": {
        "id": "jD__pHJxy2Ze",
        "outputId": "a499e845-8a5e-4098-aadb-4b8c6d801d33",
        "colab": {
          "base_uri": "https://localhost:8080/"
        }
      },
      "source": [
        "tf.matmul(X_tf,X_tf_inv)"
      ],
      "execution_count": 81,
      "outputs": [
        {
          "output_type": "execute_result",
          "data": {
            "text/plain": [
              "<tf.Tensor: shape=(2, 2), dtype=float32, numpy=\n",
              "array([[9.9999952e-01, 1.1920929e-07],\n",
              "       [0.0000000e+00, 1.0000000e+00]], dtype=float32)>"
            ]
          },
          "metadata": {},
          "execution_count": 81
        }
      ]
    },
    {
      "cell_type": "markdown",
      "metadata": {
        "id": "9wUj5bkbXoJV"
      },
      "source": [
        "### Higher-order tensor\n",
        "A colored image consists of three channels of pixels one for Red color, one for Green color, and one for Blue color. Each channel is a 2D matrix. That means, any colored image is represented by a 3-tensor of pixels composed of three 2D matrices stacked one after another and each 2D matrix is called a channel. Say we have an image of 32 megapixels then the shape of the tensor representation of this image is (32,32,3),i.e. three 32X32 matrices are stacked one after another. So this is a tensor of order/rank 3 and it is used for the representation of an image.\n",
        "\n",
        "![img1](https://cdn.iisc.talentsprint.com/CDS/Images/RGB_Channel.JPG)"
      ]
    },
    {
      "cell_type": "markdown",
      "metadata": {
        "id": "Cqo8QwnSk-AI"
      },
      "source": [
        "Now, say there are 100 such images, then the tensor will be of 4th order and the shape will be (100,32,32,3). So the tensor contains information of 100 images each consists of RGB  channels of 32 by 32 megapixel.\n",
        "#### NumPy"
      ]
    },
    {
      "cell_type": "code",
      "metadata": {
        "id": "Yp4GwRO_kkWQ",
        "outputId": "cf087c97-eb7a-4054-c5f2-9e3c766fe502",
        "colab": {
          "base_uri": "https://localhost:8080/"
        }
      },
      "source": [
        "# Making a 3 rank/order tensor filled with zeros\n",
        "np.zeros([3,2,3])"
      ],
      "execution_count": 82,
      "outputs": [
        {
          "output_type": "execute_result",
          "data": {
            "text/plain": [
              "array([[[0., 0., 0.],\n",
              "        [0., 0., 0.]],\n",
              "\n",
              "       [[0., 0., 0.],\n",
              "        [0., 0., 0.]],\n",
              "\n",
              "       [[0., 0., 0.],\n",
              "        [0., 0., 0.]]])"
            ]
          },
          "metadata": {},
          "execution_count": 82
        }
      ]
    },
    {
      "cell_type": "code",
      "metadata": {
        "id": "yd4eXWN2obzr",
        "outputId": "3bee64b0-ed6d-4010-fabd-441c8b528398",
        "colab": {
          "base_uri": "https://localhost:8080/"
        }
      },
      "source": [
        "# Making a 4 rank/order tensor filled with zeros\n",
        "np.zeros([2,3,2,3])"
      ],
      "execution_count": 83,
      "outputs": [
        {
          "output_type": "execute_result",
          "data": {
            "text/plain": [
              "array([[[[0., 0., 0.],\n",
              "         [0., 0., 0.]],\n",
              "\n",
              "        [[0., 0., 0.],\n",
              "         [0., 0., 0.]],\n",
              "\n",
              "        [[0., 0., 0.],\n",
              "         [0., 0., 0.]]],\n",
              "\n",
              "\n",
              "       [[[0., 0., 0.],\n",
              "         [0., 0., 0.]],\n",
              "\n",
              "        [[0., 0., 0.],\n",
              "         [0., 0., 0.]],\n",
              "\n",
              "        [[0., 0., 0.],\n",
              "         [0., 0., 0.]]]])"
            ]
          },
          "metadata": {},
          "execution_count": 83
        }
      ]
    },
    {
      "cell_type": "markdown",
      "metadata": {
        "id": "HHQmSvGFqajN"
      },
      "source": [
        "#### TensorFlow"
      ]
    },
    {
      "cell_type": "code",
      "metadata": {
        "id": "tTxz6fZZnkQD",
        "outputId": "083c85ac-c788-4d62-8635-7002d0f39761",
        "colab": {
          "base_uri": "https://localhost:8080/"
        }
      },
      "source": [
        "tf.zeros([3,2,3])"
      ],
      "execution_count": 84,
      "outputs": [
        {
          "output_type": "execute_result",
          "data": {
            "text/plain": [
              "<tf.Tensor: shape=(3, 2, 3), dtype=float32, numpy=\n",
              "array([[[0., 0., 0.],\n",
              "        [0., 0., 0.]],\n",
              "\n",
              "       [[0., 0., 0.],\n",
              "        [0., 0., 0.]],\n",
              "\n",
              "       [[0., 0., 0.],\n",
              "        [0., 0., 0.]]], dtype=float32)>"
            ]
          },
          "metadata": {},
          "execution_count": 84
        }
      ]
    },
    {
      "cell_type": "code",
      "metadata": {
        "id": "EDcCe5RakZkw",
        "outputId": "e497dd5a-818f-4477-f8ef-7c048c4664d3",
        "colab": {
          "base_uri": "https://localhost:8080/"
        }
      },
      "source": [
        "tf.zeros([2,3,2,3])"
      ],
      "execution_count": 85,
      "outputs": [
        {
          "output_type": "execute_result",
          "data": {
            "text/plain": [
              "<tf.Tensor: shape=(2, 3, 2, 3), dtype=float32, numpy=\n",
              "array([[[[0., 0., 0.],\n",
              "         [0., 0., 0.]],\n",
              "\n",
              "        [[0., 0., 0.],\n",
              "         [0., 0., 0.]],\n",
              "\n",
              "        [[0., 0., 0.],\n",
              "         [0., 0., 0.]]],\n",
              "\n",
              "\n",
              "       [[[0., 0., 0.],\n",
              "         [0., 0., 0.]],\n",
              "\n",
              "        [[0., 0., 0.],\n",
              "         [0., 0., 0.]],\n",
              "\n",
              "        [[0., 0., 0.],\n",
              "         [0., 0., 0.]]]], dtype=float32)>"
            ]
          },
          "metadata": {},
          "execution_count": 85
        }
      ]
    },
    {
      "cell_type": "markdown",
      "metadata": {
        "id": "W263Lyklop8B"
      },
      "source": [
        "### Converting NumPy Tensor into TensorFlow Tensor and vice-versa :"
      ]
    },
    {
      "cell_type": "code",
      "metadata": {
        "id": "4qzVJJoeo4FJ",
        "outputId": "14a381c7-16ea-481b-9864-30081aba4b03",
        "colab": {
          "base_uri": "https://localhost:8080/"
        }
      },
      "source": [
        "x = tf.constant([[1, 2, 3], [4, 5, 6]])\n",
        "x"
      ],
      "execution_count": 86,
      "outputs": [
        {
          "output_type": "execute_result",
          "data": {
            "text/plain": [
              "<tf.Tensor: shape=(2, 3), dtype=int32, numpy=\n",
              "array([[1, 2, 3],\n",
              "       [4, 5, 6]], dtype=int32)>"
            ]
          },
          "metadata": {},
          "execution_count": 86
        }
      ]
    },
    {
      "cell_type": "code",
      "metadata": {
        "id": "LxF0-D75pD8z",
        "outputId": "c0787211-5eff-43bd-83db-6740fb9ec8ff",
        "colab": {
          "base_uri": "https://localhost:8080/"
        }
      },
      "source": [
        "x_np = x.numpy()\n",
        "x_np"
      ],
      "execution_count": 87,
      "outputs": [
        {
          "output_type": "execute_result",
          "data": {
            "text/plain": [
              "array([[1, 2, 3],\n",
              "       [4, 5, 6]], dtype=int32)"
            ]
          },
          "metadata": {},
          "execution_count": 87
        }
      ]
    },
    {
      "cell_type": "code",
      "metadata": {
        "id": "I_3gsLeQpXdT",
        "outputId": "1230c648-4662-4a0e-fb61-d66194227264",
        "colab": {
          "base_uri": "https://localhost:8080/"
        }
      },
      "source": [
        "x_tf = tf.convert_to_tensor(x_np)\n",
        "x_tf"
      ],
      "execution_count": 88,
      "outputs": [
        {
          "output_type": "execute_result",
          "data": {
            "text/plain": [
              "<tf.Tensor: shape=(2, 3), dtype=int32, numpy=\n",
              "array([[1, 2, 3],\n",
              "       [4, 5, 6]], dtype=int32)>"
            ]
          },
          "metadata": {},
          "execution_count": 88
        }
      ]
    },
    {
      "cell_type": "markdown",
      "metadata": {
        "id": "oQ0n9U2DQRCb"
      },
      "source": [
        "**Comparison** Tensor in NumPy and TensorFlow: We have carried out different operations of Tensor using both NumPy and TensorFlow libraries. In general, the Tensors defined in NumPy are called Nd-Arrays whereas in TensorFlow they are called Tensors.\n",
        "* Do NumPy arrays differ from Tensors?\n",
        "\n",
        "There is no difference between Tensors defined through both the libraries apart from the syntactical difference (that we have seen in the above operations) but a Tensor is a more suitable choice if we are going to use GPUs/TPUs as it can reside in accelerators memory. This is the main reasoning behind the application of TensorFlow in deep learning."
      ]
    },
    {
      "cell_type": "markdown",
      "metadata": {
        "id": "O1kyY1mt6vdv"
      },
      "source": [
        "To explore more about other operations click [here](https://www.tensorflow.org/guide/tensor)."
      ]
    },
    {
      "cell_type": "markdown",
      "metadata": {
        "id": "GvdJCvc_Quyu"
      },
      "source": [
        "**Ungraded practice problems**"
      ]
    },
    {
      "cell_type": "markdown",
      "metadata": {
        "id": "vlhK-Gx6QRCd"
      },
      "source": [
        "**Q.1. Two tensors having different shapes**\n",
        "\n",
        "a) can not be added.\n",
        "\n",
        "b) can be added mathematically.\n",
        "\n",
        "c) can be added in NumPy but not in TensorFlow.\n",
        "\n",
        "d) can be added in both NumPy and TensorFlow.\n",
        "\n",
        "Answer : d)"
      ]
    },
    {
      "cell_type": "markdown",
      "metadata": {
        "id": "1Z-OmWwTQRCe"
      },
      "source": [
        "**Q.2. Which of the following are not true about matrix multiplication?**\n",
        "\n",
        "a) Hadamard and Matrix Multiplication are the same operations.\n",
        "\n",
        "b) Matrix Multiplication can only be done between matrices of the same shape.\n",
        "\n",
        "c) Element-wise multiplication is the same as that of Matrix Multiplication.\n",
        "\n",
        "d) Number of columns of the first matrix and number of rows of the second matrix must match for matrix multiplication.\n",
        "\n",
        "Answer: a),b) and c)"
      ]
    },
    {
      "cell_type": "markdown",
      "metadata": {
        "id": "s-aEdMM0QRCe"
      },
      "source": [
        "**Q.3. The concept of broadcasting is related to**\n",
        "\n",
        "a) Inverse of a matrix.\n",
        "\n",
        "b) Multiplication of matrix.\n",
        "\n",
        "c) Addition of matrix.\n",
        "\n",
        "d) Subtraction of Matrix.\n",
        "\n",
        "Answer: Both c) and d)"
      ]
    },
    {
      "cell_type": "markdown",
      "metadata": {
        "id": "VHfHdGCP_n6Y"
      },
      "source": [
        "### Please answer the questions below to complete the experiment:\n",
        "\n",
        "**Note:** For the question below, there is a single correct answer among the options. Exploration on the representation format is required.\n",
        "\n",
        "\n"
      ]
    },
    {
      "cell_type": "code",
      "metadata": {
        "id": "VgSwVENIPcM6"
      },
      "source": [
        "# @title Which of the following may be the shape of a tensor representing 10 color images of size 64 X 64? { run: \"auto\", form-width: \"500px\", display-mode: \"form\" }\n",
        "Answer = \"10 x 3 x 64 x 64\" #@param [\"\",\"10 x 3 x 64 x 64\",\"10 x 64 x 3\", \"64 x 10 x 3 x 64\", \"4 x 64 x 10 x 3\"]"
      ],
      "execution_count": 89,
      "outputs": []
    },
    {
      "cell_type": "code",
      "metadata": {
        "id": "NMzKSbLIgFzQ"
      },
      "source": [
        "#@title How was the experiment? { run: \"auto\", form-width: \"500px\", display-mode: \"form\" }\n",
        "Complexity = \"Good and Challenging for me\" #@param [\"\",\"Too Simple, I am wasting time\", \"Good, But Not Challenging for me\", \"Good and Challenging for me\", \"Was Tough, but I did it\", \"Too Difficult for me\"]\n"
      ],
      "execution_count": 90,
      "outputs": []
    },
    {
      "cell_type": "code",
      "metadata": {
        "id": "DjcH1VWSFI2l"
      },
      "source": [
        "#@title If it was too easy, what more would you have liked to be added? If it was very difficult, what would you have liked to have been removed? { run: \"auto\", display-mode: \"form\" }\n",
        "Additional = \"NA\" #@param {type:\"string\"}\n"
      ],
      "execution_count": 91,
      "outputs": []
    },
    {
      "cell_type": "code",
      "metadata": {
        "id": "4VBk_4VTAxCM"
      },
      "source": [
        "#@title Can you identify the concepts from the lecture which this experiment covered? { run: \"auto\", vertical-output: true, display-mode: \"form\" }\n",
        "Concepts = \"Yes\" #@param [\"\",\"Yes\", \"No\"]\n"
      ],
      "execution_count": 92,
      "outputs": []
    },
    {
      "cell_type": "code",
      "metadata": {
        "id": "XH91cL1JWH7m"
      },
      "source": [
        "#@title  Text and image description/explanation and code comments within the experiment: { run: \"auto\", vertical-output: true, display-mode: \"form\" }\n",
        "Comments = \"Very Useful\" #@param [\"\",\"Very Useful\", \"Somewhat Useful\", \"Not Useful\", \"Didn't use\"]\n"
      ],
      "execution_count": 93,
      "outputs": []
    },
    {
      "cell_type": "code",
      "metadata": {
        "id": "z8xLqj7VWIKW"
      },
      "source": [
        "#@title Mentor Support: { run: \"auto\", vertical-output: true, display-mode: \"form\" }\n",
        "Mentor_support = \"Didn't use\" #@param [\"\",\"Very Useful\", \"Somewhat Useful\", \"Not Useful\", \"Didn't use\"]\n"
      ],
      "execution_count": 94,
      "outputs": []
    },
    {
      "cell_type": "code",
      "metadata": {
        "id": "FzAZHt1zw-Y-",
        "cellView": "form",
        "outputId": "8b1b60ac-b826-485b-ffa6-eca5158f0dd5",
        "colab": {
          "base_uri": "https://localhost:8080/"
        }
      },
      "source": [
        "#@title Run this cell to submit your notebook for grading { vertical-output: true }\n",
        "try:\n",
        "  if submission_id:\n",
        "      return_id = submit_notebook()\n",
        "      if return_id : submission_id = return_id\n",
        "  else:\n",
        "      print(\"Please complete the setup first.\")\n",
        "except NameError:\n",
        "  print (\"Please complete the setup first.\")"
      ],
      "execution_count": 95,
      "outputs": [
        {
          "output_type": "stream",
          "name": "stdout",
          "text": [
            "Your submission is successful.\n",
            "Ref Id: 1621\n",
            "Date of submission:  23 Jun 2024\n",
            "Time of submission:  19:27:31\n",
            "View your submissions: https://cds-iisc.talentsprint.com/notebook_submissions\n"
          ]
        }
      ]
    }
  ]
}