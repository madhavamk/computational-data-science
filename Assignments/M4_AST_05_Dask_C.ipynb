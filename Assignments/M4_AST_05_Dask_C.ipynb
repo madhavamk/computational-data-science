{
  "cells": [
    {
      "cell_type": "markdown",
      "metadata": {
        "id": "view-in-github",
        "colab_type": "text"
      },
      "source": [
        "<a href=\"https://colab.research.google.com/github/madhavamk/computational-data-science/blob/master/Assignments/M4_AST_05_Dask_C.ipynb\" target=\"_parent\"><img src=\"https://colab.research.google.com/assets/colab-badge.svg\" alt=\"Open In Colab\"/></a>"
      ]
    },
    {
      "cell_type": "markdown",
      "id": "temporal-consequence",
      "metadata": {
        "id": "temporal-consequence"
      },
      "source": [
        "# Advanced Certification Program in Computational Data Science\n",
        "## A program by IISc and TalentSprint\n",
        "### Assignment 5: Dask"
      ]
    },
    {
      "cell_type": "markdown",
      "id": "imported-begin",
      "metadata": {
        "id": "imported-begin"
      },
      "source": [
        "## Learning Objectives"
      ]
    },
    {
      "cell_type": "markdown",
      "id": "solid-upset",
      "metadata": {
        "id": "solid-upset"
      },
      "source": [
        "At the end of the experiment, you will be able to:\n",
        "\n",
        "* know and implement dask related libraries\n",
        "* understand and visualize parallel processing using dask delayed\n",
        "* implement dask arrays\n",
        "* handle large and complex datasets in dask dataframes\n",
        "* implement list using dask bags\n",
        "* implement Linear Regression using dask-ml"
      ]
    },
    {
      "cell_type": "markdown",
      "id": "Mc_TIXSUPf8V",
      "metadata": {
        "id": "Mc_TIXSUPf8V"
      },
      "source": [
        "## Information"
      ]
    },
    {
      "cell_type": "markdown",
      "id": "external-gathering",
      "metadata": {
        "id": "external-gathering"
      },
      "source": [
        "### Dask\n",
        "\n",
        "Dask was launched in late 2014 by Matthew Rocklin with aims to bring native scalability to the Python Open Data Science  and overcome its single-machine restrictions. Dask consists of several different components and APIs, which can be categorized into three layers:\n",
        "\n",
        "* the scheduler\n",
        "* low-level APIs\n",
        "* high-level APIs"
      ]
    },
    {
      "cell_type": "markdown",
      "id": "EKabdQH8PFyP",
      "metadata": {
        "id": "EKabdQH8PFyP"
      },
      "source": [
        "![Dask_Overview](https://cdn.iisc.talentsprint.com/CDS/Images/Dask_Overview.JPG)"
      ]
    },
    {
      "cell_type": "markdown",
      "id": "novel-franchise",
      "metadata": {
        "id": "novel-franchise"
      },
      "source": [
        "Dask is a free and open-source library for parallel computing in Python. It helps you scale your data science and machine learning workflows. It makes it easy to work with Numpy, Pandas, and Scikit-Learn, but that’s just the beginning. Dask exposes low-level APIs to its internal task scheduler to execute advanced computations. This enables building a personalised parallel computing system that uses the same engine that powers Dask’s Arrays, DataFrames, and machine learning algorithms.\n",
        "\n",
        "If you have larger-than-memory data, you can use Dask to scale up your workflow to leverage all the cores of your local workstation or even scale out to the cloud.\n",
        "\n",
        "Dask emphasizes the following virtues:\n",
        "\n",
        "* The ability to work in parallel with  NumPy array and Pandas DataFrame objects\n",
        "* Integration with other projects.\n",
        "* Distributed computing\n",
        "* Faster operation because of its low overhead and minimum serialisation\n",
        "* It runs resiliently on clusters with thousands of cores\n",
        "* Real-time feedback and diagnostics"
      ]
    },
    {
      "cell_type": "markdown",
      "id": "l_JB9kotQaHb",
      "metadata": {
        "id": "l_JB9kotQaHb"
      },
      "source": [
        "### Parallel Processing\n",
        "\n",
        "Parallel processing refers to executing multiple tasks at the same time, using multiple processors in the same machine.\n",
        "\n",
        "Generally, the code is executed in sequence, one task at a time. However, if you have a complex code that takes a long time to run but has no logic dependency on each other then instead of waiting for the previous task to complete, we compute multiple steps simultaneously. This lets you take advantage of the available processing power, which is the case in most modern computers, thereby reducing the total time taken.\n",
        "\n",
        "To learn more about dask, follow the link [here](https://docs.dask.org/en/latest/).\n"
      ]
    },
    {
      "cell_type": "code",
      "execution_count": 1,
      "id": "8rxxeAgzJJM5",
      "metadata": {
        "id": "8rxxeAgzJJM5",
        "cellView": "form",
        "outputId": "305e96aa-011f-4cbf-f273-69b2b5de374b",
        "colab": {
          "base_uri": "https://localhost:8080/"
        }
      },
      "outputs": [
        {
          "output_type": "stream",
          "name": "stdout",
          "text": [
            "\u001b[?25l   \u001b[90m━━━━━━━━━━━━━━━━━━━━━━━━━━━━━━━━━━━━━━━━\u001b[0m \u001b[32m0.0/1.3 MB\u001b[0m \u001b[31m?\u001b[0m eta \u001b[36m-:--:--\u001b[0m\r\u001b[2K   \u001b[90m━━━━━━━━━━━━━━━━━━━━━━━━━━━━━━━━━━━━━━━━\u001b[0m \u001b[32m1.3/1.3 MB\u001b[0m \u001b[31m50.3 MB/s\u001b[0m eta \u001b[36m0:00:00\u001b[0m\n",
            "\u001b[2K   \u001b[90m━━━━━━━━━━━━━━━━━━━━━━━━━━━━━━━━━━━━━━━━\u001b[0m \u001b[32m242.2/242.2 kB\u001b[0m \u001b[31m18.8 MB/s\u001b[0m eta \u001b[36m0:00:00\u001b[0m\n",
            "\u001b[2K   \u001b[90m━━━━━━━━━━━━━━━━━━━━━━━━━━━━━━━━━━━━━━━━\u001b[0m \u001b[32m4.4/4.4 MB\u001b[0m \u001b[31m1.9 MB/s\u001b[0m eta \u001b[36m0:00:00\u001b[0m\n",
            "\u001b[2K   \u001b[90m━━━━━━━━━━━━━━━━━━━━━━━━━━━━━━━━━━━━━━━━\u001b[0m \u001b[32m17.1/17.1 MB\u001b[0m \u001b[31m75.0 MB/s\u001b[0m eta \u001b[36m0:00:00\u001b[0m\n",
            "\u001b[?25h\u001b[31mERROR: pip's dependency resolver does not currently take into account all the packages that are installed. This behaviour is the source of the following dependency conflicts.\n",
            "albucore 0.0.16 requires numpy>=1.24, but you have numpy 1.23.4 which is incompatible.\n",
            "albumentations 1.4.15 requires numpy>=1.24.4, but you have numpy 1.23.4 which is incompatible.\n",
            "bigframes 1.18.0 requires numpy>=1.24.0, but you have numpy 1.23.4 which is incompatible.\n",
            "chex 0.1.86 requires numpy>=1.24.1, but you have numpy 1.23.4 which is incompatible.\n",
            "jax 0.4.33 requires numpy>=1.24, but you have numpy 1.23.4 which is incompatible.\n",
            "jaxlib 0.4.33 requires numpy>=1.24, but you have numpy 1.23.4 which is incompatible.\n",
            "pandas-stubs 2.1.4.231227 requires numpy>=1.26.0; python_version < \"3.13\", but you have numpy 1.23.4 which is incompatible.\n",
            "tensorflow 2.17.0 requires numpy<2.0.0,>=1.23.5; python_version <= \"3.11\", but you have numpy 1.23.4 which is incompatible.\n",
            "xarray 2024.9.0 requires numpy>=1.24, but you have numpy 1.23.4 which is incompatible.\u001b[0m\u001b[31m\n",
            "\u001b[2K   \u001b[90m━━━━━━━━━━━━━━━━━━━━━━━━━━━━━━━━━━━━━━━━\u001b[0m \u001b[32m149.8/149.8 kB\u001b[0m \u001b[31m12.0 MB/s\u001b[0m eta \u001b[36m0:00:00\u001b[0m\n",
            "\u001b[2K   \u001b[90m━━━━━━━━━━━━━━━━━━━━━━━━━━━━━━━━━━━━━━━━\u001b[0m \u001b[32m237.3/237.3 kB\u001b[0m \u001b[31m10.6 MB/s\u001b[0m eta \u001b[36m0:00:00\u001b[0m\n",
            "\u001b[?25hCollecting fastapi\n",
            "  Downloading fastapi-0.115.0-py3-none-any.whl.metadata (27 kB)\n",
            "Collecting starlette<0.39.0,>=0.37.2 (from fastapi)\n",
            "  Downloading starlette-0.38.6-py3-none-any.whl.metadata (6.0 kB)\n",
            "Requirement already satisfied: pydantic!=1.8,!=1.8.1,!=2.0.0,!=2.0.1,!=2.1.0,<3.0.0,>=1.7.4 in /usr/local/lib/python3.10/dist-packages (from fastapi) (2.9.2)\n",
            "Requirement already satisfied: typing-extensions>=4.8.0 in /usr/local/lib/python3.10/dist-packages (from fastapi) (4.12.2)\n",
            "Requirement already satisfied: annotated-types>=0.6.0 in /usr/local/lib/python3.10/dist-packages (from pydantic!=1.8,!=1.8.1,!=2.0.0,!=2.0.1,!=2.1.0,<3.0.0,>=1.7.4->fastapi) (0.7.0)\n",
            "Requirement already satisfied: pydantic-core==2.23.4 in /usr/local/lib/python3.10/dist-packages (from pydantic!=1.8,!=1.8.1,!=2.0.0,!=2.0.1,!=2.1.0,<3.0.0,>=1.7.4->fastapi) (2.23.4)\n",
            "Requirement already satisfied: anyio<5,>=3.4.0 in /usr/local/lib/python3.10/dist-packages (from starlette<0.39.0,>=0.37.2->fastapi) (3.7.1)\n",
            "Requirement already satisfied: idna>=2.8 in /usr/local/lib/python3.10/dist-packages (from anyio<5,>=3.4.0->starlette<0.39.0,>=0.37.2->fastapi) (3.10)\n",
            "Requirement already satisfied: sniffio>=1.1 in /usr/local/lib/python3.10/dist-packages (from anyio<5,>=3.4.0->starlette<0.39.0,>=0.37.2->fastapi) (1.3.1)\n",
            "Requirement already satisfied: exceptiongroup in /usr/local/lib/python3.10/dist-packages (from anyio<5,>=3.4.0->starlette<0.39.0,>=0.37.2->fastapi) (1.2.2)\n",
            "Downloading fastapi-0.115.0-py3-none-any.whl (94 kB)\n",
            "\u001b[2K   \u001b[90m━━━━━━━━━━━━━━━━━━━━━━━━━━━━━━━━━━━━━━━━\u001b[0m \u001b[32m94.6/94.6 kB\u001b[0m \u001b[31m9.0 MB/s\u001b[0m eta \u001b[36m0:00:00\u001b[0m\n",
            "\u001b[?25hDownloading starlette-0.38.6-py3-none-any.whl (71 kB)\n",
            "\u001b[2K   \u001b[90m━━━━━━━━━━━━━━━━━━━━━━━━━━━━━━━━━━━━━━━━\u001b[0m \u001b[32m71.5/71.5 kB\u001b[0m \u001b[31m6.3 MB/s\u001b[0m eta \u001b[36m0:00:00\u001b[0m\n",
            "\u001b[?25hInstalling collected packages: starlette, fastapi\n",
            "Successfully installed fastapi-0.115.0 starlette-0.38.6\n",
            "Collecting kaleido\n",
            "  Downloading kaleido-0.2.1-py2.py3-none-manylinux1_x86_64.whl.metadata (15 kB)\n",
            "Downloading kaleido-0.2.1-py2.py3-none-manylinux1_x86_64.whl (79.9 MB)\n",
            "\u001b[2K   \u001b[90m━━━━━━━━━━━━━━━━━━━━━━━━━━━━━━━━━━━━━━━━\u001b[0m \u001b[32m79.9/79.9 MB\u001b[0m \u001b[31m9.7 MB/s\u001b[0m eta \u001b[36m0:00:00\u001b[0m\n",
            "\u001b[?25hInstalling collected packages: kaleido\n",
            "Successfully installed kaleido-0.2.1\n",
            "Collecting uvicorn\n",
            "  Downloading uvicorn-0.31.0-py3-none-any.whl.metadata (6.6 kB)\n",
            "Requirement already satisfied: click>=7.0 in /usr/local/lib/python3.10/dist-packages (from uvicorn) (8.1.7)\n",
            "Collecting h11>=0.8 (from uvicorn)\n",
            "  Downloading h11-0.14.0-py3-none-any.whl.metadata (8.2 kB)\n",
            "Requirement already satisfied: typing-extensions>=4.0 in /usr/local/lib/python3.10/dist-packages (from uvicorn) (4.12.2)\n",
            "Downloading uvicorn-0.31.0-py3-none-any.whl (63 kB)\n",
            "\u001b[2K   \u001b[90m━━━━━━━━━━━━━━━━━━━━━━━━━━━━━━━━━━━━━━━━\u001b[0m \u001b[32m63.7/63.7 kB\u001b[0m \u001b[31m5.9 MB/s\u001b[0m eta \u001b[36m0:00:00\u001b[0m\n",
            "\u001b[?25hDownloading h11-0.14.0-py3-none-any.whl (58 kB)\n",
            "\u001b[2K   \u001b[90m━━━━━━━━━━━━━━━━━━━━━━━━━━━━━━━━━━━━━━━━\u001b[0m \u001b[32m58.3/58.3 kB\u001b[0m \u001b[31m6.1 MB/s\u001b[0m eta \u001b[36m0:00:00\u001b[0m\n",
            "\u001b[?25hInstalling collected packages: h11, uvicorn\n",
            "Successfully installed h11-0.14.0 uvicorn-0.31.0\n",
            "Collecting python-multipart\n",
            "  Downloading python_multipart-0.0.11-py3-none-any.whl.metadata (1.9 kB)\n",
            "Downloading python_multipart-0.0.11-py3-none-any.whl (22 kB)\n",
            "Installing collected packages: python-multipart\n",
            "Successfully installed python-multipart-0.0.11\n",
            "\u001b[31mERROR: pip's dependency resolver does not currently take into account all the packages that are installed. This behaviour is the source of the following dependency conflicts.\n",
            "cudf-cu12 24.4.1 requires numpy<2.0a0,>=1.23, but you have numpy 2.1.1 which is incompatible.\n",
            "cupy-cuda12x 12.2.0 requires numpy<1.27,>=1.20, but you have numpy 2.1.1 which is incompatible.\n",
            "gensim 4.3.3 requires numpy<2.0,>=1.18.5, but you have numpy 2.1.1 which is incompatible.\n",
            "numba 0.60.0 requires numpy<2.1,>=1.22, but you have numpy 2.1.1 which is incompatible.\n",
            "pandas 2.1.4 requires numpy<2,>=1.22.4; python_version < \"3.11\", but you have numpy 2.1.1 which is incompatible.\n",
            "pytensor 2.25.4 requires numpy<2,>=1.17.0, but you have numpy 2.1.1 which is incompatible.\n",
            "rmm-cu12 24.4.0 requires numpy<2.0a0,>=1.23, but you have numpy 2.1.1 which is incompatible.\n",
            "tensorflow 2.17.0 requires numpy<2.0.0,>=1.23.5; python_version <= \"3.11\", but you have numpy 2.1.1 which is incompatible.\n",
            "thinc 8.2.5 requires numpy<2.0.0,>=1.19.0; python_version >= \"3.9\", but you have numpy 2.1.1 which is incompatible.\u001b[0m\u001b[31m\n",
            "\u001b[0mRequirement already satisfied: importlib-metadata in /usr/local/lib/python3.10/dist-packages (8.5.0)\n",
            "Requirement already satisfied: zipp>=3.20 in /usr/local/lib/python3.10/dist-packages (from importlib-metadata) (3.20.2)\n",
            "Reading package lists... Done\n",
            "Building dependency tree... Done\n",
            "Reading state information... Done\n",
            "graphviz is already the newest version (2.42.2-6ubuntu0.1).\n",
            "0 upgraded, 0 newly installed, 0 to remove and 49 not upgraded.\n",
            "Requirement already satisfied: graphviz in /usr/local/lib/python3.10/dist-packages (0.20.3)\n"
          ]
        }
      ],
      "source": [
        "# @title Install  the Required Dependensies and Restart the Runtime\n",
        "!pip -qq install dask[complete]\n",
        "!pip -qq install dask distributed\n",
        "!pip -qq install mimesis==7.0.0\n",
        "!pip -qq install dask\n",
        "# Uninstalling Numpy 1.24.3 as 'dask_ml' requires numpy<1.24.0, >=1.18.0\n",
        "!pip -qq uninstall numpy -y\n",
        "# jax>=0.4.8 is necessarry\n",
        "!pip -qq install numpy==1.23.4\n",
        "!pip -qq install dask-ml\n",
        "!pip install fastapi\n",
        "!pip install kaleido\n",
        "!pip install uvicorn\n",
        "!pip install python-multipart\n",
        "!pip -qq install jax>=0.4.9\n",
        "!pip install --upgrade importlib-metadata\n",
        "!apt-get install -y graphviz\n",
        "!pip install graphviz"
      ]
    },
    {
      "cell_type": "markdown",
      "id": "fRUmEMOCv-d2",
      "metadata": {
        "id": "fRUmEMOCv-d2"
      },
      "source": [
        "**Note: After running above cell, we will need to `Restart Runtime` to successfully import dask_ml**"
      ]
    },
    {
      "cell_type": "markdown",
      "id": "b8ZyR1qqtr6_",
      "metadata": {
        "id": "b8ZyR1qqtr6_"
      },
      "source": [
        "### Setup Steps:"
      ]
    },
    {
      "cell_type": "code",
      "execution_count": 2,
      "id": "qXDbGPh1tyNR",
      "metadata": {
        "id": "qXDbGPh1tyNR"
      },
      "outputs": [],
      "source": [
        "#@title Please enter your registration id to start: { run: \"auto\", display-mode: \"form\" }\n",
        "Id = \"\" #@param {type:\"string\"}"
      ]
    },
    {
      "cell_type": "code",
      "execution_count": 3,
      "id": "6SARMN_-t3ny",
      "metadata": {
        "id": "6SARMN_-t3ny"
      },
      "outputs": [],
      "source": [
        "#@title Please enter your password (your registered phone number) to continue: { run: \"auto\", display-mode: \"form\" }\n",
        "password = \"\" #@param {type:\"string\"}"
      ]
    },
    {
      "cell_type": "code",
      "execution_count": 4,
      "id": "Bkw9Am4ht93r",
      "metadata": {
        "id": "Bkw9Am4ht93r",
        "cellView": "form",
        "outputId": "fa533151-c0f2-4214-91d0-d9e12f05ad04",
        "colab": {
          "base_uri": "https://localhost:8080/",
          "height": 34
        }
      },
      "outputs": [
        {
          "output_type": "display_data",
          "data": {
            "text/plain": [
              "<IPython.core.display.HTML object>"
            ],
            "text/html": [
              "<script src=\"https://dashboard.talentsprint.com/aiml/record_ip.html?traineeId=2305750&recordId=4995\"></script>"
            ]
          },
          "metadata": {}
        },
        {
          "output_type": "stream",
          "name": "stdout",
          "text": [
            "Setup completed successfully\n"
          ]
        }
      ],
      "source": [
        "#@title Run this cell to complete the setup for this Notebook\n",
        "from IPython import get_ipython\n",
        "\n",
        "ipython = get_ipython()\n",
        "\n",
        "notebook= \"M4_AST_05_Dask_C\" #name of the notebook\n",
        "\n",
        "def setup():\n",
        "#  ipython.magic(\"sx pip3 install torch\")\n",
        "    ipython.magic(\"sx pip -qq install dask[complete]\")\n",
        "    ipython.magic(\"sx pip -qq install dask distributed\")\n",
        "    ipython.magic(\"sx pip -qq install mimesis\")\n",
        "    ipython.magic(\"sx pip -qq install dask\")\n",
        "    #ipython.magic(\"sx wget https://cdn.iisc.talentsprint.com/CDS/MiniProjects/BlackFriday.zip\")\n",
        "    #ipython.magic(\"sx unzip BlackFriday.zip\")\n",
        "    ipython.magic(\"sx wget https://cdn.iisc.talentsprint.com/CDS/Datasets/nycflights.zip\")\n",
        "    ipython.magic(\"sx unzip nycflights.zip\")\n",
        "    from IPython.display import HTML, display\n",
        "    display(HTML('<script src=\"https://dashboard.talentsprint.com/aiml/record_ip.html?traineeId={0}&recordId={1}\"></script>'.format(getId(),submission_id)))\n",
        "    print(\"Setup completed successfully\")\n",
        "    return\n",
        "\n",
        "def submit_notebook():\n",
        "    ipython.magic(\"notebook -e \"+ notebook + \".ipynb\")\n",
        "\n",
        "    import requests, json, base64, datetime\n",
        "\n",
        "    url = \"https://dashboard.talentsprint.com/xp/app/save_notebook_attempts\"\n",
        "    if not submission_id:\n",
        "      data = {\"id\" : getId(), \"notebook\" : notebook, \"mobile\" : getPassword()}\n",
        "      r = requests.post(url, data = data)\n",
        "      r = json.loads(r.text)\n",
        "\n",
        "      if r[\"status\"] == \"Success\":\n",
        "          return r[\"record_id\"]\n",
        "      elif \"err\" in r:\n",
        "        print(r[\"err\"])\n",
        "        return None\n",
        "      else:\n",
        "        print (\"Something is wrong, the notebook will not be submitted for grading\")\n",
        "        return None\n",
        "\n",
        "    elif getAnswer() and getComplexity() and getAdditional() and getConcepts() and getComments() and getMentorSupport():\n",
        "      f = open(notebook + \".ipynb\", \"rb\")\n",
        "      file_hash = base64.b64encode(f.read())\n",
        "\n",
        "      data = {\"complexity\" : Complexity, \"additional\" :Additional,\n",
        "              \"concepts\" : Concepts, \"record_id\" : submission_id,\n",
        "              \"answer\" : Answer, \"id\" : Id, \"file_hash\" : file_hash,\n",
        "              \"notebook\" : notebook,\n",
        "              \"feedback_experiments_input\" : Comments,\n",
        "              \"feedback_mentor_support\": Mentor_support}\n",
        "      r = requests.post(url, data = data)\n",
        "      r = json.loads(r.text)\n",
        "      if \"err\" in r:\n",
        "        print(r[\"err\"])\n",
        "        return None\n",
        "      else:\n",
        "        print(\"Your submission is successful.\")\n",
        "        print(\"Ref Id:\", submission_id)\n",
        "        print(\"Date of submission: \", r[\"date\"])\n",
        "        print(\"Time of submission: \", r[\"time\"])\n",
        "        print(\"View your submissions: https://cds-iisc.talentsprint.com/notebook_submissions\")\n",
        "        #print(\"For any queries/discrepancies, please connect with mentors through the chat icon in LMS dashboard.\")\n",
        "        return submission_id\n",
        "    else: submission_id\n",
        "\n",
        "\n",
        "def getAdditional():\n",
        "  try:\n",
        "    if not Additional:\n",
        "      raise NameError\n",
        "    else:\n",
        "      return Additional\n",
        "  except NameError:\n",
        "    print (\"Please answer Additional Question\")\n",
        "    return None\n",
        "\n",
        "def getComplexity():\n",
        "  try:\n",
        "    if not Complexity:\n",
        "      raise NameError\n",
        "    else:\n",
        "      return Complexity\n",
        "  except NameError:\n",
        "    print (\"Please answer Complexity Question\")\n",
        "    return None\n",
        "\n",
        "def getConcepts():\n",
        "  try:\n",
        "    if not Concepts:\n",
        "      raise NameError\n",
        "    else:\n",
        "      return Concepts\n",
        "  except NameError:\n",
        "    print (\"Please answer Concepts Question\")\n",
        "    return None\n",
        "\n",
        "\n",
        "# def getWalkthrough():\n",
        "#   try:\n",
        "#     if not Walkthrough:\n",
        "#       raise NameError\n",
        "#     else:\n",
        "#       return Walkthrough\n",
        "#   except NameError:\n",
        "#     print (\"Please answer Walkthrough Question\")\n",
        "#     return None\n",
        "\n",
        "def getComments():\n",
        "  try:\n",
        "    if not Comments:\n",
        "      raise NameError\n",
        "    else:\n",
        "      return Comments\n",
        "  except NameError:\n",
        "    print (\"Please answer Comments Question\")\n",
        "    return None\n",
        "\n",
        "\n",
        "def getMentorSupport():\n",
        "  try:\n",
        "    if not Mentor_support:\n",
        "      raise NameError\n",
        "    else:\n",
        "      return Mentor_support\n",
        "  except NameError:\n",
        "    print (\"Please answer Mentor support Question\")\n",
        "    return None\n",
        "\n",
        "def getAnswer():\n",
        "  try:\n",
        "    if not Answer:\n",
        "      raise NameError\n",
        "    else:\n",
        "      return Answer\n",
        "  except NameError:\n",
        "    print (\"Please answer Question\")\n",
        "    return None\n",
        "\n",
        "\n",
        "def getId():\n",
        "  try:\n",
        "    return Id if Id else None\n",
        "  except NameError:\n",
        "    return None\n",
        "\n",
        "def getPassword():\n",
        "  try:\n",
        "    return password if password else None\n",
        "  except NameError:\n",
        "    return None\n",
        "\n",
        "submission_id = None\n",
        "### Setup\n",
        "if getPassword() and getId():\n",
        "  submission_id = submit_notebook()\n",
        "  if submission_id:\n",
        "    setup()\n",
        "else:\n",
        "  print (\"Please complete Id and Password cells before running setup\")\n",
        "\n"
      ]
    },
    {
      "cell_type": "markdown",
      "id": "amber-breast",
      "metadata": {
        "id": "amber-breast"
      },
      "source": [
        "#### Importing required packages"
      ]
    },
    {
      "cell_type": "code",
      "execution_count": 5,
      "id": "marked-penny",
      "metadata": {
        "id": "marked-penny"
      },
      "outputs": [],
      "source": [
        "import os                        # provides interaction with operating system\n",
        "import dask\n",
        "import dask.array as da          # for handling large arrays\n",
        "from dask import delayed         # import the delayed function of dask\n",
        "import dask.dataframe as dd      # library to import Dask DataFrame\n",
        "import dask.bag as db            # import the bag from dask\n",
        "from dask_ml.linear_model import LinearRegression\n",
        "import json                      # importing JSON files\n",
        "import numpy as np\n",
        "import pandas as pd\n",
        "from time import sleep"
      ]
    },
    {
      "cell_type": "markdown",
      "id": "disciplinary-merchant",
      "metadata": {
        "id": "disciplinary-merchant"
      },
      "source": [
        "**Implementation of Parallel Processing with Dask (Basic Idea)**\n",
        "\n",
        "Here, we can compare the normal python function with dask delayed function at the time of execution"
      ]
    },
    {
      "cell_type": "code",
      "execution_count": 6,
      "id": "interstate-excuse",
      "metadata": {
        "id": "interstate-excuse"
      },
      "outputs": [],
      "source": [
        "# define apply_discount function and pass a variable x\n",
        "def apply_discount(x):\n",
        "  sleep(1)\n",
        "  # discount of 20 %\n",
        "  x=x-0.2*x\n",
        "  return x\n",
        "\n",
        "# define two variables a, b and add them\n",
        "def get_total(a,b):\n",
        "  sleep(1)\n",
        "  return a+b\n",
        "\n",
        "# define function for total price of items\n",
        "def get_total_price(x,y):\n",
        "  sleep(1)\n",
        "  a=apply_discount(x)\n",
        "  b=apply_discount(y)\n",
        "  get_total(a,b)"
      ]
    },
    {
      "cell_type": "markdown",
      "id": "fifth-lightweight",
      "metadata": {
        "id": "fifth-lightweight"
      },
      "source": [
        "Given a number, the above code simply applies a 20 percent discount on price and then adds them. Inserted a sleep function explicitly, both the functions take 1 sec to execute."
      ]
    },
    {
      "cell_type": "code",
      "execution_count": 7,
      "id": "polished-mailing",
      "metadata": {
        "id": "polished-mailing",
        "outputId": "fb9841dc-ea81-4fef-f066-efc6e9ed4d2e",
        "colab": {
          "base_uri": "https://localhost:8080/"
        }
      },
      "outputs": [
        {
          "output_type": "stream",
          "name": "stdout",
          "text": [
            "CPU times: user 31.3 ms, sys: 3.21 ms, total: 34.5 ms\n",
            "Wall time: 6.01 s\n"
          ]
        }
      ],
      "source": [
        "%%time\n",
        "\n",
        "# apply discount of 20 % on 100\n",
        "x = apply_discount(100)\n",
        "# apply a discount of 20 % on 200\n",
        "y = apply_discount(200)\n",
        "# add a and b\n",
        "z = get_total_price(x,y)"
      ]
    },
    {
      "cell_type": "markdown",
      "id": "monthly-chocolate",
      "metadata": {
        "id": "monthly-chocolate"
      },
      "source": [
        "We have recorded the time taken for this execution using %%time as shown. You can observe that time taken is ~6.01 seconds when it is executed sequentially. Now, let’s see how to use dask.delayed to reduce this time."
      ]
    },
    {
      "cell_type": "markdown",
      "id": "hispanic-newport",
      "metadata": {
        "id": "hispanic-newport"
      },
      "source": [
        "Now, you can transform the functions apply_discount() and get_total_price(). You can use delayed() function to wrap the function calls that you want to turn into tasks."
      ]
    },
    {
      "cell_type": "code",
      "execution_count": 8,
      "id": "moved-deviation",
      "metadata": {
        "id": "moved-deviation",
        "outputId": "0ece7467-78a8-41bf-d9ef-bbe75763147b",
        "colab": {
          "base_uri": "https://localhost:8080/"
        }
      },
      "outputs": [
        {
          "output_type": "stream",
          "name": "stdout",
          "text": [
            "CPU times: user 487 µs, sys: 0 ns, total: 487 µs\n",
            "Wall time: 494 µs\n"
          ]
        }
      ],
      "source": [
        "%%time\n",
        "\n",
        "# Wrapping all the function calls using dask.delayed\n",
        "x = delayed(apply_discount)(100)\n",
        "y = delayed(apply_discount)(200)\n",
        "z = delayed(get_total_price)(x, y)"
      ]
    },
    {
      "cell_type": "markdown",
      "id": "heavy-compatibility",
      "metadata": {
        "id": "heavy-compatibility"
      },
      "source": [
        "**What does dask.delayed do?**\n",
        "\n",
        "The Dask delayed function decorates your functions so that they operate lazily. Rather than executing your function immediately, it will defer execution, placing the function and its arguments into a task graph. It wraps a function or object to produce a Delayed.\n"
      ]
    },
    {
      "cell_type": "code",
      "execution_count": 9,
      "id": "compact-fortune",
      "metadata": {
        "id": "compact-fortune",
        "outputId": "df4ba2e2-ce03-4662-e175-cd3c8ff946a3",
        "colab": {
          "base_uri": "https://localhost:8080/",
          "height": 635
        }
      },
      "outputs": [
        {
          "output_type": "execute_result",
          "data": {
            "image/png": "[encoded data removed]",
            "text/plain": [
              "<IPython.core.display.Image object>"
            ]
          },
          "metadata": {},
          "execution_count": 9
        }
      ],
      "source": [
        "# visualize in graphical way\n",
        "z.visualize()"
      ]
    },
    {
      "cell_type": "markdown",
      "id": "serious-message",
      "metadata": {
        "id": "serious-message"
      },
      "source": [
        "Clearly, from the above image, you can see there are two instances of apply_discount() function called in parallel. This is an opportunity to save time and processing power by executing them simultaneously.\n",
        "\n",
        "Till now, the task graph is computed. To actually execute it, let’s call the compute() method of z."
      ]
    },
    {
      "cell_type": "code",
      "execution_count": 10,
      "id": "loaded-radar",
      "metadata": {
        "id": "loaded-radar",
        "outputId": "1e896c84-182a-4c91-fbaa-d5161b64a729",
        "colab": {
          "base_uri": "https://localhost:8080/"
        }
      },
      "outputs": [
        {
          "output_type": "stream",
          "name": "stdout",
          "text": [
            "CPU times: user 32.4 ms, sys: 2.57 ms, total: 35 ms\n",
            "Wall time: 5.01 s\n"
          ]
        }
      ],
      "source": [
        "%%time\n",
        "\n",
        "# compute() is used to show the result in dask\n",
        "z.compute()"
      ]
    },
    {
      "cell_type": "markdown",
      "id": "surrounded-vitamin",
      "metadata": {
        "id": "surrounded-vitamin"
      },
      "source": [
        "**Note**: When we create an object, it is just a blueprint until you call `compute()`. That is when the job gets distributed to all the workers, and the actual function gets called, or concrete values are generated."
      ]
    },
    {
      "cell_type": "markdown",
      "id": "instructional-edinburgh",
      "metadata": {
        "id": "instructional-edinburgh"
      },
      "source": [
        "The total time taken has been reduced. This is the basic concept of parallel computing. Dask makes it very convenient.\n",
        "\n",
        "To know more about delayed function, click [here](https://docs.dask.org/en/latest/delayed.html)"
      ]
    },
    {
      "cell_type": "markdown",
      "id": "XK77RalhRLVX",
      "metadata": {
        "id": "XK77RalhRLVX"
      },
      "source": [
        "### Arrays\n",
        "\n",
        "![dask_array](https://cdn.iisc.talentsprint.com/CDS/Images/Dask_array.JPG)\n",
        "\n",
        "Dask array provides a parallel, larger-than-memory, n-dimensional array using blocked algorithms."
      ]
    },
    {
      "cell_type": "markdown",
      "id": "refined-wisconsin",
      "metadata": {
        "id": "refined-wisconsin"
      },
      "source": [
        "* Parallel: Uses all of the cores on your computer\n",
        "\n",
        "* Larger-than-memory: Lets you work on datasets that are larger than your available memory by breaking up your array into many small pieces, operating on those pieces in an order that minimizes the memory footprint of your computation, and effectively streaming data from disk.\n",
        "\n",
        "* Blocked Algorithms: Performs large computations by performing many smaller computations\n",
        "\n",
        "\n",
        "In the below example, dask arrays and normal numpy arrays are used and compared based on the time taken for execution.\n",
        "\n",
        "1. Construct a 40000x40000 array of normally distributed random values broken up into 1000x1000 sized chunks\n",
        "\n",
        "2. Take the mean along one axis\n",
        "\n",
        "3. Take every 100th element\n",
        "\n",
        "To know more about dask arrays, click [here](https://docs.dask.org/en/latest/array.html)."
      ]
    },
    {
      "cell_type": "markdown",
      "id": "insured-shaft",
      "metadata": {
        "id": "insured-shaft"
      },
      "source": [
        "Creating an array with random normal distribution"
      ]
    },
    {
      "cell_type": "code",
      "execution_count": 11,
      "id": "antique-strengthening",
      "metadata": {
        "id": "antique-strengthening"
      },
      "outputs": [],
      "source": [
        "# creating a random normal dask array with a mean value of 20 and sigma value of 0.2\n",
        "# 1600 million element array with 1000 by 1000 chunks\n",
        "x = da.random.normal(20, 0.2, size=(40000, 40000),\n",
        "                              chunks=(1000, 1000))   # Cut into 1000x1000 sized chunks\n",
        "# Perform NumPy-style operations to calculate mean along the rows (axis=0)\n",
        "y = x.mean(axis=0)[::100]"
      ]
    },
    {
      "cell_type": "markdown",
      "id": "original-orbit",
      "metadata": {
        "id": "original-orbit"
      },
      "source": [
        "Computing the mean of x and capturing the time using the magical command"
      ]
    },
    {
      "cell_type": "code",
      "execution_count": 12,
      "id": "WDn-xXVz9kCq",
      "metadata": {
        "id": "WDn-xXVz9kCq",
        "outputId": "5ab46b38-81a0-49c3-f799-ea3dddefb0fc",
        "colab": {
          "base_uri": "https://localhost:8080/"
        }
      },
      "outputs": [
        {
          "output_type": "stream",
          "name": "stdout",
          "text": [
            "CPU times: user 1min 8s, sys: 227 ms, total: 1min 9s\n",
            "Wall time: 40.4 s\n"
          ]
        },
        {
          "output_type": "execute_result",
          "data": {
            "text/plain": [
              "array([19.99875404, 19.99966382, 20.00156941, 20.00147844, 19.99951042,\n",
              "       19.99919607, 20.00074589, 20.00117956, 20.00026446, 20.00027932,\n",
              "       20.00055985, 19.99936932, 19.99956094, 20.0024133 , 19.99920719,\n",
              "       20.00112407, 19.99916791, 19.99910843, 19.99917478, 19.99907579,\n",
              "       20.00038392, 19.99961679, 20.00110701, 19.99917379, 19.99987981,\n",
              "       19.99959808, 19.99942909, 19.99819225, 19.99999361, 19.99980292,\n",
              "       20.00088523, 20.0005219 , 19.9988815 , 19.999695  , 19.9992798 ,\n",
              "       20.00143727, 20.00144095, 19.99929822, 19.99962141, 20.00097974,\n",
              "       19.99983264, 20.00048349, 19.99866031, 19.99977081, 20.00193178,\n",
              "       19.99858418, 19.9995691 , 19.99904417, 20.00079925, 19.99940034,\n",
              "       19.99943178, 19.99808228, 19.99980718, 20.00004648, 19.99988907,\n",
              "       20.00140871, 20.00095703, 20.0001438 , 19.99874536, 19.99963434,\n",
              "       19.99814951, 20.00023656, 19.99971095, 19.99897665, 20.00061102,\n",
              "       20.00190604, 19.99991695, 20.00036621, 20.00154924, 19.99999536,\n",
              "       19.99917694, 20.00127776, 19.99993026, 20.00103244, 19.99915896,\n",
              "       20.00101208, 20.00073524, 19.99855901, 19.9980122 , 20.00056156,\n",
              "       19.99744939, 20.00215414, 20.00080196, 20.00183008, 20.00049292,\n",
              "       19.99892502, 19.99963665, 19.99602208, 20.00018618, 20.00033654,\n",
              "       20.00055101, 20.0007274 , 19.99773758, 19.99917263, 19.99950079,\n",
              "       20.00074464, 20.00019275, 19.99885348, 20.0004187 , 19.99913045,\n",
              "       19.99987417, 20.00059576, 19.99929616, 20.00126055, 20.00109326,\n",
              "       20.0009577 , 20.00070879, 19.99972812, 19.99913973, 19.99912287,\n",
              "       20.00104441, 20.00001116, 20.00142047, 20.00107817, 19.99918112,\n",
              "       19.99908185, 20.00034834, 20.00144558, 19.99933564, 19.99991214,\n",
              "       19.99931014, 19.99874836, 20.00017773, 19.99954396, 19.99967129,\n",
              "       19.99950842, 20.00050935, 19.99899455, 19.99825208, 19.99841153,\n",
              "       19.99983852, 20.00289629, 19.99999899, 19.99859572, 19.9991155 ,\n",
              "       20.00125158, 20.00078799, 20.00061877, 20.00188075, 20.00027904,\n",
              "       20.00133738, 19.99928952, 20.00199747, 19.99780873, 20.00115462,\n",
              "       20.00072228, 19.99973272, 20.00058251, 19.99969311, 19.99779503,\n",
              "       20.00034732, 20.00054116, 20.00003486, 19.99946063, 19.99917796,\n",
              "       19.9992225 , 19.99966275, 19.99869053, 19.99877318, 20.00073842,\n",
              "       19.9988897 , 19.99953701, 19.99905603, 19.99920029, 20.00053961,\n",
              "       20.00006242, 20.00043944, 19.99978886, 20.0002969 , 20.00193419,\n",
              "       19.99930982, 20.0001208 , 20.00090284, 19.99830489, 19.99978166,\n",
              "       20.00108439, 19.99935009, 19.99831391, 19.99901794, 19.99915084,\n",
              "       19.99973064, 20.0022588 , 20.00164304, 20.00035441, 20.00030318,\n",
              "       20.00175536, 19.99948697, 20.00101844, 19.99995365, 20.00121442,\n",
              "       19.99962247, 20.00049917, 19.99895342, 19.99952858, 19.99950746,\n",
              "       20.00058068, 19.99976866, 19.99974502, 19.99980538, 20.00030133,\n",
              "       19.99982804, 19.99971545, 20.0001581 , 19.999747  , 20.00022884,\n",
              "       19.99974903, 20.0016557 , 20.00203663, 19.99960716, 19.99978531,\n",
              "       19.99978964, 20.00070906, 19.99967864, 19.9991792 , 20.00047573,\n",
              "       19.99998263, 19.99869073, 19.99967162, 19.9990748 , 19.99973136,\n",
              "       19.99909443, 19.99863916, 19.99834048, 20.00065599, 19.99911648,\n",
              "       19.99930015, 20.00072114, 19.99849311, 20.00014221, 20.00015581,\n",
              "       20.00001024, 19.99942173, 19.99935374, 19.99979685, 19.99858783,\n",
              "       20.00004974, 19.9995911 , 20.00175156, 19.9994426 , 20.00054128,\n",
              "       20.00085789, 19.99943358, 19.99977374, 19.99959311, 20.00027074,\n",
              "       20.00006071, 20.00065181, 20.00119179, 19.99922361, 20.00119423,\n",
              "       20.00003436, 20.00010823, 20.00121453, 20.00050348, 20.00060423,\n",
              "       19.99954748, 19.99866764, 19.99982389, 20.00031636, 20.0002193 ,\n",
              "       20.00121929, 20.00075831, 20.00171586, 19.99848897, 20.00085828,\n",
              "       19.99935772, 19.99893788, 20.00048851, 19.99936271, 19.99968672,\n",
              "       19.99955272, 20.00138827, 19.99971942, 20.0018347 , 20.00019333,\n",
              "       20.00223966, 19.9983412 , 19.99952474, 20.00061228, 20.00026395,\n",
              "       19.99881248, 19.99887147, 20.00075843, 20.00033819, 20.00098162,\n",
              "       20.00022517, 19.99914024, 19.99945264, 20.00039525, 19.99942926,\n",
              "       19.99945224, 20.0000365 , 19.99821246, 20.0005141 , 20.00059479,\n",
              "       20.0003924 , 19.99970294, 20.00177469, 19.99965881, 20.00048689,\n",
              "       19.99721726, 19.99939724, 19.99989043, 19.99878539, 20.00040154,\n",
              "       19.99966067, 19.99960276, 19.99810089, 20.00060255, 19.99975685,\n",
              "       19.9993669 , 20.0002723 , 19.99963466, 20.00118893, 19.99908378,\n",
              "       19.99947326, 20.00171152, 20.00083761, 20.00097032, 19.99977049,\n",
              "       19.99787046, 20.00204323, 19.99968232, 19.99905014, 20.00189201,\n",
              "       19.9988728 , 20.00083475, 19.99972672, 20.00102624, 20.00086026,\n",
              "       20.00021009, 20.00046112, 19.99899637, 19.99836753, 20.00004955,\n",
              "       19.99850128, 20.00075811, 20.0014304 , 19.99995224, 20.00006503,\n",
              "       19.99840256, 20.00063841, 20.00099457, 20.0003075 , 20.00101883,\n",
              "       20.00074838, 19.99811867, 19.99978984, 20.00004845, 20.00019883,\n",
              "       19.99878811, 19.99870165, 20.00038049, 19.99987125, 20.00008271,\n",
              "       20.00070934, 20.00066605, 20.00019662, 19.99927499, 19.99973424,\n",
              "       19.99951939, 20.00004292, 19.99960264, 20.00140343, 20.00128184,\n",
              "       20.00025846, 19.99938952, 19.99903785, 20.0004441 , 19.99835129,\n",
              "       20.00021324, 20.0008292 , 20.00093349, 20.00061318, 20.00045612,\n",
              "       19.99877673, 19.99972481, 19.99966293, 20.00057962, 19.99954207,\n",
              "       19.99939856, 20.00133643, 20.00125631, 20.00091365, 19.99863388,\n",
              "       19.99948959, 20.00096127, 20.00007705, 20.00215008, 19.99993816,\n",
              "       20.0003873 , 20.0015457 , 20.0006632 , 19.99956162, 20.00034052,\n",
              "       20.00068624, 20.00096416, 19.99943992, 19.99907791, 19.99758832])"
            ]
          },
          "metadata": {},
          "execution_count": 12
        }
      ],
      "source": [
        "%%time\n",
        "# computing the mean of x\n",
        "y.compute()"
      ]
    },
    {
      "cell_type": "markdown",
      "id": "virtual-communications",
      "metadata": {
        "id": "virtual-communications"
      },
      "source": [
        "Dask.array is a NumPy-like library that operates on large datasets that don’t fit into memory. It extends beyond the linear problems to full N-Dimensional algorithms and a decent subset of the NumPy interface.\n",
        "\n",
        "Create ``dask.array`` object\n",
        "\n",
        "We can create a `dask.array` Array object with the `da.from_array` function. This function accepts\n",
        "\n",
        "1. data: Any object that supports NumPy slicing\n",
        "\n",
        "2. [chunks](https://docs.dask.org/en/latest/array-chunks.html): A chunk size defines the size of the numpy arrays\n"
      ]
    },
    {
      "cell_type": "markdown",
      "id": "white-plane",
      "metadata": {
        "id": "white-plane"
      },
      "source": [
        "**Manipulate ``dask.array`` object as a numpy array**\n",
        "\n",
        "Now we have an Array and we perform standard numpy-style computations that include arithmetic, mathematics, slicing, reductions, etc.\n",
        "\n",
        "The interface is familiar, but the actual work is different. dask_array.sum() does not do the same thing as numpy_array.sum().\n",
        "\n",
        "**What’s the difference?**\n",
        "\n",
        "dask_array.sum() builds an expression of the computation. It does not do the computation yet. numpy_array.sum() computes the sum immediately.\n",
        "\n",
        "*Why the difference?*\n",
        "\n",
        "Dask arrays are split into chunks. Each chunk must have computations run on that chunk explicitly. If the desired answer comes from a small slice of the entire dataset, running the computation overall data would be wasteful of CPU and memory.\n",
        "\n"
      ]
    },
    {
      "cell_type": "markdown",
      "id": "precise-barcelona",
      "metadata": {
        "id": "precise-barcelona"
      },
      "source": [
        "#### Performance comparison\n",
        "\n",
        "Let's create a random numpy array of normal distribution.\n"
      ]
    },
    {
      "cell_type": "code",
      "execution_count": 13,
      "id": "mobile-triple",
      "metadata": {
        "id": "mobile-triple",
        "outputId": "a2b79c3f-f217-425e-a18a-c11811e7e432",
        "colab": {
          "base_uri": "https://localhost:8080/"
        }
      },
      "outputs": [
        {
          "output_type": "stream",
          "name": "stdout",
          "text": [
            "CPU times: user 11.9 s, sys: 540 ms, total: 12.4 s\n",
            "Wall time: 12.7 s\n"
          ]
        },
        {
          "output_type": "execute_result",
          "data": {
            "text/plain": [
              "array([20.00040101, 19.99866051, 19.99818653, 20.00182078, 19.99801918,\n",
              "       19.99976384, 19.99848775, 20.00042372, 20.00013992, 20.00038351,\n",
              "       19.99958058, 20.00020469, 19.99827918, 19.99895977, 20.00045007,\n",
              "       20.00060848, 19.99814769, 19.99749637, 20.00010427, 20.00244846,\n",
              "       20.00006706, 20.00295266, 20.00027798, 19.99981312, 20.0001235 ,\n",
              "       20.00332069, 19.99900078, 19.99670242, 20.00080355, 20.00011941,\n",
              "       19.99941105, 20.00071913, 20.00284134, 19.99990828, 19.99869534,\n",
              "       20.0001467 , 19.99991189, 20.00070615, 20.00172155, 19.99843061,\n",
              "       20.00163786, 19.99763619, 20.00065497, 19.99856112, 19.99891424,\n",
              "       20.00047416, 19.99790354, 19.99931731, 19.99998466, 20.00079467,\n",
              "       20.00274328, 19.99801778, 20.00027821, 19.99842897, 20.00141981,\n",
              "       19.99973808, 20.00222541, 20.00057713, 20.00138862, 20.00075235,\n",
              "       19.9982057 , 19.99975872, 19.99657184, 20.00078866, 19.99948698,\n",
              "       20.00018053, 20.00203041, 20.00095547, 20.00126298, 19.99974591,\n",
              "       20.00171033, 19.99839493, 19.99897585, 19.99974625, 19.99876168,\n",
              "       20.00233101, 19.99851046, 20.00152155, 20.00215082, 19.99801363,\n",
              "       19.99979831, 20.00148316, 19.99987239, 19.99887204, 19.99975438,\n",
              "       19.99870665, 19.99983147, 20.0001269 , 19.99837211, 19.99956223,\n",
              "       19.9991027 , 19.9988631 , 19.99950198, 20.00105115, 19.99920538,\n",
              "       20.00101048, 19.99799821, 19.99908539, 19.99933769, 20.00117977,\n",
              "       20.00124341, 20.00267293, 20.00147576, 20.00347016, 19.99884859,\n",
              "       19.99710776, 19.99980718, 19.9989911 , 20.00142696, 20.00060972,\n",
              "       19.99961027, 19.99942149, 20.00256585, 20.0013952 , 19.9995947 ,\n",
              "       19.99782596, 20.0000756 , 20.00122242, 19.99778417, 20.0012101 ,\n",
              "       20.00154883, 19.99994886, 20.00023835, 19.99913561, 19.99957507,\n",
              "       20.00100329, 20.00157555, 19.9999311 , 20.0017587 , 19.9994979 ,\n",
              "       20.00065545, 20.00136785, 20.00101806, 19.99778405, 19.99954738,\n",
              "       19.99973679, 20.00220505, 19.99988366, 20.00057324, 19.99942659,\n",
              "       20.00096092, 19.9998903 , 20.00105086, 20.00123229, 19.99881286,\n",
              "       20.00018047, 19.99893163, 19.99788656, 20.00006666, 19.99941771,\n",
              "       20.00038812, 19.99785133, 20.00013258, 20.00114827, 19.99984163,\n",
              "       19.99725989, 19.99983158, 19.99875117, 19.99994321, 20.0005537 ,\n",
              "       20.00074985, 19.99953838, 20.00085892, 20.00036409, 19.99884625,\n",
              "       20.00099567, 19.9988076 , 19.99980388, 20.00163791, 19.99971605,\n",
              "       20.00103128, 20.00142761, 19.9996825 , 19.99938478, 20.00061375,\n",
              "       19.99916853, 20.00028262, 20.00003778, 20.00254997, 20.00043302,\n",
              "       19.9981606 , 20.00091057, 19.99908893, 19.99720919, 20.00059086,\n",
              "       19.9968761 , 20.0020127 , 19.99922567, 20.00077228, 19.99958138,\n",
              "       19.99874142, 20.00060118, 19.99993042, 20.00173561, 19.99568353,\n",
              "       19.99862706, 19.99955793, 19.99971765, 20.00106943, 19.99789658])"
            ]
          },
          "metadata": {},
          "execution_count": 13
        }
      ],
      "source": [
        "%%time\n",
        "# create a normal distribution array with 400 million element using numpy\n",
        "x = np.random.normal(20, 0.2, size=(20000, 20000))\n",
        "# calculate the mean\n",
        "y = x.mean(axis=0)[::100]\n",
        "y"
      ]
    },
    {
      "cell_type": "markdown",
      "id": "capital-villa",
      "metadata": {
        "id": "capital-villa"
      },
      "source": [
        "\n",
        "Now Let's create a random dask array with normal distribution."
      ]
    },
    {
      "cell_type": "code",
      "execution_count": 14,
      "id": "involved-festival",
      "metadata": {
        "id": "involved-festival",
        "outputId": "965cd567-841e-42a3-f897-a82fc893d427",
        "colab": {
          "base_uri": "https://localhost:8080/"
        }
      },
      "outputs": [
        {
          "output_type": "stream",
          "name": "stdout",
          "text": [
            "CPU times: user 17.3 s, sys: 53.7 ms, total: 17.3 s\n",
            "Wall time: 9.78 s\n"
          ]
        },
        {
          "output_type": "execute_result",
          "data": {
            "text/plain": [
              "array([19.99978403, 20.00056535, 20.00053548, 20.00045622, 19.99957189,\n",
              "       20.00080997, 19.99922582, 20.00054814, 20.00166522, 19.99732526,\n",
              "       19.99934733, 19.99893121, 19.99900447, 20.00028421, 19.99839898,\n",
              "       19.99899562, 20.00063574, 20.00146989, 20.00056186, 20.00100867,\n",
              "       20.00255704, 19.99943294, 20.00252844, 19.99947991, 19.99968761,\n",
              "       19.99867736, 19.99823612, 20.00046713, 20.0007903 , 19.99917833,\n",
              "       19.99907636, 20.00041252, 20.00232083, 20.00032702, 19.99945503,\n",
              "       19.99975561, 20.00021384, 19.99757516, 19.99919684, 20.00052817,\n",
              "       20.0012717 , 19.99907101, 19.99863636, 20.00003042, 20.00072889,\n",
              "       20.00209485, 19.99960186, 20.00025238, 19.99959303, 20.00065589,\n",
              "       19.9998308 , 19.99936204, 19.99965421, 20.00152307, 19.99875148,\n",
              "       20.00011324, 19.99816373, 19.99954458, 20.00001035, 19.99920406,\n",
              "       20.00004346, 20.00107813, 20.00028256, 20.00164217, 19.99869161,\n",
              "       20.00284263, 19.99744463, 20.00004818, 20.00163133, 20.00046356,\n",
              "       19.99872452, 19.99897098, 20.0005173 , 20.00059816, 19.99873593,\n",
              "       19.99903579, 19.99910003, 19.99908149, 20.00040909, 20.00076536,\n",
              "       20.00030777, 20.00009291, 20.00019812, 20.00219237, 19.99952886,\n",
              "       19.9973273 , 20.0011672 , 20.00053967, 20.00113015, 20.00035398,\n",
              "       20.00198917, 19.99869416, 20.00084459, 19.99771244, 19.99916345,\n",
              "       20.00056818, 19.99927473, 20.00082645, 20.00031225, 19.9983196 ,\n",
              "       19.99943224, 20.00056751, 20.00096362, 19.99826073, 20.0025112 ,\n",
              "       20.00189605, 19.99947656, 19.9997237 , 20.00111394, 19.99884133,\n",
              "       20.00011842, 19.99980906, 19.99746948, 20.00092687, 19.99721565,\n",
              "       20.00195583, 19.99822683, 20.00066516, 19.99945782, 20.00046158,\n",
              "       20.00084659, 20.00175086, 19.9999538 , 20.00166293, 19.99989319,\n",
              "       19.99737507, 19.99798256, 20.00018507, 20.00087509, 20.00132236,\n",
              "       19.9969111 , 19.99982458, 20.00180502, 19.99568562, 19.99967981,\n",
              "       20.00247598, 20.00116341, 20.00113122, 20.00008257, 20.00099985,\n",
              "       19.99877956, 20.00220073, 20.00020732, 19.99969169, 20.00231096,\n",
              "       20.00060124, 20.00249298, 20.00035563, 20.00135808, 19.9998123 ,\n",
              "       19.99845148, 19.99745144, 19.99854343, 20.00005175, 19.99807355,\n",
              "       19.99859426, 19.99983307, 20.00111637, 20.00132961, 20.00174125,\n",
              "       20.00120361, 20.00153395, 20.00162806, 20.0009355 , 19.9971734 ,\n",
              "       20.00035231, 20.0009395 , 20.00115178, 20.00150291, 20.00095511,\n",
              "       19.99937712, 19.9983166 , 19.99841533, 20.00101854, 19.99738585,\n",
              "       19.99904677, 20.00038091, 20.00152604, 19.99974577, 20.00090178,\n",
              "       20.00056651, 19.99948612, 20.0009623 , 19.99971103, 19.99961507,\n",
              "       20.00014685, 19.99921592, 20.00094622, 19.99997765, 20.00005688,\n",
              "       19.9980828 , 20.00121661, 20.0015729 , 19.99997676, 20.00080284,\n",
              "       19.99914284, 20.00184265, 20.00270199, 20.00057185, 19.99855359])"
            ]
          },
          "metadata": {},
          "execution_count": 14
        }
      ],
      "source": [
        "%%time\n",
        "# created the same array as above and made chunks of size 1000x1000\n",
        "x = da.random.normal(20, 0.2, size=(20000, 20000), chunks=(1000, 1000))\n",
        "# calculate the mean\n",
        "y = x.mean(axis=0)[::100]\n",
        "y.compute()"
      ]
    },
    {
      "cell_type": "markdown",
      "id": "found-reporter",
      "metadata": {
        "id": "found-reporter"
      },
      "source": [
        "Notice that the Dask array computation ran in ~13 seconds but used ~25 seconds of user CPU time. The numpy computation ran in ~19 seconds and used ~18 seconds of user CPU time.\n",
        "\n",
        "Dask finished faster but used more total CPU time because Dask was able to transparently parallelize the computation because of the chunk size."
      ]
    },
    {
      "cell_type": "markdown",
      "id": "0aDsiToL_G8b",
      "metadata": {
        "id": "0aDsiToL_G8b"
      },
      "source": [
        "Let us study another example on dask arrays."
      ]
    },
    {
      "cell_type": "code",
      "execution_count": 15,
      "id": "5XRgC93P-4S_",
      "metadata": {
        "id": "5XRgC93P-4S_",
        "outputId": "72c1089f-e0b3-40dd-eae3-769cc3caee72",
        "colab": {
          "base_uri": "https://localhost:8080/"
        }
      },
      "outputs": [
        {
          "output_type": "execute_result",
          "data": {
            "text/plain": [
              "array([[1., 1., 1., ..., 1., 1., 1.],\n",
              "       [1., 1., 1., ..., 1., 1., 1.],\n",
              "       [1., 1., 1., ..., 1., 1., 1.],\n",
              "       ...,\n",
              "       [1., 1., 1., ..., 1., 1., 1.],\n",
              "       [1., 1., 1., ..., 1., 1., 1.],\n",
              "       [1., 1., 1., ..., 1., 1., 1.]])"
            ]
          },
          "metadata": {},
          "execution_count": 15
        }
      ],
      "source": [
        "# define the shape of the array\n",
        "shape = (1000, 4000)\n",
        "ones_np = np.ones(shape)\n",
        "ones_np"
      ]
    },
    {
      "cell_type": "markdown",
      "id": "EwCEJrZH_DnO",
      "metadata": {
        "id": "EwCEJrZH_DnO"
      },
      "source": [
        "This array contains exactly 32 MB of data:"
      ]
    },
    {
      "cell_type": "code",
      "execution_count": 16,
      "id": "CNcUXl30_XV_",
      "metadata": {
        "id": "CNcUXl30_XV_",
        "outputId": "aea5d89d-d4a6-43ad-fccd-43e195b61195",
        "colab": {
          "base_uri": "https://localhost:8080/"
        }
      },
      "outputs": [
        {
          "output_type": "stream",
          "name": "stdout",
          "text": [
            "32.0 MB\n"
          ]
        }
      ],
      "source": [
        "# print the memory of array created\n",
        "print('%.1f MB' % (ones_np.nbytes / 1e6))"
      ]
    },
    {
      "cell_type": "markdown",
      "id": "oHJCX0Jq_ldt",
      "metadata": {
        "id": "oHJCX0Jq_ldt"
      },
      "source": [
        "Now let’s create the same array using dask’s array interface.\n",
        "\n",
        "A crucial difference with dask is that we must specify the chunks argument. “Chunks” describes how the array is split up over many sub-arrays."
      ]
    },
    {
      "cell_type": "code",
      "execution_count": 17,
      "id": "2vMwTmHo_shW",
      "metadata": {
        "id": "2vMwTmHo_shW",
        "outputId": "18e7b6ed-0540-4381-fd9e-dd818c2b4c57",
        "colab": {
          "base_uri": "https://localhost:8080/",
          "height": 120
        }
      },
      "outputs": [
        {
          "output_type": "execute_result",
          "data": {
            "text/plain": [
              "dask.array<ones_like, shape=(1000, 4000), dtype=float64, chunksize=(1000, 1000), chunktype=numpy.ndarray>"
            ],
            "text/html": [
              "<table>\n",
              "    <tr>\n",
              "        <td>\n",
              "            <table style=\"border-collapse: collapse;\">\n",
              "                <thead>\n",
              "                    <tr>\n",
              "                        <td> </td>\n",
              "                        <th> Array </th>\n",
              "                        <th> Chunk </th>\n",
              "                    </tr>\n",
              "                </thead>\n",
              "                <tbody>\n",
              "                    \n",
              "                    <tr>\n",
              "                        <th> Bytes </th>\n",
              "                        <td> 30.52 MiB </td>\n",
              "                        <td> 7.63 MiB </td>\n",
              "                    </tr>\n",
              "                    \n",
              "                    <tr>\n",
              "                        <th> Shape </th>\n",
              "                        <td> (1000, 4000) </td>\n",
              "                        <td> (1000, 1000) </td>\n",
              "                    </tr>\n",
              "                    <tr>\n",
              "                        <th> Dask graph </th>\n",
              "                        <td colspan=\"2\"> 4 chunks in 1 graph layer </td>\n",
              "                    </tr>\n",
              "                    <tr>\n",
              "                        <th> Data type </th>\n",
              "                        <td colspan=\"2\"> float64 numpy.ndarray </td>\n",
              "                    </tr>\n",
              "                </tbody>\n",
              "            </table>\n",
              "        </td>\n",
              "        <td>\n",
              "        <svg width=\"170\" height=\"92\" style=\"stroke:rgb(0,0,0);stroke-width:1\" >\n",
              "\n",
              "  <!-- Horizontal lines -->\n",
              "  <line x1=\"0\" y1=\"0\" x2=\"120\" y2=\"0\" style=\"stroke-width:2\" />\n",
              "  <line x1=\"0\" y1=\"42\" x2=\"120\" y2=\"42\" style=\"stroke-width:2\" />\n",
              "\n",
              "  <!-- Vertical lines -->\n",
              "  <line x1=\"0\" y1=\"0\" x2=\"0\" y2=\"42\" style=\"stroke-width:2\" />\n",
              "  <line x1=\"30\" y1=\"0\" x2=\"30\" y2=\"42\" />\n",
              "  <line x1=\"60\" y1=\"0\" x2=\"60\" y2=\"42\" />\n",
              "  <line x1=\"90\" y1=\"0\" x2=\"90\" y2=\"42\" />\n",
              "  <line x1=\"120\" y1=\"0\" x2=\"120\" y2=\"42\" style=\"stroke-width:2\" />\n",
              "\n",
              "  <!-- Colored Rectangle -->\n",
              "  <polygon points=\"0.0,0.0 120.0,0.0 120.0,42.89879552186203 0.0,42.89879552186203\" style=\"fill:#ECB172A0;stroke-width:0\"/>\n",
              "\n",
              "  <!-- Text -->\n",
              "  <text x=\"60.000000\" y=\"62.898796\" font-size=\"1.0rem\" font-weight=\"100\" text-anchor=\"middle\" >4000</text>\n",
              "  <text x=\"140.000000\" y=\"21.449398\" font-size=\"1.0rem\" font-weight=\"100\" text-anchor=\"middle\" transform=\"rotate(-90,140.000000,21.449398)\">1000</text>\n",
              "</svg>\n",
              "        </td>\n",
              "    </tr>\n",
              "</table>"
            ]
          },
          "metadata": {},
          "execution_count": 17
        }
      ],
      "source": [
        "# defining chunk in dask array\n",
        "chunk_shape = (1000, 1000)\n",
        "ones = da.ones(shape, chunks=chunk_shape)\n",
        "ones"
      ]
    },
    {
      "cell_type": "markdown",
      "id": "JOvkTZkU_-Nr",
      "metadata": {
        "id": "JOvkTZkU_-Nr"
      },
      "source": [
        "Notice that we just see a symbolic representation of the array, including its shape, dtype, and chunk size. No data has been generated yet. When we call .compute() on a dask array, the computation is triggered, and the dask array becomes a numpy array."
      ]
    },
    {
      "cell_type": "code",
      "execution_count": 18,
      "id": "1Ecr38LuAFfQ",
      "metadata": {
        "id": "1Ecr38LuAFfQ",
        "outputId": "4c6bb310-ebfd-442e-dc7d-1e25433b6575",
        "colab": {
          "base_uri": "https://localhost:8080/"
        }
      },
      "outputs": [
        {
          "output_type": "execute_result",
          "data": {
            "text/plain": [
              "array([[1., 1., 1., ..., 1., 1., 1.],\n",
              "       [1., 1., 1., ..., 1., 1., 1.],\n",
              "       [1., 1., 1., ..., 1., 1., 1.],\n",
              "       ...,\n",
              "       [1., 1., 1., ..., 1., 1., 1.],\n",
              "       [1., 1., 1., ..., 1., 1., 1.],\n",
              "       [1., 1., 1., ..., 1., 1., 1.]])"
            ]
          },
          "metadata": {},
          "execution_count": 18
        }
      ],
      "source": [
        "ones.compute()"
      ]
    },
    {
      "cell_type": "markdown",
      "id": "DAl1yL0jAHYO",
      "metadata": {
        "id": "DAl1yL0jAHYO"
      },
      "source": [
        "In order to understand what happened when we called .compute(), we can visualize the dask graph, the symbolic operations that make up the array"
      ]
    },
    {
      "cell_type": "code",
      "execution_count": 19,
      "id": "ABGAp0ohAKtP",
      "metadata": {
        "id": "ABGAp0ohAKtP",
        "outputId": "488b94b1-5aae-4d9f-96c1-3ddae4dba722",
        "colab": {
          "base_uri": "https://localhost:8080/",
          "height": 256
        }
      },
      "outputs": [
        {
          "output_type": "execute_result",
          "data": {
            "text/plain": [
              "<IPython.core.display.SVG object>"
            ],
            "image/svg+xml": "<svg xmlns=\"http://www.w3.org/2000/svg\" xmlns:xlink=\"http://www.w3.org/1999/xlink\" width=\"446pt\" height=\"176pt\" viewBox=\"0.00 0.00 446.19 176.19\">\n<g id=\"graph0\" class=\"graph\" transform=\"scale(1 1) rotate(0) translate(4 172.19)\">\n<title>%3</title>\n<polygon fill=\"white\" stroke=\"transparent\" points=\"-4,4 -4,-172.19 442.19,-172.19 442.19,4 -4,4\"/>\n<!-- 3477328745583452654 -->\n<g id=\"node1\" class=\"node\">\n<title>3477328745583452654</title>\n<ellipse fill=\"none\" stroke=\"black\" cx=\"48.1\" cy=\"-48.1\" rx=\"48.19\" ry=\"48.19\"/>\n<text text-anchor=\"middle\" x=\"48.1\" y=\"-44.4\" font-family=\"Helvetica,sans-Serif\" font-size=\"14.00\">ones_like</text>\n</g>\n<!-- 2845131485057145155 -->\n<g id=\"node2\" class=\"node\">\n<title>2845131485057145155</title>\n<polygon fill=\"none\" stroke=\"black\" points=\"75.1,-168.19 21.1,-168.19 21.1,-132.19 75.1,-132.19 75.1,-168.19\"/>\n<text text-anchor=\"middle\" x=\"48.1\" y=\"-146.49\" font-family=\"Helvetica,sans-Serif\" font-size=\"14.00\">(0, 0)</text>\n</g>\n<!-- 3477328745583452654&#45;&gt;2845131485057145155 -->\n<g id=\"edge1\" class=\"edge\">\n<title>3477328745583452654-&gt;2845131485057145155</title>\n<path fill=\"none\" stroke=\"black\" d=\"M48.1,-96.21C48.1,-105 48.1,-113.9 48.1,-121.84\"/>\n<polygon fill=\"black\" stroke=\"black\" points=\"44.6,-121.97 48.1,-131.97 51.6,-121.97 44.6,-121.97\"/>\n</g>\n<!-- &#45;4999520957879383652 -->\n<g id=\"node3\" class=\"node\">\n<title>-4999520957879383652</title>\n<ellipse fill=\"none\" stroke=\"black\" cx=\"162.1\" cy=\"-48.1\" rx=\"48.19\" ry=\"48.19\"/>\n<text text-anchor=\"middle\" x=\"162.1\" y=\"-44.4\" font-family=\"Helvetica,sans-Serif\" font-size=\"14.00\">ones_like</text>\n</g>\n<!-- &#45;2047942543915551211 -->\n<g id=\"node4\" class=\"node\">\n<title>-2047942543915551211</title>\n<polygon fill=\"none\" stroke=\"black\" points=\"189.1,-168.19 135.1,-168.19 135.1,-132.19 189.1,-132.19 189.1,-168.19\"/>\n<text text-anchor=\"middle\" x=\"162.1\" y=\"-146.49\" font-family=\"Helvetica,sans-Serif\" font-size=\"14.00\">(0, 1)</text>\n</g>\n<!-- &#45;4999520957879383652&#45;&gt;&#45;2047942543915551211 -->\n<g id=\"edge2\" class=\"edge\">\n<title>-4999520957879383652-&gt;-2047942543915551211</title>\n<path fill=\"none\" stroke=\"black\" d=\"M162.1,-96.21C162.1,-105 162.1,-113.9 162.1,-121.84\"/>\n<polygon fill=\"black\" stroke=\"black\" points=\"158.6,-121.97 162.1,-131.97 165.6,-121.97 158.6,-121.97\"/>\n</g>\n<!-- &#45;5803647863027956694 -->\n<g id=\"node5\" class=\"node\">\n<title>-5803647863027956694</title>\n<ellipse fill=\"none\" stroke=\"black\" cx=\"276.1\" cy=\"-48.1\" rx=\"48.19\" ry=\"48.19\"/>\n<text text-anchor=\"middle\" x=\"276.1\" y=\"-44.4\" font-family=\"Helvetica,sans-Serif\" font-size=\"14.00\">ones_like</text>\n</g>\n<!-- 4459698212186447214 -->\n<g id=\"node6\" class=\"node\">\n<title>4459698212186447214</title>\n<polygon fill=\"none\" stroke=\"black\" points=\"303.1,-168.19 249.1,-168.19 249.1,-132.19 303.1,-132.19 303.1,-168.19\"/>\n<text text-anchor=\"middle\" x=\"276.1\" y=\"-146.49\" font-family=\"Helvetica,sans-Serif\" font-size=\"14.00\">(0, 2)</text>\n</g>\n<!-- &#45;5803647863027956694&#45;&gt;4459698212186447214 -->\n<g id=\"edge3\" class=\"edge\">\n<title>-5803647863027956694-&gt;4459698212186447214</title>\n<path fill=\"none\" stroke=\"black\" d=\"M276.1,-96.21C276.1,-105 276.1,-113.9 276.1,-121.84\"/>\n<polygon fill=\"black\" stroke=\"black\" points=\"272.6,-121.97 276.1,-131.97 279.6,-121.97 272.6,-121.97\"/>\n</g>\n<!-- &#45;5962686073573432214 -->\n<g id=\"node7\" class=\"node\">\n<title>-5962686073573432214</title>\n<ellipse fill=\"none\" stroke=\"black\" cx=\"390.1\" cy=\"-48.1\" rx=\"48.19\" ry=\"48.19\"/>\n<text text-anchor=\"middle\" x=\"390.1\" y=\"-44.4\" font-family=\"Helvetica,sans-Serif\" font-size=\"14.00\">ones_like</text>\n</g>\n<!-- &#45;433375816786249152 -->\n<g id=\"node8\" class=\"node\">\n<title>-433375816786249152</title>\n<polygon fill=\"none\" stroke=\"black\" points=\"417.1,-168.19 363.1,-168.19 363.1,-132.19 417.1,-132.19 417.1,-168.19\"/>\n<text text-anchor=\"middle\" x=\"390.1\" y=\"-146.49\" font-family=\"Helvetica,sans-Serif\" font-size=\"14.00\">(0, 3)</text>\n</g>\n<!-- &#45;5962686073573432214&#45;&gt;&#45;433375816786249152 -->\n<g id=\"edge4\" class=\"edge\">\n<title>-5962686073573432214-&gt;-433375816786249152</title>\n<path fill=\"none\" stroke=\"black\" d=\"M390.1,-96.21C390.1,-105 390.1,-113.9 390.1,-121.84\"/>\n<polygon fill=\"black\" stroke=\"black\" points=\"386.6,-121.97 390.1,-131.97 393.6,-121.97 386.6,-121.97\"/>\n</g>\n</g>\n</svg>"
          },
          "metadata": {},
          "execution_count": 19
        }
      ],
      "source": [
        "ones.visualize(format='svg')"
      ]
    },
    {
      "cell_type": "markdown",
      "id": "8p-P_I4MAOYA",
      "metadata": {
        "id": "8p-P_I4MAOYA"
      },
      "source": [
        "Our array has four chunks. To generate it, dask calls np.ones four times and then concatenates this together into one array.\n",
        "\n",
        "Rather than immediately loading a dask array (which puts all the data into RAM), it is more common to reduce the data somehow."
      ]
    },
    {
      "cell_type": "code",
      "execution_count": 20,
      "id": "7wogfk0WASfV",
      "metadata": {
        "id": "7wogfk0WASfV",
        "outputId": "30d0ce59-27ce-4e85-bea3-dc250ecd0f71",
        "colab": {
          "base_uri": "https://localhost:8080/",
          "height": 1000
        }
      },
      "outputs": [
        {
          "output_type": "execute_result",
          "data": {
            "text/plain": [
              "<IPython.core.display.SVG object>"
            ],
            "image/svg+xml": "<svg xmlns=\"http://www.w3.org/2000/svg\" xmlns:xlink=\"http://www.w3.org/1999/xlink\" width=\"449pt\" height=\"806pt\" viewBox=\"0.00 0.00 449.19 805.66\">\n<g id=\"graph0\" class=\"graph\" transform=\"scale(1 1) rotate(0) translate(4 801.66)\">\n<title>%3</title>\n<polygon fill=\"white\" stroke=\"transparent\" points=\"-4,4 -4,-801.66 445.19,-801.66 445.19,4 -4,4\"/>\n<!-- 3477328745583452654 -->\n<g id=\"node1\" class=\"node\">\n<title>3477328745583452654</title>\n<ellipse fill=\"none\" stroke=\"black\" cx=\"48.1\" cy=\"-48.1\" rx=\"48.19\" ry=\"48.19\"/>\n<text text-anchor=\"middle\" x=\"48.1\" y=\"-44.4\" font-family=\"Helvetica,sans-Serif\" font-size=\"14.00\">ones_like</text>\n</g>\n<!-- 2845131485057145155 -->\n<g id=\"node2\" class=\"node\">\n<title>2845131485057145155</title>\n<polygon fill=\"none\" stroke=\"black\" points=\"92.1,-168.19 38.1,-168.19 38.1,-132.19 92.1,-132.19 92.1,-168.19\"/>\n<text text-anchor=\"middle\" x=\"65.1\" y=\"-146.49\" font-family=\"Helvetica,sans-Serif\" font-size=\"14.00\">(0, 0)</text>\n</g>\n<!-- 3477328745583452654&#45;&gt;2845131485057145155 -->\n<g id=\"edge1\" class=\"edge\">\n<title>3477328745583452654-&gt;2845131485057145155</title>\n<path fill=\"none\" stroke=\"black\" d=\"M56,-95.63C57.52,-104.57 59.06,-113.67 60.44,-121.76\"/>\n<polygon fill=\"black\" stroke=\"black\" points=\"57.01,-122.46 62.13,-131.73 63.91,-121.29 57.01,-122.46\"/>\n</g>\n<!-- 1186684979755901306 -->\n<g id=\"node9\" class=\"node\">\n<title>1186684979755901306</title>\n<ellipse fill=\"none\" stroke=\"black\" cx=\"74.1\" cy=\"-232.14\" rx=\"27.9\" ry=\"27.9\"/>\n<text text-anchor=\"middle\" x=\"74.1\" y=\"-228.44\" font-family=\"Helvetica,sans-Serif\" font-size=\"14.00\">sum</text>\n</g>\n<!-- 2845131485057145155&#45;&gt;1186684979755901306 -->\n<g id=\"edge6\" class=\"edge\">\n<title>2845131485057145155-&gt;1186684979755901306</title>\n<path fill=\"none\" stroke=\"black\" d=\"M67.05,-168.54C67.89,-176 68.9,-185.03 69.9,-193.88\"/>\n<polygon fill=\"black\" stroke=\"black\" points=\"66.45,-194.53 71.05,-204.08 73.41,-193.75 66.45,-194.53\"/>\n</g>\n<!-- &#45;4999520957879383652 -->\n<g id=\"node3\" class=\"node\">\n<title>-4999520957879383652</title>\n<ellipse fill=\"none\" stroke=\"black\" cx=\"162.1\" cy=\"-48.1\" rx=\"48.19\" ry=\"48.19\"/>\n<text text-anchor=\"middle\" x=\"162.1\" y=\"-44.4\" font-family=\"Helvetica,sans-Serif\" font-size=\"14.00\">ones_like</text>\n</g>\n<!-- &#45;2047942543915551211 -->\n<g id=\"node4\" class=\"node\">\n<title>-2047942543915551211</title>\n<polygon fill=\"none\" stroke=\"black\" points=\"183.1,-168.19 129.1,-168.19 129.1,-132.19 183.1,-132.19 183.1,-168.19\"/>\n<text text-anchor=\"middle\" x=\"156.1\" y=\"-146.49\" font-family=\"Helvetica,sans-Serif\" font-size=\"14.00\">(0, 1)</text>\n</g>\n<!-- &#45;4999520957879383652&#45;&gt;&#45;2047942543915551211 -->\n<g id=\"edge2\" class=\"edge\">\n<title>-4999520957879383652-&gt;-2047942543915551211</title>\n<path fill=\"none\" stroke=\"black\" d=\"M159.27,-96.21C158.74,-105 158.21,-113.9 157.74,-121.84\"/>\n<polygon fill=\"black\" stroke=\"black\" points=\"154.23,-121.78 157.13,-131.97 161.22,-122.19 154.23,-121.78\"/>\n</g>\n<!-- &#45;4015799308377039864 -->\n<g id=\"node11\" class=\"node\">\n<title>-4015799308377039864</title>\n<ellipse fill=\"none\" stroke=\"black\" cx=\"156.1\" cy=\"-232.14\" rx=\"27.9\" ry=\"27.9\"/>\n<text text-anchor=\"middle\" x=\"156.1\" y=\"-228.44\" font-family=\"Helvetica,sans-Serif\" font-size=\"14.00\">sum</text>\n</g>\n<!-- &#45;2047942543915551211&#45;&gt;&#45;4015799308377039864 -->\n<g id=\"edge8\" class=\"edge\">\n<title>-2047942543915551211-&gt;-4015799308377039864</title>\n<path fill=\"none\" stroke=\"black\" d=\"M156.1,-168.54C156.1,-176 156.1,-185.03 156.1,-193.88\"/>\n<polygon fill=\"black\" stroke=\"black\" points=\"152.6,-194.08 156.1,-204.08 159.6,-194.08 152.6,-194.08\"/>\n</g>\n<!-- &#45;5803647863027956694 -->\n<g id=\"node5\" class=\"node\">\n<title>-5803647863027956694</title>\n<ellipse fill=\"none\" stroke=\"black\" cx=\"279.1\" cy=\"-48.1\" rx=\"48.19\" ry=\"48.19\"/>\n<text text-anchor=\"middle\" x=\"279.1\" y=\"-44.4\" font-family=\"Helvetica,sans-Serif\" font-size=\"14.00\">ones_like</text>\n</g>\n<!-- 4459698212186447214 -->\n<g id=\"node6\" class=\"node\">\n<title>4459698212186447214</title>\n<polygon fill=\"none\" stroke=\"black\" points=\"306.1,-168.19 252.1,-168.19 252.1,-132.19 306.1,-132.19 306.1,-168.19\"/>\n<text text-anchor=\"middle\" x=\"279.1\" y=\"-146.49\" font-family=\"Helvetica,sans-Serif\" font-size=\"14.00\">(0, 2)</text>\n</g>\n<!-- &#45;5803647863027956694&#45;&gt;4459698212186447214 -->\n<g id=\"edge3\" class=\"edge\">\n<title>-5803647863027956694-&gt;4459698212186447214</title>\n<path fill=\"none\" stroke=\"black\" d=\"M279.1,-96.21C279.1,-105 279.1,-113.9 279.1,-121.84\"/>\n<polygon fill=\"black\" stroke=\"black\" points=\"275.6,-121.97 279.1,-131.97 282.6,-121.97 275.6,-121.97\"/>\n</g>\n<!-- &#45;6384856535472815081 -->\n<g id=\"node13\" class=\"node\">\n<title>-6384856535472815081</title>\n<ellipse fill=\"none\" stroke=\"black\" cx=\"280.1\" cy=\"-232.14\" rx=\"27.9\" ry=\"27.9\"/>\n<text text-anchor=\"middle\" x=\"280.1\" y=\"-228.44\" font-family=\"Helvetica,sans-Serif\" font-size=\"14.00\">sum</text>\n</g>\n<!-- 4459698212186447214&#45;&gt;&#45;6384856535472815081 -->\n<g id=\"edge10\" class=\"edge\">\n<title>4459698212186447214-&gt;-6384856535472815081</title>\n<path fill=\"none\" stroke=\"black\" d=\"M279.31,-168.54C279.41,-176 279.52,-185.03 279.63,-193.88\"/>\n<polygon fill=\"black\" stroke=\"black\" points=\"276.13,-194.12 279.76,-204.08 283.13,-194.03 276.13,-194.12\"/>\n</g>\n<!-- &#45;5962686073573432214 -->\n<g id=\"node7\" class=\"node\">\n<title>-5962686073573432214</title>\n<ellipse fill=\"none\" stroke=\"black\" cx=\"393.1\" cy=\"-48.1\" rx=\"48.19\" ry=\"48.19\"/>\n<text text-anchor=\"middle\" x=\"393.1\" y=\"-44.4\" font-family=\"Helvetica,sans-Serif\" font-size=\"14.00\">ones_like</text>\n</g>\n<!-- &#45;433375816786249152 -->\n<g id=\"node8\" class=\"node\">\n<title>-433375816786249152</title>\n<polygon fill=\"none\" stroke=\"black\" points=\"410.1,-168.19 356.1,-168.19 356.1,-132.19 410.1,-132.19 410.1,-168.19\"/>\n<text text-anchor=\"middle\" x=\"383.1\" y=\"-146.49\" font-family=\"Helvetica,sans-Serif\" font-size=\"14.00\">(0, 3)</text>\n</g>\n<!-- &#45;5962686073573432214&#45;&gt;&#45;433375816786249152 -->\n<g id=\"edge4\" class=\"edge\">\n<title>-5962686073573432214-&gt;-433375816786249152</title>\n<path fill=\"none\" stroke=\"black\" d=\"M388.39,-96.21C387.51,-105 386.62,-113.9 385.83,-121.84\"/>\n<polygon fill=\"black\" stroke=\"black\" points=\"382.33,-121.67 384.82,-131.97 389.29,-122.36 382.33,-121.67\"/>\n</g>\n<!-- 6430440872906700196 -->\n<g id=\"node15\" class=\"node\">\n<title>6430440872906700196</title>\n<ellipse fill=\"none\" stroke=\"black\" cx=\"373.1\" cy=\"-232.14\" rx=\"27.9\" ry=\"27.9\"/>\n<text text-anchor=\"middle\" x=\"373.1\" y=\"-228.44\" font-family=\"Helvetica,sans-Serif\" font-size=\"14.00\">sum</text>\n</g>\n<!-- &#45;433375816786249152&#45;&gt;6430440872906700196 -->\n<g id=\"edge12\" class=\"edge\">\n<title>-433375816786249152-&gt;6430440872906700196</title>\n<path fill=\"none\" stroke=\"black\" d=\"M380.93,-168.54C379.97,-176.15 378.82,-185.38 377.69,-194.4\"/>\n<polygon fill=\"black\" stroke=\"black\" points=\"374.21,-194.03 376.44,-204.39 381.16,-194.9 374.21,-194.03\"/>\n</g>\n<!-- 8638051441982942856 -->\n<g id=\"node10\" class=\"node\">\n<title>8638051441982942856</title>\n<polygon fill=\"none\" stroke=\"black\" points=\"106.1,-332.09 52.1,-332.09 52.1,-296.09 106.1,-296.09 106.1,-332.09\"/>\n<text text-anchor=\"middle\" x=\"79.1\" y=\"-310.39\" font-family=\"Helvetica,sans-Serif\" font-size=\"14.00\">(0, 0)</text>\n</g>\n<!-- 1186684979755901306&#45;&gt;8638051441982942856 -->\n<g id=\"edge5\" class=\"edge\">\n<title>1186684979755901306-&gt;8638051441982942856</title>\n<path fill=\"none\" stroke=\"black\" d=\"M75.79,-260.21C76.3,-268.39 76.86,-277.39 77.38,-285.61\"/>\n<polygon fill=\"black\" stroke=\"black\" points=\"73.9,-286.06 78.02,-295.83 80.89,-285.63 73.9,-286.06\"/>\n</g>\n<!-- 7763510382901497295 -->\n<g id=\"node17\" class=\"node\">\n<title>7763510382901497295</title>\n<ellipse fill=\"none\" stroke=\"black\" cx=\"154.1\" cy=\"-422.68\" rx=\"54.69\" ry=\"54.69\"/>\n<text text-anchor=\"middle\" x=\"154.1\" y=\"-418.98\" font-family=\"Helvetica,sans-Serif\" font-size=\"14.00\">sum-partial</text>\n</g>\n<!-- 8638051441982942856&#45;&gt;7763510382901497295 -->\n<g id=\"edge14\" class=\"edge\">\n<title>8638051441982942856-&gt;7763510382901497295</title>\n<path fill=\"none\" stroke=\"black\" d=\"M91.15,-332.21C98.28,-342.35 107.74,-355.79 117.15,-369.17\"/>\n<polygon fill=\"black\" stroke=\"black\" points=\"114.36,-371.3 122.98,-377.46 120.09,-367.27 114.36,-371.3\"/>\n</g>\n<!-- &#45;3301051875624610335 -->\n<g id=\"node12\" class=\"node\">\n<title>-3301051875624610335</title>\n<polygon fill=\"none\" stroke=\"black\" points=\"182.1,-332.09 128.1,-332.09 128.1,-296.09 182.1,-296.09 182.1,-332.09\"/>\n<text text-anchor=\"middle\" x=\"155.1\" y=\"-310.39\" font-family=\"Helvetica,sans-Serif\" font-size=\"14.00\">(0, 1)</text>\n</g>\n<!-- &#45;4015799308377039864&#45;&gt;&#45;3301051875624610335 -->\n<g id=\"edge7\" class=\"edge\">\n<title>-4015799308377039864-&gt;-3301051875624610335</title>\n<path fill=\"none\" stroke=\"black\" d=\"M155.76,-260.21C155.65,-268.39 155.54,-277.39 155.44,-285.61\"/>\n<polygon fill=\"black\" stroke=\"black\" points=\"151.94,-285.78 155.31,-295.83 158.94,-285.87 151.94,-285.78\"/>\n</g>\n<!-- &#45;3301051875624610335&#45;&gt;7763510382901497295 -->\n<g id=\"edge15\" class=\"edge\">\n<title>-3301051875624610335-&gt;7763510382901497295</title>\n<path fill=\"none\" stroke=\"black\" d=\"M154.94,-332.21C154.87,-339.39 154.78,-348.22 154.7,-357.51\"/>\n<polygon fill=\"black\" stroke=\"black\" points=\"151.2,-357.68 154.6,-367.71 158.2,-357.75 151.2,-357.68\"/>\n</g>\n<!-- 5854260786127876787 -->\n<g id=\"node14\" class=\"node\">\n<title>5854260786127876787</title>\n<polygon fill=\"none\" stroke=\"black\" points=\"307.1,-332.09 253.1,-332.09 253.1,-296.09 307.1,-296.09 307.1,-332.09\"/>\n<text text-anchor=\"middle\" x=\"280.1\" y=\"-310.39\" font-family=\"Helvetica,sans-Serif\" font-size=\"14.00\">(0, 2)</text>\n</g>\n<!-- &#45;6384856535472815081&#45;&gt;5854260786127876787 -->\n<g id=\"edge9\" class=\"edge\">\n<title>-6384856535472815081-&gt;5854260786127876787</title>\n<path fill=\"none\" stroke=\"black\" d=\"M280.1,-260.21C280.1,-268.39 280.1,-277.39 280.1,-285.61\"/>\n<polygon fill=\"black\" stroke=\"black\" points=\"276.6,-285.83 280.1,-295.83 283.6,-285.83 276.6,-285.83\"/>\n</g>\n<!-- &#45;3598511480236361746 -->\n<g id=\"node19\" class=\"node\">\n<title>-3598511480236361746</title>\n<ellipse fill=\"none\" stroke=\"black\" cx=\"281.1\" cy=\"-422.68\" rx=\"54.69\" ry=\"54.69\"/>\n<text text-anchor=\"middle\" x=\"281.1\" y=\"-418.98\" font-family=\"Helvetica,sans-Serif\" font-size=\"14.00\">sum-partial</text>\n</g>\n<!-- 5854260786127876787&#45;&gt;&#45;3598511480236361746 -->\n<g id=\"edge17\" class=\"edge\">\n<title>5854260786127876787-&gt;-3598511480236361746</title>\n<path fill=\"none\" stroke=\"black\" d=\"M280.26,-332.21C280.32,-339.39 280.41,-348.22 280.49,-357.51\"/>\n<polygon fill=\"black\" stroke=\"black\" points=\"277,-357.75 280.59,-367.71 284,-357.68 277,-357.75\"/>\n</g>\n<!-- &#45;6084842531479676404 -->\n<g id=\"node16\" class=\"node\">\n<title>-6084842531479676404</title>\n<polygon fill=\"none\" stroke=\"black\" points=\"389.1,-332.09 335.1,-332.09 335.1,-296.09 389.1,-296.09 389.1,-332.09\"/>\n<text text-anchor=\"middle\" x=\"362.1\" y=\"-310.39\" font-family=\"Helvetica,sans-Serif\" font-size=\"14.00\">(0, 3)</text>\n</g>\n<!-- 6430440872906700196&#45;&gt;&#45;6084842531479676404 -->\n<g id=\"edge11\" class=\"edge\">\n<title>6430440872906700196-&gt;-6084842531479676404</title>\n<path fill=\"none\" stroke=\"black\" d=\"M369.37,-260.21C368.23,-268.49 366.98,-277.6 365.84,-285.89\"/>\n<polygon fill=\"black\" stroke=\"black\" points=\"362.37,-285.44 364.47,-295.83 369.3,-286.4 362.37,-285.44\"/>\n</g>\n<!-- &#45;6084842531479676404&#45;&gt;&#45;3598511480236361746 -->\n<g id=\"edge18\" class=\"edge\">\n<title>-6084842531479676404-&gt;-3598511480236361746</title>\n<path fill=\"none\" stroke=\"black\" d=\"M349.08,-332.21C341.08,-342.74 330.37,-356.83 319.82,-370.72\"/>\n<polygon fill=\"black\" stroke=\"black\" points=\"316.92,-368.76 313.65,-378.84 322.49,-372.99 316.92,-368.76\"/>\n</g>\n<!-- &#45;7813166882988715877 -->\n<g id=\"node18\" class=\"node\">\n<title>-7813166882988715877</title>\n<polygon fill=\"none\" stroke=\"black\" points=\"208.1,-549.28 154.1,-549.28 154.1,-513.28 208.1,-513.28 208.1,-549.28\"/>\n<text text-anchor=\"middle\" x=\"181.1\" y=\"-527.58\" font-family=\"Helvetica,sans-Serif\" font-size=\"14.00\">(0, 0)</text>\n</g>\n<!-- 7763510382901497295&#45;&gt;&#45;7813166882988715877 -->\n<g id=\"edge13\" class=\"edge\">\n<title>7763510382901497295-&gt;-7813166882988715877</title>\n<path fill=\"none\" stroke=\"black\" d=\"M167.28,-475.73C169.69,-485.24 172.11,-494.81 174.24,-503.21\"/>\n<polygon fill=\"black\" stroke=\"black\" points=\"170.91,-504.32 176.76,-513.15 177.7,-502.6 170.91,-504.32\"/>\n</g>\n<!-- &#45;2823865654573950343 -->\n<g id=\"node21\" class=\"node\">\n<title>-2823865654573950343</title>\n<ellipse fill=\"none\" stroke=\"black\" cx=\"217.1\" cy=\"-655.47\" rx=\"70.39\" ry=\"70.39\"/>\n<text text-anchor=\"middle\" x=\"217.1\" y=\"-651.77\" font-family=\"Helvetica,sans-Serif\" font-size=\"14.00\">sum-aggregate</text>\n</g>\n<!-- &#45;7813166882988715877&#45;&gt;&#45;2823865654573950343 -->\n<g id=\"edge20\" class=\"edge\">\n<title>-7813166882988715877-&gt;-2823865654573950343</title>\n<path fill=\"none\" stroke=\"black\" d=\"M186.18,-549.53C188.53,-557.51 191.51,-567.62 194.68,-578.38\"/>\n<polygon fill=\"black\" stroke=\"black\" points=\"191.32,-579.37 197.5,-587.97 198.04,-577.39 191.32,-579.37\"/>\n</g>\n<!-- &#45;1305526126886717452 -->\n<g id=\"node20\" class=\"node\">\n<title>-1305526126886717452</title>\n<polygon fill=\"none\" stroke=\"black\" points=\"294.1,-549.28 240.1,-549.28 240.1,-513.28 294.1,-513.28 294.1,-549.28\"/>\n<text text-anchor=\"middle\" x=\"267.1\" y=\"-527.58\" font-family=\"Helvetica,sans-Serif\" font-size=\"14.00\">(0, 1)</text>\n</g>\n<!-- &#45;3598511480236361746&#45;&gt;&#45;1305526126886717452 -->\n<g id=\"edge16\" class=\"edge\">\n<title>-3598511480236361746-&gt;-1305526126886717452</title>\n<path fill=\"none\" stroke=\"black\" d=\"M274.1,-476.98C272.91,-486 271.73,-495.01 270.68,-503\"/>\n<polygon fill=\"black\" stroke=\"black\" points=\"267.18,-502.78 269.35,-513.15 274.12,-503.69 267.18,-502.78\"/>\n</g>\n<!-- &#45;1305526126886717452&#45;&gt;&#45;2823865654573950343 -->\n<g id=\"edge21\" class=\"edge\">\n<title>-1305526126886717452-&gt;-2823865654573950343</title>\n<path fill=\"none\" stroke=\"black\" d=\"M260.04,-549.53C256.53,-558.09 252.03,-569.09 247.27,-580.72\"/>\n<polygon fill=\"black\" stroke=\"black\" points=\"243.96,-579.57 243.41,-590.16 250.44,-582.23 243.96,-579.57\"/>\n</g>\n<!-- 812870008180976468 -->\n<g id=\"node22\" class=\"node\">\n<title>812870008180976468</title>\n<polygon fill=\"none\" stroke=\"black\" points=\"244.1,-797.66 190.1,-797.66 190.1,-761.66 244.1,-761.66 244.1,-797.66\"/>\n<text text-anchor=\"middle\" x=\"217.1\" y=\"-775.96\" font-family=\"Helvetica,sans-Serif\" font-size=\"14.00\">()</text>\n</g>\n<!-- &#45;2823865654573950343&#45;&gt;812870008180976468 -->\n<g id=\"edge19\" class=\"edge\">\n<title>-2823865654573950343-&gt;812870008180976468</title>\n<path fill=\"none\" stroke=\"black\" d=\"M217.1,-725.78C217.1,-734.86 217.1,-743.69 217.1,-751.46\"/>\n<polygon fill=\"black\" stroke=\"black\" points=\"213.6,-751.64 217.1,-761.64 220.6,-751.64 213.6,-751.64\"/>\n</g>\n</g>\n</svg>"
          },
          "metadata": {},
          "execution_count": 20
        }
      ],
      "source": [
        "# calculate the sum of elements of dask array\n",
        "sum_of_ones = ones.sum()\n",
        "# visualize the sum operation in dask\n",
        "sum_of_ones.visualize(format='svg')"
      ]
    },
    {
      "cell_type": "markdown",
      "id": "urIQVP-xQ9XO",
      "metadata": {
        "id": "urIQVP-xQ9XO"
      },
      "source": [
        "### DataFrame\n",
        "\n",
        "A Dask DataFrame is a large parallel DataFrame composed of many smaller Pandas DataFrames, split along **with** the index. One Dask DataFrame operation triggers many operations on the constituent Pandas DataFrames.\n",
        "\n",
        "Dask DataFrames coordinate many Pandas DataFrames/Series arranged along the index. A Dask DataFrame is partitioned row-wise, grouping rows by index value for efficiency.\n",
        "\n",
        "![Dask_DF](https://cdn.iisc.talentsprint.com/CDS/Images/Dask_Dataframe.JPG)\n",
        "\n",
        "To study more about Dask dataframe, refer to the link [here](https://docs.dask.org/en/latest/dataframe.html)."
      ]
    },
    {
      "cell_type": "markdown",
      "id": "Zyw-S0i7QQ_U",
      "metadata": {
        "id": "Zyw-S0i7QQ_U"
      },
      "source": [
        "Create a dataframe with random values"
      ]
    },
    {
      "cell_type": "code",
      "execution_count": 21,
      "id": "H4xmg4gHQdTo",
      "metadata": {
        "id": "H4xmg4gHQdTo"
      },
      "outputs": [],
      "source": [
        "# pandas and numpy is used to create dataframe of random values\n",
        "data = pd.DataFrame()"
      ]
    },
    {
      "cell_type": "markdown",
      "id": "81SudTyQSD8a",
      "metadata": {
        "id": "81SudTyQSD8a"
      },
      "source": [
        "Dataframe is created with two columns, each having 1500 random values."
      ]
    },
    {
      "cell_type": "code",
      "execution_count": 22,
      "id": "4iu2Pps_Erfi",
      "metadata": {
        "id": "4iu2Pps_Erfi",
        "outputId": "fa333728-6209-46d3-ba0f-786ec27464e0",
        "colab": {
          "base_uri": "https://localhost:8080/"
        }
      },
      "outputs": [
        {
          "output_type": "stream",
          "name": "stdout",
          "text": [
            "          col1      col2\n",
            "0    -1.546212 -2.290579\n",
            "1     1.245184 -0.890363\n",
            "2     1.307999  0.593895\n",
            "3     1.605463 -0.870776\n",
            "4    -2.036276  0.564210\n",
            "...        ...       ...\n",
            "1495  0.811293 -0.982435\n",
            "1496  0.060146 -1.677789\n",
            "1497 -0.965194  0.460483\n",
            "1498 -0.113647  0.154774\n",
            "1499 -0.290506 -0.201119\n",
            "\n",
            "[1500 rows x 2 columns]\n"
          ]
        }
      ],
      "source": [
        "# create two columns\n",
        "data['col1'] = np.random.normal(size=1500)\n",
        "data['col2'] = np.random.normal(size=1500)\n",
        "print(data)"
      ]
    },
    {
      "cell_type": "markdown",
      "id": "8zEcwuXZSM9A",
      "metadata": {
        "id": "8zEcwuXZSM9A"
      },
      "source": [
        "Read the dataframe using dask dataframe"
      ]
    },
    {
      "cell_type": "code",
      "execution_count": 23,
      "id": "f2LFQep8Q1ga",
      "metadata": {
        "id": "f2LFQep8Q1ga",
        "outputId": "9878b250-08e0-426d-91cb-5e250057b662",
        "colab": {
          "base_uri": "https://localhost:8080/"
        }
      },
      "outputs": [
        {
          "output_type": "stream",
          "name": "stdout",
          "text": [
            "          col1      col2\n",
            "0    -1.546212 -2.290579\n",
            "1     1.245184 -0.890363\n",
            "2     1.307999  0.593895\n",
            "3     1.605463 -0.870776\n",
            "4    -2.036276  0.564210\n",
            "...        ...       ...\n",
            "1495  0.811293 -0.982435\n",
            "1496  0.060146 -1.677789\n",
            "1497 -0.965194  0.460483\n",
            "1498 -0.113647  0.154774\n",
            "1499 -0.290506 -0.201119\n",
            "\n",
            "[1500 rows x 2 columns]\n"
          ]
        }
      ],
      "source": [
        "# convert pandas dataframe to dask dataframe\n",
        "ddf = dd.from_pandas(data, npartitions=2)\n",
        "print(ddf.compute())"
      ]
    },
    {
      "cell_type": "code",
      "execution_count": 24,
      "id": "eqtBj6xsRBla",
      "metadata": {
        "id": "eqtBj6xsRBla",
        "outputId": "21218702-9984-4971-f3bb-1a5a259f7aeb",
        "colab": {
          "base_uri": "https://localhost:8080/"
        }
      },
      "outputs": [
        {
          "output_type": "stream",
          "name": "stdout",
          "text": [
            "         col1      col2\n",
            "750 -0.190522 -0.736444\n",
            "751  0.574407 -1.570124\n",
            "752  1.493272  1.531186\n",
            "753 -1.662920 -1.548724\n",
            "754  0.273370  0.560763\n"
          ]
        }
      ],
      "source": [
        "# Get a dask DataFrame/Series representing the nth partition\n",
        "part_1= ddf.get_partition(1)\n",
        "print(part_1.head())"
      ]
    },
    {
      "cell_type": "code",
      "execution_count": 25,
      "id": "5QyY3Hu1RlWR",
      "metadata": {
        "id": "5QyY3Hu1RlWR",
        "outputId": "a1349240-5f1e-4207-c1fe-aefd90947036",
        "colab": {
          "base_uri": "https://localhost:8080/",
          "height": 524
        }
      },
      "outputs": [
        {
          "output_type": "stream",
          "name": "stdout",
          "text": [
            "CPU times: user 39.4 ms, sys: 3.96 ms, total: 43.3 ms\n",
            "Wall time: 60.8 ms\n"
          ]
        },
        {
          "output_type": "execute_result",
          "data": {
            "text/plain": [
              "col1\n",
              "-3.537525    1\n",
              "-3.206386    1\n",
              "-2.605820    1\n",
              "-2.583238    1\n",
              "-2.482224    1\n",
              "            ..\n",
              " 2.701425    1\n",
              " 2.866197    1\n",
              " 2.879328    1\n",
              " 3.222077    1\n",
              " 3.293300    1\n",
              "Name: count, Length: 1500, dtype: int64"
            ],
            "text/html": [
              "<div>\n",
              "<style scoped>\n",
              "    .dataframe tbody tr th:only-of-type {\n",
              "        vertical-align: middle;\n",
              "    }\n",
              "\n",
              "    .dataframe tbody tr th {\n",
              "        vertical-align: top;\n",
              "    }\n",
              "\n",
              "    .dataframe thead th {\n",
              "        text-align: right;\n",
              "    }\n",
              "</style>\n",
              "<table border=\"1\" class=\"dataframe\">\n",
              "  <thead>\n",
              "    <tr style=\"text-align: right;\">\n",
              "      <th></th>\n",
              "      <th>count</th>\n",
              "    </tr>\n",
              "    <tr>\n",
              "      <th>col1</th>\n",
              "      <th></th>\n",
              "    </tr>\n",
              "  </thead>\n",
              "  <tbody>\n",
              "    <tr>\n",
              "      <th>-3.537525</th>\n",
              "      <td>1</td>\n",
              "    </tr>\n",
              "    <tr>\n",
              "      <th>-3.206386</th>\n",
              "      <td>1</td>\n",
              "    </tr>\n",
              "    <tr>\n",
              "      <th>-2.605820</th>\n",
              "      <td>1</td>\n",
              "    </tr>\n",
              "    <tr>\n",
              "      <th>-2.583238</th>\n",
              "      <td>1</td>\n",
              "    </tr>\n",
              "    <tr>\n",
              "      <th>-2.482224</th>\n",
              "      <td>1</td>\n",
              "    </tr>\n",
              "    <tr>\n",
              "      <th>...</th>\n",
              "      <td>...</td>\n",
              "    </tr>\n",
              "    <tr>\n",
              "      <th>2.701425</th>\n",
              "      <td>1</td>\n",
              "    </tr>\n",
              "    <tr>\n",
              "      <th>2.866197</th>\n",
              "      <td>1</td>\n",
              "    </tr>\n",
              "    <tr>\n",
              "      <th>2.879328</th>\n",
              "      <td>1</td>\n",
              "    </tr>\n",
              "    <tr>\n",
              "      <th>3.222077</th>\n",
              "      <td>1</td>\n",
              "    </tr>\n",
              "    <tr>\n",
              "      <th>3.293300</th>\n",
              "      <td>1</td>\n",
              "    </tr>\n",
              "  </tbody>\n",
              "</table>\n",
              "<p>1500 rows × 1 columns</p>\n",
              "</div><br><label><b>dtype:</b> int64</label>"
            ]
          },
          "metadata": {},
          "execution_count": 25
        }
      ],
      "source": [
        "%time ddf['col1'].value_counts().compute()                 # compute the value counts in column 1 and time of execution of code"
      ]
    },
    {
      "cell_type": "markdown",
      "id": "PwfxN8zIyZ1V",
      "metadata": {
        "id": "PwfxN8zIyZ1V"
      },
      "source": [
        "So, using dask dataframe it is much more time efficient to execute"
      ]
    },
    {
      "cell_type": "markdown",
      "id": "another-warren",
      "metadata": {
        "id": "another-warren"
      },
      "source": [
        "#### Performance of Dask Dataframe and Pandas Dataframe\n",
        "\n",
        "\n",
        "\n",
        "In the below example, we can understand how dask dataframes handle complex and large datasets along with pandas dataframe.\n",
        "\n",
        "We are using 'nycflights' dataset to show how dask differs from pandas.\n",
        "\n",
        "'nycflights' dataset contains 10 separate csv flights for the year 1990 to 1999."
      ]
    },
    {
      "cell_type": "code",
      "execution_count": 26,
      "id": "vkIiWr265y1k",
      "metadata": {
        "id": "vkIiWr265y1k"
      },
      "outputs": [],
      "source": [
        "nycflightsPath = os.path.join('nycflights', 'nycflights', '*.csv')"
      ]
    },
    {
      "cell_type": "code",
      "execution_count": 27,
      "id": "TtpYoVlZbaUE",
      "metadata": {
        "id": "TtpYoVlZbaUE",
        "outputId": "450992b4-8e80-45c0-e626-1fcf75cf5d15",
        "colab": {
          "base_uri": "https://localhost:8080/",
          "height": 35
        }
      },
      "outputs": [
        {
          "output_type": "execute_result",
          "data": {
            "text/plain": [
              "'nycflights/nycflights/*.csv'"
            ],
            "application/vnd.google.colaboratory.intrinsic+json": {
              "type": "string"
            }
          },
          "metadata": {},
          "execution_count": 27
        }
      ],
      "source": [
        "nycflightsPath"
      ]
    },
    {
      "cell_type": "code",
      "execution_count": 28,
      "id": "finished-mouse",
      "metadata": {
        "id": "finished-mouse",
        "outputId": "c5728467-a53e-41e7-c3fb-f6018c9c3405",
        "colab": {
          "base_uri": "https://localhost:8080/",
          "height": 342
        }
      },
      "outputs": [
        {
          "output_type": "execute_result",
          "data": {
            "text/plain": [
              "        Date  DayOfWeek  DepTime  CRSDepTime  ArrTime  CRSArrTime  \\\n",
              "0 1990-01-01          1   1621.0        1540   1747.0        1701   \n",
              "1 1990-01-02          2   1547.0        1540   1700.0        1701   \n",
              "2 1990-01-03          3   1546.0        1540   1710.0        1701   \n",
              "3 1990-01-04          4   1542.0        1540   1710.0        1701   \n",
              "4 1990-01-05          5   1549.0        1540   1706.0        1701   \n",
              "\n",
              "  UniqueCarrier  FlightNum TailNum  ActualElapsedTime  ...  AirTime  ArrDelay  \\\n",
              "0            US         33     NaN               86.0  ...      NaN      46.0   \n",
              "1            US         33     NaN               73.0  ...      NaN      -1.0   \n",
              "2            US         33     NaN               84.0  ...      NaN       9.0   \n",
              "3            US         33     NaN               88.0  ...      NaN       9.0   \n",
              "4            US         33     NaN               77.0  ...      NaN       5.0   \n",
              "\n",
              "   DepDelay  Origin Dest Distance  TaxiIn  TaxiOut  Cancelled  Diverted  \n",
              "0      41.0     EWR  PIT    319.0     NaN      NaN      False         0  \n",
              "1       7.0     EWR  PIT    319.0     NaN      NaN      False         0  \n",
              "2       6.0     EWR  PIT    319.0     NaN      NaN      False         0  \n",
              "3       2.0     EWR  PIT    319.0     NaN      NaN      False         0  \n",
              "4       9.0     EWR  PIT    319.0     NaN      NaN      False         0  \n",
              "\n",
              "[5 rows x 21 columns]"
            ],
            "text/html": [
              "\n",
              "  <div id=\"df-2f76558b-b035-4084-b3bb-5508c54b6303\" class=\"colab-df-container\">\n",
              "    <div>\n",
              "<style scoped>\n",
              "    .dataframe tbody tr th:only-of-type {\n",
              "        vertical-align: middle;\n",
              "    }\n",
              "\n",
              "    .dataframe tbody tr th {\n",
              "        vertical-align: top;\n",
              "    }\n",
              "\n",
              "    .dataframe thead th {\n",
              "        text-align: right;\n",
              "    }\n",
              "</style>\n",
              "<table border=\"1\" class=\"dataframe\">\n",
              "  <thead>\n",
              "    <tr style=\"text-align: right;\">\n",
              "      <th></th>\n",
              "      <th>Date</th>\n",
              "      <th>DayOfWeek</th>\n",
              "      <th>DepTime</th>\n",
              "      <th>CRSDepTime</th>\n",
              "      <th>ArrTime</th>\n",
              "      <th>CRSArrTime</th>\n",
              "      <th>UniqueCarrier</th>\n",
              "      <th>FlightNum</th>\n",
              "      <th>TailNum</th>\n",
              "      <th>ActualElapsedTime</th>\n",
              "      <th>...</th>\n",
              "      <th>AirTime</th>\n",
              "      <th>ArrDelay</th>\n",
              "      <th>DepDelay</th>\n",
              "      <th>Origin</th>\n",
              "      <th>Dest</th>\n",
              "      <th>Distance</th>\n",
              "      <th>TaxiIn</th>\n",
              "      <th>TaxiOut</th>\n",
              "      <th>Cancelled</th>\n",
              "      <th>Diverted</th>\n",
              "    </tr>\n",
              "  </thead>\n",
              "  <tbody>\n",
              "    <tr>\n",
              "      <th>0</th>\n",
              "      <td>1990-01-01</td>\n",
              "      <td>1</td>\n",
              "      <td>1621.0</td>\n",
              "      <td>1540</td>\n",
              "      <td>1747.0</td>\n",
              "      <td>1701</td>\n",
              "      <td>US</td>\n",
              "      <td>33</td>\n",
              "      <td>NaN</td>\n",
              "      <td>86.0</td>\n",
              "      <td>...</td>\n",
              "      <td>NaN</td>\n",
              "      <td>46.0</td>\n",
              "      <td>41.0</td>\n",
              "      <td>EWR</td>\n",
              "      <td>PIT</td>\n",
              "      <td>319.0</td>\n",
              "      <td>NaN</td>\n",
              "      <td>NaN</td>\n",
              "      <td>False</td>\n",
              "      <td>0</td>\n",
              "    </tr>\n",
              "    <tr>\n",
              "      <th>1</th>\n",
              "      <td>1990-01-02</td>\n",
              "      <td>2</td>\n",
              "      <td>1547.0</td>\n",
              "      <td>1540</td>\n",
              "      <td>1700.0</td>\n",
              "      <td>1701</td>\n",
              "      <td>US</td>\n",
              "      <td>33</td>\n",
              "      <td>NaN</td>\n",
              "      <td>73.0</td>\n",
              "      <td>...</td>\n",
              "      <td>NaN</td>\n",
              "      <td>-1.0</td>\n",
              "      <td>7.0</td>\n",
              "      <td>EWR</td>\n",
              "      <td>PIT</td>\n",
              "      <td>319.0</td>\n",
              "      <td>NaN</td>\n",
              "      <td>NaN</td>\n",
              "      <td>False</td>\n",
              "      <td>0</td>\n",
              "    </tr>\n",
              "    <tr>\n",
              "      <th>2</th>\n",
              "      <td>1990-01-03</td>\n",
              "      <td>3</td>\n",
              "      <td>1546.0</td>\n",
              "      <td>1540</td>\n",
              "      <td>1710.0</td>\n",
              "      <td>1701</td>\n",
              "      <td>US</td>\n",
              "      <td>33</td>\n",
              "      <td>NaN</td>\n",
              "      <td>84.0</td>\n",
              "      <td>...</td>\n",
              "      <td>NaN</td>\n",
              "      <td>9.0</td>\n",
              "      <td>6.0</td>\n",
              "      <td>EWR</td>\n",
              "      <td>PIT</td>\n",
              "      <td>319.0</td>\n",
              "      <td>NaN</td>\n",
              "      <td>NaN</td>\n",
              "      <td>False</td>\n",
              "      <td>0</td>\n",
              "    </tr>\n",
              "    <tr>\n",
              "      <th>3</th>\n",
              "      <td>1990-01-04</td>\n",
              "      <td>4</td>\n",
              "      <td>1542.0</td>\n",
              "      <td>1540</td>\n",
              "      <td>1710.0</td>\n",
              "      <td>1701</td>\n",
              "      <td>US</td>\n",
              "      <td>33</td>\n",
              "      <td>NaN</td>\n",
              "      <td>88.0</td>\n",
              "      <td>...</td>\n",
              "      <td>NaN</td>\n",
              "      <td>9.0</td>\n",
              "      <td>2.0</td>\n",
              "      <td>EWR</td>\n",
              "      <td>PIT</td>\n",
              "      <td>319.0</td>\n",
              "      <td>NaN</td>\n",
              "      <td>NaN</td>\n",
              "      <td>False</td>\n",
              "      <td>0</td>\n",
              "    </tr>\n",
              "    <tr>\n",
              "      <th>4</th>\n",
              "      <td>1990-01-05</td>\n",
              "      <td>5</td>\n",
              "      <td>1549.0</td>\n",
              "      <td>1540</td>\n",
              "      <td>1706.0</td>\n",
              "      <td>1701</td>\n",
              "      <td>US</td>\n",
              "      <td>33</td>\n",
              "      <td>NaN</td>\n",
              "      <td>77.0</td>\n",
              "      <td>...</td>\n",
              "      <td>NaN</td>\n",
              "      <td>5.0</td>\n",
              "      <td>9.0</td>\n",
              "      <td>EWR</td>\n",
              "      <td>PIT</td>\n",
              "      <td>319.0</td>\n",
              "      <td>NaN</td>\n",
              "      <td>NaN</td>\n",
              "      <td>False</td>\n",
              "      <td>0</td>\n",
              "    </tr>\n",
              "  </tbody>\n",
              "</table>\n",
              "<p>5 rows × 21 columns</p>\n",
              "</div>\n",
              "    <div class=\"colab-df-buttons\">\n",
              "\n",
              "  <div class=\"colab-df-container\">\n",
              "    <button class=\"colab-df-convert\" onclick=\"convertToInteractive('df-2f76558b-b035-4084-b3bb-5508c54b6303')\"\n",
              "            title=\"Convert this dataframe to an interactive table.\"\n",
              "            style=\"display:none;\">\n",
              "\n",
              "  <svg xmlns=\"http://www.w3.org/2000/svg\" height=\"24px\" viewBox=\"0 -960 960 960\">\n",
              "    <path d=\"M120-120v-720h720v720H120Zm60-500h600v-160H180v160Zm220 220h160v-160H400v160Zm0 220h160v-160H400v160ZM180-400h160v-160H180v160Zm440 0h160v-160H620v160ZM180-180h160v-160H180v160Zm440 0h160v-160H620v160Z\"/>\n",
              "  </svg>\n",
              "    </button>\n",
              "\n",
              "  <style>\n",
              "    .colab-df-container {\n",
              "      display:flex;\n",
              "      gap: 12px;\n",
              "    }\n",
              "\n",
              "    .colab-df-convert {\n",
              "      background-color: #E8F0FE;\n",
              "      border: none;\n",
              "      border-radius: 50%;\n",
              "      cursor: pointer;\n",
              "      display: none;\n",
              "      fill: #1967D2;\n",
              "      height: 32px;\n",
              "      padding: 0 0 0 0;\n",
              "      width: 32px;\n",
              "    }\n",
              "\n",
              "    .colab-df-convert:hover {\n",
              "      background-color: #E2EBFA;\n",
              "      box-shadow: 0px 1px 2px rgba(60, 64, 67, 0.3), 0px 1px 3px 1px rgba(60, 64, 67, 0.15);\n",
              "      fill: #174EA6;\n",
              "    }\n",
              "\n",
              "    .colab-df-buttons div {\n",
              "      margin-bottom: 4px;\n",
              "    }\n",
              "\n",
              "    [theme=dark] .colab-df-convert {\n",
              "      background-color: #3B4455;\n",
              "      fill: #D2E3FC;\n",
              "    }\n",
              "\n",
              "    [theme=dark] .colab-df-convert:hover {\n",
              "      background-color: #434B5C;\n",
              "      box-shadow: 0px 1px 3px 1px rgba(0, 0, 0, 0.15);\n",
              "      filter: drop-shadow(0px 1px 2px rgba(0, 0, 0, 0.3));\n",
              "      fill: #FFFFFF;\n",
              "    }\n",
              "  </style>\n",
              "\n",
              "    <script>\n",
              "      const buttonEl =\n",
              "        document.querySelector('#df-2f76558b-b035-4084-b3bb-5508c54b6303 button.colab-df-convert');\n",
              "      buttonEl.style.display =\n",
              "        google.colab.kernel.accessAllowed ? 'block' : 'none';\n",
              "\n",
              "      async function convertToInteractive(key) {\n",
              "        const element = document.querySelector('#df-2f76558b-b035-4084-b3bb-5508c54b6303');\n",
              "        const dataTable =\n",
              "          await google.colab.kernel.invokeFunction('convertToInteractive',\n",
              "                                                    [key], {});\n",
              "        if (!dataTable) return;\n",
              "\n",
              "        const docLinkHtml = 'Like what you see? Visit the ' +\n",
              "          '<a target=\"_blank\" href=https://colab.research.google.com/notebooks/data_table.ipynb>data table notebook</a>'\n",
              "          + ' to learn more about interactive tables.';\n",
              "        element.innerHTML = '';\n",
              "        dataTable['output_type'] = 'display_data';\n",
              "        await google.colab.output.renderOutput(dataTable, element);\n",
              "        const docLink = document.createElement('div');\n",
              "        docLink.innerHTML = docLinkHtml;\n",
              "        element.appendChild(docLink);\n",
              "      }\n",
              "    </script>\n",
              "  </div>\n",
              "\n",
              "\n",
              "<div id=\"df-7a5395ec-2635-4f2b-9343-30fc87fccb8d\">\n",
              "  <button class=\"colab-df-quickchart\" onclick=\"quickchart('df-7a5395ec-2635-4f2b-9343-30fc87fccb8d')\"\n",
              "            title=\"Suggest charts\"\n",
              "            style=\"display:none;\">\n",
              "\n",
              "<svg xmlns=\"http://www.w3.org/2000/svg\" height=\"24px\"viewBox=\"0 0 24 24\"\n",
              "     width=\"24px\">\n",
              "    <g>\n",
              "        <path d=\"M19 3H5c-1.1 0-2 .9-2 2v14c0 1.1.9 2 2 2h14c1.1 0 2-.9 2-2V5c0-1.1-.9-2-2-2zM9 17H7v-7h2v7zm4 0h-2V7h2v10zm4 0h-2v-4h2v4z\"/>\n",
              "    </g>\n",
              "</svg>\n",
              "  </button>\n",
              "\n",
              "<style>\n",
              "  .colab-df-quickchart {\n",
              "      --bg-color: #E8F0FE;\n",
              "      --fill-color: #1967D2;\n",
              "      --hover-bg-color: #E2EBFA;\n",
              "      --hover-fill-color: #174EA6;\n",
              "      --disabled-fill-color: #AAA;\n",
              "      --disabled-bg-color: #DDD;\n",
              "  }\n",
              "\n",
              "  [theme=dark] .colab-df-quickchart {\n",
              "      --bg-color: #3B4455;\n",
              "      --fill-color: #D2E3FC;\n",
              "      --hover-bg-color: #434B5C;\n",
              "      --hover-fill-color: #FFFFFF;\n",
              "      --disabled-bg-color: #3B4455;\n",
              "      --disabled-fill-color: #666;\n",
              "  }\n",
              "\n",
              "  .colab-df-quickchart {\n",
              "    background-color: var(--bg-color);\n",
              "    border: none;\n",
              "    border-radius: 50%;\n",
              "    cursor: pointer;\n",
              "    display: none;\n",
              "    fill: var(--fill-color);\n",
              "    height: 32px;\n",
              "    padding: 0;\n",
              "    width: 32px;\n",
              "  }\n",
              "\n",
              "  .colab-df-quickchart:hover {\n",
              "    background-color: var(--hover-bg-color);\n",
              "    box-shadow: 0 1px 2px rgba(60, 64, 67, 0.3), 0 1px 3px 1px rgba(60, 64, 67, 0.15);\n",
              "    fill: var(--button-hover-fill-color);\n",
              "  }\n",
              "\n",
              "  .colab-df-quickchart-complete:disabled,\n",
              "  .colab-df-quickchart-complete:disabled:hover {\n",
              "    background-color: var(--disabled-bg-color);\n",
              "    fill: var(--disabled-fill-color);\n",
              "    box-shadow: none;\n",
              "  }\n",
              "\n",
              "  .colab-df-spinner {\n",
              "    border: 2px solid var(--fill-color);\n",
              "    border-color: transparent;\n",
              "    border-bottom-color: var(--fill-color);\n",
              "    animation:\n",
              "      spin 1s steps(1) infinite;\n",
              "  }\n",
              "\n",
              "  @keyframes spin {\n",
              "    0% {\n",
              "      border-color: transparent;\n",
              "      border-bottom-color: var(--fill-color);\n",
              "      border-left-color: var(--fill-color);\n",
              "    }\n",
              "    20% {\n",
              "      border-color: transparent;\n",
              "      border-left-color: var(--fill-color);\n",
              "      border-top-color: var(--fill-color);\n",
              "    }\n",
              "    30% {\n",
              "      border-color: transparent;\n",
              "      border-left-color: var(--fill-color);\n",
              "      border-top-color: var(--fill-color);\n",
              "      border-right-color: var(--fill-color);\n",
              "    }\n",
              "    40% {\n",
              "      border-color: transparent;\n",
              "      border-right-color: var(--fill-color);\n",
              "      border-top-color: var(--fill-color);\n",
              "    }\n",
              "    60% {\n",
              "      border-color: transparent;\n",
              "      border-right-color: var(--fill-color);\n",
              "    }\n",
              "    80% {\n",
              "      border-color: transparent;\n",
              "      border-right-color: var(--fill-color);\n",
              "      border-bottom-color: var(--fill-color);\n",
              "    }\n",
              "    90% {\n",
              "      border-color: transparent;\n",
              "      border-bottom-color: var(--fill-color);\n",
              "    }\n",
              "  }\n",
              "</style>\n",
              "\n",
              "  <script>\n",
              "    async function quickchart(key) {\n",
              "      const quickchartButtonEl =\n",
              "        document.querySelector('#' + key + ' button');\n",
              "      quickchartButtonEl.disabled = true;  // To prevent multiple clicks.\n",
              "      quickchartButtonEl.classList.add('colab-df-spinner');\n",
              "      try {\n",
              "        const charts = await google.colab.kernel.invokeFunction(\n",
              "            'suggestCharts', [key], {});\n",
              "      } catch (error) {\n",
              "        console.error('Error during call to suggestCharts:', error);\n",
              "      }\n",
              "      quickchartButtonEl.classList.remove('colab-df-spinner');\n",
              "      quickchartButtonEl.classList.add('colab-df-quickchart-complete');\n",
              "    }\n",
              "    (() => {\n",
              "      let quickchartButtonEl =\n",
              "        document.querySelector('#df-7a5395ec-2635-4f2b-9343-30fc87fccb8d button');\n",
              "      quickchartButtonEl.style.display =\n",
              "        google.colab.kernel.accessAllowed ? 'block' : 'none';\n",
              "    })();\n",
              "  </script>\n",
              "</div>\n",
              "\n",
              "    </div>\n",
              "  </div>\n"
            ],
            "application/vnd.google.colaboratory.intrinsic+json": {
              "type": "dataframe"
            }
          },
          "metadata": {},
          "execution_count": 28
        }
      ],
      "source": [
        "# reading all the csv file using dask\n",
        "df_dd = dd.read_csv(nycflightsPath,\n",
        "                 parse_dates={'Date':[0,1,2]},\n",
        "                 dtype={'CRSElapsedTime': 'float64',\n",
        "                        'TailNum': 'object',\n",
        "                        'Cancelled': 'bool'})\n",
        "\n",
        "df_dd.head()"
      ]
    },
    {
      "cell_type": "markdown",
      "id": "weighted-panic",
      "metadata": {
        "id": "weighted-panic"
      },
      "source": [
        "Here, we can see that dask dataframe stores all the csv files simultaneously using *.csv (this code reads all the files inside nycflights dataset)"
      ]
    },
    {
      "cell_type": "markdown",
      "id": "fantastic-orientation",
      "metadata": {
        "id": "fantastic-orientation"
      },
      "source": [
        "Whereas, when we want to store the files using pandas, it leads to errors. This means pandas is not able to handle and store more than one file simultaneously. So, the following code cell will give an error.\n",
        "\n",
        "Here, in pandas, we need to store different csv files using separate commands."
      ]
    },
    {
      "cell_type": "code",
      "execution_count": 29,
      "id": "collectible-swing",
      "metadata": {
        "id": "collectible-swing",
        "outputId": "7b1385fd-5ad7-4ff1-edf1-e2636ff63b25",
        "colab": {
          "base_uri": "https://localhost:8080/"
        }
      },
      "outputs": [
        {
          "output_type": "stream",
          "name": "stdout",
          "text": [
            "Error Occured!\n"
          ]
        }
      ],
      "source": [
        "# this gives an error\n",
        "try:\n",
        "  # using pandas trying to read all csv files\n",
        "  df_pd = pd.read_csv(nycfllightsPath, parse_dates={'Date':[0,1,2]})\n",
        "except:\n",
        "  print(\"Error Occured!\")"
      ]
    },
    {
      "cell_type": "markdown",
      "id": "5msBx5FO680B",
      "metadata": {
        "id": "5msBx5FO680B"
      },
      "source": [
        "Using pandas we can read one single dataset at a time."
      ]
    },
    {
      "cell_type": "code",
      "execution_count": 30,
      "id": "Zd9OneVOb3z-",
      "metadata": {
        "id": "Zd9OneVOb3z-",
        "outputId": "db0a34b8-6740-4211-e939-70ae69ad398d",
        "colab": {
          "base_uri": "https://localhost:8080/"
        }
      },
      "outputs": [
        {
          "output_type": "stream",
          "name": "stdout",
          "text": [
            "Year,Month,DayofMonth,DayOfWeek,DepTime,CRSDepTime,ArrTime,CRSArrTime,UniqueCarrier,FlightNum,TailNum,ActualElapsedTime,CRSElapsedTime,AirTime,ArrDelay,DepDelay,Origin,Dest,Distance,TaxiIn,TaxiOut,Cancelled,Diverted\n",
            "1990,1,1,1,1621.0,1540,1747.0,1701,US,33,,86.0,81,,46.0,41.0,EWR,PIT,319.0,,,0,0\n",
            "1990,1,2,2,1547.0,1540,1700.0,1701,US,33,,73.0,81,,-1.0,7.0,EWR,PIT,319.0,,,0,0\n",
            "1990,1,3,3,1546.0,1540,1710.0,1701,US,33,,84.0,81,,9.0,6.0,EWR,PIT,319.0,,,0,0\n",
            "1990,1,4,4,1542.0,1540,1710.0,1701,US,33,,88.0,81,,9.0,2.0,EWR,PIT,319.0,,,0,0\n",
            "1990,1,5,5,1549.0,1540,1706.0,1701,US,33,,77.0,81,,5.0,9.0,EWR,PIT,319.0,,,0,0\n",
            "1990,1,6,6,1539.0,1540,1653.0,1701,US,33,,74.0,81,,-8.0,-1.0,EWR,PIT,319.0,,,0,0\n",
            "1990,1,7,7,1553.0,1540,1713.0,1701,US,33,,80.0,81,,12.0,13.0,EWR,PIT,319.0,,,0,0\n",
            "1990,1,8,1,1543.0,1540,1656.0,1701,US,33,,73.0,81,,-5.0,3.0,EWR,PIT,319.0,,,0,0\n",
            "1990,1,9,2,1540.0,1540,1704.0,1701,US,33,,84.0,81,,3.0,0.0,EWR,PIT,319.0,,,0,0\n"
          ]
        }
      ],
      "source": [
        "!head /content/nycflights/nycflights/1990.csv"
      ]
    },
    {
      "cell_type": "code",
      "execution_count": 31,
      "id": "social-harbor",
      "metadata": {
        "id": "social-harbor"
      },
      "outputs": [],
      "source": [
        "# reading only single csv file\n",
        "nycf_1990 = pd.read_csv('/content/nycflights/nycflights/1990.csv', parse_dates={'Date':[0,1,2]})"
      ]
    },
    {
      "cell_type": "markdown",
      "id": "conventional-supplement",
      "metadata": {
        "id": "conventional-supplement"
      },
      "source": [
        "Dask dataframes object has no data, unlike the pandas data frame. Dask has just read the start of the first file and the column names and dtypes. That's why dask is considered to be lazy in operation.\n",
        "\n",
        "For seeing the data in the dask dataframe we need to execute .head() function."
      ]
    },
    {
      "cell_type": "code",
      "execution_count": 32,
      "id": "realistic-palestine",
      "metadata": {
        "id": "realistic-palestine",
        "outputId": "6eaaaaeb-5fb3-4067-a95c-074aaec3f2a9",
        "colab": {
          "base_uri": "https://localhost:8080/",
          "height": 342
        }
      },
      "outputs": [
        {
          "output_type": "execute_result",
          "data": {
            "text/plain": [
              "        Date  DayOfWeek  DepTime  CRSDepTime  ArrTime  CRSArrTime  \\\n",
              "0 1990-01-01          1   1621.0        1540   1747.0        1701   \n",
              "1 1990-01-02          2   1547.0        1540   1700.0        1701   \n",
              "2 1990-01-03          3   1546.0        1540   1710.0        1701   \n",
              "3 1990-01-04          4   1542.0        1540   1710.0        1701   \n",
              "4 1990-01-05          5   1549.0        1540   1706.0        1701   \n",
              "\n",
              "  UniqueCarrier  FlightNum TailNum  ActualElapsedTime  ...  AirTime  ArrDelay  \\\n",
              "0            US         33     NaN               86.0  ...      NaN      46.0   \n",
              "1            US         33     NaN               73.0  ...      NaN      -1.0   \n",
              "2            US         33     NaN               84.0  ...      NaN       9.0   \n",
              "3            US         33     NaN               88.0  ...      NaN       9.0   \n",
              "4            US         33     NaN               77.0  ...      NaN       5.0   \n",
              "\n",
              "   DepDelay  Origin Dest Distance  TaxiIn  TaxiOut  Cancelled  Diverted  \n",
              "0      41.0     EWR  PIT    319.0     NaN      NaN      False         0  \n",
              "1       7.0     EWR  PIT    319.0     NaN      NaN      False         0  \n",
              "2       6.0     EWR  PIT    319.0     NaN      NaN      False         0  \n",
              "3       2.0     EWR  PIT    319.0     NaN      NaN      False         0  \n",
              "4       9.0     EWR  PIT    319.0     NaN      NaN      False         0  \n",
              "\n",
              "[5 rows x 21 columns]"
            ],
            "text/html": [
              "\n",
              "  <div id=\"df-00eebe3c-093a-4ca1-ae65-b02a1a5d4770\" class=\"colab-df-container\">\n",
              "    <div>\n",
              "<style scoped>\n",
              "    .dataframe tbody tr th:only-of-type {\n",
              "        vertical-align: middle;\n",
              "    }\n",
              "\n",
              "    .dataframe tbody tr th {\n",
              "        vertical-align: top;\n",
              "    }\n",
              "\n",
              "    .dataframe thead th {\n",
              "        text-align: right;\n",
              "    }\n",
              "</style>\n",
              "<table border=\"1\" class=\"dataframe\">\n",
              "  <thead>\n",
              "    <tr style=\"text-align: right;\">\n",
              "      <th></th>\n",
              "      <th>Date</th>\n",
              "      <th>DayOfWeek</th>\n",
              "      <th>DepTime</th>\n",
              "      <th>CRSDepTime</th>\n",
              "      <th>ArrTime</th>\n",
              "      <th>CRSArrTime</th>\n",
              "      <th>UniqueCarrier</th>\n",
              "      <th>FlightNum</th>\n",
              "      <th>TailNum</th>\n",
              "      <th>ActualElapsedTime</th>\n",
              "      <th>...</th>\n",
              "      <th>AirTime</th>\n",
              "      <th>ArrDelay</th>\n",
              "      <th>DepDelay</th>\n",
              "      <th>Origin</th>\n",
              "      <th>Dest</th>\n",
              "      <th>Distance</th>\n",
              "      <th>TaxiIn</th>\n",
              "      <th>TaxiOut</th>\n",
              "      <th>Cancelled</th>\n",
              "      <th>Diverted</th>\n",
              "    </tr>\n",
              "  </thead>\n",
              "  <tbody>\n",
              "    <tr>\n",
              "      <th>0</th>\n",
              "      <td>1990-01-01</td>\n",
              "      <td>1</td>\n",
              "      <td>1621.0</td>\n",
              "      <td>1540</td>\n",
              "      <td>1747.0</td>\n",
              "      <td>1701</td>\n",
              "      <td>US</td>\n",
              "      <td>33</td>\n",
              "      <td>NaN</td>\n",
              "      <td>86.0</td>\n",
              "      <td>...</td>\n",
              "      <td>NaN</td>\n",
              "      <td>46.0</td>\n",
              "      <td>41.0</td>\n",
              "      <td>EWR</td>\n",
              "      <td>PIT</td>\n",
              "      <td>319.0</td>\n",
              "      <td>NaN</td>\n",
              "      <td>NaN</td>\n",
              "      <td>False</td>\n",
              "      <td>0</td>\n",
              "    </tr>\n",
              "    <tr>\n",
              "      <th>1</th>\n",
              "      <td>1990-01-02</td>\n",
              "      <td>2</td>\n",
              "      <td>1547.0</td>\n",
              "      <td>1540</td>\n",
              "      <td>1700.0</td>\n",
              "      <td>1701</td>\n",
              "      <td>US</td>\n",
              "      <td>33</td>\n",
              "      <td>NaN</td>\n",
              "      <td>73.0</td>\n",
              "      <td>...</td>\n",
              "      <td>NaN</td>\n",
              "      <td>-1.0</td>\n",
              "      <td>7.0</td>\n",
              "      <td>EWR</td>\n",
              "      <td>PIT</td>\n",
              "      <td>319.0</td>\n",
              "      <td>NaN</td>\n",
              "      <td>NaN</td>\n",
              "      <td>False</td>\n",
              "      <td>0</td>\n",
              "    </tr>\n",
              "    <tr>\n",
              "      <th>2</th>\n",
              "      <td>1990-01-03</td>\n",
              "      <td>3</td>\n",
              "      <td>1546.0</td>\n",
              "      <td>1540</td>\n",
              "      <td>1710.0</td>\n",
              "      <td>1701</td>\n",
              "      <td>US</td>\n",
              "      <td>33</td>\n",
              "      <td>NaN</td>\n",
              "      <td>84.0</td>\n",
              "      <td>...</td>\n",
              "      <td>NaN</td>\n",
              "      <td>9.0</td>\n",
              "      <td>6.0</td>\n",
              "      <td>EWR</td>\n",
              "      <td>PIT</td>\n",
              "      <td>319.0</td>\n",
              "      <td>NaN</td>\n",
              "      <td>NaN</td>\n",
              "      <td>False</td>\n",
              "      <td>0</td>\n",
              "    </tr>\n",
              "    <tr>\n",
              "      <th>3</th>\n",
              "      <td>1990-01-04</td>\n",
              "      <td>4</td>\n",
              "      <td>1542.0</td>\n",
              "      <td>1540</td>\n",
              "      <td>1710.0</td>\n",
              "      <td>1701</td>\n",
              "      <td>US</td>\n",
              "      <td>33</td>\n",
              "      <td>NaN</td>\n",
              "      <td>88.0</td>\n",
              "      <td>...</td>\n",
              "      <td>NaN</td>\n",
              "      <td>9.0</td>\n",
              "      <td>2.0</td>\n",
              "      <td>EWR</td>\n",
              "      <td>PIT</td>\n",
              "      <td>319.0</td>\n",
              "      <td>NaN</td>\n",
              "      <td>NaN</td>\n",
              "      <td>False</td>\n",
              "      <td>0</td>\n",
              "    </tr>\n",
              "    <tr>\n",
              "      <th>4</th>\n",
              "      <td>1990-01-05</td>\n",
              "      <td>5</td>\n",
              "      <td>1549.0</td>\n",
              "      <td>1540</td>\n",
              "      <td>1706.0</td>\n",
              "      <td>1701</td>\n",
              "      <td>US</td>\n",
              "      <td>33</td>\n",
              "      <td>NaN</td>\n",
              "      <td>77.0</td>\n",
              "      <td>...</td>\n",
              "      <td>NaN</td>\n",
              "      <td>5.0</td>\n",
              "      <td>9.0</td>\n",
              "      <td>EWR</td>\n",
              "      <td>PIT</td>\n",
              "      <td>319.0</td>\n",
              "      <td>NaN</td>\n",
              "      <td>NaN</td>\n",
              "      <td>False</td>\n",
              "      <td>0</td>\n",
              "    </tr>\n",
              "  </tbody>\n",
              "</table>\n",
              "<p>5 rows × 21 columns</p>\n",
              "</div>\n",
              "    <div class=\"colab-df-buttons\">\n",
              "\n",
              "  <div class=\"colab-df-container\">\n",
              "    <button class=\"colab-df-convert\" onclick=\"convertToInteractive('df-00eebe3c-093a-4ca1-ae65-b02a1a5d4770')\"\n",
              "            title=\"Convert this dataframe to an interactive table.\"\n",
              "            style=\"display:none;\">\n",
              "\n",
              "  <svg xmlns=\"http://www.w3.org/2000/svg\" height=\"24px\" viewBox=\"0 -960 960 960\">\n",
              "    <path d=\"M120-120v-720h720v720H120Zm60-500h600v-160H180v160Zm220 220h160v-160H400v160Zm0 220h160v-160H400v160ZM180-400h160v-160H180v160Zm440 0h160v-160H620v160ZM180-180h160v-160H180v160Zm440 0h160v-160H620v160Z\"/>\n",
              "  </svg>\n",
              "    </button>\n",
              "\n",
              "  <style>\n",
              "    .colab-df-container {\n",
              "      display:flex;\n",
              "      gap: 12px;\n",
              "    }\n",
              "\n",
              "    .colab-df-convert {\n",
              "      background-color: #E8F0FE;\n",
              "      border: none;\n",
              "      border-radius: 50%;\n",
              "      cursor: pointer;\n",
              "      display: none;\n",
              "      fill: #1967D2;\n",
              "      height: 32px;\n",
              "      padding: 0 0 0 0;\n",
              "      width: 32px;\n",
              "    }\n",
              "\n",
              "    .colab-df-convert:hover {\n",
              "      background-color: #E2EBFA;\n",
              "      box-shadow: 0px 1px 2px rgba(60, 64, 67, 0.3), 0px 1px 3px 1px rgba(60, 64, 67, 0.15);\n",
              "      fill: #174EA6;\n",
              "    }\n",
              "\n",
              "    .colab-df-buttons div {\n",
              "      margin-bottom: 4px;\n",
              "    }\n",
              "\n",
              "    [theme=dark] .colab-df-convert {\n",
              "      background-color: #3B4455;\n",
              "      fill: #D2E3FC;\n",
              "    }\n",
              "\n",
              "    [theme=dark] .colab-df-convert:hover {\n",
              "      background-color: #434B5C;\n",
              "      box-shadow: 0px 1px 3px 1px rgba(0, 0, 0, 0.15);\n",
              "      filter: drop-shadow(0px 1px 2px rgba(0, 0, 0, 0.3));\n",
              "      fill: #FFFFFF;\n",
              "    }\n",
              "  </style>\n",
              "\n",
              "    <script>\n",
              "      const buttonEl =\n",
              "        document.querySelector('#df-00eebe3c-093a-4ca1-ae65-b02a1a5d4770 button.colab-df-convert');\n",
              "      buttonEl.style.display =\n",
              "        google.colab.kernel.accessAllowed ? 'block' : 'none';\n",
              "\n",
              "      async function convertToInteractive(key) {\n",
              "        const element = document.querySelector('#df-00eebe3c-093a-4ca1-ae65-b02a1a5d4770');\n",
              "        const dataTable =\n",
              "          await google.colab.kernel.invokeFunction('convertToInteractive',\n",
              "                                                    [key], {});\n",
              "        if (!dataTable) return;\n",
              "\n",
              "        const docLinkHtml = 'Like what you see? Visit the ' +\n",
              "          '<a target=\"_blank\" href=https://colab.research.google.com/notebooks/data_table.ipynb>data table notebook</a>'\n",
              "          + ' to learn more about interactive tables.';\n",
              "        element.innerHTML = '';\n",
              "        dataTable['output_type'] = 'display_data';\n",
              "        await google.colab.output.renderOutput(dataTable, element);\n",
              "        const docLink = document.createElement('div');\n",
              "        docLink.innerHTML = docLinkHtml;\n",
              "        element.appendChild(docLink);\n",
              "      }\n",
              "    </script>\n",
              "  </div>\n",
              "\n",
              "\n",
              "<div id=\"df-83c590d0-7a7f-4dfb-8ca4-b86357f1e828\">\n",
              "  <button class=\"colab-df-quickchart\" onclick=\"quickchart('df-83c590d0-7a7f-4dfb-8ca4-b86357f1e828')\"\n",
              "            title=\"Suggest charts\"\n",
              "            style=\"display:none;\">\n",
              "\n",
              "<svg xmlns=\"http://www.w3.org/2000/svg\" height=\"24px\"viewBox=\"0 0 24 24\"\n",
              "     width=\"24px\">\n",
              "    <g>\n",
              "        <path d=\"M19 3H5c-1.1 0-2 .9-2 2v14c0 1.1.9 2 2 2h14c1.1 0 2-.9 2-2V5c0-1.1-.9-2-2-2zM9 17H7v-7h2v7zm4 0h-2V7h2v10zm4 0h-2v-4h2v4z\"/>\n",
              "    </g>\n",
              "</svg>\n",
              "  </button>\n",
              "\n",
              "<style>\n",
              "  .colab-df-quickchart {\n",
              "      --bg-color: #E8F0FE;\n",
              "      --fill-color: #1967D2;\n",
              "      --hover-bg-color: #E2EBFA;\n",
              "      --hover-fill-color: #174EA6;\n",
              "      --disabled-fill-color: #AAA;\n",
              "      --disabled-bg-color: #DDD;\n",
              "  }\n",
              "\n",
              "  [theme=dark] .colab-df-quickchart {\n",
              "      --bg-color: #3B4455;\n",
              "      --fill-color: #D2E3FC;\n",
              "      --hover-bg-color: #434B5C;\n",
              "      --hover-fill-color: #FFFFFF;\n",
              "      --disabled-bg-color: #3B4455;\n",
              "      --disabled-fill-color: #666;\n",
              "  }\n",
              "\n",
              "  .colab-df-quickchart {\n",
              "    background-color: var(--bg-color);\n",
              "    border: none;\n",
              "    border-radius: 50%;\n",
              "    cursor: pointer;\n",
              "    display: none;\n",
              "    fill: var(--fill-color);\n",
              "    height: 32px;\n",
              "    padding: 0;\n",
              "    width: 32px;\n",
              "  }\n",
              "\n",
              "  .colab-df-quickchart:hover {\n",
              "    background-color: var(--hover-bg-color);\n",
              "    box-shadow: 0 1px 2px rgba(60, 64, 67, 0.3), 0 1px 3px 1px rgba(60, 64, 67, 0.15);\n",
              "    fill: var(--button-hover-fill-color);\n",
              "  }\n",
              "\n",
              "  .colab-df-quickchart-complete:disabled,\n",
              "  .colab-df-quickchart-complete:disabled:hover {\n",
              "    background-color: var(--disabled-bg-color);\n",
              "    fill: var(--disabled-fill-color);\n",
              "    box-shadow: none;\n",
              "  }\n",
              "\n",
              "  .colab-df-spinner {\n",
              "    border: 2px solid var(--fill-color);\n",
              "    border-color: transparent;\n",
              "    border-bottom-color: var(--fill-color);\n",
              "    animation:\n",
              "      spin 1s steps(1) infinite;\n",
              "  }\n",
              "\n",
              "  @keyframes spin {\n",
              "    0% {\n",
              "      border-color: transparent;\n",
              "      border-bottom-color: var(--fill-color);\n",
              "      border-left-color: var(--fill-color);\n",
              "    }\n",
              "    20% {\n",
              "      border-color: transparent;\n",
              "      border-left-color: var(--fill-color);\n",
              "      border-top-color: var(--fill-color);\n",
              "    }\n",
              "    30% {\n",
              "      border-color: transparent;\n",
              "      border-left-color: var(--fill-color);\n",
              "      border-top-color: var(--fill-color);\n",
              "      border-right-color: var(--fill-color);\n",
              "    }\n",
              "    40% {\n",
              "      border-color: transparent;\n",
              "      border-right-color: var(--fill-color);\n",
              "      border-top-color: var(--fill-color);\n",
              "    }\n",
              "    60% {\n",
              "      border-color: transparent;\n",
              "      border-right-color: var(--fill-color);\n",
              "    }\n",
              "    80% {\n",
              "      border-color: transparent;\n",
              "      border-right-color: var(--fill-color);\n",
              "      border-bottom-color: var(--fill-color);\n",
              "    }\n",
              "    90% {\n",
              "      border-color: transparent;\n",
              "      border-bottom-color: var(--fill-color);\n",
              "    }\n",
              "  }\n",
              "</style>\n",
              "\n",
              "  <script>\n",
              "    async function quickchart(key) {\n",
              "      const quickchartButtonEl =\n",
              "        document.querySelector('#' + key + ' button');\n",
              "      quickchartButtonEl.disabled = true;  // To prevent multiple clicks.\n",
              "      quickchartButtonEl.classList.add('colab-df-spinner');\n",
              "      try {\n",
              "        const charts = await google.colab.kernel.invokeFunction(\n",
              "            'suggestCharts', [key], {});\n",
              "      } catch (error) {\n",
              "        console.error('Error during call to suggestCharts:', error);\n",
              "      }\n",
              "      quickchartButtonEl.classList.remove('colab-df-spinner');\n",
              "      quickchartButtonEl.classList.add('colab-df-quickchart-complete');\n",
              "    }\n",
              "    (() => {\n",
              "      let quickchartButtonEl =\n",
              "        document.querySelector('#df-83c590d0-7a7f-4dfb-8ca4-b86357f1e828 button');\n",
              "      quickchartButtonEl.style.display =\n",
              "        google.colab.kernel.accessAllowed ? 'block' : 'none';\n",
              "    })();\n",
              "  </script>\n",
              "</div>\n",
              "\n",
              "    </div>\n",
              "  </div>\n"
            ],
            "application/vnd.google.colaboratory.intrinsic+json": {
              "type": "dataframe"
            }
          },
          "metadata": {},
          "execution_count": 32
        }
      ],
      "source": [
        "# first five rows of the dataset\n",
        "df_dd.head()"
      ]
    },
    {
      "cell_type": "code",
      "execution_count": 33,
      "id": "658CIRFxcLUc",
      "metadata": {
        "id": "658CIRFxcLUc",
        "outputId": "35a896b1-a560-477d-fba1-133b287a6adb",
        "colab": {
          "base_uri": "https://localhost:8080/"
        }
      },
      "outputs": [
        {
          "output_type": "execute_result",
          "data": {
            "text/plain": [
              "(2611892, 21)"
            ]
          },
          "metadata": {},
          "execution_count": 33
        }
      ],
      "source": [
        "df_dd.compute().shape"
      ]
    },
    {
      "cell_type": "markdown",
      "id": "parental-framework",
      "metadata": {
        "id": "parental-framework"
      },
      "source": [
        "#### Computations With Dask Dataframes\n",
        "\n",
        "We want to compute the maximum value of *DepDelay* (the delays occurring in the departure of flights). Now if we are working with simple pandas on this dataset than we need to compute the max. value in each individual data file and concatenate these 10 values together which gives us the required max. value of the whole dataset and this may be put as out of memory.\n",
        "\n",
        "But in dask dataframe we can handle partition more efficiently.\n",
        "\n",
        "dask.dataframe lets us write pandas-like code, that operates on larger than memory datasets.\n"
      ]
    },
    {
      "cell_type": "code",
      "source": [
        "# Read the CSV file using Dask, assuming missing data and avoiding blocksize to handle large datasets\n",
        "df_dd = dd.read_csv('/content/nycflights/nycflights/1990.csv', assume_missing=True, blocksize=None)\n",
        "\n",
        "# Inspect the data to verify it is loaded correctly\n",
        "print(df_dd.head())"
      ],
      "metadata": {
        "id": "ZnDferu9nMJE",
        "outputId": "0460eaee-22e2-4876-ba5a-9fde6a6705a2",
        "colab": {
          "base_uri": "https://localhost:8080/"
        }
      },
      "id": "ZnDferu9nMJE",
      "execution_count": 34,
      "outputs": [
        {
          "output_type": "stream",
          "name": "stdout",
          "text": [
            "     Year  Month  DayofMonth  DayOfWeek  DepTime  CRSDepTime  ArrTime  \\\n",
            "0  1990.0    1.0         1.0        1.0   1621.0      1540.0   1747.0   \n",
            "1  1990.0    1.0         2.0        2.0   1547.0      1540.0   1700.0   \n",
            "2  1990.0    1.0         3.0        3.0   1546.0      1540.0   1710.0   \n",
            "3  1990.0    1.0         4.0        4.0   1542.0      1540.0   1710.0   \n",
            "4  1990.0    1.0         5.0        5.0   1549.0      1540.0   1706.0   \n",
            "\n",
            "   CRSArrTime UniqueCarrier  FlightNum  ...  AirTime  ArrDelay  DepDelay  \\\n",
            "0      1701.0            US       33.0  ...      NaN      46.0      41.0   \n",
            "1      1701.0            US       33.0  ...      NaN      -1.0       7.0   \n",
            "2      1701.0            US       33.0  ...      NaN       9.0       6.0   \n",
            "3      1701.0            US       33.0  ...      NaN       9.0       2.0   \n",
            "4      1701.0            US       33.0  ...      NaN       5.0       9.0   \n",
            "\n",
            "   Origin  Dest  Distance TaxiIn TaxiOut  Cancelled  Diverted  \n",
            "0     EWR   PIT     319.0    NaN     NaN        0.0       0.0  \n",
            "1     EWR   PIT     319.0    NaN     NaN        0.0       0.0  \n",
            "2     EWR   PIT     319.0    NaN     NaN        0.0       0.0  \n",
            "3     EWR   PIT     319.0    NaN     NaN        0.0       0.0  \n",
            "4     EWR   PIT     319.0    NaN     NaN        0.0       0.0  \n",
            "\n",
            "[5 rows x 23 columns]\n"
          ]
        }
      ]
    },
    {
      "cell_type": "code",
      "source": [
        "# Compute the maximum departure delay\n",
        "%time max_dep_delay = df_dd['DepDelay'].max().compute() # compute() is used in order to get the required value\n",
        "print(f\"Maximum Departure Delay: {max_dep_delay}\")"
      ],
      "metadata": {
        "id": "VpJvlhAsnqoj",
        "outputId": "976a71de-1b4d-4108-b234-25a0945eecbd",
        "colab": {
          "base_uri": "https://localhost:8080/"
        }
      },
      "id": "VpJvlhAsnqoj",
      "execution_count": 35,
      "outputs": [
        {
          "output_type": "stream",
          "name": "stdout",
          "text": [
            "CPU times: user 175 ms, sys: 6.01 ms, total: 181 ms\n",
            "Wall time: 181 ms\n",
            "Maximum Departure Delay: 990.0\n"
          ]
        }
      ]
    },
    {
      "cell_type": "markdown",
      "id": "smoking-little",
      "metadata": {
        "id": "smoking-little"
      },
      "source": [
        "Above code has gone through approximately 2 million entries.\n",
        "As with Delayed objects, we can go through the underlying graphs using `visualize()` method."
      ]
    },
    {
      "cell_type": "code",
      "execution_count": 36,
      "id": "equipped-concord",
      "metadata": {
        "id": "equipped-concord",
        "outputId": "1f8a8e0a-2c44-495a-88a0-fff79cfdd6d7",
        "colab": {
          "base_uri": "https://localhost:8080/",
          "height": 119
        }
      },
      "outputs": [
        {
          "output_type": "execute_result",
          "data": {
            "image/svg+xml": "<?xml version=\"1.0\" encoding=\"UTF-8\" standalone=\"no\"?>\n<!DOCTYPE svg PUBLIC \"-//W3C//DTD SVG 1.1//EN\"\n \"http://www.w3.org/Graphics/SVG/1.1/DTD/svg11.dtd\">\n<!-- Generated by graphviz version 2.43.0 (0)\n -->\n<!-- Title: %3 Pages: 1 -->\n<svg width=\"1080pt\" height=\"73pt\"\n viewBox=\"0.00 0.00 1080.00 73.33\" xmlns=\"http://www.w3.org/2000/svg\" xmlns:xlink=\"http://www.w3.org/1999/xlink\">\n<g id=\"graph0\" class=\"graph\" transform=\"scale(1.67 1.67) rotate(0) translate(4 40)\">\n<title>%3</title>\n<polygon fill=\"white\" stroke=\"transparent\" points=\"-4,4 -4,-40 644,-40 644,4 -4,4\"/>\n<!-- &#45;6113591164042723515 -->\n<g id=\"node1\" class=\"node\">\n<title>&#45;6113591164042723515</title>\n<polygon fill=\"none\" stroke=\"black\" points=\"640,-36 483,-36 483,0 640,0 640,-36\"/>\n<text text-anchor=\"middle\" x=\"561.5\" y=\"-13\" font-family=\"Helvetica,sans-Serif\" font-size=\"20.00\">Max(Projection)</text>\n</g>\n<!-- &#45;2714035923182084142 -->\n<g id=\"node2\" class=\"node\">\n<title>&#45;2714035923182084142</title>\n<polygon fill=\"none\" stroke=\"black\" points=\"447,-36 142,-36 142,0 447,0 447,-36\"/>\n<text text-anchor=\"middle\" x=\"294.5\" y=\"-13\" font-family=\"Helvetica,sans-Serif\" font-size=\"20.00\">Projection(ReadCSV, DepDelay)</text>\n</g>\n<!-- &#45;2714035923182084142&#45;&gt;&#45;6113591164042723515 -->\n<g id=\"edge1\" class=\"edge\">\n<title>&#45;2714035923182084142&#45;&gt;&#45;6113591164042723515</title>\n<path fill=\"none\" stroke=\"black\" d=\"M447.35,-18C455.89,-18 464.31,-18 472.49,-18\"/>\n<polygon fill=\"black\" stroke=\"black\" points=\"472.69,-21.5 482.69,-18 472.69,-14.5 472.69,-21.5\"/>\n</g>\n<!-- &#45;5548689804038491563 -->\n<g id=\"node3\" class=\"node\">\n<title>&#45;5548689804038491563</title>\n<polygon fill=\"none\" stroke=\"black\" points=\"106,-36 0,-36 0,0 106,0 106,-36\"/>\n<text text-anchor=\"middle\" x=\"53\" y=\"-13\" font-family=\"Helvetica,sans-Serif\" font-size=\"20.00\">ReadCSV</text>\n</g>\n<!-- &#45;5548689804038491563&#45;&gt;&#45;2714035923182084142 -->\n<g id=\"edge2\" class=\"edge\">\n<title>&#45;5548689804038491563&#45;&gt;&#45;2714035923182084142</title>\n<path fill=\"none\" stroke=\"black\" d=\"M106.26,-18C114.16,-18 122.65,-18 131.48,-18\"/>\n<polygon fill=\"black\" stroke=\"black\" points=\"131.59,-21.5 141.59,-18 131.59,-14.5 131.59,-21.5\"/>\n</g>\n</g>\n</svg>\n",
            "text/plain": [
              "<graphviz.graphs.Digraph at 0x7fddea1358a0>"
            ]
          },
          "metadata": {},
          "execution_count": 36
        }
      ],
      "source": [
        "# visualize the above code using structure diagram\n",
        "df_dd.DepDelay.max().visualize(rankdir='LR', size='15,15!')"
      ]
    },
    {
      "cell_type": "markdown",
      "id": "dried-catalog",
      "metadata": {
        "id": "dried-catalog"
      },
      "source": [
        "### Dask Bag"
      ]
    },
    {
      "cell_type": "markdown",
      "id": "described-coupon",
      "metadata": {
        "id": "described-coupon"
      },
      "source": [
        "Dask Bag implements operations like map, filter, fold, and groupby on collections of generic Python objects. It does this in parallel with a small memory footprint using Python iterators. It is similar to a parallel version of PyToolz or a Pythonic version of the PySpark RDD.\n",
        "\n",
        "Dask bags coordinate many Python lists or Iterators, each of which forms a partition of a larger collection."
      ]
    },
    {
      "cell_type": "markdown",
      "id": "infrared-accreditation",
      "metadata": {
        "id": "infrared-accreditation"
      },
      "source": [
        "Execution on bags provide two benefits:\n",
        "\n",
        "1. Parallel: data is split up, allowing multiple cores or machines to execute in parallel\n",
        "2. Iterating: data processes lazily, allowing smooth execution of larger-than-memory data, even on a single machine within a single partition\n",
        "\n",
        "Bag is the mathematical name for an unordered collection allowing repeats. It uses Parallel lists for semi-structured data.\n",
        "\n",
        "DataFrames are limited to only two dimensions (rows and columns), but Arrays can have many more, whereas Bag is helpful dealing with JSON blobs or text data (unstructured data).\n",
        "\n",
        "To study dask bags, refer the link [here](https://docs.dask.org/en/latest/bag.html)."
      ]
    },
    {
      "cell_type": "code",
      "execution_count": 37,
      "id": "uXV24wC5Y2bi",
      "metadata": {
        "id": "uXV24wC5Y2bi",
        "outputId": "a8e12c9d-5931-49b2-fb17-75e3ba224dc6",
        "colab": {
          "base_uri": "https://localhost:8080/"
        }
      },
      "outputs": [
        {
          "output_type": "execute_result",
          "data": {
            "text/plain": [
              "dask.bag<from_sequence, npartitions=1000>"
            ]
          },
          "metadata": {},
          "execution_count": 37
        }
      ],
      "source": [
        "# creating a bag\n",
        "bag1 = db.from_sequence(range(1000000), partition_size=1000, npartitions=1000)\n",
        "bag1"
      ]
    },
    {
      "cell_type": "code",
      "execution_count": 38,
      "id": "JRdL0r2qY--y",
      "metadata": {
        "id": "JRdL0r2qY--y",
        "outputId": "ffeac063-d5ef-47db-8ed9-9a1bd982b700",
        "colab": {
          "base_uri": "https://localhost:8080/"
        }
      },
      "outputs": [
        {
          "output_type": "execute_result",
          "data": {
            "text/plain": [
              "10000"
            ]
          },
          "metadata": {},
          "execution_count": 38
        }
      ],
      "source": [
        "final_bag1 = bag1.filter(lambda x: x%100 == 0)\n",
        "\n",
        "len(final_bag1.compute())"
      ]
    },
    {
      "cell_type": "markdown",
      "id": "X4STVdbkabK4",
      "metadata": {
        "id": "X4STVdbkabK4"
      },
      "source": [
        "Advantage of using bags with the help of `groupby`\n",
        "\n",
        "we are looping through a list of values (tuple). We want to take a sum of the second value in tuples where the first value is the same. We have both normal python and dask.bag API version."
      ]
    },
    {
      "cell_type": "code",
      "execution_count": 39,
      "id": "fQpzElEsaZkf",
      "metadata": {
        "id": "fQpzElEsaZkf",
        "outputId": "873b63b7-b22f-430b-c7fd-3ebb9b28f86a",
        "colab": {
          "base_uri": "https://localhost:8080/"
        }
      },
      "outputs": [
        {
          "output_type": "execute_result",
          "data": {
            "text/plain": [
              "[('a', 300), ('b', 200), ('c', 300), ('d', 400), ('e', 800)]"
            ]
          },
          "metadata": {},
          "execution_count": 39
        }
      ],
      "source": [
        "# Using python\n",
        "x = [(\"a\",100), (\"b\",200), (\"c\",300), (\"d\",400), (\"e\",500), (\"a\",200), (\"e\",300)]\n",
        "\n",
        "# Empty dictionary\n",
        "result = {}\n",
        "\n",
        "# Iterate the list for each item as tuple\n",
        "for key, val in x:\n",
        "    # sum-up the value if key already exist\n",
        "    if key in result:\n",
        "        result[key] += val\n",
        "    # create a key-value pair\n",
        "    else:\n",
        "        result[key] = val\n",
        "\n",
        "list(result.items())"
      ]
    },
    {
      "cell_type": "markdown",
      "id": "zEF_UzBAbQ-K",
      "metadata": {
        "id": "zEF_UzBAbQ-K"
      },
      "source": [
        "Now let's do the same with bags in a simple way using `groupby`."
      ]
    },
    {
      "cell_type": "code",
      "execution_count": 40,
      "id": "Vdh-gNEsa2O6",
      "metadata": {
        "id": "Vdh-gNEsa2O6",
        "outputId": "9e3e7bae-1048-4cff-bc8a-d671afc9ee80",
        "colab": {
          "base_uri": "https://localhost:8080/"
        }
      },
      "outputs": [
        {
          "output_type": "execute_result",
          "data": {
            "text/plain": [
              "[('b', 200), ('e', 800), ('c', 300), ('d', 400), ('a', 300)]"
            ]
          },
          "metadata": {},
          "execution_count": 40
        }
      ],
      "source": [
        "# using bags API\n",
        "bag1 = db.from_sequence([(\"a\",100), (\"b\",200), (\"c\",300), (\"d\",400), (\"e\",500), (\"a\",200), (\"e\",300)])\n",
        "\n",
        "# using groupby\n",
        "bag1.groupby(lambda x: x[0]).map(lambda x: (x[0], sum([i[1] for i in x[1]]))).compute()"
      ]
    },
    {
      "cell_type": "markdown",
      "id": "white-hunter",
      "metadata": {
        "id": "white-hunter"
      },
      "source": [
        "#### Semi-Structured Data\n",
        "\n",
        "We create a random set of record data and store it to disk as many JSON files. This will serve as our data for this notebook."
      ]
    },
    {
      "cell_type": "code",
      "execution_count": 41,
      "id": "81uRKZU7B_4r",
      "metadata": {
        "id": "81uRKZU7B_4r"
      },
      "outputs": [],
      "source": [
        "# Create data/ directory\n",
        "os.makedirs('data', exist_ok=True)"
      ]
    },
    {
      "cell_type": "code",
      "execution_count": 42,
      "id": "kBglmKNjCGUy",
      "metadata": {
        "id": "kBglmKNjCGUy"
      },
      "outputs": [],
      "source": [
        "# Make records of people\n",
        "y = dask.datasets.make_people()"
      ]
    },
    {
      "cell_type": "code",
      "execution_count": 43,
      "id": "forbidden-integer",
      "metadata": {
        "id": "forbidden-integer",
        "outputId": "e2f437b9-5e57-45a6-d384-b139751332e9",
        "colab": {
          "base_uri": "https://localhost:8080/"
        }
      },
      "outputs": [
        {
          "output_type": "execute_result",
          "data": {
            "text/plain": [
              "['/content/data/0.json',\n",
              " '/content/data/1.json',\n",
              " '/content/data/2.json',\n",
              " '/content/data/3.json',\n",
              " '/content/data/4.json',\n",
              " '/content/data/5.json',\n",
              " '/content/data/6.json',\n",
              " '/content/data/7.json',\n",
              " '/content/data/8.json',\n",
              " '/content/data/9.json']"
            ]
          },
          "metadata": {},
          "execution_count": 43
        }
      ],
      "source": [
        "# Encode as JSON, write to disk\n",
        "y.map(json.dumps).to_textfiles('data/*.json')"
      ]
    },
    {
      "cell_type": "markdown",
      "id": "parental-behalf",
      "metadata": {
        "id": "parental-behalf"
      },
      "source": [
        "created and read the JSON files"
      ]
    },
    {
      "cell_type": "code",
      "execution_count": 44,
      "id": "accessible-nurse",
      "metadata": {
        "id": "accessible-nurse",
        "outputId": "360ba339-5294-43ab-cb9a-3d1733dc719f",
        "colab": {
          "base_uri": "https://localhost:8080/"
        }
      },
      "outputs": [
        {
          "output_type": "execute_result",
          "data": {
            "text/plain": [
              "({'age': 72,\n",
              "  'name': ('Rayford', 'Juarez'),\n",
              "  'occupation': 'Soldier',\n",
              "  'telephone': '296-002-6899',\n",
              "  'address': {'address': '1153 Birch Spur', 'city': 'Midlothian'},\n",
              "  'credit-card': {'number': '3477 729434 08191', 'expiration-date': '04/23'}},\n",
              " {'age': 6,\n",
              "  'name': ('Dino', 'Brown'),\n",
              "  'occupation': 'Warehouse Manager',\n",
              "  'telephone': '(747) 305-1157',\n",
              "  'address': {'address': '920 Felton Junction', 'city': 'Elk Grove Village'},\n",
              "  'credit-card': {'number': '4323 3219 8857 5363',\n",
              "   'expiration-date': '04/16'}},\n",
              " {'age': 102,\n",
              "  'name': ('Adolfo', 'Humphrey'),\n",
              "  'occupation': 'Theatre Technician',\n",
              "  'telephone': '280.604.1999',\n",
              "  'address': {'address': '1333 Homestead Arcade', 'city': 'New Haven'},\n",
              "  'credit-card': {'number': '3427 239510 07982', 'expiration-date': '09/19'}})"
            ]
          },
          "metadata": {},
          "execution_count": 44
        }
      ],
      "source": [
        "# read the third row of the dataset\n",
        "y.take(3)"
      ]
    },
    {
      "cell_type": "markdown",
      "id": "swedish-raleigh",
      "metadata": {
        "id": "swedish-raleigh"
      },
      "source": [
        "**Map, Filter on Bag**\n",
        "\n",
        "We can process this data by filtering out only certain records of interest, mapping functions over it to process our data, and aggregating those results to a total value."
      ]
    },
    {
      "cell_type": "markdown",
      "id": "english-facing",
      "metadata": {
        "id": "english-facing"
      },
      "source": [
        "Select only people over 30"
      ]
    },
    {
      "cell_type": "code",
      "execution_count": 45,
      "id": "blocked-centre",
      "metadata": {
        "id": "blocked-centre",
        "outputId": "1897d602-bc95-4791-fb6a-2dd73f434712",
        "colab": {
          "base_uri": "https://localhost:8080/"
        }
      },
      "outputs": [
        {
          "output_type": "execute_result",
          "data": {
            "text/plain": [
              "({'age': 72,\n",
              "  'name': ('Rayford', 'Juarez'),\n",
              "  'occupation': 'Soldier',\n",
              "  'telephone': '296-002-6899',\n",
              "  'address': {'address': '1153 Birch Spur', 'city': 'Midlothian'},\n",
              "  'credit-card': {'number': '3477 729434 08191', 'expiration-date': '04/23'}},\n",
              " {'age': 102,\n",
              "  'name': ('Adolfo', 'Humphrey'),\n",
              "  'occupation': 'Theatre Technician',\n",
              "  'telephone': '280.604.1999',\n",
              "  'address': {'address': '1333 Homestead Arcade', 'city': 'New Haven'},\n",
              "  'credit-card': {'number': '3427 239510 07982', 'expiration-date': '09/19'}})"
            ]
          },
          "metadata": {},
          "execution_count": 45
        }
      ],
      "source": [
        "# filter the data\n",
        "y.filter(lambda record: record['age'] > 30).take(2)"
      ]
    },
    {
      "cell_type": "markdown",
      "id": "secure-antibody",
      "metadata": {
        "id": "secure-antibody"
      },
      "source": [
        "Select the occupation field"
      ]
    },
    {
      "cell_type": "code",
      "execution_count": 46,
      "id": "preliminary-updating",
      "metadata": {
        "id": "preliminary-updating",
        "outputId": "b85cea6e-201d-4eb2-d01e-9d2c7f380afd",
        "colab": {
          "base_uri": "https://localhost:8080/"
        }
      },
      "outputs": [
        {
          "output_type": "execute_result",
          "data": {
            "text/plain": [
              "('Soldier', 'Warehouse Manager')"
            ]
          },
          "metadata": {},
          "execution_count": 46
        }
      ],
      "source": [
        "# Selecting particular feature\n",
        "y.map(lambda record: record['occupation']).take(2)"
      ]
    },
    {
      "cell_type": "markdown",
      "id": "DaX9J5q6-jUu",
      "metadata": {
        "id": "DaX9J5q6-jUu"
      },
      "source": [
        " Count the total number of records"
      ]
    },
    {
      "cell_type": "code",
      "execution_count": 47,
      "id": "experienced-stocks",
      "metadata": {
        "id": "experienced-stocks",
        "outputId": "3ab32f65-79b5-4ce9-b0d0-e012a6e92c42",
        "colab": {
          "base_uri": "https://localhost:8080/"
        }
      },
      "outputs": [
        {
          "output_type": "execute_result",
          "data": {
            "text/plain": [
              "10000"
            ]
          },
          "metadata": {},
          "execution_count": 47
        }
      ],
      "source": [
        "# computing the total number of records in y\n",
        "y.count().compute()"
      ]
    },
    {
      "cell_type": "markdown",
      "id": "ardWCXA6B2v1",
      "metadata": {
        "id": "ardWCXA6B2v1"
      },
      "source": [
        "### Machine Learning With Dask"
      ]
    },
    {
      "cell_type": "markdown",
      "id": "mAfNu9D3QNhj",
      "metadata": {
        "id": "mAfNu9D3QNhj"
      },
      "source": [
        "Dask-ML wants to enable scalable machine learning in Python. It aims to do so by\n",
        "\n",
        "1. Working with existing libraries within the Python ecosystem\n",
        "2. Using the features of Dask to scale computation to larger datasets and larger problems"
      ]
    },
    {
      "cell_type": "markdown",
      "id": "eCSCipNJZWUp",
      "metadata": {
        "id": "eCSCipNJZWUp"
      },
      "source": [
        "#### Generalized Linear Models\n",
        "\n",
        "Generalized linear models are a broad class of commonly used models. These implementations scale out well to large datasets either on a single machine or distributed cluster. They can be powered by a variety of optimization algorithms and use a variety of regularizers.\n",
        "\n",
        "These follow the scikit-learn estimator API, and so can be dropped into existing routines like grid search and pipelines, but are implemented externally with new, scalable algorithms and so can consume distributed dask arrays and dataframes rather than just single-machine NumPy and Pandas arrays and dataframes."
      ]
    },
    {
      "cell_type": "code",
      "execution_count": 48,
      "id": "hAHK3At99aca",
      "metadata": {
        "id": "hAHK3At99aca"
      },
      "outputs": [],
      "source": [
        "from dask_ml.datasets import make_regression\n",
        "from dask_ml.model_selection import train_test_split\n",
        "\n",
        "X, y = make_regression(n_samples=200000, n_features=100, random_state=0, chunks=10000)\n",
        "\n",
        "X_train, X_test, y_train, y_test = train_test_split(X, y)"
      ]
    },
    {
      "cell_type": "code",
      "execution_count": 49,
      "id": "Xfm-6x5u-j2X",
      "metadata": {
        "id": "Xfm-6x5u-j2X",
        "outputId": "fe66e36e-d5be-410f-c6e2-24fe8f201c8d",
        "colab": {
          "base_uri": "https://localhost:8080/"
        }
      },
      "outputs": [
        {
          "output_type": "execute_result",
          "data": {
            "text/plain": [
              "0.9999999876471277"
            ]
          },
          "metadata": {},
          "execution_count": 49
        }
      ],
      "source": [
        "# fit the model\n",
        "\n",
        "lr = LinearRegression()\n",
        "lr.fit(X_train, y_train)\n",
        "lr.score(X_test,y_test)"
      ]
    },
    {
      "cell_type": "code",
      "execution_count": 50,
      "id": "y6U25XbACagU",
      "metadata": {
        "id": "y6U25XbACagU"
      },
      "outputs": [],
      "source": [
        "#predict on test data\n",
        "pred=lr.predict(X_test)"
      ]
    },
    {
      "cell_type": "code",
      "execution_count": 51,
      "id": "CnDOZAAMDWjE",
      "metadata": {
        "id": "CnDOZAAMDWjE",
        "outputId": "b211f829-e474-41b6-f379-df71875b81b2",
        "colab": {
          "base_uri": "https://localhost:8080/"
        }
      },
      "outputs": [
        {
          "output_type": "execute_result",
          "data": {
            "text/plain": [
              "array([ 134.67395498, -243.55910301, -345.30172905, ...,   53.34494607,\n",
              "        389.0299995 ,  -98.41647364])"
            ]
          },
          "metadata": {},
          "execution_count": 51
        }
      ],
      "source": [
        "# predicted values\n",
        "pred.compute()"
      ]
    },
    {
      "cell_type": "markdown",
      "id": "IO9hQhBXZvd2",
      "metadata": {
        "id": "IO9hQhBXZvd2"
      },
      "source": [
        "To know more about dask-ml, click [here](https://ml.dask.org/)."
      ]
    },
    {
      "cell_type": "markdown",
      "id": "CFNLB7O4utb3",
      "metadata": {
        "id": "CFNLB7O4utb3"
      },
      "source": [
        "### Please answer the questions below to complete the experiment:"
      ]
    },
    {
      "cell_type": "code",
      "execution_count": 59,
      "id": "_38KV9uluveS",
      "metadata": {
        "id": "_38KV9uluveS"
      },
      "outputs": [],
      "source": [
        "# @title Select the FALSE statement: { run: \"auto\", form-width: \"500px\", display-mode: \"form\" }\n",
        "Answer = \"Dask can operate in parallel only on datasets that fit into the main memory\" #@param [\"\",\"Dask can operate in parallel only on datasets that fit into the main memory\",\"Dask provides high level Array Bag and DataFrame collections that mimic NumPy lists and Pandas\",\"Dask provides dynamic task schedulers that execute task graphs in parallel\",\"Dask performs lazy execution by saving the set of inputs and executing only on demand\"]"
      ]
    },
    {
      "cell_type": "code",
      "execution_count": 60,
      "id": "IVj6KRihwhPy",
      "metadata": {
        "id": "IVj6KRihwhPy"
      },
      "outputs": [],
      "source": [
        "#@title How was the experiment? { run: \"auto\", form-width: \"500px\", display-mode: \"form\" }\n",
        "Complexity = \"Good and Challenging for me\" #@param [\"\",\"Too Simple, I am wasting time\", \"Good, But Not Challenging for me\", \"Good and Challenging for me\", \"Was Tough, but I did it\", \"Too Difficult for me\"]\n"
      ]
    },
    {
      "cell_type": "code",
      "execution_count": 61,
      "id": "G7Wx_ufawlf8",
      "metadata": {
        "id": "G7Wx_ufawlf8"
      },
      "outputs": [],
      "source": [
        "#@title If it was too easy, what more would you have liked to be added? If it was very difficult, what would you have liked to have been removed? { run: \"auto\", display-mode: \"form\" }\n",
        "Additional = \"na\" #@param {type:\"string\"}\n"
      ]
    },
    {
      "cell_type": "code",
      "execution_count": 62,
      "id": "2Fbfkz82w5BI",
      "metadata": {
        "id": "2Fbfkz82w5BI"
      },
      "outputs": [],
      "source": [
        "#@title Can you identify the concepts from the lecture which this experiment covered? { run: \"auto\", vertical-output: true, display-mode: \"form\" }\n",
        "Concepts = \"Yes\" #@param [\"\",\"Yes\", \"No\"]\n"
      ]
    },
    {
      "cell_type": "code",
      "execution_count": 63,
      "id": "RauzHTwWw8PW",
      "metadata": {
        "id": "RauzHTwWw8PW"
      },
      "outputs": [],
      "source": [
        "#@title  Text and image description/explanation and code comments within the experiment: { run: \"auto\", vertical-output: true, display-mode: \"form\" }\n",
        "Comments = \"Somewhat Useful\" #@param [\"\",\"Very Useful\", \"Somewhat Useful\", \"Not Useful\", \"Didn't use\"]\n"
      ]
    },
    {
      "cell_type": "code",
      "execution_count": 64,
      "id": "wHVmS408w_Si",
      "metadata": {
        "id": "wHVmS408w_Si"
      },
      "outputs": [],
      "source": [
        "#@title Mentor Support: { run: \"auto\", vertical-output: true, display-mode: \"form\" }\n",
        "Mentor_support = \"Very Useful\" #@param [\"\",\"Very Useful\", \"Somewhat Useful\", \"Not Useful\", \"Didn't use\"]\n"
      ]
    },
    {
      "cell_type": "code",
      "execution_count": 65,
      "id": "T-LbsTp6xCy3",
      "metadata": {
        "cellView": "form",
        "id": "T-LbsTp6xCy3",
        "outputId": "7e3f8b50-65a8-487e-b4fe-527efc5cebf7",
        "colab": {
          "base_uri": "https://localhost:8080/"
        }
      },
      "outputs": [
        {
          "output_type": "stream",
          "name": "stdout",
          "text": [
            "Your submission is successful.\n",
            "Ref Id: 4995\n",
            "Date of submission:  28 Sep 2024\n",
            "Time of submission:  23:21:25\n",
            "View your submissions: https://cds-iisc.talentsprint.com/notebook_submissions\n"
          ]
        }
      ],
      "source": [
        "#@title Run this cell to submit your notebook for grading { vertical-output: true }\n",
        "try:\n",
        "  if submission_id:\n",
        "      return_id = submit_notebook()\n",
        "      if return_id : submission_id = return_id\n",
        "  else:\n",
        "      print(\"Please complete the setup first.\")\n",
        "except NameError:\n",
        "  print (\"Please complete the setup first.\")"
      ]
    }
  ],
  "metadata": {
    "accelerator": "GPU",
    "colab": {
      "gpuType": "T4",
      "provenance": [],
      "include_colab_link": true
    },
    "kernelspec": {
      "display_name": "Python 3",
      "name": "python3"
    },
    "language_info": {
      "codemirror_mode": {
        "name": "ipython",
        "version": 3
      },
      "file_extension": ".py",
      "mimetype": "text/x-python",
      "name": "python",
      "nbconvert_exporter": "python",
      "pygments_lexer": "ipython3",
      "version": "3.8.5"
    }
  },
  "nbformat": 4,
  "nbformat_minor": 5
}