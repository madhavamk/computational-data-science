{
  "nbformat": 4,
  "nbformat_minor": 5,
  "metadata": {
    "kernelspec": {
      "display_name": "Python 3",
      "language": "python",
      "name": "python3"
    },
    "language_info": {
      "codemirror_mode": {
        "name": "ipython",
        "version": 3
      },
      "file_extension": ".py",
      "mimetype": "text/x-python",
      "name": "python",
      "nbconvert_exporter": "python",
      "pygments_lexer": "ipython3",
      "version": "3.5.2"
    },
    "colab": {
      "provenance": [],
      "collapsed_sections": [
        "chicken-moldova",
        "restricted-bouquet",
        "respected-album",
        "advanced-marketplace",
        "aggressive-playing",
        "passing-tooth",
        "useful-shape",
        "random-gross"
      ],
      "include_colab_link": true
    }
  },
  "cells": [
    {
      "cell_type": "markdown",
      "metadata": {
        "id": "view-in-github",
        "colab_type": "text"
      },
      "source": [
        "<a href=\"https://colab.research.google.com/github/madhavamk/computational-data-science/blob/master/Assignments/M4_AST_03_MPI_A.ipynb\" target=\"_parent\"><img src=\"https://colab.research.google.com/assets/colab-badge.svg\" alt=\"Open In Colab\"/></a>"
      ]
    },
    {
      "cell_type": "markdown",
      "metadata": {
        "id": "positive-demand"
      },
      "source": [
        "# Advanced Certification Program in Computational Data Science\n",
        "## A program by IISc and TalentSprint\n",
        "### Assignment 3: Parallel Programming with MPI"
      ],
      "id": "positive-demand"
    },
    {
      "cell_type": "markdown",
      "metadata": {
        "id": "dressed-humanitarian"
      },
      "source": [
        "## Learning Objectives"
      ],
      "id": "dressed-humanitarian"
    },
    {
      "cell_type": "markdown",
      "metadata": {
        "id": "proof-import"
      },
      "source": [
        "At the end of the experiment, you will be able to:\n",
        "\n",
        "\n",
        "* implement standard message-passing algorithms in MPI\n",
        "* debug simple MPI code\n",
        "* understand the basics of point-to-point communication\n",
        "* understand the difference between blocking and non-blocking communication\n",
        "* understand how non-blocking communication can improve program performance\n",
        "* understand the basics of collective communication\n",
        "* learn about the different types of collective communication\n"
      ],
      "id": "proof-import"
    },
    {
      "cell_type": "markdown",
      "metadata": {
        "id": "environmental-complexity"
      },
      "source": [
        "## Information\n"
      ],
      "id": "environmental-complexity"
    },
    {
      "cell_type": "markdown",
      "metadata": {
        "id": "boolean-sacramento"
      },
      "source": [
        "### MPI in a Nutshell\n",
        "\n",
        "MPI stands for \"Message Passing Interface\". It is a library of functions (in C / Python) or subroutines (in Fortran) that you insert into source code to perform data communication between processes. MPI was developed over two years of discussions led by the MPI Forum, a group of roughly sixty people representing some forty organizations.\n",
        "\n",
        "To know more about MPI click [here](https://computing.llnl.gov/tutorials/mpi/#What)"
      ],
      "id": "boolean-sacramento"
    },
    {
      "cell_type": "markdown",
      "metadata": {
        "id": "BNLA8HiKxQhc"
      },
      "source": [
        "### Setup Steps:"
      ],
      "id": "BNLA8HiKxQhc"
    },
    {
      "cell_type": "code",
      "metadata": {
        "id": "2YzfoPvJDiTX"
      },
      "source": [
        "#@title Please enter your registration id to start: { run: \"auto\", display-mode: \"form\" }\n",
        "Id = \"\" #@param {type:\"string\"}"
      ],
      "id": "2YzfoPvJDiTX",
      "execution_count": 53,
      "outputs": []
    },
    {
      "cell_type": "code",
      "metadata": {
        "id": "AjoZJWGErxGf"
      },
      "source": [
        "#@title Please enter your password (your registered phone number) to continue: { run: \"auto\", display-mode: \"form\" }\n",
        "password = \"\" #@param {type:\"string\"}"
      ],
      "id": "AjoZJWGErxGf",
      "execution_count": 54,
      "outputs": []
    },
    {
      "cell_type": "code",
      "metadata": {
        "id": "WBPPuGmBlDIN",
        "cellView": "form",
        "outputId": "8d49cc3b-23e6-4a6a-ca11-9a3bdec43c25",
        "colab": {
          "base_uri": "https://localhost:8080/",
          "height": 34
        }
      },
      "source": [
        "#@title Run this cell to complete the setup for this Notebook\n",
        "from IPython import get_ipython\n",
        "\n",
        "ipython = get_ipython()\n",
        "\n",
        "notebook= \"M4_AST_03_MPI_A\" #name of the notebook\n",
        "\n",
        "def setup():\n",
        "#  ipython.magic(\"sx pip3 install torch\")\n",
        "    from IPython.display import HTML, display\n",
        "    display(HTML('<script src=\"https://dashboard.talentsprint.com/aiml/record_ip.html?traineeId={0}&recordId={1}\"></script>'.format(getId(),submission_id)))\n",
        "    print(\"Setup completed successfully\")\n",
        "    return\n",
        "\n",
        "def submit_notebook():\n",
        "    ipython.magic(\"notebook -e \"+ notebook + \".ipynb\")\n",
        "\n",
        "    import requests, json, base64, datetime\n",
        "\n",
        "    url = \"https://dashboard.talentsprint.com/xp/app/save_notebook_attempts\"\n",
        "    if not submission_id:\n",
        "      data = {\"id\" : getId(), \"notebook\" : notebook, \"mobile\" : getPassword()}\n",
        "      r = requests.post(url, data = data)\n",
        "      r = json.loads(r.text)\n",
        "\n",
        "      if r[\"status\"] == \"Success\":\n",
        "          return r[\"record_id\"]\n",
        "      elif \"err\" in r:\n",
        "        print(r[\"err\"])\n",
        "        return None\n",
        "      else:\n",
        "        print (\"Something is wrong, the notebook will not be submitted for grading\")\n",
        "        return None\n",
        "\n",
        "    elif getAnswer() and getComplexity() and getAdditional() and getConcepts() and getComments() and getMentorSupport():\n",
        "      f = open(notebook + \".ipynb\", \"rb\")\n",
        "      file_hash = base64.b64encode(f.read())\n",
        "\n",
        "      data = {\"complexity\" : Complexity, \"additional\" :Additional,\n",
        "              \"concepts\" : Concepts, \"record_id\" : submission_id,\n",
        "              \"answer\" : Answer, \"id\" : Id, \"file_hash\" : file_hash,\n",
        "              \"notebook\" : notebook,\n",
        "              \"feedback_experiments_input\" : Comments,\n",
        "              \"feedback_mentor_support\": Mentor_support}\n",
        "      r = requests.post(url, data = data)\n",
        "      r = json.loads(r.text)\n",
        "      if \"err\" in r:\n",
        "        print(r[\"err\"])\n",
        "        return None\n",
        "      else:\n",
        "        print(\"Your submission is successful.\")\n",
        "        print(\"Ref Id:\", submission_id)\n",
        "        print(\"Date of submission: \", r[\"date\"])\n",
        "        print(\"Time of submission: \", r[\"time\"])\n",
        "        print(\"View your submissions: https://cds-iisc.talentsprint.com/notebook_submissions\")\n",
        "        #print(\"For any queries/discrepancies, please connect with mentors through the chat icon in LMS dashboard.\")\n",
        "        return submission_id\n",
        "    else: submission_id\n",
        "\n",
        "\n",
        "def getAdditional():\n",
        "  try:\n",
        "    if not Additional:\n",
        "      raise NameError\n",
        "    else:\n",
        "      return Additional\n",
        "  except NameError:\n",
        "    print (\"Please answer Additional Question\")\n",
        "    return None\n",
        "\n",
        "def getComplexity():\n",
        "  try:\n",
        "    if not Complexity:\n",
        "      raise NameError\n",
        "    else:\n",
        "      return Complexity\n",
        "  except NameError:\n",
        "    print (\"Please answer Complexity Question\")\n",
        "    return None\n",
        "\n",
        "def getConcepts():\n",
        "  try:\n",
        "    if not Concepts:\n",
        "      raise NameError\n",
        "    else:\n",
        "      return Concepts\n",
        "  except NameError:\n",
        "    print (\"Please answer Concepts Question\")\n",
        "    return None\n",
        "\n",
        "\n",
        "# def getWalkthrough():\n",
        "#   try:\n",
        "#     if not Walkthrough:\n",
        "#       raise NameError\n",
        "#     else:\n",
        "#       return Walkthrough\n",
        "#   except NameError:\n",
        "#     print (\"Please answer Walkthrough Question\")\n",
        "#     return None\n",
        "\n",
        "def getComments():\n",
        "  try:\n",
        "    if not Comments:\n",
        "      raise NameError\n",
        "    else:\n",
        "      return Comments\n",
        "  except NameError:\n",
        "    print (\"Please answer Comments Question\")\n",
        "    return None\n",
        "\n",
        "\n",
        "def getMentorSupport():\n",
        "  try:\n",
        "    if not Mentor_support:\n",
        "      raise NameError\n",
        "    else:\n",
        "      return Mentor_support\n",
        "  except NameError:\n",
        "    print (\"Please answer Mentor support Question\")\n",
        "    return None\n",
        "\n",
        "def getAnswer():\n",
        "  try:\n",
        "    if not Answer:\n",
        "      raise NameError\n",
        "    else:\n",
        "      return Answer\n",
        "  except NameError:\n",
        "    print (\"Please answer Question\")\n",
        "    return None\n",
        "\n",
        "\n",
        "def getId():\n",
        "  try:\n",
        "    return Id if Id else None\n",
        "  except NameError:\n",
        "    return None\n",
        "\n",
        "def getPassword():\n",
        "  try:\n",
        "    return password if password else None\n",
        "  except NameError:\n",
        "    return None\n",
        "\n",
        "submission_id = None\n",
        "### Setup\n",
        "if getPassword() and getId():\n",
        "  submission_id = submit_notebook()\n",
        "  if submission_id:\n",
        "    setup()\n",
        "else:\n",
        "  print (\"Please complete Id and Password cells before running setup\")\n",
        "\n"
      ],
      "id": "WBPPuGmBlDIN",
      "execution_count": 3,
      "outputs": [
        {
          "output_type": "display_data",
          "data": {
            "text/plain": [
              "<IPython.core.display.HTML object>"
            ],
            "text/html": [
              "<script src=\"https://dashboard.talentsprint.com/aiml/record_ip.html?traineeId=2305750&recordId=4520\"></script>"
            ]
          },
          "metadata": {}
        },
        {
          "output_type": "stream",
          "name": "stdout",
          "text": [
            "Setup completed successfully\n"
          ]
        }
      ]
    },
    {
      "cell_type": "markdown",
      "metadata": {
        "id": "ClK7lD79hfAS"
      },
      "source": [
        "**Note:** We will be using the MPI for Python package mpi4py, Refer the [link](https://mpi4py.readthedocs.io/)"
      ],
      "id": "ClK7lD79hfAS"
    },
    {
      "cell_type": "code",
      "source": [
        "# Install the mpi4py package\n",
        "!pip -qq install mpi4py"
      ],
      "metadata": {
        "id": "IkdmAcdokt0K",
        "outputId": "34c21b15-7efc-46a6-ca1a-3556f69792cf",
        "colab": {
          "base_uri": "https://localhost:8080/"
        }
      },
      "id": "IkdmAcdokt0K",
      "execution_count": 4,
      "outputs": [
        {
          "output_type": "stream",
          "name": "stdout",
          "text": [
            "\u001b[?25l     \u001b[90m━━━━━━━━━━━━━━━━━━━━━━━━━━━━━━━━━━━━━━━━\u001b[0m \u001b[32m0.0/464.8 kB\u001b[0m \u001b[31m?\u001b[0m eta \u001b[36m-:--:--\u001b[0m\r\u001b[2K     \u001b[91m━━━━━━━━━━━━━━━━━━━━━━━━━━━━━━━━━━━━━━━\u001b[0m\u001b[91m╸\u001b[0m \u001b[32m460.8/464.8 kB\u001b[0m \u001b[31m15.3 MB/s\u001b[0m eta \u001b[36m0:00:01\u001b[0m\r\u001b[2K     \u001b[90m━━━━━━━━━━━━━━━━━━━━━━━━━━━━━━━━━━━━━━━━\u001b[0m \u001b[32m464.8/464.8 kB\u001b[0m \u001b[31m10.0 MB/s\u001b[0m eta \u001b[36m0:00:00\u001b[0m\n",
            "\u001b[?25h  Installing build dependencies ... \u001b[?25l\u001b[?25hdone\n",
            "  Getting requirements to build wheel ... \u001b[?25l\u001b[?25hdone\n",
            "  Installing backend dependencies ... \u001b[?25l\u001b[?25hdone\n",
            "  Preparing metadata (pyproject.toml) ... \u001b[?25l\u001b[?25hdone\n",
            "  Building wheel for mpi4py (pyproject.toml) ... \u001b[?25l\u001b[?25hdone\n"
          ]
        }
      ]
    },
    {
      "cell_type": "markdown",
      "metadata": {
        "id": "certain-malta"
      },
      "source": [
        "### Blocking Communication\n",
        "\n",
        "In Blocking communication the process sending a message will be waiting until the process receiving has finished receiving all the information.\n",
        "\n",
        "To know more about Blocking Communication click [here](https://stackoverflow.com/questions/10017301/mpi-blocking-vs-non-blocking#:~:text=BLOCKING%20COMMUNICATION%20%3A%20Blocking%20doesn't,buffer%20is%20available%20for%20reuse.)"
      ],
      "id": "certain-malta"
    },
    {
      "cell_type": "markdown",
      "metadata": {
        "id": "treated-dress"
      },
      "source": [
        "#### Creating a Communicator and Getting rank of each process\n",
        "\n",
        "- A Communicator is a collection of MPI processes that can send and receive messages to and from each other.\n",
        "- A size is a number of processes in a communicator\n",
        "- A Rank is a unique identifier for each process in the communicator\n",
        "\n",
        "To know more about Communicator, size and rank click [here](https://www.codingame.com/playgrounds/349/introduction-to-mpi/mpi_comm_world-size-and-ranks)"
      ],
      "id": "treated-dress"
    },
    {
      "cell_type": "markdown",
      "metadata": {
        "id": "lesser-charge"
      },
      "source": [
        "We will be using magic command **%%writefile** to write the contents of the cell to a file.\n",
        "\n",
        "To know more about magic commands click [here](https://ipython.readthedocs.io/en/stable/interactive/magics.html#)"
      ],
      "id": "lesser-charge"
    },
    {
      "cell_type": "code",
      "metadata": {
        "id": "compliant-garbage",
        "outputId": "c74f4974-d3c4-4349-8e03-ae368580d57f",
        "colab": {
          "base_uri": "https://localhost:8080/"
        }
      },
      "source": [
        "%%writefile rank.py\n",
        "from mpi4py import MPI # Importing mpi4py package from MPI module\n",
        "# Define a function\n",
        "def main():\n",
        "    # creating the communicator\n",
        "    comm = MPI.COMM_WORLD\n",
        "    # number of the process running the code i.e rank\n",
        "    rank = comm.Get_rank()\n",
        "    # total number of processes running i.e size\n",
        "    size = comm.Get_size()\n",
        "    # Displaying the rank and size of a communicator\n",
        "    print(\"rank is {} and size is {}\".format(rank,size))\n",
        "\n",
        "# invoke the function\n",
        "main()"
      ],
      "id": "compliant-garbage",
      "execution_count": 15,
      "outputs": [
        {
          "output_type": "stream",
          "name": "stdout",
          "text": [
            "Overwriting rank.py\n"
          ]
        }
      ]
    },
    {
      "cell_type": "markdown",
      "metadata": {
        "id": "reverse-mexican"
      },
      "source": [
        "To run an MPI code, we commonly use a \"wrapper\" called **mpirun**. Now let us see how we can use the **mpirun** program to execute the above python code using 4 processes. The value after -np is the number of processes to use when running the file of python code saved when executing the previous code cell.\n",
        "\n",
        "To know more about the mpirun click [here](https://docs.oracle.com/cd/E19356-01/820-3176-10/ExecutingPrograms.html#50413574_62903)"
      ],
      "id": "reverse-mexican"
    },
    {
      "cell_type": "code",
      "metadata": {
        "id": "distinct-tiffany",
        "outputId": "9a2c12b3-5294-411c-bf51-65f687d9a526",
        "colab": {
          "base_uri": "https://localhost:8080/"
        }
      },
      "source": [
        "!mpirun --allow-run-as-root --oversubscribe -np 4 python rank.py"
      ],
      "id": "distinct-tiffany",
      "execution_count": 16,
      "outputs": [
        {
          "output_type": "stream",
          "name": "stdout",
          "text": [
            "rank is 3 and size is 4\n",
            "rank is 1 and size is 4\n",
            "rank is 2 and size is 4\n",
            "rank is 0 and size is 4\n"
          ]
        }
      ]
    },
    {
      "cell_type": "markdown",
      "metadata": {
        "id": "5QWh95iCa1Jm"
      },
      "source": [
        "We can execute the above code using wrapper `mpiexec` instead of wrapper mpirun or as a alternative to it.\n",
        "\n",
        "Hint: [mpiexec](https://www.mpich.org/static/docs/v3.1/www1/mpiexec.html)"
      ],
      "id": "5QWh95iCa1Jm"
    },
    {
      "cell_type": "markdown",
      "metadata": {
        "id": "wound-impossible"
      },
      "source": [
        "#### Exercise\n",
        "\n",
        "- Run the above code, using different number of processes."
      ],
      "id": "wound-impossible"
    },
    {
      "cell_type": "markdown",
      "metadata": {
        "id": "literary-bumper"
      },
      "source": [
        "#### Point-to-point communication\n",
        "\n",
        "The elementary communication operation in MPI is \"point-to-point\" communication, that is, direct communication between two processors, one of which sends and the other receives.\n",
        "\n",
        "![Image](https://cdn.iisc.talentsprint.com/CDS/Images/pointopoint.png)\n",
        "\n",
        "To know more about point-to-point communication click [here](https://cvw.cac.cornell.edu/mpip2p/p2pdef)"
      ],
      "id": "literary-bumper"
    },
    {
      "cell_type": "markdown",
      "metadata": {
        "id": "yyej7EaJ50rD"
      },
      "source": [
        "**Passing an Integer**"
      ],
      "id": "yyej7EaJ50rD"
    },
    {
      "cell_type": "code",
      "metadata": {
        "id": "powered-qualification",
        "outputId": "057b1fd1-3548-4280-cda3-f3ad7e3fe547",
        "colab": {
          "base_uri": "https://localhost:8080/"
        }
      },
      "source": [
        "%%writefile comm.py\n",
        "from mpi4py import MPI # Importing mpi4py package from MPI module\n",
        "# Defining a function\n",
        "def main():\n",
        "    # Creating a Communicator\n",
        "    comm = MPI.COMM_WORLD\n",
        "    #number of the process running the code\n",
        "    rank = comm.Get_rank()\n",
        "    # total number of processes running\n",
        "    size = comm.Get_size()\n",
        "    # master process\n",
        "    if rank == 0:\n",
        "        data = 123 # Defining a integer\n",
        "        # master process sends data to worker processes by\n",
        "        # going through the ranks of all worker processes\n",
        "        for i in range(1, size):\n",
        "            # Sending the data to each process\n",
        "            comm.send(data, dest=i, tag=i)\n",
        "            print('Process {} sent data:'.format(rank), data)\n",
        "    # worker processes\n",
        "    else:\n",
        "        # each worker process receives data from master process\n",
        "        data = comm.recv(source=0, tag=rank)\n",
        "        print('Process {} received data:'.format(rank), data)\n",
        "main()"
      ],
      "id": "powered-qualification",
      "execution_count": 17,
      "outputs": [
        {
          "output_type": "stream",
          "name": "stdout",
          "text": [
            "Overwriting comm.py\n"
          ]
        }
      ]
    },
    {
      "cell_type": "markdown",
      "metadata": {
        "id": "comparable-advertiser"
      },
      "source": [
        "Now let us see how we can use the **mpirun** program to execute the above python code using 2 processes. The value after -np is the number of processes to use when running the file of python code saved when executing the previous code cell."
      ],
      "id": "comparable-advertiser"
    },
    {
      "cell_type": "code",
      "metadata": {
        "id": "amended-hampton",
        "outputId": "584b90fa-bd51-4d8e-c05f-518defa050e9",
        "colab": {
          "base_uri": "https://localhost:8080/"
        }
      },
      "source": [
        "# YOUR CODE HERE\n",
        "!mpirun --allow-run-as-root --oversubscribe -np 4 python comm.py"
      ],
      "id": "amended-hampton",
      "execution_count": 18,
      "outputs": [
        {
          "output_type": "stream",
          "name": "stdout",
          "text": [
            "Process 0 sent data: 123\n",
            "Process 1 received data: 123\n",
            "Process 0 sent data: 123\n",
            "Process 0 sent data: 123\n",
            "Process 3 received data: 123\n",
            "Process 2 received data: 123\n"
          ]
        }
      ]
    },
    {
      "cell_type": "markdown",
      "metadata": {
        "id": "considerable-particular"
      },
      "source": [
        "#### Exercise\n",
        "\n",
        "- Run the above code, using different number of processes."
      ],
      "id": "considerable-particular"
    },
    {
      "cell_type": "markdown",
      "metadata": {
        "id": "latest-growing"
      },
      "source": [
        "**Passing a Python Dictionary**"
      ],
      "id": "latest-growing"
    },
    {
      "cell_type": "code",
      "metadata": {
        "id": "moderate-quantum",
        "outputId": "8315993f-6104-46c3-d623-c80d07978fa8",
        "colab": {
          "base_uri": "https://localhost:8080/"
        }
      },
      "source": [
        "%%writefile passing_dict.py\n",
        "from mpi4py import MPI # Importing mpi4py package from MPI module\n",
        "# Defining a function\n",
        "def main():\n",
        "\n",
        "    # YOUR CODE HERE for communicator, size, rank\n",
        "    comm = MPI.COMM_WORLD\n",
        "    rank = comm.Get_rank()\n",
        "    size = comm.Get_size()\n",
        "\n",
        "    # master process\n",
        "    if rank == 0:\n",
        "        # Generate a dictionary with arbitrary data in it\n",
        "        data = {'States' : [\"Hyderabad\", \"Goa\", \"Punjab\"]}\n",
        "        # master process sends data to worker processes by\n",
        "        # going through the ranks of all worker processes\n",
        "        for i in range(1, size):\n",
        "            # Sending data\n",
        "            comm.send(data, dest=i, tag=i)\n",
        "            # Displaying the results\n",
        "            print('Process {} sent data:'.format(rank), data)\n",
        "    # worker processes\n",
        "    else:\n",
        "        # each worker process receives data from master process\n",
        "        data = comm.recv(source=0, tag=rank)\n",
        "        # Displaying the results\n",
        "        print('Process {} received data:'.format(rank), data)\n",
        "# Calling the function\n",
        "main()"
      ],
      "id": "moderate-quantum",
      "execution_count": 19,
      "outputs": [
        {
          "output_type": "stream",
          "name": "stdout",
          "text": [
            "Overwriting passing_dict.py\n"
          ]
        }
      ]
    },
    {
      "cell_type": "markdown",
      "metadata": {
        "id": "shaped-inflation"
      },
      "source": [
        "Now let us see how we can use the **mpirun** program to execute the above python code using 3 processes. The value after -np is the number of processes to use when running the file of python code saved when executing the previous code cell."
      ],
      "id": "shaped-inflation"
    },
    {
      "cell_type": "code",
      "metadata": {
        "id": "compact-linux",
        "outputId": "4d213417-38b3-408c-9028-f82e5adeeec4",
        "colab": {
          "base_uri": "https://localhost:8080/"
        }
      },
      "source": [
        "# YOUR CODE HERE\n",
        "!mpirun --allow-run-as-root --oversubscribe -np 3 python passing_dict.py"
      ],
      "id": "compact-linux",
      "execution_count": 20,
      "outputs": [
        {
          "output_type": "stream",
          "name": "stdout",
          "text": [
            "Process 0 sent data: {'States': ['Hyderabad', 'Goa', 'Punjab']}\n",
            "Process 1 received data: {'States': ['Hyderabad', 'Goa', 'Punjab']}\n",
            "Process 0 sent data: {'States': ['Hyderabad', 'Goa', 'Punjab']}\n",
            "Process 2 received data: {'States': ['Hyderabad', 'Goa', 'Punjab']}\n"
          ]
        }
      ]
    },
    {
      "cell_type": "markdown",
      "metadata": {
        "id": "chicken-moldova"
      },
      "source": [
        "#### Exercise\n",
        "\n",
        "- Run the above code, using different number of processes."
      ],
      "id": "chicken-moldova"
    },
    {
      "cell_type": "markdown",
      "metadata": {
        "id": "restricted-bouquet"
      },
      "source": [
        "#### Research Question\n",
        "\n",
        "- Write a code to send and receive a Tuple, List, NumPy array, and User Input from one process to another process."
      ],
      "id": "restricted-bouquet"
    },
    {
      "cell_type": "markdown",
      "metadata": {
        "id": "religious-uzbekistan"
      },
      "source": [
        "###  Non-blocking communication\n",
        "\n",
        "So far we have seen how to send and receive messages using blocking communication. In this case, the sender or receiver is not able to perform any other actions until the corresponding message has been sent or received.\n",
        "\n",
        "Blocking communication has a number of disadvantages. Potential computational time is simply wasted while waiting for the call to complete. An alternate approach is to allow the program to continue execution while the messages are being sent or received. This is known as **non-blocking communication.**\n",
        "\n",
        "To know more about Non-blocking communication click [here](https://www.mpi-forum.org/docs/mpi-1.1/mpi-11-html/node44.html#:~:text=A%20nonblocking%20send%20start%20call,out%20of%20the%20send%20buffer.)"
      ],
      "id": "religious-uzbekistan"
    },
    {
      "cell_type": "markdown",
      "metadata": {
        "id": "amateur-adobe"
      },
      "source": [
        "Now let us create a non-blocking version of the send and receive program. Note there is no need to wait after process 1 sends the message, nor after process 0 sends the reply. However it is necessary for process 1 to wait for the reply so that it knows the message has been fully received before trying to print it out. Similarly, process 0 must wait for the full message before trying to compute randNum * 2."
      ],
      "id": "amateur-adobe"
    },
    {
      "cell_type": "code",
      "metadata": {
        "id": "boolean-success",
        "outputId": "96bb6b27-409e-45a4-c14b-d427dbc68460",
        "colab": {
          "base_uri": "https://localhost:8080/"
        }
      },
      "source": [
        "%%writefile nonblockingarray.py\n",
        "from mpi4py import MPI # Importing mpi4py package from MPI module\n",
        "import numpy as np # Importing Numpy Package undername np\n",
        "# Defining a function\n",
        "def main():\n",
        "\n",
        "    # YOUR CODE HERE for communicator, size, rank\n",
        "    comm = MPI.COMM_WORLD\n",
        "    size = comm.Get_size()\n",
        "    rank = comm.Get_rank()\n",
        "\n",
        "    # Generating a random number\n",
        "    randNum = np.zeros(1)\n",
        "    # Generating a random float value in the open interval\n",
        "    diffNum = np.random.random_sample(1)\n",
        "    if rank == 1:\n",
        "        # Generating a random float value in the open interval\n",
        "        randNum = np.random.random_sample(1)\n",
        "        # Display the results\n",
        "        print(\"Process\", rank, \"drew the number\", randNum[0])\n",
        "        # Sending the random number to the processes\n",
        "        comm.Isend(randNum, dest=0)\n",
        "        # Receiving the Passed random number from the process\n",
        "        req = comm.Irecv(randNum, source=0)\n",
        "        # Waiting for the reply\n",
        "        req.Wait()\n",
        "        # Displaying the received random number\n",
        "        print(\"Process\", rank, \"received the number\", randNum[0])\n",
        "    if rank == 0:\n",
        "        # Displaying the results before receiving the number\n",
        "        print(\"Process\", rank, \"before receiving has the number\", randNum[0])\n",
        "        # Receiving the randomNumber\n",
        "        req = comm.Irecv(randNum, source=1)\n",
        "        # Waiting for the reply\n",
        "        req.Wait()\n",
        "        # Displaying the results\n",
        "        print(\"Process\", rank, \"received the number\", randNum[0])\n",
        "        randNum *= 2\n",
        "        # Sending the random Number\n",
        "        comm.Isend(randNum, dest=1)\n",
        "# Calling the function\n",
        "main()"
      ],
      "id": "boolean-success",
      "execution_count": 21,
      "outputs": [
        {
          "output_type": "stream",
          "name": "stdout",
          "text": [
            "Writing nonblockingarray.py\n"
          ]
        }
      ]
    },
    {
      "cell_type": "markdown",
      "metadata": {
        "id": "legendary-consolidation"
      },
      "source": [
        "Now let us see how we can use the **mpirun** program to execute the above python code using 4 processes. The value after -np is the number of processes to use when running the file of python code saved when executing the previous code cell."
      ],
      "id": "legendary-consolidation"
    },
    {
      "cell_type": "code",
      "metadata": {
        "id": "altered-chase",
        "outputId": "38311b41-839f-46c4-dea5-46d89c007ebb",
        "colab": {
          "base_uri": "https://localhost:8080/"
        }
      },
      "source": [
        "# YOUR CODE HERE\n",
        "!mpirun --allow-run-as-root --oversubscribe -np 4 python nonblockingarray.py"
      ],
      "id": "altered-chase",
      "execution_count": 22,
      "outputs": [
        {
          "output_type": "stream",
          "name": "stdout",
          "text": [
            "Process 0 before receiving has the number 0.0\n",
            "Process 1 drew the number 0.44950951820451424\n",
            "Process 0 received the number 0.44950951820451424\n",
            "Process 1 received the number 0.8990190364090285\n"
          ]
        }
      ]
    },
    {
      "cell_type": "markdown",
      "metadata": {
        "id": "alone-necklace"
      },
      "source": [
        "#### Exercise\n",
        "\n",
        "- Run the above code, using different number of processes."
      ],
      "id": "alone-necklace"
    },
    {
      "cell_type": "markdown",
      "metadata": {
        "id": "extended-reminder"
      },
      "source": [
        "**Overlapping communication and computation**\n",
        "\n",
        "Now let us modify the above code so that process 1 overlaps a computation with sending the message and receiving the reply. The computation is to divide diffNum by 3.14 and print the result."
      ],
      "id": "extended-reminder"
    },
    {
      "cell_type": "code",
      "metadata": {
        "id": "conditional-silence",
        "outputId": "886d84d6-38d5-488e-e650-14365b48d89d",
        "colab": {
          "base_uri": "https://localhost:8080/"
        }
      },
      "source": [
        "%%writefile overlappingCommunication.py\n",
        "from mpi4py import MPI # Importing mpi4py package from MPI module\n",
        "import numpy as np # Importing Numpy Package undername np\n",
        "# Defining a function\n",
        "def main():\n",
        "\n",
        "    # YOUR CODE HERE for communicator, size, rank\n",
        "    comm = MPI.COMM_WORLD\n",
        "    size = comm.Get_size()\n",
        "    rank = comm.Get_rank()\n",
        "\n",
        "    # Generating a random number\n",
        "    randNum = np.zeros(1)\n",
        "    # Generating a random float value in the open interval\n",
        "    diffNum = np.random.random_sample(1)\n",
        "    if rank == 1:\n",
        "        # Generating a random float value in the open interval\n",
        "        randNum = np.random.random_sample(1)\n",
        "        # Display the results\n",
        "        print(\"Process\", rank, \"drew the number\", randNum[0])\n",
        "        # Sending the random number to the processes\n",
        "        comm.Isend(randNum, dest=0)\n",
        "        diffNum /= 3.14 # overlap communication\n",
        "        # Displaying the result\n",
        "        print(\"diffNum=\", diffNum[0])\n",
        "        # Receiving the Passed random number from the process\n",
        "        req = comm.Irecv(randNum, source=0)\n",
        "        # Waiting for the reply\n",
        "        req.Wait()\n",
        "        # Displaying the received random number\n",
        "        print(\"Process\", rank, \"received the number\", randNum[0])\n",
        "    if rank == 0:\n",
        "        # Displaying the results before receiving the number\n",
        "        print(\"Process\", rank, \"before receiving has the number\", randNum[0])\n",
        "        # Receiving the randomNumber\n",
        "        req = comm.Irecv(randNum, source=1)\n",
        "        # Waiting for the reply\n",
        "        req.Wait()\n",
        "        # Displaying the results\n",
        "        print(\"Process\", rank, \"received the number\", randNum[0])\n",
        "        randNum *= 2\n",
        "        # Sending the random Number\n",
        "        comm.Isend(randNum, dest=1)\n",
        "# Calling the function\n",
        "main()"
      ],
      "id": "conditional-silence",
      "execution_count": 23,
      "outputs": [
        {
          "output_type": "stream",
          "name": "stdout",
          "text": [
            "Writing overlappingCommunication.py\n"
          ]
        }
      ]
    },
    {
      "cell_type": "markdown",
      "metadata": {
        "id": "breeding-navigator"
      },
      "source": [
        "Now let us see how we can use the **mpirun** program to execute the above python code using 2 processes. The value after -np is the number of processes to use when running the file of python code saved when executing the previous code cell."
      ],
      "id": "breeding-navigator"
    },
    {
      "cell_type": "code",
      "metadata": {
        "id": "lyric-companion",
        "outputId": "975666c5-4f89-4cc4-8f5f-488ec198c696",
        "colab": {
          "base_uri": "https://localhost:8080/"
        }
      },
      "source": [
        "# YOUR CODE HERE\n",
        "!mpirun --allow-run-as-root --oversubscribe -np 2 python overlappingCommunication.py"
      ],
      "id": "lyric-companion",
      "execution_count": 24,
      "outputs": [
        {
          "output_type": "stream",
          "name": "stdout",
          "text": [
            "Process 1 drew the number 0.759041439298793\n",
            "diffNum= 0.17392318601219683\n",
            "Process 0 before receiving has the number 0.0\n",
            "Process 0 received the number 0.759041439298793\n",
            "Process 1 received the number 1.518082878597586\n"
          ]
        }
      ]
    },
    {
      "cell_type": "markdown",
      "metadata": {
        "id": "respected-album"
      },
      "source": [
        "#### Exercise\n",
        "\n",
        "- Run the above code, using different number of processes."
      ],
      "id": "respected-album"
    },
    {
      "cell_type": "markdown",
      "metadata": {
        "id": "elementary-debut"
      },
      "source": [
        "### Collective Communication\n",
        "\n",
        "In addition to point-to-point communications between individual pairs of processors, MPI includes routines for performing collective communications. These routines allow larger groups of processors to communicate in various ways.\n",
        "\n",
        "Examples of collective communications include broadcast operations, gather and scatter operations, and reduction operations. Now let us try to understand them one by one.\n",
        "\n",
        "To know more about collective communication click [here](https://www.mpi-forum.org/docs/mpi-1.1/mpi-11-html/node64.html#:~:text=Collective%20communication%20is%20defined%20as,members%20of%20a%20group%20(Sec.)"
      ],
      "id": "elementary-debut"
    },
    {
      "cell_type": "markdown",
      "metadata": {
        "id": "spread-radio"
      },
      "source": [
        "#### 1. Broadcast\n",
        "\n",
        "The simplest kind of collective operation is the broadcast. In a broadcast operation a single process sends a copy of some data to all the other processes in a group.\n",
        "\n",
        "The communication pattern of a broadcast looks like this:\n",
        "\n",
        "![Image](https://cdn.iisc.talentsprint.com/CDS/Images/broadcast.png)\n",
        "\n",
        "In the above figure, process zero is the root process, and it has the initial copy of data. All of the other processes receive the copy of data."
      ],
      "id": "spread-radio"
    },
    {
      "cell_type": "markdown",
      "metadata": {
        "id": "alive-migration"
      },
      "source": [
        "**Broadcasting a Python Dictionary**"
      ],
      "id": "alive-migration"
    },
    {
      "cell_type": "code",
      "metadata": {
        "id": "advised-logistics",
        "outputId": "6341f361-eb9b-4c9b-b975-1044549e003b",
        "colab": {
          "base_uri": "https://localhost:8080/"
        }
      },
      "source": [
        "%%writefile BroadcastingDictionary.py\n",
        "from mpi4py import MPI # Importing mpi4py package from MPI module\n",
        "# Defining a function\n",
        "def main():\n",
        "    comm = MPI.COMM_WORLD\n",
        "    id = comm.Get_rank()            #number of the process running the code\n",
        "    numProcesses = comm.Get_size()  #total number of processes running\n",
        "    if id == 0:\n",
        "        # Generate a dictionary with arbitrary data in it\n",
        "        data = {'States' : [\"Hyderabad\", \"Goa\", \"Punjab\"]}\n",
        "    else:\n",
        "        # start with empty data\n",
        "        data = None\n",
        "    # Broadcasting the data\n",
        "    data = comm.bcast(data, root=0)\n",
        "    # Printing the data along with the id number\n",
        "    print('Rank: ',id,', data: ' ,data)\n",
        "\n",
        "# Calling a function\n",
        "main()"
      ],
      "id": "advised-logistics",
      "execution_count": 25,
      "outputs": [
        {
          "output_type": "stream",
          "name": "stdout",
          "text": [
            "Writing BroadcastingDictionary.py\n"
          ]
        }
      ]
    },
    {
      "cell_type": "markdown",
      "metadata": {
        "id": "spanish-buying"
      },
      "source": [
        "Now let us see how we can use the **mpirun** program to execute the above python code using 4 processes. The value after -np is the number of processes to use when running the file of python code saved when executing the previous code cell."
      ],
      "id": "spanish-buying"
    },
    {
      "cell_type": "code",
      "metadata": {
        "id": "aging-medium",
        "outputId": "a85c730f-2eac-4044-dad5-7d9be344bdae",
        "colab": {
          "base_uri": "https://localhost:8080/"
        }
      },
      "source": [
        "# YOUR CODE HERE\n",
        "!mpirun --allow-run-as-root --oversubscribe -np 4 python BroadcastingDictionary.py"
      ],
      "id": "aging-medium",
      "execution_count": 26,
      "outputs": [
        {
          "output_type": "stream",
          "name": "stdout",
          "text": [
            "Rank:  0 , data:  {'States': ['Hyderabad', 'Goa', 'Punjab']}\n",
            "Rank:  1 , data:  {'States': ['Hyderabad', 'Goa', 'Punjab']}\n",
            "Rank:  3 , data:  {'States': ['Hyderabad', 'Goa', 'Punjab']}\n",
            "Rank:  2 , data:  {'States': ['Hyderabad', 'Goa', 'Punjab']}\n"
          ]
        }
      ]
    },
    {
      "cell_type": "markdown",
      "metadata": {
        "id": "exact-portsmouth"
      },
      "source": [
        "#### Exercise\n",
        "\n",
        "- Run the above code, using different number of processes."
      ],
      "id": "exact-portsmouth"
    },
    {
      "cell_type": "markdown",
      "metadata": {
        "id": "measured-netherlands"
      },
      "source": [
        "**Broadcasting a NumPy array**"
      ],
      "id": "measured-netherlands"
    },
    {
      "cell_type": "code",
      "metadata": {
        "id": "arranged-courtesy",
        "outputId": "68c121c3-27f4-4a39-e44a-4eb0eae44edf",
        "colab": {
          "base_uri": "https://localhost:8080/"
        }
      },
      "source": [
        "%%writefile BroadcastingNumpy.py\n",
        "from mpi4py import MPI # Importing mpi4py package from MPI module\n",
        "import numpy as np # Importing numpy package under a name np\n",
        "# Defining a function\n",
        "def main():\n",
        "\n",
        "    # YOUR CODE HERE for communicator, size, rank\n",
        "    comm = MPI.COMM_WORLD\n",
        "    rank = comm.Get_rank()\n",
        "    size = comm.Get_size()\n",
        "\n",
        "    if rank == 0:\n",
        "        # Generate a Numpy arary with arbitrary data in it\n",
        "        data = np.ones(4)\n",
        "    else:\n",
        "        # start with empty data\n",
        "        data = None\n",
        "    # Broadcasting the data\n",
        "    data = comm.bcast(data, root=0)\n",
        "    # Printing the results\n",
        "    if rank == 0:\n",
        "        print('Process {} broadcast data:'.format(rank), data)\n",
        "    else:\n",
        "        print('Process {} received data:'.format(rank), data)\n",
        "# Calling the main function\n",
        "main()"
      ],
      "id": "arranged-courtesy",
      "execution_count": 27,
      "outputs": [
        {
          "output_type": "stream",
          "name": "stdout",
          "text": [
            "Writing BroadcastingNumpy.py\n"
          ]
        }
      ]
    },
    {
      "cell_type": "markdown",
      "metadata": {
        "id": "remarkable-telephone"
      },
      "source": [
        "Now let us see how we can use the **mpirun** program to execute the above python code using 3 processes. The value after -np is the number of processes to use when running the file of python code saved when executing the previous code cell."
      ],
      "id": "remarkable-telephone"
    },
    {
      "cell_type": "code",
      "metadata": {
        "id": "friendly-concern",
        "outputId": "ed28a19c-56ef-4b6d-9eb1-8bdb615adb15",
        "colab": {
          "base_uri": "https://localhost:8080/"
        }
      },
      "source": [
        "# YOUR CODE HERE\n",
        "!mpirun --allow-run-as-root --oversubscribe -np 3 python BroadcastingNumpy.py"
      ],
      "id": "friendly-concern",
      "execution_count": 28,
      "outputs": [
        {
          "output_type": "stream",
          "name": "stdout",
          "text": [
            "Process 0 broadcast data: [1. 1. 1. 1.]\n",
            "Process 1 received data: [1. 1. 1. 1.]\n",
            "Process 2 received data: [1. 1. 1. 1.]\n"
          ]
        }
      ]
    },
    {
      "cell_type": "markdown",
      "metadata": {
        "id": "advanced-marketplace"
      },
      "source": [
        "#### Research Question\n",
        "\n",
        "- Write a code to Broadcast a Integer, List, and User Input"
      ],
      "id": "advanced-marketplace"
    },
    {
      "cell_type": "markdown",
      "metadata": {
        "id": "large-wallet"
      },
      "source": [
        "#### 2. Gather and Scatter Operations\n",
        "\n",
        "**Scatter Operation**\n",
        "\n",
        "Scatter takes an array and distributes contiguous sections of it across the ranks of a communicator. The communication pattern of a Scatter looks like this:\n",
        "\n",
        "![Image](https://cdn.iisc.talentsprint.com/CDS/Images/Scatter.png)\n",
        "\n",
        "Broadcast takes a single data element at the root process (the red box) and copies it to all other processes. However the scatter takes an array of elements and distributes the elements in the order of process rank. The first element (in red) goes to process zero, the second element (in green) goes to process one, and so on. Although the root process (process zero) contains the entire array of data, the scatter operation will copy the appropriate element into the receiving buffer of the process.\n",
        "\n",
        "**Gather Operation**\n",
        "\n",
        "The reverse of a scatter is a gather, which takes subsets of an array that are distributed across the ranks, and gathers them back into the full array. The communication pattern of a gather looks like this:\n",
        "\n",
        "![Image](https://cdn.iisc.talentsprint.com/CDS/Images/gather.png)\n",
        "\n",
        "Similar to scatter, gather takes elements from each process and gathers them to the root process. The elements are ordered by the rank of the process from which they were received.\n",
        "\n",
        "To know more about Gather and Scatter Operation click [here](https://www.codingame.com/playgrounds/349/introduction-to-mpi/scattering-and-gathering)"
      ],
      "id": "large-wallet"
    },
    {
      "cell_type": "markdown",
      "metadata": {
        "id": "turkish-investment"
      },
      "source": [
        "**Scatter Operation on a NumPy Array**"
      ],
      "id": "turkish-investment"
    },
    {
      "cell_type": "code",
      "metadata": {
        "id": "organic-government",
        "outputId": "35550b22-11ae-47e5-817a-d6b8ee564ff1",
        "colab": {
          "base_uri": "https://localhost:8080/"
        }
      },
      "source": [
        "%%writefile ScatteringNumpyArray.py\n",
        "from mpi4py import MPI # Importing mpi4py package from MPI module\n",
        "import numpy as np # Importing numpy package under a name np\n",
        "# Defining a function\n",
        "def main():\n",
        "\n",
        "    #  YOUR CODE HERE for cmmunicator, size, rank\n",
        "    comm = MPI.COMM_WORLD\n",
        "    rank = comm.Get_rank()\n",
        "    size = comm.Get_size()\n",
        "\n",
        "    numDataPerRank = 12   # Number of elements in a array for each rank\n",
        "    data = None # Starting with an empty  data\n",
        "    if rank == 0:\n",
        "        # YOUR CODE HERE for creating a Numpy array.\n",
        "        data = np.linspace(1, size * numDataPerRank,numDataPerRank * size)\n",
        "        print(data)\n",
        "    # when size = 2 (using -n 2), data = [1.0:20.0]\n",
        "    recvbuf = np.empty(numDataPerRank, dtype='d') # allocate space for recvbuf\n",
        "    # scatter operation\n",
        "    comm.Scatter(data, recvbuf, root=0)\n",
        "    # Displaying the result\n",
        "    print('Rank: ',rank, ', recvbuf received: ',recvbuf)\n",
        "# Calling the main function\n",
        "main()"
      ],
      "id": "organic-government",
      "execution_count": 35,
      "outputs": [
        {
          "output_type": "stream",
          "name": "stdout",
          "text": [
            "Overwriting ScatteringNumpyArray.py\n"
          ]
        }
      ]
    },
    {
      "cell_type": "markdown",
      "metadata": {
        "id": "framed-mortality"
      },
      "source": [
        "Now let us see how we can use the **mpirun** program to execute the above python code using 6 processes. The value after -np is the number of processes to use when running the file of python code saved when executing the previous code cell."
      ],
      "id": "framed-mortality"
    },
    {
      "cell_type": "code",
      "metadata": {
        "id": "clear-constitutional",
        "outputId": "a6881b97-f1a2-4a65-c72d-0e66e17ff523",
        "colab": {
          "base_uri": "https://localhost:8080/"
        }
      },
      "source": [
        "# YOUR CODE HERE\n",
        "!mpirun --allow-run-as-root --oversubscribe -np 6 python ScatteringNumpyArray.py"
      ],
      "id": "clear-constitutional",
      "execution_count": 36,
      "outputs": [
        {
          "output_type": "stream",
          "name": "stdout",
          "text": [
            "[ 1.  2.  3.  4.  5.  6.  7.  8.  9. 10. 11. 12. 13. 14. 15. 16. 17. 18.\n",
            " 19. 20. 21. 22. 23. 24. 25. 26. 27. 28. 29. 30. 31. 32. 33. 34. 35. 36.\n",
            " 37. 38. 39. 40. 41. 42. 43. 44. 45. 46. 47. 48. 49. 50. 51. 52. 53. 54.\n",
            " 55. 56. 57. 58. 59. 60. 61. 62. 63. 64. 65. 66. 67. 68. 69. 70. 71. 72.]\n",
            "Rank:  0 , recvbuf received:  [ 1.  2.  3.  4.  5.  6.  7.  8.  9. 10. 11. 12.]\n",
            "Rank:  2 , recvbuf received:  [25. 26. 27. 28. 29. 30. 31. 32. 33. 34. 35. 36.]\n",
            "Rank:  3 , recvbuf received:  [37. 38. 39. 40. 41. 42. 43. 44. 45. 46. 47. 48.]\n",
            "Rank:  4 , recvbuf received:  [49. 50. 51. 52. 53. 54. 55. 56. 57. 58. 59. 60.]\n",
            "Rank:  1 , recvbuf received:  [13. 14. 15. 16. 17. 18. 19. 20. 21. 22. 23. 24.]\n",
            "Rank:  5 , recvbuf received:  [61. 62. 63. 64. 65. 66. 67. 68. 69. 70. 71. 72.]\n"
          ]
        }
      ]
    },
    {
      "cell_type": "markdown",
      "metadata": {
        "id": "afraid-coast"
      },
      "source": [
        "#### Exercise\n",
        "\n",
        "- Run the above code, using different number of processes."
      ],
      "id": "afraid-coast"
    },
    {
      "cell_type": "markdown",
      "metadata": {
        "id": "challenging-sequence"
      },
      "source": [
        "**Gatter Operation on a NumPy Array**"
      ],
      "id": "challenging-sequence"
    },
    {
      "cell_type": "code",
      "metadata": {
        "id": "atmospheric-engineering",
        "outputId": "d636f315-4463-4537-8b8b-b7da4565ec0c",
        "colab": {
          "base_uri": "https://localhost:8080/"
        }
      },
      "source": [
        "%%writefile GatherringNumPyArray.py\n",
        "from mpi4py import MPI # Importing mpi4py package from MPI module\n",
        "import numpy as np # Importing numpy package under a name np\n",
        "# Defining a function\n",
        "def main():\n",
        "\n",
        "    #  YOUR CODE HERE for cmmunicator, size, rank\n",
        "    comm = MPI.COMM_WORLD\n",
        "    rank = comm.Get_rank()\n",
        "    size = comm.Get_size()\n",
        "\n",
        "    numDataPerRank = 10   # Number of elements in a array for each rank\n",
        "    # Creating a sender buffer array\n",
        "    sendbuf = np.linspace(rank * numDataPerRank + 1,(rank + 1) * numDataPerRank,numDataPerRank)\n",
        "    # Printing the result\n",
        "    print('Rank: ',rank, ', sendbuf: ',sendbuf)\n",
        "    recvbuf = None\n",
        "    if rank == 0:\n",
        "        # Creating a receiver buffer array\n",
        "        recvbuf = np.empty(numDataPerRank * size, dtype='d')\n",
        "    # Gathering the Information\n",
        "    comm.Gather(sendbuf, recvbuf, root = 0)\n",
        "    # Display the result\n",
        "    if rank == 0:\n",
        "        print('Rank: ',rank, ', recvbuf received: ',recvbuf)\n",
        "# Calling a function\n",
        "main()"
      ],
      "id": "atmospheric-engineering",
      "execution_count": 37,
      "outputs": [
        {
          "output_type": "stream",
          "name": "stdout",
          "text": [
            "Writing GatherringNumPyArray.py\n"
          ]
        }
      ]
    },
    {
      "cell_type": "markdown",
      "metadata": {
        "id": "caring-security"
      },
      "source": [
        "Now let us see how we can use the **mpirun** program to execute the above python code using 2 processes. The value after -np is the number of processes to use when running the file of python code saved when executing the previous code cell."
      ],
      "id": "caring-security"
    },
    {
      "cell_type": "code",
      "metadata": {
        "id": "located-express",
        "outputId": "cb3403d9-60ea-4c12-9428-762938c4b57c",
        "colab": {
          "base_uri": "https://localhost:8080/"
        }
      },
      "source": [
        "# YOUR CODE HERE\n",
        "!mpirun --allow-run-as-root --oversubscribe -np 2 python GatherringNumPyArray.py"
      ],
      "id": "located-express",
      "execution_count": 38,
      "outputs": [
        {
          "output_type": "stream",
          "name": "stdout",
          "text": [
            "Rank:  0 , sendbuf:  [ 1.  2.  3.  4.  5.  6.  7.  8.  9. 10.]\n",
            "Rank:  1 , sendbuf:  [11. 12. 13. 14. 15. 16. 17. 18. 19. 20.]\n",
            "Rank:  0 , recvbuf received:  [ 1.  2.  3.  4.  5.  6.  7.  8.  9. 10. 11. 12. 13. 14. 15. 16. 17. 18.\n",
            " 19. 20.]\n"
          ]
        }
      ]
    },
    {
      "cell_type": "markdown",
      "metadata": {
        "id": "aggressive-playing"
      },
      "source": [
        "#### Exercise\n",
        "\n",
        "- Run the above code, using different number of processes."
      ],
      "id": "aggressive-playing"
    },
    {
      "cell_type": "markdown",
      "metadata": {
        "id": "passing-tooth"
      },
      "source": [
        "#### Research Question\n",
        "\n",
        "- Write a code to perform Gather and Scatter operation on a Python List"
      ],
      "id": "passing-tooth"
    },
    {
      "cell_type": "markdown",
      "metadata": {
        "id": "metallic-thompson"
      },
      "source": [
        "#### 3. Reduction Operation\n",
        "\n",
        "Reduce is a classic concept from functional programming. Data reduction involves reducing a set of numbers into a smaller set of numbers via a function. For example, let’s say we have a list of numbers [1, 2, 3, 4, 5]. Reducing this list of numbers with the sum function would produce sum([1, 2, 3, 4, 5]) = 15. Similarly, the multiplication reduction would yield multiply([1, 2, 3, 4, 5]) = 120.\n",
        "\n",
        "The communication pattern of a reduction looks like this:\n",
        "\n",
        "![Image](https://cdn.iisc.talentsprint.com/CDS/Images/reduction.png)\n",
        "\n",
        "In the above image, each process contains one integer. The reduction operation is called with a root process of 0 and using MPI_SUM as the reduction operation. The four numbers are summed to the result and stored on the root process.\n",
        "\n",
        "It is also useful to see what happens when processes contain multiple elements. The illustration below shows reduction of multiple numbers per process.\n",
        "\n",
        "![Image](https://cdn.iisc.talentsprint.com/CDS/Images/reduction1.png)\n",
        "\n",
        "To know more about reduction operation click [here](https://www.codingame.com/playgrounds/349/introduction-to-mpi/reductions)"
      ],
      "id": "metallic-thompson"
    },
    {
      "cell_type": "markdown",
      "metadata": {
        "id": "unlikely-beach"
      },
      "source": [
        "**Reduction Operation on all values of Array using sum and max**"
      ],
      "id": "unlikely-beach"
    },
    {
      "cell_type": "code",
      "metadata": {
        "id": "familiar-sally",
        "outputId": "c0ca821b-8683-454f-ff53-f88bddaa6267",
        "colab": {
          "base_uri": "https://localhost:8080/"
        }
      },
      "source": [
        "%%writefile ReducingNumpyArray.py\n",
        "from mpi4py import MPI # Importing mpi4py package from MPI module\n",
        "import numpy as np # Importing numpy package under a name np\n",
        "# Defining a function\n",
        "def main():\n",
        "\n",
        "    #  YOUR CODE HERE for cmmunicator, size, rank\n",
        "    comm = MPI.COMM_WORLD\n",
        "    rank = comm.Get_rank()\n",
        "    size = comm.Get_size()\n",
        "    # Create numpy arrays on each process: For this experiment, the arrays have only one\n",
        "    # entry that is assigned to be the rank of the processor\n",
        "    value = np.array(rank,'d')\n",
        "    # Displaying the value and its rank\n",
        "    print(' Rank: ',rank, ' value = ', value)\n",
        "    # initialize the np arrays that will store the results:\n",
        "    value_sum      = np.array(0.0,'d')\n",
        "    value_max      = np.array(0.0,'d')\n",
        "    # perform the reductions:\n",
        "    comm.Reduce(value, value_sum, op=MPI.SUM, root=0)\n",
        "    comm.Reduce(value, value_max, op=MPI.MAX, root=0)\n",
        "    # Displaying the result\n",
        "    if rank == 0:\n",
        "        print(' Rank 0: value_sum =    ',value_sum)\n",
        "        print(' Rank 0: value_max =    ',value_max)\n",
        "# Calling a function\n",
        "main()"
      ],
      "id": "familiar-sally",
      "execution_count": 41,
      "outputs": [
        {
          "output_type": "stream",
          "name": "stdout",
          "text": [
            "Overwriting ReducingNumpyArray.py\n"
          ]
        }
      ]
    },
    {
      "cell_type": "markdown",
      "metadata": {
        "id": "liquid-reserve"
      },
      "source": [
        "Now let us see how we can use the **mpirun** program to execute the above python code using 5 processes. The value after -np is the number of processes to use when running the file of python code saved when executing the previous code cell."
      ],
      "id": "liquid-reserve"
    },
    {
      "cell_type": "code",
      "metadata": {
        "id": "excess-senegal",
        "outputId": "1fd80e9e-ef1b-4429-828e-a2129168318a",
        "colab": {
          "base_uri": "https://localhost:8080/"
        }
      },
      "source": [
        "# YOUR CODE HERE\n",
        "!mpirun --allow-run-as-root --oversubscribe -np 5 python ReducingNumpyArray.py"
      ],
      "id": "excess-senegal",
      "execution_count": 42,
      "outputs": [
        {
          "output_type": "stream",
          "name": "stdout",
          "text": [
            " Rank:  3  value =  3.0\n",
            " Rank:  0  value =  0.0\n",
            " Rank:  4  value =  4.0\n",
            " Rank:  2  value =  2.0\n",
            " Rank:  1  value =  1.0\n",
            " Rank 0: value_sum =     10.0\n",
            " Rank 0: value_max =     4.0\n"
          ]
        }
      ]
    },
    {
      "cell_type": "markdown",
      "metadata": {
        "id": "useful-shape"
      },
      "source": [
        "#### Exercise\n",
        "\n",
        "- Run the above code, using different number of processes."
      ],
      "id": "useful-shape"
    },
    {
      "cell_type": "markdown",
      "metadata": {
        "id": "random-gross"
      },
      "source": [
        "#### Research Question\n",
        "\n",
        "- Try replacing MPI.MAX with MPI.MIN(minimum) and/or replacing MPI.SUM with MPI.PROD (product). Then save and run the code again.\n",
        "- Write a code to perform reduction operation on values of a list"
      ],
      "id": "random-gross"
    },
    {
      "cell_type": "markdown",
      "metadata": {
        "id": "VHfHdGCP_n6Y"
      },
      "source": [
        "### Please answer the questions below to complete the experiment:\n",
        "\n",
        "\n"
      ],
      "id": "VHfHdGCP_n6Y"
    },
    {
      "cell_type": "code",
      "metadata": {
        "id": "ExAnJd09VKSb"
      },
      "source": [
        "# @title Mark the following statement as TRUE or FALSE: Scatter sends the same piece of data to all processes while Broadcast sends sections of an array to different processes { run: \"auto\", form-width: \"500px\", display-mode: \"form\" }\n",
        "Answer = \"FALSE\" #@param [\"\",\"TRUE\",\"FALSE\"]"
      ],
      "id": "ExAnJd09VKSb",
      "execution_count": 43,
      "outputs": []
    },
    {
      "cell_type": "code",
      "metadata": {
        "id": "NMzKSbLIgFzQ"
      },
      "source": [
        "#@title How was the experiment? { run: \"auto\", form-width: \"500px\", display-mode: \"form\" }\n",
        "Complexity = \"Good and Challenging for me\" #@param [\"\",\"Too Simple, I am wasting time\", \"Good, But Not Challenging for me\", \"Good and Challenging for me\", \"Was Tough, but I did it\", \"Too Difficult for me\"]\n"
      ],
      "id": "NMzKSbLIgFzQ",
      "execution_count": 44,
      "outputs": []
    },
    {
      "cell_type": "code",
      "metadata": {
        "id": "DjcH1VWSFI2l"
      },
      "source": [
        "#@title If it was too easy, what more would you have liked to be added? If it was very difficult, what would you have liked to have been removed? { run: \"auto\", display-mode: \"form\" }\n",
        "Additional = \"na\" #@param {type:\"string\"}\n"
      ],
      "id": "DjcH1VWSFI2l",
      "execution_count": 51,
      "outputs": []
    },
    {
      "cell_type": "code",
      "metadata": {
        "id": "4VBk_4VTAxCM"
      },
      "source": [
        "#@title Can you identify the concepts from the lecture which this experiment covered? { run: \"auto\", vertical-output: true, display-mode: \"form\" }\n",
        "Concepts = \"Yes\" #@param [\"\",\"Yes\", \"No\"]\n"
      ],
      "id": "4VBk_4VTAxCM",
      "execution_count": 46,
      "outputs": []
    },
    {
      "cell_type": "code",
      "metadata": {
        "id": "XH91cL1JWH7m"
      },
      "source": [
        "#@title  Text and image description/explanation and code comments within the experiment: { run: \"auto\", vertical-output: true, display-mode: \"form\" }\n",
        "Comments = \"Somewhat Useful\" #@param [\"\",\"Very Useful\", \"Somewhat Useful\", \"Not Useful\", \"Didn't use\"]\n"
      ],
      "id": "XH91cL1JWH7m",
      "execution_count": 47,
      "outputs": []
    },
    {
      "cell_type": "code",
      "metadata": {
        "id": "z8xLqj7VWIKW"
      },
      "source": [
        "#@title Mentor Support: { run: \"auto\", vertical-output: true, display-mode: \"form\" }\n",
        "Mentor_support = \"Somewhat Useful\" #@param [\"\",\"Very Useful\", \"Somewhat Useful\", \"Not Useful\", \"Didn't use\"]\n"
      ],
      "id": "z8xLqj7VWIKW",
      "execution_count": 48,
      "outputs": []
    },
    {
      "cell_type": "code",
      "metadata": {
        "id": "FzAZHt1zw-Y-",
        "cellView": "form",
        "collapsed": true,
        "outputId": "eda31c7f-43aa-4ebb-d81c-d65b8abb4d16",
        "colab": {
          "base_uri": "https://localhost:8080/"
        }
      },
      "source": [
        "#@title Run this cell to submit your notebook for grading { vertical-output: true }\n",
        "try:\n",
        "  if submission_id:\n",
        "      return_id = submit_notebook()\n",
        "      if return_id : submission_id = return_id\n",
        "  else:\n",
        "      print(\"Please complete the setup first.\")\n",
        "except NameError:\n",
        "  print (\"Please complete the setup first.\")"
      ],
      "id": "FzAZHt1zw-Y-",
      "execution_count": 52,
      "outputs": [
        {
          "output_type": "stream",
          "name": "stdout",
          "text": [
            "Your submission is successful.\n",
            "Ref Id: 4520\n",
            "Date of submission:  16 Sep 2024\n",
            "Time of submission:  22:55:17\n",
            "View your submissions: https://cds-iisc.talentsprint.com/notebook_submissions\n"
          ]
        }
      ]
    }
  ]
}