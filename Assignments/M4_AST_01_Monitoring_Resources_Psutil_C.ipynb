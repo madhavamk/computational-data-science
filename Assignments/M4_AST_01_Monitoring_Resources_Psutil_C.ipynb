{
  "cells": [
    {
      "cell_type": "markdown",
      "metadata": {
        "id": "view-in-github",
        "colab_type": "text"
      },
      "source": [
        "<a href=\"https://colab.research.google.com/github/madhavamk/computational-data-science/blob/master/Assignments/M4_AST_01_Monitoring_Resources_Psutil_C.ipynb\" target=\"_parent\"><img src=\"https://colab.research.google.com/assets/colab-badge.svg\" alt=\"Open In Colab\"/></a>"
      ]
    },
    {
      "cell_type": "markdown",
      "metadata": {
        "id": "5hEAs4TxQfpO"
      },
      "source": [
        "# Advanced Certification Program in Computational Data Science\n",
        "## A program by IISc and TalentSprint\n",
        "### Assignment 1: Monitoring Resources Using Psutil"
      ]
    },
    {
      "cell_type": "markdown",
      "metadata": {
        "id": "rXUi1yR6QpBI"
      },
      "source": [
        "## Learning Objectives"
      ]
    },
    {
      "cell_type": "markdown",
      "metadata": {
        "id": "spgmBDk4QsxR"
      },
      "source": [
        "At the end of the experiment, you will be able to:\n",
        "\n",
        "- Understand, what does monitoring your device mean\n",
        "- Explore various functions of `psutil` package\n",
        "- Explore `multiprocessing` package\n",
        "- Evaluate the advantage of parallelism using Psutil"
      ]
    },
    {
      "cell_type": "code",
      "execution_count": 1,
      "metadata": {
        "cellView": "form",
        "id": "bNdzwIB3MzCS",
        "colab": {
          "base_uri": "https://localhost:8080/",
          "height": 261
        },
        "outputId": "7c49d804-79fa-457d-f70f-6406cea4a3c9"
      },
      "outputs": [
        {
          "output_type": "execute_result",
          "data": {
            "text/plain": [
              "<IPython.core.display.HTML object>"
            ],
            "text/html": [
              "<video width=\"420\" height=\"240\" controls>\n",
              "<source src=\"https://cdn.chn.talentsprint.com/content/Monitoring_Resources_Psutil.mp4\">\n",
              "</video>"
            ]
          },
          "metadata": {},
          "execution_count": 1
        }
      ],
      "source": [
        "#@title Walkthrough Video\n",
        "from IPython.display import HTML\n",
        "HTML(\"\"\"<video width=\"420\" height=\"240\" controls>\n",
        "<source src=\"https://cdn.chn.talentsprint.com/content/Monitoring_Resources_Psutil.mp4\">\n",
        "</video>\"\"\")"
      ]
    },
    {
      "cell_type": "markdown",
      "metadata": {
        "id": "S1hRsonEe-ab"
      },
      "source": [
        "### What does monitoring your device mean?"
      ]
    },
    {
      "cell_type": "markdown",
      "metadata": {
        "id": "S43SA47Ze_-R"
      },
      "source": [
        "It means to keep track of various resources in the system and their utilization\n",
        "\n",
        "\n",
        "Resources such as:\n",
        "- CPU\n",
        "- GPU\n",
        "- Memory (RAM, Swap space, and Hard disk space)\n",
        "- Disks\n",
        "- Network\n",
        "- Sensors"
      ]
    },
    {
      "cell_type": "markdown",
      "metadata": {
        "id": "I4gh7rJlgC7g"
      },
      "source": [
        "### Why do we want to monitor various resources?"
      ]
    },
    {
      "cell_type": "markdown",
      "metadata": {
        "id": "YXCAQ_engE0v"
      },
      "source": [
        "1. Monitoring and measuring allows us to understand resource allocation better\n",
        "2. Monitoring helps to regularly evaluate the performance of the critical system resources.\n",
        "3. Helps to identify the process that is using the maximum resources.\n",
        "4. It helps to evaluate if the current system's resources are sufficient to execute a particular task.\n",
        "5. To reduce escalation of issues."
      ]
    },
    {
      "cell_type": "markdown",
      "metadata": {
        "id": "jBJsQwE8hsA6"
      },
      "source": [
        "### Psutil"
      ]
    },
    {
      "cell_type": "markdown",
      "metadata": {
        "id": "c8IhKM0qhuRj"
      },
      "source": [
        "Psutil is a Python cross-platform library used to access system details and process utilities.\n",
        "This library is used for system monitoring, profiling, limiting process resources, and the management of running processes.\n",
        "\n",
        "Click [here](https://pypi.org/project/psutil/) to proceed to the official documentation of Psutil."
      ]
    },
    {
      "cell_type": "markdown",
      "metadata": {
        "id": "THfwo-6vLD_N"
      },
      "source": [
        "Let us explore various functions of Psutil."
      ]
    },
    {
      "cell_type": "markdown",
      "metadata": {
        "id": "whKnUjWyQ3Oy"
      },
      "source": [
        "### Setup Steps:"
      ]
    },
    {
      "cell_type": "code",
      "execution_count": 2,
      "metadata": {
        "id": "a0lOWPrrRDNp"
      },
      "outputs": [],
      "source": [
        "#@title Please enter your registration id to start: { run: \"auto\", display-mode: \"form\" }\n",
        "Id = \"\" #@param {type:\"string\"}"
      ]
    },
    {
      "cell_type": "code",
      "execution_count": 3,
      "metadata": {
        "id": "-EhywUXcRJnS"
      },
      "outputs": [],
      "source": [
        "#@title Please enter your password (your registered phone number) to continue: { run: \"auto\", display-mode: \"form\" }\n",
        "password = \"\" #@param {type:\"string\"}"
      ]
    },
    {
      "cell_type": "code",
      "execution_count": 4,
      "metadata": {
        "cellView": "form",
        "id": "ngDFdwCARQhS",
        "colab": {
          "base_uri": "https://localhost:8080/",
          "height": 35
        },
        "outputId": "2263cab2-8f03-4caf-8d18-0cf1012241d3"
      },
      "outputs": [
        {
          "output_type": "display_data",
          "data": {
            "text/plain": [
              "<IPython.core.display.HTML object>"
            ],
            "text/html": [
              "<script src=\"https://dashboard.talentsprint.com/aiml/record_ip.html?traineeId=2305750&recordId=4216\"></script>"
            ]
          },
          "metadata": {}
        },
        {
          "output_type": "stream",
          "name": "stdout",
          "text": [
            "Setup completed successfully\n"
          ]
        }
      ],
      "source": [
        "#@title Run this cell to complete the setup for this Notebook\n",
        "from IPython import get_ipython\n",
        "\n",
        "ipython = get_ipython()\n",
        "\n",
        "notebook= \"M4_AST_01_Monitoring_Resources_Psutil_C\" #name of the notebook\n",
        "\n",
        "def setup():\n",
        "#  ipython.magic(\"sx pip3 install torch\")\n",
        "    from IPython.display import HTML, display\n",
        "    display(HTML('<script src=\"https://dashboard.talentsprint.com/aiml/record_ip.html?traineeId={0}&recordId={1}\"></script>'.format(getId(),submission_id)))\n",
        "    print(\"Setup completed successfully\")\n",
        "    return\n",
        "\n",
        "def submit_notebook():\n",
        "    ipython.magic(\"notebook -e \"+ notebook + \".ipynb\")\n",
        "\n",
        "    import requests, json, base64, datetime\n",
        "\n",
        "    url = \"https://dashboard.talentsprint.com/xp/app/save_notebook_attempts\"\n",
        "    if not submission_id:\n",
        "      data = {\"id\" : getId(), \"notebook\" : notebook, \"mobile\" : getPassword()}\n",
        "      r = requests.post(url, data = data)\n",
        "      r = json.loads(r.text)\n",
        "\n",
        "      if r[\"status\"] == \"Success\":\n",
        "          return r[\"record_id\"]\n",
        "      elif \"err\" in r:\n",
        "        print(r[\"err\"])\n",
        "        return None\n",
        "      else:\n",
        "        print (\"Something is wrong, the notebook will not be submitted for grading\")\n",
        "        return None\n",
        "\n",
        "    elif getAnswer() and getComplexity() and getAdditional() and getConcepts() and getComments() and getMentorSupport():\n",
        "      f = open(notebook + \".ipynb\", \"rb\")\n",
        "      file_hash = base64.b64encode(f.read())\n",
        "\n",
        "      data = {\"complexity\" : Complexity, \"additional\" :Additional,\n",
        "              \"concepts\" : Concepts, \"record_id\" : submission_id,\n",
        "              \"answer\" : Answer, \"id\" : Id, \"file_hash\" : file_hash,\n",
        "              \"notebook\" : notebook,\n",
        "              \"feedback_experiments_input\" : Comments,\n",
        "              \"feedback_mentor_support\": Mentor_support}\n",
        "      r = requests.post(url, data = data)\n",
        "      r = json.loads(r.text)\n",
        "      if \"err\" in r:\n",
        "        print(r[\"err\"])\n",
        "        return None\n",
        "      else:\n",
        "        print(\"Your submission is successful.\")\n",
        "        print(\"Ref Id:\", submission_id)\n",
        "        print(\"Date of submission: \", r[\"date\"])\n",
        "        print(\"Time of submission: \", r[\"time\"])\n",
        "        print(\"View your submissions: https://cds-iisc.talentsprint.com/notebook_submissions\")\n",
        "        #print(\"For any queries/discrepancies, please connect with mentors through the chat icon in LMS dashboard.\")\n",
        "        return submission_id\n",
        "    else: submission_id\n",
        "\n",
        "\n",
        "def getAdditional():\n",
        "  try:\n",
        "    if not Additional:\n",
        "      raise NameError\n",
        "    else:\n",
        "      return Additional\n",
        "  except NameError:\n",
        "    print (\"Please answer Additional Question\")\n",
        "    return None\n",
        "\n",
        "def getComplexity():\n",
        "  try:\n",
        "    if not Complexity:\n",
        "      raise NameError\n",
        "    else:\n",
        "      return Complexity\n",
        "  except NameError:\n",
        "    print (\"Please answer Complexity Question\")\n",
        "    return None\n",
        "\n",
        "def getConcepts():\n",
        "  try:\n",
        "    if not Concepts:\n",
        "      raise NameError\n",
        "    else:\n",
        "      return Concepts\n",
        "  except NameError:\n",
        "    print (\"Please answer Concepts Question\")\n",
        "    return None\n",
        "\n",
        "\n",
        "# def getWalkthrough():\n",
        "#   try:\n",
        "#     if not Walkthrough:\n",
        "#       raise NameError\n",
        "#     else:\n",
        "#       return Walkthrough\n",
        "#   except NameError:\n",
        "#     print (\"Please answer Walkthrough Question\")\n",
        "#     return None\n",
        "\n",
        "def getComments():\n",
        "  try:\n",
        "    if not Comments:\n",
        "      raise NameError\n",
        "    else:\n",
        "      return Comments\n",
        "  except NameError:\n",
        "    print (\"Please answer Comments Question\")\n",
        "    return None\n",
        "\n",
        "\n",
        "def getMentorSupport():\n",
        "  try:\n",
        "    if not Mentor_support:\n",
        "      raise NameError\n",
        "    else:\n",
        "      return Mentor_support\n",
        "  except NameError:\n",
        "    print (\"Please answer Mentor support Question\")\n",
        "    return None\n",
        "\n",
        "def getAnswer():\n",
        "  try:\n",
        "    if not Answer:\n",
        "      raise NameError\n",
        "    else:\n",
        "      return Answer\n",
        "  except NameError:\n",
        "    print (\"Please answer Question\")\n",
        "    return None\n",
        "\n",
        "\n",
        "def getId():\n",
        "  try:\n",
        "    return Id if Id else None\n",
        "  except NameError:\n",
        "    return None\n",
        "\n",
        "def getPassword():\n",
        "  try:\n",
        "    return password if password else None\n",
        "  except NameError:\n",
        "    return None\n",
        "\n",
        "submission_id = None\n",
        "### Setup\n",
        "if getPassword() and getId():\n",
        "  submission_id = submit_notebook()\n",
        "  if submission_id:\n",
        "    setup()\n",
        "else:\n",
        "  print (\"Please complete Id and Password cells before running setup\")\n",
        "\n"
      ]
    },
    {
      "cell_type": "markdown",
      "metadata": {
        "id": "MyQKyEYTRur0"
      },
      "source": [
        "### Import required packages"
      ]
    },
    {
      "cell_type": "code",
      "execution_count": 5,
      "metadata": {
        "id": "bS5lt3DVSTAo"
      },
      "outputs": [],
      "source": [
        "# Importing libraries\n",
        "import psutil\n",
        "import platform"
      ]
    },
    {
      "cell_type": "markdown",
      "metadata": {
        "id": "OGlHC1XwM9oO"
      },
      "source": [
        "### System profile\n",
        "\n",
        "\n"
      ]
    },
    {
      "cell_type": "markdown",
      "metadata": {
        "id": "OTaqBW63yaUW"
      },
      "source": [
        "Here we will explore the Psutil functions that helps us explore about the system."
      ]
    },
    {
      "cell_type": "markdown",
      "metadata": {
        "id": "0dQu-hk6NC1Q"
      },
      "source": [
        "Profile your system to know the system name, OS version, if the system is a 64-bit architecture or 32-bit architecture, number of physical and virtual cores, and the max and min frequency of the CPU."
      ]
    },
    {
      "cell_type": "code",
      "execution_count": 6,
      "metadata": {
        "id": "LTDe0WqfTNxM",
        "colab": {
          "base_uri": "https://localhost:8080/"
        },
        "outputId": "4d59bdef-e892-4bb8-dfca-b5dd62ae0e54"
      },
      "outputs": [
        {
          "output_type": "stream",
          "name": "stdout",
          "text": [
            "System: Linux\n"
          ]
        }
      ],
      "source": [
        "#Windows or Linux\n",
        "uname = platform.uname()\n",
        "print(f\"System: {uname.system}\")"
      ]
    },
    {
      "cell_type": "code",
      "execution_count": 7,
      "metadata": {
        "id": "oASnVEpxTd1L",
        "colab": {
          "base_uri": "https://localhost:8080/"
        },
        "outputId": "60f34347-4b48-45b0-8fb0-047b0678da9b"
      },
      "outputs": [
        {
          "output_type": "stream",
          "name": "stdout",
          "text": [
            "Node Name: d7a458e3e9e1\n"
          ]
        }
      ],
      "source": [
        "# System name\n",
        "print(f\"Node Name: {uname.node}\")"
      ]
    },
    {
      "cell_type": "code",
      "execution_count": 8,
      "metadata": {
        "id": "OaJZB4mgTmwC",
        "colab": {
          "base_uri": "https://localhost:8080/"
        },
        "outputId": "3d4b1961-b0c9-4669-bd7b-d2285eeb6117"
      },
      "outputs": [
        {
          "output_type": "stream",
          "name": "stdout",
          "text": [
            "Release: 6.1.85+\n"
          ]
        }
      ],
      "source": [
        "# OS release version like  10(Windows) or 5.4.0-72-generic(linux)\n",
        "print(f\"Release: {uname.release}\")"
      ]
    },
    {
      "cell_type": "code",
      "execution_count": 9,
      "metadata": {
        "id": "ltrJxgASTrmJ",
        "colab": {
          "base_uri": "https://localhost:8080/"
        },
        "outputId": "644d3d04-4284-4114-ba1e-789156b73750"
      },
      "outputs": [
        {
          "output_type": "stream",
          "name": "stdout",
          "text": [
            "Version: #1 SMP PREEMPT_DYNAMIC Thu Jun 27 21:05:47 UTC 2024\n"
          ]
        }
      ],
      "source": [
        "print(f\"Version: {uname.version}\")"
      ]
    },
    {
      "cell_type": "code",
      "execution_count": 10,
      "metadata": {
        "id": "8xVRnYS4Tvbd",
        "colab": {
          "base_uri": "https://localhost:8080/"
        },
        "outputId": "23bba05b-ae7c-4cb2-94c2-22133985a774"
      },
      "outputs": [
        {
          "output_type": "stream",
          "name": "stdout",
          "text": [
            "Machine: x86_64\n"
          ]
        }
      ],
      "source": [
        "# machine can be AMD64 or x86-64\n",
        "print(f\"Machine: {uname.machine}\")"
      ]
    },
    {
      "cell_type": "code",
      "execution_count": 11,
      "metadata": {
        "id": "fIYZtCa3T1Xt",
        "colab": {
          "base_uri": "https://localhost:8080/"
        },
        "outputId": "07b06419-2cb8-45e0-b546-42fb1cdbe95e"
      },
      "outputs": [
        {
          "output_type": "stream",
          "name": "stdout",
          "text": [
            "Processor: x86_64\n"
          ]
        }
      ],
      "source": [
        "#  Intel64 Family 6 or x86_64\n",
        "print(f\"Processor: {uname.processor}\")"
      ]
    },
    {
      "cell_type": "code",
      "execution_count": 12,
      "metadata": {
        "id": "oFQ1-bP33LKT",
        "colab": {
          "base_uri": "https://localhost:8080/"
        },
        "outputId": "e561fab7-5028-4e28-ad4b-a2e896e2707a"
      },
      "outputs": [
        {
          "output_type": "stream",
          "name": "stdout",
          "text": [
            "Physical cores: 1\n"
          ]
        }
      ],
      "source": [
        "#Number of physical cores\n",
        "print(\"Physical cores:\", psutil.cpu_count(logical=False))"
      ]
    },
    {
      "cell_type": "code",
      "execution_count": 13,
      "metadata": {
        "id": "62_JA_gx3aoJ",
        "colab": {
          "base_uri": "https://localhost:8080/"
        },
        "outputId": "d9126e14-92bb-453a-aed1-a6b9cfb62e49"
      },
      "outputs": [
        {
          "output_type": "stream",
          "name": "stdout",
          "text": [
            "Total cores: 2\n"
          ]
        }
      ],
      "source": [
        "print(\"Total cores:\", psutil.cpu_count(logical=True))"
      ]
    },
    {
      "cell_type": "markdown",
      "metadata": {
        "id": "wxT98sb37UsO"
      },
      "source": [
        "* user – time spent by normal processes executing in user mode.\n",
        "* system – time spent by processes executing in kernel mode.\n",
        "* idle – time when system was idle.\n",
        "* nice – time spent by priority processes executing in user mode.\n",
        "* iowait – time spent waiting for I/O to complete. This is not accounted in idle time counter.\n",
        "* irq – time spent for servicing hardware interrupts.\n",
        "* softirq – time spent for servicing software interrupts.\n",
        "* steal – time spent by other operating systems running in a virtualized environment.\n",
        "* guest – time spent running a virtual CPU for guest operating systems under the control of the Linux kernel."
      ]
    },
    {
      "cell_type": "code",
      "execution_count": 14,
      "metadata": {
        "id": "h-WVLHPQ7GjP",
        "colab": {
          "base_uri": "https://localhost:8080/"
        },
        "outputId": "3d272e1b-8f9c-44b1-bd2b-cc70036ef9c7"
      },
      "outputs": [
        {
          "output_type": "stream",
          "name": "stdout",
          "text": [
            "scputimes(user=70.79, nice=0.0, system=42.14, idle=54.52, iowait=25.11, irq=0.0, softirq=2.84, steal=0.41, guest=0.0, guest_nice=0.0)\n"
          ]
        }
      ],
      "source": [
        "print(psutil.cpu_times())"
      ]
    },
    {
      "cell_type": "markdown",
      "metadata": {
        "id": "omjty3C0760v"
      },
      "source": [
        "This function calculates the current system-wide percentage CPU utilization. It is recommended to provide time interval (seconds) as parameter to the function over which the average CPU usage will be calculated; ignoring the interval parameter could result in high variation in usage values."
      ]
    },
    {
      "cell_type": "code",
      "execution_count": 15,
      "metadata": {
        "id": "b_5uSgda7uYY",
        "colab": {
          "base_uri": "https://localhost:8080/"
        },
        "outputId": "45ea3add-7dfe-494c-b086-64fe1143eaef"
      },
      "outputs": [
        {
          "output_type": "stream",
          "name": "stdout",
          "text": [
            "93.0\n"
          ]
        }
      ],
      "source": [
        "print(psutil.cpu_percent(1))"
      ]
    },
    {
      "cell_type": "markdown",
      "metadata": {
        "id": "i6JwFHPv8TTX"
      },
      "source": [
        "* ctx_switches – number of context switches since boot.\n",
        "* interrupts – number of interrupts since boot.\n",
        "* soft_interrupts – number of software interrupts since boot.\n",
        "* syscalls – number of system calls since boot. Always set to 0 in Ubuntu."
      ]
    },
    {
      "cell_type": "code",
      "execution_count": 16,
      "metadata": {
        "id": "RDoL2trS8M2B",
        "colab": {
          "base_uri": "https://localhost:8080/"
        },
        "outputId": "dce296d2-4342-435d-8794-c993491bb57e"
      },
      "outputs": [
        {
          "output_type": "stream",
          "name": "stdout",
          "text": [
            "CPU Statistics scpustats(ctx_switches=1468986, interrupts=617393, soft_interrupts=491689, syscalls=0)\n"
          ]
        }
      ],
      "source": [
        "print(\"CPU Statistics\", psutil.cpu_stats())"
      ]
    },
    {
      "cell_type": "code",
      "execution_count": 17,
      "metadata": {
        "id": "JOjYAJ2DEbEO",
        "colab": {
          "base_uri": "https://localhost:8080/"
        },
        "outputId": "4d33d9d5-2339-4dc1-de5d-d505b30492b2"
      },
      "outputs": [
        {
          "output_type": "stream",
          "name": "stdout",
          "text": [
            "1725252067.0\n"
          ]
        }
      ],
      "source": [
        "print(psutil.boot_time())"
      ]
    },
    {
      "cell_type": "markdown",
      "metadata": {
        "id": "1OJEcJjQEhkt"
      },
      "source": [
        " This function returns the system boot time which is expressed in seconds since the epoch."
      ]
    },
    {
      "cell_type": "markdown",
      "metadata": {
        "id": "_Y6wYXpvxIgQ"
      },
      "source": [
        "### Monitoring and Limiting Memory"
      ]
    },
    {
      "cell_type": "markdown",
      "metadata": {
        "id": "3e2qHmGAxTLw"
      },
      "source": [
        "Virtual memory is a combination of RAM and the disk space that all the processes running on the CPU use, while Swap space is the portion of virtual memory on the hard disk used by the running processes when the RAM is full."
      ]
    },
    {
      "cell_type": "markdown",
      "metadata": {
        "id": "c58Qgs0E_XVd"
      },
      "source": [
        "* total – total physical memory excluding swap.\n",
        "* available – the memory that can be given instantly to processes without the system going into swap.\n",
        "* used – memory used.\n",
        "* free – memory not used at and is readily available\n",
        "* active – memory currently in use or very recently used.\n",
        "* inactive – memory that is marked as not used.\n",
        "* buffers – cache data like file system metadata.\n",
        "* cached – cached data\n",
        "* shared – memory that may be accessed by multiple processes."
      ]
    },
    {
      "cell_type": "code",
      "execution_count": 18,
      "metadata": {
        "id": "CtTSBek1-bA8",
        "colab": {
          "base_uri": "https://localhost:8080/"
        },
        "outputId": "7c11001f-ec68-4ac5-82c3-4a77f5e511c6"
      },
      "outputs": [
        {
          "output_type": "stream",
          "name": "stdout",
          "text": [
            "svmem(total=13609431040, available=12391448576, percent=8.9, used=883204096, free=7657869312, active=630603776, inactive=4977463296, buffers=317427712, cached=4750929920, shared=1634304, slab=241831936)\n"
          ]
        }
      ],
      "source": [
        "print(psutil.virtual_memory())"
      ]
    },
    {
      "cell_type": "markdown",
      "metadata": {
        "id": "9M6Q5IYx_nIV"
      },
      "source": [
        "* total – total swap memory in bytes\n",
        "* used – used swap memory in bytes\n",
        "* free – free swap memory in bytes\n",
        "* percent – the percentage usage that is calculated as (total – available) / total * 100\n",
        "* sin – the number of bytes the system has swapped in from disk\n",
        "* sout – the number of bytes the system has swapped out from disk"
      ]
    },
    {
      "cell_type": "code",
      "execution_count": 19,
      "metadata": {
        "id": "V-c5C3SP_jdi",
        "colab": {
          "base_uri": "https://localhost:8080/"
        },
        "outputId": "4b68a31a-7b0e-416f-c1d7-91d91befa861"
      },
      "outputs": [
        {
          "output_type": "stream",
          "name": "stdout",
          "text": [
            "sswap(total=0, used=0, free=0, percent=0.0, sin=0, sout=0)\n"
          ]
        }
      ],
      "source": [
        "print(psutil.swap_memory())"
      ]
    },
    {
      "cell_type": "code",
      "execution_count": 20,
      "metadata": {
        "id": "75p_NTu6zBgh"
      },
      "outputs": [],
      "source": [
        "def get_size(bytes, suffix=\"B\"):\n",
        "    \"\"\"\n",
        "    Scale bytes to its proper format- KB, MB, GB, TB and PB\n",
        "    \"\"\"\n",
        "    factor = 1024\n",
        "    for unit in [\"\", \"K\", \"M\", \"G\", \"T\", \"P\"]:\n",
        "        if bytes < factor:\n",
        "            return f\"{bytes:.2f}{unit}{suffix}\"\n",
        "        bytes /= factor"
      ]
    },
    {
      "cell_type": "code",
      "execution_count": 21,
      "metadata": {
        "id": "HHOeRICOT51i",
        "colab": {
          "base_uri": "https://localhost:8080/"
        },
        "outputId": "75763c52-9f9b-4b78-ed93-913fe0b95349"
      },
      "outputs": [
        {
          "output_type": "stream",
          "name": "stdout",
          "text": [
            "Virtual memory\n",
            "Total: 12.67GB\n",
            "Available: 11.54GB\n",
            "Used: 842.47MB\n",
            "Percentage: 9.0%\n"
          ]
        }
      ],
      "source": [
        "print(\"Virtual memory\")\n",
        "svmem = psutil.virtual_memory()\n",
        "print(f\"Total: {get_size(svmem.total)}\")\n",
        "print(f\"Available: {get_size(svmem.available)}\")\n",
        "print(f\"Used: {get_size(svmem.used)}\")\n",
        "print(f\"Percentage: {svmem.percent}%\")\n"
      ]
    },
    {
      "cell_type": "code",
      "execution_count": 22,
      "metadata": {
        "id": "0iCW2vU4T5y6",
        "colab": {
          "base_uri": "https://localhost:8080/"
        },
        "outputId": "f1e53002-9968-4100-e0e8-b042d6c0f337"
      },
      "outputs": [
        {
          "output_type": "stream",
          "name": "stdout",
          "text": [
            "SWAP memory\n",
            "Total: 0.00B\n",
            "Free: 0.00B\n",
            "Used: 0.00B\n",
            "Percentage: 0.0%\n"
          ]
        }
      ],
      "source": [
        "# get the swap memory details (if exists)\n",
        "swap = psutil.swap_memory()\n",
        "print(\"SWAP memory\")\n",
        "print(f\"Total: {get_size(swap.total)}\")\n",
        "print(f\"Free: {get_size(swap.free)}\")\n",
        "print(f\"Used: {get_size(swap.used)}\")\n",
        "print(f\"Percentage: {swap.percent}%\")"
      ]
    },
    {
      "cell_type": "markdown",
      "metadata": {
        "id": "dmIexmaC1flj"
      },
      "source": [
        "### Monitoring and Limiting Hard Disk Space"
      ]
    },
    {
      "cell_type": "markdown",
      "metadata": {
        "id": "Gmg3Gj_fBDxR"
      },
      "source": [
        "This function provides the details of all mounted disk partitions as a list of tuples including device, mount point and filesystem type."
      ]
    },
    {
      "cell_type": "code",
      "execution_count": 23,
      "metadata": {
        "id": "1ayZORSqBEnU",
        "colab": {
          "base_uri": "https://localhost:8080/"
        },
        "outputId": "c2fda4c1-cbc0-4adf-a25f-fda3db0f57c5"
      },
      "outputs": [
        {
          "output_type": "stream",
          "name": "stdout",
          "text": [
            "[sdiskpart(device='/dev/root', mountpoint='/usr/sbin/docker-init', fstype='ext2', opts='ro,relatime', maxfile=255, maxpath=4096), sdiskpart(device='/dev/sda1', mountpoint='/etc/resolv.conf', fstype='ext4', opts='rw,nosuid,nodev,relatime,commit=30', maxfile=255, maxpath=4096), sdiskpart(device='/dev/sda1', mountpoint='/etc/hostname', fstype='ext4', opts='rw,nosuid,nodev,relatime,commit=30', maxfile=255, maxpath=4096), sdiskpart(device='/dev/sda1', mountpoint='/etc/hosts', fstype='ext4', opts='rw,nosuid,nodev,relatime,commit=30', maxfile=255, maxpath=4096)]\n"
          ]
        }
      ],
      "source": [
        "print(psutil.disk_partitions())"
      ]
    },
    {
      "cell_type": "markdown",
      "metadata": {
        "id": "0znGv7uNBZRu"
      },
      "source": [
        " This function gives disk usage statistics as a tuple for a given path. Total, used and free space are expressed in bytes, along with the percentage usage."
      ]
    },
    {
      "cell_type": "code",
      "execution_count": 24,
      "metadata": {
        "id": "JsA7Wg6cBU-t",
        "colab": {
          "base_uri": "https://localhost:8080/"
        },
        "outputId": "0cd4d60f-425f-42bf-fe77-c15479a7d052"
      },
      "outputs": [
        {
          "output_type": "stream",
          "name": "stdout",
          "text": [
            "sdiskusage(total=115658190848, used=40565923840, free=75075489792, percent=35.1)\n"
          ]
        }
      ],
      "source": [
        "print(psutil.disk_usage('/'))"
      ]
    },
    {
      "cell_type": "code",
      "execution_count": 25,
      "metadata": {
        "id": "sa7J9umqzfTi",
        "colab": {
          "base_uri": "https://localhost:8080/"
        },
        "outputId": "66acb979-2fed-4a20-c6c9-d6415658e2ef"
      },
      "outputs": [
        {
          "output_type": "stream",
          "name": "stdout",
          "text": [
            "Hard Disk Information\n",
            "Partitions and Usage:\n",
            "Device: /dev/root\n",
            "Partition Mountpoint:  /usr/sbin/docker-init\n",
            "Partition File system type ext2\n",
            "Total Size:  1.93GB\n",
            "Used Space:  1.13GB\n",
            "Free hard disk Space 819.42MB\n",
            "Hard disk Used Percentage:  58.5 %\n",
            "Device: /dev/sda1\n",
            "Partition Mountpoint:  /etc/resolv.conf\n",
            "Partition File system type ext4\n",
            "Total Size:  69.65GB\n",
            "Used Space:  52.18GB\n",
            "Free hard disk Space 17.45GB\n",
            "Hard disk Used Percentage:  74.9 %\n",
            "Device: /dev/sda1\n",
            "Partition Mountpoint:  /etc/hostname\n",
            "Partition File system type ext4\n",
            "Total Size:  69.65GB\n",
            "Used Space:  52.18GB\n",
            "Free hard disk Space 17.45GB\n",
            "Hard disk Used Percentage:  74.9 %\n",
            "Device: /dev/sda1\n",
            "Partition Mountpoint:  /etc/hosts\n",
            "Partition File system type ext4\n",
            "Total Size:  69.65GB\n",
            "Used Space:  52.18GB\n",
            "Free hard disk Space 17.45GB\n",
            "Hard disk Used Percentage:  74.9 %\n"
          ]
        }
      ],
      "source": [
        "print( \"Hard Disk Information\")\n",
        "print(\"Partitions and Usage:\")\n",
        "# get all disk partitions on the device\n",
        "partitions = psutil.disk_partitions()\n",
        "for partition in partitions:\n",
        "    print(\"Device:\",partition.device)\n",
        "    print(\"Partition Mountpoint: \",partition.mountpoint)\n",
        "    print(\"Partition File system type\",partition.fstype)\n",
        "    try:\n",
        "        partition_usage = psutil.disk_usage(partition.mountpoint)\n",
        "    except PermissionError:\n",
        "        continue\n",
        "    print(\"Total Size: \", get_size(partition_usage.total))\n",
        "    print(\"Used Space: \", get_size(partition_usage.used))\n",
        "    print(\"Free hard disk Space\", get_size(partition_usage.free))\n",
        "    print(\"Hard disk Used Percentage: \", partition_usage.percent, \"%\")\n",
        "    if(partition_usage.percent >82):\n",
        "        print(\"Disk space nearing full\")"
      ]
    },
    {
      "cell_type": "markdown",
      "metadata": {
        "id": "u8fmsdwh4F7u"
      },
      "source": [
        "### Monitoring and Limiting Network Usage"
      ]
    },
    {
      "cell_type": "markdown",
      "metadata": {
        "id": "G6GSCkFu4vQz"
      },
      "source": [
        "All network protocols are associated with a specific address family. An address family provides services like packet fragmentation and reassembly, routing, addressing, and transporting. The address family provides interprocess communication between processes that run on the same system or different systems."
      ]
    },
    {
      "cell_type": "markdown",
      "metadata": {
        "id": "CQoWeAK84yCb"
      },
      "source": [
        "An address family is normally comprised of several protocols, one per socket type."
      ]
    },
    {
      "cell_type": "markdown",
      "metadata": {
        "id": "FZqQ0Kkc42oM"
      },
      "source": [
        "Different networks address families and their purpose:\n",
        "* AF_INET: IPv4 Internet protocols\n",
        "* AF_INET6: IPv6 Internet protocols\n",
        "* AF_NETLINK: Kernel user interface device\n",
        "* AF_PACKET: Low-level packet interface"
      ]
    },
    {
      "cell_type": "markdown",
      "metadata": {
        "id": "5QIAXPV9D62q"
      },
      "source": [
        "* family – the socket family, either AF_INET or AF_INET6\n",
        "* address – the primary NIC address\n",
        "* netmask – the netmask address\n",
        "* broadcast – the broadcast address.\n",
        "* ptp – “point to point” it is the destination address on a point to point interface."
      ]
    },
    {
      "cell_type": "code",
      "execution_count": 26,
      "metadata": {
        "id": "RoutNlzHD3Up",
        "colab": {
          "base_uri": "https://localhost:8080/"
        },
        "outputId": "3abe5e6b-a054-4e04-efb5-a0ba0898eabe"
      },
      "outputs": [
        {
          "output_type": "stream",
          "name": "stdout",
          "text": [
            "{'lo': [snicaddr(family=<AddressFamily.AF_INET: 2>, address='127.0.0.1', netmask='255.0.0.0', broadcast=None, ptp=None), snicaddr(family=<AddressFamily.AF_PACKET: 17>, address='00:00:00:00:00:00', netmask=None, broadcast=None, ptp=None)], 'eth0': [snicaddr(family=<AddressFamily.AF_INET: 2>, address='172.28.0.12', netmask='255.255.0.0', broadcast='172.28.255.255', ptp=None), snicaddr(family=<AddressFamily.AF_PACKET: 17>, address='02:42:ac:1c:00:0c', netmask=None, broadcast='ff:ff:ff:ff:ff:ff', ptp=None)]}\n"
          ]
        }
      ],
      "source": [
        "print(psutil.net_if_addrs())"
      ]
    },
    {
      "cell_type": "code",
      "execution_count": 27,
      "metadata": {
        "id": "gaVwcCCwzf70",
        "colab": {
          "base_uri": "https://localhost:8080/"
        },
        "outputId": "b056e35a-82b8-4a49-8241-1c218443d9c7"
      },
      "outputs": [
        {
          "output_type": "stream",
          "name": "stdout",
          "text": [
            "Network Information\n",
            " Interface:  lo\n",
            "  IP Address:  127.0.0.1\n",
            "  Netmask:  255.0.0.0\n",
            "  Broadcast IPv4:  None\n",
            " Interface:  lo\n",
            "  MAC Address: {address.address}\n",
            "  Netmask: {address.netmask}\n",
            "  Broadcast MAC: {address.broadcast}\n",
            " Interface:  eth0\n",
            "  IP Address:  172.28.0.12\n",
            "  Netmask:  255.255.0.0\n",
            "  Broadcast IPv4:  172.28.255.255\n",
            " Interface:  eth0\n",
            "  MAC Address: {address.address}\n",
            "  Netmask: {address.netmask}\n",
            "  Broadcast MAC: {address.broadcast}\n"
          ]
        }
      ],
      "source": [
        "print( \"Network Information\")\n",
        "# get all network interfaces (virtual and physical)\n",
        "if_addrs = psutil.net_if_addrs()\n",
        "for interface_name, interface_addresses in if_addrs.items():\n",
        "    for address in interface_addresses:\n",
        "        print(\" Interface: \", interface_name)\n",
        "        if str(address.family) == 'AddressFamily.AF_INET':\n",
        "            print(\"  IP Address: \", address.address)\n",
        "            print(\"  Netmask: \", address.netmask)\n",
        "            print(\"  Broadcast IPv4: \",address.broadcast)\n",
        "        elif str(address.family) == 'AddressFamily.AF_PACKET':\n",
        "            print(\"  MAC Address: {address.address}\")\n",
        "            print(\"  Netmask: {address.netmask}\")\n",
        "            print(\"  Broadcast MAC: {address.broadcast}\")\n",
        "        elif str(address.family) == 'AddressFamily.AF_INET6':\n",
        "            print(\"  IP Address: \", address.address)\n",
        "            print(\"  Netmask: \", address.netmask)\n",
        "            print(\"  Broadcast IPv6: \",address.broadcast)"
      ]
    },
    {
      "cell_type": "markdown",
      "metadata": {
        "id": "yk2ruqSa5KcN"
      },
      "source": [
        " Return system-wide network I/O statistics like bytes sent, bytes received, incoming packets that were dropped, or outgoing packets dropped"
      ]
    },
    {
      "cell_type": "markdown",
      "metadata": {
        "id": "JfJn-bvPCvQL"
      },
      "source": [
        "* bytes_sent – number of bytes sent\n",
        "* bytes_recv – number of bytes received\n",
        "* packets_sent – number of packets sent\n",
        "* packets_recv – number of packets received\n",
        "* errin – total number of errors while receiving\n",
        "* errout – total number of errors while sending\n",
        "* dropin – total number of incoming packets which were dropped\n",
        "* dropout – total number of outgoing packets which were dropped"
      ]
    },
    {
      "cell_type": "code",
      "execution_count": 28,
      "metadata": {
        "id": "i_wp0SqmCrA0",
        "colab": {
          "base_uri": "https://localhost:8080/"
        },
        "outputId": "d4c9debe-6755-4079-d207-85a8196ee6cb"
      },
      "outputs": [
        {
          "output_type": "stream",
          "name": "stdout",
          "text": [
            "snetio(bytes_sent=432144, bytes_recv=464051, packets_sent=1059, packets_recv=1111, errin=0, errout=0, dropin=0, dropout=0)\n"
          ]
        }
      ],
      "source": [
        "print(psutil.net_io_counters())"
      ]
    },
    {
      "cell_type": "code",
      "execution_count": 29,
      "metadata": {
        "id": "LHdmkaG6zgAs",
        "colab": {
          "base_uri": "https://localhost:8080/"
        },
        "outputId": "acb6a154-c923-4d85-dae7-4fd833cc5fe4"
      },
      "outputs": [
        {
          "output_type": "stream",
          "name": "stdout",
          "text": [
            "Total Bytes Sent:  424.77KB\n",
            "Total Bytes Received:  455.93KB\n",
            "Total outgoing packets dropped:  0\n",
            "Total incoming packets dropped: 0\n",
            "Total outgoing errors:  0\n",
            "Total incoming errors: 0\n"
          ]
        }
      ],
      "source": [
        "net_io = psutil.net_io_counters()\n",
        "print(\"Total Bytes Sent: \", get_size(net_io.bytes_sent))\n",
        "print(\"Total Bytes Received: \", get_size(net_io.bytes_recv))\n",
        "print(\"Total outgoing packets dropped: \", net_io.dropin)\n",
        "print(\"Total incoming packets dropped:\", net_io.dropout)\n",
        "print(\"Total outgoing errors: \", net_io.errout)\n",
        "print(\"Total incoming errors:\", net_io.errin)"
      ]
    },
    {
      "cell_type": "markdown",
      "metadata": {
        "id": "9l8eRVJlDFrV"
      },
      "source": [
        "This function gives the list of socket connections of a system as a named tuples."
      ]
    },
    {
      "cell_type": "markdown",
      "metadata": {
        "id": "BD3MbSdUDIIk"
      },
      "source": [
        "* fd – the socket file descriptor.\n",
        "* family – the socket family, either AF_INET, AF_INET6 or AF_UNIX.\n",
        "* type – the socket type, either SOCK_STREAM, SOCK_DGRAM or SOCK_SEQPACKET.\n",
        "* laddr – the local address as a (ip, port) named tuple\n",
        "* raddr – the remote address as a (ip, port) named tuple\n",
        "* status – represents the status of a TCP connection.\n",
        "* pid – the PID of the process which opened the socket, if retrievable, else None."
      ]
    },
    {
      "cell_type": "code",
      "execution_count": 30,
      "metadata": {
        "id": "gqySXOxjC_Ov",
        "colab": {
          "base_uri": "https://localhost:8080/"
        },
        "outputId": "3b703c9b-e8e9-42eb-f10e-ebdb233d2fa5"
      },
      "outputs": [
        {
          "output_type": "stream",
          "name": "stdout",
          "text": [
            "[sconn(fd=6, family=<AddressFamily.AF_INET: 2>, type=<SocketKind.SOCK_STREAM: 1>, laddr=addr(ip='172.28.0.12', port=6000), raddr=addr(ip='172.28.0.12', port=60236), status='ESTABLISHED', pid=19), sconn(fd=5, family=<AddressFamily.AF_INET: 2>, type=<SocketKind.SOCK_STREAM: 1>, laddr=addr(ip='127.0.0.1', port=50669), raddr=(), status='LISTEN', pid=356), sconn(fd=3, family=<AddressFamily.AF_INET: 2>, type=<SocketKind.SOCK_STREAM: 1>, laddr=addr(ip='127.0.0.1', port=40165), raddr=(), status='LISTEN', pid=356), sconn(fd=-1, family=<AddressFamily.AF_INET: 2>, type=<SocketKind.SOCK_STREAM: 1>, laddr=addr(ip='172.28.0.12', port=6000), raddr=addr(ip='172.28.0.12', port=43730), status='TIME_WAIT', pid=None), sconn(fd=36, family=<AddressFamily.AF_INET6: 10>, type=<SocketKind.SOCK_STREAM: 1>, laddr=addr(ip='::ffff:172.28.0.12', port=8080), raddr=addr(ip='::ffff:172.28.0.1', port=49386), status='ESTABLISHED', pid=7), sconn(fd=-1, family=<AddressFamily.AF_INET: 2>, type=<SocketKind.SOCK_DGRAM: 2>, laddr=addr(ip='127.0.0.11', port=39057), raddr=(), status='NONE', pid=None), sconn(fd=-1, family=<AddressFamily.AF_INET: 2>, type=<SocketKind.SOCK_STREAM: 1>, laddr=addr(ip='172.28.0.12', port=6000), raddr=addr(ip='172.28.0.12', port=57932), status='TIME_WAIT', pid=None), sconn(fd=31, family=<AddressFamily.AF_INET6: 10>, type=<SocketKind.SOCK_STREAM: 1>, laddr=addr(ip='::ffff:172.28.0.12', port=8080), raddr=addr(ip='::ffff:172.28.0.1', port=49372), status='ESTABLISHED', pid=7), sconn(fd=3, family=<AddressFamily.AF_INET: 2>, type=<SocketKind.SOCK_STREAM: 1>, laddr=addr(ip='172.28.0.12', port=6000), raddr=(), status='LISTEN', pid=19), sconn(fd=7, family=<AddressFamily.AF_INET: 2>, type=<SocketKind.SOCK_STREAM: 1>, laddr=addr(ip='172.28.0.12', port=9000), raddr=(), status='LISTEN', pid=85), sconn(fd=4, family=<AddressFamily.AF_INET: 2>, type=<SocketKind.SOCK_STREAM: 1>, laddr=addr(ip='127.0.0.1', port=40165), raddr=addr(ip='127.0.0.1', port=45130), status='ESTABLISHED', pid=356), sconn(fd=8, family=<AddressFamily.AF_INET: 2>, type=<SocketKind.SOCK_STREAM: 1>, laddr=addr(ip='172.28.0.12', port=56008), raddr=addr(ip='172.28.0.12', port=9000), status='ESTABLISHED', pid=19), sconn(fd=8, family=<AddressFamily.AF_INET: 2>, type=<SocketKind.SOCK_STREAM: 1>, laddr=addr(ip='172.28.0.12', port=9000), raddr=addr(ip='172.28.0.12', port=48132), status='ESTABLISHED', pid=85), sconn(fd=27, family=<AddressFamily.AF_INET6: 10>, type=<SocketKind.SOCK_STREAM: 1>, laddr=addr(ip='::ffff:172.28.0.12', port=8080), raddr=addr(ip='::ffff:172.28.0.1', port=49360), status='ESTABLISHED', pid=7), sconn(fd=-1, family=<AddressFamily.AF_INET: 2>, type=<SocketKind.SOCK_STREAM: 1>, laddr=addr(ip='127.0.0.11', port=33603), raddr=(), status='LISTEN', pid=None), sconn(fd=21, family=<AddressFamily.AF_INET6: 10>, type=<SocketKind.SOCK_STREAM: 1>, laddr=addr(ip='::', port=8080), raddr=(), status='LISTEN', pid=7), sconn(fd=-1, family=<AddressFamily.AF_INET: 2>, type=<SocketKind.SOCK_STREAM: 1>, laddr=addr(ip='172.28.0.12', port=6000), raddr=addr(ip='172.28.0.12', port=43722), status='TIME_WAIT', pid=None), sconn(fd=8, family=<AddressFamily.AF_INET: 2>, type=<SocketKind.SOCK_STREAM: 1>, laddr=addr(ip='127.0.0.1', port=45130), raddr=addr(ip='127.0.0.1', port=40165), status='ESTABLISHED', pid=86), sconn(fd=-1, family=<AddressFamily.AF_INET: 2>, type=<SocketKind.SOCK_STREAM: 1>, laddr=addr(ip='172.28.0.12', port=35502), raddr=addr(ip='212.71.253.143', port=443), status='TIME_WAIT', pid=None), sconn(fd=-1, family=<AddressFamily.AF_INET: 2>, type=<SocketKind.SOCK_STREAM: 1>, laddr=addr(ip='172.28.0.12', port=6000), raddr=addr(ip='172.28.0.12', port=60228), status='TIME_WAIT', pid=None), sconn(fd=18, family=<AddressFamily.AF_INET: 2>, type=<SocketKind.SOCK_STREAM: 1>, laddr=addr(ip='172.28.0.12', port=9000), raddr=addr(ip='172.28.0.12', port=56008), status='ESTABLISHED', pid=85), sconn(fd=9, family=<AddressFamily.AF_INET: 2>, type=<SocketKind.SOCK_STREAM: 1>, laddr=addr(ip='172.28.0.12', port=6000), raddr=addr(ip='172.28.0.1', port=38590), status='ESTABLISHED', pid=19), sconn(fd=6, family=<AddressFamily.AF_INET: 2>, type=<SocketKind.SOCK_STREAM: 1>, laddr=addr(ip='127.0.0.1', port=50669), raddr=addr(ip='127.0.0.1', port=45634), status='ESTABLISHED', pid=356), sconn(fd=-1, family=<AddressFamily.AF_INET: 2>, type=<SocketKind.SOCK_STREAM: 1>, laddr=addr(ip='172.28.0.12', port=6000), raddr=addr(ip='172.28.0.12', port=33198), status='TIME_WAIT', pid=None), sconn(fd=-1, family=<AddressFamily.AF_INET: 2>, type=<SocketKind.SOCK_STREAM: 1>, laddr=addr(ip='172.28.0.12', port=6000), raddr=addr(ip='172.28.0.12', port=47312), status='TIME_WAIT', pid=None), sconn(fd=28, family=<AddressFamily.AF_INET: 2>, type=<SocketKind.SOCK_STREAM: 1>, laddr=addr(ip='172.28.0.12', port=60236), raddr=addr(ip='172.28.0.12', port=6000), status='ESTABLISHED', pid=7), sconn(fd=40, family=<AddressFamily.AF_INET: 2>, type=<SocketKind.SOCK_STREAM: 1>, laddr=addr(ip='127.0.0.1', port=45634), raddr=addr(ip='127.0.0.1', port=50669), status='ESTABLISHED', pid=297), sconn(fd=-1, family=<AddressFamily.AF_INET: 2>, type=<SocketKind.SOCK_STREAM: 1>, laddr=addr(ip='172.28.0.12', port=6000), raddr=addr(ip='172.28.0.12', port=60240), status='TIME_WAIT', pid=None), sconn(fd=3, family=<AddressFamily.AF_INET: 2>, type=<SocketKind.SOCK_STREAM: 1>, laddr=addr(ip='127.0.0.1', port=3453), raddr=(), status='LISTEN', pid=64), sconn(fd=21, family=<AddressFamily.AF_INET: 2>, type=<SocketKind.SOCK_STREAM: 1>, laddr=addr(ip='127.0.0.1', port=41493), raddr=(), status='LISTEN', pid=297), sconn(fd=26, family=<AddressFamily.AF_INET6: 10>, type=<SocketKind.SOCK_STREAM: 1>, laddr=addr(ip='::ffff:172.28.0.12', port=8080), raddr=addr(ip='::ffff:172.28.0.1', port=49354), status='ESTABLISHED', pid=7), sconn(fd=-1, family=<AddressFamily.AF_INET: 2>, type=<SocketKind.SOCK_STREAM: 1>, laddr=addr(ip='127.0.0.1', port=41088), raddr=addr(ip='127.0.0.1', port=39955), status='TIME_WAIT', pid=None), sconn(fd=7, family=<AddressFamily.AF_INET: 2>, type=<SocketKind.SOCK_STREAM: 1>, laddr=addr(ip='172.28.0.12', port=48132), raddr=addr(ip='172.28.0.12', port=9000), status='ESTABLISHED', pid=19)]\n"
          ]
        }
      ],
      "source": [
        "print(psutil.net_connections())"
      ]
    },
    {
      "cell_type": "markdown",
      "metadata": {
        "id": "22YK3vxQE_p4"
      },
      "source": [
        "### Exploring Multiprocessing"
      ]
    },
    {
      "cell_type": "markdown",
      "metadata": {
        "id": "M8zLCxSY8Xzu"
      },
      "source": [
        "One of the key objectives for a developer is to make the code run faster. However, many tasks take time to be processed, even on fast computers with several cores. Partially it happens because of Python GIL (Python Global Interpreter Lock) that allows only one thread to take control over Python Interpreter, so we end up never using the whole power of the machine by just executing a function or method."
      ]
    },
    {
      "cell_type": "markdown",
      "metadata": {
        "id": "6pGDCf348a3z"
      },
      "source": [
        "### Comparison between synchronous and multiprocessing code."
      ]
    },
    {
      "cell_type": "markdown",
      "metadata": {
        "id": "YbhIW3XI8eHf"
      },
      "source": [
        "The test in this case is a simple HTTP GET request from the public API, https://httpbin.org. They offer many API services but the one used here is `uuid`, which simply returns a unique 36 character string every time you make a GET request."
      ]
    },
    {
      "cell_type": "markdown",
      "metadata": {
        "id": "wrXrjNj48hDB"
      },
      "source": [
        "Data fetching from the Internet can be done in various ways. Here to keep things simple `requests` module is used."
      ]
    },
    {
      "cell_type": "markdown",
      "metadata": {
        "id": "63DkUU0XpteE"
      },
      "source": [
        "## Synchronous code"
      ]
    },
    {
      "cell_type": "markdown",
      "metadata": {
        "id": "9J35QBp0qcUG"
      },
      "source": [
        "Synchronous code is a sequence of tasks that are done in a synchronous fashion or one after the other. What that means is that before task 3 is started, the machine has to wait for task 2 to finish, but prior to that, wait for task 1 to finish. This is not an efficient way of doing things but sometimes there is just no other way. Synchronous code is quite easy to understand and easy to write."
      ]
    },
    {
      "cell_type": "code",
      "execution_count": 31,
      "metadata": {
        "id": "7E4HdHC1sSKx",
        "colab": {
          "base_uri": "https://localhost:8080/"
        },
        "outputId": "67a1d4b5-8679-4cbb-a16b-29b4351b0950"
      },
      "outputs": [
        {
          "output_type": "stream",
          "name": "stdout",
          "text": [
            "It took 67.68 s to finish the request\n"
          ]
        }
      ],
      "source": [
        "import time\n",
        "import requests\n",
        "\n",
        "URL = 'https://httpbin.org/uuid'\n",
        "\n",
        "t0 = time.time()\n",
        "\n",
        "for _ in range(300):\n",
        "    response = requests.get(URL)\n",
        "\n",
        "print(f'It took {time.time() - t0:.2f} s to finish the request')"
      ]
    },
    {
      "cell_type": "markdown",
      "metadata": {
        "id": "7BBFMWRNqiCo"
      },
      "source": [
        "What the code does is that it starts 300 GET requests to the API in question and returns the result. Before starting the requests a time variable t0 is initialized that holds the start time. After exiting the 'for' loop, the time it took to finish all the requests is displayed."
      ]
    },
    {
      "cell_type": "markdown",
      "metadata": {
        "id": "EiACNdqTqnWv"
      },
      "source": [
        "## Multiprocessing code"
      ]
    },
    {
      "cell_type": "markdown",
      "metadata": {
        "id": "dRftjIWXo2Tc"
      },
      "source": [
        "A multiprocessing code is able to leverage modern CPUs by [spawning processes](https://docs.python.org/3/library/multiprocessing.html#contexts-and-start-methods). What that means is that if there are 8 cores in the CPU, 8 different processes can be spawned to attempt 8 different tasks simultaneously. An additional module called `ProcessPoolExecutor` is used here. It is a subclass that executes calls asynchronously using a pool object. One benefit of using a process pool executor is that it returns a generator object instead of a simple list containing the results. It is possible to iterate over results we can simple call __next__ on it."
      ]
    },
    {
      "cell_type": "code",
      "execution_count": 32,
      "metadata": {
        "id": "GZWOJRvHp2G-",
        "colab": {
          "base_uri": "https://localhost:8080/"
        },
        "outputId": "527b7a63-fce5-4a08-a9e7-6c1b08938c06"
      },
      "outputs": [
        {
          "output_type": "stream",
          "name": "stdout",
          "text": [
            "It took 38.38 secs to finish multiprocessing\n"
          ]
        }
      ],
      "source": [
        "import time\n",
        "import requests\n",
        "from concurrent.futures import ProcessPoolExecutor\n",
        "\n",
        "def fetch(url):\n",
        "    response = requests.get(url)\n",
        "    return response.json()\n",
        "\n",
        "if __name__ == '__main__':\n",
        "\n",
        "    URL = 'https://httpbin.org/uuid'\n",
        "    t0 = time.time()\n",
        "\n",
        "    with ProcessPoolExecutor() as executor:\n",
        "        future = executor.map(fetch, [URL for _ in range(300)])\n",
        "\n",
        "    print(f'It took {time.time() - t0:.2f} secs to finish multiprocessing')"
      ]
    },
    {
      "cell_type": "markdown",
      "metadata": {
        "id": "94iE25STq9ai"
      },
      "source": [
        "As seen from the above results, there is quite an improvement with few lines of code, in comparison with synchronous results."
      ]
    },
    {
      "cell_type": "markdown",
      "metadata": {
        "id": "B7kwh3ssbYs_"
      },
      "source": [
        "### Please answer the questions below to complete the experiment:"
      ]
    },
    {
      "cell_type": "code",
      "execution_count": 33,
      "metadata": {
        "id": "HoJstaBoHkQL"
      },
      "outputs": [],
      "source": [
        "#@title Which of the following describes spawning? { run: \"auto\", form-width: \"500px\", display-mode: \"form\" }\n",
        "Answer = \"The parent process starts a fresh Python interpreter process. The child process will only inherit those resources necessary to run the process object’s run() method\" #@param [\"\", \"The parent process starts a fresh Python interpreter process. The child process will only inherit those resources necessary to run the process object’s run() method\", \"The child process, when it begins, is effectively identical to the parent process. All resources of the parent are inherited by the child process\", \"A server process is started. From then on, whenever a new process is needed, the parent process connects to the server and requests that it fork a new process\"]"
      ]
    },
    {
      "cell_type": "code",
      "execution_count": 34,
      "metadata": {
        "id": "WSenbIG2SVzb"
      },
      "outputs": [],
      "source": [
        "#@title How was the experiment? { run: \"auto\", form-width: \"500px\", display-mode: \"form\" }\n",
        "Complexity = \"Good, But Not Challenging for me\" #@param [\"\",\"Too Simple, I am wasting time\", \"Good, But Not Challenging for me\", \"Good and Challenging for me\", \"Was Tough, but I did it\", \"Too Difficult for me\"]\n"
      ]
    },
    {
      "cell_type": "code",
      "execution_count": 35,
      "metadata": {
        "id": "dfoWryqWSZ51"
      },
      "outputs": [],
      "source": [
        "#@title If it was too easy, what more would you have liked to be added? If it was very difficult, what would you have liked to have been removed? { run: \"auto\", display-mode: \"form\" }\n",
        "Additional = \"i am already familiar with parallel processing\" #@param {type:\"string\"}\n"
      ]
    },
    {
      "cell_type": "code",
      "execution_count": 36,
      "metadata": {
        "id": "5W3mKx7ZSdQJ"
      },
      "outputs": [],
      "source": [
        "#@title Can you identify the concepts from the lecture which this experiment covered? { run: \"auto\", vertical-output: true, display-mode: \"form\" }\n",
        "Concepts = \"Yes\" #@param [\"\",\"Yes\", \"No\"]\n"
      ]
    },
    {
      "cell_type": "code",
      "execution_count": 37,
      "metadata": {
        "id": "jrSL7a8xSqZp"
      },
      "outputs": [],
      "source": [
        "#@title  Text and image description/explanation and code comments within the experiment: { run: \"auto\", vertical-output: true, display-mode: \"form\" }\n",
        "Comments = \"Very Useful\" #@param [\"\",\"Very Useful\", \"Somewhat Useful\", \"Not Useful\", \"Didn't use\"]\n"
      ]
    },
    {
      "cell_type": "code",
      "execution_count": 38,
      "metadata": {
        "id": "2PhHCHJ_SwgY"
      },
      "outputs": [],
      "source": [
        "#@title Mentor Support: { run: \"auto\", vertical-output: true, display-mode: \"form\" }\n",
        "Mentor_support = \"Somewhat Useful\" #@param [\"\",\"Very Useful\", \"Somewhat Useful\", \"Not Useful\", \"Didn't use\"]\n"
      ]
    },
    {
      "cell_type": "code",
      "execution_count": 39,
      "metadata": {
        "cellView": "form",
        "id": "NbEVWeY_bhez",
        "colab": {
          "base_uri": "https://localhost:8080/"
        },
        "outputId": "7e327e9b-b597-4892-958c-27a56dddc397"
      },
      "outputs": [
        {
          "output_type": "stream",
          "name": "stdout",
          "text": [
            "Your submission is successful.\n",
            "Ref Id: 4216\n",
            "Date of submission:  02 Sep 2024\n",
            "Time of submission:  10:17:41\n",
            "View your submissions: https://cds-iisc.talentsprint.com/notebook_submissions\n"
          ]
        }
      ],
      "source": [
        "#@title Run this cell to submit your notebook for grading { vertical-output: true }\n",
        "try:\n",
        "  if submission_id:\n",
        "      return_id = submit_notebook()\n",
        "      if return_id : submission_id = return_id\n",
        "  else:\n",
        "      print(\"Please complete the setup first.\")\n",
        "except NameError:\n",
        "  print (\"Please complete the setup first.\")"
      ]
    }
  ],
  "metadata": {
    "colab": {
      "provenance": [],
      "include_colab_link": true
    },
    "kernelspec": {
      "display_name": "Python 3",
      "name": "python3"
    },
    "language_info": {
      "name": "python"
    }
  },
  "nbformat": 4,
  "nbformat_minor": 0
}