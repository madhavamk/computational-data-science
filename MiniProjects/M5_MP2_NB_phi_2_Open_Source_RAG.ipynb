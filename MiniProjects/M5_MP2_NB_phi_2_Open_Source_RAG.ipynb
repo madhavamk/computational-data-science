{
  "cells": [
    {
      "cell_type": "markdown",
      "metadata": {
        "id": "view-in-github",
        "colab_type": "text"
      },
      "source": [
        "<a href=\"https://colab.research.google.com/github/madhavamk/computational-data-science/blob/master/MiniProjects/M5_MP2_NB_phi_2_Open_Source_RAG.ipynb\" target=\"_parent\"><img src=\"https://colab.research.google.com/assets/colab-badge.svg\" alt=\"Open In Colab\"/></a>"
      ]
    },
    {
      "cell_type": "markdown",
      "source": [
        "# Advanced Certification Program in Computational Data Science\n",
        "## A programme by IISc and TalentSprint\n",
        "### Mini-Project: Open Source Retrieval Augmented Generation (RAG)"
      ],
      "metadata": {
        "id": "i5gB6iG94kzV"
      },
      "id": "i5gB6iG94kzV"
    },
    {
      "cell_type": "markdown",
      "source": [
        "## Problem Statement\n",
        "\n",
        "Retrieval Q and A Integrated with LLM"
      ],
      "metadata": {
        "id": "I0FW5b1NQ_Wu"
      },
      "id": "I0FW5b1NQ_Wu"
    },
    {
      "cell_type": "markdown",
      "source": [
        "## Learning Objectives\n",
        "\n",
        "At the end of the experiment you will be able to :\n",
        "\n",
        "1. Run Phi-2, Microsoft's small language model (SLM), using two methods:\n",
        "   - Direct Inference using HuggingFace\n",
        "   - Retrieval Augmented Generation (RAG) using Llama-index\n",
        "2. Know the basic working of Llama Index VectorStore\n",
        "3. Implement the Hugging Face embedding\n",
        "4. Implement a simple FAISS-based vector store for efficient similarity search of high-dimensional data.\n",
        "5. Create RetrievalQA chain along with prompt template\n",
        "6. Compare the **effectiveness of Phi-2 & Zephyr-7b-beta model** by means of Cosine Similarity.\n",
        "7. Compare the **effectiveness of 5 different Hugging Face embeddings** by computing and analyzing the cosine similarity between the embedded vectors of queries and results from Zephyr-7b-beta model, to understand the differences in semantic similarity and performance.\n"
      ],
      "metadata": {
        "id": "1jylUQmEIH-y"
      },
      "id": "1jylUQmEIH-y"
    },
    {
      "cell_type": "markdown",
      "source": [
        "## Information\n",
        "\n",
        "Retrieval Augmented Generation (RAG) combines the advanced text-generation capabilities of GPT and other large language models with information retrieval functions to provide precise and contextually relevant information. This innovative approach improves language models' ability to understand and process user queries by integrating the latest and most relevant data. As RAG continues to evolve, its growing applications are set to revolutionize AI efficiency and utility.\n",
        "\n",
        "##Retrieval-Augmented Generation (RAG) Process\n",
        "###  **Feeding LLMs with Accurate Information**:\n",
        "\n",
        "- Instead of directly querying the language model, relevant data is first retrieved from a well-maintained knowledge library.\n",
        "\n",
        "\n",
        "###**Retrieval Before Generation**:\n",
        "\n",
        "- Accurate data is retrieved using vector embeddings (numerical representations of the data).\n",
        "- These embeddings help match the query with relevant documents in a vector database.\n",
        "\n",
        "\n",
        "###**Context for Generation**:\n",
        "\n",
        "- Once the requested document or information is found, the retrieved context is used by the model to generate the answer.\n",
        "\n",
        "\n",
        "###**Reduces Hallucinations**:\n",
        "\n",
        "- This approach lowers the risk of hallucinations, where the model generates inaccurate or false information.\n",
        "\n",
        "\n",
        "###**No Need for Retraining**:\n",
        "\n",
        "- The knowledge base can be updated without retraining the model, making the system adaptable without incurring high costs.\n",
        "\n",
        "\n",
        "###**Cost-Effective Model Updates**:\n",
        "\n",
        "- By using a retriever system, models can be updated dynamically without the expense of a full model retraining process.\n",
        "\n",
        "<br><br>\n",
        "<center>\n",
        "<img src=\" https://cdn.exec.talentsprint.com/static/cds/RAG_Image.jpg\" width= 600 px/>\n",
        "</center>\n",
        "<br><br>\n",
        "\n",
        "RAG brings together four key components:\n",
        "\n",
        "- **Embedding model**: This is where documents are turned into vectors, or numerical representations, which make it easier for the system to manage and compare large amounts of text data.\n",
        "- **Retriever**: Think of this as the search engine within RAG. It uses the embedding model to process a question and fetch the most relevant document vectors that match the query.\n",
        "- **Reranker (optional)**: This component takes things a step further by evaluating the retrieved documents to determine how relevant they are to the question at hand, providing a relevance score for each one.\n",
        "- **Language model**: Finally, this part of the system takes the top documents provided by the retriever or reranker, along with the original question, and crafts a precise answer.\n",
        "To know more about the RAG, refer [here](https://www.superannotate.com/blog/rag-explained)."
      ],
      "metadata": {
        "id": "Vi22cd57RXms"
      },
      "id": "Vi22cd57RXms"
    },
    {
      "cell_type": "markdown",
      "source": [
        "\n",
        "In this notebook, we'll explore how to run Phi-2, Microsoft's small language model (SLM), using two methods:\n",
        "- Direct Inference using HuggingFace\n",
        "- Retrieval Augmented Generation (RAG) using Llama-index\n",
        "\n",
        "Phi-2 is an SLM with 2.7 billion parameters and trained on 1.4T tokens."
      ],
      "metadata": {
        "id": "lt_QVg04RLot"
      },
      "id": "lt_QVg04RLot"
    },
    {
      "cell_type": "markdown",
      "metadata": {
        "id": "xDCe4r5fwDtD"
      },
      "source": [
        "## Benefits of Small Models\n",
        "- Fast fine-tuning\n",
        "- Can be run locally\n",
        "- Requires less computational resources\n",
        "\n",
        "### **Note: This notebook has to necessarily run on GPU.**"
      ],
      "id": "xDCe4r5fwDtD"
    },
    {
      "cell_type": "markdown",
      "source": [
        "## Grading = 10 Points"
      ],
      "metadata": {
        "id": "dIu0egmxkROS"
      },
      "id": "dIu0egmxkROS"
    },
    {
      "cell_type": "markdown",
      "metadata": {
        "id": "oXWCjoVEwDtD"
      },
      "source": [
        "## Install Required Packages\n",
        "Install necessary libraries for running Phi-2 on Google Colab."
      ],
      "id": "oXWCjoVEwDtD"
    },
    {
      "cell_type": "code",
      "execution_count": 1,
      "metadata": {
        "id": "H1QOUdb2wDtE",
        "colab": {
          "base_uri": "https://localhost:8080/"
        },
        "outputId": "5abe4477-895f-4dd0-f3d9-fb1671ed9d38"
      },
      "outputs": [
        {
          "output_type": "stream",
          "name": "stdout",
          "text": [
            "\u001b[2K     \u001b[90m━━━━━━━━━━━━━━━━━━━━━━━━━━━━━━━━━━━━━━━━\u001b[0m \u001b[32m50.4/50.4 kB\u001b[0m \u001b[31m1.9 MB/s\u001b[0m eta \u001b[36m0:00:00\u001b[0m\n",
            "\u001b[2K   \u001b[90m━━━━━━━━━━━━━━━━━━━━━━━━━━━━━━━━━━━━━━━━\u001b[0m \u001b[32m1.0/1.0 MB\u001b[0m \u001b[31m26.2 MB/s\u001b[0m eta \u001b[36m0:00:00\u001b[0m\n",
            "\u001b[2K   \u001b[90m━━━━━━━━━━━━━━━━━━━━━━━━━━━━━━━━━━━━━━━━\u001b[0m \u001b[32m122.4/122.4 MB\u001b[0m \u001b[31m5.9 MB/s\u001b[0m eta \u001b[36m0:00:00\u001b[0m\n",
            "\u001b[2K   \u001b[90m━━━━━━━━━━━━━━━━━━━━━━━━━━━━━━━━━━━━━━━━\u001b[0m \u001b[32m255.2/255.2 kB\u001b[0m \u001b[31m8.1 MB/s\u001b[0m eta \u001b[36m0:00:00\u001b[0m\n",
            "\u001b[2K   \u001b[90m━━━━━━━━━━━━━━━━━━━━━━━━━━━━━━━━━━━━━━━━\u001b[0m \u001b[32m407.7/407.7 kB\u001b[0m \u001b[31m19.2 MB/s\u001b[0m eta \u001b[36m0:00:00\u001b[0m\n",
            "\u001b[2K   \u001b[90m━━━━━━━━━━━━━━━━━━━━━━━━━━━━━━━━━━━━━━━━\u001b[0m \u001b[32m295.8/295.8 kB\u001b[0m \u001b[31m15.3 MB/s\u001b[0m eta \u001b[36m0:00:00\u001b[0m\n",
            "\u001b[2K   \u001b[90m━━━━━━━━━━━━━━━━━━━━━━━━━━━━━━━━━━━━━━━━\u001b[0m \u001b[32m76.4/76.4 kB\u001b[0m \u001b[31m3.9 MB/s\u001b[0m eta \u001b[36m0:00:00\u001b[0m\n",
            "\u001b[2K   \u001b[90m━━━━━━━━━━━━━━━━━━━━━━━━━━━━━━━━━━━━━━━━\u001b[0m \u001b[32m78.0/78.0 kB\u001b[0m \u001b[31m3.8 MB/s\u001b[0m eta \u001b[36m0:00:00\u001b[0m\n",
            "\u001b[2K   \u001b[90m━━━━━━━━━━━━━━━━━━━━━━━━━━━━━━━━━━━━━━━━\u001b[0m \u001b[32m141.9/141.9 kB\u001b[0m \u001b[31m8.9 MB/s\u001b[0m eta \u001b[36m0:00:00\u001b[0m\n",
            "\u001b[2K   \u001b[90m━━━━━━━━━━━━━━━━━━━━━━━━━━━━━━━━━━━━━━━━\u001b[0m \u001b[32m54.5/54.5 kB\u001b[0m \u001b[31m2.5 MB/s\u001b[0m eta \u001b[36m0:00:00\u001b[0m\n",
            "\u001b[2K   \u001b[90m━━━━━━━━━━━━━━━━━━━━━━━━━━━━━━━━━━━━━━━━\u001b[0m \u001b[32m58.3/58.3 kB\u001b[0m \u001b[31m4.3 MB/s\u001b[0m eta \u001b[36m0:00:00\u001b[0m\n",
            "\u001b[2K   \u001b[90m━━━━━━━━━━━━━━━━━━━━━━━━━━━━━━━━━━━━━━━━\u001b[0m \u001b[32m2.4/2.4 MB\u001b[0m \u001b[31m31.6 MB/s\u001b[0m eta \u001b[36m0:00:00\u001b[0m\n",
            "\u001b[2K   \u001b[90m━━━━━━━━━━━━━━━━━━━━━━━━━━━━━━━━━━━━━━━━\u001b[0m \u001b[32m49.5/49.5 kB\u001b[0m \u001b[31m2.9 MB/s\u001b[0m eta \u001b[36m0:00:00\u001b[0m\n",
            "\u001b[2K     \u001b[90m━━━━━━━━━━━━━━━━━━━━━━━━━━━━━━━━━━━━━━━━\u001b[0m \u001b[32m67.3/67.3 kB\u001b[0m \u001b[31m6.5 MB/s\u001b[0m eta \u001b[36m0:00:00\u001b[0m\n",
            "\u001b[?25h  Installing build dependencies ... \u001b[?25l\u001b[?25hdone\n",
            "  Getting requirements to build wheel ... \u001b[?25l\u001b[?25hdone\n",
            "  Preparing metadata (pyproject.toml) ... \u001b[?25l\u001b[?25hdone\n",
            "\u001b[2K   \u001b[90m━━━━━━━━━━━━━━━━━━━━━━━━━━━━━━━━━━━━━━━━\u001b[0m \u001b[32m607.0/607.0 kB\u001b[0m \u001b[31m26.0 MB/s\u001b[0m eta \u001b[36m0:00:00\u001b[0m\n",
            "\u001b[2K   \u001b[90m━━━━━━━━━━━━━━━━━━━━━━━━━━━━━━━━━━━━━━━━\u001b[0m \u001b[32m2.4/2.4 MB\u001b[0m \u001b[31m72.0 MB/s\u001b[0m eta \u001b[36m0:00:00\u001b[0m\n",
            "\u001b[2K   \u001b[90m━━━━━━━━━━━━━━━━━━━━━━━━━━━━━━━━━━━━━━━━\u001b[0m \u001b[32m273.8/273.8 kB\u001b[0m \u001b[31m28.7 MB/s\u001b[0m eta \u001b[36m0:00:00\u001b[0m\n",
            "\u001b[2K   \u001b[90m━━━━━━━━━━━━━━━━━━━━━━━━━━━━━━━━━━━━━━━━\u001b[0m \u001b[32m94.7/94.7 kB\u001b[0m \u001b[31m10.5 MB/s\u001b[0m eta \u001b[36m0:00:00\u001b[0m\n",
            "\u001b[2K   \u001b[90m━━━━━━━━━━━━━━━━━━━━━━━━━━━━━━━━━━━━━━━━\u001b[0m \u001b[32m1.9/1.9 MB\u001b[0m \u001b[31m82.7 MB/s\u001b[0m eta \u001b[36m0:00:00\u001b[0m\n",
            "\u001b[2K   \u001b[90m━━━━━━━━━━━━━━━━━━━━━━━━━━━━━━━━━━━━━━━━\u001b[0m \u001b[32m93.2/93.2 kB\u001b[0m \u001b[31m10.2 MB/s\u001b[0m eta \u001b[36m0:00:00\u001b[0m\n",
            "\u001b[2K   \u001b[90m━━━━━━━━━━━━━━━━━━━━━━━━━━━━━━━━━━━━━━━━\u001b[0m \u001b[32m13.2/13.2 MB\u001b[0m \u001b[31m111.1 MB/s\u001b[0m eta \u001b[36m0:00:00\u001b[0m\n",
            "\u001b[2K   \u001b[90m━━━━━━━━━━━━━━━━━━━━━━━━━━━━━━━━━━━━━━━━\u001b[0m \u001b[32m52.5/52.5 kB\u001b[0m \u001b[31m5.1 MB/s\u001b[0m eta \u001b[36m0:00:00\u001b[0m\n",
            "\u001b[2K   \u001b[90m━━━━━━━━━━━━━━━━━━━━━━━━━━━━━━━━━━━━━━━━\u001b[0m \u001b[32m149.7/149.7 kB\u001b[0m \u001b[31m16.3 MB/s\u001b[0m eta \u001b[36m0:00:00\u001b[0m\n",
            "\u001b[2K   \u001b[90m━━━━━━━━━━━━━━━━━━━━━━━━━━━━━━━━━━━━━━━━\u001b[0m \u001b[32m64.0/64.0 kB\u001b[0m \u001b[31m6.8 MB/s\u001b[0m eta \u001b[36m0:00:00\u001b[0m\n",
            "\u001b[2K   \u001b[90m━━━━━━━━━━━━━━━━━━━━━━━━━━━━━━━━━━━━━━━━\u001b[0m \u001b[32m110.5/110.5 kB\u001b[0m \u001b[31m12.6 MB/s\u001b[0m eta \u001b[36m0:00:00\u001b[0m\n",
            "\u001b[2K   \u001b[90m━━━━━━━━━━━━━━━━━━━━━━━━━━━━━━━━━━━━━━━━\u001b[0m \u001b[32m54.4/54.4 kB\u001b[0m \u001b[31m5.8 MB/s\u001b[0m eta \u001b[36m0:00:00\u001b[0m\n",
            "\u001b[2K   \u001b[90m━━━━━━━━━━━━━━━━━━━━━━━━━━━━━━━━━━━━━━━━\u001b[0m \u001b[32m63.7/63.7 kB\u001b[0m \u001b[31m6.6 MB/s\u001b[0m eta \u001b[36m0:00:00\u001b[0m\n",
            "\u001b[2K   \u001b[90m━━━━━━━━━━━━━━━━━━━━━━━━━━━━━━━━━━━━━━━━\u001b[0m \u001b[32m442.1/442.1 kB\u001b[0m \u001b[31m41.9 MB/s\u001b[0m eta \u001b[36m0:00:00\u001b[0m\n",
            "\u001b[2K   \u001b[90m━━━━━━━━━━━━━━━━━━━━━━━━━━━━━━━━━━━━━━━━\u001b[0m \u001b[32m73.3/73.3 kB\u001b[0m \u001b[31m8.4 MB/s\u001b[0m eta \u001b[36m0:00:00\u001b[0m\n",
            "\u001b[2K   \u001b[90m━━━━━━━━━━━━━━━━━━━━━━━━━━━━━━━━━━━━━━━━\u001b[0m \u001b[32m3.8/3.8 MB\u001b[0m \u001b[31m98.9 MB/s\u001b[0m eta \u001b[36m0:00:00\u001b[0m\n",
            "\u001b[2K   \u001b[90m━━━━━━━━━━━━━━━━━━━━━━━━━━━━━━━━━━━━━━━━\u001b[0m \u001b[32m425.7/425.7 kB\u001b[0m \u001b[31m41.4 MB/s\u001b[0m eta \u001b[36m0:00:00\u001b[0m\n",
            "\u001b[2K   \u001b[90m━━━━━━━━━━━━━━━━━━━━━━━━━━━━━━━━━━━━━━━━\u001b[0m \u001b[32m164.1/164.1 kB\u001b[0m \u001b[31m18.7 MB/s\u001b[0m eta \u001b[36m0:00:00\u001b[0m\n",
            "\u001b[2K   \u001b[90m━━━━━━━━━━━━━━━━━━━━━━━━━━━━━━━━━━━━━━━━\u001b[0m \u001b[32m46.0/46.0 kB\u001b[0m \u001b[31m5.2 MB/s\u001b[0m eta \u001b[36m0:00:00\u001b[0m\n",
            "\u001b[2K   \u001b[90m━━━━━━━━━━━━━━━━━━━━━━━━━━━━━━━━━━━━━━━━\u001b[0m \u001b[32m86.8/86.8 kB\u001b[0m \u001b[31m10.4 MB/s\u001b[0m eta \u001b[36m0:00:00\u001b[0m\n",
            "\u001b[?25h  Building wheel for pypika (pyproject.toml) ... \u001b[?25l\u001b[?25hdone\n"
          ]
        }
      ],
      "source": [
        "!pip -qq install langchain torch transformers sentencepiece accelerate bitsandbytes einops sentence-transformers\n",
        "!pip -qq install langchain_community\n",
        "!pip -qq install langchain_huggingface\n",
        "!pip -qq install huggingface_hub\n",
        "!pip -qq install chromadb"
      ],
      "id": "H1QOUdb2wDtE"
    },
    {
      "cell_type": "markdown",
      "source": [
        "## Importing necessary packages"
      ],
      "metadata": {
        "id": "5sUNWYCUWIMW"
      },
      "id": "5sUNWYCUWIMW"
    },
    {
      "cell_type": "code",
      "source": [
        "import os\n",
        "import numpy as np\n",
        "from getpass import getpass\n",
        "from langchain import hub\n",
        "from langchain.llms import HuggingFacePipeline\n",
        "from transformers import pipeline\n",
        "from langchain_community.llms import HuggingFaceEndpoint\n",
        "from langchain_community.chat_models.huggingface import ChatHuggingFace\n",
        "from langchain_text_splitters import RecursiveCharacterTextSplitter\n",
        "from langchain_community.embeddings import HuggingFaceHubEmbeddings\n",
        "from langchain.prompts import PromptTemplate\n",
        "from transformers import pipeline\n",
        "\n",
        "from langchain.llms import HuggingFaceHub\n",
        "from langchain import LLMChain\n",
        "from langchain.chains import RetrievalQA\n",
        "from langchain_community.embeddings import HuggingFaceEmbeddings\n",
        "#from llama_index.embeddings import HuggingFaceEmbedding\n",
        "\n",
        "from langchain_community.vectorstores import Chroma\n",
        "from langchain_community.document_loaders import PyPDFLoader\n",
        "from langchain.document_loaders.csv_loader import CSVLoader\n",
        "from transformers import AutoTokenizer, AutoModel\n",
        "import torch\n",
        "from sklearn.metrics.pairwise import cosine_similarity"
      ],
      "metadata": {
        "id": "13z90ZwCWCMg"
      },
      "id": "13z90ZwCWCMg",
      "execution_count": 2,
      "outputs": []
    },
    {
      "cell_type": "markdown",
      "source": [
        "# **Phase-I:** Comparison between Microsoft Phi-2 and Hugging Face Zephyr-7b-beta without Retrieval Augmented Generation (RAG)"
      ],
      "metadata": {
        "id": "Wm6u9sf8dpcU"
      },
      "id": "Wm6u9sf8dpcU"
    },
    {
      "cell_type": "markdown",
      "metadata": {
        "id": "Zg2qL17QwDtF"
      },
      "source": [
        "## 1.1 Load the Phi-2 Model and Tokenizer to integrate with Langchain using HuggingFace Pipeline\n",
        "\n",
        "<br><br>\n",
        "<center>\n",
        "<img src=\" https://cdn.exec.talentsprint.com/static/cds/content/Phi_2_without_RAG-1.png\" width= 600 px/>\n",
        "</center>\n",
        "<br><br>\n",
        "\n",
        "**Exercise-1:** Load Phi-2 model and tokenizer from Huggingface and create a pipeline for text generation. Then integrate the Phi-2 model with Langchain for better prompt handling. **(0.5 point)**"
      ],
      "id": "Zg2qL17QwDtF"
    },
    {
      "cell_type": "code",
      "execution_count": 3,
      "metadata": {
        "id": "8BDZfrVYwDtF",
        "colab": {
          "base_uri": "https://localhost:8080/",
          "height": 489,
          "referenced_widgets": [
            "ef3fb932c32846a9894e97ff3921ad24",
            "f4d9c8001a65444d89d1446f59d7164f",
            "6e8b6cfc96444d89b388910ae9dab352",
            "6ec09b5be3c54493a1c1a2df990a8929",
            "eddba2aba4534fe2bb464efc724a6f56",
            "1ba5e46f0f7247fab4e8ae04f38facb9",
            "0e7f763978464d298d8439f3eb45f723",
            "4ef693dddcb24ad6b0aa9a5e4eb9e7b4",
            "f7a1bee7a89c4a14a80c7e8c3d85a5a3",
            "673ea161c2c94bd7bad44575c9cff924",
            "f7e027c0f75049178d11d386fcb391b2",
            "b2d309f58e7b42a78752d87bfc64d7db",
            "482180958a614e959b5acba7b33e258c",
            "985d5a80baea4fec9c03a137830da3ca",
            "8b43013a450840799bac7575ccb9680d",
            "7cf4fcac688941d6beabca2735cf8647",
            "8833bdb4bc2249b7b59f375010fd8b1c",
            "956ca1a8f9b34706854463b14c4c5019",
            "0038579514a246ae9740d6fae03bb85c",
            "7f2ef9349ebd4e2191acd83199c1ce4a",
            "49bd803038c847909f56930216f7f036",
            "4d0d3b864d48488bae56497fc1b32c3b",
            "7a2bcfddc305421fa0ed7276e4c2f760",
            "97fc376d5347419a92b1a9a9d807f644",
            "b54027c0ea014de19039bec57f87dd08",
            "60fc5251f55c4aed9618a887c890704a",
            "0d3754e8fcba4fc693a28afac3002d46",
            "bc45d945e8fe4420a0ee0ac4340ed9a8",
            "e2fe053c1504420d8436c0b23375208f",
            "61f09c9940664e97a9180e64a976aed1",
            "1c2cf4e7da6c4c8bb793c6373af01a63",
            "8200937617eb4819b952a31c8a68b674",
            "629082c5642646b58266a009a856bec6",
            "1614a39ef59d4aaaaafb5a3a6e4cb7fa",
            "ae443faba05842d4b62b8a935c1b0128",
            "42ed9a33c3264422b304d19f6af2c6b5",
            "fa4c3565e6f345639d8005c01f32a46c",
            "cf63de23931f42739791bf843a1c3616",
            "2372d52cfe2843e7b07eb67a84a176ca",
            "f01a9ea9ba334f40b318f6216a7c830c",
            "86ab19e7bca14c6e9e5da2109ca33011",
            "be205ce92a6f4227936fac1648c96cec",
            "2a10f4e74f2a4509b07fea8e2e30c5f1",
            "c767adb2364f45628b4689568b27bfdd",
            "c87dd96c0d6c4e698a36fbefbb7cc6d2",
            "86aed1c3091b48dba94ff89f2ab368f3",
            "28728538d2ce4223b1bca375cdf54845",
            "26e0a0177dad49a89d8208041b62f7d6",
            "3497054d521b480086f0eea3c28f3171",
            "983d81f61ace4e108efaf6de202dfc2a",
            "25712ef075bb46a0b7b8e3418c178ad3",
            "d81124ced7b548f18f9b112ae883f7d4",
            "cd9f9a1f5e4247b8b24ab45f1a860b5c",
            "08e1a2cd0d9f48bdb3fb416e70919682",
            "35aae977135043ab9dcd8219276d9f31",
            "9b4a79db3832431faef73599c21b8f7c",
            "e1e043e1150c4726a0beb075fc47510b",
            "92b2cb461f134b6087a3c5aa8eb716f1",
            "279955a991704a0b980c33db75418338",
            "7aa3ff70e76a4f30ba1f893c04615887",
            "f96084d30fd84dc0ae739a199916783d",
            "ac2515d381b643a58984505e03895359",
            "d1cfeef4bbb04e92a14762ea38177e11",
            "085eeb7b6d2f4f54b89acfb49357a721",
            "80541fccad9840c395824e17a769693a",
            "94428c9fadae47969e6ced438cc6764b",
            "69fc9102ab4b47c3a29b0e49bec70773",
            "0708abe6f0e146a2ad094554db2cac4b",
            "6cb71abc5076448a857d553af8adfcaa",
            "4713af290f5f48719efd7d4019f60fdb",
            "6770aa4bc63c40a7a38fdc2f3d8e5986",
            "c16350591e0f42959adcda89c24fbcc6",
            "ee61a12b41f04bd3b64f3735e9ac830b",
            "4c1132aa68a44906956fe403f4e0a734",
            "9b4917d49f314e2aa4b6308fefbb52df",
            "052c17d7167a41178e2af128cf3b5d77",
            "f7a1534b8b4543b08983af79bf1303b2",
            "07e9bc5a484d4675a5320c99d47b73ac",
            "4e2befa544b8494a8b04bd98071c6b25",
            "2efd4005169449c5aed7874a50a1bbcc",
            "6d597688a37449c7be3c88eaa4059fbc",
            "1da9245984cf4b13b0ee3f1296b5abbe",
            "f156257470864617a3d5ad1efc199863",
            "a99f0b0b8ebc4f68acaa3fcbc278664a",
            "262e377a65b14300afe23ce3ff41b065",
            "304f47e5c63d4fe0847ccdc382ff2538",
            "1c583e3addfb4e13bb98db081e8ed048",
            "f919f021814b43a1ba19b4adc45deb7e",
            "3e3bbb41d6fe4d18a126773aa90ff065",
            "42212d360ace4da09dbaee80559d654d",
            "420981cd6ee54fbcad9563ccfc48656e",
            "07d4a01e2dba4e10ab72b82ddabffda4",
            "49be5c7d4c2a4142986787d8ea61df28",
            "3630eaad7ddd4b19b5d0163dc3aa566f",
            "5e84e4b6d1244231a6f4be5184924de8",
            "7a7f1338ed5a4547b548e0c8cc4c841d",
            "56dc349978064747b46c8ecb32f19003",
            "ad5dde823bb04e9587a9771a7a907290",
            "00c66956d92f418bad81999f91f1d7e4",
            "82f539b57f4e4dd0a64df92512eab2eb",
            "e8f2e89ac1de469ab3c7e28429781436",
            "7be816bf79d6463194fa34aff4178b84",
            "f246951aeb4f427f90d658be653ce9a5",
            "08c5319e835143e9a8e8a84775ab71e9",
            "bba0615cb54d4c19bfdef09c2c3c6886",
            "1f6ddd3ba5fa42189a2489867d6ab7bf",
            "7a51d6ff8a4e4f0b8e8c09761342a32e",
            "8a80e767cb7e4a588055769cdd38d4e9",
            "1e3a03671f824a299f14af91ff93d31f",
            "f3b934a0ec984edc96bcbd256ceb7744",
            "a00d211fbd274b039d8e2ceba0e2fd0b",
            "5380eb1ab4324afaa7e1e3b7c3d00caa",
            "da14efa9c45f42b2a3d3097b9a4ac206",
            "20fd86c3f48546f2a2a0b089ac3692f8",
            "5f12262f66844cdd8900c199ee819987",
            "deda5d3254494745ab49486605761caa",
            "a5afefba61b14a5eb3d65e75dd5f10aa",
            "48f116fc414f4016a25bcfd427325473",
            "f3cb37b1f918400688f77a81083325d7",
            "6a3110e35b974b5bbd34db81d539cf09",
            "d2891caf839546c9af5ea4e2df6571df",
            "bb9a7dcd8414467eb5f523f3fb5f5d68",
            "3996e241d8c7480589a32c5371d99ede",
            "e44a270b03ca4a5f89a2b2501af5a3fb",
            "f5a76575deb34ee98324cf636a397fa1",
            "c9ccf92030b7459d82738d9cb8c8c917",
            "4e307b1b1f0a415eb814f1c111258803",
            "b4a8fd39db02441d87a93fcecd326a65",
            "c3371bafd3cf491380fd14835f923177",
            "d75fda63e4e44dc884455d825320629b",
            "91acff72c20149afbc4aab7d8a7d8f76",
            "12619262e5fa4e149aafbce858cb2800",
            "6e58d9c568ba4309a9b07c57fe57c872",
            "9cc020c5c9184782964e471c7c555857",
            "dbe786b3e68245d39f6ceb3bfbe9f8ff",
            "7c6bbf8cb8e3480cbd2c8827894d556a",
            "8b5360e634a14b50a70ff12904b2a24d",
            "8bd85ca5e04842f5b11ba10f697a6783",
            "caf75d6f5ccf4311a31dff7f6f96ff3d",
            "27dfd1abdf7f4f38ac5ff41b29966372",
            "b98953eecd384cbf94ff2aa93df6ef66",
            "e0036231513340d3a170ab076748f501",
            "3d2eb7e02d3d4e399002db23030fee74"
          ]
        },
        "outputId": "e9d39092-1ee3-49fd-a6a9-2abfd70f3381"
      },
      "outputs": [
        {
          "output_type": "display_data",
          "data": {
            "text/plain": [
              "tokenizer_config.json:   0%|          | 0.00/7.34k [00:00<?, ?B/s]"
            ],
            "application/vnd.jupyter.widget-view+json": {
              "version_major": 2,
              "version_minor": 0,
              "model_id": "ef3fb932c32846a9894e97ff3921ad24"
            }
          },
          "metadata": {}
        },
        {
          "output_type": "display_data",
          "data": {
            "text/plain": [
              "vocab.json:   0%|          | 0.00/798k [00:00<?, ?B/s]"
            ],
            "application/vnd.jupyter.widget-view+json": {
              "version_major": 2,
              "version_minor": 0,
              "model_id": "b2d309f58e7b42a78752d87bfc64d7db"
            }
          },
          "metadata": {}
        },
        {
          "output_type": "display_data",
          "data": {
            "text/plain": [
              "merges.txt:   0%|          | 0.00/456k [00:00<?, ?B/s]"
            ],
            "application/vnd.jupyter.widget-view+json": {
              "version_major": 2,
              "version_minor": 0,
              "model_id": "7a2bcfddc305421fa0ed7276e4c2f760"
            }
          },
          "metadata": {}
        },
        {
          "output_type": "display_data",
          "data": {
            "text/plain": [
              "tokenizer.json:   0%|          | 0.00/2.11M [00:00<?, ?B/s]"
            ],
            "application/vnd.jupyter.widget-view+json": {
              "version_major": 2,
              "version_minor": 0,
              "model_id": "1614a39ef59d4aaaaafb5a3a6e4cb7fa"
            }
          },
          "metadata": {}
        },
        {
          "output_type": "display_data",
          "data": {
            "text/plain": [
              "added_tokens.json:   0%|          | 0.00/1.08k [00:00<?, ?B/s]"
            ],
            "application/vnd.jupyter.widget-view+json": {
              "version_major": 2,
              "version_minor": 0,
              "model_id": "c87dd96c0d6c4e698a36fbefbb7cc6d2"
            }
          },
          "metadata": {}
        },
        {
          "output_type": "display_data",
          "data": {
            "text/plain": [
              "special_tokens_map.json:   0%|          | 0.00/99.0 [00:00<?, ?B/s]"
            ],
            "application/vnd.jupyter.widget-view+json": {
              "version_major": 2,
              "version_minor": 0,
              "model_id": "9b4a79db3832431faef73599c21b8f7c"
            }
          },
          "metadata": {}
        },
        {
          "output_type": "display_data",
          "data": {
            "text/plain": [
              "config.json:   0%|          | 0.00/735 [00:00<?, ?B/s]"
            ],
            "application/vnd.jupyter.widget-view+json": {
              "version_major": 2,
              "version_minor": 0,
              "model_id": "69fc9102ab4b47c3a29b0e49bec70773"
            }
          },
          "metadata": {}
        },
        {
          "output_type": "display_data",
          "data": {
            "text/plain": [
              "model.safetensors.index.json:   0%|          | 0.00/35.7k [00:00<?, ?B/s]"
            ],
            "application/vnd.jupyter.widget-view+json": {
              "version_major": 2,
              "version_minor": 0,
              "model_id": "07e9bc5a484d4675a5320c99d47b73ac"
            }
          },
          "metadata": {}
        },
        {
          "output_type": "display_data",
          "data": {
            "text/plain": [
              "Downloading shards:   0%|          | 0/2 [00:00<?, ?it/s]"
            ],
            "application/vnd.jupyter.widget-view+json": {
              "version_major": 2,
              "version_minor": 0,
              "model_id": "3e3bbb41d6fe4d18a126773aa90ff065"
            }
          },
          "metadata": {}
        },
        {
          "output_type": "display_data",
          "data": {
            "text/plain": [
              "model-00001-of-00002.safetensors:   0%|          | 0.00/5.00G [00:00<?, ?B/s]"
            ],
            "application/vnd.jupyter.widget-view+json": {
              "version_major": 2,
              "version_minor": 0,
              "model_id": "82f539b57f4e4dd0a64df92512eab2eb"
            }
          },
          "metadata": {}
        },
        {
          "output_type": "display_data",
          "data": {
            "text/plain": [
              "model-00002-of-00002.safetensors:   0%|          | 0.00/564M [00:00<?, ?B/s]"
            ],
            "application/vnd.jupyter.widget-view+json": {
              "version_major": 2,
              "version_minor": 0,
              "model_id": "a00d211fbd274b039d8e2ceba0e2fd0b"
            }
          },
          "metadata": {}
        },
        {
          "output_type": "display_data",
          "data": {
            "text/plain": [
              "Loading checkpoint shards:   0%|          | 0/2 [00:00<?, ?it/s]"
            ],
            "application/vnd.jupyter.widget-view+json": {
              "version_major": 2,
              "version_minor": 0,
              "model_id": "bb9a7dcd8414467eb5f523f3fb5f5d68"
            }
          },
          "metadata": {}
        },
        {
          "output_type": "display_data",
          "data": {
            "text/plain": [
              "generation_config.json:   0%|          | 0.00/124 [00:00<?, ?B/s]"
            ],
            "application/vnd.jupyter.widget-view+json": {
              "version_major": 2,
              "version_minor": 0,
              "model_id": "6e58d9c568ba4309a9b07c57fe57c872"
            }
          },
          "metadata": {}
        }
      ],
      "source": [
        "from transformers import AutoTokenizer, pipeline, AutoModelForCausalLM\n",
        "from langchain import HuggingFacePipeline\n",
        "import transformers\n",
        "import torch\n",
        "\n",
        "# Get model's tokenizer using AutoTokenizer.from_pretrained()\n",
        "\n",
        "# YOUR CODE HERE\n",
        "tokenizer = AutoTokenizer.from_pretrained(\"microsoft/phi-2\")\n",
        "# Load the 'microsoft/phi-2' model for causal language modeling. Use AutoModelForCausalLM.from_pretrained()\n",
        "# with torch_dtype='auto' and device_map='auto'\n",
        "\n",
        "# YOUR CODE HERE\n",
        "model = AutoModelForCausalLM.from_pretrained(\"microsoft/phi-2\", torch_dtype='auto', device_map='auto')\n",
        "\n",
        "\n",
        "# Create a text-generation pipeline using the transformers library with a specific model and tokenizer,\n",
        "# Adjust parameters such as device_map='auto', token limits = 256, and temperature = 0.5\n",
        "\n",
        "# YOUR CODE HERE\n",
        "pipe = pipeline(\n",
        "    \"text-generation\",\n",
        "    model=model,\n",
        "    tokenizer=tokenizer,\n",
        "    device_map='auto',\n",
        "    max_length=256,\n",
        "    temperature=0.5\n",
        ")"
      ],
      "id": "8BDZfrVYwDtF"
    },
    {
      "cell_type": "markdown",
      "metadata": {
        "id": "xcMLV9b0wDtG"
      },
      "source": [
        "Integrating the Phi-2 model with Langchain for better prompt handling."
      ],
      "id": "xcMLV9b0wDtG"
    },
    {
      "cell_type": "code",
      "execution_count": 4,
      "metadata": {
        "id": "rAlwk0iXwDtG",
        "colab": {
          "base_uri": "https://localhost:8080/"
        },
        "outputId": "4a89f6f2-8535-414d-ea86-c0c6b7849c59"
      },
      "outputs": [
        {
          "output_type": "stream",
          "name": "stderr",
          "text": [
            "<ipython-input-4-2e0690f5aeed>:32: LangChainDeprecationWarning: The class `HuggingFacePipeline` was deprecated in LangChain 0.0.37 and will be removed in 1.0. An updated version of the class exists in the :class:`~langchain-huggingface package and should be used instead. To use it run `pip install -U :class:`~langchain-huggingface` and import as `from :class:`~langchain_huggingface import HuggingFacePipeline``.\n",
            "  phi2_HFP_llm_chain = LLMChain(llm=HuggingFacePipeline(pipeline=pipe), prompt=prompt)\n",
            "<ipython-input-4-2e0690f5aeed>:32: LangChainDeprecationWarning: The class `LLMChain` was deprecated in LangChain 0.1.17 and will be removed in 1.0. Use :meth:`~RunnableSequence, e.g., `prompt | llm`` instead.\n",
            "  phi2_HFP_llm_chain = LLMChain(llm=HuggingFacePipeline(pipeline=pipe), prompt=prompt)\n"
          ]
        }
      ],
      "source": [
        "from langchain import HuggingFacePipeline\n",
        "from langchain.prompts import PromptTemplate\n",
        "from langchain.chains.llm import LLMChain\n",
        "\n",
        "# Creating a Text-Generation Pipeline Using Hugging Face Transformers\n",
        "# configure the pad token in a Hugging Face model when using a pipeline for text generation\n",
        "\n",
        "# YOUR CODE HERE\n",
        "pipe = pipeline(\n",
        "    \"text-generation\",\n",
        "    model=model,\n",
        "    tokenizer=tokenizer,\n",
        "    device_map='auto',\n",
        "    max_length=256,\n",
        "    temperature=0.5,\n",
        "    pad_token_id=tokenizer.eos_token_id\n",
        ")\n",
        "\n",
        "# Define a prompt template\n",
        "task_template = '''\n",
        "You are a friendly chatbot assistant that gives structured output.\n",
        "Your role is to arrange the given task in this structure.\n",
        "### instruction:\n",
        "{instruction}\n",
        "Output:\n",
        "'''\n",
        "\n",
        "# Creating a Task Prompt Template and LLM Chain Using phi-2 Model. Store it in variable 'phi2_HFP_llm_chain'\n",
        "\n",
        "# YOUR CODE HERE\n",
        "prompt = PromptTemplate(input_variables=[\"instruction\"], template=task_template)\n",
        "phi2_HFP_llm_chain = LLMChain(llm=HuggingFacePipeline(pipeline=pipe), prompt=prompt)"
      ],
      "id": "rAlwk0iXwDtG"
    },
    {
      "cell_type": "markdown",
      "metadata": {
        "id": "PGh5g1fawDtG"
      },
      "source": [
        "## 1.3 Querying the Phi-2 Model\n",
        "**Exercise-2:** Now let's query the model with a prompt. For example, let's ask the model to 'Give an overview of Computational Data Science PG Level certificaion course'. From the response, extract the 'text' field and save it in a variable 'phi_2_extracted_output'. **(0.5 point)**"
      ],
      "id": "PGh5g1fawDtG"
    },
    {
      "cell_type": "code",
      "execution_count": 5,
      "metadata": {
        "id": "rz6R7S4nwDtH",
        "colab": {
          "base_uri": "https://localhost:8080/"
        },
        "outputId": "1093dd66-22c4-4417-c62b-b95f99921abf"
      },
      "outputs": [
        {
          "output_type": "stream",
          "name": "stderr",
          "text": [
            "<ipython-input-5-00e63cf14d5b>:8: LangChainDeprecationWarning: The method `Chain.run` was deprecated in langchain 0.1.0 and will be removed in 1.0. Use :meth:`~invoke` instead.\n",
            "  response = phi2_HFP_llm_chain.run(question)\n",
            "Truncation was not explicitly activated but `max_length` is provided a specific value, please use `truncation=True` to explicitly truncate examples to max length. Defaulting to 'longest_first' truncation strategy. If you encode pairs of sequences (GLUE-style) with the tokenizer you can select this strategy more precisely by providing a specific strategy to `truncation`.\n",
            "/usr/local/lib/python3.10/dist-packages/transformers/generation/configuration_utils.py:567: UserWarning: `do_sample` is set to `False`. However, `temperature` is set to `0.5` -- this flag is only used in sample-based generation modes. You should set `do_sample=True` or unset `temperature`.\n",
            "  warnings.warn(\n"
          ]
        },
        {
          "output_type": "stream",
          "name": "stdout",
          "text": [
            "\n",
            "You are a friendly chatbot assistant that gives structured output.\n",
            "Your role is to arrange the given task in this structure.\n",
            "### instruction:\n",
            "Give an overview of Computational Data Science PG Level certificaion course\n",
            "Output:\n",
            "The Computational Data Science PG Level Certification course is designed to provide an overview of the field of computational data science.\n",
            "\n"
          ]
        }
      ],
      "source": [
        "# Example query\n",
        "question = 'Give an overview of Computational Data Science PG Level certificaion course'\n",
        "\n",
        "# Invoke the language model chain 'phi2_HFP_llm_chain' to generate a response to the above question and\n",
        "# print the response.\n",
        "\n",
        "# YOUR CODE HERE\n",
        "response = phi2_HFP_llm_chain.run(question)\n",
        "print(response)"
      ],
      "id": "rz6R7S4nwDtH"
    },
    {
      "cell_type": "code",
      "source": [
        "# In the above code cell, you have already got Simulated response from the model.\n",
        "# The response has 2 keys ('instruction' and 'text').\n",
        "# Extract the 'text' field from the response.\n",
        "\n",
        "# YOUR CODE HERE\n",
        "response_text = response[response.find('instruction:'):]\n",
        "\n",
        "# Parse the text to get the output part only\n",
        "# Assuming the output starts after the keyword \"Output:\"\n",
        "# (Find the index after \"Output:\")\n",
        "\n",
        "# YOUR CODE HERE\n",
        "output_start_index = response_text.find(\"Output:\") + len(\"Output:\")\n",
        "\n",
        "# (Extract the output part and strip extra whitespace &\n",
        "                   # then store it in a variable 'phi_2_extracted_output')\n",
        "\n",
        "# YOUR CODE HERE\n",
        "phi_2_extracted_output = response_text[output_start_index:].strip()\n",
        "\n",
        "# Print the extracted output variable 'phi_2_extracted_output'\n",
        "\n",
        "# YOUR CODE HERE\n",
        "print(phi_2_extracted_output)"
      ],
      "metadata": {
        "id": "cRvj0kTLcH5X",
        "colab": {
          "base_uri": "https://localhost:8080/"
        },
        "outputId": "01db99a6-9ef5-4577-ddbf-2fcee61690bf"
      },
      "id": "cRvj0kTLcH5X",
      "execution_count": 6,
      "outputs": [
        {
          "output_type": "stream",
          "name": "stdout",
          "text": [
            "The Computational Data Science PG Level Certification course is designed to provide an overview of the field of computational data science.\n"
          ]
        }
      ]
    },
    {
      "cell_type": "markdown",
      "source": [
        "### 1.4 Using the HuggingFace API Key"
      ],
      "metadata": {
        "id": "07y4h_tAWrq2"
      },
      "id": "07y4h_tAWrq2"
    },
    {
      "cell_type": "code",
      "source": [
        "from google.colab import userdata\n",
        "h_api_key = userdata.get('HF_TOKEN')"
      ],
      "metadata": {
        "id": "wooEmPPIW3Bh"
      },
      "id": "wooEmPPIW3Bh",
      "execution_count": 7,
      "outputs": []
    },
    {
      "cell_type": "code",
      "source": [
        "# Set your HuggingFace API key\n",
        "os.environ[\"HUGGINGFACEHUB_API_TOKEN\"] = h_api_key"
      ],
      "metadata": {
        "id": "b5lOv1YiW6R4"
      },
      "id": "b5lOv1YiW6R4",
      "execution_count": 8,
      "outputs": []
    },
    {
      "cell_type": "markdown",
      "source": [
        "## 1.5 Initializing HuggingFaceEndpoint with [**HuggingFaceH4/zephyr-7b-beta**](https://huggingface.co/HuggingFaceH4/zephyr-7b-beta) model\n",
        "\n",
        "<br><br>\n",
        "<center>\n",
        "<img src=\" https://cdn.exec.talentsprint.com/static/cds/content/zephyr_without_RAG-2.png\" width= 600 px/>\n",
        "</center>\n",
        "<br><br>\n",
        "\n"
      ],
      "metadata": {
        "id": "oWm_gy3JXIwP"
      },
      "id": "oWm_gy3JXIwP"
    },
    {
      "cell_type": "code",
      "source": [
        "# Initialize HuggingFaceEndpoint with your endpoint URL\n",
        "endpoint_url = \"https://huggingface.co/HuggingFaceH4/zephyr-7b-beta\"\n",
        "\n",
        "# Initialize the model name \"HuggingFaceH4/zephyr-7b-beta\" in a variable model_name\n",
        "model_name = \"HuggingFaceH4/zephyr-7b-beta\""
      ],
      "metadata": {
        "id": "0wJjL6m4XNI5"
      },
      "id": "0wJjL6m4XNI5",
      "execution_count": 9,
      "outputs": []
    },
    {
      "cell_type": "markdown",
      "source": [
        "## 1.6 Creating the LLM using zephyr-7b-beta\n",
        "\n",
        "**Exercise-3:** Create an LLM using HuggingFaceEndpoint. **(0.5 point)**"
      ],
      "metadata": {
        "id": "aEAwW1nsXVur"
      },
      "id": "aEAwW1nsXVur"
    },
    {
      "cell_type": "code",
      "source": [
        "# Import HuggingFace model abstraction class from langchain\n",
        "from langchain_huggingface import HuggingFaceEndpoint"
      ],
      "metadata": {
        "id": "-dFhLKSQXbR_"
      },
      "id": "-dFhLKSQXbR_",
      "execution_count": 10,
      "outputs": []
    },
    {
      "cell_type": "code",
      "source": [
        "# Create an LLM using HuggingFaceEndpoint.\n",
        "# Configure HuggingFaceEndpoint for text generation with the specified parameters such as max_new_tokens = 512,\n",
        "# top_k = 30, temperature = 0.1 and repetition_penalty = 1.03. Store the created llm in\n",
        "# a variable 'zephyr_7b_beta_HFE_llm'\n",
        "\n",
        "# YOUR CODE HERE\n",
        "zephyr_7b_beta_HFE_llm = HuggingFaceEndpoint(\n",
        "    # endpoint_url=endpoint_url,\n",
        "    repo_id=\"HuggingFaceH4/zephyr-7b-beta\",\n",
        "    task=\"text-generation\",\n",
        "    max_new_tokens = 512,\n",
        "    top_k = 30,\n",
        "    temperature = 0.1,\n",
        "    repetition_penalty = 1.03,\n",
        ")\n"
      ],
      "metadata": {
        "id": "gtKzNe-sXfaI",
        "colab": {
          "base_uri": "https://localhost:8080/"
        },
        "outputId": "6b84b2cb-6075-4c15-f6c8-a864535dfadf"
      },
      "id": "gtKzNe-sXfaI",
      "execution_count": 11,
      "outputs": [
        {
          "output_type": "stream",
          "name": "stdout",
          "text": [
            "The token has not been saved to the git credentials helper. Pass `add_to_git_credential=True` in this function directly or `--add-to-git-credential` if using via `huggingface-cli` if you want to set the git credential as well.\n",
            "Token is valid (permission: write).\n",
            "Your token has been saved to /root/.cache/huggingface/token\n",
            "Login successful\n"
          ]
        }
      ]
    },
    {
      "cell_type": "markdown",
      "source": [
        "## 1.7 Querying the HuggingFace zephyr-7b-beta Model\n",
        "Now let's query the model with a prompt. For example, let's ask the model to give an overview of the Computational Data Science PG Level certification course."
      ],
      "metadata": {
        "id": "iWcA098TX1ZP"
      },
      "id": "iWcA098TX1ZP"
    },
    {
      "cell_type": "code",
      "source": [
        "# Query the model with a prompt and ask the model to \"Give an overview of Computational Data Science PG Level certificaion course\"\n",
        "\n",
        "zephyr_7b_beta_response = zephyr_7b_beta_HFE_llm.invoke(\"Give an overview of Computational Data Science PG Level certificaion course\")\n",
        "print(zephyr_7b_beta_response)"
      ],
      "metadata": {
        "id": "e_7uZ_X6Xk4J",
        "colab": {
          "base_uri": "https://localhost:8080/"
        },
        "outputId": "10231867-3db7-4589-f413-f15e92c259b3"
      },
      "id": "e_7uZ_X6Xk4J",
      "execution_count": 12,
      "outputs": [
        {
          "output_type": "stream",
          "name": "stdout",
          "text": [
            " offered by IIIT-Bangalore.\n",
            "\n",
            "The Computational Data Science PG Level certificaion course offered by IIIT-Bangalore is a comprehensive program designed to provide students with a deep understanding of data science concepts and techniques. The course covers a wide range of topics, including machine learning, deep learning, data visualization, and big data analytics.\n",
            "\n",
            "The program is delivered through a combination of online lectures, interactive sessions, and hands-on projects. Students will have access to a dedicated learning platform, which includes video lectures, quizzes, and assignments. They will also be able to interact with faculty members and peers through discussion forums and live sessions.\n",
            "\n",
            "The course is designed to be flexible, allowing students to complete it at their own pace. However, it is recommended that students dedicate around 15-20 hours per week to the program. Upon completion, students will receive a certificate from IIIT-Bangalore, which is recognized by industry partners and academic institutions worldwide.\n",
            "\n",
            "Some of the key features of the Computational Data Science PG Level certificaion course include:\n",
            "\n",
            "1. Industry-relevant curriculum: The course is designed in collaboration with industry partners, ensuring that students learn the latest tools and techniques used in the field.\n",
            "\n",
            "2. Hands-on projects: Students will work on real-world projects, applying the concepts they have learned to solve practical problems.\n",
            "\n",
            "3. Interactive sessions: Students will have the opportunity to interact with faculty members and peers through live sessions, helping them to clarify doubts and gain insights into the field.\n",
            "\n",
            "4. Flexible delivery: The course is delivered entirely online, allowing students to complete it at their own pace and from anywhere in the world.\n",
            "\n",
            "5. Recognized certification: Upon completion, students will receive a certificate from IIIT-Bangalore, which is recognized by industry partners and academic institutions worldwide.\n",
            "\n",
            "Overall, the Computational Data Science PG Level certificaion course offered by IIIT-Bangalore is an excellent choice for anyone looking to gain a deep understanding of data science concepts and techniques. With its industry-relevant curriculum, hands-on projects, interactive sessions, flexible delivery, and recognized certification, this program provides students with the skills and knowledge they need to succeed in the field.\n"
          ]
        }
      ]
    },
    {
      "cell_type": "markdown",
      "source": [
        "## 1.8 Comparison: Microsoft Phi-2 and Hugging Face zephyr-7b-beta model\n",
        "\n",
        "**Exercise-4:** Compare the RetrievalQA performance between Phi-2 and Hugging Face and zephyr-7b-beta model using Cosine Similarity. **(0.5 point)**\n",
        "\n",
        "- **(a)** Consider the reference Question: 'Give an overview of Computational Data Science PG Level certificaion course'. Compute Cosine Similarity.\n",
        "\n",
        "- **(b)** Consider the Benchmark_solution: 'Are you a working professional looking to build expertise in Data Science? Look no further than the PG Level Advanced Certification course in\n",
        "Data Science offered by Indian Institute of Science (IISc) in association with TalentSprint. This highly sought-after programme offers a unique 5-step learning process, including LIVE online faculty-led interactive sessions, capstone projects, mentorship, case studies, and data stories. Taught by world-class faculty from a global institution and supplemented with industry learnings, this 12-month programme is best suited for professionals who want to gain practical hands-on experience in solving real-life challenges. The programme teaches participants how to build powerful models to generate actionable insights, necessary for making data-driven decisions. With an overwhelming response, this programme has enabled 750+ professionals to build Data Science expertise. Don't miss the opportunity to gain an in-depth understanding of the mechanics of working with data and identifying insights. Enroll now and take your career to the next level with the PG Level Advanced Certification course in Computational Data Science.' Compute Cosine Similarity."
      ],
      "metadata": {
        "id": "PWXRAKAQZuXn"
      },
      "id": "PWXRAKAQZuXn"
    },
    {
      "cell_type": "code",
      "source": [
        "# (a)\n",
        "Q1 = \"Give an overview of Computational Data Science PG Level certificaion course\"\n",
        "# Instantiate the Hugging Face embeddings class and embed the query 'Q1' while reshaping the result into a 2D NumPy array\n",
        "\n",
        "# YOUR CODE HERE\n",
        "embedding = HuggingFaceHubEmbeddings()\n",
        "Q1_embedding = embedding.embed_query(Q1)\n",
        "Q1_embedding = np.array(Q1_embedding).reshape(1, -1)\n",
        "\n",
        "\n",
        "# Embed the extracted output from phi-2 ('phi_2_extracted_output') using Hugging Face embeddings and\n",
        "# reshape the result into a 2D NumPy array\n",
        "\n",
        "# YOUR CODE HERE\n",
        "phi2_embedding = embedding.embed_query(phi_2_extracted_output)\n",
        "phi2_embedding = np.array(phi2_embedding).reshape(1, -1)\n",
        "\n",
        "# Use Hugging Face embeddings to embed the response from Zephyr 7b beta ('zephyr_7b_beta_response') and\n",
        "# reshape it into a 2D NumPy array\n",
        "\n",
        "# YOUR CODE HERE\n",
        "zephyr_embedding = embedding.embed_query(zephyr_7b_beta_response)\n",
        "zephyr_embedding = np.array(zephyr_embedding).reshape(1, -1)"
      ],
      "metadata": {
        "id": "uqchYQNgaIso",
        "colab": {
          "base_uri": "https://localhost:8080/"
        },
        "outputId": "0824cf9d-67d6-47ef-a0ec-ddfde70ba80f"
      },
      "id": "uqchYQNgaIso",
      "execution_count": 13,
      "outputs": [
        {
          "output_type": "stream",
          "name": "stderr",
          "text": [
            "<ipython-input-13-87740c4510df>:6: LangChainDeprecationWarning: The class `HuggingFaceHubEmbeddings` was deprecated in LangChain 0.2.2 and will be removed in 1.0. An updated version of the class exists in the :class:`~langchain-huggingface package and should be used instead. To use it run `pip install -U :class:`~langchain-huggingface` and import as `from :class:`~langchain_huggingface import HuggingFaceEndpointEmbeddings``.\n",
            "  embedding = HuggingFaceHubEmbeddings()\n"
          ]
        }
      ]
    },
    {
      "cell_type": "code",
      "source": [
        "# Compute cosine similarity\n",
        "# Calculate the cosine similarity between Q1 and 'phi_2_extracted_output'\n",
        "\n",
        "# YOUR CODE HERE\n",
        "# q1_phi2_cosine = cosine_similarity(Q1_embedding, phi2_embedding)\n",
        "q1_phi2_cosine = np.dot(Q1_embedding, phi2_embedding.T) / (np.linalg.norm(Q1_embedding) * np.linalg.norm(phi2_embedding))\n",
        "print(q1_phi2_cosine)\n",
        "\n",
        "# Calculate the cosine similarity between Q1 and 'zephyr_7b_beta_response'\n",
        "\n",
        "# YOUR CODE HERE\n",
        "q1_zypher_cosine = np.dot(Q1_embedding, zephyr_embedding.T) / (np.linalg.norm(Q1_embedding) * np.linalg.norm(zephyr_embedding))\n",
        "print(q1_zypher_cosine)"
      ],
      "metadata": {
        "id": "2zrPzfkgdl6f",
        "colab": {
          "base_uri": "https://localhost:8080/"
        },
        "outputId": "cd7cfcb9-bd98-468b-fdee-25881c1eba45"
      },
      "id": "2zrPzfkgdl6f",
      "execution_count": 14,
      "outputs": [
        {
          "output_type": "stream",
          "name": "stdout",
          "text": [
            "[[0.86831832]]\n",
            "[[0.83813888]]\n"
          ]
        }
      ]
    },
    {
      "cell_type": "code",
      "source": [
        "# (b)\n",
        "Benchmark_solution = \"\"\"Are you a working professional looking to build expertise in Data Science?\n",
        "Look no further than the PG Level Advanced Certification course in Data Science offered by Indian Institute of Science (IISc)\n",
        "in association with NSE TalentSprint. This highly sought-after programme offers a unique 5-step learning process, including\n",
        "LIVE online faculty-led interactive sessions, capstone projects, mentorship, case studies, and data stories.\n",
        "Taught by world-class faculty from a global institution and supplemented with industry learnings, this 12-month programme is best suited\n",
        "for professionals who want to gain practical hands-on experience in solving real-life challenges. The programme teaches participants\n",
        "how to build powerful models to generate actionable insights, necessary for making data-driven decisions.\n",
        "With an overwhelming response, this programme has enabled 750+ professionals to build Data Science expertise.\n",
        "Don't miss the opportunity to gain an in-depth understanding of the mechanics of working with data and identifying insights.\n",
        "Enroll now and take your career to the next level with the PG Level Advanced Certification course in Computational Data Science.\"\"\"\n",
        "\n",
        "# Embed the Benchmark Solution (BMS) using Hugging Face embeddings and reshape it into a 2D array\n",
        "\n",
        "# YOUR CODE HERE\n",
        "embedding = HuggingFaceHubEmbeddings()\n",
        "BMS_embedding = embedding.embed_query(Benchmark_solution)\n",
        "BMS_embedding = np.array(BMS_embedding).reshape(1, -1)\n",
        "\n",
        "# Embed the extracted output from phi-2 ('phi_2_extracted_output') using Hugging Face embeddings and\n",
        "# reshape the result into a 2D NumPy array\n",
        "\n",
        "# YOUR CODE HERE\n",
        "phi2_embedding = embedding.embed_query(phi_2_extracted_output)\n",
        "phi2_embedding = np.array(phi2_embedding).reshape(1, -1)\n",
        "\n",
        "# Embed the response from Zephyr 7b beta ('zephyr_7b_beta_response') and\n",
        "# reshape it into a 2D NumPy array\n",
        "\n",
        "# YOUR CODE HERE\n",
        "zephyr_embedding = embedding.embed_query(zephyr_7b_beta_response)\n",
        "zephyr_embedding = np.array(zephyr_embedding).reshape(1, -1)"
      ],
      "metadata": {
        "id": "B-c_hfSvvMDm"
      },
      "id": "B-c_hfSvvMDm",
      "execution_count": 15,
      "outputs": []
    },
    {
      "cell_type": "code",
      "source": [
        "# Compute cosine similarity\n",
        "# Calculate and print the cosine similarity between the Benchmark Solution (BMS) and 'phi_2_extracted_output'\n",
        "\n",
        "# YOUR CODE HERE\n",
        "# BMS_phi2_cosine = cosine_similarity(BMS_embedding, phi2_embedding)\n",
        "BMS_phi2_cosine = np.dot(BMS_embedding, phi2_embedding.T) / (np.linalg.norm(BMS_embedding) * np.linalg.norm(phi2_embedding))\n",
        "print(BMS_phi2_cosine)\n",
        "\n",
        "# Calculate and print the cosine similarity between the Benchmark Solution (BMS) and 'zephyr_7b_beta_response'\n",
        "\n",
        "# YOUR CODE HERE\n",
        "# BMS_zephyr_cosine = cosine_similarity(BMS_embedding, zephyr_embedding)\n",
        "BMS_zephyr_cosine = np.dot(BMS_embedding, zephyr_embedding.T) / (np.linalg.norm(BMS_embedding) * np.linalg.norm(zephyr_embedding))\n",
        "print(BMS_zephyr_cosine)"
      ],
      "metadata": {
        "id": "EpWLckZ7wwGf",
        "colab": {
          "base_uri": "https://localhost:8080/"
        },
        "outputId": "752646d2-8e64-443f-9c73-99935ee38af6"
      },
      "id": "EpWLckZ7wwGf",
      "execution_count": 16,
      "outputs": [
        {
          "output_type": "stream",
          "name": "stdout",
          "text": [
            "[[0.79826978]]\n",
            "[[0.83685579]]\n"
          ]
        }
      ]
    },
    {
      "cell_type": "markdown",
      "metadata": {
        "id": "5cac1XHwwDtH"
      },
      "source": [
        "#**Phase-II:** Performing Retrieval Augmented Generation (RAG) with Microsoft Phi-2\n",
        "\n",
        "<br><br>\n",
        "<center>\n",
        "<img src=\" https://cdn.exec.talentsprint.com/static/cds/content/Phi_2_with_RAG-3.png\" width= 1200 px/>\n",
        "</center>\n",
        "<br><br>\n",
        "\n",
        "## 2.1 Retrieval Augmented Generation (RAG) with Llama-index\n",
        "\n",
        "In this section, we'll implement RAG using Llama-index to augment the retrieval from document data."
      ],
      "id": "5cac1XHwwDtH"
    },
    {
      "cell_type": "code",
      "execution_count": 17,
      "metadata": {
        "id": "YKZ7geLzwDtH",
        "colab": {
          "base_uri": "https://localhost:8080/"
        },
        "outputId": "5ffa5927-ae63-4353-ee92-d6d55508903f"
      },
      "outputs": [
        {
          "output_type": "stream",
          "name": "stdout",
          "text": [
            "\u001b[2K   \u001b[90m━━━━━━━━━━━━━━━━━━━━━━━━━━━━━━━━━━━━━━━━\u001b[0m \u001b[32m1.6/1.6 MB\u001b[0m \u001b[31m31.3 MB/s\u001b[0m eta \u001b[36m0:00:00\u001b[0m\n",
            "\u001b[2K   \u001b[90m━━━━━━━━━━━━━━━━━━━━━━━━━━━━━━━━━━━━━━━━\u001b[0m \u001b[32m1.2/1.2 MB\u001b[0m \u001b[31m68.0 MB/s\u001b[0m eta \u001b[36m0:00:00\u001b[0m\n",
            "\u001b[2K   \u001b[90m━━━━━━━━━━━━━━━━━━━━━━━━━━━━━━━━━━━━━━━━\u001b[0m \u001b[32m295.8/295.8 kB\u001b[0m \u001b[31m26.6 MB/s\u001b[0m eta \u001b[36m0:00:00\u001b[0m\n",
            "\u001b[2K   \u001b[90m━━━━━━━━━━━━━━━━━━━━━━━━━━━━━━━━━━━━━━━━\u001b[0m \u001b[32m1.5/1.5 MB\u001b[0m \u001b[31m75.7 MB/s\u001b[0m eta \u001b[36m0:00:00\u001b[0m\n",
            "\u001b[2K   \u001b[90m━━━━━━━━━━━━━━━━━━━━━━━━━━━━━━━━━━━━━━━━\u001b[0m \u001b[32m173.8/173.8 kB\u001b[0m \u001b[31m15.5 MB/s\u001b[0m eta \u001b[36m0:00:00\u001b[0m\n",
            "\u001b[2K   \u001b[90m━━━━━━━━━━━━━━━━━━━━━━━━━━━━━━━━━━━━━━━━\u001b[0m \u001b[32m383.7/383.7 kB\u001b[0m \u001b[31m32.1 MB/s\u001b[0m eta \u001b[36m0:00:00\u001b[0m\n",
            "\u001b[2K   \u001b[90m━━━━━━━━━━━━━━━━━━━━━━━━━━━━━━━━━━━━━━━━\u001b[0m \u001b[32m1.2/1.2 MB\u001b[0m \u001b[31m58.3 MB/s\u001b[0m eta \u001b[36m0:00:00\u001b[0m\n",
            "\u001b[2K   \u001b[90m━━━━━━━━━━━━━━━━━━━━━━━━━━━━━━━━━━━━━━━━\u001b[0m \u001b[32m325.2/325.2 kB\u001b[0m \u001b[31m29.7 MB/s\u001b[0m eta \u001b[36m0:00:00\u001b[0m\n",
            "\u001b[?25h"
          ]
        }
      ],
      "source": [
        "!pip install -q pypdf llama-index python-dotenv"
      ],
      "id": "YKZ7geLzwDtH"
    },
    {
      "cell_type": "markdown",
      "metadata": {
        "id": "0455w-K7wDtI"
      },
      "source": [
        "## 2.2 Setup Llama-index\n",
        "Load necessary components, read documents, and set up the RAG pipeline."
      ],
      "id": "0455w-K7wDtI"
    },
    {
      "cell_type": "code",
      "source": [
        "!pip -qq install --upgrade llama-index\n",
        "!pip -qq install llama-index-embeddings-langchain\n",
        "!pip -qq install llama_index.llms.ollama\n",
        "!pip -qq install llama_index.embeddings.huggingface\n",
        "!pip -qq install llama-index-llms-langchain\n",
        "!pip -qq install faiss-gpu\n",
        "!pip -qq install llama-index-vector-stores-faiss"
      ],
      "metadata": {
        "id": "YcNDk7YXVAyD"
      },
      "id": "YcNDk7YXVAyD",
      "execution_count": 44,
      "outputs": []
    },
    {
      "cell_type": "markdown",
      "source": [
        "## 2.3 Importing necessary packages from Llama-index"
      ],
      "metadata": {
        "id": "tFKcnzQMwuLg"
      },
      "id": "tFKcnzQMwuLg"
    },
    {
      "cell_type": "code",
      "source": [
        "from llama_index.core import (\n",
        "    SimpleDirectoryReader,\n",
        "    load_index_from_storage,\n",
        "    VectorStoreIndex,\n",
        "    StorageContext,\n",
        "    Settings\n",
        ")\n",
        "from llama_index.vector_stores.faiss import FaissVectorStore\n",
        "# from llama_index.core.indices.vector_store.base import VectorStoreIndex\n",
        "# from llama_index.core import SimpleDirectoryReader\n",
        "# from langchain.vectorstores import FAISS\n",
        "from llama_index.core import ServiceContext"
      ],
      "metadata": {
        "id": "3zwvTV9Sg5Xk"
      },
      "id": "3zwvTV9Sg5Xk",
      "execution_count": 103,
      "outputs": []
    },
    {
      "cell_type": "code",
      "source": [
        "#@title 2.4 Download Dataset\n",
        "#!wget -qq https://cdn.exec.talentsprint.com/static/cds/content/pca_d1.pdf\n",
        "#!wget -qq https://cdn.exec.talentsprint.com/static/cds/content/ens_d2.pdf\n",
        "!wget -qq https://cdn.exec.talentsprint.com/static/cds/content/demo_faqs.csv\n",
        "!wget -qq https://cdn.exec.talentsprint.com/static/cds/content/docs.zip\n",
        "!unzip docs.zip -d docs  # This will unzip docs.zip into a folder named 'docs'\n",
        "print(\"Dataset downloaded successfully!!\")"
      ],
      "metadata": {
        "id": "iIlzQjWbjxsN",
        "colab": {
          "base_uri": "https://localhost:8080/"
        },
        "outputId": "d2fc210e-3580-4c93-cc30-78f962944299"
      },
      "id": "iIlzQjWbjxsN",
      "execution_count": 20,
      "outputs": [
        {
          "output_type": "stream",
          "name": "stdout",
          "text": [
            "Archive:  docs.zip\n",
            "   creating: docs/docs/\n",
            "  inflating: docs/docs/DS_PG_Level.pdf  \n",
            "Dataset downloaded successfully!!\n"
          ]
        }
      ]
    },
    {
      "cell_type": "markdown",
      "source": [
        "## 2.5 Load Data (PDF Document)"
      ],
      "metadata": {
        "id": "QSDW75lduXIS"
      },
      "id": "QSDW75lduXIS"
    },
    {
      "cell_type": "code",
      "source": [
        "# Read documents\n",
        "documents = SimpleDirectoryReader('/content/docs/docs').load_data()"
      ],
      "metadata": {
        "id": "uRWwT8Y47GQd",
        "collapsed": true
      },
      "id": "uRWwT8Y47GQd",
      "execution_count": 46,
      "outputs": []
    },
    {
      "cell_type": "code",
      "source": [
        "# documents = []\n",
        "# for doc in os.listdir('/content/docs/docs'):\n",
        "#   documents.extend(PyPDFLoader(f'/content/docs/docs/{doc}').load())"
      ],
      "metadata": {
        "id": "9jQAMKY3fv74"
      },
      "id": "9jQAMKY3fv74",
      "execution_count": 33,
      "outputs": []
    },
    {
      "cell_type": "code",
      "source": [
        "documents"
      ],
      "metadata": {
        "colab": {
          "base_uri": "https://localhost:8080/"
        },
        "collapsed": true,
        "id": "DLin_OVLf7Ij",
        "outputId": "a194c617-b36e-4467-ac2f-7be5fdf79166"
      },
      "id": "DLin_OVLf7Ij",
      "execution_count": 47,
      "outputs": [
        {
          "output_type": "execute_result",
          "data": {
            "text/plain": [
              "[Document(id_='4db4c65a-dd0d-4bdb-9315-d1f14d9a09d3', embedding=None, metadata={'page_label': '1', 'file_name': 'DS_PG_Level.pdf', 'file_path': '/content/docs/docs/DS_PG_Level.pdf', 'file_type': 'application/pdf', 'file_size': 6281028, 'creation_date': '2024-10-17', 'last_modified_date': '2024-09-29'}, excluded_embed_metadata_keys=['file_name', 'file_type', 'file_size', 'creation_date', 'last_modified_date', 'last_accessed_date'], excluded_llm_metadata_keys=['file_name', 'file_type', 'file_size', 'creation_date', 'last_modified_date', 'last_accessed_date'], relationships={}, text='Home/Data Science/Computational Data Science\\nData Science Course to Harness the Power of Data for Real-World Decision\\nMaking PG Level Advanced Certification Programme in\\nComputational Data Science  \\n  \\nModule starts on\\n28th September\\nApply Now  \\n  \\n1\\n2\\n3India’s #1\\nUniversity (2016-24) & Research\\nInstitute (2021-24)* 12\\nMonths\\nExecutive Friendly 2\\nCampus visits of\\n2 days each 100%\\nLIVE Interactive Classes\\n*As per NIRF Ranking\\n3 Reasons Why This Data Science Course\\nis Unique\\nLearn from the Leading Faculty at IISc, India’s #1 University and Research Institute*\\nDesigned by Faculty Members of IISc’s Department of\\nComputational and Data Sciences \\nTaught by 5 Engineering and Management Sciences Faculty\\nfrom IISc\\nCurated Industry Capstones, and option to Bring Your Own\\nProject \\n360 °  Learning on TalentSprint’s best-in-class Pracademic\\nPlatform\\n12 Month Online Live Interactive Sessions \\n1:1 Mentoring by Industry and Academia Experts\\nDemonstrate your expertise to get an edge in your career\\nBuild compelling Data Stories to chronicle your learning\\njourney \\nStrengthen your resume by showcasing your expertise\\nthrough Data Stories\\nReboot your career for hyper-digital economy\\nGet ready for a new world where Data Science is\\ntransforming business and society at an unprecedented pace \\nDesign, build and deploy solutions to take data-driven real-\\nworld decisions\\nDerive lifelong benefits from TalentSprint’s growing network\\nof Data Scientists\\n*As per NIRF Ranking 2024Admissions ClosingClasses Starting soon\\n +91-7075767163', mimetype='text/plain', start_char_idx=None, end_char_idx=None, text_template='{metadata_str}\\n\\n{content}', metadata_template='{key}: {value}', metadata_seperator='\\n'),\n",
              " Document(id_='f2ec1381-700d-493b-83e5-ce31d780fd89', embedding=None, metadata={'page_label': '2', 'file_name': 'DS_PG_Level.pdf', 'file_path': '/content/docs/docs/DS_PG_Level.pdf', 'file_type': 'application/pdf', 'file_size': 6281028, 'creation_date': '2024-10-17', 'last_modified_date': '2024-09-29'}, excluded_embed_metadata_keys=['file_name', 'file_type', 'file_size', 'creation_date', 'last_modified_date', 'last_accessed_date'], excluded_llm_metadata_keys=['file_name', 'file_type', 'file_size', 'creation_date', 'last_modified_date', 'last_accessed_date'], relationships={}, text='Apply NowName\\nEmail\\n+91-Phone\\nCurrent City of Residence\\nIndiaCountry\\nOrganisation\\nDesignation\\nSelectExperience\\nSelectHighest Qualification\\nSelectMy Coding Skills\\nBy submitting this form, I agree to the\\nTerms and Conditions and Privacy Policy of this website.\\nHear from our IISc Data Science Course alumni\\nAkash Kumar', mimetype='text/plain', start_char_idx=None, end_char_idx=None, text_template='{metadata_str}\\n\\n{content}', metadata_template='{key}: {value}', metadata_seperator='\\n'),\n",
              " Document(id_='072089a8-6910-4541-8ab9-c71ecde9dec6', embedding=None, metadata={'page_label': '3', 'file_name': 'DS_PG_Level.pdf', 'file_path': '/content/docs/docs/DS_PG_Level.pdf', 'file_type': 'application/pdf', 'file_size': 6281028, 'creation_date': '2024-10-17', 'last_modified_date': '2024-09-29'}, excluded_embed_metadata_keys=['file_name', 'file_type', 'file_size', 'creation_date', 'last_modified_date', 'last_accessed_date'], excluded_llm_metadata_keys=['file_name', 'file_type', 'file_size', 'creation_date', 'last_modified_date', 'last_accessed_date'], relationships={}, text='Abhinava Shukla\\nManager, CTS\\nAanand Surendra\\nManaging Director', mimetype='text/plain', start_char_idx=None, end_char_idx=None, text_template='{metadata_str}\\n\\n{content}', metadata_template='{key}: {value}', metadata_seperator='\\n'),\n",
              " Document(id_='1e0f2273-030d-4fa8-a970-c149945954e3', embedding=None, metadata={'page_label': '4', 'file_name': 'DS_PG_Level.pdf', 'file_path': '/content/docs/docs/DS_PG_Level.pdf', 'file_type': 'application/pdf', 'file_size': 6281028, 'creation_date': '2024-10-17', 'last_modified_date': '2024-09-29'}, excluded_embed_metadata_keys=['file_name', 'file_type', 'file_size', 'creation_date', 'last_modified_date', 'last_accessed_date'], excluded_llm_metadata_keys=['file_name', 'file_type', 'file_size', 'creation_date', 'last_modified_date', 'last_accessed_date'], relationships={}, text='Data science is the future\\nAarthika Thagavel\\nVice President, Barclays India\\n \\n \\nAbout 95,000 vacancies for Data Scientists exist in\\nIndia today\\nData science needs will create roughly 11.5 million job\\nopenings by 2026\\n\"Information is the oil of the 21st century, and\\nanalytics is the combustion engine\"\\nChief Data Officers can increase consistent\\nproduction of business value by a factor of 2.6X\\nTop Data Science Career Opportunities\\nData Analyst Data Engineers Database Administrator Data Scientist Data Architect Data and Analytics Manager\\nBusiness Intelligence Developer Machine Learning Engineer Business Analyst And more\\nGain the IISc Bangalore Advantage\\n', mimetype='text/plain', start_char_idx=None, end_char_idx=None, text_template='{metadata_str}\\n\\n{content}', metadata_template='{key}: {value}', metadata_seperator='\\n'),\n",
              " Document(id_='5a8050df-e216-40dc-bf79-ea9aa508b691', embedding=None, metadata={'page_label': '5', 'file_name': 'DS_PG_Level.pdf', 'file_path': '/content/docs/docs/DS_PG_Level.pdf', 'file_type': 'application/pdf', 'file_size': 6281028, 'creation_date': '2024-10-17', 'last_modified_date': '2024-09-29'}, excluded_embed_metadata_keys=['file_name', 'file_type', 'file_size', 'creation_date', 'last_modified_date', 'last_accessed_date'], excluded_llm_metadata_keys=['file_name', 'file_type', 'file_size', 'creation_date', 'last_modified_date', 'last_accessed_date'], relationships={}, text=\"IISc (Indian Institute of Science) tops among the oldest and the finest higher education institutes of India. It pursues excellence in research and\\neducation in several fields of Science and Engineering and is one of the first three publicly funded institutes to be awarded the Institute of\\nEminence status. The alumni of IISc hold significant academic and industry positions around the globe. For more information visit\\nhttps://www.iisc.ac.in.\\nThe PG Level Advanced Certification in Computational Data Science will be delivered by IISc’s Centre for Continuing Education (CCE) in\\ncollaboration with TalentSprint. CCE delivers courses suitably designed to meet the requirements of various target groups, eg: research &\\ndevelopment (R&D) laboratories and industries, research scientists and engineers, to enable them to grow into competent managers of\\ntechnology-intensive and data-driven organizations. For more information visit http://cce.iisc.ac.in.\\nIndia’s #1 University (2016-24) & Research Institute (2021-24)\\nIndia's #1 University (2024)\\n2 Bharat Ratna Awardees\\nIISc Data Science Course Overview\\nAre you a working professional looking to build expertise in Data Science? Look no further than the PG Level Advanced Certification course in\\nData Science offered by Indian Institute of Science (IISc) in association with TalentSprint. This highly sought-after programme offers a unique 5-\\nstep learning process, including LIVE online faculty-led interactive sessions, capstone projects, mentorship, case studies, and data stories.\", mimetype='text/plain', start_char_idx=None, end_char_idx=None, text_template='{metadata_str}\\n\\n{content}', metadata_template='{key}: {value}', metadata_seperator='\\n'),\n",
              " Document(id_='224de3dd-b53a-4c94-8559-c61984a6266b', embedding=None, metadata={'page_label': '6', 'file_name': 'DS_PG_Level.pdf', 'file_path': '/content/docs/docs/DS_PG_Level.pdf', 'file_type': 'application/pdf', 'file_size': 6281028, 'creation_date': '2024-10-17', 'last_modified_date': '2024-09-29'}, excluded_embed_metadata_keys=['file_name', 'file_type', 'file_size', 'creation_date', 'last_modified_date', 'last_accessed_date'], excluded_llm_metadata_keys=['file_name', 'file_type', 'file_size', 'creation_date', 'last_modified_date', 'last_accessed_date'], relationships={}, text=\"Taught by world-class faculty from a global institution and supplemented with industry learnings, this 12-month programme is best suited for\\nprofessionals who want to gain practical hands-on experience in solving real-life challenges. The programme teaches participants how to build\\npowerful models to generate actionable insights, necessary for making data-driven decisions.\\nWith an overwhelming response, this programme has enabled 750+ professionals to build Data Science expertise. Don't miss the opportunity to\\ngain an in-depth understanding of the mechanics of working with data and identifying insights. Enroll now and take your career to the next level\\nwith the PG Level Advanced Certification course in Computational Data Science.\\nIISc Campus Visit\", mimetype='text/plain', start_char_idx=None, end_char_idx=None, text_template='{metadata_str}\\n\\n{content}', metadata_template='{key}: {value}', metadata_seperator='\\n'),\n",
              " Document(id_='fa6120a2-5be3-4240-bbad-786a09fc868f', embedding=None, metadata={'page_label': '7', 'file_name': 'DS_PG_Level.pdf', 'file_path': '/content/docs/docs/DS_PG_Level.pdf', 'file_type': 'application/pdf', 'file_size': 6281028, 'creation_date': '2024-10-17', 'last_modified_date': '2024-09-29'}, excluded_embed_metadata_keys=['file_name', 'file_type', 'file_size', 'creation_date', 'last_modified_date', 'last_accessed_date'], excluded_llm_metadata_keys=['file_name', 'file_type', 'file_size', 'creation_date', 'last_modified_date', 'last_accessed_date'], relationships={}, text=' \\nData Science Course Curriculum\\nCutting-edge curriculum that reflects the latest and proven industry practices\\nFoundational Modules - 6 weeks\\nCore Modules - 28 weeks\\nCapstone Projects - 12 weeks\\nBridge Module- 4 weeks\\nGoogle Colab\\nPython\\n1. Matplotlib\\n2. Numpy\\n3. Pandas\\nBasic mathematics: Matrix, Calculus, Probability\\nBasic data visualization\\nData Cleaning/Munging\\n\\uf078\\nModule 1: Foundations of Data Science: Probability and Statistics\\nOverall Goal: Gaining working knowledge in the math required to understand and use data science tools\\uf078\\nModule 2: Foundations of Data Science: Calculus and Matrix \\uf078\\nModule 3: Machine Learning \\uf078\\nModule 4: AI at Scale \\uf078\\nModule 5: Neural Networks \\uf078\\nModule 6: Generative AI in production\\uf078\\nModule 7: Data Engineering \\uf078\\nModule 8 : Business Analytics \\uf078\\n', mimetype='text/plain', start_char_idx=None, end_char_idx=None, text_template='{metadata_str}\\n\\n{content}', metadata_template='{key}: {value}', metadata_seperator='\\n'),\n",
              " Document(id_='7bc7aed9-acda-4c06-bf32-b4443b19f5fb', embedding=None, metadata={'page_label': '8', 'file_name': 'DS_PG_Level.pdf', 'file_path': '/content/docs/docs/DS_PG_Level.pdf', 'file_type': 'application/pdf', 'file_size': 6281028, 'creation_date': '2024-10-17', 'last_modified_date': '2024-09-29'}, excluded_embed_metadata_keys=['file_name', 'file_type', 'file_size', 'creation_date', 'last_modified_date', 'last_accessed_date'], excluded_llm_metadata_keys=['file_name', 'file_type', 'file_size', 'creation_date', 'last_modified_date', 'last_accessed_date'], relationships={}, text='Apply Now  Download Brochure\\nModule 9: Capstone Part 1\\nModule 10: Capstone Part 2\\nCapstone Projects\\nReal-time system\\nfor Tweet Analytics\\nChatGPT based\\nproject\\nFood Image\\nSegmentation\\nTalent Retention and\\nAttrition Prediction\\nIdentification of Quora question\\npairs with the same intent\\nStock Market predictions\\nbased on Time Series\\nPrediction of Client Subscription\\nto a Bank term Deposit\\nDirect Retail Marketing efforts based on Customer Segmentation using ML based Clustering techniques\\nMovie Recommendation\\nSystem\\nPredict the future daily-demand\\nfor a large Logistics Company\\nAchieving image super-resolution using a Generative Adversarial Network\\nDetermine key factors driving literacy rate in the Indian demography using Predictive Data Analytics\\nUrban Crime Data Analytics\\nfor safety improvement\\nBreast Cancer classification from digitized FNA image feature measurements\\nExploratory and Predictive Data Analytics using Indian Premier League (IPL) dataset\\nAnomaly detection in Bearing\\nVibration Measurements\\nTools covered\\n', mimetype='text/plain', start_char_idx=None, end_char_idx=None, text_template='{metadata_str}\\n\\n{content}', metadata_template='{key}: {value}', metadata_seperator='\\n'),\n",
              " Document(id_='53aeb931-c68d-4418-8865-50f87eb92213', embedding=None, metadata={'page_label': '9', 'file_name': 'DS_PG_Level.pdf', 'file_path': '/content/docs/docs/DS_PG_Level.pdf', 'file_type': 'application/pdf', 'file_size': 6281028, 'creation_date': '2024-10-17', 'last_modified_date': '2024-09-29'}, excluded_embed_metadata_keys=['file_name', 'file_type', 'file_size', 'creation_date', 'last_modified_date', 'last_accessed_date'], excluded_llm_metadata_keys=['file_name', 'file_type', 'file_size', 'creation_date', 'last_modified_date', 'last_accessed_date'], relationships={}, text='Hi-Tech Hi-Touch\\nHybrid Learning Platform\\niPearl.ai (AI-Powered Interactive Platform for Experiential And Remote Learning), TalentSprint’s Digital Delivery Platform, truly open by design,\\nis built on Open edX and has been architected to incorporate best-of-breed technologies and state-of-the-art components.\\nThe hallmark of the platform is its seamless integration of diverse but related learning technologies that facilitates synchronous learning,\\nasynchronous learning, assignments, assessments, group work, cloud labs, and video indexing, with just one single sign-on. This maximizes user\\ndelight, for both students and instructors.\\nWhat should you expect from this Programme?\\n \\n Learn\\nLearn from Leading IISc FacultyMaster\\nMaster by applying concepts through Hands-on projects\\nNetwork\\nNetwork with Current and Future Data Science\\nPractitionersPrestigious Certificate\\nPG Level Certification by Center for Continuing Education\\n', mimetype='text/plain', start_char_idx=None, end_char_idx=None, text_template='{metadata_str}\\n\\n{content}', metadata_template='{key}: {value}', metadata_seperator='\\n'),\n",
              " Document(id_='fc5503f4-f1cf-4022-b897-8383c668837d', embedding=None, metadata={'page_label': '10', 'file_name': 'DS_PG_Level.pdf', 'file_path': '/content/docs/docs/DS_PG_Level.pdf', 'file_type': 'application/pdf', 'file_size': 6281028, 'creation_date': '2024-10-17', 'last_modified_date': '2024-09-29'}, excluded_embed_metadata_keys=['file_name', 'file_type', 'file_size', 'creation_date', 'last_modified_date', 'last_accessed_date'], excluded_llm_metadata_keys=['file_name', 'file_type', 'file_size', 'creation_date', 'last_modified_date', 'last_accessed_date'], relationships={}, text='Faculty\\nIISc faculty members are an impressive group bearing academic accreditation from premier institutions around the world', mimetype='text/plain', start_char_idx=None, end_char_idx=None, text_template='{metadata_str}\\n\\n{content}', metadata_template='{key}: {value}', metadata_seperator='\\n'),\n",
              " Document(id_='c322a0e1-7ec2-49f5-8dcc-50281cb16b2d', embedding=None, metadata={'page_label': '11', 'file_name': 'DS_PG_Level.pdf', 'file_path': '/content/docs/docs/DS_PG_Level.pdf', 'file_type': 'application/pdf', 'file_size': 6281028, 'creation_date': '2024-10-17', 'last_modified_date': '2024-09-29'}, excluded_embed_metadata_keys=['file_name', 'file_type', 'file_size', 'creation_date', 'last_modified_date', 'last_accessed_date'], excluded_llm_metadata_keys=['file_name', 'file_type', 'file_size', 'creation_date', 'last_modified_date', 'last_accessed_date'], relationships={}, text='Participant Profile\\nExperience\\nProf. Sashikumaar Ganesan\\nPh.D., Computational Mathematics,\\nOvGU Germany\\nProgramme Co-Coordinator\\nSashikumaar Ganesan is a Professor\\nand Chair of the Department of\\nComputational and Data Sciences\\n(CDS), IISc\\nKnow More\\nProf. Deepak Subramani\\nPh.D., Massachusetts Institute of\\nTechnology (MIT), USA B.Tech and\\nM.Tech, IIT Madras\\nProgramme Co-Coordinator\\nProf. Deepak, an assistant professor\\nin the Dept of Computational and\\nData Sciences, IISc\\nKnow More\\nProf. Yogesh Simmhan\\nPh.D. Computer Science, Indiana\\nUniversity, USA\\nData and Computing Systems, Big\\nData, Internet of Things\\nKnow More\\nP\\nC\\nPh\\nCo\\nG\\nKn', mimetype='text/plain', start_char_idx=None, end_char_idx=None, text_template='{metadata_str}\\n\\n{content}', metadata_template='{key}: {value}', metadata_seperator='\\n'),\n",
              " Document(id_='01496fc0-64e9-4f8d-80f5-89ceee03f193', embedding=None, metadata={'page_label': '12', 'file_name': 'DS_PG_Level.pdf', 'file_path': '/content/docs/docs/DS_PG_Level.pdf', 'file_type': 'application/pdf', 'file_size': 6281028, 'creation_date': '2024-10-17', 'last_modified_date': '2024-09-29'}, excluded_embed_metadata_keys=['file_name', 'file_type', 'file_size', 'creation_date', 'last_modified_date', 'last_accessed_date'], excluded_llm_metadata_keys=['file_name', 'file_type', 'file_size', 'creation_date', 'last_modified_date', 'last_accessed_date'], relationships={}, text='From Top Organizations\\nAll logos belongs to respective companies\\nSchedule\\nEligibility\\nNote: Graduates in other stream with relevant coding experience can apply12 Months Executive friendly programme\\nIISc faculty members-led Live interactive classes, capstone projects,\\nindustry sessions and campus visits to IISc\\n335 hours of immersive learning (245 hours of classes, practicals, case studies, mini-projects, tests, campus visits and 90 hours of tutorials)\\nParticipants will have two campus visits of 2 days each\\nClasses will be held every weekend for 2-3 hours\\nEducation: Bachelors (four years or equivalent) or Masters in Science /\\nEngineering / Management\\nWork Experience: Minimum 1 Year\\nCoding Experience: Programming Knowledge Required\\nAdmission Process', mimetype='text/plain', start_char_idx=None, end_char_idx=None, text_template='{metadata_str}\\n\\n{content}', metadata_template='{key}: {value}', metadata_seperator='\\n'),\n",
              " Document(id_='ed21e20a-e5ee-4682-b5d7-1fb86e3113d0', embedding=None, metadata={'page_label': '13', 'file_name': 'DS_PG_Level.pdf', 'file_path': '/content/docs/docs/DS_PG_Level.pdf', 'file_type': 'application/pdf', 'file_size': 6281028, 'creation_date': '2024-10-17', 'last_modified_date': '2024-09-29'}, excluded_embed_metadata_keys=['file_name', 'file_type', 'file_size', 'creation_date', 'last_modified_date', 'last_accessed_date'], excluded_llm_metadata_keys=['file_name', 'file_type', 'file_size', 'creation_date', 'last_modified_date', 'last_accessed_date'], relationships={}, text='The selection for the programme will be done by IISc and is strictly based on the education, work experience, and motivation of the participants.\\n Class Start - September 2024\\nApply NowApply for the Programme\\nSubmit Details\\nSelection by IISc Committee\\nJoin the Programme\\nTalentSprint Career Acce lerator Program\\nSupports program alumni looking for new Career Advancements\\nProfessional\\nDevelopment\\nResume Building\\nLinkedIn Profile Makeover\\nNetwork with\\nPeers and Alumni\\nKnowledge Exchange Sessions with Business or Tech leaders\\nLifetime Membership to TalentSprint Alumni Network\\nAccess to\\nCareer Advancements*\\n6 months Premium Membership of IIMJobs or Hirist\\nJob Alerts through TalentSprint Alumni Network\\n*Terms & Conditions apply', mimetype='text/plain', start_char_idx=None, end_char_idx=None, text_template='{metadata_str}\\n\\n{content}', metadata_template='{key}: {value}', metadata_seperator='\\n'),\n",
              " Document(id_='d490bdc2-3acb-4215-a9fe-5a540f5d456e', embedding=None, metadata={'page_label': '14', 'file_name': 'DS_PG_Level.pdf', 'file_path': '/content/docs/docs/DS_PG_Level.pdf', 'file_type': 'application/pdf', 'file_size': 6281028, 'creation_date': '2024-10-17', 'last_modified_date': '2024-09-29'}, excluded_embed_metadata_keys=['file_name', 'file_type', 'file_size', 'creation_date', 'last_modified_date', 'last_accessed_date'], excluded_llm_metadata_keys=['file_name', 'file_type', 'file_size', 'creation_date', 'last_modified_date', 'last_accessed_date'], relationships={}, text='Data Science Course Fees\\nProgram Fee\\n₹4,00,000\\nProgram Fee with Scholarship\\n₹3,00,000\\n Check my eligibility for the scholarship\\n(18% GST extra as applicable)\\n Special Pricing for Corporates\\nFee paid is non-refundable and non-transferable.Application Fee\\n₹2,000\\nModes of payment available\\nInternet Banking \\nCredit/Debit Card \\nUPI Payments\\nEasy Financing Options\\n12 Month 0% Interest Scheme / Interest-Based Schemes\\nFinancing as low as\\n₹10,030/Month\\nLoan Partners\\n \\n  \\n EMI Options\\nProgramme Fee for International Participants $5,000\\nWith Scholarship $3,750\\nFrequently Asked Questions', mimetype='text/plain', start_char_idx=None, end_char_idx=None, text_template='{metadata_str}\\n\\n{content}', metadata_template='{key}: {value}', metadata_seperator='\\n'),\n",
              " Document(id_='9c5ede95-8047-4666-bd35-c0fa048ba8c1', embedding=None, metadata={'page_label': '15', 'file_name': 'DS_PG_Level.pdf', 'file_path': '/content/docs/docs/DS_PG_Level.pdf', 'file_type': 'application/pdf', 'file_size': 6281028, 'creation_date': '2024-10-17', 'last_modified_date': '2024-09-29'}, excluded_embed_metadata_keys=['file_name', 'file_type', 'file_size', 'creation_date', 'last_modified_date', 'last_accessed_date'], excluded_llm_metadata_keys=['file_name', 'file_type', 'file_size', 'creation_date', 'last_modified_date', 'last_accessed_date'], relationships={}, text='View allWhat is unique about this programme?\\nWhy Computational Data Science?\\nWhy IISc and TalentSprint?\\nWho is this programme for?\\nWho will teach this programme?\\nIs this a hands-on programme? What is the lab component?\\nHow does the interactive live classes and mentor support help in building expertise?\\nAbout TalentSprint\\nCopyright ©  2024', mimetype='text/plain', start_char_idx=None, end_char_idx=None, text_template='{metadata_str}\\n\\n{content}', metadata_template='{key}: {value}', metadata_seperator='\\n')]"
            ]
          },
          "metadata": {},
          "execution_count": 47
        }
      ]
    },
    {
      "cell_type": "markdown",
      "source": [
        "## 2.6 Creating the Embedding Model using HuggingFaceEmbeddings **'BAAI/bge-small-en-v1.5'**\n",
        "\n",
        "**Exercise-5:** Define an embedding model using HuggingFaceEmbeddings 'BAAI/bge-small-en-v1.5'. **(0.5 point)**"
      ],
      "metadata": {
        "id": "_vb3QoueuI1n"
      },
      "id": "_vb3QoueuI1n"
    },
    {
      "cell_type": "code",
      "source": [
        "# Define the embedding model using HuggingFaceEmbeddings 'BAAI/bge-small-en-v1.5'\n",
        "\n",
        "# YOUR CODE HERE\n",
        "embedding_model = HuggingFaceEmbeddings(model_name='BAAI/bge-small-en-v1.5')"
      ],
      "metadata": {
        "id": "g02xx49Ino8s"
      },
      "id": "g02xx49Ino8s",
      "execution_count": 104,
      "outputs": []
    },
    {
      "cell_type": "markdown",
      "source": [
        "## 2.7 Create a Vector Store using VectorStoreIndex\n",
        "\n",
        "**Exercise-6:** Create the vector index and vector store from documents using the embedding model (used in Exercise-5). **(0.5 point)**"
      ],
      "metadata": {
        "id": "Ty7m5RcvvX3z"
      },
      "id": "Ty7m5RcvvX3z"
    },
    {
      "cell_type": "code",
      "source": [
        "# Create the vector index from documents (as loaded under section 2.5)\n",
        "# using the embedding model as achieved in Exercise-5\n",
        "\n",
        "# YOUR CODE HERE\n",
        "vector_index = VectorStoreIndex.from_documents(documents)"
      ],
      "metadata": {
        "id": "UzoSxoe31pz3"
      },
      "id": "UzoSxoe31pz3",
      "execution_count": 105,
      "outputs": []
    },
    {
      "cell_type": "code",
      "source": [
        "# Create the vector store from documents (as loaded under section 2.5)\n",
        "# using the embedding model (as derived in Exercise-5) and the vector index (as derived in the above code cell)\n",
        "import faiss\n",
        "# YOUR CODE HERE\n",
        "# Dimension of huggingface BAAI/bge-small-en-v1.5 is 384\n",
        "# Ref: https://huggingface.co/BAAI/bge-small-en-v1.5\n",
        "index = faiss.IndexFlatL2(384)\n",
        "vector_store_faiss = FaissVectorStore(faiss_index=index)\n",
        "storage_context = StorageContext.from_defaults(vector_store=vector_store_faiss)\n",
        "vector_idx = VectorStoreIndex.from_documents(\n",
        "    documents,embed_model=embedding_model, storage_context=storage_context\n",
        ")\n",
        "vector_idx.storage_context.persist(persist_dir='/content/storage')"
      ],
      "metadata": {
        "id": "2K5HE2l4vpvM"
      },
      "id": "2K5HE2l4vpvM",
      "execution_count": 110,
      "outputs": []
    },
    {
      "cell_type": "markdown",
      "source": [
        "## 2.8 Create Query Engines and Test the RAG Pipeline\n",
        "\n",
        "**Exercise-7:** Create a Query Engine by using 'as_query_engine()' and then test the RAG pipeline for the Query: 'Give an overview of Computational Data Science PG Level certificaion course'. From the response, extract the text part and save it in a variable 'answer_text'. **(0.5 point)**"
      ],
      "metadata": {
        "id": "a28wIwrDwTgy"
      },
      "id": "a28wIwrDwTgy"
    },
    {
      "cell_type": "code",
      "source": [
        "# Create a query engine using the vector index and the phi-2 language model in the context of document retrieval\n",
        "# Use as_query_engine()\n",
        "\n",
        "# YOUR CODE HERE\n",
        "vector_store = FaissVectorStore.from_persist_dir('/content/storage')\n",
        "storage_context = StorageContext.from_defaults(\n",
        "    vector_store=vector_store, persist_dir='/content/storage')\n",
        "\n",
        "index = load_index_from_storage(storage_context=storage_context)\n",
        "\n",
        "query_engine = index.as_query_engine()"
      ],
      "metadata": {
        "id": "_fjvU0Sswbur",
        "colab": {
          "base_uri": "https://localhost:8080/",
          "height": 738
        },
        "outputId": "45f1cbf7-16b8-4bc0-9638-0c8fe17faa0e"
      },
      "id": "_fjvU0Sswbur",
      "execution_count": 111,
      "outputs": [
        {
          "output_type": "error",
          "ename": "ValueError",
          "evalue": "\n******\nCould not load OpenAI model. If you intended to use OpenAI, please check your OPENAI_API_KEY.\nOriginal error:\nNo API key found for OpenAI.\nPlease set either the OPENAI_API_KEY environment variable or openai.api_key prior to initialization.\nAPI keys can be found or created at https://platform.openai.com/account/api-keys\n\nTo disable the LLM entirely, set llm=None.\n******",
          "traceback": [
            "\u001b[0;31m---------------------------------------------------------------------------\u001b[0m",
            "\u001b[0;31mValueError\u001b[0m                                Traceback (most recent call last)",
            "\u001b[0;32m/usr/local/lib/python3.10/dist-packages/llama_index/core/llms/utils.py\u001b[0m in \u001b[0;36mresolve_llm\u001b[0;34m(llm, callback_manager)\u001b[0m\n\u001b[1;32m     41\u001b[0m             \u001b[0mllm\u001b[0m \u001b[0;34m=\u001b[0m \u001b[0mOpenAI\u001b[0m\u001b[0;34m(\u001b[0m\u001b[0;34m)\u001b[0m\u001b[0;34m\u001b[0m\u001b[0;34m\u001b[0m\u001b[0m\n\u001b[0;32m---> 42\u001b[0;31m             \u001b[0mvalidate_openai_api_key\u001b[0m\u001b[0;34m(\u001b[0m\u001b[0mllm\u001b[0m\u001b[0;34m.\u001b[0m\u001b[0mapi_key\u001b[0m\u001b[0;34m)\u001b[0m  \u001b[0;31m# type: ignore\u001b[0m\u001b[0;34m\u001b[0m\u001b[0;34m\u001b[0m\u001b[0m\n\u001b[0m\u001b[1;32m     43\u001b[0m         \u001b[0;32mexcept\u001b[0m \u001b[0mImportError\u001b[0m\u001b[0;34m:\u001b[0m\u001b[0;34m\u001b[0m\u001b[0;34m\u001b[0m\u001b[0m\n",
            "\u001b[0;32m/usr/local/lib/python3.10/dist-packages/llama_index/llms/openai/utils.py\u001b[0m in \u001b[0;36mvalidate_openai_api_key\u001b[0;34m(api_key)\u001b[0m\n\u001b[1;32m    440\u001b[0m     \u001b[0;32mif\u001b[0m \u001b[0;32mnot\u001b[0m \u001b[0mopenai_api_key\u001b[0m\u001b[0;34m:\u001b[0m\u001b[0;34m\u001b[0m\u001b[0;34m\u001b[0m\u001b[0m\n\u001b[0;32m--> 441\u001b[0;31m         \u001b[0;32mraise\u001b[0m \u001b[0mValueError\u001b[0m\u001b[0;34m(\u001b[0m\u001b[0mMISSING_API_KEY_ERROR_MESSAGE\u001b[0m\u001b[0;34m)\u001b[0m\u001b[0;34m\u001b[0m\u001b[0;34m\u001b[0m\u001b[0m\n\u001b[0m\u001b[1;32m    442\u001b[0m \u001b[0;34m\u001b[0m\u001b[0m\n",
            "\u001b[0;31mValueError\u001b[0m: No API key found for OpenAI.\nPlease set either the OPENAI_API_KEY environment variable or openai.api_key prior to initialization.\nAPI keys can be found or created at https://platform.openai.com/account/api-keys\n",
            "\nDuring handling of the above exception, another exception occurred:\n",
            "\u001b[0;31mValueError\u001b[0m                                Traceback (most recent call last)",
            "\u001b[0;32m<ipython-input-111-b9169d56e92c>\u001b[0m in \u001b[0;36m<cell line: 11>\u001b[0;34m()\u001b[0m\n\u001b[1;32m      9\u001b[0m \u001b[0mindex\u001b[0m \u001b[0;34m=\u001b[0m \u001b[0mload_index_from_storage\u001b[0m\u001b[0;34m(\u001b[0m\u001b[0mstorage_context\u001b[0m\u001b[0;34m=\u001b[0m\u001b[0mstorage_context\u001b[0m\u001b[0;34m)\u001b[0m\u001b[0;34m\u001b[0m\u001b[0;34m\u001b[0m\u001b[0m\n\u001b[1;32m     10\u001b[0m \u001b[0;34m\u001b[0m\u001b[0m\n\u001b[0;32m---> 11\u001b[0;31m \u001b[0mquery_engine\u001b[0m \u001b[0;34m=\u001b[0m \u001b[0mindex\u001b[0m\u001b[0;34m.\u001b[0m\u001b[0mas_query_engine\u001b[0m\u001b[0;34m(\u001b[0m\u001b[0;34m)\u001b[0m\u001b[0;34m\u001b[0m\u001b[0;34m\u001b[0m\u001b[0m\n\u001b[0m",
            "\u001b[0;32m/usr/local/lib/python3.10/dist-packages/llama_index/core/indices/base.py\u001b[0m in \u001b[0;36mas_query_engine\u001b[0;34m(self, llm, **kwargs)\u001b[0m\n\u001b[1;32m    376\u001b[0m             \u001b[0mresolve_llm\u001b[0m\u001b[0;34m(\u001b[0m\u001b[0mllm\u001b[0m\u001b[0;34m,\u001b[0m \u001b[0mcallback_manager\u001b[0m\u001b[0;34m=\u001b[0m\u001b[0mself\u001b[0m\u001b[0;34m.\u001b[0m\u001b[0m_callback_manager\u001b[0m\u001b[0;34m)\u001b[0m\u001b[0;34m\u001b[0m\u001b[0;34m\u001b[0m\u001b[0m\n\u001b[1;32m    377\u001b[0m             \u001b[0;32mif\u001b[0m \u001b[0mllm\u001b[0m\u001b[0;34m\u001b[0m\u001b[0;34m\u001b[0m\u001b[0m\n\u001b[0;32m--> 378\u001b[0;31m             \u001b[0;32melse\u001b[0m \u001b[0mSettings\u001b[0m\u001b[0;34m.\u001b[0m\u001b[0mllm\u001b[0m\u001b[0;34m\u001b[0m\u001b[0;34m\u001b[0m\u001b[0m\n\u001b[0m\u001b[1;32m    379\u001b[0m         )\n\u001b[1;32m    380\u001b[0m \u001b[0;34m\u001b[0m\u001b[0m\n",
            "\u001b[0;32m/usr/local/lib/python3.10/dist-packages/llama_index/core/settings.py\u001b[0m in \u001b[0;36mllm\u001b[0;34m(self)\u001b[0m\n\u001b[1;32m     34\u001b[0m         \u001b[0;34m\"\"\"Get the LLM.\"\"\"\u001b[0m\u001b[0;34m\u001b[0m\u001b[0;34m\u001b[0m\u001b[0m\n\u001b[1;32m     35\u001b[0m         \u001b[0;32mif\u001b[0m \u001b[0mself\u001b[0m\u001b[0;34m.\u001b[0m\u001b[0m_llm\u001b[0m \u001b[0;32mis\u001b[0m \u001b[0;32mNone\u001b[0m\u001b[0;34m:\u001b[0m\u001b[0;34m\u001b[0m\u001b[0;34m\u001b[0m\u001b[0m\n\u001b[0;32m---> 36\u001b[0;31m             \u001b[0mself\u001b[0m\u001b[0;34m.\u001b[0m\u001b[0m_llm\u001b[0m \u001b[0;34m=\u001b[0m \u001b[0mresolve_llm\u001b[0m\u001b[0;34m(\u001b[0m\u001b[0;34m\"default\"\u001b[0m\u001b[0;34m)\u001b[0m\u001b[0;34m\u001b[0m\u001b[0;34m\u001b[0m\u001b[0m\n\u001b[0m\u001b[1;32m     37\u001b[0m \u001b[0;34m\u001b[0m\u001b[0m\n\u001b[1;32m     38\u001b[0m         \u001b[0;32mif\u001b[0m \u001b[0mself\u001b[0m\u001b[0;34m.\u001b[0m\u001b[0m_callback_manager\u001b[0m \u001b[0;32mis\u001b[0m \u001b[0;32mnot\u001b[0m \u001b[0;32mNone\u001b[0m\u001b[0;34m:\u001b[0m\u001b[0;34m\u001b[0m\u001b[0;34m\u001b[0m\u001b[0m\n",
            "\u001b[0;32m/usr/local/lib/python3.10/dist-packages/llama_index/core/llms/utils.py\u001b[0m in \u001b[0;36mresolve_llm\u001b[0;34m(llm, callback_manager)\u001b[0m\n\u001b[1;32m     47\u001b[0m             )\n\u001b[1;32m     48\u001b[0m         \u001b[0;32mexcept\u001b[0m \u001b[0mValueError\u001b[0m \u001b[0;32mas\u001b[0m \u001b[0me\u001b[0m\u001b[0;34m:\u001b[0m\u001b[0;34m\u001b[0m\u001b[0;34m\u001b[0m\u001b[0m\n\u001b[0;32m---> 49\u001b[0;31m             raise ValueError(\n\u001b[0m\u001b[1;32m     50\u001b[0m                 \u001b[0;34m\"\\n******\\n\"\u001b[0m\u001b[0;34m\u001b[0m\u001b[0;34m\u001b[0m\u001b[0m\n\u001b[1;32m     51\u001b[0m                 \u001b[0;34m\"Could not load OpenAI model. \"\u001b[0m\u001b[0;34m\u001b[0m\u001b[0;34m\u001b[0m\u001b[0m\n",
            "\u001b[0;31mValueError\u001b[0m: \n******\nCould not load OpenAI model. If you intended to use OpenAI, please check your OPENAI_API_KEY.\nOriginal error:\nNo API key found for OpenAI.\nPlease set either the OPENAI_API_KEY environment variable or openai.api_key prior to initialization.\nAPI keys can be found or created at https://platform.openai.com/account/api-keys\n\nTo disable the LLM entirely, set llm=None.\n******"
          ]
        }
      ]
    },
    {
      "cell_type": "markdown",
      "source": [
        "Run a sample query to test the RAG pipeline."
      ],
      "metadata": {
        "id": "jTdmu21ew9ew"
      },
      "id": "jTdmu21ew9ew"
    },
    {
      "cell_type": "code",
      "source": [
        "# Test the RAG pipeline\n",
        "# Query a document retrieval engine for the query 'Give an overview of Computational Data Science PG Level certificaion course' and\n",
        "# print the resulting response\n",
        "\n",
        "# YOUR CODE HERE"
      ],
      "metadata": {
        "id": "tl8Pzu7CBGOb"
      },
      "id": "tl8Pzu7CBGOb",
      "execution_count": null,
      "outputs": []
    },
    {
      "cell_type": "code",
      "source": [
        "# Extract the text part of the above response from a result string that contains a specified prefix, such as \"Answer:\"\n",
        "# and display the answer text\n",
        "\n",
        "# YOUR CODE HERE"
      ],
      "metadata": {
        "id": "2TatHqLZXLe3"
      },
      "id": "2TatHqLZXLe3",
      "execution_count": null,
      "outputs": []
    },
    {
      "cell_type": "markdown",
      "source": [
        "### 2.9 RAG Performance Evaluation using Cosine Similarity\n",
        "\n",
        "**Exercise-8:** Measure the RAG performance using Cosine Similarity. **(0.5 point)**\n",
        "\n",
        "- **(a)** Consider the reference Question: 'Give an overview of Computational Data Science PG Level certificaion course'. Calculate the Cosine Similarity.\n",
        "- **(b)** Consider the Benchmark_solution [as considered in Exercise-4 (b)]. Calculate the Cosine Similarity."
      ],
      "metadata": {
        "id": "spvWWQOq4ONe"
      },
      "id": "spvWWQOq4ONe"
    },
    {
      "cell_type": "code",
      "source": [
        "# (a)\n",
        "# Generate a 2D array representation of the embeddings for the query Q1 [mentioned in Exercise-4(a)]\n",
        "# using the embedding model specified under Exercise-5\n",
        "\n",
        "# YOUR CODE HERE\n",
        "\n",
        "# Obtain a 2D array representation of the embeddings for the extracted answer text (which was achieved in Exercise-7)\n",
        "# Use the same specified embedding model mentioned in Exercise-5. Store the output in 'RAG_with_phi_2_e'\n",
        "\n",
        "# YOUR CODE HERE"
      ],
      "metadata": {
        "id": "cNYOGEC94wbU"
      },
      "id": "cNYOGEC94wbU",
      "execution_count": null,
      "outputs": []
    },
    {
      "cell_type": "code",
      "source": [
        "# Calculate and print the cosine similarity between the query embedding and the RAG response embedding\n",
        "\n",
        "# YOUR CODE HERE"
      ],
      "metadata": {
        "id": "Oq3aYcRd5jm-"
      },
      "id": "Oq3aYcRd5jm-",
      "execution_count": null,
      "outputs": []
    },
    {
      "cell_type": "markdown",
      "source": [
        "Fill in the following blanks with the help of the above results [achieved in Exercise-4(a) and Exercise-8(a)]\n",
        "- Cosine Similarity between Q1 and phi_2_extracted_output: ___________________\n",
        "- Cosine Similarity between Q1 and zephyr_7b_beta_response: ___________________\n",
        "- Cosine Similarity between Q1 and RAG response: ___________________\n",
        "\n",
        "**So considering the reference query Q1, we can observe from the above value, that the Cosine Similarity is ______% by using RAG Architecture with Microsoft Phi-2 model.**"
      ],
      "metadata": {
        "id": "5stjSzpm6Cvc"
      },
      "id": "5stjSzpm6Cvc"
    },
    {
      "cell_type": "code",
      "source": [
        "# (b)\n",
        "# Embed the Benchmark solution text using the Hugging Face embeddings model and reshape it into a 2D array\n",
        "\n",
        "# YOUR CODE HERE\n",
        "\n",
        "# Generate a 2D array representation of the embedded response by using Hugging Face embeddings (specified under Exercise-5)\n",
        "\n",
        "# YOUR CODE HERE"
      ],
      "metadata": {
        "id": "_jT8qYssyHmH"
      },
      "id": "_jT8qYssyHmH",
      "execution_count": null,
      "outputs": []
    },
    {
      "cell_type": "code",
      "source": [
        "# Calculate the cosine similarity between the benchmark solution embeddings and the RAG response embeddings\n",
        "# to evaluate their similarity. Print the Cosine Similarity value.\n",
        "\n",
        "# YOUR CODE HERE"
      ],
      "metadata": {
        "id": "_Kreb5M8ycpT"
      },
      "id": "_Kreb5M8ycpT",
      "execution_count": null,
      "outputs": []
    },
    {
      "cell_type": "markdown",
      "source": [
        "Fill in the following blank with the help of the above results [achieved in Exercise-8(b)]\n",
        "\n",
        "**So considering the Benchmark_solution BMS, we can observe from the above value, that the Cosine Similarity is ______% by using RAG Architecture with Microsoft Phi-2 model.**"
      ],
      "metadata": {
        "id": "PjT0uzJHypCC"
      },
      "id": "PjT0uzJHypCC"
    },
    {
      "cell_type": "markdown",
      "source": [
        "# **Phase-III:** Performing RAG using HuggingFace Retrieval Chain For 5 different Embedding models and FAISS Vector Store\n",
        "\n",
        "We will use CSV Dataset for this phase.\n",
        "\n",
        "<br><br>\n",
        "<center>\n",
        "<img src=\" https://cdn.exec.talentsprint.com/static/cds/content/varying_embeddings-4.png\" height = 600 width= 1600 px/>\n",
        "</center>\n",
        "<br><br>"
      ],
      "metadata": {
        "id": "Ls6NTwqIDP7T"
      },
      "id": "Ls6NTwqIDP7T"
    },
    {
      "cell_type": "markdown",
      "source": [
        "## 3.1 Load Data (CSV Dataset)"
      ],
      "metadata": {
        "id": "dyRf60DgFU0l"
      },
      "id": "dyRf60DgFU0l"
    },
    {
      "cell_type": "code",
      "source": [
        "loader = CSVLoader(file_path='/content/demo_faqs.csv', source_column=\"prompt\",encoding='latin-1')\n",
        "\n",
        "# Store the loaded data in the 'data' variable\n",
        "data = loader.load()\n",
        "documents_csv = data"
      ],
      "metadata": {
        "id": "wRLA-EQ-FGpp"
      },
      "id": "wRLA-EQ-FGpp",
      "execution_count": null,
      "outputs": []
    },
    {
      "cell_type": "markdown",
      "source": [
        "## 3.2 Using 5 different HuggungFace Embedding Models"
      ],
      "metadata": {
        "id": "FIl3EmPhXHK9"
      },
      "id": "FIl3EmPhXHK9"
    },
    {
      "cell_type": "code",
      "source": [
        "# Define embedding model-1\n",
        "embed_model_1 = HuggingFaceEmbeddings(model_name='BAAI/bge-small-en-v1.5')\n",
        "\n",
        "# Define embedding model-2\n",
        "embed_model_2 = HuggingFaceEmbeddings(model_name='sentence-transformers/all-MiniLM-L6-v2')\n",
        "\n",
        "# Define embedding model-3\n",
        "embed_model_3 = HuggingFaceEmbeddings(model_name='sentence-transformers/paraphrase-MiniLM-L12-v2')\n",
        "\n",
        "# Define embedding model-4\n",
        "embed_model_4 = HuggingFaceEmbeddings(model_name='sentence-transformers/all-distilroberta-v1')\n",
        "\n",
        "# Define embedding model-5\n",
        "embed_model_5 = HuggingFaceEmbeddings(model_name='sentence-transformers/multi-qa-MiniLM-L6-cos-v1')"
      ],
      "metadata": {
        "id": "XZVk85YQXZDN"
      },
      "id": "XZVk85YQXZDN",
      "execution_count": null,
      "outputs": []
    },
    {
      "cell_type": "markdown",
      "source": [
        "## 3.3 Vector store using FAISS\n",
        "\n",
        "Facebook AI Similarity Search (FAISS) is a library for efficient similarity search and clustering of dense vectors. It contains algorithms that search in sets of vectors of any size, up to ones that possibly do not fit in RAM. It also contains supporting code for evaluation and parameter tuning.\n",
        "For further details, please refer to the [link](https://faiss.ai/)\n",
        "\n",
        "How to use functionality related to the FAISS vector database?\n",
        "\n",
        "In the following code cell, we will show functionality specific to this integration. After going through, it may be useful to explore relevant to learn how to use this vectorstore as part of a larger chain.\n",
        "\n",
        "**Exercise-9:** Create a FAISS vector database using Hugging Face Embeddings model 'BAAI/bge-small-en-v1.5'. Then retrieve relevant answers for a query. Use 'get_relevant_documents()'. **(0.5 point)**"
      ],
      "metadata": {
        "id": "uf7zGpKPlq5q"
      },
      "id": "uf7zGpKPlq5q"
    },
    {
      "cell_type": "code",
      "source": [
        "# Create a FAISS vector database from 'data' (loaded under section 3.1)\n",
        "# using the specified embedding model 'BAAI/bge-small-en-v1.5'\n",
        "\n",
        "# YOUR CODE HERE\n",
        "\n",
        "# Create a retriever for querying the vector database with a specified score threshold = 0.7 to filter relevant results\n",
        "# Store it in a variable 'h_retriever_1'\n",
        "\n",
        "# YOUR CODE HERE"
      ],
      "metadata": {
        "id": "ljLHwiZFlzs_"
      },
      "id": "ljLHwiZFlzs_",
      "execution_count": null,
      "outputs": []
    },
    {
      "cell_type": "markdown",
      "source": [
        "In the above code cell, The provided code snippet sets up a FAISS (Facebook AI Similarity Search) vector database to store document embeddings and enables querying this database using a retriever with a specific score threshold.\n",
        "\n",
        "- **FAISS.from_documents(...)**: This method initializes a FAISS vector database using a list of documents and a pre-defined embedding model.\n",
        "- **h_vectordb.as_retriever(...)**: This method converts the FAISS vector database into a retriever object that can be queried using natural language or embedded queries."
      ],
      "metadata": {
        "id": "qZDaBYVnulVo"
      },
      "id": "qZDaBYVnulVo"
    },
    {
      "cell_type": "code",
      "source": [
        "# Retrieve relevant documents from the vector database (achieved in Exercise-9)\n",
        "# based on a specific query, such as \"How about job placement support?\"\n",
        "\n",
        "# YOUR CODE HERE"
      ],
      "metadata": {
        "id": "Czt6whRgurQW"
      },
      "id": "Czt6whRgurQW",
      "execution_count": null,
      "outputs": []
    },
    {
      "cell_type": "markdown",
      "source": [
        "In the above code cell,\n",
        "\n",
        "- **h_retriever.get_relevant_documents(...)**: This method queries the retriever (which is linked to the FAISS vector database) with a given text query."
      ],
      "metadata": {
        "id": "kQtPWweLvAcu"
      },
      "id": "kQtPWweLvAcu"
    },
    {
      "cell_type": "markdown",
      "source": [
        "As you can see above, the retriever that was created using FAISS and Hugging Face Embedding is now capable of pulling relavant documents from the original CSV file knowledge store. This is very powerful and it will help us further in this project."
      ],
      "metadata": {
        "id": "0rWlknGZvHwE"
      },
      "id": "0rWlknGZvHwE"
    },
    {
      "cell_type": "markdown",
      "source": [
        "**Exercise-10:** Create a FAISS vector database using Embeddings model 'sentence-transformers/all-MiniLM-L6-v2'. Then retrieve relevant answers for a query. Use 'get_relevant_documents()'. **(0.5 point)**"
      ],
      "metadata": {
        "id": "tixqezfDZ3hj"
      },
      "id": "tixqezfDZ3hj"
    },
    {
      "cell_type": "code",
      "source": [
        "# Create a FAISS vector database from 'data' using the specified embedding model 'sentence-transformers/all-MiniLM-L6-v2'\n",
        "\n",
        "# YOUR CODE HERE\n",
        "\n",
        "# Create a retriever for querying the vector database with a specified score threshold = 0.7\n",
        "# Store it in a variable 'h_retriever_2'\n",
        "\n",
        "# YOUR CODE HERE"
      ],
      "metadata": {
        "id": "aFB0HAh9Y4Pu"
      },
      "id": "aFB0HAh9Y4Pu",
      "execution_count": null,
      "outputs": []
    },
    {
      "cell_type": "code",
      "source": [
        "# Retrieve relevant documents from the vector database (achieved in Exercise-10)\n",
        "# based on a specific query \"How about job placement support?\"\n",
        "\n",
        "# YOUR CODE HERE"
      ],
      "metadata": {
        "id": "BwO6HE5gY-cw"
      },
      "id": "BwO6HE5gY-cw",
      "execution_count": null,
      "outputs": []
    },
    {
      "cell_type": "markdown",
      "source": [
        "**Exercise-11:** Create a FAISS vector database using Embeddings model 'sentence-transformers/paraphrase-MiniLM-L12-v2'. Then retrieve relevant answers for a query. Use 'get_relevant_documents()'. **(0.5 point)**"
      ],
      "metadata": {
        "id": "89X3iUpIaUSU"
      },
      "id": "89X3iUpIaUSU"
    },
    {
      "cell_type": "code",
      "source": [
        "# Create a FAISS vector database from 'data' using the specified embedding model 'sentence-transformers/paraphrase-MiniLM-L12-v2'\n",
        "\n",
        "# YOUR CODE HERE\n",
        "\n",
        "# Create a retriever for querying the vector database with a specified score threshold = 0.7\n",
        "# Store it in a variable 'h_retriever_3'\n",
        "\n",
        "# YOUR CODE HERE"
      ],
      "metadata": {
        "id": "X1w_fbkCakGG"
      },
      "id": "X1w_fbkCakGG",
      "execution_count": null,
      "outputs": []
    },
    {
      "cell_type": "code",
      "source": [
        "# Retrieve relevant documents from the vector database (achieved in Exercise-11)\n",
        "# based on the specific query \"How about job placement support?\"\n",
        "\n",
        "# YOUR CODE HERE"
      ],
      "metadata": {
        "id": "nOdlYZQTaw7-"
      },
      "id": "nOdlYZQTaw7-",
      "execution_count": null,
      "outputs": []
    },
    {
      "cell_type": "markdown",
      "source": [
        "**Exercise-12:** Create a FAISS vector database using Embeddings model 'sentence-transformers/all-distilroberta-v1'. Then retrieve relevant answers for a query. Use 'get_relevant_documents()'. **(0.5 point)**"
      ],
      "metadata": {
        "id": "2ScvX_Dza9Iu"
      },
      "id": "2ScvX_Dza9Iu"
    },
    {
      "cell_type": "code",
      "source": [
        "# Create a FAISS vector database from 'data' using the specified embedding model 'sentence-transformers/all-distilroberta-v1'\n",
        "\n",
        "# YOUR CODE HERE\n",
        "\n",
        "# Create a retriever for querying the vector database based on a specific score threshold = 0.7\n",
        "# Store it in a variable 'h_retriever_4'\n",
        "\n",
        "# YOUR CODE HERE"
      ],
      "metadata": {
        "id": "q-CZ55rjbKGk"
      },
      "id": "q-CZ55rjbKGk",
      "execution_count": null,
      "outputs": []
    },
    {
      "cell_type": "code",
      "source": [
        "# Retrieve relevant documents from the vector database (achieved in Exercise-12)\n",
        "# based on the specific query \"How about job placement support?\"\n",
        "\n",
        "# YOUR CODE HERE"
      ],
      "metadata": {
        "id": "CJf10AnLbfMn"
      },
      "id": "CJf10AnLbfMn",
      "execution_count": null,
      "outputs": []
    },
    {
      "cell_type": "markdown",
      "source": [
        "**Exercise-13:** Create a FAISS vector database using Embeddings model 'sentence-transformers/multi-qa-MiniLM-L6-cos-v1'. Then retrieve relevant answers for a query. Use 'get_relevant_documents()'. **(0.5 point)**"
      ],
      "metadata": {
        "id": "ZORYEVYsbmfr"
      },
      "id": "ZORYEVYsbmfr"
    },
    {
      "cell_type": "code",
      "source": [
        "# Create a FAISS vector database from 'data' using a specified embedding model 'sentence-transformers/multi-qa-MiniLM-L6-cos-v1'\n",
        "\n",
        "# YOUR CODE HERE\n",
        "\n",
        "# Create a retriever for querying the vector database based on a specific score threshold = 0.7\n",
        "# Store it in a variable 'h_retriever_5'\n",
        "\n",
        "# YOUR CODE HERE"
      ],
      "metadata": {
        "id": "HAuiGfAFbvrk"
      },
      "id": "HAuiGfAFbvrk",
      "execution_count": null,
      "outputs": []
    },
    {
      "cell_type": "code",
      "source": [
        "# Retrieve relevant documents from the vector database (achieved in Exercise-13)\n",
        "# based on the specific query \"How about job placement support?\"\n",
        "\n",
        "# YOUR CODE HERE"
      ],
      "metadata": {
        "id": "Sb1WgfD9b6Xh"
      },
      "id": "Sb1WgfD9b6Xh",
      "execution_count": null,
      "outputs": []
    },
    {
      "cell_type": "markdown",
      "source": [
        "## 3.4 Create RetrievalQA chain with FAISS Vectore Store & Hugging Face 🚀\n",
        "\n",
        "**Exercise-14:** Create RetrievalQA chains for 5 different HuggungFace Embedding Models. Use llm model zephyr_7b_beta and use PromptTemplate to get PROMPT. Then use 'RetrievalQA.from_chain_type()' for getting the 5 Hugging Face RetrievalQA chains. **(0.5 point)**"
      ],
      "metadata": {
        "id": "hmgfg_bnwYQZ"
      },
      "id": "hmgfg_bnwYQZ"
    },
    {
      "cell_type": "code",
      "source": [
        "prompt_template = \"\"\"Given the following context and a question, generate an answer based on this context only.\n",
        "In the answer try to provide as much text as possible from \"response\" section in the source document context without making much changes.\n",
        "If the answer is not found in the context, kindly state \"I don't know.\" Don't try to make up an answer.\n",
        "\n",
        "CONTEXT: {context}\n",
        "\n",
        "QUESTION: {question}\"\"\"\n",
        "\n",
        "\n",
        "PROMPT = PromptTemplate(input_variables=[\"context\", \"question\"], template=prompt_template)\n",
        "chain_type_kwargs = {\"prompt\": PROMPT}\n",
        "\n",
        "# create a RetrievalQA chain in LangChain using the 'zephyr_7b_beta_HFE_llm' language model (derived in Exercise-3),\n",
        "# specifying the chain_type as \"stuff\",\n",
        "# integrating the 'h_retriever_1' (refer Exercise-9), and\n",
        "# ensuring that the source documents are returned alongside the answers to the user's queries.\n",
        "\n",
        "# YOUR CODE HERE\n",
        "\n",
        "# create a RetrievalQA chain in LangChain using the 'zephyr_7b_beta_HFE_llm' language model (derived in Exercise-3),\n",
        "# specifying the chain_type as \"stuff\",\n",
        "# integrating the 'h_retriever_2' (refer Exercise-10), and\n",
        "# ensuring that the source documents are returned alongside the answers to the user's queries.\n",
        "\n",
        "# YOUR CODE HERE\n",
        "\n",
        "# create a RetrievalQA chain in LangChain using the 'zephyr_7b_beta_HFE_llm' language model (derived in Exercise-3),\n",
        "# specifying the chain_type as \"stuff\",\n",
        "# integrating the 'h_retriever_3' (refer Exercise-11), and\n",
        "# ensuring that the source documents are returned alongside the answers to the user's queries.\n",
        "\n",
        "# YOUR CODE HERE\n",
        "\n",
        "# create a RetrievalQA chain in LangChain using the 'zephyr_7b_beta_HFE_llm' language model (derived in Exercise-3),\n",
        "# specifying the chain_type as \"stuff\",\n",
        "# integrating the 'h_retriever_4' (refer Exercise-12), and\n",
        "# ensuring that the source documents are returned alongside the answers to the user's queries.\n",
        "\n",
        "# YOUR CODE HERE\n",
        "\n",
        "# create a RetrievalQA chain in LangChain using the 'zephyr_7b_beta_HFE_llm' language model (derived in Exercise-3),\n",
        "# specifying the chain_type as \"stuff\",\n",
        "# integrating the 'h_retriever_5' (refer Exercise-13), and\n",
        "# ensuring that the source documents are returned alongside the answers to the user's queries.\n",
        "\n",
        "# YOUR CODE HERE"
      ],
      "metadata": {
        "id": "LGmxitlrwhm3"
      },
      "id": "LGmxitlrwhm3",
      "execution_count": null,
      "outputs": []
    },
    {
      "cell_type": "markdown",
      "source": [
        "In the above code cell,  The code snippet sets up a RetrievalQA chain using a custom prompt template with a Hugging Face language model and a retriever.\n",
        "\n",
        "- **PromptTemplate(...)**: Initializes a PromptTemplate object from the langchain.prompts module.\n",
        "- **template=prompt_template**: Specifies the template string created above.\n",
        "- **input_variables=[\"context\", \"question\"]**: Defines the placeholders in the template that will be replaced by actual context and question values during the query.\n",
        "- **chain_type_kwargs**: This dictionary contains the prompt key with the PROMPT object, which will be used to format the queries sent to the language model.\n",
        "- **RetrievalQA.from_chain_type(...)**: Initializes a RetrievalQA chain.\n",
        "- **llm=h_llm**: Specifies the language model (h_llm) to be used for generating answers.\n",
        "- **chain_type=\"stuff\"**: Defines the type of chain. In this case, \"stuff\" is a placeholder that can be replaced with other chain types depending on the use case.\n",
        "- **retriever=h_retriever**: Provides the retriever (h_retriever) that will be used to fetch relevant context from the vector database.\n",
        "- **input_key=\"query\"**: Indicates the key used to pass the query to the chain.\n",
        "return_source_documents=True: Ensures that the source documents used to generate the answer are returned along with the answer.\n",
        "- **chain_type_kwargs=chain_type_kwargs**: Passes additional keyword arguments (including the prompt template) to the chain."
      ],
      "metadata": {
        "id": "iqj8LeDGxYlx"
      },
      "id": "iqj8LeDGxYlx"
    },
    {
      "cell_type": "markdown",
      "source": [
        "## 3.5 Let's ask some questions to FAISS based Hugging Face RetrievalQA chain\n",
        "\n",
        "**Exercise-15:** Execute a retrieval-based QA query for the question: 'Do you provide job assistance and also do you provide job guarantee?' using each of the 5 ReyrievalQA chains as achieved in Exercise-14. **(0.5 point)**"
      ],
      "metadata": {
        "id": "hUfOxRlZxfSY"
      },
      "id": "hUfOxRlZxfSY"
    },
    {
      "cell_type": "code",
      "source": [
        "Q1 = 'Do you provide job assistance and also do you provide job gurantee?'\n",
        "\n",
        "# Invoke the RetrievalQA chain 'h_retriever_1' (refer Exercise-9) with the specific query Q1 to retrieve the corresponding answer and any relevant documents\n",
        "# The output will be a dictionary. Consider it as 'h_retrieval_QA1'\n",
        "\n",
        "# YOUR CODE HERE\n",
        "\n",
        "# Get the list of keys in the dictionary 'h_retrieval_QA1'\n",
        "\n",
        "# YOUR CODE HERE\n",
        "\n",
        "# Access the value using the key's index and store the value in 'h_result_value1'\n",
        "\n",
        "# YOUR CODE HERE  (use 1 as the index of 'result' key)\n",
        "######################################################\n",
        "# Invoke the RetrievalQA chain 'h_retriever_2' (refer Exercise-10) with the specific query Q1 to retrieve the corresponding answer and any relevant documents\n",
        "# The output will be a dictionary. Consider it as 'h_retrieval_QA2'\n",
        "\n",
        "# YOUR CODE HERE\n",
        "\n",
        "# Get the list of keys in the dictionary 'h_retrieval_QA2'\n",
        "\n",
        "# YOUR CODE HERE\n",
        "\n",
        "# Access the value using the key's index and store the value in 'h_result_value2'\n",
        "\n",
        "# YOUR CODE HERE  (use 1 as the index of 'result' key)\n",
        "######################################################\n",
        "# Invoke the RetrievalQA chain 'h_retriever_3' (refer Exercise-11) with the specific query Q1 to retrieve the corresponding answer and any relevant documents\n",
        "# The output will be a dictionary. Consider it as 'h_retrieval_QA3'\n",
        "\n",
        "# YOUR CODE HERE\n",
        "\n",
        "# Get the list of keys in the dictionary 'h_retrieval_QA3'\n",
        "\n",
        "# YOUR CODE HERE\n",
        "\n",
        "# Access the value using the key's index and store the value in 'h_result_value3'\n",
        "\n",
        "# YOUR CODE HERE  (use 1 as the index of 'result' key)\n",
        "######################################################\n",
        "# Invoke the RetrievalQA chain 'h_retriever_4' (refer Exercise-12) with the specific query Q1 to retrieve the corresponding answer and any relevant documents\n",
        "# The output will be a dictionary. Consider it as 'h_retrieval_QA4'\n",
        "\n",
        "# YOUR CODE HERE\n",
        "\n",
        "# Get the list of keys in the dictionary 'h_retrieval_QA4'\n",
        "\n",
        "# YOUR CODE HERE\n",
        "\n",
        "# Access the value using the key's index and store the value in 'h_result_value4'\n",
        "\n",
        "# YOUR CODE HERE  (use 1 as the index of 'result' key)\n",
        "######################################################\n",
        "# Invoke the RetrievalQA chain 'h_retriever_5' (refer Exercise-13) with the specific query Q1 to retrieve the corresponding answer and any relevant documents\n",
        "# The output will be a dictionary. Consider it as 'h_retrieval_QA5'\n",
        "\n",
        "# YOUR CODE HERE\n",
        "\n",
        "# Get the list of keys in the dictionary 'h_retrieval_QA5'\n",
        "\n",
        "# YOUR CODE HERE\n",
        "\n",
        "# Access the value using the key's index and store the value in 'h_result_value5'\n",
        "\n",
        "# YOUR CODE HERE  (use 1 as the index of 'result' key)"
      ],
      "metadata": {
        "id": "RHH8wCm8xleh"
      },
      "id": "RHH8wCm8xleh",
      "execution_count": null,
      "outputs": []
    },
    {
      "cell_type": "markdown",
      "source": [
        "**Fromthe above results, you will be able to see, that the answer of question comes from two different FAQs within the Codebasics FAQ csv file and it is able to pull those questions and merge them nicely.**"
      ],
      "metadata": {
        "id": "LOI1SQakxr3_"
      },
      "id": "LOI1SQakxr3_"
    },
    {
      "cell_type": "markdown",
      "source": [
        "## 3.6 Comparison: 5 different embedding models performance (for FAISS Vectore Store)\n",
        "\n",
        "**Exercise-16:** Compare the RetrievalQA performance among all 5 different Embedding Models using Cosine Similarity.\n",
        "\n",
        "Use the embeddig models achieved under section 3.2. **(0.5 point)**\n",
        "\n",
        "- **(a)** Consider the reference Question: 'Do you provide job assistance and also do you provide job guarantee?'. Compute Cosine Similarity.\n",
        "\n",
        "- **(b)** Consider the Benchmark_response: 'Yes, We help you with resume and interview preparation along with that we help you in building online credibility, and based on requirements we refer candidates to potential recruiters.' Compute Cosine Similarity."
      ],
      "metadata": {
        "id": "FVuehG4whb_g"
      },
      "id": "FVuehG4whb_g"
    },
    {
      "cell_type": "code",
      "source": [
        "# Refer to the 5 different HuggungFace Embedding Models as already created under section 3.2\n",
        "# Put those 5 embed models as below.\n",
        "h_embeddings1 = embed_model_1\n",
        "h_embeddings2 = embed_model_2\n",
        "h_embeddings3 = embed_model_3\n",
        "h_embeddings4 = embed_model_4\n",
        "h_embeddings5 = embed_model_5\n",
        "\n",
        "Benchmark_response = \"\"\"Yes, We help you with resume and interview preparation along with that we help you in building online credibility,\n",
        "and based on requirements we refer candidates to potential recruiters.\"\"\"\n",
        "\n",
        "BMR = Benchmark_response\n",
        "\n",
        "# Reshape the output of embedding the query (Q1 as given in Exercose-15) using the 1st embedding model (h_embeddings1) into a 2D array.\n",
        "# YOUR CODE HERE\n",
        "# Convert the output of embedding the BMR (mentioned above) using the 1st embedding model (h_embeddings1) into a 2D array.\n",
        "# YOUR CODE HERE\n",
        "# Reshape the output of embedding the h_result_value1 (which was created in Exercise-15) into a 2D array using h_embeddings1.\n",
        "# YOUR CODE HERE\n",
        "\n",
        "# Reshape the output of embedding the query (Q1 as given in Exercose-15) using the 2nd embedding model (h_embeddings2) into a 2D array.\n",
        "# YOUR CODE HERE\n",
        "# Convert the output of embedding the BMR (mentioned above) using the 2nd embedding model (h_embeddings2) into a 2D array.\n",
        "# YOUR CODE HERE\n",
        "# Reshape the output of embedding the h_result_value2 (which was created in Exercise-15) into a 2D array using h_embeddings2.\n",
        "# YOUR CODE HERE\n",
        "\n",
        "# Reshape the output of embedding the query (Q1 as given in Exercose-15) using the 3rd embedding model (h_embeddings3) into a 2D array.\n",
        "# YOUR CODE HERE\n",
        "# Convert the output of embedding the BMR (mentioned above) using the 3rd embedding model (h_embeddings3) into a 2D array.\n",
        "# YOUR CODE HERE\n",
        "# Reshape the output of embedding the h_result_value3 (which was created in Exercise-15) into a 2D array using h_embeddings3.\n",
        "# YOUR CODE HERE\n",
        "\n",
        "# Reshape the output of embedding the query (Q1 as given in Exercose-15) using the 4th embedding model (h_embeddings4) into a 2D array.\n",
        "# YOUR CODE HERE\n",
        "# Convert the output of embedding the BMR (mentioned above) using the 4th embedding model (h_embeddings4) into a 2D array.\n",
        "# YOUR CODE HERE\n",
        "# Reshape the output of embedding the h_result_value4 (which was created in Exercise-15) into a 2D array using h_embeddings4.\n",
        "# YOUR CODE HERE\n",
        "\n",
        "# Reshape the output of embedding the query (Q1 as given in Exercose-15) using the 5th embedding model (h_embeddings5) into a 2D array.\n",
        "# YOUR CODE HERE\n",
        "# Convert the output of embedding the BMR (mentioned above) using the 4th embedding model (h_embeddings5) into a 2D array.\n",
        "# YOUR CODE HERE\n",
        "# Reshape the output of embedding the h_result_value5 (which was created in Exercise-15) into a 2D array using h_embeddings5.\n",
        "# YOUR CODE HERE"
      ],
      "metadata": {
        "id": "nZNw9BCNjLGM"
      },
      "id": "nZNw9BCNjLGM",
      "execution_count": null,
      "outputs": []
    },
    {
      "cell_type": "code",
      "source": [
        "# (a)\n",
        "# Calculate and display the cosine similarity between\n",
        "# (i) Q1 (as given in Exercose-15) and h_result_value1, (ii) Q1 (as given in Exercose-15) and h_result_value2,\n",
        "# (iii) Q1 (as given in Exercose-15) and h_result_value3, (iv) Q1 (as given in Exercose-15) and h_result_value4, and\n",
        "# (v) Q1 (as given in Exercose-15) and h_result_value5\n",
        "\n",
        "# YOUR CODE HERE"
      ],
      "metadata": {
        "id": "5JZxzzezmQaU"
      },
      "id": "5JZxzzezmQaU",
      "execution_count": null,
      "outputs": []
    },
    {
      "cell_type": "markdown",
      "source": [
        "Fill in the following blanks.\n",
        "\n",
        "**So, by considering the reference query Q1(as given in Exercose-15), as we can observe from the above result, that the highest Cosine Similarity (______%) is achieved by using the HuggingFace embedding model '_______________________'.**\n",
        "\n",
        "**So after the below code cell, use the corresponding RetrievalQA chain (i.e., ________) which is the best out of 5 RetrievalQA chains) to ask following queries and to get responses.**"
      ],
      "metadata": {
        "id": "QWGD__2rnYPz"
      },
      "id": "QWGD__2rnYPz"
    },
    {
      "cell_type": "code",
      "source": [
        "# (b)\n",
        "# Compute and print the cosine similarity between the benchmark reference embedding (BMR) and\n",
        "# multiple result embeddings, indicating their similarity scores\n",
        "\n",
        "# YOUR CODE HERE"
      ],
      "metadata": {
        "id": "ejEkBm9u3vc_"
      },
      "id": "ejEkBm9u3vc_",
      "execution_count": null,
      "outputs": []
    },
    {
      "cell_type": "markdown",
      "source": [
        "Fill in the following blanks.\n",
        "\n",
        "**So, by considering the Benchmark_response BMR (mentioned in Exercise-16), as we can observe from the above result, that the highest Cosine Similarity (______%) is achieved by using the embedding model ___________________________.**"
      ],
      "metadata": {
        "id": "doWpjEDh4OfM"
      },
      "id": "doWpjEDh4OfM"
    },
    {
      "cell_type": "code",
      "source": [
        "# Ask Question \"Do you guys provide internship and also do you offer EMI payments?\"\"\n",
        "# YOUR CODE HERE"
      ],
      "metadata": {
        "id": "G2WqFoJrxyzY"
      },
      "id": "G2WqFoJrxyzY",
      "execution_count": null,
      "outputs": []
    },
    {
      "cell_type": "code",
      "source": [
        "# Ask Question \"do you have javascript course?\"\n",
        "# YOUR CODE HERE"
      ],
      "metadata": {
        "id": "Z-63uWBdx1T_"
      },
      "id": "Z-63uWBdx1T_",
      "execution_count": null,
      "outputs": []
    },
    {
      "cell_type": "code",
      "source": [
        "# Ask Question \"Do you have plans to launch blockchain course in future?\"\n",
        "# YOUR CODE HERE"
      ],
      "metadata": {
        "id": "S0VJ48Olx4Co"
      },
      "id": "S0VJ48Olx4Co",
      "execution_count": null,
      "outputs": []
    },
    {
      "cell_type": "code",
      "source": [
        "# Ask Question \"should I learn power bi or tableau?\"\n",
        "# YOUR CODE HERE"
      ],
      "metadata": {
        "id": "KryCvsdhx6mb"
      },
      "id": "KryCvsdhx6mb",
      "execution_count": null,
      "outputs": []
    },
    {
      "cell_type": "code",
      "source": [
        "# Ask Question \"I've a MAC computer. Can I use powerbi on it?\"\n",
        "# YOUR CODE HERE"
      ],
      "metadata": {
        "id": "MP_ZrpkHx9LY"
      },
      "id": "MP_ZrpkHx9LY",
      "execution_count": null,
      "outputs": []
    },
    {
      "cell_type": "code",
      "source": [
        "# Ask Question \"I don't see power pivot. how can I enable it?\"\n",
        "# YOUR CODE HERE"
      ],
      "metadata": {
        "id": "t3JvaRNTx_tH"
      },
      "id": "t3JvaRNTx_tH",
      "execution_count": null,
      "outputs": []
    },
    {
      "cell_type": "code",
      "source": [
        "# Ask Question \"What is the price of your machine learning course?\"\n",
        "# YOUR CODE HERE"
      ],
      "metadata": {
        "id": "774_F3gRyCKQ"
      },
      "id": "774_F3gRyCKQ",
      "execution_count": null,
      "outputs": []
    },
    {
      "cell_type": "markdown",
      "source": [
        "# **Phase-IV:** Performing RAG using HuggingFace Retrieval Chain For Fixed Embedding model and Chromadb Vector Store\n",
        "\n",
        "In this Phase-IV, the vector store is changed from FAISS to Chromadb\n",
        "\n",
        "<br><br>\n",
        "<center>\n",
        "<img src=\" https://cdn.exec.talentsprint.com/static/cds/content/varying_vector_stores-5.png\" height = 600 width= 1600 px/>\n",
        "</center>\n",
        "<br><br>"
      ],
      "metadata": {
        "id": "3r6qc23JnHZe"
      },
      "id": "3r6qc23JnHZe"
    },
    {
      "cell_type": "markdown",
      "source": [
        "## 4.1 Vector store using Chromadb\n",
        "\n",
        "##### For vector database we can use chromadb as shown below. During the experimentation, we found Hugging Face Embeddings and FAISS to be appropriate for our use case. Let's see the retrieval performance using Chromadb in the following code cell.\n",
        "\n",
        "**Exercise-17:** Create a Chroma vector database. Use the above achieved best Hugging Face Embeddings model 'BAAI/bge-small-en-v1.5'. Then retrieve relevant answers for a query. Use 'get_relevant_documents()' **(0.5 point)**"
      ],
      "metadata": {
        "id": "I5NU2wZhqpWu"
      },
      "id": "I5NU2wZhqpWu"
    },
    {
      "cell_type": "code",
      "source": [
        "# Create a Chroma vector database from documents using embed_model_1 that was created under section 3.2 and\n",
        "# persist it to a specified directory\n",
        "\n",
        "# YOUR CODE HERE"
      ],
      "metadata": {
        "id": "vf69UpUXrHIP"
      },
      "id": "vf69UpUXrHIP",
      "execution_count": null,
      "outputs": []
    },
    {
      "cell_type": "code",
      "source": [
        "# Create a retriever for querying the vector database derived through Chroma with a score_threshold = 0.7\n",
        "\n",
        "# YOUR CODE HERE"
      ],
      "metadata": {
        "id": "ipLGSB14rOjj"
      },
      "id": "ipLGSB14rOjj",
      "execution_count": null,
      "outputs": []
    },
    {
      "cell_type": "code",
      "source": [
        " # Retrieve relevant documents related to the query \"how about job placement support?\"\n",
        "\n",
        " # YOUR CODE HERE"
      ],
      "metadata": {
        "id": "co-yOQsSrWQK"
      },
      "id": "co-yOQsSrWQK",
      "execution_count": null,
      "outputs": []
    },
    {
      "cell_type": "markdown",
      "source": [
        "In the above code cell,\n",
        "\n",
        "- **Chroma.from_documents(...)**: This method initializes a Chroma vector database using a list of documents, an embedding model, and a directory to persist the database.\n",
        "- **g_vectordb.as_retriever(...)**: This method converts the Chroma vector database instance (g_vectordb) into a retriever object that can be used to perform queries.\n",
        "- **g_retriever.get_relevant_documents(...)**: This method queries the retriever object (g_retriever) with the given text query."
      ],
      "metadata": {
        "id": "Ka1skkNwrg42"
      },
      "id": "Ka1skkNwrg42"
    },
    {
      "cell_type": "markdown",
      "source": [
        "## 4.2 Create RetrievalQA chain with Chromadb Vectore Store & Hugging Face 🚀\n",
        "\n",
        "**Exercise-18:** Now we will use the achieved best embedding model as evaluated in Exercise-16 (i.e., HuggingFace embedding model 'BAAI/bge-small-en-v1.5') to see if there is any impact in RetrievalQA chain's performance if the Vector Store is changed from FAISS to Chromadb. Create RetrievalQA chain with Chromadb Vectore Store. Use PromptTemplate to get PROMPT. Then use 'RetrievalQA.from_chain_type()' for getting the Chromadb Vectore Store based RetrievalQA chain. **(0.5 point)**"
      ],
      "metadata": {
        "id": "Qw2kodBOJSWp"
      },
      "id": "Qw2kodBOJSWp"
    },
    {
      "cell_type": "code",
      "source": [
        "prompt_template = \"\"\"Given the following context and a question, generate an answer based on this context only.\n",
        "In the answer try to provide as much text as possible from \"response\" section in the source document context without making much changes.\n",
        "If the answer is not found in the context, kindly state \"I don't know.\" Don't try to make up an answer.\n",
        "\n",
        "CONTEXT: {context}\n",
        "\n",
        "QUESTION: {question}\"\"\"\n",
        "\n",
        "\n",
        "PROMPT = PromptTemplate(\n",
        "    template=prompt_template, input_variables=[\"context\", \"question\"]\n",
        ")\n",
        "chain_type_kwargs = {\"prompt\": PROMPT}\n",
        "\n",
        "# Create a RetrievalQA chain using the 'zephyr_7b_beta_HFE_llm' model (derived in Exercise-3) and\n",
        "# the retriever created in Exercise-17, while returning source documents and customizing chain type arguments\n",
        "\n",
        "# YOUR CODE HERE"
      ],
      "metadata": {
        "id": "CFPOVQL-KHDa"
      },
      "id": "CFPOVQL-KHDa",
      "execution_count": null,
      "outputs": []
    },
    {
      "cell_type": "markdown",
      "source": [
        "In the above code cell, The code snippet sets up a RetrievalQA chain using a custom prompt template with a Google PaLM language model and a retriever.\n",
        "\n",
        "- **PromptTemplate(...)**: Initializes a PromptTemplate object from the langchain.prompts module.\n",
        "- **template=prompt_template**: Specifies the template string that defines how queries should be formatted.\n",
        "- **input_variables=[\"context\", \"question\"]**: Lists the placeholders in the template that will be replaced by actual values for context and question.\n",
        "chain_type_kwargs: A dictionary that includes the prompt template used to format the queries.\n",
        "- **RetrievalQA.from_chain_type(...)**: Initializes a RetrievalQA chain.\n",
        "- **llm=g_llm**: Specifies the Google PaLM language model (g_llm) used for generating answers.\n",
        "- **chain_type=\"stuff\"**: Defines the type of chain. \"stuff\" can be replaced with other chain types as needed.\n",
        "- **retriever=g_retriever**: The retriever (g_retriever) used to fetch relevant documents from the vector database.\n",
        "- **input_key=\"query\"**: Indicates the key used for passing the query to the chain.\n",
        "- **return_source_documents=True**: Ensures that the documents used to generate the answer are returned along with the answer.\n",
        "- **chain_type_kwargs=chain_type_kwargs**: Passes additional keyword arguments, including the prompt template, to the chain."
      ],
      "metadata": {
        "id": "uu-CsmY_KiLm"
      },
      "id": "uu-CsmY_KiLm"
    },
    {
      "cell_type": "markdown",
      "source": [
        "## 4.3 Let's ask some questions to Chromadb based HuggingFace retrieval QA chain\n",
        "\n",
        "**Exercise-19:** By using the Chromadb Vector Store based Retrieval QA chain (achieved in Exercise-18), execute a retrieval-based QA query for the question: 'Do you provide job assistance and also do you provide job guarantee?'. **(0.5 point)**"
      ],
      "metadata": {
        "id": "Z1SfPyW3KqFO"
      },
      "id": "Z1SfPyW3KqFO"
    },
    {
      "cell_type": "code",
      "source": [
        "Q1 = 'Do you provide job assistance and also do you provide job gurantee?'\n",
        "# Using the Chromadb Vector Store based Retrieval QA chain (achieved in Exercise-18),\n",
        "# execute a retrieval-based QA query for the question Q1 (mentioned above). The output will be a dictionary.\n",
        "# Name it as 'g_retrieval_QA1'\n",
        "\n",
        "# YOUR CODE HERE\n",
        "\n",
        "# Get the list of keys in the dictionary 'g_retrieval_QA1'\n",
        "\n",
        "# YOUR CODE HERE\n",
        "\n",
        "# Access the value using the key's index. Store the value in a variable 'g_result_value1'\n",
        "# YOUR CODE HERE  (Use 1 as the index of 'result' key)"
      ],
      "metadata": {
        "id": "iwIB6EVpLb8Z"
      },
      "id": "iwIB6EVpLb8Z",
      "execution_count": null,
      "outputs": []
    },
    {
      "cell_type": "markdown",
      "source": [
        "## 4.4 Comparison: Is there any impact?\n",
        "- keeping the llm and embedding model unchanged but only changing the Vector Store from FAISS to Chromadb\n",
        "\n",
        "**Exercise-20:** Using Cosine Similarity, measure the RetrievalQA performance of the Chromadb based RetrievalQA chain as achieved in Exercise-18. Use the best embeddig model as evaluated in Exercise-16 (i.e., HuggingFace embedding model 'BAAI/bge-small-en-v1.5').\n",
        "\n",
        "Consider the reference Question: 'Do you provide job assistance and also do you provide job guarantee?'. **(0.5 point)**"
      ],
      "metadata": {
        "id": "KaxvDh6qs_oL"
      },
      "id": "KaxvDh6qs_oL"
    },
    {
      "cell_type": "code",
      "source": [
        "# Using HuggingFaceEmbeddings 'BAAI/bge-small-en-v1.5'\n",
        "embeddings = embed_model_1\n",
        "\n",
        "# Convert a query into an embedding array using the embed_query() function and reshape it to a 2D array for Q1\n",
        "\n",
        "# YOUR CODE HERE\n",
        "\n",
        "# Convert 'g_result_value1' created in Exercise-19 into an embedding array using the embed_query() function and\n",
        "# reshape it to a 2D array\n",
        "\n",
        "# YOUR COE# HERE"
      ],
      "metadata": {
        "id": "LZ91qia2u2c9"
      },
      "id": "LZ91qia2u2c9",
      "execution_count": null,
      "outputs": []
    },
    {
      "cell_type": "code",
      "source": [
        "# Compute Cosine Similarity between Q1 (mentioned in Exercise-19) and\n",
        "# Chromadb based 'g_result_value1' (as derived in Exercise-19) and store the result in a variable 'cosine_sim_Chromadb'?\n",
        "\n",
        "# YOUR CODE HERE\n",
        "\n",
        "#cosine_sim_Chromadb = cosine_similarity(Q1_e, g_e1)[0][0]\n",
        "\n",
        "#print(f\"Cosine Similarity between Q1 and FAISS based h_result_value1: {cosine_sim_FAISS}\")\n",
        "print(f\"Cosine Similarity between Q1 and Chromadb based g_result_value1: {cosine_sim_Chromadb}\")"
      ],
      "metadata": {
        "id": "ZxPG-x8jvPyc"
      },
      "id": "ZxPG-x8jvPyc",
      "execution_count": null,
      "outputs": []
    },
    {
      "cell_type": "code",
      "source": [
        "print(f\"Cosine Similarity between Q1 and h_result_value1: {cosine_sim_1}\") # consider 'cosine_sim_1' from Exercise-16(a)\n",
        "print(f\"Difference in Cosine Similarity between FAISS and Chromadb: {cosine_sim_1 - cosine_sim_Chromadb}\")\n",
        "print(f\"Percentage Difference in Cosine Similarity between FAISS and Chromadb: {(cosine_sim_1 - cosine_sim_Chromadb)*100}%\")"
      ],
      "metadata": {
        "id": "eOivgmHIwQw9"
      },
      "id": "eOivgmHIwQw9",
      "execution_count": null,
      "outputs": []
    },
    {
      "cell_type": "markdown",
      "source": [
        "Fill in the blank.\n",
        "\n",
        "**Hence, from the above result we can observe that in RAG performance, there is ______% difference (i.e., very low difference) in Cosine Similarity between FAISS and Chromadb based retrieval chain if the llm and embedding model are remained unchanged. So, there is very less impact of changing the Vector Store, if the llm and embedinng model remain same.**"
      ],
      "metadata": {
        "id": "12nw5P-5w-dv"
      },
      "id": "12nw5P-5w-dv"
    },
    {
      "cell_type": "markdown",
      "source": [
        "**Optional Task:** Execute the below code cells to test the RAG performance with the following queries. Use Chromadb based RetrievalQA chain as obtained in Exercise-18."
      ],
      "metadata": {
        "id": "UtvA_G-VyaND"
      },
      "id": "UtvA_G-VyaND"
    },
    {
      "cell_type": "code",
      "source": [
        "# EXECUTE queries \"do you have javascript course?\"\"\n",
        "# YOUR CODE HERE"
      ],
      "metadata": {
        "id": "TJE7fBxfLjdR"
      },
      "id": "TJE7fBxfLjdR",
      "execution_count": null,
      "outputs": []
    },
    {
      "cell_type": "code",
      "source": [
        "# EXECUTE queries \"Do you have plans to launch blockchain course in future?\"\n",
        "# YOUR CODE HERE"
      ],
      "metadata": {
        "id": "z36Slr3HLnhP"
      },
      "id": "z36Slr3HLnhP",
      "execution_count": null,
      "outputs": []
    },
    {
      "cell_type": "code",
      "source": [
        "# EXECUTE queries \"should I learn power bi or tableau?\"\n",
        "# YOUR CODE HERE"
      ],
      "metadata": {
        "id": "5tmPCGkbLqzx"
      },
      "id": "5tmPCGkbLqzx",
      "execution_count": null,
      "outputs": []
    },
    {
      "cell_type": "code",
      "source": [
        "# EXECUTE queries \"I've a MAC computer. Can I use powerbi on it?\"\n",
        "# YOUR CODE HERE"
      ],
      "metadata": {
        "id": "IIDDyInyLuDR"
      },
      "id": "IIDDyInyLuDR",
      "execution_count": null,
      "outputs": []
    },
    {
      "cell_type": "code",
      "source": [
        "# EXECUTE queries \"I don't see power pivot. how can I enable it?\"\n",
        "# YOUR CODE HERE"
      ],
      "metadata": {
        "id": "6IR1zM2iLzTi"
      },
      "id": "6IR1zM2iLzTi",
      "execution_count": null,
      "outputs": []
    },
    {
      "cell_type": "code",
      "source": [
        "# EXECUTE queries \"What is the price of your machine learning course?\"\n",
        "# YOUR CODE HERE"
      ],
      "metadata": {
        "id": "epIJt6kXL2mc"
      },
      "id": "epIJt6kXL2mc",
      "execution_count": null,
      "outputs": []
    }
  ],
  "metadata": {
    "kernelspec": {
      "display_name": "Python 3",
      "name": "python3"
    },
    "language_info": {
      "name": "python",
      "version": "3.8"
    },
    "colab": {
      "provenance": [],
      "gpuType": "T4",
      "include_colab_link": true
    },
    "accelerator": "GPU",
    "widgets": {
      "application/vnd.jupyter.widget-state+json": {
        "ef3fb932c32846a9894e97ff3921ad24": {
          "model_module": "@jupyter-widgets/controls",
          "model_name": "HBoxModel",
          "model_module_version": "1.5.0",
          "state": {
            "_dom_classes": [],
            "_model_module": "@jupyter-widgets/controls",
            "_model_module_version": "1.5.0",
            "_model_name": "HBoxModel",
            "_view_count": null,
            "_view_module": "@jupyter-widgets/controls",
            "_view_module_version": "1.5.0",
            "_view_name": "HBoxView",
            "box_style": "",
            "children": [
              "IPY_MODEL_f4d9c8001a65444d89d1446f59d7164f",
              "IPY_MODEL_6e8b6cfc96444d89b388910ae9dab352",
              "IPY_MODEL_6ec09b5be3c54493a1c1a2df990a8929"
            ],
            "layout": "IPY_MODEL_eddba2aba4534fe2bb464efc724a6f56"
          }
        },
        "f4d9c8001a65444d89d1446f59d7164f": {
          "model_module": "@jupyter-widgets/controls",
          "model_name": "HTMLModel",
          "model_module_version": "1.5.0",
          "state": {
            "_dom_classes": [],
            "_model_module": "@jupyter-widgets/controls",
            "_model_module_version": "1.5.0",
            "_model_name": "HTMLModel",
            "_view_count": null,
            "_view_module": "@jupyter-widgets/controls",
            "_view_module_version": "1.5.0",
            "_view_name": "HTMLView",
            "description": "",
            "description_tooltip": null,
            "layout": "IPY_MODEL_1ba5e46f0f7247fab4e8ae04f38facb9",
            "placeholder": "​",
            "style": "IPY_MODEL_0e7f763978464d298d8439f3eb45f723",
            "value": "tokenizer_config.json: 100%"
          }
        },
        "6e8b6cfc96444d89b388910ae9dab352": {
          "model_module": "@jupyter-widgets/controls",
          "model_name": "FloatProgressModel",
          "model_module_version": "1.5.0",
          "state": {
            "_dom_classes": [],
            "_model_module": "@jupyter-widgets/controls",
            "_model_module_version": "1.5.0",
            "_model_name": "FloatProgressModel",
            "_view_count": null,
            "_view_module": "@jupyter-widgets/controls",
            "_view_module_version": "1.5.0",
            "_view_name": "ProgressView",
            "bar_style": "success",
            "description": "",
            "description_tooltip": null,
            "layout": "IPY_MODEL_4ef693dddcb24ad6b0aa9a5e4eb9e7b4",
            "max": 7339,
            "min": 0,
            "orientation": "horizontal",
            "style": "IPY_MODEL_f7a1bee7a89c4a14a80c7e8c3d85a5a3",
            "value": 7339
          }
        },
        "6ec09b5be3c54493a1c1a2df990a8929": {
          "model_module": "@jupyter-widgets/controls",
          "model_name": "HTMLModel",
          "model_module_version": "1.5.0",
          "state": {
            "_dom_classes": [],
            "_model_module": "@jupyter-widgets/controls",
            "_model_module_version": "1.5.0",
            "_model_name": "HTMLModel",
            "_view_count": null,
            "_view_module": "@jupyter-widgets/controls",
            "_view_module_version": "1.5.0",
            "_view_name": "HTMLView",
            "description": "",
            "description_tooltip": null,
            "layout": "IPY_MODEL_673ea161c2c94bd7bad44575c9cff924",
            "placeholder": "​",
            "style": "IPY_MODEL_f7e027c0f75049178d11d386fcb391b2",
            "value": " 7.34k/7.34k [00:00&lt;00:00, 121kB/s]"
          }
        },
        "eddba2aba4534fe2bb464efc724a6f56": {
          "model_module": "@jupyter-widgets/base",
          "model_name": "LayoutModel",
          "model_module_version": "1.2.0",
          "state": {
            "_model_module": "@jupyter-widgets/base",
            "_model_module_version": "1.2.0",
            "_model_name": "LayoutModel",
            "_view_count": null,
            "_view_module": "@jupyter-widgets/base",
            "_view_module_version": "1.2.0",
            "_view_name": "LayoutView",
            "align_content": null,
            "align_items": null,
            "align_self": null,
            "border": null,
            "bottom": null,
            "display": null,
            "flex": null,
            "flex_flow": null,
            "grid_area": null,
            "grid_auto_columns": null,
            "grid_auto_flow": null,
            "grid_auto_rows": null,
            "grid_column": null,
            "grid_gap": null,
            "grid_row": null,
            "grid_template_areas": null,
            "grid_template_columns": null,
            "grid_template_rows": null,
            "height": null,
            "justify_content": null,
            "justify_items": null,
            "left": null,
            "margin": null,
            "max_height": null,
            "max_width": null,
            "min_height": null,
            "min_width": null,
            "object_fit": null,
            "object_position": null,
            "order": null,
            "overflow": null,
            "overflow_x": null,
            "overflow_y": null,
            "padding": null,
            "right": null,
            "top": null,
            "visibility": null,
            "width": null
          }
        },
        "1ba5e46f0f7247fab4e8ae04f38facb9": {
          "model_module": "@jupyter-widgets/base",
          "model_name": "LayoutModel",
          "model_module_version": "1.2.0",
          "state": {
            "_model_module": "@jupyter-widgets/base",
            "_model_module_version": "1.2.0",
            "_model_name": "LayoutModel",
            "_view_count": null,
            "_view_module": "@jupyter-widgets/base",
            "_view_module_version": "1.2.0",
            "_view_name": "LayoutView",
            "align_content": null,
            "align_items": null,
            "align_self": null,
            "border": null,
            "bottom": null,
            "display": null,
            "flex": null,
            "flex_flow": null,
            "grid_area": null,
            "grid_auto_columns": null,
            "grid_auto_flow": null,
            "grid_auto_rows": null,
            "grid_column": null,
            "grid_gap": null,
            "grid_row": null,
            "grid_template_areas": null,
            "grid_template_columns": null,
            "grid_template_rows": null,
            "height": null,
            "justify_content": null,
            "justify_items": null,
            "left": null,
            "margin": null,
            "max_height": null,
            "max_width": null,
            "min_height": null,
            "min_width": null,
            "object_fit": null,
            "object_position": null,
            "order": null,
            "overflow": null,
            "overflow_x": null,
            "overflow_y": null,
            "padding": null,
            "right": null,
            "top": null,
            "visibility": null,
            "width": null
          }
        },
        "0e7f763978464d298d8439f3eb45f723": {
          "model_module": "@jupyter-widgets/controls",
          "model_name": "DescriptionStyleModel",
          "model_module_version": "1.5.0",
          "state": {
            "_model_module": "@jupyter-widgets/controls",
            "_model_module_version": "1.5.0",
            "_model_name": "DescriptionStyleModel",
            "_view_count": null,
            "_view_module": "@jupyter-widgets/base",
            "_view_module_version": "1.2.0",
            "_view_name": "StyleView",
            "description_width": ""
          }
        },
        "4ef693dddcb24ad6b0aa9a5e4eb9e7b4": {
          "model_module": "@jupyter-widgets/base",
          "model_name": "LayoutModel",
          "model_module_version": "1.2.0",
          "state": {
            "_model_module": "@jupyter-widgets/base",
            "_model_module_version": "1.2.0",
            "_model_name": "LayoutModel",
            "_view_count": null,
            "_view_module": "@jupyter-widgets/base",
            "_view_module_version": "1.2.0",
            "_view_name": "LayoutView",
            "align_content": null,
            "align_items": null,
            "align_self": null,
            "border": null,
            "bottom": null,
            "display": null,
            "flex": null,
            "flex_flow": null,
            "grid_area": null,
            "grid_auto_columns": null,
            "grid_auto_flow": null,
            "grid_auto_rows": null,
            "grid_column": null,
            "grid_gap": null,
            "grid_row": null,
            "grid_template_areas": null,
            "grid_template_columns": null,
            "grid_template_rows": null,
            "height": null,
            "justify_content": null,
            "justify_items": null,
            "left": null,
            "margin": null,
            "max_height": null,
            "max_width": null,
            "min_height": null,
            "min_width": null,
            "object_fit": null,
            "object_position": null,
            "order": null,
            "overflow": null,
            "overflow_x": null,
            "overflow_y": null,
            "padding": null,
            "right": null,
            "top": null,
            "visibility": null,
            "width": null
          }
        },
        "f7a1bee7a89c4a14a80c7e8c3d85a5a3": {
          "model_module": "@jupyter-widgets/controls",
          "model_name": "ProgressStyleModel",
          "model_module_version": "1.5.0",
          "state": {
            "_model_module": "@jupyter-widgets/controls",
            "_model_module_version": "1.5.0",
            "_model_name": "ProgressStyleModel",
            "_view_count": null,
            "_view_module": "@jupyter-widgets/base",
            "_view_module_version": "1.2.0",
            "_view_name": "StyleView",
            "bar_color": null,
            "description_width": ""
          }
        },
        "673ea161c2c94bd7bad44575c9cff924": {
          "model_module": "@jupyter-widgets/base",
          "model_name": "LayoutModel",
          "model_module_version": "1.2.0",
          "state": {
            "_model_module": "@jupyter-widgets/base",
            "_model_module_version": "1.2.0",
            "_model_name": "LayoutModel",
            "_view_count": null,
            "_view_module": "@jupyter-widgets/base",
            "_view_module_version": "1.2.0",
            "_view_name": "LayoutView",
            "align_content": null,
            "align_items": null,
            "align_self": null,
            "border": null,
            "bottom": null,
            "display": null,
            "flex": null,
            "flex_flow": null,
            "grid_area": null,
            "grid_auto_columns": null,
            "grid_auto_flow": null,
            "grid_auto_rows": null,
            "grid_column": null,
            "grid_gap": null,
            "grid_row": null,
            "grid_template_areas": null,
            "grid_template_columns": null,
            "grid_template_rows": null,
            "height": null,
            "justify_content": null,
            "justify_items": null,
            "left": null,
            "margin": null,
            "max_height": null,
            "max_width": null,
            "min_height": null,
            "min_width": null,
            "object_fit": null,
            "object_position": null,
            "order": null,
            "overflow": null,
            "overflow_x": null,
            "overflow_y": null,
            "padding": null,
            "right": null,
            "top": null,
            "visibility": null,
            "width": null
          }
        },
        "f7e027c0f75049178d11d386fcb391b2": {
          "model_module": "@jupyter-widgets/controls",
          "model_name": "DescriptionStyleModel",
          "model_module_version": "1.5.0",
          "state": {
            "_model_module": "@jupyter-widgets/controls",
            "_model_module_version": "1.5.0",
            "_model_name": "DescriptionStyleModel",
            "_view_count": null,
            "_view_module": "@jupyter-widgets/base",
            "_view_module_version": "1.2.0",
            "_view_name": "StyleView",
            "description_width": ""
          }
        },
        "b2d309f58e7b42a78752d87bfc64d7db": {
          "model_module": "@jupyter-widgets/controls",
          "model_name": "HBoxModel",
          "model_module_version": "1.5.0",
          "state": {
            "_dom_classes": [],
            "_model_module": "@jupyter-widgets/controls",
            "_model_module_version": "1.5.0",
            "_model_name": "HBoxModel",
            "_view_count": null,
            "_view_module": "@jupyter-widgets/controls",
            "_view_module_version": "1.5.0",
            "_view_name": "HBoxView",
            "box_style": "",
            "children": [
              "IPY_MODEL_482180958a614e959b5acba7b33e258c",
              "IPY_MODEL_985d5a80baea4fec9c03a137830da3ca",
              "IPY_MODEL_8b43013a450840799bac7575ccb9680d"
            ],
            "layout": "IPY_MODEL_7cf4fcac688941d6beabca2735cf8647"
          }
        },
        "482180958a614e959b5acba7b33e258c": {
          "model_module": "@jupyter-widgets/controls",
          "model_name": "HTMLModel",
          "model_module_version": "1.5.0",
          "state": {
            "_dom_classes": [],
            "_model_module": "@jupyter-widgets/controls",
            "_model_module_version": "1.5.0",
            "_model_name": "HTMLModel",
            "_view_count": null,
            "_view_module": "@jupyter-widgets/controls",
            "_view_module_version": "1.5.0",
            "_view_name": "HTMLView",
            "description": "",
            "description_tooltip": null,
            "layout": "IPY_MODEL_8833bdb4bc2249b7b59f375010fd8b1c",
            "placeholder": "​",
            "style": "IPY_MODEL_956ca1a8f9b34706854463b14c4c5019",
            "value": "vocab.json: 100%"
          }
        },
        "985d5a80baea4fec9c03a137830da3ca": {
          "model_module": "@jupyter-widgets/controls",
          "model_name": "FloatProgressModel",
          "model_module_version": "1.5.0",
          "state": {
            "_dom_classes": [],
            "_model_module": "@jupyter-widgets/controls",
            "_model_module_version": "1.5.0",
            "_model_name": "FloatProgressModel",
            "_view_count": null,
            "_view_module": "@jupyter-widgets/controls",
            "_view_module_version": "1.5.0",
            "_view_name": "ProgressView",
            "bar_style": "success",
            "description": "",
            "description_tooltip": null,
            "layout": "IPY_MODEL_0038579514a246ae9740d6fae03bb85c",
            "max": 798156,
            "min": 0,
            "orientation": "horizontal",
            "style": "IPY_MODEL_7f2ef9349ebd4e2191acd83199c1ce4a",
            "value": 798156
          }
        },
        "8b43013a450840799bac7575ccb9680d": {
          "model_module": "@jupyter-widgets/controls",
          "model_name": "HTMLModel",
          "model_module_version": "1.5.0",
          "state": {
            "_dom_classes": [],
            "_model_module": "@jupyter-widgets/controls",
            "_model_module_version": "1.5.0",
            "_model_name": "HTMLModel",
            "_view_count": null,
            "_view_module": "@jupyter-widgets/controls",
            "_view_module_version": "1.5.0",
            "_view_name": "HTMLView",
            "description": "",
            "description_tooltip": null,
            "layout": "IPY_MODEL_49bd803038c847909f56930216f7f036",
            "placeholder": "​",
            "style": "IPY_MODEL_4d0d3b864d48488bae56497fc1b32c3b",
            "value": " 798k/798k [00:00&lt;00:00, 15.2MB/s]"
          }
        },
        "7cf4fcac688941d6beabca2735cf8647": {
          "model_module": "@jupyter-widgets/base",
          "model_name": "LayoutModel",
          "model_module_version": "1.2.0",
          "state": {
            "_model_module": "@jupyter-widgets/base",
            "_model_module_version": "1.2.0",
            "_model_name": "LayoutModel",
            "_view_count": null,
            "_view_module": "@jupyter-widgets/base",
            "_view_module_version": "1.2.0",
            "_view_name": "LayoutView",
            "align_content": null,
            "align_items": null,
            "align_self": null,
            "border": null,
            "bottom": null,
            "display": null,
            "flex": null,
            "flex_flow": null,
            "grid_area": null,
            "grid_auto_columns": null,
            "grid_auto_flow": null,
            "grid_auto_rows": null,
            "grid_column": null,
            "grid_gap": null,
            "grid_row": null,
            "grid_template_areas": null,
            "grid_template_columns": null,
            "grid_template_rows": null,
            "height": null,
            "justify_content": null,
            "justify_items": null,
            "left": null,
            "margin": null,
            "max_height": null,
            "max_width": null,
            "min_height": null,
            "min_width": null,
            "object_fit": null,
            "object_position": null,
            "order": null,
            "overflow": null,
            "overflow_x": null,
            "overflow_y": null,
            "padding": null,
            "right": null,
            "top": null,
            "visibility": null,
            "width": null
          }
        },
        "8833bdb4bc2249b7b59f375010fd8b1c": {
          "model_module": "@jupyter-widgets/base",
          "model_name": "LayoutModel",
          "model_module_version": "1.2.0",
          "state": {
            "_model_module": "@jupyter-widgets/base",
            "_model_module_version": "1.2.0",
            "_model_name": "LayoutModel",
            "_view_count": null,
            "_view_module": "@jupyter-widgets/base",
            "_view_module_version": "1.2.0",
            "_view_name": "LayoutView",
            "align_content": null,
            "align_items": null,
            "align_self": null,
            "border": null,
            "bottom": null,
            "display": null,
            "flex": null,
            "flex_flow": null,
            "grid_area": null,
            "grid_auto_columns": null,
            "grid_auto_flow": null,
            "grid_auto_rows": null,
            "grid_column": null,
            "grid_gap": null,
            "grid_row": null,
            "grid_template_areas": null,
            "grid_template_columns": null,
            "grid_template_rows": null,
            "height": null,
            "justify_content": null,
            "justify_items": null,
            "left": null,
            "margin": null,
            "max_height": null,
            "max_width": null,
            "min_height": null,
            "min_width": null,
            "object_fit": null,
            "object_position": null,
            "order": null,
            "overflow": null,
            "overflow_x": null,
            "overflow_y": null,
            "padding": null,
            "right": null,
            "top": null,
            "visibility": null,
            "width": null
          }
        },
        "956ca1a8f9b34706854463b14c4c5019": {
          "model_module": "@jupyter-widgets/controls",
          "model_name": "DescriptionStyleModel",
          "model_module_version": "1.5.0",
          "state": {
            "_model_module": "@jupyter-widgets/controls",
            "_model_module_version": "1.5.0",
            "_model_name": "DescriptionStyleModel",
            "_view_count": null,
            "_view_module": "@jupyter-widgets/base",
            "_view_module_version": "1.2.0",
            "_view_name": "StyleView",
            "description_width": ""
          }
        },
        "0038579514a246ae9740d6fae03bb85c": {
          "model_module": "@jupyter-widgets/base",
          "model_name": "LayoutModel",
          "model_module_version": "1.2.0",
          "state": {
            "_model_module": "@jupyter-widgets/base",
            "_model_module_version": "1.2.0",
            "_model_name": "LayoutModel",
            "_view_count": null,
            "_view_module": "@jupyter-widgets/base",
            "_view_module_version": "1.2.0",
            "_view_name": "LayoutView",
            "align_content": null,
            "align_items": null,
            "align_self": null,
            "border": null,
            "bottom": null,
            "display": null,
            "flex": null,
            "flex_flow": null,
            "grid_area": null,
            "grid_auto_columns": null,
            "grid_auto_flow": null,
            "grid_auto_rows": null,
            "grid_column": null,
            "grid_gap": null,
            "grid_row": null,
            "grid_template_areas": null,
            "grid_template_columns": null,
            "grid_template_rows": null,
            "height": null,
            "justify_content": null,
            "justify_items": null,
            "left": null,
            "margin": null,
            "max_height": null,
            "max_width": null,
            "min_height": null,
            "min_width": null,
            "object_fit": null,
            "object_position": null,
            "order": null,
            "overflow": null,
            "overflow_x": null,
            "overflow_y": null,
            "padding": null,
            "right": null,
            "top": null,
            "visibility": null,
            "width": null
          }
        },
        "7f2ef9349ebd4e2191acd83199c1ce4a": {
          "model_module": "@jupyter-widgets/controls",
          "model_name": "ProgressStyleModel",
          "model_module_version": "1.5.0",
          "state": {
            "_model_module": "@jupyter-widgets/controls",
            "_model_module_version": "1.5.0",
            "_model_name": "ProgressStyleModel",
            "_view_count": null,
            "_view_module": "@jupyter-widgets/base",
            "_view_module_version": "1.2.0",
            "_view_name": "StyleView",
            "bar_color": null,
            "description_width": ""
          }
        },
        "49bd803038c847909f56930216f7f036": {
          "model_module": "@jupyter-widgets/base",
          "model_name": "LayoutModel",
          "model_module_version": "1.2.0",
          "state": {
            "_model_module": "@jupyter-widgets/base",
            "_model_module_version": "1.2.0",
            "_model_name": "LayoutModel",
            "_view_count": null,
            "_view_module": "@jupyter-widgets/base",
            "_view_module_version": "1.2.0",
            "_view_name": "LayoutView",
            "align_content": null,
            "align_items": null,
            "align_self": null,
            "border": null,
            "bottom": null,
            "display": null,
            "flex": null,
            "flex_flow": null,
            "grid_area": null,
            "grid_auto_columns": null,
            "grid_auto_flow": null,
            "grid_auto_rows": null,
            "grid_column": null,
            "grid_gap": null,
            "grid_row": null,
            "grid_template_areas": null,
            "grid_template_columns": null,
            "grid_template_rows": null,
            "height": null,
            "justify_content": null,
            "justify_items": null,
            "left": null,
            "margin": null,
            "max_height": null,
            "max_width": null,
            "min_height": null,
            "min_width": null,
            "object_fit": null,
            "object_position": null,
            "order": null,
            "overflow": null,
            "overflow_x": null,
            "overflow_y": null,
            "padding": null,
            "right": null,
            "top": null,
            "visibility": null,
            "width": null
          }
        },
        "4d0d3b864d48488bae56497fc1b32c3b": {
          "model_module": "@jupyter-widgets/controls",
          "model_name": "DescriptionStyleModel",
          "model_module_version": "1.5.0",
          "state": {
            "_model_module": "@jupyter-widgets/controls",
            "_model_module_version": "1.5.0",
            "_model_name": "DescriptionStyleModel",
            "_view_count": null,
            "_view_module": "@jupyter-widgets/base",
            "_view_module_version": "1.2.0",
            "_view_name": "StyleView",
            "description_width": ""
          }
        },
        "7a2bcfddc305421fa0ed7276e4c2f760": {
          "model_module": "@jupyter-widgets/controls",
          "model_name": "HBoxModel",
          "model_module_version": "1.5.0",
          "state": {
            "_dom_classes": [],
            "_model_module": "@jupyter-widgets/controls",
            "_model_module_version": "1.5.0",
            "_model_name": "HBoxModel",
            "_view_count": null,
            "_view_module": "@jupyter-widgets/controls",
            "_view_module_version": "1.5.0",
            "_view_name": "HBoxView",
            "box_style": "",
            "children": [
              "IPY_MODEL_97fc376d5347419a92b1a9a9d807f644",
              "IPY_MODEL_b54027c0ea014de19039bec57f87dd08",
              "IPY_MODEL_60fc5251f55c4aed9618a887c890704a"
            ],
            "layout": "IPY_MODEL_0d3754e8fcba4fc693a28afac3002d46"
          }
        },
        "97fc376d5347419a92b1a9a9d807f644": {
          "model_module": "@jupyter-widgets/controls",
          "model_name": "HTMLModel",
          "model_module_version": "1.5.0",
          "state": {
            "_dom_classes": [],
            "_model_module": "@jupyter-widgets/controls",
            "_model_module_version": "1.5.0",
            "_model_name": "HTMLModel",
            "_view_count": null,
            "_view_module": "@jupyter-widgets/controls",
            "_view_module_version": "1.5.0",
            "_view_name": "HTMLView",
            "description": "",
            "description_tooltip": null,
            "layout": "IPY_MODEL_bc45d945e8fe4420a0ee0ac4340ed9a8",
            "placeholder": "​",
            "style": "IPY_MODEL_e2fe053c1504420d8436c0b23375208f",
            "value": "merges.txt: 100%"
          }
        },
        "b54027c0ea014de19039bec57f87dd08": {
          "model_module": "@jupyter-widgets/controls",
          "model_name": "FloatProgressModel",
          "model_module_version": "1.5.0",
          "state": {
            "_dom_classes": [],
            "_model_module": "@jupyter-widgets/controls",
            "_model_module_version": "1.5.0",
            "_model_name": "FloatProgressModel",
            "_view_count": null,
            "_view_module": "@jupyter-widgets/controls",
            "_view_module_version": "1.5.0",
            "_view_name": "ProgressView",
            "bar_style": "success",
            "description": "",
            "description_tooltip": null,
            "layout": "IPY_MODEL_61f09c9940664e97a9180e64a976aed1",
            "max": 456318,
            "min": 0,
            "orientation": "horizontal",
            "style": "IPY_MODEL_1c2cf4e7da6c4c8bb793c6373af01a63",
            "value": 456318
          }
        },
        "60fc5251f55c4aed9618a887c890704a": {
          "model_module": "@jupyter-widgets/controls",
          "model_name": "HTMLModel",
          "model_module_version": "1.5.0",
          "state": {
            "_dom_classes": [],
            "_model_module": "@jupyter-widgets/controls",
            "_model_module_version": "1.5.0",
            "_model_name": "HTMLModel",
            "_view_count": null,
            "_view_module": "@jupyter-widgets/controls",
            "_view_module_version": "1.5.0",
            "_view_name": "HTMLView",
            "description": "",
            "description_tooltip": null,
            "layout": "IPY_MODEL_8200937617eb4819b952a31c8a68b674",
            "placeholder": "​",
            "style": "IPY_MODEL_629082c5642646b58266a009a856bec6",
            "value": " 456k/456k [00:00&lt;00:00, 9.67MB/s]"
          }
        },
        "0d3754e8fcba4fc693a28afac3002d46": {
          "model_module": "@jupyter-widgets/base",
          "model_name": "LayoutModel",
          "model_module_version": "1.2.0",
          "state": {
            "_model_module": "@jupyter-widgets/base",
            "_model_module_version": "1.2.0",
            "_model_name": "LayoutModel",
            "_view_count": null,
            "_view_module": "@jupyter-widgets/base",
            "_view_module_version": "1.2.0",
            "_view_name": "LayoutView",
            "align_content": null,
            "align_items": null,
            "align_self": null,
            "border": null,
            "bottom": null,
            "display": null,
            "flex": null,
            "flex_flow": null,
            "grid_area": null,
            "grid_auto_columns": null,
            "grid_auto_flow": null,
            "grid_auto_rows": null,
            "grid_column": null,
            "grid_gap": null,
            "grid_row": null,
            "grid_template_areas": null,
            "grid_template_columns": null,
            "grid_template_rows": null,
            "height": null,
            "justify_content": null,
            "justify_items": null,
            "left": null,
            "margin": null,
            "max_height": null,
            "max_width": null,
            "min_height": null,
            "min_width": null,
            "object_fit": null,
            "object_position": null,
            "order": null,
            "overflow": null,
            "overflow_x": null,
            "overflow_y": null,
            "padding": null,
            "right": null,
            "top": null,
            "visibility": null,
            "width": null
          }
        },
        "bc45d945e8fe4420a0ee0ac4340ed9a8": {
          "model_module": "@jupyter-widgets/base",
          "model_name": "LayoutModel",
          "model_module_version": "1.2.0",
          "state": {
            "_model_module": "@jupyter-widgets/base",
            "_model_module_version": "1.2.0",
            "_model_name": "LayoutModel",
            "_view_count": null,
            "_view_module": "@jupyter-widgets/base",
            "_view_module_version": "1.2.0",
            "_view_name": "LayoutView",
            "align_content": null,
            "align_items": null,
            "align_self": null,
            "border": null,
            "bottom": null,
            "display": null,
            "flex": null,
            "flex_flow": null,
            "grid_area": null,
            "grid_auto_columns": null,
            "grid_auto_flow": null,
            "grid_auto_rows": null,
            "grid_column": null,
            "grid_gap": null,
            "grid_row": null,
            "grid_template_areas": null,
            "grid_template_columns": null,
            "grid_template_rows": null,
            "height": null,
            "justify_content": null,
            "justify_items": null,
            "left": null,
            "margin": null,
            "max_height": null,
            "max_width": null,
            "min_height": null,
            "min_width": null,
            "object_fit": null,
            "object_position": null,
            "order": null,
            "overflow": null,
            "overflow_x": null,
            "overflow_y": null,
            "padding": null,
            "right": null,
            "top": null,
            "visibility": null,
            "width": null
          }
        },
        "e2fe053c1504420d8436c0b23375208f": {
          "model_module": "@jupyter-widgets/controls",
          "model_name": "DescriptionStyleModel",
          "model_module_version": "1.5.0",
          "state": {
            "_model_module": "@jupyter-widgets/controls",
            "_model_module_version": "1.5.0",
            "_model_name": "DescriptionStyleModel",
            "_view_count": null,
            "_view_module": "@jupyter-widgets/base",
            "_view_module_version": "1.2.0",
            "_view_name": "StyleView",
            "description_width": ""
          }
        },
        "61f09c9940664e97a9180e64a976aed1": {
          "model_module": "@jupyter-widgets/base",
          "model_name": "LayoutModel",
          "model_module_version": "1.2.0",
          "state": {
            "_model_module": "@jupyter-widgets/base",
            "_model_module_version": "1.2.0",
            "_model_name": "LayoutModel",
            "_view_count": null,
            "_view_module": "@jupyter-widgets/base",
            "_view_module_version": "1.2.0",
            "_view_name": "LayoutView",
            "align_content": null,
            "align_items": null,
            "align_self": null,
            "border": null,
            "bottom": null,
            "display": null,
            "flex": null,
            "flex_flow": null,
            "grid_area": null,
            "grid_auto_columns": null,
            "grid_auto_flow": null,
            "grid_auto_rows": null,
            "grid_column": null,
            "grid_gap": null,
            "grid_row": null,
            "grid_template_areas": null,
            "grid_template_columns": null,
            "grid_template_rows": null,
            "height": null,
            "justify_content": null,
            "justify_items": null,
            "left": null,
            "margin": null,
            "max_height": null,
            "max_width": null,
            "min_height": null,
            "min_width": null,
            "object_fit": null,
            "object_position": null,
            "order": null,
            "overflow": null,
            "overflow_x": null,
            "overflow_y": null,
            "padding": null,
            "right": null,
            "top": null,
            "visibility": null,
            "width": null
          }
        },
        "1c2cf4e7da6c4c8bb793c6373af01a63": {
          "model_module": "@jupyter-widgets/controls",
          "model_name": "ProgressStyleModel",
          "model_module_version": "1.5.0",
          "state": {
            "_model_module": "@jupyter-widgets/controls",
            "_model_module_version": "1.5.0",
            "_model_name": "ProgressStyleModel",
            "_view_count": null,
            "_view_module": "@jupyter-widgets/base",
            "_view_module_version": "1.2.0",
            "_view_name": "StyleView",
            "bar_color": null,
            "description_width": ""
          }
        },
        "8200937617eb4819b952a31c8a68b674": {
          "model_module": "@jupyter-widgets/base",
          "model_name": "LayoutModel",
          "model_module_version": "1.2.0",
          "state": {
            "_model_module": "@jupyter-widgets/base",
            "_model_module_version": "1.2.0",
            "_model_name": "LayoutModel",
            "_view_count": null,
            "_view_module": "@jupyter-widgets/base",
            "_view_module_version": "1.2.0",
            "_view_name": "LayoutView",
            "align_content": null,
            "align_items": null,
            "align_self": null,
            "border": null,
            "bottom": null,
            "display": null,
            "flex": null,
            "flex_flow": null,
            "grid_area": null,
            "grid_auto_columns": null,
            "grid_auto_flow": null,
            "grid_auto_rows": null,
            "grid_column": null,
            "grid_gap": null,
            "grid_row": null,
            "grid_template_areas": null,
            "grid_template_columns": null,
            "grid_template_rows": null,
            "height": null,
            "justify_content": null,
            "justify_items": null,
            "left": null,
            "margin": null,
            "max_height": null,
            "max_width": null,
            "min_height": null,
            "min_width": null,
            "object_fit": null,
            "object_position": null,
            "order": null,
            "overflow": null,
            "overflow_x": null,
            "overflow_y": null,
            "padding": null,
            "right": null,
            "top": null,
            "visibility": null,
            "width": null
          }
        },
        "629082c5642646b58266a009a856bec6": {
          "model_module": "@jupyter-widgets/controls",
          "model_name": "DescriptionStyleModel",
          "model_module_version": "1.5.0",
          "state": {
            "_model_module": "@jupyter-widgets/controls",
            "_model_module_version": "1.5.0",
            "_model_name": "DescriptionStyleModel",
            "_view_count": null,
            "_view_module": "@jupyter-widgets/base",
            "_view_module_version": "1.2.0",
            "_view_name": "StyleView",
            "description_width": ""
          }
        },
        "1614a39ef59d4aaaaafb5a3a6e4cb7fa": {
          "model_module": "@jupyter-widgets/controls",
          "model_name": "HBoxModel",
          "model_module_version": "1.5.0",
          "state": {
            "_dom_classes": [],
            "_model_module": "@jupyter-widgets/controls",
            "_model_module_version": "1.5.0",
            "_model_name": "HBoxModel",
            "_view_count": null,
            "_view_module": "@jupyter-widgets/controls",
            "_view_module_version": "1.5.0",
            "_view_name": "HBoxView",
            "box_style": "",
            "children": [
              "IPY_MODEL_ae443faba05842d4b62b8a935c1b0128",
              "IPY_MODEL_42ed9a33c3264422b304d19f6af2c6b5",
              "IPY_MODEL_fa4c3565e6f345639d8005c01f32a46c"
            ],
            "layout": "IPY_MODEL_cf63de23931f42739791bf843a1c3616"
          }
        },
        "ae443faba05842d4b62b8a935c1b0128": {
          "model_module": "@jupyter-widgets/controls",
          "model_name": "HTMLModel",
          "model_module_version": "1.5.0",
          "state": {
            "_dom_classes": [],
            "_model_module": "@jupyter-widgets/controls",
            "_model_module_version": "1.5.0",
            "_model_name": "HTMLModel",
            "_view_count": null,
            "_view_module": "@jupyter-widgets/controls",
            "_view_module_version": "1.5.0",
            "_view_name": "HTMLView",
            "description": "",
            "description_tooltip": null,
            "layout": "IPY_MODEL_2372d52cfe2843e7b07eb67a84a176ca",
            "placeholder": "​",
            "style": "IPY_MODEL_f01a9ea9ba334f40b318f6216a7c830c",
            "value": "tokenizer.json: 100%"
          }
        },
        "42ed9a33c3264422b304d19f6af2c6b5": {
          "model_module": "@jupyter-widgets/controls",
          "model_name": "FloatProgressModel",
          "model_module_version": "1.5.0",
          "state": {
            "_dom_classes": [],
            "_model_module": "@jupyter-widgets/controls",
            "_model_module_version": "1.5.0",
            "_model_name": "FloatProgressModel",
            "_view_count": null,
            "_view_module": "@jupyter-widgets/controls",
            "_view_module_version": "1.5.0",
            "_view_name": "ProgressView",
            "bar_style": "success",
            "description": "",
            "description_tooltip": null,
            "layout": "IPY_MODEL_86ab19e7bca14c6e9e5da2109ca33011",
            "max": 2114924,
            "min": 0,
            "orientation": "horizontal",
            "style": "IPY_MODEL_be205ce92a6f4227936fac1648c96cec",
            "value": 2114924
          }
        },
        "fa4c3565e6f345639d8005c01f32a46c": {
          "model_module": "@jupyter-widgets/controls",
          "model_name": "HTMLModel",
          "model_module_version": "1.5.0",
          "state": {
            "_dom_classes": [],
            "_model_module": "@jupyter-widgets/controls",
            "_model_module_version": "1.5.0",
            "_model_name": "HTMLModel",
            "_view_count": null,
            "_view_module": "@jupyter-widgets/controls",
            "_view_module_version": "1.5.0",
            "_view_name": "HTMLView",
            "description": "",
            "description_tooltip": null,
            "layout": "IPY_MODEL_2a10f4e74f2a4509b07fea8e2e30c5f1",
            "placeholder": "​",
            "style": "IPY_MODEL_c767adb2364f45628b4689568b27bfdd",
            "value": " 2.11M/2.11M [00:00&lt;00:00, 15.0MB/s]"
          }
        },
        "cf63de23931f42739791bf843a1c3616": {
          "model_module": "@jupyter-widgets/base",
          "model_name": "LayoutModel",
          "model_module_version": "1.2.0",
          "state": {
            "_model_module": "@jupyter-widgets/base",
            "_model_module_version": "1.2.0",
            "_model_name": "LayoutModel",
            "_view_count": null,
            "_view_module": "@jupyter-widgets/base",
            "_view_module_version": "1.2.0",
            "_view_name": "LayoutView",
            "align_content": null,
            "align_items": null,
            "align_self": null,
            "border": null,
            "bottom": null,
            "display": null,
            "flex": null,
            "flex_flow": null,
            "grid_area": null,
            "grid_auto_columns": null,
            "grid_auto_flow": null,
            "grid_auto_rows": null,
            "grid_column": null,
            "grid_gap": null,
            "grid_row": null,
            "grid_template_areas": null,
            "grid_template_columns": null,
            "grid_template_rows": null,
            "height": null,
            "justify_content": null,
            "justify_items": null,
            "left": null,
            "margin": null,
            "max_height": null,
            "max_width": null,
            "min_height": null,
            "min_width": null,
            "object_fit": null,
            "object_position": null,
            "order": null,
            "overflow": null,
            "overflow_x": null,
            "overflow_y": null,
            "padding": null,
            "right": null,
            "top": null,
            "visibility": null,
            "width": null
          }
        },
        "2372d52cfe2843e7b07eb67a84a176ca": {
          "model_module": "@jupyter-widgets/base",
          "model_name": "LayoutModel",
          "model_module_version": "1.2.0",
          "state": {
            "_model_module": "@jupyter-widgets/base",
            "_model_module_version": "1.2.0",
            "_model_name": "LayoutModel",
            "_view_count": null,
            "_view_module": "@jupyter-widgets/base",
            "_view_module_version": "1.2.0",
            "_view_name": "LayoutView",
            "align_content": null,
            "align_items": null,
            "align_self": null,
            "border": null,
            "bottom": null,
            "display": null,
            "flex": null,
            "flex_flow": null,
            "grid_area": null,
            "grid_auto_columns": null,
            "grid_auto_flow": null,
            "grid_auto_rows": null,
            "grid_column": null,
            "grid_gap": null,
            "grid_row": null,
            "grid_template_areas": null,
            "grid_template_columns": null,
            "grid_template_rows": null,
            "height": null,
            "justify_content": null,
            "justify_items": null,
            "left": null,
            "margin": null,
            "max_height": null,
            "max_width": null,
            "min_height": null,
            "min_width": null,
            "object_fit": null,
            "object_position": null,
            "order": null,
            "overflow": null,
            "overflow_x": null,
            "overflow_y": null,
            "padding": null,
            "right": null,
            "top": null,
            "visibility": null,
            "width": null
          }
        },
        "f01a9ea9ba334f40b318f6216a7c830c": {
          "model_module": "@jupyter-widgets/controls",
          "model_name": "DescriptionStyleModel",
          "model_module_version": "1.5.0",
          "state": {
            "_model_module": "@jupyter-widgets/controls",
            "_model_module_version": "1.5.0",
            "_model_name": "DescriptionStyleModel",
            "_view_count": null,
            "_view_module": "@jupyter-widgets/base",
            "_view_module_version": "1.2.0",
            "_view_name": "StyleView",
            "description_width": ""
          }
        },
        "86ab19e7bca14c6e9e5da2109ca33011": {
          "model_module": "@jupyter-widgets/base",
          "model_name": "LayoutModel",
          "model_module_version": "1.2.0",
          "state": {
            "_model_module": "@jupyter-widgets/base",
            "_model_module_version": "1.2.0",
            "_model_name": "LayoutModel",
            "_view_count": null,
            "_view_module": "@jupyter-widgets/base",
            "_view_module_version": "1.2.0",
            "_view_name": "LayoutView",
            "align_content": null,
            "align_items": null,
            "align_self": null,
            "border": null,
            "bottom": null,
            "display": null,
            "flex": null,
            "flex_flow": null,
            "grid_area": null,
            "grid_auto_columns": null,
            "grid_auto_flow": null,
            "grid_auto_rows": null,
            "grid_column": null,
            "grid_gap": null,
            "grid_row": null,
            "grid_template_areas": null,
            "grid_template_columns": null,
            "grid_template_rows": null,
            "height": null,
            "justify_content": null,
            "justify_items": null,
            "left": null,
            "margin": null,
            "max_height": null,
            "max_width": null,
            "min_height": null,
            "min_width": null,
            "object_fit": null,
            "object_position": null,
            "order": null,
            "overflow": null,
            "overflow_x": null,
            "overflow_y": null,
            "padding": null,
            "right": null,
            "top": null,
            "visibility": null,
            "width": null
          }
        },
        "be205ce92a6f4227936fac1648c96cec": {
          "model_module": "@jupyter-widgets/controls",
          "model_name": "ProgressStyleModel",
          "model_module_version": "1.5.0",
          "state": {
            "_model_module": "@jupyter-widgets/controls",
            "_model_module_version": "1.5.0",
            "_model_name": "ProgressStyleModel",
            "_view_count": null,
            "_view_module": "@jupyter-widgets/base",
            "_view_module_version": "1.2.0",
            "_view_name": "StyleView",
            "bar_color": null,
            "description_width": ""
          }
        },
        "2a10f4e74f2a4509b07fea8e2e30c5f1": {
          "model_module": "@jupyter-widgets/base",
          "model_name": "LayoutModel",
          "model_module_version": "1.2.0",
          "state": {
            "_model_module": "@jupyter-widgets/base",
            "_model_module_version": "1.2.0",
            "_model_name": "LayoutModel",
            "_view_count": null,
            "_view_module": "@jupyter-widgets/base",
            "_view_module_version": "1.2.0",
            "_view_name": "LayoutView",
            "align_content": null,
            "align_items": null,
            "align_self": null,
            "border": null,
            "bottom": null,
            "display": null,
            "flex": null,
            "flex_flow": null,
            "grid_area": null,
            "grid_auto_columns": null,
            "grid_auto_flow": null,
            "grid_auto_rows": null,
            "grid_column": null,
            "grid_gap": null,
            "grid_row": null,
            "grid_template_areas": null,
            "grid_template_columns": null,
            "grid_template_rows": null,
            "height": null,
            "justify_content": null,
            "justify_items": null,
            "left": null,
            "margin": null,
            "max_height": null,
            "max_width": null,
            "min_height": null,
            "min_width": null,
            "object_fit": null,
            "object_position": null,
            "order": null,
            "overflow": null,
            "overflow_x": null,
            "overflow_y": null,
            "padding": null,
            "right": null,
            "top": null,
            "visibility": null,
            "width": null
          }
        },
        "c767adb2364f45628b4689568b27bfdd": {
          "model_module": "@jupyter-widgets/controls",
          "model_name": "DescriptionStyleModel",
          "model_module_version": "1.5.0",
          "state": {
            "_model_module": "@jupyter-widgets/controls",
            "_model_module_version": "1.5.0",
            "_model_name": "DescriptionStyleModel",
            "_view_count": null,
            "_view_module": "@jupyter-widgets/base",
            "_view_module_version": "1.2.0",
            "_view_name": "StyleView",
            "description_width": ""
          }
        },
        "c87dd96c0d6c4e698a36fbefbb7cc6d2": {
          "model_module": "@jupyter-widgets/controls",
          "model_name": "HBoxModel",
          "model_module_version": "1.5.0",
          "state": {
            "_dom_classes": [],
            "_model_module": "@jupyter-widgets/controls",
            "_model_module_version": "1.5.0",
            "_model_name": "HBoxModel",
            "_view_count": null,
            "_view_module": "@jupyter-widgets/controls",
            "_view_module_version": "1.5.0",
            "_view_name": "HBoxView",
            "box_style": "",
            "children": [
              "IPY_MODEL_86aed1c3091b48dba94ff89f2ab368f3",
              "IPY_MODEL_28728538d2ce4223b1bca375cdf54845",
              "IPY_MODEL_26e0a0177dad49a89d8208041b62f7d6"
            ],
            "layout": "IPY_MODEL_3497054d521b480086f0eea3c28f3171"
          }
        },
        "86aed1c3091b48dba94ff89f2ab368f3": {
          "model_module": "@jupyter-widgets/controls",
          "model_name": "HTMLModel",
          "model_module_version": "1.5.0",
          "state": {
            "_dom_classes": [],
            "_model_module": "@jupyter-widgets/controls",
            "_model_module_version": "1.5.0",
            "_model_name": "HTMLModel",
            "_view_count": null,
            "_view_module": "@jupyter-widgets/controls",
            "_view_module_version": "1.5.0",
            "_view_name": "HTMLView",
            "description": "",
            "description_tooltip": null,
            "layout": "IPY_MODEL_983d81f61ace4e108efaf6de202dfc2a",
            "placeholder": "​",
            "style": "IPY_MODEL_25712ef075bb46a0b7b8e3418c178ad3",
            "value": "added_tokens.json: 100%"
          }
        },
        "28728538d2ce4223b1bca375cdf54845": {
          "model_module": "@jupyter-widgets/controls",
          "model_name": "FloatProgressModel",
          "model_module_version": "1.5.0",
          "state": {
            "_dom_classes": [],
            "_model_module": "@jupyter-widgets/controls",
            "_model_module_version": "1.5.0",
            "_model_name": "FloatProgressModel",
            "_view_count": null,
            "_view_module": "@jupyter-widgets/controls",
            "_view_module_version": "1.5.0",
            "_view_name": "ProgressView",
            "bar_style": "success",
            "description": "",
            "description_tooltip": null,
            "layout": "IPY_MODEL_d81124ced7b548f18f9b112ae883f7d4",
            "max": 1080,
            "min": 0,
            "orientation": "horizontal",
            "style": "IPY_MODEL_cd9f9a1f5e4247b8b24ab45f1a860b5c",
            "value": 1080
          }
        },
        "26e0a0177dad49a89d8208041b62f7d6": {
          "model_module": "@jupyter-widgets/controls",
          "model_name": "HTMLModel",
          "model_module_version": "1.5.0",
          "state": {
            "_dom_classes": [],
            "_model_module": "@jupyter-widgets/controls",
            "_model_module_version": "1.5.0",
            "_model_name": "HTMLModel",
            "_view_count": null,
            "_view_module": "@jupyter-widgets/controls",
            "_view_module_version": "1.5.0",
            "_view_name": "HTMLView",
            "description": "",
            "description_tooltip": null,
            "layout": "IPY_MODEL_08e1a2cd0d9f48bdb3fb416e70919682",
            "placeholder": "​",
            "style": "IPY_MODEL_35aae977135043ab9dcd8219276d9f31",
            "value": " 1.08k/1.08k [00:00&lt;00:00, 26.3kB/s]"
          }
        },
        "3497054d521b480086f0eea3c28f3171": {
          "model_module": "@jupyter-widgets/base",
          "model_name": "LayoutModel",
          "model_module_version": "1.2.0",
          "state": {
            "_model_module": "@jupyter-widgets/base",
            "_model_module_version": "1.2.0",
            "_model_name": "LayoutModel",
            "_view_count": null,
            "_view_module": "@jupyter-widgets/base",
            "_view_module_version": "1.2.0",
            "_view_name": "LayoutView",
            "align_content": null,
            "align_items": null,
            "align_self": null,
            "border": null,
            "bottom": null,
            "display": null,
            "flex": null,
            "flex_flow": null,
            "grid_area": null,
            "grid_auto_columns": null,
            "grid_auto_flow": null,
            "grid_auto_rows": null,
            "grid_column": null,
            "grid_gap": null,
            "grid_row": null,
            "grid_template_areas": null,
            "grid_template_columns": null,
            "grid_template_rows": null,
            "height": null,
            "justify_content": null,
            "justify_items": null,
            "left": null,
            "margin": null,
            "max_height": null,
            "max_width": null,
            "min_height": null,
            "min_width": null,
            "object_fit": null,
            "object_position": null,
            "order": null,
            "overflow": null,
            "overflow_x": null,
            "overflow_y": null,
            "padding": null,
            "right": null,
            "top": null,
            "visibility": null,
            "width": null
          }
        },
        "983d81f61ace4e108efaf6de202dfc2a": {
          "model_module": "@jupyter-widgets/base",
          "model_name": "LayoutModel",
          "model_module_version": "1.2.0",
          "state": {
            "_model_module": "@jupyter-widgets/base",
            "_model_module_version": "1.2.0",
            "_model_name": "LayoutModel",
            "_view_count": null,
            "_view_module": "@jupyter-widgets/base",
            "_view_module_version": "1.2.0",
            "_view_name": "LayoutView",
            "align_content": null,
            "align_items": null,
            "align_self": null,
            "border": null,
            "bottom": null,
            "display": null,
            "flex": null,
            "flex_flow": null,
            "grid_area": null,
            "grid_auto_columns": null,
            "grid_auto_flow": null,
            "grid_auto_rows": null,
            "grid_column": null,
            "grid_gap": null,
            "grid_row": null,
            "grid_template_areas": null,
            "grid_template_columns": null,
            "grid_template_rows": null,
            "height": null,
            "justify_content": null,
            "justify_items": null,
            "left": null,
            "margin": null,
            "max_height": null,
            "max_width": null,
            "min_height": null,
            "min_width": null,
            "object_fit": null,
            "object_position": null,
            "order": null,
            "overflow": null,
            "overflow_x": null,
            "overflow_y": null,
            "padding": null,
            "right": null,
            "top": null,
            "visibility": null,
            "width": null
          }
        },
        "25712ef075bb46a0b7b8e3418c178ad3": {
          "model_module": "@jupyter-widgets/controls",
          "model_name": "DescriptionStyleModel",
          "model_module_version": "1.5.0",
          "state": {
            "_model_module": "@jupyter-widgets/controls",
            "_model_module_version": "1.5.0",
            "_model_name": "DescriptionStyleModel",
            "_view_count": null,
            "_view_module": "@jupyter-widgets/base",
            "_view_module_version": "1.2.0",
            "_view_name": "StyleView",
            "description_width": ""
          }
        },
        "d81124ced7b548f18f9b112ae883f7d4": {
          "model_module": "@jupyter-widgets/base",
          "model_name": "LayoutModel",
          "model_module_version": "1.2.0",
          "state": {
            "_model_module": "@jupyter-widgets/base",
            "_model_module_version": "1.2.0",
            "_model_name": "LayoutModel",
            "_view_count": null,
            "_view_module": "@jupyter-widgets/base",
            "_view_module_version": "1.2.0",
            "_view_name": "LayoutView",
            "align_content": null,
            "align_items": null,
            "align_self": null,
            "border": null,
            "bottom": null,
            "display": null,
            "flex": null,
            "flex_flow": null,
            "grid_area": null,
            "grid_auto_columns": null,
            "grid_auto_flow": null,
            "grid_auto_rows": null,
            "grid_column": null,
            "grid_gap": null,
            "grid_row": null,
            "grid_template_areas": null,
            "grid_template_columns": null,
            "grid_template_rows": null,
            "height": null,
            "justify_content": null,
            "justify_items": null,
            "left": null,
            "margin": null,
            "max_height": null,
            "max_width": null,
            "min_height": null,
            "min_width": null,
            "object_fit": null,
            "object_position": null,
            "order": null,
            "overflow": null,
            "overflow_x": null,
            "overflow_y": null,
            "padding": null,
            "right": null,
            "top": null,
            "visibility": null,
            "width": null
          }
        },
        "cd9f9a1f5e4247b8b24ab45f1a860b5c": {
          "model_module": "@jupyter-widgets/controls",
          "model_name": "ProgressStyleModel",
          "model_module_version": "1.5.0",
          "state": {
            "_model_module": "@jupyter-widgets/controls",
            "_model_module_version": "1.5.0",
            "_model_name": "ProgressStyleModel",
            "_view_count": null,
            "_view_module": "@jupyter-widgets/base",
            "_view_module_version": "1.2.0",
            "_view_name": "StyleView",
            "bar_color": null,
            "description_width": ""
          }
        },
        "08e1a2cd0d9f48bdb3fb416e70919682": {
          "model_module": "@jupyter-widgets/base",
          "model_name": "LayoutModel",
          "model_module_version": "1.2.0",
          "state": {
            "_model_module": "@jupyter-widgets/base",
            "_model_module_version": "1.2.0",
            "_model_name": "LayoutModel",
            "_view_count": null,
            "_view_module": "@jupyter-widgets/base",
            "_view_module_version": "1.2.0",
            "_view_name": "LayoutView",
            "align_content": null,
            "align_items": null,
            "align_self": null,
            "border": null,
            "bottom": null,
            "display": null,
            "flex": null,
            "flex_flow": null,
            "grid_area": null,
            "grid_auto_columns": null,
            "grid_auto_flow": null,
            "grid_auto_rows": null,
            "grid_column": null,
            "grid_gap": null,
            "grid_row": null,
            "grid_template_areas": null,
            "grid_template_columns": null,
            "grid_template_rows": null,
            "height": null,
            "justify_content": null,
            "justify_items": null,
            "left": null,
            "margin": null,
            "max_height": null,
            "max_width": null,
            "min_height": null,
            "min_width": null,
            "object_fit": null,
            "object_position": null,
            "order": null,
            "overflow": null,
            "overflow_x": null,
            "overflow_y": null,
            "padding": null,
            "right": null,
            "top": null,
            "visibility": null,
            "width": null
          }
        },
        "35aae977135043ab9dcd8219276d9f31": {
          "model_module": "@jupyter-widgets/controls",
          "model_name": "DescriptionStyleModel",
          "model_module_version": "1.5.0",
          "state": {
            "_model_module": "@jupyter-widgets/controls",
            "_model_module_version": "1.5.0",
            "_model_name": "DescriptionStyleModel",
            "_view_count": null,
            "_view_module": "@jupyter-widgets/base",
            "_view_module_version": "1.2.0",
            "_view_name": "StyleView",
            "description_width": ""
          }
        },
        "9b4a79db3832431faef73599c21b8f7c": {
          "model_module": "@jupyter-widgets/controls",
          "model_name": "HBoxModel",
          "model_module_version": "1.5.0",
          "state": {
            "_dom_classes": [],
            "_model_module": "@jupyter-widgets/controls",
            "_model_module_version": "1.5.0",
            "_model_name": "HBoxModel",
            "_view_count": null,
            "_view_module": "@jupyter-widgets/controls",
            "_view_module_version": "1.5.0",
            "_view_name": "HBoxView",
            "box_style": "",
            "children": [
              "IPY_MODEL_e1e043e1150c4726a0beb075fc47510b",
              "IPY_MODEL_92b2cb461f134b6087a3c5aa8eb716f1",
              "IPY_MODEL_279955a991704a0b980c33db75418338"
            ],
            "layout": "IPY_MODEL_7aa3ff70e76a4f30ba1f893c04615887"
          }
        },
        "e1e043e1150c4726a0beb075fc47510b": {
          "model_module": "@jupyter-widgets/controls",
          "model_name": "HTMLModel",
          "model_module_version": "1.5.0",
          "state": {
            "_dom_classes": [],
            "_model_module": "@jupyter-widgets/controls",
            "_model_module_version": "1.5.0",
            "_model_name": "HTMLModel",
            "_view_count": null,
            "_view_module": "@jupyter-widgets/controls",
            "_view_module_version": "1.5.0",
            "_view_name": "HTMLView",
            "description": "",
            "description_tooltip": null,
            "layout": "IPY_MODEL_f96084d30fd84dc0ae739a199916783d",
            "placeholder": "​",
            "style": "IPY_MODEL_ac2515d381b643a58984505e03895359",
            "value": "special_tokens_map.json: 100%"
          }
        },
        "92b2cb461f134b6087a3c5aa8eb716f1": {
          "model_module": "@jupyter-widgets/controls",
          "model_name": "FloatProgressModel",
          "model_module_version": "1.5.0",
          "state": {
            "_dom_classes": [],
            "_model_module": "@jupyter-widgets/controls",
            "_model_module_version": "1.5.0",
            "_model_name": "FloatProgressModel",
            "_view_count": null,
            "_view_module": "@jupyter-widgets/controls",
            "_view_module_version": "1.5.0",
            "_view_name": "ProgressView",
            "bar_style": "success",
            "description": "",
            "description_tooltip": null,
            "layout": "IPY_MODEL_d1cfeef4bbb04e92a14762ea38177e11",
            "max": 99,
            "min": 0,
            "orientation": "horizontal",
            "style": "IPY_MODEL_085eeb7b6d2f4f54b89acfb49357a721",
            "value": 99
          }
        },
        "279955a991704a0b980c33db75418338": {
          "model_module": "@jupyter-widgets/controls",
          "model_name": "HTMLModel",
          "model_module_version": "1.5.0",
          "state": {
            "_dom_classes": [],
            "_model_module": "@jupyter-widgets/controls",
            "_model_module_version": "1.5.0",
            "_model_name": "HTMLModel",
            "_view_count": null,
            "_view_module": "@jupyter-widgets/controls",
            "_view_module_version": "1.5.0",
            "_view_name": "HTMLView",
            "description": "",
            "description_tooltip": null,
            "layout": "IPY_MODEL_80541fccad9840c395824e17a769693a",
            "placeholder": "​",
            "style": "IPY_MODEL_94428c9fadae47969e6ced438cc6764b",
            "value": " 99.0/99.0 [00:00&lt;00:00, 2.33kB/s]"
          }
        },
        "7aa3ff70e76a4f30ba1f893c04615887": {
          "model_module": "@jupyter-widgets/base",
          "model_name": "LayoutModel",
          "model_module_version": "1.2.0",
          "state": {
            "_model_module": "@jupyter-widgets/base",
            "_model_module_version": "1.2.0",
            "_model_name": "LayoutModel",
            "_view_count": null,
            "_view_module": "@jupyter-widgets/base",
            "_view_module_version": "1.2.0",
            "_view_name": "LayoutView",
            "align_content": null,
            "align_items": null,
            "align_self": null,
            "border": null,
            "bottom": null,
            "display": null,
            "flex": null,
            "flex_flow": null,
            "grid_area": null,
            "grid_auto_columns": null,
            "grid_auto_flow": null,
            "grid_auto_rows": null,
            "grid_column": null,
            "grid_gap": null,
            "grid_row": null,
            "grid_template_areas": null,
            "grid_template_columns": null,
            "grid_template_rows": null,
            "height": null,
            "justify_content": null,
            "justify_items": null,
            "left": null,
            "margin": null,
            "max_height": null,
            "max_width": null,
            "min_height": null,
            "min_width": null,
            "object_fit": null,
            "object_position": null,
            "order": null,
            "overflow": null,
            "overflow_x": null,
            "overflow_y": null,
            "padding": null,
            "right": null,
            "top": null,
            "visibility": null,
            "width": null
          }
        },
        "f96084d30fd84dc0ae739a199916783d": {
          "model_module": "@jupyter-widgets/base",
          "model_name": "LayoutModel",
          "model_module_version": "1.2.0",
          "state": {
            "_model_module": "@jupyter-widgets/base",
            "_model_module_version": "1.2.0",
            "_model_name": "LayoutModel",
            "_view_count": null,
            "_view_module": "@jupyter-widgets/base",
            "_view_module_version": "1.2.0",
            "_view_name": "LayoutView",
            "align_content": null,
            "align_items": null,
            "align_self": null,
            "border": null,
            "bottom": null,
            "display": null,
            "flex": null,
            "flex_flow": null,
            "grid_area": null,
            "grid_auto_columns": null,
            "grid_auto_flow": null,
            "grid_auto_rows": null,
            "grid_column": null,
            "grid_gap": null,
            "grid_row": null,
            "grid_template_areas": null,
            "grid_template_columns": null,
            "grid_template_rows": null,
            "height": null,
            "justify_content": null,
            "justify_items": null,
            "left": null,
            "margin": null,
            "max_height": null,
            "max_width": null,
            "min_height": null,
            "min_width": null,
            "object_fit": null,
            "object_position": null,
            "order": null,
            "overflow": null,
            "overflow_x": null,
            "overflow_y": null,
            "padding": null,
            "right": null,
            "top": null,
            "visibility": null,
            "width": null
          }
        },
        "ac2515d381b643a58984505e03895359": {
          "model_module": "@jupyter-widgets/controls",
          "model_name": "DescriptionStyleModel",
          "model_module_version": "1.5.0",
          "state": {
            "_model_module": "@jupyter-widgets/controls",
            "_model_module_version": "1.5.0",
            "_model_name": "DescriptionStyleModel",
            "_view_count": null,
            "_view_module": "@jupyter-widgets/base",
            "_view_module_version": "1.2.0",
            "_view_name": "StyleView",
            "description_width": ""
          }
        },
        "d1cfeef4bbb04e92a14762ea38177e11": {
          "model_module": "@jupyter-widgets/base",
          "model_name": "LayoutModel",
          "model_module_version": "1.2.0",
          "state": {
            "_model_module": "@jupyter-widgets/base",
            "_model_module_version": "1.2.0",
            "_model_name": "LayoutModel",
            "_view_count": null,
            "_view_module": "@jupyter-widgets/base",
            "_view_module_version": "1.2.0",
            "_view_name": "LayoutView",
            "align_content": null,
            "align_items": null,
            "align_self": null,
            "border": null,
            "bottom": null,
            "display": null,
            "flex": null,
            "flex_flow": null,
            "grid_area": null,
            "grid_auto_columns": null,
            "grid_auto_flow": null,
            "grid_auto_rows": null,
            "grid_column": null,
            "grid_gap": null,
            "grid_row": null,
            "grid_template_areas": null,
            "grid_template_columns": null,
            "grid_template_rows": null,
            "height": null,
            "justify_content": null,
            "justify_items": null,
            "left": null,
            "margin": null,
            "max_height": null,
            "max_width": null,
            "min_height": null,
            "min_width": null,
            "object_fit": null,
            "object_position": null,
            "order": null,
            "overflow": null,
            "overflow_x": null,
            "overflow_y": null,
            "padding": null,
            "right": null,
            "top": null,
            "visibility": null,
            "width": null
          }
        },
        "085eeb7b6d2f4f54b89acfb49357a721": {
          "model_module": "@jupyter-widgets/controls",
          "model_name": "ProgressStyleModel",
          "model_module_version": "1.5.0",
          "state": {
            "_model_module": "@jupyter-widgets/controls",
            "_model_module_version": "1.5.0",
            "_model_name": "ProgressStyleModel",
            "_view_count": null,
            "_view_module": "@jupyter-widgets/base",
            "_view_module_version": "1.2.0",
            "_view_name": "StyleView",
            "bar_color": null,
            "description_width": ""
          }
        },
        "80541fccad9840c395824e17a769693a": {
          "model_module": "@jupyter-widgets/base",
          "model_name": "LayoutModel",
          "model_module_version": "1.2.0",
          "state": {
            "_model_module": "@jupyter-widgets/base",
            "_model_module_version": "1.2.0",
            "_model_name": "LayoutModel",
            "_view_count": null,
            "_view_module": "@jupyter-widgets/base",
            "_view_module_version": "1.2.0",
            "_view_name": "LayoutView",
            "align_content": null,
            "align_items": null,
            "align_self": null,
            "border": null,
            "bottom": null,
            "display": null,
            "flex": null,
            "flex_flow": null,
            "grid_area": null,
            "grid_auto_columns": null,
            "grid_auto_flow": null,
            "grid_auto_rows": null,
            "grid_column": null,
            "grid_gap": null,
            "grid_row": null,
            "grid_template_areas": null,
            "grid_template_columns": null,
            "grid_template_rows": null,
            "height": null,
            "justify_content": null,
            "justify_items": null,
            "left": null,
            "margin": null,
            "max_height": null,
            "max_width": null,
            "min_height": null,
            "min_width": null,
            "object_fit": null,
            "object_position": null,
            "order": null,
            "overflow": null,
            "overflow_x": null,
            "overflow_y": null,
            "padding": null,
            "right": null,
            "top": null,
            "visibility": null,
            "width": null
          }
        },
        "94428c9fadae47969e6ced438cc6764b": {
          "model_module": "@jupyter-widgets/controls",
          "model_name": "DescriptionStyleModel",
          "model_module_version": "1.5.0",
          "state": {
            "_model_module": "@jupyter-widgets/controls",
            "_model_module_version": "1.5.0",
            "_model_name": "DescriptionStyleModel",
            "_view_count": null,
            "_view_module": "@jupyter-widgets/base",
            "_view_module_version": "1.2.0",
            "_view_name": "StyleView",
            "description_width": ""
          }
        },
        "69fc9102ab4b47c3a29b0e49bec70773": {
          "model_module": "@jupyter-widgets/controls",
          "model_name": "HBoxModel",
          "model_module_version": "1.5.0",
          "state": {
            "_dom_classes": [],
            "_model_module": "@jupyter-widgets/controls",
            "_model_module_version": "1.5.0",
            "_model_name": "HBoxModel",
            "_view_count": null,
            "_view_module": "@jupyter-widgets/controls",
            "_view_module_version": "1.5.0",
            "_view_name": "HBoxView",
            "box_style": "",
            "children": [
              "IPY_MODEL_0708abe6f0e146a2ad094554db2cac4b",
              "IPY_MODEL_6cb71abc5076448a857d553af8adfcaa",
              "IPY_MODEL_4713af290f5f48719efd7d4019f60fdb"
            ],
            "layout": "IPY_MODEL_6770aa4bc63c40a7a38fdc2f3d8e5986"
          }
        },
        "0708abe6f0e146a2ad094554db2cac4b": {
          "model_module": "@jupyter-widgets/controls",
          "model_name": "HTMLModel",
          "model_module_version": "1.5.0",
          "state": {
            "_dom_classes": [],
            "_model_module": "@jupyter-widgets/controls",
            "_model_module_version": "1.5.0",
            "_model_name": "HTMLModel",
            "_view_count": null,
            "_view_module": "@jupyter-widgets/controls",
            "_view_module_version": "1.5.0",
            "_view_name": "HTMLView",
            "description": "",
            "description_tooltip": null,
            "layout": "IPY_MODEL_c16350591e0f42959adcda89c24fbcc6",
            "placeholder": "​",
            "style": "IPY_MODEL_ee61a12b41f04bd3b64f3735e9ac830b",
            "value": "config.json: 100%"
          }
        },
        "6cb71abc5076448a857d553af8adfcaa": {
          "model_module": "@jupyter-widgets/controls",
          "model_name": "FloatProgressModel",
          "model_module_version": "1.5.0",
          "state": {
            "_dom_classes": [],
            "_model_module": "@jupyter-widgets/controls",
            "_model_module_version": "1.5.0",
            "_model_name": "FloatProgressModel",
            "_view_count": null,
            "_view_module": "@jupyter-widgets/controls",
            "_view_module_version": "1.5.0",
            "_view_name": "ProgressView",
            "bar_style": "success",
            "description": "",
            "description_tooltip": null,
            "layout": "IPY_MODEL_4c1132aa68a44906956fe403f4e0a734",
            "max": 735,
            "min": 0,
            "orientation": "horizontal",
            "style": "IPY_MODEL_9b4917d49f314e2aa4b6308fefbb52df",
            "value": 735
          }
        },
        "4713af290f5f48719efd7d4019f60fdb": {
          "model_module": "@jupyter-widgets/controls",
          "model_name": "HTMLModel",
          "model_module_version": "1.5.0",
          "state": {
            "_dom_classes": [],
            "_model_module": "@jupyter-widgets/controls",
            "_model_module_version": "1.5.0",
            "_model_name": "HTMLModel",
            "_view_count": null,
            "_view_module": "@jupyter-widgets/controls",
            "_view_module_version": "1.5.0",
            "_view_name": "HTMLView",
            "description": "",
            "description_tooltip": null,
            "layout": "IPY_MODEL_052c17d7167a41178e2af128cf3b5d77",
            "placeholder": "​",
            "style": "IPY_MODEL_f7a1534b8b4543b08983af79bf1303b2",
            "value": " 735/735 [00:00&lt;00:00, 25.7kB/s]"
          }
        },
        "6770aa4bc63c40a7a38fdc2f3d8e5986": {
          "model_module": "@jupyter-widgets/base",
          "model_name": "LayoutModel",
          "model_module_version": "1.2.0",
          "state": {
            "_model_module": "@jupyter-widgets/base",
            "_model_module_version": "1.2.0",
            "_model_name": "LayoutModel",
            "_view_count": null,
            "_view_module": "@jupyter-widgets/base",
            "_view_module_version": "1.2.0",
            "_view_name": "LayoutView",
            "align_content": null,
            "align_items": null,
            "align_self": null,
            "border": null,
            "bottom": null,
            "display": null,
            "flex": null,
            "flex_flow": null,
            "grid_area": null,
            "grid_auto_columns": null,
            "grid_auto_flow": null,
            "grid_auto_rows": null,
            "grid_column": null,
            "grid_gap": null,
            "grid_row": null,
            "grid_template_areas": null,
            "grid_template_columns": null,
            "grid_template_rows": null,
            "height": null,
            "justify_content": null,
            "justify_items": null,
            "left": null,
            "margin": null,
            "max_height": null,
            "max_width": null,
            "min_height": null,
            "min_width": null,
            "object_fit": null,
            "object_position": null,
            "order": null,
            "overflow": null,
            "overflow_x": null,
            "overflow_y": null,
            "padding": null,
            "right": null,
            "top": null,
            "visibility": null,
            "width": null
          }
        },
        "c16350591e0f42959adcda89c24fbcc6": {
          "model_module": "@jupyter-widgets/base",
          "model_name": "LayoutModel",
          "model_module_version": "1.2.0",
          "state": {
            "_model_module": "@jupyter-widgets/base",
            "_model_module_version": "1.2.0",
            "_model_name": "LayoutModel",
            "_view_count": null,
            "_view_module": "@jupyter-widgets/base",
            "_view_module_version": "1.2.0",
            "_view_name": "LayoutView",
            "align_content": null,
            "align_items": null,
            "align_self": null,
            "border": null,
            "bottom": null,
            "display": null,
            "flex": null,
            "flex_flow": null,
            "grid_area": null,
            "grid_auto_columns": null,
            "grid_auto_flow": null,
            "grid_auto_rows": null,
            "grid_column": null,
            "grid_gap": null,
            "grid_row": null,
            "grid_template_areas": null,
            "grid_template_columns": null,
            "grid_template_rows": null,
            "height": null,
            "justify_content": null,
            "justify_items": null,
            "left": null,
            "margin": null,
            "max_height": null,
            "max_width": null,
            "min_height": null,
            "min_width": null,
            "object_fit": null,
            "object_position": null,
            "order": null,
            "overflow": null,
            "overflow_x": null,
            "overflow_y": null,
            "padding": null,
            "right": null,
            "top": null,
            "visibility": null,
            "width": null
          }
        },
        "ee61a12b41f04bd3b64f3735e9ac830b": {
          "model_module": "@jupyter-widgets/controls",
          "model_name": "DescriptionStyleModel",
          "model_module_version": "1.5.0",
          "state": {
            "_model_module": "@jupyter-widgets/controls",
            "_model_module_version": "1.5.0",
            "_model_name": "DescriptionStyleModel",
            "_view_count": null,
            "_view_module": "@jupyter-widgets/base",
            "_view_module_version": "1.2.0",
            "_view_name": "StyleView",
            "description_width": ""
          }
        },
        "4c1132aa68a44906956fe403f4e0a734": {
          "model_module": "@jupyter-widgets/base",
          "model_name": "LayoutModel",
          "model_module_version": "1.2.0",
          "state": {
            "_model_module": "@jupyter-widgets/base",
            "_model_module_version": "1.2.0",
            "_model_name": "LayoutModel",
            "_view_count": null,
            "_view_module": "@jupyter-widgets/base",
            "_view_module_version": "1.2.0",
            "_view_name": "LayoutView",
            "align_content": null,
            "align_items": null,
            "align_self": null,
            "border": null,
            "bottom": null,
            "display": null,
            "flex": null,
            "flex_flow": null,
            "grid_area": null,
            "grid_auto_columns": null,
            "grid_auto_flow": null,
            "grid_auto_rows": null,
            "grid_column": null,
            "grid_gap": null,
            "grid_row": null,
            "grid_template_areas": null,
            "grid_template_columns": null,
            "grid_template_rows": null,
            "height": null,
            "justify_content": null,
            "justify_items": null,
            "left": null,
            "margin": null,
            "max_height": null,
            "max_width": null,
            "min_height": null,
            "min_width": null,
            "object_fit": null,
            "object_position": null,
            "order": null,
            "overflow": null,
            "overflow_x": null,
            "overflow_y": null,
            "padding": null,
            "right": null,
            "top": null,
            "visibility": null,
            "width": null
          }
        },
        "9b4917d49f314e2aa4b6308fefbb52df": {
          "model_module": "@jupyter-widgets/controls",
          "model_name": "ProgressStyleModel",
          "model_module_version": "1.5.0",
          "state": {
            "_model_module": "@jupyter-widgets/controls",
            "_model_module_version": "1.5.0",
            "_model_name": "ProgressStyleModel",
            "_view_count": null,
            "_view_module": "@jupyter-widgets/base",
            "_view_module_version": "1.2.0",
            "_view_name": "StyleView",
            "bar_color": null,
            "description_width": ""
          }
        },
        "052c17d7167a41178e2af128cf3b5d77": {
          "model_module": "@jupyter-widgets/base",
          "model_name": "LayoutModel",
          "model_module_version": "1.2.0",
          "state": {
            "_model_module": "@jupyter-widgets/base",
            "_model_module_version": "1.2.0",
            "_model_name": "LayoutModel",
            "_view_count": null,
            "_view_module": "@jupyter-widgets/base",
            "_view_module_version": "1.2.0",
            "_view_name": "LayoutView",
            "align_content": null,
            "align_items": null,
            "align_self": null,
            "border": null,
            "bottom": null,
            "display": null,
            "flex": null,
            "flex_flow": null,
            "grid_area": null,
            "grid_auto_columns": null,
            "grid_auto_flow": null,
            "grid_auto_rows": null,
            "grid_column": null,
            "grid_gap": null,
            "grid_row": null,
            "grid_template_areas": null,
            "grid_template_columns": null,
            "grid_template_rows": null,
            "height": null,
            "justify_content": null,
            "justify_items": null,
            "left": null,
            "margin": null,
            "max_height": null,
            "max_width": null,
            "min_height": null,
            "min_width": null,
            "object_fit": null,
            "object_position": null,
            "order": null,
            "overflow": null,
            "overflow_x": null,
            "overflow_y": null,
            "padding": null,
            "right": null,
            "top": null,
            "visibility": null,
            "width": null
          }
        },
        "f7a1534b8b4543b08983af79bf1303b2": {
          "model_module": "@jupyter-widgets/controls",
          "model_name": "DescriptionStyleModel",
          "model_module_version": "1.5.0",
          "state": {
            "_model_module": "@jupyter-widgets/controls",
            "_model_module_version": "1.5.0",
            "_model_name": "DescriptionStyleModel",
            "_view_count": null,
            "_view_module": "@jupyter-widgets/base",
            "_view_module_version": "1.2.0",
            "_view_name": "StyleView",
            "description_width": ""
          }
        },
        "07e9bc5a484d4675a5320c99d47b73ac": {
          "model_module": "@jupyter-widgets/controls",
          "model_name": "HBoxModel",
          "model_module_version": "1.5.0",
          "state": {
            "_dom_classes": [],
            "_model_module": "@jupyter-widgets/controls",
            "_model_module_version": "1.5.0",
            "_model_name": "HBoxModel",
            "_view_count": null,
            "_view_module": "@jupyter-widgets/controls",
            "_view_module_version": "1.5.0",
            "_view_name": "HBoxView",
            "box_style": "",
            "children": [
              "IPY_MODEL_4e2befa544b8494a8b04bd98071c6b25",
              "IPY_MODEL_2efd4005169449c5aed7874a50a1bbcc",
              "IPY_MODEL_6d597688a37449c7be3c88eaa4059fbc"
            ],
            "layout": "IPY_MODEL_1da9245984cf4b13b0ee3f1296b5abbe"
          }
        },
        "4e2befa544b8494a8b04bd98071c6b25": {
          "model_module": "@jupyter-widgets/controls",
          "model_name": "HTMLModel",
          "model_module_version": "1.5.0",
          "state": {
            "_dom_classes": [],
            "_model_module": "@jupyter-widgets/controls",
            "_model_module_version": "1.5.0",
            "_model_name": "HTMLModel",
            "_view_count": null,
            "_view_module": "@jupyter-widgets/controls",
            "_view_module_version": "1.5.0",
            "_view_name": "HTMLView",
            "description": "",
            "description_tooltip": null,
            "layout": "IPY_MODEL_f156257470864617a3d5ad1efc199863",
            "placeholder": "​",
            "style": "IPY_MODEL_a99f0b0b8ebc4f68acaa3fcbc278664a",
            "value": "model.safetensors.index.json: 100%"
          }
        },
        "2efd4005169449c5aed7874a50a1bbcc": {
          "model_module": "@jupyter-widgets/controls",
          "model_name": "FloatProgressModel",
          "model_module_version": "1.5.0",
          "state": {
            "_dom_classes": [],
            "_model_module": "@jupyter-widgets/controls",
            "_model_module_version": "1.5.0",
            "_model_name": "FloatProgressModel",
            "_view_count": null,
            "_view_module": "@jupyter-widgets/controls",
            "_view_module_version": "1.5.0",
            "_view_name": "ProgressView",
            "bar_style": "success",
            "description": "",
            "description_tooltip": null,
            "layout": "IPY_MODEL_262e377a65b14300afe23ce3ff41b065",
            "max": 35716,
            "min": 0,
            "orientation": "horizontal",
            "style": "IPY_MODEL_304f47e5c63d4fe0847ccdc382ff2538",
            "value": 35716
          }
        },
        "6d597688a37449c7be3c88eaa4059fbc": {
          "model_module": "@jupyter-widgets/controls",
          "model_name": "HTMLModel",
          "model_module_version": "1.5.0",
          "state": {
            "_dom_classes": [],
            "_model_module": "@jupyter-widgets/controls",
            "_model_module_version": "1.5.0",
            "_model_name": "HTMLModel",
            "_view_count": null,
            "_view_module": "@jupyter-widgets/controls",
            "_view_module_version": "1.5.0",
            "_view_name": "HTMLView",
            "description": "",
            "description_tooltip": null,
            "layout": "IPY_MODEL_1c583e3addfb4e13bb98db081e8ed048",
            "placeholder": "​",
            "style": "IPY_MODEL_f919f021814b43a1ba19b4adc45deb7e",
            "value": " 35.7k/35.7k [00:00&lt;00:00, 563kB/s]"
          }
        },
        "1da9245984cf4b13b0ee3f1296b5abbe": {
          "model_module": "@jupyter-widgets/base",
          "model_name": "LayoutModel",
          "model_module_version": "1.2.0",
          "state": {
            "_model_module": "@jupyter-widgets/base",
            "_model_module_version": "1.2.0",
            "_model_name": "LayoutModel",
            "_view_count": null,
            "_view_module": "@jupyter-widgets/base",
            "_view_module_version": "1.2.0",
            "_view_name": "LayoutView",
            "align_content": null,
            "align_items": null,
            "align_self": null,
            "border": null,
            "bottom": null,
            "display": null,
            "flex": null,
            "flex_flow": null,
            "grid_area": null,
            "grid_auto_columns": null,
            "grid_auto_flow": null,
            "grid_auto_rows": null,
            "grid_column": null,
            "grid_gap": null,
            "grid_row": null,
            "grid_template_areas": null,
            "grid_template_columns": null,
            "grid_template_rows": null,
            "height": null,
            "justify_content": null,
            "justify_items": null,
            "left": null,
            "margin": null,
            "max_height": null,
            "max_width": null,
            "min_height": null,
            "min_width": null,
            "object_fit": null,
            "object_position": null,
            "order": null,
            "overflow": null,
            "overflow_x": null,
            "overflow_y": null,
            "padding": null,
            "right": null,
            "top": null,
            "visibility": null,
            "width": null
          }
        },
        "f156257470864617a3d5ad1efc199863": {
          "model_module": "@jupyter-widgets/base",
          "model_name": "LayoutModel",
          "model_module_version": "1.2.0",
          "state": {
            "_model_module": "@jupyter-widgets/base",
            "_model_module_version": "1.2.0",
            "_model_name": "LayoutModel",
            "_view_count": null,
            "_view_module": "@jupyter-widgets/base",
            "_view_module_version": "1.2.0",
            "_view_name": "LayoutView",
            "align_content": null,
            "align_items": null,
            "align_self": null,
            "border": null,
            "bottom": null,
            "display": null,
            "flex": null,
            "flex_flow": null,
            "grid_area": null,
            "grid_auto_columns": null,
            "grid_auto_flow": null,
            "grid_auto_rows": null,
            "grid_column": null,
            "grid_gap": null,
            "grid_row": null,
            "grid_template_areas": null,
            "grid_template_columns": null,
            "grid_template_rows": null,
            "height": null,
            "justify_content": null,
            "justify_items": null,
            "left": null,
            "margin": null,
            "max_height": null,
            "max_width": null,
            "min_height": null,
            "min_width": null,
            "object_fit": null,
            "object_position": null,
            "order": null,
            "overflow": null,
            "overflow_x": null,
            "overflow_y": null,
            "padding": null,
            "right": null,
            "top": null,
            "visibility": null,
            "width": null
          }
        },
        "a99f0b0b8ebc4f68acaa3fcbc278664a": {
          "model_module": "@jupyter-widgets/controls",
          "model_name": "DescriptionStyleModel",
          "model_module_version": "1.5.0",
          "state": {
            "_model_module": "@jupyter-widgets/controls",
            "_model_module_version": "1.5.0",
            "_model_name": "DescriptionStyleModel",
            "_view_count": null,
            "_view_module": "@jupyter-widgets/base",
            "_view_module_version": "1.2.0",
            "_view_name": "StyleView",
            "description_width": ""
          }
        },
        "262e377a65b14300afe23ce3ff41b065": {
          "model_module": "@jupyter-widgets/base",
          "model_name": "LayoutModel",
          "model_module_version": "1.2.0",
          "state": {
            "_model_module": "@jupyter-widgets/base",
            "_model_module_version": "1.2.0",
            "_model_name": "LayoutModel",
            "_view_count": null,
            "_view_module": "@jupyter-widgets/base",
            "_view_module_version": "1.2.0",
            "_view_name": "LayoutView",
            "align_content": null,
            "align_items": null,
            "align_self": null,
            "border": null,
            "bottom": null,
            "display": null,
            "flex": null,
            "flex_flow": null,
            "grid_area": null,
            "grid_auto_columns": null,
            "grid_auto_flow": null,
            "grid_auto_rows": null,
            "grid_column": null,
            "grid_gap": null,
            "grid_row": null,
            "grid_template_areas": null,
            "grid_template_columns": null,
            "grid_template_rows": null,
            "height": null,
            "justify_content": null,
            "justify_items": null,
            "left": null,
            "margin": null,
            "max_height": null,
            "max_width": null,
            "min_height": null,
            "min_width": null,
            "object_fit": null,
            "object_position": null,
            "order": null,
            "overflow": null,
            "overflow_x": null,
            "overflow_y": null,
            "padding": null,
            "right": null,
            "top": null,
            "visibility": null,
            "width": null
          }
        },
        "304f47e5c63d4fe0847ccdc382ff2538": {
          "model_module": "@jupyter-widgets/controls",
          "model_name": "ProgressStyleModel",
          "model_module_version": "1.5.0",
          "state": {
            "_model_module": "@jupyter-widgets/controls",
            "_model_module_version": "1.5.0",
            "_model_name": "ProgressStyleModel",
            "_view_count": null,
            "_view_module": "@jupyter-widgets/base",
            "_view_module_version": "1.2.0",
            "_view_name": "StyleView",
            "bar_color": null,
            "description_width": ""
          }
        },
        "1c583e3addfb4e13bb98db081e8ed048": {
          "model_module": "@jupyter-widgets/base",
          "model_name": "LayoutModel",
          "model_module_version": "1.2.0",
          "state": {
            "_model_module": "@jupyter-widgets/base",
            "_model_module_version": "1.2.0",
            "_model_name": "LayoutModel",
            "_view_count": null,
            "_view_module": "@jupyter-widgets/base",
            "_view_module_version": "1.2.0",
            "_view_name": "LayoutView",
            "align_content": null,
            "align_items": null,
            "align_self": null,
            "border": null,
            "bottom": null,
            "display": null,
            "flex": null,
            "flex_flow": null,
            "grid_area": null,
            "grid_auto_columns": null,
            "grid_auto_flow": null,
            "grid_auto_rows": null,
            "grid_column": null,
            "grid_gap": null,
            "grid_row": null,
            "grid_template_areas": null,
            "grid_template_columns": null,
            "grid_template_rows": null,
            "height": null,
            "justify_content": null,
            "justify_items": null,
            "left": null,
            "margin": null,
            "max_height": null,
            "max_width": null,
            "min_height": null,
            "min_width": null,
            "object_fit": null,
            "object_position": null,
            "order": null,
            "overflow": null,
            "overflow_x": null,
            "overflow_y": null,
            "padding": null,
            "right": null,
            "top": null,
            "visibility": null,
            "width": null
          }
        },
        "f919f021814b43a1ba19b4adc45deb7e": {
          "model_module": "@jupyter-widgets/controls",
          "model_name": "DescriptionStyleModel",
          "model_module_version": "1.5.0",
          "state": {
            "_model_module": "@jupyter-widgets/controls",
            "_model_module_version": "1.5.0",
            "_model_name": "DescriptionStyleModel",
            "_view_count": null,
            "_view_module": "@jupyter-widgets/base",
            "_view_module_version": "1.2.0",
            "_view_name": "StyleView",
            "description_width": ""
          }
        },
        "3e3bbb41d6fe4d18a126773aa90ff065": {
          "model_module": "@jupyter-widgets/controls",
          "model_name": "HBoxModel",
          "model_module_version": "1.5.0",
          "state": {
            "_dom_classes": [],
            "_model_module": "@jupyter-widgets/controls",
            "_model_module_version": "1.5.0",
            "_model_name": "HBoxModel",
            "_view_count": null,
            "_view_module": "@jupyter-widgets/controls",
            "_view_module_version": "1.5.0",
            "_view_name": "HBoxView",
            "box_style": "",
            "children": [
              "IPY_MODEL_42212d360ace4da09dbaee80559d654d",
              "IPY_MODEL_420981cd6ee54fbcad9563ccfc48656e",
              "IPY_MODEL_07d4a01e2dba4e10ab72b82ddabffda4"
            ],
            "layout": "IPY_MODEL_49be5c7d4c2a4142986787d8ea61df28"
          }
        },
        "42212d360ace4da09dbaee80559d654d": {
          "model_module": "@jupyter-widgets/controls",
          "model_name": "HTMLModel",
          "model_module_version": "1.5.0",
          "state": {
            "_dom_classes": [],
            "_model_module": "@jupyter-widgets/controls",
            "_model_module_version": "1.5.0",
            "_model_name": "HTMLModel",
            "_view_count": null,
            "_view_module": "@jupyter-widgets/controls",
            "_view_module_version": "1.5.0",
            "_view_name": "HTMLView",
            "description": "",
            "description_tooltip": null,
            "layout": "IPY_MODEL_3630eaad7ddd4b19b5d0163dc3aa566f",
            "placeholder": "​",
            "style": "IPY_MODEL_5e84e4b6d1244231a6f4be5184924de8",
            "value": "Downloading shards: 100%"
          }
        },
        "420981cd6ee54fbcad9563ccfc48656e": {
          "model_module": "@jupyter-widgets/controls",
          "model_name": "FloatProgressModel",
          "model_module_version": "1.5.0",
          "state": {
            "_dom_classes": [],
            "_model_module": "@jupyter-widgets/controls",
            "_model_module_version": "1.5.0",
            "_model_name": "FloatProgressModel",
            "_view_count": null,
            "_view_module": "@jupyter-widgets/controls",
            "_view_module_version": "1.5.0",
            "_view_name": "ProgressView",
            "bar_style": "success",
            "description": "",
            "description_tooltip": null,
            "layout": "IPY_MODEL_7a7f1338ed5a4547b548e0c8cc4c841d",
            "max": 2,
            "min": 0,
            "orientation": "horizontal",
            "style": "IPY_MODEL_56dc349978064747b46c8ecb32f19003",
            "value": 2
          }
        },
        "07d4a01e2dba4e10ab72b82ddabffda4": {
          "model_module": "@jupyter-widgets/controls",
          "model_name": "HTMLModel",
          "model_module_version": "1.5.0",
          "state": {
            "_dom_classes": [],
            "_model_module": "@jupyter-widgets/controls",
            "_model_module_version": "1.5.0",
            "_model_name": "HTMLModel",
            "_view_count": null,
            "_view_module": "@jupyter-widgets/controls",
            "_view_module_version": "1.5.0",
            "_view_name": "HTMLView",
            "description": "",
            "description_tooltip": null,
            "layout": "IPY_MODEL_ad5dde823bb04e9587a9771a7a907290",
            "placeholder": "​",
            "style": "IPY_MODEL_00c66956d92f418bad81999f91f1d7e4",
            "value": " 2/2 [00:39&lt;00:00, 16.61s/it]"
          }
        },
        "49be5c7d4c2a4142986787d8ea61df28": {
          "model_module": "@jupyter-widgets/base",
          "model_name": "LayoutModel",
          "model_module_version": "1.2.0",
          "state": {
            "_model_module": "@jupyter-widgets/base",
            "_model_module_version": "1.2.0",
            "_model_name": "LayoutModel",
            "_view_count": null,
            "_view_module": "@jupyter-widgets/base",
            "_view_module_version": "1.2.0",
            "_view_name": "LayoutView",
            "align_content": null,
            "align_items": null,
            "align_self": null,
            "border": null,
            "bottom": null,
            "display": null,
            "flex": null,
            "flex_flow": null,
            "grid_area": null,
            "grid_auto_columns": null,
            "grid_auto_flow": null,
            "grid_auto_rows": null,
            "grid_column": null,
            "grid_gap": null,
            "grid_row": null,
            "grid_template_areas": null,
            "grid_template_columns": null,
            "grid_template_rows": null,
            "height": null,
            "justify_content": null,
            "justify_items": null,
            "left": null,
            "margin": null,
            "max_height": null,
            "max_width": null,
            "min_height": null,
            "min_width": null,
            "object_fit": null,
            "object_position": null,
            "order": null,
            "overflow": null,
            "overflow_x": null,
            "overflow_y": null,
            "padding": null,
            "right": null,
            "top": null,
            "visibility": null,
            "width": null
          }
        },
        "3630eaad7ddd4b19b5d0163dc3aa566f": {
          "model_module": "@jupyter-widgets/base",
          "model_name": "LayoutModel",
          "model_module_version": "1.2.0",
          "state": {
            "_model_module": "@jupyter-widgets/base",
            "_model_module_version": "1.2.0",
            "_model_name": "LayoutModel",
            "_view_count": null,
            "_view_module": "@jupyter-widgets/base",
            "_view_module_version": "1.2.0",
            "_view_name": "LayoutView",
            "align_content": null,
            "align_items": null,
            "align_self": null,
            "border": null,
            "bottom": null,
            "display": null,
            "flex": null,
            "flex_flow": null,
            "grid_area": null,
            "grid_auto_columns": null,
            "grid_auto_flow": null,
            "grid_auto_rows": null,
            "grid_column": null,
            "grid_gap": null,
            "grid_row": null,
            "grid_template_areas": null,
            "grid_template_columns": null,
            "grid_template_rows": null,
            "height": null,
            "justify_content": null,
            "justify_items": null,
            "left": null,
            "margin": null,
            "max_height": null,
            "max_width": null,
            "min_height": null,
            "min_width": null,
            "object_fit": null,
            "object_position": null,
            "order": null,
            "overflow": null,
            "overflow_x": null,
            "overflow_y": null,
            "padding": null,
            "right": null,
            "top": null,
            "visibility": null,
            "width": null
          }
        },
        "5e84e4b6d1244231a6f4be5184924de8": {
          "model_module": "@jupyter-widgets/controls",
          "model_name": "DescriptionStyleModel",
          "model_module_version": "1.5.0",
          "state": {
            "_model_module": "@jupyter-widgets/controls",
            "_model_module_version": "1.5.0",
            "_model_name": "DescriptionStyleModel",
            "_view_count": null,
            "_view_module": "@jupyter-widgets/base",
            "_view_module_version": "1.2.0",
            "_view_name": "StyleView",
            "description_width": ""
          }
        },
        "7a7f1338ed5a4547b548e0c8cc4c841d": {
          "model_module": "@jupyter-widgets/base",
          "model_name": "LayoutModel",
          "model_module_version": "1.2.0",
          "state": {
            "_model_module": "@jupyter-widgets/base",
            "_model_module_version": "1.2.0",
            "_model_name": "LayoutModel",
            "_view_count": null,
            "_view_module": "@jupyter-widgets/base",
            "_view_module_version": "1.2.0",
            "_view_name": "LayoutView",
            "align_content": null,
            "align_items": null,
            "align_self": null,
            "border": null,
            "bottom": null,
            "display": null,
            "flex": null,
            "flex_flow": null,
            "grid_area": null,
            "grid_auto_columns": null,
            "grid_auto_flow": null,
            "grid_auto_rows": null,
            "grid_column": null,
            "grid_gap": null,
            "grid_row": null,
            "grid_template_areas": null,
            "grid_template_columns": null,
            "grid_template_rows": null,
            "height": null,
            "justify_content": null,
            "justify_items": null,
            "left": null,
            "margin": null,
            "max_height": null,
            "max_width": null,
            "min_height": null,
            "min_width": null,
            "object_fit": null,
            "object_position": null,
            "order": null,
            "overflow": null,
            "overflow_x": null,
            "overflow_y": null,
            "padding": null,
            "right": null,
            "top": null,
            "visibility": null,
            "width": null
          }
        },
        "56dc349978064747b46c8ecb32f19003": {
          "model_module": "@jupyter-widgets/controls",
          "model_name": "ProgressStyleModel",
          "model_module_version": "1.5.0",
          "state": {
            "_model_module": "@jupyter-widgets/controls",
            "_model_module_version": "1.5.0",
            "_model_name": "ProgressStyleModel",
            "_view_count": null,
            "_view_module": "@jupyter-widgets/base",
            "_view_module_version": "1.2.0",
            "_view_name": "StyleView",
            "bar_color": null,
            "description_width": ""
          }
        },
        "ad5dde823bb04e9587a9771a7a907290": {
          "model_module": "@jupyter-widgets/base",
          "model_name": "LayoutModel",
          "model_module_version": "1.2.0",
          "state": {
            "_model_module": "@jupyter-widgets/base",
            "_model_module_version": "1.2.0",
            "_model_name": "LayoutModel",
            "_view_count": null,
            "_view_module": "@jupyter-widgets/base",
            "_view_module_version": "1.2.0",
            "_view_name": "LayoutView",
            "align_content": null,
            "align_items": null,
            "align_self": null,
            "border": null,
            "bottom": null,
            "display": null,
            "flex": null,
            "flex_flow": null,
            "grid_area": null,
            "grid_auto_columns": null,
            "grid_auto_flow": null,
            "grid_auto_rows": null,
            "grid_column": null,
            "grid_gap": null,
            "grid_row": null,
            "grid_template_areas": null,
            "grid_template_columns": null,
            "grid_template_rows": null,
            "height": null,
            "justify_content": null,
            "justify_items": null,
            "left": null,
            "margin": null,
            "max_height": null,
            "max_width": null,
            "min_height": null,
            "min_width": null,
            "object_fit": null,
            "object_position": null,
            "order": null,
            "overflow": null,
            "overflow_x": null,
            "overflow_y": null,
            "padding": null,
            "right": null,
            "top": null,
            "visibility": null,
            "width": null
          }
        },
        "00c66956d92f418bad81999f91f1d7e4": {
          "model_module": "@jupyter-widgets/controls",
          "model_name": "DescriptionStyleModel",
          "model_module_version": "1.5.0",
          "state": {
            "_model_module": "@jupyter-widgets/controls",
            "_model_module_version": "1.5.0",
            "_model_name": "DescriptionStyleModel",
            "_view_count": null,
            "_view_module": "@jupyter-widgets/base",
            "_view_module_version": "1.2.0",
            "_view_name": "StyleView",
            "description_width": ""
          }
        },
        "82f539b57f4e4dd0a64df92512eab2eb": {
          "model_module": "@jupyter-widgets/controls",
          "model_name": "HBoxModel",
          "model_module_version": "1.5.0",
          "state": {
            "_dom_classes": [],
            "_model_module": "@jupyter-widgets/controls",
            "_model_module_version": "1.5.0",
            "_model_name": "HBoxModel",
            "_view_count": null,
            "_view_module": "@jupyter-widgets/controls",
            "_view_module_version": "1.5.0",
            "_view_name": "HBoxView",
            "box_style": "",
            "children": [
              "IPY_MODEL_e8f2e89ac1de469ab3c7e28429781436",
              "IPY_MODEL_7be816bf79d6463194fa34aff4178b84",
              "IPY_MODEL_f246951aeb4f427f90d658be653ce9a5"
            ],
            "layout": "IPY_MODEL_08c5319e835143e9a8e8a84775ab71e9"
          }
        },
        "e8f2e89ac1de469ab3c7e28429781436": {
          "model_module": "@jupyter-widgets/controls",
          "model_name": "HTMLModel",
          "model_module_version": "1.5.0",
          "state": {
            "_dom_classes": [],
            "_model_module": "@jupyter-widgets/controls",
            "_model_module_version": "1.5.0",
            "_model_name": "HTMLModel",
            "_view_count": null,
            "_view_module": "@jupyter-widgets/controls",
            "_view_module_version": "1.5.0",
            "_view_name": "HTMLView",
            "description": "",
            "description_tooltip": null,
            "layout": "IPY_MODEL_bba0615cb54d4c19bfdef09c2c3c6886",
            "placeholder": "​",
            "style": "IPY_MODEL_1f6ddd3ba5fa42189a2489867d6ab7bf",
            "value": "model-00001-of-00002.safetensors: 100%"
          }
        },
        "7be816bf79d6463194fa34aff4178b84": {
          "model_module": "@jupyter-widgets/controls",
          "model_name": "FloatProgressModel",
          "model_module_version": "1.5.0",
          "state": {
            "_dom_classes": [],
            "_model_module": "@jupyter-widgets/controls",
            "_model_module_version": "1.5.0",
            "_model_name": "FloatProgressModel",
            "_view_count": null,
            "_view_module": "@jupyter-widgets/controls",
            "_view_module_version": "1.5.0",
            "_view_name": "ProgressView",
            "bar_style": "success",
            "description": "",
            "description_tooltip": null,
            "layout": "IPY_MODEL_7a51d6ff8a4e4f0b8e8c09761342a32e",
            "max": 4995584424,
            "min": 0,
            "orientation": "horizontal",
            "style": "IPY_MODEL_8a80e767cb7e4a588055769cdd38d4e9",
            "value": 4995584424
          }
        },
        "f246951aeb4f427f90d658be653ce9a5": {
          "model_module": "@jupyter-widgets/controls",
          "model_name": "HTMLModel",
          "model_module_version": "1.5.0",
          "state": {
            "_dom_classes": [],
            "_model_module": "@jupyter-widgets/controls",
            "_model_module_version": "1.5.0",
            "_model_name": "HTMLModel",
            "_view_count": null,
            "_view_module": "@jupyter-widgets/controls",
            "_view_module_version": "1.5.0",
            "_view_name": "HTMLView",
            "description": "",
            "description_tooltip": null,
            "layout": "IPY_MODEL_1e3a03671f824a299f14af91ff93d31f",
            "placeholder": "​",
            "style": "IPY_MODEL_f3b934a0ec984edc96bcbd256ceb7744",
            "value": " 5.00G/5.00G [00:35&lt;00:00, 177MB/s]"
          }
        },
        "08c5319e835143e9a8e8a84775ab71e9": {
          "model_module": "@jupyter-widgets/base",
          "model_name": "LayoutModel",
          "model_module_version": "1.2.0",
          "state": {
            "_model_module": "@jupyter-widgets/base",
            "_model_module_version": "1.2.0",
            "_model_name": "LayoutModel",
            "_view_count": null,
            "_view_module": "@jupyter-widgets/base",
            "_view_module_version": "1.2.0",
            "_view_name": "LayoutView",
            "align_content": null,
            "align_items": null,
            "align_self": null,
            "border": null,
            "bottom": null,
            "display": null,
            "flex": null,
            "flex_flow": null,
            "grid_area": null,
            "grid_auto_columns": null,
            "grid_auto_flow": null,
            "grid_auto_rows": null,
            "grid_column": null,
            "grid_gap": null,
            "grid_row": null,
            "grid_template_areas": null,
            "grid_template_columns": null,
            "grid_template_rows": null,
            "height": null,
            "justify_content": null,
            "justify_items": null,
            "left": null,
            "margin": null,
            "max_height": null,
            "max_width": null,
            "min_height": null,
            "min_width": null,
            "object_fit": null,
            "object_position": null,
            "order": null,
            "overflow": null,
            "overflow_x": null,
            "overflow_y": null,
            "padding": null,
            "right": null,
            "top": null,
            "visibility": null,
            "width": null
          }
        },
        "bba0615cb54d4c19bfdef09c2c3c6886": {
          "model_module": "@jupyter-widgets/base",
          "model_name": "LayoutModel",
          "model_module_version": "1.2.0",
          "state": {
            "_model_module": "@jupyter-widgets/base",
            "_model_module_version": "1.2.0",
            "_model_name": "LayoutModel",
            "_view_count": null,
            "_view_module": "@jupyter-widgets/base",
            "_view_module_version": "1.2.0",
            "_view_name": "LayoutView",
            "align_content": null,
            "align_items": null,
            "align_self": null,
            "border": null,
            "bottom": null,
            "display": null,
            "flex": null,
            "flex_flow": null,
            "grid_area": null,
            "grid_auto_columns": null,
            "grid_auto_flow": null,
            "grid_auto_rows": null,
            "grid_column": null,
            "grid_gap": null,
            "grid_row": null,
            "grid_template_areas": null,
            "grid_template_columns": null,
            "grid_template_rows": null,
            "height": null,
            "justify_content": null,
            "justify_items": null,
            "left": null,
            "margin": null,
            "max_height": null,
            "max_width": null,
            "min_height": null,
            "min_width": null,
            "object_fit": null,
            "object_position": null,
            "order": null,
            "overflow": null,
            "overflow_x": null,
            "overflow_y": null,
            "padding": null,
            "right": null,
            "top": null,
            "visibility": null,
            "width": null
          }
        },
        "1f6ddd3ba5fa42189a2489867d6ab7bf": {
          "model_module": "@jupyter-widgets/controls",
          "model_name": "DescriptionStyleModel",
          "model_module_version": "1.5.0",
          "state": {
            "_model_module": "@jupyter-widgets/controls",
            "_model_module_version": "1.5.0",
            "_model_name": "DescriptionStyleModel",
            "_view_count": null,
            "_view_module": "@jupyter-widgets/base",
            "_view_module_version": "1.2.0",
            "_view_name": "StyleView",
            "description_width": ""
          }
        },
        "7a51d6ff8a4e4f0b8e8c09761342a32e": {
          "model_module": "@jupyter-widgets/base",
          "model_name": "LayoutModel",
          "model_module_version": "1.2.0",
          "state": {
            "_model_module": "@jupyter-widgets/base",
            "_model_module_version": "1.2.0",
            "_model_name": "LayoutModel",
            "_view_count": null,
            "_view_module": "@jupyter-widgets/base",
            "_view_module_version": "1.2.0",
            "_view_name": "LayoutView",
            "align_content": null,
            "align_items": null,
            "align_self": null,
            "border": null,
            "bottom": null,
            "display": null,
            "flex": null,
            "flex_flow": null,
            "grid_area": null,
            "grid_auto_columns": null,
            "grid_auto_flow": null,
            "grid_auto_rows": null,
            "grid_column": null,
            "grid_gap": null,
            "grid_row": null,
            "grid_template_areas": null,
            "grid_template_columns": null,
            "grid_template_rows": null,
            "height": null,
            "justify_content": null,
            "justify_items": null,
            "left": null,
            "margin": null,
            "max_height": null,
            "max_width": null,
            "min_height": null,
            "min_width": null,
            "object_fit": null,
            "object_position": null,
            "order": null,
            "overflow": null,
            "overflow_x": null,
            "overflow_y": null,
            "padding": null,
            "right": null,
            "top": null,
            "visibility": null,
            "width": null
          }
        },
        "8a80e767cb7e4a588055769cdd38d4e9": {
          "model_module": "@jupyter-widgets/controls",
          "model_name": "ProgressStyleModel",
          "model_module_version": "1.5.0",
          "state": {
            "_model_module": "@jupyter-widgets/controls",
            "_model_module_version": "1.5.0",
            "_model_name": "ProgressStyleModel",
            "_view_count": null,
            "_view_module": "@jupyter-widgets/base",
            "_view_module_version": "1.2.0",
            "_view_name": "StyleView",
            "bar_color": null,
            "description_width": ""
          }
        },
        "1e3a03671f824a299f14af91ff93d31f": {
          "model_module": "@jupyter-widgets/base",
          "model_name": "LayoutModel",
          "model_module_version": "1.2.0",
          "state": {
            "_model_module": "@jupyter-widgets/base",
            "_model_module_version": "1.2.0",
            "_model_name": "LayoutModel",
            "_view_count": null,
            "_view_module": "@jupyter-widgets/base",
            "_view_module_version": "1.2.0",
            "_view_name": "LayoutView",
            "align_content": null,
            "align_items": null,
            "align_self": null,
            "border": null,
            "bottom": null,
            "display": null,
            "flex": null,
            "flex_flow": null,
            "grid_area": null,
            "grid_auto_columns": null,
            "grid_auto_flow": null,
            "grid_auto_rows": null,
            "grid_column": null,
            "grid_gap": null,
            "grid_row": null,
            "grid_template_areas": null,
            "grid_template_columns": null,
            "grid_template_rows": null,
            "height": null,
            "justify_content": null,
            "justify_items": null,
            "left": null,
            "margin": null,
            "max_height": null,
            "max_width": null,
            "min_height": null,
            "min_width": null,
            "object_fit": null,
            "object_position": null,
            "order": null,
            "overflow": null,
            "overflow_x": null,
            "overflow_y": null,
            "padding": null,
            "right": null,
            "top": null,
            "visibility": null,
            "width": null
          }
        },
        "f3b934a0ec984edc96bcbd256ceb7744": {
          "model_module": "@jupyter-widgets/controls",
          "model_name": "DescriptionStyleModel",
          "model_module_version": "1.5.0",
          "state": {
            "_model_module": "@jupyter-widgets/controls",
            "_model_module_version": "1.5.0",
            "_model_name": "DescriptionStyleModel",
            "_view_count": null,
            "_view_module": "@jupyter-widgets/base",
            "_view_module_version": "1.2.0",
            "_view_name": "StyleView",
            "description_width": ""
          }
        },
        "a00d211fbd274b039d8e2ceba0e2fd0b": {
          "model_module": "@jupyter-widgets/controls",
          "model_name": "HBoxModel",
          "model_module_version": "1.5.0",
          "state": {
            "_dom_classes": [],
            "_model_module": "@jupyter-widgets/controls",
            "_model_module_version": "1.5.0",
            "_model_name": "HBoxModel",
            "_view_count": null,
            "_view_module": "@jupyter-widgets/controls",
            "_view_module_version": "1.5.0",
            "_view_name": "HBoxView",
            "box_style": "",
            "children": [
              "IPY_MODEL_5380eb1ab4324afaa7e1e3b7c3d00caa",
              "IPY_MODEL_da14efa9c45f42b2a3d3097b9a4ac206",
              "IPY_MODEL_20fd86c3f48546f2a2a0b089ac3692f8"
            ],
            "layout": "IPY_MODEL_5f12262f66844cdd8900c199ee819987"
          }
        },
        "5380eb1ab4324afaa7e1e3b7c3d00caa": {
          "model_module": "@jupyter-widgets/controls",
          "model_name": "HTMLModel",
          "model_module_version": "1.5.0",
          "state": {
            "_dom_classes": [],
            "_model_module": "@jupyter-widgets/controls",
            "_model_module_version": "1.5.0",
            "_model_name": "HTMLModel",
            "_view_count": null,
            "_view_module": "@jupyter-widgets/controls",
            "_view_module_version": "1.5.0",
            "_view_name": "HTMLView",
            "description": "",
            "description_tooltip": null,
            "layout": "IPY_MODEL_deda5d3254494745ab49486605761caa",
            "placeholder": "​",
            "style": "IPY_MODEL_a5afefba61b14a5eb3d65e75dd5f10aa",
            "value": "model-00002-of-00002.safetensors: 100%"
          }
        },
        "da14efa9c45f42b2a3d3097b9a4ac206": {
          "model_module": "@jupyter-widgets/controls",
          "model_name": "FloatProgressModel",
          "model_module_version": "1.5.0",
          "state": {
            "_dom_classes": [],
            "_model_module": "@jupyter-widgets/controls",
            "_model_module_version": "1.5.0",
            "_model_name": "FloatProgressModel",
            "_view_count": null,
            "_view_module": "@jupyter-widgets/controls",
            "_view_module_version": "1.5.0",
            "_view_name": "ProgressView",
            "bar_style": "success",
            "description": "",
            "description_tooltip": null,
            "layout": "IPY_MODEL_48f116fc414f4016a25bcfd427325473",
            "max": 563832976,
            "min": 0,
            "orientation": "horizontal",
            "style": "IPY_MODEL_f3cb37b1f918400688f77a81083325d7",
            "value": 563832976
          }
        },
        "20fd86c3f48546f2a2a0b089ac3692f8": {
          "model_module": "@jupyter-widgets/controls",
          "model_name": "HTMLModel",
          "model_module_version": "1.5.0",
          "state": {
            "_dom_classes": [],
            "_model_module": "@jupyter-widgets/controls",
            "_model_module_version": "1.5.0",
            "_model_name": "HTMLModel",
            "_view_count": null,
            "_view_module": "@jupyter-widgets/controls",
            "_view_module_version": "1.5.0",
            "_view_name": "HTMLView",
            "description": "",
            "description_tooltip": null,
            "layout": "IPY_MODEL_6a3110e35b974b5bbd34db81d539cf09",
            "placeholder": "​",
            "style": "IPY_MODEL_d2891caf839546c9af5ea4e2df6571df",
            "value": " 564M/564M [00:02&lt;00:00, 226MB/s]"
          }
        },
        "5f12262f66844cdd8900c199ee819987": {
          "model_module": "@jupyter-widgets/base",
          "model_name": "LayoutModel",
          "model_module_version": "1.2.0",
          "state": {
            "_model_module": "@jupyter-widgets/base",
            "_model_module_version": "1.2.0",
            "_model_name": "LayoutModel",
            "_view_count": null,
            "_view_module": "@jupyter-widgets/base",
            "_view_module_version": "1.2.0",
            "_view_name": "LayoutView",
            "align_content": null,
            "align_items": null,
            "align_self": null,
            "border": null,
            "bottom": null,
            "display": null,
            "flex": null,
            "flex_flow": null,
            "grid_area": null,
            "grid_auto_columns": null,
            "grid_auto_flow": null,
            "grid_auto_rows": null,
            "grid_column": null,
            "grid_gap": null,
            "grid_row": null,
            "grid_template_areas": null,
            "grid_template_columns": null,
            "grid_template_rows": null,
            "height": null,
            "justify_content": null,
            "justify_items": null,
            "left": null,
            "margin": null,
            "max_height": null,
            "max_width": null,
            "min_height": null,
            "min_width": null,
            "object_fit": null,
            "object_position": null,
            "order": null,
            "overflow": null,
            "overflow_x": null,
            "overflow_y": null,
            "padding": null,
            "right": null,
            "top": null,
            "visibility": null,
            "width": null
          }
        },
        "deda5d3254494745ab49486605761caa": {
          "model_module": "@jupyter-widgets/base",
          "model_name": "LayoutModel",
          "model_module_version": "1.2.0",
          "state": {
            "_model_module": "@jupyter-widgets/base",
            "_model_module_version": "1.2.0",
            "_model_name": "LayoutModel",
            "_view_count": null,
            "_view_module": "@jupyter-widgets/base",
            "_view_module_version": "1.2.0",
            "_view_name": "LayoutView",
            "align_content": null,
            "align_items": null,
            "align_self": null,
            "border": null,
            "bottom": null,
            "display": null,
            "flex": null,
            "flex_flow": null,
            "grid_area": null,
            "grid_auto_columns": null,
            "grid_auto_flow": null,
            "grid_auto_rows": null,
            "grid_column": null,
            "grid_gap": null,
            "grid_row": null,
            "grid_template_areas": null,
            "grid_template_columns": null,
            "grid_template_rows": null,
            "height": null,
            "justify_content": null,
            "justify_items": null,
            "left": null,
            "margin": null,
            "max_height": null,
            "max_width": null,
            "min_height": null,
            "min_width": null,
            "object_fit": null,
            "object_position": null,
            "order": null,
            "overflow": null,
            "overflow_x": null,
            "overflow_y": null,
            "padding": null,
            "right": null,
            "top": null,
            "visibility": null,
            "width": null
          }
        },
        "a5afefba61b14a5eb3d65e75dd5f10aa": {
          "model_module": "@jupyter-widgets/controls",
          "model_name": "DescriptionStyleModel",
          "model_module_version": "1.5.0",
          "state": {
            "_model_module": "@jupyter-widgets/controls",
            "_model_module_version": "1.5.0",
            "_model_name": "DescriptionStyleModel",
            "_view_count": null,
            "_view_module": "@jupyter-widgets/base",
            "_view_module_version": "1.2.0",
            "_view_name": "StyleView",
            "description_width": ""
          }
        },
        "48f116fc414f4016a25bcfd427325473": {
          "model_module": "@jupyter-widgets/base",
          "model_name": "LayoutModel",
          "model_module_version": "1.2.0",
          "state": {
            "_model_module": "@jupyter-widgets/base",
            "_model_module_version": "1.2.0",
            "_model_name": "LayoutModel",
            "_view_count": null,
            "_view_module": "@jupyter-widgets/base",
            "_view_module_version": "1.2.0",
            "_view_name": "LayoutView",
            "align_content": null,
            "align_items": null,
            "align_self": null,
            "border": null,
            "bottom": null,
            "display": null,
            "flex": null,
            "flex_flow": null,
            "grid_area": null,
            "grid_auto_columns": null,
            "grid_auto_flow": null,
            "grid_auto_rows": null,
            "grid_column": null,
            "grid_gap": null,
            "grid_row": null,
            "grid_template_areas": null,
            "grid_template_columns": null,
            "grid_template_rows": null,
            "height": null,
            "justify_content": null,
            "justify_items": null,
            "left": null,
            "margin": null,
            "max_height": null,
            "max_width": null,
            "min_height": null,
            "min_width": null,
            "object_fit": null,
            "object_position": null,
            "order": null,
            "overflow": null,
            "overflow_x": null,
            "overflow_y": null,
            "padding": null,
            "right": null,
            "top": null,
            "visibility": null,
            "width": null
          }
        },
        "f3cb37b1f918400688f77a81083325d7": {
          "model_module": "@jupyter-widgets/controls",
          "model_name": "ProgressStyleModel",
          "model_module_version": "1.5.0",
          "state": {
            "_model_module": "@jupyter-widgets/controls",
            "_model_module_version": "1.5.0",
            "_model_name": "ProgressStyleModel",
            "_view_count": null,
            "_view_module": "@jupyter-widgets/base",
            "_view_module_version": "1.2.0",
            "_view_name": "StyleView",
            "bar_color": null,
            "description_width": ""
          }
        },
        "6a3110e35b974b5bbd34db81d539cf09": {
          "model_module": "@jupyter-widgets/base",
          "model_name": "LayoutModel",
          "model_module_version": "1.2.0",
          "state": {
            "_model_module": "@jupyter-widgets/base",
            "_model_module_version": "1.2.0",
            "_model_name": "LayoutModel",
            "_view_count": null,
            "_view_module": "@jupyter-widgets/base",
            "_view_module_version": "1.2.0",
            "_view_name": "LayoutView",
            "align_content": null,
            "align_items": null,
            "align_self": null,
            "border": null,
            "bottom": null,
            "display": null,
            "flex": null,
            "flex_flow": null,
            "grid_area": null,
            "grid_auto_columns": null,
            "grid_auto_flow": null,
            "grid_auto_rows": null,
            "grid_column": null,
            "grid_gap": null,
            "grid_row": null,
            "grid_template_areas": null,
            "grid_template_columns": null,
            "grid_template_rows": null,
            "height": null,
            "justify_content": null,
            "justify_items": null,
            "left": null,
            "margin": null,
            "max_height": null,
            "max_width": null,
            "min_height": null,
            "min_width": null,
            "object_fit": null,
            "object_position": null,
            "order": null,
            "overflow": null,
            "overflow_x": null,
            "overflow_y": null,
            "padding": null,
            "right": null,
            "top": null,
            "visibility": null,
            "width": null
          }
        },
        "d2891caf839546c9af5ea4e2df6571df": {
          "model_module": "@jupyter-widgets/controls",
          "model_name": "DescriptionStyleModel",
          "model_module_version": "1.5.0",
          "state": {
            "_model_module": "@jupyter-widgets/controls",
            "_model_module_version": "1.5.0",
            "_model_name": "DescriptionStyleModel",
            "_view_count": null,
            "_view_module": "@jupyter-widgets/base",
            "_view_module_version": "1.2.0",
            "_view_name": "StyleView",
            "description_width": ""
          }
        },
        "bb9a7dcd8414467eb5f523f3fb5f5d68": {
          "model_module": "@jupyter-widgets/controls",
          "model_name": "HBoxModel",
          "model_module_version": "1.5.0",
          "state": {
            "_dom_classes": [],
            "_model_module": "@jupyter-widgets/controls",
            "_model_module_version": "1.5.0",
            "_model_name": "HBoxModel",
            "_view_count": null,
            "_view_module": "@jupyter-widgets/controls",
            "_view_module_version": "1.5.0",
            "_view_name": "HBoxView",
            "box_style": "",
            "children": [
              "IPY_MODEL_3996e241d8c7480589a32c5371d99ede",
              "IPY_MODEL_e44a270b03ca4a5f89a2b2501af5a3fb",
              "IPY_MODEL_f5a76575deb34ee98324cf636a397fa1"
            ],
            "layout": "IPY_MODEL_c9ccf92030b7459d82738d9cb8c8c917"
          }
        },
        "3996e241d8c7480589a32c5371d99ede": {
          "model_module": "@jupyter-widgets/controls",
          "model_name": "HTMLModel",
          "model_module_version": "1.5.0",
          "state": {
            "_dom_classes": [],
            "_model_module": "@jupyter-widgets/controls",
            "_model_module_version": "1.5.0",
            "_model_name": "HTMLModel",
            "_view_count": null,
            "_view_module": "@jupyter-widgets/controls",
            "_view_module_version": "1.5.0",
            "_view_name": "HTMLView",
            "description": "",
            "description_tooltip": null,
            "layout": "IPY_MODEL_4e307b1b1f0a415eb814f1c111258803",
            "placeholder": "​",
            "style": "IPY_MODEL_b4a8fd39db02441d87a93fcecd326a65",
            "value": "Loading checkpoint shards: 100%"
          }
        },
        "e44a270b03ca4a5f89a2b2501af5a3fb": {
          "model_module": "@jupyter-widgets/controls",
          "model_name": "FloatProgressModel",
          "model_module_version": "1.5.0",
          "state": {
            "_dom_classes": [],
            "_model_module": "@jupyter-widgets/controls",
            "_model_module_version": "1.5.0",
            "_model_name": "FloatProgressModel",
            "_view_count": null,
            "_view_module": "@jupyter-widgets/controls",
            "_view_module_version": "1.5.0",
            "_view_name": "ProgressView",
            "bar_style": "success",
            "description": "",
            "description_tooltip": null,
            "layout": "IPY_MODEL_c3371bafd3cf491380fd14835f923177",
            "max": 2,
            "min": 0,
            "orientation": "horizontal",
            "style": "IPY_MODEL_d75fda63e4e44dc884455d825320629b",
            "value": 2
          }
        },
        "f5a76575deb34ee98324cf636a397fa1": {
          "model_module": "@jupyter-widgets/controls",
          "model_name": "HTMLModel",
          "model_module_version": "1.5.0",
          "state": {
            "_dom_classes": [],
            "_model_module": "@jupyter-widgets/controls",
            "_model_module_version": "1.5.0",
            "_model_name": "HTMLModel",
            "_view_count": null,
            "_view_module": "@jupyter-widgets/controls",
            "_view_module_version": "1.5.0",
            "_view_name": "HTMLView",
            "description": "",
            "description_tooltip": null,
            "layout": "IPY_MODEL_91acff72c20149afbc4aab7d8a7d8f76",
            "placeholder": "​",
            "style": "IPY_MODEL_12619262e5fa4e149aafbce858cb2800",
            "value": " 2/2 [00:25&lt;00:00, 11.09s/it]"
          }
        },
        "c9ccf92030b7459d82738d9cb8c8c917": {
          "model_module": "@jupyter-widgets/base",
          "model_name": "LayoutModel",
          "model_module_version": "1.2.0",
          "state": {
            "_model_module": "@jupyter-widgets/base",
            "_model_module_version": "1.2.0",
            "_model_name": "LayoutModel",
            "_view_count": null,
            "_view_module": "@jupyter-widgets/base",
            "_view_module_version": "1.2.0",
            "_view_name": "LayoutView",
            "align_content": null,
            "align_items": null,
            "align_self": null,
            "border": null,
            "bottom": null,
            "display": null,
            "flex": null,
            "flex_flow": null,
            "grid_area": null,
            "grid_auto_columns": null,
            "grid_auto_flow": null,
            "grid_auto_rows": null,
            "grid_column": null,
            "grid_gap": null,
            "grid_row": null,
            "grid_template_areas": null,
            "grid_template_columns": null,
            "grid_template_rows": null,
            "height": null,
            "justify_content": null,
            "justify_items": null,
            "left": null,
            "margin": null,
            "max_height": null,
            "max_width": null,
            "min_height": null,
            "min_width": null,
            "object_fit": null,
            "object_position": null,
            "order": null,
            "overflow": null,
            "overflow_x": null,
            "overflow_y": null,
            "padding": null,
            "right": null,
            "top": null,
            "visibility": null,
            "width": null
          }
        },
        "4e307b1b1f0a415eb814f1c111258803": {
          "model_module": "@jupyter-widgets/base",
          "model_name": "LayoutModel",
          "model_module_version": "1.2.0",
          "state": {
            "_model_module": "@jupyter-widgets/base",
            "_model_module_version": "1.2.0",
            "_model_name": "LayoutModel",
            "_view_count": null,
            "_view_module": "@jupyter-widgets/base",
            "_view_module_version": "1.2.0",
            "_view_name": "LayoutView",
            "align_content": null,
            "align_items": null,
            "align_self": null,
            "border": null,
            "bottom": null,
            "display": null,
            "flex": null,
            "flex_flow": null,
            "grid_area": null,
            "grid_auto_columns": null,
            "grid_auto_flow": null,
            "grid_auto_rows": null,
            "grid_column": null,
            "grid_gap": null,
            "grid_row": null,
            "grid_template_areas": null,
            "grid_template_columns": null,
            "grid_template_rows": null,
            "height": null,
            "justify_content": null,
            "justify_items": null,
            "left": null,
            "margin": null,
            "max_height": null,
            "max_width": null,
            "min_height": null,
            "min_width": null,
            "object_fit": null,
            "object_position": null,
            "order": null,
            "overflow": null,
            "overflow_x": null,
            "overflow_y": null,
            "padding": null,
            "right": null,
            "top": null,
            "visibility": null,
            "width": null
          }
        },
        "b4a8fd39db02441d87a93fcecd326a65": {
          "model_module": "@jupyter-widgets/controls",
          "model_name": "DescriptionStyleModel",
          "model_module_version": "1.5.0",
          "state": {
            "_model_module": "@jupyter-widgets/controls",
            "_model_module_version": "1.5.0",
            "_model_name": "DescriptionStyleModel",
            "_view_count": null,
            "_view_module": "@jupyter-widgets/base",
            "_view_module_version": "1.2.0",
            "_view_name": "StyleView",
            "description_width": ""
          }
        },
        "c3371bafd3cf491380fd14835f923177": {
          "model_module": "@jupyter-widgets/base",
          "model_name": "LayoutModel",
          "model_module_version": "1.2.0",
          "state": {
            "_model_module": "@jupyter-widgets/base",
            "_model_module_version": "1.2.0",
            "_model_name": "LayoutModel",
            "_view_count": null,
            "_view_module": "@jupyter-widgets/base",
            "_view_module_version": "1.2.0",
            "_view_name": "LayoutView",
            "align_content": null,
            "align_items": null,
            "align_self": null,
            "border": null,
            "bottom": null,
            "display": null,
            "flex": null,
            "flex_flow": null,
            "grid_area": null,
            "grid_auto_columns": null,
            "grid_auto_flow": null,
            "grid_auto_rows": null,
            "grid_column": null,
            "grid_gap": null,
            "grid_row": null,
            "grid_template_areas": null,
            "grid_template_columns": null,
            "grid_template_rows": null,
            "height": null,
            "justify_content": null,
            "justify_items": null,
            "left": null,
            "margin": null,
            "max_height": null,
            "max_width": null,
            "min_height": null,
            "min_width": null,
            "object_fit": null,
            "object_position": null,
            "order": null,
            "overflow": null,
            "overflow_x": null,
            "overflow_y": null,
            "padding": null,
            "right": null,
            "top": null,
            "visibility": null,
            "width": null
          }
        },
        "d75fda63e4e44dc884455d825320629b": {
          "model_module": "@jupyter-widgets/controls",
          "model_name": "ProgressStyleModel",
          "model_module_version": "1.5.0",
          "state": {
            "_model_module": "@jupyter-widgets/controls",
            "_model_module_version": "1.5.0",
            "_model_name": "ProgressStyleModel",
            "_view_count": null,
            "_view_module": "@jupyter-widgets/base",
            "_view_module_version": "1.2.0",
            "_view_name": "StyleView",
            "bar_color": null,
            "description_width": ""
          }
        },
        "91acff72c20149afbc4aab7d8a7d8f76": {
          "model_module": "@jupyter-widgets/base",
          "model_name": "LayoutModel",
          "model_module_version": "1.2.0",
          "state": {
            "_model_module": "@jupyter-widgets/base",
            "_model_module_version": "1.2.0",
            "_model_name": "LayoutModel",
            "_view_count": null,
            "_view_module": "@jupyter-widgets/base",
            "_view_module_version": "1.2.0",
            "_view_name": "LayoutView",
            "align_content": null,
            "align_items": null,
            "align_self": null,
            "border": null,
            "bottom": null,
            "display": null,
            "flex": null,
            "flex_flow": null,
            "grid_area": null,
            "grid_auto_columns": null,
            "grid_auto_flow": null,
            "grid_auto_rows": null,
            "grid_column": null,
            "grid_gap": null,
            "grid_row": null,
            "grid_template_areas": null,
            "grid_template_columns": null,
            "grid_template_rows": null,
            "height": null,
            "justify_content": null,
            "justify_items": null,
            "left": null,
            "margin": null,
            "max_height": null,
            "max_width": null,
            "min_height": null,
            "min_width": null,
            "object_fit": null,
            "object_position": null,
            "order": null,
            "overflow": null,
            "overflow_x": null,
            "overflow_y": null,
            "padding": null,
            "right": null,
            "top": null,
            "visibility": null,
            "width": null
          }
        },
        "12619262e5fa4e149aafbce858cb2800": {
          "model_module": "@jupyter-widgets/controls",
          "model_name": "DescriptionStyleModel",
          "model_module_version": "1.5.0",
          "state": {
            "_model_module": "@jupyter-widgets/controls",
            "_model_module_version": "1.5.0",
            "_model_name": "DescriptionStyleModel",
            "_view_count": null,
            "_view_module": "@jupyter-widgets/base",
            "_view_module_version": "1.2.0",
            "_view_name": "StyleView",
            "description_width": ""
          }
        },
        "6e58d9c568ba4309a9b07c57fe57c872": {
          "model_module": "@jupyter-widgets/controls",
          "model_name": "HBoxModel",
          "model_module_version": "1.5.0",
          "state": {
            "_dom_classes": [],
            "_model_module": "@jupyter-widgets/controls",
            "_model_module_version": "1.5.0",
            "_model_name": "HBoxModel",
            "_view_count": null,
            "_view_module": "@jupyter-widgets/controls",
            "_view_module_version": "1.5.0",
            "_view_name": "HBoxView",
            "box_style": "",
            "children": [
              "IPY_MODEL_9cc020c5c9184782964e471c7c555857",
              "IPY_MODEL_dbe786b3e68245d39f6ceb3bfbe9f8ff",
              "IPY_MODEL_7c6bbf8cb8e3480cbd2c8827894d556a"
            ],
            "layout": "IPY_MODEL_8b5360e634a14b50a70ff12904b2a24d"
          }
        },
        "9cc020c5c9184782964e471c7c555857": {
          "model_module": "@jupyter-widgets/controls",
          "model_name": "HTMLModel",
          "model_module_version": "1.5.0",
          "state": {
            "_dom_classes": [],
            "_model_module": "@jupyter-widgets/controls",
            "_model_module_version": "1.5.0",
            "_model_name": "HTMLModel",
            "_view_count": null,
            "_view_module": "@jupyter-widgets/controls",
            "_view_module_version": "1.5.0",
            "_view_name": "HTMLView",
            "description": "",
            "description_tooltip": null,
            "layout": "IPY_MODEL_8bd85ca5e04842f5b11ba10f697a6783",
            "placeholder": "​",
            "style": "IPY_MODEL_caf75d6f5ccf4311a31dff7f6f96ff3d",
            "value": "generation_config.json: 100%"
          }
        },
        "dbe786b3e68245d39f6ceb3bfbe9f8ff": {
          "model_module": "@jupyter-widgets/controls",
          "model_name": "FloatProgressModel",
          "model_module_version": "1.5.0",
          "state": {
            "_dom_classes": [],
            "_model_module": "@jupyter-widgets/controls",
            "_model_module_version": "1.5.0",
            "_model_name": "FloatProgressModel",
            "_view_count": null,
            "_view_module": "@jupyter-widgets/controls",
            "_view_module_version": "1.5.0",
            "_view_name": "ProgressView",
            "bar_style": "success",
            "description": "",
            "description_tooltip": null,
            "layout": "IPY_MODEL_27dfd1abdf7f4f38ac5ff41b29966372",
            "max": 124,
            "min": 0,
            "orientation": "horizontal",
            "style": "IPY_MODEL_b98953eecd384cbf94ff2aa93df6ef66",
            "value": 124
          }
        },
        "7c6bbf8cb8e3480cbd2c8827894d556a": {
          "model_module": "@jupyter-widgets/controls",
          "model_name": "HTMLModel",
          "model_module_version": "1.5.0",
          "state": {
            "_dom_classes": [],
            "_model_module": "@jupyter-widgets/controls",
            "_model_module_version": "1.5.0",
            "_model_name": "HTMLModel",
            "_view_count": null,
            "_view_module": "@jupyter-widgets/controls",
            "_view_module_version": "1.5.0",
            "_view_name": "HTMLView",
            "description": "",
            "description_tooltip": null,
            "layout": "IPY_MODEL_e0036231513340d3a170ab076748f501",
            "placeholder": "​",
            "style": "IPY_MODEL_3d2eb7e02d3d4e399002db23030fee74",
            "value": " 124/124 [00:00&lt;00:00, 9.14kB/s]"
          }
        },
        "8b5360e634a14b50a70ff12904b2a24d": {
          "model_module": "@jupyter-widgets/base",
          "model_name": "LayoutModel",
          "model_module_version": "1.2.0",
          "state": {
            "_model_module": "@jupyter-widgets/base",
            "_model_module_version": "1.2.0",
            "_model_name": "LayoutModel",
            "_view_count": null,
            "_view_module": "@jupyter-widgets/base",
            "_view_module_version": "1.2.0",
            "_view_name": "LayoutView",
            "align_content": null,
            "align_items": null,
            "align_self": null,
            "border": null,
            "bottom": null,
            "display": null,
            "flex": null,
            "flex_flow": null,
            "grid_area": null,
            "grid_auto_columns": null,
            "grid_auto_flow": null,
            "grid_auto_rows": null,
            "grid_column": null,
            "grid_gap": null,
            "grid_row": null,
            "grid_template_areas": null,
            "grid_template_columns": null,
            "grid_template_rows": null,
            "height": null,
            "justify_content": null,
            "justify_items": null,
            "left": null,
            "margin": null,
            "max_height": null,
            "max_width": null,
            "min_height": null,
            "min_width": null,
            "object_fit": null,
            "object_position": null,
            "order": null,
            "overflow": null,
            "overflow_x": null,
            "overflow_y": null,
            "padding": null,
            "right": null,
            "top": null,
            "visibility": null,
            "width": null
          }
        },
        "8bd85ca5e04842f5b11ba10f697a6783": {
          "model_module": "@jupyter-widgets/base",
          "model_name": "LayoutModel",
          "model_module_version": "1.2.0",
          "state": {
            "_model_module": "@jupyter-widgets/base",
            "_model_module_version": "1.2.0",
            "_model_name": "LayoutModel",
            "_view_count": null,
            "_view_module": "@jupyter-widgets/base",
            "_view_module_version": "1.2.0",
            "_view_name": "LayoutView",
            "align_content": null,
            "align_items": null,
            "align_self": null,
            "border": null,
            "bottom": null,
            "display": null,
            "flex": null,
            "flex_flow": null,
            "grid_area": null,
            "grid_auto_columns": null,
            "grid_auto_flow": null,
            "grid_auto_rows": null,
            "grid_column": null,
            "grid_gap": null,
            "grid_row": null,
            "grid_template_areas": null,
            "grid_template_columns": null,
            "grid_template_rows": null,
            "height": null,
            "justify_content": null,
            "justify_items": null,
            "left": null,
            "margin": null,
            "max_height": null,
            "max_width": null,
            "min_height": null,
            "min_width": null,
            "object_fit": null,
            "object_position": null,
            "order": null,
            "overflow": null,
            "overflow_x": null,
            "overflow_y": null,
            "padding": null,
            "right": null,
            "top": null,
            "visibility": null,
            "width": null
          }
        },
        "caf75d6f5ccf4311a31dff7f6f96ff3d": {
          "model_module": "@jupyter-widgets/controls",
          "model_name": "DescriptionStyleModel",
          "model_module_version": "1.5.0",
          "state": {
            "_model_module": "@jupyter-widgets/controls",
            "_model_module_version": "1.5.0",
            "_model_name": "DescriptionStyleModel",
            "_view_count": null,
            "_view_module": "@jupyter-widgets/base",
            "_view_module_version": "1.2.0",
            "_view_name": "StyleView",
            "description_width": ""
          }
        },
        "27dfd1abdf7f4f38ac5ff41b29966372": {
          "model_module": "@jupyter-widgets/base",
          "model_name": "LayoutModel",
          "model_module_version": "1.2.0",
          "state": {
            "_model_module": "@jupyter-widgets/base",
            "_model_module_version": "1.2.0",
            "_model_name": "LayoutModel",
            "_view_count": null,
            "_view_module": "@jupyter-widgets/base",
            "_view_module_version": "1.2.0",
            "_view_name": "LayoutView",
            "align_content": null,
            "align_items": null,
            "align_self": null,
            "border": null,
            "bottom": null,
            "display": null,
            "flex": null,
            "flex_flow": null,
            "grid_area": null,
            "grid_auto_columns": null,
            "grid_auto_flow": null,
            "grid_auto_rows": null,
            "grid_column": null,
            "grid_gap": null,
            "grid_row": null,
            "grid_template_areas": null,
            "grid_template_columns": null,
            "grid_template_rows": null,
            "height": null,
            "justify_content": null,
            "justify_items": null,
            "left": null,
            "margin": null,
            "max_height": null,
            "max_width": null,
            "min_height": null,
            "min_width": null,
            "object_fit": null,
            "object_position": null,
            "order": null,
            "overflow": null,
            "overflow_x": null,
            "overflow_y": null,
            "padding": null,
            "right": null,
            "top": null,
            "visibility": null,
            "width": null
          }
        },
        "b98953eecd384cbf94ff2aa93df6ef66": {
          "model_module": "@jupyter-widgets/controls",
          "model_name": "ProgressStyleModel",
          "model_module_version": "1.5.0",
          "state": {
            "_model_module": "@jupyter-widgets/controls",
            "_model_module_version": "1.5.0",
            "_model_name": "ProgressStyleModel",
            "_view_count": null,
            "_view_module": "@jupyter-widgets/base",
            "_view_module_version": "1.2.0",
            "_view_name": "StyleView",
            "bar_color": null,
            "description_width": ""
          }
        },
        "e0036231513340d3a170ab076748f501": {
          "model_module": "@jupyter-widgets/base",
          "model_name": "LayoutModel",
          "model_module_version": "1.2.0",
          "state": {
            "_model_module": "@jupyter-widgets/base",
            "_model_module_version": "1.2.0",
            "_model_name": "LayoutModel",
            "_view_count": null,
            "_view_module": "@jupyter-widgets/base",
            "_view_module_version": "1.2.0",
            "_view_name": "LayoutView",
            "align_content": null,
            "align_items": null,
            "align_self": null,
            "border": null,
            "bottom": null,
            "display": null,
            "flex": null,
            "flex_flow": null,
            "grid_area": null,
            "grid_auto_columns": null,
            "grid_auto_flow": null,
            "grid_auto_rows": null,
            "grid_column": null,
            "grid_gap": null,
            "grid_row": null,
            "grid_template_areas": null,
            "grid_template_columns": null,
            "grid_template_rows": null,
            "height": null,
            "justify_content": null,
            "justify_items": null,
            "left": null,
            "margin": null,
            "max_height": null,
            "max_width": null,
            "min_height": null,
            "min_width": null,
            "object_fit": null,
            "object_position": null,
            "order": null,
            "overflow": null,
            "overflow_x": null,
            "overflow_y": null,
            "padding": null,
            "right": null,
            "top": null,
            "visibility": null,
            "width": null
          }
        },
        "3d2eb7e02d3d4e399002db23030fee74": {
          "model_module": "@jupyter-widgets/controls",
          "model_name": "DescriptionStyleModel",
          "model_module_version": "1.5.0",
          "state": {
            "_model_module": "@jupyter-widgets/controls",
            "_model_module_version": "1.5.0",
            "_model_name": "DescriptionStyleModel",
            "_view_count": null,
            "_view_module": "@jupyter-widgets/base",
            "_view_module_version": "1.2.0",
            "_view_name": "StyleView",
            "description_width": ""
          }
        }
      }
    }
  },
  "nbformat": 4,
  "nbformat_minor": 5
}