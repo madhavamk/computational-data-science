{
  "nbformat": 4,
  "nbformat_minor": 5,
  "metadata": {
    "kernelspec": {
      "display_name": "Python 3",
      "language": "python",
      "name": "python3"
    },
    "language_info": {
      "codemirror_mode": {
        "name": "ipython",
        "version": 3
      },
      "file_extension": ".py",
      "mimetype": "text/x-python",
      "name": "python",
      "nbconvert_exporter": "python",
      "pygments_lexer": "ipython3",
      "version": "3.9.2"
    },
    "colab": {
      "provenance": [],
      "include_colab_link": true
    }
  },
  "cells": [
    {
      "cell_type": "markdown",
      "metadata": {
        "id": "view-in-github",
        "colab_type": "text"
      },
      "source": [
        "<a href=\"https://colab.research.google.com/github/madhavamk/computational-data-science/blob/master/MiniProjects/M7_NB_MiniProject_3_Complex_Analytics_Pyspark.ipynb\" target=\"_parent\"><img src=\"https://colab.research.google.com/assets/colab-badge.svg\" alt=\"Open In Colab\"/></a>"
      ]
    },
    {
      "cell_type": "markdown",
      "metadata": {
        "id": "correct-ecology"
      },
      "source": [
        "# Advanced Certification Program in Computational Data Science\n",
        "## A program by IISc and TalentSprint\n",
        "### Mini-Project: Complex Analytics using Pyspark"
      ],
      "id": "correct-ecology"
    },
    {
      "cell_type": "markdown",
      "metadata": {
        "id": "terminal-strip"
      },
      "source": [
        "## Problem Statement"
      ],
      "id": "terminal-strip"
    },
    {
      "cell_type": "markdown",
      "metadata": {
        "id": "supported-supplement"
      },
      "source": [
        "Perform complex analytics on a network intrusion dataset using Pyspark"
      ],
      "id": "supported-supplement"
    },
    {
      "cell_type": "markdown",
      "metadata": {
        "id": "decimal-replication"
      },
      "source": [
        "## Learning Objectives"
      ],
      "id": "decimal-replication"
    },
    {
      "cell_type": "markdown",
      "metadata": {
        "id": "informational-yacht"
      },
      "source": [
        "At the end of the mini-project, you will be able to :\n",
        "\n",
        "* analyze the data using Pyspark\n",
        "* implement RDD based operations on the data\n",
        "* derive insights from the complex data"
      ],
      "id": "informational-yacht"
    },
    {
      "cell_type": "markdown",
      "metadata": {
        "id": "quality-approval"
      },
      "source": [
        "### Dataset"
      ],
      "id": "quality-approval"
    },
    {
      "cell_type": "markdown",
      "metadata": {
        "id": "biblical-syracuse"
      },
      "source": [
        "The dataset chosen for this mini-project is a [10% subset](https://www.kdd.org/kdd-cup/view/kdd-cup-1999/Data) of the **[KDD Cup 1999 dataset](http://kdd.ics.uci.edu/databases/kddcup99/task.html)** (Computer network intrusion detection). This is the dataset used for the Third International Knowledge Discovery and Data Mining Tools Competition. The competition task was to build a network intrusion detector, a predictive model capable of distinguishing between ``bad`` connections, called intrusions or attacks, and ``good`` normal connections. This database contains a standard set of data to be audited, which includes a wide variety of intrusions simulated in a military network environment."
      ],
      "id": "biblical-syracuse"
    },
    {
      "cell_type": "markdown",
      "metadata": {
        "id": "listed-numbers"
      },
      "source": [
        "## Information"
      ],
      "id": "listed-numbers"
    },
    {
      "cell_type": "markdown",
      "metadata": {
        "id": "skilled-concern"
      },
      "source": [
        "Since 1999, KDD’99 has been the most widely used data set for the evaluation of anomaly detection methods. This data set is prepared by S. J. Stolfo and is built based on the data captured in DARPA’98 IDS evaluation program. DARPA’98 is about 4 gigabytes of compressed raw (binary) tcpdump data of 7 weeks of network traffic, which can be processed into about 5 million connection\n",
        "records, each with about 100 bytes. KDD dataset consists of approximately 4,900,000 single connection vectors each of which contains 41 features and is labeled as either normal or an attack, with exactly one specific attack type. The simulated attacks fall into one of the following four categories:\n",
        "\n",
        "* Denial of Service Attack (DoS): making some computing or memory resources too busy so that they deny legitimate users access to these resources.\n",
        "* User to Root Attack (U2R): unauthorized access from a remote machine according to exploit machine's vulnerabilities.\n",
        "* Remote to Local Attack (R2L): unauthorized access to local super user (root) privileges using system's susceptibility.\n",
        "* Probing Attack: host and port scans as precursors to other attacks. An attacker scans a network to gather information or find known vulnerabilities.\n",
        "\n",
        "KDD’99 features can be classified into three groups:\n",
        "\n",
        "1) Basic features: this category encapsulates all the attributes that can be extracted from a TCP/IP connection. Most of these features leading to an implicit delay in detection.\n",
        "\n",
        "2) Traffic features: this category includes features that are computed with respect to a window interval and is divided into two groups:\n",
        "\n",
        "  * \"same host\" features\n",
        "\n",
        "  * \"same service\" features\n",
        "\n",
        "3) Content features: unlike most of the DoS and Probing attacks, the R2L and U2R attacks don’t have any intrusion frequent sequential patterns. This is because the DoS and Probing attacks involve many connections to some host(s) in a very short period of time, however the R2L and U2R attacks are embedded in the data portions of the packets, and normally involve only a single connection. To detect these kinds of attacks, we need some features to be able to look for suspicious behavior in the data portion, e.g., the number of failed login attempts. These features are called content features."
      ],
      "id": "skilled-concern"
    },
    {
      "cell_type": "markdown",
      "metadata": {
        "id": "BewwTjZaJojg"
      },
      "source": [
        "## Grading = 10 Points"
      ],
      "id": "BewwTjZaJojg"
    },
    {
      "cell_type": "code",
      "metadata": {
        "id": "extreme-working",
        "cellView": "form",
        "colab": {
          "base_uri": "https://localhost:8080/"
        },
        "outputId": "0302f3d0-2600-4fd0-aace-888aa30689ef"
      },
      "source": [
        "#@title Install packages and Download Dataset\n",
        "!pip -qq install pyspark\n",
        "# Download the data\n",
        "!wget -qq https://cdn.iisc.talentsprint.com/CDS/Datasets/kddcup.data_10_percent.gz\n",
        "# Download feature names\n",
        "!wget -qq https://cdn.iisc.talentsprint.com/CDS/Datasets/kddcup.names\n",
        "print(\"Successfully Installed packages and downloaded datasets!\")"
      ],
      "id": "extreme-working",
      "execution_count": 1,
      "outputs": [
        {
          "output_type": "stream",
          "name": "stdout",
          "text": [
            "Successfully Installed packages and downloaded datasets!\n"
          ]
        }
      ]
    },
    {
      "cell_type": "markdown",
      "metadata": {
        "id": "6VwMxTT0KObc"
      },
      "source": [
        "### Create Spark Session and load the data (1 point)"
      ],
      "id": "6VwMxTT0KObc"
    },
    {
      "cell_type": "markdown",
      "metadata": {
        "id": "italic-gross"
      },
      "source": [
        "#### Import required packages"
      ],
      "id": "italic-gross"
    },
    {
      "cell_type": "code",
      "metadata": {
        "id": "published-remove"
      },
      "source": [
        "from pyspark.sql import SparkSession\n",
        "from pyspark.sql import SQLContext\n",
        "from pyspark.sql.functions import *\n",
        "from pyspark.mllib.stat import Statistics\n",
        "import seaborn as sns\n",
        "from matplotlib import pyplot as plt\n",
        "import numpy as np\n",
        "import pandas as pd\n",
        "from operator import add"
      ],
      "id": "published-remove",
      "execution_count": 2,
      "outputs": []
    },
    {
      "cell_type": "markdown",
      "metadata": {
        "id": "proved-pressure"
      },
      "source": [
        "#### Create a Spark session\n",
        "\n",
        "A Spark session is a combined entry point of a Spark application, which came into implementation from Spark 2.0 (Instead of having various contexts, everything is encapsulated in a Spark session)"
      ],
      "id": "proved-pressure"
    },
    {
      "cell_type": "code",
      "metadata": {
        "id": "confused-xerox"
      },
      "source": [
        "# Start spark session\n",
        "# YOUR CODE HERE\n",
        "spark = SparkSession.builder.master(\"local[*]\").appName(\"KDD\").getOrCreate()"
      ],
      "id": "confused-xerox",
      "execution_count": 3,
      "outputs": []
    },
    {
      "cell_type": "markdown",
      "metadata": {
        "id": "coastal-communications"
      },
      "source": [
        "#### Creating an RDD from a File\n",
        "\n",
        "The most common way of creating an RDD is to load it from a file. Notice that Spark's textFile can handle compressed files directly."
      ],
      "id": "coastal-communications"
    },
    {
      "cell_type": "code",
      "metadata": {
        "id": "accredited-venture"
      },
      "source": [
        "# YOUR CODE HERE to access sparkContext from sparkSession instance.\n",
        "sc = spark.sparkContext"
      ],
      "id": "accredited-venture",
      "execution_count": 4,
      "outputs": []
    },
    {
      "cell_type": "markdown",
      "metadata": {
        "id": "pY0QylZEYTvg"
      },
      "source": [
        "Load the dataset and show the top 10 records\n",
        "\n",
        "Hint: sparkContext.textFile()"
      ],
      "id": "pY0QylZEYTvg"
    },
    {
      "cell_type": "code",
      "metadata": {
        "id": "wound-repository",
        "colab": {
          "base_uri": "https://localhost:8080/"
        },
        "outputId": "1d33cbc3-56db-45e5-cae8-276a076a665e"
      },
      "source": [
        "filePath = \"/content/kddcup.data_10_percent.gz\"\n",
        "# YOUR CODE HERE\n",
        "rdd = sc.textFile(filePath)\n",
        "rdd.collect()[:10]"
      ],
      "id": "wound-repository",
      "execution_count": 5,
      "outputs": [
        {
          "output_type": "execute_result",
          "data": {
            "text/plain": [
              "['0,tcp,http,SF,181,5450,0,0,0,0,0,1,0,0,0,0,0,0,0,0,0,0,8,8,0.00,0.00,0.00,0.00,1.00,0.00,0.00,9,9,1.00,0.00,0.11,0.00,0.00,0.00,0.00,0.00,normal.',\n",
              " '0,tcp,http,SF,239,486,0,0,0,0,0,1,0,0,0,0,0,0,0,0,0,0,8,8,0.00,0.00,0.00,0.00,1.00,0.00,0.00,19,19,1.00,0.00,0.05,0.00,0.00,0.00,0.00,0.00,normal.',\n",
              " '0,tcp,http,SF,235,1337,0,0,0,0,0,1,0,0,0,0,0,0,0,0,0,0,8,8,0.00,0.00,0.00,0.00,1.00,0.00,0.00,29,29,1.00,0.00,0.03,0.00,0.00,0.00,0.00,0.00,normal.',\n",
              " '0,tcp,http,SF,219,1337,0,0,0,0,0,1,0,0,0,0,0,0,0,0,0,0,6,6,0.00,0.00,0.00,0.00,1.00,0.00,0.00,39,39,1.00,0.00,0.03,0.00,0.00,0.00,0.00,0.00,normal.',\n",
              " '0,tcp,http,SF,217,2032,0,0,0,0,0,1,0,0,0,0,0,0,0,0,0,0,6,6,0.00,0.00,0.00,0.00,1.00,0.00,0.00,49,49,1.00,0.00,0.02,0.00,0.00,0.00,0.00,0.00,normal.',\n",
              " '0,tcp,http,SF,217,2032,0,0,0,0,0,1,0,0,0,0,0,0,0,0,0,0,6,6,0.00,0.00,0.00,0.00,1.00,0.00,0.00,59,59,1.00,0.00,0.02,0.00,0.00,0.00,0.00,0.00,normal.',\n",
              " '0,tcp,http,SF,212,1940,0,0,0,0,0,1,0,0,0,0,0,0,0,0,0,0,1,2,0.00,0.00,0.00,0.00,1.00,0.00,1.00,1,69,1.00,0.00,1.00,0.04,0.00,0.00,0.00,0.00,normal.',\n",
              " '0,tcp,http,SF,159,4087,0,0,0,0,0,1,0,0,0,0,0,0,0,0,0,0,5,5,0.00,0.00,0.00,0.00,1.00,0.00,0.00,11,79,1.00,0.00,0.09,0.04,0.00,0.00,0.00,0.00,normal.',\n",
              " '0,tcp,http,SF,210,151,0,0,0,0,0,1,0,0,0,0,0,0,0,0,0,0,8,8,0.00,0.00,0.00,0.00,1.00,0.00,0.00,8,89,1.00,0.00,0.12,0.04,0.00,0.00,0.00,0.00,normal.',\n",
              " '0,tcp,http,SF,212,786,0,0,0,1,0,1,0,0,0,0,0,0,0,0,0,0,8,8,0.00,0.00,0.00,0.00,1.00,0.00,0.00,8,99,1.00,0.00,0.12,0.05,0.00,0.00,0.00,0.00,normal.']"
            ]
          },
          "metadata": {},
          "execution_count": 5
        }
      ]
    },
    {
      "cell_type": "markdown",
      "metadata": {
        "id": "hollow-offense"
      },
      "source": [
        "### RDD Basic Operations (4 points)"
      ],
      "id": "hollow-offense"
    },
    {
      "cell_type": "markdown",
      "metadata": {
        "id": "varying-amateur"
      },
      "source": [
        "#### Convert the data to CSV format (list of elements).\n",
        "\n",
        "To create a Dataframe using the RDD file, convert each row into a list by splitting with a comma (,)\n",
        "\n",
        "Hint: `map()` and `split()`"
      ],
      "id": "varying-amateur"
    },
    {
      "cell_type": "code",
      "metadata": {
        "id": "designed-malta"
      },
      "source": [
        "# YOUR CODE HERE\n",
        "rdd = rdd.map(lambda x: x.split(','))"
      ],
      "id": "designed-malta",
      "execution_count": 6,
      "outputs": []
    },
    {
      "cell_type": "markdown",
      "metadata": {
        "id": "restricted-bonus"
      },
      "source": [
        "Count how many interactions are normal and attacked in the dataset.\n",
        "\n",
        "Hint: apply `filter` on each row, except the rows with 'normal.', all the remaining values are attacked."
      ],
      "id": "restricted-bonus"
    },
    {
      "cell_type": "code",
      "metadata": {
        "id": "architectural-appraisal",
        "colab": {
          "base_uri": "https://localhost:8080/"
        },
        "outputId": "58ff7ada-3bf6-480c-ff95-15be48262638"
      },
      "source": [
        "# YOUR CODE HERE\n",
        "normal = rdd.filter(lambda x: x[41] == 'normal.')\n",
        "attacked = rdd.filter(lambda x: x[41] != 'normal.')\n",
        "print(\"Normal Interactions: {}\".format(normal.count()))\n",
        "print(\"Attacked Interactions: {}\".format(attacked.count()))"
      ],
      "id": "architectural-appraisal",
      "execution_count": 7,
      "outputs": [
        {
          "output_type": "stream",
          "name": "stdout",
          "text": [
            "Normal Interactions: 97278\n",
            "Attacked Interactions: 396743\n"
          ]
        }
      ]
    },
    {
      "cell_type": "markdown",
      "metadata": {
        "id": "flying-apartment"
      },
      "source": [
        "#### Protocol and Service combinations using Cartesian product\n",
        "\n",
        "We can compute the Cartesian product between two RDDs by using the Cartesian transformation. It returns all possible pairs of elements between two RDDs. In our case, we will use it to generate all the possible combinations between Service and Protocol in our network interactions.\n",
        "\n",
        "First of all, isolate each collection of values in two separate RDDs. For that use `distinct` on the CSV-parsed dataset. From the dataset description, we know that protocol is the second column and service is the third."
      ],
      "id": "flying-apartment"
    },
    {
      "cell_type": "code",
      "metadata": {
        "id": "automatic-turning"
      },
      "source": [
        "# YOUR CODE HERE\n",
        "protocol = rdd.map(lambda x: x[1]).distinct()\n",
        "service = rdd.map(lambda x: x[2]).distinct()"
      ],
      "id": "automatic-turning",
      "execution_count": 8,
      "outputs": []
    },
    {
      "cell_type": "markdown",
      "metadata": {
        "id": "alleged-ranking"
      },
      "source": [
        "Now let's do the Cartesian product\n",
        "\n",
        "Hint: [Cartesian](https://spark.apache.org/docs/latest/api/python/reference/api/pyspark.RDD.cartesian.html#:~:text=Return%20the%20Cartesian%20product%20of,and%20b%20is%20in%20other%20.)"
      ],
      "id": "alleged-ranking"
    },
    {
      "cell_type": "code",
      "metadata": {
        "id": "focused-circulation",
        "colab": {
          "base_uri": "https://localhost:8080/"
        },
        "outputId": "40da64ab-fea1-41d6-e36c-d16e97ee6aa5"
      },
      "source": [
        "# YOUR CODE HERE\n",
        "product = protocol.cartesian(service).collect()\n",
        "print(\"There are {} combinations of protocol X service\".format(len(product)))"
      ],
      "id": "focused-circulation",
      "execution_count": 9,
      "outputs": [
        {
          "output_type": "stream",
          "name": "stdout",
          "text": [
            "There are 198 combinations of protocol X service\n"
          ]
        }
      ]
    },
    {
      "cell_type": "markdown",
      "metadata": {
        "id": "boolean-representation"
      },
      "source": [
        "#### Inspecting interaction duration\n",
        "\n",
        "select the total duration of interactions for normal and attack intrusion types.\n",
        "* Use the above filtered normal and attacked data and convert the duration column to integer type using `map()`\n",
        "* get the sum of duration by applying `reduce` on both the data using add operator\n",
        "* find the mean of duration by dividing the sum with count\n",
        "\n",
        "Hint: [reduce()](https://spark.apache.org/docs/latest/api/python/reference/api/pyspark.RDD.reduce.html)"
      ],
      "id": "boolean-representation"
    },
    {
      "cell_type": "code",
      "metadata": {
        "id": "requested-amateur"
      },
      "source": [
        "# YOUR CODE HERE\n",
        "normal_duration = normal.map(lambda x: int(x[0]))\n",
        "attacked_duration = attacked.map(lambda x: int(x[0]))"
      ],
      "id": "requested-amateur",
      "execution_count": 10,
      "outputs": []
    },
    {
      "cell_type": "code",
      "metadata": {
        "id": "bulgarian-confidentiality"
      },
      "source": [
        "# YOUR CODE HERE\n",
        "total_normal_duration = normal_duration.reduce(add)\n",
        "total_attacked_duration = attacked_duration.reduce(add)"
      ],
      "id": "bulgarian-confidentiality",
      "execution_count": 11,
      "outputs": []
    },
    {
      "cell_type": "code",
      "metadata": {
        "id": "directed-officer",
        "colab": {
          "base_uri": "https://localhost:8080/"
        },
        "outputId": "dbaa3e85-e139-41c2-d717-7051b673c76b"
      },
      "source": [
        "# YOUR CODE HERE\n",
        "print(\"Total duration of 'normal' interactions is {}\".format(total_normal_duration/normal.count()))\n",
        "print(\"Total duration of 'attacked' interactions is {}\".format(total_attacked_duration/attacked.count()))"
      ],
      "id": "directed-officer",
      "execution_count": 12,
      "outputs": [
        {
          "output_type": "stream",
          "name": "stdout",
          "text": [
            "Total duration of 'normal' interactions is 216.65732231336992\n",
            "Total duration of 'attacked' interactions is 6.620890601724542\n"
          ]
        }
      ]
    },
    {
      "cell_type": "markdown",
      "metadata": {
        "id": "tested-auction"
      },
      "source": [
        "#### Data aggregation with key/value pair RDDs\n",
        "\n",
        "We can use all the transformations and actions available for normal RDDs with key/value pair RDDs. We just need to make the functions work with pair elements.\n",
        "\n",
        "* create a key/value pair of intrusion type and duration\n",
        "* calculate the total duration of each intrusion type using `reduceByKey()`"
      ],
      "id": "tested-auction"
    },
    {
      "cell_type": "code",
      "metadata": {
        "id": "chicken-logging",
        "colab": {
          "base_uri": "https://localhost:8080/"
        },
        "outputId": "ebaa7cb4-aac6-4c9c-9a54-a8a0a5093037"
      },
      "source": [
        "# YOUR CODE HERE\n",
        "key_value_rdd = rdd.map(lambda x: (x[41], int(x[0])))\n",
        "total_duration = key_value_rdd.reduceByKey(add)\n",
        "count_intrusion_type = total_duration.collect()\n",
        "print(\"total duration of each intrusion type is {}\".format(count_intrusion_type))"
      ],
      "id": "chicken-logging",
      "execution_count": 13,
      "outputs": [
        {
          "output_type": "stream",
          "name": "stdout",
          "text": [
            "total duration of each intrusion type is [('normal.', 21075991), ('buffer_overflow.', 2751), ('loadmodule.', 326), ('perl.', 124), ('neptune.', 0), ('smurf.', 0), ('guess_passwd.', 144), ('pod.', 0), ('teardrop.', 0), ('portsweep.', 1991911), ('ipsweep.', 43), ('land.', 0), ('ftp_write.', 259), ('back.', 284), ('imap.', 72), ('satan.', 64), ('phf.', 18), ('nmap.', 0), ('multihop.', 1288), ('warezmaster.', 301), ('warezclient.', 627563), ('spy.', 636), ('rootkit.', 1008)]\n"
          ]
        }
      ]
    },
    {
      "cell_type": "markdown",
      "metadata": {
        "id": "balanced-table"
      },
      "source": [
        "### Create a DataFrame with the header as features (2 points)"
      ],
      "id": "balanced-table"
    },
    {
      "cell_type": "markdown",
      "metadata": {
        "id": "Y-S3RgOYdghm"
      },
      "source": [
        "* Read the features (*kddcup.names*) and preprocess.\n",
        "\n",
        "    Hints:\n",
        "    - Each feature description appears row-wise in *kddcup.names*\n",
        "    - The first row consists of distinct values of intrusion_types\n",
        "    - Add or move the *intrusion_types* column name to the last, to align with the data.\n",
        "    - Each feature is represented as *feature_name*: *type*, remove *type* after colon (:)"
      ],
      "id": "Y-S3RgOYdghm"
    },
    {
      "cell_type": "code",
      "metadata": {
        "id": "stylish-chance"
      },
      "source": [
        "# YOUR CODE HERE\n",
        "with open('/content/kddcup.names') as f:\n",
        "    header = f.readlines()\n",
        "    header = [x.strip() for x in header]\n",
        "\n",
        "header = [x.split(':')[0] for x in header[1:]]\n",
        "header.append('intrusion_type')\n"
      ],
      "id": "stylish-chance",
      "execution_count": 60,
      "outputs": []
    },
    {
      "cell_type": "markdown",
      "metadata": {
        "id": "XA-HDFEIdlwd"
      },
      "source": [
        "* Create a dataframe with the data and headers as preprocessed feature names"
      ],
      "id": "XA-HDFEIdlwd"
    },
    {
      "cell_type": "code",
      "metadata": {
        "id": "MJh_-plCdlZ1"
      },
      "source": [
        "# YOUR CODE HERE\n",
        "df = spark.createDataFrame(rdd, header)"
      ],
      "id": "MJh_-plCdlZ1",
      "execution_count": 61,
      "outputs": []
    },
    {
      "cell_type": "code",
      "source": [
        "df.head(5)"
      ],
      "metadata": {
        "colab": {
          "base_uri": "https://localhost:8080/"
        },
        "id": "qxgJ_8LzHq7d",
        "outputId": "acec010a-ee57-4a56-9860-2d4b33837051",
        "collapsed": true
      },
      "id": "qxgJ_8LzHq7d",
      "execution_count": 38,
      "outputs": [
        {
          "output_type": "execute_result",
          "data": {
            "text/plain": [
              "[Row(duration='0', protocol_type='tcp', service='http', flag='SF', src_bytes='181', dst_bytes='5450', land='0', wrong_fragment='0', urgent='0', hot='0', num_failed_logins='0', logged_in='1', num_compromised='0', root_shell='0', su_attempted='0', num_root='0', num_file_creations='0', num_shells='0', num_access_files='0', num_outbound_cmds='0', is_host_login='0', is_guest_login='0', count='8', srv_count='8', serror_rate='0.00', srv_serror_rate='0.00', rerror_rate='0.00', srv_rerror_rate='0.00', same_srv_rate='1.00', diff_srv_rate='0.00', srv_diff_host_rate='0.00', dst_host_count='9', dst_host_srv_count='9', dst_host_same_srv_rate='1.00', dst_host_diff_srv_rate='0.00', dst_host_same_src_port_rate='0.11', dst_host_srv_diff_host_rate='0.00', dst_host_serror_rate='0.00', dst_host_srv_serror_rate='0.00', dst_host_rerror_rate='0.00', dst_host_srv_rerror_rate='0.00', intrusion_type='normal.'),\n",
              " Row(duration='0', protocol_type='tcp', service='http', flag='SF', src_bytes='239', dst_bytes='486', land='0', wrong_fragment='0', urgent='0', hot='0', num_failed_logins='0', logged_in='1', num_compromised='0', root_shell='0', su_attempted='0', num_root='0', num_file_creations='0', num_shells='0', num_access_files='0', num_outbound_cmds='0', is_host_login='0', is_guest_login='0', count='8', srv_count='8', serror_rate='0.00', srv_serror_rate='0.00', rerror_rate='0.00', srv_rerror_rate='0.00', same_srv_rate='1.00', diff_srv_rate='0.00', srv_diff_host_rate='0.00', dst_host_count='19', dst_host_srv_count='19', dst_host_same_srv_rate='1.00', dst_host_diff_srv_rate='0.00', dst_host_same_src_port_rate='0.05', dst_host_srv_diff_host_rate='0.00', dst_host_serror_rate='0.00', dst_host_srv_serror_rate='0.00', dst_host_rerror_rate='0.00', dst_host_srv_rerror_rate='0.00', intrusion_type='normal.'),\n",
              " Row(duration='0', protocol_type='tcp', service='http', flag='SF', src_bytes='235', dst_bytes='1337', land='0', wrong_fragment='0', urgent='0', hot='0', num_failed_logins='0', logged_in='1', num_compromised='0', root_shell='0', su_attempted='0', num_root='0', num_file_creations='0', num_shells='0', num_access_files='0', num_outbound_cmds='0', is_host_login='0', is_guest_login='0', count='8', srv_count='8', serror_rate='0.00', srv_serror_rate='0.00', rerror_rate='0.00', srv_rerror_rate='0.00', same_srv_rate='1.00', diff_srv_rate='0.00', srv_diff_host_rate='0.00', dst_host_count='29', dst_host_srv_count='29', dst_host_same_srv_rate='1.00', dst_host_diff_srv_rate='0.00', dst_host_same_src_port_rate='0.03', dst_host_srv_diff_host_rate='0.00', dst_host_serror_rate='0.00', dst_host_srv_serror_rate='0.00', dst_host_rerror_rate='0.00', dst_host_srv_rerror_rate='0.00', intrusion_type='normal.'),\n",
              " Row(duration='0', protocol_type='tcp', service='http', flag='SF', src_bytes='219', dst_bytes='1337', land='0', wrong_fragment='0', urgent='0', hot='0', num_failed_logins='0', logged_in='1', num_compromised='0', root_shell='0', su_attempted='0', num_root='0', num_file_creations='0', num_shells='0', num_access_files='0', num_outbound_cmds='0', is_host_login='0', is_guest_login='0', count='6', srv_count='6', serror_rate='0.00', srv_serror_rate='0.00', rerror_rate='0.00', srv_rerror_rate='0.00', same_srv_rate='1.00', diff_srv_rate='0.00', srv_diff_host_rate='0.00', dst_host_count='39', dst_host_srv_count='39', dst_host_same_srv_rate='1.00', dst_host_diff_srv_rate='0.00', dst_host_same_src_port_rate='0.03', dst_host_srv_diff_host_rate='0.00', dst_host_serror_rate='0.00', dst_host_srv_serror_rate='0.00', dst_host_rerror_rate='0.00', dst_host_srv_rerror_rate='0.00', intrusion_type='normal.'),\n",
              " Row(duration='0', protocol_type='tcp', service='http', flag='SF', src_bytes='217', dst_bytes='2032', land='0', wrong_fragment='0', urgent='0', hot='0', num_failed_logins='0', logged_in='1', num_compromised='0', root_shell='0', su_attempted='0', num_root='0', num_file_creations='0', num_shells='0', num_access_files='0', num_outbound_cmds='0', is_host_login='0', is_guest_login='0', count='6', srv_count='6', serror_rate='0.00', srv_serror_rate='0.00', rerror_rate='0.00', srv_rerror_rate='0.00', same_srv_rate='1.00', diff_srv_rate='0.00', srv_diff_host_rate='0.00', dst_host_count='49', dst_host_srv_count='49', dst_host_same_srv_rate='1.00', dst_host_diff_srv_rate='0.00', dst_host_same_src_port_rate='0.02', dst_host_srv_diff_host_rate='0.00', dst_host_serror_rate='0.00', dst_host_srv_serror_rate='0.00', dst_host_rerror_rate='0.00', dst_host_srv_rerror_rate='0.00', intrusion_type='normal.')]"
            ]
          },
          "metadata": {},
          "execution_count": 38
        }
      ]
    },
    {
      "cell_type": "code",
      "source": [
        "df.printSchema()"
      ],
      "metadata": {
        "colab": {
          "base_uri": "https://localhost:8080/"
        },
        "id": "zcEswKcDfwOd",
        "outputId": "123bf3a9-0917-40a1-e950-784959ca573b"
      },
      "id": "zcEswKcDfwOd",
      "execution_count": 49,
      "outputs": [
        {
          "output_type": "stream",
          "name": "stdout",
          "text": [
            "root\n",
            " |-- duration: string (nullable = true)\n",
            " |-- protocol_type: string (nullable = true)\n",
            " |-- service: string (nullable = true)\n",
            " |-- flag: string (nullable = true)\n",
            " |-- src_bytes: string (nullable = true)\n",
            " |-- dst_bytes: string (nullable = true)\n",
            " |-- land: string (nullable = true)\n",
            " |-- wrong_fragment: string (nullable = true)\n",
            " |-- urgent: string (nullable = true)\n",
            " |-- hot: string (nullable = true)\n",
            " |-- num_failed_logins: string (nullable = true)\n",
            " |-- logged_in: string (nullable = true)\n",
            " |-- num_compromised: string (nullable = true)\n",
            " |-- root_shell: string (nullable = true)\n",
            " |-- su_attempted: string (nullable = true)\n",
            " |-- num_root: string (nullable = true)\n",
            " |-- num_file_creations: string (nullable = true)\n",
            " |-- num_shells: string (nullable = true)\n",
            " |-- num_access_files: string (nullable = true)\n",
            " |-- num_outbound_cmds: string (nullable = true)\n",
            " |-- is_host_login: string (nullable = true)\n",
            " |-- is_guest_login: string (nullable = true)\n",
            " |-- count: string (nullable = true)\n",
            " |-- srv_count: string (nullable = true)\n",
            " |-- serror_rate: string (nullable = true)\n",
            " |-- srv_serror_rate: string (nullable = true)\n",
            " |-- rerror_rate: string (nullable = true)\n",
            " |-- srv_rerror_rate: string (nullable = true)\n",
            " |-- same_srv_rate: string (nullable = true)\n",
            " |-- diff_srv_rate: string (nullable = true)\n",
            " |-- srv_diff_host_rate: string (nullable = true)\n",
            " |-- dst_host_count: string (nullable = true)\n",
            " |-- dst_host_srv_count: string (nullable = true)\n",
            " |-- dst_host_same_srv_rate: string (nullable = true)\n",
            " |-- dst_host_diff_srv_rate: string (nullable = true)\n",
            " |-- dst_host_same_src_port_rate: string (nullable = true)\n",
            " |-- dst_host_srv_diff_host_rate: string (nullable = true)\n",
            " |-- dst_host_serror_rate: string (nullable = true)\n",
            " |-- dst_host_srv_serror_rate: string (nullable = true)\n",
            " |-- dst_host_rerror_rate: string (nullable = true)\n",
            " |-- dst_host_srv_rerror_rate: string (nullable = true)\n",
            " |-- intrusion_type: string (nullable = true)\n",
            "\n"
          ]
        }
      ]
    },
    {
      "cell_type": "markdown",
      "metadata": {
        "id": "numerous-montreal"
      },
      "source": [
        "#### What is the count of each protocol type?\n",
        "\n",
        "Hint: apply `groupby` on protocol_type and count the records"
      ],
      "id": "numerous-montreal"
    },
    {
      "cell_type": "code",
      "metadata": {
        "id": "unusual-arizona",
        "colab": {
          "base_uri": "https://localhost:8080/"
        },
        "outputId": "abe7e14e-3b5f-401b-8777-c907eaa86bdf"
      },
      "source": [
        "# YOUR CODE HERE\n",
        "df.groupBy('protocol_type').count().show()"
      ],
      "id": "unusual-arizona",
      "execution_count": 17,
      "outputs": [
        {
          "output_type": "stream",
          "name": "stdout",
          "text": [
            "+-------------+------+\n",
            "|protocol_type| count|\n",
            "+-------------+------+\n",
            "|          tcp|190065|\n",
            "|          udp| 20354|\n",
            "|         icmp|283602|\n",
            "+-------------+------+\n",
            "\n"
          ]
        }
      ]
    },
    {
      "cell_type": "markdown",
      "metadata": {
        "id": "liable-edgar"
      },
      "source": [
        "#### Register the DataFrame as a temporary table and extract the data using queries\n",
        "\n",
        "Hint: [registerTempTable](https://spark.apache.org/docs/latest/api/python/reference/pyspark.sql/api/pyspark.sql.DataFrame.registerTempTable.html)"
      ],
      "id": "liable-edgar"
    },
    {
      "cell_type": "code",
      "metadata": {
        "id": "_NA8e0kTefVr",
        "colab": {
          "base_uri": "https://localhost:8080/"
        },
        "outputId": "dded1679-6f0d-4871-d1df-6b683fa270b8"
      },
      "source": [
        "# YOUR CODE HERE\n",
        "df.registerTempTable('interactions')"
      ],
      "id": "_NA8e0kTefVr",
      "execution_count": 18,
      "outputs": [
        {
          "output_type": "stream",
          "name": "stderr",
          "text": [
            "/usr/local/lib/python3.11/dist-packages/pyspark/sql/dataframe.py:329: FutureWarning: Deprecated in 2.0, use createOrReplaceTempView instead.\n",
            "  warnings.warn(\"Deprecated in 2.0, use createOrReplaceTempView instead.\", FutureWarning)\n"
          ]
        }
      ]
    },
    {
      "cell_type": "markdown",
      "metadata": {
        "id": "PWOzPDAveLmd"
      },
      "source": [
        "* query to extract the label and their frequencies\n",
        "\n",
        " Hint: `SQLContext.sql(query)`"
      ],
      "id": "PWOzPDAveLmd"
    },
    {
      "cell_type": "code",
      "metadata": {
        "id": "thirty-automation",
        "colab": {
          "base_uri": "https://localhost:8080/"
        },
        "outputId": "82a5bbbd-8ff3-4b85-a82c-061678aba248"
      },
      "source": [
        "# YOUR CODE HERE\n",
        "query = 'SELECT intrusion_type, count(*) as count FROM interactions GROUP BY intrusion_type'\n",
        "spark.sql(query).show()"
      ],
      "id": "thirty-automation",
      "execution_count": 19,
      "outputs": [
        {
          "output_type": "stream",
          "name": "stdout",
          "text": [
            "+----------------+------+\n",
            "|  intrusion_type| count|\n",
            "+----------------+------+\n",
            "|    warezmaster.|    20|\n",
            "|          smurf.|280790|\n",
            "|            pod.|   264|\n",
            "|           imap.|    12|\n",
            "|           nmap.|   231|\n",
            "|   guess_passwd.|    53|\n",
            "|        ipsweep.|  1247|\n",
            "|      portsweep.|  1040|\n",
            "|          satan.|  1589|\n",
            "|           land.|    21|\n",
            "|     loadmodule.|     9|\n",
            "|      ftp_write.|     8|\n",
            "|buffer_overflow.|    30|\n",
            "|        rootkit.|    10|\n",
            "|    warezclient.|  1020|\n",
            "|       teardrop.|   979|\n",
            "|           perl.|     3|\n",
            "|            phf.|     4|\n",
            "|       multihop.|     7|\n",
            "|        neptune.|107201|\n",
            "+----------------+------+\n",
            "only showing top 20 rows\n",
            "\n"
          ]
        }
      ]
    },
    {
      "cell_type": "markdown",
      "metadata": {
        "id": "dQ4d2Y8SeP48"
      },
      "source": [
        "* select the distinct protocol types with their count of transactions which are not normal"
      ],
      "id": "dQ4d2Y8SeP48"
    },
    {
      "cell_type": "code",
      "metadata": {
        "id": "respiratory-parking",
        "colab": {
          "base_uri": "https://localhost:8080/"
        },
        "outputId": "d6487ef0-0542-4949-cc42-fc74b1f1ead8"
      },
      "source": [
        "# YOUR CODE HERE\n",
        "query = 'SELECT protocol_type, count(*) as count FROM interactions WHERE intrusion_type != \"normal.\" GROUP BY protocol_type'\n",
        "spark.sql(query).show()"
      ],
      "id": "respiratory-parking",
      "execution_count": 20,
      "outputs": [
        {
          "output_type": "stream",
          "name": "stdout",
          "text": [
            "+-------------+------+\n",
            "|protocol_type| count|\n",
            "+-------------+------+\n",
            "|          tcp|113252|\n",
            "|          udp|  1177|\n",
            "|         icmp|282314|\n",
            "+-------------+------+\n",
            "\n"
          ]
        }
      ]
    },
    {
      "cell_type": "markdown",
      "metadata": {
        "id": "AGUDJ92yeSBa"
      },
      "source": [
        "* select count of transactions in each protocol type that lasts more than 1 second (duration > 1000), with no data transfer from destination (dst_bytes == 0)"
      ],
      "id": "AGUDJ92yeSBa"
    },
    {
      "cell_type": "code",
      "metadata": {
        "id": "conventional-driving",
        "colab": {
          "base_uri": "https://localhost:8080/"
        },
        "outputId": "57f1754d-9aba-4d29-ef60-11bbb799882c"
      },
      "source": [
        "# YOUR CODE HERE\n",
        "query = 'SELECT protocol_type, count(*) as count FROM interactions WHERE duration > 1000 AND dst_bytes == 0 GROUP BY protocol_type'\n",
        "spark.sql(query).show()"
      ],
      "id": "conventional-driving",
      "execution_count": 21,
      "outputs": [
        {
          "output_type": "stream",
          "name": "stdout",
          "text": [
            "+-------------+-----+\n",
            "|protocol_type|count|\n",
            "+-------------+-----+\n",
            "|          tcp|  139|\n",
            "+-------------+-----+\n",
            "\n"
          ]
        }
      ]
    },
    {
      "cell_type": "markdown",
      "metadata": {
        "id": "likely-gambling"
      },
      "source": [
        "### Find the highly correlated columns (2 points)\n",
        "\n",
        "* identify the columns which are not integer type and remove those columns\n",
        "* apply correlation function on the data (Hint: `Statistics.corr()`)\n",
        "* collect the names of the columns on which correlation is applied\n",
        "* create a dataframe with correlation matrix with index and columns as names\n",
        "* get the highly correlated features by considering a correlation value greater than 0.8\n",
        "\n",
        "    Hint: `np.triu()` , `pd.mask()`"
      ],
      "id": "likely-gambling"
    },
    {
      "cell_type": "code",
      "metadata": {
        "id": "cooked-promise"
      },
      "source": [
        "# YOUR CODE HERE\n",
        "# int_cols = [x[0] for x in df.dtypes if x[1] != 'int']\n",
        "int_cols = [f.name for f in df.schema.fields if isinstance(f.dataType, IntegerType)]\n",
        "df_int = df.select(*int_cols)\n"
      ],
      "id": "cooked-promise",
      "execution_count": 52,
      "outputs": []
    },
    {
      "cell_type": "code",
      "source": [
        "df_int.printSchema()"
      ],
      "metadata": {
        "colab": {
          "base_uri": "https://localhost:8080/"
        },
        "id": "nSlzVF44exNY",
        "outputId": "423dd3e2-2444-4c8e-9f55-a8faae92c05a"
      },
      "id": "nSlzVF44exNY",
      "execution_count": 53,
      "outputs": [
        {
          "output_type": "stream",
          "name": "stdout",
          "text": [
            "root\n",
            "\n"
          ]
        }
      ]
    },
    {
      "cell_type": "code",
      "metadata": {
        "id": "polish-claim"
      },
      "source": [
        "# eliminating names of columns having string type\n",
        "# YOUR CODE HERE\n",
        "str_cols = [x[0] for x in df.dtypes if x[1] == 'string']\n",
        "df_eliminate = df_int.drop(*str_cols)"
      ],
      "id": "polish-claim",
      "execution_count": 54,
      "outputs": []
    },
    {
      "cell_type": "code",
      "source": [
        "df_eliminate.printSchema()"
      ],
      "metadata": {
        "colab": {
          "base_uri": "https://localhost:8080/"
        },
        "id": "jnG_-RTDgCru",
        "outputId": "00558a78-039b-4c16-e266-74755b273f14"
      },
      "id": "jnG_-RTDgCru",
      "execution_count": 55,
      "outputs": [
        {
          "output_type": "stream",
          "name": "stdout",
          "text": [
            "root\n",
            "\n"
          ]
        }
      ]
    },
    {
      "cell_type": "code",
      "metadata": {
        "id": "european-aaron"
      },
      "source": [
        "# creating a dataframe with correlation matrix\n",
        "# YOUR CODE HERE\n",
        "rdd_vectors = df_eliminate.rdd.map(lambda row: [x for x in row if x is not None])\n",
        "rdd_vectors = rdd_vectors.filter(lambda row: len(row) > 0)\n",
        "corr_matrix = Statistics.corr(rdd_vectors, method=\"pearson\")\n",
        "\n",
        "# collect the names of the columns on which correlation is applied\n",
        "names = df_eliminate.columns"
      ],
      "id": "european-aaron",
      "execution_count": null,
      "outputs": []
    },
    {
      "cell_type": "code",
      "metadata": {
        "id": "skilled-domestic"
      },
      "source": [
        "#  fill the null values with 0\n",
        "# YOUR CODE HERE\n",
        "corr_mat = np.array(corr_mat)\n",
        "np.fill_diagonal(corr_mat, 0)"
      ],
      "id": "skilled-domestic",
      "execution_count": null,
      "outputs": []
    },
    {
      "cell_type": "code",
      "metadata": {
        "id": "approved-dublin"
      },
      "source": [
        "# Finding features with correlation value more than specified threshold value (bar=0.9)\n",
        "# YOUR CODE HERE\n"
      ],
      "id": "approved-dublin",
      "execution_count": null,
      "outputs": []
    },
    {
      "cell_type": "markdown",
      "metadata": {
        "id": "working-accident"
      },
      "source": [
        "### Analysis report (1 points)\n",
        "\n",
        "* Find the ratio of attacked transactions vs normal transactions\n",
        "\n",
        "    Hint: encode instrusion_type column by replacing normal with 1 and all other with 0\n",
        "\n",
        "* Describe the statistics of attacked and normal transactions\n",
        "    \n",
        "    Hint: Min, Max, Mean\n",
        "    \n",
        "* Select any two features that influence the intrusion_type and visualize the scatter plot to see the separation of normal and attacked"
      ],
      "id": "working-accident"
    },
    {
      "cell_type": "code",
      "metadata": {
        "id": "greatest-pressing",
        "colab": {
          "base_uri": "https://localhost:8080/"
        },
        "outputId": "b87aaa93-b9b3-4d43-bad2-a273d8eb8f6d"
      },
      "source": [
        "# YOUR CODE HERE\n",
        "# Encode 'intrusion_type' column: 1 for normal, 0 for attack\n",
        "df_encoded = df.withColumn(\"is_attack\", when(col(\"intrusion_type\") != \"normal.\", 0).otherwise(1))\n",
        "\n",
        "# Calculate the counts of normal and attacked transactions\n",
        "counts = df_encoded.groupBy(\"is_attack\").agg(count(\"*\").alias(\"count\"))\n",
        "\n",
        "normal_count = counts.filter(counts.is_attack == 1).select(\"count\").collect()[0][0]\n",
        "attacked_count = counts.filter(counts.is_attack == 0).select(\"count\").collect()[0][0]\n",
        "\n",
        "ratio = attacked_count / normal_count\n",
        "\n",
        "print(f\"Ratio of attacked transactions to normal transactions: {ratio}\")"
      ],
      "id": "greatest-pressing",
      "execution_count": 75,
      "outputs": [
        {
          "output_type": "stream",
          "name": "stdout",
          "text": [
            "Ratio of attacked transactions to normal transactions: 4.0784452805361955\n"
          ]
        }
      ]
    },
    {
      "cell_type": "code",
      "metadata": {
        "id": "dimensional-inspiration",
        "colab": {
          "base_uri": "https://localhost:8080/"
        },
        "outputId": "a6fcd482-b7d8-48f5-e109-bf8573db0b58"
      },
      "source": [
        "# YOUR CODE HERE\n",
        "stats = df_encoded.groupBy(\"is_attack\").agg(\n",
        "    min(\"duration\").alias(\"min_duration\"),\n",
        "    max(\"duration\").alias(\"max_duration\"),\n",
        "    mean(\"duration\").alias(\"mean_duration\"),\n",
        "    # Add other columns for which you want statistics here\n",
        ")\n",
        "\n",
        "# Show the results\n",
        "stats.show()"
      ],
      "id": "dimensional-inspiration",
      "execution_count": 76,
      "outputs": [
        {
          "output_type": "stream",
          "name": "stdout",
          "text": [
            "+---------+------------+------------+------------------+\n",
            "|is_attack|min_duration|max_duration|     mean_duration|\n",
            "+---------+------------+------------+------------------+\n",
            "|        0|           0|          98| 6.620890601724542|\n",
            "|        1|           0|        9949|216.65732231336992|\n",
            "+---------+------------+------------+------------------+\n",
            "\n"
          ]
        }
      ]
    },
    {
      "cell_type": "code",
      "metadata": {
        "id": "csNSaN2oaNYS",
        "colab": {
          "base_uri": "https://localhost:8080/",
          "height": 527
        },
        "outputId": "24584672-0229-4927-a56b-50faa769cf21"
      },
      "source": [
        "# YOUR CODE HERE\n",
        "# Convert Spark DataFrame to Pandas DataFrame for visualization\n",
        "pdf = df_encoded.select(\"duration\", \"src_bytes\", \"is_attack\").toPandas()\n",
        "\n",
        "# Create scatter plot\n",
        "sns.scatterplot(x=\"duration\", y=\"src_bytes\", hue=\"is_attack\", data=pdf)\n",
        "plt.title(\"Scatter Plot of Duration vs. src_bytes\")\n",
        "plt.show()"
      ],
      "id": "csNSaN2oaNYS",
      "execution_count": 77,
      "outputs": [
        {
          "output_type": "stream",
          "name": "stderr",
          "text": [
            "/usr/local/lib/python3.11/dist-packages/IPython/core/pylabtools.py:151: UserWarning: Creating legend with loc=\"best\" can be slow with large amounts of data.\n",
            "  fig.canvas.print_figure(bytes_io, **kw)\n"
          ]
        },
        {
          "output_type": "display_data",
          "data": {
            "text/plain": [
              "<Figure size 640x480 with 1 Axes>"
            ],
            "image/png": "[encoded data removed]"
          },
          "metadata": {}
        }
      ]
    }
  ]
}