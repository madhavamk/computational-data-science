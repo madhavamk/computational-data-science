{
  "nbformat": 4,
  "nbformat_minor": 5,
  "metadata": {
    "colab": {
      "provenance": [],
      "include_colab_link": true
    },
    "kernelspec": {
      "display_name": "Python 3",
      "language": "python",
      "name": "python3"
    },
    "language_info": {
      "codemirror_mode": {
        "name": "ipython",
        "version": 3
      },
      "file_extension": ".py",
      "mimetype": "text/x-python",
      "name": "python",
      "nbconvert_exporter": "python",
      "pygments_lexer": "ipython3",
      "version": "3.6.9"
    }
  },
  "cells": [
    {
      "cell_type": "markdown",
      "metadata": {
        "id": "view-in-github",
        "colab_type": "text"
      },
      "source": [
        "<a href=\"https://colab.research.google.com/github/madhavamk/computational-data-science/blob/master/MiniProjects/M6_NB_MiniProject_1_Image_Classification_MLP.ipynb\" target=\"_parent\"><img src=\"https://colab.research.google.com/assets/colab-badge.svg\" alt=\"Open In Colab\"/></a>"
      ]
    },
    {
      "cell_type": "markdown",
      "metadata": {
        "id": "another-optimum"
      },
      "source": [
        "# Advanced Certification Program in Computational Data Science\n",
        "\n",
        "##  A program by IISc and TalentSprint\n",
        "\n",
        "### Mini Project Notebook: Image Classification using Multi Layer Perceptron"
      ],
      "id": "another-optimum"
    },
    {
      "cell_type": "markdown",
      "metadata": {
        "id": "maritime-miami"
      },
      "source": [
        "## Learning Objectives"
      ],
      "id": "maritime-miami"
    },
    {
      "cell_type": "markdown",
      "metadata": {
        "id": "nljJR6CwfZN_"
      },
      "source": [
        "At the end of the experiment, you will be able to :\n",
        "\n",
        "* load and extract features of images\n",
        "\n",
        "* implement the Multi-Layer perceptron to classify images\n",
        "\n",
        "* implement simple neural network from keras"
      ],
      "id": "nljJR6CwfZN_"
    },
    {
      "cell_type": "markdown",
      "metadata": {
        "id": "29152de7"
      },
      "source": [
        "## Introduction\n",
        "\n",
        "Traffic sign recognition is a challenging, real-world problem relevant for AI based transportation systems. Traffic signs show a wide range of variations between classes in terms of color, shape, and the presence of pictograms or text. However, there exist subsets of\n",
        "classes (e.g., speed limit signs) that are very similar to each other. Further, the classifier\n",
        "has to be robust against large variations in visual appearances due to changes in illumination, partial\n",
        "occlusions, rotations, weather conditions etc. Using a comprehensive traffic sign detection dataset, here we will perform classification of traffic signs, train and evaluate the different models and compare to the performance of MLPs."
      ],
      "id": "29152de7"
    },
    {
      "cell_type": "markdown",
      "metadata": {
        "id": "58facc94"
      },
      "source": [
        "![img](https://paperswithcode.com/media/datasets/GTSRB-0000000633-9ce3c5f6_Dki5Rsf.jpg)"
      ],
      "id": "58facc94"
    },
    {
      "cell_type": "markdown",
      "metadata": {
        "id": "surprising-uruguay"
      },
      "source": [
        "## Dataset\n",
        "\n",
        "The data for this mini-project is from the German Traffic Sign Detection Benchmark [GTSDB](https://benchmark.ini.rub.de/gtsdb_dataset.html). This archive contains the training set used during the IJCNN 2013 competition.\n",
        "\n",
        "The German Traffic Sign Detection Benchmark is a single-image detection assessment for researchers with interest in the field of computer vision, pattern recognition and image-based driver assistance. It is introduced on the IEEE International Joint Conference on Neural Networks 2013.\n",
        "\n",
        "It features ...\n",
        "\n",
        "* The main archive FullIJCNN2013.zip includes the images (1360 x 800 pixels) in PPM format, the image sections containing only the traffic signs\n",
        "* A file in CSV format with the ground truth\n",
        "* A ReadMe.txt with more details.\n",
        "\n",
        "Note that we will be using the images inside the image sections subfolders, containing only the traffic signs."
      ],
      "id": "surprising-uruguay"
    },
    {
      "cell_type": "markdown",
      "metadata": {
        "id": "ih-oasWmdZul"
      },
      "source": [
        "## Problem Statement"
      ],
      "id": "ih-oasWmdZul"
    },
    {
      "cell_type": "markdown",
      "metadata": {
        "id": "qfWGmjNHdZul"
      },
      "source": [
        "To build and improve upon a machine learning model for the classification of images and achieve a high accuracy final model."
      ],
      "id": "qfWGmjNHdZul"
    },
    {
      "cell_type": "markdown",
      "metadata": {
        "id": "operating-latter"
      },
      "source": [
        "## Grading = 10 Points"
      ],
      "id": "operating-latter"
    },
    {
      "cell_type": "code",
      "metadata": {
        "id": "812a816f",
        "cellView": "form"
      },
      "source": [
        "#@title Download the data\n",
        "!wget -qq https://sid.erda.dk/public/archives/ff17dc924eba88d5d01a807357d6614c/FullIJCNN2013.zip\n",
        "!unzip -qq FullIJCNN2013.zip"
      ],
      "id": "812a816f",
      "execution_count": 1,
      "outputs": []
    },
    {
      "cell_type": "markdown",
      "metadata": {
        "id": "abstract-stocks"
      },
      "source": [
        "### Import Required packages"
      ],
      "id": "abstract-stocks"
    },
    {
      "cell_type": "code",
      "metadata": {
        "id": "advisory-knowing"
      },
      "source": [
        "import pandas as pd\n",
        "import numpy as np\n",
        "from sklearn.model_selection import train_test_split\n",
        "import matplotlib.pyplot as plt\n",
        "from sklearn.neural_network import MLPClassifier\n",
        "from skimage.io import imread, imshow\n",
        "from sklearn import preprocessing\n",
        "import os, glob\n",
        "from PIL import Image\n",
        "from sklearn.model_selection import GridSearchCV\n",
        "# Keras\n",
        "import tensorflow as tf\n",
        "from tensorflow import keras\n",
        "from keras.models import Sequential\n",
        "from keras.layers import Dense, Dropout, BatchNormalization"
      ],
      "id": "advisory-knowing",
      "execution_count": 2,
      "outputs": []
    },
    {
      "cell_type": "markdown",
      "metadata": {
        "id": "gp4bF_GJdZuo"
      },
      "source": [
        "Data Loading and Feature Extraction (2 points)\n",
        "\n",
        "#### Get the features and labels of data\n",
        "\n",
        "* Extract the features of the images within image sections only (do not use images located outside these folders)\n",
        "* Extract labels of the images\n",
        "* Resize the images to (30, 30) and convert to numpy 1-D array\n",
        "\n",
        "   Hint: [Link](https://machinelearningmastery.com/how-to-load-and-manipulate-images-for-deep-learning-in-python-with-pil-pillow/)"
      ],
      "id": "gp4bF_GJdZuo"
    },
    {
      "cell_type": "code",
      "source": [
        "classes = {0:'speed limit 20 (prohibitory)',\n",
        "1:'speed limit 30 (prohibitory)',\n",
        "2:'speed limit 50 (prohibitory)',\n",
        "3:'speed limit 60 (prohibitory)',\n",
        "4:'speed limit 70 (prohibitory)',\n",
        "5:'speed limit 80 (prohibitory)',\n",
        "6:'restriction ends 80 (other)',\n",
        "7:'speed limit 100 (prohibitory)',\n",
        "8:'speed limit 120 (prohibitory)',\n",
        "9:'no overtaking (prohibitory)',\n",
        "10:'no overtaking (trucks) (prohibitory)',\n",
        "11:'priority at next intersection (danger)',\n",
        "12:'priority road (other)',\n",
        "13:'give way (other)',\n",
        "14:'stop (other)',\n",
        "15:'no traffic both ways (prohibitory)',\n",
        "16:'no trucks (prohibitory)',\n",
        "17:'no entry (other)',\n",
        "18:'danger (danger)',\n",
        "19:'bend left (danger)',\n",
        "20:'bend right (danger)',\n",
        "21:'bend (danger)',\n",
        "22:'uneven road (danger)',\n",
        "23:'slippery road (danger)',\n",
        "24:'road narrows (danger)',\n",
        "25:'construction (danger)',\n",
        "26:'traffic signal (danger)',\n",
        "27:'pedestrian crossing (danger)',\n",
        "28:'school crossing (danger)',\n",
        "29:'cycles crossing (danger)',\n",
        "30:'snow (danger)',\n",
        "31:'animals (danger)',\n",
        "32:'restriction ends (other)',\n",
        "33:'go right (mandatory)',\n",
        "34:'go left (mandatory)',\n",
        "35:'go straight (mandatory)',\n",
        "36:'go right or straight (mandatory)',\n",
        "37:'go left or straight (mandatory)',\n",
        "38:'keep right (mandatory)',\n",
        "39:'keep left (mandatory)',\n",
        "40:'roundabout (mandatory)',\n",
        "41:'restriction ends (overtaking) (other)',\n",
        "42:'restriction ends (overtaking (trucks)) (other)'}"
      ],
      "metadata": {
        "id": "EkoeY2g0cRVL"
      },
      "id": "EkoeY2g0cRVL",
      "execution_count": 11,
      "outputs": []
    },
    {
      "cell_type": "code",
      "metadata": {
        "id": "fc5c2362",
        "colab": {
          "base_uri": "https://localhost:8080/"
        },
        "outputId": "65fba7b2-35e3-4e3d-cd9f-8504d8ccf756"
      },
      "source": [
        "# YOUR CODE HERE\n",
        "def load_data_extract_features(data_path):\n",
        "    img = []\n",
        "    labels = []\n",
        "    with open(data_path, 'r') as f:\n",
        "        gtlines = f.readlines()\n",
        "        for line in gtlines:\n",
        "            file_details = line.split(';')\n",
        "            image_name = file_details[0]\n",
        "            label = int(file_details[-1].strip())\n",
        "            img_path = os.path.join(os.getcwd(), 'FullIJCNN2013', image_name)\n",
        "            image = Image.open(img_path)\n",
        "            image = image.resize((30, 30))\n",
        "            image = np.array(image)\n",
        "            image = image.flatten()\n",
        "            img.append(image)\n",
        "            labels.append(label)\n",
        "    return img, labels\n",
        "\n",
        "img, labels = load_data_extract_features('FullIJCNN2013/gt.txt')\n",
        "print(img)\n",
        "print(labels)"
      ],
      "id": "fc5c2362",
      "execution_count": 12,
      "outputs": [
        {
          "output_type": "stream",
          "name": "stdout",
          "text": [
            "[array([255, 255, 255, ...,  64,  70,  77], dtype=uint8), array([61, 63, 51, ..., 98, 96, 94], dtype=uint8), array([61, 63, 51, ..., 98, 96, 94], dtype=uint8), array([61, 63, 51, ..., 98, 96, 94], dtype=uint8), array([255, 255, 255, ..., 117, 122, 120], dtype=uint8), array([200, 204, 204, ..., 139, 129, 112], dtype=uint8), array([200, 204, 204, ..., 139, 129, 112], dtype=uint8), array([200, 204, 204, ..., 139, 129, 112], dtype=uint8), array([220, 221, 206, ...,  84,  87,  68], dtype=uint8), array([220, 221, 206, ...,  84,  87,  68], dtype=uint8), array([178, 196, 216, ...,  53,  56,  42], dtype=uint8), array([215, 255, 255, ...,  85,  86,  83], dtype=uint8), array([ 62,  64,  52, ..., 142, 136, 130], dtype=uint8), array([127, 159, 211, ..., 141, 128, 112], dtype=uint8), array([127, 159, 211, ..., 141, 128, 112], dtype=uint8), array([113, 141, 178, ..., 122,  95,  57], dtype=uint8), array([135, 175, 252, ..., 107,  97,  98], dtype=uint8), array([ 57,  66,  80, ..., 154, 139, 144], dtype=uint8), array([ 57,  66,  80, ..., 154, 139, 144], dtype=uint8), array([ 33,  31,  30, ...,  98, 108,  73], dtype=uint8), array([ 38,  37,  34, ..., 147, 124, 100], dtype=uint8), array([ 50,  52,  49, ..., 149, 170, 139], dtype=uint8), array([190, 205, 222, ...,  30,  36,  28], dtype=uint8), array([222, 223, 223, ...,  39,  40,  45], dtype=uint8), array([183, 199, 217, ...,  26,  24,  19], dtype=uint8), array([183, 199, 217, ...,  26,  24,  19], dtype=uint8), array([198, 255, 255, ..., 251, 214, 181], dtype=uint8), array([194, 235, 254, ...,  83,  83,  84], dtype=uint8), array([194, 235, 254, ...,  83,  83,  84], dtype=uint8), array([255, 255, 255, ..., 153, 138, 142], dtype=uint8), array([255, 255, 255, ...,  42,  38,  35], dtype=uint8), array([252, 252, 198, ...,  36,  41,  36], dtype=uint8), array([167, 217, 253, ..., 150, 130, 120], dtype=uint8), array([167, 217, 253, ..., 150, 130, 120], dtype=uint8), array([167, 217, 253, ..., 150, 130, 120], dtype=uint8), array([161, 138, 133, ...,  52,  52,  59], dtype=uint8), array([63, 57, 54, ..., 32, 28, 29], dtype=uint8), array([63, 57, 54, ..., 32, 28, 29], dtype=uint8), array([255, 255, 255, ...,  66,  73,  93], dtype=uint8), array([148, 162, 185, ..., 142, 140,  93], dtype=uint8), array([148, 162, 185, ..., 142, 140,  93], dtype=uint8), array([115, 143, 201, ..., 104,  94,  92], dtype=uint8), array([115, 143, 201, ..., 104,  94,  92], dtype=uint8), array([143, 174, 238, ...,  50,  49,  52], dtype=uint8), array([205, 252, 255, ..., 151, 132, 128], dtype=uint8), array([126, 115, 104, ..., 130, 114, 104], dtype=uint8), array([126, 115, 104, ..., 130, 114, 104], dtype=uint8), array([111,  82,  73, ...,  83,  78,  53], dtype=uint8), array([111,  82,  73, ...,  83,  78,  53], dtype=uint8), array([255, 255, 255, ..., 135, 118, 111], dtype=uint8), array([ 44,  40,  40, ..., 255, 255, 240], dtype=uint8), array([255, 255, 255, ..., 121, 108, 101], dtype=uint8), array([255, 255, 255, ..., 121, 108, 101], dtype=uint8), array([ 97, 101, 105, ...,  97,  88,  88], dtype=uint8), array([ 97, 101, 105, ...,  97,  88,  88], dtype=uint8), array([110,  97, 110, ...,  22,  24,  30], dtype=uint8), array([184, 189, 163, ..., 118, 106, 102], dtype=uint8), array([71, 69, 50, ..., 41, 41, 45], dtype=uint8), array([71, 69, 50, ..., 41, 41, 45], dtype=uint8), array([127, 120, 103, ..., 116,  93,  91], dtype=uint8), array([127, 120, 103, ..., 116,  93,  91], dtype=uint8), array([241, 239, 238, ...,  45,  44,  51], dtype=uint8), array([255, 255, 255, ..., 107,  77,  65], dtype=uint8), array([147, 137, 138, ...,  72,  57,  52], dtype=uint8), array([147, 137, 138, ...,  72,  57,  52], dtype=uint8), array([147, 137, 138, ...,  72,  57,  52], dtype=uint8), array([183, 186, 196, ...,  29,  22,  19], dtype=uint8), array([ 40,  36,  38, ..., 173, 141, 130], dtype=uint8), array([ 89,  72,  57, ..., 209, 128, 115], dtype=uint8), array([224, 207, 172, ..., 227, 170, 145], dtype=uint8), array([116, 143, 200, ..., 169, 124, 100], dtype=uint8), array([116, 143, 200, ..., 169, 124, 100], dtype=uint8), array([116, 143, 200, ..., 169, 124, 100], dtype=uint8), array([116, 109,  97, ..., 255, 255, 234], dtype=uint8), array([116, 109,  97, ..., 255, 255, 234], dtype=uint8), array([ 86,  73,  49, ..., 143, 105,  86], dtype=uint8), array([ 86,  73,  49, ..., 143, 105,  86], dtype=uint8), array([172, 202, 253, ...,  83,  65,  56], dtype=uint8), array([255, 255, 255, ...,  43,  37,  36], dtype=uint8), array([255, 255, 255, ...,  43,  37,  36], dtype=uint8), array([134, 139, 165, ..., 163, 121, 101], dtype=uint8), array([134, 139, 165, ..., 163, 121, 101], dtype=uint8), array([247, 233, 160, ...,  36,  40,  51], dtype=uint8), array([247, 233, 160, ...,  36,  40,  51], dtype=uint8), array([247, 233, 160, ...,  36,  40,  51], dtype=uint8), array([247, 233, 160, ...,  36,  40,  51], dtype=uint8), array([255, 255, 244, ...,  48,  48,  53], dtype=uint8), array([254, 254, 250, ...,  58,  49,  43], dtype=uint8), array([225, 230, 236, ...,  26,  22,  24], dtype=uint8), array([216, 198, 129, ...,  40,  41,  48], dtype=uint8), array([250, 254, 253, ..., 193, 145, 122], dtype=uint8), array([255, 255, 255, ...,  46,  48,  57], dtype=uint8), array([255, 255, 255, ...,  46,  48,  57], dtype=uint8), array([244, 246, 247, ...,  31,  33,  41], dtype=uint8), array([255, 255, 255, ...,  34,  32,  37], dtype=uint8), array([171, 226, 253, ...,  19,  19,  23], dtype=uint8), array([169, 146,  82, ...,  36,  41,  55], dtype=uint8), array([128, 162, 223, ...,  42,  42,  43], dtype=uint8), array([110, 106,  77, ..., 106, 113, 119], dtype=uint8), array([209, 185, 106, ...,  86,  88, 105], dtype=uint8), array([ 80,  79,  67, ...,  90,  95, 100], dtype=uint8), array([ 79,  69,  49, ..., 119, 117, 117], dtype=uint8), array([52, 53, 48, ..., 39, 40, 42], dtype=uint8), array([190, 214, 221, ..., 101,  98,  95], dtype=uint8), array([190, 214, 221, ..., 101,  98,  95], dtype=uint8), array([190, 214, 221, ..., 101,  98,  95], dtype=uint8), array([190, 190,  99, ...,  41,  44,  51], dtype=uint8), array([255, 255, 255, ..., 113, 111, 111], dtype=uint8), array([255, 255, 255, ..., 113, 111, 111], dtype=uint8), array([255, 255, 255, ..., 113, 111, 111], dtype=uint8), array([255, 255, 255, ..., 113, 111, 111], dtype=uint8), array([255, 255, 255, ..., 113, 111, 111], dtype=uint8), array([255, 255, 255, ..., 113, 111, 111], dtype=uint8), array([166, 176, 187, ...,  63,  66,  61], dtype=uint8), array([166, 176, 187, ...,  63,  66,  61], dtype=uint8), array([166, 176, 187, ...,  63,  66,  61], dtype=uint8), array([132, 120,  97, ...,  32,  41,  36], dtype=uint8), array([132, 120,  97, ...,  32,  41,  36], dtype=uint8), array([ 54,  56,  51, ..., 207, 205, 219], dtype=uint8), array([ 54,  56,  51, ..., 207, 205, 219], dtype=uint8), array([119, 129, 135, ...,  67,  70,  78], dtype=uint8), array([119, 129, 135, ...,  67,  70,  78], dtype=uint8), array([115, 163, 251, ..., 176, 144, 126], dtype=uint8), array([115, 163, 251, ..., 176, 144, 126], dtype=uint8), array([71, 76, 67, ..., 78, 75, 79], dtype=uint8), array([182, 167, 113, ...,  47,  53,  56], dtype=uint8), array([69, 62, 57, ..., 20, 20, 23], dtype=uint8), array([69, 62, 57, ..., 20, 20, 23], dtype=uint8), array([ 32,  32,  32, ..., 111, 111, 100], dtype=uint8), array([244, 252, 254, ..., 106, 111,  97], dtype=uint8), array([244, 252, 254, ..., 106, 111,  97], dtype=uint8), array([159, 208, 253, ..., 124, 110, 112], dtype=uint8), array([138, 197, 254, ..., 174, 161, 157], dtype=uint8), array([168, 155, 119, ...,  48,  53,  62], dtype=uint8), array([255, 255, 255, ...,  49,  48,  48], dtype=uint8), array([255, 255, 255, ...,  49,  48,  48], dtype=uint8), array([255, 255, 255, ...,  50,  49,  49], dtype=uint8), array([255, 255, 255, ...,  50,  49,  49], dtype=uint8), array([255, 255, 255, ...,  50,  49,  49], dtype=uint8), array([255, 255, 255, ...,  50,  49,  49], dtype=uint8), array([255, 255, 255, ...,  89,  91,  92], dtype=uint8), array([255, 255, 255, ...,  89,  91,  92], dtype=uint8), array([255, 255, 255, ...,  94,  95,  97], dtype=uint8), array([255, 255, 255, ...,  43,  44,  37], dtype=uint8), array([255, 255, 255, ...,  43,  44,  37], dtype=uint8), array([255, 255, 255, ...,  43,  44,  37], dtype=uint8), array([255, 255, 255, ...,  50,  49,  49], dtype=uint8), array([255, 255, 255, ...,  50,  49,  49], dtype=uint8), array([255, 255, 255, ...,  50,  49,  49], dtype=uint8), array([255, 255, 255, ...,  58,  56,  55], dtype=uint8), array([255, 255, 255, ...,  58,  56,  55], dtype=uint8), array([254, 254, 254, ...,  64,  64,  56], dtype=uint8), array([254, 254, 254, ...,  64,  64,  56], dtype=uint8), array([255, 255, 255, ...,  42,  43,  44], dtype=uint8), array([255, 255, 255, ...,  42,  43,  44], dtype=uint8), array([44, 43, 38, ..., 54, 56, 56], dtype=uint8), array([44, 43, 38, ..., 54, 56, 56], dtype=uint8), array([255, 255, 255, ...,  45,  45,  47], dtype=uint8), array([255, 255, 255, ...,  45,  45,  47], dtype=uint8), array([255, 255, 255, ...,  45,  45,  47], dtype=uint8), array([254, 255, 255, ...,  40,  32,  27], dtype=uint8), array([254, 255, 255, ...,  40,  32,  27], dtype=uint8), array([255, 255, 255, ...,  25,  25,  26], dtype=uint8), array([255, 255, 255, ...,  22,  22,  23], dtype=uint8), array([255, 255, 255, ...,  22,  22,  23], dtype=uint8), array([255, 255, 255, ...,  17,  17,  17], dtype=uint8), array([255, 255, 255, ...,  57,  60,  58], dtype=uint8), array([255, 255, 255, ...,  57,  60,  58], dtype=uint8), array([255, 255, 255, ...,  43,  45,  48], dtype=uint8), array([255, 255, 255, ...,  43,  45,  48], dtype=uint8), array([255, 255, 255, ...,  56,  54,  53], dtype=uint8), array([255, 255, 255, ...,  56,  54,  53], dtype=uint8), array([255, 255, 255, ...,  41,  42,  44], dtype=uint8), array([255, 255, 255, ...,  41,  42,  44], dtype=uint8), array([255, 255, 255, ...,  32,  30,  29], dtype=uint8), array([255, 255, 255, ...,  32,  33,  34], dtype=uint8), array([255, 255, 255, ...,  32,  33,  34], dtype=uint8), array([255, 255, 255, ...,  39,  40,  40], dtype=uint8), array([251, 255, 255, ...,  29,  30,  31], dtype=uint8), array([255, 255, 255, ...,  28,  29,  30], dtype=uint8), array([255, 255, 255, ...,  28,  29,  30], dtype=uint8), array([255, 255, 255, ...,  31,  33,  34], dtype=uint8), array([255, 255, 255, ...,  31,  33,  34], dtype=uint8), array([198, 211, 225, ..., 178, 187, 195], dtype=uint8), array([212, 215, 218, ...,  46,  49,  50], dtype=uint8), array([255, 255, 255, ...,  52,  55,  55], dtype=uint8), array([255, 255, 255, ...,  52,  55,  55], dtype=uint8), array([102, 103, 103, ...,  73,  74,  72], dtype=uint8), array([102, 103, 103, ...,  73,  74,  72], dtype=uint8), array([255, 255, 255, ...,  71,  73,  76], dtype=uint8), array([255, 255, 255, ...,  71,  73,  76], dtype=uint8), array([50, 50, 48, ..., 71, 76, 76], dtype=uint8), array([255, 255, 255, ...,  44,  46,  48], dtype=uint8), array([255, 255, 255, ...,  44,  46,  48], dtype=uint8), array([93, 92, 84, ..., 35, 36, 36], dtype=uint8), array([255, 255, 255, ...,  65,  67,  69], dtype=uint8), array([255, 255, 255, ...,  53,  55,  54], dtype=uint8), array([255, 255, 255, ...,  53,  55,  54], dtype=uint8), array([255, 255, 255, ...,  63,  65,  65], dtype=uint8), array([255, 255, 255, ...,  63,  65,  65], dtype=uint8), array([118, 122, 128, ...,  77,  82,  83], dtype=uint8), array([118, 122, 128, ...,  77,  82,  83], dtype=uint8), array([91, 77, 51, ..., 77, 66, 52], dtype=uint8), array([195, 182, 162, ...,  50,  47,  49], dtype=uint8), array([195, 182, 162, ...,  50,  47,  49], dtype=uint8), array([255, 255, 255, ...,  40,  42,  45], dtype=uint8), array([255, 255, 255, ...,  40,  42,  45], dtype=uint8), array([255, 255, 255, ...,  40,  44,  47], dtype=uint8), array([255, 255, 255, ...,  29,  28,  28], dtype=uint8), array([255, 255, 255, ...,  29,  28,  28], dtype=uint8), array([82, 86, 90, ..., 42, 44, 46], dtype=uint8), array([82, 86, 90, ..., 42, 44, 46], dtype=uint8), array([82, 86, 90, ..., 42, 44, 46], dtype=uint8), array([58, 56, 58, ..., 68, 69, 66], dtype=uint8), array([58, 56, 58, ..., 68, 69, 66], dtype=uint8), array([54, 52, 52, ..., 57, 60, 62], dtype=uint8), array([187, 192, 200, ...,  57,  62,  68], dtype=uint8), array([187, 192, 200, ...,  57,  62,  68], dtype=uint8), array([187, 192, 200, ...,  57,  62,  68], dtype=uint8), array([49, 47, 48, ..., 17, 16, 16], dtype=uint8), array([160, 160, 166, ...,  47,  42,  39], dtype=uint8), array([65, 65, 61, ..., 59, 60, 62], dtype=uint8), array([149, 145, 146, ...,  37,  36,  37], dtype=uint8), array([255, 255, 255, ...,  79,  79,  83], dtype=uint8), array([255, 255, 255, ...,  79,  79,  83], dtype=uint8), array([48, 48, 39, ..., 38, 39, 44], dtype=uint8), array([212, 255, 255, ...,  34,  39,  53], dtype=uint8), array([255, 255, 255, ...,  40,  41,  45], dtype=uint8), array([254, 255, 254, ...,  33,  35,  39], dtype=uint8), array([152, 119,  85, ...,  59,  60,  65], dtype=uint8), array([225, 253, 255, ...,  42,  42,  33], dtype=uint8), array([225, 253, 255, ...,  42,  42,  33], dtype=uint8), array([225, 253, 255, ...,  42,  42,  33], dtype=uint8), array([49, 46, 44, ..., 52, 56, 50], dtype=uint8), array([117, 125, 136, ...,  39,  40,  42], dtype=uint8), array([255, 255, 255, ...,  88,  90,  96], dtype=uint8), array([255, 255, 255, ...,  88,  90,  96], dtype=uint8), array([255, 255, 255, ...,  88,  90,  96], dtype=uint8), array([72, 66, 45, ..., 37, 33, 34], dtype=uint8), array([245, 250, 253, ...,  32,  33,  36], dtype=uint8), array([236, 255, 255, ...,  31,  31,  26], dtype=uint8), array([230, 255, 255, ...,  79,  85,  88], dtype=uint8), array([242, 240, 240, ...,  25,  30,  26], dtype=uint8), array([237, 255, 255, ...,  46,  46,  47], dtype=uint8), array([187, 208, 244, ...,  43,  40,  38], dtype=uint8), array([68, 66, 48, ..., 53, 57, 48], dtype=uint8), array([68, 66, 48, ..., 53, 57, 48], dtype=uint8), array([68, 66, 48, ..., 53, 57, 48], dtype=uint8), array([42, 37, 32, ..., 39, 39, 40], dtype=uint8), array([226, 252, 255, ...,  43,  40,  33], dtype=uint8), array([226, 252, 255, ...,  43,  40,  33], dtype=uint8), array([226, 252, 255, ...,  43,  40,  33], dtype=uint8), array([226, 252, 255, ...,  43,  40,  33], dtype=uint8), array([255, 255, 255, ...,  48,  46,  41], dtype=uint8), array([238, 242, 246, ...,  66,  74,  82], dtype=uint8), array([255, 255, 255, ...,  50,  51,  54], dtype=uint8), array([255, 255, 255, ...,  50,  51,  54], dtype=uint8), array([255, 255, 255, ...,  50,  51,  54], dtype=uint8), array([76, 77, 62, ..., 79, 79, 82], dtype=uint8), array([132, 145, 150, ...,  63,  67,  72], dtype=uint8), array([255, 255, 255, ...,  41,  38,  35], dtype=uint8), array([255, 255, 255, ...,  41,  38,  35], dtype=uint8), array([119, 115, 112, ...,  55,  56,  56], dtype=uint8), array([61, 56, 51, ..., 39, 36, 33], dtype=uint8), array([61, 56, 51, ..., 39, 36, 33], dtype=uint8), array([57, 56, 49, ..., 61, 63, 64], dtype=uint8), array([252, 254, 255, ...,  77,  77,  81], dtype=uint8), array([255, 255, 255, ...,  39,  41,  43], dtype=uint8), array([255, 255, 255, ...,  39,  40,  44], dtype=uint8), array([255, 255, 255, ...,  39,  40,  44], dtype=uint8), array([96, 94, 81, ..., 50, 53, 55], dtype=uint8), array([96, 94, 81, ..., 50, 53, 55], dtype=uint8), array([95, 85, 67, ..., 46, 46, 48], dtype=uint8), array([255, 255, 255, ...,  25,  25,  27], dtype=uint8), array([255, 255, 255, ...,  25,  25,  27], dtype=uint8), array([255, 255, 255, ...,  25,  25,  27], dtype=uint8), array([250, 250, 248, ...,  55,  58,  63], dtype=uint8), array([166, 163, 163, ...,  62,  65,  70], dtype=uint8), array([255, 255, 255, ...,  50,  53,  57], dtype=uint8), array([255, 255, 255, ...,  50,  53,  57], dtype=uint8), array([255, 255, 255, ...,  50,  53,  57], dtype=uint8), array([255, 255, 255, ...,  50,  53,  57], dtype=uint8), array([101,  94,  77, ...,  57,  61,  67], dtype=uint8), array([237, 233, 226, ...,  53,  55,  59], dtype=uint8), array([65, 61, 48, ..., 72, 80, 92], dtype=uint8), array([255, 255, 255, ...,  32,  36,  40], dtype=uint8), array([255, 255, 255, ...,  45,  45,  43], dtype=uint8), array([255, 255, 255, ...,  45,  45,  43], dtype=uint8), array([255, 255, 255, ...,  32,  32,  26], dtype=uint8), array([230, 234, 240, ...,  75,  78,  77], dtype=uint8), array([255, 255, 255, ..., 113, 111, 107], dtype=uint8), array([91, 90, 90, ..., 60, 56, 47], dtype=uint8), array([91, 90, 90, ..., 60, 56, 47], dtype=uint8), array([91, 90, 90, ..., 60, 56, 47], dtype=uint8), array([255, 255, 255, ...,  44,  43,  43], dtype=uint8), array([255, 255, 255, ...,  44,  43,  43], dtype=uint8), array([216, 215, 221, ...,  49,  42,  39], dtype=uint8), array([255, 255, 255, ...,  42,  48,  36], dtype=uint8), array([209, 218, 220, ...,  42,  39,  37], dtype=uint8), array([89, 86, 82, ..., 22, 22, 23], dtype=uint8), array([249, 252, 254, ...,  45,  45,  46], dtype=uint8), array([249, 252, 254, ...,  45,  45,  46], dtype=uint8), array([249, 252, 254, ...,  45,  45,  46], dtype=uint8), array([255, 255, 255, ...,  33,  29,  27], dtype=uint8), array([230, 237, 242, ...,  45,  44,  44], dtype=uint8), array([68, 58, 55, ..., 56, 53, 49], dtype=uint8), array([68, 58, 55, ..., 56, 53, 49], dtype=uint8), array([118, 122, 125, ...,  38,  37,  37], dtype=uint8), array([118, 122, 125, ...,  38,  37,  37], dtype=uint8), array([118, 122, 125, ...,  38,  37,  37], dtype=uint8), array([201, 205, 213, ...,  68,  69,  64], dtype=uint8), array([48, 44, 40, ..., 76, 59, 49], dtype=uint8), array([48, 44, 40, ..., 76, 59, 49], dtype=uint8), array([254, 253, 252, ...,  24,  24,  27], dtype=uint8), array([111, 113, 111, ...,  45,  45,  45], dtype=uint8), array([111, 113, 111, ...,  45,  45,  45], dtype=uint8), array([111, 113, 111, ...,  45,  45,  45], dtype=uint8), array([111, 113, 111, ...,  45,  45,  45], dtype=uint8), array([57, 55, 49, ..., 48, 45, 36], dtype=uint8), array([38, 37, 35, ..., 30, 29, 29], dtype=uint8), array([38, 37, 35, ..., 30, 29, 29], dtype=uint8), array([103, 104, 101, ...,  45,  46,  47], dtype=uint8), array([124, 121, 102, ...,  36,  37,  40], dtype=uint8), array([124, 121, 102, ...,  36,  37,  40], dtype=uint8), array([150, 161, 168, ...,  55,  62,  69], dtype=uint8), array([204, 214, 221, ...,  32,  32,  33], dtype=uint8), array([204, 214, 221, ...,  32,  32,  33], dtype=uint8), array([204, 214, 221, ...,  32,  32,  33], dtype=uint8), array([204, 214, 221, ...,  32,  32,  33], dtype=uint8), array([204, 214, 221, ...,  32,  32,  33], dtype=uint8), array([36, 35, 34, ..., 76, 78, 71], dtype=uint8), array([102, 101, 107, ...,  72,  74,  74], dtype=uint8), array([206, 203, 206, ...,  14,  13,  13], dtype=uint8), array([206, 203, 206, ...,  14,  13,  13], dtype=uint8), array([92, 91, 87, ..., 17, 15, 16], dtype=uint8), array([92, 91, 87, ..., 17, 15, 16], dtype=uint8), array([255, 255, 255, ...,  94,  79,  64], dtype=uint8), array([255, 255, 255, ...,  33,  33,  35], dtype=uint8), array([255, 255, 255, ...,  33,  33,  35], dtype=uint8), array([255, 255, 255, ...,  33,  33,  35], dtype=uint8), array([255, 255, 255, ...,  61,  64,  65], dtype=uint8), array([255, 255, 255, ...,  61,  64,  65], dtype=uint8), array([255, 255, 255, ...,  64,  66,  66], dtype=uint8), array([255, 255, 255, ...,  56,  56,  54], dtype=uint8), array([255, 255, 255, ...,  56,  56,  54], dtype=uint8), array([116, 124, 130, ...,  61,  50,  44], dtype=uint8), array([81, 76, 76, ..., 49, 39, 34], dtype=uint8), array([247, 248, 248, ...,  20,  20,  21], dtype=uint8), array([247, 248, 248, ...,  20,  20,  21], dtype=uint8), array([92, 80, 69, ..., 67, 66, 51], dtype=uint8), array([89, 90, 94, ..., 73, 75, 74], dtype=uint8), array([217, 221, 224, ...,  76,  73,  67], dtype=uint8), array([250, 250, 251, ...,  37,  34,  32], dtype=uint8), array([105, 113, 120, ...,  58,  57,  56], dtype=uint8), array([105, 113, 120, ...,  58,  57,  56], dtype=uint8), array([105, 113, 120, ...,  58,  57,  56], dtype=uint8), array([255, 255, 255, ...,  94,  94,  93], dtype=uint8), array([247, 251, 253, ...,  83,  81,  79], dtype=uint8), array([253, 253, 252, ...,  55,  52,  51], dtype=uint8), array([119, 120, 126, ..., 109, 109, 106], dtype=uint8), array([168, 174, 188, ...,  50,  52,  54], dtype=uint8), array([168, 174, 188, ...,  50,  52,  54], dtype=uint8), array([168, 174, 188, ...,  50,  52,  54], dtype=uint8), array([255, 255, 255, ...,  79,  86,  87], dtype=uint8), array([255, 255, 255, ...,  79,  86,  87], dtype=uint8), array([159, 168, 181, ...,  70,  72,  69], dtype=uint8), array([61, 60, 59, ..., 65, 66, 65], dtype=uint8), array([61, 60, 59, ..., 65, 66, 65], dtype=uint8), array([61, 60, 59, ..., 65, 66, 65], dtype=uint8), array([255, 255, 255, ...,  36,  36,  37], dtype=uint8), array([241, 244, 249, ...,  50,  50,  49], dtype=uint8), array([255, 255, 255, ...,  52,  51,  49], dtype=uint8), array([255, 255, 255, ...,  42,  42,  41], dtype=uint8), array([255, 255, 255, ...,  42,  42,  41], dtype=uint8), array([255, 255, 255, ...,  43,  43,  42], dtype=uint8), array([255, 255, 255, ...,  43,  43,  42], dtype=uint8), array([255, 255, 255, ...,  28,  28,  23], dtype=uint8), array([255, 255, 255, ...,  28,  28,  23], dtype=uint8), array([255, 255, 255, ...,  28,  28,  23], dtype=uint8), array([180, 184, 192, ...,  66,  65,  62], dtype=uint8), array([255, 255, 255, ...,  37,  37,  37], dtype=uint8), array([232, 236, 250, ...,  24,  26,  19], dtype=uint8), array([232, 236, 250, ...,  24,  26,  19], dtype=uint8), array([229, 236, 249, ...,  22,  21,  19], dtype=uint8), array([193, 196, 204, ...,  33,  34,  34], dtype=uint8), array([193, 196, 204, ...,  33,  34,  34], dtype=uint8), array([255, 255, 255, ...,  49,  47,  45], dtype=uint8), array([255, 255, 255, ...,  49,  47,  45], dtype=uint8), array([238, 242, 250, ...,  35,  35,  35], dtype=uint8), array([238, 242, 250, ...,  35,  35,  35], dtype=uint8), array([240, 247, 253, ...,  36,  33,  32], dtype=uint8), array([240, 247, 253, ...,  36,  33,  32], dtype=uint8), array([255, 255, 255, ...,  25,  25,  25], dtype=uint8), array([255, 255, 255, ...,  25,  25,  25], dtype=uint8), array([237, 248, 254, ...,  42,  41,  39], dtype=uint8), array([255, 255, 255, ...,  38,  38,  38], dtype=uint8), array([255, 255, 255, ...,  38,  38,  38], dtype=uint8), array([179, 180, 170, ...,  55,  55,  43], dtype=uint8), array([247, 248, 251, ...,  37,  35,  35], dtype=uint8), array([247, 248, 251, ...,  37,  35,  35], dtype=uint8), array([208, 207, 210, ..., 197, 219, 242], dtype=uint8), array([88, 85, 80, ..., 48, 47, 47], dtype=uint8), array([88, 85, 80, ..., 48, 47, 47], dtype=uint8), array([62, 63, 63, ..., 46, 46, 47], dtype=uint8), array([255, 255, 255, ...,  36,  37,  38], dtype=uint8), array([195, 196, 201, ...,  41,  42,  44], dtype=uint8), array([195, 196, 201, ...,  41,  42,  44], dtype=uint8), array([100, 105, 108, ...,  37,  38,  38], dtype=uint8), array([100, 105, 108, ...,  37,  38,  38], dtype=uint8), array([179, 181, 187, ..., 146, 146, 143], dtype=uint8), array([157, 159, 161, ...,  75,  57,  50], dtype=uint8), array([124, 115, 103, ...,  68,  66,  63], dtype=uint8), array([153, 159, 166, ...,  36,  35,  33], dtype=uint8), array([153, 159, 166, ...,  36,  35,  33], dtype=uint8), array([255, 255, 255, ...,  36,  36,  36], dtype=uint8), array([160, 160, 161, ..., 159, 158, 149], dtype=uint8), array([160, 160, 161, ..., 159, 158, 149], dtype=uint8), array([160, 160, 161, ..., 159, 158, 149], dtype=uint8), array([246, 252, 255, ...,  43,  40,  38], dtype=uint8), array([246, 252, 255, ...,  43,  40,  38], dtype=uint8), array([246, 252, 255, ...,  43,  40,  38], dtype=uint8), array([255, 255, 255, ...,  53,  53,  51], dtype=uint8), array([168, 168, 168, ...,  28,  28,  29], dtype=uint8), array([168, 168, 168, ...,  28,  28,  29], dtype=uint8), array([255, 255, 255, ...,  40,  39,  39], dtype=uint8), array([188, 188, 190, ...,  79,  80,  81], dtype=uint8), array([194, 197, 205, ...,  51,  52,  50], dtype=uint8), array([194, 197, 205, ...,  51,  52,  50], dtype=uint8), array([194, 197, 205, ...,  51,  52,  50], dtype=uint8), array([255, 255, 255, ...,  28,  28,  29], dtype=uint8), array([255, 255, 255, ...,  28,  28,  29], dtype=uint8), array([225, 225, 228, ...,  61,  57,  52], dtype=uint8), array([225, 225, 228, ...,  61,  57,  52], dtype=uint8), array([244, 253, 255, ...,  26,  25,  25], dtype=uint8), array([230, 206, 151, ...,  45,  45,  44], dtype=uint8), array([52, 52, 52, ..., 55, 56, 55], dtype=uint8), array([52, 52, 52, ..., 55, 56, 55], dtype=uint8), array([255, 255, 255, ...,  33,  34,  35], dtype=uint8), array([255, 255, 255, ...,  33,  34,  35], dtype=uint8), array([255, 255, 255, ...,  36,  33,  31], dtype=uint8), array([103, 104, 106, ...,  31,  30,  29], dtype=uint8), array([103, 104, 106, ...,  31,  30,  29], dtype=uint8), array([255, 255, 255, ..., 115, 113, 105], dtype=uint8), array([175, 172, 173, ...,  40,  40,  40], dtype=uint8), array([175, 172, 173, ...,  40,  40,  40], dtype=uint8), array([254, 255, 255, ...,  54,  52,  49], dtype=uint8), array([254, 255, 255, ...,  54,  52,  49], dtype=uint8), array([255, 255, 255, ...,  30,  30,  29], dtype=uint8), array([222, 255, 255, ...,  27,  26,  22], dtype=uint8), array([77, 79, 74, ..., 42, 44, 46], dtype=uint8), array([77, 79, 74, ..., 42, 44, 46], dtype=uint8), array([70, 66, 62, ..., 44, 46, 46], dtype=uint8), array([255, 255, 255, ...,  32,  33,  33], dtype=uint8), array([109, 107, 107, ...,  75,  78,  80], dtype=uint8), array([247, 251, 254, ...,  28,  28,  29], dtype=uint8), array([247, 251, 254, ...,  28,  28,  29], dtype=uint8), array([255, 255, 255, ...,  37,  36,  36], dtype=uint8), array([255, 255, 255, ...,  37,  36,  36], dtype=uint8), array([255, 255, 255, ...,  37,  37,  38], dtype=uint8), array([239, 239, 247, ...,  31,  31,  31], dtype=uint8), array([208, 209, 219, ..., 108, 106, 100], dtype=uint8), array([208, 209, 219, ..., 108, 106, 100], dtype=uint8), array([241, 239, 245, ..., 100,  98,  93], dtype=uint8), array([241, 239, 245, ..., 100,  98,  93], dtype=uint8), array([193, 193, 198, ...,  45,  46,  45], dtype=uint8), array([193, 193, 198, ...,  45,  46,  45], dtype=uint8), array([201, 200, 206, ...,  49,  49,  48], dtype=uint8), array([201, 200, 206, ...,  49,  49,  48], dtype=uint8), array([255, 255, 255, ...,  23,  22,  23], dtype=uint8), array([255, 255, 255, ...,  23,  22,  23], dtype=uint8), array([255, 255, 255, ...,  28,  28,  28], dtype=uint8), array([255, 255, 255, ...,  28,  28,  28], dtype=uint8), array([132, 129, 130, ...,  42,  43,  42], dtype=uint8), array([132, 129, 130, ...,  42,  43,  42], dtype=uint8), array([132, 129, 130, ...,  42,  43,  42], dtype=uint8), array([64, 61, 54, ..., 23, 22, 22], dtype=uint8), array([255, 255, 255, ...,  39,  37,  35], dtype=uint8), array([255, 255, 255, ...,  39,  37,  35], dtype=uint8), array([235, 236, 239, ...,  29,  27,  26], dtype=uint8), array([235, 236, 239, ...,  29,  27,  26], dtype=uint8), array([145, 147, 152, ...,  47,  44,  40], dtype=uint8), array([131, 131, 137, ...,  44,  44,  43], dtype=uint8), array([248, 249, 252, ...,  52,  52,  54], dtype=uint8), array([225, 227, 232, ...,  89,  86,  83], dtype=uint8), array([225, 227, 232, ...,  89,  86,  83], dtype=uint8), array([255, 255, 255, ..., 113, 109, 103], dtype=uint8), array([255, 255, 255, ..., 113, 109, 103], dtype=uint8), array([162, 167, 181, ...,  45,  46,  48], dtype=uint8), array([162, 167, 181, ...,  45,  46,  48], dtype=uint8), array([162, 167, 181, ...,  45,  46,  48], dtype=uint8), array([162, 167, 181, ...,  45,  46,  48], dtype=uint8), array([254, 255, 255, ...,  76,  77,  72], dtype=uint8), array([254, 255, 255, ...,  76,  77,  72], dtype=uint8), array([255, 255, 255, ...,  26,  26,  27], dtype=uint8), array([255, 255, 255, ...,  26,  26,  27], dtype=uint8), array([201, 212, 224, ...,  23,  22,  22], dtype=uint8), array([201, 212, 224, ...,  23,  22,  22], dtype=uint8), array([210, 225, 242, ...,  24,  23,  23], dtype=uint8), array([210, 225, 242, ...,  24,  23,  23], dtype=uint8), array([210, 225, 242, ...,  24,  23,  23], dtype=uint8), array([211, 223, 239, ...,  24,  24,  24], dtype=uint8), array([255, 255, 255, ...,  23,  23,  23], dtype=uint8), array([255, 255, 255, ...,  23,  23,  23], dtype=uint8), array([145, 154, 167, ...,  28,  28,  28], dtype=uint8), array([145, 154, 167, ...,  28,  28,  28], dtype=uint8), array([221, 223, 229, ...,  95, 101, 102], dtype=uint8), array([221, 223, 229, ...,  95, 101, 102], dtype=uint8), array([221, 223, 229, ...,  95, 101, 102], dtype=uint8), array([221, 223, 229, ...,  95, 101, 102], dtype=uint8), array([175, 183, 194, ...,  28,  28,  29], dtype=uint8), array([255, 255, 255, ...,  77,  75,  70], dtype=uint8), array([255, 255, 255, ...,  77,  75,  70], dtype=uint8), array([73, 68, 66, ..., 81, 80, 78], dtype=uint8), array([73, 68, 66, ..., 81, 80, 78], dtype=uint8), array([255, 255, 255, ...,  43,  40,  38], dtype=uint8), array([255, 255, 255, ...,  43,  40,  38], dtype=uint8), array([224, 228, 242, ...,  47,  46,  46], dtype=uint8), array([224, 228, 242, ...,  47,  46,  46], dtype=uint8), array([255, 255, 255, ...,  37,  37,  37], dtype=uint8), array([255, 255, 255, ...,  37,  37,  37], dtype=uint8), array([129, 129,  95, ..., 175, 167, 181], dtype=uint8), array([79, 79, 79, ..., 69, 71, 80], dtype=uint8), array([79, 79, 79, ..., 69, 71, 80], dtype=uint8), array([91, 93, 93, ..., 62, 65, 68], dtype=uint8), array([91, 93, 93, ..., 62, 65, 68], dtype=uint8), array([255, 255, 255, ...,  28,  29,  31], dtype=uint8), array([26, 24, 24, ..., 37, 37, 37], dtype=uint8), array([26, 24, 24, ..., 37, 37, 37], dtype=uint8), array([26, 24, 24, ..., 37, 37, 37], dtype=uint8), array([26, 24, 24, ..., 37, 37, 37], dtype=uint8), array([255, 255, 255, ...,  24,  25,  28], dtype=uint8), array([255, 255, 255, ...,  24,  25,  28], dtype=uint8), array([240, 240, 243, ...,  32,  35,  42], dtype=uint8), array([240, 240, 243, ...,  32,  35,  42], dtype=uint8), array([240, 240, 243, ...,  32,  35,  42], dtype=uint8), array([255, 255, 255, ...,  30,  29,  30], dtype=uint8), array([ 94,  99, 121, ...,  19,  19,  20], dtype=uint8), array([ 94,  99, 121, ...,  19,  19,  20], dtype=uint8), array([ 99, 107, 120, ...,  27,  27,  29], dtype=uint8), array([169, 224, 254, ...,  48,  48,  52], dtype=uint8), array([169, 224, 254, ...,  48,  48,  52], dtype=uint8), array([255, 255, 255, ...,  32,  33,  36], dtype=uint8), array([143, 190, 253, ...,  22,  23,  24], dtype=uint8), array([142, 189, 253, ...,  23,  26,  33], dtype=uint8), array([142, 189, 253, ...,  23,  26,  33], dtype=uint8), array([255, 255, 255, ...,  24,  29,  37], dtype=uint8), array([255, 255, 255, ...,  24,  29,  37], dtype=uint8), array([139, 195, 253, ...,  22,  25,  32], dtype=uint8), array([186, 239, 254, ...,  24,  27,  35], dtype=uint8), array([186, 239, 254, ...,  24,  27,  35], dtype=uint8), array([181, 252, 254, ...,  24,  28,  36], dtype=uint8), array([181, 252, 254, ...,  24,  28,  36], dtype=uint8), array([218, 253, 255, ...,  23,  25,  31], dtype=uint8), array([179, 215, 253, ...,  23,  25,  31], dtype=uint8), array([179, 215, 253, ...,  23,  25,  31], dtype=uint8), array([236, 255, 255, ...,  23,  26,  33], dtype=uint8), array([236, 255, 255, ...,  23,  26,  33], dtype=uint8), array([143, 202, 253, ...,  24,  27,  35], dtype=uint8), array([127, 181, 253, ...,  42,  50,  62], dtype=uint8), array([127, 181, 253, ...,  42,  50,  62], dtype=uint8), array([144, 207, 253, ...,  21,  24,  31], dtype=uint8), array([144, 207, 253, ...,  21,  24,  31], dtype=uint8), array([147, 212, 253, ...,  12,  11,  14], dtype=uint8), array([132, 191, 253, ...,  12,  12,  15], dtype=uint8), array([132, 191, 253, ...,  12,  12,  15], dtype=uint8), array([255, 255, 255, ...,  33,  40,  55], dtype=uint8), array([255, 255, 255, ...,  33,  40,  55], dtype=uint8), array([255, 255, 255, ...,  33,  40,  55], dtype=uint8), array([255, 255, 255, ...,  33,  40,  55], dtype=uint8), array([128, 179, 253, ...,  26,  29,  37], dtype=uint8), array([128, 179, 253, ...,  26,  29,  37], dtype=uint8), array([128, 179, 253, ...,  26,  29,  37], dtype=uint8), array([128, 179, 253, ...,  26,  29,  37], dtype=uint8), array([165, 217, 254, ...,  24,  28,  36], dtype=uint8), array([165, 217, 254, ...,  24,  28,  36], dtype=uint8), array([253, 255, 255, ...,  46,  55,  70], dtype=uint8), array([253, 255, 255, ...,  46,  55,  70], dtype=uint8), array([253, 255, 255, ...,  46,  55,  70], dtype=uint8), array([253, 255, 255, ...,  46,  55,  70], dtype=uint8), array([176, 206, 253, ...,  63,  71,  84], dtype=uint8), array([176, 206, 253, ...,  63,  71,  84], dtype=uint8), array([176, 206, 253, ...,  63,  71,  84], dtype=uint8), array([176, 206, 253, ...,  63,  71,  84], dtype=uint8), array([180, 200, 245, ...,  39,  41,  46], dtype=uint8), array([237, 250, 253, ...,  28,  31,  27], dtype=uint8), array([189, 213, 253, ...,  21,  21,  23], dtype=uint8), array([189, 213, 253, ...,  21,  21,  23], dtype=uint8), array([128, 145, 176, ...,  21,  21,  24], dtype=uint8), array([128, 145, 176, ...,  21,  21,  24], dtype=uint8), array([229, 254, 255, ...,  18,  19,  18], dtype=uint8), array([145, 167, 206, ...,  29,  30,  34], dtype=uint8), array([145, 167, 206, ...,  29,  30,  34], dtype=uint8), array([233, 254, 255, ...,  38,  39,  43], dtype=uint8), array([233, 254, 255, ...,  38,  39,  43], dtype=uint8), array([233, 254, 255, ...,  38,  39,  43], dtype=uint8), array([233, 254, 255, ...,  38,  39,  43], dtype=uint8), array([134, 152, 186, ...,  21,  22,  26], dtype=uint8), array([134, 152, 186, ...,  21,  22,  26], dtype=uint8), array([171, 195, 241, ...,  37,  41,  48], dtype=uint8), array([171, 195, 241, ...,  37,  41,  48], dtype=uint8), array([171, 195, 241, ...,  37,  41,  48], dtype=uint8), array([171, 195, 241, ...,  37,  41,  48], dtype=uint8), array([137, 157, 195, ...,  24,  25,  29], dtype=uint8), array([137, 157, 195, ...,  24,  25,  29], dtype=uint8), array([137, 157, 195, ...,  24,  25,  29], dtype=uint8), array([137, 157, 195, ...,  24,  25,  29], dtype=uint8), array([207, 235, 254, ...,  28,  29,  34], dtype=uint8), array([207, 235, 254, ...,  28,  29,  34], dtype=uint8), array([207, 235, 254, ...,  28,  29,  34], dtype=uint8), array([207, 235, 254, ...,  28,  29,  34], dtype=uint8), array([195, 226, 254, ...,  30,  32,  37], dtype=uint8), array([195, 226, 254, ...,  30,  32,  37], dtype=uint8), array([192, 227, 254, ...,  34,  36,  41], dtype=uint8), array([192, 227, 254, ...,  34,  36,  41], dtype=uint8), array([192, 219, 254, ...,  31,  33,  38], dtype=uint8), array([192, 219, 254, ...,  31,  33,  38], dtype=uint8), array([255, 255, 255, ...,  28,  29,  33], dtype=uint8), array([255, 255, 255, ...,  28,  29,  33], dtype=uint8), array([210, 239, 254, ...,  32,  34,  40], dtype=uint8), array([210, 239, 254, ...,  32,  34,  40], dtype=uint8), array([142, 160, 197, ...,  23,  24,  22], dtype=uint8), array([112, 128, 154, ...,  39,  41,  47], dtype=uint8), array([112, 128, 154, ...,  39,  41,  47], dtype=uint8), array([161, 181, 216, ...,  34,  36,  40], dtype=uint8), array([161, 181, 216, ...,  34,  36,  40], dtype=uint8), array([104, 120, 146, ...,  35,  37,  41], dtype=uint8), array([75, 83, 94, ..., 18, 18, 21], dtype=uint8), array([175, 201, 253, ...,  26,  27,  31], dtype=uint8), array([175, 201, 253, ...,  26,  27,  31], dtype=uint8), array([255, 255, 255, ...,  44,  44,  48], dtype=uint8), array([255, 255, 255, ...,  44,  44,  48], dtype=uint8), array([52, 53, 58, ..., 20, 21, 24], dtype=uint8), array([52, 53, 58, ..., 20, 21, 24], dtype=uint8), array([255, 255, 255, ...,  21,  22,  22], dtype=uint8), array([255, 255, 255, ...,  21,  22,  22], dtype=uint8), array([255, 255, 255, ...,  21,  22,  22], dtype=uint8), array([58, 64, 74, ..., 42, 44, 49], dtype=uint8), array([144, 165, 206, ...,  49,  53,  59], dtype=uint8), array([144, 165, 206, ...,  49,  53,  59], dtype=uint8), array([184, 212, 254, ...,  15,  15,  18], dtype=uint8), array([141, 155, 183, ...,  31,  34,  40], dtype=uint8), array([141, 155, 183, ...,  31,  34,  40], dtype=uint8), array([141, 155, 183, ...,  31,  34,  40], dtype=uint8), array([141, 155, 183, ...,  31,  34,  40], dtype=uint8), array([128, 148, 187, ...,  18,  19,  22], dtype=uint8), array([128, 148, 187, ...,  18,  19,  22], dtype=uint8), array([62, 68, 79, ..., 22, 23, 27], dtype=uint8), array([62, 68, 79, ..., 22, 23, 27], dtype=uint8), array([62, 68, 79, ..., 22, 23, 27], dtype=uint8), array([110, 128, 160, ...,  30,  31,  36], dtype=uint8), array([110, 128, 160, ...,  30,  31,  36], dtype=uint8), array([110, 128, 160, ...,  30,  31,  36], dtype=uint8), array([110, 128, 160, ...,  30,  31,  36], dtype=uint8), array([108, 124, 153, ...,  26,  28,  33], dtype=uint8), array([108, 124, 153, ...,  26,  28,  33], dtype=uint8), array([255, 255, 255, ...,  58,  67,  79], dtype=uint8), array([240, 255, 255, ...,  35,  37,  41], dtype=uint8), array([240, 255, 255, ...,  35,  37,  41], dtype=uint8), array([240, 255, 255, ...,  35,  37,  41], dtype=uint8), array([255, 255, 255, ...,  34,  35,  39], dtype=uint8), array([235, 255, 255, ...,  32,  32,  36], dtype=uint8), array([122, 141, 172, ...,  15,  14,  17], dtype=uint8), array([ 92, 106, 128, ...,  14,  14,  16], dtype=uint8), array([109, 123, 147, ...,  29,  30,  33], dtype=uint8), array([133, 149, 177, ...,  19,  18,  21], dtype=uint8), array([190, 223, 254, ...,  30,  30,  33], dtype=uint8), array([190, 223, 254, ...,  30,  30,  33], dtype=uint8), array([213, 246, 254, ...,  25,  28,  34], dtype=uint8), array([185, 217, 253, ...,  24,  26,  31], dtype=uint8), array([185, 217, 253, ...,  24,  26,  31], dtype=uint8), array([145, 197, 253, ...,  16,  16,  19], dtype=uint8), array([123, 163, 238, ...,  24,  27,  34], dtype=uint8), array([119, 166, 252, ...,  25,  28,  36], dtype=uint8), array([119, 166, 252, ...,  25,  28,  36], dtype=uint8), array([101, 136, 200, ...,  23,  24,  29], dtype=uint8), array([101, 136, 200, ...,  23,  24,  29], dtype=uint8), array([101, 136, 200, ...,  23,  24,  29], dtype=uint8), array([101, 136, 200, ...,  23,  24,  29], dtype=uint8), array([100, 133, 193, ...,  21,  23,  28], dtype=uint8), array([103, 135, 193, ...,  38,  40,  45], dtype=uint8), array([171, 216, 254, ...,  22,  25,  31], dtype=uint8), array([171, 216, 254, ...,  22,  25,  31], dtype=uint8), array([255, 255, 255, ...,  21,  20,  21], dtype=uint8), array([117, 159, 235, ...,  39,  41,  45], dtype=uint8), array([117, 159, 235, ...,  39,  41,  45], dtype=uint8), array([173, 225, 254, ...,  43,  45,  49], dtype=uint8), array([173, 225, 254, ...,  43,  45,  49], dtype=uint8), array([138, 189, 253, ...,  39,  36,  34], dtype=uint8), array([187, 242, 254, ...,  24,  26,  32], dtype=uint8), array([204, 254, 255, ...,  23,  25,  31], dtype=uint8), array([111, 155, 236, ...,  55,  49,  45], dtype=uint8), array([144, 196, 253, ...,  27,  29,  34], dtype=uint8), array([144, 196, 253, ...,  27,  29,  34], dtype=uint8), array([153, 202, 253, ...,  39,  41,  45], dtype=uint8), array([153, 203, 253, ...,  30,  31,  36], dtype=uint8), array([176, 234, 254, ...,  38,  43,  51], dtype=uint8), array([188, 232, 253, ...,  33,  34,  36], dtype=uint8), array([188, 232, 253, ...,  33,  34,  36], dtype=uint8), array([188, 232, 253, ...,  33,  34,  36], dtype=uint8), array([188, 232, 253, ...,  33,  34,  36], dtype=uint8), array([171, 212, 253, ...,  33,  33,  36], dtype=uint8), array([171, 212, 253, ...,  33,  33,  36], dtype=uint8), array([171, 212, 253, ...,  33,  33,  36], dtype=uint8), array([171, 212, 253, ...,  33,  33,  36], dtype=uint8), array([144, 189, 253, ...,  43,  43,  44], dtype=uint8), array([144, 189, 253, ...,  43,  43,  44], dtype=uint8), array([124, 151, 186, ...,  84,  81,  74], dtype=uint8), array([124, 151, 186, ...,  84,  81,  74], dtype=uint8), array([124, 151, 186, ...,  84,  81,  74], dtype=uint8), array([231, 255, 255, ...,  23,  25,  27], dtype=uint8), array([160, 214, 253, ...,  61,  65,  71], dtype=uint8), array([103, 131, 182, ...,  18,  17,  21], dtype=uint8), array([103, 131, 182, ...,  18,  17,  21], dtype=uint8), array([124, 151, 201, ...,  23,  23,  27], dtype=uint8), array([ 90, 112, 144, ...,  24,  26,  27], dtype=uint8), array([35, 35, 37, ..., 29, 30, 33], dtype=uint8), array([225, 244, 255, ...,  24,  25,  29], dtype=uint8), array([225, 244, 255, ...,  24,  25,  29], dtype=uint8), array([225, 244, 255, ...,  24,  25,  29], dtype=uint8), array([145, 192, 253, ...,  28,  30,  37], dtype=uint8), array([255, 255, 255, ...,  35,  39,  48], dtype=uint8), array([133, 154, 192, ...,  29,  32,  39], dtype=uint8), array([133, 154, 192, ...,  29,  32,  39], dtype=uint8), array([232, 255, 255, ...,  38,  40,  44], dtype=uint8), array([103, 106, 116, ...,  24,  26,  33], dtype=uint8), array([103, 106, 116, ...,  24,  26,  33], dtype=uint8), array([255, 255, 255, ...,  26,  28,  33], dtype=uint8), array([255, 255, 255, ...,  26,  28,  33], dtype=uint8), array([255, 255, 255, ...,  36,  40,  48], dtype=uint8), array([43, 42, 43, ..., 71, 76, 85], dtype=uint8), array([104, 115, 131, ..., 202, 162,  65], dtype=uint8), array([137, 138, 144, ...,  19,  19,  23], dtype=uint8), array([137, 138, 144, ...,  19,  19,  23], dtype=uint8), array([137, 138, 144, ...,  19,  19,  23], dtype=uint8), array([137, 138, 144, ...,  19,  19,  23], dtype=uint8), array([159, 201, 233, ...,  27,  30,  37], dtype=uint8), array([175, 222, 253, ...,  28,  31,  37], dtype=uint8), array([183, 255, 255, ...,  71,  70,  72], dtype=uint8), array([183, 255, 255, ...,  71,  70,  72], dtype=uint8), array([183, 255, 255, ...,  71,  70,  72], dtype=uint8), array([167, 242, 254, ...,  72,  71,  70], dtype=uint8), array([135, 114, 105, ...,  27,  28,  29], dtype=uint8), array([152, 199, 253, ...,  60,  67,  75], dtype=uint8), array([152, 199, 253, ...,  60,  67,  75], dtype=uint8), array([153, 198, 253, ...,  61,  67,  76], dtype=uint8), array([153, 198, 253, ...,  61,  67,  76], dtype=uint8), array([122, 162, 243, ...,  47,  53,  64], dtype=uint8), array([111, 147, 217, ...,  49,  54,  63], dtype=uint8), array([111, 147, 217, ...,  49,  54,  63], dtype=uint8), array([113, 147, 214, ...,  49,  54,  63], dtype=uint8), array([225, 230, 235, ...,  32,  34,  39], dtype=uint8), array([225, 230, 235, ...,  32,  34,  39], dtype=uint8), array([172, 221, 254, ...,  39,  42,  44], dtype=uint8), array([172, 221, 254, ...,  39,  42,  44], dtype=uint8), array([132, 176, 253, ...,  75,  77,  81], dtype=uint8), array([121, 159, 236, ...,  64,  67,  74], dtype=uint8), array([159, 202, 253, ...,  44,  49,  58], dtype=uint8), array([159, 202, 253, ...,  44,  49,  58], dtype=uint8), array([159, 202, 253, ...,  44,  49,  58], dtype=uint8), array([159, 202, 253, ...,  44,  49,  58], dtype=uint8), array([160, 206, 254, ...,  62,  64,  70], dtype=uint8), array([160, 206, 254, ...,  62,  64,  70], dtype=uint8), array([245, 255, 255, ...,  36,  38,  46], dtype=uint8), array([245, 255, 255, ...,  36,  38,  46], dtype=uint8), array([182, 226, 254, ...,  30,  34,  42], dtype=uint8), array([189, 230, 254, ...,  30,  34,  42], dtype=uint8), array([167, 225, 254, ...,  41,  45,  50], dtype=uint8), array([117, 156, 233, ...,  19,  19,  22], dtype=uint8), array([101, 131, 189, ...,  51,  54,  50], dtype=uint8), array([101, 131, 189, ...,  51,  54,  50], dtype=uint8), array([101, 131, 189, ...,  51,  54,  50], dtype=uint8), array([190, 213, 252, ..., 114, 115, 126], dtype=uint8), array([106, 137, 196, ...,  71,  77,  86], dtype=uint8), array([109, 115, 121, ...,  20,  17,  21], dtype=uint8), array([76, 77, 79, ..., 50, 49, 51], dtype=uint8), array([148, 198, 253, ...,  41,  47,  58], dtype=uint8), array([148, 198, 253, ...,  41,  47,  58], dtype=uint8), array([165, 204, 253, ...,  33,  33,  40], dtype=uint8), array([207, 247, 254, ...,  25,  27,  31], dtype=uint8), array([207, 247, 254, ...,  25,  27,  31], dtype=uint8), array([254, 255, 255, ...,  21,  22,  25], dtype=uint8), array([255, 255, 255, ...,  20,  21,  25], dtype=uint8), array([133, 192, 254, ...,  41,  47,  56], dtype=uint8), array([133, 192, 254, ...,  41,  47,  56], dtype=uint8), array([133, 192, 254, ...,  41,  47,  56], dtype=uint8), array([133, 192, 254, ...,  41,  47,  56], dtype=uint8), array([150, 221, 254, ...,  36,  42,  52], dtype=uint8), array([150, 221, 254, ...,  36,  42,  52], dtype=uint8), array([150, 221, 254, ...,  36,  42,  52], dtype=uint8), array([132, 181, 225, ...,  63,  75,  93], dtype=uint8), array([230, 252, 255, ...,  22,  22,  26], dtype=uint8), array([229, 241, 248, ...,  15,  14,  17], dtype=uint8), array([174, 249, 254, ...,  41,  45,  54], dtype=uint8), array([174, 249, 254, ...,  41,  45,  54], dtype=uint8), array([179, 254, 255, ...,  38,  43,  55], dtype=uint8), array([44, 55, 75, ..., 39, 43, 52], dtype=uint8), array([210, 255, 255, ...,  28,  31,  39], dtype=uint8), array([210, 255, 255, ...,  28,  31,  39], dtype=uint8), array([245, 255, 255, ...,  18,  18,  21], dtype=uint8), array([255, 255, 255, ...,  20,  20,  23], dtype=uint8), array([255, 255, 255, ...,  20,  20,  23], dtype=uint8), array([182, 224, 254, ...,  30,  33,  40], dtype=uint8), array([178, 219, 252, ...,  19,  20,  24], dtype=uint8), array([255, 255, 255, ...,  24,  26,  31], dtype=uint8), array([255, 255, 255, ...,  29,  31,  36], dtype=uint8), array([255, 255, 255, ...,  22,  22,  27], dtype=uint8), array([255, 255, 255, ...,  38,  34,  39], dtype=uint8), array([156, 203, 253, ...,  43,  46,  54], dtype=uint8), array([156, 203, 253, ...,  43,  46,  54], dtype=uint8), array([170, 214, 253, ...,  35,  39,  46], dtype=uint8), array([170, 214, 253, ...,  35,  39,  46], dtype=uint8), array([181, 234, 254, ...,  66,  72,  80], dtype=uint8), array([181, 234, 254, ...,  66,  72,  80], dtype=uint8), array([255, 255, 255, ...,  34,  33,  32], dtype=uint8), array([255, 255, 255, ...,  34,  33,  32], dtype=uint8), array([255, 255, 255, ...,  59,  60,  59], dtype=uint8), array([255, 255, 255, ...,  59,  60,  59], dtype=uint8), array([246, 248, 253, ...,  61,  60,  57], dtype=uint8), array([246, 248, 253, ...,  61,  60,  57], dtype=uint8), array([255, 255, 255, ...,  34,  33,  33], dtype=uint8), array([255, 255, 255, ...,  34,  33,  33], dtype=uint8), array([63, 59, 50, ..., 34, 37, 41], dtype=uint8), array([63, 59, 50, ..., 34, 37, 41], dtype=uint8), array([63, 59, 50, ..., 34, 37, 41], dtype=uint8), array([107,  94,  83, ...,  50,  53,  61], dtype=uint8), array([89, 82, 79, ..., 60, 65, 68], dtype=uint8), array([89, 82, 79, ..., 60, 65, 68], dtype=uint8), array([89, 82, 79, ..., 60, 65, 68], dtype=uint8), array([255, 255, 255, ...,  50,  50,  49], dtype=uint8), array([255, 255, 255, ...,  83,  82,  78], dtype=uint8), array([255, 255, 255, ...,  83,  82,  78], dtype=uint8), array([255, 255, 255, ...,  32,  33,  34], dtype=uint8), array([255, 255, 255, ...,  20,  20,  21], dtype=uint8), array([255, 255, 255, ...,  20,  20,  21], dtype=uint8), array([255, 255, 255, ...,  20,  20,  21], dtype=uint8), array([255, 255, 255, ...,  20,  20,  21], dtype=uint8), array([255, 255, 255, ...,  19,  19,  20], dtype=uint8), array([251, 252, 253, ..., 123, 130, 136], dtype=uint8), array([255, 255, 255, ...,  83,  87,  90], dtype=uint8), array([255, 255, 255, ...,  83,  87,  90], dtype=uint8), array([255, 255, 255, ...,  42,  42,  33], dtype=uint8), array([144, 150, 155, ...,  32,  33,  34], dtype=uint8), array([197, 224, 254, ...,  17,  16,  17], dtype=uint8), array([95, 84, 59, ..., 62, 67, 53], dtype=uint8), array([95, 84, 59, ..., 62, 67, 53], dtype=uint8), array([95, 84, 59, ..., 62, 67, 53], dtype=uint8), array([253, 254, 254, ...,  51,  52,  55], dtype=uint8), array([57, 55, 44, ..., 52, 52, 54], dtype=uint8), array([114, 107,  81, ...,  57,  58,  60], dtype=uint8), array([224, 229, 234, ...,  76,  62,  53], dtype=uint8), array([129, 120, 110, ..., 116,  93,  85], dtype=uint8), array([60, 59, 64, ..., 36, 41, 48], dtype=uint8), array([151, 203, 252, ...,  46,  49,  55], dtype=uint8), array([133, 181, 253, ...,  38,  38,  43], dtype=uint8), array([133, 181, 253, ...,  38,  38,  43], dtype=uint8), array([138, 185, 253, ...,  40,  40,  44], dtype=uint8), array([170, 193, 240, ...,  40,  41,  48], dtype=uint8), array([197, 244, 254, ...,  49,  46,  46], dtype=uint8), array([197, 244, 254, ...,  49,  46,  46], dtype=uint8), array([255, 255, 255, ...,  28,  29,  26], dtype=uint8), array([157, 168, 180, ...,  64,  65,  69], dtype=uint8), array([186, 240, 254, ...,  32,  35,  33], dtype=uint8), array([166, 206, 214, ...,  58,  56,  57], dtype=uint8), array([166, 206, 214, ...,  58,  56,  57], dtype=uint8), array([194, 255, 255, ...,  46,  51,  61], dtype=uint8), array([194, 255, 255, ...,  46,  51,  61], dtype=uint8), array([221, 255, 255, ...,  35,  33,  35], dtype=uint8), array([221, 255, 255, ...,  35,  33,  35], dtype=uint8), array([214, 252, 255, ...,  51,  53,  56], dtype=uint8), array([214, 252, 255, ...,  51,  53,  56], dtype=uint8), array([163, 204, 253, ...,  73,  70,  69], dtype=uint8), array([163, 204, 253, ...,  73,  70,  69], dtype=uint8), array([208, 255, 255, ...,  33,  34,  37], dtype=uint8), array([208, 255, 255, ...,  33,  34,  37], dtype=uint8), array([208, 255, 255, ...,  33,  34,  37], dtype=uint8), array([208, 255, 255, ...,  33,  34,  37], dtype=uint8), array([144, 192, 253, ...,  48,  49,  52], dtype=uint8), array([144, 192, 253, ...,  48,  49,  52], dtype=uint8), array([124, 132, 141, ...,  50,  51,  53], dtype=uint8), array([178, 242, 254, ..., 150, 128, 103], dtype=uint8), array([185, 253, 255, ..., 154, 160, 115], dtype=uint8), array([ 70,  70,  63, ..., 221, 202, 194], dtype=uint8), array([159, 199, 253, ...,  29,  29,  28], dtype=uint8), array([125, 159, 218, ..., 118,  95,  76], dtype=uint8), array([125, 159, 218, ..., 118,  95,  76], dtype=uint8), array([109, 114, 117, ..., 255, 255, 252], dtype=uint8), array([115, 116, 115, ...,  66,  59,  52], dtype=uint8), array([115, 116, 115, ...,  66,  59,  52], dtype=uint8), array([207, 220, 238, ...,  28,  27,  21], dtype=uint8), array([255, 255, 255, ...,  50,  47,  46], dtype=uint8), array([177, 197, 229, ...,  47,  44,  42], dtype=uint8), array([177, 197, 229, ...,  47,  44,  42], dtype=uint8), array([255, 255, 255, ...,  45,  44,  44], dtype=uint8), array([ 77,  75,  75, ..., 100, 109, 117], dtype=uint8), array([180, 224, 253, ..., 249, 240, 236], dtype=uint8), array([255, 255, 255, ..., 251, 238, 208], dtype=uint8), array([190, 196, 189, ...,  35,  32,  34], dtype=uint8), array([126, 120, 120, ..., 108,  83,  65], dtype=uint8), array([153, 173, 225, ...,  39,  34,  35], dtype=uint8), array([167, 221, 253, ..., 209, 162, 124], dtype=uint8), array([167, 221, 253, ..., 209, 162, 124], dtype=uint8), array([166, 217, 253, ..., 105,  94,  89], dtype=uint8), array([190, 181, 117, ...,  32,  35,  43], dtype=uint8), array([190, 181, 117, ...,  32,  35,  43], dtype=uint8), array([132, 123,  67, ..., 221, 174, 150], dtype=uint8), array([245, 224, 198, ...,  96,  84,  81], dtype=uint8), array([102,  76,  79, ...,  39,  38,  44], dtype=uint8), array([102,  76,  79, ...,  39,  38,  44], dtype=uint8), array([101,  87,  55, ..., 220, 170, 148], dtype=uint8), array([123, 130, 135, ...,  73,  81,  98], dtype=uint8), array([176, 164,  97, ...,  50,  46,  48], dtype=uint8), array([255, 255, 255, ...,  40,  33,  31], dtype=uint8), array([255, 255, 255, ...,  40,  33,  31], dtype=uint8), array([133, 123, 122, ...,  35,  29,  28], dtype=uint8), array([133, 123, 122, ...,  35,  29,  28], dtype=uint8), array([250, 254, 254, ...,  25,  24,  28], dtype=uint8), array([250, 254, 254, ...,  25,  24,  28], dtype=uint8), array([120, 118, 112, ...,  32,  32,  39], dtype=uint8), array([246, 249, 252, ...,  29,  31,  38], dtype=uint8), array([246, 249, 252, ...,  29,  31,  38], dtype=uint8), array([255, 255, 255, ...,  39,  39,  45], dtype=uint8), array([254, 254, 255, ...,  35,  36,  45], dtype=uint8), array([255, 255, 255, ...,  43,  45,  41], dtype=uint8), array([ 97,  91,  74, ..., 115, 116,  89], dtype=uint8), array([73, 68, 60, ..., 48, 52, 61], dtype=uint8), array([180, 177, 143, ...,  32,  36,  38], dtype=uint8), array([166, 167, 139, ...,  36,  37,  43], dtype=uint8), array([255, 255, 255, ...,  45,  49,  54], dtype=uint8), array([163, 172, 189, ...,  29,  32,  38], dtype=uint8), array([163, 172, 189, ...,  29,  32,  38], dtype=uint8), array([225, 226, 200, ...,  74,  68,  68], dtype=uint8), array([225, 226, 200, ...,  74,  68,  68], dtype=uint8), array([114, 144, 171, ..., 134, 131, 130], dtype=uint8), array([ 87,  90,  79, ..., 222, 209, 207], dtype=uint8), array([ 87,  90,  79, ..., 222, 209, 207], dtype=uint8), array([246, 255, 255, ..., 255, 255, 255], dtype=uint8), array([ 74,  74,  72, ..., 255, 255, 255], dtype=uint8), array([206, 216, 232, ..., 255, 255, 255], dtype=uint8), array([206, 216, 232, ..., 255, 255, 255], dtype=uint8), array([63, 67, 61, ..., 75, 81, 94], dtype=uint8), array([63, 67, 61, ..., 75, 81, 94], dtype=uint8), array([199, 255, 255, ...,  47,  43,  42], dtype=uint8), array([149, 152, 152, ...,  40,  47,  53], dtype=uint8), array([112, 128, 147, ..., 122, 115, 112], dtype=uint8), array([112, 128, 147, ..., 122, 115, 112], dtype=uint8), array([112, 128, 147, ..., 122, 115, 112], dtype=uint8), array([255, 255, 255, ...,  62,  60,  58], dtype=uint8), array([79, 81, 77, ..., 57, 53, 38], dtype=uint8), array([79, 81, 77, ..., 57, 53, 38], dtype=uint8), array([255, 255, 255, ...,  64,  59,  43], dtype=uint8), array([255, 255, 255, ...,  64,  59,  43], dtype=uint8), array([255, 255, 255, ...,  67,  77,  53], dtype=uint8), array([255, 255, 255, ...,  65,  59,  41], dtype=uint8), array([255, 255, 255, ...,  65,  59,  41], dtype=uint8), array([255, 255, 255, ...,  65,  59,  41], dtype=uint8), array([255, 255, 255, ...,  45,  44,  44], dtype=uint8), array([255, 255, 255, ...,  45,  44,  44], dtype=uint8), array([255, 255, 255, ...,  52,  56,  58], dtype=uint8), array([255, 255, 255, ...,  67,  59,  52], dtype=uint8), array([255, 255, 255, ...,  58,  61,  61], dtype=uint8), array([255, 255, 255, ...,  58,  61,  61], dtype=uint8), array([255, 255, 255, ...,  37,  35,  36], dtype=uint8), array([255, 255, 255, ...,  37,  35,  36], dtype=uint8), array([255, 255, 255, ...,  58,  57,  58], dtype=uint8), array([255, 255, 255, ...,  65,  67,  70], dtype=uint8), array([255, 255, 255, ...,  65,  67,  70], dtype=uint8), array([255, 255, 255, ...,  39,  40,  41], dtype=uint8), array([254, 254, 255, ...,  27,  27,  28], dtype=uint8), array([255, 255, 255, ...,  34,  34,  34], dtype=uint8), array([255, 255, 255, ...,  52,  54,  54], dtype=uint8), array([89, 84, 73, ..., 29, 29, 28], dtype=uint8), array([255, 255, 255, ...,  44,  45,  45], dtype=uint8), array([160, 155, 149, ...,  39,  37,  35], dtype=uint8), array([218, 214, 209, ...,  48,  46,  42], dtype=uint8), array([145, 143, 143, ...,  29,  29,  32], dtype=uint8), array([91, 79, 48, ..., 74, 76, 81], dtype=uint8), array([91, 79, 48, ..., 74, 76, 81], dtype=uint8), array([124, 114,  79, ...,  53,  53,  58], dtype=uint8), array([48, 48, 40, ..., 70, 69, 70], dtype=uint8), array([48, 48, 40, ..., 70, 69, 70], dtype=uint8), array([255, 255, 255, ...,  51,  48,  50], dtype=uint8), array([103,  97,  91, ...,  40,  40,  42], dtype=uint8), array([255, 255, 255, ...,  53,  53,  51], dtype=uint8), array([248, 255, 255, ...,  57,  57,  61], dtype=uint8), array([255, 255, 255, ...,  23,  23,  19], dtype=uint8), array([128, 122, 102, ...,  72,  72,  77], dtype=uint8), array([246, 250, 252, ...,  27,  28,  29], dtype=uint8), array([255, 255, 255, ...,  33,  33,  29], dtype=uint8), array([255, 255, 255, ...,  43,  45,  46], dtype=uint8), array([255, 255, 255, ...,  43,  45,  46], dtype=uint8), array([255, 255, 255, ...,  39,  42,  47], dtype=uint8), array([255, 255, 255, ...,  49,  48,  50], dtype=uint8), array([255, 255, 255, ...,  55,  56,  59], dtype=uint8), array([225, 225, 226, ...,  42,  45,  48], dtype=uint8), array([255, 255, 255, ...,  41,  41,  42], dtype=uint8), array([255, 255, 255, ...,  41,  41,  42], dtype=uint8), array([255, 255, 255, ...,  49,  50,  48], dtype=uint8), array([255, 255, 255, ...,  49,  50,  48], dtype=uint8), array([255, 255, 255, ...,  49,  50,  48], dtype=uint8), array([118, 152, 219, ...,  43,  46,  44], dtype=uint8), array([196, 235, 254, ...,  40,  44,  52], dtype=uint8), array([162, 194, 247, ...,  17,  17,  21], dtype=uint8), array([173, 202, 231, ...,  30,  34,  41], dtype=uint8), array([173, 202, 231, ...,  30,  34,  41], dtype=uint8), array([254, 255, 255, ...,  72,  87, 112], dtype=uint8), array([252, 255, 255, ...,  58,  69,  85], dtype=uint8), array([252, 255, 255, ...,  58,  69,  85], dtype=uint8), array([252, 255, 255, ...,  58,  69,  85], dtype=uint8), array([254, 255, 255, ...,  22,  22,  26], dtype=uint8), array([202, 254, 255, ...,  21,  22,  26], dtype=uint8), array([174, 229, 254, ...,  54,  59,  68], dtype=uint8), array([174, 229, 254, ...,  54,  59,  68], dtype=uint8), array([31, 32, 36, ..., 21, 20, 23], dtype=uint8), array([230, 254, 255, ...,  41,  46,  56], dtype=uint8), array([230, 254, 255, ...,  41,  46,  56], dtype=uint8), array([230, 254, 255, ...,  41,  46,  56], dtype=uint8), array([135, 174, 249, ...,  45,  50,  58], dtype=uint8), array([135, 174, 249, ...,  45,  50,  58], dtype=uint8), array([130, 170, 250, ...,  58,  62,  69], dtype=uint8), array([130, 170, 250, ...,  58,  62,  69], dtype=uint8), array([145, 183, 253, ...,  50,  52,  53], dtype=uint8), array([163, 212, 253, ...,  41,  45,  53], dtype=uint8), array([163, 212, 253, ...,  41,  45,  53], dtype=uint8), array([163, 212, 253, ...,  41,  45,  53], dtype=uint8), array([163, 212, 253, ...,  41,  45,  53], dtype=uint8), array([169, 217, 253, ...,  39,  43,  53], dtype=uint8), array([169, 217, 253, ...,  39,  43,  53], dtype=uint8), array([166, 199, 253, ...,  27,  30,  37], dtype=uint8), array([166, 199, 253, ...,  27,  30,  37], dtype=uint8), array([173, 198, 251, ...,  24,  25,  28], dtype=uint8), array([223, 232, 239, ...,  64,  73,  90], dtype=uint8), array([232, 254, 255, ...,  60,  66,  74], dtype=uint8), array([187, 212, 227, ...,  40,  45,  55], dtype=uint8), array([187, 212, 227, ...,  40,  45,  55], dtype=uint8), array([187, 212, 227, ...,  40,  45,  55], dtype=uint8), array([255, 255, 255, ...,  28,  35,  29], dtype=uint8), array([137, 192, 253, ...,  68,  74,  83], dtype=uint8), array([137, 192, 253, ...,  68,  74,  83], dtype=uint8), array([137, 192, 253, ...,  68,  74,  83], dtype=uint8), array([137, 192, 253, ...,  68,  74,  83], dtype=uint8), array([119, 171, 248, ...,  25,  27,  35], dtype=uint8), array([119, 171, 248, ...,  25,  27,  35], dtype=uint8), array([119, 171, 248, ...,  25,  27,  35], dtype=uint8), array([119, 171, 248, ...,  25,  27,  35], dtype=uint8), array([202, 203, 208, ...,  45,  47,  51], dtype=uint8), array([255, 255, 255, ...,  30,  33,  41], dtype=uint8), array([255, 255, 255, ...,  30,  33,  41], dtype=uint8), array([149, 146, 163, ...,  57,  65,  81], dtype=uint8), array([ 71,  86, 108, ...,  36,  40,  48], dtype=uint8), array([175, 207, 225, ...,  60,  66,  78], dtype=uint8), array([255, 255, 255, ...,  52,  54,  62], dtype=uint8), array([255, 255, 255, ...,  52,  54,  62], dtype=uint8), array([255, 255, 255, ...,  52,  54,  62], dtype=uint8), array([255, 255, 255, ...,  34,  37,  42], dtype=uint8), array([255, 255, 255, ...,  34,  37,  42], dtype=uint8), array([255, 255, 255, ...,  34,  37,  42], dtype=uint8), array([161, 234, 254, ...,  60,  61,  64], dtype=uint8), array([156, 230, 254, ...,  41,  44,  50], dtype=uint8), array([156, 230, 254, ...,  41,  44,  50], dtype=uint8), array([65, 66, 66, ..., 21, 22, 27], dtype=uint8), array([77, 80, 86, ..., 51, 50, 51], dtype=uint8), array([52, 53, 58, ..., 25, 25, 27], dtype=uint8), array([52, 53, 58, ..., 25, 25, 27], dtype=uint8), array([52, 53, 58, ..., 25, 25, 27], dtype=uint8), array([ 83,  90, 107, ...,  28,  29,  33], dtype=uint8), array([ 83,  90, 107, ...,  28,  29,  33], dtype=uint8), array([158, 200, 253, ...,  27,  28,  33], dtype=uint8), array([144, 156, 173, ...,  60,  63,  71], dtype=uint8), array([ 74,  83, 101, ...,  53,  53,  57], dtype=uint8), array([ 74,  83, 101, ...,  53,  53,  57], dtype=uint8), array([ 74,  83, 101, ...,  53,  53,  57], dtype=uint8), array([ 74,  83, 101, ...,  53,  53,  57], dtype=uint8), array([195, 231, 238, ...,  40,  46,  57], dtype=uint8), array([195, 231, 238, ...,  40,  46,  57], dtype=uint8), array([255, 255, 255, ...,  43,  49,  60], dtype=uint8), array([154, 198, 253, ...,  13,  13,  17], dtype=uint8), array([ 74,  85, 102, ...,  51,  59,  72], dtype=uint8), array([ 74,  85, 102, ...,  51,  59,  72], dtype=uint8), array([ 74,  85, 102, ...,  51,  59,  72], dtype=uint8), array([ 74,  85, 102, ...,  51,  59,  72], dtype=uint8), array([146, 178, 212, ...,  51,  58,  73], dtype=uint8), array([146, 178, 212, ...,  51,  58,  73], dtype=uint8), array([ 82, 102, 138, ...,  44,  47,  55], dtype=uint8), array([102, 124, 156, ...,  19,  21,  28], dtype=uint8), array([227, 252, 253, ...,  17,  16,  19], dtype=uint8), array([227, 252, 253, ...,  17,  16,  19], dtype=uint8), array([113, 139, 193, ...,  96,  98, 103], dtype=uint8), array([227, 254, 255, ..., 115, 114, 114], dtype=uint8), array([188, 220, 254, ...,  87,  92, 101], dtype=uint8), array([188, 220, 254, ...,  87,  92, 101], dtype=uint8), array([188, 220, 254, ...,  87,  92, 101], dtype=uint8), array([188, 220, 254, ...,  87,  92, 101], dtype=uint8), array([237, 248, 253, ...,  39,  42,  50], dtype=uint8), array([237, 248, 253, ...,  39,  42,  50], dtype=uint8), array([255, 255, 255, ...,  58,  60,  60], dtype=uint8), array([255, 255, 255, ..., 132, 125, 124], dtype=uint8), array([255, 255, 255, ..., 132, 125, 124], dtype=uint8), array([247, 254, 255, ...,  24,  25,  26], dtype=uint8), array([247, 254, 255, ...,  24,  25,  26], dtype=uint8), array([252, 252, 253, ...,  19,  19,  19], dtype=uint8), array([253, 255, 255, ...,  51,  47,  44], dtype=uint8), array([255, 255, 255, ...,  70,  61,  51], dtype=uint8), array([188, 181, 182, ...,  47,  46,  47], dtype=uint8), array([188, 181, 182, ...,  47,  46,  47], dtype=uint8), array([197, 197, 202, ...,  66,  63,  60], dtype=uint8), array([142, 145, 147, ...,  64,  56,  50], dtype=uint8), array([142, 145, 147, ...,  64,  56,  50], dtype=uint8), array([255, 255, 255, ...,  32,  30,  30], dtype=uint8), array([67, 66, 66, ..., 29, 28, 27], dtype=uint8), array([67, 66, 66, ..., 29, 28, 27], dtype=uint8), array([222, 226, 232, ...,  53,  53,  53], dtype=uint8), array([255, 255, 255, ...,  58,  47,  40], dtype=uint8), array([255, 255, 255, ...,  38,  39,  40], dtype=uint8), array([226, 223, 218, ...,  52,  49,  41], dtype=uint8), array([255, 255, 255, ...,  46,  47,  47], dtype=uint8), array([255, 255, 255, ...,  46,  47,  47], dtype=uint8), array([61, 61, 57, ..., 56, 59, 58], dtype=uint8), array([255, 255, 255, ...,  28,  25,  23], dtype=uint8), array([255, 255, 255, ...,  28,  25,  23], dtype=uint8), array([255, 255, 255, ...,  28,  25,  23], dtype=uint8), array([255, 255, 255, ...,  66,  67,  67], dtype=uint8), array([108, 108, 108, ...,  58,  53,  51], dtype=uint8), array([145, 151, 161, ...,  93,  93,  87], dtype=uint8), array([145, 151, 161, ...,  93,  93,  87], dtype=uint8), array([205, 198, 187, ...,  53,  56,  59], dtype=uint8), array([255, 255, 255, ...,  63,  62,  48], dtype=uint8), array([255, 255, 255, ...,  63,  62,  48], dtype=uint8), array([174, 174, 169, ...,  73,  76,  77], dtype=uint8), array([103,  94,  86, ...,  93,  98, 102], dtype=uint8), array([176, 181, 190, ...,  69,  70,  66], dtype=uint8), array([195, 205, 213, ...,  33,  33,  35], dtype=uint8), array([255, 255, 255, ...,  86,  90,  91], dtype=uint8), array([255, 255, 255, ...,  33,  33,  34], dtype=uint8), array([255, 255, 255, ..., 120, 120, 114], dtype=uint8), array([255, 255, 255, ..., 120, 120, 114], dtype=uint8), array([183, 186, 193, ...,  75,  77,  73], dtype=uint8), array([183, 186, 193, ...,  75,  77,  73], dtype=uint8), array([183, 186, 193, ...,  75,  77,  73], dtype=uint8), array([183, 186, 193, ...,  75,  77,  73], dtype=uint8), array([84, 84, 81, ..., 77, 72, 63], dtype=uint8), array([252, 253, 255, ...,  36,  35,  35], dtype=uint8), array([255, 255, 255, ...,  40,  38,  37], dtype=uint8), array([255, 255, 255, ..., 105, 105,  99], dtype=uint8), array([255, 255, 255, ...,  71,  70,  67], dtype=uint8), array([255, 255, 255, ...,  71,  70,  67], dtype=uint8), array([255, 255, 255, ...,  28,  27,  27], dtype=uint8), array([67, 64, 64, ..., 36, 36, 37], dtype=uint8), array([67, 64, 64, ..., 36, 36, 37], dtype=uint8), array([96, 92, 89, ..., 36, 35, 34], dtype=uint8), array([96, 95, 93, ..., 39, 39, 40], dtype=uint8), array([175, 179, 191, ...,  35,  34,  35], dtype=uint8), array([253, 253, 254, ...,  44,  46,  47], dtype=uint8), array([253, 253, 254, ...,  44,  46,  47], dtype=uint8), array([253, 253, 254, ...,  44,  46,  47], dtype=uint8), array([62, 58, 54, ..., 39, 38, 38], dtype=uint8), array([195, 198, 207, ...,  36,  35,  34], dtype=uint8), array([195, 198, 207, ...,  36,  35,  34], dtype=uint8), array([255, 255, 255, ...,  20,  18,  18], dtype=uint8), array([255, 255, 255, ...,  20,  18,  18], dtype=uint8), array([140, 148, 159, ...,  40,  40,  32], dtype=uint8), array([102, 102, 101, ...,  31,  31,  27], dtype=uint8), array([255, 255, 255, ...,  28,  27,  28], dtype=uint8), array([255, 255, 255, ...,  35,  35,  35], dtype=uint8), array([255, 255, 255, ...,  23,  23,  23], dtype=uint8), array([255, 255, 255, ...,  23,  23,  23], dtype=uint8), array([151, 154, 159, ...,  39,  40,  40], dtype=uint8), array([167, 171, 178, ...,  30,  30,  31], dtype=uint8), array([167, 171, 178, ...,  30,  30,  31], dtype=uint8), array([244, 245, 248, ...,  34,  33,  33], dtype=uint8), array([235, 241, 249, ...,  22,  22,  22], dtype=uint8), array([235, 241, 249, ...,  22,  22,  22], dtype=uint8), array([254, 255, 255, ...,  29,  29,  28], dtype=uint8), array([254, 255, 255, ...,  29,  29,  28], dtype=uint8), array([255, 255, 255, ..., 108, 109, 101], dtype=uint8), array([255, 255, 255, ..., 108, 109, 101], dtype=uint8), array([192, 204, 224, ...,  55,  56,  54], dtype=uint8), array([192, 204, 224, ...,  55,  56,  54], dtype=uint8), array([235, 239, 249, ...,  23,  23,  23], dtype=uint8), array([235, 239, 249, ...,  23,  23,  23], dtype=uint8), array([234, 238, 249, ...,  40,  39,  39], dtype=uint8), array([234, 238, 249, ...,  40,  39,  39], dtype=uint8), array([254, 255, 255, ...,  43,  41,  39], dtype=uint8), array([225, 226, 236, ...,  23,  21,  21], dtype=uint8), array([225, 226, 236, ...,  23,  21,  21], dtype=uint8), array([143, 190, 253, ...,  44,  46,  50], dtype=uint8), array([143, 190, 253, ...,  44,  46,  50], dtype=uint8), array([163, 204, 253, ...,  73,  70,  69], dtype=uint8), array([163, 204, 253, ...,  73,  70,  69], dtype=uint8), array([100, 120, 159, ...,  58,  60,  63], dtype=uint8), array([255, 255, 255, ...,  30,  30,  30], dtype=uint8), array([255, 255, 255, ...,  30,  30,  30], dtype=uint8), array([215, 252, 255, ...,  51,  52,  54], dtype=uint8), array([215, 252, 255, ...,  51,  52,  54], dtype=uint8), array([200, 255, 255, ...,  32,  36,  35], dtype=uint8), array([200, 255, 255, ...,  32,  36,  35], dtype=uint8), array([234, 255, 255, ...,  62,  55,  46], dtype=uint8), array([156, 206, 242, ...,  48,  48,  51], dtype=uint8), array([156, 206, 242, ...,  48,  48,  51], dtype=uint8), array([146, 199, 249, ...,  38,  42,  49], dtype=uint8), array([146, 199, 249, ...,  38,  42,  49], dtype=uint8), array([203, 255, 255, ...,  45,  46,  49], dtype=uint8), array([203, 255, 255, ...,  45,  46,  49], dtype=uint8), array([175, 226, 254, ...,  49,  50,  53], dtype=uint8), array([149, 185, 230, ...,  32,  34,  40], dtype=uint8), array([149, 185, 230, ...,  32,  34,  40], dtype=uint8), array([149, 185, 230, ...,  32,  34,  40], dtype=uint8), array([228, 255, 255, ...,  37,  37,  36], dtype=uint8), array([228, 255, 255, ...,  37,  37,  36], dtype=uint8), array([169, 226, 254, ...,  41,  43,  49], dtype=uint8), array([255, 255, 255, ...,  25,  24,  24], dtype=uint8), array([255, 255, 255, ...,  36,  38,  43], dtype=uint8), array([255, 255, 255, ...,  36,  38,  43], dtype=uint8), array([159, 171, 188, ...,  61,  62,  66], dtype=uint8)]\n",
            "[11, 40, 38, 13, 39, 4, 9, 21, 21, 2, 9, 2, 9, 2, 12, 4, 12, 1, 21, 1, 2, 21, 25, 12, 30, 11, 4, 12, 2, 23, 27, 27, 1, 23, 23, 13, 13, 40, 1, 2, 2, 25, 35, 15, 38, 25, 12, 13, 33, 38, 28, 38, 13, 12, 35, 38, 12, 12, 35, 33, 13, 38, 18, 12, 36, 35, 12, 38, 12, 26, 40, 13, 38, 37, 12, 34, 13, 12, 36, 12, 15, 35, 27, 0, 12, 38, 25, 1, 1, 12, 12, 38, 2, 2, 12, 9, 2, 9, 38, 9, 13, 2, 23, 24, 1, 9, 4, 23, 2, 9, 23, 2, 9, 38, 14, 14, 23, 4, 21, 2, 20, 9, 29, 13, 11, 9, 13, 38, 38, 13, 40, 38, 1, 12, 6, 6, 10, 10, 8, 8, 5, 5, 13, 13, 13, 13, 13, 12, 35, 1, 1, 16, 16, 1, 19, 17, 17, 13, 13, 38, 13, 13, 20, 30, 30, 5, 13, 34, 36, 12, 25, 13, 18, 26, 25, 25, 1, 3, 9, 3, 3, 3, 3, 10, 3, 14, 38, 35, 17, 17, 38, 38, 23, 12, 2, 7, 7, 7, 7, 7, 4, 4, 2, 2, 2, 5, 5, 12, 9, 26, 1, 1, 18, 9, 1, 18, 12, 36, 35, 1, 1, 11, 11, 15, 15, 14, 2, 2, 12, 4, 41, 28, 2, 20, 30, 4, 12, 12, 2, 1, 12, 35, 35, 38, 9, 9, 9, 38, 41, 39, 39, 38, 38, 25, 34, 17, 17, 17, 38, 26, 1, 11, 1, 2, 2, 18, 2, 4, 4, 9, 25, 1, 1, 28, 2, 12, 9, 2, 14, 14, 38, 13, 2, 12, 2, 4, 2, 41, 19, 1, 2, 4, 4, 12, 2, 2, 11, 18, 35, 11, 17, 1, 12, 14, 28, 11, 18, 13, 33, 38, 11, 36, 14, 11, 14, 34, 17, 17, 13, 14, 14, 0, 1, 34, 25, 34, 33, 38, 13, 13, 25, 18, 33, 13, 35, 12, 11, 34, 12, 33, 14, 33, 39, 5, 5, 1, 33, 13, 33, 1, 26, 1, 1, 28, 1, 9, 1, 1, 18, 1, 28, 1, 9, 1, 28, 1, 38, 13, 13, 38, 1, 14, 14, 14, 18, 1, 18, 1, 12, 1, 2, 15, 13, 2, 10, 10, 10, 10, 10, 10, 5, 5, 5, 5, 2, 38, 2, 38, 9, 1, 9, 2, 23, 38, 18, 25, 25, 11, 11, 1, 0, 35, 36, 12, 2, 4, 9, 9, 24, 18, 1, 18, 36, 12, 2, 9, 41, 2, 2, 2, 2, 18, 18, 29, 0, 33, 33, 29, 38, 16, 40, 13, 38, 2, 12, 31, 2, 29, 4, 12, 2, 14, 14, 2, 5, 5, 6, 6, 5, 3, 8, 8, 7, 7, 22, 22, 6, 6, 7, 7, 26, 26, 22, 2, 11, 42, 25, 2, 22, 2, 42, 2, 35, 11, 18, 20, 20, 17, 17, 22, 38, 7, 7, 42, 42, 8, 8, 5, 22, 22, 6, 5, 5, 6, 6, 20, 3, 20, 3, 32, 15, 38, 3, 3, 32, 32, 5, 5, 10, 10, 2, 14, 14, 15, 2, 12, 26, 2, 26, 2, 1, 12, 14, 33, 14, 13, 15, 15, 12, 5, 5, 30, 5, 10, 10, 10, 10, 5, 6, 6, 10, 10, 10, 30, 30, 10, 10, 8, 8, 8, 8, 8, 30, 8, 10, 8, 10, 8, 10, 8, 10, 8, 10, 8, 10, 8, 10, 8, 10, 8, 10, 8, 10, 5, 4, 4, 4, 13, 12, 13, 6, 6, 8, 8, 10, 10, 10, 8, 8, 10, 10, 8, 10, 10, 8, 8, 8, 10, 8, 10, 30, 30, 8, 10, 8, 8, 10, 10, 30, 30, 13, 8, 8, 6, 6, 7, 23, 6, 6, 7, 7, 10, 4, 26, 4, 10, 26, 4, 4, 42, 42, 42, 4, 4, 4, 4, 4, 4, 12, 18, 18, 30, 30, 18, 18, 38, 38, 17, 17, 7, 3, 3, 9, 3, 18, 22, 8, 7, 3, 3, 13, 23, 25, 25, 5, 5, 10, 10, 25, 5, 7, 7, 13, 8, 8, 8, 8, 25, 5, 9, 5, 41, 41, 8, 23, 8, 18, 8, 18, 8, 20, 20, 7, 7, 5, 5, 17, 17, 38, 13, 38, 13, 13, 11, 11, 25, 28, 11, 28, 11, 3, 2, 2, 12, 25, 1, 12, 33, 12, 38, 13, 13, 13, 35, 34, 3, 3, 1, 13, 12, 12, 12, 10, 10, 7, 7, 7, 7, 7, 5, 5, 5, 13, 40, 2, 18, 12, 17, 17, 13, 7, 7, 16, 16, 16, 7, 38, 38, 13, 38, 40, 38, 11, 18, 1, 8, 10, 38, 38, 17, 13, 5, 4, 4, 17, 38, 17, 17, 38, 38, 38, 12, 11, 38, 11, 11, 5, 5, 7, 10, 10, 3, 34, 10, 7, 7, 10, 7, 7, 10, 10, 7, 7, 10, 10, 7, 7, 10, 10, 10, 10, 17, 17, 38, 12, 11, 25, 1, 15, 14, 36, 16, 8, 10, 8, 10, 18, 38, 23, 13, 3, 11, 12, 9, 9, 38, 22, 9, 17, 38, 38, 9, 7, 8, 8, 10, 30, 4, 4, 42, 24, 12, 4, 4, 12, 4, 4, 10, 38, 17, 5, 5, 18, 8, 18, 8, 32, 32, 13, 9, 4, 22, 4, 38, 2, 2, 2, 9, 32, 4, 4, 12, 1, 38, 2, 9, 11, 1, 38, 4, 12, 17, 12, 38, 38, 1, 13, 13, 38, 25, 12, 12, 38, 25, 1, 35, 12, 12, 12, 38, 15, 16, 23, 2, 9, 2, 22, 13, 12, 4, 23, 4, 4, 2, 12, 4, 4, 26, 2, 13, 13, 11, 1, 38, 13, 40, 13, 33, 14, 1, 35, 1, 35, 35, 38, 10, 10, 38, 5, 14, 14, 25, 25, 4, 4, 4, 15, 3, 12, 12, 9, 25, 1, 1, 13, 2, 12, 12, 28, 1, 2, 1, 1, 4, 2, 9, 1, 38, 4, 12, 4, 2, 2, 13, 23, 23, 23, 23, 4, 39, 25, 3, 3, 3, 12, 38, 4, 4, 3, 25, 13, 13, 38, 5, 5, 13, 10, 10, 7, 7, 13, 8, 8, 10, 10, 6, 6, 5, 5, 13, 1, 38, 12, 1, 38, 12, 8, 8, 10, 10, 8, 10, 8, 10, 38, 13, 13, 11, 11, 15, 41, 17, 38, 18, 13, 13, 18, 1, 12, 1, 1, 1, 12, 38, 1, 12, 39, 24, 25, 3, 25, 3, 13, 13, 38, 38, 34, 34, 13, 13, 11, 18, 18, 14, 30, 4, 12, 38, 37, 34, 13, 13, 2, 13, 38, 28, 1, 1, 9, 28, 1, 11, 38, 28, 14, 11, 18, 11, 33, 13, 18, 11, 25, 11, 5, 5, 11, 13, 40, 38, 15, 1, 14, 38, 18, 1, 12, 1, 1, 1, 11, 13, 18, 2, 2, 2, 9, 2, 9, 38, 14, 12, 22, 2, 2, 1, 14, 33, 1, 1, 29, 40, 38, 13, 2, 23, 12, 14, 13, 18, 28, 2, 7, 42, 42, 22, 14, 38, 10, 26, 26, 26, 26, 26, 26, 5, 5, 5, 5, 10, 10, 31, 3, 3, 32, 32, 5, 5, 5, 4, 10, 38, 17, 4, 10, 36, 35, 12, 4, 12, 4, 4, 12, 4, 4, 12, 4, 4, 15, 42, 4, 4, 24]\n"
          ]
        }
      ]
    },
    {
      "cell_type": "markdown",
      "metadata": {
        "id": "NUY3yNrdaABY"
      },
      "source": [
        "### Data Exploration and Preprocessing ( 2 points)"
      ],
      "id": "NUY3yNrdaABY"
    },
    {
      "cell_type": "markdown",
      "metadata": {
        "id": "9ca63666"
      },
      "source": [
        "#### Plot the sample image of each class\n",
        "\n",
        "Hint: plt.subplot"
      ],
      "id": "9ca63666"
    },
    {
      "cell_type": "code",
      "metadata": {
        "id": "c414e14e"
      },
      "source": [
        "# YOUR CODE HERE"
      ],
      "id": "c414e14e",
      "execution_count": null,
      "outputs": []
    },
    {
      "cell_type": "markdown",
      "metadata": {
        "id": "8a2rqCM-sIbY"
      },
      "source": [
        "#### Plot the distribution of Classes"
      ],
      "id": "8a2rqCM-sIbY"
    },
    {
      "cell_type": "code",
      "metadata": {
        "id": "nwWKGQMFsIDP"
      },
      "source": [
        "# YOUR CODE HERE"
      ],
      "id": "nwWKGQMFsIDP",
      "execution_count": null,
      "outputs": []
    },
    {
      "cell_type": "markdown",
      "metadata": {
        "id": "37b23a0b"
      },
      "source": [
        "#### Normalize the features\n",
        "\n",
        "For most image data, the pixel values are integers with values between 0 and 255.\n",
        "\n",
        "Neural networks process inputs using small weight values, and inputs with large integer values can disrupt or slow down the learning process. As such it is good practice to normalize the pixel values.\n",
        "\n",
        "Hint: sklearn.preprocessing.normalize"
      ],
      "id": "37b23a0b"
    },
    {
      "cell_type": "code",
      "metadata": {
        "id": "82239736"
      },
      "source": [
        "# YOUR CODE HERE"
      ],
      "id": "82239736",
      "execution_count": null,
      "outputs": []
    },
    {
      "cell_type": "markdown",
      "metadata": {
        "id": "28ea9c3a"
      },
      "source": [
        "### Train the MLP classifier on features (1 point)\n",
        "\n",
        "* Split the data into train and test\n",
        "\n",
        "* Train the MLP classifier with different parameters\n",
        "\n",
        "* Get the accuracy score and performance metrics"
      ],
      "id": "28ea9c3a"
    },
    {
      "cell_type": "code",
      "metadata": {
        "id": "7f952950"
      },
      "source": [
        "# YOUR CODE HERE"
      ],
      "id": "7f952950",
      "execution_count": null,
      "outputs": []
    },
    {
      "cell_type": "markdown",
      "metadata": {
        "id": "dfe1e294"
      },
      "source": [
        "### Tune the hyper-parameters (2 points)\n",
        "\n",
        "* Use the GridSearchCV or RandomizedSearchCV and select best parameters\n",
        "\n",
        "  Hint: [GridSearchCV](https://scikit-learn.org/stable/modules/generated/sklearn.model_selection.GridSearchCV.html), [RandomizedSearchCV](https://scikit-learn.org/stable/modules/generated/sklearn.model_selection.RandomizedSearchCV.html)\n",
        "\n",
        "  (or)\n",
        "* Manually change and find the best parameters\n",
        "\n",
        "To know about all the parameters, click [here](https://scikit-learn.org/stable/modules/generated/sklearn.neural_network.MLPClassifier.html)"
      ],
      "id": "dfe1e294"
    },
    {
      "cell_type": "code",
      "metadata": {
        "id": "f29ce38e"
      },
      "source": [
        "# YOUR CODE HERE"
      ],
      "id": "f29ce38e",
      "execution_count": null,
      "outputs": []
    },
    {
      "cell_type": "markdown",
      "metadata": {
        "id": "911d0a39"
      },
      "source": [
        "#### Try the different algorithms and compare the results with MLP classifier"
      ],
      "id": "911d0a39"
    },
    {
      "cell_type": "code",
      "metadata": {
        "id": "08b0c234"
      },
      "source": [
        "# YOUR CODE HERE"
      ],
      "id": "08b0c234",
      "execution_count": null,
      "outputs": []
    },
    {
      "cell_type": "markdown",
      "metadata": {
        "id": "af9cd34e"
      },
      "source": [
        "### Implement simple Neural Networks using keras (3 points)\n",
        "\n",
        "* Define the keras model and initialize the layers\n",
        "  - Ensure the input layer has the right number of input features. This can be specified when creating the first layer with the input_dim argument.\n",
        "* Compile the model\n",
        "  - Specify the loss function (to evaluate a set of weights), the optimizer (is used to search through different weights for the network) and any optional metrics to collect and report during training.\n",
        "* Fit and Evaluate the model\n",
        "  - Fit the data by specifying epochs and evaluate the model"
      ],
      "id": "af9cd34e"
    },
    {
      "cell_type": "code",
      "metadata": {
        "id": "fcf8d025"
      },
      "source": [
        "print(tf.__version__)"
      ],
      "id": "fcf8d025",
      "execution_count": null,
      "outputs": []
    },
    {
      "cell_type": "code",
      "metadata": {
        "id": "1ecbe0db"
      },
      "source": [
        "# Step 1 - Build the architecture\n",
        "# YOUR CODE HERE"
      ],
      "id": "1ecbe0db",
      "execution_count": null,
      "outputs": []
    },
    {
      "cell_type": "code",
      "metadata": {
        "id": "d4c7bc66"
      },
      "source": [
        "# Step 2 - Compile the model\n",
        "# YOUR CODE HERE"
      ],
      "id": "d4c7bc66",
      "execution_count": null,
      "outputs": []
    },
    {
      "cell_type": "code",
      "metadata": {
        "id": "27Pltot4FsiG"
      },
      "source": [
        "# Step 3 - Fit and Evaluate the model\n",
        "# YOUR CODE HERE"
      ],
      "id": "27Pltot4FsiG",
      "execution_count": null,
      "outputs": []
    },
    {
      "cell_type": "markdown",
      "metadata": {
        "id": "cSUDO2lLmQJO"
      },
      "source": [
        "#### Try the same parameters used for MLP Classifier and build the keras model"
      ],
      "id": "cSUDO2lLmQJO"
    },
    {
      "cell_type": "code",
      "metadata": {
        "id": "1zNp5w4bvFz9"
      },
      "source": [
        "# YOUR CODE HERE"
      ],
      "id": "1zNp5w4bvFz9",
      "execution_count": null,
      "outputs": []
    },
    {
      "cell_type": "markdown",
      "metadata": {
        "id": "IAHzeVx_tImO"
      },
      "source": [
        "#### Experiment using Dropout, Regularization and Batch Normalization"
      ],
      "id": "IAHzeVx_tImO"
    },
    {
      "cell_type": "code",
      "metadata": {
        "id": "w34gbejXvLUs"
      },
      "source": [
        "# YOUR CODE HERE"
      ],
      "id": "w34gbejXvLUs",
      "execution_count": null,
      "outputs": []
    },
    {
      "cell_type": "markdown",
      "metadata": {
        "id": "MhWaGRRfs7tv"
      },
      "source": [
        "### Report Analysis\n",
        "\n",
        "* According to the confusion matrix, for which sign were the maximum misclassifications observed? Comment on the misclassification, owing to similar appearing traffic signs, if any.\n",
        "* Comment on the performance of the MLP Classifier\n",
        "* Discuss the optimal number of layers, activation functions, optimizers etc. that yielded the best accuracy\n",
        "* Report on training time vs convergence"
      ],
      "id": "MhWaGRRfs7tv"
    },
    {
      "cell_type": "markdown",
      "metadata": {
        "id": "d4978243"
      },
      "source": [
        "Reference: J. Stallkamp, M. Schlipsing, J. Salmen, and C. Igel. The German Traffic Sign Recognition Benchmark: A multi-class classification competition. In Proceedings of the IEEE International Joint Conference on Neural Networks, pages 1453–1460. 2011."
      ],
      "id": "d4978243"
    }
  ]
}