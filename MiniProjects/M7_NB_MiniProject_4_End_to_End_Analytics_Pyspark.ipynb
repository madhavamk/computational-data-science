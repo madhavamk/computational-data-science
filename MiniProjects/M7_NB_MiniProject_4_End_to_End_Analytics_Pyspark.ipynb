{
  "nbformat": 4,
  "nbformat_minor": 5,
  "metadata": {
    "kernelspec": {
      "display_name": "Python 3",
      "language": "python",
      "name": "python3"
    },
    "language_info": {
      "codemirror_mode": {
        "name": "ipython",
        "version": 3
      },
      "file_extension": ".py",
      "mimetype": "text/x-python",
      "name": "python",
      "nbconvert_exporter": "python",
      "pygments_lexer": "ipython3",
      "version": "3.9.2"
    },
    "colab": {
      "provenance": [],
      "include_colab_link": true
    }
  },
  "cells": [
    {
      "cell_type": "markdown",
      "metadata": {
        "id": "view-in-github",
        "colab_type": "text"
      },
      "source": [
        "<a href=\"https://colab.research.google.com/github/madhavamk/computational-data-science/blob/master/MiniProjects/M7_NB_MiniProject_4_End_to_End_Analytics_Pyspark.ipynb\" target=\"_parent\"><img src=\"https://colab.research.google.com/assets/colab-badge.svg\" alt=\"Open In Colab\"/></a>"
      ]
    },
    {
      "cell_type": "markdown",
      "metadata": {
        "id": "intensive-feature"
      },
      "source": [
        "# Advanced Certification Program in Computational Data Science\n",
        "## A program by IISc and TalentSprint\n",
        "### Mini-Project: End-to-end analytics application using Pyspark"
      ],
      "id": "intensive-feature"
    },
    {
      "cell_type": "markdown",
      "metadata": {
        "id": "buried-qualification"
      },
      "source": [
        "## Problem Statement"
      ],
      "id": "buried-qualification"
    },
    {
      "cell_type": "markdown",
      "metadata": {
        "id": "smaller-diana"
      },
      "source": [
        "Perform sentiment classification by analyzing the tweets data with Pyspark"
      ],
      "id": "smaller-diana"
    },
    {
      "cell_type": "markdown",
      "metadata": {
        "id": "opposite-defense"
      },
      "source": [
        "## Learning Objectives"
      ],
      "id": "opposite-defense"
    },
    {
      "cell_type": "markdown",
      "metadata": {
        "id": "incoming-professor"
      },
      "source": [
        "At the end of the mini-project, you will be able to :\n",
        "\n",
        "* analyze the text data using pyspark\n",
        "* derive the insights and visualize the data\n",
        "* implement feature extraction and classify the data\n",
        "* train the classification model and deploy"
      ],
      "id": "incoming-professor"
    },
    {
      "cell_type": "markdown",
      "metadata": {
        "id": "varied-emission"
      },
      "source": [
        "### Dataset"
      ],
      "id": "varied-emission"
    },
    {
      "cell_type": "markdown",
      "metadata": {
        "id": "usual-suffering"
      },
      "source": [
        "The dataset chosen for this mini-project is **[Twitter US Airline Sentiment](https://data.world/socialmediadata/twitter-us-airline-sentiment)**. It is a record of tweets about airlines in the US. It was created by scraping Twitter data from February 2015. Contributors were asked to first classify positive, negative, and neutral tweets, followed by categorizing negative reasons (such as \"late flight\" or \"rude service\").  Along with other information, it contains ID of a Tweet, the sentiment of a tweet ( neutral, negative and positive), reason for a negative tweet, name of airline and text of a tweet."
      ],
      "id": "usual-suffering"
    },
    {
      "cell_type": "markdown",
      "metadata": {
        "id": "original-tsunami"
      },
      "source": [
        "## Information"
      ],
      "id": "original-tsunami"
    },
    {
      "cell_type": "markdown",
      "metadata": {
        "id": "premier-northeast"
      },
      "source": [
        "The airline industry is a very competitive market that has grown rapidly in the past 2 decades. Airline companies resort to traditional customer feedback forms which in turn are very tedious and time consuming. This is where Twitter data serves as a good source to gather customer feedback tweets and perform sentiment analysis. This dataset comprises of tweets for 6 major US Airlines and a multi-class classification can be performed to categorize the sentiment (neutral, negative, positive). For this mini-project we will start with pre-processing techniques to clean the tweets and then represent these tweets as vectors. A classification algorithm will be used to predict the sentiment for unseen tweets data. The end-to-end analytics will be performed using Pyspark."
      ],
      "id": "premier-northeast"
    },
    {
      "cell_type": "markdown",
      "metadata": {
        "id": "BewwTjZaJojg"
      },
      "source": [
        "## Grading = 10 Points"
      ],
      "id": "BewwTjZaJojg"
    },
    {
      "cell_type": "markdown",
      "source": [
        "Install Spark"
      ],
      "metadata": {
        "id": "t15hsIfsCv4S"
      },
      "id": "t15hsIfsCv4S"
    },
    {
      "cell_type": "code",
      "source": [
        "# install java\n",
        "#!apt-get install openjdk-8-jdk-headless -qq > /dev/null\n",
        "!apt-get install openjdk-11-jdk-headless -qq > /dev/null\n",
        "\n",
        "# install spark (change the version number if needed)\n",
        "!wget -q https://archive.apache.org/dist/spark/spark-3.0.0/spark-3.0.0-bin-hadoop3.2.tgz\n",
        "\n",
        "# unzip the spark file to the current folder\n",
        "!tar xf spark-3.0.0-bin-hadoop3.2.tgz"
      ],
      "metadata": {
        "id": "irNFWnK6DGQf"
      },
      "id": "irNFWnK6DGQf",
      "execution_count": 1,
      "outputs": []
    },
    {
      "cell_type": "markdown",
      "source": [
        "**Note: The above code cell will take around 8 mins 30 secs for execution.**\n"
      ],
      "metadata": {
        "id": "8cA77n9ADMid"
      },
      "id": "8cA77n9ADMid"
    },
    {
      "cell_type": "markdown",
      "source": [
        "### Set the os environment"
      ],
      "metadata": {
        "id": "0zTjjKDuDT3F"
      },
      "id": "0zTjjKDuDT3F"
    },
    {
      "cell_type": "code",
      "source": [
        "# set your spark folder to your system path environment.\n",
        "import os\n",
        "os.environ[\"JAVA_HOME\"] = \"/usr/lib/jvm/java-11-openjdk-amd64\"\n",
        "os.environ[\"SPARK_HOME\"] = \"/content/spark-3.0.0-bin-hadoop3.2\""
      ],
      "metadata": {
        "id": "bWC2AmDHDXBw"
      },
      "id": "bWC2AmDHDXBw",
      "execution_count": 2,
      "outputs": []
    },
    {
      "cell_type": "markdown",
      "source": [
        "### Install findspark"
      ],
      "metadata": {
        "id": "FJ7kR3AnDebO"
      },
      "id": "FJ7kR3AnDebO"
    },
    {
      "cell_type": "code",
      "source": [
        "# install findspark using pip\n",
        "!pip install -q findspark"
      ],
      "metadata": {
        "id": "9Quap-c8DiW4"
      },
      "id": "9Quap-c8DiW4",
      "execution_count": 3,
      "outputs": []
    },
    {
      "cell_type": "markdown",
      "metadata": {
        "id": "younger-macro"
      },
      "source": [
        "#### Install Pyspark"
      ],
      "id": "younger-macro"
    },
    {
      "cell_type": "code",
      "source": [
        "#@title Install packages and download the dataset\n",
        "!pip -qq install pyspark\n",
        "!pip -qq install handyspark\n",
        "!wget -qq https://cdn.iisc.talentsprint.com/CDS/MiniProjects/US_Airline_Tweets.csv\n",
        "print(\"Packages installed successfully and dataset downloaded!!\")"
      ],
      "metadata": {
        "id": "4giPAEaxCnur",
        "colab": {
          "base_uri": "https://localhost:8080/"
        },
        "outputId": "219c2b38-a45a-4347-965d-78ce3182d68e"
      },
      "id": "4giPAEaxCnur",
      "execution_count": 4,
      "outputs": [
        {
          "output_type": "stream",
          "name": "stdout",
          "text": [
            "Packages installed successfully and dataset downloaded!!\n"
          ]
        }
      ]
    },
    {
      "cell_type": "code",
      "source": [
        "#from handyspark import *\n",
        "import findspark\n",
        "findspark.init()"
      ],
      "metadata": {
        "id": "Az5P_HI7DuiI"
      },
      "id": "Az5P_HI7DuiI",
      "execution_count": 5,
      "outputs": []
    },
    {
      "cell_type": "markdown",
      "source": [
        "### Install numpy==1.26.0"
      ],
      "metadata": {
        "id": "3GeyP8NoDzK6"
      },
      "id": "3GeyP8NoDzK6"
    },
    {
      "cell_type": "code",
      "source": [
        "!pip -qq install mxnet-mkl==1.6.0 numpy==1.26.0"
      ],
      "metadata": {
        "id": "xpD0lw2gD0pJ",
        "colab": {
          "base_uri": "https://localhost:8080/"
        },
        "outputId": "0724e183-ecf6-4d67-f2f3-ec9016a269bc"
      },
      "id": "xpD0lw2gD0pJ",
      "execution_count": 6,
      "outputs": [
        {
          "output_type": "stream",
          "name": "stdout",
          "text": [
            "\u001b[2K     \u001b[90m━━━━━━━━━━━━━━━━━━━━━━━━━━━━━━━━━━━━━━━━\u001b[0m \u001b[32m58.5/58.5 kB\u001b[0m \u001b[31m2.3 MB/s\u001b[0m eta \u001b[36m0:00:00\u001b[0m\n",
            "\u001b[2K   \u001b[90m━━━━━━━━━━━━━━━━━━━━━━━━━━━━━━━━━━━━━━━━\u001b[0m \u001b[32m76.7/76.7 MB\u001b[0m \u001b[31m7.8 MB/s\u001b[0m eta \u001b[36m0:00:00\u001b[0m\n",
            "\u001b[2K   \u001b[90m━━━━━━━━━━━━━━━━━━━━━━━━━━━━━━━━━━━━━━━━\u001b[0m \u001b[32m18.2/18.2 MB\u001b[0m \u001b[31m23.6 MB/s\u001b[0m eta \u001b[36m0:00:00\u001b[0m\n",
            "\u001b[?25h"
          ]
        }
      ]
    },
    {
      "cell_type": "code",
      "source": [
        "import numpy as np\n",
        "#np.bool = np.bool_"
      ],
      "metadata": {
        "id": "XiRTXWCrD3Gx"
      },
      "id": "XiRTXWCrD3Gx",
      "execution_count": 7,
      "outputs": []
    },
    {
      "cell_type": "markdown",
      "source": [
        "### Import Handyspark"
      ],
      "metadata": {
        "id": "yxP3naQqD9Rv"
      },
      "id": "yxP3naQqD9Rv"
    },
    {
      "cell_type": "code",
      "source": [
        "#Downgrade Numpy to 1.23.1\n",
        "!pip install numpy==1.23.1"
      ],
      "metadata": {
        "id": "e7bn-zWRcfoe",
        "colab": {
          "base_uri": "https://localhost:8080/",
          "height": 881
        },
        "outputId": "e8b815f9-2b5d-442a-dea0-a6b18910b326"
      },
      "id": "e7bn-zWRcfoe",
      "execution_count": 8,
      "outputs": [
        {
          "output_type": "stream",
          "name": "stdout",
          "text": [
            "Collecting numpy==1.23.1\n",
            "  Downloading numpy-1.23.1.tar.gz (10.7 MB)\n",
            "\u001b[2K     \u001b[90m━━━━━━━━━━━━━━━━━━━━━━━━━━━━━━━━━━━━━━━━\u001b[0m \u001b[32m10.7/10.7 MB\u001b[0m \u001b[31m81.6 MB/s\u001b[0m eta \u001b[36m0:00:00\u001b[0m\n",
            "\u001b[?25h  Installing build dependencies ... \u001b[?25l\u001b[?25hdone\n",
            "  Getting requirements to build wheel ... \u001b[?25l\u001b[?25hdone\n",
            "  Preparing metadata (pyproject.toml) ... \u001b[?25l\u001b[?25hdone\n",
            "Building wheels for collected packages: numpy\n",
            "  Building wheel for numpy (pyproject.toml) ... \u001b[?25l\u001b[?25hdone\n",
            "  Created wheel for numpy: filename=numpy-1.23.1-cp311-cp311-linux_x86_64.whl size=19731363 sha256=8ed81922e4dd74ddc7a71c66f979de491bc2a243a3cd1756e77112207149554e\n",
            "  Stored in directory: /root/.cache/pip/wheels/54/67/ec/c3e57b4b51328fb39dd4d63906b0d3bd37a312508e5922682f\n",
            "Successfully built numpy\n",
            "Installing collected packages: numpy\n",
            "  Attempting uninstall: numpy\n",
            "    Found existing installation: numpy 1.26.0\n",
            "    Uninstalling numpy-1.26.0:\n",
            "      Successfully uninstalled numpy-1.26.0\n",
            "\u001b[31mERROR: pip's dependency resolver does not currently take into account all the packages that are installed. This behaviour is the source of the following dependency conflicts.\n",
            "plotnine 0.14.5 requires numpy>=1.23.5, but you have numpy 1.23.1 which is incompatible.\n",
            "pymc 5.20.0 requires numpy>=1.25.0, but you have numpy 1.23.1 which is incompatible.\n",
            "tensorflow 2.18.0 requires numpy<2.1.0,>=1.26.0, but you have numpy 1.23.1 which is incompatible.\n",
            "scikit-image 0.25.1 requires numpy>=1.24, but you have numpy 1.23.1 which is incompatible.\n",
            "opencv-python-headless 4.11.0.86 requires numpy>=1.23.5; python_version >= \"3.11\", but you have numpy 1.23.1 which is incompatible.\n",
            "ml-dtypes 0.4.1 requires numpy>=1.23.3; python_version >= \"3.11\", but you have numpy 1.23.1 which is incompatible.\n",
            "chex 0.1.88 requires numpy>=1.24.1, but you have numpy 1.23.1 which is incompatible.\n",
            "albumentations 2.0.3 requires numpy>=1.24.4, but you have numpy 1.23.1 which is incompatible.\n",
            "jaxlib 0.4.33 requires numpy>=1.24, but you have numpy 1.23.1 which is incompatible.\n",
            "opencv-python 4.11.0.86 requires numpy>=1.23.5; python_version >= \"3.11\", but you have numpy 1.23.1 which is incompatible.\n",
            "albucore 0.0.23 requires numpy>=1.24.4, but you have numpy 1.23.1 which is incompatible.\n",
            "pandas 2.2.2 requires numpy>=1.23.2; python_version == \"3.11\", but you have numpy 1.23.1 which is incompatible.\n",
            "pandas-stubs 2.2.2.240909 requires numpy>=1.23.5, but you have numpy 1.23.1 which is incompatible.\n",
            "dm-tree 0.1.9 requires numpy>=1.23.3; python_version >= \"3.11\", but you have numpy 1.23.1 which is incompatible.\n",
            "ibis-framework 9.2.0 requires numpy<3,>=1.23.2, but you have numpy 1.23.1 which is incompatible.\n",
            "blosc2 3.0.0 requires numpy>=1.25.0, but you have numpy 1.23.1 which is incompatible.\n",
            "bigframes 1.34.0 requires numpy>=1.24.0, but you have numpy 1.23.1 which is incompatible.\n",
            "xarray 2025.1.2 requires numpy>=1.24, but you have numpy 1.23.1 which is incompatible.\n",
            "opencv-contrib-python 4.11.0.86 requires numpy>=1.23.5; python_version >= \"3.11\", but you have numpy 1.23.1 which is incompatible.\n",
            "jax 0.4.33 requires numpy>=1.24, but you have numpy 1.23.1 which is incompatible.\n",
            "imbalanced-learn 0.13.0 requires numpy<3,>=1.24.3, but you have numpy 1.23.1 which is incompatible.\n",
            "numba 0.61.0 requires numpy<2.2,>=1.24, but you have numpy 1.23.1 which is incompatible.\n",
            "flax 0.10.2 requires numpy>=1.23.2; python_version >= \"3.11\", but you have numpy 1.23.1 which is incompatible.\n",
            "mizani 0.13.1 requires numpy>=1.23.5, but you have numpy 1.23.1 which is incompatible.\n",
            "astropy 7.0.0 requires numpy>=1.23.2, but you have numpy 1.23.1 which is incompatible.\u001b[0m\u001b[31m\n",
            "\u001b[0mSuccessfully installed numpy-1.23.1\n"
          ]
        },
        {
          "output_type": "display_data",
          "data": {
            "application/vnd.colab-display-data+json": {
              "pip_warning": {
                "packages": [
                  "numpy"
                ]
              },
              "id": "1aa2830042ee4f40ab22f9ccb370f852"
            }
          },
          "metadata": {}
        }
      ]
    },
    {
      "cell_type": "markdown",
      "source": [
        "###After running the above code cell please restart the session"
      ],
      "metadata": {
        "id": "WhWih0aKdOZ6"
      },
      "id": "WhWih0aKdOZ6"
    },
    {
      "cell_type": "code",
      "source": [
        "import handyspark"
      ],
      "metadata": {
        "id": "CeLSuRtBD-u2"
      },
      "id": "CeLSuRtBD-u2",
      "execution_count": 1,
      "outputs": []
    },
    {
      "cell_type": "markdown",
      "metadata": {
        "id": "rough-battlefield"
      },
      "source": [
        "#### Import required packages"
      ],
      "id": "rough-battlefield"
    },
    {
      "cell_type": "code",
      "metadata": {
        "id": "cheap-workplace"
      },
      "source": [
        "import os\n",
        "import numpy as np\n",
        "import pandas as pd\n",
        "# fixes issue with seaborn hiding fliers on boxplot\n",
        "import matplotlib as mpl\n",
        "%matplotlib inline\n",
        "\n",
        "from pyspark.sql import SparkSession\n",
        "from pyspark.sql.functions import *\n",
        "from handyspark import *\n",
        "import seaborn as sns\n",
        "from matplotlib import pyplot as plt\n",
        "import re\n",
        "import string\n",
        "from pyspark.ml.feature import VectorAssembler\n",
        "from pyspark.ml.feature import CountVectorizer\n",
        "from pyspark.ml.classification import NaiveBayes\n",
        "from pyspark.sql.types import ArrayType, StringType\n",
        "import warnings\n",
        "warnings.filterwarnings(\"ignore\")"
      ],
      "id": "cheap-workplace",
      "execution_count": 2,
      "outputs": []
    },
    {
      "cell_type": "code",
      "metadata": {
        "id": "useful-meter",
        "colab": {
          "base_uri": "https://localhost:8080/"
        },
        "outputId": "4a4d557b-5d00-43b5-b7e1-3a9d5d5d56d3"
      },
      "source": [
        "# NLTK imports\n",
        "import nltk\n",
        "nltk.download('punkt')\n",
        "nltk.download('punkt_tab')\n",
        "# Download stopwords\n",
        "nltk.download('stopwords')\n",
        "nltk.download('wordnet')\n",
        "nltk.download('omw-1.4')\n",
        "from nltk.corpus import stopwords\n",
        "from nltk.tokenize import word_tokenize\n",
        "from nltk.stem import WordNetLemmatizer"
      ],
      "id": "useful-meter",
      "execution_count": 3,
      "outputs": [
        {
          "output_type": "stream",
          "name": "stderr",
          "text": [
            "[nltk_data] Downloading package punkt to /root/nltk_data...\n",
            "[nltk_data]   Unzipping tokenizers/punkt.zip.\n",
            "[nltk_data] Downloading package punkt_tab to /root/nltk_data...\n",
            "[nltk_data]   Unzipping tokenizers/punkt_tab.zip.\n",
            "[nltk_data] Downloading package stopwords to /root/nltk_data...\n",
            "[nltk_data]   Unzipping corpora/stopwords.zip.\n",
            "[nltk_data] Downloading package wordnet to /root/nltk_data...\n",
            "[nltk_data] Downloading package omw-1.4 to /root/nltk_data...\n"
          ]
        }
      ]
    },
    {
      "cell_type": "markdown",
      "metadata": {
        "id": "pregnant-april"
      },
      "source": [
        "### Data Loading"
      ],
      "id": "pregnant-april"
    },
    {
      "cell_type": "markdown",
      "metadata": {
        "id": "toxic-baseball"
      },
      "source": [
        "#### Start a Spark Session\n",
        "\n",
        "Spark session is a combined entry point of a Spark application, which came into implementation from Spark 2.0. It provides a way to interact with various Spark functionalities, with a lesser number of constructs."
      ],
      "id": "toxic-baseball"
    },
    {
      "cell_type": "code",
      "metadata": {
        "id": "christian-rental"
      },
      "source": [
        "# YOUR CODE HERE\n",
        "spark = SparkSession.builder.appName(\"MiniProject\").getOrCreate()"
      ],
      "id": "christian-rental",
      "execution_count": 4,
      "outputs": []
    },
    {
      "cell_type": "markdown",
      "metadata": {
        "id": "casual-narrative"
      },
      "source": [
        "#### Load the data and infer the schema\n",
        "\n",
        "To load the dataset use the `read.csv` with `inferSchema` and `header` as parameters."
      ],
      "id": "casual-narrative"
    },
    {
      "cell_type": "code",
      "metadata": {
        "id": "natural-lexington"
      },
      "source": [
        "path = \"/content/US_Airline_Tweets.csv\"\n",
        "# YOUR CODE HERE\n",
        "df = spark.read.csv(path, header=True, inferSchema=True)"
      ],
      "id": "natural-lexington",
      "execution_count": 5,
      "outputs": []
    },
    {
      "cell_type": "markdown",
      "metadata": {
        "id": "lFZu1AVBHs0X"
      },
      "source": [
        "### EDA & Visualization ( 2 points)"
      ],
      "id": "lFZu1AVBHs0X"
    },
    {
      "cell_type": "markdown",
      "metadata": {
        "id": "angry-canyon"
      },
      "source": [
        "#### Visualize the horizontal barplot of airline_sentiment (positive, negative, neutral)\n",
        "\n",
        "Convert the data to handyspark and remove the other records from the column except 3 values mentioned above and plot the graph"
      ],
      "id": "angry-canyon"
    },
    {
      "cell_type": "code",
      "metadata": {
        "id": "accomplished-crest",
        "colab": {
          "base_uri": "https://localhost:8080/",
          "height": 394
        },
        "outputId": "9c1d05cb-e63c-4fb4-8385-060443a9b6e5"
      },
      "source": [
        "# YOUR CODE HERE\n",
        "hdf = df.toHandy()\n",
        "# Filter\n",
        "hdf = hdf.filter(hdf['airline_sentiment'].isin(['positive', 'negative', 'neutral']))\n",
        "\n",
        "# Plot horizontal barplot\n",
        "fig, axs = plt.subplots(1, 1, figsize=(12, 4))\n",
        "hdf.cols['airline_sentiment'].hist(ax=axs)"
      ],
      "id": "accomplished-crest",
      "execution_count": 6,
      "outputs": [
        {
          "output_type": "execute_result",
          "data": {
            "text/plain": [
              "<Axes: title={'center': 'airline_sentiment'}, xlabel='airline_sentiment'>"
            ]
          },
          "metadata": {},
          "execution_count": 6
        },
        {
          "output_type": "display_data",
          "data": {
            "text/plain": [
              "<Figure size 1200x400 with 1 Axes>"
            ],
            "image/png": "[encoded data removed]"
          },
          "metadata": {}
        }
      ]
    },
    {
      "cell_type": "code",
      "source": [
        "hdf.show()"
      ],
      "metadata": {
        "colab": {
          "base_uri": "https://localhost:8080/"
        },
        "id": "Vwsmpeb6WPs1",
        "outputId": "4195cafd-bc7e-458a-ca94-07bc0a3dad0f"
      },
      "id": "Vwsmpeb6WPs1",
      "execution_count": 7,
      "outputs": [
        {
          "output_type": "stream",
          "name": "stdout",
          "text": [
            "+------------------+-----------------+----------------------------+--------------+-------------------------+--------------+----------------------+---------------+-------------------+-------------+--------------------+-----------+--------------------+--------------------+--------------------+\n",
            "|          tweet_id|airline_sentiment|airline_sentiment_confidence|negativereason|negativereason_confidence|       airline|airline_sentiment_gold|           name|negativereason_gold|retweet_count|                text|tweet_coord|       tweet_created|      tweet_location|       user_timezone|\n",
            "+------------------+-----------------+----------------------------+--------------+-------------------------+--------------+----------------------+---------------+-------------------+-------------+--------------------+-----------+--------------------+--------------------+--------------------+\n",
            "|570306133677760513|          neutral|                         1.0|          NULL|                     NULL|Virgin America|                  NULL|        cairdin|               NULL|            0|@VirginAmerica Wh...|       NULL|2015-02-24 11:35:...|                NULL|Eastern Time (US ...|\n",
            "|570301130888122368|         positive|                      0.3486|          NULL|                      0.0|Virgin America|                  NULL|       jnardino|               NULL|            0|@VirginAmerica pl...|       NULL|2015-02-24 11:15:...|                NULL|Pacific Time (US ...|\n",
            "|570301083672813571|          neutral|                      0.6837|          NULL|                     NULL|Virgin America|                  NULL|     yvonnalynn|               NULL|            0|@VirginAmerica I ...|       NULL|2015-02-24 11:15:...|           Lets Play|Central Time (US ...|\n",
            "|570301031407624196|         negative|                         1.0|    Bad Flight|                   0.7033|Virgin America|                  NULL|       jnardino|               NULL|            0|\"@VirginAmerica i...|       NULL|2015-02-24 11:15:...|                NULL|Pacific Time (US ...|\n",
            "|570300817074462722|         negative|                         1.0|    Can't Tell|                      1.0|Virgin America|                  NULL|       jnardino|               NULL|            0|@VirginAmerica an...|       NULL|2015-02-24 11:14:...|                NULL|Pacific Time (US ...|\n",
            "|570300767074181121|         negative|                         1.0|    Can't Tell|                   0.6842|Virgin America|                  NULL|       jnardino|               NULL|            0|@VirginAmerica se...|       NULL|                NULL|                NULL|                NULL|\n",
            "|570300616901320704|         positive|                      0.6745|          NULL|                      0.0|Virgin America|                  NULL|     cjmcginnis|               NULL|            0|@VirginAmerica ye...|       NULL|2015-02-24 11:13:...|    San Francisco CA|Pacific Time (US ...|\n",
            "|570300248553349120|          neutral|                       0.634|          NULL|                     NULL|Virgin America|                  NULL|          pilot|               NULL|            0|@VirginAmerica Re...|       NULL|2015-02-24 11:12:...|         Los Angeles|Pacific Time (US ...|\n",
            "|570299953286942721|         positive|                      0.6559|          NULL|                     NULL|Virgin America|                  NULL|       dhepburn|               NULL|            0|@virginamerica We...|       NULL|2015-02-24 11:11:...|           San Diego|Pacific Time (US ...|\n",
            "|570295459631263746|         positive|                         1.0|          NULL|                     NULL|Virgin America|                  NULL|     YupitsTate|               NULL|            0|@VirginAmerica it...|       NULL|2015-02-24 10:53:...|         Los Angeles|Eastern Time (US ...|\n",
            "|570294189143031808|          neutral|                      0.6769|          NULL|                      0.0|Virgin America|                  NULL|idk_but_youtube|               NULL|            0|@VirginAmerica di...|       NULL|2015-02-24 10:48:...|     1/1 loner squad|Eastern Time (US ...|\n",
            "|570289724453216256|         positive|                         1.0|          NULL|                     NULL|Virgin America|                  NULL|   HyperCamiLax|               NULL|            0|@VirginAmerica I ...|       NULL|2015-02-24 10:30:...|                 NYC|    America/New_York|\n",
            "|570289584061480960|         positive|                         1.0|          NULL|                     NULL|Virgin America|                  NULL|   HyperCamiLax|               NULL|            0|@VirginAmerica Th...|       NULL|2015-02-24 10:30:...|                 NYC|    America/New_York|\n",
            "|570287408438120448|         positive|                      0.6451|          NULL|                     NULL|Virgin America|                  NULL|   mollanderson|               NULL|            0|@VirginAmerica @v...|       NULL|2015-02-24 10:21:...|                NULL|Eastern Time (US ...|\n",
            "|570285904809598977|         positive|                         1.0|          NULL|                     NULL|Virgin America|                  NULL|       sjespers|               NULL|            0|@VirginAmerica Th...|       NULL|2015-02-24 10:15:...|   San Francisco, CA|Pacific Time (US ...|\n",
            "|570282469121007616|         negative|                      0.6842|   Late Flight|                   0.3684|Virgin America|                  NULL|smartwatermelon|               NULL|            0|@VirginAmerica SF...|       NULL|2015-02-24 10:01:...|       palo alto, ca|Pacific Time (US ...|\n",
            "|570277724385734656|         positive|                         1.0|          NULL|                     NULL|Virgin America|                  NULL|  ItzBrianHunty|               NULL|            0|@VirginAmerica So...|       NULL|2015-02-24 09:42:...|         west covina|Pacific Time (US ...|\n",
            "|570276917301137409|         negative|                         1.0|    Bad Flight|                      1.0|Virgin America|                  NULL|  heatherovieda|               NULL|            0|@VirginAmerica  I...|       NULL|2015-02-24 09:39:...|this place called...|Eastern Time (US ...|\n",
            "|570270684619923457|         positive|                         1.0|          NULL|                     NULL|Virgin America|                  NULL|   thebrandiray|               NULL|            0|I ❤️ flying @Virg...|       NULL|2015-02-24 09:15:...|Somewhere celebra...|Atlantic Time (Ca...|\n",
            "|570267956648792064|         positive|                         1.0|          NULL|                     NULL|Virgin America|                  NULL|      JNLpierce|               NULL|            0|@VirginAmerica yo...|       NULL|2015-02-24 09:04:...|    Boston | Waltham|               Quito|\n",
            "+------------------+-----------------+----------------------------+--------------+-------------------------+--------------+----------------------+---------------+-------------------+-------------+--------------------+-----------+--------------------+--------------------+--------------------+\n",
            "only showing top 20 rows\n",
            "\n"
          ]
        }
      ]
    },
    {
      "cell_type": "markdown",
      "metadata": {
        "id": "serial-cedar"
      },
      "source": [
        "#### Plot the number of tweets received for each airline"
      ],
      "id": "serial-cedar"
    },
    {
      "cell_type": "code",
      "metadata": {
        "id": "peripheral-bookmark",
        "colab": {
          "base_uri": "https://localhost:8080/",
          "height": 489
        },
        "outputId": "dd5ca8d1-7464-4482-b721-038e239cb650"
      },
      "source": [
        "# YOUR CODE HERE\n",
        "hdf.cols['airline'].hist()"
      ],
      "id": "peripheral-bookmark",
      "execution_count": 8,
      "outputs": [
        {
          "output_type": "execute_result",
          "data": {
            "text/plain": [
              "<Axes: title={'center': 'airline'}, xlabel='airline'>"
            ]
          },
          "metadata": {},
          "execution_count": 8
        },
        {
          "output_type": "display_data",
          "data": {
            "text/plain": [
              "<Figure size 640x480 with 1 Axes>"
            ],
            "image/png": "[encoded data removed]"
          },
          "metadata": {}
        }
      ]
    },
    {
      "cell_type": "markdown",
      "metadata": {
        "id": "surface-major"
      },
      "source": [
        "#### Visualize a stacked barchart of 6 US airlines and 3 sentiments on each bar\n",
        "\n",
        "* Group the sentiment counts for each airline. [hint](https://github.com/dvgodoy/handyspark#stratify)\n",
        "\n",
        "* Display the count corresponding to each sentiment in each bar. [hint](https://cdn.iisc.talentsprint.com/CDS/MiniProjects/M5_NB_MiniProject_4_End_to_End_Analytics_Pyspark%20priteshbgohil_medium_com_stacked_bar_chart_in_python.pdf)"
      ],
      "id": "surface-major"
    },
    {
      "cell_type": "code",
      "metadata": {
        "id": "FkhT25vtNuz8",
        "colab": {
          "base_uri": "https://localhost:8080/",
          "height": 635
        },
        "outputId": "b1f919a7-08b1-43a9-d247-377a832b1671"
      },
      "source": [
        "# YOUR CODE HERE\n",
        "# Group sentiment count for each airline\n",
        "hdf_sentiment = hdf.stratify('airline').cols['airline_sentiment'].value_counts()\n",
        "# hdf_sentiment.cols['airline_sentiment'].hist()\n",
        "hdf_sentiment.plot(kind='bar', stacked=True)"
      ],
      "id": "FkhT25vtNuz8",
      "execution_count": 27,
      "outputs": [
        {
          "output_type": "execute_result",
          "data": {
            "text/plain": [
              "<Axes: xlabel='airline,airline_sentiment'>"
            ]
          },
          "metadata": {},
          "execution_count": 27
        },
        {
          "output_type": "display_data",
          "data": {
            "text/plain": [
              "<Figure size 640x480 with 1 Axes>"
            ],
            "image/png": "[encoded data removed]"
          },
          "metadata": {}
        }
      ]
    },
    {
      "cell_type": "markdown",
      "metadata": {
        "id": "ahead-control"
      },
      "source": [
        "#### Visualize the horizontal barplot of negative reasons"
      ],
      "id": "ahead-control"
    },
    {
      "cell_type": "code",
      "metadata": {
        "id": "coordinate-rough",
        "colab": {
          "base_uri": "https://localhost:8080/",
          "height": 926
        },
        "outputId": "cb0ef70e-dc23-46cf-8fb0-0fb2efd62309"
      },
      "source": [
        "# YOUR CODE HERE\n",
        "plt.figure(figsize=(10, 10))\n",
        "plt.barh(hdf.cols['negativereason'].value_counts().index, hdf.cols['negativereason'].value_counts().values)\n",
        "# hdf.cols['negativereason'].hist()\n",
        "plt.xlabel(\"Count\")\n",
        "plt.ylabel(\"Negative Reasons\")\n",
        "plt.title(\"Horizontal Barplot of Negative Reasons\")\n",
        "plt.tight_layout()\n",
        "plt.show()"
      ],
      "id": "coordinate-rough",
      "execution_count": 46,
      "outputs": [
        {
          "output_type": "display_data",
          "data": {
            "text/plain": [
              "<Figure size 1000x1000 with 1 Axes>"
            ],
            "image/png": "[encoded data removed]"
          },
          "metadata": {}
        }
      ]
    },
    {
      "cell_type": "markdown",
      "metadata": {
        "id": "3qwi5krQH1Q3"
      },
      "source": [
        "### Pre-processing (3 points)"
      ],
      "id": "3qwi5krQH1Q3"
    },
    {
      "cell_type": "markdown",
      "metadata": {
        "id": "pharmaceutical-agency"
      },
      "source": [
        "#### Check the null values and drop the records where the text value is null"
      ],
      "id": "pharmaceutical-agency"
    },
    {
      "cell_type": "code",
      "metadata": {
        "id": "x4hU06aBNzHj",
        "colab": {
          "base_uri": "https://localhost:8080/"
        },
        "outputId": "16c4c160-340f-4a9a-d0e5-f617925757c3"
      },
      "source": [
        "# YOUR CODE HERE\n",
        "null_counts = hdf.isnull().sum()\n",
        "print(\"Null value counts before dropping:\\n\", null_counts)\n",
        "\n",
        "# Drop rows where 'text' is null\n",
        "hdf = hdf.dropna(subset=['text'])\n",
        "\n",
        "# Verify null values after dropping\n",
        "null_counts_after_drop = hdf.isnull().sum()\n",
        "print(\"\\nNull value counts after dropping:\\n\", null_counts_after_drop)"
      ],
      "id": "x4hU06aBNzHj",
      "execution_count": 49,
      "outputs": [
        {
          "output_type": "stream",
          "name": "stdout",
          "text": [
            "Null value counts before dropping:\n",
            " 62286\n",
            "\n",
            "Null value counts after dropping:\n",
            " 62238\n"
          ]
        }
      ]
    },
    {
      "cell_type": "markdown",
      "metadata": {
        "id": "convinced-batch"
      },
      "source": [
        "#### Fill the null values with 0 in all the columns except the target\n",
        "\n",
        "The target should not be empty. Ensure that all features are integer type, convert if needed."
      ],
      "id": "convinced-batch"
    },
    {
      "cell_type": "code",
      "metadata": {
        "id": "thorough-jones",
        "colab": {
          "base_uri": "https://localhost:8080/"
        },
        "outputId": "52734cfb-8b67-4d1e-8b30-7b25c39ecc0c"
      },
      "source": [
        "# YOUR CODE HERE\n",
        "# Get a list of all columns except the target column\n",
        "columns_to_fill = [col for col in hdf.columns if col != 'airline_sentiment']\n",
        "\n",
        "# Fill null values with 0 in the specified columns\n",
        "for column in columns_to_fill:\n",
        "    hdf = hdf.fillna(0, subset=[column])\n",
        "\n",
        "# Verify if null values are filled\n",
        "null_counts_after_fill = hdf.isnull().sum()\n",
        "print(\"\\nNull value counts after filling:\\n\", null_counts_after_fill)"
      ],
      "id": "thorough-jones",
      "execution_count": 50,
      "outputs": [
        {
          "output_type": "stream",
          "name": "stdout",
          "text": [
            "\n",
            "Null value counts after filling:\n",
            " 62238\n"
          ]
        }
      ]
    },
    {
      "cell_type": "code",
      "source": [
        "hdf.show()"
      ],
      "metadata": {
        "colab": {
          "base_uri": "https://localhost:8080/"
        },
        "id": "5g92GKg0YhRa",
        "outputId": "474391bd-e47b-4666-8ae7-c3d43afbdca8"
      },
      "id": "5g92GKg0YhRa",
      "execution_count": 51,
      "outputs": [
        {
          "output_type": "stream",
          "name": "stdout",
          "text": [
            "+------------------+-----------------+----------------------------+--------------+-------------------------+--------------+----------------------+---------------+-------------------+-------------+--------------------+-----------+--------------------+--------------------+--------------------+\n",
            "|          tweet_id|airline_sentiment|airline_sentiment_confidence|negativereason|negativereason_confidence|       airline|airline_sentiment_gold|           name|negativereason_gold|retweet_count|                text|tweet_coord|       tweet_created|      tweet_location|       user_timezone|\n",
            "+------------------+-----------------+----------------------------+--------------+-------------------------+--------------+----------------------+---------------+-------------------+-------------+--------------------+-----------+--------------------+--------------------+--------------------+\n",
            "|570306133677760513|          neutral|                         1.0|          NULL|                     NULL|Virgin America|                  NULL|        cairdin|               NULL|            0|@VirginAmerica Wh...|       NULL|2015-02-24 11:35:...|                NULL|Eastern Time (US ...|\n",
            "|570301130888122368|         positive|                      0.3486|          NULL|                      0.0|Virgin America|                  NULL|       jnardino|               NULL|            0|@VirginAmerica pl...|       NULL|2015-02-24 11:15:...|                NULL|Pacific Time (US ...|\n",
            "|570301083672813571|          neutral|                      0.6837|          NULL|                     NULL|Virgin America|                  NULL|     yvonnalynn|               NULL|            0|@VirginAmerica I ...|       NULL|2015-02-24 11:15:...|           Lets Play|Central Time (US ...|\n",
            "|570301031407624196|         negative|                         1.0|    Bad Flight|                   0.7033|Virgin America|                  NULL|       jnardino|               NULL|            0|\"@VirginAmerica i...|       NULL|2015-02-24 11:15:...|                NULL|Pacific Time (US ...|\n",
            "|570300817074462722|         negative|                         1.0|    Can't Tell|                      1.0|Virgin America|                  NULL|       jnardino|               NULL|            0|@VirginAmerica an...|       NULL|2015-02-24 11:14:...|                NULL|Pacific Time (US ...|\n",
            "|570300767074181121|         negative|                         1.0|    Can't Tell|                   0.6842|Virgin America|                  NULL|       jnardino|               NULL|            0|@VirginAmerica se...|       NULL|                NULL|                NULL|                NULL|\n",
            "|570300616901320704|         positive|                      0.6745|          NULL|                      0.0|Virgin America|                  NULL|     cjmcginnis|               NULL|            0|@VirginAmerica ye...|       NULL|2015-02-24 11:13:...|    San Francisco CA|Pacific Time (US ...|\n",
            "|570300248553349120|          neutral|                       0.634|          NULL|                     NULL|Virgin America|                  NULL|          pilot|               NULL|            0|@VirginAmerica Re...|       NULL|2015-02-24 11:12:...|         Los Angeles|Pacific Time (US ...|\n",
            "|570299953286942721|         positive|                      0.6559|          NULL|                     NULL|Virgin America|                  NULL|       dhepburn|               NULL|            0|@virginamerica We...|       NULL|2015-02-24 11:11:...|           San Diego|Pacific Time (US ...|\n",
            "|570295459631263746|         positive|                         1.0|          NULL|                     NULL|Virgin America|                  NULL|     YupitsTate|               NULL|            0|@VirginAmerica it...|       NULL|2015-02-24 10:53:...|         Los Angeles|Eastern Time (US ...|\n",
            "|570294189143031808|          neutral|                      0.6769|          NULL|                      0.0|Virgin America|                  NULL|idk_but_youtube|               NULL|            0|@VirginAmerica di...|       NULL|2015-02-24 10:48:...|     1/1 loner squad|Eastern Time (US ...|\n",
            "|570289724453216256|         positive|                         1.0|          NULL|                     NULL|Virgin America|                  NULL|   HyperCamiLax|               NULL|            0|@VirginAmerica I ...|       NULL|2015-02-24 10:30:...|                 NYC|    America/New_York|\n",
            "|570289584061480960|         positive|                         1.0|          NULL|                     NULL|Virgin America|                  NULL|   HyperCamiLax|               NULL|            0|@VirginAmerica Th...|       NULL|2015-02-24 10:30:...|                 NYC|    America/New_York|\n",
            "|570287408438120448|         positive|                      0.6451|          NULL|                     NULL|Virgin America|                  NULL|   mollanderson|               NULL|            0|@VirginAmerica @v...|       NULL|2015-02-24 10:21:...|                NULL|Eastern Time (US ...|\n",
            "|570285904809598977|         positive|                         1.0|          NULL|                     NULL|Virgin America|                  NULL|       sjespers|               NULL|            0|@VirginAmerica Th...|       NULL|2015-02-24 10:15:...|   San Francisco, CA|Pacific Time (US ...|\n",
            "|570282469121007616|         negative|                      0.6842|   Late Flight|                   0.3684|Virgin America|                  NULL|smartwatermelon|               NULL|            0|@VirginAmerica SF...|       NULL|2015-02-24 10:01:...|       palo alto, ca|Pacific Time (US ...|\n",
            "|570277724385734656|         positive|                         1.0|          NULL|                     NULL|Virgin America|                  NULL|  ItzBrianHunty|               NULL|            0|@VirginAmerica So...|       NULL|2015-02-24 09:42:...|         west covina|Pacific Time (US ...|\n",
            "|570276917301137409|         negative|                         1.0|    Bad Flight|                      1.0|Virgin America|                  NULL|  heatherovieda|               NULL|            0|@VirginAmerica  I...|       NULL|2015-02-24 09:39:...|this place called...|Eastern Time (US ...|\n",
            "|570270684619923457|         positive|                         1.0|          NULL|                     NULL|Virgin America|                  NULL|   thebrandiray|               NULL|            0|I ❤️ flying @Virg...|       NULL|2015-02-24 09:15:...|Somewhere celebra...|Atlantic Time (Ca...|\n",
            "|570267956648792064|         positive|                         1.0|          NULL|                     NULL|Virgin America|                  NULL|      JNLpierce|               NULL|            0|@VirginAmerica yo...|       NULL|2015-02-24 09:04:...|    Boston | Waltham|               Quito|\n",
            "+------------------+-----------------+----------------------------+--------------+-------------------------+--------------+----------------------+---------------+-------------------+-------------+--------------------+-----------+--------------------+--------------------+--------------------+\n",
            "only showing top 20 rows\n",
            "\n"
          ]
        }
      ]
    },
    {
      "cell_type": "markdown",
      "metadata": {
        "id": "first-david"
      },
      "source": [
        "#### Preprocessing and cleaning the tweets\n",
        "\n",
        "* Convert the text to lower case\n",
        "* Remove usernames, hashtags and links from the text (tweets)"
      ],
      "id": "first-david"
    },
    {
      "cell_type": "code",
      "metadata": {
        "id": "studied-blowing"
      },
      "source": [
        "# YOUR CODE HERE\n",
        "# Convert text to lowercase\n",
        "hdf = hdf.withColumn('text', lower(col('text')))\n",
        "\n",
        "# Remove usernames, hashtags, and links\n",
        "hdf = hdf.withColumn('text', regexp_replace(col('text'), r'@\\w+|#\\w+|\\w+:\\/\\/\\S+', ''))"
      ],
      "id": "studied-blowing",
      "execution_count": 53,
      "outputs": []
    },
    {
      "cell_type": "code",
      "source": [
        "hdf.show()"
      ],
      "metadata": {
        "colab": {
          "base_uri": "https://localhost:8080/"
        },
        "id": "7LZOFP8sYxH8",
        "outputId": "d4bb1b45-75be-4652-dcc3-36c9090d74c1"
      },
      "id": "7LZOFP8sYxH8",
      "execution_count": 54,
      "outputs": [
        {
          "output_type": "stream",
          "name": "stdout",
          "text": [
            "+------------------+-----------------+----------------------------+--------------+-------------------------+--------------+----------------------+---------------+-------------------+-------------+--------------------+-----------+--------------------+--------------------+--------------------+\n",
            "|          tweet_id|airline_sentiment|airline_sentiment_confidence|negativereason|negativereason_confidence|       airline|airline_sentiment_gold|           name|negativereason_gold|retweet_count|                text|tweet_coord|       tweet_created|      tweet_location|       user_timezone|\n",
            "+------------------+-----------------+----------------------------+--------------+-------------------------+--------------+----------------------+---------------+-------------------+-------------+--------------------+-----------+--------------------+--------------------+--------------------+\n",
            "|570306133677760513|          neutral|                         1.0|          NULL|                     NULL|Virgin America|                  NULL|        cairdin|               NULL|            0|         what  said.|       NULL|2015-02-24 11:35:...|                NULL|Eastern Time (US ...|\n",
            "|570301130888122368|         positive|                      0.3486|          NULL|                      0.0|Virgin America|                  NULL|       jnardino|               NULL|            0| plus you've adde...|       NULL|2015-02-24 11:15:...|                NULL|Pacific Time (US ...|\n",
            "|570301083672813571|          neutral|                      0.6837|          NULL|                     NULL|Virgin America|                  NULL|     yvonnalynn|               NULL|            0| i didn't today.....|       NULL|2015-02-24 11:15:...|           Lets Play|Central Time (US ...|\n",
            "|570301031407624196|         negative|                         1.0|    Bad Flight|                   0.7033|Virgin America|                  NULL|       jnardino|               NULL|            0|\" it's really agg...|       NULL|2015-02-24 11:15:...|                NULL|Pacific Time (US ...|\n",
            "|570300817074462722|         negative|                         1.0|    Can't Tell|                      1.0|Virgin America|                  NULL|       jnardino|               NULL|            0| and it's a reall...|       NULL|2015-02-24 11:14:...|                NULL|Pacific Time (US ...|\n",
            "|570300767074181121|         negative|                         1.0|    Can't Tell|                   0.6842|Virgin America|                  NULL|       jnardino|               NULL|            0| seriously would ...|       NULL|                NULL|                NULL|                NULL|\n",
            "|570300616901320704|         positive|                      0.6745|          NULL|                      0.0|Virgin America|                  NULL|     cjmcginnis|               NULL|            0| yes, nearly ever...|       NULL|2015-02-24 11:13:...|    San Francisco CA|Pacific Time (US ...|\n",
            "|570300248553349120|          neutral|                       0.634|          NULL|                     NULL|Virgin America|                  NULL|          pilot|               NULL|            0| really missed a ...|       NULL|2015-02-24 11:12:...|         Los Angeles|Pacific Time (US ...|\n",
            "|570299953286942721|         positive|                      0.6559|          NULL|                     NULL|Virgin America|                  NULL|       dhepburn|               NULL|            0| well, i didn't…b...|       NULL|2015-02-24 11:11:...|           San Diego|Pacific Time (US ...|\n",
            "|570295459631263746|         positive|                         1.0|          NULL|                     NULL|Virgin America|                  NULL|     YupitsTate|               NULL|            0| it was amazing, ...|       NULL|2015-02-24 10:53:...|         Los Angeles|Eastern Time (US ...|\n",
            "|570294189143031808|          neutral|                      0.6769|          NULL|                      0.0|Virgin America|                  NULL|idk_but_youtube|               NULL|            0| did you know tha...|       NULL|2015-02-24 10:48:...|     1/1 loner squad|Eastern Time (US ...|\n",
            "|570289724453216256|         positive|                         1.0|          NULL|                     NULL|Virgin America|                  NULL|   HyperCamiLax|               NULL|            0| i &lt;3 pretty g...|       NULL|2015-02-24 10:30:...|                 NYC|    America/New_York|\n",
            "|570289584061480960|         positive|                         1.0|          NULL|                     NULL|Virgin America|                  NULL|   HyperCamiLax|               NULL|            0| this is such a g...|       NULL|2015-02-24 10:30:...|                 NYC|    America/New_York|\n",
            "|570287408438120448|         positive|                      0.6451|          NULL|                     NULL|Virgin America|                  NULL|   mollanderson|               NULL|            0|  i'm flying your...|       NULL|2015-02-24 10:21:...|                NULL|Eastern Time (US ...|\n",
            "|570285904809598977|         positive|                         1.0|          NULL|                     NULL|Virgin America|                  NULL|       sjespers|               NULL|            0|             thanks!|       NULL|2015-02-24 10:15:...|   San Francisco, CA|Pacific Time (US ...|\n",
            "|570282469121007616|         negative|                      0.6842|   Late Flight|                   0.3684|Virgin America|                  NULL|smartwatermelon|               NULL|            0| sfo-pdx schedule...|       NULL|2015-02-24 10:01:...|       palo alto, ca|Pacific Time (US ...|\n",
            "|570277724385734656|         positive|                         1.0|          NULL|                     NULL|Virgin America|                  NULL|  ItzBrianHunty|               NULL|            0| so excited for m...|       NULL|2015-02-24 09:42:...|         west covina|Pacific Time (US ...|\n",
            "|570276917301137409|         negative|                         1.0|    Bad Flight|                      1.0|Virgin America|                  NULL|  heatherovieda|               NULL|            0|  i flew from nyc...|       NULL|2015-02-24 09:39:...|this place called...|Eastern Time (US ...|\n",
            "|570270684619923457|         positive|                         1.0|          NULL|                     NULL|Virgin America|                  NULL|   thebrandiray|               NULL|            0|  i ❤️ flying . ☺️👍|       NULL|2015-02-24 09:15:...|Somewhere celebra...|Atlantic Time (Ca...|\n",
            "|570267956648792064|         positive|                         1.0|          NULL|                     NULL|Virgin America|                  NULL|      JNLpierce|               NULL|            0| you know what wo...|       NULL|2015-02-24 09:04:...|    Boston | Waltham|               Quito|\n",
            "+------------------+-----------------+----------------------------+--------------+-------------------------+--------------+----------------------+---------------+-------------------+-------------+--------------------+-----------+--------------------+--------------------+--------------------+\n",
            "only showing top 20 rows\n",
            "\n"
          ]
        }
      ]
    },
    {
      "cell_type": "markdown",
      "metadata": {
        "id": "subtle-spain"
      },
      "source": [
        "#### Tokenize each sentence into words using nltk word tokenizer"
      ],
      "id": "subtle-spain"
    },
    {
      "cell_type": "code",
      "metadata": {
        "id": "yellow-wholesale"
      },
      "source": [
        "# YOUR CODE HERE\n",
        "# Define a UDF to tokenize text\n",
        "def tokenize_text(text):\n",
        "    return word_tokenize(text)\n",
        "\n",
        "# Register the UDF\n",
        "word_udf = udf(tokenize_text, ArrayType(StringType()))\n",
        "\n",
        "# Apply the UDF to the 'text' column and create a new column 'tokenized_text'\n",
        "hdf = hdf.withColumn(\"tokenized_text\", word_udf(\"text\"))"
      ],
      "id": "yellow-wholesale",
      "execution_count": 55,
      "outputs": []
    },
    {
      "cell_type": "code",
      "source": [
        "hdf.select('tokenized_text').show(10)"
      ],
      "metadata": {
        "colab": {
          "base_uri": "https://localhost:8080/"
        },
        "id": "lha-GRMFY_8U",
        "outputId": "e9223e9c-201b-4b52-aba7-a503080d9dfc"
      },
      "id": "lha-GRMFY_8U",
      "execution_count": 63,
      "outputs": [
        {
          "output_type": "stream",
          "name": "stdout",
          "text": [
            "+--------------------+\n",
            "|      tokenized_text|\n",
            "+--------------------+\n",
            "|           [said, .]|\n",
            "|[plus, 've, added...|\n",
            "|[n't, today, ...,...|\n",
            "|[``, 's, really, ...|\n",
            "|['s, really, big,...|\n",
            "|[seriously, would...|\n",
            "|[yes, ,, nearly, ...|\n",
            "|[really, missed, ...|\n",
            "|[well, ,, didn't…...|\n",
            "|[amazing, ,, arri...|\n",
            "+--------------------+\n",
            "only showing top 10 rows\n",
            "\n"
          ]
        }
      ]
    },
    {
      "cell_type": "markdown",
      "metadata": {
        "id": "recognized-wrist"
      },
      "source": [
        "#### Remove the stopwords from tokenized words"
      ],
      "id": "recognized-wrist"
    },
    {
      "cell_type": "code",
      "metadata": {
        "id": "scientific-guinea",
        "colab": {
          "base_uri": "https://localhost:8080/"
        },
        "outputId": "9f9c936e-4615-4ab2-aa8b-cd914a89c39d"
      },
      "source": [
        "stop_words = set(stopwords.words('english'))\n",
        "print(stop_words)"
      ],
      "id": "scientific-guinea",
      "execution_count": 57,
      "outputs": [
        {
          "output_type": "stream",
          "name": "stdout",
          "text": [
            "{'into', 'you', 'below', 'that', 'your', 'aren', 'll', \"doesn't\", \"don't\", 'who', \"won't\", 'hasn', 'because', 'will', 'to', 'do', 'such', 'having', 'the', 'how', 'didn', \"that'll\", 'than', 'wouldn', 'both', \"aren't\", 'while', 'o', 'if', 's', \"haven't\", 'between', 'yourself', \"you're\", 'nor', 'ours', 'needn', 'through', 'just', 've', 'her', 'are', 'did', 'doesn', 'this', 'd', 'can', 'myself', \"hasn't\", \"needn't\", 'so', 'up', 'ourselves', \"you'll\", 'hers', 'has', 'which', 'we', 'it', 'doing', 'at', 'against', 'above', 'own', 'yours', 'then', 'yourselves', \"should've\", \"wouldn't\", 'whom', 'an', 'ain', 'each', 'he', 'being', 'mustn', 'only', 'him', 'themselves', 'won', 'himself', 'further', \"hadn't\", 'down', 'after', 'i', 'herself', 'once', 'where', \"shouldn't\", 'as', 're', 'no', 'other', 'those', 'of', 'their', 'out', 'should', 'what', \"shan't\", 'any', \"couldn't\", 'don', 'over', 'some', 'all', 'they', 'our', 'my', 'off', 'very', 'wasn', 'his', 'during', 'not', 'is', 'ma', 'or', 'there', 'have', 'more', 'y', \"mightn't\", \"you'd\", 'shan', 'why', \"wasn't\", 'its', 'on', 'she', 'am', 'from', 't', 'had', 'these', 'me', 'most', 'with', 'same', \"it's\", 'itself', 'now', 'in', \"mustn't\", \"you've\", 'been', 'and', 'for', 'was', 'by', 'few', \"isn't\", 'a', 'before', 'mightn', 'again', 'but', 'when', 'under', \"she's\", 'does', 'weren', 'them', 'were', 'until', 'too', 'couldn', 'haven', 'hadn', 'isn', \"didn't\", 'about', \"weren't\", 'here', 'theirs', 'be', 'm', 'shouldn'}\n"
          ]
        }
      ]
    },
    {
      "cell_type": "code",
      "metadata": {
        "id": "pleased-skiing"
      },
      "source": [
        "# YOUR CODE HERE\n",
        "# Define a UDF to remove stop words\n",
        "def remove_stopwords(tokens):\n",
        "    return [word for word in tokens if word.lower() not in stop_words]\n",
        "\n",
        "# Register the UDF\n",
        "remove_stopwords_udf = udf(remove_stopwords, ArrayType(StringType()))\n",
        "\n",
        "# Apply the UDF to the 'tokenized_text' column and update the column\n",
        "hdf = hdf.withColumn(\"tokenized_text\", remove_stopwords_udf(\"tokenized_text\"))"
      ],
      "id": "pleased-skiing",
      "execution_count": 58,
      "outputs": []
    },
    {
      "cell_type": "code",
      "source": [
        "hdf.select('tokenized_text').show(10)"
      ],
      "metadata": {
        "colab": {
          "base_uri": "https://localhost:8080/"
        },
        "id": "TjpsSbK8ZdWG",
        "outputId": "119adb21-b765-4cb4-de83-06d120fb0f44"
      },
      "id": "TjpsSbK8ZdWG",
      "execution_count": 64,
      "outputs": [
        {
          "output_type": "stream",
          "name": "stdout",
          "text": [
            "+--------------------+\n",
            "|      tokenized_text|\n",
            "+--------------------+\n",
            "|           [said, .]|\n",
            "|[plus, 've, added...|\n",
            "|[n't, today, ...,...|\n",
            "|[``, 's, really, ...|\n",
            "|['s, really, big,...|\n",
            "|[seriously, would...|\n",
            "|[yes, ,, nearly, ...|\n",
            "|[really, missed, ...|\n",
            "|[well, ,, didn't…...|\n",
            "|[amazing, ,, arri...|\n",
            "+--------------------+\n",
            "only showing top 10 rows\n",
            "\n"
          ]
        }
      ]
    },
    {
      "cell_type": "markdown",
      "metadata": {
        "id": "persistent-projection"
      },
      "source": [
        "#### Apply Lemmatization to the words"
      ],
      "id": "persistent-projection"
    },
    {
      "cell_type": "code",
      "metadata": {
        "id": "asian-parade"
      },
      "source": [
        "# YOUR CODE HERE\n",
        "# Create a WordNetLemmatizer object\n",
        "lemmatizer = WordNetLemmatizer()\n",
        "\n",
        "# Define a UDF for lemmatization\n",
        "def lemmatize_tokens(tokens):\n",
        "    return [lemmatizer.lemmatize(word) for word in tokens]\n",
        "\n",
        "# Register the UDF\n",
        "lemmatize_udf = udf(lemmatize_tokens, ArrayType(StringType()))\n",
        "\n",
        "# Apply the UDF to the 'tokenized_text' column and update the column\n",
        "hdf = hdf.withColumn(\"tokenized_text\", lemmatize_udf(\"tokenized_text\"))"
      ],
      "id": "asian-parade",
      "execution_count": 65,
      "outputs": []
    },
    {
      "cell_type": "code",
      "source": [
        "hdf.select('tokenized_text').show(10)"
      ],
      "metadata": {
        "colab": {
          "base_uri": "https://localhost:8080/"
        },
        "id": "qdGPE2MZZ8Ns",
        "outputId": "b528446b-78b7-4638-e8be-341af7047cb7"
      },
      "id": "qdGPE2MZZ8Ns",
      "execution_count": 66,
      "outputs": [
        {
          "output_type": "stream",
          "name": "stdout",
          "text": [
            "+--------------------+\n",
            "|      tokenized_text|\n",
            "+--------------------+\n",
            "|           [said, .]|\n",
            "|[plus, 've, added...|\n",
            "|[n't, today, ...,...|\n",
            "|[``, 's, really, ...|\n",
            "|['s, really, big,...|\n",
            "|[seriously, would...|\n",
            "|[yes, ,, nearly, ...|\n",
            "|[really, missed, ...|\n",
            "|[well, ,, didn't…...|\n",
            "|[amazing, ,, arri...|\n",
            "+--------------------+\n",
            "only showing top 10 rows\n",
            "\n"
          ]
        }
      ]
    },
    {
      "cell_type": "markdown",
      "metadata": {
        "id": "UR5FnuSn-c-S"
      },
      "source": [
        "### Feature Extraction (3 points)\n",
        "\n",
        "Create the useful features from the text column to train the model\n",
        "\n",
        "For example:\n",
        "* Length of the tweet\n",
        "* No. of hashtags in the tweet starting with '#'\n",
        "* No. of mentions in the tweet starting with '@'\n",
        "\n",
        "Hint: create a new column for each of the above features"
      ],
      "id": "UR5FnuSn-c-S"
    },
    {
      "cell_type": "code",
      "metadata": {
        "id": "lyric-processor"
      },
      "source": [
        "# YOUR CODE HERE\n",
        "from pyspark.sql.types import IntegerType\n",
        "\n",
        "# 1. Length of the tweet\n",
        "hdf = hdf.withColumn('tweet_length', length(hdf['text']).astype('int'))\n",
        "\n",
        "# 2. No. of hashtags in the tweet\n",
        "def num_hashtags(text):\n",
        "    return len(re.findall(r'#\\w+', text))\n",
        "\n",
        "num_hashtags_udf = udf(num_hashtags, IntegerType())\n",
        "hdf = hdf.withColumn('num_hashtags', num_hashtags_udf(hdf['text']))\n",
        "\n",
        "# 3. No. of mentions in the tweet\n",
        "def num_mentions(text):\n",
        "    return len(re.findall(r'@\\w+', text))\n",
        "\n",
        "num_mentions_udf = udf(num_mentions, IntegerType())\n",
        "hdf = hdf.withColumn('num_mentions', num_mentions_udf(hdf['text']))"
      ],
      "id": "lyric-processor",
      "execution_count": 68,
      "outputs": []
    },
    {
      "cell_type": "code",
      "source": [
        "hdf.show(5)"
      ],
      "metadata": {
        "colab": {
          "base_uri": "https://localhost:8080/"
        },
        "id": "f6nartZUacr9",
        "outputId": "cc371428-98ac-4a06-df71-edf2e4e3a6e6"
      },
      "id": "f6nartZUacr9",
      "execution_count": 69,
      "outputs": [
        {
          "output_type": "stream",
          "name": "stdout",
          "text": [
            "+------------------+-----------------+----------------------------+--------------+-------------------------+--------------+----------------------+----------+-------------------+-------------+--------------------+-----------+--------------------+--------------+--------------------+--------------------+------------+------------+------------+\n",
            "|          tweet_id|airline_sentiment|airline_sentiment_confidence|negativereason|negativereason_confidence|       airline|airline_sentiment_gold|      name|negativereason_gold|retweet_count|                text|tweet_coord|       tweet_created|tweet_location|       user_timezone|      tokenized_text|tweet_length|num_hashtags|num_mentions|\n",
            "+------------------+-----------------+----------------------------+--------------+-------------------------+--------------+----------------------+----------+-------------------+-------------+--------------------+-----------+--------------------+--------------+--------------------+--------------------+------------+------------+------------+\n",
            "|570306133677760513|          neutral|                         1.0|          NULL|                     NULL|Virgin America|                  NULL|   cairdin|               NULL|            0|         what  said.|       NULL|2015-02-24 11:35:...|          NULL|Eastern Time (US ...|           [said, .]|          12|           0|           0|\n",
            "|570301130888122368|         positive|                      0.3486|          NULL|                      0.0|Virgin America|                  NULL|  jnardino|               NULL|            0| plus you've adde...|       NULL|2015-02-24 11:15:...|          NULL|Pacific Time (US ...|[plus, 've, added...|          58|           0|           0|\n",
            "|570301083672813571|          neutral|                      0.6837|          NULL|                     NULL|Virgin America|                  NULL|yvonnalynn|               NULL|            0| i didn't today.....|       NULL|2015-02-24 11:15:...|     Lets Play|Central Time (US ...|[n't, today, ...,...|          57|           0|           0|\n",
            "|570301031407624196|         negative|                         1.0|    Bad Flight|                   0.7033|Virgin America|                  NULL|  jnardino|               NULL|            0|\" it's really agg...|       NULL|2015-02-24 11:15:...|          NULL|Pacific Time (US ...|[``, 's, really, ...|         116|           0|           0|\n",
            "|570300817074462722|         negative|                         1.0|    Can't Tell|                      1.0|Virgin America|                  NULL|  jnardino|               NULL|            0| and it's a reall...|       NULL|2015-02-24 11:14:...|          NULL|Pacific Time (US ...|['s, really, big,...|          41|           0|           0|\n",
            "+------------------+-----------------+----------------------------+--------------+-------------------------+--------------+----------------------+----------+-------------------+-------------+--------------------+-----------+--------------------+--------------+--------------------+--------------------+------------+------------+------------+\n",
            "only showing top 5 rows\n",
            "\n"
          ]
        }
      ]
    },
    {
      "cell_type": "markdown",
      "metadata": {
        "id": "under-point"
      },
      "source": [
        "#### Get the features by applying CountVectorizer\n",
        "CountVectorizer converts the list of tokens to vectors of token counts. See the [documentation](https://spark.apache.org/docs/latest/ml-features.html#countvectorizer) for details."
      ],
      "id": "under-point"
    },
    {
      "cell_type": "code",
      "metadata": {
        "id": "christian-voltage"
      },
      "source": [
        "# YOUR CODE HERE\n",
        "cv = CountVectorizer(inputCol=\"tokenized_text\", outputCol=\"features\")\n",
        "count_model = cv.fit(hdf)\n",
        "count_df = count_model.transform(hdf)"
      ],
      "id": "christian-voltage",
      "execution_count": 70,
      "outputs": []
    },
    {
      "cell_type": "markdown",
      "metadata": {
        "id": "killing-aside"
      },
      "source": [
        "#### Encode the labels\n",
        "\n",
        "Using the `udf` function encode the string values of *airline_sentiment* to integers."
      ],
      "id": "killing-aside"
    },
    {
      "cell_type": "code",
      "metadata": {
        "id": "assigned-trout"
      },
      "source": [
        "def LabelEncoder(x):\n",
        "    if x == 'positive':\n",
        "        return 0\n",
        "    elif x == 'negative':\n",
        "        return 1\n",
        "    return 2\n",
        "\n",
        "# YOUR CODE HERE\n",
        "label_encoder_udf = udf(LabelEncoder, IntegerType())\n",
        "count_df = count_df.withColumn('labels', label_encoder_udf(count_df['airline_sentiment']))"
      ],
      "id": "assigned-trout",
      "execution_count": 71,
      "outputs": []
    },
    {
      "cell_type": "code",
      "source": [
        "count_df.show(5)"
      ],
      "metadata": {
        "colab": {
          "base_uri": "https://localhost:8080/"
        },
        "id": "0M-4iVnwasGJ",
        "outputId": "bf373af6-00b1-4c7c-c007-0663d409ba32"
      },
      "id": "0M-4iVnwasGJ",
      "execution_count": 72,
      "outputs": [
        {
          "output_type": "stream",
          "name": "stdout",
          "text": [
            "+------------------+-----------------+----------------------------+--------------+-------------------------+--------------+----------------------+----------+-------------------+-------------+--------------------+-----------+--------------------+--------------+--------------------+--------------------+------------+------------+------------+--------------------+------+\n",
            "|          tweet_id|airline_sentiment|airline_sentiment_confidence|negativereason|negativereason_confidence|       airline|airline_sentiment_gold|      name|negativereason_gold|retweet_count|                text|tweet_coord|       tweet_created|tweet_location|       user_timezone|      tokenized_text|tweet_length|num_hashtags|num_mentions|            features|labels|\n",
            "+------------------+-----------------+----------------------------+--------------+-------------------------+--------------+----------------------+----------+-------------------+-------------+--------------------+-----------+--------------------+--------------+--------------------+--------------------+------------+------------+------------+--------------------+------+\n",
            "|570306133677760513|          neutral|                         1.0|          NULL|                     NULL|Virgin America|                  NULL|   cairdin|               NULL|            0|         what  said.|       NULL|2015-02-24 11:35:...|          NULL|Eastern Time (US ...|           [said, .]|          12|           0|           0|(12471,[0,143],[1...|     2|\n",
            "|570301130888122368|         positive|                      0.3486|          NULL|                      0.0|Virgin America|                  NULL|  jnardino|               NULL|            0| plus you've adde...|       NULL|2015-02-24 11:15:...|          NULL|Pacific Time (US ...|[plus, 've, added...|          58|           0|           0|(12471,[0,18,47,1...|     0|\n",
            "|570301083672813571|          neutral|                      0.6837|          NULL|                     NULL|Virgin America|                  NULL|yvonnalynn|               NULL|            0| i didn't today.....|       NULL|2015-02-24 11:15:...|     Lets Play|Central Time (US ...|[n't, today, ...,...|          57|           0|           0|(12471,[1,5,18,29...|     2|\n",
            "|570301031407624196|         negative|                         1.0|    Bad Flight|                   0.7033|Virgin America|                  NULL|  jnardino|               NULL|            0|\" it's really agg...|       NULL|2015-02-24 11:15:...|          NULL|Pacific Time (US ...|[``, 's, really, ...|         116|           0|           0|(12471,[6,7,14,15...|     1|\n",
            "|570300817074462722|         negative|                         1.0|    Can't Tell|                      1.0|Virgin America|                  NULL|  jnardino|               NULL|            0| and it's a reall...|       NULL|2015-02-24 11:14:...|          NULL|Pacific Time (US ...|['s, really, big,...|          41|           0|           0|(12471,[7,81,138,...|     1|\n",
            "+------------------+-----------------+----------------------------+--------------+-------------------------+--------------+----------------------+----------+-------------------+-------------+--------------------+-----------+--------------------+--------------+--------------------+--------------------+------------+------------+------------+--------------------+------+\n",
            "only showing top 5 rows\n",
            "\n"
          ]
        }
      ]
    },
    {
      "cell_type": "markdown",
      "metadata": {
        "id": "NqnjXJR9IC5d"
      },
      "source": [
        "### Train the classifier the evaluate (1 point)"
      ],
      "id": "NqnjXJR9IC5d"
    },
    {
      "cell_type": "markdown",
      "metadata": {
        "id": "attempted-lender"
      },
      "source": [
        "#### Create vector assembler with the selected features to train the model"
      ],
      "id": "attempted-lender"
    },
    {
      "cell_type": "code",
      "metadata": {
        "id": "stuffed-seating"
      },
      "source": [
        "# YOUR CODE HERE\n",
        "featureassembler = VectorAssembler(inputCols=['tweet_length', 'num_hashtags', 'num_mentions', 'features'], outputCol='featuresop')"
      ],
      "id": "stuffed-seating",
      "execution_count": 75,
      "outputs": []
    },
    {
      "cell_type": "markdown",
      "metadata": {
        "id": "bored-metropolitan"
      },
      "source": [
        "#### Arrange features and label and split them into train and test."
      ],
      "id": "bored-metropolitan"
    },
    {
      "cell_type": "code",
      "metadata": {
        "id": "structured-actress"
      },
      "source": [
        "# YOUR CODE HERE\n",
        "final_data = featureassembler.transform(count_df)\n",
        "train_data, test_data = final_data.randomSplit([0.8, 0.2])"
      ],
      "id": "structured-actress",
      "execution_count": 76,
      "outputs": []
    },
    {
      "cell_type": "markdown",
      "metadata": {
        "id": "fiscal-utilization"
      },
      "source": [
        "#### Train the model with train data and make predictions on the test data\n",
        "\n",
        "For classification of text data, implement NaiveBayes classifier. It is a probabilistic machine learning model.\n",
        "\n",
        "For more information about **NaiveBayes Classifier**, click [here](https://spark.apache.org/docs/latest/ml-classification-regression.html#naive-bayes)"
      ],
      "id": "fiscal-utilization"
    },
    {
      "cell_type": "code",
      "metadata": {
        "id": "destroyed-religion"
      },
      "source": [
        "nb = NaiveBayes(featuresCol='features', labelCol='labels')\n",
        "# Fit the model with train data\n",
        "model = nb.fit(train_data)"
      ],
      "id": "destroyed-religion",
      "execution_count": 77,
      "outputs": []
    },
    {
      "cell_type": "code",
      "metadata": {
        "id": "seeing-money"
      },
      "source": [
        "# get the predictions\n",
        "# YOUR CODE HERE\n",
        "test_predict = model.transform(test_data)"
      ],
      "id": "seeing-money",
      "execution_count": 78,
      "outputs": []
    },
    {
      "cell_type": "code",
      "source": [
        "test_predict.select('airline','airline_sentiment','prediction').show(10)"
      ],
      "metadata": {
        "colab": {
          "base_uri": "https://localhost:8080/"
        },
        "id": "iAiSKf3ubiGD",
        "outputId": "3ce2cfb4-a307-4e9b-a5e9-4f3063c2dfc5"
      },
      "id": "iAiSKf3ubiGD",
      "execution_count": 81,
      "outputs": [
        {
          "output_type": "stream",
          "name": "stdout",
          "text": [
            "+----------+-----------------+----------+\n",
            "|   airline|airline_sentiment|prediction|\n",
            "+----------+-----------------+----------+\n",
            "|    United|         negative|       1.0|\n",
            "|    United|         negative|       1.0|\n",
            "|    United|         negative|       1.0|\n",
            "| Southwest|         negative|       1.0|\n",
            "|US Airways|         negative|       1.0|\n",
            "|     Delta|         positive|       1.0|\n",
            "|     Delta|          neutral|       1.0|\n",
            "|US Airways|         negative|       1.0|\n",
            "|    United|         negative|       1.0|\n",
            "| Southwest|         negative|       1.0|\n",
            "+----------+-----------------+----------+\n",
            "only showing top 10 rows\n",
            "\n"
          ]
        }
      ]
    },
    {
      "cell_type": "markdown",
      "metadata": {
        "id": "foreign-consent"
      },
      "source": [
        "#### Evaluate the model and find the accuracy\n",
        "\n",
        "Compare the labels and predictions and find how many are correct.\n",
        "\n",
        "To find the accuracy, get the count of correct predictions from test data and divide by the total amount of test dataset.\n",
        "\n",
        "**Hint:** convert the predictions dataframe to pandas and compare with labels"
      ],
      "id": "foreign-consent"
    },
    {
      "cell_type": "code",
      "source": [
        "# YOUR CODE HERE\n",
        "from pyspark.ml.evaluation import MulticlassClassificationEvaluator\n",
        "evaluator = MulticlassClassificationEvaluator(labelCol=\"labels\", predictionCol=\"prediction\", metricName=\"accuracy\")\n",
        "accuracy = evaluator.evaluate(test_predict)"
      ],
      "metadata": {
        "id": "JEuA8A_gbsPr"
      },
      "id": "JEuA8A_gbsPr",
      "execution_count": 82,
      "outputs": []
    },
    {
      "cell_type": "code",
      "source": [
        "print(\"Accuracy:\", accuracy)"
      ],
      "metadata": {
        "colab": {
          "base_uri": "https://localhost:8080/"
        },
        "id": "9x-h9StEbym5",
        "outputId": "5a559993-9364-4bc7-f681-bfd5fdab3d7c"
      },
      "id": "9x-h9StEbym5",
      "execution_count": 83,
      "outputs": [
        {
          "output_type": "stream",
          "name": "stdout",
          "text": [
            "Accuracy: 0.7761244504565438\n"
          ]
        }
      ]
    },
    {
      "cell_type": "markdown",
      "source": [
        "As a next phase of implementation, we will implement logistic regression model."
      ],
      "metadata": {
        "id": "RD7r7NCJFuum"
      },
      "id": "RD7r7NCJFuum"
    },
    {
      "cell_type": "markdown",
      "source": [
        "### Implementing logistic regression."
      ],
      "metadata": {
        "id": "DxAUjwkrFd12"
      },
      "id": "DxAUjwkrFd12"
    },
    {
      "cell_type": "markdown",
      "source": [
        "For more information about logistic regression, click upon this [button](https://spark.apache.org/docs/2.3.1/api/python/pyspark.ml.html#pyspark.ml.classification.LogisticRegression) to proceed to spark's documentation of logistic regression."
      ],
      "metadata": {
        "id": "oHwBWy51Fl1W"
      },
      "id": "oHwBWy51Fl1W"
    },
    {
      "cell_type": "code",
      "source": [
        "# Importing the necessary libraries\n",
        "from pyspark.ml.classification import LogisticRegression\n",
        "import numpy\n",
        "from numpy import allclose\n",
        "from pyspark.ml.linalg import Vectors\n",
        "from pyspark.ml.feature import StringIndexer\n",
        "from pyspark.ml.feature import VectorAssembler\n",
        "from pyspark.ml.evaluation import MulticlassClassificationEvaluator"
      ],
      "metadata": {
        "id": "YjayjAxyFqy0"
      },
      "id": "YjayjAxyFqy0",
      "execution_count": 84,
      "outputs": []
    },
    {
      "cell_type": "code",
      "source": [
        "# Create a features column using VectorAssembler with multiple input columns like 'rawFeatures', 'airline_sentiment_confidence', and others?\n",
        "# YOUR CODE HERE\n",
        "featureassembler = VectorAssembler(inputCols=['tweet_length', 'num_hashtags', 'num_mentions',], outputCol='features')\n",
        "\n",
        "# Transform the DataFrame to create the 'features' column\n",
        "# Assuming your DataFrame is named 'df'\n",
        "final_data = featureassembler.transform(hdf)"
      ],
      "metadata": {
        "id": "px9DPLiiF1VI"
      },
      "id": "px9DPLiiF1VI",
      "execution_count": 104,
      "outputs": []
    },
    {
      "cell_type": "code",
      "source": [
        "final_data.show(10)"
      ],
      "metadata": {
        "colab": {
          "base_uri": "https://localhost:8080/"
        },
        "id": "pt8GBOE_drtS",
        "outputId": "8ca04262-cd61-4782-92e7-24ebe4197d3e"
      },
      "id": "pt8GBOE_drtS",
      "execution_count": 103,
      "outputs": [
        {
          "output_type": "stream",
          "name": "stdout",
          "text": [
            "+------------------+-----------------+----------------------------+--------------+-------------------------+--------------+----------------------+----------+-------------------+-------------+--------------------+-----------+--------------------+----------------+--------------------+--------------------+------------+------------+------------+---------------+\n",
            "|          tweet_id|airline_sentiment|airline_sentiment_confidence|negativereason|negativereason_confidence|       airline|airline_sentiment_gold|      name|negativereason_gold|retweet_count|                text|tweet_coord|       tweet_created|  tweet_location|       user_timezone|      tokenized_text|tweet_length|num_hashtags|num_mentions|      featureop|\n",
            "+------------------+-----------------+----------------------------+--------------+-------------------------+--------------+----------------------+----------+-------------------+-------------+--------------------+-----------+--------------------+----------------+--------------------+--------------------+------------+------------+------------+---------------+\n",
            "|570306133677760513|          neutral|                         1.0|          NULL|                     NULL|Virgin America|                  NULL|   cairdin|               NULL|            0|         what  said.|       NULL|2015-02-24 11:35:...|            NULL|Eastern Time (US ...|           [said, .]|          12|           0|           0| [12.0,0.0,0.0]|\n",
            "|570301130888122368|         positive|                      0.3486|          NULL|                      0.0|Virgin America|                  NULL|  jnardino|               NULL|            0| plus you've adde...|       NULL|2015-02-24 11:15:...|            NULL|Pacific Time (US ...|[plus, 've, added...|          58|           0|           0| [58.0,0.0,0.0]|\n",
            "|570301083672813571|          neutral|                      0.6837|          NULL|                     NULL|Virgin America|                  NULL|yvonnalynn|               NULL|            0| i didn't today.....|       NULL|2015-02-24 11:15:...|       Lets Play|Central Time (US ...|[n't, today, ...,...|          57|           0|           0| [57.0,0.0,0.0]|\n",
            "|570301031407624196|         negative|                         1.0|    Bad Flight|                   0.7033|Virgin America|                  NULL|  jnardino|               NULL|            0|\" it's really agg...|       NULL|2015-02-24 11:15:...|            NULL|Pacific Time (US ...|[``, 's, really, ...|         116|           0|           0|[116.0,0.0,0.0]|\n",
            "|570300817074462722|         negative|                         1.0|    Can't Tell|                      1.0|Virgin America|                  NULL|  jnardino|               NULL|            0| and it's a reall...|       NULL|2015-02-24 11:14:...|            NULL|Pacific Time (US ...|['s, really, big,...|          41|           0|           0| [41.0,0.0,0.0]|\n",
            "|570300767074181121|         negative|                         1.0|    Can't Tell|                   0.6842|Virgin America|                  NULL|  jnardino|               NULL|            0| seriously would ...|       NULL|                NULL|            NULL|                NULL|[seriously, would...|          74|           0|           0| [74.0,0.0,0.0]|\n",
            "|570300616901320704|         positive|                      0.6745|          NULL|                      0.0|Virgin America|                  NULL|cjmcginnis|               NULL|            0| yes, nearly ever...|       NULL|2015-02-24 11:13:...|San Francisco CA|Pacific Time (US ...|[yes, ,, nearly, ...|          65|           0|           0| [65.0,0.0,0.0]|\n",
            "|570300248553349120|          neutral|                       0.634|          NULL|                     NULL|Virgin America|                  NULL|     pilot|               NULL|            0| really missed a ...|       NULL|2015-02-24 11:12:...|     Los Angeles|Pacific Time (US ...|[really, missed, ...|          71|           0|           0| [71.0,0.0,0.0]|\n",
            "|570299953286942721|         positive|                      0.6559|          NULL|                     NULL|Virgin America|                  NULL|  dhepburn|               NULL|            0| well, i didn't…b...|       NULL|2015-02-24 11:11:...|       San Diego|Pacific Time (US ...|[well, ,, didn't…...|          33|           0|           0| [33.0,0.0,0.0]|\n",
            "|570295459631263746|         positive|                         1.0|          NULL|                     NULL|Virgin America|                  NULL|YupitsTate|               NULL|            0| it was amazing, ...|       NULL|2015-02-24 10:53:...|     Los Angeles|Eastern Time (US ...|[amazing, ,, arri...|          66|           0|           0| [66.0,0.0,0.0]|\n",
            "+------------------+-----------------+----------------------------+--------------+-------------------------+--------------+----------------------+----------+-------------------+-------------+--------------------+-----------+--------------------+----------------+--------------------+--------------------+------------+------------+------------+---------------+\n",
            "only showing top 10 rows\n",
            "\n"
          ]
        }
      ]
    },
    {
      "cell_type": "code",
      "source": [
        "# Create an object of stringindexer\n",
        "# YOUR CODE HERE\n",
        "indexer = StringIndexer(inputCol='airline_sentiment', outputCol='label')"
      ],
      "metadata": {
        "id": "4k5JGvKpF2Dt"
      },
      "id": "4k5JGvKpF2Dt",
      "execution_count": 114,
      "outputs": []
    },
    {
      "cell_type": "code",
      "source": [
        "# Create output column for labels or target variable.\n",
        "# YOUR CODE HERE\n",
        "indexed = indexer.fit(final_data).transform(final_data)"
      ],
      "metadata": {
        "id": "Lx1gZrSJF49_"
      },
      "id": "Lx1gZrSJF49_",
      "execution_count": 116,
      "outputs": []
    },
    {
      "cell_type": "code",
      "source": [
        "# Split the data into train and test\n",
        "# YOUR CODE HERE\n",
        "train_data, test_data = indexed.randomSplit([0.8, 0.2])"
      ],
      "metadata": {
        "id": "sMrHDtcsF7W-"
      },
      "id": "sMrHDtcsF7W-",
      "execution_count": 117,
      "outputs": []
    },
    {
      "cell_type": "code",
      "source": [
        "# Create a Logistic Regression model object with specified parameters like maxIter=20, regParam=0.3, and elasticNetParam=0\n",
        "# YOUR CODE HERE\n",
        "lr = LogisticRegression(maxIter=20, regParam=0.3, elasticNetParam=0)"
      ],
      "metadata": {
        "id": "zyFfyjqXF-Bo"
      },
      "id": "zyFfyjqXF-Bo",
      "execution_count": 118,
      "outputs": []
    },
    {
      "cell_type": "code",
      "source": [
        "# Fit a Logistic Regression model to the training dataset using the fit method on the train data\n",
        "# YOUR CODE HERE\n",
        "lrModel = lr.fit(train_data)"
      ],
      "metadata": {
        "id": "351MRKrYGAuZ"
      },
      "id": "351MRKrYGAuZ",
      "execution_count": 119,
      "outputs": []
    },
    {
      "cell_type": "markdown",
      "source": [
        "### Making predictions and evaluating the model"
      ],
      "metadata": {
        "id": "NFeI300xGG6l"
      },
      "id": "NFeI300xGG6l"
    },
    {
      "cell_type": "code",
      "source": [
        "# Generate predictions on the test dataset\n",
        "# YOUR CODE HERE\n",
        "predictions = lrModel.transform(test_data)"
      ],
      "metadata": {
        "id": "iDneoxuSGJ9u"
      },
      "id": "iDneoxuSGJ9u",
      "execution_count": 120,
      "outputs": []
    },
    {
      "cell_type": "code",
      "source": [
        "# Create a MulticlassClassificationEvaluator object to evaluate predictions using the \"prediction\" column\n",
        "# YOUR CODE HERE\n",
        "evaluator = MulticlassClassificationEvaluator(labelCol=\"label\", predictionCol=\"prediction\", metricName=\"accuracy\")"
      ],
      "metadata": {
        "id": "V9Kv8lB6GKz1"
      },
      "id": "V9Kv8lB6GKz1",
      "execution_count": 121,
      "outputs": []
    },
    {
      "cell_type": "code",
      "source": [
        "# Calculate the accuracy of predictions using the evaluate method from the MulticlassClassificationEvaluator\n",
        "# YOUR CODE HERE\n",
        "accuracy = evaluator.evaluate(predictions)"
      ],
      "metadata": {
        "id": "HM_w8FJTGM4y"
      },
      "id": "HM_w8FJTGM4y",
      "execution_count": 122,
      "outputs": []
    },
    {
      "cell_type": "code",
      "source": [
        "# Print accuracy\n",
        "# YOUR CODE HERE\n",
        "print(\"Accuracy:\", accuracy)"
      ],
      "metadata": {
        "id": "LVu8udr4GPH5",
        "colab": {
          "base_uri": "https://localhost:8080/"
        },
        "outputId": "8860bbbb-6f03-426b-baef-a8e311472c65"
      },
      "id": "LVu8udr4GPH5",
      "execution_count": 123,
      "outputs": [
        {
          "output_type": "stream",
          "name": "stdout",
          "text": [
            "Accuracy: 0.636301603548277\n"
          ]
        }
      ]
    },
    {
      "cell_type": "markdown",
      "source": [
        "# Gradio Implementation (1 point)"
      ],
      "metadata": {
        "id": "gn8bBfJoGV9j"
      },
      "id": "gn8bBfJoGV9j"
    },
    {
      "cell_type": "code",
      "source": [
        "!pip -q install gradio==3.41.2"
      ],
      "metadata": {
        "id": "QG4grcMiGZLF",
        "colab": {
          "base_uri": "https://localhost:8080/"
        },
        "outputId": "f600290b-9e17-4846-f8a4-bb8c3000fa95"
      },
      "id": "QG4grcMiGZLF",
      "execution_count": 124,
      "outputs": [
        {
          "output_type": "stream",
          "name": "stdout",
          "text": [
            "\u001b[2K     \u001b[90m━━━━━━━━━━━━━━━━━━━━━━━━━━━━━━━━━━━━━━━━\u001b[0m \u001b[32m61.0/61.0 kB\u001b[0m \u001b[31m3.1 MB/s\u001b[0m eta \u001b[36m0:00:00\u001b[0m\n",
            "\u001b[2K   \u001b[90m━━━━━━━━━━━━━━━━━━━━━━━━━━━━━━━━━━━━━━━━\u001b[0m \u001b[32m20.1/20.1 MB\u001b[0m \u001b[31m50.3 MB/s\u001b[0m eta \u001b[36m0:00:00\u001b[0m\n",
            "\u001b[2K   \u001b[90m━━━━━━━━━━━━━━━━━━━━━━━━━━━━━━━━━━━━━━━━\u001b[0m \u001b[32m298.2/298.2 kB\u001b[0m \u001b[31m17.2 MB/s\u001b[0m eta \u001b[36m0:00:00\u001b[0m\n",
            "\u001b[2K   \u001b[90m━━━━━━━━━━━━━━━━━━━━━━━━━━━━━━━━━━━━━━━━\u001b[0m \u001b[32m18.3/18.3 MB\u001b[0m \u001b[31m56.0 MB/s\u001b[0m eta \u001b[36m0:00:00\u001b[0m\n",
            "\u001b[2K   \u001b[90m━━━━━━━━━━━━━━━━━━━━━━━━━━━━━━━━━━━━━━━━\u001b[0m \u001b[32m4.5/4.5 MB\u001b[0m \u001b[31m81.4 MB/s\u001b[0m eta \u001b[36m0:00:00\u001b[0m\n",
            "\u001b[2K   \u001b[90m━━━━━━━━━━━━━━━━━━━━━━━━━━━━━━━━━━━━━━━━\u001b[0m \u001b[32m62.3/62.3 kB\u001b[0m \u001b[31m5.4 MB/s\u001b[0m eta \u001b[36m0:00:00\u001b[0m\n",
            "\u001b[2K   \u001b[90m━━━━━━━━━━━━━━━━━━━━━━━━━━━━━━━━━━━━━━━━\u001b[0m \u001b[32m130.6/130.6 kB\u001b[0m \u001b[31m10.6 MB/s\u001b[0m eta \u001b[36m0:00:00\u001b[0m\n",
            "\u001b[2K   \u001b[90m━━━━━━━━━━━━━━━━━━━━━━━━━━━━━━━━━━━━━━━━\u001b[0m \u001b[32m94.8/94.8 kB\u001b[0m \u001b[31m8.4 MB/s\u001b[0m eta \u001b[36m0:00:00\u001b[0m\n",
            "\u001b[2K   \u001b[90m━━━━━━━━━━━━━━━━━━━━━━━━━━━━━━━━━━━━━━━━\u001b[0m \u001b[32m71.5/71.5 kB\u001b[0m \u001b[31m5.7 MB/s\u001b[0m eta \u001b[36m0:00:00\u001b[0m\n",
            "\u001b[?25h\u001b[31mERROR: pip's dependency resolver does not currently take into account all the packages that are installed. This behaviour is the source of the following dependency conflicts.\n",
            "google-genai 0.8.0 requires websockets<15.0dev,>=13.0, but you have websockets 11.0.3 which is incompatible.\u001b[0m\u001b[31m\n",
            "\u001b[0m"
          ]
        }
      ]
    },
    {
      "cell_type": "code",
      "source": [
        "import gradio as gr"
      ],
      "metadata": {
        "id": "-51R4nw2GZyG"
      },
      "id": "-51R4nw2GZyG",
      "execution_count": 125,
      "outputs": []
    },
    {
      "cell_type": "markdown",
      "source": [
        "### Making predictions using NaiveBayes"
      ],
      "metadata": {
        "id": "CcC9VqPeGhte"
      },
      "id": "CcC9VqPeGhte"
    },
    {
      "cell_type": "code",
      "source": [
        "nltk.download('words')"
      ],
      "metadata": {
        "colab": {
          "base_uri": "https://localhost:8080/"
        },
        "id": "2nIieMCtjERr",
        "outputId": "201ceb39-f056-41fa-d2ac-3235d525685b"
      },
      "id": "2nIieMCtjERr",
      "execution_count": 155,
      "outputs": [
        {
          "output_type": "stream",
          "name": "stderr",
          "text": [
            "[nltk_data] Downloading package words to /root/nltk_data...\n",
            "[nltk_data]   Package words is already up-to-date!\n"
          ]
        },
        {
          "output_type": "execute_result",
          "data": {
            "text/plain": [
              "True"
            ]
          },
          "metadata": {},
          "execution_count": 155
        }
      ]
    },
    {
      "cell_type": "code",
      "source": [
        "def make_prediction_using_NaiveBayes(user_input):\n",
        "  df1 = spark.createDataFrame([ (1, user_input)],['Id', 'UserTweet'])\n",
        "\n",
        "  df1 = df1.withColumn('UserTweet',words(df1['UserTweet']))\n",
        "  df1 = df1.withColumn(\"wordss\", word_udf(\"UserTweet\"))\n",
        "  df1 = df1.withColumn(\"wordss\", punct_udf1(\"wordss\"))\n",
        "  df1 = df1.withColumn(\"wordss\", array_udf(\"wordss\"))\n",
        "  df1 = df1.withColumn(\"wordss\", lem(\"wordss\"))\n",
        "  df1 = df1.withColumn(\"wordss\", array_udf(\"wordss\"))\n",
        "\n",
        "  df1 = df1.withColumn('tweet_length', length(df1['UserTweet']).astype('int'))\n",
        "  df1 = df1.withColumn('num_hashtags', num_hashtags(df1['UserTweet']).astype('int'))\n",
        "  df1 = df1.withColumn('num_mentions', num_mentions(df1['UserTweet']).astype('int'))\n",
        "  df1 = df1.withColumn('PunctCount',punctCount(df1['UserTweet']).astype('int'))\n",
        "  df1 = df1.withColumn('typePunct',typePunct(df1['UserTweet']).astype('int'))\n",
        "  make  = udf(lambda x : 0)\n",
        "  df1 = df1.withColumn('negativereason_confidence',make(df1['UserTweet']).astype('int'))\n",
        "  df1 = df1.withColumn('airline_sentiment_confidence',make(df1['UserTweet']).astype('int'))\n",
        "  df1 = df1.withColumn('retweet_count',make(df1['UserTweet']).astype('int'))\n",
        "  df1_featured = count_model.transform(df1)\n",
        "  test_features = featureassembler.transform(df1_featured)\n",
        "  test_predict = model.transform(test_features)\n",
        "  df_res = test_predict.select('prediction').toPandas()\n",
        "  pred = df_res.prediction.values[0]\n",
        "\n",
        "  if pred == 0:\n",
        "    return \"Positive tweet!\"\n",
        "  elif pred == 1:\n",
        "    return \"Negative Tweet!\"\n",
        "  return \"Neutral tweet\""
      ],
      "metadata": {
        "id": "jlAbMV4HGln-"
      },
      "id": "jlAbMV4HGln-",
      "execution_count": 158,
      "outputs": []
    },
    {
      "cell_type": "code",
      "source": [
        "# Make a prediction using make_prediction_using_NaiveBayes for the text \"It was a bad approach\"\n",
        "# YOUR CODE HERE\n",
        "user_input = \"It was a bad approach\"\n",
        "sentiment = make_prediction_using_NaiveBayes(user_input)\n",
        "print(sentiment)"
      ],
      "metadata": {
        "id": "sj5UHgrYGm8h"
      },
      "id": "sj5UHgrYGm8h",
      "execution_count": null,
      "outputs": []
    },
    {
      "cell_type": "markdown",
      "source": [
        "### Making predictions using LogisticRegression"
      ],
      "metadata": {
        "id": "0yZwvMIkGt0S"
      },
      "id": "0yZwvMIkGt0S"
    },
    {
      "cell_type": "code",
      "source": [
        "def make_prediction_using_LogReg(user_input):\n",
        "  df1 = spark.createDataFrame([ (1, user_input)],['Id', 'UserTweet'])\n",
        "\n",
        "  df1 = df1.withColumn('UserTweet',words(df1['UserTweet']))\n",
        "  df1 = df1.withColumn(\"wordss\", word_udf(\"UserTweet\"))\n",
        "  df1 = df1.withColumn(\"wordss\", punct_udf1(\"wordss\"))\n",
        "  df1 = df1.withColumn(\"wordss\", array_udf(\"wordss\"))\n",
        "  df1 = df1.withColumn(\"wordss\", lem(\"wordss\"))\n",
        "  df1 = df1.withColumn(\"wordss\", array_udf(\"wordss\"))\n",
        "\n",
        "  df1 = df1.withColumn('tweet_length', length(df1['UserTweet']).astype('int'))\n",
        "  df1 = df1.withColumn('num_hashtags', num_hashtags(df1['UserTweet']).astype('int'))\n",
        "  df1 = df1.withColumn('num_mentions', num_mentions(df1['UserTweet']).astype('int'))\n",
        "  df1 = df1.withColumn('PunctCount',punctCount(df1['UserTweet']).astype('int'))\n",
        "  df1 = df1.withColumn('typePunct',typePunct(df1['UserTweet']).astype('int'))\n",
        "  make  = udf(lambda x : 0)\n",
        "  df1 = df1.withColumn('negativereason_confidence',make(df1['UserTweet']).astype('int'))\n",
        "  df1 = df1.withColumn('airline_sentiment_confidence',make(df1['UserTweet']).astype('int'))\n",
        "  df1 = df1.withColumn('retweet_count',make(df1['UserTweet']).astype('int'))\n",
        "  df1_featured = count_model.transform(df1)\n",
        "  predictions = lrModel.transform(assembler.transform(df1_featured))\n",
        "  df_res = predictions.select('prediction').toPandas()\n",
        "\n",
        "  pred = df_res.prediction.values[0]\n",
        "\n",
        "  if pred == 0:\n",
        "    return \"Positive tweet!\"\n",
        "  elif pred == 1:\n",
        "    return \"Negative Tweet!\"\n",
        "  return \"Neutral tweet\""
      ],
      "metadata": {
        "id": "ADZclscLGyBC"
      },
      "id": "ADZclscLGyBC",
      "execution_count": 151,
      "outputs": []
    },
    {
      "cell_type": "code",
      "source": [
        "# Make a prediction using make_prediction_using_LogReg \"It was a bad approach\"\n",
        "# YOUR CODE HERE\n",
        "user_input = \"It was a bad approach\"\n",
        "sentiment = make_prediction_using_LogReg(user_input)\n",
        "print(sentiment)"
      ],
      "metadata": {
        "id": "w4IL_6uOG2Iq",
        "collapsed": true
      },
      "id": "w4IL_6uOG2Iq",
      "execution_count": null,
      "outputs": []
    },
    {
      "cell_type": "markdown",
      "source": [
        "### Launching Gradio application\n",
        "\n",
        "Deployment is done for both the models:\n",
        "1. Naive bayes\n",
        "2. Logistic regression\n",
        "\n",
        "\n",
        "\n",
        "Let's integrate all the above code snippets in the following code cell and run it with **Gradio interface**.\n",
        "\n",
        "From the start (data loading step), place every code in make_prediction_using_NaiveBayes() including data preprocessing, feature extraction and model training.\n",
        "\n",
        "**Similar procedure will be followed for logistic regression model deployment**\n",
        "* In this case, the name of the application function created will be make_prediction_using_NaiveBayes()\n",
        "\n",
        "* implement the above 2 functions which take one tweet input from user and returns the prediction using the trained model.\n",
        "\n",
        "* use the same preprocessing techniques and features extraction used for train data on user input.\n",
        "\n",
        "* user input can be captured from the textbox from **Gradio** app. Action is triggered when 'Submit' button is clicked and user input is classified using `make_prediction_using_NaiveBayes()` function.\n",
        "\n",
        "* Selecting the Logist Regression tab in Gradio app, user input can be captured from the textbox. Action is triggered when 'Submit' button is clicked and user input is classified using `make_prediction_using_LogReg()` function.\n",
        "\n",
        "For More information about Gradio, click [here](https://www.gradio.app/docs)"
      ],
      "metadata": {
        "id": "J2f1jNf_G27i"
      },
      "id": "J2f1jNf_G27i"
    },
    {
      "cell_type": "markdown",
      "source": [
        "#### Start the app\n",
        "\n",
        "Now that we have written our app, we can now start our app like we would have done if we were running it locally. But the caveat is to run it in the background so that if the following code cell finish running, our app will continue to run as a background process behind."
      ],
      "metadata": {
        "id": "2Jdt_pfVG-q8"
      },
      "id": "2Jdt_pfVG-q8"
    },
    {
      "cell_type": "code",
      "source": [
        "# Launch a Gradio application with two tabbed interfaces for text classification, using Naive Bayes and Logistic Regression models\n",
        "# YOUR CODE HERE\n",
        "tabbed_interface = gr.TabbedInterface([make_prediction_using_NaiveBayes, make_prediction_using_LogReg], [\"Naive Bayes\", \"Logistic Regression\"])\n",
        "tabbed_interface.launch()"
      ],
      "metadata": {
        "id": "iXwpfN81HAD7"
      },
      "id": "iXwpfN81HAD7",
      "execution_count": null,
      "outputs": []
    }
  ]
}