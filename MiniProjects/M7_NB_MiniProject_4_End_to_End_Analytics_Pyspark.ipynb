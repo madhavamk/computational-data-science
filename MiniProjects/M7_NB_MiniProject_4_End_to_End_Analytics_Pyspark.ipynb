{
  "nbformat": 4,
  "nbformat_minor": 5,
  "metadata": {
    "kernelspec": {
      "display_name": "Python 3",
      "language": "python",
      "name": "python3"
    },
    "language_info": {
      "codemirror_mode": {
        "name": "ipython",
        "version": 3
      },
      "file_extension": ".py",
      "mimetype": "text/x-python",
      "name": "python",
      "nbconvert_exporter": "python",
      "pygments_lexer": "ipython3",
      "version": "3.9.2"
    },
    "colab": {
      "provenance": [],
      "include_colab_link": true
    }
  },
  "cells": [
    {
      "cell_type": "markdown",
      "metadata": {
        "id": "view-in-github",
        "colab_type": "text"
      },
      "source": [
        "<a href=\"https://colab.research.google.com/github/madhavamk/computational-data-science/blob/master/MiniProjects/M7_NB_MiniProject_4_End_to_End_Analytics_Pyspark.ipynb\" target=\"_parent\"><img src=\"https://colab.research.google.com/assets/colab-badge.svg\" alt=\"Open In Colab\"/></a>"
      ]
    },
    {
      "cell_type": "markdown",
      "metadata": {
        "id": "intensive-feature"
      },
      "source": [
        "# Advanced Certification Program in Computational Data Science\n",
        "## A program by IISc and TalentSprint\n",
        "### Mini-Project: End-to-end analytics application using Pyspark"
      ],
      "id": "intensive-feature"
    },
    {
      "cell_type": "markdown",
      "metadata": {
        "id": "buried-qualification"
      },
      "source": [
        "## Problem Statement"
      ],
      "id": "buried-qualification"
    },
    {
      "cell_type": "markdown",
      "metadata": {
        "id": "smaller-diana"
      },
      "source": [
        "Perform sentiment classification by analyzing the tweets data with Pyspark"
      ],
      "id": "smaller-diana"
    },
    {
      "cell_type": "markdown",
      "metadata": {
        "id": "opposite-defense"
      },
      "source": [
        "## Learning Objectives"
      ],
      "id": "opposite-defense"
    },
    {
      "cell_type": "markdown",
      "metadata": {
        "id": "incoming-professor"
      },
      "source": [
        "At the end of the mini-project, you will be able to :\n",
        "\n",
        "* analyze the text data using pyspark\n",
        "* derive the insights and visualize the data\n",
        "* implement feature extraction and classify the data\n",
        "* train the classification model and deploy"
      ],
      "id": "incoming-professor"
    },
    {
      "cell_type": "markdown",
      "metadata": {
        "id": "varied-emission"
      },
      "source": [
        "### Dataset"
      ],
      "id": "varied-emission"
    },
    {
      "cell_type": "markdown",
      "metadata": {
        "id": "usual-suffering"
      },
      "source": [
        "The dataset chosen for this mini-project is **[Twitter US Airline Sentiment](https://data.world/socialmediadata/twitter-us-airline-sentiment)**. It is a record of tweets about airlines in the US. It was created by scraping Twitter data from February 2015. Contributors were asked to first classify positive, negative, and neutral tweets, followed by categorizing negative reasons (such as \"late flight\" or \"rude service\").  Along with other information, it contains ID of a Tweet, the sentiment of a tweet ( neutral, negative and positive), reason for a negative tweet, name of airline and text of a tweet."
      ],
      "id": "usual-suffering"
    },
    {
      "cell_type": "markdown",
      "metadata": {
        "id": "original-tsunami"
      },
      "source": [
        "## Information"
      ],
      "id": "original-tsunami"
    },
    {
      "cell_type": "markdown",
      "metadata": {
        "id": "premier-northeast"
      },
      "source": [
        "The airline industry is a very competitive market that has grown rapidly in the past 2 decades. Airline companies resort to traditional customer feedback forms which in turn are very tedious and time consuming. This is where Twitter data serves as a good source to gather customer feedback tweets and perform sentiment analysis. This dataset comprises of tweets for 6 major US Airlines and a multi-class classification can be performed to categorize the sentiment (neutral, negative, positive). For this mini-project we will start with pre-processing techniques to clean the tweets and then represent these tweets as vectors. A classification algorithm will be used to predict the sentiment for unseen tweets data. The end-to-end analytics will be performed using Pyspark."
      ],
      "id": "premier-northeast"
    },
    {
      "cell_type": "markdown",
      "metadata": {
        "id": "BewwTjZaJojg"
      },
      "source": [
        "## Grading = 10 Points"
      ],
      "id": "BewwTjZaJojg"
    },
    {
      "cell_type": "markdown",
      "source": [
        "Install Spark"
      ],
      "metadata": {
        "id": "t15hsIfsCv4S"
      },
      "id": "t15hsIfsCv4S"
    },
    {
      "cell_type": "code",
      "source": [
        "# install java\n",
        "#!apt-get install openjdk-8-jdk-headless -qq > /dev/null\n",
        "!apt-get install openjdk-11-jdk-headless -qq > /dev/null\n",
        "\n",
        "# install spark (change the version number if needed)\n",
        "!wget -q https://archive.apache.org/dist/spark/spark-3.0.0/spark-3.0.0-bin-hadoop3.2.tgz\n",
        "\n",
        "# unzip the spark file to the current folder\n",
        "!tar xf spark-3.0.0-bin-hadoop3.2.tgz"
      ],
      "metadata": {
        "id": "irNFWnK6DGQf"
      },
      "id": "irNFWnK6DGQf",
      "execution_count": 1,
      "outputs": []
    },
    {
      "cell_type": "markdown",
      "source": [
        "**Note: The above code cell will take around 8 mins 30 secs for execution.**\n"
      ],
      "metadata": {
        "id": "8cA77n9ADMid"
      },
      "id": "8cA77n9ADMid"
    },
    {
      "cell_type": "markdown",
      "source": [
        "### Set the os environment"
      ],
      "metadata": {
        "id": "0zTjjKDuDT3F"
      },
      "id": "0zTjjKDuDT3F"
    },
    {
      "cell_type": "code",
      "source": [
        "# set your spark folder to your system path environment.\n",
        "import os\n",
        "os.environ[\"JAVA_HOME\"] = \"/usr/lib/jvm/java-11-openjdk-amd64\"\n",
        "os.environ[\"SPARK_HOME\"] = \"/content/spark-3.0.0-bin-hadoop3.2\""
      ],
      "metadata": {
        "id": "bWC2AmDHDXBw"
      },
      "id": "bWC2AmDHDXBw",
      "execution_count": 2,
      "outputs": []
    },
    {
      "cell_type": "markdown",
      "source": [
        "### Install findspark"
      ],
      "metadata": {
        "id": "FJ7kR3AnDebO"
      },
      "id": "FJ7kR3AnDebO"
    },
    {
      "cell_type": "code",
      "source": [
        "# install findspark using pip\n",
        "!pip install -q findspark"
      ],
      "metadata": {
        "id": "9Quap-c8DiW4"
      },
      "id": "9Quap-c8DiW4",
      "execution_count": 3,
      "outputs": []
    },
    {
      "cell_type": "markdown",
      "metadata": {
        "id": "younger-macro"
      },
      "source": [
        "#### Install Pyspark"
      ],
      "id": "younger-macro"
    },
    {
      "cell_type": "code",
      "source": [
        "#@title Install packages and download the dataset\n",
        "!pip -qq install pyspark\n",
        "!pip -qq install handyspark\n",
        "!wget -qq https://cdn.iisc.talentsprint.com/CDS/MiniProjects/US_Airline_Tweets.csv\n",
        "print(\"Packages installed successfully and dataset downloaded!!\")"
      ],
      "metadata": {
        "id": "4giPAEaxCnur",
        "colab": {
          "base_uri": "https://localhost:8080/"
        },
        "outputId": "09e9075a-060d-4916-bb15-e27f6251e8f4"
      },
      "id": "4giPAEaxCnur",
      "execution_count": 4,
      "outputs": [
        {
          "output_type": "stream",
          "name": "stdout",
          "text": [
            "Packages installed successfully and dataset downloaded!!\n"
          ]
        }
      ]
    },
    {
      "cell_type": "code",
      "source": [
        "#from handyspark import *\n",
        "import findspark\n",
        "findspark.init()"
      ],
      "metadata": {
        "id": "Az5P_HI7DuiI"
      },
      "id": "Az5P_HI7DuiI",
      "execution_count": 5,
      "outputs": []
    },
    {
      "cell_type": "markdown",
      "source": [
        "### Install numpy==1.26.0"
      ],
      "metadata": {
        "id": "3GeyP8NoDzK6"
      },
      "id": "3GeyP8NoDzK6"
    },
    {
      "cell_type": "code",
      "source": [
        "!pip -qq install mxnet-mkl==1.6.0 numpy==1.26.0"
      ],
      "metadata": {
        "id": "xpD0lw2gD0pJ",
        "colab": {
          "base_uri": "https://localhost:8080/"
        },
        "outputId": "565fceb1-bcad-420e-fec6-eb14abe58a18"
      },
      "id": "xpD0lw2gD0pJ",
      "execution_count": 6,
      "outputs": [
        {
          "output_type": "stream",
          "name": "stdout",
          "text": [
            "\u001b[2K     \u001b[90m━━━━━━━━━━━━━━━━━━━━━━━━━━━━━━━━━━━━━━━━\u001b[0m \u001b[32m58.5/58.5 kB\u001b[0m \u001b[31m2.3 MB/s\u001b[0m eta \u001b[36m0:00:00\u001b[0m\n",
            "\u001b[2K   \u001b[90m━━━━━━━━━━━━━━━━━━━━━━━━━━━━━━━━━━━━━━━━\u001b[0m \u001b[32m76.7/76.7 MB\u001b[0m \u001b[31m10.4 MB/s\u001b[0m eta \u001b[36m0:00:00\u001b[0m\n",
            "\u001b[2K   \u001b[90m━━━━━━━━━━━━━━━━━━━━━━━━━━━━━━━━━━━━━━━━\u001b[0m \u001b[32m18.2/18.2 MB\u001b[0m \u001b[31m56.0 MB/s\u001b[0m eta \u001b[36m0:00:00\u001b[0m\n",
            "\u001b[?25h"
          ]
        }
      ]
    },
    {
      "cell_type": "code",
      "source": [
        "import numpy as np\n",
        "#np.bool = np.bool_"
      ],
      "metadata": {
        "id": "XiRTXWCrD3Gx"
      },
      "id": "XiRTXWCrD3Gx",
      "execution_count": 7,
      "outputs": []
    },
    {
      "cell_type": "markdown",
      "source": [
        "### Import Handyspark"
      ],
      "metadata": {
        "id": "yxP3naQqD9Rv"
      },
      "id": "yxP3naQqD9Rv"
    },
    {
      "cell_type": "code",
      "source": [
        "#Downgrade Numpy to 1.23.1\n",
        "!pip install numpy==1.23.1"
      ],
      "metadata": {
        "id": "e7bn-zWRcfoe",
        "colab": {
          "base_uri": "https://localhost:8080/",
          "height": 828
        },
        "outputId": "2aa6d83a-299f-4269-dd90-43b6eb060b5a"
      },
      "id": "e7bn-zWRcfoe",
      "execution_count": 8,
      "outputs": [
        {
          "output_type": "stream",
          "name": "stdout",
          "text": [
            "Collecting numpy==1.23.1\n",
            "  Downloading numpy-1.23.1.tar.gz (10.7 MB)\n",
            "\u001b[2K     \u001b[90m━━━━━━━━━━━━━━━━━━━━━━━━━━━━━━━━━━━━━━━━\u001b[0m \u001b[32m10.7/10.7 MB\u001b[0m \u001b[31m62.8 MB/s\u001b[0m eta \u001b[36m0:00:00\u001b[0m\n",
            "\u001b[?25h  Installing build dependencies ... \u001b[?25l\u001b[?25hdone\n",
            "  Getting requirements to build wheel ... \u001b[?25l\u001b[?25hdone\n",
            "  Preparing metadata (pyproject.toml) ... \u001b[?25l\u001b[?25hdone\n",
            "Building wheels for collected packages: numpy\n",
            "  Building wheel for numpy (pyproject.toml) ... \u001b[?25l\u001b[?25hdone\n",
            "  Created wheel for numpy: filename=numpy-1.23.1-cp311-cp311-linux_x86_64.whl size=19731092 sha256=1b78c4c2cf46fcfdbf8171b3cedb45d99b17eaf43042b51516118e9c98733721\n",
            "  Stored in directory: /root/.cache/pip/wheels/54/67/ec/c3e57b4b51328fb39dd4d63906b0d3bd37a312508e5922682f\n",
            "Successfully built numpy\n",
            "Installing collected packages: numpy\n",
            "  Attempting uninstall: numpy\n",
            "    Found existing installation: numpy 1.26.0\n",
            "    Uninstalling numpy-1.26.0:\n",
            "      Successfully uninstalled numpy-1.26.0\n",
            "\u001b[31mERROR: pip's dependency resolver does not currently take into account all the packages that are installed. This behaviour is the source of the following dependency conflicts.\n",
            "flax 0.10.2 requires numpy>=1.23.2; python_version >= \"3.11\", but you have numpy 1.23.1 which is incompatible.\n",
            "opencv-contrib-python 4.10.0.84 requires numpy>=1.23.5; python_version >= \"3.11\", but you have numpy 1.23.1 which is incompatible.\n",
            "ibis-framework 9.2.0 requires numpy<3,>=1.23.2, but you have numpy 1.23.1 which is incompatible.\n",
            "albumentations 1.4.20 requires numpy>=1.24.4, but you have numpy 1.23.1 which is incompatible.\n",
            "opencv-python 4.10.0.84 requires numpy>=1.23.5; python_version >= \"3.11\", but you have numpy 1.23.1 which is incompatible.\n",
            "scikit-image 0.25.1 requires numpy>=1.24, but you have numpy 1.23.1 which is incompatible.\n",
            "jaxlib 0.4.33 requires numpy>=1.24, but you have numpy 1.23.1 which is incompatible.\n",
            "tensorflow 2.18.0 requires numpy<2.1.0,>=1.26.0, but you have numpy 1.23.1 which is incompatible.\n",
            "opencv-python-headless 4.11.0.86 requires numpy>=1.23.5; python_version >= \"3.11\", but you have numpy 1.23.1 which is incompatible.\n",
            "albucore 0.0.19 requires numpy>=1.24.4, but you have numpy 1.23.1 which is incompatible.\n",
            "pandas 2.2.2 requires numpy>=1.23.2; python_version == \"3.11\", but you have numpy 1.23.1 which is incompatible.\n",
            "chex 0.1.88 requires numpy>=1.24.1, but you have numpy 1.23.1 which is incompatible.\n",
            "ml-dtypes 0.4.1 requires numpy>=1.23.3; python_version >= \"3.11\", but you have numpy 1.23.1 which is incompatible.\n",
            "bigframes 1.34.0 requires numpy>=1.24.0, but you have numpy 1.23.1 which is incompatible.\n",
            "pandas-stubs 2.2.2.240909 requires numpy>=1.23.5, but you have numpy 1.23.1 which is incompatible.\n",
            "jax 0.4.33 requires numpy>=1.24, but you have numpy 1.23.1 which is incompatible.\n",
            "blosc2 3.0.0 requires numpy>=1.25.0, but you have numpy 1.23.1 which is incompatible.\n",
            "plotnine 0.14.5 requires numpy>=1.23.5, but you have numpy 1.23.1 which is incompatible.\n",
            "xarray 2025.1.1 requires numpy>=1.24, but you have numpy 1.23.1 which is incompatible.\n",
            "mizani 0.13.1 requires numpy>=1.23.5, but you have numpy 1.23.1 which is incompatible.\n",
            "imbalanced-learn 0.13.0 requires numpy<3,>=1.24.3, but you have numpy 1.23.1 which is incompatible.\n",
            "pymc 5.19.1 requires numpy>=1.25.0, but you have numpy 1.23.1 which is incompatible.\u001b[0m\u001b[31m\n",
            "\u001b[0mSuccessfully installed numpy-1.23.1\n"
          ]
        },
        {
          "output_type": "display_data",
          "data": {
            "application/vnd.colab-display-data+json": {
              "pip_warning": {
                "packages": [
                  "numpy"
                ]
              },
              "id": "b765aa3231c3433c8ec666ef97d971af"
            }
          },
          "metadata": {}
        }
      ]
    },
    {
      "cell_type": "markdown",
      "source": [
        "###After running the above code cell please restart the session"
      ],
      "metadata": {
        "id": "WhWih0aKdOZ6"
      },
      "id": "WhWih0aKdOZ6"
    },
    {
      "cell_type": "code",
      "source": [
        "import handyspark"
      ],
      "metadata": {
        "id": "CeLSuRtBD-u2"
      },
      "id": "CeLSuRtBD-u2",
      "execution_count": 1,
      "outputs": []
    },
    {
      "cell_type": "markdown",
      "metadata": {
        "id": "rough-battlefield"
      },
      "source": [
        "#### Import required packages"
      ],
      "id": "rough-battlefield"
    },
    {
      "cell_type": "code",
      "metadata": {
        "id": "cheap-workplace"
      },
      "source": [
        "import os\n",
        "import numpy as np\n",
        "import pandas as pd\n",
        "# fixes issue with seaborn hiding fliers on boxplot\n",
        "import matplotlib as mpl\n",
        "%matplotlib inline\n",
        "\n",
        "from pyspark.sql import SparkSession\n",
        "from pyspark.sql.functions import *\n",
        "from handyspark import *\n",
        "import seaborn as sns\n",
        "from matplotlib import pyplot as plt\n",
        "import re\n",
        "import string\n",
        "from pyspark.ml.feature import VectorAssembler\n",
        "from pyspark.ml.feature import CountVectorizer\n",
        "from pyspark.ml.classification import NaiveBayes\n",
        "from pyspark.sql.types import ArrayType, StringType\n",
        "import warnings\n",
        "warnings.filterwarnings(\"ignore\")"
      ],
      "id": "cheap-workplace",
      "execution_count": 2,
      "outputs": []
    },
    {
      "cell_type": "code",
      "metadata": {
        "id": "useful-meter",
        "colab": {
          "base_uri": "https://localhost:8080/"
        },
        "outputId": "8e94089d-38fa-45db-8043-d73bfa072ce6"
      },
      "source": [
        "# NLTK imports\n",
        "import nltk\n",
        "nltk.download('punkt')\n",
        "nltk.download('punkt_tab')\n",
        "# Download stopwords\n",
        "nltk.download('stopwords')\n",
        "nltk.download('wordnet')\n",
        "nltk.download('omw-1.4')\n",
        "from nltk.corpus import stopwords\n",
        "from nltk.tokenize import word_tokenize\n",
        "from nltk.stem import WordNetLemmatizer"
      ],
      "id": "useful-meter",
      "execution_count": 3,
      "outputs": [
        {
          "output_type": "stream",
          "name": "stderr",
          "text": [
            "[nltk_data] Downloading package punkt to /root/nltk_data...\n",
            "[nltk_data]   Unzipping tokenizers/punkt.zip.\n",
            "[nltk_data] Downloading package punkt_tab to /root/nltk_data...\n",
            "[nltk_data]   Unzipping tokenizers/punkt_tab.zip.\n",
            "[nltk_data] Downloading package stopwords to /root/nltk_data...\n",
            "[nltk_data]   Unzipping corpora/stopwords.zip.\n",
            "[nltk_data] Downloading package wordnet to /root/nltk_data...\n",
            "[nltk_data] Downloading package omw-1.4 to /root/nltk_data...\n"
          ]
        }
      ]
    },
    {
      "cell_type": "markdown",
      "metadata": {
        "id": "pregnant-april"
      },
      "source": [
        "### Data Loading"
      ],
      "id": "pregnant-april"
    },
    {
      "cell_type": "markdown",
      "metadata": {
        "id": "toxic-baseball"
      },
      "source": [
        "#### Start a Spark Session\n",
        "\n",
        "Spark session is a combined entry point of a Spark application, which came into implementation from Spark 2.0. It provides a way to interact with various Spark functionalities, with a lesser number of constructs."
      ],
      "id": "toxic-baseball"
    },
    {
      "cell_type": "code",
      "metadata": {
        "id": "christian-rental"
      },
      "source": [
        "# YOUR CODE HERE\n",
        "spark = SparkSession.builder.appName(\"MiniProject\").getOrCreate()"
      ],
      "id": "christian-rental",
      "execution_count": 4,
      "outputs": []
    },
    {
      "cell_type": "markdown",
      "metadata": {
        "id": "casual-narrative"
      },
      "source": [
        "#### Load the data and infer the schema\n",
        "\n",
        "To load the dataset use the `read.csv` with `inferSchema` and `header` as parameters."
      ],
      "id": "casual-narrative"
    },
    {
      "cell_type": "code",
      "metadata": {
        "id": "natural-lexington"
      },
      "source": [
        "path = \"/content/US_Airline_Tweets.csv\"\n",
        "# YOUR CODE HERE\n",
        "df = spark.read.csv(path, header=True, inferSchema=True)"
      ],
      "id": "natural-lexington",
      "execution_count": 5,
      "outputs": []
    },
    {
      "cell_type": "markdown",
      "metadata": {
        "id": "lFZu1AVBHs0X"
      },
      "source": [
        "### EDA & Visualization ( 2 points)"
      ],
      "id": "lFZu1AVBHs0X"
    },
    {
      "cell_type": "markdown",
      "metadata": {
        "id": "angry-canyon"
      },
      "source": [
        "#### Visualize the horizontal barplot of airline_sentiment (positive, negative, neutral)\n",
        "\n",
        "Convert the data to handyspark and remove the other records from the column except 3 values mentioned above and plot the graph"
      ],
      "id": "angry-canyon"
    },
    {
      "cell_type": "code",
      "metadata": {
        "id": "accomplished-crest",
        "colab": {
          "base_uri": "https://localhost:8080/",
          "height": 427
        },
        "outputId": "5afc3dcd-8453-4749-eb46-0f9f78d6c272"
      },
      "source": [
        "# YOUR CODE HERE\n",
        "hdf = df.toHandy()\n",
        "# Filter\n",
        "hdf = hdf.filter(hdf['airline_sentiment'].isin(['positive', 'negative', 'neutral']))\n",
        "\n",
        "# Plot horizontal barplot\n",
        "fig, axs = plt.subplots(1, 1, figsize=(12, 4))\n",
        "hdf.cols['airline_sentiment'].hist(ax=axs)"
      ],
      "id": "accomplished-crest",
      "execution_count": 24,
      "outputs": [
        {
          "output_type": "execute_result",
          "data": {
            "text/plain": [
              "<Axes: title={'center': 'airline_sentiment'}, xlabel='airline_sentiment'>"
            ]
          },
          "metadata": {},
          "execution_count": 24
        },
        {
          "output_type": "display_data",
          "data": {
            "text/plain": [
              "<Figure size 1200x400 with 1 Axes>"
            ],
            "image/png": "[encoded data removed]"
          },
          "metadata": {}
        }
      ]
    },
    {
      "cell_type": "code",
      "source": [
        "hdf.show()"
      ],
      "metadata": {
        "colab": {
          "base_uri": "https://localhost:8080/"
        },
        "id": "Vwsmpeb6WPs1",
        "outputId": "24b5eedb-b286-4520-efb1-f5dda7257d04"
      },
      "id": "Vwsmpeb6WPs1",
      "execution_count": 10,
      "outputs": [
        {
          "output_type": "stream",
          "name": "stdout",
          "text": [
            "+--------------------+-----------------+----------------------------+--------------+-------------------------+--------------+----------------------+---------------+-------------------+-------------+--------------------+-----------+--------------------+--------------------+--------------------+\n",
            "|            tweet_id|airline_sentiment|airline_sentiment_confidence|negativereason|negativereason_confidence|       airline|airline_sentiment_gold|           name|negativereason_gold|retweet_count|                text|tweet_coord|       tweet_created|      tweet_location|       user_timezone|\n",
            "+--------------------+-----------------+----------------------------+--------------+-------------------------+--------------+----------------------+---------------+-------------------+-------------+--------------------+-----------+--------------------+--------------------+--------------------+\n",
            "|  570306133677760513|          neutral|                         1.0|          NULL|                     NULL|Virgin America|                  NULL|        cairdin|               NULL|            0|@VirginAmerica Wh...|       NULL|2015-02-24 11:35:...|                NULL|Eastern Time (US ...|\n",
            "|  570301130888122368|         positive|                      0.3486|          NULL|                      0.0|Virgin America|                  NULL|       jnardino|               NULL|            0|@VirginAmerica pl...|       NULL|2015-02-24 11:15:...|                NULL|Pacific Time (US ...|\n",
            "|  570301083672813571|          neutral|                      0.6837|          NULL|                     NULL|Virgin America|                  NULL|     yvonnalynn|               NULL|            0|@VirginAmerica I ...|       NULL|2015-02-24 11:15:...|           Lets Play|Central Time (US ...|\n",
            "|  570301031407624196|         negative|                         1.0|    Bad Flight|                   0.7033|Virgin America|                  NULL|       jnardino|               NULL|            0|\"@VirginAmerica i...|       NULL|2015-02-24 11:15:...|                NULL|Pacific Time (US ...|\n",
            "|  570300817074462722|         negative|                         1.0|    Can't Tell|                      1.0|Virgin America|                  NULL|       jnardino|               NULL|            0|@VirginAmerica an...|       NULL|2015-02-24 11:14:...|                NULL|Pacific Time (US ...|\n",
            "|  570300767074181121|         negative|                         1.0|    Can't Tell|                   0.6842|Virgin America|                  NULL|       jnardino|               NULL|            0|@VirginAmerica se...|       NULL|                NULL|                NULL|                NULL|\n",
            "|it's really the o...|             NULL|        2015-02-24 11:14:...|          NULL|     Pacific Time (US ...|          NULL|                  NULL|           NULL|               NULL|         NULL|                NULL|       NULL|                NULL|                NULL|                NULL|\n",
            "|  570300616901320704|         positive|                      0.6745|          NULL|                      0.0|Virgin America|                  NULL|     cjmcginnis|               NULL|            0|@VirginAmerica ye...|       NULL|2015-02-24 11:13:...|    San Francisco CA|Pacific Time (US ...|\n",
            "|  570300248553349120|          neutral|                       0.634|          NULL|                     NULL|Virgin America|                  NULL|          pilot|               NULL|            0|@VirginAmerica Re...|       NULL|2015-02-24 11:12:...|         Los Angeles|Pacific Time (US ...|\n",
            "|  570299953286942721|         positive|                      0.6559|          NULL|                     NULL|Virgin America|                  NULL|       dhepburn|               NULL|            0|@virginamerica We...|       NULL|2015-02-24 11:11:...|           San Diego|Pacific Time (US ...|\n",
            "|  570295459631263746|         positive|                         1.0|          NULL|                     NULL|Virgin America|                  NULL|     YupitsTate|               NULL|            0|@VirginAmerica it...|       NULL|2015-02-24 10:53:...|         Los Angeles|Eastern Time (US ...|\n",
            "|  570294189143031808|          neutral|                      0.6769|          NULL|                      0.0|Virgin America|                  NULL|idk_but_youtube|               NULL|            0|@VirginAmerica di...|       NULL|2015-02-24 10:48:...|     1/1 loner squad|Eastern Time (US ...|\n",
            "|  570289724453216256|         positive|                         1.0|          NULL|                     NULL|Virgin America|                  NULL|   HyperCamiLax|               NULL|            0|@VirginAmerica I ...|       NULL|2015-02-24 10:30:...|                 NYC|    America/New_York|\n",
            "|  570289584061480960|         positive|                         1.0|          NULL|                     NULL|Virgin America|                  NULL|   HyperCamiLax|               NULL|            0|@VirginAmerica Th...|       NULL|2015-02-24 10:30:...|                 NYC|    America/New_York|\n",
            "|  570287408438120448|         positive|                      0.6451|          NULL|                     NULL|Virgin America|                  NULL|   mollanderson|               NULL|            0|@VirginAmerica @v...|       NULL|2015-02-24 10:21:...|                NULL|Eastern Time (US ...|\n",
            "|  570285904809598977|         positive|                         1.0|          NULL|                     NULL|Virgin America|                  NULL|       sjespers|               NULL|            0|@VirginAmerica Th...|       NULL|2015-02-24 10:15:...|   San Francisco, CA|Pacific Time (US ...|\n",
            "|  570282469121007616|         negative|                      0.6842|   Late Flight|                   0.3684|Virgin America|                  NULL|smartwatermelon|               NULL|            0|@VirginAmerica SF...|       NULL|2015-02-24 10:01:...|       palo alto, ca|Pacific Time (US ...|\n",
            "|  570277724385734656|         positive|                         1.0|          NULL|                     NULL|Virgin America|                  NULL|  ItzBrianHunty|               NULL|            0|@VirginAmerica So...|       NULL|2015-02-24 09:42:...|         west covina|Pacific Time (US ...|\n",
            "|  570276917301137409|         negative|                         1.0|    Bad Flight|                      1.0|Virgin America|                  NULL|  heatherovieda|               NULL|            0|@VirginAmerica  I...|       NULL|2015-02-24 09:39:...|this place called...|Eastern Time (US ...|\n",
            "|  570270684619923457|         positive|                         1.0|          NULL|                     NULL|Virgin America|                  NULL|   thebrandiray|               NULL|            0|I ❤️ flying @Virg...|       NULL|2015-02-24 09:15:...|Somewhere celebra...|Atlantic Time (Ca...|\n",
            "+--------------------+-----------------+----------------------------+--------------+-------------------------+--------------+----------------------+---------------+-------------------+-------------+--------------------+-----------+--------------------+--------------------+--------------------+\n",
            "only showing top 20 rows\n",
            "\n"
          ]
        }
      ]
    },
    {
      "cell_type": "markdown",
      "metadata": {
        "id": "serial-cedar"
      },
      "source": [
        "#### Plot the number of tweets received for each airline"
      ],
      "id": "serial-cedar"
    },
    {
      "cell_type": "code",
      "metadata": {
        "id": "peripheral-bookmark",
        "colab": {
          "base_uri": "https://localhost:8080/",
          "height": 489
        },
        "outputId": "55b77df1-5075-41e4-c3e7-310c0a9f4681"
      },
      "source": [
        "# YOUR CODE HERE\n",
        "hdf.cols['airline'].hist()"
      ],
      "id": "peripheral-bookmark",
      "execution_count": 25,
      "outputs": [
        {
          "output_type": "execute_result",
          "data": {
            "text/plain": [
              "<Axes: title={'center': 'airline'}, xlabel='airline'>"
            ]
          },
          "metadata": {},
          "execution_count": 25
        },
        {
          "output_type": "display_data",
          "data": {
            "text/plain": [
              "<Figure size 640x480 with 1 Axes>"
            ],
            "image/png": "[encoded data removed]"
          },
          "metadata": {}
        }
      ]
    },
    {
      "cell_type": "markdown",
      "metadata": {
        "id": "surface-major"
      },
      "source": [
        "#### Visualize a stacked barchart of 6 US airlines and 3 sentiments on each bar\n",
        "\n",
        "* Group the sentiment counts for each airline. [hint](https://github.com/dvgodoy/handyspark#stratify)\n",
        "\n",
        "* Display the count corresponding to each sentiment in each bar. [hint](https://cdn.iisc.talentsprint.com/CDS/MiniProjects/M5_NB_MiniProject_4_End_to_End_Analytics_Pyspark%20priteshbgohil_medium_com_stacked_bar_chart_in_python.pdf)"
      ],
      "id": "surface-major"
    },
    {
      "cell_type": "code",
      "metadata": {
        "id": "FkhT25vtNuz8",
        "colab": {
          "base_uri": "https://localhost:8080/",
          "height": 1000
        },
        "outputId": "97bbe408-0016-44cf-b08a-b9c470b5e8fb"
      },
      "source": [
        "# YOUR CODE HERE\n",
        "# Group sentiment count for each airline\n",
        "# hdf.stratify('airline').cols['airline_sentiment'].hist()\n"
      ],
      "id": "FkhT25vtNuz8",
      "execution_count": 33,
      "outputs": [
        {
          "output_type": "stream",
          "name": "stdout",
          "text": [
            "\n",
            "INFO: Safety is ON - returning up to 1000 instances.\n",
            "\n",
            "INFO: Safety is ON - returning up to 1000 instances.\n",
            "\n",
            "INFO: Safety is ON - returning up to 1000 instances.\n",
            "\n",
            "INFO: Safety is ON - returning up to 1000 instances.\n",
            "\n",
            "INFO: Safety is ON - returning up to 1000 instances.\n",
            "\n",
            "INFO: Safety is ON - returning up to 1000 instances.\n",
            "\n",
            "INFO: Safety is ON - returning up to 1000 instances.\n",
            "\n",
            "INFO: Safety is ON - returning up to 1000 instances.\n",
            "\n",
            "INFO: Safety is ON - returning up to 1000 instances.\n",
            "\n",
            "INFO: Safety is ON - returning up to 1000 instances.\n",
            "\n",
            "INFO: Safety is ON - returning up to 1000 instances.\n",
            "\n",
            "INFO: Safety is ON - returning up to 1000 instances.\n",
            "\n",
            "INFO: Safety is ON - returning up to 1000 instances.\n",
            "\n",
            "INFO: Safety is ON - returning up to 1000 instances.\n",
            "\n",
            "INFO: Safety is ON - returning up to 1000 instances.\n",
            "\n",
            "INFO: Safety is ON - returning up to 1000 instances.\n",
            "\n",
            "INFO: Safety is ON - returning up to 1000 instances.\n",
            "\n",
            "INFO: Safety is ON - returning up to 1000 instances.\n"
          ]
        },
        {
          "output_type": "error",
          "ename": "KeyError",
          "evalue": "'airline'",
          "traceback": [
            "\u001b[0;31m---------------------------------------------------------------------------\u001b[0m",
            "\u001b[0;31mKeyError\u001b[0m                                  Traceback (most recent call last)",
            "\u001b[0;32m/usr/local/lib/python3.11/dist-packages/pandas/core/indexes/base.py\u001b[0m in \u001b[0;36mget_loc\u001b[0;34m(self, key)\u001b[0m\n\u001b[1;32m   3804\u001b[0m         \u001b[0;32mtry\u001b[0m\u001b[0;34m:\u001b[0m\u001b[0;34m\u001b[0m\u001b[0;34m\u001b[0m\u001b[0m\n\u001b[0;32m-> 3805\u001b[0;31m             \u001b[0;32mreturn\u001b[0m \u001b[0mself\u001b[0m\u001b[0;34m.\u001b[0m\u001b[0m_engine\u001b[0m\u001b[0;34m.\u001b[0m\u001b[0mget_loc\u001b[0m\u001b[0;34m(\u001b[0m\u001b[0mcasted_key\u001b[0m\u001b[0;34m)\u001b[0m\u001b[0;34m\u001b[0m\u001b[0;34m\u001b[0m\u001b[0m\n\u001b[0m\u001b[1;32m   3806\u001b[0m         \u001b[0;32mexcept\u001b[0m \u001b[0mKeyError\u001b[0m \u001b[0;32mas\u001b[0m \u001b[0merr\u001b[0m\u001b[0;34m:\u001b[0m\u001b[0;34m\u001b[0m\u001b[0;34m\u001b[0m\u001b[0m\n",
            "\u001b[0;32mindex.pyx\u001b[0m in \u001b[0;36mpandas._libs.index.IndexEngine.get_loc\u001b[0;34m()\u001b[0m\n",
            "\u001b[0;32mindex.pyx\u001b[0m in \u001b[0;36mpandas._libs.index.IndexEngine.get_loc\u001b[0;34m()\u001b[0m\n",
            "\u001b[0;32mpandas/_libs/hashtable_class_helper.pxi\u001b[0m in \u001b[0;36mpandas._libs.hashtable.PyObjectHashTable.get_item\u001b[0;34m()\u001b[0m\n",
            "\u001b[0;32mpandas/_libs/hashtable_class_helper.pxi\u001b[0m in \u001b[0;36mpandas._libs.hashtable.PyObjectHashTable.get_item\u001b[0;34m()\u001b[0m\n",
            "\u001b[0;31mKeyError\u001b[0m: 'airline'",
            "\nThe above exception was the direct cause of the following exception:\n",
            "\u001b[0;31mKeyError\u001b[0m                                  Traceback (most recent call last)",
            "\u001b[0;32m<ipython-input-33-5caa8938eaad>\u001b[0m in \u001b[0;36m<cell line: 0>\u001b[0;34m()\u001b[0m\n\u001b[1;32m     12\u001b[0m \u001b[0;34m\u001b[0m\u001b[0m\n\u001b[1;32m     13\u001b[0m \u001b[0;31m# Pivot the DataFrame for stacked bar chart\u001b[0m\u001b[0;34m\u001b[0m\u001b[0;34m\u001b[0m\u001b[0m\n\u001b[0;32m---> 14\u001b[0;31m \u001b[0mairline_sentiment_pivot\u001b[0m \u001b[0;34m=\u001b[0m \u001b[0mairline_sentiment_counts_pd\u001b[0m\u001b[0;34m.\u001b[0m\u001b[0mpivot\u001b[0m\u001b[0;34m(\u001b[0m\u001b[0mindex\u001b[0m\u001b[0;34m=\u001b[0m\u001b[0;34m'airline'\u001b[0m\u001b[0;34m,\u001b[0m \u001b[0mcolumns\u001b[0m\u001b[0;34m=\u001b[0m\u001b[0;34m'airline_sentiment'\u001b[0m\u001b[0;34m,\u001b[0m \u001b[0mvalues\u001b[0m\u001b[0;34m=\u001b[0m\u001b[0;34m'count'\u001b[0m\u001b[0;34m)\u001b[0m\u001b[0;34m\u001b[0m\u001b[0;34m\u001b[0m\u001b[0m\n\u001b[0m\u001b[1;32m     15\u001b[0m \u001b[0;34m\u001b[0m\u001b[0m\n\u001b[1;32m     16\u001b[0m \u001b[0;31m# Plot the stacked bar chart\u001b[0m\u001b[0;34m\u001b[0m\u001b[0;34m\u001b[0m\u001b[0m\n",
            "\u001b[0;32m/usr/local/lib/python3.11/dist-packages/pandas/core/frame.py\u001b[0m in \u001b[0;36mpivot\u001b[0;34m(self, columns, index, values)\u001b[0m\n\u001b[1;32m   9337\u001b[0m         \u001b[0;32mfrom\u001b[0m \u001b[0mpandas\u001b[0m\u001b[0;34m.\u001b[0m\u001b[0mcore\u001b[0m\u001b[0;34m.\u001b[0m\u001b[0mreshape\u001b[0m\u001b[0;34m.\u001b[0m\u001b[0mpivot\u001b[0m \u001b[0;32mimport\u001b[0m \u001b[0mpivot\u001b[0m\u001b[0;34m\u001b[0m\u001b[0;34m\u001b[0m\u001b[0m\n\u001b[1;32m   9338\u001b[0m \u001b[0;34m\u001b[0m\u001b[0m\n\u001b[0;32m-> 9339\u001b[0;31m         \u001b[0;32mreturn\u001b[0m \u001b[0mpivot\u001b[0m\u001b[0;34m(\u001b[0m\u001b[0mself\u001b[0m\u001b[0;34m,\u001b[0m \u001b[0mindex\u001b[0m\u001b[0;34m=\u001b[0m\u001b[0mindex\u001b[0m\u001b[0;34m,\u001b[0m \u001b[0mcolumns\u001b[0m\u001b[0;34m=\u001b[0m\u001b[0mcolumns\u001b[0m\u001b[0;34m,\u001b[0m \u001b[0mvalues\u001b[0m\u001b[0;34m=\u001b[0m\u001b[0mvalues\u001b[0m\u001b[0;34m)\u001b[0m\u001b[0;34m\u001b[0m\u001b[0;34m\u001b[0m\u001b[0m\n\u001b[0m\u001b[1;32m   9340\u001b[0m \u001b[0;34m\u001b[0m\u001b[0m\n\u001b[1;32m   9341\u001b[0m     _shared_docs[\n",
            "\u001b[0;32m/usr/local/lib/python3.11/dist-packages/pandas/core/reshape/pivot.py\u001b[0m in \u001b[0;36mpivot\u001b[0;34m(data, columns, index, values)\u001b[0m\n\u001b[1;32m    551\u001b[0m                 ]\n\u001b[1;32m    552\u001b[0m         \u001b[0;32melse\u001b[0m\u001b[0;34m:\u001b[0m\u001b[0;34m\u001b[0m\u001b[0;34m\u001b[0m\u001b[0m\n\u001b[0;32m--> 553\u001b[0;31m             \u001b[0mindex_list\u001b[0m \u001b[0;34m=\u001b[0m \u001b[0;34m[\u001b[0m\u001b[0mdata\u001b[0m\u001b[0;34m[\u001b[0m\u001b[0midx\u001b[0m\u001b[0;34m]\u001b[0m \u001b[0;32mfor\u001b[0m \u001b[0midx\u001b[0m \u001b[0;32min\u001b[0m \u001b[0mcom\u001b[0m\u001b[0;34m.\u001b[0m\u001b[0mconvert_to_list_like\u001b[0m\u001b[0;34m(\u001b[0m\u001b[0mindex\u001b[0m\u001b[0;34m)\u001b[0m\u001b[0;34m]\u001b[0m\u001b[0;34m\u001b[0m\u001b[0;34m\u001b[0m\u001b[0m\n\u001b[0m\u001b[1;32m    554\u001b[0m \u001b[0;34m\u001b[0m\u001b[0m\n\u001b[1;32m    555\u001b[0m         \u001b[0mdata_columns\u001b[0m \u001b[0;34m=\u001b[0m \u001b[0;34m[\u001b[0m\u001b[0mdata\u001b[0m\u001b[0;34m[\u001b[0m\u001b[0mcol\u001b[0m\u001b[0;34m]\u001b[0m \u001b[0;32mfor\u001b[0m \u001b[0mcol\u001b[0m \u001b[0;32min\u001b[0m \u001b[0mcolumns_listlike\u001b[0m\u001b[0;34m]\u001b[0m\u001b[0;34m\u001b[0m\u001b[0;34m\u001b[0m\u001b[0m\n",
            "\u001b[0;32m/usr/local/lib/python3.11/dist-packages/pandas/core/reshape/pivot.py\u001b[0m in \u001b[0;36m<listcomp>\u001b[0;34m(.0)\u001b[0m\n\u001b[1;32m    551\u001b[0m                 ]\n\u001b[1;32m    552\u001b[0m         \u001b[0;32melse\u001b[0m\u001b[0;34m:\u001b[0m\u001b[0;34m\u001b[0m\u001b[0;34m\u001b[0m\u001b[0m\n\u001b[0;32m--> 553\u001b[0;31m             \u001b[0mindex_list\u001b[0m \u001b[0;34m=\u001b[0m \u001b[0;34m[\u001b[0m\u001b[0mdata\u001b[0m\u001b[0;34m[\u001b[0m\u001b[0midx\u001b[0m\u001b[0;34m]\u001b[0m \u001b[0;32mfor\u001b[0m \u001b[0midx\u001b[0m \u001b[0;32min\u001b[0m \u001b[0mcom\u001b[0m\u001b[0;34m.\u001b[0m\u001b[0mconvert_to_list_like\u001b[0m\u001b[0;34m(\u001b[0m\u001b[0mindex\u001b[0m\u001b[0;34m)\u001b[0m\u001b[0;34m]\u001b[0m\u001b[0;34m\u001b[0m\u001b[0;34m\u001b[0m\u001b[0m\n\u001b[0m\u001b[1;32m    554\u001b[0m \u001b[0;34m\u001b[0m\u001b[0m\n\u001b[1;32m    555\u001b[0m         \u001b[0mdata_columns\u001b[0m \u001b[0;34m=\u001b[0m \u001b[0;34m[\u001b[0m\u001b[0mdata\u001b[0m\u001b[0;34m[\u001b[0m\u001b[0mcol\u001b[0m\u001b[0;34m]\u001b[0m \u001b[0;32mfor\u001b[0m \u001b[0mcol\u001b[0m \u001b[0;32min\u001b[0m \u001b[0mcolumns_listlike\u001b[0m\u001b[0;34m]\u001b[0m\u001b[0;34m\u001b[0m\u001b[0;34m\u001b[0m\u001b[0m\n",
            "\u001b[0;32m/usr/local/lib/python3.11/dist-packages/pandas/core/frame.py\u001b[0m in \u001b[0;36m__getitem__\u001b[0;34m(self, key)\u001b[0m\n\u001b[1;32m   4100\u001b[0m             \u001b[0;32mif\u001b[0m \u001b[0mself\u001b[0m\u001b[0;34m.\u001b[0m\u001b[0mcolumns\u001b[0m\u001b[0;34m.\u001b[0m\u001b[0mnlevels\u001b[0m \u001b[0;34m>\u001b[0m \u001b[0;36m1\u001b[0m\u001b[0;34m:\u001b[0m\u001b[0;34m\u001b[0m\u001b[0;34m\u001b[0m\u001b[0m\n\u001b[1;32m   4101\u001b[0m                 \u001b[0;32mreturn\u001b[0m \u001b[0mself\u001b[0m\u001b[0;34m.\u001b[0m\u001b[0m_getitem_multilevel\u001b[0m\u001b[0;34m(\u001b[0m\u001b[0mkey\u001b[0m\u001b[0;34m)\u001b[0m\u001b[0;34m\u001b[0m\u001b[0;34m\u001b[0m\u001b[0m\n\u001b[0;32m-> 4102\u001b[0;31m             \u001b[0mindexer\u001b[0m \u001b[0;34m=\u001b[0m \u001b[0mself\u001b[0m\u001b[0;34m.\u001b[0m\u001b[0mcolumns\u001b[0m\u001b[0;34m.\u001b[0m\u001b[0mget_loc\u001b[0m\u001b[0;34m(\u001b[0m\u001b[0mkey\u001b[0m\u001b[0;34m)\u001b[0m\u001b[0;34m\u001b[0m\u001b[0;34m\u001b[0m\u001b[0m\n\u001b[0m\u001b[1;32m   4103\u001b[0m             \u001b[0;32mif\u001b[0m \u001b[0mis_integer\u001b[0m\u001b[0;34m(\u001b[0m\u001b[0mindexer\u001b[0m\u001b[0;34m)\u001b[0m\u001b[0;34m:\u001b[0m\u001b[0;34m\u001b[0m\u001b[0;34m\u001b[0m\u001b[0m\n\u001b[1;32m   4104\u001b[0m                 \u001b[0mindexer\u001b[0m \u001b[0;34m=\u001b[0m \u001b[0;34m[\u001b[0m\u001b[0mindexer\u001b[0m\u001b[0;34m]\u001b[0m\u001b[0;34m\u001b[0m\u001b[0;34m\u001b[0m\u001b[0m\n",
            "\u001b[0;32m/usr/local/lib/python3.11/dist-packages/pandas/core/indexes/base.py\u001b[0m in \u001b[0;36mget_loc\u001b[0;34m(self, key)\u001b[0m\n\u001b[1;32m   3810\u001b[0m             ):\n\u001b[1;32m   3811\u001b[0m                 \u001b[0;32mraise\u001b[0m \u001b[0mInvalidIndexError\u001b[0m\u001b[0;34m(\u001b[0m\u001b[0mkey\u001b[0m\u001b[0;34m)\u001b[0m\u001b[0;34m\u001b[0m\u001b[0;34m\u001b[0m\u001b[0m\n\u001b[0;32m-> 3812\u001b[0;31m             \u001b[0;32mraise\u001b[0m \u001b[0mKeyError\u001b[0m\u001b[0;34m(\u001b[0m\u001b[0mkey\u001b[0m\u001b[0;34m)\u001b[0m \u001b[0;32mfrom\u001b[0m \u001b[0merr\u001b[0m\u001b[0;34m\u001b[0m\u001b[0;34m\u001b[0m\u001b[0m\n\u001b[0m\u001b[1;32m   3813\u001b[0m         \u001b[0;32mexcept\u001b[0m \u001b[0mTypeError\u001b[0m\u001b[0;34m:\u001b[0m\u001b[0;34m\u001b[0m\u001b[0;34m\u001b[0m\u001b[0m\n\u001b[1;32m   3814\u001b[0m             \u001b[0;31m# If we have a listlike key, _check_indexing_error will raise\u001b[0m\u001b[0;34m\u001b[0m\u001b[0;34m\u001b[0m\u001b[0m\n",
            "\u001b[0;31mKeyError\u001b[0m: 'airline'"
          ]
        }
      ]
    },
    {
      "cell_type": "markdown",
      "metadata": {
        "id": "ahead-control"
      },
      "source": [
        "#### Visualize the horizontal barplot of negative reasons"
      ],
      "id": "ahead-control"
    },
    {
      "cell_type": "code",
      "metadata": {
        "id": "coordinate-rough"
      },
      "source": [
        "# YOUR CODE HERE"
      ],
      "id": "coordinate-rough",
      "execution_count": null,
      "outputs": []
    },
    {
      "cell_type": "markdown",
      "metadata": {
        "id": "3qwi5krQH1Q3"
      },
      "source": [
        "### Pre-processing (3 points)"
      ],
      "id": "3qwi5krQH1Q3"
    },
    {
      "cell_type": "markdown",
      "metadata": {
        "id": "pharmaceutical-agency"
      },
      "source": [
        "#### Check the null values and drop the records where the text value is null"
      ],
      "id": "pharmaceutical-agency"
    },
    {
      "cell_type": "code",
      "metadata": {
        "id": "x4hU06aBNzHj"
      },
      "source": [
        "# YOUR CODE HERE"
      ],
      "id": "x4hU06aBNzHj",
      "execution_count": null,
      "outputs": []
    },
    {
      "cell_type": "markdown",
      "metadata": {
        "id": "convinced-batch"
      },
      "source": [
        "#### Fill the null values with 0 in all the columns except the target\n",
        "\n",
        "The target should not be empty. Ensure that all features are integer type, convert if needed."
      ],
      "id": "convinced-batch"
    },
    {
      "cell_type": "code",
      "metadata": {
        "id": "thorough-jones"
      },
      "source": [
        "# YOUR CODE HERE"
      ],
      "id": "thorough-jones",
      "execution_count": null,
      "outputs": []
    },
    {
      "cell_type": "markdown",
      "metadata": {
        "id": "first-david"
      },
      "source": [
        "#### Preprocessing and cleaning the tweets\n",
        "\n",
        "* Convert the text to lower case\n",
        "* Remove usernames, hashtags and links from the text (tweets)"
      ],
      "id": "first-david"
    },
    {
      "cell_type": "code",
      "metadata": {
        "id": "studied-blowing"
      },
      "source": [
        "# YOUR CODE HERE"
      ],
      "id": "studied-blowing",
      "execution_count": null,
      "outputs": []
    },
    {
      "cell_type": "markdown",
      "metadata": {
        "id": "subtle-spain"
      },
      "source": [
        "#### Tokenize each sentence into words using nltk word tokenizer"
      ],
      "id": "subtle-spain"
    },
    {
      "cell_type": "code",
      "metadata": {
        "id": "yellow-wholesale"
      },
      "source": [
        "# YOUR CODE HERE"
      ],
      "id": "yellow-wholesale",
      "execution_count": null,
      "outputs": []
    },
    {
      "cell_type": "markdown",
      "metadata": {
        "id": "recognized-wrist"
      },
      "source": [
        "#### Remove the stopwords from tokenized words"
      ],
      "id": "recognized-wrist"
    },
    {
      "cell_type": "code",
      "metadata": {
        "id": "scientific-guinea"
      },
      "source": [
        "stop_words = set(stopwords.words('english'))\n",
        "print(stop_words)"
      ],
      "id": "scientific-guinea",
      "execution_count": null,
      "outputs": []
    },
    {
      "cell_type": "code",
      "metadata": {
        "id": "pleased-skiing"
      },
      "source": [
        "# YOUR CODE HERE"
      ],
      "id": "pleased-skiing",
      "execution_count": null,
      "outputs": []
    },
    {
      "cell_type": "markdown",
      "metadata": {
        "id": "persistent-projection"
      },
      "source": [
        "#### Apply Lemmatization to the words"
      ],
      "id": "persistent-projection"
    },
    {
      "cell_type": "code",
      "metadata": {
        "id": "asian-parade"
      },
      "source": [
        "# YOUR CODE HERE"
      ],
      "id": "asian-parade",
      "execution_count": null,
      "outputs": []
    },
    {
      "cell_type": "markdown",
      "metadata": {
        "id": "UR5FnuSn-c-S"
      },
      "source": [
        "### Feature Extraction (3 points)\n",
        "\n",
        "Create the useful features from the text column to train the model\n",
        "\n",
        "For example:\n",
        "* Length of the tweet\n",
        "* No. of hashtags in the tweet starting with '#'\n",
        "* No. of mentions in the tweet starting with '@'\n",
        "\n",
        "Hint: create a new column for each of the above features"
      ],
      "id": "UR5FnuSn-c-S"
    },
    {
      "cell_type": "code",
      "metadata": {
        "id": "lyric-processor"
      },
      "source": [
        "# YOUR CODE HERE"
      ],
      "id": "lyric-processor",
      "execution_count": null,
      "outputs": []
    },
    {
      "cell_type": "markdown",
      "metadata": {
        "id": "under-point"
      },
      "source": [
        "#### Get the features by applying CountVectorizer\n",
        "CountVectorizer converts the list of tokens to vectors of token counts. See the [documentation](https://spark.apache.org/docs/latest/ml-features.html#countvectorizer) for details."
      ],
      "id": "under-point"
    },
    {
      "cell_type": "code",
      "metadata": {
        "id": "christian-voltage"
      },
      "source": [
        "# YOUR CODE HERE"
      ],
      "id": "christian-voltage",
      "execution_count": null,
      "outputs": []
    },
    {
      "cell_type": "markdown",
      "metadata": {
        "id": "killing-aside"
      },
      "source": [
        "#### Encode the labels\n",
        "\n",
        "Using the `udf` function encode the string values of *airline_sentiment* to integers."
      ],
      "id": "killing-aside"
    },
    {
      "cell_type": "code",
      "metadata": {
        "id": "assigned-trout"
      },
      "source": [
        "def LabelEncoder(x):\n",
        "    if x == 'positive':\n",
        "        return 0\n",
        "    elif x == 'negative':\n",
        "        return 1\n",
        "    return 2\n",
        "\n",
        "# YOUR CODE HERE"
      ],
      "id": "assigned-trout",
      "execution_count": null,
      "outputs": []
    },
    {
      "cell_type": "markdown",
      "metadata": {
        "id": "NqnjXJR9IC5d"
      },
      "source": [
        "### Train the classifier the evaluate (1 point)"
      ],
      "id": "NqnjXJR9IC5d"
    },
    {
      "cell_type": "markdown",
      "metadata": {
        "id": "attempted-lender"
      },
      "source": [
        "#### Create vector assembler with the selected features to train the model"
      ],
      "id": "attempted-lender"
    },
    {
      "cell_type": "code",
      "metadata": {
        "id": "stuffed-seating"
      },
      "source": [
        "# YOUR CODE HERE"
      ],
      "id": "stuffed-seating",
      "execution_count": null,
      "outputs": []
    },
    {
      "cell_type": "markdown",
      "metadata": {
        "id": "bored-metropolitan"
      },
      "source": [
        "#### Arrange features and label and split them into train and test."
      ],
      "id": "bored-metropolitan"
    },
    {
      "cell_type": "code",
      "metadata": {
        "id": "structured-actress"
      },
      "source": [
        "# YOUR CODE HERE"
      ],
      "id": "structured-actress",
      "execution_count": null,
      "outputs": []
    },
    {
      "cell_type": "markdown",
      "metadata": {
        "id": "fiscal-utilization"
      },
      "source": [
        "#### Train the model with train data and make predictions on the test data\n",
        "\n",
        "For classification of text data, implement NaiveBayes classifier. It is a probabilistic machine learning model.\n",
        "\n",
        "For more information about **NaiveBayes Classifier**, click [here](https://spark.apache.org/docs/latest/ml-classification-regression.html#naive-bayes)"
      ],
      "id": "fiscal-utilization"
    },
    {
      "cell_type": "code",
      "metadata": {
        "id": "destroyed-religion"
      },
      "source": [
        "nb = NaiveBayes(featuresCol='features', labelCol='labels')\n",
        "# Fit the model with train data\n",
        "model = nb.fit(train_data)"
      ],
      "id": "destroyed-religion",
      "execution_count": null,
      "outputs": []
    },
    {
      "cell_type": "code",
      "metadata": {
        "id": "seeing-money"
      },
      "source": [
        "# get the predictions\n",
        "# YOUR CODE HERE"
      ],
      "id": "seeing-money",
      "execution_count": null,
      "outputs": []
    },
    {
      "cell_type": "markdown",
      "metadata": {
        "id": "foreign-consent"
      },
      "source": [
        "#### Evaluate the model and find the accuracy\n",
        "\n",
        "Compare the labels and predictions and find how many are correct.\n",
        "\n",
        "To find the accuracy, get the count of correct predictions from test data and divide by the total amount of test dataset.\n",
        "\n",
        "**Hint:** convert the predictions dataframe to pandas and compare with labels"
      ],
      "id": "foreign-consent"
    },
    {
      "cell_type": "code",
      "metadata": {
        "id": "greenhouse-crack"
      },
      "source": [
        "# YOUR CODE HERE"
      ],
      "id": "greenhouse-crack",
      "execution_count": null,
      "outputs": []
    },
    {
      "cell_type": "markdown",
      "source": [
        "As a next phase of implementation, we will implement logistic regression model."
      ],
      "metadata": {
        "id": "RD7r7NCJFuum"
      },
      "id": "RD7r7NCJFuum"
    },
    {
      "cell_type": "markdown",
      "source": [
        "### Implementing logistic regression."
      ],
      "metadata": {
        "id": "DxAUjwkrFd12"
      },
      "id": "DxAUjwkrFd12"
    },
    {
      "cell_type": "markdown",
      "source": [
        "For more information about logistic regression, click upon this [button](https://spark.apache.org/docs/2.3.1/api/python/pyspark.ml.html#pyspark.ml.classification.LogisticRegression) to proceed to spark's documentation of logistic regression."
      ],
      "metadata": {
        "id": "oHwBWy51Fl1W"
      },
      "id": "oHwBWy51Fl1W"
    },
    {
      "cell_type": "code",
      "source": [
        "# Importing the necessary libraries\n",
        "from pyspark.ml.classification import LogisticRegression\n",
        "import numpy\n",
        "from numpy import allclose\n",
        "from pyspark.ml.linalg import Vectors\n",
        "from pyspark.ml.feature import StringIndexer\n",
        "from pyspark.ml.feature import VectorAssembler\n",
        "from pyspark.ml.evaluation import MulticlassClassificationEvaluator"
      ],
      "metadata": {
        "id": "YjayjAxyFqy0"
      },
      "id": "YjayjAxyFqy0",
      "execution_count": null,
      "outputs": []
    },
    {
      "cell_type": "code",
      "source": [
        "# Create a features column using VectorAssembler with multiple input columns like 'rawFeatures', 'airline_sentiment_confidence', and others?\n",
        "# YOUR CODE HERE"
      ],
      "metadata": {
        "id": "px9DPLiiF1VI"
      },
      "id": "px9DPLiiF1VI",
      "execution_count": null,
      "outputs": []
    },
    {
      "cell_type": "code",
      "source": [
        "# Create an object of stringindexer\n",
        "# YOUR CODE HERE"
      ],
      "metadata": {
        "id": "4k5JGvKpF2Dt"
      },
      "id": "4k5JGvKpF2Dt",
      "execution_count": null,
      "outputs": []
    },
    {
      "cell_type": "code",
      "source": [
        "# Create output column for labels or target variable.\n",
        "# YOUR CODE HERE"
      ],
      "metadata": {
        "id": "Lx1gZrSJF49_"
      },
      "id": "Lx1gZrSJF49_",
      "execution_count": null,
      "outputs": []
    },
    {
      "cell_type": "code",
      "source": [
        "# Split the data into train and test\n",
        "# YOUR CODE HERE"
      ],
      "metadata": {
        "id": "sMrHDtcsF7W-"
      },
      "id": "sMrHDtcsF7W-",
      "execution_count": null,
      "outputs": []
    },
    {
      "cell_type": "code",
      "source": [
        "# Create a Logistic Regression model object with specified parameters like maxIter=20, regParam=0.3, and elasticNetParam=0\n",
        "# YOUR CODE HERE"
      ],
      "metadata": {
        "id": "zyFfyjqXF-Bo"
      },
      "id": "zyFfyjqXF-Bo",
      "execution_count": null,
      "outputs": []
    },
    {
      "cell_type": "code",
      "source": [
        "# Fit a Logistic Regression model to the training dataset using the fit method on the train data\n",
        "# YOUR CODE HERE"
      ],
      "metadata": {
        "id": "351MRKrYGAuZ"
      },
      "id": "351MRKrYGAuZ",
      "execution_count": null,
      "outputs": []
    },
    {
      "cell_type": "markdown",
      "source": [
        "### Making predictions and evaluating the model"
      ],
      "metadata": {
        "id": "NFeI300xGG6l"
      },
      "id": "NFeI300xGG6l"
    },
    {
      "cell_type": "code",
      "source": [
        "# Generate predictions on the test dataset\n",
        "# YOUR CODE HERE"
      ],
      "metadata": {
        "id": "iDneoxuSGJ9u"
      },
      "id": "iDneoxuSGJ9u",
      "execution_count": null,
      "outputs": []
    },
    {
      "cell_type": "code",
      "source": [
        "# Create a MulticlassClassificationEvaluator object to evaluate predictions using the \"prediction\" column\n",
        "# YOUR CODE HERE"
      ],
      "metadata": {
        "id": "V9Kv8lB6GKz1"
      },
      "id": "V9Kv8lB6GKz1",
      "execution_count": null,
      "outputs": []
    },
    {
      "cell_type": "code",
      "source": [
        "# Calculate the accuracy of predictions using the evaluate method from the MulticlassClassificationEvaluator\n",
        "# YOUR CODE HERE"
      ],
      "metadata": {
        "id": "HM_w8FJTGM4y"
      },
      "id": "HM_w8FJTGM4y",
      "execution_count": null,
      "outputs": []
    },
    {
      "cell_type": "code",
      "source": [
        "# Print accuracy\n",
        "# YOUR CODE HERE"
      ],
      "metadata": {
        "id": "LVu8udr4GPH5"
      },
      "id": "LVu8udr4GPH5",
      "execution_count": null,
      "outputs": []
    },
    {
      "cell_type": "markdown",
      "source": [
        "# Gradio Implementation (1 point)"
      ],
      "metadata": {
        "id": "gn8bBfJoGV9j"
      },
      "id": "gn8bBfJoGV9j"
    },
    {
      "cell_type": "code",
      "source": [
        "!pip -q install gradio==3.41.2"
      ],
      "metadata": {
        "id": "QG4grcMiGZLF"
      },
      "id": "QG4grcMiGZLF",
      "execution_count": null,
      "outputs": []
    },
    {
      "cell_type": "code",
      "source": [
        "import gradio as gr"
      ],
      "metadata": {
        "id": "-51R4nw2GZyG"
      },
      "id": "-51R4nw2GZyG",
      "execution_count": null,
      "outputs": []
    },
    {
      "cell_type": "markdown",
      "source": [
        "### Making predictions using NaiveBayes"
      ],
      "metadata": {
        "id": "CcC9VqPeGhte"
      },
      "id": "CcC9VqPeGhte"
    },
    {
      "cell_type": "code",
      "source": [
        "def make_prediction_using_NaiveBayes(user_input):\n",
        "  df1 = spark.createDataFrame([ (1, user_input)],['Id', 'UserTweet'])\n",
        "\n",
        "  df1 = df1.withColumn('UserTweet',words(df1['UserTweet']))\n",
        "  df1 = df1.withColumn(\"wordss\", word_udf(\"UserTweet\"))\n",
        "  df1 = df1.withColumn(\"wordss\", punct_udf1(\"wordss\"))\n",
        "  df1 = df1.withColumn(\"wordss\", array_udf(\"wordss\"))\n",
        "  df1 = df1.withColumn(\"wordss\", lem(\"wordss\"))\n",
        "  df1 = df1.withColumn(\"wordss\", array_udf(\"wordss\"))\n",
        "\n",
        "  df1 = df1.withColumn('tweet_length', length(df1['UserTweet']).astype('int'))\n",
        "  df1 = df1.withColumn('num_hashtags', num_hashtags(df1['UserTweet']).astype('int'))\n",
        "  df1 = df1.withColumn('num_mentions', num_mentions(df1['UserTweet']).astype('int'))\n",
        "  df1 = df1.withColumn('PunctCount',punctCount(df1['UserTweet']).astype('int'))\n",
        "  df1 = df1.withColumn('typePunct',typePunct(df1['UserTweet']).astype('int'))\n",
        "  make  = udf(lambda x : 0)\n",
        "  df1 = df1.withColumn('negativereason_confidence',make(df1['UserTweet']).astype('int'))\n",
        "  df1 = df1.withColumn('airline_sentiment_confidence',make(df1['UserTweet']).astype('int'))\n",
        "  df1 = df1.withColumn('retweet_count',make(df1['UserTweet']).astype('int'))\n",
        "  df1_featured = count_model.transform(df1)\n",
        "  test_features = featureassembler.transform(df1_featured)\n",
        "  test_predict = model.transform(test_features)\n",
        "  df_res = test_predict.select('prediction').toPandas()\n",
        "  pred = df_res.prediction.values[0]\n",
        "\n",
        "  if pred == 0:\n",
        "    return \"Positive tweet!\"\n",
        "  elif pred == 1:\n",
        "    return \"Negative Tweet!\"\n",
        "  return \"Neutral tweet\""
      ],
      "metadata": {
        "id": "jlAbMV4HGln-"
      },
      "id": "jlAbMV4HGln-",
      "execution_count": null,
      "outputs": []
    },
    {
      "cell_type": "code",
      "source": [
        "# Make a prediction using make_prediction_using_NaiveBayes for the text \"It was a bad approach\"\n",
        "# YOUR CODE HERE"
      ],
      "metadata": {
        "id": "sj5UHgrYGm8h"
      },
      "id": "sj5UHgrYGm8h",
      "execution_count": null,
      "outputs": []
    },
    {
      "cell_type": "markdown",
      "source": [
        "### Making predictions using LogisticRegression"
      ],
      "metadata": {
        "id": "0yZwvMIkGt0S"
      },
      "id": "0yZwvMIkGt0S"
    },
    {
      "cell_type": "code",
      "source": [
        "def make_prediction_using_LogReg(user_input):\n",
        "  df1 = spark.createDataFrame([ (1, user_input)],['Id', 'UserTweet'])\n",
        "\n",
        "  df1 = df1.withColumn('UserTweet',words(df1['UserTweet']))\n",
        "  df1 = df1.withColumn(\"wordss\", word_udf(\"UserTweet\"))\n",
        "  df1 = df1.withColumn(\"wordss\", punct_udf1(\"wordss\"))\n",
        "  df1 = df1.withColumn(\"wordss\", array_udf(\"wordss\"))\n",
        "  df1 = df1.withColumn(\"wordss\", lem(\"wordss\"))\n",
        "  df1 = df1.withColumn(\"wordss\", array_udf(\"wordss\"))\n",
        "\n",
        "  df1 = df1.withColumn('tweet_length', length(df1['UserTweet']).astype('int'))\n",
        "  df1 = df1.withColumn('num_hashtags', num_hashtags(df1['UserTweet']).astype('int'))\n",
        "  df1 = df1.withColumn('num_mentions', num_mentions(df1['UserTweet']).astype('int'))\n",
        "  df1 = df1.withColumn('PunctCount',punctCount(df1['UserTweet']).astype('int'))\n",
        "  df1 = df1.withColumn('typePunct',typePunct(df1['UserTweet']).astype('int'))\n",
        "  make  = udf(lambda x : 0)\n",
        "  df1 = df1.withColumn('negativereason_confidence',make(df1['UserTweet']).astype('int'))\n",
        "  df1 = df1.withColumn('airline_sentiment_confidence',make(df1['UserTweet']).astype('int'))\n",
        "  df1 = df1.withColumn('retweet_count',make(df1['UserTweet']).astype('int'))\n",
        "  df1_featured = count_model.transform(df1)\n",
        "  predictions = lrModel.transform(assembler.transform(df1_featured))\n",
        "  df_res = predictions.select('prediction').toPandas()\n",
        "\n",
        "  pred = df_res.prediction.values[0]\n",
        "\n",
        "  if pred == 0:\n",
        "    return \"Positive tweet!\"\n",
        "  elif pred == 1:\n",
        "    return \"Negative Tweet!\"\n",
        "  return \"Neutral tweet\""
      ],
      "metadata": {
        "id": "ADZclscLGyBC"
      },
      "id": "ADZclscLGyBC",
      "execution_count": null,
      "outputs": []
    },
    {
      "cell_type": "code",
      "source": [
        "# Make a prediction using make_prediction_using_LogReg \"It was a bad approach\"\n",
        "# YOUR CODE HERE"
      ],
      "metadata": {
        "id": "w4IL_6uOG2Iq"
      },
      "id": "w4IL_6uOG2Iq",
      "execution_count": null,
      "outputs": []
    },
    {
      "cell_type": "markdown",
      "source": [
        "### Launching Gradio application\n",
        "\n",
        "Deployment is done for both the models:\n",
        "1. Naive bayes\n",
        "2. Logistic regression\n",
        "\n",
        "\n",
        "\n",
        "Let's integrate all the above code snippets in the following code cell and run it with **Gradio interface**.\n",
        "\n",
        "From the start (data loading step), place every code in make_prediction_using_NaiveBayes() including data preprocessing, feature extraction and model training.\n",
        "\n",
        "**Similar procedure will be followed for logistic regression model deployment**\n",
        "* In this case, the name of the application function created will be make_prediction_using_NaiveBayes()\n",
        "\n",
        "* implement the above 2 functions which take one tweet input from user and returns the prediction using the trained model.\n",
        "\n",
        "* use the same preprocessing techniques and features extraction used for train data on user input.\n",
        "\n",
        "* user input can be captured from the textbox from **Gradio** app. Action is triggered when 'Submit' button is clicked and user input is classified using `make_prediction_using_NaiveBayes()` function.\n",
        "\n",
        "* Selecting the Logist Regression tab in Gradio app, user input can be captured from the textbox. Action is triggered when 'Submit' button is clicked and user input is classified using `make_prediction_using_LogReg()` function.\n",
        "\n",
        "For More information about Gradio, click [here](https://www.gradio.app/docs)"
      ],
      "metadata": {
        "id": "J2f1jNf_G27i"
      },
      "id": "J2f1jNf_G27i"
    },
    {
      "cell_type": "markdown",
      "source": [
        "#### Start the app\n",
        "\n",
        "Now that we have written our app, we can now start our app like we would have done if we were running it locally. But the caveat is to run it in the background so that if the following code cell finish running, our app will continue to run as a background process behind."
      ],
      "metadata": {
        "id": "2Jdt_pfVG-q8"
      },
      "id": "2Jdt_pfVG-q8"
    },
    {
      "cell_type": "code",
      "source": [
        "# Launch a Gradio application with two tabbed interfaces for text classification, using Naive Bayes and Logistic Regression models\n",
        "# YOUR CODE HERE"
      ],
      "metadata": {
        "id": "iXwpfN81HAD7"
      },
      "id": "iXwpfN81HAD7",
      "execution_count": null,
      "outputs": []
    }
  ]
}