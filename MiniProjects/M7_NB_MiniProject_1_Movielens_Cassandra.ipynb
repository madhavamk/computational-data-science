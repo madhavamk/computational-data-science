{
  "nbformat": 4,
  "nbformat_minor": 5,
  "metadata": {
    "kernelspec": {
      "display_name": "Python 3",
      "language": "python",
      "name": "python3"
    },
    "language_info": {
      "codemirror_mode": {
        "name": "ipython",
        "version": 3
      },
      "file_extension": ".py",
      "mimetype": "text/x-python",
      "name": "python",
      "nbconvert_exporter": "python",
      "pygments_lexer": "ipython3",
      "version": "3.9.2"
    },
    "colab": {
      "provenance": [],
      "include_colab_link": true
    }
  },
  "cells": [
    {
      "cell_type": "markdown",
      "metadata": {
        "id": "view-in-github",
        "colab_type": "text"
      },
      "source": [
        "<a href=\"https://colab.research.google.com/github/madhavamk/computational-data-science/blob/master/MiniProjects/M7_NB_MiniProject_1_Movielens_Cassandra.ipynb\" target=\"_parent\"><img src=\"https://colab.research.google.com/assets/colab-badge.svg\" alt=\"Open In Colab\"/></a>"
      ]
    },
    {
      "cell_type": "markdown",
      "metadata": {
        "id": "UGX-JCC0Kfj_"
      },
      "source": [
        "# Advanced Certification Program in Computational Data Science\n",
        "## A program by IISc and TalentSprint\n",
        "### Mini-Project: Movielens data querying and analysis using NoSQL Database"
      ],
      "id": "UGX-JCC0Kfj_"
    },
    {
      "cell_type": "markdown",
      "metadata": {
        "id": "nKwRLuRawuMm"
      },
      "source": [
        "## Problem Statement"
      ],
      "id": "nKwRLuRawuMm"
    },
    {
      "cell_type": "markdown",
      "metadata": {
        "id": "GcfsHAkQKicm"
      },
      "source": [
        "Using the Cassandra NoSQL database, explore the **Movielens** dataset and build a movie recommendation engine"
      ],
      "id": "GcfsHAkQKicm"
    },
    {
      "cell_type": "markdown",
      "metadata": {
        "id": "solid-northeast"
      },
      "source": [
        "## Learning Objectives"
      ],
      "id": "solid-northeast"
    },
    {
      "cell_type": "markdown",
      "metadata": {
        "id": "automated-grass"
      },
      "source": [
        "At the end of the mini-project, you will be able to :\n",
        "\n",
        "* understand the concepts of NoSQL platforms\n",
        "* implement the database connectivity using Cassandra\n",
        "* create and insert data to the database\n",
        "* perform querying, retrieving and analyzing the data from database"
      ],
      "id": "automated-grass"
    },
    {
      "cell_type": "markdown",
      "metadata": {
        "id": "danish-guard"
      },
      "source": [
        "### Dataset"
      ],
      "id": "danish-guard"
    },
    {
      "cell_type": "markdown",
      "metadata": {
        "id": "ei4RdaJXKrsQ"
      },
      "source": [
        "The dataset chosen for this mini-project is [Movielens Dataset](https://movielens.org/). The dataset describes movies and ratings from Movielens. It contains movies from year 1919 to 2000 of total 3883 movies. There are 6040 users who have rated one or more than one movie of total 1000209 ratings collected. Movielens is maintained by members of GroupLens Research at the University of Minnesota. There are 3 datasets given, and they are:\n",
        "\n",
        "1. `data_movie.csv` that contains movies information:\n",
        "\n",
        "* MovieId\n",
        "* Title\n",
        "* Genres\n",
        "\n",
        "2. `data_rating.csv` that contains ratings of movies by users:\n",
        "\n",
        "* UserId\n",
        "* MovieId\n",
        "* Rating\n",
        "\n",
        "3. `data_users.csv` that contains users information:\n",
        "\n",
        "* UserId\n",
        "* Age\n",
        "* Gender"
      ],
      "id": "ei4RdaJXKrsQ"
    },
    {
      "cell_type": "markdown",
      "metadata": {
        "id": "color-conference"
      },
      "source": [
        "## Information"
      ],
      "id": "color-conference"
    },
    {
      "cell_type": "markdown",
      "metadata": {
        "id": "included-advocate"
      },
      "source": [
        "#### NoSQL platforms\n",
        "\n",
        "A NoSQL database provides a mechanism for storage and retrieval of data that is modeled in a form other than the tabular relations used in relational databases.\n",
        "\n",
        "**Cassandra**\n",
        "\n",
        "Apache Cassandra is a free and open-source, distributed, wide-column store, NoSQL database management system designed to handle large amounts of data across many commodity servers, providing high availability with no single point of failure. It is a NOSQL database developed by Facebook. It is a great database that allows you to effectively run queries on large amount of structured and semi structured data.\n",
        "\n",
        "To know when you have to choose Cassandra as your database of choice, you need to have an understanding of CAP Theorem.\n",
        "\n",
        "CAP theorem states that it is impossible for a distributed system to satisfy all three of these guarantees together, you need to leave one out.\n",
        "\n",
        "- C is Consistency, means all nodes have the same data at the same time\n",
        "- P is partition tolerance, means that in case of failure the system continues to operate\n",
        "- A is availability , make sure every request receives a response\n",
        "\n",
        "![img](https://developer.ibm.com/developer/default/tutorials/ba-set-up-apache-cassandra-architecture/images/figure1.png)"
      ],
      "id": "included-advocate"
    },
    {
      "cell_type": "markdown",
      "metadata": {
        "id": "circular-ireland"
      },
      "source": [
        "### Components of Cassandra\n",
        "\n",
        "There are following components in the Cassandra\n",
        "\n",
        "![img](https://www.guru99.com/images/cassandra/021116_0524_CassandraAr1.png)\n",
        "\n",
        "**Node**\n",
        "Node is the place where data is stored. It is the basic component of Cassandra.\n",
        "\n",
        "**Data Center**\n",
        "A collection of nodes are called data center. Many nodes are categorized as a data center.\n",
        "\n",
        "**Cluster**\n",
        "The cluster is the collection of many data centers.\n",
        "\n",
        "**Commit Log**\n",
        "Every write operation is written to Commit Log. Commit log is used for crash recovery.\n",
        "\n",
        "**Mem-table**\n",
        "After data written in Commit log, data is written in Mem-table. Data is written in Mem-table temporarily.\n",
        "\n",
        "**SSTable**\n",
        "When Mem-table reaches a certain threshold, data is flushed to an SSTable disk file."
      ],
      "id": "circular-ireland"
    },
    {
      "cell_type": "markdown",
      "metadata": {
        "id": "emotional-michael"
      },
      "source": [
        "### Data Replication\n",
        "\n",
        "As hardware problem can occur or link can be down at any time during data process, a solution is required to provide a backup when the problem has occurred. So data is replicated for assuring no single point of failure.\n",
        "\n",
        "Cassandra places replicas of data on different nodes based on these two factors.\n",
        "- Where to place next replica is determined by the Replication Strategy.\n",
        "- While the total number of replicas placed on different nodes is determined by the Replication Factor.\n",
        "\n",
        "One Replication factor means that there is only a single copy of data while three replication factor means that there are three copies of the data on three different nodes."
      ],
      "id": "emotional-michael"
    },
    {
      "cell_type": "markdown",
      "metadata": {
        "id": "ndQNKsjS7c04"
      },
      "source": [
        "## Grading = 10 Points"
      ],
      "id": "ndQNKsjS7c04"
    },
    {
      "cell_type": "markdown",
      "metadata": {
        "id": "developed-value"
      },
      "source": [
        "**Install the cassandra-driver**"
      ],
      "id": "developed-value"
    },
    {
      "cell_type": "code",
      "metadata": {
        "id": "contrary-saturday",
        "colab": {
          "base_uri": "https://localhost:8080/"
        },
        "outputId": "c951d50a-895b-44d6-c75b-7bd0eb50c7a0"
      },
      "source": [
        "!pip install cassandra-driver"
      ],
      "id": "contrary-saturday",
      "execution_count": 1,
      "outputs": [
        {
          "output_type": "stream",
          "name": "stdout",
          "text": [
            "Collecting cassandra-driver\n",
            "  Downloading cassandra_driver-3.29.2-cp310-cp310-manylinux_2_17_x86_64.manylinux2014_x86_64.whl.metadata (6.2 kB)\n",
            "Collecting geomet<0.3,>=0.1 (from cassandra-driver)\n",
            "  Downloading geomet-0.2.1.post1-py3-none-any.whl.metadata (1.0 kB)\n",
            "Requirement already satisfied: click in /usr/local/lib/python3.10/dist-packages (from geomet<0.3,>=0.1->cassandra-driver) (8.1.8)\n",
            "Requirement already satisfied: six in /usr/local/lib/python3.10/dist-packages (from geomet<0.3,>=0.1->cassandra-driver) (1.17.0)\n",
            "Downloading cassandra_driver-3.29.2-cp310-cp310-manylinux_2_17_x86_64.manylinux2014_x86_64.whl (3.9 MB)\n",
            "\u001b[2K   \u001b[90m━━━━━━━━━━━━━━━━━━━━━━━━━━━━━━━━━━━━━━━━\u001b[0m \u001b[32m3.9/3.9 MB\u001b[0m \u001b[31m31.1 MB/s\u001b[0m eta \u001b[36m0:00:00\u001b[0m\n",
            "\u001b[?25hDownloading geomet-0.2.1.post1-py3-none-any.whl (18 kB)\n",
            "Installing collected packages: geomet, cassandra-driver\n",
            "Successfully installed cassandra-driver-3.29.2 geomet-0.2.1.post1\n"
          ]
        }
      ]
    },
    {
      "cell_type": "markdown",
      "metadata": {
        "id": "recorded-feelings"
      },
      "source": [
        "#### Importing Necessary Packages"
      ],
      "id": "recorded-feelings"
    },
    {
      "cell_type": "code",
      "metadata": {
        "id": "million-maintenance"
      },
      "source": [
        "import pandas as pd\n",
        "import cassandra\n",
        "from cassandra.cluster import Cluster\n",
        "from cassandra.auth import PlainTextAuthProvider\n",
        "from matplotlib import pyplot as plt"
      ],
      "id": "million-maintenance",
      "execution_count": 2,
      "outputs": []
    },
    {
      "cell_type": "code",
      "metadata": {
        "id": "further-cowboy",
        "colab": {
          "base_uri": "https://localhost:8080/"
        },
        "outputId": "2e404de0-b96b-4399-c019-34d20925b984"
      },
      "source": [
        "print(cassandra.__version__)"
      ],
      "id": "further-cowboy",
      "execution_count": 4,
      "outputs": [
        {
          "output_type": "stream",
          "name": "stdout",
          "text": [
            "3.29.2\n"
          ]
        }
      ]
    },
    {
      "cell_type": "markdown",
      "metadata": {
        "id": "governmental-front"
      },
      "source": [
        "### Database connection (2 points)\n",
        "\n",
        "**Astra Datastax login:** Please refer to this [document](https://cdn.iisc.talentsprint.com/CDS/DB_Connect_Docs/Datastax_Connect.pdf) for account creation on DataStax\n",
        "\n",
        "**Connect the database and create keyspace:**\n",
        "\n",
        "* Download Secure Connect Bundle zip file from Datastax [connect](https://docs.datastax.com/en/astra/docs/obtaining-database-credentials.html) section. Follow the instructions on the page\n",
        "* Upload the `Secure-connect-XXXX.zip` file, which is downloaded from datastax.\n",
        "* Generate the token and save the credentials from settings section.\n",
        "    - Hint: Select role as `admin-user` and generate token\n",
        "* Using the credentials generated in settings, specify the `client Id` and `Client Secret` to the variables below."
      ],
      "id": "governmental-front"
    },
    {
      "cell_type": "code",
      "source": [
        "#@title Download bundle zip\n",
        "!wget -qq https://cdn.exec.talentsprint.com/static/cds/content/secure_connect_cds_mov_database.zip\n",
        "!wget -qq https://cdn.exec.talentsprint.com/static/cds/content/data_movies.csv\n",
        "!wget -qq https://cdn.exec.talentsprint.com/static/cds/content/data_ratings.csv\n",
        "!wget -qq https://cdn.exec.talentsprint.com/static/cds/content/data_users.csv"
      ],
      "metadata": {
        "id": "Lx4EW5Azklp8"
      },
      "id": "Lx4EW5Azklp8",
      "execution_count": 3,
      "outputs": []
    },
    {
      "cell_type": "code",
      "metadata": {
        "id": "accompanied-husband",
        "colab": {
          "base_uri": "https://localhost:8080/",
          "height": 55
        },
        "outputId": "344d3220-ebbc-41a9-835d-c15c9fe5a846"
      },
      "source": [
        "from google.colab import files\n",
        "files.upload()"
      ],
      "id": "accompanied-husband",
      "execution_count": 8,
      "outputs": [
        {
          "output_type": "display_data",
          "data": {
            "text/plain": [
              "<IPython.core.display.HTML object>"
            ],
            "text/html": [
              "\n",
              "     <input type=\"file\" id=\"files-32041917-dac2-4c7b-a6e1-8db3805511da\" name=\"files[]\" multiple disabled\n",
              "        style=\"border:none\" />\n",
              "     <output id=\"result-32041917-dac2-4c7b-a6e1-8db3805511da\">\n",
              "      Upload widget is only available when the cell has been executed in the\n",
              "      current browser session. Please rerun this cell to enable.\n",
              "      </output>\n",
              "      <script>// Copyright 2017 Google LLC\n",
              "//\n",
              "// Licensed under the Apache License, Version 2.0 (the \"License\");\n",
              "// you may not use this file except in compliance with the License.\n",
              "// You may obtain a copy of the License at\n",
              "//\n",
              "//      http://www.apache.org/licenses/LICENSE-2.0\n",
              "//\n",
              "// Unless required by applicable law or agreed to in writing, software\n",
              "// distributed under the License is distributed on an \"AS IS\" BASIS,\n",
              "// WITHOUT WARRANTIES OR CONDITIONS OF ANY KIND, either express or implied.\n",
              "// See the License for the specific language governing permissions and\n",
              "// limitations under the License.\n",
              "\n",
              "/**\n",
              " * @fileoverview Helpers for google.colab Python module.\n",
              " */\n",
              "(function(scope) {\n",
              "function span(text, styleAttributes = {}) {\n",
              "  const element = document.createElement('span');\n",
              "  element.textContent = text;\n",
              "  for (const key of Object.keys(styleAttributes)) {\n",
              "    element.style[key] = styleAttributes[key];\n",
              "  }\n",
              "  return element;\n",
              "}\n",
              "\n",
              "// Max number of bytes which will be uploaded at a time.\n",
              "const MAX_PAYLOAD_SIZE = 100 * 1024;\n",
              "\n",
              "function _uploadFiles(inputId, outputId) {\n",
              "  const steps = uploadFilesStep(inputId, outputId);\n",
              "  const outputElement = document.getElementById(outputId);\n",
              "  // Cache steps on the outputElement to make it available for the next call\n",
              "  // to uploadFilesContinue from Python.\n",
              "  outputElement.steps = steps;\n",
              "\n",
              "  return _uploadFilesContinue(outputId);\n",
              "}\n",
              "\n",
              "// This is roughly an async generator (not supported in the browser yet),\n",
              "// where there are multiple asynchronous steps and the Python side is going\n",
              "// to poll for completion of each step.\n",
              "// This uses a Promise to block the python side on completion of each step,\n",
              "// then passes the result of the previous step as the input to the next step.\n",
              "function _uploadFilesContinue(outputId) {\n",
              "  const outputElement = document.getElementById(outputId);\n",
              "  const steps = outputElement.steps;\n",
              "\n",
              "  const next = steps.next(outputElement.lastPromiseValue);\n",
              "  return Promise.resolve(next.value.promise).then((value) => {\n",
              "    // Cache the last promise value to make it available to the next\n",
              "    // step of the generator.\n",
              "    outputElement.lastPromiseValue = value;\n",
              "    return next.value.response;\n",
              "  });\n",
              "}\n",
              "\n",
              "/**\n",
              " * Generator function which is called between each async step of the upload\n",
              " * process.\n",
              " * @param {string} inputId Element ID of the input file picker element.\n",
              " * @param {string} outputId Element ID of the output display.\n",
              " * @return {!Iterable<!Object>} Iterable of next steps.\n",
              " */\n",
              "function* uploadFilesStep(inputId, outputId) {\n",
              "  const inputElement = document.getElementById(inputId);\n",
              "  inputElement.disabled = false;\n",
              "\n",
              "  const outputElement = document.getElementById(outputId);\n",
              "  outputElement.innerHTML = '';\n",
              "\n",
              "  const pickedPromise = new Promise((resolve) => {\n",
              "    inputElement.addEventListener('change', (e) => {\n",
              "      resolve(e.target.files);\n",
              "    });\n",
              "  });\n",
              "\n",
              "  const cancel = document.createElement('button');\n",
              "  inputElement.parentElement.appendChild(cancel);\n",
              "  cancel.textContent = 'Cancel upload';\n",
              "  const cancelPromise = new Promise((resolve) => {\n",
              "    cancel.onclick = () => {\n",
              "      resolve(null);\n",
              "    };\n",
              "  });\n",
              "\n",
              "  // Wait for the user to pick the files.\n",
              "  const files = yield {\n",
              "    promise: Promise.race([pickedPromise, cancelPromise]),\n",
              "    response: {\n",
              "      action: 'starting',\n",
              "    }\n",
              "  };\n",
              "\n",
              "  cancel.remove();\n",
              "\n",
              "  // Disable the input element since further picks are not allowed.\n",
              "  inputElement.disabled = true;\n",
              "\n",
              "  if (!files) {\n",
              "    return {\n",
              "      response: {\n",
              "        action: 'complete',\n",
              "      }\n",
              "    };\n",
              "  }\n",
              "\n",
              "  for (const file of files) {\n",
              "    const li = document.createElement('li');\n",
              "    li.append(span(file.name, {fontWeight: 'bold'}));\n",
              "    li.append(span(\n",
              "        `(${file.type || 'n/a'}) - ${file.size} bytes, ` +\n",
              "        `last modified: ${\n",
              "            file.lastModifiedDate ? file.lastModifiedDate.toLocaleDateString() :\n",
              "                                    'n/a'} - `));\n",
              "    const percent = span('0% done');\n",
              "    li.appendChild(percent);\n",
              "\n",
              "    outputElement.appendChild(li);\n",
              "\n",
              "    const fileDataPromise = new Promise((resolve) => {\n",
              "      const reader = new FileReader();\n",
              "      reader.onload = (e) => {\n",
              "        resolve(e.target.result);\n",
              "      };\n",
              "      reader.readAsArrayBuffer(file);\n",
              "    });\n",
              "    // Wait for the data to be ready.\n",
              "    let fileData = yield {\n",
              "      promise: fileDataPromise,\n",
              "      response: {\n",
              "        action: 'continue',\n",
              "      }\n",
              "    };\n",
              "\n",
              "    // Use a chunked sending to avoid message size limits. See b/62115660.\n",
              "    let position = 0;\n",
              "    do {\n",
              "      const length = Math.min(fileData.byteLength - position, MAX_PAYLOAD_SIZE);\n",
              "      const chunk = new Uint8Array(fileData, position, length);\n",
              "      position += length;\n",
              "\n",
              "      const base64 = btoa(String.fromCharCode.apply(null, chunk));\n",
              "      yield {\n",
              "        response: {\n",
              "          action: 'append',\n",
              "          file: file.name,\n",
              "          data: base64,\n",
              "        },\n",
              "      };\n",
              "\n",
              "      let percentDone = fileData.byteLength === 0 ?\n",
              "          100 :\n",
              "          Math.round((position / fileData.byteLength) * 100);\n",
              "      percent.textContent = `${percentDone}% done`;\n",
              "\n",
              "    } while (position < fileData.byteLength);\n",
              "  }\n",
              "\n",
              "  // All done.\n",
              "  yield {\n",
              "    response: {\n",
              "      action: 'complete',\n",
              "    }\n",
              "  };\n",
              "}\n",
              "\n",
              "scope.google = scope.google || {};\n",
              "scope.google.colab = scope.google.colab || {};\n",
              "scope.google.colab._files = {\n",
              "  _uploadFiles,\n",
              "  _uploadFilesContinue,\n",
              "};\n",
              "})(self);\n",
              "</script> "
            ]
          },
          "metadata": {}
        },
        {
          "output_type": "execute_result",
          "data": {
            "text/plain": [
              "{}"
            ]
          },
          "metadata": {},
          "execution_count": 8
        }
      ]
    },
    {
      "cell_type": "markdown",
      "metadata": {
        "id": "bulgarian-michael"
      },
      "source": [
        "set the `Secure connect bundle zip file` path and specify the `clientID` and `Client_Secret`\n",
        "\n",
        "Note: Credentials used are from CDS account on Datastax\n",
        "\n",
        "**Database details:**\n",
        "\n",
        "Database name: cds_mov_database\n",
        "\n",
        "Namespace name: cds_mov\n",
        "\n",
        "Collection name: cds_mov_collection\n",
        "\n",
        "Collection name: cds_rating_collection\n",
        "\n",
        "Collection name: cds_user_collection\n",
        "\n",
        "zip_path = '/content/secure_connect_cds_mov_database.zip'\n",
        "\n",
        "Client_ID = '***'\n",
        "\n",
        "Client_Secret = '***'"
      ],
      "id": "bulgarian-michael"
    },
    {
      "cell_type": "code",
      "metadata": {
        "id": "bearing-roads"
      },
      "source": [
        "# Enter the credentials below\n",
        "from google.colab import userdata\n",
        "\n",
        "zip_path = '/content/secure-connect-cds.zip'\n",
        "Client_ID = userdata.get('dbClientId')\n",
        "Client_Secret = userdata.get('dbClientSecret')"
      ],
      "id": "bearing-roads",
      "execution_count": 5,
      "outputs": []
    },
    {
      "cell_type": "markdown",
      "metadata": {
        "id": "u0GXrsCHK0H6"
      },
      "source": [
        "#### Create a Cluster instance to connect to your Astra database.\n",
        "\n",
        "You will typically have one instance of Cluster for each Cassandra cluster you want to interact with. Create a session object using the cluster.\n",
        "\n",
        "**Hint:** Refer Python documentation under Connect."
      ],
      "id": "u0GXrsCHK0H6"
    },
    {
      "cell_type": "code",
      "metadata": {
        "id": "personal-string",
        "colab": {
          "base_uri": "https://localhost:8080/"
        },
        "outputId": "674734c6-2c7a-46a9-8576-86a63ca58691"
      },
      "source": [
        "cloud_config= {\n",
        "        'secure_connect_bundle': zip_path\n",
        "}\n",
        "auth_provider = PlainTextAuthProvider(Client_ID,\n",
        "                                      Client_Secret)\n",
        "cluster = Cluster(cloud=cloud_config, auth_provider=auth_provider)\n",
        "session = cluster.connect()"
      ],
      "id": "personal-string",
      "execution_count": 6,
      "outputs": [
        {
          "output_type": "stream",
          "name": "stderr",
          "text": [
            "WARNING:cassandra.cluster:Downgrading core protocol version from 66 to 65 for 6a9d8cf5-69f4-46ef-9447-4f8419cb29d2-us-east1.db.astra.datastax.com:29042:678e6a1d-e5b1-3cba-b949-7bfaf823957f. To avoid this, it is best practice to explicitly set Cluster(protocol_version) to the version supported by your cluster. http://datastax.github.io/python-driver/api/cassandra/cluster.html#cassandra.cluster.Cluster.protocol_version\n",
            "WARNING:cassandra.cluster:Downgrading core protocol version from 65 to 5 for 6a9d8cf5-69f4-46ef-9447-4f8419cb29d2-us-east1.db.astra.datastax.com:29042:678e6a1d-e5b1-3cba-b949-7bfaf823957f. To avoid this, it is best practice to explicitly set Cluster(protocol_version) to the version supported by your cluster. http://datastax.github.io/python-driver/api/cassandra/cluster.html#cassandra.cluster.Cluster.protocol_version\n",
            "WARNING:cassandra.cluster:Downgrading core protocol version from 5 to 4 for 6a9d8cf5-69f4-46ef-9447-4f8419cb29d2-us-east1.db.astra.datastax.com:29042:678e6a1d-e5b1-3cba-b949-7bfaf823957f. To avoid this, it is best practice to explicitly set Cluster(protocol_version) to the version supported by your cluster. http://datastax.github.io/python-driver/api/cassandra/cluster.html#cassandra.cluster.Cluster.protocol_version\n"
          ]
        }
      ]
    },
    {
      "cell_type": "markdown",
      "metadata": {
        "id": "sorted-modern"
      },
      "source": [
        "#### Verifying the database connection\n",
        "\n",
        "execute a simple query and verify the database connection"
      ],
      "id": "sorted-modern"
    },
    {
      "cell_type": "code",
      "source": [
        "# YOUR CODE HERE\n",
        "session.execute(\"select release_version from system.local\")"
      ],
      "metadata": {
        "colab": {
          "base_uri": "https://localhost:8080/"
        },
        "id": "i0gTP3KcJYvU",
        "outputId": "4a68c2a2-5ff3-4412-a147-73b5dac7ee8a"
      },
      "id": "i0gTP3KcJYvU",
      "execution_count": 7,
      "outputs": [
        {
          "output_type": "execute_result",
          "data": {
            "text/plain": [
              "<cassandra.cluster.ResultSet at 0x7bb86ce2d210>"
            ]
          },
          "metadata": {},
          "execution_count": 7
        }
      ]
    },
    {
      "cell_type": "markdown",
      "metadata": {
        "id": "earlier-cedar"
      },
      "source": [
        "#### Setting the Key Space\n",
        "\n",
        "A keyspace is the top-level database object that controls the replication for the object it contains at each datacenter in the cluster. Keyspaces contain tables, materialized views and user-defined types, functions and aggregates. Typically, a cluster has one keyspace per application. Since replication is controlled on a per-keyspace basis, store data with different replication requirements (at the same datacenter) in different keyspaces.\n",
        "\n",
        "Before creating tables and inserting data let's create and set the keyspace\n",
        "\n",
        "* we can create keyspace manually on Datastax dashboard or also using the CQL command. (use lowercase to avoid errors)\n",
        "\n",
        "    * [Hint](https://docs.datastax.com/en/cql-oss/3.x/cql/cql_reference/cqlCreateKeyspace.html)\n",
        "\n",
        "* once the keyspace is created successfully, set the keyspace using the command `set_keyspace()`"
      ],
      "id": "earlier-cedar"
    },
    {
      "cell_type": "code",
      "metadata": {
        "id": "complicated-decision"
      },
      "source": [
        "# YOUR CODE HERE\n",
        "session.set_keyspace('movielens')"
      ],
      "id": "complicated-decision",
      "execution_count": 8,
      "outputs": []
    },
    {
      "cell_type": "markdown",
      "metadata": {
        "id": "MwAu-oEU3KWP"
      },
      "source": [
        "### Insert the data into Database (1 point)\n",
        "\n",
        "To insert the data into database, we can create a table in keyspace and insert the data by using CQL command or we can directly upload the data on the datstax dashboard using [Astra Dataloader](https://docs.datastax.com/en/astra/docs/develop/dev-upload-data.html)\n",
        "\n",
        "As there is huge amount of data, insertion of data using CQL commands may take time, preferable method is Astra Dataloader.\n",
        "\n",
        "* Download the below mentioned 3 datasets and upload to Datastax Astra dashboard using Astra Dataloader\n",
        "    * [data_movies](https://cdn.iisc.talentsprint.com/CDS/MiniProjects/data_movies.csv)\n",
        "    * [data_ratings](https://cdn.iisc.talentsprint.com/CDS/MiniProjects/data_ratings.csv)\n",
        "    * [data_users](https://cdn.iisc.talentsprint.com/CDS/MiniProjects/data_users.csv)\n",
        "    \n",
        "while uploading data using Datastax Astra dataloader you may encounter the below error message due to formatting issues or bulk data. In that case, click on upload button for second time for data upload.\n",
        "![img](https://cdn.iisc.talentsprint.com/CDS/MiniProjects/data_upload_error.JPG)\n",
        "\n",
        "Note: Cassandra also handles non-SQL data formats such as JSON (see [insert JSON data](https://docs.datastax.com/en/cql-oss/3.3/cql/cql_using/useInsertJSON.html)). However for the purpose of this Mini-project, we are using a tabular data format (.csv)."
      ],
      "id": "MwAu-oEU3KWP"
    },
    {
      "cell_type": "markdown",
      "source": [
        "### Loading the data\n"
      ],
      "metadata": {
        "id": "1AIb5tS84Im3"
      },
      "id": "1AIb5tS84Im3"
    },
    {
      "cell_type": "code",
      "source": [
        "# YOUR CODE HERE\n",
        "# Use pd.read_csv('data_movies.csv')\n",
        "data_movies = pd.read_csv('data_movies.csv')"
      ],
      "metadata": {
        "id": "XbeyGSxl4Oie"
      },
      "id": "XbeyGSxl4Oie",
      "execution_count": 9,
      "outputs": []
    },
    {
      "cell_type": "code",
      "source": [
        "# YOUR CODE HERE\n",
        "# Use pd.read_csv('data_ratings.csv')\n",
        "data_ratings = pd.read_csv('data_ratings.csv')"
      ],
      "metadata": {
        "id": "qVd2Q2aE4PUq"
      },
      "id": "qVd2Q2aE4PUq",
      "execution_count": 10,
      "outputs": []
    },
    {
      "cell_type": "code",
      "source": [
        "# YOUR CODE HERE\n",
        "# Use pd.read_csv('data_users.csv')\n",
        "data_users = pd.read_csv('data_users.csv')"
      ],
      "metadata": {
        "id": "70cwiy3Z4WH7"
      },
      "id": "70cwiy3Z4WH7",
      "execution_count": 11,
      "outputs": []
    },
    {
      "cell_type": "markdown",
      "metadata": {
        "id": "relevant-vacuum"
      },
      "source": [
        "### Querying the database (2 points)"
      ],
      "id": "relevant-vacuum"
    },
    {
      "cell_type": "markdown",
      "metadata": {
        "id": "OHtkA5P8gHku"
      },
      "source": [
        "* Select First 10 rows of the data_movies table\n",
        "* How many Users have watched the movie  `'Contact (1997)'` with MovieId = 1584\n",
        "* Select the count of teenage male users\n",
        "\n",
        "**Note:** For syntax related issues, try the **CQLConsole** on Datastax dashboard\n",
        "\n",
        "**Hint:** [CQL command for select](https://docs.datastax.com/en/cql-oss/3.3/cql/cql_using/useQueryColumnsSort.html)"
      ],
      "id": "OHtkA5P8gHku"
    },
    {
      "cell_type": "markdown",
      "source": [
        "#### Creating the data_movies table"
      ],
      "metadata": {
        "id": "FiCYYrTr5HPY"
      },
      "id": "FiCYYrTr5HPY"
    },
    {
      "cell_type": "code",
      "metadata": {
        "id": "familiar-architecture"
      },
      "source": [
        "# Use the following SQL query:\n",
        "# query = \"\"\"CREATE TABLE  IF NOT EXISTS data_movies (movieid INT,\n",
        "#                                                 title TEXT,\n",
        "#                                                 genres TEXT,\n",
        "#                                                 PRIMARY KEY (movieid)); \"\"\"\n",
        "\n",
        "# YOUR CODE HERE\n",
        "query = \"\"\"CREATE TABLE  IF NOT EXISTS data_movies (movieid INT,\n",
        "                                                 title TEXT,\n",
        "                                                 genres TEXT,\n",
        "                                                 PRIMARY KEY (movieid)); \"\"\""
      ],
      "id": "familiar-architecture",
      "execution_count": 12,
      "outputs": []
    },
    {
      "cell_type": "code",
      "source": [
        "data_movies_cols = ','.join(data_movies.columns.values)\n",
        "for (i,row) in data_movies.iterrows():\n",
        "   query = 'INSERT INTO movielens.data_movies ({}) VALUES (%s, %s, %s)'.format(data_movies_cols)\n",
        "   session.execute(query, tuple(row))"
      ],
      "metadata": {
        "id": "-V5xO3Py5u-T"
      },
      "id": "-V5xO3Py5u-T",
      "execution_count": null,
      "outputs": []
    },
    {
      "cell_type": "markdown",
      "source": [
        "**Please note that the above code cell will take around 6 mins 30 secs to complete execution on CPU**"
      ],
      "metadata": {
        "id": "_9bChZ8J6BFB"
      },
      "id": "_9bChZ8J6BFB"
    },
    {
      "cell_type": "markdown",
      "source": [
        "#### Creating the data_ratings table"
      ],
      "metadata": {
        "id": "XOxMFF6B51g9"
      },
      "id": "XOxMFF6B51g9"
    },
    {
      "cell_type": "code",
      "metadata": {
        "id": "younger-audit"
      },
      "source": [
        "# Use the following SQL query:\n",
        "query = \"\"\"CREATE TABLE  IF NOT EXISTS data_ratings (movieid INT,\n",
        "                                                rating INT,\n",
        "                                                userid INT,\n",
        "                                                PRIMARY KEY (movieid)); \"\"\"\n",
        "# YOUR CODE HERE"
      ],
      "id": "younger-audit",
      "execution_count": null,
      "outputs": []
    },
    {
      "cell_type": "markdown",
      "source": [
        "**Limiting the DataFrame to the first 5000 rows**"
      ],
      "metadata": {
        "id": "hoBtcSaM6HYT"
      },
      "id": "hoBtcSaM6HYT"
    },
    {
      "cell_type": "code",
      "source": [
        "# Limiting the DataFrame to the first 5000 rows\n",
        "data_ratings = data_ratings.head(5000)  # Replace 'data_ratings' with your actual DataFrame"
      ],
      "metadata": {
        "id": "8OyNamr56MAu"
      },
      "id": "8OyNamr56MAu",
      "execution_count": null,
      "outputs": []
    },
    {
      "cell_type": "code",
      "metadata": {
        "id": "charged-demographic"
      },
      "source": [
        "# Preparing to insert only the first 5000 rows\n",
        "data_ratings_cols = ','.join(data_ratings.columns.values)\n",
        "# Use the following:\n",
        "insert_query = f\"INSERT INTO movielens.data_ratings ({data_ratings_cols}) VALUES (%s, %s, %s)\"\n",
        "\n",
        "# Insert the 5000 rows into Cassandra table 'data_ratings'\n",
        "# YOUR CODE HERE\n",
        "for (i,row) in data_ratings.iterrows():\n",
        "   query = insert_query.format(data_ratings_cols)\n",
        "   session.execute(query, tuple(row))"
      ],
      "id": "charged-demographic",
      "execution_count": null,
      "outputs": []
    },
    {
      "cell_type": "markdown",
      "source": [
        "**Please note that the above code cell will take around 8 mins 26 secs to complete execution on CPU**"
      ],
      "metadata": {
        "id": "7VUJHuyQ6PrK"
      },
      "id": "7VUJHuyQ6PrK"
    },
    {
      "cell_type": "markdown",
      "source": [
        "#### Creating the data_users table"
      ],
      "metadata": {
        "id": "V3_99qHE6y6r"
      },
      "id": "V3_99qHE6y6r"
    },
    {
      "cell_type": "code",
      "source": [
        "# Use the following SQL query:\n",
        "query = \"\"\"CREATE TABLE  IF NOT EXISTS data_users (userid INT,\n",
        "                                                gender TEXT,\n",
        "                                                age INT,\n",
        "                                                PRIMARY KEY (userid)); \"\"\""
      ],
      "metadata": {
        "id": "AXAjH-Zf67jN"
      },
      "id": "AXAjH-Zf67jN",
      "execution_count": null,
      "outputs": []
    },
    {
      "cell_type": "code",
      "source": [
        "data_users_cols = ','.join(data_users.columns.values)\n",
        "for (i,row) in data_users.iterrows():\n",
        "   query = 'INSERT INTO movielens.data_users ({}) VALUES (%s, %s, %s)'.format(data_users_cols)\n",
        "   session.execute(query, tuple(row))"
      ],
      "metadata": {
        "id": "lB8RkIML7D_t"
      },
      "id": "lB8RkIML7D_t",
      "execution_count": null,
      "outputs": []
    },
    {
      "cell_type": "markdown",
      "source": [
        "**Please note that the above code cell will take around 10 mins 11 secs to complete execution on CPU**"
      ],
      "metadata": {
        "id": "hC09OVjS6WbZ"
      },
      "id": "hC09OVjS6WbZ"
    },
    {
      "cell_type": "markdown",
      "source": [
        "* Select First 10 rows of the data_movies table"
      ],
      "metadata": {
        "id": "hnuEeQ8p7pE-"
      },
      "id": "hnuEeQ8p7pE-"
    },
    {
      "cell_type": "code",
      "source": [
        "# YOUR CODE HERE\n",
        "query = 'select * from movielens.data_movies limit 10'\n",
        "rows = session.execute(query)\n",
        "for row in rows:\n",
        "    print(row)"
      ],
      "metadata": {
        "id": "j1UOAD1q7rP7",
        "colab": {
          "base_uri": "https://localhost:8080/"
        },
        "outputId": "fdd2fe2d-0097-4d12-9d98-58db25be7a22"
      },
      "id": "j1UOAD1q7rP7",
      "execution_count": 14,
      "outputs": [
        {
          "output_type": "stream",
          "name": "stdout",
          "text": [
            "Row(movieid=3372, genres='Action|War', title='Bridge at Remagen, The (1969)')\n",
            "Row(movieid=1584, genres='Drama|Sci-Fi', title='Contact (1997)')\n",
            "Row(movieid=2731, genres='Drama', title='400 Blows, The (Les Quatre cents coups) (1959)')\n",
            "Row(movieid=2713, genres='Horror|Thriller', title='Lake Placid (1999)')\n",
            "Row(movieid=769, genres='Documentary', title='Marlene Dietrich: Shadow and Light (1996)')\n",
            "Row(movieid=1863, genres='Comedy', title='Major League: Back to the Minors (1998)')\n",
            "Row(movieid=2453, genres='Drama|Fantasy', title='Boy Who Could Fly, The (1986)')\n",
            "Row(movieid=2302, genres='Comedy', title='My Cousin Vinny (1992)')\n",
            "Row(movieid=3733, genres='Drama', title='Paper Chase, The (1973)')\n",
            "Row(movieid=1765, genres='Crime|Drama', title='Letter From Death Row, A (1998)')\n"
          ]
        }
      ]
    },
    {
      "cell_type": "markdown",
      "source": [
        "* How many Users have watched the movie 'Contact (1997)' with MovieId = 1584\n",
        "\n",
        "**Hint:** Use the following query command.\n",
        "\n",
        "\"SELECT count(*) FROM cds_mov.data_ratings WHERE movieid=1584 ALLOW FILTERING;\""
      ],
      "metadata": {
        "id": "2WajQZ5O7yZe"
      },
      "id": "2WajQZ5O7yZe"
    },
    {
      "cell_type": "code",
      "source": [
        "# YOUR CODE HERE\n",
        "query_cnt = 'SELECT count(*) FROM movielens.data_ratings WHERE movieid=1584 ALLOW FILTERING'\n",
        "cnt = session.execute(query_cnt)\n",
        "print(\"Number of users who watched movie 'Contact' with id 1584 is \",cnt.one().count)"
      ],
      "metadata": {
        "id": "yNTVuvk371e0",
        "colab": {
          "base_uri": "https://localhost:8080/"
        },
        "outputId": "c9e48c09-fba5-4046-d30f-6a4968b288ac"
      },
      "id": "yNTVuvk371e0",
      "execution_count": 15,
      "outputs": [
        {
          "output_type": "stream",
          "name": "stdout",
          "text": [
            "Number of users who watched movie 'Contact' with id 1584 is  1\n"
          ]
        }
      ]
    },
    {
      "cell_type": "markdown",
      "source": [
        "* Select the count of teenage male users\n",
        "\n",
        "**Hint:** Use the following query command.\n",
        "\n",
        "\"\"\"select count(*) from cds_mov.data_users where age<20 and gender='M' allow filtering;\"\"\""
      ],
      "metadata": {
        "id": "FVsyJZSb8STX"
      },
      "id": "FVsyJZSb8STX"
    },
    {
      "cell_type": "code",
      "source": [
        "# YOUR CODE HERE\n",
        "query_cnt = 'select count(*) from movielens.data_users where age<20 and gender=\\'M\\' allow filtering;'\n",
        "cnt = session.execute(query_cnt)\n",
        "print(\"Count of teenage male users is \",cnt.one().count)"
      ],
      "metadata": {
        "id": "gfQvLg9d8j5X",
        "colab": {
          "base_uri": "https://localhost:8080/"
        },
        "outputId": "d0e3d8cc-e10a-422c-87c2-7522f66045eb"
      },
      "id": "gfQvLg9d8j5X",
      "execution_count": 16,
      "outputs": [
        {
          "output_type": "stream",
          "name": "stderr",
          "text": [
            "WARNING:cassandra.protocol:Server warning: Aggregation query used without partition key\n"
          ]
        },
        {
          "output_type": "stream",
          "name": "stdout",
          "text": [
            "Count of teenage male users is  949\n"
          ]
        }
      ]
    },
    {
      "cell_type": "markdown",
      "metadata": {
        "id": "sustainable-underwear"
      },
      "source": [
        "* Select the count of movies with Top rating from the entire ratings table"
      ],
      "id": "sustainable-underwear"
    },
    {
      "cell_type": "code",
      "metadata": {
        "id": "better-heath",
        "colab": {
          "base_uri": "https://localhost:8080/"
        },
        "outputId": "6ee6612f-6d69-4bbf-ab9c-56e17f479600"
      },
      "source": [
        "# YOUR CODE HERE\n",
        "query = 'select count(*) from movielens.data_ratings where rating=5 allow filtering'\n",
        "cnt = session.execute(query)\n",
        "print(\"Count of movies with Top rating is \",cnt.one().count)"
      ],
      "id": "better-heath",
      "execution_count": 17,
      "outputs": [
        {
          "output_type": "stream",
          "name": "stderr",
          "text": [
            "WARNING:cassandra.protocol:Server warning: Aggregation query used without partition key\n"
          ]
        },
        {
          "output_type": "stream",
          "name": "stdout",
          "text": [
            "Count of movies with Top rating is  572\n"
          ]
        }
      ]
    },
    {
      "cell_type": "markdown",
      "metadata": {
        "id": "alleged-notebook"
      },
      "source": [
        "* Select the count of movies, ONLY in Comedy genre from the entire data_movies table"
      ],
      "id": "alleged-notebook"
    },
    {
      "cell_type": "code",
      "metadata": {
        "id": "enabling-display",
        "colab": {
          "base_uri": "https://localhost:8080/"
        },
        "outputId": "edaf52e8-a1cd-42fc-a49d-815aeb20ebfd"
      },
      "source": [
        "# YOUR CODE HERE\n",
        "query = 'select count(*) from movielens.data_movies where genres=\\'Comedy\\' allow filtering'\n",
        "cnt = session.execute(query)\n",
        "print(\"Count of movies in Comedy genre is \",cnt.one().count)"
      ],
      "id": "enabling-display",
      "execution_count": 18,
      "outputs": [
        {
          "output_type": "stream",
          "name": "stderr",
          "text": [
            "WARNING:cassandra.protocol:Server warning: Aggregation query used without partition key\n"
          ]
        },
        {
          "output_type": "stream",
          "name": "stdout",
          "text": [
            "Count of movies in Comedy genre is  521\n"
          ]
        }
      ]
    },
    {
      "cell_type": "markdown",
      "metadata": {
        "id": "afraid-france"
      },
      "source": [
        "### Visualizing the Data (2 points)\n",
        "\n",
        "Retrieve the data using CQL queries and visualize using matplotlib"
      ],
      "id": "afraid-france"
    },
    {
      "cell_type": "markdown",
      "metadata": {
        "id": "damaged-laugh"
      },
      "source": [
        "* Visualize the frequencies of movie genres from the entire data\n",
        "\n",
        "**Hint:** Use the following query\n",
        "\n",
        "query = 'select genres from cds_mov.data_movies'"
      ],
      "id": "damaged-laugh"
    },
    {
      "cell_type": "code",
      "metadata": {
        "id": "acquired-solid",
        "colab": {
          "base_uri": "https://localhost:8080/",
          "height": 607
        },
        "outputId": "20f51ac6-2841-4d9e-bf55-45c7dbbd475c"
      },
      "source": [
        "# YOUR CODE HERE\n",
        "query = 'select genres from movielens.data_movies'\n",
        "genres = session.execute(query)\n",
        "\n",
        "from collections import defaultdict\n",
        "\n",
        "# Execute the query to retrieve genres\n",
        "query = 'select genres from data_movies'\n",
        "rows = session.execute(query)\n",
        "\n",
        "# Create a dictionary to store genre frequencies\n",
        "genre_frequencies = defaultdict(int)\n",
        "\n",
        "# Process each row to count genre occurrences\n",
        "for row in rows:\n",
        "    genres = row.genres.split('|')  # Split genres based on '|' delimiter\n",
        "    for genre in genres:\n",
        "        genre_frequencies[genre] += 1\n",
        "\n",
        "# Prepare data for plotting\n",
        "genres = list(genre_frequencies.keys())\n",
        "frequencies = list(genre_frequencies.values())\n",
        "\n",
        "# Create the bar plot\n",
        "plt.figure(figsize=(12, 6))  # Adjust figure size as needed\n",
        "plt.bar(genres, frequencies)\n",
        "plt.xlabel(\"Genres\")\n",
        "plt.ylabel(\"Frequency\")\n",
        "plt.title(\"Movie Genre Frequencies\")\n",
        "plt.xticks(rotation=45, ha='right')  # Rotate x-axis labels for better readability\n",
        "plt.tight_layout()  # Adjust layout to prevent labels from overlapping\n",
        "plt.show()"
      ],
      "id": "acquired-solid",
      "execution_count": 19,
      "outputs": [
        {
          "output_type": "display_data",
          "data": {
            "text/plain": [
              "<Figure size 1200x600 with 1 Axes>"
            ],
            "image/png": "[encoded data removed]"
          },
          "metadata": {}
        }
      ]
    },
    {
      "cell_type": "markdown",
      "metadata": {
        "id": "instant-immigration"
      },
      "source": [
        "* Visualize the bar plot showing no.of movies released in a particular year"
      ],
      "id": "instant-immigration"
    },
    {
      "cell_type": "code",
      "metadata": {
        "id": "theoretical-carol",
        "colab": {
          "base_uri": "https://localhost:8080/",
          "height": 607
        },
        "outputId": "a2d69092-2718-4913-e048-6b6bf9af63b4"
      },
      "source": [
        "# YOUR CODE HERE\n",
        "import re\n",
        "def extract_year(movie_title):\n",
        "    # Regex to find a 4-digit number inside parentheses\n",
        "    match = re.search(r'\\((\\d{4})\\)', movie_title)\n",
        "    if match:\n",
        "        return match.group(1)  # Return the matched year\n",
        "    else:\n",
        "        return None  # Return None if no year found\n",
        "\n",
        "query = 'select title from movielens.data_movies'\n",
        "rows = session.execute(query)\n",
        "\n",
        "# Create a dictionary to store genre frequencies\n",
        "year_frequencies = defaultdict(int)\n",
        "\n",
        "# Process each row to count genre occurrences\n",
        "for row in rows:\n",
        "    year = extract_year(row.title)  # Split genres based on '|' delimiter\n",
        "    year_frequencies[year] += 1\n",
        "\n",
        "# Prepare data for plotting\n",
        "years = list(year_frequencies.keys())\n",
        "frequencies = list(year_frequencies.values())\n",
        "\n",
        "# Create the bar plot\n",
        "plt.figure(figsize=(12, 6))  # Adjust figure size as needed\n",
        "plt.bar(years, frequencies)\n",
        "plt.xlabel(\"Year\")\n",
        "plt.ylabel(\"Frequency\")\n",
        "plt.title(\"Movie Year Frequencies\")\n",
        "plt.xticks(rotation=45, ha='right')  # Rotate x-axis labels for better readability\n",
        "plt.tight_layout()  # Adjust layout to prevent labels from overlapping\n",
        "plt.show()"
      ],
      "id": "theoretical-carol",
      "execution_count": 20,
      "outputs": [
        {
          "output_type": "display_data",
          "data": {
            "text/plain": [
              "<Figure size 1200x600 with 1 Axes>"
            ],
            "image/png": "[encoded data removed]"
          },
          "metadata": {}
        }
      ]
    },
    {
      "cell_type": "markdown",
      "metadata": {
        "id": "pediatric-clothing"
      },
      "source": [
        "* Depict the plot of Age groups ratio who are active in watching movies\n",
        "\n",
        "**Hint:** Use the following query.\n",
        "\n",
        "query = 'select age from cds_mov.data_users;'"
      ],
      "id": "pediatric-clothing"
    },
    {
      "cell_type": "code",
      "metadata": {
        "id": "desirable-selection",
        "colab": {
          "base_uri": "https://localhost:8080/",
          "height": 607
        },
        "outputId": "485e731d-bd66-4495-cda9-2cc40369a176"
      },
      "source": [
        "# YOUR CODE HERE\n",
        "query = 'select age from movielens.data_users'\n",
        "rows = session.execute(query)\n",
        "\n",
        "# Create a dictionary to store genre frequencies\n",
        "age_frequencies = defaultdict(int)\n",
        "\n",
        "# Process each row to count genre occurrences\n",
        "for row in rows:\n",
        "    age = row.age  # Split genres based on '|' delimiter\n",
        "    age_frequencies[age] += 1\n",
        "\n",
        "# Prepare data for plotting\n",
        "ages = list(age_frequencies.keys())\n",
        "frequencies = list(age_frequencies.values())\n",
        "\n",
        "# Create the bar plot\n",
        "plt.figure(figsize=(12, 6))  # Adjust figure size as needed\n",
        "plt.bar(ages, frequencies)\n",
        "plt.xlabel(\"Age\")\n",
        "plt.ylabel(\"Frequency\")\n",
        "plt.title(\"Movie Year Frequencies\")\n",
        "plt.xticks(rotation=45, ha='right')  # Rotate x-axis labels for better readability\n",
        "plt.tight_layout()  # Adjust layout to prevent labels from overlapping\n",
        "plt.show()"
      ],
      "id": "desirable-selection",
      "execution_count": 21,
      "outputs": [
        {
          "output_type": "display_data",
          "data": {
            "text/plain": [
              "<Figure size 1200x600 with 1 Axes>"
            ],
            "image/png": "[encoded data removed]"
          },
          "metadata": {}
        }
      ]
    },
    {
      "cell_type": "markdown",
      "metadata": {
        "id": "extensive-billy"
      },
      "source": [
        "### Analyzing the Data (3 points)\n",
        "\n",
        "Analyzing the correlation between the movies records, implement a function to recommend movies based on search term"
      ],
      "id": "extensive-billy"
    },
    {
      "cell_type": "markdown",
      "metadata": {
        "id": "southeast-buffalo"
      },
      "source": [
        "* Retrieve all the data from ratings table\n",
        "\n",
        "**Hint:** Use the following query.\n",
        "\n",
        "query = 'select * from cds_mov.data_ratings;'"
      ],
      "id": "southeast-buffalo"
    },
    {
      "cell_type": "code",
      "metadata": {
        "id": "related-google",
        "colab": {
          "base_uri": "https://localhost:8080/"
        },
        "outputId": "29503acb-13a5-40aa-c7f5-06aac8123560"
      },
      "source": [
        "# YOUR CODE HERE\n",
        "query = 'select * from movielens.data_ratings'\n",
        "rows = session.execute(query)\n",
        "print(rows.one())\n"
      ],
      "id": "related-google",
      "execution_count": 22,
      "outputs": [
        {
          "output_type": "stream",
          "name": "stdout",
          "text": [
            "Row(movieid=3372, rating=2, userid=4510)\n"
          ]
        }
      ]
    },
    {
      "cell_type": "markdown",
      "metadata": {
        "id": "continent-travel"
      },
      "source": [
        "* Create a movie matrix by applying pivot table with the above retrieved ratings data\n",
        "\n",
        "* use `pd.pivot_table` with index = `userid`, columns = `movieid` and Values = `rating`\n",
        "\n",
        " **Hint:** create a dataframe with above retrieved ratings data to apply pivot table"
      ],
      "id": "continent-travel"
    },
    {
      "cell_type": "code",
      "metadata": {
        "id": "prospective-polls",
        "colab": {
          "base_uri": "https://localhost:8080/"
        },
        "outputId": "6738d416-b711-486f-a019-a96c89338ed9"
      },
      "source": [
        "# YOUR CODE HERE\n",
        "data = [dict(row._asdict()) for row in rows]\n",
        "\n",
        "# Create DataFrame\n",
        "df = pd.DataFrame(data)\n",
        "\n",
        "print(df.head())\n",
        "movie_matrix = df.pivot_table(index='userid', columns='movieid', values='rating')\n"
      ],
      "id": "prospective-polls",
      "execution_count": 23,
      "outputs": [
        {
          "output_type": "stream",
          "name": "stdout",
          "text": [
            "   movieid  rating  userid\n",
            "0     3372       2    4510\n",
            "1     1584       5     436\n",
            "2     2731       5    3371\n",
            "3     2713       1    3683\n",
            "4      769       3    1150\n"
          ]
        }
      ]
    },
    {
      "cell_type": "markdown",
      "metadata": {
        "id": "surgical-level"
      },
      "source": [
        "* Define a function named `recommend_movies()` which will take a movieid as argument and return the top 5 similar movieid's\n",
        "\n",
        "    * Considering the argument (movieid) as search item collect the particular row data\n",
        "    \n",
        "    * Using movie matrix calculate correlation between movie search Item data and all the remaining data\n",
        "    \n",
        "        * Hint: [corr_with()](https://pandas.pydata.org/docs/reference/api/pandas.DataFrame.corrwith.html)\n",
        "        \n",
        "    * Sort the result by ascending order and return the top 5 items"
      ],
      "id": "surgical-level"
    },
    {
      "cell_type": "code",
      "metadata": {
        "id": "excellent-perth",
        "colab": {
          "base_uri": "https://localhost:8080/"
        },
        "outputId": "3f578b7b-f258-4a70-df1f-0ec6eed5f03e"
      },
      "source": [
        "def recommend_movie(movie_matrix,movieId):\n",
        "    # YOUR CODE HERE\n",
        "    movie_correlations = movie_matrix.corrwith(movie_matrix[movieId])\n",
        "\n",
        "    # Sort the correlations in descending order and return the top 5 (excluding the movie itself)\n",
        "    top_recommendations = movie_correlations.sort_values(ascending=False).index[1:6]\n",
        "\n",
        "    return top_recommendations\n",
        "\n",
        "#print(recommend_movie(df, 6040))\n",
        "print(recommend_movie(movie_matrix, 3372))\n",
        "#movie_matrix[3372]"
      ],
      "id": "excellent-perth",
      "execution_count": 25,
      "outputs": [
        {
          "output_type": "stream",
          "name": "stdout",
          "text": [
            "Index([2, 3, 4, 5, 6], dtype='int64', name='movieid')\n"
          ]
        },
        {
          "output_type": "stream",
          "name": "stderr",
          "text": [
            "/usr/local/lib/python3.10/dist-packages/numpy/lib/function_base.py:2889: RuntimeWarning: Degrees of freedom <= 0 for slice\n",
            "  c = cov(x, y, rowvar, dtype=dtype)\n",
            "/usr/local/lib/python3.10/dist-packages/numpy/lib/function_base.py:2748: RuntimeWarning: divide by zero encountered in divide\n",
            "  c *= np.true_divide(1, fact)\n",
            "/usr/local/lib/python3.10/dist-packages/numpy/lib/function_base.py:2748: RuntimeWarning: invalid value encountered in multiply\n",
            "  c *= np.true_divide(1, fact)\n"
          ]
        }
      ]
    },
    {
      "cell_type": "markdown",
      "metadata": {
        "id": "afraid-ivory"
      },
      "source": [
        "* write a query to get MovieId of a Title (your choice) and the result MovieId as a search item by calling the above defined function"
      ],
      "id": "afraid-ivory"
    },
    {
      "cell_type": "code",
      "metadata": {
        "id": "damaged-starter",
        "colab": {
          "base_uri": "https://localhost:8080/"
        },
        "outputId": "39d7e254-a217-4bd9-f117-26e0912a9cea"
      },
      "source": [
        "# YOUR CODE HERE\n",
        "query = \"select movieid from movielens.data_movies where title = 'Bridge at Remagen, The (1969)'  ALLOW FILTERING\"\n",
        "rows = session.execute(query)\n",
        "print(rows.one())\n",
        "recommendations = recommend_movie(movie_matrix, 3372)\n",
        "print(recommendations)\n"
      ],
      "id": "damaged-starter",
      "execution_count": 26,
      "outputs": [
        {
          "output_type": "stream",
          "name": "stdout",
          "text": [
            "Row(movieid=3372)\n",
            "Index([2, 3, 4, 5, 6], dtype='int64', name='movieid')\n"
          ]
        }
      ]
    },
    {
      "cell_type": "markdown",
      "metadata": {
        "id": "altered-testimony"
      },
      "source": [
        "* Now taking the result of top 5 items (MovieId's) write a query to retrieve the Movie title from movies table"
      ],
      "id": "altered-testimony"
    },
    {
      "cell_type": "code",
      "metadata": {
        "id": "knowing-keyboard",
        "colab": {
          "base_uri": "https://localhost:8080/"
        },
        "outputId": "76bfec60-2045-4dfb-9cba-16e8152c38a4"
      },
      "source": [
        "# YOUR CODE HERE\n",
        "for r in recommendations:\n",
        "    query = \"select title from movielens.data_movies where movieid = {}  ALLOW FILTERING\".format(r)\n",
        "    rows = session.execute(query)\n",
        "    print(rows.one())"
      ],
      "id": "knowing-keyboard",
      "execution_count": 27,
      "outputs": [
        {
          "output_type": "stream",
          "name": "stdout",
          "text": [
            "Row(title='Jumanji (1995)')\n",
            "Row(title='Grumpier Old Men (1995)')\n",
            "Row(title='Waiting to Exhale (1995)')\n",
            "Row(title='Father of the Bride Part II (1995)')\n",
            "Row(title='Heat (1995)')\n"
          ]
        }
      ]
    },
    {
      "cell_type": "markdown",
      "source": [
        "**Close the session**"
      ],
      "metadata": {
        "id": "q6C9QNGklpfC"
      },
      "id": "q6C9QNGklpfC"
    },
    {
      "cell_type": "code",
      "source": [
        "# YOUR CODE HERE\n",
        "session.shutdown()"
      ],
      "metadata": {
        "id": "C3repgoilrd3"
      },
      "id": "C3repgoilrd3",
      "execution_count": 28,
      "outputs": []
    }
  ]
}