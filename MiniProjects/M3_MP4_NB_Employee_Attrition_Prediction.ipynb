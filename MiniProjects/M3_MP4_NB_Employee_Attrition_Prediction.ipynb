{
  "metadata": {
    "kernelspec": {
      "display_name": "Python 3",
      "name": "python3"
    },
    "language_info": {
      "name": "python",
      "version": "3.6.6",
      "mimetype": "text/x-python",
      "codemirror_mode": {
        "name": "ipython",
        "version": 3
      },
      "pygments_lexer": "ipython3",
      "nbconvert_exporter": "python",
      "file_extension": ".py"
    },
    "colab": {
      "provenance": []
    }
  },
  "nbformat_minor": 0,
  "nbformat": 4,
  "cells": [
    {
      "cell_type": "markdown",
      "source": [
        "# Advanced Certification Program in Computational Data Science\n",
        "## A program by IISc and TalentSprint\n",
        "### Mini Project Notebook: Employee Attrition Prediction"
      ],
      "metadata": {
        "id": "hTplQkOMsKhd"
      }
    },
    {
      "cell_type": "markdown",
      "source": [
        "## **Note:** This notebook is part of an in-house Kaggle competition"
      ],
      "metadata": {
        "id": "WAJK03OtjDAB"
      }
    },
    {
      "cell_type": "markdown",
      "source": [
        "## Problem Statement"
      ],
      "metadata": {
        "id": "w9wsH4KikGdd"
      }
    },
    {
      "cell_type": "markdown",
      "source": [
        "To predict employee attrition using CatBoost and XgBoost"
      ],
      "metadata": {
        "id": "Bmh48BKlkIlm"
      }
    },
    {
      "cell_type": "markdown",
      "source": [
        "## Learning Objectives"
      ],
      "metadata": {
        "id": "8N0iS4ipU_XM"
      }
    },
    {
      "cell_type": "markdown",
      "source": [
        "At the end of the experiment, you will be able to\n",
        "\n",
        "* explore the employee attrition dataset\n",
        "* apply CatBoost and XgBoost on the dataset\n",
        "* tune the model hyperparameters to improve accuracy\n",
        "* evaluate the model using suitable metrics\n"
      ],
      "metadata": {
        "id": "K8OXq65pVDDS"
      }
    },
    {
      "cell_type": "markdown",
      "source": [
        "## Introduction\n",
        "\n",
        "Employee attrition is the gradual reduction in employee numbers. Employee attrition happens when the size of your workforce diminishes over time. This means that employees are leaving faster than they are hired. Employee attrition happens when employees retire, resign, or simply aren't replaced.\n",
        "Although employee attrition can be company-wide, it may also be confined to specific parts of a business.\n",
        "\n",
        "Employee attrition can happen for several reasons. These include unhappiness about employee benefits or the pay structure, a lack of employee development opportunities, and even poor conditions in the workplace.\n",
        "\n",
        "To know more about the factors that lead to employee attrition, refer [here](https://www.betterup.com/blog/employee-attrition#:~:text=Employee%20attrition%20is%20the%20gradual,or%20simply%20aren't%20replaced).\n"
      ],
      "metadata": {
        "id": "GYxPNsZuYcGk"
      }
    },
    {
      "cell_type": "markdown",
      "source": [
        "**Gradient Boosted Decision Trees**\n",
        "\n",
        "* Gradient boosted decision trees (GBDTs) are one of the most important machine learning models.\n",
        "\n",
        "* GBDTs originate from AdaBoost, an algorithm that ensembles weak learners and uses the majority vote, weighted by their individual accuracy, to solve binary classification problems. The weak learners in this case are decision trees with a single split, called decision stumps.\n",
        "\n",
        "* Some of the widely used gradient boosted decision trees are XgBoost, CatBoost and LightGBM."
      ],
      "metadata": {
        "id": "dsJP8R-j7tO8"
      }
    },
    {
      "cell_type": "markdown",
      "source": [
        "## Dataset\n",
        "\n",
        "The dataset used for this mini-project is [HR Employee Attrition dataset](https://data.world/aaizemberg/hr-employee-attrition). This dataset is synthetically created by IBM data scientists. There are 35 features and 1470 records.\n",
        "\n",
        "There are numerical features such as:\n",
        "\n",
        "* Age\n",
        "* DistanceFromHome\n",
        "* EmployeeNumber\n",
        "* PerformanceRating\n",
        "\n",
        "There are several categorical features such as:\n",
        "* JobRole\n",
        "* EducationField\n",
        "* Department\n",
        "* BusinessTravel\n",
        "\n",
        "Dependent or target feature is 'attrition' which has values as Yes/No."
      ],
      "metadata": {
        "id": "YC0AF58YH-cn"
      }
    },
    {
      "cell_type": "markdown",
      "source": [
        "### **Kaggle Competition**"
      ],
      "metadata": {
        "id": "QrVGOVDsya0-"
      }
    },
    {
      "cell_type": "markdown",
      "source": [
        "Please refer to the link for viewing the\n",
        "[Kaggle Competition Document](https://drive.google.com/file/d/1bJXXxoH5-wZbG0cXDDJUkzFUO564A2XG/view?usp=drive_link) and join the Kaggle Competition using the hyperlink given in this document under '*Kaggle* Competition site'."
      ],
      "metadata": {
        "id": "fad4_EbCyfbg"
      }
    },
    {
      "cell_type": "markdown",
      "source": [
        "## Grading = 10 Points"
      ],
      "metadata": {
        "id": "qkSHqm24yzOL"
      }
    },
    {
      "cell_type": "code",
      "metadata": {
        "id": "812a816f",
        "cellView": "form",
        "colab": {
          "base_uri": "https://localhost:8080/"
        },
        "outputId": "976a31fe-308b-46b9-f452-e765d80e06b9"
      },
      "source": [
        "#@title Download the data\n",
        "!wget -qq https://cdn.iisc.talentsprint.com/CDS/MiniProjects/hr_employee_attrition_train.csv\n",
        "print(\"Data Downloaded Successfuly!!\")"
      ],
      "execution_count": null,
      "outputs": [
        {
          "output_type": "stream",
          "name": "stdout",
          "text": [
            "Data Downloaded Successfuly!!\n"
          ]
        }
      ]
    },
    {
      "cell_type": "markdown",
      "source": [
        "### Install CatBoost"
      ],
      "metadata": {
        "id": "1BJzstlcLh4k"
      }
    },
    {
      "cell_type": "code",
      "source": [
        "!pip -qq install catboost"
      ],
      "metadata": {
        "id": "BYeUGMBZeqtL",
        "colab": {
          "base_uri": "https://localhost:8080/"
        },
        "outputId": "dcaf47a9-122f-4e7a-a2fe-6d61d10a4b49"
      },
      "execution_count": null,
      "outputs": [
        {
          "output_type": "stream",
          "name": "stdout",
          "text": [
            "\u001b[2K   \u001b[90m━━━━━━━━━━━━━━━━━━━━━━━━━━━━━━━━━━━━━━━━\u001b[0m \u001b[32m98.2/98.2 MB\u001b[0m \u001b[31m7.8 MB/s\u001b[0m eta \u001b[36m0:00:00\u001b[0m\n",
            "\u001b[?25h"
          ]
        }
      ]
    },
    {
      "cell_type": "markdown",
      "source": [
        "### Import Required Packages"
      ],
      "metadata": {
        "id": "1TmXyc2bRFvM"
      }
    },
    {
      "cell_type": "code",
      "source": [
        "import numpy as np\n",
        "import pandas as pd\n",
        "import seaborn as sns\n",
        "from matplotlib import pyplot as plt\n",
        "from sklearn.metrics import roc_auc_score, accuracy_score, confusion_matrix, f1_score\n",
        "from sklearn.model_selection import train_test_split\n",
        "from lightgbm import LGBMClassifier\n",
        "from xgboost import XGBClassifier\n",
        "from catboost import CatBoostClassifier, metrics\n",
        "import warnings\n",
        "warnings.filterwarnings(\"ignore\")\n",
        "plt.style.use('fivethirtyeight')\n",
        "pd.set_option('display.max_columns', 100)\n",
        "%matplotlib inline"
      ],
      "metadata": {
        "_uuid": "3f4d5f2c0b147e47776e71922cadb41524cb151b",
        "trusted": true,
        "id": "v50DDzl0CEVk",
        "colab": {
          "base_uri": "https://localhost:8080/"
        },
        "outputId": "7ecf2943-52c5-4bfc-b165-844776f8f987"
      },
      "execution_count": null,
      "outputs": [
        {
          "output_type": "stream",
          "name": "stderr",
          "text": [
            "/usr/local/lib/python3.10/dist-packages/dask/dataframe/__init__.py:42: FutureWarning: \n",
            "Dask dataframe query planning is disabled because dask-expr is not installed.\n",
            "\n",
            "You can install it with `pip install dask[dataframe]` or `conda install dask`.\n",
            "This will raise in a future version.\n",
            "\n",
            "  warnings.warn(msg, FutureWarning)\n"
          ]
        }
      ]
    },
    {
      "cell_type": "markdown",
      "source": [
        "## Load the Dataset"
      ],
      "metadata": {
        "id": "0E7JUtgDYBDL"
      }
    },
    {
      "cell_type": "markdown",
      "source": [
        "**Exercise 1: Read the dataset [0.5 Mark]**\n",
        "\n",
        "**Hint:** pd.read_csv()"
      ],
      "metadata": {
        "id": "xhB7KfG7lAi6"
      }
    },
    {
      "cell_type": "code",
      "source": [
        "# read the dataset\n",
        "# YOUR CODE HERE\n",
        "df = pd.read_csv('/content/hr_employee_attrition_train.csv')"
      ],
      "metadata": {
        "id": "82VkFRBVSbG7"
      },
      "execution_count": null,
      "outputs": []
    },
    {
      "cell_type": "code",
      "source": [
        "# Check the shape of dataframe.\n",
        "# YOUR CODE HERE\n",
        "df.shape"
      ],
      "metadata": {
        "id": "L6QL6HbTZLjw",
        "colab": {
          "base_uri": "https://localhost:8080/"
        },
        "outputId": "29dadf7b-738a-45a1-bd7a-3796a79d776e"
      },
      "execution_count": null,
      "outputs": [
        {
          "output_type": "execute_result",
          "data": {
            "text/plain": [
              "(1170, 35)"
            ]
          },
          "metadata": {},
          "execution_count": 7
        }
      ]
    },
    {
      "cell_type": "code",
      "source": [
        "df.head()"
      ],
      "metadata": {
        "colab": {
          "base_uri": "https://localhost:8080/",
          "height": 313
        },
        "id": "uy81c_Jtl9pk",
        "outputId": "7b77f50c-644a-46da-dd0b-375f42c711ee"
      },
      "execution_count": null,
      "outputs": [
        {
          "output_type": "execute_result",
          "data": {
            "text/plain": [
              "   age businesstravel  dailyrate              department  distancefromhome  \\\n",
              "0   45  Travel_Rarely        556  Research & Development                25   \n",
              "1   34  Travel_Rarely        970  Research & Development                 8   \n",
              "2   39  Travel_Rarely        360  Research & Development                23   \n",
              "3   26  Travel_Rarely        933                   Sales                 1   \n",
              "4   40  Travel_Rarely        329  Research & Development                 1   \n",
              "\n",
              "   education educationfield  employeecount  employeenumber  \\\n",
              "0          2  Life Sciences              1            1888   \n",
              "1          2        Medical              1             757   \n",
              "2          3        Medical              1            1310   \n",
              "3          3  Life Sciences              1             476   \n",
              "4          4  Life Sciences              1            1361   \n",
              "\n",
              "   environmentsatisfaction  gender  hourlyrate  jobinvolvement  joblevel  \\\n",
              "0                        2  Female          93               2         2   \n",
              "1                        2  Female          96               3         2   \n",
              "2                        3    Male          93               3         1   \n",
              "3                        3    Male          57               3         2   \n",
              "4                        2    Male          88               3         1   \n",
              "\n",
              "                     jobrole  jobsatisfaction maritalstatus  monthlyincome  \\\n",
              "0     Manufacturing Director                4       Married           5906   \n",
              "1  Healthcare Representative                3        Single           6142   \n",
              "2         Research Scientist                1        Single           3904   \n",
              "3            Sales Executive                3       Married           5296   \n",
              "4      Laboratory Technician                2       Married           2387   \n",
              "\n",
              "   monthlyrate  numcompaniesworked over18 overtime  percentsalaryhike  \\\n",
              "0        23888                   0      Y       No                 13   \n",
              "1         7360                   3      Y       No                 11   \n",
              "2        22154                   0      Y       No                 13   \n",
              "3        20156                   1      Y       No                 17   \n",
              "4         6762                   3      Y       No                 22   \n",
              "\n",
              "   performancerating  relationshipsatisfaction  standardhours  \\\n",
              "0                  3                         4             80   \n",
              "1                  3                         4             80   \n",
              "2                  3                         1             80   \n",
              "3                  3                         2             80   \n",
              "4                  4                         3             80   \n",
              "\n",
              "   stockoptionlevel  totalworkingyears  trainingtimeslastyear  \\\n",
              "0                 2                 10                      2   \n",
              "1                 0                 10                      2   \n",
              "2                 0                  6                      2   \n",
              "3                 1                  8                      3   \n",
              "4                 1                  7                      3   \n",
              "\n",
              "   worklifebalance  yearsatcompany  yearsincurrentrole  \\\n",
              "0                2               9                   8   \n",
              "1                3               5                   1   \n",
              "2                3               5                   2   \n",
              "3                3               8                   7   \n",
              "4                3               4                   2   \n",
              "\n",
              "   yearssincelastpromotion  yearswithcurrmanager attrition  \n",
              "0                        3                     8        No  \n",
              "1                        4                     3        No  \n",
              "2                        0                     3       Yes  \n",
              "3                        7                     7        No  \n",
              "4                        0                     3        No  "
            ],
            "text/html": [
              "\n",
              "  <div id=\"df-22fe3328-3011-411f-86b5-9afe55bf5354\" class=\"colab-df-container\">\n",
              "    <div>\n",
              "<style scoped>\n",
              "    .dataframe tbody tr th:only-of-type {\n",
              "        vertical-align: middle;\n",
              "    }\n",
              "\n",
              "    .dataframe tbody tr th {\n",
              "        vertical-align: top;\n",
              "    }\n",
              "\n",
              "    .dataframe thead th {\n",
              "        text-align: right;\n",
              "    }\n",
              "</style>\n",
              "<table border=\"1\" class=\"dataframe\">\n",
              "  <thead>\n",
              "    <tr style=\"text-align: right;\">\n",
              "      <th></th>\n",
              "      <th>age</th>\n",
              "      <th>businesstravel</th>\n",
              "      <th>dailyrate</th>\n",
              "      <th>department</th>\n",
              "      <th>distancefromhome</th>\n",
              "      <th>education</th>\n",
              "      <th>educationfield</th>\n",
              "      <th>employeecount</th>\n",
              "      <th>employeenumber</th>\n",
              "      <th>environmentsatisfaction</th>\n",
              "      <th>gender</th>\n",
              "      <th>hourlyrate</th>\n",
              "      <th>jobinvolvement</th>\n",
              "      <th>joblevel</th>\n",
              "      <th>jobrole</th>\n",
              "      <th>jobsatisfaction</th>\n",
              "      <th>maritalstatus</th>\n",
              "      <th>monthlyincome</th>\n",
              "      <th>monthlyrate</th>\n",
              "      <th>numcompaniesworked</th>\n",
              "      <th>over18</th>\n",
              "      <th>overtime</th>\n",
              "      <th>percentsalaryhike</th>\n",
              "      <th>performancerating</th>\n",
              "      <th>relationshipsatisfaction</th>\n",
              "      <th>standardhours</th>\n",
              "      <th>stockoptionlevel</th>\n",
              "      <th>totalworkingyears</th>\n",
              "      <th>trainingtimeslastyear</th>\n",
              "      <th>worklifebalance</th>\n",
              "      <th>yearsatcompany</th>\n",
              "      <th>yearsincurrentrole</th>\n",
              "      <th>yearssincelastpromotion</th>\n",
              "      <th>yearswithcurrmanager</th>\n",
              "      <th>attrition</th>\n",
              "    </tr>\n",
              "  </thead>\n",
              "  <tbody>\n",
              "    <tr>\n",
              "      <th>0</th>\n",
              "      <td>45</td>\n",
              "      <td>Travel_Rarely</td>\n",
              "      <td>556</td>\n",
              "      <td>Research &amp; Development</td>\n",
              "      <td>25</td>\n",
              "      <td>2</td>\n",
              "      <td>Life Sciences</td>\n",
              "      <td>1</td>\n",
              "      <td>1888</td>\n",
              "      <td>2</td>\n",
              "      <td>Female</td>\n",
              "      <td>93</td>\n",
              "      <td>2</td>\n",
              "      <td>2</td>\n",
              "      <td>Manufacturing Director</td>\n",
              "      <td>4</td>\n",
              "      <td>Married</td>\n",
              "      <td>5906</td>\n",
              "      <td>23888</td>\n",
              "      <td>0</td>\n",
              "      <td>Y</td>\n",
              "      <td>No</td>\n",
              "      <td>13</td>\n",
              "      <td>3</td>\n",
              "      <td>4</td>\n",
              "      <td>80</td>\n",
              "      <td>2</td>\n",
              "      <td>10</td>\n",
              "      <td>2</td>\n",
              "      <td>2</td>\n",
              "      <td>9</td>\n",
              "      <td>8</td>\n",
              "      <td>3</td>\n",
              "      <td>8</td>\n",
              "      <td>No</td>\n",
              "    </tr>\n",
              "    <tr>\n",
              "      <th>1</th>\n",
              "      <td>34</td>\n",
              "      <td>Travel_Rarely</td>\n",
              "      <td>970</td>\n",
              "      <td>Research &amp; Development</td>\n",
              "      <td>8</td>\n",
              "      <td>2</td>\n",
              "      <td>Medical</td>\n",
              "      <td>1</td>\n",
              "      <td>757</td>\n",
              "      <td>2</td>\n",
              "      <td>Female</td>\n",
              "      <td>96</td>\n",
              "      <td>3</td>\n",
              "      <td>2</td>\n",
              "      <td>Healthcare Representative</td>\n",
              "      <td>3</td>\n",
              "      <td>Single</td>\n",
              "      <td>6142</td>\n",
              "      <td>7360</td>\n",
              "      <td>3</td>\n",
              "      <td>Y</td>\n",
              "      <td>No</td>\n",
              "      <td>11</td>\n",
              "      <td>3</td>\n",
              "      <td>4</td>\n",
              "      <td>80</td>\n",
              "      <td>0</td>\n",
              "      <td>10</td>\n",
              "      <td>2</td>\n",
              "      <td>3</td>\n",
              "      <td>5</td>\n",
              "      <td>1</td>\n",
              "      <td>4</td>\n",
              "      <td>3</td>\n",
              "      <td>No</td>\n",
              "    </tr>\n",
              "    <tr>\n",
              "      <th>2</th>\n",
              "      <td>39</td>\n",
              "      <td>Travel_Rarely</td>\n",
              "      <td>360</td>\n",
              "      <td>Research &amp; Development</td>\n",
              "      <td>23</td>\n",
              "      <td>3</td>\n",
              "      <td>Medical</td>\n",
              "      <td>1</td>\n",
              "      <td>1310</td>\n",
              "      <td>3</td>\n",
              "      <td>Male</td>\n",
              "      <td>93</td>\n",
              "      <td>3</td>\n",
              "      <td>1</td>\n",
              "      <td>Research Scientist</td>\n",
              "      <td>1</td>\n",
              "      <td>Single</td>\n",
              "      <td>3904</td>\n",
              "      <td>22154</td>\n",
              "      <td>0</td>\n",
              "      <td>Y</td>\n",
              "      <td>No</td>\n",
              "      <td>13</td>\n",
              "      <td>3</td>\n",
              "      <td>1</td>\n",
              "      <td>80</td>\n",
              "      <td>0</td>\n",
              "      <td>6</td>\n",
              "      <td>2</td>\n",
              "      <td>3</td>\n",
              "      <td>5</td>\n",
              "      <td>2</td>\n",
              "      <td>0</td>\n",
              "      <td>3</td>\n",
              "      <td>Yes</td>\n",
              "    </tr>\n",
              "    <tr>\n",
              "      <th>3</th>\n",
              "      <td>26</td>\n",
              "      <td>Travel_Rarely</td>\n",
              "      <td>933</td>\n",
              "      <td>Sales</td>\n",
              "      <td>1</td>\n",
              "      <td>3</td>\n",
              "      <td>Life Sciences</td>\n",
              "      <td>1</td>\n",
              "      <td>476</td>\n",
              "      <td>3</td>\n",
              "      <td>Male</td>\n",
              "      <td>57</td>\n",
              "      <td>3</td>\n",
              "      <td>2</td>\n",
              "      <td>Sales Executive</td>\n",
              "      <td>3</td>\n",
              "      <td>Married</td>\n",
              "      <td>5296</td>\n",
              "      <td>20156</td>\n",
              "      <td>1</td>\n",
              "      <td>Y</td>\n",
              "      <td>No</td>\n",
              "      <td>17</td>\n",
              "      <td>3</td>\n",
              "      <td>2</td>\n",
              "      <td>80</td>\n",
              "      <td>1</td>\n",
              "      <td>8</td>\n",
              "      <td>3</td>\n",
              "      <td>3</td>\n",
              "      <td>8</td>\n",
              "      <td>7</td>\n",
              "      <td>7</td>\n",
              "      <td>7</td>\n",
              "      <td>No</td>\n",
              "    </tr>\n",
              "    <tr>\n",
              "      <th>4</th>\n",
              "      <td>40</td>\n",
              "      <td>Travel_Rarely</td>\n",
              "      <td>329</td>\n",
              "      <td>Research &amp; Development</td>\n",
              "      <td>1</td>\n",
              "      <td>4</td>\n",
              "      <td>Life Sciences</td>\n",
              "      <td>1</td>\n",
              "      <td>1361</td>\n",
              "      <td>2</td>\n",
              "      <td>Male</td>\n",
              "      <td>88</td>\n",
              "      <td>3</td>\n",
              "      <td>1</td>\n",
              "      <td>Laboratory Technician</td>\n",
              "      <td>2</td>\n",
              "      <td>Married</td>\n",
              "      <td>2387</td>\n",
              "      <td>6762</td>\n",
              "      <td>3</td>\n",
              "      <td>Y</td>\n",
              "      <td>No</td>\n",
              "      <td>22</td>\n",
              "      <td>4</td>\n",
              "      <td>3</td>\n",
              "      <td>80</td>\n",
              "      <td>1</td>\n",
              "      <td>7</td>\n",
              "      <td>3</td>\n",
              "      <td>3</td>\n",
              "      <td>4</td>\n",
              "      <td>2</td>\n",
              "      <td>0</td>\n",
              "      <td>3</td>\n",
              "      <td>No</td>\n",
              "    </tr>\n",
              "  </tbody>\n",
              "</table>\n",
              "</div>\n",
              "    <div class=\"colab-df-buttons\">\n",
              "\n",
              "  <div class=\"colab-df-container\">\n",
              "    <button class=\"colab-df-convert\" onclick=\"convertToInteractive('df-22fe3328-3011-411f-86b5-9afe55bf5354')\"\n",
              "            title=\"Convert this dataframe to an interactive table.\"\n",
              "            style=\"display:none;\">\n",
              "\n",
              "  <svg xmlns=\"http://www.w3.org/2000/svg\" height=\"24px\" viewBox=\"0 -960 960 960\">\n",
              "    <path d=\"M120-120v-720h720v720H120Zm60-500h600v-160H180v160Zm220 220h160v-160H400v160Zm0 220h160v-160H400v160ZM180-400h160v-160H180v160Zm440 0h160v-160H620v160ZM180-180h160v-160H180v160Zm440 0h160v-160H620v160Z\"/>\n",
              "  </svg>\n",
              "    </button>\n",
              "\n",
              "  <style>\n",
              "    .colab-df-container {\n",
              "      display:flex;\n",
              "      gap: 12px;\n",
              "    }\n",
              "\n",
              "    .colab-df-convert {\n",
              "      background-color: #E8F0FE;\n",
              "      border: none;\n",
              "      border-radius: 50%;\n",
              "      cursor: pointer;\n",
              "      display: none;\n",
              "      fill: #1967D2;\n",
              "      height: 32px;\n",
              "      padding: 0 0 0 0;\n",
              "      width: 32px;\n",
              "    }\n",
              "\n",
              "    .colab-df-convert:hover {\n",
              "      background-color: #E2EBFA;\n",
              "      box-shadow: 0px 1px 2px rgba(60, 64, 67, 0.3), 0px 1px 3px 1px rgba(60, 64, 67, 0.15);\n",
              "      fill: #174EA6;\n",
              "    }\n",
              "\n",
              "    .colab-df-buttons div {\n",
              "      margin-bottom: 4px;\n",
              "    }\n",
              "\n",
              "    [theme=dark] .colab-df-convert {\n",
              "      background-color: #3B4455;\n",
              "      fill: #D2E3FC;\n",
              "    }\n",
              "\n",
              "    [theme=dark] .colab-df-convert:hover {\n",
              "      background-color: #434B5C;\n",
              "      box-shadow: 0px 1px 3px 1px rgba(0, 0, 0, 0.15);\n",
              "      filter: drop-shadow(0px 1px 2px rgba(0, 0, 0, 0.3));\n",
              "      fill: #FFFFFF;\n",
              "    }\n",
              "  </style>\n",
              "\n",
              "    <script>\n",
              "      const buttonEl =\n",
              "        document.querySelector('#df-22fe3328-3011-411f-86b5-9afe55bf5354 button.colab-df-convert');\n",
              "      buttonEl.style.display =\n",
              "        google.colab.kernel.accessAllowed ? 'block' : 'none';\n",
              "\n",
              "      async function convertToInteractive(key) {\n",
              "        const element = document.querySelector('#df-22fe3328-3011-411f-86b5-9afe55bf5354');\n",
              "        const dataTable =\n",
              "          await google.colab.kernel.invokeFunction('convertToInteractive',\n",
              "                                                    [key], {});\n",
              "        if (!dataTable) return;\n",
              "\n",
              "        const docLinkHtml = 'Like what you see? Visit the ' +\n",
              "          '<a target=\"_blank\" href=https://colab.research.google.com/notebooks/data_table.ipynb>data table notebook</a>'\n",
              "          + ' to learn more about interactive tables.';\n",
              "        element.innerHTML = '';\n",
              "        dataTable['output_type'] = 'display_data';\n",
              "        await google.colab.output.renderOutput(dataTable, element);\n",
              "        const docLink = document.createElement('div');\n",
              "        docLink.innerHTML = docLinkHtml;\n",
              "        element.appendChild(docLink);\n",
              "      }\n",
              "    </script>\n",
              "  </div>\n",
              "\n",
              "\n",
              "<div id=\"df-f9df8c84-1586-40c0-b041-4155a20a2326\">\n",
              "  <button class=\"colab-df-quickchart\" onclick=\"quickchart('df-f9df8c84-1586-40c0-b041-4155a20a2326')\"\n",
              "            title=\"Suggest charts\"\n",
              "            style=\"display:none;\">\n",
              "\n",
              "<svg xmlns=\"http://www.w3.org/2000/svg\" height=\"24px\"viewBox=\"0 0 24 24\"\n",
              "     width=\"24px\">\n",
              "    <g>\n",
              "        <path d=\"M19 3H5c-1.1 0-2 .9-2 2v14c0 1.1.9 2 2 2h14c1.1 0 2-.9 2-2V5c0-1.1-.9-2-2-2zM9 17H7v-7h2v7zm4 0h-2V7h2v10zm4 0h-2v-4h2v4z\"/>\n",
              "    </g>\n",
              "</svg>\n",
              "  </button>\n",
              "\n",
              "<style>\n",
              "  .colab-df-quickchart {\n",
              "      --bg-color: #E8F0FE;\n",
              "      --fill-color: #1967D2;\n",
              "      --hover-bg-color: #E2EBFA;\n",
              "      --hover-fill-color: #174EA6;\n",
              "      --disabled-fill-color: #AAA;\n",
              "      --disabled-bg-color: #DDD;\n",
              "  }\n",
              "\n",
              "  [theme=dark] .colab-df-quickchart {\n",
              "      --bg-color: #3B4455;\n",
              "      --fill-color: #D2E3FC;\n",
              "      --hover-bg-color: #434B5C;\n",
              "      --hover-fill-color: #FFFFFF;\n",
              "      --disabled-bg-color: #3B4455;\n",
              "      --disabled-fill-color: #666;\n",
              "  }\n",
              "\n",
              "  .colab-df-quickchart {\n",
              "    background-color: var(--bg-color);\n",
              "    border: none;\n",
              "    border-radius: 50%;\n",
              "    cursor: pointer;\n",
              "    display: none;\n",
              "    fill: var(--fill-color);\n",
              "    height: 32px;\n",
              "    padding: 0;\n",
              "    width: 32px;\n",
              "  }\n",
              "\n",
              "  .colab-df-quickchart:hover {\n",
              "    background-color: var(--hover-bg-color);\n",
              "    box-shadow: 0 1px 2px rgba(60, 64, 67, 0.3), 0 1px 3px 1px rgba(60, 64, 67, 0.15);\n",
              "    fill: var(--button-hover-fill-color);\n",
              "  }\n",
              "\n",
              "  .colab-df-quickchart-complete:disabled,\n",
              "  .colab-df-quickchart-complete:disabled:hover {\n",
              "    background-color: var(--disabled-bg-color);\n",
              "    fill: var(--disabled-fill-color);\n",
              "    box-shadow: none;\n",
              "  }\n",
              "\n",
              "  .colab-df-spinner {\n",
              "    border: 2px solid var(--fill-color);\n",
              "    border-color: transparent;\n",
              "    border-bottom-color: var(--fill-color);\n",
              "    animation:\n",
              "      spin 1s steps(1) infinite;\n",
              "  }\n",
              "\n",
              "  @keyframes spin {\n",
              "    0% {\n",
              "      border-color: transparent;\n",
              "      border-bottom-color: var(--fill-color);\n",
              "      border-left-color: var(--fill-color);\n",
              "    }\n",
              "    20% {\n",
              "      border-color: transparent;\n",
              "      border-left-color: var(--fill-color);\n",
              "      border-top-color: var(--fill-color);\n",
              "    }\n",
              "    30% {\n",
              "      border-color: transparent;\n",
              "      border-left-color: var(--fill-color);\n",
              "      border-top-color: var(--fill-color);\n",
              "      border-right-color: var(--fill-color);\n",
              "    }\n",
              "    40% {\n",
              "      border-color: transparent;\n",
              "      border-right-color: var(--fill-color);\n",
              "      border-top-color: var(--fill-color);\n",
              "    }\n",
              "    60% {\n",
              "      border-color: transparent;\n",
              "      border-right-color: var(--fill-color);\n",
              "    }\n",
              "    80% {\n",
              "      border-color: transparent;\n",
              "      border-right-color: var(--fill-color);\n",
              "      border-bottom-color: var(--fill-color);\n",
              "    }\n",
              "    90% {\n",
              "      border-color: transparent;\n",
              "      border-bottom-color: var(--fill-color);\n",
              "    }\n",
              "  }\n",
              "</style>\n",
              "\n",
              "  <script>\n",
              "    async function quickchart(key) {\n",
              "      const quickchartButtonEl =\n",
              "        document.querySelector('#' + key + ' button');\n",
              "      quickchartButtonEl.disabled = true;  // To prevent multiple clicks.\n",
              "      quickchartButtonEl.classList.add('colab-df-spinner');\n",
              "      try {\n",
              "        const charts = await google.colab.kernel.invokeFunction(\n",
              "            'suggestCharts', [key], {});\n",
              "      } catch (error) {\n",
              "        console.error('Error during call to suggestCharts:', error);\n",
              "      }\n",
              "      quickchartButtonEl.classList.remove('colab-df-spinner');\n",
              "      quickchartButtonEl.classList.add('colab-df-quickchart-complete');\n",
              "    }\n",
              "    (() => {\n",
              "      let quickchartButtonEl =\n",
              "        document.querySelector('#df-f9df8c84-1586-40c0-b041-4155a20a2326 button');\n",
              "      quickchartButtonEl.style.display =\n",
              "        google.colab.kernel.accessAllowed ? 'block' : 'none';\n",
              "    })();\n",
              "  </script>\n",
              "</div>\n",
              "\n",
              "    </div>\n",
              "  </div>\n"
            ],
            "application/vnd.google.colaboratory.intrinsic+json": {
              "type": "dataframe",
              "variable_name": "df"
            }
          },
          "metadata": {},
          "execution_count": 8
        }
      ]
    },
    {
      "cell_type": "markdown",
      "source": [
        "There can be more than one file to read as this is introduced as a competition, dataset has one file for training the model. Their can be other files as one containing the test features and the other can be the true labels."
      ],
      "metadata": {
        "id": "BHxgkAr_4grD"
      }
    },
    {
      "cell_type": "markdown",
      "source": [
        "## Data Exploration\n",
        "\n",
        "- Check for missing values\n",
        "- Check for consistent data type across a feature\n",
        "- Check for outliers or inconsistencies in data columns\n",
        "- Check for correlated features\n",
        "- Do we have a target label imbalance\n",
        "- How our independent variables are distributed relative to our target label\n",
        "- Are there features that have strong linear or monotonic relationships? Making correlation heatmaps makes it easy to identify possible collinearity"
      ],
      "metadata": {
        "_uuid": "07244b5b58d56fb4ac89efc5541074263a150ce5",
        "id": "5JgkRXxYCEVn"
      }
    },
    {
      "cell_type": "markdown",
      "source": [
        "**Exercise 2: Create a `List` of numerical and categorical columns. Display a statistical description of the dataset. Remove missing values (if any) [0.5 Mark]**"
      ],
      "metadata": {
        "id": "WNypN2YmlpwG"
      }
    },
    {
      "cell_type": "markdown",
      "source": [
        "**Hint:** Use `for` to iterate through each column."
      ],
      "metadata": {
        "id": "GuQKmcv0qLWo"
      }
    },
    {
      "cell_type": "code",
      "source": [
        "# YOUR CODE HERE\n",
        "numerical = []\n",
        "categorical = []\n",
        "for col in df.columns:\n",
        "    if df[col].dtype == 'int64':\n",
        "        numerical.append(col)\n",
        "    elif df[col].dtype == 'object':\n",
        "        categorical.append(col)\n",
        "\n",
        "print(\"Numerical columns - \", numerical)\n",
        "print(\"Categorical columns - \", categorical)\n",
        "# Statistical data description\n",
        "print(df.describe())\n",
        "print(\"Checking for null/missing values\\n\",df.isna().sum())\n",
        "print(\"Removing missing values if any\\n\",df.dropna(inplace=True))\n"
      ],
      "metadata": {
        "id": "rOHYyNvXRwHz",
        "colab": {
          "base_uri": "https://localhost:8080/"
        },
        "outputId": "a7fc4bbb-8ee3-4bde-dc81-1908fca78642"
      },
      "execution_count": null,
      "outputs": [
        {
          "output_type": "stream",
          "name": "stdout",
          "text": [
            "Numerical columns -  ['age', 'dailyrate', 'distancefromhome', 'education', 'employeecount', 'employeenumber', 'environmentsatisfaction', 'hourlyrate', 'jobinvolvement', 'joblevel', 'jobsatisfaction', 'monthlyincome', 'monthlyrate', 'numcompaniesworked', 'percentsalaryhike', 'performancerating', 'relationshipsatisfaction', 'standardhours', 'stockoptionlevel', 'totalworkingyears', 'trainingtimeslastyear', 'worklifebalance', 'yearsatcompany', 'yearsincurrentrole', 'yearssincelastpromotion', 'yearswithcurrmanager']\n",
            "Categorical columns -  ['businesstravel', 'department', 'educationfield', 'gender', 'jobrole', 'maritalstatus', 'over18', 'overtime', 'attrition']\n",
            "               age    dailyrate  distancefromhome    education  employeecount  \\\n",
            "count  1170.000000  1170.000000       1170.000000  1170.000000         1170.0   \n",
            "mean     36.858120   797.822222          9.262393     2.917949            1.0   \n",
            "std       9.183448   403.592661          8.150868     1.011534            0.0   \n",
            "min      18.000000   102.000000          1.000000     1.000000            1.0   \n",
            "25%      30.000000   461.000000          2.000000     2.000000            1.0   \n",
            "50%      35.000000   798.000000          7.000000     3.000000            1.0   \n",
            "75%      43.000000  1146.750000         14.000000     4.000000            1.0   \n",
            "max      60.000000  1499.000000         29.000000     5.000000            1.0   \n",
            "\n",
            "       employeenumber  environmentsatisfaction   hourlyrate  jobinvolvement  \\\n",
            "count     1170.000000              1170.000000  1170.000000     1170.000000   \n",
            "mean      1021.113675                 2.723932    65.501709        2.747009   \n",
            "std        600.548289                 1.095847    20.310054        0.702625   \n",
            "min          1.000000                 1.000000    30.000000        1.000000   \n",
            "25%        496.250000                 2.000000    48.000000        2.000000   \n",
            "50%       1008.500000                 3.000000    66.000000        3.000000   \n",
            "75%       1548.500000                 4.000000    83.000000        3.000000   \n",
            "max       2065.000000                 4.000000   100.000000        4.000000   \n",
            "\n",
            "          joblevel  jobsatisfaction  monthlyincome   monthlyrate  \\\n",
            "count  1170.000000      1170.000000    1170.000000   1170.000000   \n",
            "mean      2.049573         2.723077    6456.937607  14411.584615   \n",
            "std       1.096352         1.103799    4660.476506   7078.167743   \n",
            "min       1.000000         1.000000    1009.000000   2094.000000   \n",
            "25%       1.000000         2.000000    2914.750000   8387.500000   \n",
            "50%       2.000000         3.000000    4903.500000  14536.000000   \n",
            "75%       3.000000         4.000000    8215.250000  20456.250000   \n",
            "max       5.000000         4.000000   19999.000000  26999.000000   \n",
            "\n",
            "       numcompaniesworked  percentsalaryhike  performancerating  \\\n",
            "count         1170.000000        1170.000000        1170.000000   \n",
            "mean             2.750427          15.204274           3.153846   \n",
            "std              2.521952           3.688952           0.360955   \n",
            "min              0.000000          11.000000           3.000000   \n",
            "25%              1.000000          12.000000           3.000000   \n",
            "50%              2.000000          14.000000           3.000000   \n",
            "75%              4.000000          18.000000           3.000000   \n",
            "max              9.000000          25.000000           4.000000   \n",
            "\n",
            "       relationshipsatisfaction  standardhours  stockoptionlevel  \\\n",
            "count               1170.000000         1170.0       1170.000000   \n",
            "mean                   2.739316           80.0          0.785470   \n",
            "std                    1.075225            0.0          0.847253   \n",
            "min                    1.000000           80.0          0.000000   \n",
            "25%                    2.000000           80.0          0.000000   \n",
            "50%                    3.000000           80.0          1.000000   \n",
            "75%                    4.000000           80.0          1.000000   \n",
            "max                    4.000000           80.0          3.000000   \n",
            "\n",
            "       totalworkingyears  trainingtimeslastyear  worklifebalance  \\\n",
            "count        1170.000000            1170.000000      1170.000000   \n",
            "mean           11.315385               2.842735         2.745299   \n",
            "std             7.879363               1.306385         0.718864   \n",
            "min             0.000000               0.000000         1.000000   \n",
            "25%             6.000000               2.000000         2.000000   \n",
            "50%            10.000000               3.000000         3.000000   \n",
            "75%            15.000000               3.000000         3.000000   \n",
            "max            40.000000               6.000000         4.000000   \n",
            "\n",
            "       yearsatcompany  yearsincurrentrole  yearssincelastpromotion  \\\n",
            "count     1170.000000          1170.00000              1170.000000   \n",
            "mean         6.925641             4.17094                 2.138462   \n",
            "std          6.232076             3.62788                 3.201738   \n",
            "min          0.000000             0.00000                 0.000000   \n",
            "25%          3.000000             2.00000                 0.000000   \n",
            "50%          5.000000             3.00000                 1.000000   \n",
            "75%          9.000000             7.00000                 2.750000   \n",
            "max         40.000000            18.00000                15.000000   \n",
            "\n",
            "       yearswithcurrmanager  \n",
            "count           1170.000000  \n",
            "mean               4.061538  \n",
            "std                3.586350  \n",
            "min                0.000000  \n",
            "25%                2.000000  \n",
            "50%                3.000000  \n",
            "75%                7.000000  \n",
            "max               17.000000  \n",
            "Checking for null/missing values\n",
            " age                         0\n",
            "businesstravel              0\n",
            "dailyrate                   0\n",
            "department                  0\n",
            "distancefromhome            0\n",
            "education                   0\n",
            "educationfield              0\n",
            "employeecount               0\n",
            "employeenumber              0\n",
            "environmentsatisfaction     0\n",
            "gender                      0\n",
            "hourlyrate                  0\n",
            "jobinvolvement              0\n",
            "joblevel                    0\n",
            "jobrole                     0\n",
            "jobsatisfaction             0\n",
            "maritalstatus               0\n",
            "monthlyincome               0\n",
            "monthlyrate                 0\n",
            "numcompaniesworked          0\n",
            "over18                      0\n",
            "overtime                    0\n",
            "percentsalaryhike           0\n",
            "performancerating           0\n",
            "relationshipsatisfaction    0\n",
            "standardhours               0\n",
            "stockoptionlevel            0\n",
            "totalworkingyears           0\n",
            "trainingtimeslastyear       0\n",
            "worklifebalance             0\n",
            "yearsatcompany              0\n",
            "yearsincurrentrole          0\n",
            "yearssincelastpromotion     0\n",
            "yearswithcurrmanager        0\n",
            "attrition                   0\n",
            "dtype: int64\n",
            "Removing missing values if any\n",
            " None\n"
          ]
        }
      ]
    },
    {
      "cell_type": "markdown",
      "source": [
        "First, we want to get a sense of our data:\n",
        "- What features have the most divergent distributions based on target class\n",
        "- Do we have a target label imbalance\n",
        "- How our independent variables are distributed relative to our target label\n",
        "- Are there features that have strong linear or monotonic relationships, making correlation heatmaps makes it easy to identify possible colinearity"
      ],
      "metadata": {
        "id": "-5LDX4tYR6Vs"
      }
    },
    {
      "cell_type": "markdown",
      "source": [
        "### Check for outliers"
      ],
      "metadata": {
        "id": "T5mUbdCMKBP8"
      }
    },
    {
      "cell_type": "markdown",
      "source": [
        "**Exercise 3: Create a box plot to check for outliers [0.5 Mark]**"
      ],
      "metadata": {
        "id": "cYTnAs5UqlVn"
      }
    },
    {
      "cell_type": "code",
      "source": [
        "# Check for outliers\n",
        "# YOUR CODE HERE\n",
        "plt.figure(figsize=(100,10))\n",
        "plt.title('Box Plot of Attrition')\n",
        "plt.xlabel('Attrition')\n",
        "plt.ylabel('Frequency')\n",
        "sns.boxplot(df[numerical])"
      ],
      "metadata": {
        "id": "OYTxh7gtFqyC",
        "colab": {
          "base_uri": "https://localhost:8080/",
          "height": 189
        },
        "outputId": "ba65756a-6e12-4a59-b11a-1e8234125218"
      },
      "execution_count": null,
      "outputs": [
        {
          "output_type": "execute_result",
          "data": {
            "text/plain": [
              "<Axes: title={'center': 'Box Plot of Attrition'}, xlabel='Attrition', ylabel='Frequency'>"
            ]
          },
          "metadata": {},
          "execution_count": 57
        },
        {
          "output_type": "display_data",
          "data": {
            "text/plain": [
              "<Figure size 10000x1000 with 1 Axes>"
            ],
            "image/png": "[encoded data removed]"
          },
          "metadata": {}
        }
      ]
    },
    {
      "cell_type": "markdown",
      "source": [
        "### Handling outliers"
      ],
      "metadata": {
        "id": "42cBMGHQQOWP"
      }
    },
    {
      "cell_type": "markdown",
      "source": [
        "**Exercise 4: Use lower bound as 25% and upper bound as 75% to handle the outliers [0.5 Mark]**"
      ],
      "metadata": {
        "id": "ei63U2m7qyGA"
      }
    },
    {
      "cell_type": "code",
      "source": [
        "# YOUR CODE HERE\n",
        "# From the above graph, monthlyincome column has lot of outliers\n",
        "\n",
        "# Function that takes df column as input and returns outliers\n",
        "def find_outliers(df, column, lower_bound=0.25, upper_bound=0.75):\n",
        "    Q1 = df[column].quantile(lower_bound)\n",
        "    Q3 = df[column].quantile(upper_bound)\n",
        "    IQR = Q3 - Q1\n",
        "    outliers = df[((df[column] < (Q1-1.5*IQR)) | (df[column] > (Q3+1.5*IQR)))]\n",
        "    return outliers\n",
        "\n",
        "# Handle the outlier, cap\n",
        "def handle_outliers_cap(df, column, lower_percentile=0.25, upper_percentile=0.75):\n",
        "    lower_limit = df[column].quantile(lower_percentile)\n",
        "    upper_limit = df[column].quantile(upper_percentile)\n",
        "\n",
        "    df[column] = np.clip(df[column], lower_limit, upper_limit)\n",
        "    return df\n",
        "\n",
        "outliers = find_outliers(df,'monthlyincome')\n",
        "\n",
        "print(\"number of outliers: \\n\", str(len(outliers)))\n",
        "print(\"max outlier value: \\n\", str(outliers.max()))\n",
        "print(\"min outlier value: \\n\", str(outliers.min()))\n",
        "\n",
        "print(\"Capping the outliers\\n\")\n",
        "df = handle_outliers_cap(df,'monthlyincome')\n",
        "print(\"Updated dataframe\\n\")\n",
        "print(df.head())"
      ],
      "metadata": {
        "id": "oT3yOFPoH0SH",
        "colab": {
          "base_uri": "https://localhost:8080/"
        },
        "outputId": "724bf64b-192e-4ad8-b9d7-6d82698a040c"
      },
      "execution_count": null,
      "outputs": [
        {
          "output_type": "stream",
          "name": "stdout",
          "text": [
            "number of outliers: \n",
            " 94\n",
            "max outlier value: \n",
            " age                                        60\n",
            "businesstravel                  Travel_Rarely\n",
            "dailyrate                                1490\n",
            "department                              Sales\n",
            "distancefromhome                           29\n",
            "education                                   5\n",
            "educationfield               Technical Degree\n",
            "employeecount                               1\n",
            "employeenumber                           2031\n",
            "environmentsatisfaction                     4\n",
            "gender                                   Male\n",
            "hourlyrate                                 99\n",
            "jobinvolvement                              4\n",
            "joblevel                                    5\n",
            "jobrole                     Research Director\n",
            "jobsatisfaction                             4\n",
            "maritalstatus                          Single\n",
            "monthlyincome                           19999\n",
            "monthlyrate                             26582\n",
            "numcompaniesworked                          9\n",
            "over18                                      Y\n",
            "overtime                                  Yes\n",
            "percentsalaryhike                          25\n",
            "performancerating                           4\n",
            "relationshipsatisfaction                    4\n",
            "standardhours                              80\n",
            "stockoptionlevel                            3\n",
            "totalworkingyears                          40\n",
            "trainingtimeslastyear                       6\n",
            "worklifebalance                             4\n",
            "yearsatcompany                             36\n",
            "yearsincurrentrole                         18\n",
            "yearssincelastpromotion                    15\n",
            "yearswithcurrmanager                       17\n",
            "attrition                                 Yes\n",
            "dtype: object\n",
            "min outlier value: \n",
            " age                                      33\n",
            "businesstravel                   Non-Travel\n",
            "dailyrate                               117\n",
            "department                  Human Resources\n",
            "distancefromhome                          1\n",
            "education                                 1\n",
            "educationfield              Human Resources\n",
            "employeecount                             1\n",
            "employeenumber                           32\n",
            "environmentsatisfaction                   1\n",
            "gender                               Female\n",
            "hourlyrate                               30\n",
            "jobinvolvement                            1\n",
            "joblevel                                  4\n",
            "jobrole                             Manager\n",
            "jobsatisfaction                           1\n",
            "maritalstatus                      Divorced\n",
            "monthlyincome                         16184\n",
            "monthlyrate                            2125\n",
            "numcompaniesworked                        0\n",
            "over18                                    Y\n",
            "overtime                                 No\n",
            "percentsalaryhike                        11\n",
            "performancerating                         3\n",
            "relationshipsatisfaction                  1\n",
            "standardhours                            80\n",
            "stockoptionlevel                          0\n",
            "totalworkingyears                        10\n",
            "trainingtimeslastyear                     0\n",
            "worklifebalance                           1\n",
            "yearsatcompany                            0\n",
            "yearsincurrentrole                        0\n",
            "yearssincelastpromotion                   0\n",
            "yearswithcurrmanager                      0\n",
            "attrition                                No\n",
            "dtype: object\n",
            "Capping the outliers\n",
            "\n",
            "Updated dataframe\n",
            "\n",
            "   age businesstravel  dailyrate              department  distancefromhome  \\\n",
            "0   45  Travel_Rarely        556  Research & Development                25   \n",
            "1   34  Travel_Rarely        970  Research & Development                 8   \n",
            "2   39  Travel_Rarely        360  Research & Development                23   \n",
            "3   26  Travel_Rarely        933                   Sales                 1   \n",
            "4   40  Travel_Rarely        329  Research & Development                 1   \n",
            "\n",
            "   education educationfield  employeecount  employeenumber  \\\n",
            "0          2  Life Sciences              1            1888   \n",
            "1          2        Medical              1             757   \n",
            "2          3        Medical              1            1310   \n",
            "3          3  Life Sciences              1             476   \n",
            "4          4  Life Sciences              1            1361   \n",
            "\n",
            "   environmentsatisfaction  gender  hourlyrate  jobinvolvement  joblevel  \\\n",
            "0                        2  Female          93               2         2   \n",
            "1                        2  Female          96               3         2   \n",
            "2                        3    Male          93               3         1   \n",
            "3                        3    Male          57               3         2   \n",
            "4                        2    Male          88               3         1   \n",
            "\n",
            "                     jobrole  jobsatisfaction maritalstatus  monthlyincome  \\\n",
            "0     Manufacturing Director                4       Married        5906.00   \n",
            "1  Healthcare Representative                3        Single        6142.00   \n",
            "2         Research Scientist                1        Single        3904.00   \n",
            "3            Sales Executive                3       Married        5296.00   \n",
            "4      Laboratory Technician                2       Married        2914.75   \n",
            "\n",
            "   monthlyrate  numcompaniesworked over18 overtime  percentsalaryhike  \\\n",
            "0        23888                   0      Y       No                 13   \n",
            "1         7360                   3      Y       No                 11   \n",
            "2        22154                   0      Y       No                 13   \n",
            "3        20156                   1      Y       No                 17   \n",
            "4         6762                   3      Y       No                 22   \n",
            "\n",
            "   performancerating  relationshipsatisfaction  standardhours  \\\n",
            "0                  3                         4             80   \n",
            "1                  3                         4             80   \n",
            "2                  3                         1             80   \n",
            "3                  3                         2             80   \n",
            "4                  4                         3             80   \n",
            "\n",
            "   stockoptionlevel  totalworkingyears  trainingtimeslastyear  \\\n",
            "0                 2                 10                      2   \n",
            "1                 0                 10                      2   \n",
            "2                 0                  6                      2   \n",
            "3                 1                  8                      3   \n",
            "4                 1                  7                      3   \n",
            "\n",
            "   worklifebalance  yearsatcompany  yearsincurrentrole  \\\n",
            "0                2               9                   8   \n",
            "1                3               5                   1   \n",
            "2                3               5                   2   \n",
            "3                3               8                   7   \n",
            "4                3               4                   2   \n",
            "\n",
            "   yearssincelastpromotion  yearswithcurrmanager attrition  \n",
            "0                        3                     8        No  \n",
            "1                        4                     3        No  \n",
            "2                        0                     3       Yes  \n",
            "3                        7                     7        No  \n",
            "4                        0                     3        No  \n"
          ]
        }
      ]
    },
    {
      "cell_type": "code",
      "source": [
        "# Recheck for outliers\n",
        "# YOUR CODE HERE\n",
        "# Check only monthlyincome column for outlier\n",
        "plt.figure(figsize=(10,10))\n",
        "plt.title('Box Plot of Attrition')\n",
        "plt.xlabel('Attrition')\n",
        "plt.ylabel('Frequency')\n",
        "sns.boxplot(df['monthlyincome'])"
      ],
      "metadata": {
        "id": "QvrMPhTtJTYP",
        "colab": {
          "base_uri": "https://localhost:8080/",
          "height": 927
        },
        "outputId": "19957526-3423-4ceb-f01d-b948134113b0"
      },
      "execution_count": null,
      "outputs": [
        {
          "output_type": "execute_result",
          "data": {
            "text/plain": [
              "<Axes: title={'center': 'Box Plot of Attrition'}, xlabel='Attrition', ylabel='Frequency'>"
            ]
          },
          "metadata": {},
          "execution_count": 64
        },
        {
          "output_type": "display_data",
          "data": {
            "text/plain": [
              "<Figure size 1000x1000 with 1 Axes>"
            ],
            "image/png": "[encoded data removed]"
          },
          "metadata": {}
        }
      ]
    },
    {
      "cell_type": "markdown",
      "source": [
        "### Target label imbalance"
      ],
      "metadata": {
        "id": "_ha6PPo2iCAM"
      }
    },
    {
      "cell_type": "markdown",
      "source": [
        "**Exercise 5: Check if there is an imbalance in target label [0.5 Mark]**"
      ],
      "metadata": {
        "id": "ryNwfdldrR0j"
      }
    },
    {
      "cell_type": "markdown",
      "source": [
        "**Hint:** Use value_counts()"
      ],
      "metadata": {
        "id": "j17VKVdnrb3R"
      }
    },
    {
      "cell_type": "code",
      "source": [
        "# Count of unique values in Attrition column\n",
        "# YOUR CODE HERE"
      ],
      "metadata": {
        "id": "y1gsAjfLbi2Z"
      },
      "execution_count": null,
      "outputs": []
    },
    {
      "cell_type": "code",
      "source": [
        "# Plot barplot to visualize balance/imbalance\n",
        "# YOUR CODE HERE"
      ],
      "metadata": {
        "id": "g-8bU9moco7l"
      },
      "execution_count": null,
      "outputs": []
    },
    {
      "cell_type": "markdown",
      "source": [
        "If there is any imbalance in the dataset then a few techniques can be utilised (optional):\n",
        "1. SMOTE\n",
        "2. Cross Validation\n",
        "3. Regularizing the model's parameters"
      ],
      "metadata": {
        "id": "0N7tqroWP9iQ"
      }
    },
    {
      "cell_type": "markdown",
      "source": [
        "###Plot pairplot"
      ],
      "metadata": {
        "id": "79pQoaQ3iOG7"
      }
    },
    {
      "cell_type": "markdown",
      "source": [
        "**Exercise 6: Visualize the relationships between the predictor variables and the target variable using a pairplot [0.5 Mark]**"
      ],
      "metadata": {
        "id": "3Hfry_Fwr5nQ"
      }
    },
    {
      "cell_type": "markdown",
      "source": [
        "**Hint:** Use sns.pairplot"
      ],
      "metadata": {
        "id": "aTBi6PLqsDbk"
      }
    },
    {
      "cell_type": "code",
      "source": [
        "# Visualize a pairplot with relevant features\n",
        "# YOUR CODE HERE"
      ],
      "metadata": {
        "_uuid": "a7355f1c5bf552fca19d132df33d7994516873f6",
        "trusted": true,
        "id": "OO9RJlfrCEVp"
      },
      "execution_count": null,
      "outputs": []
    },
    {
      "cell_type": "markdown",
      "source": [
        "### Explore Correlation\n",
        "\n",
        "- Plotting the Heatmap"
      ],
      "metadata": {
        "id": "UVKpOQqPuyew"
      }
    },
    {
      "cell_type": "markdown",
      "source": [
        "**Exercise 7: Visualize the correlation among IBM employee attrition numerical features using a heatmap [0.5 Mark]**"
      ],
      "metadata": {
        "id": "aIMCrjr1sNJc"
      }
    },
    {
      "cell_type": "code",
      "source": [
        "# Visualize heatmap\n",
        "# YOUR CODE HERE"
      ],
      "metadata": {
        "id": "RC7eIV-P8rbX"
      },
      "execution_count": null,
      "outputs": []
    },
    {
      "cell_type": "markdown",
      "source": [
        "Comment on the observations made with the pairplot and heatmap"
      ],
      "metadata": {
        "id": "_FrUYzZWawAl"
      }
    },
    {
      "cell_type": "markdown",
      "source": [
        "### Preparing the test feature space\n",
        "* Remove outliers if any\n",
        "* Handle the categorical feature if required\n",
        "* Other processing steps can also be followed."
      ],
      "metadata": {
        "id": "oT9AhvtTQnKV"
      }
    },
    {
      "cell_type": "code",
      "source": [
        "# YOUR CODE HERE"
      ],
      "metadata": {
        "id": "vfhan6UWQ8EX"
      },
      "execution_count": null,
      "outputs": []
    },
    {
      "cell_type": "markdown",
      "source": [
        "Optional:\n",
        "Use `Hyperopt`, a hyperparameter tuning technique to identify the best set of parameters.\n",
        "\n",
        "Refer to the Additional Notebook: CatBoost parameter tuning (CDS-B4 GDrive -> Module 2 -> Assignments -> Mar 04)"
      ],
      "metadata": {
        "id": "apS4f8aqWG71"
      }
    },
    {
      "cell_type": "markdown",
      "source": [
        "In the notebook, data processing is done separately for different models.\n",
        "Considering the fact that different models may require data in different format and in turn different processes may be followed to process the data.\n",
        "\n",
        "If the processing steps followed for the models are same, data processing can also be done once."
      ],
      "metadata": {
        "id": "j-ZPcVcn9w3U"
      }
    },
    {
      "cell_type": "markdown",
      "source": [
        "## Apply CatBoost\n",
        "\n",
        "Catboost was released in 2017 by Yandex, showing, by their benchmark to be faster in prediction, better in accuracy, and easier to use for categorical data across a series of GBDT tasks. Additional capabilities of catboost include plotting feature interactions and object (row) importance.\n",
        "\n",
        "[Here](https://catboost.ai/en/docs/) is the official documentation of CatBoost"
      ],
      "metadata": {
        "_uuid": "63f0a5564f30228e710a3c1b7f7914bd986b93f1",
        "id": "5ccGpKffCEVt"
      }
    },
    {
      "cell_type": "markdown",
      "source": [
        "### Data Processing for CatBoost"
      ],
      "metadata": {
        "id": "7d7v3VlYQXGY"
      }
    },
    {
      "cell_type": "markdown",
      "source": [
        "**Exercise 8: Data processing for CatBoost [1 Mark]**\n",
        "* **Copy the dataframe that was created after removing the outliers**\n",
        "* **Handle the categorical features if required**\n",
        "* **Create target column and feature space**"
      ],
      "metadata": {
        "id": "45hA2ZB9tHGW"
      }
    },
    {
      "cell_type": "markdown",
      "source": [
        "**Hint:** Column containing the information on attrition will be the target column."
      ],
      "metadata": {
        "id": "plxqVIWHt_9M"
      }
    },
    {
      "cell_type": "code",
      "source": [
        "# Copy the data\n",
        "# YOUR CODE HERE"
      ],
      "metadata": {
        "id": "V_mmH_ltZPvP"
      },
      "execution_count": null,
      "outputs": []
    },
    {
      "cell_type": "code",
      "source": [
        "# Target Column\n",
        "# YOUR CODE HERE"
      ],
      "metadata": {
        "id": "f-0M3uWuZs_B"
      },
      "execution_count": null,
      "outputs": []
    },
    {
      "cell_type": "code",
      "source": [
        "# Feature Space\n",
        "# YOUR CODE HERE"
      ],
      "metadata": {
        "id": "icGflPlLaBre"
      },
      "execution_count": null,
      "outputs": []
    },
    {
      "cell_type": "markdown",
      "source": [
        "### Model Definition"
      ],
      "metadata": {
        "id": "s0Z0cbeS4BrT"
      }
    },
    {
      "cell_type": "markdown",
      "source": [
        "**Exercise 9: Define, train the model and display the results [2 Mark]**"
      ],
      "metadata": {
        "id": "Bphb_wNwupwi"
      }
    },
    {
      "cell_type": "markdown",
      "source": [
        "**Hint:**\n",
        "* Use CatBoostClassifier() to define the model with relevant parameters.\n",
        "* Use `fit` to fit the data to the model. Refer [here](https://catboost.ai/en/docs/concepts/speed-up-training) to see some ways to speedup CatBoost training.\n",
        "* Evaluate the model using roc_auc_score, accuracy_score, f1_score, predict methods or other relevant techniques."
      ],
      "metadata": {
        "id": "K2e980Yyu3oJ"
      }
    },
    {
      "cell_type": "code",
      "source": [
        "# Create CatBoost model\n",
        "# YOUR CODE HERE"
      ],
      "metadata": {
        "id": "kIMPGCfMDIZR"
      },
      "execution_count": null,
      "outputs": []
    },
    {
      "cell_type": "code",
      "source": [
        "# Model training\n",
        "# YOUR CODE HERE"
      ],
      "metadata": {
        "id": "nkRYWmGfDMu-"
      },
      "execution_count": null,
      "outputs": []
    },
    {
      "cell_type": "markdown",
      "source": [
        "### Model performance"
      ],
      "metadata": {
        "id": "stov-GDTGrOw"
      }
    },
    {
      "cell_type": "code",
      "source": [
        "# Model performance on all sets\n",
        "# YOUR CODE HERE"
      ],
      "metadata": {
        "id": "1k6sOOU-FNs7"
      },
      "execution_count": null,
      "outputs": []
    },
    {
      "cell_type": "markdown",
      "source": [
        "## Apply XGBoost\n",
        "\n",
        "XGBoost is a workhorse gradient boosted decision tree algorithm. Its been around since 2014 and has come to dominate the Kaggle and data science community. XGB introduced gradient boosting where new models are fit to the residuals of prior models and then added together, using a gradient descent algorithm to minimize the loss.\n",
        "\n",
        "Read [here](https://xgboost.readthedocs.io/en/stable/parameter.html) on XGBoost parameters.\n",
        "\n",
        "Refer [here](https://xgboost.readthedocs.io/en/stable/python/python_api.html#xgboost.XGBClassifier) for the official documentation of XGBoost classifier."
      ],
      "metadata": {
        "id": "_hk4Kw5QGXCU"
      }
    },
    {
      "cell_type": "markdown",
      "source": [
        "### Data Processing for XGBoost\n"
      ],
      "metadata": {
        "id": "3KbfDzqudx5H"
      }
    },
    {
      "cell_type": "markdown",
      "source": [
        "**Exercise 10: Data Processing for XGBoost [1 Mark]**\n",
        "* **Copy the dataframe after the outliers were removed.**\n",
        "* **Handle the categorical features if required**\n",
        "* **Create target column and feature space**"
      ],
      "metadata": {
        "id": "Yk6NedArvxbn"
      }
    },
    {
      "cell_type": "code",
      "source": [
        "# Copy dataframe\n",
        "# YOUR CODE HERE"
      ],
      "metadata": {
        "id": "wT2RVw4JTAGp"
      },
      "execution_count": null,
      "outputs": []
    },
    {
      "cell_type": "markdown",
      "source": [
        "**Hint:** Use pd.get_dummies"
      ],
      "metadata": {
        "id": "jeTPMeNlwP2e"
      }
    },
    {
      "cell_type": "code",
      "source": [
        "# Handling categorical features\n",
        "# YOUR CODE HERE"
      ],
      "metadata": {
        "id": "QX1wnlPFWViw"
      },
      "execution_count": null,
      "outputs": []
    },
    {
      "cell_type": "code",
      "source": [
        "# Concat the dummy variables to actual dataframe and remove initial categorical columns\n",
        "# YOUR CODE HERE"
      ],
      "metadata": {
        "id": "f-K7vfixWup8"
      },
      "execution_count": null,
      "outputs": []
    },
    {
      "cell_type": "markdown",
      "source": [
        "When creating the dummy variables, the name of attrition column was changed, rename to 'attrition' again."
      ],
      "metadata": {
        "id": "usRVCrd5wkC1"
      }
    },
    {
      "cell_type": "markdown",
      "source": [
        "**Hint:** Use .rename"
      ],
      "metadata": {
        "id": "OnyrNF9Fw2eS"
      }
    },
    {
      "cell_type": "code",
      "source": [
        "# Rename target column\n",
        "# YOUR CODE HERE"
      ],
      "metadata": {
        "id": "sCkr7gvLXxLs"
      },
      "execution_count": null,
      "outputs": []
    },
    {
      "cell_type": "code",
      "source": [
        "# Feature Space\n",
        "# YOUR CODE HERE\n",
        "\n",
        "# Targer label\n",
        "# YOUR CODE HERE"
      ],
      "metadata": {
        "id": "SA-WIpLAX3KH"
      },
      "execution_count": null,
      "outputs": []
    },
    {
      "cell_type": "markdown",
      "source": [
        "### Model Definition"
      ],
      "metadata": {
        "id": "ccLyB9J04hDF"
      }
    },
    {
      "cell_type": "markdown",
      "source": [
        "**Exercise 11: Define, train the model and display the results [2 Mark]**"
      ],
      "metadata": {
        "id": "JPinBk5NxRpt"
      }
    },
    {
      "cell_type": "markdown",
      "source": [
        "**Hint:**\n",
        "* Use XGBClassifier() to define the model with relevant parameters.\n",
        "* Use `fit` to fit the data to the model.\n",
        "* Evaluate the model using roc_auc_score, accuracy_score, f1_score, predict methods or other relevant techniques."
      ],
      "metadata": {
        "id": "-LFyiv0Mxcl-"
      }
    },
    {
      "cell_type": "code",
      "source": [
        "# Create XGBoost classifier model\n",
        "# YOUR CODE HERE"
      ],
      "metadata": {
        "id": "nxtvfYpzVxTc"
      },
      "execution_count": null,
      "outputs": []
    },
    {
      "cell_type": "code",
      "source": [
        "# Model training\n",
        "# YOUR CODE HERE"
      ],
      "metadata": {
        "id": "hrN85N3X_Sar"
      },
      "execution_count": null,
      "outputs": []
    },
    {
      "cell_type": "markdown",
      "source": [
        "### Model Performance"
      ],
      "metadata": {
        "id": "cA5ZK31mPox1"
      }
    },
    {
      "cell_type": "code",
      "source": [
        "# Model performance on all sets\n",
        "# YOUR CODE HERE"
      ],
      "metadata": {
        "id": "wQXg9FhcmwIw"
      },
      "execution_count": null,
      "outputs": []
    },
    {
      "cell_type": "markdown",
      "source": [
        "## Apply LightGBM (Optional)\n",
        "\n",
        "LightGBM is an open-source GBDT framework created by Microsoft as a fast and scalable alternative to XGB and GBM. By default LightGBM will train a Gradient Boosted Decision Tree (GBDT), but it also supports random forests, Dropouts meet Multiple Additive Regression Trees (DART), and Gradient Based One-Side Sampling (Goss).\n",
        "\n",
        "To know more about LightGBM parameters, refer [here](https://lightgbm.readthedocs.io/en/latest/pythonapi/lightgbm.LGBMClassifier.html#lightgbm.LGBMClassifier)."
      ],
      "metadata": {
        "_uuid": "d1aa61b46b4cc4966124e75394f6f5a1e585f3cc",
        "id": "8Iki__IJCEVs"
      }
    },
    {
      "cell_type": "markdown",
      "source": [
        "### Feature Engineering for LightGBM"
      ],
      "metadata": {
        "id": "QGVwrT59tEx_"
      }
    },
    {
      "cell_type": "code",
      "source": [
        "## Following the same procedure as followed in XGBoost\n",
        "\n",
        "# Copy the dataframe\n",
        "# YOUR CODE HERE\n",
        "\n",
        "# Handling categorical features\n",
        "# YOUR CODE HERE\n",
        "\n",
        "# Concat the dummy variables to actual dataframe and remove initial categorical columns\n",
        "# YOUR CODE HERE\n",
        "\n",
        "# Rename target column\n",
        "# YOUR CODE HERE\n",
        "\n",
        "# Features Space\n",
        "# YOUR CODE HERE\n",
        "\n",
        "# Target Label\n",
        "# YOUR CODE HERE"
      ],
      "metadata": {
        "id": "eYq9Z02Bs4-x"
      },
      "execution_count": null,
      "outputs": []
    },
    {
      "cell_type": "markdown",
      "source": [
        "### Model Definition"
      ],
      "metadata": {
        "id": "HNxN3-gU4ZWn"
      }
    },
    {
      "cell_type": "markdown",
      "source": [
        "**Hint:**\n",
        "* Use LGBMClassifier() to define the model with relevant parameters.\n",
        "* Use `fit` to fit the data to the model.\n",
        "* Evaluate the model using roc_auc_score, accuracy_score, f1_score, predict methods or other relevant techniques."
      ],
      "metadata": {
        "id": "lrZlE4IJydou"
      }
    },
    {
      "cell_type": "code",
      "source": [
        "# Create LightGBM classifier model\n",
        "# YOUR CODE HERE"
      ],
      "metadata": {
        "id": "4fWl23dHXHAP"
      },
      "execution_count": null,
      "outputs": []
    },
    {
      "cell_type": "code",
      "source": [
        "# Model training\n",
        "# YOUR CODE HERE"
      ],
      "metadata": {
        "id": "5FktD02ntN1T"
      },
      "execution_count": null,
      "outputs": []
    },
    {
      "cell_type": "markdown",
      "source": [
        "### Model performance"
      ],
      "metadata": {
        "id": "upM6hxP_SbPw"
      }
    },
    {
      "cell_type": "code",
      "source": [
        "# Model performance on all sets\n",
        "# YOUR CODE HERE"
      ],
      "metadata": {
        "id": "mmM2WvTGSd_l"
      },
      "execution_count": null,
      "outputs": []
    },
    {
      "cell_type": "markdown",
      "source": [
        "## Results"
      ],
      "metadata": {
        "_uuid": "33789095f30bba0c1ae0d9c5c78207ba4014800b",
        "id": "18zLjk0qCEVu"
      }
    },
    {
      "cell_type": "markdown",
      "source": [
        "**Exercise 12: Create a dataframe of XGBoost results and CatBoost results and display them [0.5 Mark]**"
      ],
      "metadata": {
        "id": "2eQwUXGgy78m"
      }
    },
    {
      "cell_type": "markdown",
      "source": [
        "**Hint:** Use pd.DataFrame"
      ],
      "metadata": {
        "id": "nWQkWdRmzQ6n"
      }
    },
    {
      "cell_type": "code",
      "source": [
        "# Create a dataframe for computed metrics for different models\n",
        "# YOUR CODE HERE"
      ],
      "metadata": {
        "_uuid": "8c99bac7c8c6302c2d2fb6e00f1f17453d972265",
        "trusted": true,
        "id": "qFGMmqS-CEVu"
      },
      "execution_count": null,
      "outputs": []
    },
    {
      "cell_type": "markdown",
      "source": [
        "Reference reading:\n",
        "1. https://machinelearningmastery.com/xgboost-for-imbalanced-classification/"
      ],
      "metadata": {
        "id": "tWJ9p6CSfxAH"
      }
    },
    {
      "cell_type": "markdown",
      "source": [
        "## Kaggle Prediction"
      ],
      "metadata": {
        "id": "Txq8oLEs4Op1"
      }
    },
    {
      "cell_type": "markdown",
      "source": [
        "Load data from Kaggle competition site"
      ],
      "metadata": {
        "id": "7uHk3jvf4S46"
      }
    },
    {
      "cell_type": "code",
      "source": [
        "# From the given Kaggle competition link, load the dataset 'hr_employee_attrition_test.csv'\n",
        "# YOUR CODE HERE"
      ],
      "metadata": {
        "id": "Fciin_p26_jA"
      },
      "execution_count": null,
      "outputs": []
    },
    {
      "cell_type": "code",
      "source": [
        "# From the dataset 'hr_employee_attrition_test.csv', drop columns ['id','employeenumber', 'employeecount', 'over18'] having single value\n",
        "# YOUR CODE HERE"
      ],
      "metadata": {
        "id": "pleyFrRf7Ds0"
      },
      "execution_count": null,
      "outputs": []
    },
    {
      "cell_type": "code",
      "source": [
        "# Handle categorical features\n",
        "# YOUR CODE HERE"
      ],
      "metadata": {
        "id": "fYvpXIaw7hQQ"
      },
      "execution_count": null,
      "outputs": []
    },
    {
      "cell_type": "code",
      "source": [
        "# Concat the dummy variables to actual dataframe and remove initial categorical columns\n",
        "# YOUR CODE HERE"
      ],
      "metadata": {
        "id": "AnihyFFM7pbC"
      },
      "execution_count": null,
      "outputs": []
    },
    {
      "cell_type": "markdown",
      "source": [
        "Predictions"
      ],
      "metadata": {
        "id": "KfiThqH87vs1"
      }
    },
    {
      "cell_type": "code",
      "source": [
        "# Get the predictions using your already trained CatBoost classifier model achieved in Exercise 9\n",
        "# YOUR CODE HERE"
      ],
      "metadata": {
        "id": "hW-vkBcs74se"
      },
      "execution_count": null,
      "outputs": []
    },
    {
      "cell_type": "code",
      "source": [
        "# Get the predictions using your already trained XGBoost classifier model achieved in Exercise 11\n",
        "# YOUR CODE HERE"
      ],
      "metadata": {
        "id": "u9nTocSC91-9"
      },
      "execution_count": null,
      "outputs": []
    },
    {
      "cell_type": "markdown",
      "source": [
        "Get the predictions using your trained Microsoft LightGBM model (Optional)"
      ],
      "metadata": {
        "id": "5kW1VMpW-20p"
      }
    },
    {
      "cell_type": "code",
      "source": [
        "# Get the predictions using your already trained Microsoft LightGBM classifier model\n",
        "# achieved under the optional exercise 'Apply LightGBM (Optional)'\n",
        "# YOUR CODE HERE"
      ],
      "metadata": {
        "id": "vMHO0g9B-PtX"
      },
      "execution_count": null,
      "outputs": []
    },
    {
      "cell_type": "markdown",
      "source": [
        "Save predictions to csv and submit under given Kaggle competiton link"
      ],
      "metadata": {
        "id": "L4rzXFk-_lzk"
      }
    },
    {
      "cell_type": "code",
      "source": [
        "# YOUR CODE HERE"
      ],
      "metadata": {
        "id": "F0zukSXl_wcP"
      },
      "execution_count": null,
      "outputs": []
    }
  ]
}