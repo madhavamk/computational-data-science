{
  "nbformat": 4,
  "nbformat_minor": 5,
  "metadata": {
    "colab": {
      "provenance": []
    },
    "kernelspec": {
      "display_name": "Python 3",
      "language": "python",
      "name": "python3"
    },
    "language_info": {
      "codemirror_mode": {
        "name": "ipython",
        "version": 3
      },
      "file_extension": ".py",
      "mimetype": "text/x-python",
      "name": "python",
      "nbconvert_exporter": "python",
      "pygments_lexer": "ipython3",
      "version": "3.6.9"
    }
  },
  "cells": [
    {
      "cell_type": "markdown",
      "metadata": {
        "id": "associate-sunset"
      },
      "source": [
        "# Advanced Certification Program in Computational Data Science\n",
        "## A program by IISc and TalentSprint\n",
        "### Mini-Project: Speech Emotion Classification"
      ],
      "id": "associate-sunset"
    },
    {
      "cell_type": "markdown",
      "metadata": {
        "id": "handled-tooth"
      },
      "source": [
        "## Problem Statement"
      ],
      "id": "handled-tooth"
    },
    {
      "cell_type": "markdown",
      "metadata": {
        "id": "accessory-watts"
      },
      "source": [
        "Build a model to recognize emotion from speech using Ensemble learning"
      ],
      "id": "accessory-watts"
    },
    {
      "cell_type": "markdown",
      "metadata": {
        "id": "twenty-indonesia"
      },
      "source": [
        "## Learning Objectives"
      ],
      "id": "twenty-indonesia"
    },
    {
      "cell_type": "markdown",
      "metadata": {
        "id": "honest-friendship"
      },
      "source": [
        "At the end of the mini-project, you will be able to :\n",
        "\n",
        "* extract the features from audio data\n",
        "* implement ML classification algorithms individually and as Ensembles, to classify emotions\n",
        "* record the voice sample and test it with trained model"
      ],
      "id": "honest-friendship"
    },
    {
      "cell_type": "markdown",
      "metadata": {
        "id": "lesbian-bottom"
      },
      "source": [
        "## Dataset"
      ],
      "id": "lesbian-bottom"
    },
    {
      "cell_type": "markdown",
      "metadata": {
        "id": "fixed-trainer"
      },
      "source": [
        "**TESS Dataset**\n",
        "\n",
        "The first dataset chosen for this mini-project is the [TESS](https://dataverse.scholarsportal.info/dataset.xhtml?persistentId=doi:10.5683/SP2/E8H2MF) (Toronto emotional speech set) dataset. It contains 2880 files.  A set of 200 target words were spoken in the carrier phrase \"Say the word _____' by two actresses and the sets were recorded in seven different emotions (anger, disgust, fear, happiness, pleasant surprise, sadness, and neutral). Both actresses spoke English as their first language, were university educated, and had musical training. Audiometric testing indicated that both actresses had thresholds within the normal range."
      ],
      "id": "fixed-trainer"
    },
    {
      "cell_type": "markdown",
      "metadata": {
        "id": "Roo5A2aLVI07"
      },
      "source": [
        "**Ravdess Dataset**\n",
        "\n",
        "The second dataset chosen for this mini-project is [Ravdess](https://zenodo.org/record/1188976#.YLczy4XivIU) (The Ryerson Audio-Visual Database of Emotional Speech and Song). This dataset contains 1440 files: 60 trials per actor x 24 actors = 1440. The RAVDESS contains 24 professional actors (12 female, 12 male), vocalizing two lexically-matched statements in a neutral North American accent. Speech emotions includes calm, happy, sad, angry, fearful, surprise, and disgust expressions. Each expression is produced at two levels of emotional intensity (normal, strong), with an additional neutral expression.\n",
        "\n",
        "**File naming convention**\n",
        "\n",
        "Each of the 1440 files has a unique filename. The filename consists of a 7-part numerical identifier (e.g., 03-01-06-01-02-01-12.wav). These identifiers define the stimulus characteristics:\n",
        "\n",
        "**Filename identifiers**\n",
        "\n",
        "* Modality (01 = full-AV, 02 = video-only, 03 = audio-only).\n",
        "* Vocal channel (01 = speech, 02 = song).\n",
        "* Emotion (01 = neutral, 02 = calm, 03 = happy, 04 = sad, 05 = angry, 06 = fearful, 07 = disgust, 08 = surprised).\n",
        "* Emotional intensity (01 = normal, 02 = strong). NOTE: There is no strong intensity for the 'neutral' emotion.\n",
        "* Statement (01 = \"Kids are talking by the door\", 02 = \"Dogs are sitting by the door\").\n",
        "* Repetition (01 = 1st repetition, 02 = 2nd repetition).\n",
        "* Actor (01 to 24. Odd numbered actors are male, even numbered actors are female).\n",
        "\n",
        "Filename example: `03-01-06-01-02-01-12.wav`\n",
        "\n",
        "    - Audio-only - 03\n",
        "    - Speech - 01\n",
        "    - Fearful - 06\n",
        "    - Normal intensity - 01\n",
        "    - Statement \"dogs\" - 02\n",
        "    - 1st Repetition - 01\n",
        "    - 12th Actor - 12 Female, as the actor ID number is even."
      ],
      "id": "Roo5A2aLVI07"
    },
    {
      "cell_type": "markdown",
      "metadata": {
        "id": "GIR6a6TvVnRY"
      },
      "source": [
        "## Information"
      ],
      "id": "GIR6a6TvVnRY"
    },
    {
      "cell_type": "markdown",
      "metadata": {
        "id": "mediterranean-february"
      },
      "source": [
        "**Speech Emotion Recognition (SER)** is the task of recognizing the emotion from  speech, irrespective of the semantics. Humans can efficiently perform this task as a natural part of speech communication, however, the ability to conduct it automatically using programmable devices is a field of active research.\n",
        "\n",
        "Studies of automatic emotion recognition systems aim to create efficient, real-time methods of detecting the emotions of mobile phone users, call center operators and customers, car drivers, pilots, and many other human-machine communication users. Adding emotions to machines forms an important aspect of making machines appear and act in a human-like manner\n",
        "\n",
        "Lets gain familiarity with some of the audio based features that are commonly used for SER.\n",
        "\n",
        "**Mel scale** — The mel scale (derived from the word *melody*) is a perceptual scale of pitches judged by listeners to be equal in distance from one another. The reference point between this scale and normal frequency measurement is defined by assigning a perceptual pitch of 1000 mels to a 1000 Hz tone, 40 dB above the listener's threshold. Above about 500 Hz, increasingly large intervals are judged by listeners to produce equal pitch increments. Refer [here](https://towardsdatascience.com/learning-from-audio-the-mel-scale-mel-spectrograms-and-mel-frequency-cepstral-coefficients-f5752b6324a8) for more detailed information.\n",
        "\n",
        "**Pitch** — how high or low a sound is. It depends on frequency, higher pitch is high frequency\n",
        "\n",
        "**Frequency** — speed of vibration of sound, measures wave cycles per second\n",
        "\n",
        "**Chroma** — Representation for audio where spectrum is projected onto 12 bins representing the 12 distinct semitones (or chroma). Computed by summing the log frequency magnitude spectrum across octaves.\n",
        "\n",
        "**Fourier Transforms** — used to convert from time domain to frequency domain. Time domain shows how signal changes over time. Frequency domain shows how much of the signal lies within each given frequency band over a range of frequencies"
      ],
      "id": "mediterranean-february"
    },
    {
      "cell_type": "markdown",
      "metadata": {
        "id": "Q5a6Dz9wCxOc"
      },
      "source": [
        "**Librosa**\n",
        "\n",
        "[Librosa](https://librosa.org/doc/latest/index.html) is a Python package, built for speech and audio analytics. It provides modular functions that simplify working with audio data and help in achieving a wide range of applications such as identification of the personal characteristics of different individuals' voice samples, detecting emotions from audio samples etc.\n",
        "\n",
        "For further details on the Librosa package, refer [here](https://conference.scipy.org/proceedings/scipy2015/pdfs/brian_mcfee.pdf).\n"
      ],
      "id": "Q5a6Dz9wCxOc"
    },
    {
      "cell_type": "markdown",
      "source": [
        "### **Kaggle Competition**"
      ],
      "metadata": {
        "id": "3fjmaAe32Z_K"
      },
      "id": "3fjmaAe32Z_K"
    },
    {
      "cell_type": "markdown",
      "source": [
        "Please refer to the link for viewing the\n",
        "[Kaggle Competition Document](https://drive.google.com/file/d/1V3Y8Q3M03Atn9oM1zqmW6jpuzSYm445e/view?usp=drive_link) and join the Kaggle Competition using the hyperlink given in this document under '*Kaggle* Competition site'.\n"
      ],
      "metadata": {
        "id": "y4yw7Ewy09Ut"
      },
      "id": "y4yw7Ewy09Ut"
    },
    {
      "cell_type": "markdown",
      "metadata": {
        "id": "operating-latter"
      },
      "source": [
        "## Grading = 10 Points"
      ],
      "id": "operating-latter"
    },
    {
      "cell_type": "code",
      "metadata": {
        "id": "talented-upset",
        "colab": {
          "base_uri": "https://localhost:8080/"
        },
        "outputId": "6e1987bc-a8e3-4740-fc8b-d5043f893c1c"
      },
      "source": [
        "#@title Download the datasets and install packages\n",
        "!wget -qq https://cdn.iisc.talentsprint.com/CDS/MiniProjects/Ravdess_Tess.zip\n",
        "!unzip -qq Ravdess_Tess.zip\n",
        "# Install packages\n",
        "!pip -qq install librosa soundfile\n",
        "!pip -qq install wavio\n",
        "print(\"Datasets downloaded successfully!\")"
      ],
      "id": "talented-upset",
      "execution_count": null,
      "outputs": [
        {
          "output_type": "stream",
          "name": "stdout",
          "text": [
            "Datasets downloaded successfully!\n"
          ]
        }
      ]
    },
    {
      "cell_type": "markdown",
      "metadata": {
        "id": "appreciated-pattern"
      },
      "source": [
        "### Import Neccesary Packages"
      ],
      "id": "appreciated-pattern"
    },
    {
      "cell_type": "code",
      "metadata": {
        "id": "loose-marsh"
      },
      "source": [
        "import librosa\n",
        "import librosa.display\n",
        "import soundfile\n",
        "import os, glob, pickle\n",
        "import numpy as np\n",
        "import pandas as pd\n",
        "import IPython.display as ipd\n",
        "from matplotlib import pyplot as plt\n",
        "from datetime import datetime\n",
        "from IPython.display import Javascript\n",
        "from google.colab import output\n",
        "from base64 import b64decode\n",
        "import warnings\n",
        "warnings.filterwarnings('ignore')\n",
        "# sklearn\n",
        "from sklearn.model_selection import train_test_split\n",
        "from sklearn.metrics import accuracy_score, f1_score\n",
        "from sklearn.linear_model import LogisticRegression\n",
        "from sklearn.tree import DecisionTreeClassifier\n",
        "from sklearn.ensemble import RandomForestClassifier\n",
        "from sklearn.svm import SVC\n",
        "from sklearn import tree\n",
        "from sklearn.ensemble import VotingClassifier"
      ],
      "id": "loose-marsh",
      "execution_count": null,
      "outputs": []
    },
    {
      "cell_type": "markdown",
      "metadata": {
        "id": "2vxa85gvorY5"
      },
      "source": [
        "### Work-Flow\n",
        "\n",
        "* Load the TESS audio data and extract features and labels\n",
        "\n",
        "* Load the Ravdess audio data and extract features\n",
        "\n",
        "* Combine both the audio dataset features\n",
        "\n",
        "* Train and test the model with TESS + Ravdess Data\n",
        "\n",
        "* Record the team audio samples and add them to TESS + Ravdess data\n",
        "\n",
        "* Train and test the model with TESS + Ravdess + Team Recorded (combined) data\n",
        "\n",
        "* Test each of the models with live audio sample recording."
      ],
      "id": "2vxa85gvorY5"
    },
    {
      "cell_type": "markdown",
      "metadata": {
        "id": "compressed-reflection"
      },
      "source": [
        "### Load the Tess data and Ravdess data audio files (1 point)\n",
        "\n",
        "Hint: `glob.glob`"
      ],
      "id": "compressed-reflection"
    },
    {
      "cell_type": "code",
      "metadata": {
        "id": "518e945a",
        "colab": {
          "base_uri": "https://localhost:8080/"
        },
        "outputId": "2c98ec64-616c-46ad-bec6-e7700e07ac04"
      },
      "source": [
        "# YOUR CODE HERE\n",
        "tess_wav_files = glob.glob(\"Tess/*/*.wav\")\n",
        "print(\"Number of wav files with Tess data = \",len(tess_wav_files))\n",
        "\n",
        "ravdess_wav_files = glob.glob(\"ravdess/*/*.wav\")\n",
        "print(\"Number of wav files with Ravdess data = \",len(ravdess_wav_files))"
      ],
      "id": "518e945a",
      "execution_count": null,
      "outputs": [
        {
          "output_type": "stream",
          "name": "stdout",
          "text": [
            "Number of wav files with Tess data =  2679\n",
            "Number of wav files with Ravdess data =  1168\n"
          ]
        }
      ]
    },
    {
      "cell_type": "markdown",
      "metadata": {
        "id": "sound-chest"
      },
      "source": [
        "#### Play the sample audio"
      ],
      "id": "sound-chest"
    },
    {
      "cell_type": "code",
      "metadata": {
        "id": "personalized-wildlife",
        "colab": {
          "base_uri": "https://localhost:8080/",
          "height": 75
        },
        "outputId": "f630963c-eabe-4854-a2c7-a790c1e5c27e"
      },
      "source": [
        "# YOUR CODE HERE\n",
        "ipd.Audio(tess_wav_files[0])"
      ],
      "id": "personalized-wildlife",
      "execution_count": null,
      "outputs": [
        {
          "output_type": "execute_result",
          "data": {
            "text/plain": [
              "<IPython.lib.display.Audio object>"
            ],
            "text/html": [
              "\n",
              "                <audio  controls=\"controls\" >\n",
              "                    <source src=\"data:audio/x-wav;base64,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\" type=\"audio/x-wav\" />\n",
              "                    Your browser does not support the audio element.\n",
              "                </audio>\n",
              "              "
            ]
          },
          "metadata": {},
          "execution_count": 4
        }
      ]
    },
    {
      "cell_type": "markdown",
      "metadata": {
        "id": "exposed-county"
      },
      "source": [
        "### Data Exploration and Visualization (1 point)"
      ],
      "id": "exposed-county"
    },
    {
      "cell_type": "markdown",
      "metadata": {
        "id": "hungry-cleaner"
      },
      "source": [
        "#### Visualize the distribution of all the labels"
      ],
      "id": "hungry-cleaner"
    },
    {
      "cell_type": "code",
      "metadata": {
        "id": "orange-taiwan",
        "colab": {
          "base_uri": "https://localhost:8080/",
          "height": 454
        },
        "outputId": "bdd13ccb-68b3-4bea-e7f7-cad584fda4db"
      },
      "source": [
        "# YOUR CODE HERE\n",
        "DIR = 'Tess'\n",
        "emotions_dir_tess = os.listdir(DIR)\n",
        "# Need to ignore hidden files\n",
        "emotions_dir_tess = [d for d in emotions_dir_tess if not d.startswith('.')]\n",
        "\n",
        "# Code to calculate emotion counts\n",
        "mapping = {}\n",
        "for emotion in emotions_dir_tess:\n",
        "    emotion_counter = len(glob.glob(\"Tess/\"+emotion+\"/*.wav\"))\n",
        "    emotion = emotion.split(\"_\")[-1].lower()\n",
        "    if emotion not in mapping:\n",
        "        mapping[emotion] = emotion_counter\n",
        "    else:\n",
        "        mapping[emotion]+=emotion_counter\n",
        "print(mapping)\n",
        "\n",
        "# Create dataframe from dictionary and plot the graph\n",
        "tess_label_df = pd.DataFrame.from_dict(mapping, orient='index')\n",
        "tess_label_df.columns = ['Count']\n",
        "tess_label_df.plot(kind='bar', figsize=(12, 4), title=\"Distribution of emotions in TESS data\",xlabel='Emotions',ylabel='Count')"
      ],
      "id": "orange-taiwan",
      "execution_count": null,
      "outputs": [
        {
          "output_type": "stream",
          "name": "stdout",
          "text": [
            "{'neutral': 378, 'sad': 379, 'angry': 382, 'fear': 379, 'happy': 383, 'disgust': 391, 'surprised': 387}\n"
          ]
        },
        {
          "output_type": "execute_result",
          "data": {
            "text/plain": [
              "<Axes: title={'center': 'Distribution of emotions in TESS data'}, xlabel='Emotions', ylabel='Count'>"
            ]
          },
          "metadata": {},
          "execution_count": 5
        },
        {
          "output_type": "display_data",
          "data": {
            "text/plain": [
              "<Figure size 1200x400 with 1 Axes>"
            ],
            "image/png": "[encoded data removed]"
          },
          "metadata": {}
        }
      ]
    },
    {
      "cell_type": "code",
      "source": [
        "# Same experiment as above, but now for ravdess data\n",
        "# Emotion (01 = neutral, 02 = calm, 03 = happy, 04 = sad, 05 = angry, 06 = fearful, 07 = disgust, 08 = surprised).\n",
        "ravdess_emotions_mapping = {}\n",
        "# Code to calculate emotion counts\n",
        "for file_name in ravdess_wav_files:\n",
        "    emotion = file_name.split(\"_\")[-1].split(\".\")[0]\n",
        "    if emotion not in ravdess_emotions_mapping:\n",
        "        ravdess_emotions_mapping[emotion] = 1\n",
        "    else:\n",
        "        ravdess_emotions_mapping[emotion]+=1\n",
        "print(ravdess_emotions_mapping)\n",
        "\n",
        "# Create dataframe from dictionary and plot the graph\n",
        "ravdess_label_df = pd.DataFrame.from_dict(ravdess_emotions_mapping, orient='index')\n",
        "ravdess_label_df.columns = ['Count']\n",
        "ravdess_label_df\n",
        "ravdess_label_df.plot(kind='bar', figsize=(12, 4), title=\"Distribution of emotions in Ravdess data\",xlabel='Emotions',ylabel='Count')"
      ],
      "metadata": {
        "colab": {
          "base_uri": "https://localhost:8080/",
          "height": 454
        },
        "id": "ylN4U3t72U7V",
        "outputId": "b5553903-a8a6-49a0-de44-45b427948e94"
      },
      "id": "ylN4U3t72U7V",
      "execution_count": null,
      "outputs": [
        {
          "output_type": "stream",
          "name": "stdout",
          "text": [
            "{'fear': 182, 'neutral': 88, 'surprised': 182, 'disgust': 180, 'sad': 183, 'happy': 174, 'angry': 179}\n"
          ]
        },
        {
          "output_type": "execute_result",
          "data": {
            "text/plain": [
              "<Axes: title={'center': 'Distribution of emotions in Ravdess data'}, xlabel='Emotions', ylabel='Count'>"
            ]
          },
          "metadata": {},
          "execution_count": 6
        },
        {
          "output_type": "display_data",
          "data": {
            "text/plain": [
              "<Figure size 1200x400 with 1 Axes>"
            ],
            "image/png": "[encoded data removed]"
          },
          "metadata": {}
        }
      ]
    },
    {
      "cell_type": "markdown",
      "metadata": {
        "id": "established-airfare"
      },
      "source": [
        "#### Visualize sample audio signal using librosa"
      ],
      "id": "established-airfare"
    },
    {
      "cell_type": "code",
      "metadata": {
        "id": "outstanding-caribbean",
        "colab": {
          "base_uri": "https://localhost:8080/",
          "height": 375
        },
        "outputId": "2c83aef2-e1e9-4604-f289-7a4bf935d719"
      },
      "source": [
        "# YOUR CODE HERE\n",
        "sample_audio_tess = tess_wav_files[0]\n",
        "signal, sr = librosa.load(sample_audio_tess)\n",
        "plt.figure(figsize=(12, 4))\n",
        "librosa.display.waveshow(signal, sr=sr)"
      ],
      "id": "outstanding-caribbean",
      "execution_count": null,
      "outputs": [
        {
          "output_type": "execute_result",
          "data": {
            "text/plain": [
              "<librosa.display.AdaptiveWaveplot at 0x7f3ecbf50190>"
            ]
          },
          "metadata": {},
          "execution_count": 7
        },
        {
          "output_type": "display_data",
          "data": {
            "text/plain": [
              "<Figure size 1200x400 with 1 Axes>"
            ],
            "image/png": "[encoded data removed]"
          },
          "metadata": {}
        }
      ]
    },
    {
      "cell_type": "markdown",
      "source": [],
      "metadata": {
        "id": "iLGUahy9zTsd"
      },
      "id": "iLGUahy9zTsd"
    },
    {
      "cell_type": "markdown",
      "metadata": {
        "id": "medical-confidence"
      },
      "source": [
        "### Feature extraction (2 points)\n",
        "\n",
        "Read one WAV file at a time using `Librosa`. An audio time series in the form of a 1-dimensional array for mono or 2-dimensional array for stereo, along with time sampling rate (which defines the length of the array), where the elements within each of the arrays represent the amplitude of the sound waves is returned by `librosa.load()` function. Refer to the supplementary notebook ('Audio feature extraction')\n",
        "\n",
        "To know more about Librosa, explore the [link](https://librosa.org/doc/latest/feature.html)"
      ],
      "id": "medical-confidence"
    },
    {
      "cell_type": "code",
      "metadata": {
        "id": "piano-accent",
        "colab": {
          "base_uri": "https://localhost:8080/"
        },
        "outputId": "8317aa91-d95e-46ec-9856-96f4375d9bef"
      },
      "source": [
        "# YOUR CODE HERE\n",
        "def extract_feature(file_name):\n",
        "    # load audio\n",
        "    X, sample_rate = librosa.load(file_name)\n",
        "    # apply stft()\n",
        "    stft=np.abs(librosa.stft(X))\n",
        "    result=np.array([])\n",
        "    # compute mfcc\n",
        "    mfccs=np.mean(librosa.feature.mfcc(y=X, sr=sample_rate, n_mfcc=40).T,axis=0)\n",
        "    # combine the features\n",
        "    result=np.hstack((result, mfccs))\n",
        "    # compute chroma features and combine\n",
        "    chroma=np.mean(librosa.feature.chroma_stft(S=stft, sr=sample_rate).T,axis=0)\n",
        "    result=np.hstack((result, chroma))\n",
        "    # compute melspectrogram and combine\n",
        "    mel=np.mean(librosa.feature.melspectrogram(y=X, sr=sample_rate).T,axis=0)\n",
        "    result=np.hstack((result, mel))\n",
        "    return result\n",
        "\n",
        "sample_feature = extract_feature(tess_wav_files[0])\n",
        "print(sample_feature)"
      ],
      "id": "piano-accent",
      "execution_count": null,
      "outputs": [
        {
          "output_type": "stream",
          "name": "stdout",
          "text": [
            "[-4.68705017e+02  7.67783585e+01  1.08002176e+01 -6.46619749e+00\n",
            "  9.01906395e+00  5.95073986e+00 -1.03996563e+01 -5.93222666e+00\n",
            " -9.39910126e+00 -2.22689724e+00 -5.91021109e+00 -2.04506535e-02\n",
            " -4.77989388e+00  6.06508636e+00  5.27122974e+00  4.09908915e+00\n",
            " -5.33042729e-01  5.94385099e+00 -1.13399088e+00 -3.89516282e+00\n",
            "  2.86922169e+00  1.50595760e+00 -3.20125341e+00  4.39088154e+00\n",
            " -5.92994213e+00 -3.08289862e+00 -1.95806038e+00 -1.14162719e+00\n",
            " -4.86011696e+00  4.57787609e+00 -6.26922607e+00  1.84480429e+00\n",
            " -1.05351515e+01  2.61689685e-02  4.37490988e+00  1.67607861e+01\n",
            "  2.24787712e+01  3.18286304e+01  2.50928345e+01  1.85006371e+01\n",
            "  4.16666418e-01  5.43957591e-01  3.97747308e-01  3.48608762e-01\n",
            "  4.17099416e-01  6.25898421e-01  7.66783059e-01  4.91199076e-01\n",
            "  3.54201227e-01  3.94931853e-01  4.37482536e-01  3.94863933e-01\n",
            "  2.84173917e-02  9.41651291e-04  8.85404734e-05  6.97655923e-05\n",
            "  2.81253160e-04  6.39105886e-02  4.66282755e-01  1.28741965e-01\n",
            "  3.67775140e-03  9.48568224e-04  8.14950967e-04  3.22522409e-03\n",
            "  2.21266627e-01  1.38815737e+00  6.31072700e-01  1.17932945e-01\n",
            "  3.62081230e-02  4.17191442e-03  1.08465389e-03  5.46103306e-02\n",
            "  4.27155763e-01  3.38341147e-01  3.33060510e-02  3.42283351e-03\n",
            "  4.42256947e-04  1.29972612e-02  9.97333750e-02  7.89799765e-02\n",
            "  3.68680991e-02  2.51573622e-02  7.17894267e-03  1.44992291e-03\n",
            "  4.95438464e-02  1.56978637e-01  6.11330085e-02  4.50146273e-02\n",
            "  3.55285183e-02  3.43459956e-02  4.51586535e-03  8.91429652e-03\n",
            "  8.26417282e-03  5.13142115e-03  6.05737092e-03  6.85136998e-03\n",
            "  6.35024020e-03  2.55938503e-03  4.96118143e-03  1.64537001e-02\n",
            "  1.37898112e-02  3.41656315e-03  7.63653079e-03  1.83098521e-02\n",
            "  2.00051162e-02  3.13622109e-03  6.32354431e-03  9.31172725e-03\n",
            "  5.85655030e-03  4.10784176e-03  2.04738532e-03  2.34152493e-03\n",
            "  3.90639855e-03  1.62012083e-03  1.16413971e-03  5.20882779e-04\n",
            "  7.03736674e-04  2.37758574e-03  1.03437842e-03  1.29568274e-03\n",
            "  1.50948274e-03  3.78599536e-04  6.09516341e-04  6.52265968e-04\n",
            "  2.92812882e-04  4.05683153e-04  6.04388304e-04  3.15495388e-04\n",
            "  8.33910599e-04  4.22628364e-04  2.04019409e-04  1.46060847e-04\n",
            "  5.40163819e-05  4.23199526e-05  3.99043493e-05  5.16920300e-05\n",
            "  5.92251708e-05  4.62356584e-05  4.55614827e-05  9.45381398e-05\n",
            "  2.72498204e-04  4.56874026e-04  6.62725943e-04  3.79129808e-04\n",
            "  2.59011838e-04  3.78183700e-04  5.52584359e-04  3.44129774e-04\n",
            "  4.44931327e-04  2.72784149e-04  2.59134220e-04  3.11226584e-04\n",
            "  2.80742068e-04  3.42498213e-04  2.85720715e-04  1.48512263e-04\n",
            "  2.23741503e-04  3.43778491e-04  4.30800428e-04  4.37544339e-04\n",
            "  4.26982733e-04  4.45215177e-04  2.92156619e-04  3.00018321e-04\n",
            "  2.87601491e-04  2.64029484e-04  4.56506328e-04  1.82481643e-04\n",
            "  1.91692307e-04  9.85726801e-05  7.95295782e-05  7.28140803e-05\n",
            "  6.32472365e-05  8.33921222e-05  9.22643521e-05  1.03914390e-04\n",
            "  1.11220383e-04  1.17083342e-04  7.54498033e-05  3.88238095e-06]\n"
          ]
        }
      ]
    },
    {
      "cell_type": "markdown",
      "metadata": {
        "id": "7d3bd640"
      },
      "source": [
        "#### Create a dictionary or a function to encode the emotions"
      ],
      "id": "7d3bd640"
    },
    {
      "cell_type": "code",
      "metadata": {
        "id": "c0c8d44d"
      },
      "source": [
        "# YOUR CODE HERE\n",
        "# Ravdess Emotion (01 = neutral, 02 = calm, 03 = happy, 04 = sad, 05 = angry, 06 = fearful, 07 = disgust, 08 = surprised).\n",
        "emotions = {'neutral': 1, 'calm': 2, 'happy': 3, 'sad': 4, 'angry': 5, 'fear': 6, 'disgust': 7, 'surprised': 8}"
      ],
      "id": "c0c8d44d",
      "execution_count": null,
      "outputs": []
    },
    {
      "cell_type": "markdown",
      "metadata": {
        "id": "coupled-villa"
      },
      "source": [
        "#### TESS data feature extraction"
      ],
      "id": "coupled-villa"
    },
    {
      "cell_type": "code",
      "metadata": {
        "id": "quarterly-adrian",
        "colab": {
          "base_uri": "https://localhost:8080/"
        },
        "outputId": "55ada9e1-1267-43dc-de8e-4d7518f579c8"
      },
      "source": [
        "# YOUR CODE HERE\n",
        "import time\n",
        "features, labels = [], []\n",
        "\n",
        "begin = time.time()\n",
        "for wv_file in tess_wav_files:\n",
        "  features.append(extract_feature(wv_file))\n",
        "  # extracting label\n",
        "  emt = wv_file.split(\"_\")[-1].split(\".\")[0].lower()\n",
        "  labels.append(emotions[emt])\n",
        "end = time.time()\n",
        "print(\"Time taken = \",end-begin)\n",
        "print(\"Feature len = \\n\",len(features))\n",
        "print(\"Label len = \\n\",len(labels))"
      ],
      "id": "quarterly-adrian",
      "execution_count": null,
      "outputs": [
        {
          "output_type": "stream",
          "name": "stdout",
          "text": [
            "Time taken =  102.01540279388428\n",
            "Feature len = \n",
            " 2679\n",
            "Label len = \n",
            " 2679\n"
          ]
        }
      ]
    },
    {
      "cell_type": "code",
      "source": [
        "import multiprocessing\n",
        "\n",
        "def tess_feature_extraction():\n",
        "    features, labels = [], []\n",
        "\n",
        "    # Get CPU count to set to multiprocessing, since feature extraction is CPU bound\n",
        "    num_cores = os.cpu_count()\n",
        "\n",
        "    begin = time.time()\n",
        "\n",
        "    with multiprocessing.Pool(processes=num_cores) as p:\n",
        "        features = p.map(extract_feature, tess_wav_files)\n",
        "\n",
        "    labels = [emotions[wv_file.split(\"_\")[-1].split(\".\")[0].lower()] for wv_file in tess_wav_files]\n",
        "    end = time.time()\n",
        "    print(\"Time taken = \",end-begin)\n",
        "    print(\"Feature len = \",len(features))\n",
        "    print(\"Label len = \",len(labels))\n",
        "    # Convert list to nparray to use with sklearn models\n",
        "    return np.array(features), np.array(labels)"
      ],
      "metadata": {
        "id": "i7EykQTvCi89"
      },
      "id": "i7EykQTvCi89",
      "execution_count": null,
      "outputs": []
    },
    {
      "cell_type": "markdown",
      "metadata": {
        "id": "qKzclsG-FnW6"
      },
      "source": [
        "#### Ravdess data feature extraction"
      ],
      "id": "qKzclsG-FnW6"
    },
    {
      "cell_type": "code",
      "metadata": {
        "id": "iDwNOgKEIH3w"
      },
      "source": [
        "# YOUR CODE HERE\n",
        "def ravdess_feature_extraction():\n",
        "    features, labels = [], []\n",
        "\n",
        "    # Get CPU count to set to multiprocessing, since feature extraction is CPU bound\n",
        "    num_cores = os.cpu_count()\n",
        "\n",
        "    begin = time.time()\n",
        "\n",
        "    with multiprocessing.Pool(processes=num_cores) as p:\n",
        "        features = p.map(extract_feature, ravdess_wav_files)\n",
        "\n",
        "    labels = [emotions[wv_file.split(\"_\")[-1].split(\".\")[0].lower()] for wv_file in ravdess_wav_files]\n",
        "    features = np.array(features)\n",
        "    labels = np.array(labels)\n",
        "    end = time.time()\n",
        "    print(\"Time taken = \",end-begin)\n",
        "    print(\"Feature len = \",len(features))\n",
        "    print(\"Label len = \",len(labels))\n",
        "    return np.array(features), np.array(labels)"
      ],
      "id": "iDwNOgKEIH3w",
      "execution_count": null,
      "outputs": []
    },
    {
      "cell_type": "markdown",
      "metadata": {
        "id": "2bb62f16"
      },
      "source": [
        "#### Save the features\n",
        "\n",
        "It is best advised to save the features in dataframe and maintain so that feature extraction step is not required to be performed every time.\n",
        "\n",
        "* Make a DataFrame with features and labels\n",
        "\n",
        "* Write dataframe into `.CSV` file and save it offline."
      ],
      "id": "2bb62f16"
    },
    {
      "cell_type": "code",
      "metadata": {
        "id": "9ec91c16",
        "colab": {
          "base_uri": "https://localhost:8080/"
        },
        "outputId": "8e0e7749-0b6d-49a9-f368-dcfbca08f197"
      },
      "source": [
        "# YOUR CODE HERE\n",
        "features_tess, labels_tess = tess_feature_extraction()\n",
        "features_ravdess, labels_ravdess = ravdess_feature_extraction()\n",
        "features = np.concatenate((features_tess, features_ravdess), axis = 0)\n",
        "labels = np.concatenate((labels_tess, labels_ravdess), axis = 0)\n",
        "audio_df = pd.DataFrame(features)\n",
        "audio_df['labels'] = labels\n",
        "audio_df.to_csv('audio_df.csv', index=False)"
      ],
      "id": "9ec91c16",
      "execution_count": null,
      "outputs": [
        {
          "output_type": "stream",
          "name": "stdout",
          "text": [
            "Time taken =  116.24838399887085\n",
            "Feature len =  2679\n",
            "Label len =  2679\n",
            "Time taken =  71.8889832496643\n",
            "Feature len =  1168\n",
            "Label len =  1168\n"
          ]
        }
      ]
    },
    {
      "cell_type": "code",
      "source": [
        "audio_df.head()"
      ],
      "metadata": {
        "colab": {
          "base_uri": "https://localhost:8080/",
          "height": 256
        },
        "id": "g8n0iBo8ktCk",
        "outputId": "0e79d1d2-4501-40f1-8338-45df5499251a"
      },
      "id": "g8n0iBo8ktCk",
      "execution_count": null,
      "outputs": [
        {
          "output_type": "execute_result",
          "data": {
            "text/plain": [
              "            0          1          2          3          4          5  \\\n",
              "0 -468.705017  76.778358  10.800218  -6.466197   9.019064   5.950740   \n",
              "1 -561.031921  71.399864  20.260130   6.339846  12.065372  18.978577   \n",
              "2 -544.092407  77.044785  28.812931  13.138770  16.672974   6.174990   \n",
              "3 -496.806427  70.104126  13.117551  11.569049  13.802099   9.428020   \n",
              "4 -540.128235  85.661858  27.018007   5.810820   9.170655   8.846538   \n",
              "\n",
              "           6          7          8         9  ...       171       172  \\\n",
              "0 -10.399656  -5.932227  -9.399101 -2.226897  ...  0.000073  0.000063   \n",
              "1   0.455943 -11.686327 -11.611564  2.624182  ...  0.000060  0.000039   \n",
              "2  -3.791644  -5.752596 -13.139109  0.592110  ...  0.000070  0.000053   \n",
              "3  -4.736172  -7.810788 -15.984902 -7.749166  ...  0.000179  0.000130   \n",
              "4  -7.145912  -0.806606 -15.246840 -2.577718  ...  0.000091  0.000063   \n",
              "\n",
              "        173       174       175       176       177       178       179  \\\n",
              "0  0.000083  0.000092  0.000104  0.000111  0.000117  0.000075  0.000004   \n",
              "1  0.000028  0.000022  0.000022  0.000018  0.000025  0.000016  0.000001   \n",
              "2  0.000038  0.000032  0.000027  0.000033  0.000039  0.000029  0.000002   \n",
              "3  0.000090  0.000071  0.000065  0.000072  0.000090  0.000078  0.000007   \n",
              "4  0.000034  0.000025  0.000023  0.000022  0.000029  0.000017  0.000001   \n",
              "\n",
              "   labels  \n",
              "0       1  \n",
              "1       1  \n",
              "2       1  \n",
              "3       1  \n",
              "4       1  \n",
              "\n",
              "[5 rows x 181 columns]"
            ],
            "text/html": [
              "\n",
              "  <div id=\"df-43dd49c3-395e-4786-8197-179b66ac0bb5\" class=\"colab-df-container\">\n",
              "    <div>\n",
              "<style scoped>\n",
              "    .dataframe tbody tr th:only-of-type {\n",
              "        vertical-align: middle;\n",
              "    }\n",
              "\n",
              "    .dataframe tbody tr th {\n",
              "        vertical-align: top;\n",
              "    }\n",
              "\n",
              "    .dataframe thead th {\n",
              "        text-align: right;\n",
              "    }\n",
              "</style>\n",
              "<table border=\"1\" class=\"dataframe\">\n",
              "  <thead>\n",
              "    <tr style=\"text-align: right;\">\n",
              "      <th></th>\n",
              "      <th>0</th>\n",
              "      <th>1</th>\n",
              "      <th>2</th>\n",
              "      <th>3</th>\n",
              "      <th>4</th>\n",
              "      <th>5</th>\n",
              "      <th>6</th>\n",
              "      <th>7</th>\n",
              "      <th>8</th>\n",
              "      <th>9</th>\n",
              "      <th>...</th>\n",
              "      <th>171</th>\n",
              "      <th>172</th>\n",
              "      <th>173</th>\n",
              "      <th>174</th>\n",
              "      <th>175</th>\n",
              "      <th>176</th>\n",
              "      <th>177</th>\n",
              "      <th>178</th>\n",
              "      <th>179</th>\n",
              "      <th>labels</th>\n",
              "    </tr>\n",
              "  </thead>\n",
              "  <tbody>\n",
              "    <tr>\n",
              "      <th>0</th>\n",
              "      <td>-468.705017</td>\n",
              "      <td>76.778358</td>\n",
              "      <td>10.800218</td>\n",
              "      <td>-6.466197</td>\n",
              "      <td>9.019064</td>\n",
              "      <td>5.950740</td>\n",
              "      <td>-10.399656</td>\n",
              "      <td>-5.932227</td>\n",
              "      <td>-9.399101</td>\n",
              "      <td>-2.226897</td>\n",
              "      <td>...</td>\n",
              "      <td>0.000073</td>\n",
              "      <td>0.000063</td>\n",
              "      <td>0.000083</td>\n",
              "      <td>0.000092</td>\n",
              "      <td>0.000104</td>\n",
              "      <td>0.000111</td>\n",
              "      <td>0.000117</td>\n",
              "      <td>0.000075</td>\n",
              "      <td>0.000004</td>\n",
              "      <td>1</td>\n",
              "    </tr>\n",
              "    <tr>\n",
              "      <th>1</th>\n",
              "      <td>-561.031921</td>\n",
              "      <td>71.399864</td>\n",
              "      <td>20.260130</td>\n",
              "      <td>6.339846</td>\n",
              "      <td>12.065372</td>\n",
              "      <td>18.978577</td>\n",
              "      <td>0.455943</td>\n",
              "      <td>-11.686327</td>\n",
              "      <td>-11.611564</td>\n",
              "      <td>2.624182</td>\n",
              "      <td>...</td>\n",
              "      <td>0.000060</td>\n",
              "      <td>0.000039</td>\n",
              "      <td>0.000028</td>\n",
              "      <td>0.000022</td>\n",
              "      <td>0.000022</td>\n",
              "      <td>0.000018</td>\n",
              "      <td>0.000025</td>\n",
              "      <td>0.000016</td>\n",
              "      <td>0.000001</td>\n",
              "      <td>1</td>\n",
              "    </tr>\n",
              "    <tr>\n",
              "      <th>2</th>\n",
              "      <td>-544.092407</td>\n",
              "      <td>77.044785</td>\n",
              "      <td>28.812931</td>\n",
              "      <td>13.138770</td>\n",
              "      <td>16.672974</td>\n",
              "      <td>6.174990</td>\n",
              "      <td>-3.791644</td>\n",
              "      <td>-5.752596</td>\n",
              "      <td>-13.139109</td>\n",
              "      <td>0.592110</td>\n",
              "      <td>...</td>\n",
              "      <td>0.000070</td>\n",
              "      <td>0.000053</td>\n",
              "      <td>0.000038</td>\n",
              "      <td>0.000032</td>\n",
              "      <td>0.000027</td>\n",
              "      <td>0.000033</td>\n",
              "      <td>0.000039</td>\n",
              "      <td>0.000029</td>\n",
              "      <td>0.000002</td>\n",
              "      <td>1</td>\n",
              "    </tr>\n",
              "    <tr>\n",
              "      <th>3</th>\n",
              "      <td>-496.806427</td>\n",
              "      <td>70.104126</td>\n",
              "      <td>13.117551</td>\n",
              "      <td>11.569049</td>\n",
              "      <td>13.802099</td>\n",
              "      <td>9.428020</td>\n",
              "      <td>-4.736172</td>\n",
              "      <td>-7.810788</td>\n",
              "      <td>-15.984902</td>\n",
              "      <td>-7.749166</td>\n",
              "      <td>...</td>\n",
              "      <td>0.000179</td>\n",
              "      <td>0.000130</td>\n",
              "      <td>0.000090</td>\n",
              "      <td>0.000071</td>\n",
              "      <td>0.000065</td>\n",
              "      <td>0.000072</td>\n",
              "      <td>0.000090</td>\n",
              "      <td>0.000078</td>\n",
              "      <td>0.000007</td>\n",
              "      <td>1</td>\n",
              "    </tr>\n",
              "    <tr>\n",
              "      <th>4</th>\n",
              "      <td>-540.128235</td>\n",
              "      <td>85.661858</td>\n",
              "      <td>27.018007</td>\n",
              "      <td>5.810820</td>\n",
              "      <td>9.170655</td>\n",
              "      <td>8.846538</td>\n",
              "      <td>-7.145912</td>\n",
              "      <td>-0.806606</td>\n",
              "      <td>-15.246840</td>\n",
              "      <td>-2.577718</td>\n",
              "      <td>...</td>\n",
              "      <td>0.000091</td>\n",
              "      <td>0.000063</td>\n",
              "      <td>0.000034</td>\n",
              "      <td>0.000025</td>\n",
              "      <td>0.000023</td>\n",
              "      <td>0.000022</td>\n",
              "      <td>0.000029</td>\n",
              "      <td>0.000017</td>\n",
              "      <td>0.000001</td>\n",
              "      <td>1</td>\n",
              "    </tr>\n",
              "  </tbody>\n",
              "</table>\n",
              "<p>5 rows × 181 columns</p>\n",
              "</div>\n",
              "    <div class=\"colab-df-buttons\">\n",
              "\n",
              "  <div class=\"colab-df-container\">\n",
              "    <button class=\"colab-df-convert\" onclick=\"convertToInteractive('df-43dd49c3-395e-4786-8197-179b66ac0bb5')\"\n",
              "            title=\"Convert this dataframe to an interactive table.\"\n",
              "            style=\"display:none;\">\n",
              "\n",
              "  <svg xmlns=\"http://www.w3.org/2000/svg\" height=\"24px\" viewBox=\"0 -960 960 960\">\n",
              "    <path d=\"M120-120v-720h720v720H120Zm60-500h600v-160H180v160Zm220 220h160v-160H400v160Zm0 220h160v-160H400v160ZM180-400h160v-160H180v160Zm440 0h160v-160H620v160ZM180-180h160v-160H180v160Zm440 0h160v-160H620v160Z\"/>\n",
              "  </svg>\n",
              "    </button>\n",
              "\n",
              "  <style>\n",
              "    .colab-df-container {\n",
              "      display:flex;\n",
              "      gap: 12px;\n",
              "    }\n",
              "\n",
              "    .colab-df-convert {\n",
              "      background-color: #E8F0FE;\n",
              "      border: none;\n",
              "      border-radius: 50%;\n",
              "      cursor: pointer;\n",
              "      display: none;\n",
              "      fill: #1967D2;\n",
              "      height: 32px;\n",
              "      padding: 0 0 0 0;\n",
              "      width: 32px;\n",
              "    }\n",
              "\n",
              "    .colab-df-convert:hover {\n",
              "      background-color: #E2EBFA;\n",
              "      box-shadow: 0px 1px 2px rgba(60, 64, 67, 0.3), 0px 1px 3px 1px rgba(60, 64, 67, 0.15);\n",
              "      fill: #174EA6;\n",
              "    }\n",
              "\n",
              "    .colab-df-buttons div {\n",
              "      margin-bottom: 4px;\n",
              "    }\n",
              "\n",
              "    [theme=dark] .colab-df-convert {\n",
              "      background-color: #3B4455;\n",
              "      fill: #D2E3FC;\n",
              "    }\n",
              "\n",
              "    [theme=dark] .colab-df-convert:hover {\n",
              "      background-color: #434B5C;\n",
              "      box-shadow: 0px 1px 3px 1px rgba(0, 0, 0, 0.15);\n",
              "      filter: drop-shadow(0px 1px 2px rgba(0, 0, 0, 0.3));\n",
              "      fill: #FFFFFF;\n",
              "    }\n",
              "  </style>\n",
              "\n",
              "    <script>\n",
              "      const buttonEl =\n",
              "        document.querySelector('#df-43dd49c3-395e-4786-8197-179b66ac0bb5 button.colab-df-convert');\n",
              "      buttonEl.style.display =\n",
              "        google.colab.kernel.accessAllowed ? 'block' : 'none';\n",
              "\n",
              "      async function convertToInteractive(key) {\n",
              "        const element = document.querySelector('#df-43dd49c3-395e-4786-8197-179b66ac0bb5');\n",
              "        const dataTable =\n",
              "          await google.colab.kernel.invokeFunction('convertToInteractive',\n",
              "                                                    [key], {});\n",
              "        if (!dataTable) return;\n",
              "\n",
              "        const docLinkHtml = 'Like what you see? Visit the ' +\n",
              "          '<a target=\"_blank\" href=https://colab.research.google.com/notebooks/data_table.ipynb>data table notebook</a>'\n",
              "          + ' to learn more about interactive tables.';\n",
              "        element.innerHTML = '';\n",
              "        dataTable['output_type'] = 'display_data';\n",
              "        await google.colab.output.renderOutput(dataTable, element);\n",
              "        const docLink = document.createElement('div');\n",
              "        docLink.innerHTML = docLinkHtml;\n",
              "        element.appendChild(docLink);\n",
              "      }\n",
              "    </script>\n",
              "  </div>\n",
              "\n",
              "\n",
              "<div id=\"df-f3be92d7-08a3-4e10-b2d1-8cac42a075c1\">\n",
              "  <button class=\"colab-df-quickchart\" onclick=\"quickchart('df-f3be92d7-08a3-4e10-b2d1-8cac42a075c1')\"\n",
              "            title=\"Suggest charts\"\n",
              "            style=\"display:none;\">\n",
              "\n",
              "<svg xmlns=\"http://www.w3.org/2000/svg\" height=\"24px\"viewBox=\"0 0 24 24\"\n",
              "     width=\"24px\">\n",
              "    <g>\n",
              "        <path d=\"M19 3H5c-1.1 0-2 .9-2 2v14c0 1.1.9 2 2 2h14c1.1 0 2-.9 2-2V5c0-1.1-.9-2-2-2zM9 17H7v-7h2v7zm4 0h-2V7h2v10zm4 0h-2v-4h2v4z\"/>\n",
              "    </g>\n",
              "</svg>\n",
              "  </button>\n",
              "\n",
              "<style>\n",
              "  .colab-df-quickchart {\n",
              "      --bg-color: #E8F0FE;\n",
              "      --fill-color: #1967D2;\n",
              "      --hover-bg-color: #E2EBFA;\n",
              "      --hover-fill-color: #174EA6;\n",
              "      --disabled-fill-color: #AAA;\n",
              "      --disabled-bg-color: #DDD;\n",
              "  }\n",
              "\n",
              "  [theme=dark] .colab-df-quickchart {\n",
              "      --bg-color: #3B4455;\n",
              "      --fill-color: #D2E3FC;\n",
              "      --hover-bg-color: #434B5C;\n",
              "      --hover-fill-color: #FFFFFF;\n",
              "      --disabled-bg-color: #3B4455;\n",
              "      --disabled-fill-color: #666;\n",
              "  }\n",
              "\n",
              "  .colab-df-quickchart {\n",
              "    background-color: var(--bg-color);\n",
              "    border: none;\n",
              "    border-radius: 50%;\n",
              "    cursor: pointer;\n",
              "    display: none;\n",
              "    fill: var(--fill-color);\n",
              "    height: 32px;\n",
              "    padding: 0;\n",
              "    width: 32px;\n",
              "  }\n",
              "\n",
              "  .colab-df-quickchart:hover {\n",
              "    background-color: var(--hover-bg-color);\n",
              "    box-shadow: 0 1px 2px rgba(60, 64, 67, 0.3), 0 1px 3px 1px rgba(60, 64, 67, 0.15);\n",
              "    fill: var(--button-hover-fill-color);\n",
              "  }\n",
              "\n",
              "  .colab-df-quickchart-complete:disabled,\n",
              "  .colab-df-quickchart-complete:disabled:hover {\n",
              "    background-color: var(--disabled-bg-color);\n",
              "    fill: var(--disabled-fill-color);\n",
              "    box-shadow: none;\n",
              "  }\n",
              "\n",
              "  .colab-df-spinner {\n",
              "    border: 2px solid var(--fill-color);\n",
              "    border-color: transparent;\n",
              "    border-bottom-color: var(--fill-color);\n",
              "    animation:\n",
              "      spin 1s steps(1) infinite;\n",
              "  }\n",
              "\n",
              "  @keyframes spin {\n",
              "    0% {\n",
              "      border-color: transparent;\n",
              "      border-bottom-color: var(--fill-color);\n",
              "      border-left-color: var(--fill-color);\n",
              "    }\n",
              "    20% {\n",
              "      border-color: transparent;\n",
              "      border-left-color: var(--fill-color);\n",
              "      border-top-color: var(--fill-color);\n",
              "    }\n",
              "    30% {\n",
              "      border-color: transparent;\n",
              "      border-left-color: var(--fill-color);\n",
              "      border-top-color: var(--fill-color);\n",
              "      border-right-color: var(--fill-color);\n",
              "    }\n",
              "    40% {\n",
              "      border-color: transparent;\n",
              "      border-right-color: var(--fill-color);\n",
              "      border-top-color: var(--fill-color);\n",
              "    }\n",
              "    60% {\n",
              "      border-color: transparent;\n",
              "      border-right-color: var(--fill-color);\n",
              "    }\n",
              "    80% {\n",
              "      border-color: transparent;\n",
              "      border-right-color: var(--fill-color);\n",
              "      border-bottom-color: var(--fill-color);\n",
              "    }\n",
              "    90% {\n",
              "      border-color: transparent;\n",
              "      border-bottom-color: var(--fill-color);\n",
              "    }\n",
              "  }\n",
              "</style>\n",
              "\n",
              "  <script>\n",
              "    async function quickchart(key) {\n",
              "      const quickchartButtonEl =\n",
              "        document.querySelector('#' + key + ' button');\n",
              "      quickchartButtonEl.disabled = true;  // To prevent multiple clicks.\n",
              "      quickchartButtonEl.classList.add('colab-df-spinner');\n",
              "      try {\n",
              "        const charts = await google.colab.kernel.invokeFunction(\n",
              "            'suggestCharts', [key], {});\n",
              "      } catch (error) {\n",
              "        console.error('Error during call to suggestCharts:', error);\n",
              "      }\n",
              "      quickchartButtonEl.classList.remove('colab-df-spinner');\n",
              "      quickchartButtonEl.classList.add('colab-df-quickchart-complete');\n",
              "    }\n",
              "    (() => {\n",
              "      let quickchartButtonEl =\n",
              "        document.querySelector('#df-f3be92d7-08a3-4e10-b2d1-8cac42a075c1 button');\n",
              "      quickchartButtonEl.style.display =\n",
              "        google.colab.kernel.accessAllowed ? 'block' : 'none';\n",
              "    })();\n",
              "  </script>\n",
              "</div>\n",
              "\n",
              "    </div>\n",
              "  </div>\n"
            ],
            "application/vnd.google.colaboratory.intrinsic+json": {
              "type": "dataframe",
              "variable_name": "audio_df"
            }
          },
          "metadata": {},
          "execution_count": 121
        }
      ]
    },
    {
      "cell_type": "markdown",
      "metadata": {
        "id": "aggressive-cause"
      },
      "source": [
        "#### Split the data into train and test"
      ],
      "id": "aggressive-cause"
    },
    {
      "cell_type": "code",
      "metadata": {
        "id": "nearby-angle"
      },
      "source": [
        "# YOUR CODE HERE\n",
        "X_train, X_test, y_train, y_test = train_test_split(features, audio_df['labels'], test_size=0.2, random_state=42)"
      ],
      "id": "nearby-angle",
      "execution_count": null,
      "outputs": []
    },
    {
      "cell_type": "markdown",
      "metadata": {
        "id": "ordered-weapon"
      },
      "source": [
        "### Train the model with TESS + Ravdess data (2 points)\n",
        "\n",
        "* Apply different ML algorithms (eg. DecisionTree, RandomForest, etc.) and find the model with best performance"
      ],
      "id": "ordered-weapon"
    },
    {
      "cell_type": "code",
      "source": [
        "# YOUR CODE HERE\n",
        "# Writing Implementations of different algorithms here\n",
        "def model_predict_evaluate():\n",
        "    classification_models = [\n",
        "    LogisticRegression(),\n",
        "    DecisionTreeClassifier(),\n",
        "    RandomForestClassifier(n_estimators=10, random_state=42, max_features=\"sqrt\")\n",
        "    ]\n",
        "    scores = []\n",
        "    for model in classification_models:\n",
        "        model.fit(X_train, y_train)\n",
        "        score = f1_score(y_test, model.predict(X_test), average='weighted')\n",
        "        model_name = type(model).__name__\n",
        "        scores.append((model_name,round(score,4)))\n",
        "    # Make it pretty\n",
        "    scores_df = pd.DataFrame(scores,columns=['Classifier','f1-Score'])\n",
        "    scores_df.sort_values(by='f1-Score',axis=0,ascending=False)\n",
        "    return scores_df\n",
        "\n",
        "scores_df = model_predict_evaluate()\n"
      ],
      "metadata": {
        "id": "7m4Icn7ImvGI"
      },
      "id": "7m4Icn7ImvGI",
      "execution_count": null,
      "outputs": []
    },
    {
      "cell_type": "code",
      "source": [
        "scores_df"
      ],
      "metadata": {
        "colab": {
          "base_uri": "https://localhost:8080/",
          "height": 143
        },
        "id": "obEABhHHm00j",
        "outputId": "6e7ecd41-424a-45a4-f2a3-99992a1a9e49"
      },
      "id": "obEABhHHm00j",
      "execution_count": null,
      "outputs": [
        {
          "output_type": "execute_result",
          "data": {
            "text/plain": [
              "               Classifier  f1-Score\n",
              "0      LogisticRegression    0.7916\n",
              "1  DecisionTreeClassifier    0.7649\n",
              "2  RandomForestClassifier    0.8210"
            ],
            "text/html": [
              "\n",
              "  <div id=\"df-dc014aab-adaa-4906-9824-dc21fac101e2\" class=\"colab-df-container\">\n",
              "    <div>\n",
              "<style scoped>\n",
              "    .dataframe tbody tr th:only-of-type {\n",
              "        vertical-align: middle;\n",
              "    }\n",
              "\n",
              "    .dataframe tbody tr th {\n",
              "        vertical-align: top;\n",
              "    }\n",
              "\n",
              "    .dataframe thead th {\n",
              "        text-align: right;\n",
              "    }\n",
              "</style>\n",
              "<table border=\"1\" class=\"dataframe\">\n",
              "  <thead>\n",
              "    <tr style=\"text-align: right;\">\n",
              "      <th></th>\n",
              "      <th>Classifier</th>\n",
              "      <th>f1-Score</th>\n",
              "    </tr>\n",
              "  </thead>\n",
              "  <tbody>\n",
              "    <tr>\n",
              "      <th>0</th>\n",
              "      <td>LogisticRegression</td>\n",
              "      <td>0.7916</td>\n",
              "    </tr>\n",
              "    <tr>\n",
              "      <th>1</th>\n",
              "      <td>DecisionTreeClassifier</td>\n",
              "      <td>0.7649</td>\n",
              "    </tr>\n",
              "    <tr>\n",
              "      <th>2</th>\n",
              "      <td>RandomForestClassifier</td>\n",
              "      <td>0.8210</td>\n",
              "    </tr>\n",
              "  </tbody>\n",
              "</table>\n",
              "</div>\n",
              "    <div class=\"colab-df-buttons\">\n",
              "\n",
              "  <div class=\"colab-df-container\">\n",
              "    <button class=\"colab-df-convert\" onclick=\"convertToInteractive('df-dc014aab-adaa-4906-9824-dc21fac101e2')\"\n",
              "            title=\"Convert this dataframe to an interactive table.\"\n",
              "            style=\"display:none;\">\n",
              "\n",
              "  <svg xmlns=\"http://www.w3.org/2000/svg\" height=\"24px\" viewBox=\"0 -960 960 960\">\n",
              "    <path d=\"M120-120v-720h720v720H120Zm60-500h600v-160H180v160Zm220 220h160v-160H400v160Zm0 220h160v-160H400v160ZM180-400h160v-160H180v160Zm440 0h160v-160H620v160ZM180-180h160v-160H180v160Zm440 0h160v-160H620v160Z\"/>\n",
              "  </svg>\n",
              "    </button>\n",
              "\n",
              "  <style>\n",
              "    .colab-df-container {\n",
              "      display:flex;\n",
              "      gap: 12px;\n",
              "    }\n",
              "\n",
              "    .colab-df-convert {\n",
              "      background-color: #E8F0FE;\n",
              "      border: none;\n",
              "      border-radius: 50%;\n",
              "      cursor: pointer;\n",
              "      display: none;\n",
              "      fill: #1967D2;\n",
              "      height: 32px;\n",
              "      padding: 0 0 0 0;\n",
              "      width: 32px;\n",
              "    }\n",
              "\n",
              "    .colab-df-convert:hover {\n",
              "      background-color: #E2EBFA;\n",
              "      box-shadow: 0px 1px 2px rgba(60, 64, 67, 0.3), 0px 1px 3px 1px rgba(60, 64, 67, 0.15);\n",
              "      fill: #174EA6;\n",
              "    }\n",
              "\n",
              "    .colab-df-buttons div {\n",
              "      margin-bottom: 4px;\n",
              "    }\n",
              "\n",
              "    [theme=dark] .colab-df-convert {\n",
              "      background-color: #3B4455;\n",
              "      fill: #D2E3FC;\n",
              "    }\n",
              "\n",
              "    [theme=dark] .colab-df-convert:hover {\n",
              "      background-color: #434B5C;\n",
              "      box-shadow: 0px 1px 3px 1px rgba(0, 0, 0, 0.15);\n",
              "      filter: drop-shadow(0px 1px 2px rgba(0, 0, 0, 0.3));\n",
              "      fill: #FFFFFF;\n",
              "    }\n",
              "  </style>\n",
              "\n",
              "    <script>\n",
              "      const buttonEl =\n",
              "        document.querySelector('#df-dc014aab-adaa-4906-9824-dc21fac101e2 button.colab-df-convert');\n",
              "      buttonEl.style.display =\n",
              "        google.colab.kernel.accessAllowed ? 'block' : 'none';\n",
              "\n",
              "      async function convertToInteractive(key) {\n",
              "        const element = document.querySelector('#df-dc014aab-adaa-4906-9824-dc21fac101e2');\n",
              "        const dataTable =\n",
              "          await google.colab.kernel.invokeFunction('convertToInteractive',\n",
              "                                                    [key], {});\n",
              "        if (!dataTable) return;\n",
              "\n",
              "        const docLinkHtml = 'Like what you see? Visit the ' +\n",
              "          '<a target=\"_blank\" href=https://colab.research.google.com/notebooks/data_table.ipynb>data table notebook</a>'\n",
              "          + ' to learn more about interactive tables.';\n",
              "        element.innerHTML = '';\n",
              "        dataTable['output_type'] = 'display_data';\n",
              "        await google.colab.output.renderOutput(dataTable, element);\n",
              "        const docLink = document.createElement('div');\n",
              "        docLink.innerHTML = docLinkHtml;\n",
              "        element.appendChild(docLink);\n",
              "      }\n",
              "    </script>\n",
              "  </div>\n",
              "\n",
              "\n",
              "<div id=\"df-6627d52f-1b1c-4364-9ff6-c36f1a13bc3b\">\n",
              "  <button class=\"colab-df-quickchart\" onclick=\"quickchart('df-6627d52f-1b1c-4364-9ff6-c36f1a13bc3b')\"\n",
              "            title=\"Suggest charts\"\n",
              "            style=\"display:none;\">\n",
              "\n",
              "<svg xmlns=\"http://www.w3.org/2000/svg\" height=\"24px\"viewBox=\"0 0 24 24\"\n",
              "     width=\"24px\">\n",
              "    <g>\n",
              "        <path d=\"M19 3H5c-1.1 0-2 .9-2 2v14c0 1.1.9 2 2 2h14c1.1 0 2-.9 2-2V5c0-1.1-.9-2-2-2zM9 17H7v-7h2v7zm4 0h-2V7h2v10zm4 0h-2v-4h2v4z\"/>\n",
              "    </g>\n",
              "</svg>\n",
              "  </button>\n",
              "\n",
              "<style>\n",
              "  .colab-df-quickchart {\n",
              "      --bg-color: #E8F0FE;\n",
              "      --fill-color: #1967D2;\n",
              "      --hover-bg-color: #E2EBFA;\n",
              "      --hover-fill-color: #174EA6;\n",
              "      --disabled-fill-color: #AAA;\n",
              "      --disabled-bg-color: #DDD;\n",
              "  }\n",
              "\n",
              "  [theme=dark] .colab-df-quickchart {\n",
              "      --bg-color: #3B4455;\n",
              "      --fill-color: #D2E3FC;\n",
              "      --hover-bg-color: #434B5C;\n",
              "      --hover-fill-color: #FFFFFF;\n",
              "      --disabled-bg-color: #3B4455;\n",
              "      --disabled-fill-color: #666;\n",
              "  }\n",
              "\n",
              "  .colab-df-quickchart {\n",
              "    background-color: var(--bg-color);\n",
              "    border: none;\n",
              "    border-radius: 50%;\n",
              "    cursor: pointer;\n",
              "    display: none;\n",
              "    fill: var(--fill-color);\n",
              "    height: 32px;\n",
              "    padding: 0;\n",
              "    width: 32px;\n",
              "  }\n",
              "\n",
              "  .colab-df-quickchart:hover {\n",
              "    background-color: var(--hover-bg-color);\n",
              "    box-shadow: 0 1px 2px rgba(60, 64, 67, 0.3), 0 1px 3px 1px rgba(60, 64, 67, 0.15);\n",
              "    fill: var(--button-hover-fill-color);\n",
              "  }\n",
              "\n",
              "  .colab-df-quickchart-complete:disabled,\n",
              "  .colab-df-quickchart-complete:disabled:hover {\n",
              "    background-color: var(--disabled-bg-color);\n",
              "    fill: var(--disabled-fill-color);\n",
              "    box-shadow: none;\n",
              "  }\n",
              "\n",
              "  .colab-df-spinner {\n",
              "    border: 2px solid var(--fill-color);\n",
              "    border-color: transparent;\n",
              "    border-bottom-color: var(--fill-color);\n",
              "    animation:\n",
              "      spin 1s steps(1) infinite;\n",
              "  }\n",
              "\n",
              "  @keyframes spin {\n",
              "    0% {\n",
              "      border-color: transparent;\n",
              "      border-bottom-color: var(--fill-color);\n",
              "      border-left-color: var(--fill-color);\n",
              "    }\n",
              "    20% {\n",
              "      border-color: transparent;\n",
              "      border-left-color: var(--fill-color);\n",
              "      border-top-color: var(--fill-color);\n",
              "    }\n",
              "    30% {\n",
              "      border-color: transparent;\n",
              "      border-left-color: var(--fill-color);\n",
              "      border-top-color: var(--fill-color);\n",
              "      border-right-color: var(--fill-color);\n",
              "    }\n",
              "    40% {\n",
              "      border-color: transparent;\n",
              "      border-right-color: var(--fill-color);\n",
              "      border-top-color: var(--fill-color);\n",
              "    }\n",
              "    60% {\n",
              "      border-color: transparent;\n",
              "      border-right-color: var(--fill-color);\n",
              "    }\n",
              "    80% {\n",
              "      border-color: transparent;\n",
              "      border-right-color: var(--fill-color);\n",
              "      border-bottom-color: var(--fill-color);\n",
              "    }\n",
              "    90% {\n",
              "      border-color: transparent;\n",
              "      border-bottom-color: var(--fill-color);\n",
              "    }\n",
              "  }\n",
              "</style>\n",
              "\n",
              "  <script>\n",
              "    async function quickchart(key) {\n",
              "      const quickchartButtonEl =\n",
              "        document.querySelector('#' + key + ' button');\n",
              "      quickchartButtonEl.disabled = true;  // To prevent multiple clicks.\n",
              "      quickchartButtonEl.classList.add('colab-df-spinner');\n",
              "      try {\n",
              "        const charts = await google.colab.kernel.invokeFunction(\n",
              "            'suggestCharts', [key], {});\n",
              "      } catch (error) {\n",
              "        console.error('Error during call to suggestCharts:', error);\n",
              "      }\n",
              "      quickchartButtonEl.classList.remove('colab-df-spinner');\n",
              "      quickchartButtonEl.classList.add('colab-df-quickchart-complete');\n",
              "    }\n",
              "    (() => {\n",
              "      let quickchartButtonEl =\n",
              "        document.querySelector('#df-6627d52f-1b1c-4364-9ff6-c36f1a13bc3b button');\n",
              "      quickchartButtonEl.style.display =\n",
              "        google.colab.kernel.accessAllowed ? 'block' : 'none';\n",
              "    })();\n",
              "  </script>\n",
              "</div>\n",
              "\n",
              "  <div id=\"id_088f2555-f5d6-4ed8-9571-646c5008dfd8\">\n",
              "    <style>\n",
              "      .colab-df-generate {\n",
              "        background-color: #E8F0FE;\n",
              "        border: none;\n",
              "        border-radius: 50%;\n",
              "        cursor: pointer;\n",
              "        display: none;\n",
              "        fill: #1967D2;\n",
              "        height: 32px;\n",
              "        padding: 0 0 0 0;\n",
              "        width: 32px;\n",
              "      }\n",
              "\n",
              "      .colab-df-generate:hover {\n",
              "        background-color: #E2EBFA;\n",
              "        box-shadow: 0px 1px 2px rgba(60, 64, 67, 0.3), 0px 1px 3px 1px rgba(60, 64, 67, 0.15);\n",
              "        fill: #174EA6;\n",
              "      }\n",
              "\n",
              "      [theme=dark] .colab-df-generate {\n",
              "        background-color: #3B4455;\n",
              "        fill: #D2E3FC;\n",
              "      }\n",
              "\n",
              "      [theme=dark] .colab-df-generate:hover {\n",
              "        background-color: #434B5C;\n",
              "        box-shadow: 0px 1px 3px 1px rgba(0, 0, 0, 0.15);\n",
              "        filter: drop-shadow(0px 1px 2px rgba(0, 0, 0, 0.3));\n",
              "        fill: #FFFFFF;\n",
              "      }\n",
              "    </style>\n",
              "    <button class=\"colab-df-generate\" onclick=\"generateWithVariable('scores_df')\"\n",
              "            title=\"Generate code using this dataframe.\"\n",
              "            style=\"display:none;\">\n",
              "\n",
              "  <svg xmlns=\"http://www.w3.org/2000/svg\" height=\"24px\"viewBox=\"0 0 24 24\"\n",
              "       width=\"24px\">\n",
              "    <path d=\"M7,19H8.4L18.45,9,17,7.55,7,17.6ZM5,21V16.75L18.45,3.32a2,2,0,0,1,2.83,0l1.4,1.43a1.91,1.91,0,0,1,.58,1.4,1.91,1.91,0,0,1-.58,1.4L9.25,21ZM18.45,9,17,7.55Zm-12,3A5.31,5.31,0,0,0,4.9,8.1,5.31,5.31,0,0,0,1,6.5,5.31,5.31,0,0,0,4.9,4.9,5.31,5.31,0,0,0,6.5,1,5.31,5.31,0,0,0,8.1,4.9,5.31,5.31,0,0,0,12,6.5,5.46,5.46,0,0,0,6.5,12Z\"/>\n",
              "  </svg>\n",
              "    </button>\n",
              "    <script>\n",
              "      (() => {\n",
              "      const buttonEl =\n",
              "        document.querySelector('#id_088f2555-f5d6-4ed8-9571-646c5008dfd8 button.colab-df-generate');\n",
              "      buttonEl.style.display =\n",
              "        google.colab.kernel.accessAllowed ? 'block' : 'none';\n",
              "\n",
              "      buttonEl.onclick = () => {\n",
              "        google.colab.notebook.generateWithVariable('scores_df');\n",
              "      }\n",
              "      })();\n",
              "    </script>\n",
              "  </div>\n",
              "\n",
              "    </div>\n",
              "  </div>\n"
            ],
            "application/vnd.google.colaboratory.intrinsic+json": {
              "type": "dataframe",
              "variable_name": "scores_df",
              "summary": "{\n  \"name\": \"scores_df\",\n  \"rows\": 3,\n  \"fields\": [\n    {\n      \"column\": \"Classifier\",\n      \"properties\": {\n        \"dtype\": \"string\",\n        \"num_unique_values\": 3,\n        \"samples\": [\n          \"LogisticRegression\",\n          \"DecisionTreeClassifier\",\n          \"RandomForestClassifier\"\n        ],\n        \"semantic_type\": \"\",\n        \"description\": \"\"\n      }\n    },\n    {\n      \"column\": \"f1-Score\",\n      \"properties\": {\n        \"dtype\": \"number\",\n        \"std\": 0.02806082678753422,\n        \"min\": 0.7649,\n        \"max\": 0.821,\n        \"num_unique_values\": 3,\n        \"samples\": [\n          0.7916,\n          0.7649,\n          0.821\n        ],\n        \"semantic_type\": \"\",\n        \"description\": \"\"\n      }\n    }\n  ]\n}"
            }
          },
          "metadata": {},
          "execution_count": 142
        }
      ]
    },
    {
      "cell_type": "markdown",
      "metadata": {
        "id": "returning-bones"
      },
      "source": [
        "#### Apply the voting classifier"
      ],
      "id": "returning-bones"
    },
    {
      "cell_type": "code",
      "metadata": {
        "id": "fuzzy-respondent",
        "colab": {
          "base_uri": "https://localhost:8080/"
        },
        "outputId": "81026420-a9da-4450-9bba-2eabd48aedb7"
      },
      "source": [
        "# YOUR CODE HERE\n",
        "voting_clf = VotingClassifier(estimators=[('lr', LogisticRegression()),\\\n",
        "                                          ('dt', DecisionTreeClassifier()),\\\n",
        "                                          ('rf', RandomForestClassifier(n_estimators=10, random_state=42, max_features=\"sqrt\"))],\\\n",
        "                               voting='hard')\n",
        "voting_clf.fit(X_train, y_train)\n",
        "y_pred = voting_clf.predict(X_test)\n",
        "print(\"f1-Score with hard voting = \",round(f1_score(y_test, y_pred, average='weighted'), 4))"
      ],
      "id": "fuzzy-respondent",
      "execution_count": null,
      "outputs": [
        {
          "output_type": "stream",
          "name": "stdout",
          "text": [
            "f1-Score with hard voting =  0.8241\n"
          ]
        }
      ]
    },
    {
      "cell_type": "markdown",
      "metadata": {
        "id": "6p1MHeY9oYqB"
      },
      "source": [
        "### Train the model with TESS + Ravdess + Team recorded data (4 points)\n",
        "\n",
        "* Record the audio samples (team data), extract features and combine with TESS + Ravdess data features\n",
        "  - Record and gather all the team data samples with proper naming convention in separate folder\n",
        "\n",
        "    **Hint:** Follow the supplementary notebook to record team data\n",
        "\n",
        "  - Each team member must record 2 samples for each emotion (Use similar sentences as given in TESS data)\n",
        "\n",
        "* Train the different ML algorithms and find the model with best performance"
      ],
      "id": "6p1MHeY9oYqB"
    },
    {
      "cell_type": "markdown",
      "metadata": {
        "id": "M4In88rvtVmb"
      },
      "source": [
        "#### Load the team data"
      ],
      "id": "M4In88rvtVmb"
    },
    {
      "cell_type": "code",
      "metadata": {
        "id": "nna7EZMRaKCI"
      },
      "source": [
        "# YOUR CODE HERE"
      ],
      "id": "nna7EZMRaKCI",
      "execution_count": null,
      "outputs": []
    },
    {
      "cell_type": "markdown",
      "metadata": {
        "id": "awnyYAic36V0"
      },
      "source": [
        "#### Extracting features of team data and combine with TESS + Ravdess"
      ],
      "id": "awnyYAic36V0"
    },
    {
      "cell_type": "code",
      "metadata": {
        "id": "15br8qPwa2a6"
      },
      "source": [
        "# YOUR CODE HERE"
      ],
      "id": "15br8qPwa2a6",
      "execution_count": null,
      "outputs": []
    },
    {
      "cell_type": "markdown",
      "metadata": {
        "id": "w-ulIdIdtkDB"
      },
      "source": [
        "#### Train the different ML algorithms"
      ],
      "id": "w-ulIdIdtkDB"
    },
    {
      "cell_type": "code",
      "metadata": {
        "id": "xuUx7UTFtjIs"
      },
      "source": [
        "# YOUR CODE HERE"
      ],
      "id": "xuUx7UTFtjIs",
      "execution_count": null,
      "outputs": []
    },
    {
      "cell_type": "markdown",
      "metadata": {
        "id": "iMl0sRhXtXzL"
      },
      "source": [
        "#### Test the best working model with live audio recording"
      ],
      "id": "iMl0sRhXtXzL"
    },
    {
      "cell_type": "code",
      "metadata": {
        "id": "4znf9-pcTbUB",
        "colab": {
          "base_uri": "https://localhost:8080/",
          "height": 106
        },
        "outputId": "4bf47768-786f-416f-f861-c195a47360c4"
      },
      "source": [
        "# choose the best working model and assign below\n",
        "MODEL ="
      ],
      "id": "4znf9-pcTbUB",
      "execution_count": null,
      "outputs": [
        {
          "output_type": "error",
          "ename": "SyntaxError",
          "evalue": "invalid syntax (<ipython-input-19-cb1d6d9ed38c>, line 2)",
          "traceback": [
            "\u001b[0;36m  File \u001b[0;32m\"<ipython-input-19-cb1d6d9ed38c>\"\u001b[0;36m, line \u001b[0;32m2\u001b[0m\n\u001b[0;31m    MODEL =\u001b[0m\n\u001b[0m           ^\u001b[0m\n\u001b[0;31mSyntaxError\u001b[0m\u001b[0;31m:\u001b[0m invalid syntax\n"
          ]
        }
      ]
    },
    {
      "cell_type": "code",
      "metadata": {
        "cellView": "form",
        "id": "2d598770"
      },
      "source": [
        "#@title Speak the utterance and test\n",
        "from IPython.display import Javascript\n",
        "from google.colab import output\n",
        "from base64 import b64decode\n",
        "\n",
        "RECORD = \"\"\"\n",
        "const sleep  = time => new Promise(resolve => setTimeout(resolve, time))\n",
        "const b2text = blob => new Promise(resolve => {\n",
        "  const reader = new FileReader()\n",
        "  reader.onloadend = e => resolve(e.srcElement.result)\n",
        "  reader.readAsDataURL(blob)\n",
        "})\n",
        "var record = time => new Promise(async resolve => {\n",
        "  stream = await navigator.mediaDevices.getUserMedia({ audio: true })\n",
        "  recorder = new MediaRecorder(stream)\n",
        "  chunks = []\n",
        "  recorder.ondataavailable = e => chunks.push(e.data)\n",
        "  recorder.start()\n",
        "  await sleep(time)\n",
        "  recorder.onstop = async ()=>{\n",
        "    blob = new Blob(chunks)\n",
        "    text = await b2text(blob)\n",
        "    resolve(text)\n",
        "  }\n",
        "  recorder.stop()\n",
        "})\n",
        "\"\"\"\n",
        "\n",
        "if not os.path.exists('ModelTesting/'):\n",
        "    os.mkdir(\"ModelTesting/\")\n",
        "def record(sec=3):\n",
        "    print(\"Start speaking!\")\n",
        "    now = datetime.now()\n",
        "    current_time = now.strftime(\"%Y-%m-%d_%H-%M-%S\")\n",
        "    display(Javascript(RECORD))\n",
        "    s = output.eval_js('record(%d)' % (sec*1000))\n",
        "    b = b64decode(s.split(',')[1])\n",
        "    with open('ModelTesting/audio_'+current_time+'.wav','wb') as f:\n",
        "        f.write(b)\n",
        "    return 'ModelTesting/audio_'+current_time+'.wav'\n",
        "test_i = record()\n",
        "pred = MODEL.predict(extract_feature(test_i).reshape(1,-1))\n",
        "idx_emotion = list(emotions.values()).index(pred[0])\n",
        "print(list(emotions.keys())[idx_emotion])\n",
        "ipd.Audio(test_i)"
      ],
      "id": "2d598770",
      "execution_count": null,
      "outputs": []
    },
    {
      "cell_type": "markdown",
      "metadata": {
        "id": "K7n58VaeWKGu"
      },
      "source": [
        "### Report Analysis\n",
        "\n",
        "- Report the accuracy for 10 live samples using the model trained on TESS+Ravdess+Team data\n",
        "- Discuss with the team mentor regarding deep learnt audio features. Read a related article [here](https://ieeexplore.ieee.org/stamp/stamp.jsp?arnumber=8805181).\n"
      ],
      "id": "K7n58VaeWKGu"
    }
  ]
}