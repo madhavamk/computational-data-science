{
  "nbformat": 4,
  "nbformat_minor": 5,
  "metadata": {
    "colab": {
      "provenance": []
    },
    "kernelspec": {
      "display_name": "Python 3",
      "language": "python",
      "name": "python3"
    },
    "language_info": {
      "codemirror_mode": {
        "name": "ipython",
        "version": 3
      },
      "file_extension": ".py",
      "mimetype": "text/x-python",
      "name": "python",
      "nbconvert_exporter": "python",
      "pygments_lexer": "ipython3",
      "version": "3.6.9"
    }
  },
  "cells": [
    {
      "cell_type": "markdown",
      "metadata": {
        "id": "associate-sunset"
      },
      "source": [
        "# Advanced Certification Program in Computational Data Science\n",
        "## A program by IISc and TalentSprint\n",
        "### Mini-Project: Speech Emotion Classification"
      ],
      "id": "associate-sunset"
    },
    {
      "cell_type": "markdown",
      "metadata": {
        "id": "handled-tooth"
      },
      "source": [
        "## Problem Statement"
      ],
      "id": "handled-tooth"
    },
    {
      "cell_type": "markdown",
      "metadata": {
        "id": "accessory-watts"
      },
      "source": [
        "Build a model to recognize emotion from speech using Ensemble learning"
      ],
      "id": "accessory-watts"
    },
    {
      "cell_type": "markdown",
      "metadata": {
        "id": "twenty-indonesia"
      },
      "source": [
        "## Learning Objectives"
      ],
      "id": "twenty-indonesia"
    },
    {
      "cell_type": "markdown",
      "metadata": {
        "id": "honest-friendship"
      },
      "source": [
        "At the end of the mini-project, you will be able to :\n",
        "\n",
        "* extract the features from audio data\n",
        "* implement ML classification algorithms individually and as Ensembles, to classify emotions\n",
        "* record the voice sample and test it with trained model"
      ],
      "id": "honest-friendship"
    },
    {
      "cell_type": "markdown",
      "metadata": {
        "id": "lesbian-bottom"
      },
      "source": [
        "## Dataset"
      ],
      "id": "lesbian-bottom"
    },
    {
      "cell_type": "markdown",
      "metadata": {
        "id": "fixed-trainer"
      },
      "source": [
        "**TESS Dataset**\n",
        "\n",
        "The first dataset chosen for this mini-project is the [TESS](https://dataverse.scholarsportal.info/dataset.xhtml?persistentId=doi:10.5683/SP2/E8H2MF) (Toronto emotional speech set) dataset. It contains 2880 files.  A set of 200 target words were spoken in the carrier phrase \"Say the word _____' by two actresses and the sets were recorded in seven different emotions (anger, disgust, fear, happiness, pleasant surprise, sadness, and neutral). Both actresses spoke English as their first language, were university educated, and had musical training. Audiometric testing indicated that both actresses had thresholds within the normal range."
      ],
      "id": "fixed-trainer"
    },
    {
      "cell_type": "markdown",
      "metadata": {
        "id": "Roo5A2aLVI07"
      },
      "source": [
        "**Ravdess Dataset**\n",
        "\n",
        "The second dataset chosen for this mini-project is [Ravdess](https://zenodo.org/record/1188976#.YLczy4XivIU) (The Ryerson Audio-Visual Database of Emotional Speech and Song). This dataset contains 1440 files: 60 trials per actor x 24 actors = 1440. The RAVDESS contains 24 professional actors (12 female, 12 male), vocalizing two lexically-matched statements in a neutral North American accent. Speech emotions includes calm, happy, sad, angry, fearful, surprise, and disgust expressions. Each expression is produced at two levels of emotional intensity (normal, strong), with an additional neutral expression.\n",
        "\n",
        "**File naming convention**\n",
        "\n",
        "Each of the 1440 files has a unique filename. The filename consists of a 7-part numerical identifier (e.g., 03-01-06-01-02-01-12.wav). These identifiers define the stimulus characteristics:\n",
        "\n",
        "**Filename identifiers**\n",
        "\n",
        "* Modality (01 = full-AV, 02 = video-only, 03 = audio-only).\n",
        "* Vocal channel (01 = speech, 02 = song).\n",
        "* Emotion (01 = neutral, 02 = calm, 03 = happy, 04 = sad, 05 = angry, 06 = fearful, 07 = disgust, 08 = surprised).\n",
        "* Emotional intensity (01 = normal, 02 = strong). NOTE: There is no strong intensity for the 'neutral' emotion.\n",
        "* Statement (01 = \"Kids are talking by the door\", 02 = \"Dogs are sitting by the door\").\n",
        "* Repetition (01 = 1st repetition, 02 = 2nd repetition).\n",
        "* Actor (01 to 24. Odd numbered actors are male, even numbered actors are female).\n",
        "\n",
        "Filename example: `03-01-06-01-02-01-12.wav`\n",
        "\n",
        "    - Audio-only - 03\n",
        "    - Speech - 01\n",
        "    - Fearful - 06\n",
        "    - Normal intensity - 01\n",
        "    - Statement \"dogs\" - 02\n",
        "    - 1st Repetition - 01\n",
        "    - 12th Actor - 12 Female, as the actor ID number is even."
      ],
      "id": "Roo5A2aLVI07"
    },
    {
      "cell_type": "markdown",
      "metadata": {
        "id": "GIR6a6TvVnRY"
      },
      "source": [
        "## Information"
      ],
      "id": "GIR6a6TvVnRY"
    },
    {
      "cell_type": "markdown",
      "metadata": {
        "id": "mediterranean-february"
      },
      "source": [
        "**Speech Emotion Recognition (SER)** is the task of recognizing the emotion from  speech, irrespective of the semantics. Humans can efficiently perform this task as a natural part of speech communication, however, the ability to conduct it automatically using programmable devices is a field of active research.\n",
        "\n",
        "Studies of automatic emotion recognition systems aim to create efficient, real-time methods of detecting the emotions of mobile phone users, call center operators and customers, car drivers, pilots, and many other human-machine communication users. Adding emotions to machines forms an important aspect of making machines appear and act in a human-like manner\n",
        "\n",
        "Lets gain familiarity with some of the audio based features that are commonly used for SER.\n",
        "\n",
        "**Mel scale** — The mel scale (derived from the word *melody*) is a perceptual scale of pitches judged by listeners to be equal in distance from one another. The reference point between this scale and normal frequency measurement is defined by assigning a perceptual pitch of 1000 mels to a 1000 Hz tone, 40 dB above the listener's threshold. Above about 500 Hz, increasingly large intervals are judged by listeners to produce equal pitch increments. Refer [here](https://towardsdatascience.com/learning-from-audio-the-mel-scale-mel-spectrograms-and-mel-frequency-cepstral-coefficients-f5752b6324a8) for more detailed information.\n",
        "\n",
        "**Pitch** — how high or low a sound is. It depends on frequency, higher pitch is high frequency\n",
        "\n",
        "**Frequency** — speed of vibration of sound, measures wave cycles per second\n",
        "\n",
        "**Chroma** — Representation for audio where spectrum is projected onto 12 bins representing the 12 distinct semitones (or chroma). Computed by summing the log frequency magnitude spectrum across octaves.\n",
        "\n",
        "**Fourier Transforms** — used to convert from time domain to frequency domain. Time domain shows how signal changes over time. Frequency domain shows how much of the signal lies within each given frequency band over a range of frequencies"
      ],
      "id": "mediterranean-february"
    },
    {
      "cell_type": "markdown",
      "metadata": {
        "id": "Q5a6Dz9wCxOc"
      },
      "source": [
        "**Librosa**\n",
        "\n",
        "[Librosa](https://librosa.org/doc/latest/index.html) is a Python package, built for speech and audio analytics. It provides modular functions that simplify working with audio data and help in achieving a wide range of applications such as identification of the personal characteristics of different individuals' voice samples, detecting emotions from audio samples etc.\n",
        "\n",
        "For further details on the Librosa package, refer [here](https://conference.scipy.org/proceedings/scipy2015/pdfs/brian_mcfee.pdf).\n"
      ],
      "id": "Q5a6Dz9wCxOc"
    },
    {
      "cell_type": "markdown",
      "source": [
        "### **Kaggle Competition**"
      ],
      "metadata": {
        "id": "3fjmaAe32Z_K"
      },
      "id": "3fjmaAe32Z_K"
    },
    {
      "cell_type": "markdown",
      "source": [
        "Please refer to the link for viewing the\n",
        "[Kaggle Competition Document](https://drive.google.com/file/d/1V3Y8Q3M03Atn9oM1zqmW6jpuzSYm445e/view?usp=drive_link) and join the Kaggle Competition using the hyperlink given in this document under '*Kaggle* Competition site'.\n"
      ],
      "metadata": {
        "id": "y4yw7Ewy09Ut"
      },
      "id": "y4yw7Ewy09Ut"
    },
    {
      "cell_type": "markdown",
      "metadata": {
        "id": "operating-latter"
      },
      "source": [
        "## Grading = 10 Points"
      ],
      "id": "operating-latter"
    },
    {
      "cell_type": "code",
      "metadata": {
        "id": "talented-upset",
        "colab": {
          "base_uri": "https://localhost:8080/"
        },
        "outputId": "4a7dcc05-dae4-41d0-d3ab-b400510c58ab"
      },
      "source": [
        "#@title Download the datasets and install packages\n",
        "!wget -qq https://cdn.iisc.talentsprint.com/CDS/MiniProjects/Ravdess_Tess.zip\n",
        "!unzip -qq Ravdess_Tess.zip\n",
        "# Install packages\n",
        "!pip -qq install librosa soundfile\n",
        "!pip -qq install wavio\n",
        "print(\"Datasets downloaded successfully!\")"
      ],
      "id": "talented-upset",
      "execution_count": null,
      "outputs": [
        {
          "output_type": "stream",
          "name": "stdout",
          "text": [
            "Datasets downloaded successfully!\n"
          ]
        }
      ]
    },
    {
      "cell_type": "markdown",
      "metadata": {
        "id": "appreciated-pattern"
      },
      "source": [
        "### Import Neccesary Packages"
      ],
      "id": "appreciated-pattern"
    },
    {
      "cell_type": "code",
      "metadata": {
        "id": "loose-marsh"
      },
      "source": [
        "import librosa\n",
        "import librosa.display\n",
        "import soundfile\n",
        "import os, glob, pickle\n",
        "import numpy as np\n",
        "import pandas as pd\n",
        "import IPython.display as ipd\n",
        "from matplotlib import pyplot as plt\n",
        "from datetime import datetime\n",
        "from IPython.display import Javascript\n",
        "from google.colab import output\n",
        "from base64 import b64decode\n",
        "import warnings\n",
        "warnings.filterwarnings('ignore')\n",
        "# sklearn\n",
        "from sklearn.model_selection import train_test_split\n",
        "from sklearn.metrics import accuracy_score, f1_score\n",
        "from sklearn.linear_model import LogisticRegression\n",
        "from sklearn.tree import DecisionTreeClassifier\n",
        "from sklearn.ensemble import RandomForestClassifier\n",
        "from sklearn.svm import SVC\n",
        "from sklearn import tree\n",
        "from sklearn.ensemble import VotingClassifier"
      ],
      "id": "loose-marsh",
      "execution_count": null,
      "outputs": []
    },
    {
      "cell_type": "markdown",
      "metadata": {
        "id": "2vxa85gvorY5"
      },
      "source": [
        "### Work-Flow\n",
        "\n",
        "* Load the TESS audio data and extract features and labels\n",
        "\n",
        "* Load the Ravdess audio data and extract features\n",
        "\n",
        "* Combine both the audio dataset features\n",
        "\n",
        "* Train and test the model with TESS + Ravdess Data\n",
        "\n",
        "* Record the team audio samples and add them to TESS + Ravdess data\n",
        "\n",
        "* Train and test the model with TESS + Ravdess + Team Recorded (combined) data\n",
        "\n",
        "* Test each of the models with live audio sample recording."
      ],
      "id": "2vxa85gvorY5"
    },
    {
      "cell_type": "markdown",
      "metadata": {
        "id": "compressed-reflection"
      },
      "source": [
        "### Load the Tess data and Ravdess data audio files (1 point)\n",
        "\n",
        "Hint: `glob.glob`"
      ],
      "id": "compressed-reflection"
    },
    {
      "cell_type": "code",
      "metadata": {
        "id": "518e945a",
        "colab": {
          "base_uri": "https://localhost:8080/"
        },
        "outputId": "acd0b8b8-f8ef-4bb6-863a-8d167b770951"
      },
      "source": [
        "# YOUR CODE HERE\n",
        "tess_wav_files = glob.glob(\"Tess/*/*.wav\")\n",
        "print(\"Number of wav files with Tess data = \",len(tess_wav_files))\n",
        "\n",
        "ravdess_wav_files = glob.glob(\"ravdess/*/*.wav\")\n",
        "print(\"Number of wav files with Ravdess data = \",len(ravdess_wav_files))"
      ],
      "id": "518e945a",
      "execution_count": null,
      "outputs": [
        {
          "output_type": "stream",
          "name": "stdout",
          "text": [
            "Number of wav files with Tess data =  2679\n",
            "Number of wav files with Ravdess data =  1168\n"
          ]
        }
      ]
    },
    {
      "cell_type": "markdown",
      "metadata": {
        "id": "sound-chest"
      },
      "source": [
        "#### Play the sample audio"
      ],
      "id": "sound-chest"
    },
    {
      "cell_type": "code",
      "metadata": {
        "id": "personalized-wildlife",
        "colab": {
          "base_uri": "https://localhost:8080/",
          "height": 75
        },
        "outputId": "c02b170c-4e60-4ebf-b978-d83d83b29ba1"
      },
      "source": [
        "# YOUR CODE HERE\n",
        "ipd.Audio(tess_wav_files[50])"
      ],
      "id": "personalized-wildlife",
      "execution_count": null,
      "outputs": [
        {
          "output_type": "execute_result",
          "data": {
            "text/plain": [
              "<IPython.lib.display.Audio object>"
            ],
            "text/html": [
              "\n",
              "                <audio  controls=\"controls\" >\n",
              "                    <source src=\"data:audio/x-wav;base64,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\" type=\"audio/x-wav\" />\n",
              "                    Your browser does not support the audio element.\n",
              "                </audio>\n",
              "              "
            ]
          },
          "metadata": {},
          "execution_count": 26
        }
      ]
    },
    {
      "cell_type": "markdown",
      "metadata": {
        "id": "exposed-county"
      },
      "source": [
        "### Data Exploration and Visualization (1 point)"
      ],
      "id": "exposed-county"
    },
    {
      "cell_type": "markdown",
      "metadata": {
        "id": "hungry-cleaner"
      },
      "source": [
        "#### Visualize the distribution of all the labels"
      ],
      "id": "hungry-cleaner"
    },
    {
      "cell_type": "code",
      "metadata": {
        "id": "orange-taiwan",
        "colab": {
          "base_uri": "https://localhost:8080/",
          "height": 496
        },
        "outputId": "c83aa842-ecc0-4835-a792-fa58e5aaaf69"
      },
      "source": [
        "# YOUR CODE HERE\n",
        "DIR = 'Tess'\n",
        "emotions_dir_tess = os.listdir(DIR)\n",
        "# Need to ignore hidden files\n",
        "emotions_dir_tess = [d for d in emotions_dir_tess if not d.startswith('.')]\n",
        "\n",
        "# Code to calculate emotion counts\n",
        "mapping = {}\n",
        "for emotion in emotions_dir_tess:\n",
        "    emotion_counter = len(glob.glob(\"Tess/\"+emotion+\"/*.wav\"))\n",
        "    emotion = emotion.split(\"_\")[-1].lower()\n",
        "    if emotion not in mapping:\n",
        "        mapping[emotion] = emotion_counter\n",
        "    else:\n",
        "        mapping[emotion]+=emotion_counter\n",
        "print(mapping)\n",
        "\n",
        "# Create dataframe from dictionary and plot the graph\n",
        "tess_label_df = pd.DataFrame.from_dict(mapping, orient='index')\n",
        "tess_label_df.columns = ['Count']\n",
        "tess_label_df.plot(kind='bar', figsize=(12, 4), title=\"Distribution of emotions in TESS data\",xlabel='Emotions',ylabel='Count')"
      ],
      "id": "orange-taiwan",
      "execution_count": null,
      "outputs": [
        {
          "output_type": "stream",
          "name": "stdout",
          "text": [
            "{'neutral': 378, 'angry': 382, 'disgust': 391, 'fear': 379, 'sad': 379, 'happy': 383, 'surprised': 387}\n"
          ]
        },
        {
          "output_type": "execute_result",
          "data": {
            "text/plain": [
              "<Axes: title={'center': 'Distribution of emotions in TESS data'}, xlabel='Emotions', ylabel='Count'>"
            ]
          },
          "metadata": {},
          "execution_count": 6
        },
        {
          "output_type": "display_data",
          "data": {
            "text/plain": [
              "<Figure size 1200x400 with 1 Axes>"
            ],
            "image/png": "[encoded data removed]"
          },
          "metadata": {}
        }
      ]
    },
    {
      "cell_type": "code",
      "source": [
        "# Same experiment as above, but now for ravdess data\n",
        "# Emotion (01 = neutral, 02 = calm, 03 = happy, 04 = sad, 05 = angry, 06 = fearful, 07 = disgust, 08 = surprised).\n",
        "ravdess_emotions_mapping = {}\n",
        "# Code to calculate emotion counts\n",
        "for file_name in ravdess_wav_files:\n",
        "    emotion = file_name.split(\"_\")[-1].split(\".\")[0]\n",
        "    if emotion not in ravdess_emotions_mapping:\n",
        "        ravdess_emotions_mapping[emotion] = 1\n",
        "    else:\n",
        "        ravdess_emotions_mapping[emotion]+=1\n",
        "print(ravdess_emotions_mapping)\n",
        "\n",
        "# Create dataframe from dictionary and plot the graph\n",
        "ravdess_label_df = pd.DataFrame.from_dict(ravdess_emotions_mapping, orient='index')\n",
        "ravdess_label_df.columns = ['Count']\n",
        "ravdess_label_df\n",
        "ravdess_label_df.plot(kind='bar', figsize=(12, 4), title=\"Distribution of emotions in Ravdess data\",xlabel='Emotions',ylabel='Count')"
      ],
      "metadata": {
        "colab": {
          "base_uri": "https://localhost:8080/",
          "height": 496
        },
        "id": "ylN4U3t72U7V",
        "outputId": "36cd934c-7c02-40e7-8017-6b8a7704faa9"
      },
      "id": "ylN4U3t72U7V",
      "execution_count": null,
      "outputs": [
        {
          "output_type": "stream",
          "name": "stdout",
          "text": [
            "{'neutral': 88, 'surprised': 182, 'fear': 182, 'happy': 174, 'angry': 179, 'disgust': 180, 'sad': 183}\n"
          ]
        },
        {
          "output_type": "execute_result",
          "data": {
            "text/plain": [
              "<Axes: title={'center': 'Distribution of emotions in Ravdess data'}, xlabel='Emotions', ylabel='Count'>"
            ]
          },
          "metadata": {},
          "execution_count": 7
        },
        {
          "output_type": "display_data",
          "data": {
            "text/plain": [
              "<Figure size 1200x400 with 1 Axes>"
            ],
            "image/png": "[encoded data removed]"
          },
          "metadata": {}
        }
      ]
    },
    {
      "cell_type": "markdown",
      "metadata": {
        "id": "established-airfare"
      },
      "source": [
        "#### Visualize sample audio signal using librosa"
      ],
      "id": "established-airfare"
    },
    {
      "cell_type": "code",
      "metadata": {
        "id": "outstanding-caribbean",
        "colab": {
          "base_uri": "https://localhost:8080/",
          "height": 405
        },
        "outputId": "d87e2e0c-b09d-4016-8611-5baaa8136b36"
      },
      "source": [
        "# YOUR CODE HERE\n",
        "sample_audio_tess = tess_wav_files[0]\n",
        "signal, sr = librosa.load(sample_audio_tess)\n",
        "plt.figure(figsize=(12, 4))\n",
        "librosa.display.waveshow(signal, sr=sr)"
      ],
      "id": "outstanding-caribbean",
      "execution_count": null,
      "outputs": [
        {
          "output_type": "execute_result",
          "data": {
            "text/plain": [
              "<librosa.display.AdaptiveWaveplot at 0x7e561d4f0670>"
            ]
          },
          "metadata": {},
          "execution_count": 8
        },
        {
          "output_type": "display_data",
          "data": {
            "text/plain": [
              "<Figure size 1200x400 with 1 Axes>"
            ],
            "image/png": "[encoded data removed]"
          },
          "metadata": {}
        }
      ]
    },
    {
      "cell_type": "markdown",
      "source": [],
      "metadata": {
        "id": "iLGUahy9zTsd"
      },
      "id": "iLGUahy9zTsd"
    },
    {
      "cell_type": "markdown",
      "metadata": {
        "id": "medical-confidence"
      },
      "source": [
        "### Feature extraction (2 points)\n",
        "\n",
        "Read one WAV file at a time using `Librosa`. An audio time series in the form of a 1-dimensional array for mono or 2-dimensional array for stereo, along with time sampling rate (which defines the length of the array), where the elements within each of the arrays represent the amplitude of the sound waves is returned by `librosa.load()` function. Refer to the supplementary notebook ('Audio feature extraction')\n",
        "\n",
        "To know more about Librosa, explore the [link](https://librosa.org/doc/latest/feature.html)"
      ],
      "id": "medical-confidence"
    },
    {
      "cell_type": "code",
      "metadata": {
        "id": "piano-accent",
        "colab": {
          "base_uri": "https://localhost:8080/"
        },
        "outputId": "e292368d-bbc2-4609-eafe-d03559061d0c"
      },
      "source": [
        "# YOUR CODE HERE\n",
        "def extract_feature(file_name):\n",
        "    # load audio\n",
        "    X, sample_rate = librosa.load(file_name)\n",
        "    # apply stft()\n",
        "    stft=np.abs(librosa.stft(X))\n",
        "    result=np.array([])\n",
        "    # compute mfcc\n",
        "    mfccs=np.mean(librosa.feature.mfcc(y=X, sr=sample_rate, n_mfcc=40).T,axis=0)\n",
        "    # combine the features\n",
        "    result=np.hstack((result, mfccs))\n",
        "    # compute chroma features and combine\n",
        "    chroma=np.mean(librosa.feature.chroma_stft(S=stft, sr=sample_rate).T,axis=0)\n",
        "    result=np.hstack((result, chroma))\n",
        "    # compute melspectrogram and combine\n",
        "    mel=np.mean(librosa.feature.melspectrogram(y=X, sr=sample_rate).T,axis=0)\n",
        "    result=np.hstack((result, mel))\n",
        "    return result\n",
        "\n",
        "sample_feature = extract_feature(tess_wav_files[0])\n",
        "print(sample_feature)"
      ],
      "id": "piano-accent",
      "execution_count": null,
      "outputs": [
        {
          "output_type": "stream",
          "name": "stdout",
          "text": [
            "[-5.28863586e+02  7.74060211e+01  1.98190346e+01  1.34678288e+01\n",
            "  1.77977047e+01  1.00460520e+01 -1.02124176e+01 -7.16691971e+00\n",
            " -1.23640223e+01 -4.13166571e+00 -8.15282917e+00 -2.07190824e+00\n",
            " -4.14942694e+00  7.52070999e+00  7.85685349e+00  1.38112092e+00\n",
            " -1.24013972e+00  8.25511646e+00 -1.85732782e+00 -1.12676716e+00\n",
            "  2.99673963e+00  1.73102987e+00 -2.10328341e+00 -1.36840984e-01\n",
            " -5.44516706e+00 -2.21565843e-01 -6.44104576e+00  1.55300355e+00\n",
            " -2.07769319e-01 -2.55658448e-01 -6.56120968e+00 -2.67497969e+00\n",
            " -5.12537193e+00 -5.54831252e-02  1.10423918e+01  2.05957737e+01\n",
            "  2.58404827e+01  2.99914608e+01  2.32394314e+01  1.69898663e+01\n",
            "  3.84688884e-01  4.06529933e-01  3.04515362e-01  2.55046278e-01\n",
            "  3.29820335e-01  5.51392317e-01  7.16595292e-01  5.28649211e-01\n",
            "  2.95348108e-01  2.64235198e-01  3.04954767e-01  3.20647836e-01\n",
            "  3.49786058e-02  9.33827192e-04  4.20723263e-05  3.38951759e-05\n",
            "  1.85297773e-04  8.30147117e-02  4.70197856e-01  1.48681730e-01\n",
            "  2.14959844e-03  8.98081285e-04  7.68535887e-04  1.78383233e-03\n",
            "  1.43968731e-01  1.19913971e+00  1.09275782e+00  7.93127343e-02\n",
            "  9.32212919e-03  2.47964566e-03  5.18807070e-03  1.70870751e-01\n",
            "  2.29466483e-01  1.47836626e-01  2.03840826e-02  6.53430878e-04\n",
            "  4.09220302e-05  6.54056610e-04  6.20254362e-03  8.80106166e-03\n",
            "  4.42203507e-03  1.18825422e-03  1.86404723e-04  2.56107251e-05\n",
            "  2.82502966e-04  1.39638991e-03  5.33004990e-03  9.00163781e-03\n",
            "  3.63262207e-03  1.60919153e-03  3.51902563e-04  3.20828141e-04\n",
            "  6.21634070e-04  3.06817424e-03  1.81063695e-03  2.16952700e-04\n",
            "  1.55878603e-04  3.13008059e-04  1.74676534e-03  5.31749800e-03\n",
            "  5.04483050e-03  2.74178019e-04  2.38091729e-04  6.83138845e-04\n",
            "  6.08380418e-03  2.23458186e-03  2.15243708e-04  5.50513447e-04\n",
            "  1.94076647e-03  1.95348961e-03  1.32904958e-03  1.09898578e-03\n",
            "  1.36687956e-03  8.10347672e-04  2.04772013e-03  8.31842539e-04\n",
            "  1.79510273e-04  9.80821089e-04  1.49179751e-03  1.03653350e-03\n",
            "  2.71329103e-04  3.46792192e-04  2.42324008e-04  3.54226999e-04\n",
            "  3.86323285e-04  3.49649083e-04  7.74157816e-04  9.28509340e-04\n",
            "  5.04010939e-04  2.02815121e-04  1.24304788e-04  9.58285455e-05\n",
            "  8.65397524e-05  6.45713662e-05  3.17271297e-05  3.06201146e-05\n",
            "  4.31421140e-05  3.81728460e-05  4.36040391e-05  5.00041606e-05\n",
            "  1.27954583e-04  2.20981310e-04  4.52685606e-04  7.77257723e-04\n",
            "  2.22718387e-04  2.66698014e-04  2.74054357e-04  3.41467414e-04\n",
            "  2.23930751e-04  1.92447100e-04  1.10927052e-04  9.06332352e-05\n",
            "  9.31219256e-05  1.60839656e-04  1.80955714e-04  1.13284390e-04\n",
            "  1.31877736e-04  1.26889412e-04  1.38176809e-04  1.89403159e-04\n",
            "  1.22174737e-04  1.54591049e-04  1.84292367e-04  1.97271846e-04\n",
            "  2.70851655e-04  3.43630440e-04  2.07710895e-04  1.25535415e-04\n",
            "  1.51090120e-04  1.28101849e-04  1.16723604e-04  9.14018237e-05\n",
            "  5.96666869e-05  3.32060226e-05  2.56892090e-05  2.25135118e-05\n",
            "  2.04787830e-05  2.00678842e-05  1.53806959e-05  1.59992828e-06]\n"
          ]
        }
      ]
    },
    {
      "cell_type": "markdown",
      "metadata": {
        "id": "7d3bd640"
      },
      "source": [
        "#### Create a dictionary or a function to encode the emotions"
      ],
      "id": "7d3bd640"
    },
    {
      "cell_type": "code",
      "metadata": {
        "id": "c0c8d44d"
      },
      "source": [
        "# YOUR CODE HERE\n",
        "# Ravdess Emotion (01 = neutral, 02 = calm, 03 = happy, 04 = sad, 05 = angry, 06 = fearful, 07 = disgust, 08 = surprised).\n",
        "emotions = {'neutral': 1, 'calm': 2, 'happy': 3, 'sad': 4, 'angry': 5, 'fear': 6, 'disgust': 7, 'surprised': 8}"
      ],
      "id": "c0c8d44d",
      "execution_count": null,
      "outputs": []
    },
    {
      "cell_type": "markdown",
      "metadata": {
        "id": "coupled-villa"
      },
      "source": [
        "#### TESS data feature extraction"
      ],
      "id": "coupled-villa"
    },
    {
      "cell_type": "code",
      "metadata": {
        "id": "quarterly-adrian",
        "colab": {
          "base_uri": "https://localhost:8080/"
        },
        "outputId": "ac1a871d-48a3-4d87-e18e-e7180b8b3a5e"
      },
      "source": [
        "# YOUR CODE HERE\n",
        "import time\n",
        "features, labels = [], []\n",
        "\n",
        "begin = time.time()\n",
        "for wv_file in tess_wav_files:\n",
        "  features.append(extract_feature(wv_file))\n",
        "  # extracting label\n",
        "  emt = wv_file.split(\"_\")[-1].split(\".\")[0].lower()\n",
        "  labels.append(emotions[emt])\n",
        "end = time.time()\n",
        "print(\"Time taken = \",end-begin)\n",
        "print(\"Feature len = \\n\",len(features))\n",
        "print(\"Label len = \\n\",len(labels))"
      ],
      "id": "quarterly-adrian",
      "execution_count": null,
      "outputs": [
        {
          "output_type": "stream",
          "name": "stdout",
          "text": [
            "Time taken =  110.6531023979187\n",
            "Feature len = \n",
            " 2679\n",
            "Label len = \n",
            " 2679\n"
          ]
        }
      ]
    },
    {
      "cell_type": "code",
      "source": [
        "import multiprocessing\n",
        "\n",
        "def tess_feature_extraction():\n",
        "    features, labels = [], []\n",
        "\n",
        "    # Get CPU count to set to multiprocessing, since feature extraction is CPU bound\n",
        "    num_cores = os.cpu_count()\n",
        "\n",
        "    begin = time.time()\n",
        "\n",
        "    with multiprocessing.Pool(processes=num_cores) as p:\n",
        "        features = p.map(extract_feature, tess_wav_files)\n",
        "\n",
        "    labels = [emotions[wv_file.split(\"_\")[-1].split(\".\")[0].lower()] for wv_file in tess_wav_files]\n",
        "    end = time.time()\n",
        "    print(\"Time taken = \",end-begin)\n",
        "    print(\"Feature len = \",len(features))\n",
        "    print(\"Label len = \",len(labels))\n",
        "    # Convert list to nparray to use with sklearn models\n",
        "    return np.array(features), np.array(labels)"
      ],
      "metadata": {
        "id": "i7EykQTvCi89"
      },
      "id": "i7EykQTvCi89",
      "execution_count": null,
      "outputs": []
    },
    {
      "cell_type": "markdown",
      "metadata": {
        "id": "qKzclsG-FnW6"
      },
      "source": [
        "#### Ravdess data feature extraction"
      ],
      "id": "qKzclsG-FnW6"
    },
    {
      "cell_type": "code",
      "metadata": {
        "id": "iDwNOgKEIH3w"
      },
      "source": [
        "# YOUR CODE HERE\n",
        "def ravdess_feature_extraction():\n",
        "    features, labels = [], []\n",
        "\n",
        "    # Get CPU count to set to multiprocessing, since feature extraction is CPU bound\n",
        "    num_cores = os.cpu_count()\n",
        "\n",
        "    begin = time.time()\n",
        "\n",
        "    with multiprocessing.Pool(processes=num_cores) as p:\n",
        "        features = p.map(extract_feature, ravdess_wav_files)\n",
        "\n",
        "    labels = [emotions[wv_file.split(\"_\")[-1].split(\".\")[0].lower()] for wv_file in ravdess_wav_files]\n",
        "    features = np.array(features)\n",
        "    labels = np.array(labels)\n",
        "    end = time.time()\n",
        "    print(\"Time taken = \",end-begin)\n",
        "    print(\"Feature len = \",len(features))\n",
        "    print(\"Label len = \",len(labels))\n",
        "    return np.array(features), np.array(labels)"
      ],
      "id": "iDwNOgKEIH3w",
      "execution_count": null,
      "outputs": []
    },
    {
      "cell_type": "markdown",
      "metadata": {
        "id": "2bb62f16"
      },
      "source": [
        "#### Save the features\n",
        "\n",
        "It is best advised to save the features in dataframe and maintain so that feature extraction step is not required to be performed every time.\n",
        "\n",
        "* Make a DataFrame with features and labels\n",
        "\n",
        "* Write dataframe into `.CSV` file and save it offline."
      ],
      "id": "2bb62f16"
    },
    {
      "cell_type": "code",
      "metadata": {
        "id": "9ec91c16",
        "colab": {
          "base_uri": "https://localhost:8080/"
        },
        "outputId": "429e26d3-5dd9-4454-b3a8-fa93edf6c454"
      },
      "source": [
        "# YOUR CODE HERE\n",
        "features_tess, labels_tess = tess_feature_extraction()\n",
        "features_ravdess, labels_ravdess = ravdess_feature_extraction()\n",
        "features = np.concatenate((features_tess, features_ravdess), axis = 0)\n",
        "labels = np.concatenate((labels_tess, labels_ravdess), axis = 0)\n",
        "audio_df = pd.DataFrame(features)\n",
        "audio_df['labels'] = labels\n",
        "audio_df.to_csv('audio_df.csv', index=False)"
      ],
      "id": "9ec91c16",
      "execution_count": null,
      "outputs": [
        {
          "output_type": "stream",
          "name": "stdout",
          "text": [
            "Time taken =  123.45345187187195\n",
            "Feature len =  2679\n",
            "Label len =  2679\n",
            "Time taken =  80.76307606697083\n",
            "Feature len =  1168\n",
            "Label len =  1168\n"
          ]
        }
      ]
    },
    {
      "cell_type": "code",
      "source": [
        "audio_df.head()"
      ],
      "metadata": {
        "colab": {
          "base_uri": "https://localhost:8080/"
        },
        "id": "g8n0iBo8ktCk",
        "outputId": "0d92fadc-4a1f-4c19-b9f8-0b5634bf89f6"
      },
      "id": "g8n0iBo8ktCk",
      "execution_count": null,
      "outputs": [
        {
          "output_type": "execute_result",
          "data": {
            "text/plain": [
              "            0          1          2          3          4          5  \\\n",
              "0 -528.863586  77.406021  19.819035  13.467829  17.797705  10.046052   \n",
              "1 -524.200928  86.737610  25.892908   1.311756  10.933764  11.307652   \n",
              "2 -512.681885  70.710739  21.652393   5.391153   4.470291   9.780643   \n",
              "3 -491.804016  58.376278  21.934565   3.832941   7.473547   5.797229   \n",
              "4 -550.185303  85.116425  29.159952   8.951355   1.991111   4.661215   \n",
              "\n",
              "           6          7          8         9  ...       171       172  \\\n",
              "0 -10.212418  -7.166920 -12.364022 -4.131666  ...  0.000091  0.000060   \n",
              "1  -8.304229 -11.137603 -13.848552 -1.341452  ...  0.000064  0.000070   \n",
              "2   0.202148  -7.281607 -14.735679 -3.199114  ...  0.000130  0.000056   \n",
              "3  -5.079426  -7.950385 -15.208168  3.807522  ...  0.000199  0.000158   \n",
              "4  -0.452658  -3.736976 -11.550377  4.053781  ...  0.000033  0.000032   \n",
              "\n",
              "        173       174       175       176       177       178       179  \\\n",
              "0  0.000033  0.000026  0.000023  0.000020  0.000020  0.000015  0.000002   \n",
              "1  0.000041  0.000031  0.000029  0.000023  0.000032  0.000014  0.000001   \n",
              "2  0.000054  0.000058  0.000039  0.000027  0.000031  0.000017  0.000001   \n",
              "3  0.000177  0.000128  0.000107  0.000100  0.000099  0.000053  0.000004   \n",
              "4  0.000030  0.000030  0.000031  0.000037  0.000040  0.000021  0.000002   \n",
              "\n",
              "   labels  \n",
              "0       1  \n",
              "1       1  \n",
              "2       1  \n",
              "3       1  \n",
              "4       1  \n",
              "\n",
              "[5 rows x 181 columns]"
            ],
            "text/html": [
              "\n",
              "  <div id=\"df-d0c496b7-6af6-4310-9e8b-8744874525c3\" class=\"colab-df-container\">\n",
              "    <div>\n",
              "<style scoped>\n",
              "    .dataframe tbody tr th:only-of-type {\n",
              "        vertical-align: middle;\n",
              "    }\n",
              "\n",
              "    .dataframe tbody tr th {\n",
              "        vertical-align: top;\n",
              "    }\n",
              "\n",
              "    .dataframe thead th {\n",
              "        text-align: right;\n",
              "    }\n",
              "</style>\n",
              "<table border=\"1\" class=\"dataframe\">\n",
              "  <thead>\n",
              "    <tr style=\"text-align: right;\">\n",
              "      <th></th>\n",
              "      <th>0</th>\n",
              "      <th>1</th>\n",
              "      <th>2</th>\n",
              "      <th>3</th>\n",
              "      <th>4</th>\n",
              "      <th>5</th>\n",
              "      <th>6</th>\n",
              "      <th>7</th>\n",
              "      <th>8</th>\n",
              "      <th>9</th>\n",
              "      <th>...</th>\n",
              "      <th>171</th>\n",
              "      <th>172</th>\n",
              "      <th>173</th>\n",
              "      <th>174</th>\n",
              "      <th>175</th>\n",
              "      <th>176</th>\n",
              "      <th>177</th>\n",
              "      <th>178</th>\n",
              "      <th>179</th>\n",
              "      <th>labels</th>\n",
              "    </tr>\n",
              "  </thead>\n",
              "  <tbody>\n",
              "    <tr>\n",
              "      <th>0</th>\n",
              "      <td>-528.863586</td>\n",
              "      <td>77.406021</td>\n",
              "      <td>19.819035</td>\n",
              "      <td>13.467829</td>\n",
              "      <td>17.797705</td>\n",
              "      <td>10.046052</td>\n",
              "      <td>-10.212418</td>\n",
              "      <td>-7.166920</td>\n",
              "      <td>-12.364022</td>\n",
              "      <td>-4.131666</td>\n",
              "      <td>...</td>\n",
              "      <td>0.000091</td>\n",
              "      <td>0.000060</td>\n",
              "      <td>0.000033</td>\n",
              "      <td>0.000026</td>\n",
              "      <td>0.000023</td>\n",
              "      <td>0.000020</td>\n",
              "      <td>0.000020</td>\n",
              "      <td>0.000015</td>\n",
              "      <td>0.000002</td>\n",
              "      <td>1</td>\n",
              "    </tr>\n",
              "    <tr>\n",
              "      <th>1</th>\n",
              "      <td>-524.200928</td>\n",
              "      <td>86.737610</td>\n",
              "      <td>25.892908</td>\n",
              "      <td>1.311756</td>\n",
              "      <td>10.933764</td>\n",
              "      <td>11.307652</td>\n",
              "      <td>-8.304229</td>\n",
              "      <td>-11.137603</td>\n",
              "      <td>-13.848552</td>\n",
              "      <td>-1.341452</td>\n",
              "      <td>...</td>\n",
              "      <td>0.000064</td>\n",
              "      <td>0.000070</td>\n",
              "      <td>0.000041</td>\n",
              "      <td>0.000031</td>\n",
              "      <td>0.000029</td>\n",
              "      <td>0.000023</td>\n",
              "      <td>0.000032</td>\n",
              "      <td>0.000014</td>\n",
              "      <td>0.000001</td>\n",
              "      <td>1</td>\n",
              "    </tr>\n",
              "    <tr>\n",
              "      <th>2</th>\n",
              "      <td>-512.681885</td>\n",
              "      <td>70.710739</td>\n",
              "      <td>21.652393</td>\n",
              "      <td>5.391153</td>\n",
              "      <td>4.470291</td>\n",
              "      <td>9.780643</td>\n",
              "      <td>0.202148</td>\n",
              "      <td>-7.281607</td>\n",
              "      <td>-14.735679</td>\n",
              "      <td>-3.199114</td>\n",
              "      <td>...</td>\n",
              "      <td>0.000130</td>\n",
              "      <td>0.000056</td>\n",
              "      <td>0.000054</td>\n",
              "      <td>0.000058</td>\n",
              "      <td>0.000039</td>\n",
              "      <td>0.000027</td>\n",
              "      <td>0.000031</td>\n",
              "      <td>0.000017</td>\n",
              "      <td>0.000001</td>\n",
              "      <td>1</td>\n",
              "    </tr>\n",
              "    <tr>\n",
              "      <th>3</th>\n",
              "      <td>-491.804016</td>\n",
              "      <td>58.376278</td>\n",
              "      <td>21.934565</td>\n",
              "      <td>3.832941</td>\n",
              "      <td>7.473547</td>\n",
              "      <td>5.797229</td>\n",
              "      <td>-5.079426</td>\n",
              "      <td>-7.950385</td>\n",
              "      <td>-15.208168</td>\n",
              "      <td>3.807522</td>\n",
              "      <td>...</td>\n",
              "      <td>0.000199</td>\n",
              "      <td>0.000158</td>\n",
              "      <td>0.000177</td>\n",
              "      <td>0.000128</td>\n",
              "      <td>0.000107</td>\n",
              "      <td>0.000100</td>\n",
              "      <td>0.000099</td>\n",
              "      <td>0.000053</td>\n",
              "      <td>0.000004</td>\n",
              "      <td>1</td>\n",
              "    </tr>\n",
              "    <tr>\n",
              "      <th>4</th>\n",
              "      <td>-550.185303</td>\n",
              "      <td>85.116425</td>\n",
              "      <td>29.159952</td>\n",
              "      <td>8.951355</td>\n",
              "      <td>1.991111</td>\n",
              "      <td>4.661215</td>\n",
              "      <td>-0.452658</td>\n",
              "      <td>-3.736976</td>\n",
              "      <td>-11.550377</td>\n",
              "      <td>4.053781</td>\n",
              "      <td>...</td>\n",
              "      <td>0.000033</td>\n",
              "      <td>0.000032</td>\n",
              "      <td>0.000030</td>\n",
              "      <td>0.000030</td>\n",
              "      <td>0.000031</td>\n",
              "      <td>0.000037</td>\n",
              "      <td>0.000040</td>\n",
              "      <td>0.000021</td>\n",
              "      <td>0.000002</td>\n",
              "      <td>1</td>\n",
              "    </tr>\n",
              "  </tbody>\n",
              "</table>\n",
              "<p>5 rows × 181 columns</p>\n",
              "</div>\n",
              "    <div class=\"colab-df-buttons\">\n",
              "\n",
              "  <div class=\"colab-df-container\">\n",
              "    <button class=\"colab-df-convert\" onclick=\"convertToInteractive('df-d0c496b7-6af6-4310-9e8b-8744874525c3')\"\n",
              "            title=\"Convert this dataframe to an interactive table.\"\n",
              "            style=\"display:none;\">\n",
              "\n",
              "  <svg xmlns=\"http://www.w3.org/2000/svg\" height=\"24px\" viewBox=\"0 -960 960 960\">\n",
              "    <path d=\"M120-120v-720h720v720H120Zm60-500h600v-160H180v160Zm220 220h160v-160H400v160Zm0 220h160v-160H400v160ZM180-400h160v-160H180v160Zm440 0h160v-160H620v160ZM180-180h160v-160H180v160Zm440 0h160v-160H620v160Z\"/>\n",
              "  </svg>\n",
              "    </button>\n",
              "\n",
              "  <style>\n",
              "    .colab-df-container {\n",
              "      display:flex;\n",
              "      gap: 12px;\n",
              "    }\n",
              "\n",
              "    .colab-df-convert {\n",
              "      background-color: #E8F0FE;\n",
              "      border: none;\n",
              "      border-radius: 50%;\n",
              "      cursor: pointer;\n",
              "      display: none;\n",
              "      fill: #1967D2;\n",
              "      height: 32px;\n",
              "      padding: 0 0 0 0;\n",
              "      width: 32px;\n",
              "    }\n",
              "\n",
              "    .colab-df-convert:hover {\n",
              "      background-color: #E2EBFA;\n",
              "      box-shadow: 0px 1px 2px rgba(60, 64, 67, 0.3), 0px 1px 3px 1px rgba(60, 64, 67, 0.15);\n",
              "      fill: #174EA6;\n",
              "    }\n",
              "\n",
              "    .colab-df-buttons div {\n",
              "      margin-bottom: 4px;\n",
              "    }\n",
              "\n",
              "    [theme=dark] .colab-df-convert {\n",
              "      background-color: #3B4455;\n",
              "      fill: #D2E3FC;\n",
              "    }\n",
              "\n",
              "    [theme=dark] .colab-df-convert:hover {\n",
              "      background-color: #434B5C;\n",
              "      box-shadow: 0px 1px 3px 1px rgba(0, 0, 0, 0.15);\n",
              "      filter: drop-shadow(0px 1px 2px rgba(0, 0, 0, 0.3));\n",
              "      fill: #FFFFFF;\n",
              "    }\n",
              "  </style>\n",
              "\n",
              "    <script>\n",
              "      const buttonEl =\n",
              "        document.querySelector('#df-d0c496b7-6af6-4310-9e8b-8744874525c3 button.colab-df-convert');\n",
              "      buttonEl.style.display =\n",
              "        google.colab.kernel.accessAllowed ? 'block' : 'none';\n",
              "\n",
              "      async function convertToInteractive(key) {\n",
              "        const element = document.querySelector('#df-d0c496b7-6af6-4310-9e8b-8744874525c3');\n",
              "        const dataTable =\n",
              "          await google.colab.kernel.invokeFunction('convertToInteractive',\n",
              "                                                    [key], {});\n",
              "        if (!dataTable) return;\n",
              "\n",
              "        const docLinkHtml = 'Like what you see? Visit the ' +\n",
              "          '<a target=\"_blank\" href=https://colab.research.google.com/notebooks/data_table.ipynb>data table notebook</a>'\n",
              "          + ' to learn more about interactive tables.';\n",
              "        element.innerHTML = '';\n",
              "        dataTable['output_type'] = 'display_data';\n",
              "        await google.colab.output.renderOutput(dataTable, element);\n",
              "        const docLink = document.createElement('div');\n",
              "        docLink.innerHTML = docLinkHtml;\n",
              "        element.appendChild(docLink);\n",
              "      }\n",
              "    </script>\n",
              "  </div>\n",
              "\n",
              "\n",
              "<div id=\"df-6f543a45-4eb2-4b41-b4fe-42f5fa906abf\">\n",
              "  <button class=\"colab-df-quickchart\" onclick=\"quickchart('df-6f543a45-4eb2-4b41-b4fe-42f5fa906abf')\"\n",
              "            title=\"Suggest charts\"\n",
              "            style=\"display:none;\">\n",
              "\n",
              "<svg xmlns=\"http://www.w3.org/2000/svg\" height=\"24px\"viewBox=\"0 0 24 24\"\n",
              "     width=\"24px\">\n",
              "    <g>\n",
              "        <path d=\"M19 3H5c-1.1 0-2 .9-2 2v14c0 1.1.9 2 2 2h14c1.1 0 2-.9 2-2V5c0-1.1-.9-2-2-2zM9 17H7v-7h2v7zm4 0h-2V7h2v10zm4 0h-2v-4h2v4z\"/>\n",
              "    </g>\n",
              "</svg>\n",
              "  </button>\n",
              "\n",
              "<style>\n",
              "  .colab-df-quickchart {\n",
              "      --bg-color: #E8F0FE;\n",
              "      --fill-color: #1967D2;\n",
              "      --hover-bg-color: #E2EBFA;\n",
              "      --hover-fill-color: #174EA6;\n",
              "      --disabled-fill-color: #AAA;\n",
              "      --disabled-bg-color: #DDD;\n",
              "  }\n",
              "\n",
              "  [theme=dark] .colab-df-quickchart {\n",
              "      --bg-color: #3B4455;\n",
              "      --fill-color: #D2E3FC;\n",
              "      --hover-bg-color: #434B5C;\n",
              "      --hover-fill-color: #FFFFFF;\n",
              "      --disabled-bg-color: #3B4455;\n",
              "      --disabled-fill-color: #666;\n",
              "  }\n",
              "\n",
              "  .colab-df-quickchart {\n",
              "    background-color: var(--bg-color);\n",
              "    border: none;\n",
              "    border-radius: 50%;\n",
              "    cursor: pointer;\n",
              "    display: none;\n",
              "    fill: var(--fill-color);\n",
              "    height: 32px;\n",
              "    padding: 0;\n",
              "    width: 32px;\n",
              "  }\n",
              "\n",
              "  .colab-df-quickchart:hover {\n",
              "    background-color: var(--hover-bg-color);\n",
              "    box-shadow: 0 1px 2px rgba(60, 64, 67, 0.3), 0 1px 3px 1px rgba(60, 64, 67, 0.15);\n",
              "    fill: var(--button-hover-fill-color);\n",
              "  }\n",
              "\n",
              "  .colab-df-quickchart-complete:disabled,\n",
              "  .colab-df-quickchart-complete:disabled:hover {\n",
              "    background-color: var(--disabled-bg-color);\n",
              "    fill: var(--disabled-fill-color);\n",
              "    box-shadow: none;\n",
              "  }\n",
              "\n",
              "  .colab-df-spinner {\n",
              "    border: 2px solid var(--fill-color);\n",
              "    border-color: transparent;\n",
              "    border-bottom-color: var(--fill-color);\n",
              "    animation:\n",
              "      spin 1s steps(1) infinite;\n",
              "  }\n",
              "\n",
              "  @keyframes spin {\n",
              "    0% {\n",
              "      border-color: transparent;\n",
              "      border-bottom-color: var(--fill-color);\n",
              "      border-left-color: var(--fill-color);\n",
              "    }\n",
              "    20% {\n",
              "      border-color: transparent;\n",
              "      border-left-color: var(--fill-color);\n",
              "      border-top-color: var(--fill-color);\n",
              "    }\n",
              "    30% {\n",
              "      border-color: transparent;\n",
              "      border-left-color: var(--fill-color);\n",
              "      border-top-color: var(--fill-color);\n",
              "      border-right-color: var(--fill-color);\n",
              "    }\n",
              "    40% {\n",
              "      border-color: transparent;\n",
              "      border-right-color: var(--fill-color);\n",
              "      border-top-color: var(--fill-color);\n",
              "    }\n",
              "    60% {\n",
              "      border-color: transparent;\n",
              "      border-right-color: var(--fill-color);\n",
              "    }\n",
              "    80% {\n",
              "      border-color: transparent;\n",
              "      border-right-color: var(--fill-color);\n",
              "      border-bottom-color: var(--fill-color);\n",
              "    }\n",
              "    90% {\n",
              "      border-color: transparent;\n",
              "      border-bottom-color: var(--fill-color);\n",
              "    }\n",
              "  }\n",
              "</style>\n",
              "\n",
              "  <script>\n",
              "    async function quickchart(key) {\n",
              "      const quickchartButtonEl =\n",
              "        document.querySelector('#' + key + ' button');\n",
              "      quickchartButtonEl.disabled = true;  // To prevent multiple clicks.\n",
              "      quickchartButtonEl.classList.add('colab-df-spinner');\n",
              "      try {\n",
              "        const charts = await google.colab.kernel.invokeFunction(\n",
              "            'suggestCharts', [key], {});\n",
              "      } catch (error) {\n",
              "        console.error('Error during call to suggestCharts:', error);\n",
              "      }\n",
              "      quickchartButtonEl.classList.remove('colab-df-spinner');\n",
              "      quickchartButtonEl.classList.add('colab-df-quickchart-complete');\n",
              "    }\n",
              "    (() => {\n",
              "      let quickchartButtonEl =\n",
              "        document.querySelector('#df-6f543a45-4eb2-4b41-b4fe-42f5fa906abf button');\n",
              "      quickchartButtonEl.style.display =\n",
              "        google.colab.kernel.accessAllowed ? 'block' : 'none';\n",
              "    })();\n",
              "  </script>\n",
              "</div>\n",
              "\n",
              "    </div>\n",
              "  </div>\n"
            ],
            "application/vnd.google.colaboratory.intrinsic+json": {
              "type": "dataframe",
              "variable_name": "audio_df"
            }
          },
          "metadata": {},
          "execution_count": 15
        }
      ]
    },
    {
      "cell_type": "markdown",
      "metadata": {
        "id": "aggressive-cause"
      },
      "source": [
        "#### Split the data into train and test"
      ],
      "id": "aggressive-cause"
    },
    {
      "cell_type": "code",
      "metadata": {
        "id": "nearby-angle"
      },
      "source": [
        "# YOUR CODE HERE\n",
        "X_train, X_test, y_train, y_test = train_test_split(features, audio_df['labels'], test_size=0.2, random_state=42)"
      ],
      "id": "nearby-angle",
      "execution_count": null,
      "outputs": []
    },
    {
      "cell_type": "markdown",
      "metadata": {
        "id": "ordered-weapon"
      },
      "source": [
        "### Train the model with TESS + Ravdess data (2 points)\n",
        "\n",
        "* Apply different ML algorithms (eg. DecisionTree, RandomForest, etc.) and find the model with best performance"
      ],
      "id": "ordered-weapon"
    },
    {
      "cell_type": "code",
      "source": [
        "# YOUR CODE HERE\n",
        "# Writing Implementations of different algorithms here\n",
        "def model_predict_evaluate():\n",
        "    classification_models = [\n",
        "    LogisticRegression(),\n",
        "    DecisionTreeClassifier(),\n",
        "    RandomForestClassifier(n_estimators=10, random_state=42, max_features=\"sqrt\")\n",
        "    ]\n",
        "    scores = []\n",
        "    best_model = None\n",
        "    best_score = 0\n",
        "    for model in classification_models:\n",
        "        model.fit(X_train, y_train)\n",
        "        score = f1_score(y_test, model.predict(X_test), average='weighted')\n",
        "        model_name = type(model).__name__\n",
        "        scores.append((model_name,round(score,4)))\n",
        "        if best_model is None or best_score < score:\n",
        "            best_model = model\n",
        "            best_score = score\n",
        "    # Make it pretty\n",
        "    scores_df = pd.DataFrame(scores,columns=['Classifier','f1-Score'])\n",
        "    scores_df.sort_values(by='f1-Score',axis=0,ascending=False)\n",
        "    return scores_df, best_model\n",
        "\n",
        "scores_df, best_model = model_predict_evaluate()\n",
        "print(\"Best model is \",type(best_model).__name__)\n"
      ],
      "metadata": {
        "id": "7m4Icn7ImvGI",
        "colab": {
          "base_uri": "https://localhost:8080/"
        },
        "outputId": "063b7589-c6dd-43ae-c614-5858009c2a4c"
      },
      "id": "7m4Icn7ImvGI",
      "execution_count": 43,
      "outputs": [
        {
          "output_type": "stream",
          "name": "stdout",
          "text": [
            "Best model is  RandomForestClassifier\n"
          ]
        }
      ]
    },
    {
      "cell_type": "code",
      "source": [
        "scores_df"
      ],
      "metadata": {
        "colab": {
          "base_uri": "https://localhost:8080/"
        },
        "id": "obEABhHHm00j",
        "outputId": "d181ce0b-8300-4bfb-e5e9-31e1c3d6b408"
      },
      "id": "obEABhHHm00j",
      "execution_count": null,
      "outputs": [
        {
          "output_type": "execute_result",
          "data": {
            "text/plain": [
              "               Classifier  f1-Score\n",
              "0      LogisticRegression    0.7833\n",
              "1  DecisionTreeClassifier    0.7534\n",
              "2  RandomForestClassifier    0.8312"
            ],
            "text/html": [
              "\n",
              "  <div id=\"df-4f53fe1c-f047-40d6-92b6-aa2ebe834ae4\" class=\"colab-df-container\">\n",
              "    <div>\n",
              "<style scoped>\n",
              "    .dataframe tbody tr th:only-of-type {\n",
              "        vertical-align: middle;\n",
              "    }\n",
              "\n",
              "    .dataframe tbody tr th {\n",
              "        vertical-align: top;\n",
              "    }\n",
              "\n",
              "    .dataframe thead th {\n",
              "        text-align: right;\n",
              "    }\n",
              "</style>\n",
              "<table border=\"1\" class=\"dataframe\">\n",
              "  <thead>\n",
              "    <tr style=\"text-align: right;\">\n",
              "      <th></th>\n",
              "      <th>Classifier</th>\n",
              "      <th>f1-Score</th>\n",
              "    </tr>\n",
              "  </thead>\n",
              "  <tbody>\n",
              "    <tr>\n",
              "      <th>0</th>\n",
              "      <td>LogisticRegression</td>\n",
              "      <td>0.7833</td>\n",
              "    </tr>\n",
              "    <tr>\n",
              "      <th>1</th>\n",
              "      <td>DecisionTreeClassifier</td>\n",
              "      <td>0.7534</td>\n",
              "    </tr>\n",
              "    <tr>\n",
              "      <th>2</th>\n",
              "      <td>RandomForestClassifier</td>\n",
              "      <td>0.8312</td>\n",
              "    </tr>\n",
              "  </tbody>\n",
              "</table>\n",
              "</div>\n",
              "    <div class=\"colab-df-buttons\">\n",
              "\n",
              "  <div class=\"colab-df-container\">\n",
              "    <button class=\"colab-df-convert\" onclick=\"convertToInteractive('df-4f53fe1c-f047-40d6-92b6-aa2ebe834ae4')\"\n",
              "            title=\"Convert this dataframe to an interactive table.\"\n",
              "            style=\"display:none;\">\n",
              "\n",
              "  <svg xmlns=\"http://www.w3.org/2000/svg\" height=\"24px\" viewBox=\"0 -960 960 960\">\n",
              "    <path d=\"M120-120v-720h720v720H120Zm60-500h600v-160H180v160Zm220 220h160v-160H400v160Zm0 220h160v-160H400v160ZM180-400h160v-160H180v160Zm440 0h160v-160H620v160ZM180-180h160v-160H180v160Zm440 0h160v-160H620v160Z\"/>\n",
              "  </svg>\n",
              "    </button>\n",
              "\n",
              "  <style>\n",
              "    .colab-df-container {\n",
              "      display:flex;\n",
              "      gap: 12px;\n",
              "    }\n",
              "\n",
              "    .colab-df-convert {\n",
              "      background-color: #E8F0FE;\n",
              "      border: none;\n",
              "      border-radius: 50%;\n",
              "      cursor: pointer;\n",
              "      display: none;\n",
              "      fill: #1967D2;\n",
              "      height: 32px;\n",
              "      padding: 0 0 0 0;\n",
              "      width: 32px;\n",
              "    }\n",
              "\n",
              "    .colab-df-convert:hover {\n",
              "      background-color: #E2EBFA;\n",
              "      box-shadow: 0px 1px 2px rgba(60, 64, 67, 0.3), 0px 1px 3px 1px rgba(60, 64, 67, 0.15);\n",
              "      fill: #174EA6;\n",
              "    }\n",
              "\n",
              "    .colab-df-buttons div {\n",
              "      margin-bottom: 4px;\n",
              "    }\n",
              "\n",
              "    [theme=dark] .colab-df-convert {\n",
              "      background-color: #3B4455;\n",
              "      fill: #D2E3FC;\n",
              "    }\n",
              "\n",
              "    [theme=dark] .colab-df-convert:hover {\n",
              "      background-color: #434B5C;\n",
              "      box-shadow: 0px 1px 3px 1px rgba(0, 0, 0, 0.15);\n",
              "      filter: drop-shadow(0px 1px 2px rgba(0, 0, 0, 0.3));\n",
              "      fill: #FFFFFF;\n",
              "    }\n",
              "  </style>\n",
              "\n",
              "    <script>\n",
              "      const buttonEl =\n",
              "        document.querySelector('#df-4f53fe1c-f047-40d6-92b6-aa2ebe834ae4 button.colab-df-convert');\n",
              "      buttonEl.style.display =\n",
              "        google.colab.kernel.accessAllowed ? 'block' : 'none';\n",
              "\n",
              "      async function convertToInteractive(key) {\n",
              "        const element = document.querySelector('#df-4f53fe1c-f047-40d6-92b6-aa2ebe834ae4');\n",
              "        const dataTable =\n",
              "          await google.colab.kernel.invokeFunction('convertToInteractive',\n",
              "                                                    [key], {});\n",
              "        if (!dataTable) return;\n",
              "\n",
              "        const docLinkHtml = 'Like what you see? Visit the ' +\n",
              "          '<a target=\"_blank\" href=https://colab.research.google.com/notebooks/data_table.ipynb>data table notebook</a>'\n",
              "          + ' to learn more about interactive tables.';\n",
              "        element.innerHTML = '';\n",
              "        dataTable['output_type'] = 'display_data';\n",
              "        await google.colab.output.renderOutput(dataTable, element);\n",
              "        const docLink = document.createElement('div');\n",
              "        docLink.innerHTML = docLinkHtml;\n",
              "        element.appendChild(docLink);\n",
              "      }\n",
              "    </script>\n",
              "  </div>\n",
              "\n",
              "\n",
              "<div id=\"df-aa84b450-f5d8-4f7d-a546-c0cdf0c5e7de\">\n",
              "  <button class=\"colab-df-quickchart\" onclick=\"quickchart('df-aa84b450-f5d8-4f7d-a546-c0cdf0c5e7de')\"\n",
              "            title=\"Suggest charts\"\n",
              "            style=\"display:none;\">\n",
              "\n",
              "<svg xmlns=\"http://www.w3.org/2000/svg\" height=\"24px\"viewBox=\"0 0 24 24\"\n",
              "     width=\"24px\">\n",
              "    <g>\n",
              "        <path d=\"M19 3H5c-1.1 0-2 .9-2 2v14c0 1.1.9 2 2 2h14c1.1 0 2-.9 2-2V5c0-1.1-.9-2-2-2zM9 17H7v-7h2v7zm4 0h-2V7h2v10zm4 0h-2v-4h2v4z\"/>\n",
              "    </g>\n",
              "</svg>\n",
              "  </button>\n",
              "\n",
              "<style>\n",
              "  .colab-df-quickchart {\n",
              "      --bg-color: #E8F0FE;\n",
              "      --fill-color: #1967D2;\n",
              "      --hover-bg-color: #E2EBFA;\n",
              "      --hover-fill-color: #174EA6;\n",
              "      --disabled-fill-color: #AAA;\n",
              "      --disabled-bg-color: #DDD;\n",
              "  }\n",
              "\n",
              "  [theme=dark] .colab-df-quickchart {\n",
              "      --bg-color: #3B4455;\n",
              "      --fill-color: #D2E3FC;\n",
              "      --hover-bg-color: #434B5C;\n",
              "      --hover-fill-color: #FFFFFF;\n",
              "      --disabled-bg-color: #3B4455;\n",
              "      --disabled-fill-color: #666;\n",
              "  }\n",
              "\n",
              "  .colab-df-quickchart {\n",
              "    background-color: var(--bg-color);\n",
              "    border: none;\n",
              "    border-radius: 50%;\n",
              "    cursor: pointer;\n",
              "    display: none;\n",
              "    fill: var(--fill-color);\n",
              "    height: 32px;\n",
              "    padding: 0;\n",
              "    width: 32px;\n",
              "  }\n",
              "\n",
              "  .colab-df-quickchart:hover {\n",
              "    background-color: var(--hover-bg-color);\n",
              "    box-shadow: 0 1px 2px rgba(60, 64, 67, 0.3), 0 1px 3px 1px rgba(60, 64, 67, 0.15);\n",
              "    fill: var(--button-hover-fill-color);\n",
              "  }\n",
              "\n",
              "  .colab-df-quickchart-complete:disabled,\n",
              "  .colab-df-quickchart-complete:disabled:hover {\n",
              "    background-color: var(--disabled-bg-color);\n",
              "    fill: var(--disabled-fill-color);\n",
              "    box-shadow: none;\n",
              "  }\n",
              "\n",
              "  .colab-df-spinner {\n",
              "    border: 2px solid var(--fill-color);\n",
              "    border-color: transparent;\n",
              "    border-bottom-color: var(--fill-color);\n",
              "    animation:\n",
              "      spin 1s steps(1) infinite;\n",
              "  }\n",
              "\n",
              "  @keyframes spin {\n",
              "    0% {\n",
              "      border-color: transparent;\n",
              "      border-bottom-color: var(--fill-color);\n",
              "      border-left-color: var(--fill-color);\n",
              "    }\n",
              "    20% {\n",
              "      border-color: transparent;\n",
              "      border-left-color: var(--fill-color);\n",
              "      border-top-color: var(--fill-color);\n",
              "    }\n",
              "    30% {\n",
              "      border-color: transparent;\n",
              "      border-left-color: var(--fill-color);\n",
              "      border-top-color: var(--fill-color);\n",
              "      border-right-color: var(--fill-color);\n",
              "    }\n",
              "    40% {\n",
              "      border-color: transparent;\n",
              "      border-right-color: var(--fill-color);\n",
              "      border-top-color: var(--fill-color);\n",
              "    }\n",
              "    60% {\n",
              "      border-color: transparent;\n",
              "      border-right-color: var(--fill-color);\n",
              "    }\n",
              "    80% {\n",
              "      border-color: transparent;\n",
              "      border-right-color: var(--fill-color);\n",
              "      border-bottom-color: var(--fill-color);\n",
              "    }\n",
              "    90% {\n",
              "      border-color: transparent;\n",
              "      border-bottom-color: var(--fill-color);\n",
              "    }\n",
              "  }\n",
              "</style>\n",
              "\n",
              "  <script>\n",
              "    async function quickchart(key) {\n",
              "      const quickchartButtonEl =\n",
              "        document.querySelector('#' + key + ' button');\n",
              "      quickchartButtonEl.disabled = true;  // To prevent multiple clicks.\n",
              "      quickchartButtonEl.classList.add('colab-df-spinner');\n",
              "      try {\n",
              "        const charts = await google.colab.kernel.invokeFunction(\n",
              "            'suggestCharts', [key], {});\n",
              "      } catch (error) {\n",
              "        console.error('Error during call to suggestCharts:', error);\n",
              "      }\n",
              "      quickchartButtonEl.classList.remove('colab-df-spinner');\n",
              "      quickchartButtonEl.classList.add('colab-df-quickchart-complete');\n",
              "    }\n",
              "    (() => {\n",
              "      let quickchartButtonEl =\n",
              "        document.querySelector('#df-aa84b450-f5d8-4f7d-a546-c0cdf0c5e7de button');\n",
              "      quickchartButtonEl.style.display =\n",
              "        google.colab.kernel.accessAllowed ? 'block' : 'none';\n",
              "    })();\n",
              "  </script>\n",
              "</div>\n",
              "\n",
              "  <div id=\"id_8fd59b83-3ef2-4ee3-adb4-bf6d5e104e1f\">\n",
              "    <style>\n",
              "      .colab-df-generate {\n",
              "        background-color: #E8F0FE;\n",
              "        border: none;\n",
              "        border-radius: 50%;\n",
              "        cursor: pointer;\n",
              "        display: none;\n",
              "        fill: #1967D2;\n",
              "        height: 32px;\n",
              "        padding: 0 0 0 0;\n",
              "        width: 32px;\n",
              "      }\n",
              "\n",
              "      .colab-df-generate:hover {\n",
              "        background-color: #E2EBFA;\n",
              "        box-shadow: 0px 1px 2px rgba(60, 64, 67, 0.3), 0px 1px 3px 1px rgba(60, 64, 67, 0.15);\n",
              "        fill: #174EA6;\n",
              "      }\n",
              "\n",
              "      [theme=dark] .colab-df-generate {\n",
              "        background-color: #3B4455;\n",
              "        fill: #D2E3FC;\n",
              "      }\n",
              "\n",
              "      [theme=dark] .colab-df-generate:hover {\n",
              "        background-color: #434B5C;\n",
              "        box-shadow: 0px 1px 3px 1px rgba(0, 0, 0, 0.15);\n",
              "        filter: drop-shadow(0px 1px 2px rgba(0, 0, 0, 0.3));\n",
              "        fill: #FFFFFF;\n",
              "      }\n",
              "    </style>\n",
              "    <button class=\"colab-df-generate\" onclick=\"generateWithVariable('scores_df')\"\n",
              "            title=\"Generate code using this dataframe.\"\n",
              "            style=\"display:none;\">\n",
              "\n",
              "  <svg xmlns=\"http://www.w3.org/2000/svg\" height=\"24px\"viewBox=\"0 0 24 24\"\n",
              "       width=\"24px\">\n",
              "    <path d=\"M7,19H8.4L18.45,9,17,7.55,7,17.6ZM5,21V16.75L18.45,3.32a2,2,0,0,1,2.83,0l1.4,1.43a1.91,1.91,0,0,1,.58,1.4,1.91,1.91,0,0,1-.58,1.4L9.25,21ZM18.45,9,17,7.55Zm-12,3A5.31,5.31,0,0,0,4.9,8.1,5.31,5.31,0,0,0,1,6.5,5.31,5.31,0,0,0,4.9,4.9,5.31,5.31,0,0,0,6.5,1,5.31,5.31,0,0,0,8.1,4.9,5.31,5.31,0,0,0,12,6.5,5.46,5.46,0,0,0,6.5,12Z\"/>\n",
              "  </svg>\n",
              "    </button>\n",
              "    <script>\n",
              "      (() => {\n",
              "      const buttonEl =\n",
              "        document.querySelector('#id_8fd59b83-3ef2-4ee3-adb4-bf6d5e104e1f button.colab-df-generate');\n",
              "      buttonEl.style.display =\n",
              "        google.colab.kernel.accessAllowed ? 'block' : 'none';\n",
              "\n",
              "      buttonEl.onclick = () => {\n",
              "        google.colab.notebook.generateWithVariable('scores_df');\n",
              "      }\n",
              "      })();\n",
              "    </script>\n",
              "  </div>\n",
              "\n",
              "    </div>\n",
              "  </div>\n"
            ],
            "application/vnd.google.colaboratory.intrinsic+json": {
              "type": "dataframe",
              "variable_name": "scores_df",
              "summary": "{\n  \"name\": \"scores_df\",\n  \"rows\": 3,\n  \"fields\": [\n    {\n      \"column\": \"Classifier\",\n      \"properties\": {\n        \"dtype\": \"string\",\n        \"num_unique_values\": 3,\n        \"samples\": [\n          \"LogisticRegression\",\n          \"DecisionTreeClassifier\",\n          \"RandomForestClassifier\"\n        ],\n        \"semantic_type\": \"\",\n        \"description\": \"\"\n      }\n    },\n    {\n      \"column\": \"f1-Score\",\n      \"properties\": {\n        \"dtype\": \"number\",\n        \"std\": 0.039245509297243214,\n        \"min\": 0.7534,\n        \"max\": 0.8312,\n        \"num_unique_values\": 3,\n        \"samples\": [\n          0.7833,\n          0.7534,\n          0.8312\n        ],\n        \"semantic_type\": \"\",\n        \"description\": \"\"\n      }\n    }\n  ]\n}"
            }
          },
          "metadata": {},
          "execution_count": 18
        }
      ]
    },
    {
      "cell_type": "markdown",
      "metadata": {
        "id": "returning-bones"
      },
      "source": [
        "#### Apply the voting classifier"
      ],
      "id": "returning-bones"
    },
    {
      "cell_type": "code",
      "metadata": {
        "id": "fuzzy-respondent",
        "colab": {
          "base_uri": "https://localhost:8080/"
        },
        "outputId": "5e745fbd-417a-4865-bc10-29495acde41a"
      },
      "source": [
        "# YOUR CODE HERE\n",
        "voting_clf = VotingClassifier(estimators=[('lr', LogisticRegression()),\\\n",
        "                                          ('dt', DecisionTreeClassifier()),\\\n",
        "                                          ('rf', RandomForestClassifier(n_estimators=10, random_state=42, max_features=\"sqrt\"))],\\\n",
        "                               voting='hard')\n",
        "voting_clf.fit(X_train, y_train)\n",
        "y_pred = voting_clf.predict(X_test)\n",
        "print(\"f1-Score with hard voting = \",round(f1_score(y_test, y_pred, average='weighted'), 4))"
      ],
      "id": "fuzzy-respondent",
      "execution_count": null,
      "outputs": [
        {
          "output_type": "stream",
          "name": "stdout",
          "text": [
            "f1-Score with hard voting =  0.8219\n"
          ]
        }
      ]
    },
    {
      "cell_type": "markdown",
      "metadata": {
        "id": "6p1MHeY9oYqB"
      },
      "source": [
        "### Train the model with TESS + Ravdess + Team recorded data (4 points)\n",
        "\n",
        "* Record the audio samples (team data), extract features and combine with TESS + Ravdess data features\n",
        "  - Record and gather all the team data samples with proper naming convention in separate folder\n",
        "\n",
        "    **Hint:** Follow the supplementary notebook to record team data\n",
        "\n",
        "  - Each team member must record 2 samples for each emotion (Use similar sentences as given in TESS data)\n",
        "\n",
        "* Train the different ML algorithms and find the model with best performance"
      ],
      "id": "6p1MHeY9oYqB"
    },
    {
      "cell_type": "markdown",
      "metadata": {
        "id": "M4In88rvtVmb"
      },
      "source": [
        "#### Load the team data"
      ],
      "id": "M4In88rvtVmb"
    },
    {
      "cell_type": "code",
      "metadata": {
        "id": "nna7EZMRaKCI",
        "colab": {
          "base_uri": "https://localhost:8080/"
        },
        "outputId": "4e6a2916-7506-4aef-ee0d-aedb502f82c2"
      },
      "source": [
        "# YOUR CODE HERE\n",
        "# !wget -qq https://drive.google.com/file/d/1mn7roYjQ4FoTdTEQ2JIfNrhn2pyhDX7c/view?usp=drive_link\n",
        "!unzip -qq /content/Team15.zip\n",
        "team_15_wav_files = glob.glob(\"Team15/*/*.wav\")\n",
        "print(\"Number of wav files with Team data = \",len(team_15_wav_files))"
      ],
      "id": "nna7EZMRaKCI",
      "execution_count": 31,
      "outputs": [
        {
          "output_type": "stream",
          "name": "stdout",
          "text": [
            "replace Team15/madhava/audio_2024-07-25_17-55-00_surprised.wav? [y]es, [n]o, [A]ll, [N]one, [r]ename: N\n",
            "Number of wav files with Team data =  16\n"
          ]
        }
      ]
    },
    {
      "cell_type": "markdown",
      "metadata": {
        "id": "awnyYAic36V0"
      },
      "source": [
        "#### Extracting features of team data and combine with TESS + Ravdess"
      ],
      "id": "awnyYAic36V0"
    },
    {
      "cell_type": "code",
      "metadata": {
        "id": "15br8qPwa2a6",
        "colab": {
          "base_uri": "https://localhost:8080/"
        },
        "outputId": "23dcc4e5-aa0e-4c43-a1cf-7210a5f7fd11"
      },
      "source": [
        "# YOUR CODE HERE\n",
        "# YOUR CODE HERE\n",
        "def team15_feature_extraction():\n",
        "    features, labels = [], []\n",
        "\n",
        "    # Get CPU count to set to multiprocessing, since feature extraction is CPU bound\n",
        "    num_cores = os.cpu_count()\n",
        "\n",
        "    begin = time.time()\n",
        "\n",
        "    with multiprocessing.Pool(processes=num_cores) as p:\n",
        "        features = p.map(extract_feature, team_15_wav_files)\n",
        "\n",
        "    labels = [emotions[wv_file.split(\"_\")[-1].split(\".\")[0].lower()] for wv_file in team_15_wav_files]\n",
        "    features = np.array(features)\n",
        "    labels = np.array(labels)\n",
        "    end = time.time()\n",
        "    print(\"Time taken = \",end-begin)\n",
        "    print(\"Feature len = \",len(features))\n",
        "    print(\"Label len = \",len(labels))\n",
        "    return np.array(features), np.array(labels)\n",
        "\n",
        "def combine_team_tess_ravd():\n",
        "    features_team, labels_team = team15_feature_extraction()\n",
        "    features = np.concatenate((features_tess, features_ravdess, features_team), axis = 0)\n",
        "    labels = np.concatenate((labels_tess, labels_ravdess, labels_team), axis = 0)\n",
        "    combined_audio_df = pd.DataFrame(features)\n",
        "    combined_audio_df['labels'] = labels\n",
        "    combined_audio_df.to_csv('combined_audio_df.csv', index=False)\n",
        "    return features, combined_audio_df\n",
        "\n",
        "features, combined_audio_df = combine_team_tess_ravd()"
      ],
      "id": "15br8qPwa2a6",
      "execution_count": 37,
      "outputs": [
        {
          "output_type": "stream",
          "name": "stdout",
          "text": [
            "Time taken =  3.7972381114959717\n",
            "Feature len =  16\n",
            "Label len =  16\n"
          ]
        }
      ]
    },
    {
      "cell_type": "code",
      "source": [
        "combined_audio_df.head()"
      ],
      "metadata": {
        "colab": {
          "base_uri": "https://localhost:8080/",
          "height": 256
        },
        "id": "eZVeWO5RJUJK",
        "outputId": "5e5f226e-d6dc-4c37-cb8f-ebd5985eb4ad"
      },
      "id": "eZVeWO5RJUJK",
      "execution_count": 38,
      "outputs": [
        {
          "output_type": "execute_result",
          "data": {
            "text/plain": [
              "            0          1          2          3          4          5  \\\n",
              "0 -528.863586  77.406021  19.819035  13.467829  17.797705  10.046052   \n",
              "1 -524.200928  86.737610  25.892908   1.311756  10.933764  11.307652   \n",
              "2 -512.681885  70.710739  21.652393   5.391153   4.470291   9.780643   \n",
              "3 -491.804016  58.376278  21.934565   3.832941   7.473547   5.797229   \n",
              "4 -550.185303  85.116425  29.159952   8.951355   1.991111   4.661215   \n",
              "\n",
              "           6          7          8         9  ...       171       172  \\\n",
              "0 -10.212418  -7.166920 -12.364022 -4.131666  ...  0.000091  0.000060   \n",
              "1  -8.304229 -11.137603 -13.848552 -1.341452  ...  0.000064  0.000070   \n",
              "2   0.202148  -7.281607 -14.735679 -3.199114  ...  0.000130  0.000056   \n",
              "3  -5.079426  -7.950385 -15.208168  3.807522  ...  0.000199  0.000158   \n",
              "4  -0.452658  -3.736976 -11.550377  4.053781  ...  0.000033  0.000032   \n",
              "\n",
              "        173       174       175       176       177       178       179  \\\n",
              "0  0.000033  0.000026  0.000023  0.000020  0.000020  0.000015  0.000002   \n",
              "1  0.000041  0.000031  0.000029  0.000023  0.000032  0.000014  0.000001   \n",
              "2  0.000054  0.000058  0.000039  0.000027  0.000031  0.000017  0.000001   \n",
              "3  0.000177  0.000128  0.000107  0.000100  0.000099  0.000053  0.000004   \n",
              "4  0.000030  0.000030  0.000031  0.000037  0.000040  0.000021  0.000002   \n",
              "\n",
              "   labels  \n",
              "0       1  \n",
              "1       1  \n",
              "2       1  \n",
              "3       1  \n",
              "4       1  \n",
              "\n",
              "[5 rows x 181 columns]"
            ],
            "text/html": [
              "\n",
              "  <div id=\"df-ae56c0e6-2d4b-421e-8ae3-fb1d5459e3e4\" class=\"colab-df-container\">\n",
              "    <div>\n",
              "<style scoped>\n",
              "    .dataframe tbody tr th:only-of-type {\n",
              "        vertical-align: middle;\n",
              "    }\n",
              "\n",
              "    .dataframe tbody tr th {\n",
              "        vertical-align: top;\n",
              "    }\n",
              "\n",
              "    .dataframe thead th {\n",
              "        text-align: right;\n",
              "    }\n",
              "</style>\n",
              "<table border=\"1\" class=\"dataframe\">\n",
              "  <thead>\n",
              "    <tr style=\"text-align: right;\">\n",
              "      <th></th>\n",
              "      <th>0</th>\n",
              "      <th>1</th>\n",
              "      <th>2</th>\n",
              "      <th>3</th>\n",
              "      <th>4</th>\n",
              "      <th>5</th>\n",
              "      <th>6</th>\n",
              "      <th>7</th>\n",
              "      <th>8</th>\n",
              "      <th>9</th>\n",
              "      <th>...</th>\n",
              "      <th>171</th>\n",
              "      <th>172</th>\n",
              "      <th>173</th>\n",
              "      <th>174</th>\n",
              "      <th>175</th>\n",
              "      <th>176</th>\n",
              "      <th>177</th>\n",
              "      <th>178</th>\n",
              "      <th>179</th>\n",
              "      <th>labels</th>\n",
              "    </tr>\n",
              "  </thead>\n",
              "  <tbody>\n",
              "    <tr>\n",
              "      <th>0</th>\n",
              "      <td>-528.863586</td>\n",
              "      <td>77.406021</td>\n",
              "      <td>19.819035</td>\n",
              "      <td>13.467829</td>\n",
              "      <td>17.797705</td>\n",
              "      <td>10.046052</td>\n",
              "      <td>-10.212418</td>\n",
              "      <td>-7.166920</td>\n",
              "      <td>-12.364022</td>\n",
              "      <td>-4.131666</td>\n",
              "      <td>...</td>\n",
              "      <td>0.000091</td>\n",
              "      <td>0.000060</td>\n",
              "      <td>0.000033</td>\n",
              "      <td>0.000026</td>\n",
              "      <td>0.000023</td>\n",
              "      <td>0.000020</td>\n",
              "      <td>0.000020</td>\n",
              "      <td>0.000015</td>\n",
              "      <td>0.000002</td>\n",
              "      <td>1</td>\n",
              "    </tr>\n",
              "    <tr>\n",
              "      <th>1</th>\n",
              "      <td>-524.200928</td>\n",
              "      <td>86.737610</td>\n",
              "      <td>25.892908</td>\n",
              "      <td>1.311756</td>\n",
              "      <td>10.933764</td>\n",
              "      <td>11.307652</td>\n",
              "      <td>-8.304229</td>\n",
              "      <td>-11.137603</td>\n",
              "      <td>-13.848552</td>\n",
              "      <td>-1.341452</td>\n",
              "      <td>...</td>\n",
              "      <td>0.000064</td>\n",
              "      <td>0.000070</td>\n",
              "      <td>0.000041</td>\n",
              "      <td>0.000031</td>\n",
              "      <td>0.000029</td>\n",
              "      <td>0.000023</td>\n",
              "      <td>0.000032</td>\n",
              "      <td>0.000014</td>\n",
              "      <td>0.000001</td>\n",
              "      <td>1</td>\n",
              "    </tr>\n",
              "    <tr>\n",
              "      <th>2</th>\n",
              "      <td>-512.681885</td>\n",
              "      <td>70.710739</td>\n",
              "      <td>21.652393</td>\n",
              "      <td>5.391153</td>\n",
              "      <td>4.470291</td>\n",
              "      <td>9.780643</td>\n",
              "      <td>0.202148</td>\n",
              "      <td>-7.281607</td>\n",
              "      <td>-14.735679</td>\n",
              "      <td>-3.199114</td>\n",
              "      <td>...</td>\n",
              "      <td>0.000130</td>\n",
              "      <td>0.000056</td>\n",
              "      <td>0.000054</td>\n",
              "      <td>0.000058</td>\n",
              "      <td>0.000039</td>\n",
              "      <td>0.000027</td>\n",
              "      <td>0.000031</td>\n",
              "      <td>0.000017</td>\n",
              "      <td>0.000001</td>\n",
              "      <td>1</td>\n",
              "    </tr>\n",
              "    <tr>\n",
              "      <th>3</th>\n",
              "      <td>-491.804016</td>\n",
              "      <td>58.376278</td>\n",
              "      <td>21.934565</td>\n",
              "      <td>3.832941</td>\n",
              "      <td>7.473547</td>\n",
              "      <td>5.797229</td>\n",
              "      <td>-5.079426</td>\n",
              "      <td>-7.950385</td>\n",
              "      <td>-15.208168</td>\n",
              "      <td>3.807522</td>\n",
              "      <td>...</td>\n",
              "      <td>0.000199</td>\n",
              "      <td>0.000158</td>\n",
              "      <td>0.000177</td>\n",
              "      <td>0.000128</td>\n",
              "      <td>0.000107</td>\n",
              "      <td>0.000100</td>\n",
              "      <td>0.000099</td>\n",
              "      <td>0.000053</td>\n",
              "      <td>0.000004</td>\n",
              "      <td>1</td>\n",
              "    </tr>\n",
              "    <tr>\n",
              "      <th>4</th>\n",
              "      <td>-550.185303</td>\n",
              "      <td>85.116425</td>\n",
              "      <td>29.159952</td>\n",
              "      <td>8.951355</td>\n",
              "      <td>1.991111</td>\n",
              "      <td>4.661215</td>\n",
              "      <td>-0.452658</td>\n",
              "      <td>-3.736976</td>\n",
              "      <td>-11.550377</td>\n",
              "      <td>4.053781</td>\n",
              "      <td>...</td>\n",
              "      <td>0.000033</td>\n",
              "      <td>0.000032</td>\n",
              "      <td>0.000030</td>\n",
              "      <td>0.000030</td>\n",
              "      <td>0.000031</td>\n",
              "      <td>0.000037</td>\n",
              "      <td>0.000040</td>\n",
              "      <td>0.000021</td>\n",
              "      <td>0.000002</td>\n",
              "      <td>1</td>\n",
              "    </tr>\n",
              "  </tbody>\n",
              "</table>\n",
              "<p>5 rows × 181 columns</p>\n",
              "</div>\n",
              "    <div class=\"colab-df-buttons\">\n",
              "\n",
              "  <div class=\"colab-df-container\">\n",
              "    <button class=\"colab-df-convert\" onclick=\"convertToInteractive('df-ae56c0e6-2d4b-421e-8ae3-fb1d5459e3e4')\"\n",
              "            title=\"Convert this dataframe to an interactive table.\"\n",
              "            style=\"display:none;\">\n",
              "\n",
              "  <svg xmlns=\"http://www.w3.org/2000/svg\" height=\"24px\" viewBox=\"0 -960 960 960\">\n",
              "    <path d=\"M120-120v-720h720v720H120Zm60-500h600v-160H180v160Zm220 220h160v-160H400v160Zm0 220h160v-160H400v160ZM180-400h160v-160H180v160Zm440 0h160v-160H620v160ZM180-180h160v-160H180v160Zm440 0h160v-160H620v160Z\"/>\n",
              "  </svg>\n",
              "    </button>\n",
              "\n",
              "  <style>\n",
              "    .colab-df-container {\n",
              "      display:flex;\n",
              "      gap: 12px;\n",
              "    }\n",
              "\n",
              "    .colab-df-convert {\n",
              "      background-color: #E8F0FE;\n",
              "      border: none;\n",
              "      border-radius: 50%;\n",
              "      cursor: pointer;\n",
              "      display: none;\n",
              "      fill: #1967D2;\n",
              "      height: 32px;\n",
              "      padding: 0 0 0 0;\n",
              "      width: 32px;\n",
              "    }\n",
              "\n",
              "    .colab-df-convert:hover {\n",
              "      background-color: #E2EBFA;\n",
              "      box-shadow: 0px 1px 2px rgba(60, 64, 67, 0.3), 0px 1px 3px 1px rgba(60, 64, 67, 0.15);\n",
              "      fill: #174EA6;\n",
              "    }\n",
              "\n",
              "    .colab-df-buttons div {\n",
              "      margin-bottom: 4px;\n",
              "    }\n",
              "\n",
              "    [theme=dark] .colab-df-convert {\n",
              "      background-color: #3B4455;\n",
              "      fill: #D2E3FC;\n",
              "    }\n",
              "\n",
              "    [theme=dark] .colab-df-convert:hover {\n",
              "      background-color: #434B5C;\n",
              "      box-shadow: 0px 1px 3px 1px rgba(0, 0, 0, 0.15);\n",
              "      filter: drop-shadow(0px 1px 2px rgba(0, 0, 0, 0.3));\n",
              "      fill: #FFFFFF;\n",
              "    }\n",
              "  </style>\n",
              "\n",
              "    <script>\n",
              "      const buttonEl =\n",
              "        document.querySelector('#df-ae56c0e6-2d4b-421e-8ae3-fb1d5459e3e4 button.colab-df-convert');\n",
              "      buttonEl.style.display =\n",
              "        google.colab.kernel.accessAllowed ? 'block' : 'none';\n",
              "\n",
              "      async function convertToInteractive(key) {\n",
              "        const element = document.querySelector('#df-ae56c0e6-2d4b-421e-8ae3-fb1d5459e3e4');\n",
              "        const dataTable =\n",
              "          await google.colab.kernel.invokeFunction('convertToInteractive',\n",
              "                                                    [key], {});\n",
              "        if (!dataTable) return;\n",
              "\n",
              "        const docLinkHtml = 'Like what you see? Visit the ' +\n",
              "          '<a target=\"_blank\" href=https://colab.research.google.com/notebooks/data_table.ipynb>data table notebook</a>'\n",
              "          + ' to learn more about interactive tables.';\n",
              "        element.innerHTML = '';\n",
              "        dataTable['output_type'] = 'display_data';\n",
              "        await google.colab.output.renderOutput(dataTable, element);\n",
              "        const docLink = document.createElement('div');\n",
              "        docLink.innerHTML = docLinkHtml;\n",
              "        element.appendChild(docLink);\n",
              "      }\n",
              "    </script>\n",
              "  </div>\n",
              "\n",
              "\n",
              "<div id=\"df-035ffc78-c344-43e2-9fce-f537ede800f8\">\n",
              "  <button class=\"colab-df-quickchart\" onclick=\"quickchart('df-035ffc78-c344-43e2-9fce-f537ede800f8')\"\n",
              "            title=\"Suggest charts\"\n",
              "            style=\"display:none;\">\n",
              "\n",
              "<svg xmlns=\"http://www.w3.org/2000/svg\" height=\"24px\"viewBox=\"0 0 24 24\"\n",
              "     width=\"24px\">\n",
              "    <g>\n",
              "        <path d=\"M19 3H5c-1.1 0-2 .9-2 2v14c0 1.1.9 2 2 2h14c1.1 0 2-.9 2-2V5c0-1.1-.9-2-2-2zM9 17H7v-7h2v7zm4 0h-2V7h2v10zm4 0h-2v-4h2v4z\"/>\n",
              "    </g>\n",
              "</svg>\n",
              "  </button>\n",
              "\n",
              "<style>\n",
              "  .colab-df-quickchart {\n",
              "      --bg-color: #E8F0FE;\n",
              "      --fill-color: #1967D2;\n",
              "      --hover-bg-color: #E2EBFA;\n",
              "      --hover-fill-color: #174EA6;\n",
              "      --disabled-fill-color: #AAA;\n",
              "      --disabled-bg-color: #DDD;\n",
              "  }\n",
              "\n",
              "  [theme=dark] .colab-df-quickchart {\n",
              "      --bg-color: #3B4455;\n",
              "      --fill-color: #D2E3FC;\n",
              "      --hover-bg-color: #434B5C;\n",
              "      --hover-fill-color: #FFFFFF;\n",
              "      --disabled-bg-color: #3B4455;\n",
              "      --disabled-fill-color: #666;\n",
              "  }\n",
              "\n",
              "  .colab-df-quickchart {\n",
              "    background-color: var(--bg-color);\n",
              "    border: none;\n",
              "    border-radius: 50%;\n",
              "    cursor: pointer;\n",
              "    display: none;\n",
              "    fill: var(--fill-color);\n",
              "    height: 32px;\n",
              "    padding: 0;\n",
              "    width: 32px;\n",
              "  }\n",
              "\n",
              "  .colab-df-quickchart:hover {\n",
              "    background-color: var(--hover-bg-color);\n",
              "    box-shadow: 0 1px 2px rgba(60, 64, 67, 0.3), 0 1px 3px 1px rgba(60, 64, 67, 0.15);\n",
              "    fill: var(--button-hover-fill-color);\n",
              "  }\n",
              "\n",
              "  .colab-df-quickchart-complete:disabled,\n",
              "  .colab-df-quickchart-complete:disabled:hover {\n",
              "    background-color: var(--disabled-bg-color);\n",
              "    fill: var(--disabled-fill-color);\n",
              "    box-shadow: none;\n",
              "  }\n",
              "\n",
              "  .colab-df-spinner {\n",
              "    border: 2px solid var(--fill-color);\n",
              "    border-color: transparent;\n",
              "    border-bottom-color: var(--fill-color);\n",
              "    animation:\n",
              "      spin 1s steps(1) infinite;\n",
              "  }\n",
              "\n",
              "  @keyframes spin {\n",
              "    0% {\n",
              "      border-color: transparent;\n",
              "      border-bottom-color: var(--fill-color);\n",
              "      border-left-color: var(--fill-color);\n",
              "    }\n",
              "    20% {\n",
              "      border-color: transparent;\n",
              "      border-left-color: var(--fill-color);\n",
              "      border-top-color: var(--fill-color);\n",
              "    }\n",
              "    30% {\n",
              "      border-color: transparent;\n",
              "      border-left-color: var(--fill-color);\n",
              "      border-top-color: var(--fill-color);\n",
              "      border-right-color: var(--fill-color);\n",
              "    }\n",
              "    40% {\n",
              "      border-color: transparent;\n",
              "      border-right-color: var(--fill-color);\n",
              "      border-top-color: var(--fill-color);\n",
              "    }\n",
              "    60% {\n",
              "      border-color: transparent;\n",
              "      border-right-color: var(--fill-color);\n",
              "    }\n",
              "    80% {\n",
              "      border-color: transparent;\n",
              "      border-right-color: var(--fill-color);\n",
              "      border-bottom-color: var(--fill-color);\n",
              "    }\n",
              "    90% {\n",
              "      border-color: transparent;\n",
              "      border-bottom-color: var(--fill-color);\n",
              "    }\n",
              "  }\n",
              "</style>\n",
              "\n",
              "  <script>\n",
              "    async function quickchart(key) {\n",
              "      const quickchartButtonEl =\n",
              "        document.querySelector('#' + key + ' button');\n",
              "      quickchartButtonEl.disabled = true;  // To prevent multiple clicks.\n",
              "      quickchartButtonEl.classList.add('colab-df-spinner');\n",
              "      try {\n",
              "        const charts = await google.colab.kernel.invokeFunction(\n",
              "            'suggestCharts', [key], {});\n",
              "      } catch (error) {\n",
              "        console.error('Error during call to suggestCharts:', error);\n",
              "      }\n",
              "      quickchartButtonEl.classList.remove('colab-df-spinner');\n",
              "      quickchartButtonEl.classList.add('colab-df-quickchart-complete');\n",
              "    }\n",
              "    (() => {\n",
              "      let quickchartButtonEl =\n",
              "        document.querySelector('#df-035ffc78-c344-43e2-9fce-f537ede800f8 button');\n",
              "      quickchartButtonEl.style.display =\n",
              "        google.colab.kernel.accessAllowed ? 'block' : 'none';\n",
              "    })();\n",
              "  </script>\n",
              "</div>\n",
              "\n",
              "    </div>\n",
              "  </div>\n"
            ],
            "application/vnd.google.colaboratory.intrinsic+json": {
              "type": "dataframe",
              "variable_name": "combined_audio_df"
            }
          },
          "metadata": {},
          "execution_count": 38
        }
      ]
    },
    {
      "cell_type": "markdown",
      "metadata": {
        "id": "w-ulIdIdtkDB"
      },
      "source": [
        "#### Train the different ML algorithms"
      ],
      "id": "w-ulIdIdtkDB"
    },
    {
      "cell_type": "code",
      "metadata": {
        "id": "xuUx7UTFtjIs",
        "colab": {
          "base_uri": "https://localhost:8080/"
        },
        "outputId": "33bc435c-5af7-45cc-bed7-bec977f577b2"
      },
      "source": [
        "# YOUR CODE HERE\n",
        "X_train, X_test, y_train, y_test = train_test_split(features, combined_audio_df['labels'], test_size=0.25, random_state=30)\n",
        "combined_scores_df, best_model = model_predict_evaluate()\n",
        "print(\"Classifier results\\n\",combined_scores_df)\n",
        "print(\"Best model for combined data is \",type(best_model).__name__)"
      ],
      "id": "xuUx7UTFtjIs",
      "execution_count": 46,
      "outputs": [
        {
          "output_type": "stream",
          "name": "stdout",
          "text": [
            "Classifier results\n",
            "                Classifier  f1-Score\n",
            "0      LogisticRegression    0.7429\n",
            "1  DecisionTreeClassifier    0.7294\n",
            "2  RandomForestClassifier    0.8031\n",
            "Best model for combined data is  RandomForestClassifier\n"
          ]
        }
      ]
    },
    {
      "cell_type": "code",
      "source": [
        "combined_scores_df"
      ],
      "metadata": {
        "colab": {
          "base_uri": "https://localhost:8080/",
          "height": 143
        },
        "id": "paWWQgCqKYj0",
        "outputId": "73c741a3-4369-4fd3-afc0-79495e875e82"
      },
      "id": "paWWQgCqKYj0",
      "execution_count": 45,
      "outputs": [
        {
          "output_type": "execute_result",
          "data": {
            "text/plain": [
              "               Classifier  f1-Score\n",
              "0      LogisticRegression    0.7429\n",
              "1  DecisionTreeClassifier    0.7258\n",
              "2  RandomForestClassifier    0.8031"
            ],
            "text/html": [
              "\n",
              "  <div id=\"df-a549e37b-dfab-40da-a8d9-a4af58c9a935\" class=\"colab-df-container\">\n",
              "    <div>\n",
              "<style scoped>\n",
              "    .dataframe tbody tr th:only-of-type {\n",
              "        vertical-align: middle;\n",
              "    }\n",
              "\n",
              "    .dataframe tbody tr th {\n",
              "        vertical-align: top;\n",
              "    }\n",
              "\n",
              "    .dataframe thead th {\n",
              "        text-align: right;\n",
              "    }\n",
              "</style>\n",
              "<table border=\"1\" class=\"dataframe\">\n",
              "  <thead>\n",
              "    <tr style=\"text-align: right;\">\n",
              "      <th></th>\n",
              "      <th>Classifier</th>\n",
              "      <th>f1-Score</th>\n",
              "    </tr>\n",
              "  </thead>\n",
              "  <tbody>\n",
              "    <tr>\n",
              "      <th>0</th>\n",
              "      <td>LogisticRegression</td>\n",
              "      <td>0.7429</td>\n",
              "    </tr>\n",
              "    <tr>\n",
              "      <th>1</th>\n",
              "      <td>DecisionTreeClassifier</td>\n",
              "      <td>0.7258</td>\n",
              "    </tr>\n",
              "    <tr>\n",
              "      <th>2</th>\n",
              "      <td>RandomForestClassifier</td>\n",
              "      <td>0.8031</td>\n",
              "    </tr>\n",
              "  </tbody>\n",
              "</table>\n",
              "</div>\n",
              "    <div class=\"colab-df-buttons\">\n",
              "\n",
              "  <div class=\"colab-df-container\">\n",
              "    <button class=\"colab-df-convert\" onclick=\"convertToInteractive('df-a549e37b-dfab-40da-a8d9-a4af58c9a935')\"\n",
              "            title=\"Convert this dataframe to an interactive table.\"\n",
              "            style=\"display:none;\">\n",
              "\n",
              "  <svg xmlns=\"http://www.w3.org/2000/svg\" height=\"24px\" viewBox=\"0 -960 960 960\">\n",
              "    <path d=\"M120-120v-720h720v720H120Zm60-500h600v-160H180v160Zm220 220h160v-160H400v160Zm0 220h160v-160H400v160ZM180-400h160v-160H180v160Zm440 0h160v-160H620v160ZM180-180h160v-160H180v160Zm440 0h160v-160H620v160Z\"/>\n",
              "  </svg>\n",
              "    </button>\n",
              "\n",
              "  <style>\n",
              "    .colab-df-container {\n",
              "      display:flex;\n",
              "      gap: 12px;\n",
              "    }\n",
              "\n",
              "    .colab-df-convert {\n",
              "      background-color: #E8F0FE;\n",
              "      border: none;\n",
              "      border-radius: 50%;\n",
              "      cursor: pointer;\n",
              "      display: none;\n",
              "      fill: #1967D2;\n",
              "      height: 32px;\n",
              "      padding: 0 0 0 0;\n",
              "      width: 32px;\n",
              "    }\n",
              "\n",
              "    .colab-df-convert:hover {\n",
              "      background-color: #E2EBFA;\n",
              "      box-shadow: 0px 1px 2px rgba(60, 64, 67, 0.3), 0px 1px 3px 1px rgba(60, 64, 67, 0.15);\n",
              "      fill: #174EA6;\n",
              "    }\n",
              "\n",
              "    .colab-df-buttons div {\n",
              "      margin-bottom: 4px;\n",
              "    }\n",
              "\n",
              "    [theme=dark] .colab-df-convert {\n",
              "      background-color: #3B4455;\n",
              "      fill: #D2E3FC;\n",
              "    }\n",
              "\n",
              "    [theme=dark] .colab-df-convert:hover {\n",
              "      background-color: #434B5C;\n",
              "      box-shadow: 0px 1px 3px 1px rgba(0, 0, 0, 0.15);\n",
              "      filter: drop-shadow(0px 1px 2px rgba(0, 0, 0, 0.3));\n",
              "      fill: #FFFFFF;\n",
              "    }\n",
              "  </style>\n",
              "\n",
              "    <script>\n",
              "      const buttonEl =\n",
              "        document.querySelector('#df-a549e37b-dfab-40da-a8d9-a4af58c9a935 button.colab-df-convert');\n",
              "      buttonEl.style.display =\n",
              "        google.colab.kernel.accessAllowed ? 'block' : 'none';\n",
              "\n",
              "      async function convertToInteractive(key) {\n",
              "        const element = document.querySelector('#df-a549e37b-dfab-40da-a8d9-a4af58c9a935');\n",
              "        const dataTable =\n",
              "          await google.colab.kernel.invokeFunction('convertToInteractive',\n",
              "                                                    [key], {});\n",
              "        if (!dataTable) return;\n",
              "\n",
              "        const docLinkHtml = 'Like what you see? Visit the ' +\n",
              "          '<a target=\"_blank\" href=https://colab.research.google.com/notebooks/data_table.ipynb>data table notebook</a>'\n",
              "          + ' to learn more about interactive tables.';\n",
              "        element.innerHTML = '';\n",
              "        dataTable['output_type'] = 'display_data';\n",
              "        await google.colab.output.renderOutput(dataTable, element);\n",
              "        const docLink = document.createElement('div');\n",
              "        docLink.innerHTML = docLinkHtml;\n",
              "        element.appendChild(docLink);\n",
              "      }\n",
              "    </script>\n",
              "  </div>\n",
              "\n",
              "\n",
              "<div id=\"df-6a2e962e-9bd7-4394-807b-e5ec33dccbca\">\n",
              "  <button class=\"colab-df-quickchart\" onclick=\"quickchart('df-6a2e962e-9bd7-4394-807b-e5ec33dccbca')\"\n",
              "            title=\"Suggest charts\"\n",
              "            style=\"display:none;\">\n",
              "\n",
              "<svg xmlns=\"http://www.w3.org/2000/svg\" height=\"24px\"viewBox=\"0 0 24 24\"\n",
              "     width=\"24px\">\n",
              "    <g>\n",
              "        <path d=\"M19 3H5c-1.1 0-2 .9-2 2v14c0 1.1.9 2 2 2h14c1.1 0 2-.9 2-2V5c0-1.1-.9-2-2-2zM9 17H7v-7h2v7zm4 0h-2V7h2v10zm4 0h-2v-4h2v4z\"/>\n",
              "    </g>\n",
              "</svg>\n",
              "  </button>\n",
              "\n",
              "<style>\n",
              "  .colab-df-quickchart {\n",
              "      --bg-color: #E8F0FE;\n",
              "      --fill-color: #1967D2;\n",
              "      --hover-bg-color: #E2EBFA;\n",
              "      --hover-fill-color: #174EA6;\n",
              "      --disabled-fill-color: #AAA;\n",
              "      --disabled-bg-color: #DDD;\n",
              "  }\n",
              "\n",
              "  [theme=dark] .colab-df-quickchart {\n",
              "      --bg-color: #3B4455;\n",
              "      --fill-color: #D2E3FC;\n",
              "      --hover-bg-color: #434B5C;\n",
              "      --hover-fill-color: #FFFFFF;\n",
              "      --disabled-bg-color: #3B4455;\n",
              "      --disabled-fill-color: #666;\n",
              "  }\n",
              "\n",
              "  .colab-df-quickchart {\n",
              "    background-color: var(--bg-color);\n",
              "    border: none;\n",
              "    border-radius: 50%;\n",
              "    cursor: pointer;\n",
              "    display: none;\n",
              "    fill: var(--fill-color);\n",
              "    height: 32px;\n",
              "    padding: 0;\n",
              "    width: 32px;\n",
              "  }\n",
              "\n",
              "  .colab-df-quickchart:hover {\n",
              "    background-color: var(--hover-bg-color);\n",
              "    box-shadow: 0 1px 2px rgba(60, 64, 67, 0.3), 0 1px 3px 1px rgba(60, 64, 67, 0.15);\n",
              "    fill: var(--button-hover-fill-color);\n",
              "  }\n",
              "\n",
              "  .colab-df-quickchart-complete:disabled,\n",
              "  .colab-df-quickchart-complete:disabled:hover {\n",
              "    background-color: var(--disabled-bg-color);\n",
              "    fill: var(--disabled-fill-color);\n",
              "    box-shadow: none;\n",
              "  }\n",
              "\n",
              "  .colab-df-spinner {\n",
              "    border: 2px solid var(--fill-color);\n",
              "    border-color: transparent;\n",
              "    border-bottom-color: var(--fill-color);\n",
              "    animation:\n",
              "      spin 1s steps(1) infinite;\n",
              "  }\n",
              "\n",
              "  @keyframes spin {\n",
              "    0% {\n",
              "      border-color: transparent;\n",
              "      border-bottom-color: var(--fill-color);\n",
              "      border-left-color: var(--fill-color);\n",
              "    }\n",
              "    20% {\n",
              "      border-color: transparent;\n",
              "      border-left-color: var(--fill-color);\n",
              "      border-top-color: var(--fill-color);\n",
              "    }\n",
              "    30% {\n",
              "      border-color: transparent;\n",
              "      border-left-color: var(--fill-color);\n",
              "      border-top-color: var(--fill-color);\n",
              "      border-right-color: var(--fill-color);\n",
              "    }\n",
              "    40% {\n",
              "      border-color: transparent;\n",
              "      border-right-color: var(--fill-color);\n",
              "      border-top-color: var(--fill-color);\n",
              "    }\n",
              "    60% {\n",
              "      border-color: transparent;\n",
              "      border-right-color: var(--fill-color);\n",
              "    }\n",
              "    80% {\n",
              "      border-color: transparent;\n",
              "      border-right-color: var(--fill-color);\n",
              "      border-bottom-color: var(--fill-color);\n",
              "    }\n",
              "    90% {\n",
              "      border-color: transparent;\n",
              "      border-bottom-color: var(--fill-color);\n",
              "    }\n",
              "  }\n",
              "</style>\n",
              "\n",
              "  <script>\n",
              "    async function quickchart(key) {\n",
              "      const quickchartButtonEl =\n",
              "        document.querySelector('#' + key + ' button');\n",
              "      quickchartButtonEl.disabled = true;  // To prevent multiple clicks.\n",
              "      quickchartButtonEl.classList.add('colab-df-spinner');\n",
              "      try {\n",
              "        const charts = await google.colab.kernel.invokeFunction(\n",
              "            'suggestCharts', [key], {});\n",
              "      } catch (error) {\n",
              "        console.error('Error during call to suggestCharts:', error);\n",
              "      }\n",
              "      quickchartButtonEl.classList.remove('colab-df-spinner');\n",
              "      quickchartButtonEl.classList.add('colab-df-quickchart-complete');\n",
              "    }\n",
              "    (() => {\n",
              "      let quickchartButtonEl =\n",
              "        document.querySelector('#df-6a2e962e-9bd7-4394-807b-e5ec33dccbca button');\n",
              "      quickchartButtonEl.style.display =\n",
              "        google.colab.kernel.accessAllowed ? 'block' : 'none';\n",
              "    })();\n",
              "  </script>\n",
              "</div>\n",
              "\n",
              "  <div id=\"id_c19ecc3a-7561-48e5-96b9-095c7e90db19\">\n",
              "    <style>\n",
              "      .colab-df-generate {\n",
              "        background-color: #E8F0FE;\n",
              "        border: none;\n",
              "        border-radius: 50%;\n",
              "        cursor: pointer;\n",
              "        display: none;\n",
              "        fill: #1967D2;\n",
              "        height: 32px;\n",
              "        padding: 0 0 0 0;\n",
              "        width: 32px;\n",
              "      }\n",
              "\n",
              "      .colab-df-generate:hover {\n",
              "        background-color: #E2EBFA;\n",
              "        box-shadow: 0px 1px 2px rgba(60, 64, 67, 0.3), 0px 1px 3px 1px rgba(60, 64, 67, 0.15);\n",
              "        fill: #174EA6;\n",
              "      }\n",
              "\n",
              "      [theme=dark] .colab-df-generate {\n",
              "        background-color: #3B4455;\n",
              "        fill: #D2E3FC;\n",
              "      }\n",
              "\n",
              "      [theme=dark] .colab-df-generate:hover {\n",
              "        background-color: #434B5C;\n",
              "        box-shadow: 0px 1px 3px 1px rgba(0, 0, 0, 0.15);\n",
              "        filter: drop-shadow(0px 1px 2px rgba(0, 0, 0, 0.3));\n",
              "        fill: #FFFFFF;\n",
              "      }\n",
              "    </style>\n",
              "    <button class=\"colab-df-generate\" onclick=\"generateWithVariable('combined_scores_df')\"\n",
              "            title=\"Generate code using this dataframe.\"\n",
              "            style=\"display:none;\">\n",
              "\n",
              "  <svg xmlns=\"http://www.w3.org/2000/svg\" height=\"24px\"viewBox=\"0 0 24 24\"\n",
              "       width=\"24px\">\n",
              "    <path d=\"M7,19H8.4L18.45,9,17,7.55,7,17.6ZM5,21V16.75L18.45,3.32a2,2,0,0,1,2.83,0l1.4,1.43a1.91,1.91,0,0,1,.58,1.4,1.91,1.91,0,0,1-.58,1.4L9.25,21ZM18.45,9,17,7.55Zm-12,3A5.31,5.31,0,0,0,4.9,8.1,5.31,5.31,0,0,0,1,6.5,5.31,5.31,0,0,0,4.9,4.9,5.31,5.31,0,0,0,6.5,1,5.31,5.31,0,0,0,8.1,4.9,5.31,5.31,0,0,0,12,6.5,5.46,5.46,0,0,0,6.5,12Z\"/>\n",
              "  </svg>\n",
              "    </button>\n",
              "    <script>\n",
              "      (() => {\n",
              "      const buttonEl =\n",
              "        document.querySelector('#id_c19ecc3a-7561-48e5-96b9-095c7e90db19 button.colab-df-generate');\n",
              "      buttonEl.style.display =\n",
              "        google.colab.kernel.accessAllowed ? 'block' : 'none';\n",
              "\n",
              "      buttonEl.onclick = () => {\n",
              "        google.colab.notebook.generateWithVariable('combined_scores_df');\n",
              "      }\n",
              "      })();\n",
              "    </script>\n",
              "  </div>\n",
              "\n",
              "    </div>\n",
              "  </div>\n"
            ],
            "application/vnd.google.colaboratory.intrinsic+json": {
              "type": "dataframe",
              "variable_name": "combined_scores_df",
              "summary": "{\n  \"name\": \"combined_scores_df\",\n  \"rows\": 3,\n  \"fields\": [\n    {\n      \"column\": \"Classifier\",\n      \"properties\": {\n        \"dtype\": \"string\",\n        \"num_unique_values\": 3,\n        \"samples\": [\n          \"LogisticRegression\",\n          \"DecisionTreeClassifier\",\n          \"RandomForestClassifier\"\n        ],\n        \"semantic_type\": \"\",\n        \"description\": \"\"\n      }\n    },\n    {\n      \"column\": \"f1-Score\",\n      \"properties\": {\n        \"dtype\": \"number\",\n        \"std\": 0.04060324289183482,\n        \"min\": 0.7258,\n        \"max\": 0.8031,\n        \"num_unique_values\": 3,\n        \"samples\": [\n          0.7429,\n          0.7258,\n          0.8031\n        ],\n        \"semantic_type\": \"\",\n        \"description\": \"\"\n      }\n    }\n  ]\n}"
            }
          },
          "metadata": {},
          "execution_count": 45
        }
      ]
    },
    {
      "cell_type": "markdown",
      "metadata": {
        "id": "iMl0sRhXtXzL"
      },
      "source": [
        "#### Test the best working model with live audio recording"
      ],
      "id": "iMl0sRhXtXzL"
    },
    {
      "cell_type": "code",
      "source": [
        "voting_clf = VotingClassifier(estimators=[('lr', LogisticRegression()),\\\n",
        "                                          ('dt', DecisionTreeClassifier()),\\\n",
        "                                          ('rf', RandomForestClassifier(n_estimators=10, random_state=42, max_features=\"sqrt\"))],\\\n",
        "                               voting='soft')\n",
        "voting_clf.fit(X_train, y_train)\n",
        "y_pred = voting_clf.predict(X_test)\n",
        "print(\"f1-Score with soft voting = \",round(f1_score(y_test, y_pred, average='weighted'), 4))"
      ],
      "metadata": {
        "colab": {
          "base_uri": "https://localhost:8080/"
        },
        "id": "KDDjf_isO0cy",
        "outputId": "af083f2f-5726-4adf-c305-85fca3ba3600"
      },
      "id": "KDDjf_isO0cy",
      "execution_count": 83,
      "outputs": [
        {
          "output_type": "stream",
          "name": "stdout",
          "text": [
            "f1-Score with soft voting =  0.7689\n"
          ]
        }
      ]
    },
    {
      "cell_type": "code",
      "metadata": {
        "id": "4znf9-pcTbUB"
      },
      "source": [
        "# choose the best working model and assign below\n",
        "MODEL = best_model"
      ],
      "id": "4znf9-pcTbUB",
      "execution_count": 47,
      "outputs": []
    },
    {
      "cell_type": "code",
      "metadata": {
        "id": "2d598770",
        "colab": {
          "base_uri": "https://localhost:8080/",
          "height": 110
        },
        "outputId": "69966b01-fd35-46fb-ec1c-496c0ff1c3da"
      },
      "source": [
        "#@title Speak the utterance and test\n",
        "from IPython.display import Javascript\n",
        "from google.colab import output\n",
        "from base64 import b64decode\n",
        "\n",
        "RECORD = \"\"\"\n",
        "const sleep  = time => new Promise(resolve => setTimeout(resolve, time))\n",
        "const b2text = blob => new Promise(resolve => {\n",
        "  const reader = new FileReader()\n",
        "  reader.onloadend = e => resolve(e.srcElement.result)\n",
        "  reader.readAsDataURL(blob)\n",
        "})\n",
        "var record = time => new Promise(async resolve => {\n",
        "  stream = await navigator.mediaDevices.getUserMedia({ audio: true })\n",
        "  recorder = new MediaRecorder(stream)\n",
        "  chunks = []\n",
        "  recorder.ondataavailable = e => chunks.push(e.data)\n",
        "  recorder.start()\n",
        "  await sleep(time)\n",
        "  recorder.onstop = async ()=>{\n",
        "    blob = new Blob(chunks)\n",
        "    text = await b2text(blob)\n",
        "    resolve(text)\n",
        "  }\n",
        "  recorder.stop()\n",
        "})\n",
        "\"\"\"\n",
        "\n",
        "if not os.path.exists('ModelTesting/'):\n",
        "    os.mkdir(\"ModelTesting/\")\n",
        "def record(sec=3):\n",
        "    print(\"Start speaking!\")\n",
        "    now = datetime.now()\n",
        "    current_time = now.strftime(\"%Y-%m-%d_%H-%M-%S\")\n",
        "    display(Javascript(RECORD))\n",
        "    s = output.eval_js('record(%d)' % (sec*1000))\n",
        "    b = b64decode(s.split(',')[1])\n",
        "    with open('ModelTesting/audio_'+current_time+'.wav','wb') as f:\n",
        "        f.write(b)\n",
        "    return 'ModelTesting/audio_'+current_time+'.wav'\n",
        "test_i = record()\n",
        "pred = MODEL.predict(extract_feature(test_i).reshape(1,-1))\n",
        "idx_emotion = list(emotions.values()).index(pred[0])\n",
        "print(list(emotions.keys())[idx_emotion])\n",
        "ipd.Audio(test_i)"
      ],
      "id": "2d598770",
      "execution_count": 81,
      "outputs": [
        {
          "output_type": "stream",
          "name": "stdout",
          "text": [
            "Start speaking!\n"
          ]
        },
        {
          "output_type": "display_data",
          "data": {
            "text/plain": [
              "<IPython.core.display.Javascript object>"
            ],
            "application/javascript": [
              "\n",
              "const sleep  = time => new Promise(resolve => setTimeout(resolve, time))\n",
              "const b2text = blob => new Promise(resolve => {\n",
              "  const reader = new FileReader()\n",
              "  reader.onloadend = e => resolve(e.srcElement.result)\n",
              "  reader.readAsDataURL(blob)\n",
              "})\n",
              "var record = time => new Promise(async resolve => {\n",
              "  stream = await navigator.mediaDevices.getUserMedia({ audio: true })\n",
              "  recorder = new MediaRecorder(stream)\n",
              "  chunks = []\n",
              "  recorder.ondataavailable = e => chunks.push(e.data)\n",
              "  recorder.start()\n",
              "  await sleep(time)\n",
              "  recorder.onstop = async ()=>{\n",
              "    blob = new Blob(chunks)\n",
              "    text = await b2text(blob)\n",
              "    resolve(text)\n",
              "  }\n",
              "  recorder.stop()\n",
              "})\n"
            ]
          },
          "metadata": {}
        },
        {
          "output_type": "stream",
          "name": "stdout",
          "text": [
            "happy\n"
          ]
        },
        {
          "output_type": "execute_result",
          "data": {
            "text/plain": [
              "<IPython.lib.display.Audio object>"
            ],
            "text/html": [
              "\n",
              "                <audio  controls=\"controls\" >\n",
              "                    <source src=\"data:audio/x-wav;base64,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\" type=\"audio/x-wav\" />\n",
              "                    Your browser does not support the audio element.\n",
              "                </audio>\n",
              "              "
            ]
          },
          "metadata": {},
          "execution_count": 81
        }
      ]
    },
    {
      "cell_type": "markdown",
      "metadata": {
        "id": "K7n58VaeWKGu"
      },
      "source": [
        "### Report Analysis\n",
        "\n",
        "- Report the accuracy for 10 live samples using the model trained on TESS+Ravdess+Team data\n",
        "- Discuss with the team mentor regarding deep learnt audio features. Read a related article [here](https://ieeexplore.ieee.org/stamp/stamp.jsp?arnumber=8805181).\n"
      ],
      "id": "K7n58VaeWKGu"
    }
  ]
}