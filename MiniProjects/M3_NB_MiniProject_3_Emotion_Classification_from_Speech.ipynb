{
  "nbformat": 4,
  "nbformat_minor": 5,
  "metadata": {
    "colab": {
      "provenance": []
    },
    "kernelspec": {
      "display_name": "Python 3",
      "language": "python",
      "name": "python3"
    },
    "language_info": {
      "codemirror_mode": {
        "name": "ipython",
        "version": 3
      },
      "file_extension": ".py",
      "mimetype": "text/x-python",
      "name": "python",
      "nbconvert_exporter": "python",
      "pygments_lexer": "ipython3",
      "version": "3.6.9"
    }
  },
  "cells": [
    {
      "cell_type": "markdown",
      "metadata": {
        "id": "associate-sunset"
      },
      "source": [
        "# Advanced Certification Program in Computational Data Science\n",
        "## A program by IISc and TalentSprint\n",
        "### Mini-Project: Speech Emotion Classification"
      ],
      "id": "associate-sunset"
    },
    {
      "cell_type": "markdown",
      "metadata": {
        "id": "handled-tooth"
      },
      "source": [
        "## Problem Statement"
      ],
      "id": "handled-tooth"
    },
    {
      "cell_type": "markdown",
      "metadata": {
        "id": "accessory-watts"
      },
      "source": [
        "Build a model to recognize emotion from speech using Ensemble learning"
      ],
      "id": "accessory-watts"
    },
    {
      "cell_type": "markdown",
      "metadata": {
        "id": "twenty-indonesia"
      },
      "source": [
        "## Learning Objectives"
      ],
      "id": "twenty-indonesia"
    },
    {
      "cell_type": "markdown",
      "metadata": {
        "id": "honest-friendship"
      },
      "source": [
        "At the end of the mini-project, you will be able to :\n",
        "\n",
        "* extract the features from audio data\n",
        "* implement ML classification algorithms individually and as Ensembles, to classify emotions\n",
        "* record the voice sample and test it with trained model"
      ],
      "id": "honest-friendship"
    },
    {
      "cell_type": "markdown",
      "metadata": {
        "id": "lesbian-bottom"
      },
      "source": [
        "## Dataset"
      ],
      "id": "lesbian-bottom"
    },
    {
      "cell_type": "markdown",
      "metadata": {
        "id": "fixed-trainer"
      },
      "source": [
        "**TESS Dataset**\n",
        "\n",
        "The first dataset chosen for this mini-project is the [TESS](https://dataverse.scholarsportal.info/dataset.xhtml?persistentId=doi:10.5683/SP2/E8H2MF) (Toronto emotional speech set) dataset. It contains 2880 files.  A set of 200 target words were spoken in the carrier phrase \"Say the word _____' by two actresses and the sets were recorded in seven different emotions (anger, disgust, fear, happiness, pleasant surprise, sadness, and neutral). Both actresses spoke English as their first language, were university educated, and had musical training. Audiometric testing indicated that both actresses had thresholds within the normal range."
      ],
      "id": "fixed-trainer"
    },
    {
      "cell_type": "markdown",
      "metadata": {
        "id": "Roo5A2aLVI07"
      },
      "source": [
        "**Ravdess Dataset**\n",
        "\n",
        "The second dataset chosen for this mini-project is [Ravdess](https://zenodo.org/record/1188976#.YLczy4XivIU) (The Ryerson Audio-Visual Database of Emotional Speech and Song). This dataset contains 1440 files: 60 trials per actor x 24 actors = 1440. The RAVDESS contains 24 professional actors (12 female, 12 male), vocalizing two lexically-matched statements in a neutral North American accent. Speech emotions includes calm, happy, sad, angry, fearful, surprise, and disgust expressions. Each expression is produced at two levels of emotional intensity (normal, strong), with an additional neutral expression.\n",
        "\n",
        "**File naming convention**\n",
        "\n",
        "Each of the 1440 files has a unique filename. The filename consists of a 7-part numerical identifier (e.g., 03-01-06-01-02-01-12.wav). These identifiers define the stimulus characteristics:\n",
        "\n",
        "**Filename identifiers**\n",
        "\n",
        "* Modality (01 = full-AV, 02 = video-only, 03 = audio-only).\n",
        "* Vocal channel (01 = speech, 02 = song).\n",
        "* Emotion (01 = neutral, 02 = calm, 03 = happy, 04 = sad, 05 = angry, 06 = fearful, 07 = disgust, 08 = surprised).\n",
        "* Emotional intensity (01 = normal, 02 = strong). NOTE: There is no strong intensity for the 'neutral' emotion.\n",
        "* Statement (01 = \"Kids are talking by the door\", 02 = \"Dogs are sitting by the door\").\n",
        "* Repetition (01 = 1st repetition, 02 = 2nd repetition).\n",
        "* Actor (01 to 24. Odd numbered actors are male, even numbered actors are female).\n",
        "\n",
        "Filename example: `03-01-06-01-02-01-12.wav`\n",
        "\n",
        "    - Audio-only - 03\n",
        "    - Speech - 01\n",
        "    - Fearful - 06\n",
        "    - Normal intensity - 01\n",
        "    - Statement \"dogs\" - 02\n",
        "    - 1st Repetition - 01\n",
        "    - 12th Actor - 12 Female, as the actor ID number is even."
      ],
      "id": "Roo5A2aLVI07"
    },
    {
      "cell_type": "markdown",
      "metadata": {
        "id": "GIR6a6TvVnRY"
      },
      "source": [
        "## Information"
      ],
      "id": "GIR6a6TvVnRY"
    },
    {
      "cell_type": "markdown",
      "metadata": {
        "id": "mediterranean-february"
      },
      "source": [
        "**Speech Emotion Recognition (SER)** is the task of recognizing the emotion from  speech, irrespective of the semantics. Humans can efficiently perform this task as a natural part of speech communication, however, the ability to conduct it automatically using programmable devices is a field of active research.\n",
        "\n",
        "Studies of automatic emotion recognition systems aim to create efficient, real-time methods of detecting the emotions of mobile phone users, call center operators and customers, car drivers, pilots, and many other human-machine communication users. Adding emotions to machines forms an important aspect of making machines appear and act in a human-like manner\n",
        "\n",
        "Lets gain familiarity with some of the audio based features that are commonly used for SER.\n",
        "\n",
        "**Mel scale** — The mel scale (derived from the word *melody*) is a perceptual scale of pitches judged by listeners to be equal in distance from one another. The reference point between this scale and normal frequency measurement is defined by assigning a perceptual pitch of 1000 mels to a 1000 Hz tone, 40 dB above the listener's threshold. Above about 500 Hz, increasingly large intervals are judged by listeners to produce equal pitch increments. Refer [here](https://towardsdatascience.com/learning-from-audio-the-mel-scale-mel-spectrograms-and-mel-frequency-cepstral-coefficients-f5752b6324a8) for more detailed information.\n",
        "\n",
        "**Pitch** — how high or low a sound is. It depends on frequency, higher pitch is high frequency\n",
        "\n",
        "**Frequency** — speed of vibration of sound, measures wave cycles per second\n",
        "\n",
        "**Chroma** — Representation for audio where spectrum is projected onto 12 bins representing the 12 distinct semitones (or chroma). Computed by summing the log frequency magnitude spectrum across octaves.\n",
        "\n",
        "**Fourier Transforms** — used to convert from time domain to frequency domain. Time domain shows how signal changes over time. Frequency domain shows how much of the signal lies within each given frequency band over a range of frequencies"
      ],
      "id": "mediterranean-february"
    },
    {
      "cell_type": "markdown",
      "metadata": {
        "id": "Q5a6Dz9wCxOc"
      },
      "source": [
        "**Librosa**\n",
        "\n",
        "[Librosa](https://librosa.org/doc/latest/index.html) is a Python package, built for speech and audio analytics. It provides modular functions that simplify working with audio data and help in achieving a wide range of applications such as identification of the personal characteristics of different individuals' voice samples, detecting emotions from audio samples etc.\n",
        "\n",
        "For further details on the Librosa package, refer [here](https://conference.scipy.org/proceedings/scipy2015/pdfs/brian_mcfee.pdf).\n"
      ],
      "id": "Q5a6Dz9wCxOc"
    },
    {
      "cell_type": "markdown",
      "source": [
        "### **Kaggle Competition**"
      ],
      "metadata": {
        "id": "3fjmaAe32Z_K"
      },
      "id": "3fjmaAe32Z_K"
    },
    {
      "cell_type": "markdown",
      "source": [
        "Please refer to the link for viewing the\n",
        "[Kaggle Competition Document](https://drive.google.com/file/d/1V3Y8Q3M03Atn9oM1zqmW6jpuzSYm445e/view?usp=drive_link) and join the Kaggle Competition using the hyperlink given in this document under '*Kaggle* Competition site'.\n"
      ],
      "metadata": {
        "id": "y4yw7Ewy09Ut"
      },
      "id": "y4yw7Ewy09Ut"
    },
    {
      "cell_type": "markdown",
      "metadata": {
        "id": "operating-latter"
      },
      "source": [
        "## Grading = 10 Points"
      ],
      "id": "operating-latter"
    },
    {
      "cell_type": "code",
      "metadata": {
        "id": "talented-upset",
        "colab": {
          "base_uri": "https://localhost:8080/"
        },
        "outputId": "6eb4e6a2-cc9c-40f3-8d68-6a6cc64dea0c"
      },
      "source": [
        "#@title Download the datasets and install packages\n",
        "!wget -qq https://cdn.iisc.talentsprint.com/CDS/MiniProjects/Ravdess_Tess.zip\n",
        "!unzip -qq Ravdess_Tess.zip\n",
        "# Install packages\n",
        "!pip -qq install librosa soundfile\n",
        "!pip -qq install wavio\n",
        "print(\"Datasets downloaded successfully!\")"
      ],
      "id": "talented-upset",
      "execution_count": 3,
      "outputs": [
        {
          "output_type": "stream",
          "name": "stdout",
          "text": [
            "Datasets downloaded successfully!\n"
          ]
        }
      ]
    },
    {
      "cell_type": "markdown",
      "metadata": {
        "id": "appreciated-pattern"
      },
      "source": [
        "### Import Neccesary Packages"
      ],
      "id": "appreciated-pattern"
    },
    {
      "cell_type": "code",
      "metadata": {
        "id": "loose-marsh"
      },
      "source": [
        "import librosa\n",
        "import librosa.display\n",
        "import soundfile\n",
        "import os, glob, pickle\n",
        "import numpy as np\n",
        "import pandas as pd\n",
        "import IPython.display as ipd\n",
        "from matplotlib import pyplot as plt\n",
        "from datetime import datetime\n",
        "from IPython.display import Javascript\n",
        "from google.colab import output\n",
        "from base64 import b64decode\n",
        "import warnings\n",
        "warnings.filterwarnings('ignore')\n",
        "# sklearn\n",
        "from sklearn.model_selection import train_test_split\n",
        "from sklearn.metrics import accuracy_score, f1_score\n",
        "from sklearn.linear_model import LogisticRegression\n",
        "from sklearn.tree import DecisionTreeClassifier\n",
        "from sklearn.ensemble import RandomForestClassifier\n",
        "from sklearn.svm import SVC\n",
        "from sklearn import tree\n",
        "from sklearn.ensemble import VotingClassifier"
      ],
      "id": "loose-marsh",
      "execution_count": 4,
      "outputs": []
    },
    {
      "cell_type": "markdown",
      "metadata": {
        "id": "2vxa85gvorY5"
      },
      "source": [
        "### Work-Flow\n",
        "\n",
        "* Load the TESS audio data and extract features and labels\n",
        "\n",
        "* Load the Ravdess audio data and extract features\n",
        "\n",
        "* Combine both the audio dataset features\n",
        "\n",
        "* Train and test the model with TESS + Ravdess Data\n",
        "\n",
        "* Record the team audio samples and add them to TESS + Ravdess data\n",
        "\n",
        "* Train and test the model with TESS + Ravdess + Team Recorded (combined) data\n",
        "\n",
        "* Test each of the models with live audio sample recording."
      ],
      "id": "2vxa85gvorY5"
    },
    {
      "cell_type": "markdown",
      "metadata": {
        "id": "compressed-reflection"
      },
      "source": [
        "### Load the Tess data and Ravdess data audio files (1 point)\n",
        "\n",
        "Hint: `glob.glob`"
      ],
      "id": "compressed-reflection"
    },
    {
      "cell_type": "code",
      "metadata": {
        "id": "518e945a",
        "colab": {
          "base_uri": "https://localhost:8080/"
        },
        "outputId": "58fd3589-90b3-423d-bfb7-ab1e99a069ea"
      },
      "source": [
        "# YOUR CODE HERE\n",
        "tess_wav_files = glob.glob(\"Tess/*/*.wav\")\n",
        "print(\"Number of wav files with Tess data = \",len(tess_wav_files))\n",
        "\n",
        "ravdess_wav_files = glob.glob(\"ravdess/*/*.wav\")\n",
        "print(\"Number of wav files with Ravdess data = \",len(ravdess_wav_files))"
      ],
      "id": "518e945a",
      "execution_count": 5,
      "outputs": [
        {
          "output_type": "stream",
          "name": "stdout",
          "text": [
            "Number of wav files with Tess data =  2679\n",
            "Number of wav files with Ravdess data =  1168\n"
          ]
        }
      ]
    },
    {
      "cell_type": "markdown",
      "metadata": {
        "id": "sound-chest"
      },
      "source": [
        "#### Play the sample audio"
      ],
      "id": "sound-chest"
    },
    {
      "cell_type": "code",
      "metadata": {
        "id": "personalized-wildlife",
        "colab": {
          "base_uri": "https://localhost:8080/",
          "height": 75
        },
        "outputId": "5b2d8ccb-3665-46bc-ed02-0677c631e30d"
      },
      "source": [
        "# YOUR CODE HERE\n",
        "ipd.Audio(tess_wav_files[50])"
      ],
      "id": "personalized-wildlife",
      "execution_count": 6,
      "outputs": [
        {
          "output_type": "execute_result",
          "data": {
            "text/plain": [
              "<IPython.lib.display.Audio object>"
            ],
            "text/html": [
              "\n",
              "                <audio  controls=\"controls\" >\n",
              "                    <source src=\"data:audio/x-wav;base64,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\" type=\"audio/x-wav\" />\n",
              "                    Your browser does not support the audio element.\n",
              "                </audio>\n",
              "              "
            ]
          },
          "metadata": {},
          "execution_count": 6
        }
      ]
    },
    {
      "cell_type": "markdown",
      "metadata": {
        "id": "exposed-county"
      },
      "source": [
        "### Data Exploration and Visualization (1 point)"
      ],
      "id": "exposed-county"
    },
    {
      "cell_type": "markdown",
      "metadata": {
        "id": "hungry-cleaner"
      },
      "source": [
        "#### Visualize the distribution of all the labels"
      ],
      "id": "hungry-cleaner"
    },
    {
      "cell_type": "code",
      "metadata": {
        "id": "orange-taiwan",
        "colab": {
          "base_uri": "https://localhost:8080/",
          "height": 496
        },
        "outputId": "9fa6d471-9bae-44f7-eea1-d6ea25e31285"
      },
      "source": [
        "# YOUR CODE HERE\n",
        "DIR = 'Tess'\n",
        "emotions_dir_tess = os.listdir(DIR)\n",
        "# Need to ignore hidden files\n",
        "emotions_dir_tess = [d for d in emotions_dir_tess if not d.startswith('.')]\n",
        "\n",
        "# Code to calculate emotion counts\n",
        "mapping = {}\n",
        "for emotion in emotions_dir_tess:\n",
        "    emotion_counter = len(glob.glob(\"Tess/\"+emotion+\"/*.wav\"))\n",
        "    emotion = emotion.split(\"_\")[-1].lower()\n",
        "    if emotion not in mapping:\n",
        "        mapping[emotion] = emotion_counter\n",
        "    else:\n",
        "        mapping[emotion]+=emotion_counter\n",
        "print(mapping)\n",
        "\n",
        "# Create dataframe from dictionary and plot the graph\n",
        "tess_label_df = pd.DataFrame.from_dict(mapping, orient='index')\n",
        "tess_label_df.columns = ['Count']\n",
        "tess_label_df.plot(kind='bar', figsize=(12, 4), title=\"Distribution of emotions in TESS data\",xlabel='Emotions',ylabel='Count')"
      ],
      "id": "orange-taiwan",
      "execution_count": 7,
      "outputs": [
        {
          "output_type": "stream",
          "name": "stdout",
          "text": [
            "{'disgust': 391, 'fear': 379, 'angry': 382, 'surprised': 387, 'happy': 383, 'sad': 379, 'neutral': 378}\n"
          ]
        },
        {
          "output_type": "execute_result",
          "data": {
            "text/plain": [
              "<Axes: title={'center': 'Distribution of emotions in TESS data'}, xlabel='Emotions', ylabel='Count'>"
            ]
          },
          "metadata": {},
          "execution_count": 7
        },
        {
          "output_type": "display_data",
          "data": {
            "text/plain": [
              "<Figure size 1200x400 with 1 Axes>"
            ],
            "image/png": "[encoded data removed]"
          },
          "metadata": {}
        }
      ]
    },
    {
      "cell_type": "code",
      "source": [
        "# Same experiment as above, but now for ravdess data\n",
        "# Emotion (01 = neutral, 02 = calm, 03 = happy, 04 = sad, 05 = angry, 06 = fearful, 07 = disgust, 08 = surprised).\n",
        "ravdess_emotions_mapping = {}\n",
        "# Code to calculate emotion counts\n",
        "for file_name in ravdess_wav_files:\n",
        "    emotion = file_name.split(\"_\")[-1].split(\".\")[0]\n",
        "    if emotion not in ravdess_emotions_mapping:\n",
        "        ravdess_emotions_mapping[emotion] = 1\n",
        "    else:\n",
        "        ravdess_emotions_mapping[emotion]+=1\n",
        "print(ravdess_emotions_mapping)\n",
        "\n",
        "# Create dataframe from dictionary and plot the graph\n",
        "ravdess_label_df = pd.DataFrame.from_dict(ravdess_emotions_mapping, orient='index')\n",
        "ravdess_label_df.columns = ['Count']\n",
        "ravdess_label_df\n",
        "ravdess_label_df.plot(kind='bar', figsize=(12, 4), title=\"Distribution of emotions in Ravdess data\",xlabel='Emotions',ylabel='Count')"
      ],
      "metadata": {
        "colab": {
          "base_uri": "https://localhost:8080/",
          "height": 496
        },
        "id": "ylN4U3t72U7V",
        "outputId": "39f7bf7f-6595-43bd-c6e5-b611dcf52d97"
      },
      "id": "ylN4U3t72U7V",
      "execution_count": 8,
      "outputs": [
        {
          "output_type": "stream",
          "name": "stdout",
          "text": [
            "{'neutral': 88, 'fear': 182, 'sad': 183, 'angry': 179, 'surprised': 182, 'happy': 174, 'disgust': 180}\n"
          ]
        },
        {
          "output_type": "execute_result",
          "data": {
            "text/plain": [
              "<Axes: title={'center': 'Distribution of emotions in Ravdess data'}, xlabel='Emotions', ylabel='Count'>"
            ]
          },
          "metadata": {},
          "execution_count": 8
        },
        {
          "output_type": "display_data",
          "data": {
            "text/plain": [
              "<Figure size 1200x400 with 1 Axes>"
            ],
            "image/png": "[encoded data removed]"
          },
          "metadata": {}
        }
      ]
    },
    {
      "cell_type": "markdown",
      "metadata": {
        "id": "established-airfare"
      },
      "source": [
        "#### Visualize sample audio signal using librosa"
      ],
      "id": "established-airfare"
    },
    {
      "cell_type": "code",
      "metadata": {
        "id": "outstanding-caribbean",
        "colab": {
          "base_uri": "https://localhost:8080/",
          "height": 405
        },
        "outputId": "b5ba619d-a4a5-4506-b9a3-f4cd21030681"
      },
      "source": [
        "# YOUR CODE HERE\n",
        "sample_audio_tess = tess_wav_files[0]\n",
        "signal, sr = librosa.load(sample_audio_tess)\n",
        "plt.figure(figsize=(12, 4))\n",
        "librosa.display.waveshow(signal, sr=sr)"
      ],
      "id": "outstanding-caribbean",
      "execution_count": 9,
      "outputs": [
        {
          "output_type": "execute_result",
          "data": {
            "text/plain": [
              "<librosa.display.AdaptiveWaveplot at 0x7c1062bce050>"
            ]
          },
          "metadata": {},
          "execution_count": 9
        },
        {
          "output_type": "display_data",
          "data": {
            "text/plain": [
              "<Figure size 1200x400 with 1 Axes>"
            ],
            "image/png": "[encoded data removed]"
          },
          "metadata": {}
        }
      ]
    },
    {
      "cell_type": "markdown",
      "source": [],
      "metadata": {
        "id": "iLGUahy9zTsd"
      },
      "id": "iLGUahy9zTsd"
    },
    {
      "cell_type": "markdown",
      "metadata": {
        "id": "medical-confidence"
      },
      "source": [
        "### Feature extraction (2 points)\n",
        "\n",
        "Read one WAV file at a time using `Librosa`. An audio time series in the form of a 1-dimensional array for mono or 2-dimensional array for stereo, along with time sampling rate (which defines the length of the array), where the elements within each of the arrays represent the amplitude of the sound waves is returned by `librosa.load()` function. Refer to the supplementary notebook ('Audio feature extraction')\n",
        "\n",
        "To know more about Librosa, explore the [link](https://librosa.org/doc/latest/feature.html)"
      ],
      "id": "medical-confidence"
    },
    {
      "cell_type": "code",
      "metadata": {
        "id": "piano-accent",
        "colab": {
          "base_uri": "https://localhost:8080/"
        },
        "outputId": "c50c6327-1c20-4371-de88-fb9c12a275da"
      },
      "source": [
        "# YOUR CODE HERE\n",
        "def extract_feature(file_name):\n",
        "    # load audio\n",
        "    X, sample_rate = librosa.load(file_name)\n",
        "    # apply stft()\n",
        "    stft=np.abs(librosa.stft(X))\n",
        "    result=np.array([])\n",
        "    # compute mfcc\n",
        "    mfccs=np.mean(librosa.feature.mfcc(y=X, sr=sample_rate, n_mfcc=40).T,axis=0)\n",
        "    # combine the features\n",
        "    result=np.hstack((result, mfccs))\n",
        "    # compute chroma features and combine\n",
        "    chroma=np.mean(librosa.feature.chroma_stft(S=stft, sr=sample_rate).T,axis=0)\n",
        "    result=np.hstack((result, chroma))\n",
        "    # compute melspectrogram and combine\n",
        "    mel=np.mean(librosa.feature.melspectrogram(y=X, sr=sample_rate).T,axis=0)\n",
        "    result=np.hstack((result, mel))\n",
        "    return result\n",
        "\n",
        "sample_feature = extract_feature(tess_wav_files[0])\n",
        "print(sample_feature)"
      ],
      "id": "piano-accent",
      "execution_count": 10,
      "outputs": [
        {
          "output_type": "stream",
          "name": "stdout",
          "text": [
            "[-3.91513153e+02  8.94147110e+01 -6.15336180e+00 -1.18517199e+01\n",
            "  4.45684671e+00  3.86570239e+00 -1.21337328e+01  3.43397832e+00\n",
            " -8.14128971e+00  4.74951887e+00 -7.83878565e+00  3.98536511e-02\n",
            " -3.33683586e+00  5.37893295e+00  1.05716181e+00  3.18337822e+00\n",
            " -4.33655787e+00  4.28747988e+00  8.16430032e-01 -2.54923081e+00\n",
            " -2.48484865e-01  2.44699097e+00 -5.06804514e+00  1.90925395e+00\n",
            " -4.66803646e+00  1.50033820e+00  1.46598685e+00  1.98848903e+00\n",
            "  8.89842689e-01  4.34525824e+00 -1.19554555e+00  5.55243540e+00\n",
            "  9.98875558e-01  5.12323236e+00  4.24534225e+00  6.68790054e+00\n",
            "  7.98458624e+00  6.81845856e+00  6.26099777e+00  4.37369061e+00\n",
            "  5.03292739e-01  5.28844178e-01  5.60165763e-01  5.91815293e-01\n",
            "  5.63390672e-01  5.51079631e-01  5.25885582e-01  5.20090520e-01\n",
            "  5.66198528e-01  6.50201142e-01  6.46382451e-01  5.39154589e-01\n",
            "  1.06719017e+00  1.39876708e-01  1.86851677e-02  4.84586880e-03\n",
            "  1.83702726e-02  1.67616725e-01  4.58590120e-01  4.66404945e-01\n",
            "  4.22660500e-01  2.96871334e-01  1.95609689e-01  1.22910798e-01\n",
            "  2.14444235e-01  5.67757189e-01  8.48147869e-01  6.59636319e-01\n",
            "  7.27140903e-01  9.83197868e-01  7.54613578e-01  5.77174723e-01\n",
            "  4.77438807e-01  7.16137707e-01  3.02806705e-01  9.24053565e-02\n",
            "  6.95344210e-02  9.20993909e-02  1.25622705e-01  1.54362217e-01\n",
            "  7.93769062e-02  4.42351215e-02  5.37501238e-02  9.80877504e-02\n",
            "  1.92515969e-01  2.61662453e-01  4.06947762e-01  6.71338081e-01\n",
            "  1.18938768e+00  4.64828461e-01  7.84842446e-02  6.86145425e-02\n",
            "  5.94348013e-02  5.19571789e-02  5.00221252e-02  5.01168370e-02\n",
            "  5.17065525e-02  3.06269731e-02  2.90998947e-02  4.48798686e-02\n",
            "  3.58438119e-02  3.83364297e-02  5.07465117e-02  6.50514662e-02\n",
            "  3.85559909e-02  3.23861167e-02  4.22926657e-02  4.38480489e-02\n",
            "  1.07075900e-01  1.62048981e-01  9.34299901e-02  4.51355241e-02\n",
            "  3.23405005e-02  3.19588892e-02  4.47714739e-02  1.91311799e-02\n",
            "  1.27728507e-02  1.22429831e-02  1.34855816e-02  1.53268250e-02\n",
            "  1.72598232e-02  1.02376351e-02  9.69488453e-03  7.62162590e-03\n",
            "  7.57035194e-03  6.90250611e-03  5.21994149e-03  2.93137389e-03\n",
            "  2.57926504e-03  2.46911240e-03  1.35919673e-03  1.20532990e-03\n",
            "  8.82142049e-04  4.48906445e-04  4.81907366e-04  4.63563250e-04\n",
            "  3.60193313e-04  3.91267444e-04  5.92631695e-04  8.42378009e-04\n",
            "  5.02643466e-04  4.62684315e-04  5.33058948e-04  6.71300862e-04\n",
            "  1.31042942e-03  9.76411160e-04  5.67896001e-04  8.85023735e-04\n",
            "  1.72975927e-03  2.11327337e-03  2.55996804e-03  2.85394234e-03\n",
            "  3.49371694e-03  2.32087774e-03  1.87032914e-03  1.61023659e-03\n",
            "  1.49041147e-03  1.14765845e-03  1.21292623e-03  1.45176239e-03\n",
            "  1.51915534e-03  1.18157198e-03  7.75725988e-04  7.32335786e-04\n",
            "  7.19330739e-04  5.99998515e-04  5.53543679e-04  6.18911348e-04\n",
            "  6.86577230e-04  6.94127928e-04  1.10033795e-03  1.09540962e-03\n",
            "  1.15984876e-03  1.19176961e-03  6.23192929e-04  4.92914289e-04\n",
            "  4.14212234e-04  3.78808560e-04  2.46694894e-04  2.23874886e-05]\n"
          ]
        }
      ]
    },
    {
      "cell_type": "markdown",
      "metadata": {
        "id": "7d3bd640"
      },
      "source": [
        "#### Create a dictionary or a function to encode the emotions"
      ],
      "id": "7d3bd640"
    },
    {
      "cell_type": "code",
      "metadata": {
        "id": "c0c8d44d"
      },
      "source": [
        "# YOUR CODE HERE\n",
        "# Ravdess Emotion (01 = neutral, 02 = calm, 03 = happy, 04 = sad, 05 = angry, 06 = fearful, 07 = disgust, 08 = surprised).\n",
        "emotions = {'neutral': 1, 'calm': 2, 'happy': 3, 'sad': 4, 'angry': 5, 'fear': 6, 'disgust': 7, 'surprised': 8}"
      ],
      "id": "c0c8d44d",
      "execution_count": 11,
      "outputs": []
    },
    {
      "cell_type": "markdown",
      "metadata": {
        "id": "coupled-villa"
      },
      "source": [
        "#### TESS data feature extraction"
      ],
      "id": "coupled-villa"
    },
    {
      "cell_type": "code",
      "metadata": {
        "id": "quarterly-adrian",
        "colab": {
          "base_uri": "https://localhost:8080/"
        },
        "outputId": "7d526536-dc56-4d82-cc5d-d31b018a5943"
      },
      "source": [
        "# YOUR CODE HERE\n",
        "import time\n",
        "features, labels = [], []\n",
        "\n",
        "begin = time.time()\n",
        "for wv_file in tess_wav_files:\n",
        "  features.append(extract_feature(wv_file))\n",
        "  # extracting label\n",
        "  emt = wv_file.split(\"_\")[-1].split(\".\")[0].lower()\n",
        "  labels.append(emotions[emt])\n",
        "end = time.time()\n",
        "print(\"Time taken = \",end-begin)\n",
        "print(\"Feature len = \\n\",len(features))\n",
        "print(\"Label len = \\n\",len(labels))"
      ],
      "id": "quarterly-adrian",
      "execution_count": 12,
      "outputs": [
        {
          "output_type": "stream",
          "name": "stdout",
          "text": [
            "Time taken =  91.00550508499146\n",
            "Feature len = \n",
            " 2679\n",
            "Label len = \n",
            " 2679\n"
          ]
        }
      ]
    },
    {
      "cell_type": "code",
      "source": [
        "import multiprocessing\n",
        "\n",
        "def tess_feature_extraction():\n",
        "    features, labels = [], []\n",
        "\n",
        "    # Get CPU count to set to multiprocessing, since feature extraction is CPU bound\n",
        "    num_cores = os.cpu_count()\n",
        "\n",
        "    begin = time.time()\n",
        "\n",
        "    with multiprocessing.Pool(processes=num_cores) as p:\n",
        "        features = p.map(extract_feature, tess_wav_files)\n",
        "\n",
        "    labels = [emotions[wv_file.split(\"_\")[-1].split(\".\")[0].lower()] for wv_file in tess_wav_files]\n",
        "    end = time.time()\n",
        "    print(\"Time taken = \",end-begin)\n",
        "    print(\"Feature len = \",len(features))\n",
        "    print(\"Label len = \",len(labels))\n",
        "    # Convert list to nparray to use with sklearn models\n",
        "    return np.array(features), np.array(labels)"
      ],
      "metadata": {
        "id": "i7EykQTvCi89"
      },
      "id": "i7EykQTvCi89",
      "execution_count": 13,
      "outputs": []
    },
    {
      "cell_type": "markdown",
      "metadata": {
        "id": "qKzclsG-FnW6"
      },
      "source": [
        "#### Ravdess data feature extraction"
      ],
      "id": "qKzclsG-FnW6"
    },
    {
      "cell_type": "code",
      "metadata": {
        "id": "iDwNOgKEIH3w"
      },
      "source": [
        "# YOUR CODE HERE\n",
        "def ravdess_feature_extraction():\n",
        "    features, labels = [], []\n",
        "\n",
        "    # Get CPU count to set to multiprocessing, since feature extraction is CPU bound\n",
        "    num_cores = os.cpu_count()\n",
        "\n",
        "    begin = time.time()\n",
        "\n",
        "    with multiprocessing.Pool(processes=num_cores) as p:\n",
        "        features = p.map(extract_feature, ravdess_wav_files)\n",
        "\n",
        "    labels = [emotions[wv_file.split(\"_\")[-1].split(\".\")[0].lower()] for wv_file in ravdess_wav_files]\n",
        "    features = np.array(features)\n",
        "    labels = np.array(labels)\n",
        "    end = time.time()\n",
        "    print(\"Time taken = \",end-begin)\n",
        "    print(\"Feature len = \",len(features))\n",
        "    print(\"Label len = \",len(labels))\n",
        "    return np.array(features), np.array(labels)"
      ],
      "id": "iDwNOgKEIH3w",
      "execution_count": 14,
      "outputs": []
    },
    {
      "cell_type": "markdown",
      "metadata": {
        "id": "2bb62f16"
      },
      "source": [
        "#### Save the features\n",
        "\n",
        "It is best advised to save the features in dataframe and maintain so that feature extraction step is not required to be performed every time.\n",
        "\n",
        "* Make a DataFrame with features and labels\n",
        "\n",
        "* Write dataframe into `.CSV` file and save it offline."
      ],
      "id": "2bb62f16"
    },
    {
      "cell_type": "code",
      "metadata": {
        "id": "9ec91c16",
        "colab": {
          "base_uri": "https://localhost:8080/"
        },
        "outputId": "512fa4e7-e938-45cb-ccaa-14ea8f129c0e"
      },
      "source": [
        "# YOUR CODE HERE\n",
        "features_tess, labels_tess = tess_feature_extraction()\n",
        "features_ravdess, labels_ravdess = ravdess_feature_extraction()\n",
        "features = np.concatenate((features_tess, features_ravdess), axis = 0)\n",
        "labels = np.concatenate((labels_tess, labels_ravdess), axis = 0)\n",
        "audio_df = pd.DataFrame(features)\n",
        "audio_df['labels'] = labels\n",
        "audio_df.to_csv('audio_df.csv', index=False)"
      ],
      "id": "9ec91c16",
      "execution_count": 15,
      "outputs": [
        {
          "output_type": "stream",
          "name": "stdout",
          "text": [
            "Time taken =  98.27049851417542\n",
            "Feature len =  2679\n",
            "Label len =  2679\n",
            "Time taken =  64.0950984954834\n",
            "Feature len =  1168\n",
            "Label len =  1168\n"
          ]
        }
      ]
    },
    {
      "cell_type": "code",
      "source": [
        "audio_df.head()"
      ],
      "metadata": {
        "colab": {
          "base_uri": "https://localhost:8080/",
          "height": 256
        },
        "id": "g8n0iBo8ktCk",
        "outputId": "9b33c5e3-964c-466e-ffd9-21e343a45da8"
      },
      "id": "g8n0iBo8ktCk",
      "execution_count": 16,
      "outputs": [
        {
          "output_type": "execute_result",
          "data": {
            "text/plain": [
              "            0          1          2          3          4         5  \\\n",
              "0 -391.513153  89.414711  -6.153362 -11.851720   4.456847  3.865702   \n",
              "1 -438.149231  87.765327  24.734135   8.207476  17.943851  0.863213   \n",
              "2 -466.970947  81.867195  18.873188  -1.507366  -0.573943 -2.628329   \n",
              "3 -460.240112  83.245300  24.703079   2.589535   4.115627  7.272528   \n",
              "4 -438.451569  65.734612  11.094082  10.481167   9.887802 -3.950994   \n",
              "\n",
              "           6         7          8         9  ...       171       172  \\\n",
              "0 -12.133733  3.433978  -8.141290  4.749519  ...  0.001095  0.001160   \n",
              "1 -13.006774  5.545661 -16.473219 -7.611423  ...  0.000522  0.000630   \n",
              "2  -9.102486  1.794675 -17.401285  2.021430  ...  0.000591  0.000757   \n",
              "3  -7.157565  3.191290 -18.359760  1.297180  ...  0.000378  0.000278   \n",
              "4 -15.405934  3.653453 -14.802813 -0.327379  ...  0.000817  0.000388   \n",
              "\n",
              "        173       174       175       176       177       178       179  \\\n",
              "0  0.001192  0.000623  0.000493  0.000414  0.000379  0.000247  0.000022   \n",
              "1  0.000660  0.000564  0.000427  0.000319  0.000309  0.000204  0.000018   \n",
              "2  0.000801  0.000633  0.000282  0.000163  0.000142  0.000066  0.000006   \n",
              "3  0.000192  0.000211  0.000126  0.000137  0.000112  0.000051  0.000004   \n",
              "4  0.000201  0.000169  0.000163  0.000176  0.000197  0.000073  0.000005   \n",
              "\n",
              "   labels  \n",
              "0       7  \n",
              "1       7  \n",
              "2       7  \n",
              "3       7  \n",
              "4       7  \n",
              "\n",
              "[5 rows x 181 columns]"
            ],
            "text/html": [
              "\n",
              "  <div id=\"df-8e100581-0512-4786-ba4a-9b371c37afa2\" class=\"colab-df-container\">\n",
              "    <div>\n",
              "<style scoped>\n",
              "    .dataframe tbody tr th:only-of-type {\n",
              "        vertical-align: middle;\n",
              "    }\n",
              "\n",
              "    .dataframe tbody tr th {\n",
              "        vertical-align: top;\n",
              "    }\n",
              "\n",
              "    .dataframe thead th {\n",
              "        text-align: right;\n",
              "    }\n",
              "</style>\n",
              "<table border=\"1\" class=\"dataframe\">\n",
              "  <thead>\n",
              "    <tr style=\"text-align: right;\">\n",
              "      <th></th>\n",
              "      <th>0</th>\n",
              "      <th>1</th>\n",
              "      <th>2</th>\n",
              "      <th>3</th>\n",
              "      <th>4</th>\n",
              "      <th>5</th>\n",
              "      <th>6</th>\n",
              "      <th>7</th>\n",
              "      <th>8</th>\n",
              "      <th>9</th>\n",
              "      <th>...</th>\n",
              "      <th>171</th>\n",
              "      <th>172</th>\n",
              "      <th>173</th>\n",
              "      <th>174</th>\n",
              "      <th>175</th>\n",
              "      <th>176</th>\n",
              "      <th>177</th>\n",
              "      <th>178</th>\n",
              "      <th>179</th>\n",
              "      <th>labels</th>\n",
              "    </tr>\n",
              "  </thead>\n",
              "  <tbody>\n",
              "    <tr>\n",
              "      <th>0</th>\n",
              "      <td>-391.513153</td>\n",
              "      <td>89.414711</td>\n",
              "      <td>-6.153362</td>\n",
              "      <td>-11.851720</td>\n",
              "      <td>4.456847</td>\n",
              "      <td>3.865702</td>\n",
              "      <td>-12.133733</td>\n",
              "      <td>3.433978</td>\n",
              "      <td>-8.141290</td>\n",
              "      <td>4.749519</td>\n",
              "      <td>...</td>\n",
              "      <td>0.001095</td>\n",
              "      <td>0.001160</td>\n",
              "      <td>0.001192</td>\n",
              "      <td>0.000623</td>\n",
              "      <td>0.000493</td>\n",
              "      <td>0.000414</td>\n",
              "      <td>0.000379</td>\n",
              "      <td>0.000247</td>\n",
              "      <td>0.000022</td>\n",
              "      <td>7</td>\n",
              "    </tr>\n",
              "    <tr>\n",
              "      <th>1</th>\n",
              "      <td>-438.149231</td>\n",
              "      <td>87.765327</td>\n",
              "      <td>24.734135</td>\n",
              "      <td>8.207476</td>\n",
              "      <td>17.943851</td>\n",
              "      <td>0.863213</td>\n",
              "      <td>-13.006774</td>\n",
              "      <td>5.545661</td>\n",
              "      <td>-16.473219</td>\n",
              "      <td>-7.611423</td>\n",
              "      <td>...</td>\n",
              "      <td>0.000522</td>\n",
              "      <td>0.000630</td>\n",
              "      <td>0.000660</td>\n",
              "      <td>0.000564</td>\n",
              "      <td>0.000427</td>\n",
              "      <td>0.000319</td>\n",
              "      <td>0.000309</td>\n",
              "      <td>0.000204</td>\n",
              "      <td>0.000018</td>\n",
              "      <td>7</td>\n",
              "    </tr>\n",
              "    <tr>\n",
              "      <th>2</th>\n",
              "      <td>-466.970947</td>\n",
              "      <td>81.867195</td>\n",
              "      <td>18.873188</td>\n",
              "      <td>-1.507366</td>\n",
              "      <td>-0.573943</td>\n",
              "      <td>-2.628329</td>\n",
              "      <td>-9.102486</td>\n",
              "      <td>1.794675</td>\n",
              "      <td>-17.401285</td>\n",
              "      <td>2.021430</td>\n",
              "      <td>...</td>\n",
              "      <td>0.000591</td>\n",
              "      <td>0.000757</td>\n",
              "      <td>0.000801</td>\n",
              "      <td>0.000633</td>\n",
              "      <td>0.000282</td>\n",
              "      <td>0.000163</td>\n",
              "      <td>0.000142</td>\n",
              "      <td>0.000066</td>\n",
              "      <td>0.000006</td>\n",
              "      <td>7</td>\n",
              "    </tr>\n",
              "    <tr>\n",
              "      <th>3</th>\n",
              "      <td>-460.240112</td>\n",
              "      <td>83.245300</td>\n",
              "      <td>24.703079</td>\n",
              "      <td>2.589535</td>\n",
              "      <td>4.115627</td>\n",
              "      <td>7.272528</td>\n",
              "      <td>-7.157565</td>\n",
              "      <td>3.191290</td>\n",
              "      <td>-18.359760</td>\n",
              "      <td>1.297180</td>\n",
              "      <td>...</td>\n",
              "      <td>0.000378</td>\n",
              "      <td>0.000278</td>\n",
              "      <td>0.000192</td>\n",
              "      <td>0.000211</td>\n",
              "      <td>0.000126</td>\n",
              "      <td>0.000137</td>\n",
              "      <td>0.000112</td>\n",
              "      <td>0.000051</td>\n",
              "      <td>0.000004</td>\n",
              "      <td>7</td>\n",
              "    </tr>\n",
              "    <tr>\n",
              "      <th>4</th>\n",
              "      <td>-438.451569</td>\n",
              "      <td>65.734612</td>\n",
              "      <td>11.094082</td>\n",
              "      <td>10.481167</td>\n",
              "      <td>9.887802</td>\n",
              "      <td>-3.950994</td>\n",
              "      <td>-15.405934</td>\n",
              "      <td>3.653453</td>\n",
              "      <td>-14.802813</td>\n",
              "      <td>-0.327379</td>\n",
              "      <td>...</td>\n",
              "      <td>0.000817</td>\n",
              "      <td>0.000388</td>\n",
              "      <td>0.000201</td>\n",
              "      <td>0.000169</td>\n",
              "      <td>0.000163</td>\n",
              "      <td>0.000176</td>\n",
              "      <td>0.000197</td>\n",
              "      <td>0.000073</td>\n",
              "      <td>0.000005</td>\n",
              "      <td>7</td>\n",
              "    </tr>\n",
              "  </tbody>\n",
              "</table>\n",
              "<p>5 rows × 181 columns</p>\n",
              "</div>\n",
              "    <div class=\"colab-df-buttons\">\n",
              "\n",
              "  <div class=\"colab-df-container\">\n",
              "    <button class=\"colab-df-convert\" onclick=\"convertToInteractive('df-8e100581-0512-4786-ba4a-9b371c37afa2')\"\n",
              "            title=\"Convert this dataframe to an interactive table.\"\n",
              "            style=\"display:none;\">\n",
              "\n",
              "  <svg xmlns=\"http://www.w3.org/2000/svg\" height=\"24px\" viewBox=\"0 -960 960 960\">\n",
              "    <path d=\"M120-120v-720h720v720H120Zm60-500h600v-160H180v160Zm220 220h160v-160H400v160Zm0 220h160v-160H400v160ZM180-400h160v-160H180v160Zm440 0h160v-160H620v160ZM180-180h160v-160H180v160Zm440 0h160v-160H620v160Z\"/>\n",
              "  </svg>\n",
              "    </button>\n",
              "\n",
              "  <style>\n",
              "    .colab-df-container {\n",
              "      display:flex;\n",
              "      gap: 12px;\n",
              "    }\n",
              "\n",
              "    .colab-df-convert {\n",
              "      background-color: #E8F0FE;\n",
              "      border: none;\n",
              "      border-radius: 50%;\n",
              "      cursor: pointer;\n",
              "      display: none;\n",
              "      fill: #1967D2;\n",
              "      height: 32px;\n",
              "      padding: 0 0 0 0;\n",
              "      width: 32px;\n",
              "    }\n",
              "\n",
              "    .colab-df-convert:hover {\n",
              "      background-color: #E2EBFA;\n",
              "      box-shadow: 0px 1px 2px rgba(60, 64, 67, 0.3), 0px 1px 3px 1px rgba(60, 64, 67, 0.15);\n",
              "      fill: #174EA6;\n",
              "    }\n",
              "\n",
              "    .colab-df-buttons div {\n",
              "      margin-bottom: 4px;\n",
              "    }\n",
              "\n",
              "    [theme=dark] .colab-df-convert {\n",
              "      background-color: #3B4455;\n",
              "      fill: #D2E3FC;\n",
              "    }\n",
              "\n",
              "    [theme=dark] .colab-df-convert:hover {\n",
              "      background-color: #434B5C;\n",
              "      box-shadow: 0px 1px 3px 1px rgba(0, 0, 0, 0.15);\n",
              "      filter: drop-shadow(0px 1px 2px rgba(0, 0, 0, 0.3));\n",
              "      fill: #FFFFFF;\n",
              "    }\n",
              "  </style>\n",
              "\n",
              "    <script>\n",
              "      const buttonEl =\n",
              "        document.querySelector('#df-8e100581-0512-4786-ba4a-9b371c37afa2 button.colab-df-convert');\n",
              "      buttonEl.style.display =\n",
              "        google.colab.kernel.accessAllowed ? 'block' : 'none';\n",
              "\n",
              "      async function convertToInteractive(key) {\n",
              "        const element = document.querySelector('#df-8e100581-0512-4786-ba4a-9b371c37afa2');\n",
              "        const dataTable =\n",
              "          await google.colab.kernel.invokeFunction('convertToInteractive',\n",
              "                                                    [key], {});\n",
              "        if (!dataTable) return;\n",
              "\n",
              "        const docLinkHtml = 'Like what you see? Visit the ' +\n",
              "          '<a target=\"_blank\" href=https://colab.research.google.com/notebooks/data_table.ipynb>data table notebook</a>'\n",
              "          + ' to learn more about interactive tables.';\n",
              "        element.innerHTML = '';\n",
              "        dataTable['output_type'] = 'display_data';\n",
              "        await google.colab.output.renderOutput(dataTable, element);\n",
              "        const docLink = document.createElement('div');\n",
              "        docLink.innerHTML = docLinkHtml;\n",
              "        element.appendChild(docLink);\n",
              "      }\n",
              "    </script>\n",
              "  </div>\n",
              "\n",
              "\n",
              "<div id=\"df-38d9fd6a-bf85-4cca-9a20-40ed4881d0e7\">\n",
              "  <button class=\"colab-df-quickchart\" onclick=\"quickchart('df-38d9fd6a-bf85-4cca-9a20-40ed4881d0e7')\"\n",
              "            title=\"Suggest charts\"\n",
              "            style=\"display:none;\">\n",
              "\n",
              "<svg xmlns=\"http://www.w3.org/2000/svg\" height=\"24px\"viewBox=\"0 0 24 24\"\n",
              "     width=\"24px\">\n",
              "    <g>\n",
              "        <path d=\"M19 3H5c-1.1 0-2 .9-2 2v14c0 1.1.9 2 2 2h14c1.1 0 2-.9 2-2V5c0-1.1-.9-2-2-2zM9 17H7v-7h2v7zm4 0h-2V7h2v10zm4 0h-2v-4h2v4z\"/>\n",
              "    </g>\n",
              "</svg>\n",
              "  </button>\n",
              "\n",
              "<style>\n",
              "  .colab-df-quickchart {\n",
              "      --bg-color: #E8F0FE;\n",
              "      --fill-color: #1967D2;\n",
              "      --hover-bg-color: #E2EBFA;\n",
              "      --hover-fill-color: #174EA6;\n",
              "      --disabled-fill-color: #AAA;\n",
              "      --disabled-bg-color: #DDD;\n",
              "  }\n",
              "\n",
              "  [theme=dark] .colab-df-quickchart {\n",
              "      --bg-color: #3B4455;\n",
              "      --fill-color: #D2E3FC;\n",
              "      --hover-bg-color: #434B5C;\n",
              "      --hover-fill-color: #FFFFFF;\n",
              "      --disabled-bg-color: #3B4455;\n",
              "      --disabled-fill-color: #666;\n",
              "  }\n",
              "\n",
              "  .colab-df-quickchart {\n",
              "    background-color: var(--bg-color);\n",
              "    border: none;\n",
              "    border-radius: 50%;\n",
              "    cursor: pointer;\n",
              "    display: none;\n",
              "    fill: var(--fill-color);\n",
              "    height: 32px;\n",
              "    padding: 0;\n",
              "    width: 32px;\n",
              "  }\n",
              "\n",
              "  .colab-df-quickchart:hover {\n",
              "    background-color: var(--hover-bg-color);\n",
              "    box-shadow: 0 1px 2px rgba(60, 64, 67, 0.3), 0 1px 3px 1px rgba(60, 64, 67, 0.15);\n",
              "    fill: var(--button-hover-fill-color);\n",
              "  }\n",
              "\n",
              "  .colab-df-quickchart-complete:disabled,\n",
              "  .colab-df-quickchart-complete:disabled:hover {\n",
              "    background-color: var(--disabled-bg-color);\n",
              "    fill: var(--disabled-fill-color);\n",
              "    box-shadow: none;\n",
              "  }\n",
              "\n",
              "  .colab-df-spinner {\n",
              "    border: 2px solid var(--fill-color);\n",
              "    border-color: transparent;\n",
              "    border-bottom-color: var(--fill-color);\n",
              "    animation:\n",
              "      spin 1s steps(1) infinite;\n",
              "  }\n",
              "\n",
              "  @keyframes spin {\n",
              "    0% {\n",
              "      border-color: transparent;\n",
              "      border-bottom-color: var(--fill-color);\n",
              "      border-left-color: var(--fill-color);\n",
              "    }\n",
              "    20% {\n",
              "      border-color: transparent;\n",
              "      border-left-color: var(--fill-color);\n",
              "      border-top-color: var(--fill-color);\n",
              "    }\n",
              "    30% {\n",
              "      border-color: transparent;\n",
              "      border-left-color: var(--fill-color);\n",
              "      border-top-color: var(--fill-color);\n",
              "      border-right-color: var(--fill-color);\n",
              "    }\n",
              "    40% {\n",
              "      border-color: transparent;\n",
              "      border-right-color: var(--fill-color);\n",
              "      border-top-color: var(--fill-color);\n",
              "    }\n",
              "    60% {\n",
              "      border-color: transparent;\n",
              "      border-right-color: var(--fill-color);\n",
              "    }\n",
              "    80% {\n",
              "      border-color: transparent;\n",
              "      border-right-color: var(--fill-color);\n",
              "      border-bottom-color: var(--fill-color);\n",
              "    }\n",
              "    90% {\n",
              "      border-color: transparent;\n",
              "      border-bottom-color: var(--fill-color);\n",
              "    }\n",
              "  }\n",
              "</style>\n",
              "\n",
              "  <script>\n",
              "    async function quickchart(key) {\n",
              "      const quickchartButtonEl =\n",
              "        document.querySelector('#' + key + ' button');\n",
              "      quickchartButtonEl.disabled = true;  // To prevent multiple clicks.\n",
              "      quickchartButtonEl.classList.add('colab-df-spinner');\n",
              "      try {\n",
              "        const charts = await google.colab.kernel.invokeFunction(\n",
              "            'suggestCharts', [key], {});\n",
              "      } catch (error) {\n",
              "        console.error('Error during call to suggestCharts:', error);\n",
              "      }\n",
              "      quickchartButtonEl.classList.remove('colab-df-spinner');\n",
              "      quickchartButtonEl.classList.add('colab-df-quickchart-complete');\n",
              "    }\n",
              "    (() => {\n",
              "      let quickchartButtonEl =\n",
              "        document.querySelector('#df-38d9fd6a-bf85-4cca-9a20-40ed4881d0e7 button');\n",
              "      quickchartButtonEl.style.display =\n",
              "        google.colab.kernel.accessAllowed ? 'block' : 'none';\n",
              "    })();\n",
              "  </script>\n",
              "</div>\n",
              "\n",
              "    </div>\n",
              "  </div>\n"
            ],
            "application/vnd.google.colaboratory.intrinsic+json": {
              "type": "dataframe",
              "variable_name": "audio_df"
            }
          },
          "metadata": {},
          "execution_count": 16
        }
      ]
    },
    {
      "cell_type": "markdown",
      "metadata": {
        "id": "aggressive-cause"
      },
      "source": [
        "#### Split the data into train and test"
      ],
      "id": "aggressive-cause"
    },
    {
      "cell_type": "code",
      "metadata": {
        "id": "nearby-angle"
      },
      "source": [
        "# YOUR CODE HERE\n",
        "X_train, X_test, y_train, y_test = train_test_split(features, audio_df['labels'], test_size=0.2, random_state=42)"
      ],
      "id": "nearby-angle",
      "execution_count": 17,
      "outputs": []
    },
    {
      "cell_type": "markdown",
      "metadata": {
        "id": "ordered-weapon"
      },
      "source": [
        "### Train the model with TESS + Ravdess data (2 points)\n",
        "\n",
        "* Apply different ML algorithms (eg. DecisionTree, RandomForest, etc.) and find the model with best performance"
      ],
      "id": "ordered-weapon"
    },
    {
      "cell_type": "code",
      "source": [
        "# YOUR CODE HERE\n",
        "# Writing Implementations of different algorithms here\n",
        "def model_predict_evaluate():\n",
        "    classification_models = [\n",
        "    LogisticRegression(),\n",
        "    DecisionTreeClassifier(),\n",
        "    RandomForestClassifier(n_estimators=10, random_state=42, max_features=\"sqrt\")\n",
        "    ]\n",
        "    scores = []\n",
        "    best_model = None\n",
        "    best_score = 0\n",
        "    for model in classification_models:\n",
        "        model.fit(X_train, y_train)\n",
        "        score = f1_score(y_test, model.predict(X_test), average='weighted')\n",
        "        model_name = type(model).__name__\n",
        "        scores.append((model_name,round(score,4)))\n",
        "        if best_model is None or best_score < score:\n",
        "            best_model = model\n",
        "            best_score = score\n",
        "    # Make it pretty\n",
        "    scores_df = pd.DataFrame(scores,columns=['Classifier','f1-Score'])\n",
        "    scores_df.sort_values(by='f1-Score',axis=0,ascending=False)\n",
        "    return scores_df, best_model\n",
        "\n",
        "scores_df, best_model = model_predict_evaluate()\n",
        "print(\"Best model is \",type(best_model).__name__)\n"
      ],
      "metadata": {
        "id": "7m4Icn7ImvGI",
        "colab": {
          "base_uri": "https://localhost:8080/"
        },
        "outputId": "338428c1-ca5a-40aa-fa97-d32ecb9de1e4"
      },
      "id": "7m4Icn7ImvGI",
      "execution_count": 18,
      "outputs": [
        {
          "output_type": "stream",
          "name": "stdout",
          "text": [
            "Best model is  RandomForestClassifier\n"
          ]
        }
      ]
    },
    {
      "cell_type": "code",
      "source": [
        "scores_df"
      ],
      "metadata": {
        "colab": {
          "base_uri": "https://localhost:8080/",
          "height": 143
        },
        "id": "obEABhHHm00j",
        "outputId": "b6f8d049-dd37-48a4-ad63-e51aff69ed9c"
      },
      "id": "obEABhHHm00j",
      "execution_count": 19,
      "outputs": [
        {
          "output_type": "execute_result",
          "data": {
            "text/plain": [
              "               Classifier  f1-Score\n",
              "0      LogisticRegression    0.7701\n",
              "1  DecisionTreeClassifier    0.7363\n",
              "2  RandomForestClassifier    0.8325"
            ],
            "text/html": [
              "\n",
              "  <div id=\"df-2f8fab36-3616-43f5-87e4-f0e4e8f5cc17\" class=\"colab-df-container\">\n",
              "    <div>\n",
              "<style scoped>\n",
              "    .dataframe tbody tr th:only-of-type {\n",
              "        vertical-align: middle;\n",
              "    }\n",
              "\n",
              "    .dataframe tbody tr th {\n",
              "        vertical-align: top;\n",
              "    }\n",
              "\n",
              "    .dataframe thead th {\n",
              "        text-align: right;\n",
              "    }\n",
              "</style>\n",
              "<table border=\"1\" class=\"dataframe\">\n",
              "  <thead>\n",
              "    <tr style=\"text-align: right;\">\n",
              "      <th></th>\n",
              "      <th>Classifier</th>\n",
              "      <th>f1-Score</th>\n",
              "    </tr>\n",
              "  </thead>\n",
              "  <tbody>\n",
              "    <tr>\n",
              "      <th>0</th>\n",
              "      <td>LogisticRegression</td>\n",
              "      <td>0.7701</td>\n",
              "    </tr>\n",
              "    <tr>\n",
              "      <th>1</th>\n",
              "      <td>DecisionTreeClassifier</td>\n",
              "      <td>0.7363</td>\n",
              "    </tr>\n",
              "    <tr>\n",
              "      <th>2</th>\n",
              "      <td>RandomForestClassifier</td>\n",
              "      <td>0.8325</td>\n",
              "    </tr>\n",
              "  </tbody>\n",
              "</table>\n",
              "</div>\n",
              "    <div class=\"colab-df-buttons\">\n",
              "\n",
              "  <div class=\"colab-df-container\">\n",
              "    <button class=\"colab-df-convert\" onclick=\"convertToInteractive('df-2f8fab36-3616-43f5-87e4-f0e4e8f5cc17')\"\n",
              "            title=\"Convert this dataframe to an interactive table.\"\n",
              "            style=\"display:none;\">\n",
              "\n",
              "  <svg xmlns=\"http://www.w3.org/2000/svg\" height=\"24px\" viewBox=\"0 -960 960 960\">\n",
              "    <path d=\"M120-120v-720h720v720H120Zm60-500h600v-160H180v160Zm220 220h160v-160H400v160Zm0 220h160v-160H400v160ZM180-400h160v-160H180v160Zm440 0h160v-160H620v160ZM180-180h160v-160H180v160Zm440 0h160v-160H620v160Z\"/>\n",
              "  </svg>\n",
              "    </button>\n",
              "\n",
              "  <style>\n",
              "    .colab-df-container {\n",
              "      display:flex;\n",
              "      gap: 12px;\n",
              "    }\n",
              "\n",
              "    .colab-df-convert {\n",
              "      background-color: #E8F0FE;\n",
              "      border: none;\n",
              "      border-radius: 50%;\n",
              "      cursor: pointer;\n",
              "      display: none;\n",
              "      fill: #1967D2;\n",
              "      height: 32px;\n",
              "      padding: 0 0 0 0;\n",
              "      width: 32px;\n",
              "    }\n",
              "\n",
              "    .colab-df-convert:hover {\n",
              "      background-color: #E2EBFA;\n",
              "      box-shadow: 0px 1px 2px rgba(60, 64, 67, 0.3), 0px 1px 3px 1px rgba(60, 64, 67, 0.15);\n",
              "      fill: #174EA6;\n",
              "    }\n",
              "\n",
              "    .colab-df-buttons div {\n",
              "      margin-bottom: 4px;\n",
              "    }\n",
              "\n",
              "    [theme=dark] .colab-df-convert {\n",
              "      background-color: #3B4455;\n",
              "      fill: #D2E3FC;\n",
              "    }\n",
              "\n",
              "    [theme=dark] .colab-df-convert:hover {\n",
              "      background-color: #434B5C;\n",
              "      box-shadow: 0px 1px 3px 1px rgba(0, 0, 0, 0.15);\n",
              "      filter: drop-shadow(0px 1px 2px rgba(0, 0, 0, 0.3));\n",
              "      fill: #FFFFFF;\n",
              "    }\n",
              "  </style>\n",
              "\n",
              "    <script>\n",
              "      const buttonEl =\n",
              "        document.querySelector('#df-2f8fab36-3616-43f5-87e4-f0e4e8f5cc17 button.colab-df-convert');\n",
              "      buttonEl.style.display =\n",
              "        google.colab.kernel.accessAllowed ? 'block' : 'none';\n",
              "\n",
              "      async function convertToInteractive(key) {\n",
              "        const element = document.querySelector('#df-2f8fab36-3616-43f5-87e4-f0e4e8f5cc17');\n",
              "        const dataTable =\n",
              "          await google.colab.kernel.invokeFunction('convertToInteractive',\n",
              "                                                    [key], {});\n",
              "        if (!dataTable) return;\n",
              "\n",
              "        const docLinkHtml = 'Like what you see? Visit the ' +\n",
              "          '<a target=\"_blank\" href=https://colab.research.google.com/notebooks/data_table.ipynb>data table notebook</a>'\n",
              "          + ' to learn more about interactive tables.';\n",
              "        element.innerHTML = '';\n",
              "        dataTable['output_type'] = 'display_data';\n",
              "        await google.colab.output.renderOutput(dataTable, element);\n",
              "        const docLink = document.createElement('div');\n",
              "        docLink.innerHTML = docLinkHtml;\n",
              "        element.appendChild(docLink);\n",
              "      }\n",
              "    </script>\n",
              "  </div>\n",
              "\n",
              "\n",
              "<div id=\"df-046ffb73-2afb-43dc-b32d-d37c81fff8fa\">\n",
              "  <button class=\"colab-df-quickchart\" onclick=\"quickchart('df-046ffb73-2afb-43dc-b32d-d37c81fff8fa')\"\n",
              "            title=\"Suggest charts\"\n",
              "            style=\"display:none;\">\n",
              "\n",
              "<svg xmlns=\"http://www.w3.org/2000/svg\" height=\"24px\"viewBox=\"0 0 24 24\"\n",
              "     width=\"24px\">\n",
              "    <g>\n",
              "        <path d=\"M19 3H5c-1.1 0-2 .9-2 2v14c0 1.1.9 2 2 2h14c1.1 0 2-.9 2-2V5c0-1.1-.9-2-2-2zM9 17H7v-7h2v7zm4 0h-2V7h2v10zm4 0h-2v-4h2v4z\"/>\n",
              "    </g>\n",
              "</svg>\n",
              "  </button>\n",
              "\n",
              "<style>\n",
              "  .colab-df-quickchart {\n",
              "      --bg-color: #E8F0FE;\n",
              "      --fill-color: #1967D2;\n",
              "      --hover-bg-color: #E2EBFA;\n",
              "      --hover-fill-color: #174EA6;\n",
              "      --disabled-fill-color: #AAA;\n",
              "      --disabled-bg-color: #DDD;\n",
              "  }\n",
              "\n",
              "  [theme=dark] .colab-df-quickchart {\n",
              "      --bg-color: #3B4455;\n",
              "      --fill-color: #D2E3FC;\n",
              "      --hover-bg-color: #434B5C;\n",
              "      --hover-fill-color: #FFFFFF;\n",
              "      --disabled-bg-color: #3B4455;\n",
              "      --disabled-fill-color: #666;\n",
              "  }\n",
              "\n",
              "  .colab-df-quickchart {\n",
              "    background-color: var(--bg-color);\n",
              "    border: none;\n",
              "    border-radius: 50%;\n",
              "    cursor: pointer;\n",
              "    display: none;\n",
              "    fill: var(--fill-color);\n",
              "    height: 32px;\n",
              "    padding: 0;\n",
              "    width: 32px;\n",
              "  }\n",
              "\n",
              "  .colab-df-quickchart:hover {\n",
              "    background-color: var(--hover-bg-color);\n",
              "    box-shadow: 0 1px 2px rgba(60, 64, 67, 0.3), 0 1px 3px 1px rgba(60, 64, 67, 0.15);\n",
              "    fill: var(--button-hover-fill-color);\n",
              "  }\n",
              "\n",
              "  .colab-df-quickchart-complete:disabled,\n",
              "  .colab-df-quickchart-complete:disabled:hover {\n",
              "    background-color: var(--disabled-bg-color);\n",
              "    fill: var(--disabled-fill-color);\n",
              "    box-shadow: none;\n",
              "  }\n",
              "\n",
              "  .colab-df-spinner {\n",
              "    border: 2px solid var(--fill-color);\n",
              "    border-color: transparent;\n",
              "    border-bottom-color: var(--fill-color);\n",
              "    animation:\n",
              "      spin 1s steps(1) infinite;\n",
              "  }\n",
              "\n",
              "  @keyframes spin {\n",
              "    0% {\n",
              "      border-color: transparent;\n",
              "      border-bottom-color: var(--fill-color);\n",
              "      border-left-color: var(--fill-color);\n",
              "    }\n",
              "    20% {\n",
              "      border-color: transparent;\n",
              "      border-left-color: var(--fill-color);\n",
              "      border-top-color: var(--fill-color);\n",
              "    }\n",
              "    30% {\n",
              "      border-color: transparent;\n",
              "      border-left-color: var(--fill-color);\n",
              "      border-top-color: var(--fill-color);\n",
              "      border-right-color: var(--fill-color);\n",
              "    }\n",
              "    40% {\n",
              "      border-color: transparent;\n",
              "      border-right-color: var(--fill-color);\n",
              "      border-top-color: var(--fill-color);\n",
              "    }\n",
              "    60% {\n",
              "      border-color: transparent;\n",
              "      border-right-color: var(--fill-color);\n",
              "    }\n",
              "    80% {\n",
              "      border-color: transparent;\n",
              "      border-right-color: var(--fill-color);\n",
              "      border-bottom-color: var(--fill-color);\n",
              "    }\n",
              "    90% {\n",
              "      border-color: transparent;\n",
              "      border-bottom-color: var(--fill-color);\n",
              "    }\n",
              "  }\n",
              "</style>\n",
              "\n",
              "  <script>\n",
              "    async function quickchart(key) {\n",
              "      const quickchartButtonEl =\n",
              "        document.querySelector('#' + key + ' button');\n",
              "      quickchartButtonEl.disabled = true;  // To prevent multiple clicks.\n",
              "      quickchartButtonEl.classList.add('colab-df-spinner');\n",
              "      try {\n",
              "        const charts = await google.colab.kernel.invokeFunction(\n",
              "            'suggestCharts', [key], {});\n",
              "      } catch (error) {\n",
              "        console.error('Error during call to suggestCharts:', error);\n",
              "      }\n",
              "      quickchartButtonEl.classList.remove('colab-df-spinner');\n",
              "      quickchartButtonEl.classList.add('colab-df-quickchart-complete');\n",
              "    }\n",
              "    (() => {\n",
              "      let quickchartButtonEl =\n",
              "        document.querySelector('#df-046ffb73-2afb-43dc-b32d-d37c81fff8fa button');\n",
              "      quickchartButtonEl.style.display =\n",
              "        google.colab.kernel.accessAllowed ? 'block' : 'none';\n",
              "    })();\n",
              "  </script>\n",
              "</div>\n",
              "\n",
              "  <div id=\"id_96fefa28-8e0f-4311-a8ed-78ea6337d7b9\">\n",
              "    <style>\n",
              "      .colab-df-generate {\n",
              "        background-color: #E8F0FE;\n",
              "        border: none;\n",
              "        border-radius: 50%;\n",
              "        cursor: pointer;\n",
              "        display: none;\n",
              "        fill: #1967D2;\n",
              "        height: 32px;\n",
              "        padding: 0 0 0 0;\n",
              "        width: 32px;\n",
              "      }\n",
              "\n",
              "      .colab-df-generate:hover {\n",
              "        background-color: #E2EBFA;\n",
              "        box-shadow: 0px 1px 2px rgba(60, 64, 67, 0.3), 0px 1px 3px 1px rgba(60, 64, 67, 0.15);\n",
              "        fill: #174EA6;\n",
              "      }\n",
              "\n",
              "      [theme=dark] .colab-df-generate {\n",
              "        background-color: #3B4455;\n",
              "        fill: #D2E3FC;\n",
              "      }\n",
              "\n",
              "      [theme=dark] .colab-df-generate:hover {\n",
              "        background-color: #434B5C;\n",
              "        box-shadow: 0px 1px 3px 1px rgba(0, 0, 0, 0.15);\n",
              "        filter: drop-shadow(0px 1px 2px rgba(0, 0, 0, 0.3));\n",
              "        fill: #FFFFFF;\n",
              "      }\n",
              "    </style>\n",
              "    <button class=\"colab-df-generate\" onclick=\"generateWithVariable('scores_df')\"\n",
              "            title=\"Generate code using this dataframe.\"\n",
              "            style=\"display:none;\">\n",
              "\n",
              "  <svg xmlns=\"http://www.w3.org/2000/svg\" height=\"24px\"viewBox=\"0 0 24 24\"\n",
              "       width=\"24px\">\n",
              "    <path d=\"M7,19H8.4L18.45,9,17,7.55,7,17.6ZM5,21V16.75L18.45,3.32a2,2,0,0,1,2.83,0l1.4,1.43a1.91,1.91,0,0,1,.58,1.4,1.91,1.91,0,0,1-.58,1.4L9.25,21ZM18.45,9,17,7.55Zm-12,3A5.31,5.31,0,0,0,4.9,8.1,5.31,5.31,0,0,0,1,6.5,5.31,5.31,0,0,0,4.9,4.9,5.31,5.31,0,0,0,6.5,1,5.31,5.31,0,0,0,8.1,4.9,5.31,5.31,0,0,0,12,6.5,5.46,5.46,0,0,0,6.5,12Z\"/>\n",
              "  </svg>\n",
              "    </button>\n",
              "    <script>\n",
              "      (() => {\n",
              "      const buttonEl =\n",
              "        document.querySelector('#id_96fefa28-8e0f-4311-a8ed-78ea6337d7b9 button.colab-df-generate');\n",
              "      buttonEl.style.display =\n",
              "        google.colab.kernel.accessAllowed ? 'block' : 'none';\n",
              "\n",
              "      buttonEl.onclick = () => {\n",
              "        google.colab.notebook.generateWithVariable('scores_df');\n",
              "      }\n",
              "      })();\n",
              "    </script>\n",
              "  </div>\n",
              "\n",
              "    </div>\n",
              "  </div>\n"
            ],
            "application/vnd.google.colaboratory.intrinsic+json": {
              "type": "dataframe",
              "variable_name": "scores_df",
              "summary": "{\n  \"name\": \"scores_df\",\n  \"rows\": 3,\n  \"fields\": [\n    {\n      \"column\": \"Classifier\",\n      \"properties\": {\n        \"dtype\": \"string\",\n        \"num_unique_values\": 3,\n        \"samples\": [\n          \"LogisticRegression\",\n          \"DecisionTreeClassifier\",\n          \"RandomForestClassifier\"\n        ],\n        \"semantic_type\": \"\",\n        \"description\": \"\"\n      }\n    },\n    {\n      \"column\": \"f1-Score\",\n      \"properties\": {\n        \"dtype\": \"number\",\n        \"std\": 0.048803415181043794,\n        \"min\": 0.7363,\n        \"max\": 0.8325,\n        \"num_unique_values\": 3,\n        \"samples\": [\n          0.7701,\n          0.7363,\n          0.8325\n        ],\n        \"semantic_type\": \"\",\n        \"description\": \"\"\n      }\n    }\n  ]\n}"
            }
          },
          "metadata": {},
          "execution_count": 19
        }
      ]
    },
    {
      "cell_type": "markdown",
      "metadata": {
        "id": "returning-bones"
      },
      "source": [
        "#### Apply the voting classifier"
      ],
      "id": "returning-bones"
    },
    {
      "cell_type": "code",
      "metadata": {
        "id": "fuzzy-respondent",
        "colab": {
          "base_uri": "https://localhost:8080/"
        },
        "outputId": "98e40631-c997-4dab-aa5a-abb9f374bdfa"
      },
      "source": [
        "# YOUR CODE HERE\n",
        "voting_clf = VotingClassifier(estimators=[('lr', LogisticRegression()),\\\n",
        "                                          ('dt', DecisionTreeClassifier()),\\\n",
        "                                          ('rf', RandomForestClassifier(n_estimators=10, random_state=42, max_features=\"sqrt\"))],\\\n",
        "                               voting='hard')\n",
        "voting_clf.fit(X_train, y_train)\n",
        "y_pred = voting_clf.predict(X_test)\n",
        "print(\"f1-Score with hard voting = \",round(f1_score(y_test, y_pred, average='weighted'), 4))"
      ],
      "id": "fuzzy-respondent",
      "execution_count": 20,
      "outputs": [
        {
          "output_type": "stream",
          "name": "stdout",
          "text": [
            "f1-Score with hard voting =  0.8153\n"
          ]
        }
      ]
    },
    {
      "cell_type": "markdown",
      "metadata": {
        "id": "6p1MHeY9oYqB"
      },
      "source": [
        "### Train the model with TESS + Ravdess + Team recorded data (4 points)\n",
        "\n",
        "* Record the audio samples (team data), extract features and combine with TESS + Ravdess data features\n",
        "  - Record and gather all the team data samples with proper naming convention in separate folder\n",
        "\n",
        "    **Hint:** Follow the supplementary notebook to record team data\n",
        "\n",
        "  - Each team member must record 2 samples for each emotion (Use similar sentences as given in TESS data)\n",
        "\n",
        "* Train the different ML algorithms and find the model with best performance"
      ],
      "id": "6p1MHeY9oYqB"
    },
    {
      "cell_type": "markdown",
      "metadata": {
        "id": "M4In88rvtVmb"
      },
      "source": [
        "#### Load the team data"
      ],
      "id": "M4In88rvtVmb"
    },
    {
      "cell_type": "code",
      "metadata": {
        "id": "nna7EZMRaKCI",
        "colab": {
          "base_uri": "https://localhost:8080/"
        },
        "outputId": "53ea0024-057d-480f-bda2-91bfc826368d"
      },
      "source": [
        "# YOUR CODE HERE\n",
        "# !wget -qq https://drive.google.com/file/d/1mn7roYjQ4FoTdTEQ2JIfNrhn2pyhDX7c/view?usp=drive_link\n",
        "!unzip -qq /content/Team15.zip\n",
        "team_15_wav_files = glob.glob(\"Team15/*/*.wav\")\n",
        "print(\"Number of wav files with Team data = \",len(team_15_wav_files))"
      ],
      "id": "nna7EZMRaKCI",
      "execution_count": 21,
      "outputs": [
        {
          "output_type": "stream",
          "name": "stdout",
          "text": [
            "Number of wav files with Team data =  16\n"
          ]
        }
      ]
    },
    {
      "cell_type": "markdown",
      "metadata": {
        "id": "awnyYAic36V0"
      },
      "source": [
        "#### Extracting features of team data and combine with TESS + Ravdess"
      ],
      "id": "awnyYAic36V0"
    },
    {
      "cell_type": "code",
      "metadata": {
        "id": "15br8qPwa2a6",
        "colab": {
          "base_uri": "https://localhost:8080/"
        },
        "outputId": "b740f194-75a7-43bc-819e-307e3aff806b"
      },
      "source": [
        "# YOUR CODE HERE\n",
        "# YOUR CODE HERE\n",
        "def team15_feature_extraction():\n",
        "    features, labels = [], []\n",
        "\n",
        "    # Get CPU count to set to multiprocessing, since feature extraction is CPU bound\n",
        "    num_cores = os.cpu_count()\n",
        "\n",
        "    begin = time.time()\n",
        "\n",
        "    with multiprocessing.Pool(processes=num_cores) as p:\n",
        "        features = p.map(extract_feature, team_15_wav_files)\n",
        "\n",
        "    labels = [emotions[wv_file.split(\"_\")[-1].split(\".\")[0].lower()] for wv_file in team_15_wav_files]\n",
        "    features = np.array(features)\n",
        "    labels = np.array(labels)\n",
        "    end = time.time()\n",
        "    print(\"Time taken = \",end-begin)\n",
        "    print(\"Feature len = \",len(features))\n",
        "    print(\"Label len = \",len(labels))\n",
        "    return np.array(features), np.array(labels)\n",
        "\n",
        "def combine_team_tess_ravd():\n",
        "    features_team, labels_team = team15_feature_extraction()\n",
        "    features = np.concatenate((features_tess, features_ravdess, features_team), axis = 0)\n",
        "    labels = np.concatenate((labels_tess, labels_ravdess, labels_team), axis = 0)\n",
        "    combined_audio_df = pd.DataFrame(features)\n",
        "    combined_audio_df['labels'] = labels\n",
        "    combined_audio_df.to_csv('combined_audio_df.csv', index=False)\n",
        "    return features, combined_audio_df\n",
        "\n",
        "features, combined_audio_df = combine_team_tess_ravd()"
      ],
      "id": "15br8qPwa2a6",
      "execution_count": 22,
      "outputs": [
        {
          "output_type": "stream",
          "name": "stdout",
          "text": [
            "Time taken =  3.6891098022460938\n",
            "Feature len =  16\n",
            "Label len =  16\n"
          ]
        }
      ]
    },
    {
      "cell_type": "code",
      "source": [
        "combined_audio_df.head()"
      ],
      "metadata": {
        "colab": {
          "base_uri": "https://localhost:8080/",
          "height": 256
        },
        "id": "eZVeWO5RJUJK",
        "outputId": "3e6407d2-d04b-4150-f7a1-1905147ed5c4"
      },
      "id": "eZVeWO5RJUJK",
      "execution_count": 23,
      "outputs": [
        {
          "output_type": "execute_result",
          "data": {
            "text/plain": [
              "            0          1          2          3          4         5  \\\n",
              "0 -391.513153  89.414711  -6.153362 -11.851720   4.456847  3.865702   \n",
              "1 -438.149231  87.765327  24.734135   8.207476  17.943851  0.863213   \n",
              "2 -466.970947  81.867195  18.873188  -1.507366  -0.573943 -2.628329   \n",
              "3 -460.240112  83.245300  24.703079   2.589535   4.115627  7.272528   \n",
              "4 -438.451569  65.734612  11.094082  10.481167   9.887802 -3.950994   \n",
              "\n",
              "           6         7          8         9  ...       171       172  \\\n",
              "0 -12.133733  3.433978  -8.141290  4.749519  ...  0.001095  0.001160   \n",
              "1 -13.006774  5.545661 -16.473219 -7.611423  ...  0.000522  0.000630   \n",
              "2  -9.102486  1.794675 -17.401285  2.021430  ...  0.000591  0.000757   \n",
              "3  -7.157565  3.191290 -18.359760  1.297180  ...  0.000378  0.000278   \n",
              "4 -15.405934  3.653453 -14.802813 -0.327379  ...  0.000817  0.000388   \n",
              "\n",
              "        173       174       175       176       177       178       179  \\\n",
              "0  0.001192  0.000623  0.000493  0.000414  0.000379  0.000247  0.000022   \n",
              "1  0.000660  0.000564  0.000427  0.000319  0.000309  0.000204  0.000018   \n",
              "2  0.000801  0.000633  0.000282  0.000163  0.000142  0.000066  0.000006   \n",
              "3  0.000192  0.000211  0.000126  0.000137  0.000112  0.000051  0.000004   \n",
              "4  0.000201  0.000169  0.000163  0.000176  0.000197  0.000073  0.000005   \n",
              "\n",
              "   labels  \n",
              "0       7  \n",
              "1       7  \n",
              "2       7  \n",
              "3       7  \n",
              "4       7  \n",
              "\n",
              "[5 rows x 181 columns]"
            ],
            "text/html": [
              "\n",
              "  <div id=\"df-9ab7aa3c-81b2-45e9-8b7b-daf2ab1a497b\" class=\"colab-df-container\">\n",
              "    <div>\n",
              "<style scoped>\n",
              "    .dataframe tbody tr th:only-of-type {\n",
              "        vertical-align: middle;\n",
              "    }\n",
              "\n",
              "    .dataframe tbody tr th {\n",
              "        vertical-align: top;\n",
              "    }\n",
              "\n",
              "    .dataframe thead th {\n",
              "        text-align: right;\n",
              "    }\n",
              "</style>\n",
              "<table border=\"1\" class=\"dataframe\">\n",
              "  <thead>\n",
              "    <tr style=\"text-align: right;\">\n",
              "      <th></th>\n",
              "      <th>0</th>\n",
              "      <th>1</th>\n",
              "      <th>2</th>\n",
              "      <th>3</th>\n",
              "      <th>4</th>\n",
              "      <th>5</th>\n",
              "      <th>6</th>\n",
              "      <th>7</th>\n",
              "      <th>8</th>\n",
              "      <th>9</th>\n",
              "      <th>...</th>\n",
              "      <th>171</th>\n",
              "      <th>172</th>\n",
              "      <th>173</th>\n",
              "      <th>174</th>\n",
              "      <th>175</th>\n",
              "      <th>176</th>\n",
              "      <th>177</th>\n",
              "      <th>178</th>\n",
              "      <th>179</th>\n",
              "      <th>labels</th>\n",
              "    </tr>\n",
              "  </thead>\n",
              "  <tbody>\n",
              "    <tr>\n",
              "      <th>0</th>\n",
              "      <td>-391.513153</td>\n",
              "      <td>89.414711</td>\n",
              "      <td>-6.153362</td>\n",
              "      <td>-11.851720</td>\n",
              "      <td>4.456847</td>\n",
              "      <td>3.865702</td>\n",
              "      <td>-12.133733</td>\n",
              "      <td>3.433978</td>\n",
              "      <td>-8.141290</td>\n",
              "      <td>4.749519</td>\n",
              "      <td>...</td>\n",
              "      <td>0.001095</td>\n",
              "      <td>0.001160</td>\n",
              "      <td>0.001192</td>\n",
              "      <td>0.000623</td>\n",
              "      <td>0.000493</td>\n",
              "      <td>0.000414</td>\n",
              "      <td>0.000379</td>\n",
              "      <td>0.000247</td>\n",
              "      <td>0.000022</td>\n",
              "      <td>7</td>\n",
              "    </tr>\n",
              "    <tr>\n",
              "      <th>1</th>\n",
              "      <td>-438.149231</td>\n",
              "      <td>87.765327</td>\n",
              "      <td>24.734135</td>\n",
              "      <td>8.207476</td>\n",
              "      <td>17.943851</td>\n",
              "      <td>0.863213</td>\n",
              "      <td>-13.006774</td>\n",
              "      <td>5.545661</td>\n",
              "      <td>-16.473219</td>\n",
              "      <td>-7.611423</td>\n",
              "      <td>...</td>\n",
              "      <td>0.000522</td>\n",
              "      <td>0.000630</td>\n",
              "      <td>0.000660</td>\n",
              "      <td>0.000564</td>\n",
              "      <td>0.000427</td>\n",
              "      <td>0.000319</td>\n",
              "      <td>0.000309</td>\n",
              "      <td>0.000204</td>\n",
              "      <td>0.000018</td>\n",
              "      <td>7</td>\n",
              "    </tr>\n",
              "    <tr>\n",
              "      <th>2</th>\n",
              "      <td>-466.970947</td>\n",
              "      <td>81.867195</td>\n",
              "      <td>18.873188</td>\n",
              "      <td>-1.507366</td>\n",
              "      <td>-0.573943</td>\n",
              "      <td>-2.628329</td>\n",
              "      <td>-9.102486</td>\n",
              "      <td>1.794675</td>\n",
              "      <td>-17.401285</td>\n",
              "      <td>2.021430</td>\n",
              "      <td>...</td>\n",
              "      <td>0.000591</td>\n",
              "      <td>0.000757</td>\n",
              "      <td>0.000801</td>\n",
              "      <td>0.000633</td>\n",
              "      <td>0.000282</td>\n",
              "      <td>0.000163</td>\n",
              "      <td>0.000142</td>\n",
              "      <td>0.000066</td>\n",
              "      <td>0.000006</td>\n",
              "      <td>7</td>\n",
              "    </tr>\n",
              "    <tr>\n",
              "      <th>3</th>\n",
              "      <td>-460.240112</td>\n",
              "      <td>83.245300</td>\n",
              "      <td>24.703079</td>\n",
              "      <td>2.589535</td>\n",
              "      <td>4.115627</td>\n",
              "      <td>7.272528</td>\n",
              "      <td>-7.157565</td>\n",
              "      <td>3.191290</td>\n",
              "      <td>-18.359760</td>\n",
              "      <td>1.297180</td>\n",
              "      <td>...</td>\n",
              "      <td>0.000378</td>\n",
              "      <td>0.000278</td>\n",
              "      <td>0.000192</td>\n",
              "      <td>0.000211</td>\n",
              "      <td>0.000126</td>\n",
              "      <td>0.000137</td>\n",
              "      <td>0.000112</td>\n",
              "      <td>0.000051</td>\n",
              "      <td>0.000004</td>\n",
              "      <td>7</td>\n",
              "    </tr>\n",
              "    <tr>\n",
              "      <th>4</th>\n",
              "      <td>-438.451569</td>\n",
              "      <td>65.734612</td>\n",
              "      <td>11.094082</td>\n",
              "      <td>10.481167</td>\n",
              "      <td>9.887802</td>\n",
              "      <td>-3.950994</td>\n",
              "      <td>-15.405934</td>\n",
              "      <td>3.653453</td>\n",
              "      <td>-14.802813</td>\n",
              "      <td>-0.327379</td>\n",
              "      <td>...</td>\n",
              "      <td>0.000817</td>\n",
              "      <td>0.000388</td>\n",
              "      <td>0.000201</td>\n",
              "      <td>0.000169</td>\n",
              "      <td>0.000163</td>\n",
              "      <td>0.000176</td>\n",
              "      <td>0.000197</td>\n",
              "      <td>0.000073</td>\n",
              "      <td>0.000005</td>\n",
              "      <td>7</td>\n",
              "    </tr>\n",
              "  </tbody>\n",
              "</table>\n",
              "<p>5 rows × 181 columns</p>\n",
              "</div>\n",
              "    <div class=\"colab-df-buttons\">\n",
              "\n",
              "  <div class=\"colab-df-container\">\n",
              "    <button class=\"colab-df-convert\" onclick=\"convertToInteractive('df-9ab7aa3c-81b2-45e9-8b7b-daf2ab1a497b')\"\n",
              "            title=\"Convert this dataframe to an interactive table.\"\n",
              "            style=\"display:none;\">\n",
              "\n",
              "  <svg xmlns=\"http://www.w3.org/2000/svg\" height=\"24px\" viewBox=\"0 -960 960 960\">\n",
              "    <path d=\"M120-120v-720h720v720H120Zm60-500h600v-160H180v160Zm220 220h160v-160H400v160Zm0 220h160v-160H400v160ZM180-400h160v-160H180v160Zm440 0h160v-160H620v160ZM180-180h160v-160H180v160Zm440 0h160v-160H620v160Z\"/>\n",
              "  </svg>\n",
              "    </button>\n",
              "\n",
              "  <style>\n",
              "    .colab-df-container {\n",
              "      display:flex;\n",
              "      gap: 12px;\n",
              "    }\n",
              "\n",
              "    .colab-df-convert {\n",
              "      background-color: #E8F0FE;\n",
              "      border: none;\n",
              "      border-radius: 50%;\n",
              "      cursor: pointer;\n",
              "      display: none;\n",
              "      fill: #1967D2;\n",
              "      height: 32px;\n",
              "      padding: 0 0 0 0;\n",
              "      width: 32px;\n",
              "    }\n",
              "\n",
              "    .colab-df-convert:hover {\n",
              "      background-color: #E2EBFA;\n",
              "      box-shadow: 0px 1px 2px rgba(60, 64, 67, 0.3), 0px 1px 3px 1px rgba(60, 64, 67, 0.15);\n",
              "      fill: #174EA6;\n",
              "    }\n",
              "\n",
              "    .colab-df-buttons div {\n",
              "      margin-bottom: 4px;\n",
              "    }\n",
              "\n",
              "    [theme=dark] .colab-df-convert {\n",
              "      background-color: #3B4455;\n",
              "      fill: #D2E3FC;\n",
              "    }\n",
              "\n",
              "    [theme=dark] .colab-df-convert:hover {\n",
              "      background-color: #434B5C;\n",
              "      box-shadow: 0px 1px 3px 1px rgba(0, 0, 0, 0.15);\n",
              "      filter: drop-shadow(0px 1px 2px rgba(0, 0, 0, 0.3));\n",
              "      fill: #FFFFFF;\n",
              "    }\n",
              "  </style>\n",
              "\n",
              "    <script>\n",
              "      const buttonEl =\n",
              "        document.querySelector('#df-9ab7aa3c-81b2-45e9-8b7b-daf2ab1a497b button.colab-df-convert');\n",
              "      buttonEl.style.display =\n",
              "        google.colab.kernel.accessAllowed ? 'block' : 'none';\n",
              "\n",
              "      async function convertToInteractive(key) {\n",
              "        const element = document.querySelector('#df-9ab7aa3c-81b2-45e9-8b7b-daf2ab1a497b');\n",
              "        const dataTable =\n",
              "          await google.colab.kernel.invokeFunction('convertToInteractive',\n",
              "                                                    [key], {});\n",
              "        if (!dataTable) return;\n",
              "\n",
              "        const docLinkHtml = 'Like what you see? Visit the ' +\n",
              "          '<a target=\"_blank\" href=https://colab.research.google.com/notebooks/data_table.ipynb>data table notebook</a>'\n",
              "          + ' to learn more about interactive tables.';\n",
              "        element.innerHTML = '';\n",
              "        dataTable['output_type'] = 'display_data';\n",
              "        await google.colab.output.renderOutput(dataTable, element);\n",
              "        const docLink = document.createElement('div');\n",
              "        docLink.innerHTML = docLinkHtml;\n",
              "        element.appendChild(docLink);\n",
              "      }\n",
              "    </script>\n",
              "  </div>\n",
              "\n",
              "\n",
              "<div id=\"df-470f29b2-11c3-4768-a72b-61fc6ed73e42\">\n",
              "  <button class=\"colab-df-quickchart\" onclick=\"quickchart('df-470f29b2-11c3-4768-a72b-61fc6ed73e42')\"\n",
              "            title=\"Suggest charts\"\n",
              "            style=\"display:none;\">\n",
              "\n",
              "<svg xmlns=\"http://www.w3.org/2000/svg\" height=\"24px\"viewBox=\"0 0 24 24\"\n",
              "     width=\"24px\">\n",
              "    <g>\n",
              "        <path d=\"M19 3H5c-1.1 0-2 .9-2 2v14c0 1.1.9 2 2 2h14c1.1 0 2-.9 2-2V5c0-1.1-.9-2-2-2zM9 17H7v-7h2v7zm4 0h-2V7h2v10zm4 0h-2v-4h2v4z\"/>\n",
              "    </g>\n",
              "</svg>\n",
              "  </button>\n",
              "\n",
              "<style>\n",
              "  .colab-df-quickchart {\n",
              "      --bg-color: #E8F0FE;\n",
              "      --fill-color: #1967D2;\n",
              "      --hover-bg-color: #E2EBFA;\n",
              "      --hover-fill-color: #174EA6;\n",
              "      --disabled-fill-color: #AAA;\n",
              "      --disabled-bg-color: #DDD;\n",
              "  }\n",
              "\n",
              "  [theme=dark] .colab-df-quickchart {\n",
              "      --bg-color: #3B4455;\n",
              "      --fill-color: #D2E3FC;\n",
              "      --hover-bg-color: #434B5C;\n",
              "      --hover-fill-color: #FFFFFF;\n",
              "      --disabled-bg-color: #3B4455;\n",
              "      --disabled-fill-color: #666;\n",
              "  }\n",
              "\n",
              "  .colab-df-quickchart {\n",
              "    background-color: var(--bg-color);\n",
              "    border: none;\n",
              "    border-radius: 50%;\n",
              "    cursor: pointer;\n",
              "    display: none;\n",
              "    fill: var(--fill-color);\n",
              "    height: 32px;\n",
              "    padding: 0;\n",
              "    width: 32px;\n",
              "  }\n",
              "\n",
              "  .colab-df-quickchart:hover {\n",
              "    background-color: var(--hover-bg-color);\n",
              "    box-shadow: 0 1px 2px rgba(60, 64, 67, 0.3), 0 1px 3px 1px rgba(60, 64, 67, 0.15);\n",
              "    fill: var(--button-hover-fill-color);\n",
              "  }\n",
              "\n",
              "  .colab-df-quickchart-complete:disabled,\n",
              "  .colab-df-quickchart-complete:disabled:hover {\n",
              "    background-color: var(--disabled-bg-color);\n",
              "    fill: var(--disabled-fill-color);\n",
              "    box-shadow: none;\n",
              "  }\n",
              "\n",
              "  .colab-df-spinner {\n",
              "    border: 2px solid var(--fill-color);\n",
              "    border-color: transparent;\n",
              "    border-bottom-color: var(--fill-color);\n",
              "    animation:\n",
              "      spin 1s steps(1) infinite;\n",
              "  }\n",
              "\n",
              "  @keyframes spin {\n",
              "    0% {\n",
              "      border-color: transparent;\n",
              "      border-bottom-color: var(--fill-color);\n",
              "      border-left-color: var(--fill-color);\n",
              "    }\n",
              "    20% {\n",
              "      border-color: transparent;\n",
              "      border-left-color: var(--fill-color);\n",
              "      border-top-color: var(--fill-color);\n",
              "    }\n",
              "    30% {\n",
              "      border-color: transparent;\n",
              "      border-left-color: var(--fill-color);\n",
              "      border-top-color: var(--fill-color);\n",
              "      border-right-color: var(--fill-color);\n",
              "    }\n",
              "    40% {\n",
              "      border-color: transparent;\n",
              "      border-right-color: var(--fill-color);\n",
              "      border-top-color: var(--fill-color);\n",
              "    }\n",
              "    60% {\n",
              "      border-color: transparent;\n",
              "      border-right-color: var(--fill-color);\n",
              "    }\n",
              "    80% {\n",
              "      border-color: transparent;\n",
              "      border-right-color: var(--fill-color);\n",
              "      border-bottom-color: var(--fill-color);\n",
              "    }\n",
              "    90% {\n",
              "      border-color: transparent;\n",
              "      border-bottom-color: var(--fill-color);\n",
              "    }\n",
              "  }\n",
              "</style>\n",
              "\n",
              "  <script>\n",
              "    async function quickchart(key) {\n",
              "      const quickchartButtonEl =\n",
              "        document.querySelector('#' + key + ' button');\n",
              "      quickchartButtonEl.disabled = true;  // To prevent multiple clicks.\n",
              "      quickchartButtonEl.classList.add('colab-df-spinner');\n",
              "      try {\n",
              "        const charts = await google.colab.kernel.invokeFunction(\n",
              "            'suggestCharts', [key], {});\n",
              "      } catch (error) {\n",
              "        console.error('Error during call to suggestCharts:', error);\n",
              "      }\n",
              "      quickchartButtonEl.classList.remove('colab-df-spinner');\n",
              "      quickchartButtonEl.classList.add('colab-df-quickchart-complete');\n",
              "    }\n",
              "    (() => {\n",
              "      let quickchartButtonEl =\n",
              "        document.querySelector('#df-470f29b2-11c3-4768-a72b-61fc6ed73e42 button');\n",
              "      quickchartButtonEl.style.display =\n",
              "        google.colab.kernel.accessAllowed ? 'block' : 'none';\n",
              "    })();\n",
              "  </script>\n",
              "</div>\n",
              "\n",
              "    </div>\n",
              "  </div>\n"
            ],
            "application/vnd.google.colaboratory.intrinsic+json": {
              "type": "dataframe",
              "variable_name": "combined_audio_df"
            }
          },
          "metadata": {},
          "execution_count": 23
        }
      ]
    },
    {
      "cell_type": "markdown",
      "metadata": {
        "id": "w-ulIdIdtkDB"
      },
      "source": [
        "#### Train the different ML algorithms"
      ],
      "id": "w-ulIdIdtkDB"
    },
    {
      "cell_type": "code",
      "metadata": {
        "id": "xuUx7UTFtjIs",
        "colab": {
          "base_uri": "https://localhost:8080/"
        },
        "outputId": "a8d6d1fc-f5ad-41ab-a028-3b8e4bb8f124"
      },
      "source": [
        "# YOUR CODE HERE\n",
        "X_train, X_test, y_train, y_test = train_test_split(features, combined_audio_df['labels'], test_size=0.25, random_state=30)\n",
        "combined_scores_df, best_model = model_predict_evaluate()\n",
        "print(\"Classifier results\\n\",combined_scores_df)\n",
        "print(\"Best model for combined data is \",type(best_model).__name__)"
      ],
      "id": "xuUx7UTFtjIs",
      "execution_count": 24,
      "outputs": [
        {
          "output_type": "stream",
          "name": "stdout",
          "text": [
            "Classifier results\n",
            "                Classifier  f1-Score\n",
            "0      LogisticRegression    0.7721\n",
            "1  DecisionTreeClassifier    0.7297\n",
            "2  RandomForestClassifier    0.8139\n",
            "Best model for combined data is  RandomForestClassifier\n"
          ]
        }
      ]
    },
    {
      "cell_type": "code",
      "source": [
        "combined_scores_df"
      ],
      "metadata": {
        "colab": {
          "base_uri": "https://localhost:8080/",
          "height": 143
        },
        "id": "paWWQgCqKYj0",
        "outputId": "4e06ec2f-67cc-4a0a-e55a-b8eae7be27d1"
      },
      "id": "paWWQgCqKYj0",
      "execution_count": 25,
      "outputs": [
        {
          "output_type": "execute_result",
          "data": {
            "text/plain": [
              "               Classifier  f1-Score\n",
              "0      LogisticRegression    0.7721\n",
              "1  DecisionTreeClassifier    0.7297\n",
              "2  RandomForestClassifier    0.8139"
            ],
            "text/html": [
              "\n",
              "  <div id=\"df-22505627-23ae-4b9c-9899-1b8227a88dc7\" class=\"colab-df-container\">\n",
              "    <div>\n",
              "<style scoped>\n",
              "    .dataframe tbody tr th:only-of-type {\n",
              "        vertical-align: middle;\n",
              "    }\n",
              "\n",
              "    .dataframe tbody tr th {\n",
              "        vertical-align: top;\n",
              "    }\n",
              "\n",
              "    .dataframe thead th {\n",
              "        text-align: right;\n",
              "    }\n",
              "</style>\n",
              "<table border=\"1\" class=\"dataframe\">\n",
              "  <thead>\n",
              "    <tr style=\"text-align: right;\">\n",
              "      <th></th>\n",
              "      <th>Classifier</th>\n",
              "      <th>f1-Score</th>\n",
              "    </tr>\n",
              "  </thead>\n",
              "  <tbody>\n",
              "    <tr>\n",
              "      <th>0</th>\n",
              "      <td>LogisticRegression</td>\n",
              "      <td>0.7721</td>\n",
              "    </tr>\n",
              "    <tr>\n",
              "      <th>1</th>\n",
              "      <td>DecisionTreeClassifier</td>\n",
              "      <td>0.7297</td>\n",
              "    </tr>\n",
              "    <tr>\n",
              "      <th>2</th>\n",
              "      <td>RandomForestClassifier</td>\n",
              "      <td>0.8139</td>\n",
              "    </tr>\n",
              "  </tbody>\n",
              "</table>\n",
              "</div>\n",
              "    <div class=\"colab-df-buttons\">\n",
              "\n",
              "  <div class=\"colab-df-container\">\n",
              "    <button class=\"colab-df-convert\" onclick=\"convertToInteractive('df-22505627-23ae-4b9c-9899-1b8227a88dc7')\"\n",
              "            title=\"Convert this dataframe to an interactive table.\"\n",
              "            style=\"display:none;\">\n",
              "\n",
              "  <svg xmlns=\"http://www.w3.org/2000/svg\" height=\"24px\" viewBox=\"0 -960 960 960\">\n",
              "    <path d=\"M120-120v-720h720v720H120Zm60-500h600v-160H180v160Zm220 220h160v-160H400v160Zm0 220h160v-160H400v160ZM180-400h160v-160H180v160Zm440 0h160v-160H620v160ZM180-180h160v-160H180v160Zm440 0h160v-160H620v160Z\"/>\n",
              "  </svg>\n",
              "    </button>\n",
              "\n",
              "  <style>\n",
              "    .colab-df-container {\n",
              "      display:flex;\n",
              "      gap: 12px;\n",
              "    }\n",
              "\n",
              "    .colab-df-convert {\n",
              "      background-color: #E8F0FE;\n",
              "      border: none;\n",
              "      border-radius: 50%;\n",
              "      cursor: pointer;\n",
              "      display: none;\n",
              "      fill: #1967D2;\n",
              "      height: 32px;\n",
              "      padding: 0 0 0 0;\n",
              "      width: 32px;\n",
              "    }\n",
              "\n",
              "    .colab-df-convert:hover {\n",
              "      background-color: #E2EBFA;\n",
              "      box-shadow: 0px 1px 2px rgba(60, 64, 67, 0.3), 0px 1px 3px 1px rgba(60, 64, 67, 0.15);\n",
              "      fill: #174EA6;\n",
              "    }\n",
              "\n",
              "    .colab-df-buttons div {\n",
              "      margin-bottom: 4px;\n",
              "    }\n",
              "\n",
              "    [theme=dark] .colab-df-convert {\n",
              "      background-color: #3B4455;\n",
              "      fill: #D2E3FC;\n",
              "    }\n",
              "\n",
              "    [theme=dark] .colab-df-convert:hover {\n",
              "      background-color: #434B5C;\n",
              "      box-shadow: 0px 1px 3px 1px rgba(0, 0, 0, 0.15);\n",
              "      filter: drop-shadow(0px 1px 2px rgba(0, 0, 0, 0.3));\n",
              "      fill: #FFFFFF;\n",
              "    }\n",
              "  </style>\n",
              "\n",
              "    <script>\n",
              "      const buttonEl =\n",
              "        document.querySelector('#df-22505627-23ae-4b9c-9899-1b8227a88dc7 button.colab-df-convert');\n",
              "      buttonEl.style.display =\n",
              "        google.colab.kernel.accessAllowed ? 'block' : 'none';\n",
              "\n",
              "      async function convertToInteractive(key) {\n",
              "        const element = document.querySelector('#df-22505627-23ae-4b9c-9899-1b8227a88dc7');\n",
              "        const dataTable =\n",
              "          await google.colab.kernel.invokeFunction('convertToInteractive',\n",
              "                                                    [key], {});\n",
              "        if (!dataTable) return;\n",
              "\n",
              "        const docLinkHtml = 'Like what you see? Visit the ' +\n",
              "          '<a target=\"_blank\" href=https://colab.research.google.com/notebooks/data_table.ipynb>data table notebook</a>'\n",
              "          + ' to learn more about interactive tables.';\n",
              "        element.innerHTML = '';\n",
              "        dataTable['output_type'] = 'display_data';\n",
              "        await google.colab.output.renderOutput(dataTable, element);\n",
              "        const docLink = document.createElement('div');\n",
              "        docLink.innerHTML = docLinkHtml;\n",
              "        element.appendChild(docLink);\n",
              "      }\n",
              "    </script>\n",
              "  </div>\n",
              "\n",
              "\n",
              "<div id=\"df-3c6662d8-e75e-432a-86e0-bd1a5261fb49\">\n",
              "  <button class=\"colab-df-quickchart\" onclick=\"quickchart('df-3c6662d8-e75e-432a-86e0-bd1a5261fb49')\"\n",
              "            title=\"Suggest charts\"\n",
              "            style=\"display:none;\">\n",
              "\n",
              "<svg xmlns=\"http://www.w3.org/2000/svg\" height=\"24px\"viewBox=\"0 0 24 24\"\n",
              "     width=\"24px\">\n",
              "    <g>\n",
              "        <path d=\"M19 3H5c-1.1 0-2 .9-2 2v14c0 1.1.9 2 2 2h14c1.1 0 2-.9 2-2V5c0-1.1-.9-2-2-2zM9 17H7v-7h2v7zm4 0h-2V7h2v10zm4 0h-2v-4h2v4z\"/>\n",
              "    </g>\n",
              "</svg>\n",
              "  </button>\n",
              "\n",
              "<style>\n",
              "  .colab-df-quickchart {\n",
              "      --bg-color: #E8F0FE;\n",
              "      --fill-color: #1967D2;\n",
              "      --hover-bg-color: #E2EBFA;\n",
              "      --hover-fill-color: #174EA6;\n",
              "      --disabled-fill-color: #AAA;\n",
              "      --disabled-bg-color: #DDD;\n",
              "  }\n",
              "\n",
              "  [theme=dark] .colab-df-quickchart {\n",
              "      --bg-color: #3B4455;\n",
              "      --fill-color: #D2E3FC;\n",
              "      --hover-bg-color: #434B5C;\n",
              "      --hover-fill-color: #FFFFFF;\n",
              "      --disabled-bg-color: #3B4455;\n",
              "      --disabled-fill-color: #666;\n",
              "  }\n",
              "\n",
              "  .colab-df-quickchart {\n",
              "    background-color: var(--bg-color);\n",
              "    border: none;\n",
              "    border-radius: 50%;\n",
              "    cursor: pointer;\n",
              "    display: none;\n",
              "    fill: var(--fill-color);\n",
              "    height: 32px;\n",
              "    padding: 0;\n",
              "    width: 32px;\n",
              "  }\n",
              "\n",
              "  .colab-df-quickchart:hover {\n",
              "    background-color: var(--hover-bg-color);\n",
              "    box-shadow: 0 1px 2px rgba(60, 64, 67, 0.3), 0 1px 3px 1px rgba(60, 64, 67, 0.15);\n",
              "    fill: var(--button-hover-fill-color);\n",
              "  }\n",
              "\n",
              "  .colab-df-quickchart-complete:disabled,\n",
              "  .colab-df-quickchart-complete:disabled:hover {\n",
              "    background-color: var(--disabled-bg-color);\n",
              "    fill: var(--disabled-fill-color);\n",
              "    box-shadow: none;\n",
              "  }\n",
              "\n",
              "  .colab-df-spinner {\n",
              "    border: 2px solid var(--fill-color);\n",
              "    border-color: transparent;\n",
              "    border-bottom-color: var(--fill-color);\n",
              "    animation:\n",
              "      spin 1s steps(1) infinite;\n",
              "  }\n",
              "\n",
              "  @keyframes spin {\n",
              "    0% {\n",
              "      border-color: transparent;\n",
              "      border-bottom-color: var(--fill-color);\n",
              "      border-left-color: var(--fill-color);\n",
              "    }\n",
              "    20% {\n",
              "      border-color: transparent;\n",
              "      border-left-color: var(--fill-color);\n",
              "      border-top-color: var(--fill-color);\n",
              "    }\n",
              "    30% {\n",
              "      border-color: transparent;\n",
              "      border-left-color: var(--fill-color);\n",
              "      border-top-color: var(--fill-color);\n",
              "      border-right-color: var(--fill-color);\n",
              "    }\n",
              "    40% {\n",
              "      border-color: transparent;\n",
              "      border-right-color: var(--fill-color);\n",
              "      border-top-color: var(--fill-color);\n",
              "    }\n",
              "    60% {\n",
              "      border-color: transparent;\n",
              "      border-right-color: var(--fill-color);\n",
              "    }\n",
              "    80% {\n",
              "      border-color: transparent;\n",
              "      border-right-color: var(--fill-color);\n",
              "      border-bottom-color: var(--fill-color);\n",
              "    }\n",
              "    90% {\n",
              "      border-color: transparent;\n",
              "      border-bottom-color: var(--fill-color);\n",
              "    }\n",
              "  }\n",
              "</style>\n",
              "\n",
              "  <script>\n",
              "    async function quickchart(key) {\n",
              "      const quickchartButtonEl =\n",
              "        document.querySelector('#' + key + ' button');\n",
              "      quickchartButtonEl.disabled = true;  // To prevent multiple clicks.\n",
              "      quickchartButtonEl.classList.add('colab-df-spinner');\n",
              "      try {\n",
              "        const charts = await google.colab.kernel.invokeFunction(\n",
              "            'suggestCharts', [key], {});\n",
              "      } catch (error) {\n",
              "        console.error('Error during call to suggestCharts:', error);\n",
              "      }\n",
              "      quickchartButtonEl.classList.remove('colab-df-spinner');\n",
              "      quickchartButtonEl.classList.add('colab-df-quickchart-complete');\n",
              "    }\n",
              "    (() => {\n",
              "      let quickchartButtonEl =\n",
              "        document.querySelector('#df-3c6662d8-e75e-432a-86e0-bd1a5261fb49 button');\n",
              "      quickchartButtonEl.style.display =\n",
              "        google.colab.kernel.accessAllowed ? 'block' : 'none';\n",
              "    })();\n",
              "  </script>\n",
              "</div>\n",
              "\n",
              "  <div id=\"id_a01747b9-ae40-4891-9a05-38679d0269b0\">\n",
              "    <style>\n",
              "      .colab-df-generate {\n",
              "        background-color: #E8F0FE;\n",
              "        border: none;\n",
              "        border-radius: 50%;\n",
              "        cursor: pointer;\n",
              "        display: none;\n",
              "        fill: #1967D2;\n",
              "        height: 32px;\n",
              "        padding: 0 0 0 0;\n",
              "        width: 32px;\n",
              "      }\n",
              "\n",
              "      .colab-df-generate:hover {\n",
              "        background-color: #E2EBFA;\n",
              "        box-shadow: 0px 1px 2px rgba(60, 64, 67, 0.3), 0px 1px 3px 1px rgba(60, 64, 67, 0.15);\n",
              "        fill: #174EA6;\n",
              "      }\n",
              "\n",
              "      [theme=dark] .colab-df-generate {\n",
              "        background-color: #3B4455;\n",
              "        fill: #D2E3FC;\n",
              "      }\n",
              "\n",
              "      [theme=dark] .colab-df-generate:hover {\n",
              "        background-color: #434B5C;\n",
              "        box-shadow: 0px 1px 3px 1px rgba(0, 0, 0, 0.15);\n",
              "        filter: drop-shadow(0px 1px 2px rgba(0, 0, 0, 0.3));\n",
              "        fill: #FFFFFF;\n",
              "      }\n",
              "    </style>\n",
              "    <button class=\"colab-df-generate\" onclick=\"generateWithVariable('combined_scores_df')\"\n",
              "            title=\"Generate code using this dataframe.\"\n",
              "            style=\"display:none;\">\n",
              "\n",
              "  <svg xmlns=\"http://www.w3.org/2000/svg\" height=\"24px\"viewBox=\"0 0 24 24\"\n",
              "       width=\"24px\">\n",
              "    <path d=\"M7,19H8.4L18.45,9,17,7.55,7,17.6ZM5,21V16.75L18.45,3.32a2,2,0,0,1,2.83,0l1.4,1.43a1.91,1.91,0,0,1,.58,1.4,1.91,1.91,0,0,1-.58,1.4L9.25,21ZM18.45,9,17,7.55Zm-12,3A5.31,5.31,0,0,0,4.9,8.1,5.31,5.31,0,0,0,1,6.5,5.31,5.31,0,0,0,4.9,4.9,5.31,5.31,0,0,0,6.5,1,5.31,5.31,0,0,0,8.1,4.9,5.31,5.31,0,0,0,12,6.5,5.46,5.46,0,0,0,6.5,12Z\"/>\n",
              "  </svg>\n",
              "    </button>\n",
              "    <script>\n",
              "      (() => {\n",
              "      const buttonEl =\n",
              "        document.querySelector('#id_a01747b9-ae40-4891-9a05-38679d0269b0 button.colab-df-generate');\n",
              "      buttonEl.style.display =\n",
              "        google.colab.kernel.accessAllowed ? 'block' : 'none';\n",
              "\n",
              "      buttonEl.onclick = () => {\n",
              "        google.colab.notebook.generateWithVariable('combined_scores_df');\n",
              "      }\n",
              "      })();\n",
              "    </script>\n",
              "  </div>\n",
              "\n",
              "    </div>\n",
              "  </div>\n"
            ],
            "application/vnd.google.colaboratory.intrinsic+json": {
              "type": "dataframe",
              "variable_name": "combined_scores_df",
              "summary": "{\n  \"name\": \"combined_scores_df\",\n  \"rows\": 3,\n  \"fields\": [\n    {\n      \"column\": \"Classifier\",\n      \"properties\": {\n        \"dtype\": \"string\",\n        \"num_unique_values\": 3,\n        \"samples\": [\n          \"LogisticRegression\",\n          \"DecisionTreeClassifier\",\n          \"RandomForestClassifier\"\n        ],\n        \"semantic_type\": \"\",\n        \"description\": \"\"\n      }\n    },\n    {\n      \"column\": \"f1-Score\",\n      \"properties\": {\n        \"dtype\": \"number\",\n        \"std\": 0.04210035629302913,\n        \"min\": 0.7297,\n        \"max\": 0.8139,\n        \"num_unique_values\": 3,\n        \"samples\": [\n          0.7721,\n          0.7297,\n          0.8139\n        ],\n        \"semantic_type\": \"\",\n        \"description\": \"\"\n      }\n    }\n  ]\n}"
            }
          },
          "metadata": {},
          "execution_count": 25
        }
      ]
    },
    {
      "cell_type": "markdown",
      "metadata": {
        "id": "iMl0sRhXtXzL"
      },
      "source": [
        "#### Test the best working model with live audio recording"
      ],
      "id": "iMl0sRhXtXzL"
    },
    {
      "cell_type": "code",
      "source": [
        "voting_clf = VotingClassifier(estimators=[('lr', LogisticRegression()),\\\n",
        "                                          ('dt', DecisionTreeClassifier()),\\\n",
        "                                          ('rf', RandomForestClassifier(n_estimators=10, random_state=42, max_features=\"sqrt\"))],\\\n",
        "                               voting='soft')\n",
        "voting_clf.fit(X_train, y_train)\n",
        "y_pred = voting_clf.predict(X_test)\n",
        "print(\"f1-Score with soft voting = \",round(f1_score(y_test, y_pred, average='weighted'), 4))"
      ],
      "metadata": {
        "colab": {
          "base_uri": "https://localhost:8080/"
        },
        "id": "KDDjf_isO0cy",
        "outputId": "6982b876-f03c-4e79-9dbe-72cf7552c0c9"
      },
      "id": "KDDjf_isO0cy",
      "execution_count": 26,
      "outputs": [
        {
          "output_type": "stream",
          "name": "stdout",
          "text": [
            "f1-Score with soft voting =  0.7696\n"
          ]
        }
      ]
    },
    {
      "cell_type": "code",
      "metadata": {
        "id": "4znf9-pcTbUB"
      },
      "source": [
        "# choose the best working model and assign below\n",
        "MODEL = best_model"
      ],
      "id": "4znf9-pcTbUB",
      "execution_count": 27,
      "outputs": []
    },
    {
      "cell_type": "code",
      "metadata": {
        "id": "2d598770",
        "colab": {
          "base_uri": "https://localhost:8080/",
          "height": 110
        },
        "outputId": "69966b01-fd35-46fb-ec1c-496c0ff1c3da"
      },
      "source": [
        "#@title Speak the utterance and test\n",
        "from IPython.display import Javascript\n",
        "from google.colab import output\n",
        "from base64 import b64decode\n",
        "\n",
        "RECORD = \"\"\"\n",
        "const sleep  = time => new Promise(resolve => setTimeout(resolve, time))\n",
        "const b2text = blob => new Promise(resolve => {\n",
        "  const reader = new FileReader()\n",
        "  reader.onloadend = e => resolve(e.srcElement.result)\n",
        "  reader.readAsDataURL(blob)\n",
        "})\n",
        "var record = time => new Promise(async resolve => {\n",
        "  stream = await navigator.mediaDevices.getUserMedia({ audio: true })\n",
        "  recorder = new MediaRecorder(stream)\n",
        "  chunks = []\n",
        "  recorder.ondataavailable = e => chunks.push(e.data)\n",
        "  recorder.start()\n",
        "  await sleep(time)\n",
        "  recorder.onstop = async ()=>{\n",
        "    blob = new Blob(chunks)\n",
        "    text = await b2text(blob)\n",
        "    resolve(text)\n",
        "  }\n",
        "  recorder.stop()\n",
        "})\n",
        "\"\"\"\n",
        "\n",
        "if not os.path.exists('ModelTesting/'):\n",
        "    os.mkdir(\"ModelTesting/\")\n",
        "def record(sec=3):\n",
        "    print(\"Start speaking!\")\n",
        "    now = datetime.now()\n",
        "    current_time = now.strftime(\"%Y-%m-%d_%H-%M-%S\")\n",
        "    display(Javascript(RECORD))\n",
        "    s = output.eval_js('record(%d)' % (sec*1000))\n",
        "    b = b64decode(s.split(',')[1])\n",
        "    with open('ModelTesting/audio_'+current_time+'.wav','wb') as f:\n",
        "        f.write(b)\n",
        "    return 'ModelTesting/audio_'+current_time+'.wav'\n",
        "test_i = record()\n",
        "pred = MODEL.predict(extract_feature(test_i).reshape(1,-1))\n",
        "idx_emotion = list(emotions.values()).index(pred[0])\n",
        "print(list(emotions.keys())[idx_emotion])\n",
        "ipd.Audio(test_i)"
      ],
      "id": "2d598770",
      "execution_count": null,
      "outputs": [
        {
          "output_type": "stream",
          "name": "stdout",
          "text": [
            "Start speaking!\n"
          ]
        },
        {
          "output_type": "display_data",
          "data": {
            "text/plain": [
              "<IPython.core.display.Javascript object>"
            ],
            "application/javascript": [
              "\n",
              "const sleep  = time => new Promise(resolve => setTimeout(resolve, time))\n",
              "const b2text = blob => new Promise(resolve => {\n",
              "  const reader = new FileReader()\n",
              "  reader.onloadend = e => resolve(e.srcElement.result)\n",
              "  reader.readAsDataURL(blob)\n",
              "})\n",
              "var record = time => new Promise(async resolve => {\n",
              "  stream = await navigator.mediaDevices.getUserMedia({ audio: true })\n",
              "  recorder = new MediaRecorder(stream)\n",
              "  chunks = []\n",
              "  recorder.ondataavailable = e => chunks.push(e.data)\n",
              "  recorder.start()\n",
              "  await sleep(time)\n",
              "  recorder.onstop = async ()=>{\n",
              "    blob = new Blob(chunks)\n",
              "    text = await b2text(blob)\n",
              "    resolve(text)\n",
              "  }\n",
              "  recorder.stop()\n",
              "})\n"
            ]
          },
          "metadata": {}
        },
        {
          "output_type": "stream",
          "name": "stdout",
          "text": [
            "happy\n"
          ]
        },
        {
          "output_type": "execute_result",
          "data": {
            "text/plain": [
              "<IPython.lib.display.Audio object>"
            ],
            "text/html": [
              "\n",
              "                <audio  controls=\"controls\" >\n",
              "                    <source src=\"data:audio/x-wav;base64,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\" type=\"audio/x-wav\" />\n",
              "                    Your browser does not support the audio element.\n",
              "                </audio>\n",
              "              "
            ]
          },
          "metadata": {},
          "execution_count": 81
        }
      ]
    },
    {
      "cell_type": "markdown",
      "metadata": {
        "id": "K7n58VaeWKGu"
      },
      "source": [
        "### Report Analysis\n",
        "\n",
        "- Report the accuracy for 10 live samples using the model trained on TESS+Ravdess+Team data\n",
        "- Discuss with the team mentor regarding deep learnt audio features. Read a related article [here](https://ieeexplore.ieee.org/stamp/stamp.jsp?arnumber=8805181).\n"
      ],
      "id": "K7n58VaeWKGu"
    },
    {
      "cell_type": "markdown",
      "source": [
        "### Kaggle Contest Part\n",
        "\n",
        "\n",
        "\n",
        "*   Downloaded the kaggle dataset onto local machine\n",
        "*   Uploaded the kaggle dataset zip onto notebook content space\n",
        "\n"
      ],
      "metadata": {
        "id": "39y65fM5PdLJ"
      },
      "id": "39y65fM5PdLJ"
    },
    {
      "cell_type": "code",
      "source": [
        "# Unzip the dataset\n",
        "# !unzip -qq /content/b8-audio-emotion-classification.zip\n",
        "kaggle_test_wav_files = glob.glob(\"Kaggle_Testset/*/*.wav\")\n",
        "print(\"Number of wav files with Team data = \",len(kaggle_test_wav_files))"
      ],
      "metadata": {
        "colab": {
          "base_uri": "https://localhost:8080/"
        },
        "id": "98aUr6LQP2eR",
        "outputId": "2e8b697f-7a12-4c91-c547-7903433ed6b5"
      },
      "id": "98aUr6LQP2eR",
      "execution_count": 30,
      "outputs": [
        {
          "output_type": "stream",
          "name": "stdout",
          "text": [
            "Number of wav files with Team data =  201\n"
          ]
        }
      ]
    },
    {
      "cell_type": "code",
      "source": [
        "import csv\n",
        "\n",
        "def write_to_csv(filename, name, value):\n",
        "  # Check if file exists, if not, write header\n",
        "  if not os.path.isfile(filename):\n",
        "    header = ['Id', 'Label']\n",
        "    with open(filename, mode='w', newline='') as file:\n",
        "        writer = csv.writer(file)\n",
        "        writer.writerow(header)\n",
        "  # Append data to CSV\n",
        "  with open(filename, mode='a', newline='') as file:\n",
        "      writer = csv.writer(file)\n",
        "      writer.writerow([name, value])\n",
        "\n",
        "def predict_kaggle_update_csv():\n",
        "    for file in kaggle_test_wav_files:\n",
        "        predicted = best_model.predict(extract_feature(file).reshape(1,-1))\n",
        "        idx_emotion = list(emotions.values()).index(predicted[0])\n",
        "        write_to_csv('kaggle_results.csv', file.split(\".\")[0].split(\"/\")[-1], list(emotions.keys())[idx_emotion])\n",
        "\n",
        "\n",
        "predict_kaggle_update_csv()\n",
        "df_kaggle_results = pd.read_csv(\"kaggle_results.csv\")\n",
        "df_kaggle_results_sorted = df_kaggle_results.sort_values(by='Id')\n",
        "df_kaggle_results_sorted.to_csv(\"kaggle_results_sorted.csv\", index=False)"
      ],
      "metadata": {
        "id": "Trf775OkUJU9"
      },
      "id": "Trf775OkUJU9",
      "execution_count": 53,
      "outputs": []
    }
  ]
}