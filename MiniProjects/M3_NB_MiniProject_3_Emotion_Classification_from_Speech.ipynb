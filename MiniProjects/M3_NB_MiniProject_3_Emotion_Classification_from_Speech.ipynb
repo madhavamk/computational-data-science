{
  "nbformat": 4,
  "nbformat_minor": 5,
  "metadata": {
    "colab": {
      "provenance": []
    },
    "kernelspec": {
      "display_name": "Python 3",
      "language": "python",
      "name": "python3"
    },
    "language_info": {
      "codemirror_mode": {
        "name": "ipython",
        "version": 3
      },
      "file_extension": ".py",
      "mimetype": "text/x-python",
      "name": "python",
      "nbconvert_exporter": "python",
      "pygments_lexer": "ipython3",
      "version": "3.6.9"
    }
  },
  "cells": [
    {
      "cell_type": "markdown",
      "metadata": {
        "id": "associate-sunset"
      },
      "source": [
        "# Advanced Certification Program in Computational Data Science\n",
        "## A program by IISc and TalentSprint\n",
        "### Mini-Project: Speech Emotion Classification"
      ],
      "id": "associate-sunset"
    },
    {
      "cell_type": "markdown",
      "metadata": {
        "id": "handled-tooth"
      },
      "source": [
        "## Problem Statement"
      ],
      "id": "handled-tooth"
    },
    {
      "cell_type": "markdown",
      "metadata": {
        "id": "accessory-watts"
      },
      "source": [
        "Build a model to recognize emotion from speech using Ensemble learning"
      ],
      "id": "accessory-watts"
    },
    {
      "cell_type": "markdown",
      "metadata": {
        "id": "twenty-indonesia"
      },
      "source": [
        "## Learning Objectives"
      ],
      "id": "twenty-indonesia"
    },
    {
      "cell_type": "markdown",
      "metadata": {
        "id": "honest-friendship"
      },
      "source": [
        "At the end of the mini-project, you will be able to :\n",
        "\n",
        "* extract the features from audio data\n",
        "* implement ML classification algorithms individually and as Ensembles, to classify emotions\n",
        "* record the voice sample and test it with trained model"
      ],
      "id": "honest-friendship"
    },
    {
      "cell_type": "markdown",
      "metadata": {
        "id": "lesbian-bottom"
      },
      "source": [
        "## Dataset"
      ],
      "id": "lesbian-bottom"
    },
    {
      "cell_type": "markdown",
      "metadata": {
        "id": "fixed-trainer"
      },
      "source": [
        "**TESS Dataset**\n",
        "\n",
        "The first dataset chosen for this mini-project is the [TESS](https://dataverse.scholarsportal.info/dataset.xhtml?persistentId=doi:10.5683/SP2/E8H2MF) (Toronto emotional speech set) dataset. It contains 2880 files.  A set of 200 target words were spoken in the carrier phrase \"Say the word _____' by two actresses and the sets were recorded in seven different emotions (anger, disgust, fear, happiness, pleasant surprise, sadness, and neutral). Both actresses spoke English as their first language, were university educated, and had musical training. Audiometric testing indicated that both actresses had thresholds within the normal range."
      ],
      "id": "fixed-trainer"
    },
    {
      "cell_type": "markdown",
      "metadata": {
        "id": "Roo5A2aLVI07"
      },
      "source": [
        "**Ravdess Dataset**\n",
        "\n",
        "The second dataset chosen for this mini-project is [Ravdess](https://zenodo.org/record/1188976#.YLczy4XivIU) (The Ryerson Audio-Visual Database of Emotional Speech and Song). This dataset contains 1440 files: 60 trials per actor x 24 actors = 1440. The RAVDESS contains 24 professional actors (12 female, 12 male), vocalizing two lexically-matched statements in a neutral North American accent. Speech emotions includes calm, happy, sad, angry, fearful, surprise, and disgust expressions. Each expression is produced at two levels of emotional intensity (normal, strong), with an additional neutral expression.\n",
        "\n",
        "**File naming convention**\n",
        "\n",
        "Each of the 1440 files has a unique filename. The filename consists of a 7-part numerical identifier (e.g., 03-01-06-01-02-01-12.wav). These identifiers define the stimulus characteristics:\n",
        "\n",
        "**Filename identifiers**\n",
        "\n",
        "* Modality (01 = full-AV, 02 = video-only, 03 = audio-only).\n",
        "* Vocal channel (01 = speech, 02 = song).\n",
        "* Emotion (01 = neutral, 02 = calm, 03 = happy, 04 = sad, 05 = angry, 06 = fearful, 07 = disgust, 08 = surprised).\n",
        "* Emotional intensity (01 = normal, 02 = strong). NOTE: There is no strong intensity for the 'neutral' emotion.\n",
        "* Statement (01 = \"Kids are talking by the door\", 02 = \"Dogs are sitting by the door\").\n",
        "* Repetition (01 = 1st repetition, 02 = 2nd repetition).\n",
        "* Actor (01 to 24. Odd numbered actors are male, even numbered actors are female).\n",
        "\n",
        "Filename example: `03-01-06-01-02-01-12.wav`\n",
        "\n",
        "    - Audio-only - 03\n",
        "    - Speech - 01\n",
        "    - Fearful - 06\n",
        "    - Normal intensity - 01\n",
        "    - Statement \"dogs\" - 02\n",
        "    - 1st Repetition - 01\n",
        "    - 12th Actor - 12 Female, as the actor ID number is even."
      ],
      "id": "Roo5A2aLVI07"
    },
    {
      "cell_type": "markdown",
      "metadata": {
        "id": "GIR6a6TvVnRY"
      },
      "source": [
        "## Information"
      ],
      "id": "GIR6a6TvVnRY"
    },
    {
      "cell_type": "markdown",
      "metadata": {
        "id": "mediterranean-february"
      },
      "source": [
        "**Speech Emotion Recognition (SER)** is the task of recognizing the emotion from  speech, irrespective of the semantics. Humans can efficiently perform this task as a natural part of speech communication, however, the ability to conduct it automatically using programmable devices is a field of active research.\n",
        "\n",
        "Studies of automatic emotion recognition systems aim to create efficient, real-time methods of detecting the emotions of mobile phone users, call center operators and customers, car drivers, pilots, and many other human-machine communication users. Adding emotions to machines forms an important aspect of making machines appear and act in a human-like manner\n",
        "\n",
        "Lets gain familiarity with some of the audio based features that are commonly used for SER.\n",
        "\n",
        "**Mel scale** — The mel scale (derived from the word *melody*) is a perceptual scale of pitches judged by listeners to be equal in distance from one another. The reference point between this scale and normal frequency measurement is defined by assigning a perceptual pitch of 1000 mels to a 1000 Hz tone, 40 dB above the listener's threshold. Above about 500 Hz, increasingly large intervals are judged by listeners to produce equal pitch increments. Refer [here](https://towardsdatascience.com/learning-from-audio-the-mel-scale-mel-spectrograms-and-mel-frequency-cepstral-coefficients-f5752b6324a8) for more detailed information.\n",
        "\n",
        "**Pitch** — how high or low a sound is. It depends on frequency, higher pitch is high frequency\n",
        "\n",
        "**Frequency** — speed of vibration of sound, measures wave cycles per second\n",
        "\n",
        "**Chroma** — Representation for audio where spectrum is projected onto 12 bins representing the 12 distinct semitones (or chroma). Computed by summing the log frequency magnitude spectrum across octaves.\n",
        "\n",
        "**Fourier Transforms** — used to convert from time domain to frequency domain. Time domain shows how signal changes over time. Frequency domain shows how much of the signal lies within each given frequency band over a range of frequencies"
      ],
      "id": "mediterranean-february"
    },
    {
      "cell_type": "markdown",
      "metadata": {
        "id": "Q5a6Dz9wCxOc"
      },
      "source": [
        "**Librosa**\n",
        "\n",
        "[Librosa](https://librosa.org/doc/latest/index.html) is a Python package, built for speech and audio analytics. It provides modular functions that simplify working with audio data and help in achieving a wide range of applications such as identification of the personal characteristics of different individuals' voice samples, detecting emotions from audio samples etc.\n",
        "\n",
        "For further details on the Librosa package, refer [here](https://conference.scipy.org/proceedings/scipy2015/pdfs/brian_mcfee.pdf).\n"
      ],
      "id": "Q5a6Dz9wCxOc"
    },
    {
      "cell_type": "markdown",
      "source": [
        "### **Kaggle Competition**"
      ],
      "metadata": {
        "id": "3fjmaAe32Z_K"
      },
      "id": "3fjmaAe32Z_K"
    },
    {
      "cell_type": "markdown",
      "source": [
        "Please refer to the link for viewing the\n",
        "[Kaggle Competition Document](https://drive.google.com/file/d/1V3Y8Q3M03Atn9oM1zqmW6jpuzSYm445e/view?usp=drive_link) and join the Kaggle Competition using the hyperlink given in this document under '*Kaggle* Competition site'.\n"
      ],
      "metadata": {
        "id": "y4yw7Ewy09Ut"
      },
      "id": "y4yw7Ewy09Ut"
    },
    {
      "cell_type": "markdown",
      "metadata": {
        "id": "operating-latter"
      },
      "source": [
        "## Grading = 10 Points"
      ],
      "id": "operating-latter"
    },
    {
      "cell_type": "code",
      "metadata": {
        "id": "talented-upset",
        "colab": {
          "base_uri": "https://localhost:8080/"
        },
        "outputId": "39ebb26c-95ae-4a8b-b798-1b902561ddb5"
      },
      "source": [
        "#@title Download the datasets and install packages\n",
        "# !wget -qq https://cdn.iisc.talentsprint.com/CDS/MiniProjects/Ravdess_Tess.zip\n",
        "# !unzip -qq Ravdess_Tess.zip\n",
        "# # Install packages\n",
        "# !pip -qq install librosa soundfile\n",
        "# !pip -qq install wavio\n",
        "print(\"Datasets downloaded successfully!\")"
      ],
      "id": "talented-upset",
      "execution_count": 11,
      "outputs": [
        {
          "output_type": "stream",
          "name": "stdout",
          "text": [
            "replace ravdess/Actor_01/03-01-01-01-01-01-01_neutral.wav? [y]es, [n]o, [A]ll, [N]one, [r]ename: n\n",
            "replace ravdess/Actor_01/03-01-01-01-01-02-01_neutral.wav? [y]es, [n]o, [A]ll, [N]one, [r]ename: n\n",
            "replace ravdess/Actor_01/03-01-01-01-02-01-01_neutral.wav? [y]es, [n]o, [A]ll, [N]one, [r]ename: Datasets downloaded successfully!\n"
          ]
        }
      ]
    },
    {
      "cell_type": "markdown",
      "metadata": {
        "id": "appreciated-pattern"
      },
      "source": [
        "### Import Neccesary Packages"
      ],
      "id": "appreciated-pattern"
    },
    {
      "cell_type": "code",
      "metadata": {
        "id": "loose-marsh"
      },
      "source": [
        "import librosa\n",
        "import librosa.display\n",
        "import soundfile\n",
        "import os, glob, pickle\n",
        "import numpy as np\n",
        "import pandas as pd\n",
        "import IPython.display as ipd\n",
        "from matplotlib import pyplot as plt\n",
        "from datetime import datetime\n",
        "from IPython.display import Javascript\n",
        "from google.colab import output\n",
        "from base64 import b64decode\n",
        "import warnings\n",
        "warnings.filterwarnings('ignore')\n",
        "# sklearn\n",
        "from sklearn.model_selection import train_test_split\n",
        "from sklearn.metrics import accuracy_score, f1_score\n",
        "from sklearn.linear_model import LogisticRegression, LogisticRegressionCV\n",
        "from sklearn.tree import DecisionTreeClassifier\n",
        "from sklearn.ensemble import RandomForestClassifier\n",
        "from sklearn.svm import SVC\n",
        "from sklearn import tree\n",
        "from sklearn.ensemble import VotingClassifier"
      ],
      "id": "loose-marsh",
      "execution_count": 12,
      "outputs": []
    },
    {
      "cell_type": "markdown",
      "metadata": {
        "id": "2vxa85gvorY5"
      },
      "source": [
        "### Work-Flow\n",
        "\n",
        "* Load the TESS audio data and extract features and labels\n",
        "\n",
        "* Load the Ravdess audio data and extract features\n",
        "\n",
        "* Combine both the audio dataset features\n",
        "\n",
        "* Train and test the model with TESS + Ravdess Data\n",
        "\n",
        "* Record the team audio samples and add them to TESS + Ravdess data\n",
        "\n",
        "* Train and test the model with TESS + Ravdess + Team Recorded (combined) data\n",
        "\n",
        "* Test each of the models with live audio sample recording."
      ],
      "id": "2vxa85gvorY5"
    },
    {
      "cell_type": "markdown",
      "metadata": {
        "id": "compressed-reflection"
      },
      "source": [
        "### Load the Tess data and Ravdess data audio files (1 point)\n",
        "\n",
        "Hint: `glob.glob`"
      ],
      "id": "compressed-reflection"
    },
    {
      "cell_type": "code",
      "metadata": {
        "id": "518e945a",
        "colab": {
          "base_uri": "https://localhost:8080/"
        },
        "outputId": "f529863b-cb22-4399-82d7-096fda717ec7"
      },
      "source": [
        "# YOUR CODE HERE\n",
        "tess_wav_files = glob.glob(\"Tess/*/*.wav\")\n",
        "print(\"Number of wav files with Tess data = \",len(tess_wav_files))\n",
        "\n",
        "ravdess_wav_files = glob.glob(\"ravdess/*/*.wav\")\n",
        "print(\"Number of wav files with Ravdess data = \",len(ravdess_wav_files))"
      ],
      "id": "518e945a",
      "execution_count": 13,
      "outputs": [
        {
          "output_type": "stream",
          "name": "stdout",
          "text": [
            "Number of wav files with Tess data =  2679\n",
            "Number of wav files with Ravdess data =  1168\n"
          ]
        }
      ]
    },
    {
      "cell_type": "markdown",
      "metadata": {
        "id": "sound-chest"
      },
      "source": [
        "#### Play the sample audio"
      ],
      "id": "sound-chest"
    },
    {
      "cell_type": "code",
      "metadata": {
        "id": "personalized-wildlife",
        "colab": {
          "base_uri": "https://localhost:8080/",
          "height": 75
        },
        "outputId": "dbc7bbec-493f-408a-bff2-b1e45d8215e7"
      },
      "source": [
        "# YOUR CODE HERE\n",
        "ipd.Audio(tess_wav_files[50])"
      ],
      "id": "personalized-wildlife",
      "execution_count": 14,
      "outputs": [
        {
          "output_type": "execute_result",
          "data": {
            "text/plain": [
              "<IPython.lib.display.Audio object>"
            ],
            "text/html": [
              "\n",
              "                <audio  controls=\"controls\" >\n",
              "                    <source src=\"data:audio/x-wav;base64,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\" type=\"audio/x-wav\" />\n",
              "                    Your browser does not support the audio element.\n",
              "                </audio>\n",
              "              "
            ]
          },
          "metadata": {},
          "execution_count": 14
        }
      ]
    },
    {
      "cell_type": "markdown",
      "metadata": {
        "id": "exposed-county"
      },
      "source": [
        "### Data Exploration and Visualization (1 point)"
      ],
      "id": "exposed-county"
    },
    {
      "cell_type": "markdown",
      "metadata": {
        "id": "hungry-cleaner"
      },
      "source": [
        "#### Visualize the distribution of all the labels"
      ],
      "id": "hungry-cleaner"
    },
    {
      "cell_type": "code",
      "metadata": {
        "id": "orange-taiwan",
        "colab": {
          "base_uri": "https://localhost:8080/",
          "height": 496
        },
        "outputId": "bfb214f9-b91b-4176-cf3c-9576c5155b89"
      },
      "source": [
        "# YOUR CODE HERE\n",
        "DIR = 'Tess'\n",
        "emotions_dir_tess = os.listdir(DIR)\n",
        "# Need to ignore hidden files\n",
        "emotions_dir_tess = [d for d in emotions_dir_tess if not d.startswith('.')]\n",
        "\n",
        "# Code to calculate emotion counts\n",
        "mapping = {}\n",
        "for emotion in emotions_dir_tess:\n",
        "    emotion_counter = len(glob.glob(\"Tess/\"+emotion+\"/*.wav\"))\n",
        "    emotion = emotion.split(\"_\")[-1].lower()\n",
        "    if emotion not in mapping:\n",
        "        mapping[emotion] = emotion_counter\n",
        "    else:\n",
        "        mapping[emotion]+=emotion_counter\n",
        "print(mapping)\n",
        "\n",
        "# Create dataframe from dictionary and plot the graph\n",
        "tess_label_df = pd.DataFrame.from_dict(mapping, orient='index')\n",
        "tess_label_df.columns = ['Count']\n",
        "tess_label_df.plot(kind='bar', figsize=(12, 4), title=\"Distribution of emotions in TESS data\",xlabel='Emotions',ylabel='Count')"
      ],
      "id": "orange-taiwan",
      "execution_count": 15,
      "outputs": [
        {
          "output_type": "stream",
          "name": "stdout",
          "text": [
            "{'surprised': 387, 'fear': 379, 'angry': 382, 'neutral': 378, 'happy': 383, 'sad': 379, 'disgust': 391}\n"
          ]
        },
        {
          "output_type": "execute_result",
          "data": {
            "text/plain": [
              "<Axes: title={'center': 'Distribution of emotions in TESS data'}, xlabel='Emotions', ylabel='Count'>"
            ]
          },
          "metadata": {},
          "execution_count": 15
        },
        {
          "output_type": "display_data",
          "data": {
            "text/plain": [
              "<Figure size 1200x400 with 1 Axes>"
            ],
            "image/png": "[encoded data removed]"
          },
          "metadata": {}
        }
      ]
    },
    {
      "cell_type": "code",
      "source": [
        "# Same experiment as above, but now for ravdess data\n",
        "# Emotion (01 = neutral, 02 = calm, 03 = happy, 04 = sad, 05 = angry, 06 = fearful, 07 = disgust, 08 = surprised).\n",
        "ravdess_emotions_mapping = {}\n",
        "# Code to calculate emotion counts\n",
        "for file_name in ravdess_wav_files:\n",
        "    emotion = file_name.split(\"_\")[-1].split(\".\")[0]\n",
        "    if emotion not in ravdess_emotions_mapping:\n",
        "        ravdess_emotions_mapping[emotion] = 1\n",
        "    else:\n",
        "        ravdess_emotions_mapping[emotion]+=1\n",
        "print(ravdess_emotions_mapping)\n",
        "\n",
        "# Create dataframe from dictionary and plot the graph\n",
        "ravdess_label_df = pd.DataFrame.from_dict(ravdess_emotions_mapping, orient='index')\n",
        "ravdess_label_df.columns = ['Count']\n",
        "ravdess_label_df\n",
        "ravdess_label_df.plot(kind='bar', figsize=(12, 4), title=\"Distribution of emotions in Ravdess data\",xlabel='Emotions',ylabel='Count')"
      ],
      "metadata": {
        "colab": {
          "base_uri": "https://localhost:8080/",
          "height": 496
        },
        "id": "ylN4U3t72U7V",
        "outputId": "0aeab50d-6b6a-47a2-fb2b-200dea2d7831"
      },
      "id": "ylN4U3t72U7V",
      "execution_count": 16,
      "outputs": [
        {
          "output_type": "stream",
          "name": "stdout",
          "text": [
            "{'surprised': 182, 'angry': 179, 'happy': 174, 'sad': 183, 'neutral': 88, 'fear': 182, 'disgust': 180}\n"
          ]
        },
        {
          "output_type": "execute_result",
          "data": {
            "text/plain": [
              "<Axes: title={'center': 'Distribution of emotions in Ravdess data'}, xlabel='Emotions', ylabel='Count'>"
            ]
          },
          "metadata": {},
          "execution_count": 16
        },
        {
          "output_type": "display_data",
          "data": {
            "text/plain": [
              "<Figure size 1200x400 with 1 Axes>"
            ],
            "image/png": "[encoded data removed]"
          },
          "metadata": {}
        }
      ]
    },
    {
      "cell_type": "markdown",
      "metadata": {
        "id": "established-airfare"
      },
      "source": [
        "#### Visualize sample audio signal using librosa"
      ],
      "id": "established-airfare"
    },
    {
      "cell_type": "code",
      "metadata": {
        "id": "outstanding-caribbean",
        "colab": {
          "base_uri": "https://localhost:8080/",
          "height": 405
        },
        "outputId": "f7594af5-07ab-44bc-9a90-19457500ba3d"
      },
      "source": [
        "# YOUR CODE HERE\n",
        "sample_audio_tess = tess_wav_files[0]\n",
        "signal, sr = librosa.load(sample_audio_tess)\n",
        "plt.figure(figsize=(12, 4))\n",
        "librosa.display.waveshow(signal, sr=sr)"
      ],
      "id": "outstanding-caribbean",
      "execution_count": 17,
      "outputs": [
        {
          "output_type": "execute_result",
          "data": {
            "text/plain": [
              "<librosa.display.AdaptiveWaveplot at 0x7b2079393e80>"
            ]
          },
          "metadata": {},
          "execution_count": 17
        },
        {
          "output_type": "display_data",
          "data": {
            "text/plain": [
              "<Figure size 1200x400 with 1 Axes>"
            ],
            "image/png": "[encoded data removed]"
          },
          "metadata": {}
        }
      ]
    },
    {
      "cell_type": "markdown",
      "source": [],
      "metadata": {
        "id": "iLGUahy9zTsd"
      },
      "id": "iLGUahy9zTsd"
    },
    {
      "cell_type": "markdown",
      "metadata": {
        "id": "medical-confidence"
      },
      "source": [
        "### Feature extraction (2 points)\n",
        "\n",
        "Read one WAV file at a time using `Librosa`. An audio time series in the form of a 1-dimensional array for mono or 2-dimensional array for stereo, along with time sampling rate (which defines the length of the array), where the elements within each of the arrays represent the amplitude of the sound waves is returned by `librosa.load()` function. Refer to the supplementary notebook ('Audio feature extraction')\n",
        "\n",
        "To know more about Librosa, explore the [link](https://librosa.org/doc/latest/feature.html)"
      ],
      "id": "medical-confidence"
    },
    {
      "cell_type": "code",
      "metadata": {
        "id": "piano-accent",
        "colab": {
          "base_uri": "https://localhost:8080/"
        },
        "outputId": "09a3e349-4047-472a-edb1-e991c863bdb1"
      },
      "source": [
        "# YOUR CODE HERE\n",
        "def extract_feature(file_name):\n",
        "    # load audio\n",
        "    X, sample_rate = librosa.load(file_name)\n",
        "    # apply stft(), Short-term Fourier Transform\n",
        "    stft=np.abs(librosa.stft(X))\n",
        "    result=np.array([])\n",
        "    # compute mfcc\n",
        "    mfccs=np.mean(librosa.feature.mfcc(y=X, sr=sample_rate, n_mfcc=40).T,axis=0)\n",
        "    # combine the features\n",
        "    result=np.hstack((result, mfccs))\n",
        "    # compute chroma features and combine\n",
        "    chroma=np.mean(librosa.feature.chroma_stft(S=stft, sr=sample_rate).T,axis=0)\n",
        "    result=np.hstack((result, chroma))\n",
        "    # compute melspectrogram and combine\n",
        "    mel=np.mean(librosa.feature.melspectrogram(y=X, sr=sample_rate).T,axis=0)\n",
        "    result=np.hstack((result, mel))\n",
        "    return result\n",
        "\n",
        "sample_feature = extract_feature(tess_wav_files[0])\n",
        "print(sample_feature)"
      ],
      "id": "piano-accent",
      "execution_count": 18,
      "outputs": [
        {
          "output_type": "stream",
          "name": "stdout",
          "text": [
            "[-4.37920013e+02  7.32990494e+01  1.34791851e+01  3.24348927e+00\n",
            "  9.32315731e+00 -3.97126842e+00 -6.41412354e+00  5.81141520e+00\n",
            " -1.56876183e+01 -2.84924722e+00 -1.18955841e+01 -4.07719088e+00\n",
            "  6.86016440e-01 -3.66834849e-01 -3.01434100e-01 -2.10551947e-01\n",
            " -2.37983775e+00  8.02695656e+00 -1.50783837e+00  2.09382463e+00\n",
            "  4.04337835e+00  5.00395012e+00 -1.85061920e+00  3.57210636e+00\n",
            "  1.31722331e+00  6.27274990e+00 -1.58049747e-01  5.22417450e+00\n",
            " -3.93324643e-01  6.05387688e+00  2.84784245e+00  3.90298033e+00\n",
            "  3.95974898e+00  4.46823645e+00  7.20952034e+00  4.52085209e+00\n",
            "  6.52452421e+00  7.16958666e+00  6.73992872e+00  9.58986759e+00\n",
            "  5.36856353e-01  4.98969674e-01  5.08479774e-01  5.69417596e-01\n",
            "  5.90152681e-01  5.94466925e-01  5.56660235e-01  5.03430545e-01\n",
            "  4.82752502e-01  4.40862328e-01  4.72955614e-01  5.10292888e-01\n",
            "  5.71735525e+00  5.38509071e-01  4.53378595e-02  3.67189944e-02\n",
            "  2.61991732e-02  1.33329093e-01  3.27134252e-01  3.41375649e-01\n",
            "  1.86242849e-01  1.20637007e-01  1.84998915e-01  3.20803076e-01\n",
            "  5.06919682e-01  7.77341247e-01  1.38826931e+00  1.11568367e+00\n",
            "  2.51713723e-01  2.91802913e-01  2.05477133e-01  2.18411595e-01\n",
            "  7.72634298e-02  4.78280298e-02  9.50138867e-02  2.12540627e-01\n",
            "  4.23526853e-01  1.70073017e-01  9.78265107e-02  8.05718005e-02\n",
            "  6.12846650e-02  7.21136332e-02  1.11841492e-01  1.01457886e-01\n",
            "  9.08128694e-02  8.58317167e-02  1.06242783e-01  1.93140090e-01\n",
            "  8.51525664e-02  5.62828593e-02  1.06131911e-01  2.67214000e-01\n",
            "  4.97507811e-01  4.72716331e-01  2.49157265e-01  1.91769823e-01\n",
            "  1.81930766e-01  1.56172395e-01  1.56570777e-01  1.16413496e-01\n",
            "  1.17182873e-01  1.21587634e-01  5.79090267e-02  3.12873386e-02\n",
            "  2.26974897e-02  1.51594514e-02  1.54346358e-02  1.50697427e-02\n",
            "  2.62105721e-03  1.71404728e-03  2.38543330e-03  4.25470620e-03\n",
            "  9.08497255e-03  1.22026689e-02  6.04918972e-03  3.40939150e-03\n",
            "  3.64382169e-03  2.35956651e-03  1.73350226e-03  1.70554128e-03\n",
            "  2.38181697e-03  2.37424835e-03  3.35211982e-03  2.00952054e-03\n",
            "  2.13994086e-03  2.52682157e-03  2.60675699e-03  3.98626691e-03\n",
            "  3.72407818e-03  3.07889027e-03  1.79648050e-03  1.26723316e-03\n",
            "  6.57024619e-04  5.17176348e-04  3.22787208e-04  4.30951128e-04\n",
            "  4.43900644e-04  3.39880353e-04  3.70152149e-04  3.61938670e-04\n",
            "  3.17865575e-04  5.05128468e-04  2.97350693e-04  1.82024203e-04\n",
            "  1.84521166e-04  2.26411605e-04  1.48827821e-04  1.99979724e-04\n",
            "  4.00550925e-04  5.39965869e-04  4.37626499e-04  6.69869070e-04\n",
            "  4.30643820e-04  2.31901868e-04  2.79095955e-04  5.05200820e-04\n",
            "  7.20644312e-04  6.90571731e-04  7.29204330e-04  6.30790251e-04\n",
            "  5.45180694e-04  4.62802622e-04  4.77139576e-04  3.92104092e-04\n",
            "  4.51110245e-04  3.99608834e-04  2.78107502e-04  1.76047441e-04\n",
            "  2.02420153e-04  2.14371044e-04  3.63669940e-04  4.36920818e-04\n",
            "  3.00917542e-04  4.78913775e-04  3.68750509e-04  2.59506196e-04\n",
            "  2.05455683e-04  1.57189861e-04  6.92855683e-05  5.26990880e-06]\n"
          ]
        }
      ]
    },
    {
      "cell_type": "markdown",
      "metadata": {
        "id": "7d3bd640"
      },
      "source": [
        "#### Create a dictionary or a function to encode the emotions"
      ],
      "id": "7d3bd640"
    },
    {
      "cell_type": "code",
      "metadata": {
        "id": "c0c8d44d"
      },
      "source": [
        "# YOUR CODE HERE\n",
        "# Ravdess Emotion (01 = neutral, 02 = calm, 03 = happy, 04 = sad, 05 = angry, 06 = fearful, 07 = disgust, 08 = surprised).\n",
        "emotions = {'neutral': 1, 'calm': 2, 'happy': 3, 'sad': 4, 'angry': 5, 'fear': 6, 'disgust': 7, 'surprised': 8}"
      ],
      "id": "c0c8d44d",
      "execution_count": 19,
      "outputs": []
    },
    {
      "cell_type": "markdown",
      "metadata": {
        "id": "coupled-villa"
      },
      "source": [
        "#### TESS data feature extraction"
      ],
      "id": "coupled-villa"
    },
    {
      "cell_type": "code",
      "source": [
        "import multiprocessing\n",
        "\n",
        "def tess_feature_extraction():\n",
        "    features, labels = [], []\n",
        "\n",
        "    # Get CPU count to set to multiprocessing, since feature extraction is CPU bound\n",
        "    num_cores = os.cpu_count()\n",
        "\n",
        "    begin = time.time()\n",
        "\n",
        "    with multiprocessing.Pool(processes=num_cores) as p:\n",
        "        features = p.map(extract_feature, tess_wav_files)\n",
        "\n",
        "    labels = [emotions[wv_file.split(\"_\")[-1].split(\".\")[0].lower()] for wv_file in tess_wav_files]\n",
        "    end = time.time()\n",
        "    print(\"Time taken = \",end-begin)\n",
        "    print(\"Feature len = \",len(features))\n",
        "    print(\"Label len = \",len(labels))\n",
        "    # Convert list to nparray to use with sklearn models\n",
        "    return np.array(features), np.array(labels)"
      ],
      "metadata": {
        "id": "i7EykQTvCi89"
      },
      "id": "i7EykQTvCi89",
      "execution_count": 20,
      "outputs": []
    },
    {
      "cell_type": "markdown",
      "metadata": {
        "id": "qKzclsG-FnW6"
      },
      "source": [
        "#### Ravdess data feature extraction"
      ],
      "id": "qKzclsG-FnW6"
    },
    {
      "cell_type": "code",
      "metadata": {
        "id": "iDwNOgKEIH3w"
      },
      "source": [
        "# YOUR CODE HERE\n",
        "def ravdess_feature_extraction():\n",
        "    features, labels = [], []\n",
        "\n",
        "    # Get CPU count to set to multiprocessing, since feature extraction is CPU bound\n",
        "    num_cores = os.cpu_count()\n",
        "\n",
        "    begin = time.time()\n",
        "\n",
        "    with multiprocessing.Pool(processes=num_cores) as p:\n",
        "        features = p.map(extract_feature, ravdess_wav_files)\n",
        "\n",
        "    labels = [emotions[wv_file.split(\"_\")[-1].split(\".\")[0].lower()] for wv_file in ravdess_wav_files]\n",
        "    features = np.array(features)\n",
        "    labels = np.array(labels)\n",
        "    end = time.time()\n",
        "    print(\"Time taken = \",end-begin)\n",
        "    print(\"Feature len = \",len(features))\n",
        "    print(\"Label len = \",len(labels))\n",
        "    return np.array(features), np.array(labels)"
      ],
      "id": "iDwNOgKEIH3w",
      "execution_count": 21,
      "outputs": []
    },
    {
      "cell_type": "markdown",
      "metadata": {
        "id": "2bb62f16"
      },
      "source": [
        "#### Save the features\n",
        "\n",
        "It is best advised to save the features in dataframe and maintain so that feature extraction step is not required to be performed every time.\n",
        "\n",
        "* Make a DataFrame with features and labels\n",
        "\n",
        "* Write dataframe into `.CSV` file and save it offline."
      ],
      "id": "2bb62f16"
    },
    {
      "cell_type": "code",
      "metadata": {
        "id": "9ec91c16",
        "colab": {
          "base_uri": "https://localhost:8080/"
        },
        "outputId": "24b2be36-2d32-414d-df2b-a17afa517c73"
      },
      "source": [
        "# YOUR CODE HERE\n",
        "features_tess, labels_tess = tess_feature_extraction()\n",
        "features_ravdess, labels_ravdess = ravdess_feature_extraction()\n",
        "features = np.concatenate((features_tess, features_ravdess), axis = 0)\n",
        "labels = np.concatenate((labels_tess, labels_ravdess), axis = 0)\n",
        "audio_df = pd.DataFrame(features)\n",
        "audio_df['labels'] = labels\n",
        "audio_df.to_csv('audio_df.csv', index=False)"
      ],
      "id": "9ec91c16",
      "execution_count": 22,
      "outputs": [
        {
          "output_type": "stream",
          "name": "stdout",
          "text": [
            "Time taken =  161.00364232063293\n",
            "Feature len =  2679\n",
            "Label len =  2679\n",
            "Time taken =  68.3546826839447\n",
            "Feature len =  1168\n",
            "Label len =  1168\n"
          ]
        }
      ]
    },
    {
      "cell_type": "code",
      "source": [
        "audio_df.head()"
      ],
      "metadata": {
        "colab": {
          "base_uri": "https://localhost:8080/",
          "height": 256
        },
        "id": "g8n0iBo8ktCk",
        "outputId": "08b801af-e7e7-47db-fe7f-1590cc705513"
      },
      "id": "g8n0iBo8ktCk",
      "execution_count": 23,
      "outputs": [
        {
          "output_type": "execute_result",
          "data": {
            "text/plain": [
              "            0          1          2          3         4         5          6  \\\n",
              "0 -437.920013  73.299049  13.479185   3.243489  9.323157 -3.971268  -6.414124   \n",
              "1 -411.453522  64.683586  15.502349  -5.014569 -8.626382 -5.206890 -11.337915   \n",
              "2 -403.144073  77.245491   7.641733   6.845827  3.532720 -5.360589 -14.961371   \n",
              "3 -380.920044  82.906822 -10.538331 -17.110846  2.728152  0.704234 -11.843532   \n",
              "4 -421.720581  83.599411   8.484735  -3.906103  7.259039  0.361912 -11.678505   \n",
              "\n",
              "          7          8          9  ...       171       172       173  \\\n",
              "0  5.811415 -15.687618  -2.849247  ...  0.000437  0.000301  0.000479   \n",
              "1 -0.304360 -15.942957  -1.311298  ...  0.001369  0.002164  0.001713   \n",
              "2  0.168502 -12.826844 -11.419881  ...  0.000686  0.000880  0.000706   \n",
              "3  5.594142 -11.098066   0.238773  ...  0.001347  0.001181  0.001142   \n",
              "4 -1.038350 -15.822961  -4.571904  ...  0.001199  0.001327  0.001004   \n",
              "\n",
              "        174       175       176       177       178       179  labels  \n",
              "0  0.000369  0.000260  0.000205  0.000157  0.000069  0.000005       8  \n",
              "1  0.001488  0.001295  0.000974  0.000886  0.000429  0.000025       8  \n",
              "2  0.000569  0.000567  0.000399  0.000441  0.000219  0.000015       8  \n",
              "3  0.000899  0.000610  0.000510  0.000322  0.000128  0.000007       8  \n",
              "4  0.000625  0.000540  0.000504  0.000278  0.000125  0.000009       8  \n",
              "\n",
              "[5 rows x 181 columns]"
            ],
            "text/html": [
              "\n",
              "  <div id=\"df-a1dc38c8-b49d-4ea5-83f3-2fbf84122b50\" class=\"colab-df-container\">\n",
              "    <div>\n",
              "<style scoped>\n",
              "    .dataframe tbody tr th:only-of-type {\n",
              "        vertical-align: middle;\n",
              "    }\n",
              "\n",
              "    .dataframe tbody tr th {\n",
              "        vertical-align: top;\n",
              "    }\n",
              "\n",
              "    .dataframe thead th {\n",
              "        text-align: right;\n",
              "    }\n",
              "</style>\n",
              "<table border=\"1\" class=\"dataframe\">\n",
              "  <thead>\n",
              "    <tr style=\"text-align: right;\">\n",
              "      <th></th>\n",
              "      <th>0</th>\n",
              "      <th>1</th>\n",
              "      <th>2</th>\n",
              "      <th>3</th>\n",
              "      <th>4</th>\n",
              "      <th>5</th>\n",
              "      <th>6</th>\n",
              "      <th>7</th>\n",
              "      <th>8</th>\n",
              "      <th>9</th>\n",
              "      <th>...</th>\n",
              "      <th>171</th>\n",
              "      <th>172</th>\n",
              "      <th>173</th>\n",
              "      <th>174</th>\n",
              "      <th>175</th>\n",
              "      <th>176</th>\n",
              "      <th>177</th>\n",
              "      <th>178</th>\n",
              "      <th>179</th>\n",
              "      <th>labels</th>\n",
              "    </tr>\n",
              "  </thead>\n",
              "  <tbody>\n",
              "    <tr>\n",
              "      <th>0</th>\n",
              "      <td>-437.920013</td>\n",
              "      <td>73.299049</td>\n",
              "      <td>13.479185</td>\n",
              "      <td>3.243489</td>\n",
              "      <td>9.323157</td>\n",
              "      <td>-3.971268</td>\n",
              "      <td>-6.414124</td>\n",
              "      <td>5.811415</td>\n",
              "      <td>-15.687618</td>\n",
              "      <td>-2.849247</td>\n",
              "      <td>...</td>\n",
              "      <td>0.000437</td>\n",
              "      <td>0.000301</td>\n",
              "      <td>0.000479</td>\n",
              "      <td>0.000369</td>\n",
              "      <td>0.000260</td>\n",
              "      <td>0.000205</td>\n",
              "      <td>0.000157</td>\n",
              "      <td>0.000069</td>\n",
              "      <td>0.000005</td>\n",
              "      <td>8</td>\n",
              "    </tr>\n",
              "    <tr>\n",
              "      <th>1</th>\n",
              "      <td>-411.453522</td>\n",
              "      <td>64.683586</td>\n",
              "      <td>15.502349</td>\n",
              "      <td>-5.014569</td>\n",
              "      <td>-8.626382</td>\n",
              "      <td>-5.206890</td>\n",
              "      <td>-11.337915</td>\n",
              "      <td>-0.304360</td>\n",
              "      <td>-15.942957</td>\n",
              "      <td>-1.311298</td>\n",
              "      <td>...</td>\n",
              "      <td>0.001369</td>\n",
              "      <td>0.002164</td>\n",
              "      <td>0.001713</td>\n",
              "      <td>0.001488</td>\n",
              "      <td>0.001295</td>\n",
              "      <td>0.000974</td>\n",
              "      <td>0.000886</td>\n",
              "      <td>0.000429</td>\n",
              "      <td>0.000025</td>\n",
              "      <td>8</td>\n",
              "    </tr>\n",
              "    <tr>\n",
              "      <th>2</th>\n",
              "      <td>-403.144073</td>\n",
              "      <td>77.245491</td>\n",
              "      <td>7.641733</td>\n",
              "      <td>6.845827</td>\n",
              "      <td>3.532720</td>\n",
              "      <td>-5.360589</td>\n",
              "      <td>-14.961371</td>\n",
              "      <td>0.168502</td>\n",
              "      <td>-12.826844</td>\n",
              "      <td>-11.419881</td>\n",
              "      <td>...</td>\n",
              "      <td>0.000686</td>\n",
              "      <td>0.000880</td>\n",
              "      <td>0.000706</td>\n",
              "      <td>0.000569</td>\n",
              "      <td>0.000567</td>\n",
              "      <td>0.000399</td>\n",
              "      <td>0.000441</td>\n",
              "      <td>0.000219</td>\n",
              "      <td>0.000015</td>\n",
              "      <td>8</td>\n",
              "    </tr>\n",
              "    <tr>\n",
              "      <th>3</th>\n",
              "      <td>-380.920044</td>\n",
              "      <td>82.906822</td>\n",
              "      <td>-10.538331</td>\n",
              "      <td>-17.110846</td>\n",
              "      <td>2.728152</td>\n",
              "      <td>0.704234</td>\n",
              "      <td>-11.843532</td>\n",
              "      <td>5.594142</td>\n",
              "      <td>-11.098066</td>\n",
              "      <td>0.238773</td>\n",
              "      <td>...</td>\n",
              "      <td>0.001347</td>\n",
              "      <td>0.001181</td>\n",
              "      <td>0.001142</td>\n",
              "      <td>0.000899</td>\n",
              "      <td>0.000610</td>\n",
              "      <td>0.000510</td>\n",
              "      <td>0.000322</td>\n",
              "      <td>0.000128</td>\n",
              "      <td>0.000007</td>\n",
              "      <td>8</td>\n",
              "    </tr>\n",
              "    <tr>\n",
              "      <th>4</th>\n",
              "      <td>-421.720581</td>\n",
              "      <td>83.599411</td>\n",
              "      <td>8.484735</td>\n",
              "      <td>-3.906103</td>\n",
              "      <td>7.259039</td>\n",
              "      <td>0.361912</td>\n",
              "      <td>-11.678505</td>\n",
              "      <td>-1.038350</td>\n",
              "      <td>-15.822961</td>\n",
              "      <td>-4.571904</td>\n",
              "      <td>...</td>\n",
              "      <td>0.001199</td>\n",
              "      <td>0.001327</td>\n",
              "      <td>0.001004</td>\n",
              "      <td>0.000625</td>\n",
              "      <td>0.000540</td>\n",
              "      <td>0.000504</td>\n",
              "      <td>0.000278</td>\n",
              "      <td>0.000125</td>\n",
              "      <td>0.000009</td>\n",
              "      <td>8</td>\n",
              "    </tr>\n",
              "  </tbody>\n",
              "</table>\n",
              "<p>5 rows × 181 columns</p>\n",
              "</div>\n",
              "    <div class=\"colab-df-buttons\">\n",
              "\n",
              "  <div class=\"colab-df-container\">\n",
              "    <button class=\"colab-df-convert\" onclick=\"convertToInteractive('df-a1dc38c8-b49d-4ea5-83f3-2fbf84122b50')\"\n",
              "            title=\"Convert this dataframe to an interactive table.\"\n",
              "            style=\"display:none;\">\n",
              "\n",
              "  <svg xmlns=\"http://www.w3.org/2000/svg\" height=\"24px\" viewBox=\"0 -960 960 960\">\n",
              "    <path d=\"M120-120v-720h720v720H120Zm60-500h600v-160H180v160Zm220 220h160v-160H400v160Zm0 220h160v-160H400v160ZM180-400h160v-160H180v160Zm440 0h160v-160H620v160ZM180-180h160v-160H180v160Zm440 0h160v-160H620v160Z\"/>\n",
              "  </svg>\n",
              "    </button>\n",
              "\n",
              "  <style>\n",
              "    .colab-df-container {\n",
              "      display:flex;\n",
              "      gap: 12px;\n",
              "    }\n",
              "\n",
              "    .colab-df-convert {\n",
              "      background-color: #E8F0FE;\n",
              "      border: none;\n",
              "      border-radius: 50%;\n",
              "      cursor: pointer;\n",
              "      display: none;\n",
              "      fill: #1967D2;\n",
              "      height: 32px;\n",
              "      padding: 0 0 0 0;\n",
              "      width: 32px;\n",
              "    }\n",
              "\n",
              "    .colab-df-convert:hover {\n",
              "      background-color: #E2EBFA;\n",
              "      box-shadow: 0px 1px 2px rgba(60, 64, 67, 0.3), 0px 1px 3px 1px rgba(60, 64, 67, 0.15);\n",
              "      fill: #174EA6;\n",
              "    }\n",
              "\n",
              "    .colab-df-buttons div {\n",
              "      margin-bottom: 4px;\n",
              "    }\n",
              "\n",
              "    [theme=dark] .colab-df-convert {\n",
              "      background-color: #3B4455;\n",
              "      fill: #D2E3FC;\n",
              "    }\n",
              "\n",
              "    [theme=dark] .colab-df-convert:hover {\n",
              "      background-color: #434B5C;\n",
              "      box-shadow: 0px 1px 3px 1px rgba(0, 0, 0, 0.15);\n",
              "      filter: drop-shadow(0px 1px 2px rgba(0, 0, 0, 0.3));\n",
              "      fill: #FFFFFF;\n",
              "    }\n",
              "  </style>\n",
              "\n",
              "    <script>\n",
              "      const buttonEl =\n",
              "        document.querySelector('#df-a1dc38c8-b49d-4ea5-83f3-2fbf84122b50 button.colab-df-convert');\n",
              "      buttonEl.style.display =\n",
              "        google.colab.kernel.accessAllowed ? 'block' : 'none';\n",
              "\n",
              "      async function convertToInteractive(key) {\n",
              "        const element = document.querySelector('#df-a1dc38c8-b49d-4ea5-83f3-2fbf84122b50');\n",
              "        const dataTable =\n",
              "          await google.colab.kernel.invokeFunction('convertToInteractive',\n",
              "                                                    [key], {});\n",
              "        if (!dataTable) return;\n",
              "\n",
              "        const docLinkHtml = 'Like what you see? Visit the ' +\n",
              "          '<a target=\"_blank\" href=https://colab.research.google.com/notebooks/data_table.ipynb>data table notebook</a>'\n",
              "          + ' to learn more about interactive tables.';\n",
              "        element.innerHTML = '';\n",
              "        dataTable['output_type'] = 'display_data';\n",
              "        await google.colab.output.renderOutput(dataTable, element);\n",
              "        const docLink = document.createElement('div');\n",
              "        docLink.innerHTML = docLinkHtml;\n",
              "        element.appendChild(docLink);\n",
              "      }\n",
              "    </script>\n",
              "  </div>\n",
              "\n",
              "\n",
              "<div id=\"df-0802ece5-98a7-4a82-bbc6-fb52683959dd\">\n",
              "  <button class=\"colab-df-quickchart\" onclick=\"quickchart('df-0802ece5-98a7-4a82-bbc6-fb52683959dd')\"\n",
              "            title=\"Suggest charts\"\n",
              "            style=\"display:none;\">\n",
              "\n",
              "<svg xmlns=\"http://www.w3.org/2000/svg\" height=\"24px\"viewBox=\"0 0 24 24\"\n",
              "     width=\"24px\">\n",
              "    <g>\n",
              "        <path d=\"M19 3H5c-1.1 0-2 .9-2 2v14c0 1.1.9 2 2 2h14c1.1 0 2-.9 2-2V5c0-1.1-.9-2-2-2zM9 17H7v-7h2v7zm4 0h-2V7h2v10zm4 0h-2v-4h2v4z\"/>\n",
              "    </g>\n",
              "</svg>\n",
              "  </button>\n",
              "\n",
              "<style>\n",
              "  .colab-df-quickchart {\n",
              "      --bg-color: #E8F0FE;\n",
              "      --fill-color: #1967D2;\n",
              "      --hover-bg-color: #E2EBFA;\n",
              "      --hover-fill-color: #174EA6;\n",
              "      --disabled-fill-color: #AAA;\n",
              "      --disabled-bg-color: #DDD;\n",
              "  }\n",
              "\n",
              "  [theme=dark] .colab-df-quickchart {\n",
              "      --bg-color: #3B4455;\n",
              "      --fill-color: #D2E3FC;\n",
              "      --hover-bg-color: #434B5C;\n",
              "      --hover-fill-color: #FFFFFF;\n",
              "      --disabled-bg-color: #3B4455;\n",
              "      --disabled-fill-color: #666;\n",
              "  }\n",
              "\n",
              "  .colab-df-quickchart {\n",
              "    background-color: var(--bg-color);\n",
              "    border: none;\n",
              "    border-radius: 50%;\n",
              "    cursor: pointer;\n",
              "    display: none;\n",
              "    fill: var(--fill-color);\n",
              "    height: 32px;\n",
              "    padding: 0;\n",
              "    width: 32px;\n",
              "  }\n",
              "\n",
              "  .colab-df-quickchart:hover {\n",
              "    background-color: var(--hover-bg-color);\n",
              "    box-shadow: 0 1px 2px rgba(60, 64, 67, 0.3), 0 1px 3px 1px rgba(60, 64, 67, 0.15);\n",
              "    fill: var(--button-hover-fill-color);\n",
              "  }\n",
              "\n",
              "  .colab-df-quickchart-complete:disabled,\n",
              "  .colab-df-quickchart-complete:disabled:hover {\n",
              "    background-color: var(--disabled-bg-color);\n",
              "    fill: var(--disabled-fill-color);\n",
              "    box-shadow: none;\n",
              "  }\n",
              "\n",
              "  .colab-df-spinner {\n",
              "    border: 2px solid var(--fill-color);\n",
              "    border-color: transparent;\n",
              "    border-bottom-color: var(--fill-color);\n",
              "    animation:\n",
              "      spin 1s steps(1) infinite;\n",
              "  }\n",
              "\n",
              "  @keyframes spin {\n",
              "    0% {\n",
              "      border-color: transparent;\n",
              "      border-bottom-color: var(--fill-color);\n",
              "      border-left-color: var(--fill-color);\n",
              "    }\n",
              "    20% {\n",
              "      border-color: transparent;\n",
              "      border-left-color: var(--fill-color);\n",
              "      border-top-color: var(--fill-color);\n",
              "    }\n",
              "    30% {\n",
              "      border-color: transparent;\n",
              "      border-left-color: var(--fill-color);\n",
              "      border-top-color: var(--fill-color);\n",
              "      border-right-color: var(--fill-color);\n",
              "    }\n",
              "    40% {\n",
              "      border-color: transparent;\n",
              "      border-right-color: var(--fill-color);\n",
              "      border-top-color: var(--fill-color);\n",
              "    }\n",
              "    60% {\n",
              "      border-color: transparent;\n",
              "      border-right-color: var(--fill-color);\n",
              "    }\n",
              "    80% {\n",
              "      border-color: transparent;\n",
              "      border-right-color: var(--fill-color);\n",
              "      border-bottom-color: var(--fill-color);\n",
              "    }\n",
              "    90% {\n",
              "      border-color: transparent;\n",
              "      border-bottom-color: var(--fill-color);\n",
              "    }\n",
              "  }\n",
              "</style>\n",
              "\n",
              "  <script>\n",
              "    async function quickchart(key) {\n",
              "      const quickchartButtonEl =\n",
              "        document.querySelector('#' + key + ' button');\n",
              "      quickchartButtonEl.disabled = true;  // To prevent multiple clicks.\n",
              "      quickchartButtonEl.classList.add('colab-df-spinner');\n",
              "      try {\n",
              "        const charts = await google.colab.kernel.invokeFunction(\n",
              "            'suggestCharts', [key], {});\n",
              "      } catch (error) {\n",
              "        console.error('Error during call to suggestCharts:', error);\n",
              "      }\n",
              "      quickchartButtonEl.classList.remove('colab-df-spinner');\n",
              "      quickchartButtonEl.classList.add('colab-df-quickchart-complete');\n",
              "    }\n",
              "    (() => {\n",
              "      let quickchartButtonEl =\n",
              "        document.querySelector('#df-0802ece5-98a7-4a82-bbc6-fb52683959dd button');\n",
              "      quickchartButtonEl.style.display =\n",
              "        google.colab.kernel.accessAllowed ? 'block' : 'none';\n",
              "    })();\n",
              "  </script>\n",
              "</div>\n",
              "\n",
              "    </div>\n",
              "  </div>\n"
            ],
            "application/vnd.google.colaboratory.intrinsic+json": {
              "type": "dataframe",
              "variable_name": "audio_df"
            }
          },
          "metadata": {},
          "execution_count": 23
        }
      ]
    },
    {
      "cell_type": "markdown",
      "metadata": {
        "id": "aggressive-cause"
      },
      "source": [
        "#### Split the data into train and test"
      ],
      "id": "aggressive-cause"
    },
    {
      "cell_type": "code",
      "metadata": {
        "id": "nearby-angle"
      },
      "source": [
        "# YOUR CODE HERE\n",
        "X_train, X_test, y_train, y_test = train_test_split(features, audio_df['labels'], test_size=0.2, random_state=42)"
      ],
      "id": "nearby-angle",
      "execution_count": 24,
      "outputs": []
    },
    {
      "cell_type": "markdown",
      "metadata": {
        "id": "ordered-weapon"
      },
      "source": [
        "### Train the model with TESS + Ravdess data (2 points)\n",
        "\n",
        "* Apply different ML algorithms (eg. DecisionTree, RandomForest, etc.) and find the model with best performance"
      ],
      "id": "ordered-weapon"
    },
    {
      "cell_type": "code",
      "source": [
        "# YOUR CODE HERE\n",
        "# Writing Implementations of different algorithms here\n",
        "def model_predict_evaluate(X_train, X_test, y_train, y_test):\n",
        "    classification_models = [\n",
        "    LogisticRegression(),\n",
        "    DecisionTreeClassifier(splitter='random'),\n",
        "    RandomForestClassifier(n_estimators=5, random_state=42, max_features=\"sqrt\"),\n",
        "    SVC(kernel='linear'),\n",
        "    LogisticRegressionCV()\n",
        "    ]\n",
        "    scores = []\n",
        "    best_model = None\n",
        "    best_score = 0\n",
        "    for model in classification_models:\n",
        "        model.fit(X_train, y_train)\n",
        "        score = f1_score(y_test, model.predict(X_test), average='weighted')\n",
        "        model_name = type(model).__name__\n",
        "        scores.append((model_name,round(score,4)))\n",
        "        if best_model is None or best_score < score:\n",
        "            best_model = model\n",
        "            best_score = score\n",
        "    # Make it pretty\n",
        "    scores_df = pd.DataFrame(scores,columns=['Classifier','f1-Score'])\n",
        "    scores_df.sort_values(by='f1-Score',axis=0,ascending=False)\n",
        "    return scores_df, best_model\n",
        "\n",
        "scores_df, best_model = model_predict_evaluate(X_train, X_test, y_train, y_test)\n",
        "print(\"Best model is \",type(best_model).__name__)\n"
      ],
      "metadata": {
        "id": "7m4Icn7ImvGI",
        "colab": {
          "base_uri": "https://localhost:8080/"
        },
        "outputId": "ae19a091-cc0f-4349-ac7c-81b03bc2b145"
      },
      "id": "7m4Icn7ImvGI",
      "execution_count": 25,
      "outputs": [
        {
          "output_type": "stream",
          "name": "stdout",
          "text": [
            "Best model is  LogisticRegressionCV\n"
          ]
        }
      ]
    },
    {
      "cell_type": "code",
      "source": [
        "scores_df"
      ],
      "metadata": {
        "colab": {
          "base_uri": "https://localhost:8080/",
          "height": 206
        },
        "id": "obEABhHHm00j",
        "outputId": "f844439c-46ae-4ff6-b56b-8040642ab3b8"
      },
      "id": "obEABhHHm00j",
      "execution_count": 26,
      "outputs": [
        {
          "output_type": "execute_result",
          "data": {
            "text/plain": [
              "               Classifier  f1-Score\n",
              "0      LogisticRegression    0.7715\n",
              "1  DecisionTreeClassifier    0.7610\n",
              "2  RandomForestClassifier    0.7967\n",
              "3                     SVC    0.7984\n",
              "4    LogisticRegressionCV    0.8090"
            ],
            "text/html": [
              "\n",
              "  <div id=\"df-2e16be43-f0a7-4ebb-9c0d-99ee8015ad18\" class=\"colab-df-container\">\n",
              "    <div>\n",
              "<style scoped>\n",
              "    .dataframe tbody tr th:only-of-type {\n",
              "        vertical-align: middle;\n",
              "    }\n",
              "\n",
              "    .dataframe tbody tr th {\n",
              "        vertical-align: top;\n",
              "    }\n",
              "\n",
              "    .dataframe thead th {\n",
              "        text-align: right;\n",
              "    }\n",
              "</style>\n",
              "<table border=\"1\" class=\"dataframe\">\n",
              "  <thead>\n",
              "    <tr style=\"text-align: right;\">\n",
              "      <th></th>\n",
              "      <th>Classifier</th>\n",
              "      <th>f1-Score</th>\n",
              "    </tr>\n",
              "  </thead>\n",
              "  <tbody>\n",
              "    <tr>\n",
              "      <th>0</th>\n",
              "      <td>LogisticRegression</td>\n",
              "      <td>0.7715</td>\n",
              "    </tr>\n",
              "    <tr>\n",
              "      <th>1</th>\n",
              "      <td>DecisionTreeClassifier</td>\n",
              "      <td>0.7610</td>\n",
              "    </tr>\n",
              "    <tr>\n",
              "      <th>2</th>\n",
              "      <td>RandomForestClassifier</td>\n",
              "      <td>0.7967</td>\n",
              "    </tr>\n",
              "    <tr>\n",
              "      <th>3</th>\n",
              "      <td>SVC</td>\n",
              "      <td>0.7984</td>\n",
              "    </tr>\n",
              "    <tr>\n",
              "      <th>4</th>\n",
              "      <td>LogisticRegressionCV</td>\n",
              "      <td>0.8090</td>\n",
              "    </tr>\n",
              "  </tbody>\n",
              "</table>\n",
              "</div>\n",
              "    <div class=\"colab-df-buttons\">\n",
              "\n",
              "  <div class=\"colab-df-container\">\n",
              "    <button class=\"colab-df-convert\" onclick=\"convertToInteractive('df-2e16be43-f0a7-4ebb-9c0d-99ee8015ad18')\"\n",
              "            title=\"Convert this dataframe to an interactive table.\"\n",
              "            style=\"display:none;\">\n",
              "\n",
              "  <svg xmlns=\"http://www.w3.org/2000/svg\" height=\"24px\" viewBox=\"0 -960 960 960\">\n",
              "    <path d=\"M120-120v-720h720v720H120Zm60-500h600v-160H180v160Zm220 220h160v-160H400v160Zm0 220h160v-160H400v160ZM180-400h160v-160H180v160Zm440 0h160v-160H620v160ZM180-180h160v-160H180v160Zm440 0h160v-160H620v160Z\"/>\n",
              "  </svg>\n",
              "    </button>\n",
              "\n",
              "  <style>\n",
              "    .colab-df-container {\n",
              "      display:flex;\n",
              "      gap: 12px;\n",
              "    }\n",
              "\n",
              "    .colab-df-convert {\n",
              "      background-color: #E8F0FE;\n",
              "      border: none;\n",
              "      border-radius: 50%;\n",
              "      cursor: pointer;\n",
              "      display: none;\n",
              "      fill: #1967D2;\n",
              "      height: 32px;\n",
              "      padding: 0 0 0 0;\n",
              "      width: 32px;\n",
              "    }\n",
              "\n",
              "    .colab-df-convert:hover {\n",
              "      background-color: #E2EBFA;\n",
              "      box-shadow: 0px 1px 2px rgba(60, 64, 67, 0.3), 0px 1px 3px 1px rgba(60, 64, 67, 0.15);\n",
              "      fill: #174EA6;\n",
              "    }\n",
              "\n",
              "    .colab-df-buttons div {\n",
              "      margin-bottom: 4px;\n",
              "    }\n",
              "\n",
              "    [theme=dark] .colab-df-convert {\n",
              "      background-color: #3B4455;\n",
              "      fill: #D2E3FC;\n",
              "    }\n",
              "\n",
              "    [theme=dark] .colab-df-convert:hover {\n",
              "      background-color: #434B5C;\n",
              "      box-shadow: 0px 1px 3px 1px rgba(0, 0, 0, 0.15);\n",
              "      filter: drop-shadow(0px 1px 2px rgba(0, 0, 0, 0.3));\n",
              "      fill: #FFFFFF;\n",
              "    }\n",
              "  </style>\n",
              "\n",
              "    <script>\n",
              "      const buttonEl =\n",
              "        document.querySelector('#df-2e16be43-f0a7-4ebb-9c0d-99ee8015ad18 button.colab-df-convert');\n",
              "      buttonEl.style.display =\n",
              "        google.colab.kernel.accessAllowed ? 'block' : 'none';\n",
              "\n",
              "      async function convertToInteractive(key) {\n",
              "        const element = document.querySelector('#df-2e16be43-f0a7-4ebb-9c0d-99ee8015ad18');\n",
              "        const dataTable =\n",
              "          await google.colab.kernel.invokeFunction('convertToInteractive',\n",
              "                                                    [key], {});\n",
              "        if (!dataTable) return;\n",
              "\n",
              "        const docLinkHtml = 'Like what you see? Visit the ' +\n",
              "          '<a target=\"_blank\" href=https://colab.research.google.com/notebooks/data_table.ipynb>data table notebook</a>'\n",
              "          + ' to learn more about interactive tables.';\n",
              "        element.innerHTML = '';\n",
              "        dataTable['output_type'] = 'display_data';\n",
              "        await google.colab.output.renderOutput(dataTable, element);\n",
              "        const docLink = document.createElement('div');\n",
              "        docLink.innerHTML = docLinkHtml;\n",
              "        element.appendChild(docLink);\n",
              "      }\n",
              "    </script>\n",
              "  </div>\n",
              "\n",
              "\n",
              "<div id=\"df-b720c261-453b-4cf9-9d3b-fe420dcd523a\">\n",
              "  <button class=\"colab-df-quickchart\" onclick=\"quickchart('df-b720c261-453b-4cf9-9d3b-fe420dcd523a')\"\n",
              "            title=\"Suggest charts\"\n",
              "            style=\"display:none;\">\n",
              "\n",
              "<svg xmlns=\"http://www.w3.org/2000/svg\" height=\"24px\"viewBox=\"0 0 24 24\"\n",
              "     width=\"24px\">\n",
              "    <g>\n",
              "        <path d=\"M19 3H5c-1.1 0-2 .9-2 2v14c0 1.1.9 2 2 2h14c1.1 0 2-.9 2-2V5c0-1.1-.9-2-2-2zM9 17H7v-7h2v7zm4 0h-2V7h2v10zm4 0h-2v-4h2v4z\"/>\n",
              "    </g>\n",
              "</svg>\n",
              "  </button>\n",
              "\n",
              "<style>\n",
              "  .colab-df-quickchart {\n",
              "      --bg-color: #E8F0FE;\n",
              "      --fill-color: #1967D2;\n",
              "      --hover-bg-color: #E2EBFA;\n",
              "      --hover-fill-color: #174EA6;\n",
              "      --disabled-fill-color: #AAA;\n",
              "      --disabled-bg-color: #DDD;\n",
              "  }\n",
              "\n",
              "  [theme=dark] .colab-df-quickchart {\n",
              "      --bg-color: #3B4455;\n",
              "      --fill-color: #D2E3FC;\n",
              "      --hover-bg-color: #434B5C;\n",
              "      --hover-fill-color: #FFFFFF;\n",
              "      --disabled-bg-color: #3B4455;\n",
              "      --disabled-fill-color: #666;\n",
              "  }\n",
              "\n",
              "  .colab-df-quickchart {\n",
              "    background-color: var(--bg-color);\n",
              "    border: none;\n",
              "    border-radius: 50%;\n",
              "    cursor: pointer;\n",
              "    display: none;\n",
              "    fill: var(--fill-color);\n",
              "    height: 32px;\n",
              "    padding: 0;\n",
              "    width: 32px;\n",
              "  }\n",
              "\n",
              "  .colab-df-quickchart:hover {\n",
              "    background-color: var(--hover-bg-color);\n",
              "    box-shadow: 0 1px 2px rgba(60, 64, 67, 0.3), 0 1px 3px 1px rgba(60, 64, 67, 0.15);\n",
              "    fill: var(--button-hover-fill-color);\n",
              "  }\n",
              "\n",
              "  .colab-df-quickchart-complete:disabled,\n",
              "  .colab-df-quickchart-complete:disabled:hover {\n",
              "    background-color: var(--disabled-bg-color);\n",
              "    fill: var(--disabled-fill-color);\n",
              "    box-shadow: none;\n",
              "  }\n",
              "\n",
              "  .colab-df-spinner {\n",
              "    border: 2px solid var(--fill-color);\n",
              "    border-color: transparent;\n",
              "    border-bottom-color: var(--fill-color);\n",
              "    animation:\n",
              "      spin 1s steps(1) infinite;\n",
              "  }\n",
              "\n",
              "  @keyframes spin {\n",
              "    0% {\n",
              "      border-color: transparent;\n",
              "      border-bottom-color: var(--fill-color);\n",
              "      border-left-color: var(--fill-color);\n",
              "    }\n",
              "    20% {\n",
              "      border-color: transparent;\n",
              "      border-left-color: var(--fill-color);\n",
              "      border-top-color: var(--fill-color);\n",
              "    }\n",
              "    30% {\n",
              "      border-color: transparent;\n",
              "      border-left-color: var(--fill-color);\n",
              "      border-top-color: var(--fill-color);\n",
              "      border-right-color: var(--fill-color);\n",
              "    }\n",
              "    40% {\n",
              "      border-color: transparent;\n",
              "      border-right-color: var(--fill-color);\n",
              "      border-top-color: var(--fill-color);\n",
              "    }\n",
              "    60% {\n",
              "      border-color: transparent;\n",
              "      border-right-color: var(--fill-color);\n",
              "    }\n",
              "    80% {\n",
              "      border-color: transparent;\n",
              "      border-right-color: var(--fill-color);\n",
              "      border-bottom-color: var(--fill-color);\n",
              "    }\n",
              "    90% {\n",
              "      border-color: transparent;\n",
              "      border-bottom-color: var(--fill-color);\n",
              "    }\n",
              "  }\n",
              "</style>\n",
              "\n",
              "  <script>\n",
              "    async function quickchart(key) {\n",
              "      const quickchartButtonEl =\n",
              "        document.querySelector('#' + key + ' button');\n",
              "      quickchartButtonEl.disabled = true;  // To prevent multiple clicks.\n",
              "      quickchartButtonEl.classList.add('colab-df-spinner');\n",
              "      try {\n",
              "        const charts = await google.colab.kernel.invokeFunction(\n",
              "            'suggestCharts', [key], {});\n",
              "      } catch (error) {\n",
              "        console.error('Error during call to suggestCharts:', error);\n",
              "      }\n",
              "      quickchartButtonEl.classList.remove('colab-df-spinner');\n",
              "      quickchartButtonEl.classList.add('colab-df-quickchart-complete');\n",
              "    }\n",
              "    (() => {\n",
              "      let quickchartButtonEl =\n",
              "        document.querySelector('#df-b720c261-453b-4cf9-9d3b-fe420dcd523a button');\n",
              "      quickchartButtonEl.style.display =\n",
              "        google.colab.kernel.accessAllowed ? 'block' : 'none';\n",
              "    })();\n",
              "  </script>\n",
              "</div>\n",
              "\n",
              "  <div id=\"id_46385879-53f6-4250-9ca0-ee093d14372c\">\n",
              "    <style>\n",
              "      .colab-df-generate {\n",
              "        background-color: #E8F0FE;\n",
              "        border: none;\n",
              "        border-radius: 50%;\n",
              "        cursor: pointer;\n",
              "        display: none;\n",
              "        fill: #1967D2;\n",
              "        height: 32px;\n",
              "        padding: 0 0 0 0;\n",
              "        width: 32px;\n",
              "      }\n",
              "\n",
              "      .colab-df-generate:hover {\n",
              "        background-color: #E2EBFA;\n",
              "        box-shadow: 0px 1px 2px rgba(60, 64, 67, 0.3), 0px 1px 3px 1px rgba(60, 64, 67, 0.15);\n",
              "        fill: #174EA6;\n",
              "      }\n",
              "\n",
              "      [theme=dark] .colab-df-generate {\n",
              "        background-color: #3B4455;\n",
              "        fill: #D2E3FC;\n",
              "      }\n",
              "\n",
              "      [theme=dark] .colab-df-generate:hover {\n",
              "        background-color: #434B5C;\n",
              "        box-shadow: 0px 1px 3px 1px rgba(0, 0, 0, 0.15);\n",
              "        filter: drop-shadow(0px 1px 2px rgba(0, 0, 0, 0.3));\n",
              "        fill: #FFFFFF;\n",
              "      }\n",
              "    </style>\n",
              "    <button class=\"colab-df-generate\" onclick=\"generateWithVariable('scores_df')\"\n",
              "            title=\"Generate code using this dataframe.\"\n",
              "            style=\"display:none;\">\n",
              "\n",
              "  <svg xmlns=\"http://www.w3.org/2000/svg\" height=\"24px\"viewBox=\"0 0 24 24\"\n",
              "       width=\"24px\">\n",
              "    <path d=\"M7,19H8.4L18.45,9,17,7.55,7,17.6ZM5,21V16.75L18.45,3.32a2,2,0,0,1,2.83,0l1.4,1.43a1.91,1.91,0,0,1,.58,1.4,1.91,1.91,0,0,1-.58,1.4L9.25,21ZM18.45,9,17,7.55Zm-12,3A5.31,5.31,0,0,0,4.9,8.1,5.31,5.31,0,0,0,1,6.5,5.31,5.31,0,0,0,4.9,4.9,5.31,5.31,0,0,0,6.5,1,5.31,5.31,0,0,0,8.1,4.9,5.31,5.31,0,0,0,12,6.5,5.46,5.46,0,0,0,6.5,12Z\"/>\n",
              "  </svg>\n",
              "    </button>\n",
              "    <script>\n",
              "      (() => {\n",
              "      const buttonEl =\n",
              "        document.querySelector('#id_46385879-53f6-4250-9ca0-ee093d14372c button.colab-df-generate');\n",
              "      buttonEl.style.display =\n",
              "        google.colab.kernel.accessAllowed ? 'block' : 'none';\n",
              "\n",
              "      buttonEl.onclick = () => {\n",
              "        google.colab.notebook.generateWithVariable('scores_df');\n",
              "      }\n",
              "      })();\n",
              "    </script>\n",
              "  </div>\n",
              "\n",
              "    </div>\n",
              "  </div>\n"
            ],
            "application/vnd.google.colaboratory.intrinsic+json": {
              "type": "dataframe",
              "variable_name": "scores_df",
              "summary": "{\n  \"name\": \"scores_df\",\n  \"rows\": 5,\n  \"fields\": [\n    {\n      \"column\": \"Classifier\",\n      \"properties\": {\n        \"dtype\": \"string\",\n        \"num_unique_values\": 5,\n        \"samples\": [\n          \"DecisionTreeClassifier\",\n          \"LogisticRegressionCV\",\n          \"RandomForestClassifier\"\n        ],\n        \"semantic_type\": \"\",\n        \"description\": \"\"\n      }\n    },\n    {\n      \"column\": \"f1-Score\",\n      \"properties\": {\n        \"dtype\": \"number\",\n        \"std\": 0.0201481264637683,\n        \"min\": 0.761,\n        \"max\": 0.809,\n        \"num_unique_values\": 5,\n        \"samples\": [\n          0.761,\n          0.809,\n          0.7967\n        ],\n        \"semantic_type\": \"\",\n        \"description\": \"\"\n      }\n    }\n  ]\n}"
            }
          },
          "metadata": {},
          "execution_count": 26
        }
      ]
    },
    {
      "cell_type": "markdown",
      "metadata": {
        "id": "returning-bones"
      },
      "source": [
        "#### Apply the voting classifier"
      ],
      "id": "returning-bones"
    },
    {
      "cell_type": "code",
      "metadata": {
        "id": "fuzzy-respondent",
        "colab": {
          "base_uri": "https://localhost:8080/"
        },
        "outputId": "d9ef0ac3-1744-4a96-943e-6426c0f14c1e"
      },
      "source": [
        "# YOUR CODE HERE\n",
        "voting_clf = VotingClassifier(estimators=[('lr', LogisticRegression()),\\\n",
        "                                          ('dt', DecisionTreeClassifier()),\\\n",
        "                                          ('rf', RandomForestClassifier(n_estimators=10, random_state=42, max_features=\"sqrt\")),\\\n",
        "                                          ('lrcv',LogisticRegressionCV()),\\\n",
        "                                          ('svc',SVC(kernel='linear'))],\\\n",
        "                               voting='hard')\n",
        "voting_clf.fit(X_train, y_train)\n",
        "y_pred = voting_clf.predict(X_test)\n",
        "print(\"f1-Score with hard voting = \",round(f1_score(y_test, y_pred, average='weighted'), 4))"
      ],
      "id": "fuzzy-respondent",
      "execution_count": 50,
      "outputs": [
        {
          "output_type": "stream",
          "name": "stdout",
          "text": [
            "f1-Score with hard voting =  0.8194\n"
          ]
        }
      ]
    },
    {
      "cell_type": "markdown",
      "metadata": {
        "id": "6p1MHeY9oYqB"
      },
      "source": [
        "### Train the model with TESS + Ravdess + Team recorded data (4 points)\n",
        "\n",
        "* Record the audio samples (team data), extract features and combine with TESS + Ravdess data features\n",
        "  - Record and gather all the team data samples with proper naming convention in separate folder\n",
        "\n",
        "    **Hint:** Follow the supplementary notebook to record team data\n",
        "\n",
        "  - Each team member must record 2 samples for each emotion (Use similar sentences as given in TESS data)\n",
        "\n",
        "* Train the different ML algorithms and find the model with best performance"
      ],
      "id": "6p1MHeY9oYqB"
    },
    {
      "cell_type": "markdown",
      "metadata": {
        "id": "M4In88rvtVmb"
      },
      "source": [
        "#### Load the team data"
      ],
      "id": "M4In88rvtVmb"
    },
    {
      "cell_type": "code",
      "metadata": {
        "id": "nna7EZMRaKCI",
        "colab": {
          "base_uri": "https://localhost:8080/"
        },
        "outputId": "cb68d1c5-8cd2-4e08-a4fd-3e49f9205e0c"
      },
      "source": [
        "# YOUR CODE HERE\n",
        "# !wget -qq https://drive.google.com/file/d/1mn7roYjQ4FoTdTEQ2JIfNrhn2pyhDX7c/view?usp=drive_link\n",
        "!unzip -qq /content/Team15.zip\n",
        "team_15_wav_files = glob.glob(\"Team15/*/*.wav\")\n",
        "print(\"Number of wav files with Team data = \",len(team_15_wav_files))"
      ],
      "id": "nna7EZMRaKCI",
      "execution_count": 28,
      "outputs": [
        {
          "output_type": "stream",
          "name": "stdout",
          "text": [
            "Number of wav files with Team data =  46\n"
          ]
        }
      ]
    },
    {
      "cell_type": "markdown",
      "metadata": {
        "id": "awnyYAic36V0"
      },
      "source": [
        "#### Extracting features of team data and combine with TESS + Ravdess"
      ],
      "id": "awnyYAic36V0"
    },
    {
      "cell_type": "code",
      "metadata": {
        "id": "15br8qPwa2a6",
        "colab": {
          "base_uri": "https://localhost:8080/"
        },
        "outputId": "0ed0cf81-2474-4fff-d1c7-3b4dfb2493a8"
      },
      "source": [
        "# YOUR CODE HERE\n",
        "# YOUR CODE HERE\n",
        "def team15_feature_extraction():\n",
        "    features, labels = [], []\n",
        "\n",
        "    # Get CPU count to set to multiprocessing, since feature extraction is CPU bound\n",
        "    num_cores = os.cpu_count()\n",
        "\n",
        "    begin = time.time()\n",
        "\n",
        "    with multiprocessing.Pool(processes=num_cores) as p:\n",
        "        features = p.map(extract_feature, team_15_wav_files)\n",
        "\n",
        "    labels = [emotions[wv_file.split(\"_\")[-1].split(\".\")[0].lower()] for wv_file in team_15_wav_files]\n",
        "    features = np.array(features)\n",
        "    labels = np.array(labels)\n",
        "    end = time.time()\n",
        "    print(\"Time taken = \",end-begin)\n",
        "    print(\"Feature len = \",len(features))\n",
        "    print(\"Label len = \",len(labels))\n",
        "    return np.array(features), np.array(labels)\n",
        "\n",
        "def combine_team_tess_ravd():\n",
        "    features_team, labels_team = team15_feature_extraction()\n",
        "    features = np.concatenate((features_tess, features_ravdess, features_team), axis = 0)\n",
        "    labels = np.concatenate((labels_tess, labels_ravdess, labels_team), axis = 0)\n",
        "    combined_audio_df = pd.DataFrame(features)\n",
        "    combined_audio_df['labels'] = labels\n",
        "    combined_audio_df.to_csv('combined_audio_df.csv', index=False)\n",
        "    return features, combined_audio_df\n",
        "\n",
        "features, combined_audio_df = combine_team_tess_ravd()"
      ],
      "id": "15br8qPwa2a6",
      "execution_count": 29,
      "outputs": [
        {
          "output_type": "stream",
          "name": "stdout",
          "text": [
            "Time taken =  9.304043769836426\n",
            "Feature len =  46\n",
            "Label len =  46\n"
          ]
        }
      ]
    },
    {
      "cell_type": "code",
      "source": [
        "combined_audio_df.head()"
      ],
      "metadata": {
        "colab": {
          "base_uri": "https://localhost:8080/",
          "height": 256
        },
        "id": "eZVeWO5RJUJK",
        "outputId": "2f50e36c-0c55-4218-f7be-f35cedb4ca40"
      },
      "id": "eZVeWO5RJUJK",
      "execution_count": 30,
      "outputs": [
        {
          "output_type": "execute_result",
          "data": {
            "text/plain": [
              "            0          1          2          3         4         5          6  \\\n",
              "0 -437.920013  73.299049  13.479185   3.243489  9.323157 -3.971268  -6.414124   \n",
              "1 -411.453522  64.683586  15.502349  -5.014569 -8.626382 -5.206890 -11.337915   \n",
              "2 -403.144073  77.245491   7.641733   6.845827  3.532720 -5.360589 -14.961371   \n",
              "3 -380.920044  82.906822 -10.538331 -17.110846  2.728152  0.704234 -11.843532   \n",
              "4 -421.720581  83.599411   8.484735  -3.906103  7.259039  0.361912 -11.678505   \n",
              "\n",
              "          7          8          9  ...       171       172       173  \\\n",
              "0  5.811415 -15.687618  -2.849247  ...  0.000437  0.000301  0.000479   \n",
              "1 -0.304360 -15.942957  -1.311298  ...  0.001369  0.002164  0.001713   \n",
              "2  0.168502 -12.826844 -11.419881  ...  0.000686  0.000880  0.000706   \n",
              "3  5.594142 -11.098066   0.238773  ...  0.001347  0.001181  0.001142   \n",
              "4 -1.038350 -15.822961  -4.571904  ...  0.001199  0.001327  0.001004   \n",
              "\n",
              "        174       175       176       177       178       179  labels  \n",
              "0  0.000369  0.000260  0.000205  0.000157  0.000069  0.000005       8  \n",
              "1  0.001488  0.001295  0.000974  0.000886  0.000429  0.000025       8  \n",
              "2  0.000569  0.000567  0.000399  0.000441  0.000219  0.000015       8  \n",
              "3  0.000899  0.000610  0.000510  0.000322  0.000128  0.000007       8  \n",
              "4  0.000625  0.000540  0.000504  0.000278  0.000125  0.000009       8  \n",
              "\n",
              "[5 rows x 181 columns]"
            ],
            "text/html": [
              "\n",
              "  <div id=\"df-26dc4659-1fcc-42fe-a7b0-80c07adb2e87\" class=\"colab-df-container\">\n",
              "    <div>\n",
              "<style scoped>\n",
              "    .dataframe tbody tr th:only-of-type {\n",
              "        vertical-align: middle;\n",
              "    }\n",
              "\n",
              "    .dataframe tbody tr th {\n",
              "        vertical-align: top;\n",
              "    }\n",
              "\n",
              "    .dataframe thead th {\n",
              "        text-align: right;\n",
              "    }\n",
              "</style>\n",
              "<table border=\"1\" class=\"dataframe\">\n",
              "  <thead>\n",
              "    <tr style=\"text-align: right;\">\n",
              "      <th></th>\n",
              "      <th>0</th>\n",
              "      <th>1</th>\n",
              "      <th>2</th>\n",
              "      <th>3</th>\n",
              "      <th>4</th>\n",
              "      <th>5</th>\n",
              "      <th>6</th>\n",
              "      <th>7</th>\n",
              "      <th>8</th>\n",
              "      <th>9</th>\n",
              "      <th>...</th>\n",
              "      <th>171</th>\n",
              "      <th>172</th>\n",
              "      <th>173</th>\n",
              "      <th>174</th>\n",
              "      <th>175</th>\n",
              "      <th>176</th>\n",
              "      <th>177</th>\n",
              "      <th>178</th>\n",
              "      <th>179</th>\n",
              "      <th>labels</th>\n",
              "    </tr>\n",
              "  </thead>\n",
              "  <tbody>\n",
              "    <tr>\n",
              "      <th>0</th>\n",
              "      <td>-437.920013</td>\n",
              "      <td>73.299049</td>\n",
              "      <td>13.479185</td>\n",
              "      <td>3.243489</td>\n",
              "      <td>9.323157</td>\n",
              "      <td>-3.971268</td>\n",
              "      <td>-6.414124</td>\n",
              "      <td>5.811415</td>\n",
              "      <td>-15.687618</td>\n",
              "      <td>-2.849247</td>\n",
              "      <td>...</td>\n",
              "      <td>0.000437</td>\n",
              "      <td>0.000301</td>\n",
              "      <td>0.000479</td>\n",
              "      <td>0.000369</td>\n",
              "      <td>0.000260</td>\n",
              "      <td>0.000205</td>\n",
              "      <td>0.000157</td>\n",
              "      <td>0.000069</td>\n",
              "      <td>0.000005</td>\n",
              "      <td>8</td>\n",
              "    </tr>\n",
              "    <tr>\n",
              "      <th>1</th>\n",
              "      <td>-411.453522</td>\n",
              "      <td>64.683586</td>\n",
              "      <td>15.502349</td>\n",
              "      <td>-5.014569</td>\n",
              "      <td>-8.626382</td>\n",
              "      <td>-5.206890</td>\n",
              "      <td>-11.337915</td>\n",
              "      <td>-0.304360</td>\n",
              "      <td>-15.942957</td>\n",
              "      <td>-1.311298</td>\n",
              "      <td>...</td>\n",
              "      <td>0.001369</td>\n",
              "      <td>0.002164</td>\n",
              "      <td>0.001713</td>\n",
              "      <td>0.001488</td>\n",
              "      <td>0.001295</td>\n",
              "      <td>0.000974</td>\n",
              "      <td>0.000886</td>\n",
              "      <td>0.000429</td>\n",
              "      <td>0.000025</td>\n",
              "      <td>8</td>\n",
              "    </tr>\n",
              "    <tr>\n",
              "      <th>2</th>\n",
              "      <td>-403.144073</td>\n",
              "      <td>77.245491</td>\n",
              "      <td>7.641733</td>\n",
              "      <td>6.845827</td>\n",
              "      <td>3.532720</td>\n",
              "      <td>-5.360589</td>\n",
              "      <td>-14.961371</td>\n",
              "      <td>0.168502</td>\n",
              "      <td>-12.826844</td>\n",
              "      <td>-11.419881</td>\n",
              "      <td>...</td>\n",
              "      <td>0.000686</td>\n",
              "      <td>0.000880</td>\n",
              "      <td>0.000706</td>\n",
              "      <td>0.000569</td>\n",
              "      <td>0.000567</td>\n",
              "      <td>0.000399</td>\n",
              "      <td>0.000441</td>\n",
              "      <td>0.000219</td>\n",
              "      <td>0.000015</td>\n",
              "      <td>8</td>\n",
              "    </tr>\n",
              "    <tr>\n",
              "      <th>3</th>\n",
              "      <td>-380.920044</td>\n",
              "      <td>82.906822</td>\n",
              "      <td>-10.538331</td>\n",
              "      <td>-17.110846</td>\n",
              "      <td>2.728152</td>\n",
              "      <td>0.704234</td>\n",
              "      <td>-11.843532</td>\n",
              "      <td>5.594142</td>\n",
              "      <td>-11.098066</td>\n",
              "      <td>0.238773</td>\n",
              "      <td>...</td>\n",
              "      <td>0.001347</td>\n",
              "      <td>0.001181</td>\n",
              "      <td>0.001142</td>\n",
              "      <td>0.000899</td>\n",
              "      <td>0.000610</td>\n",
              "      <td>0.000510</td>\n",
              "      <td>0.000322</td>\n",
              "      <td>0.000128</td>\n",
              "      <td>0.000007</td>\n",
              "      <td>8</td>\n",
              "    </tr>\n",
              "    <tr>\n",
              "      <th>4</th>\n",
              "      <td>-421.720581</td>\n",
              "      <td>83.599411</td>\n",
              "      <td>8.484735</td>\n",
              "      <td>-3.906103</td>\n",
              "      <td>7.259039</td>\n",
              "      <td>0.361912</td>\n",
              "      <td>-11.678505</td>\n",
              "      <td>-1.038350</td>\n",
              "      <td>-15.822961</td>\n",
              "      <td>-4.571904</td>\n",
              "      <td>...</td>\n",
              "      <td>0.001199</td>\n",
              "      <td>0.001327</td>\n",
              "      <td>0.001004</td>\n",
              "      <td>0.000625</td>\n",
              "      <td>0.000540</td>\n",
              "      <td>0.000504</td>\n",
              "      <td>0.000278</td>\n",
              "      <td>0.000125</td>\n",
              "      <td>0.000009</td>\n",
              "      <td>8</td>\n",
              "    </tr>\n",
              "  </tbody>\n",
              "</table>\n",
              "<p>5 rows × 181 columns</p>\n",
              "</div>\n",
              "    <div class=\"colab-df-buttons\">\n",
              "\n",
              "  <div class=\"colab-df-container\">\n",
              "    <button class=\"colab-df-convert\" onclick=\"convertToInteractive('df-26dc4659-1fcc-42fe-a7b0-80c07adb2e87')\"\n",
              "            title=\"Convert this dataframe to an interactive table.\"\n",
              "            style=\"display:none;\">\n",
              "\n",
              "  <svg xmlns=\"http://www.w3.org/2000/svg\" height=\"24px\" viewBox=\"0 -960 960 960\">\n",
              "    <path d=\"M120-120v-720h720v720H120Zm60-500h600v-160H180v160Zm220 220h160v-160H400v160Zm0 220h160v-160H400v160ZM180-400h160v-160H180v160Zm440 0h160v-160H620v160ZM180-180h160v-160H180v160Zm440 0h160v-160H620v160Z\"/>\n",
              "  </svg>\n",
              "    </button>\n",
              "\n",
              "  <style>\n",
              "    .colab-df-container {\n",
              "      display:flex;\n",
              "      gap: 12px;\n",
              "    }\n",
              "\n",
              "    .colab-df-convert {\n",
              "      background-color: #E8F0FE;\n",
              "      border: none;\n",
              "      border-radius: 50%;\n",
              "      cursor: pointer;\n",
              "      display: none;\n",
              "      fill: #1967D2;\n",
              "      height: 32px;\n",
              "      padding: 0 0 0 0;\n",
              "      width: 32px;\n",
              "    }\n",
              "\n",
              "    .colab-df-convert:hover {\n",
              "      background-color: #E2EBFA;\n",
              "      box-shadow: 0px 1px 2px rgba(60, 64, 67, 0.3), 0px 1px 3px 1px rgba(60, 64, 67, 0.15);\n",
              "      fill: #174EA6;\n",
              "    }\n",
              "\n",
              "    .colab-df-buttons div {\n",
              "      margin-bottom: 4px;\n",
              "    }\n",
              "\n",
              "    [theme=dark] .colab-df-convert {\n",
              "      background-color: #3B4455;\n",
              "      fill: #D2E3FC;\n",
              "    }\n",
              "\n",
              "    [theme=dark] .colab-df-convert:hover {\n",
              "      background-color: #434B5C;\n",
              "      box-shadow: 0px 1px 3px 1px rgba(0, 0, 0, 0.15);\n",
              "      filter: drop-shadow(0px 1px 2px rgba(0, 0, 0, 0.3));\n",
              "      fill: #FFFFFF;\n",
              "    }\n",
              "  </style>\n",
              "\n",
              "    <script>\n",
              "      const buttonEl =\n",
              "        document.querySelector('#df-26dc4659-1fcc-42fe-a7b0-80c07adb2e87 button.colab-df-convert');\n",
              "      buttonEl.style.display =\n",
              "        google.colab.kernel.accessAllowed ? 'block' : 'none';\n",
              "\n",
              "      async function convertToInteractive(key) {\n",
              "        const element = document.querySelector('#df-26dc4659-1fcc-42fe-a7b0-80c07adb2e87');\n",
              "        const dataTable =\n",
              "          await google.colab.kernel.invokeFunction('convertToInteractive',\n",
              "                                                    [key], {});\n",
              "        if (!dataTable) return;\n",
              "\n",
              "        const docLinkHtml = 'Like what you see? Visit the ' +\n",
              "          '<a target=\"_blank\" href=https://colab.research.google.com/notebooks/data_table.ipynb>data table notebook</a>'\n",
              "          + ' to learn more about interactive tables.';\n",
              "        element.innerHTML = '';\n",
              "        dataTable['output_type'] = 'display_data';\n",
              "        await google.colab.output.renderOutput(dataTable, element);\n",
              "        const docLink = document.createElement('div');\n",
              "        docLink.innerHTML = docLinkHtml;\n",
              "        element.appendChild(docLink);\n",
              "      }\n",
              "    </script>\n",
              "  </div>\n",
              "\n",
              "\n",
              "<div id=\"df-5b0743db-d5f5-4d4f-afa9-9854df4b8a61\">\n",
              "  <button class=\"colab-df-quickchart\" onclick=\"quickchart('df-5b0743db-d5f5-4d4f-afa9-9854df4b8a61')\"\n",
              "            title=\"Suggest charts\"\n",
              "            style=\"display:none;\">\n",
              "\n",
              "<svg xmlns=\"http://www.w3.org/2000/svg\" height=\"24px\"viewBox=\"0 0 24 24\"\n",
              "     width=\"24px\">\n",
              "    <g>\n",
              "        <path d=\"M19 3H5c-1.1 0-2 .9-2 2v14c0 1.1.9 2 2 2h14c1.1 0 2-.9 2-2V5c0-1.1-.9-2-2-2zM9 17H7v-7h2v7zm4 0h-2V7h2v10zm4 0h-2v-4h2v4z\"/>\n",
              "    </g>\n",
              "</svg>\n",
              "  </button>\n",
              "\n",
              "<style>\n",
              "  .colab-df-quickchart {\n",
              "      --bg-color: #E8F0FE;\n",
              "      --fill-color: #1967D2;\n",
              "      --hover-bg-color: #E2EBFA;\n",
              "      --hover-fill-color: #174EA6;\n",
              "      --disabled-fill-color: #AAA;\n",
              "      --disabled-bg-color: #DDD;\n",
              "  }\n",
              "\n",
              "  [theme=dark] .colab-df-quickchart {\n",
              "      --bg-color: #3B4455;\n",
              "      --fill-color: #D2E3FC;\n",
              "      --hover-bg-color: #434B5C;\n",
              "      --hover-fill-color: #FFFFFF;\n",
              "      --disabled-bg-color: #3B4455;\n",
              "      --disabled-fill-color: #666;\n",
              "  }\n",
              "\n",
              "  .colab-df-quickchart {\n",
              "    background-color: var(--bg-color);\n",
              "    border: none;\n",
              "    border-radius: 50%;\n",
              "    cursor: pointer;\n",
              "    display: none;\n",
              "    fill: var(--fill-color);\n",
              "    height: 32px;\n",
              "    padding: 0;\n",
              "    width: 32px;\n",
              "  }\n",
              "\n",
              "  .colab-df-quickchart:hover {\n",
              "    background-color: var(--hover-bg-color);\n",
              "    box-shadow: 0 1px 2px rgba(60, 64, 67, 0.3), 0 1px 3px 1px rgba(60, 64, 67, 0.15);\n",
              "    fill: var(--button-hover-fill-color);\n",
              "  }\n",
              "\n",
              "  .colab-df-quickchart-complete:disabled,\n",
              "  .colab-df-quickchart-complete:disabled:hover {\n",
              "    background-color: var(--disabled-bg-color);\n",
              "    fill: var(--disabled-fill-color);\n",
              "    box-shadow: none;\n",
              "  }\n",
              "\n",
              "  .colab-df-spinner {\n",
              "    border: 2px solid var(--fill-color);\n",
              "    border-color: transparent;\n",
              "    border-bottom-color: var(--fill-color);\n",
              "    animation:\n",
              "      spin 1s steps(1) infinite;\n",
              "  }\n",
              "\n",
              "  @keyframes spin {\n",
              "    0% {\n",
              "      border-color: transparent;\n",
              "      border-bottom-color: var(--fill-color);\n",
              "      border-left-color: var(--fill-color);\n",
              "    }\n",
              "    20% {\n",
              "      border-color: transparent;\n",
              "      border-left-color: var(--fill-color);\n",
              "      border-top-color: var(--fill-color);\n",
              "    }\n",
              "    30% {\n",
              "      border-color: transparent;\n",
              "      border-left-color: var(--fill-color);\n",
              "      border-top-color: var(--fill-color);\n",
              "      border-right-color: var(--fill-color);\n",
              "    }\n",
              "    40% {\n",
              "      border-color: transparent;\n",
              "      border-right-color: var(--fill-color);\n",
              "      border-top-color: var(--fill-color);\n",
              "    }\n",
              "    60% {\n",
              "      border-color: transparent;\n",
              "      border-right-color: var(--fill-color);\n",
              "    }\n",
              "    80% {\n",
              "      border-color: transparent;\n",
              "      border-right-color: var(--fill-color);\n",
              "      border-bottom-color: var(--fill-color);\n",
              "    }\n",
              "    90% {\n",
              "      border-color: transparent;\n",
              "      border-bottom-color: var(--fill-color);\n",
              "    }\n",
              "  }\n",
              "</style>\n",
              "\n",
              "  <script>\n",
              "    async function quickchart(key) {\n",
              "      const quickchartButtonEl =\n",
              "        document.querySelector('#' + key + ' button');\n",
              "      quickchartButtonEl.disabled = true;  // To prevent multiple clicks.\n",
              "      quickchartButtonEl.classList.add('colab-df-spinner');\n",
              "      try {\n",
              "        const charts = await google.colab.kernel.invokeFunction(\n",
              "            'suggestCharts', [key], {});\n",
              "      } catch (error) {\n",
              "        console.error('Error during call to suggestCharts:', error);\n",
              "      }\n",
              "      quickchartButtonEl.classList.remove('colab-df-spinner');\n",
              "      quickchartButtonEl.classList.add('colab-df-quickchart-complete');\n",
              "    }\n",
              "    (() => {\n",
              "      let quickchartButtonEl =\n",
              "        document.querySelector('#df-5b0743db-d5f5-4d4f-afa9-9854df4b8a61 button');\n",
              "      quickchartButtonEl.style.display =\n",
              "        google.colab.kernel.accessAllowed ? 'block' : 'none';\n",
              "    })();\n",
              "  </script>\n",
              "</div>\n",
              "\n",
              "    </div>\n",
              "  </div>\n"
            ],
            "application/vnd.google.colaboratory.intrinsic+json": {
              "type": "dataframe",
              "variable_name": "combined_audio_df"
            }
          },
          "metadata": {},
          "execution_count": 30
        }
      ]
    },
    {
      "cell_type": "markdown",
      "metadata": {
        "id": "w-ulIdIdtkDB"
      },
      "source": [
        "#### Train the different ML algorithms"
      ],
      "id": "w-ulIdIdtkDB"
    },
    {
      "cell_type": "code",
      "metadata": {
        "id": "xuUx7UTFtjIs",
        "colab": {
          "base_uri": "https://localhost:8080/"
        },
        "outputId": "fcf00f0c-9d86-400e-fac4-155eb9e96321"
      },
      "source": [
        "# YOUR CODE HERE\n",
        "X_train, X_test, y_train, y_test = train_test_split(features, combined_audio_df['labels'], test_size=0.25, random_state=30)\n",
        "combined_scores_df, best_model = model_predict_evaluate(X_train, X_test, y_train, y_test)\n",
        "print(\"Classifier results\\n\",combined_scores_df)\n",
        "print(\"Best model for combined data is \",type(best_model).__name__)"
      ],
      "id": "xuUx7UTFtjIs",
      "execution_count": 32,
      "outputs": [
        {
          "output_type": "stream",
          "name": "stdout",
          "text": [
            "Classifier results\n",
            "                Classifier  f1-Score\n",
            "0      LogisticRegression    0.7510\n",
            "1  DecisionTreeClassifier    0.7356\n",
            "2  RandomForestClassifier    0.7811\n",
            "3                     SVC    0.7647\n",
            "4    LogisticRegressionCV    0.7881\n",
            "Best model for combined data is  LogisticRegressionCV\n"
          ]
        }
      ]
    },
    {
      "cell_type": "code",
      "source": [
        "combined_scores_df"
      ],
      "metadata": {
        "colab": {
          "base_uri": "https://localhost:8080/",
          "height": 206
        },
        "id": "paWWQgCqKYj0",
        "outputId": "b6c3627c-bd44-485e-f6fe-f6680e9a91c6"
      },
      "id": "paWWQgCqKYj0",
      "execution_count": 33,
      "outputs": [
        {
          "output_type": "execute_result",
          "data": {
            "text/plain": [
              "               Classifier  f1-Score\n",
              "0      LogisticRegression    0.7510\n",
              "1  DecisionTreeClassifier    0.7356\n",
              "2  RandomForestClassifier    0.7811\n",
              "3                     SVC    0.7647\n",
              "4    LogisticRegressionCV    0.7881"
            ],
            "text/html": [
              "\n",
              "  <div id=\"df-5673a974-ef65-4da2-b810-9017b9aaae20\" class=\"colab-df-container\">\n",
              "    <div>\n",
              "<style scoped>\n",
              "    .dataframe tbody tr th:only-of-type {\n",
              "        vertical-align: middle;\n",
              "    }\n",
              "\n",
              "    .dataframe tbody tr th {\n",
              "        vertical-align: top;\n",
              "    }\n",
              "\n",
              "    .dataframe thead th {\n",
              "        text-align: right;\n",
              "    }\n",
              "</style>\n",
              "<table border=\"1\" class=\"dataframe\">\n",
              "  <thead>\n",
              "    <tr style=\"text-align: right;\">\n",
              "      <th></th>\n",
              "      <th>Classifier</th>\n",
              "      <th>f1-Score</th>\n",
              "    </tr>\n",
              "  </thead>\n",
              "  <tbody>\n",
              "    <tr>\n",
              "      <th>0</th>\n",
              "      <td>LogisticRegression</td>\n",
              "      <td>0.7510</td>\n",
              "    </tr>\n",
              "    <tr>\n",
              "      <th>1</th>\n",
              "      <td>DecisionTreeClassifier</td>\n",
              "      <td>0.7356</td>\n",
              "    </tr>\n",
              "    <tr>\n",
              "      <th>2</th>\n",
              "      <td>RandomForestClassifier</td>\n",
              "      <td>0.7811</td>\n",
              "    </tr>\n",
              "    <tr>\n",
              "      <th>3</th>\n",
              "      <td>SVC</td>\n",
              "      <td>0.7647</td>\n",
              "    </tr>\n",
              "    <tr>\n",
              "      <th>4</th>\n",
              "      <td>LogisticRegressionCV</td>\n",
              "      <td>0.7881</td>\n",
              "    </tr>\n",
              "  </tbody>\n",
              "</table>\n",
              "</div>\n",
              "    <div class=\"colab-df-buttons\">\n",
              "\n",
              "  <div class=\"colab-df-container\">\n",
              "    <button class=\"colab-df-convert\" onclick=\"convertToInteractive('df-5673a974-ef65-4da2-b810-9017b9aaae20')\"\n",
              "            title=\"Convert this dataframe to an interactive table.\"\n",
              "            style=\"display:none;\">\n",
              "\n",
              "  <svg xmlns=\"http://www.w3.org/2000/svg\" height=\"24px\" viewBox=\"0 -960 960 960\">\n",
              "    <path d=\"M120-120v-720h720v720H120Zm60-500h600v-160H180v160Zm220 220h160v-160H400v160Zm0 220h160v-160H400v160ZM180-400h160v-160H180v160Zm440 0h160v-160H620v160ZM180-180h160v-160H180v160Zm440 0h160v-160H620v160Z\"/>\n",
              "  </svg>\n",
              "    </button>\n",
              "\n",
              "  <style>\n",
              "    .colab-df-container {\n",
              "      display:flex;\n",
              "      gap: 12px;\n",
              "    }\n",
              "\n",
              "    .colab-df-convert {\n",
              "      background-color: #E8F0FE;\n",
              "      border: none;\n",
              "      border-radius: 50%;\n",
              "      cursor: pointer;\n",
              "      display: none;\n",
              "      fill: #1967D2;\n",
              "      height: 32px;\n",
              "      padding: 0 0 0 0;\n",
              "      width: 32px;\n",
              "    }\n",
              "\n",
              "    .colab-df-convert:hover {\n",
              "      background-color: #E2EBFA;\n",
              "      box-shadow: 0px 1px 2px rgba(60, 64, 67, 0.3), 0px 1px 3px 1px rgba(60, 64, 67, 0.15);\n",
              "      fill: #174EA6;\n",
              "    }\n",
              "\n",
              "    .colab-df-buttons div {\n",
              "      margin-bottom: 4px;\n",
              "    }\n",
              "\n",
              "    [theme=dark] .colab-df-convert {\n",
              "      background-color: #3B4455;\n",
              "      fill: #D2E3FC;\n",
              "    }\n",
              "\n",
              "    [theme=dark] .colab-df-convert:hover {\n",
              "      background-color: #434B5C;\n",
              "      box-shadow: 0px 1px 3px 1px rgba(0, 0, 0, 0.15);\n",
              "      filter: drop-shadow(0px 1px 2px rgba(0, 0, 0, 0.3));\n",
              "      fill: #FFFFFF;\n",
              "    }\n",
              "  </style>\n",
              "\n",
              "    <script>\n",
              "      const buttonEl =\n",
              "        document.querySelector('#df-5673a974-ef65-4da2-b810-9017b9aaae20 button.colab-df-convert');\n",
              "      buttonEl.style.display =\n",
              "        google.colab.kernel.accessAllowed ? 'block' : 'none';\n",
              "\n",
              "      async function convertToInteractive(key) {\n",
              "        const element = document.querySelector('#df-5673a974-ef65-4da2-b810-9017b9aaae20');\n",
              "        const dataTable =\n",
              "          await google.colab.kernel.invokeFunction('convertToInteractive',\n",
              "                                                    [key], {});\n",
              "        if (!dataTable) return;\n",
              "\n",
              "        const docLinkHtml = 'Like what you see? Visit the ' +\n",
              "          '<a target=\"_blank\" href=https://colab.research.google.com/notebooks/data_table.ipynb>data table notebook</a>'\n",
              "          + ' to learn more about interactive tables.';\n",
              "        element.innerHTML = '';\n",
              "        dataTable['output_type'] = 'display_data';\n",
              "        await google.colab.output.renderOutput(dataTable, element);\n",
              "        const docLink = document.createElement('div');\n",
              "        docLink.innerHTML = docLinkHtml;\n",
              "        element.appendChild(docLink);\n",
              "      }\n",
              "    </script>\n",
              "  </div>\n",
              "\n",
              "\n",
              "<div id=\"df-6e82f43a-f3a8-4421-841f-b1e04ec65131\">\n",
              "  <button class=\"colab-df-quickchart\" onclick=\"quickchart('df-6e82f43a-f3a8-4421-841f-b1e04ec65131')\"\n",
              "            title=\"Suggest charts\"\n",
              "            style=\"display:none;\">\n",
              "\n",
              "<svg xmlns=\"http://www.w3.org/2000/svg\" height=\"24px\"viewBox=\"0 0 24 24\"\n",
              "     width=\"24px\">\n",
              "    <g>\n",
              "        <path d=\"M19 3H5c-1.1 0-2 .9-2 2v14c0 1.1.9 2 2 2h14c1.1 0 2-.9 2-2V5c0-1.1-.9-2-2-2zM9 17H7v-7h2v7zm4 0h-2V7h2v10zm4 0h-2v-4h2v4z\"/>\n",
              "    </g>\n",
              "</svg>\n",
              "  </button>\n",
              "\n",
              "<style>\n",
              "  .colab-df-quickchart {\n",
              "      --bg-color: #E8F0FE;\n",
              "      --fill-color: #1967D2;\n",
              "      --hover-bg-color: #E2EBFA;\n",
              "      --hover-fill-color: #174EA6;\n",
              "      --disabled-fill-color: #AAA;\n",
              "      --disabled-bg-color: #DDD;\n",
              "  }\n",
              "\n",
              "  [theme=dark] .colab-df-quickchart {\n",
              "      --bg-color: #3B4455;\n",
              "      --fill-color: #D2E3FC;\n",
              "      --hover-bg-color: #434B5C;\n",
              "      --hover-fill-color: #FFFFFF;\n",
              "      --disabled-bg-color: #3B4455;\n",
              "      --disabled-fill-color: #666;\n",
              "  }\n",
              "\n",
              "  .colab-df-quickchart {\n",
              "    background-color: var(--bg-color);\n",
              "    border: none;\n",
              "    border-radius: 50%;\n",
              "    cursor: pointer;\n",
              "    display: none;\n",
              "    fill: var(--fill-color);\n",
              "    height: 32px;\n",
              "    padding: 0;\n",
              "    width: 32px;\n",
              "  }\n",
              "\n",
              "  .colab-df-quickchart:hover {\n",
              "    background-color: var(--hover-bg-color);\n",
              "    box-shadow: 0 1px 2px rgba(60, 64, 67, 0.3), 0 1px 3px 1px rgba(60, 64, 67, 0.15);\n",
              "    fill: var(--button-hover-fill-color);\n",
              "  }\n",
              "\n",
              "  .colab-df-quickchart-complete:disabled,\n",
              "  .colab-df-quickchart-complete:disabled:hover {\n",
              "    background-color: var(--disabled-bg-color);\n",
              "    fill: var(--disabled-fill-color);\n",
              "    box-shadow: none;\n",
              "  }\n",
              "\n",
              "  .colab-df-spinner {\n",
              "    border: 2px solid var(--fill-color);\n",
              "    border-color: transparent;\n",
              "    border-bottom-color: var(--fill-color);\n",
              "    animation:\n",
              "      spin 1s steps(1) infinite;\n",
              "  }\n",
              "\n",
              "  @keyframes spin {\n",
              "    0% {\n",
              "      border-color: transparent;\n",
              "      border-bottom-color: var(--fill-color);\n",
              "      border-left-color: var(--fill-color);\n",
              "    }\n",
              "    20% {\n",
              "      border-color: transparent;\n",
              "      border-left-color: var(--fill-color);\n",
              "      border-top-color: var(--fill-color);\n",
              "    }\n",
              "    30% {\n",
              "      border-color: transparent;\n",
              "      border-left-color: var(--fill-color);\n",
              "      border-top-color: var(--fill-color);\n",
              "      border-right-color: var(--fill-color);\n",
              "    }\n",
              "    40% {\n",
              "      border-color: transparent;\n",
              "      border-right-color: var(--fill-color);\n",
              "      border-top-color: var(--fill-color);\n",
              "    }\n",
              "    60% {\n",
              "      border-color: transparent;\n",
              "      border-right-color: var(--fill-color);\n",
              "    }\n",
              "    80% {\n",
              "      border-color: transparent;\n",
              "      border-right-color: var(--fill-color);\n",
              "      border-bottom-color: var(--fill-color);\n",
              "    }\n",
              "    90% {\n",
              "      border-color: transparent;\n",
              "      border-bottom-color: var(--fill-color);\n",
              "    }\n",
              "  }\n",
              "</style>\n",
              "\n",
              "  <script>\n",
              "    async function quickchart(key) {\n",
              "      const quickchartButtonEl =\n",
              "        document.querySelector('#' + key + ' button');\n",
              "      quickchartButtonEl.disabled = true;  // To prevent multiple clicks.\n",
              "      quickchartButtonEl.classList.add('colab-df-spinner');\n",
              "      try {\n",
              "        const charts = await google.colab.kernel.invokeFunction(\n",
              "            'suggestCharts', [key], {});\n",
              "      } catch (error) {\n",
              "        console.error('Error during call to suggestCharts:', error);\n",
              "      }\n",
              "      quickchartButtonEl.classList.remove('colab-df-spinner');\n",
              "      quickchartButtonEl.classList.add('colab-df-quickchart-complete');\n",
              "    }\n",
              "    (() => {\n",
              "      let quickchartButtonEl =\n",
              "        document.querySelector('#df-6e82f43a-f3a8-4421-841f-b1e04ec65131 button');\n",
              "      quickchartButtonEl.style.display =\n",
              "        google.colab.kernel.accessAllowed ? 'block' : 'none';\n",
              "    })();\n",
              "  </script>\n",
              "</div>\n",
              "\n",
              "  <div id=\"id_48752aeb-a6c8-41b6-9840-612ceedc72c3\">\n",
              "    <style>\n",
              "      .colab-df-generate {\n",
              "        background-color: #E8F0FE;\n",
              "        border: none;\n",
              "        border-radius: 50%;\n",
              "        cursor: pointer;\n",
              "        display: none;\n",
              "        fill: #1967D2;\n",
              "        height: 32px;\n",
              "        padding: 0 0 0 0;\n",
              "        width: 32px;\n",
              "      }\n",
              "\n",
              "      .colab-df-generate:hover {\n",
              "        background-color: #E2EBFA;\n",
              "        box-shadow: 0px 1px 2px rgba(60, 64, 67, 0.3), 0px 1px 3px 1px rgba(60, 64, 67, 0.15);\n",
              "        fill: #174EA6;\n",
              "      }\n",
              "\n",
              "      [theme=dark] .colab-df-generate {\n",
              "        background-color: #3B4455;\n",
              "        fill: #D2E3FC;\n",
              "      }\n",
              "\n",
              "      [theme=dark] .colab-df-generate:hover {\n",
              "        background-color: #434B5C;\n",
              "        box-shadow: 0px 1px 3px 1px rgba(0, 0, 0, 0.15);\n",
              "        filter: drop-shadow(0px 1px 2px rgba(0, 0, 0, 0.3));\n",
              "        fill: #FFFFFF;\n",
              "      }\n",
              "    </style>\n",
              "    <button class=\"colab-df-generate\" onclick=\"generateWithVariable('combined_scores_df')\"\n",
              "            title=\"Generate code using this dataframe.\"\n",
              "            style=\"display:none;\">\n",
              "\n",
              "  <svg xmlns=\"http://www.w3.org/2000/svg\" height=\"24px\"viewBox=\"0 0 24 24\"\n",
              "       width=\"24px\">\n",
              "    <path d=\"M7,19H8.4L18.45,9,17,7.55,7,17.6ZM5,21V16.75L18.45,3.32a2,2,0,0,1,2.83,0l1.4,1.43a1.91,1.91,0,0,1,.58,1.4,1.91,1.91,0,0,1-.58,1.4L9.25,21ZM18.45,9,17,7.55Zm-12,3A5.31,5.31,0,0,0,4.9,8.1,5.31,5.31,0,0,0,1,6.5,5.31,5.31,0,0,0,4.9,4.9,5.31,5.31,0,0,0,6.5,1,5.31,5.31,0,0,0,8.1,4.9,5.31,5.31,0,0,0,12,6.5,5.46,5.46,0,0,0,6.5,12Z\"/>\n",
              "  </svg>\n",
              "    </button>\n",
              "    <script>\n",
              "      (() => {\n",
              "      const buttonEl =\n",
              "        document.querySelector('#id_48752aeb-a6c8-41b6-9840-612ceedc72c3 button.colab-df-generate');\n",
              "      buttonEl.style.display =\n",
              "        google.colab.kernel.accessAllowed ? 'block' : 'none';\n",
              "\n",
              "      buttonEl.onclick = () => {\n",
              "        google.colab.notebook.generateWithVariable('combined_scores_df');\n",
              "      }\n",
              "      })();\n",
              "    </script>\n",
              "  </div>\n",
              "\n",
              "    </div>\n",
              "  </div>\n"
            ],
            "application/vnd.google.colaboratory.intrinsic+json": {
              "type": "dataframe",
              "variable_name": "combined_scores_df",
              "summary": "{\n  \"name\": \"combined_scores_df\",\n  \"rows\": 5,\n  \"fields\": [\n    {\n      \"column\": \"Classifier\",\n      \"properties\": {\n        \"dtype\": \"string\",\n        \"num_unique_values\": 5,\n        \"samples\": [\n          \"DecisionTreeClassifier\",\n          \"LogisticRegressionCV\",\n          \"RandomForestClassifier\"\n        ],\n        \"semantic_type\": \"\",\n        \"description\": \"\"\n      }\n    },\n    {\n      \"column\": \"f1-Score\",\n      \"properties\": {\n        \"dtype\": \"number\",\n        \"std\": 0.02150127903172274,\n        \"min\": 0.7356,\n        \"max\": 0.7881,\n        \"num_unique_values\": 5,\n        \"samples\": [\n          0.7356,\n          0.7881,\n          0.7811\n        ],\n        \"semantic_type\": \"\",\n        \"description\": \"\"\n      }\n    }\n  ]\n}"
            }
          },
          "metadata": {},
          "execution_count": 33
        }
      ]
    },
    {
      "cell_type": "markdown",
      "metadata": {
        "id": "iMl0sRhXtXzL"
      },
      "source": [
        "#### Test the best working model with live audio recording"
      ],
      "id": "iMl0sRhXtXzL"
    },
    {
      "cell_type": "code",
      "source": [
        "voting_clf = VotingClassifier(estimators=[('lr', LogisticRegression()),\\\n",
        "                                          ('dt', DecisionTreeClassifier()),\\\n",
        "                                          ('rf', RandomForestClassifier(n_estimators=10, random_state=42, max_features=\"sqrt\")),\\\n",
        "                                          ('lrcv',LogisticRegressionCV()),\\\n",
        "                                          ('svc',SVC(kernel='linear'))],\\\n",
        "                               voting='hard')\n",
        "voting_clf.fit(X_train, y_train)\n",
        "y_pred = voting_clf.predict(X_test)\n",
        "print(\"f1-Score with hard voting = \",round(f1_score(y_test, y_pred, average='weighted'), 4))"
      ],
      "metadata": {
        "colab": {
          "base_uri": "https://localhost:8080/"
        },
        "id": "KDDjf_isO0cy",
        "outputId": "16890c4e-7693-4a63-f119-41423876bc92"
      },
      "id": "KDDjf_isO0cy",
      "execution_count": 36,
      "outputs": [
        {
          "output_type": "stream",
          "name": "stdout",
          "text": [
            "f1-Score with hard voting =  0.8168\n"
          ]
        }
      ]
    },
    {
      "cell_type": "code",
      "metadata": {
        "id": "4znf9-pcTbUB"
      },
      "source": [
        "# choose the best working model and assign below\n",
        "MODEL = best_model"
      ],
      "id": "4znf9-pcTbUB",
      "execution_count": 39,
      "outputs": []
    },
    {
      "cell_type": "code",
      "metadata": {
        "id": "2d598770",
        "colab": {
          "base_uri": "https://localhost:8080/",
          "height": 110
        },
        "outputId": "10964c3f-f271-4233-b26a-e7a4983c554f"
      },
      "source": [
        "#@title Speak the utterance and test\n",
        "from IPython.display import Javascript\n",
        "from google.colab import output\n",
        "from base64 import b64decode\n",
        "\n",
        "RECORD = \"\"\"\n",
        "const sleep  = time => new Promise(resolve => setTimeout(resolve, time))\n",
        "const b2text = blob => new Promise(resolve => {\n",
        "  const reader = new FileReader()\n",
        "  reader.onloadend = e => resolve(e.srcElement.result)\n",
        "  reader.readAsDataURL(blob)\n",
        "})\n",
        "var record = time => new Promise(async resolve => {\n",
        "  stream = await navigator.mediaDevices.getUserMedia({ audio: true })\n",
        "  recorder = new MediaRecorder(stream)\n",
        "  chunks = []\n",
        "  recorder.ondataavailable = e => chunks.push(e.data)\n",
        "  recorder.start()\n",
        "  await sleep(time)\n",
        "  recorder.onstop = async ()=>{\n",
        "    blob = new Blob(chunks)\n",
        "    text = await b2text(blob)\n",
        "    resolve(text)\n",
        "  }\n",
        "  recorder.stop()\n",
        "})\n",
        "\"\"\"\n",
        "\n",
        "if not os.path.exists('ModelTesting/'):\n",
        "    os.mkdir(\"ModelTesting/\")\n",
        "def record(sec=3):\n",
        "    print(\"Start speaking!\")\n",
        "    now = datetime.now()\n",
        "    current_time = now.strftime(\"%Y-%m-%d_%H-%M-%S\")\n",
        "    display(Javascript(RECORD))\n",
        "    s = output.eval_js('record(%d)' % (sec*1000))\n",
        "    b = b64decode(s.split(',')[1])\n",
        "    with open('ModelTesting/audio_'+current_time+'.wav','wb') as f:\n",
        "        f.write(b)\n",
        "    return 'ModelTesting/audio_'+current_time+'.wav'\n",
        "test_i = record()\n",
        "pred = MODEL.predict(extract_feature(test_i).reshape(1,-1))\n",
        "idx_emotion = list(emotions.values()).index(pred[0])\n",
        "print(list(emotions.keys())[idx_emotion])\n",
        "ipd.Audio(test_i)"
      ],
      "id": "2d598770",
      "execution_count": 51,
      "outputs": [
        {
          "output_type": "stream",
          "name": "stdout",
          "text": [
            "Start speaking!\n"
          ]
        },
        {
          "output_type": "display_data",
          "data": {
            "text/plain": [
              "<IPython.core.display.Javascript object>"
            ],
            "application/javascript": [
              "\n",
              "const sleep  = time => new Promise(resolve => setTimeout(resolve, time))\n",
              "const b2text = blob => new Promise(resolve => {\n",
              "  const reader = new FileReader()\n",
              "  reader.onloadend = e => resolve(e.srcElement.result)\n",
              "  reader.readAsDataURL(blob)\n",
              "})\n",
              "var record = time => new Promise(async resolve => {\n",
              "  stream = await navigator.mediaDevices.getUserMedia({ audio: true })\n",
              "  recorder = new MediaRecorder(stream)\n",
              "  chunks = []\n",
              "  recorder.ondataavailable = e => chunks.push(e.data)\n",
              "  recorder.start()\n",
              "  await sleep(time)\n",
              "  recorder.onstop = async ()=>{\n",
              "    blob = new Blob(chunks)\n",
              "    text = await b2text(blob)\n",
              "    resolve(text)\n",
              "  }\n",
              "  recorder.stop()\n",
              "})\n"
            ]
          },
          "metadata": {}
        },
        {
          "output_type": "stream",
          "name": "stdout",
          "text": [
            "neutral\n"
          ]
        },
        {
          "output_type": "execute_result",
          "data": {
            "text/plain": [
              "<IPython.lib.display.Audio object>"
            ],
            "text/html": [
              "\n",
              "                <audio  controls=\"controls\" >\n",
              "                    <source src=\"data:audio/x-wav;base64,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\" type=\"audio/x-wav\" />\n",
              "                    Your browser does not support the audio element.\n",
              "                </audio>\n",
              "              "
            ]
          },
          "metadata": {},
          "execution_count": 51
        }
      ]
    },
    {
      "cell_type": "markdown",
      "metadata": {
        "id": "K7n58VaeWKGu"
      },
      "source": [
        "### Report Analysis\n",
        "\n",
        "- Report the accuracy for 10 live samples using the model trained on TESS+Ravdess+Team data\n",
        "- Discuss with the team mentor regarding deep learnt audio features. Read a related article [here](https://ieeexplore.ieee.org/stamp/stamp.jsp?arnumber=8805181).\n"
      ],
      "id": "K7n58VaeWKGu"
    },
    {
      "cell_type": "markdown",
      "source": [
        "### Kaggle Contest Part\n",
        "\n",
        "\n",
        "\n",
        "*   Downloaded the kaggle dataset onto local machine\n",
        "*   Uploaded the kaggle dataset zip onto notebook content space\n",
        "\n"
      ],
      "metadata": {
        "id": "39y65fM5PdLJ"
      },
      "id": "39y65fM5PdLJ"
    },
    {
      "cell_type": "code",
      "source": [
        "# Unzip the dataset\n",
        "!unzip -qq /content/b8-audio-emotion-classification.zip\n",
        "kaggle_test_wav_files = glob.glob(\"Kaggle_Testset/*/*.wav\")\n",
        "print(\"Number of wav files with Team data = \",len(kaggle_test_wav_files))"
      ],
      "metadata": {
        "id": "98aUr6LQP2eR",
        "colab": {
          "base_uri": "https://localhost:8080/"
        },
        "outputId": "b128cea6-089c-490d-8b84-939dfbf5d235"
      },
      "id": "98aUr6LQP2eR",
      "execution_count": 46,
      "outputs": [
        {
          "output_type": "stream",
          "name": "stdout",
          "text": [
            "Number of wav files with Team data =  201\n"
          ]
        }
      ]
    },
    {
      "cell_type": "code",
      "source": [
        "import csv\n",
        "\n",
        "def write_to_csv(filename, name, value):\n",
        "  # Check if file exists, if not, write header\n",
        "  if not os.path.isfile(filename):\n",
        "    header = ['Id', 'Label']\n",
        "    with open(filename, mode='w', newline='') as file:\n",
        "        writer = csv.writer(file)\n",
        "        writer.writerow(header)\n",
        "  # Append data to CSV\n",
        "  with open(filename, mode='a', newline='') as file:\n",
        "      writer = csv.writer(file)\n",
        "      writer.writerow([name, value])\n",
        "\n",
        "def predict_kaggle_update_csv():\n",
        "    for file in kaggle_test_wav_files:\n",
        "        predicted = best_model.predict(extract_feature(file).reshape(1,-1))\n",
        "        idx_emotion = list(emotions.values()).index(predicted[0])\n",
        "        write_to_csv('kaggle_results.csv', file.split(\".\")[0].split(\"/\")[-1], list(emotions.keys())[idx_emotion])\n",
        "\n",
        "\n",
        "predict_kaggle_update_csv()\n",
        "df_kaggle_results = pd.read_csv(\"kaggle_results.csv\")\n",
        "df_kaggle_results_sorted = df_kaggle_results.sort_values(by='Id')\n",
        "df_kaggle_results_sorted.to_csv(\"kaggle_results_sorted.csv\", index=False)"
      ],
      "metadata": {
        "id": "Trf775OkUJU9"
      },
      "id": "Trf775OkUJU9",
      "execution_count": 47,
      "outputs": []
    },
    {
      "cell_type": "markdown",
      "source": [
        "### Enhancements to the model"
      ],
      "metadata": {
        "id": "pRfYmdbbzDUB"
      },
      "id": "pRfYmdbbzDUB"
    },
    {
      "cell_type": "code",
      "source": [
        "# Applying SimpleScaler to see if there is an improvement\n",
        "from sklearn.preprocessing import StandardScaler\n",
        "from sklearn.preprocessing import MinMaxScaler\n",
        "\n",
        "def model_with_std_scaler():\n",
        "    scaler = StandardScaler()\n",
        "    # scaler = MinMaxScaler()\n",
        "    features_scaled = features\n",
        "    scaler.fit_transform(features_scaled)\n",
        "    X_train, X_test, y_train, y_test = train_test_split(features_scaled, combined_audio_df['labels'], test_size=0.2, random_state=42)\n",
        "    scores_df_scaled, best_model = model_predict_evaluate(X_train, X_test, y_train, y_test)\n",
        "    print(scores_df_scaled)\n",
        "    print(\"Best model is \",type(best_model).__name__)\n",
        "    print(\"Trying hard voting classifier\")\n",
        "    voting_clf = VotingClassifier(estimators=[('lr', LogisticRegression()),\\\n",
        "                                          ('dt', DecisionTreeClassifier()),\\\n",
        "                                          ('rf', RandomForestClassifier(n_estimators=10, random_state=42, max_features=\"sqrt\")),\\\n",
        "                                          ('lrcv',LogisticRegressionCV()),\\\n",
        "                                          ('svc',SVC(kernel='linear'))],\\\n",
        "                               voting='hard')\n",
        "    voting_clf.fit(X_train, y_train)\n",
        "    y_pred = voting_clf.predict(X_test)\n",
        "    print(\"f1-Score with hard voting = \",round(f1_score(y_test, y_pred, average='weighted'), 4))\n",
        "    print(type(scores_df_scaled))\n",
        "    if scores_df_scaled['f1-Score'].max() < round(f1_score(y_test, y_pred, average='weighted'), 4):\n",
        "        best_model = voting_clf\n",
        "    return best_model\n",
        "\n",
        "best_model = model_with_std_scaler()\n",
        "print(\"Now best model is \", type(best_model).__name__)"
      ],
      "metadata": {
        "colab": {
          "base_uri": "https://localhost:8080/"
        },
        "id": "KH_OjPFizCsH",
        "outputId": "29ab4cdc-7d8c-4f40-e150-6e8161b0bcb1"
      },
      "id": "KH_OjPFizCsH",
      "execution_count": 38,
      "outputs": [
        {
          "output_type": "stream",
          "name": "stdout",
          "text": [
            "               Classifier  f1-Score\n",
            "0      LogisticRegression    0.7741\n",
            "1  DecisionTreeClassifier    0.7319\n",
            "2  RandomForestClassifier    0.7726\n",
            "3                     SVC    0.7819\n",
            "4    LogisticRegressionCV    0.7962\n",
            "Best model is  LogisticRegressionCV\n",
            "Trying hard voting classifier\n",
            "f1-Score with hard voting =  0.8216\n",
            "<class 'pandas.core.frame.DataFrame'>\n",
            "Now best model is  VotingClassifier\n"
          ]
        }
      ]
    },
    {
      "cell_type": "code",
      "source": [],
      "metadata": {
        "id": "BWeAWNX26AAH"
      },
      "id": "BWeAWNX26AAH",
      "execution_count": null,
      "outputs": []
    }
  ]
}